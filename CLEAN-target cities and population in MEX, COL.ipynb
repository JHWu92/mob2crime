{
 "cells": [
  {
   "cell_type": "markdown",
   "metadata": {},
   "source": [
    "# Documentation on 2018-10-30\n",
    "\n",
    "inputs:\n",
    "- mexico: \n",
    "    - city (metropolitan area) boundary and population: \n",
    "        - most of the cities: http://www.conapo.gob.mx/es/CONAPO/Datos_Abiertos_Delimitacion_de_Zonas_Metropolitanas\n",
    "        - for Culiacán Rosales, Sinaloa: this city isn't in the list of metropolitan areas. Use the localidades defined in http://www.inegi.org.mx/geo/contenidos/geoestadistica/m_g_0.aspx; population of localidade provided in: http://www.microrregiones.gob.mx/catloc/LocdeMun.aspx?tipo=clave&campo=loc&ent=25&mun=006\n",
    "    - city list is from ENVIPE 2011\n",
    "- colombia\n",
    "    - city (MGN_URB_AREA_CENSAL) boundary: https://geoportal.dane.gov.co/v2/?page=elementoDescargaMGN\n",
    "    - population in 2012: ECSC 2012 (http://www.dane.gov.co/index.php/estadisticas-por-tema/seguridad-y-defensa/encuesta-de-convivencia-y-seguridad-ciudadana-ecsc/resultados-2012)\n",
    "    - the list of 25 cities(20 dominios geográficos) is from ECSC 2012 \n",
    "\n",
    "        \n",
    "outputs:\n",
    "- geojson: cities_mexico.geojson, cities_colombia.geojson\n",
    "- Csv: city names, city id and city population. cities_mexico.csv, cities_colombia.csv\n",
    "- html: cities_mexico.html, cities_colombia.html\n",
    "\n",
    "\n",
    "columns in geojson:\n",
    "- cname: city name as index\n",
    "- city id: \n",
    "    - cve_sun for mexico\n",
    "    - CPOB_CCDGO for colombia\n",
    "- population: \n",
    "    - metropolitan population(sum of member municipalities) in 2010 for mexico\n",
    "    - Cabecera municipals population in 2005 for colombia\n",
    "- geometry: boundaries of cities(could be multipolygons)\n"
   ]
  },
  {
   "cell_type": "code",
   "execution_count": 1,
   "metadata": {},
   "outputs": [],
   "source": [
    "import pandas as pd\n",
    "import geopandas as gp\n",
    "from src.utils.map_vis import geojson_per_row\n",
    "import folium\n",
    "from shapely.ops import cascaded_union\n",
    "from shapely.geometry import Polygon, MultiPolygon"
   ]
  },
  {
   "cell_type": "code",
   "execution_count": 2,
   "metadata": {},
   "outputs": [],
   "source": [
    "num_cities = 16"
   ]
  },
  {
   "cell_type": "markdown",
   "metadata": {},
   "source": [
    "# Colombia"
   ]
  },
  {
   "cell_type": "code",
   "execution_count": 3,
   "metadata": {},
   "outputs": [
    {
     "name": "stdout",
     "output_type": "stream",
     "text": [
      "(7627, 14)\n"
     ]
    },
    {
     "data": {
      "text/html": [
       "<div>\n",
       "<style scoped>\n",
       "    .dataframe tbody tr th:only-of-type {\n",
       "        vertical-align: middle;\n",
       "    }\n",
       "\n",
       "    .dataframe tbody tr th {\n",
       "        vertical-align: top;\n",
       "    }\n",
       "\n",
       "    .dataframe thead th {\n",
       "        text-align: right;\n",
       "    }\n",
       "</style>\n",
       "<table border=\"1\" class=\"dataframe\">\n",
       "  <thead>\n",
       "    <tr style=\"text-align: right;\">\n",
       "      <th></th>\n",
       "      <th>OBJECTID</th>\n",
       "      <th>DPTO_CCDGO</th>\n",
       "      <th>MPIO_CCDGO</th>\n",
       "      <th>CLAS_CCDGO</th>\n",
       "      <th>SETR_CCDGO</th>\n",
       "      <th>SECR_CCDGO</th>\n",
       "      <th>CPOB_CCDGO</th>\n",
       "      <th>CPOB_CNMBR</th>\n",
       "      <th>CPOB_CCNCT</th>\n",
       "      <th>CPOB_NAREA</th>\n",
       "      <th>CPOB_NALT</th>\n",
       "      <th>Shape_Leng</th>\n",
       "      <th>Shape_Area</th>\n",
       "      <th>geometry</th>\n",
       "      <th>MPIO_CNMBR</th>\n",
       "      <th>DPTO_CNMBR</th>\n",
       "    </tr>\n",
       "  </thead>\n",
       "  <tbody>\n",
       "    <tr>\n",
       "      <th>0</th>\n",
       "      <td>1</td>\n",
       "      <td>05</td>\n",
       "      <td>05001</td>\n",
       "      <td>2</td>\n",
       "      <td>000</td>\n",
       "      <td>00</td>\n",
       "      <td>05001004</td>\n",
       "      <td>SANTA ELENA</td>\n",
       "      <td>05001200000004</td>\n",
       "      <td>0.338461</td>\n",
       "      <td>2540.0</td>\n",
       "      <td>0.034407</td>\n",
       "      <td>0.000028</td>\n",
       "      <td>POLYGON ((-75.49783904499998 6.207774365000034...</td>\n",
       "      <td>MEDELLÍN</td>\n",
       "      <td>ANTIOQUIA</td>\n",
       "    </tr>\n",
       "    <tr>\n",
       "      <th>1</th>\n",
       "      <td>2</td>\n",
       "      <td>05</td>\n",
       "      <td>05001</td>\n",
       "      <td>2</td>\n",
       "      <td>000</td>\n",
       "      <td>00</td>\n",
       "      <td>05001014</td>\n",
       "      <td>BARRO BLANCO</td>\n",
       "      <td>05001200000014</td>\n",
       "      <td>0.534495</td>\n",
       "      <td>2531.0</td>\n",
       "      <td>0.044447</td>\n",
       "      <td>0.000044</td>\n",
       "      <td>POLYGON ((-75.47379840599996 6.239590113000077...</td>\n",
       "      <td>MEDELLÍN</td>\n",
       "      <td>ANTIOQUIA</td>\n",
       "    </tr>\n",
       "    <tr>\n",
       "      <th>2</th>\n",
       "      <td>3</td>\n",
       "      <td>05</td>\n",
       "      <td>05001</td>\n",
       "      <td>2</td>\n",
       "      <td>000</td>\n",
       "      <td>00</td>\n",
       "      <td>05001015</td>\n",
       "      <td>EL CERRO</td>\n",
       "      <td>05001200000015</td>\n",
       "      <td>0.414935</td>\n",
       "      <td>2668.0</td>\n",
       "      <td>0.042879</td>\n",
       "      <td>0.000034</td>\n",
       "      <td>(POLYGON ((-75.49121943999995 6.20501584900006...</td>\n",
       "      <td>MEDELLÍN</td>\n",
       "      <td>ANTIOQUIA</td>\n",
       "    </tr>\n",
       "    <tr>\n",
       "      <th>3</th>\n",
       "      <td>4</td>\n",
       "      <td>05</td>\n",
       "      <td>05001</td>\n",
       "      <td>2</td>\n",
       "      <td>000</td>\n",
       "      <td>00</td>\n",
       "      <td>05001018</td>\n",
       "      <td>EL PLACER</td>\n",
       "      <td>05001200000018</td>\n",
       "      <td>0.965299</td>\n",
       "      <td>2598.0</td>\n",
       "      <td>0.056312</td>\n",
       "      <td>0.000079</td>\n",
       "      <td>POLYGON ((-75.49276999399996 6.23050003000003,...</td>\n",
       "      <td>MEDELLÍN</td>\n",
       "      <td>ANTIOQUIA</td>\n",
       "    </tr>\n",
       "    <tr>\n",
       "      <th>4</th>\n",
       "      <td>5</td>\n",
       "      <td>05</td>\n",
       "      <td>05001</td>\n",
       "      <td>2</td>\n",
       "      <td>000</td>\n",
       "      <td>00</td>\n",
       "      <td>05001019</td>\n",
       "      <td>EL PLAN</td>\n",
       "      <td>05001200000019</td>\n",
       "      <td>3.252561</td>\n",
       "      <td>2700.0</td>\n",
       "      <td>0.093795</td>\n",
       "      <td>0.000266</td>\n",
       "      <td>POLYGON ((-75.50917742799999 6.195200505000059...</td>\n",
       "      <td>MEDELLÍN</td>\n",
       "      <td>ANTIOQUIA</td>\n",
       "    </tr>\n",
       "  </tbody>\n",
       "</table>\n",
       "</div>"
      ],
      "text/plain": [
       "   OBJECTID DPTO_CCDGO MPIO_CCDGO CLAS_CCDGO SETR_CCDGO SECR_CCDGO CPOB_CCDGO  \\\n",
       "0         1         05      05001          2        000         00   05001004   \n",
       "1         2         05      05001          2        000         00   05001014   \n",
       "2         3         05      05001          2        000         00   05001015   \n",
       "3         4         05      05001          2        000         00   05001018   \n",
       "4         5         05      05001          2        000         00   05001019   \n",
       "\n",
       "     CPOB_CNMBR      CPOB_CCNCT  CPOB_NAREA  CPOB_NALT  Shape_Leng  \\\n",
       "0   SANTA ELENA  05001200000004    0.338461     2540.0    0.034407   \n",
       "1  BARRO BLANCO  05001200000014    0.534495     2531.0    0.044447   \n",
       "2      EL CERRO  05001200000015    0.414935     2668.0    0.042879   \n",
       "3     EL PLACER  05001200000018    0.965299     2598.0    0.056312   \n",
       "4       EL PLAN  05001200000019    3.252561     2700.0    0.093795   \n",
       "\n",
       "   Shape_Area                                           geometry MPIO_CNMBR  \\\n",
       "0    0.000028  POLYGON ((-75.49783904499998 6.207774365000034...   MEDELLÍN   \n",
       "1    0.000044  POLYGON ((-75.47379840599996 6.239590113000077...   MEDELLÍN   \n",
       "2    0.000034  (POLYGON ((-75.49121943999995 6.20501584900006...   MEDELLÍN   \n",
       "3    0.000079  POLYGON ((-75.49276999399996 6.23050003000003,...   MEDELLÍN   \n",
       "4    0.000266  POLYGON ((-75.50917742799999 6.195200505000059...   MEDELLÍN   \n",
       "\n",
       "  DPTO_CNMBR  \n",
       "0  ANTIOQUIA  \n",
       "1  ANTIOQUIA  \n",
       "2  ANTIOQUIA  \n",
       "3  ANTIOQUIA  \n",
       "4  ANTIOQUIA  "
      ]
     },
     "execution_count": 3,
     "metadata": {},
     "output_type": "execute_result"
    }
   ],
   "source": [
    "shp_munic = gp.read_file('data/colombia/ADMINISTRATIVO/MGN_MPIO_POLITICO.shp')\n",
    "col_munic = ['DPTO_CCDGO','MPIO_CCDGO', 'MPIO_CNMBR', 'DPTO_CNMBR', 'geometry']\n",
    "\n",
    "# CLAS_CCDGO: 1-Municipal Headboard 2-populated center 3-scattered rural area \n",
    "# 1-Cabecera municipal, 2-Centro poblado y 3-Área rural dispersa.\n",
    "shp_urb_censal = gp.read_file('data/colombia/MGN/MGN_URB_AREA_CENSAL.shp')\n",
    "print(shp_urb_censal.shape)\n",
    "shp_urb_censal=shp_urb_censal.merge(shp_munic[col_munic[:-1]])\n",
    "shp_urb_censal.head()"
   ]
  },
  {
   "cell_type": "markdown",
   "metadata": {},
   "source": [
    "### cities in ECSC 2012 \n",
    "http://www.dane.gov.co/index.php/estadisticas-por-tema/seguridad-y-defensa/encuesta-de-convivencia-y-seguridad-ciudadana-ecsc/resultados-2012"
   ]
  },
  {
   "cell_type": "code",
   "execution_count": 35,
   "metadata": {},
   "outputs": [],
   "source": [
    "# from ecsc 2012\n",
    "populations = {'Armenia': 284300, 'Barranquilla - Soledad': 1765291, 'Bogotá D.C. - Soacha': 7568056, 'Bucaramanga': 519499, 'Cali - Palmira': 2212707, 'Cartagena': 924925, 'Cúcuta': 610424, 'Ibagué': 507989, 'Manizales': 364547, 'Medellín - Envigado - Itagüí': 2788656, 'Montería': 325414, 'Neiva': 316153, 'Pasto': 350051, 'Pereira': 388940, 'Popayán': 240514, 'San Andrés': 51404, 'Santa Marta': 440975, 'Sincelejo': 246580, 'Valledupar': 360864, 'Villavicencio': 413451}"
   ]
  },
  {
   "cell_type": "code",
   "execution_count": 44,
   "metadata": {},
   "outputs": [],
   "source": [
    "cnames2CPOB={'Armenia': '63001000', 'Barranquilla': '08001000', 'Soledad': '08758000', 'Bogotá D.C.': '11001000', 'Soacha': '25754000', 'Bucaramanga': '68001000', 'Cali': '76001000', 'Palmira': '76520000', 'Cartagena': '13001000', 'Cúcuta': '54001000', 'Ibagué': '73001000', 'Manizales': '17001000', 'Medellín': '05001000', 'Envigado': '05266000', 'Itagüí': '05360000', 'Montería': '23001000', 'Neiva': '41001000', 'Pasto': '52001000', 'Pereira': '66001000', 'Popayán': '19001000', 'San Andrés': '88001000', 'Santa Marta': '47001000', 'Sincelejo': '70001000', 'Valledupar': '20001000', 'Villavicencio': '50001000'}\n",
    "merge_cities = [('Barranquilla', 'Soledad'), ('Bogotá D.C.', 'Soacha'), ('Cali','Palmira'), ('Medellín', 'Envigado', 'Itagüí')]\n",
    "\n",
    "cities = []\n",
    "for pairs in merge_cities:\n",
    "    cpobs = []\n",
    "    for c in pairs:\n",
    "        cpobs.append(cnames2CPOB.pop(c))\n",
    "    c_in_pairs = shp_urb_censal[shp_urb_censal.CPOB_CCDGO.isin(cpobs)]\n",
    "    geometry = cascaded_union(c_in_pairs.geometry.tolist())\n",
    "    cname = ' - '.join(pairs)\n",
    "    cpobs = ' - '.join(cpobs)\n",
    "    pop = populations[cname]\n",
    "    cities.append({'cname':cname, 'population':pop, 'CPOB_CCDGO': cpobs, 'geometry':geometry})\n",
    "\n",
    "\n",
    "for cname, cpob in cnames2CPOB.items():\n",
    "    c = shp_urb_censal[shp_urb_censal.CPOB_CCDGO==cpob]\n",
    "    assert len(c)==1\n",
    "    geometry = c.geometry.values[0]\n",
    "    pop = populations[cname]\n",
    "    cities.append({'cname':cname, 'population':pop, 'CPOB_CCDGO': cpob, 'geometry':geometry})\n"
   ]
  },
  {
   "cell_type": "code",
   "execution_count": 47,
   "metadata": {},
   "outputs": [],
   "source": [
    "target_cities = gp.GeoDataFrame(cities)"
   ]
  },
  {
   "cell_type": "markdown",
   "metadata": {},
   "source": [
    "### deprecated on 2018-10-30 ↓\n",
    "the list of cities comes from ECSC 2012 instead of the thresholded population"
   ]
  },
  {
   "cell_type": "code",
   "execution_count": 46,
   "metadata": {},
   "outputs": [],
   "source": [
    "\n",
    "\n",
    "# population = pd.read_csv('data/colombia/population_2005.csv',sep='\\t')\n",
    "# cols = ['TOTAL_2005','CABECERA_2005', 'RESTO_2005']\n",
    "# for col in cols:\n",
    "#     population[col] = population[col].apply(lambda x: float(x.replace(',', '')))\n",
    "\n",
    "# population['CABECERA_pcnt'] = population.CABECERA_2005/population.TOTAL_2005\n",
    "# population.sort_values('TOTAL_2005', ascending=False, inplace=True)\n",
    "# population['pop_order'] = pd.np.arange(population.shape[0])+1\n",
    "# population.DPMP = population.DPMP.apply(lambda x: '%05d' % x)\n",
    "# thres = 0.8\n",
    "# target_munic = population[population.CABECERA_pcnt>thres].head(num_cities)\n"
   ]
  },
  {
   "cell_type": "code",
   "execution_count": 6,
   "metadata": {},
   "outputs": [],
   "source": [
    "# target_cities = shp_urb_censal.merge(target_munic, left_on='MPIO_CCDGO', right_on='DPMP')  # deprecated on 2018-10-30\n",
    "# target_cities = target_cities[target_cities.CLAS_CCDGO=='1'].copy()\n",
    "# target_cities['CABECERA_2005'] = target_cities['CABECERA_2005'].astype(int)\n",
    "# target_cities['cname'] = target_cities['CPOB_CNMBR'].apply(lambda x: x.split(',')[0]) + ', ' + target_cities['DPTO_CNMBR']\n",
    "\n",
    "# cols = ['OBJECTID', 'DPTO_CCDGO', 'MPIO_CCDGO', 'CLAS_CCDGO', 'CPOB_CCDGO', 'MPIO_CNMBR', 'MPIO', 'CPOB_CNMBR', 'CPOB_NAREA', 'TOTAL_2005',\n",
    "#        'CABECERA_2005', 'RESTO_2005', 'CABECERA_pcnt', 'pop_order', 'geometry']\n",
    "\n",
    "# target_cities = target_cities[cols]"
   ]
  },
  {
   "cell_type": "code",
   "execution_count": 7,
   "metadata": {},
   "outputs": [],
   "source": [
    "# less_cols = ['CPOB_CCDGO', 'cname', 'CABECERA_2005', 'geometry'] \n",
    "# rename_cols = ['CPOB_CCDGO', 'cname', 'population', 'geometry']\n",
    "# target_cities = target_cities[less_cols]\n",
    "# target_cities.columns = rename_cols\n"
   ]
  },
  {
   "cell_type": "markdown",
   "metadata": {},
   "source": [
    "### deprecated ↑"
   ]
  },
  {
   "cell_type": "code",
   "execution_count": 49,
   "metadata": {},
   "outputs": [],
   "source": [
    "target_cities.set_index('cname').sort_values('population', ascending=False).to_file('data/cities_colombia.geojson', driver=\"GeoJSON\")"
   ]
  },
  {
   "cell_type": "code",
   "execution_count": 50,
   "metadata": {},
   "outputs": [],
   "source": [
    "target_cities.set_index('cname').sort_values('population', ascending=False).drop('geometry', axis=1).to_csv('data/cities_colombia.csv')"
   ]
  },
  {
   "cell_type": "code",
   "execution_count": 51,
   "metadata": {},
   "outputs": [],
   "source": [
    "some_map = folium.Map(location=[4.149624, -72.795576], zoom_start=6)\n",
    "# deprecated columns\n",
    "# geojson_per_row(target_cities, name='cities', tip_cols=['CPOB_CCDGO', 'MPIO_CNMBR', 'MPIO', 'CPOB_CNMBR'], some_map=some_map)\n",
    "geojson_per_row(target_cities, name='cities', tip_cols=['cname', 'population', 'CPOB_CCDGO'], some_map=some_map)\n",
    "folium.LayerControl().add_to(some_map)\n",
    "some_map.save('data/cities_colombia.html')"
   ]
  },
  {
   "cell_type": "markdown",
   "metadata": {},
   "source": [
    "# Mex"
   ]
  },
  {
   "cell_type": "markdown",
   "metadata": {},
   "source": [
    "## 2018-10-30 decided to used metropolitan area instead"
   ]
  },
  {
   "cell_type": "code",
   "execution_count": 11,
   "metadata": {},
   "outputs": [],
   "source": [
    "metro = gp.read_file('data/mexico/Mapa_de_delimitacion_de_zonas_metropolitanas_2010/ZM_2010.shp')\n",
    "sun_ids = [31, 21, 32, 28, 24, 11, 12, 41, 37, 3, 17,2,25,45]\n",
    "sun_names = ['Monterrey, Nuevo León', 'Guadalajara, Jalisco', 'Oaxaca de Juárez, Oaxaca', 'Cuernavaca, Morelos', 'Toluca de Lerdo, México', 'Juárez, Chihuahua', 'Chihuahua, Chihuahua', 'Villahermosa, Tabasco', 'Cancún, Quintana Roo', 'Mexicali, Baja California', 'Acapulco de Juárez, Guerrero', 'Tijuana, Baja California', 'Morelia, Michoacán de Ocampo', 'Nuevo Laredo, Tamaulipas','Culiacán Rosales, Sinaloa', 'Valle de Mexico, Distrito Federal']\n",
    "\n",
    "suns = []\n",
    "for cve,name in zip(sun_ids,sun_names):\n",
    "    sun = metro[metro.CVE_SUN==cve]\n",
    "    geometry = cascaded_union(sun.geometry.tolist())\n",
    "    pob = sun.POB_2010.sum()\n",
    "    suns.append({'cname': name, 'cve_sun': cve, 'population': pob, 'nom_sun':sun.NOM_SUN.unique()[0], 'geometry':geometry})\n",
    "\n",
    "sun = metro[(metro.CVE_SUN==13) & (metro.CVE_ENT=='09')]\n",
    "geometry = cascaded_union(sun.geometry.tolist())\n",
    "pob = sun.POB_2010.sum()\n",
    "suns.append({'cname': sun_names[-1], 'cve_sun': 13, 'population': pob, 'nom_sun':sun.NOM_SUN.unique()[0], 'geometry':geometry})"
   ]
  },
  {
   "cell_type": "markdown",
   "metadata": {},
   "source": [
    "## Culiacán Rosales, Sinaloa is not in metropolitan"
   ]
  },
  {
   "cell_type": "code",
   "execution_count": 12,
   "metadata": {},
   "outputs": [],
   "source": [
    "from src.utils import fix_spanish_encoding"
   ]
  },
  {
   "cell_type": "code",
   "execution_count": 13,
   "metadata": {},
   "outputs": [],
   "source": [
    "# http://www.inegi.org.mx/geo/contenidos/geoestadistica/m_g_0.aspx\n",
    "shp_urban = gp.read_file('data/mexico/mglu2014v6_2/mglu2015v6_2.shp')\n",
    "shp_state = gp.read_file('data/mexico/mge2014v6_2/mge2015v6_2.shp')\n",
    "shp_munic = gp.read_file('data/mexico/mgm2014v6_2/mgm2015v6_2.shp')\n",
    "\n",
    "# get Urban id\n",
    "shp_urban.NOM_LOC = shp_urban.NOM_LOC.apply(fix_spanish_encoding)\n",
    "shp_urban['URBAN_ID'] = shp_urban.CVE_ENT + shp_urban.CVE_MUN + shp_urban.CVE_LOC\n",
    "\n",
    "# get the full data frame\n",
    "shp_all = shp_urban.merge(shp_state.drop('geometry', axis=1)).merge(shp_munic.drop('geometry', axis=1))"
   ]
  },
  {
   "cell_type": "markdown",
   "metadata": {},
   "source": [
    "### Fix the holes in mexico city, get localidades (used to define cities on 2018-10-04"
   ]
  },
  {
   "cell_type": "code",
   "execution_count": 14,
   "metadata": {},
   "outputs": [],
   "source": [
    "polys = cascaded_union(shp_all[shp_all.CVE_ENT=='09'].geometry)\n",
    "p0=polys[0]\n",
    "p0 = Polygon(p0.exterior, [p0.interiors[115]])\n",
    "p4 = Polygon(polys[4].exterior)\n",
    "\n",
    "mex_city_geo = MultiPolygon([p0, p4]+list(polys[1:4]) + list(polys[5:]))"
   ]
  },
  {
   "cell_type": "code",
   "execution_count": 15,
   "metadata": {},
   "outputs": [],
   "source": [
    "mexico_city = {'CVE_ENT': '09', 'CVE_MUN': '000', 'CVE_LOC': '0000', \n",
    "               'NOM_LOC': 'Mexico city in DC', 'NOM_ENT': 'Distrito Federal',\n",
    "               'NOM_MUN': 'Mexico city in DC', 'concat': '09000', 'URBAN_ID' :'090000000',\n",
    "               'geometry': mex_city_geo}\n",
    "mexico_city = gp.GeoDataFrame([mexico_city])"
   ]
  },
  {
   "cell_type": "code",
   "execution_count": 16,
   "metadata": {},
   "outputs": [],
   "source": [
    "idx = [742, 3396, 454, 431, 2095, 3515, 1186, 48, 2280, 1943, 3815, 2373, 71, 1771, 3709]\n",
    "selected_localidades_mex = shp_all.loc[idx].append(mexico_city, ignore_index=True, sort=False)\n",
    "\n",
    "cols = ['URBAN_ID', 'NOM_ENT', 'NOM_MUN','NOM_LOC',  'CVE_ENT', 'CVE_MUN', 'CVE_LOC', 'geometry']\n",
    "selected_localidades_mex = selected_localidades_mex[cols]"
   ]
  },
  {
   "cell_type": "code",
   "execution_count": 17,
   "metadata": {},
   "outputs": [],
   "source": [
    "selected_localidades_mex.to_file('data/localidades_mexico_16.geojson', driver=\"GeoJSON\")\n",
    "some_map = folium.Map(location=[24.062199, -102.870324], zoom_start=5)\n",
    "geojson_per_row(selected_localidades_mex, name='localidades', tip_cols=['URBAN_ID', 'NOM_ENT', 'NOM_MUN','NOM_LOC',], some_map=some_map)\n",
    "folium.LayerControl().add_to(some_map)\n",
    "some_map.save('data/localidades_mexico_16.html')"
   ]
  },
  {
   "cell_type": "code",
   "execution_count": 18,
   "metadata": {},
   "outputs": [],
   "source": [
    "culiacan_sinaloa = selected_localidades_mex[selected_localidades_mex.URBAN_ID=='250060001'].to_crs(metro.crs).iloc[0].to_dict()"
   ]
  },
  {
   "cell_type": "code",
   "execution_count": 19,
   "metadata": {},
   "outputs": [],
   "source": [
    "suns.append({'cname': sun_names[-2], 'cve_sun': 99, 'population': 675773, 'nom_sun':sun_names[-2], \n",
    "             'geometry':culiacan_sinaloa['geometry']})"
   ]
  },
  {
   "cell_type": "markdown",
   "metadata": {},
   "source": [
    "## target cities/metropolitan areas"
   ]
  },
  {
   "cell_type": "code",
   "execution_count": 20,
   "metadata": {},
   "outputs": [],
   "source": [
    "suns=gp.GeoDataFrame(suns)\n",
    "suns.crs = metro.crs\n",
    "suns = suns.to_crs(epsg=4326)"
   ]
  },
  {
   "cell_type": "code",
   "execution_count": 21,
   "metadata": {},
   "outputs": [],
   "source": [
    "suns = suns.set_index('cname')[['population', 'cve_sun', 'geometry']].sort_values('population', ascending=False)"
   ]
  },
  {
   "cell_type": "code",
   "execution_count": 22,
   "metadata": {},
   "outputs": [],
   "source": [
    "suns.to_file('data/cities_mexico.geojson', driver=\"GeoJSON\")"
   ]
  },
  {
   "cell_type": "code",
   "execution_count": 23,
   "metadata": {},
   "outputs": [],
   "source": [
    "suns.drop('geometry', axis=1).to_csv('data/cities_mexico.csv')"
   ]
  },
  {
   "cell_type": "code",
   "execution_count": 24,
   "metadata": {},
   "outputs": [],
   "source": [
    "some_map = folium.Map(location=[24.062199, -102.870324], zoom_start=5)\n",
    "geojson_per_row(suns.reset_index(), name='cities', tip_cols=['cname','population','cve_sun'], some_map=some_map)\n",
    "folium.LayerControl().add_to(some_map)\n",
    "some_map.save('data/cities_mexico.html')"
   ]
  },
  {
   "cell_type": "code",
   "execution_count": null,
   "metadata": {},
   "outputs": [],
   "source": []
  }
 ],
 "metadata": {
  "kernelspec": {
   "display_name": "Python [default]",
   "language": "python",
   "name": "python3"
  },
  "language_info": {
   "codemirror_mode": {
    "name": "ipython",
    "version": 3
   },
   "file_extension": ".py",
   "mimetype": "text/x-python",
   "name": "python",
   "nbconvert_exporter": "python",
   "pygments_lexer": "ipython3",
   "version": "3.6.6"
  }
 },
 "nbformat": 4,
 "nbformat_minor": 2
}
