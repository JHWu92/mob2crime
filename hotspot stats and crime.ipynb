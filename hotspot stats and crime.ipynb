{
 "cells": [
  {
   "cell_type": "code",
   "execution_count": 1,
   "metadata": {},
   "outputs": [],
   "source": [
    "% load_ext autoreload\n",
    "% autoreload 2\n"
   ]
  },
  {
   "cell_type": "code",
   "execution_count": 2,
   "metadata": {},
   "outputs": [],
   "source": [
    "import glob\n",
    "import os\n",
    "import numpy as np\n",
    "import pandas as pd\n",
    "from collections import defaultdict\n",
    "import datetime\n",
    "import src.mex_helper as mex\n",
    "import folium\n",
    "from src.utils.map_vis import time_slider_choropleth, geojson_per_row"
   ]
  },
  {
   "cell_type": "code",
   "execution_count": 3,
   "metadata": {},
   "outputs": [],
   "source": [
    "import matplotlib.pyplot as plt\n",
    "%matplotlib inline"
   ]
  },
  {
   "cell_type": "code",
   "execution_count": 4,
   "metadata": {},
   "outputs": [],
   "source": [
    "import src.utils.gis as gis\n",
    "from src.features import *"
   ]
  },
  {
   "cell_type": "code",
   "execution_count": 5,
   "metadata": {},
   "outputs": [],
   "source": [
    "def grid_avgerage(tw_avg, t2g):\n",
    "    # there are grids without any call throughout the observation period\n",
    "    g_avg = t2g.merge(tw_avg, left_on='gtid', right_index=True, how='left')\n",
    "\n",
    "    for h in range(24):\n",
    "        h=str(h)\n",
    "        g_avg[h] = g_avg[h] * g_avg['weight']\n",
    "\n",
    "    g_avg= g_avg.drop(['gtid','weight'], axis=1).groupby('grid').sum()  # fillna=0 by default\n",
    "\n",
    "    return g_avg"
   ]
  },
  {
   "cell_type": "code",
   "execution_count": 6,
   "metadata": {},
   "outputs": [
    {
     "name": "stdout",
     "output_type": "stream",
     "text": [
      "loading cached tw average stats/stat_tw_dow_aver_hr_uniq_user-out.pickle\n",
      "reading existing t2g file: data/mex_tower/mex_t2g_cities_1000m.csv\n",
      "number of towers in cities has no call at all during weekday and weekend 233 234\n"
     ]
    }
   ],
   "source": [
    "aver_out = mex.stat_tw_dow_aver_hr_uniq_user('out')\n",
    "tw_avg_wd = pd.DataFrame(aver_out['wd']).T\n",
    "tw_avg_wk = pd.DataFrame(aver_out['wk']).T\n",
    "\n",
    "mex_t2g = mex.tower2grid('cities', 1000)\n",
    "print('number of towers in cities has no call at all during weekday and weekend', len(set(mex_t2g.gtid) - set(tw_avg_wd.index)), len(set(mex_t2g.gtid) - set(tw_avg_wk.index)))\n"
   ]
  },
  {
   "cell_type": "code",
   "execution_count": 7,
   "metadata": {},
   "outputs": [],
   "source": [
    "# g_avg = pd.DataFrame([average number of calls], index=grid, columns='hour')\n",
    "g_avg_wd = grid_avgerage(tw_avg_wd, mex_t2g)\n",
    "g_avg_wk = grid_avgerage(tw_avg_wk, mex_t2g)"
   ]
  },
  {
   "cell_type": "code",
   "execution_count": 46,
   "metadata": {},
   "outputs": [
    {
     "name": "stdout",
     "output_type": "stream",
     "text": [
      "reading existing grids\n",
      "CPU times: user 1min 4s, sys: 13.3 s, total: 1min 17s\n",
      "Wall time: 1min 17s\n"
     ]
    }
   ],
   "source": [
    "%%time\n",
    "dv_cities = urban_dilatation_index(g_avg_wd)"
   ]
  },
  {
   "cell_type": "code",
   "execution_count": 39,
   "metadata": {},
   "outputs": [
    {
     "name": "stdout",
     "output_type": "stream",
     "text": [
      "reading existing grids\n",
      "CPU times: user 7.58 s, sys: 28 ms, total: 7.61 s\n",
      "Wall time: 7.6 s\n"
     ]
    }
   ],
   "source": [
    "%%time\n",
    "n_hotspot_cities, hotspot_stats_cities = hotspot_stats(g_avg_wd)"
   ]
  },
  {
   "cell_type": "code",
   "execution_count": 49,
   "metadata": {},
   "outputs": [],
   "source": [
    "features = pd.concat([dv_cities, n_hotspot_cities, hotspot_stats_cities],axis=1)"
   ]
  },
  {
   "cell_type": "code",
   "execution_count": 52,
   "metadata": {
    "scrolled": true
   },
   "outputs": [],
   "source": [
    "crimes = pd.read_csv('data/qbased_crime_mexico.csv', index_col=0)"
   ]
  },
  {
   "cell_type": "code",
   "execution_count": 80,
   "metadata": {},
   "outputs": [],
   "source": [
    "from scipy.stats import pearsonr, spearmanr, kendalltau"
   ]
  },
  {
   "cell_type": "code",
   "execution_count": 81,
   "metadata": {},
   "outputs": [],
   "source": [
    "sig = {}\n",
    "for c in features:\n",
    "    pear_r, pear_p = pearsonr(features[c].values, crimes.total_crime.values)\n",
    "    spea_r, spea_p = spearmanr(features[c].values, crimes.total_crime.values)\n",
    "    kend_r, kend_p = kendalltau(features[c].values, crimes.total_crime.values)\n",
    "    sig[c] = {'pear_r': pear_r, 'pear_p':pear_p, 'spea_r': spea_r, 'spea_p':spea_p,  'kend_r': kend_r, 'kend_p':kend_p}\n",
    "sig = pd.DataFrame(sig).T"
   ]
  },
  {
   "cell_type": "code",
   "execution_count": 82,
   "metadata": {},
   "outputs": [
    {
     "data": {
      "text/html": [
       "<div>\n",
       "<style scoped>\n",
       "    .dataframe tbody tr th:only-of-type {\n",
       "        vertical-align: middle;\n",
       "    }\n",
       "\n",
       "    .dataframe tbody tr th {\n",
       "        vertical-align: top;\n",
       "    }\n",
       "\n",
       "    .dataframe thead th {\n",
       "        text-align: right;\n",
       "    }\n",
       "</style>\n",
       "<table border=\"1\" class=\"dataframe\">\n",
       "  <thead>\n",
       "    <tr style=\"text-align: right;\">\n",
       "      <th></th>\n",
       "      <th>kend_p</th>\n",
       "      <th>kend_r</th>\n",
       "      <th>pear_p</th>\n",
       "      <th>pear_r</th>\n",
       "      <th>spea_p</th>\n",
       "      <th>spea_r</th>\n",
       "    </tr>\n",
       "  </thead>\n",
       "  <tbody>\n",
       "    <tr>\n",
       "      <th>nhot_20</th>\n",
       "      <td>0.078805</td>\n",
       "      <td>0.326363</td>\n",
       "      <td>0.079300</td>\n",
       "      <td>0.451325</td>\n",
       "      <td>0.089267</td>\n",
       "      <td>0.438558</td>\n",
       "    </tr>\n",
       "    <tr>\n",
       "      <th>nhot_21</th>\n",
       "      <td>0.094513</td>\n",
       "      <td>0.312261</td>\n",
       "      <td>0.145895</td>\n",
       "      <td>0.380569</td>\n",
       "      <td>0.123537</td>\n",
       "      <td>0.401182</td>\n",
       "    </tr>\n",
       "    <tr>\n",
       "      <th>n_med</th>\n",
       "      <td>0.086467</td>\n",
       "      <td>0.319339</td>\n",
       "      <td>0.226860</td>\n",
       "      <td>0.320056</td>\n",
       "      <td>0.116742</td>\n",
       "      <td>0.407953</td>\n",
       "    </tr>\n",
       "  </tbody>\n",
       "</table>\n",
       "</div>"
      ],
      "text/plain": [
       "           kend_p    kend_r    pear_p    pear_r    spea_p    spea_r\n",
       "nhot_20  0.078805  0.326363  0.079300  0.451325  0.089267  0.438558\n",
       "nhot_21  0.094513  0.312261  0.145895  0.380569  0.123537  0.401182\n",
       "n_med    0.086467  0.319339  0.226860  0.320056  0.116742  0.407953"
      ]
     },
     "execution_count": 82,
     "metadata": {},
     "output_type": "execute_result"
    }
   ],
   "source": [
    "sig[sig.kend_p<0.1]"
   ]
  },
  {
   "cell_type": "code",
   "execution_count": 54,
   "metadata": {},
   "outputs": [],
   "source": [
    "import statsmodels.api as sm"
   ]
  },
  {
   "cell_type": "code",
   "execution_count": 57,
   "metadata": {
    "scrolled": true
   },
   "outputs": [],
   "source": [
    "features = features.loc[crimes.index]"
   ]
  },
  {
   "cell_type": "code",
   "execution_count": 113,
   "metadata": {},
   "outputs": [
    {
     "name": "stderr",
     "output_type": "stream",
     "text": [
      "/home/Jiahui/miniconda3/lib/python3.6/site-packages/scipy/stats/stats.py:1394: UserWarning: kurtosistest only valid for n>=20 ... continuing anyway, n=16\n",
      "  \"anyway, n=%i\" % int(n))\n"
     ]
    },
    {
     "data": {
      "text/html": [
       "<table class=\"simpletable\">\n",
       "<caption>OLS Regression Results</caption>\n",
       "<tr>\n",
       "  <th>Dep. Variable:</th>            <td>y</td>        <th>  R-squared:         </th> <td>   0.993</td>\n",
       "</tr>\n",
       "<tr>\n",
       "  <th>Model:</th>                   <td>OLS</td>       <th>  Adj. R-squared:    </th> <td>   0.978</td>\n",
       "</tr>\n",
       "<tr>\n",
       "  <th>Method:</th>             <td>Least Squares</td>  <th>  F-statistic:       </th> <td>   64.30</td>\n",
       "</tr>\n",
       "<tr>\n",
       "  <th>Date:</th>             <td>Thu, 10 Jan 2019</td> <th>  Prob (F-statistic):</th> <td>0.000117</td>\n",
       "</tr>\n",
       "<tr>\n",
       "  <th>Time:</th>                 <td>11:31:42</td>     <th>  Log-Likelihood:    </th> <td>  38.869</td>\n",
       "</tr>\n",
       "<tr>\n",
       "  <th>No. Observations:</th>      <td>    16</td>      <th>  AIC:               </th> <td>  -55.74</td>\n",
       "</tr>\n",
       "<tr>\n",
       "  <th>Df Residuals:</th>          <td>     5</td>      <th>  BIC:               </th> <td>  -47.24</td>\n",
       "</tr>\n",
       "<tr>\n",
       "  <th>Df Model:</th>              <td>    11</td>      <th>                     </th>     <td> </td>   \n",
       "</tr>\n",
       "<tr>\n",
       "  <th>Covariance Type:</th>      <td>nonrobust</td>    <th>                     </th>     <td> </td>   \n",
       "</tr>\n",
       "</table>\n",
       "<table class=\"simpletable\">\n",
       "<tr>\n",
       "   <td></td>      <th>coef</th>     <th>std err</th>      <th>t</th>      <th>P>|t|</th>  <th>[0.025</th>    <th>0.975]</th>  \n",
       "</tr>\n",
       "<tr>\n",
       "  <th>x1</th>  <td>    0.0172</td> <td>    0.006</td> <td>    3.036</td> <td> 0.029</td> <td>    0.003</td> <td>    0.032</td>\n",
       "</tr>\n",
       "<tr>\n",
       "  <th>x2</th>  <td>   -0.0485</td> <td>    0.025</td> <td>   -1.978</td> <td> 0.105</td> <td>   -0.112</td> <td>    0.015</td>\n",
       "</tr>\n",
       "<tr>\n",
       "  <th>x3</th>  <td>    0.0269</td> <td>    0.032</td> <td>    0.851</td> <td> 0.434</td> <td>   -0.054</td> <td>    0.108</td>\n",
       "</tr>\n",
       "<tr>\n",
       "  <th>x4</th>  <td>    0.0315</td> <td>    0.032</td> <td>    0.977</td> <td> 0.373</td> <td>   -0.051</td> <td>    0.114</td>\n",
       "</tr>\n",
       "<tr>\n",
       "  <th>x5</th>  <td>   -0.1824</td> <td>    0.034</td> <td>   -5.338</td> <td> 0.003</td> <td>   -0.270</td> <td>   -0.095</td>\n",
       "</tr>\n",
       "<tr>\n",
       "  <th>x6</th>  <td>    0.0346</td> <td>    0.026</td> <td>    1.339</td> <td> 0.238</td> <td>   -0.032</td> <td>    0.101</td>\n",
       "</tr>\n",
       "<tr>\n",
       "  <th>x7</th>  <td>    0.2448</td> <td>    0.039</td> <td>    6.198</td> <td> 0.002</td> <td>    0.143</td> <td>    0.346</td>\n",
       "</tr>\n",
       "<tr>\n",
       "  <th>x8</th>  <td>   -0.0652</td> <td>    0.028</td> <td>   -2.361</td> <td> 0.065</td> <td>   -0.136</td> <td>    0.006</td>\n",
       "</tr>\n",
       "<tr>\n",
       "  <th>x9</th>  <td>   -0.0253</td> <td>    0.032</td> <td>   -0.792</td> <td> 0.464</td> <td>   -0.108</td> <td>    0.057</td>\n",
       "</tr>\n",
       "<tr>\n",
       "  <th>x10</th> <td>   -0.0862</td> <td>    0.029</td> <td>   -2.954</td> <td> 0.032</td> <td>   -0.161</td> <td>   -0.011</td>\n",
       "</tr>\n",
       "<tr>\n",
       "  <th>x11</th> <td>    0.0610</td> <td>    0.015</td> <td>    4.010</td> <td> 0.010</td> <td>    0.022</td> <td>    0.100</td>\n",
       "</tr>\n",
       "</table>\n",
       "<table class=\"simpletable\">\n",
       "<tr>\n",
       "  <th>Omnibus:</th>       <td> 1.656</td> <th>  Durbin-Watson:     </th> <td>   2.054</td>\n",
       "</tr>\n",
       "<tr>\n",
       "  <th>Prob(Omnibus):</th> <td> 0.437</td> <th>  Jarque-Bera (JB):  </th> <td>   1.049</td>\n",
       "</tr>\n",
       "<tr>\n",
       "  <th>Skew:</th>          <td>-0.613</td> <th>  Prob(JB):          </th> <td>   0.592</td>\n",
       "</tr>\n",
       "<tr>\n",
       "  <th>Kurtosis:</th>      <td> 2.738</td> <th>  Cond. No.          </th> <td>1.04e+03</td>\n",
       "</tr>\n",
       "</table><br/><br/>Warnings:<br/>[1] Standard Errors assume that the covariance matrix of the errors is correctly specified.<br/>[2] The condition number is large, 1.04e+03. This might indicate that there are<br/>strong multicollinearity or other numerical problems."
      ],
      "text/plain": [
       "<class 'statsmodels.iolib.summary.Summary'>\n",
       "\"\"\"\n",
       "                            OLS Regression Results                            \n",
       "==============================================================================\n",
       "Dep. Variable:                      y   R-squared:                       0.993\n",
       "Model:                            OLS   Adj. R-squared:                  0.978\n",
       "Method:                 Least Squares   F-statistic:                     64.30\n",
       "Date:                Thu, 10 Jan 2019   Prob (F-statistic):           0.000117\n",
       "Time:                        11:31:42   Log-Likelihood:                 38.869\n",
       "No. Observations:                  16   AIC:                            -55.74\n",
       "Df Residuals:                       5   BIC:                            -47.24\n",
       "Df Model:                          11                                         \n",
       "Covariance Type:            nonrobust                                         \n",
       "==============================================================================\n",
       "                 coef    std err          t      P>|t|      [0.025      0.975]\n",
       "------------------------------------------------------------------------------\n",
       "x1             0.0172      0.006      3.036      0.029       0.003       0.032\n",
       "x2            -0.0485      0.025     -1.978      0.105      -0.112       0.015\n",
       "x3             0.0269      0.032      0.851      0.434      -0.054       0.108\n",
       "x4             0.0315      0.032      0.977      0.373      -0.051       0.114\n",
       "x5            -0.1824      0.034     -5.338      0.003      -0.270      -0.095\n",
       "x6             0.0346      0.026      1.339      0.238      -0.032       0.101\n",
       "x7             0.2448      0.039      6.198      0.002       0.143       0.346\n",
       "x8            -0.0652      0.028     -2.361      0.065      -0.136       0.006\n",
       "x9            -0.0253      0.032     -0.792      0.464      -0.108       0.057\n",
       "x10           -0.0862      0.029     -2.954      0.032      -0.161      -0.011\n",
       "x11            0.0610      0.015      4.010      0.010       0.022       0.100\n",
       "==============================================================================\n",
       "Omnibus:                        1.656   Durbin-Watson:                   2.054\n",
       "Prob(Omnibus):                  0.437   Jarque-Bera (JB):                1.049\n",
       "Skew:                          -0.613   Prob(JB):                        0.592\n",
       "Kurtosis:                       2.738   Cond. No.                     1.04e+03\n",
       "==============================================================================\n",
       "\n",
       "Warnings:\n",
       "[1] Standard Errors assume that the covariance matrix of the errors is correctly specified.\n",
       "[2] The condition number is large, 1.04e+03. This might indicate that there are\n",
       "strong multicollinearity or other numerical problems.\n",
       "\"\"\""
      ]
     },
     "execution_count": 113,
     "metadata": {},
     "output_type": "execute_result"
    }
   ],
   "source": [
    "Y = crimes.total_crime.values\n",
    "X = n_hotspot_cities.loc[crimes.index].iloc[:,8:19].values\n",
    "# X = sm.add_constant(X)\n",
    "model = sm.OLS(Y,X)\n",
    "results = model.fit()\n",
    "\n",
    "results.summary()"
   ]
  },
  {
   "cell_type": "code",
   "execution_count": null,
   "metadata": {},
   "outputs": [],
   "source": []
  }
 ],
 "metadata": {
  "kernelspec": {
   "display_name": "Python [default]",
   "language": "python",
   "name": "python3"
  },
  "language_info": {
   "codemirror_mode": {
    "name": "ipython",
    "version": 3
   },
   "file_extension": ".py",
   "mimetype": "text/x-python",
   "name": "python",
   "nbconvert_exporter": "python",
   "pygments_lexer": "ipython3",
   "version": "3.6.6"
  }
 },
 "nbformat": 4,
 "nbformat_minor": 2
}
