{
 "cells": [
  {
   "cell_type": "code",
   "execution_count": 1,
   "metadata": {
    "ExecuteTime": {
     "end_time": "2019-01-22T00:46:21.443890Z",
     "start_time": "2019-01-22T00:46:21.419874Z"
    }
   },
   "outputs": [],
   "source": [
    "% load_ext autoreload\n",
    "% autoreload 2\n"
   ]
  },
  {
   "cell_type": "code",
   "execution_count": 2,
   "metadata": {
    "ExecuteTime": {
     "end_time": "2019-01-22T00:46:23.286236Z",
     "start_time": "2019-01-22T00:46:22.424721Z"
    }
   },
   "outputs": [],
   "source": [
    "import glob\n",
    "import os\n",
    "import numpy as np\n",
    "import pandas as pd\n",
    "from collections import defaultdict\n",
    "import datetime\n",
    "import src.mex_helper as mex\n",
    "import folium\n",
    "from src.utils.map_vis import time_slider_choropleth, geojson_per_row"
   ]
  },
  {
   "cell_type": "code",
   "execution_count": 3,
   "metadata": {
    "ExecuteTime": {
     "end_time": "2019-01-22T00:46:23.485767Z",
     "start_time": "2019-01-22T00:46:23.320080Z"
    }
   },
   "outputs": [],
   "source": [
    "import matplotlib.pyplot as plt\n",
    "%matplotlib inline"
   ]
  },
  {
   "cell_type": "code",
   "execution_count": 4,
   "metadata": {
    "ExecuteTime": {
     "end_time": "2019-01-22T00:46:24.255599Z",
     "start_time": "2019-01-22T00:46:24.226091Z"
    }
   },
   "outputs": [],
   "source": [
    "import src.utils.gis as gis\n",
    "from src.features import *"
   ]
  },
  {
   "cell_type": "code",
   "execution_count": 5,
   "metadata": {
    "ExecuteTime": {
     "end_time": "2019-01-22T00:46:25.281170Z",
     "start_time": "2019-01-22T00:46:25.249987Z"
    }
   },
   "outputs": [],
   "source": [
    "def grid_avgerage(tw_avg, t2g):\n",
    "    # there are grids without any call throughout the observation period\n",
    "    g_avg = t2g.merge(tw_avg, left_on='gtid', right_index=True, how='left')\n",
    "\n",
    "    for h in range(24):\n",
    "        h=str(h)\n",
    "        g_avg[h] = g_avg[h] * g_avg['weight']\n",
    "\n",
    "    g_avg= g_avg.drop(['gtid','weight'], axis=1).groupby('grid').sum()  # fillna=0 by default\n",
    "\n",
    "    return g_avg"
   ]
  },
  {
   "cell_type": "code",
   "execution_count": 6,
   "metadata": {
    "ExecuteTime": {
     "end_time": "2019-01-22T00:46:46.172621Z",
     "start_time": "2019-01-22T00:46:44.152861Z"
    }
   },
   "outputs": [
    {
     "name": "stdout",
     "output_type": "stream",
     "text": [
      "loading cached tw average stats/stat_tw_dow_aver_hr_uniq_user-out.pickle\n",
      "reading existing t2g file: data/mex_tower/mex_t2g_urban_areas_16_1000m.csv\n",
      "number of towers in cities has no call at all during weekday and weekend 146 146\n"
     ]
    }
   ],
   "source": [
    "aver_out = mex.stat_tw_dow_aver_hr_uniq_user('out')\n",
    "tw_avg_wd = pd.DataFrame(aver_out['wd']).T\n",
    "tw_avg_wk = pd.DataFrame(aver_out['wk']).T\n",
    "\n",
    "# mex_t2g = mex.tower2grid('cities', 1000)\n",
    "mex_t2g = mex.tower2grid('urban_areas_16', 1000)\n",
    "\n",
    "print('number of towers in cities has no call at all during weekday and weekend', len(set(mex_t2g.gtid) - set(tw_avg_wd.index)), len(set(mex_t2g.gtid) - set(tw_avg_wk.index)))\n"
   ]
  },
  {
   "cell_type": "code",
   "execution_count": 7,
   "metadata": {
    "ExecuteTime": {
     "end_time": "2019-01-22T00:47:00.142097Z",
     "start_time": "2019-01-22T00:47:00.093554Z"
    }
   },
   "outputs": [],
   "source": [
    "# g_avg = pd.DataFrame([average number of calls], index=grid, columns='hour')\n",
    "g_avg_wd = grid_avgerage(tw_avg_wd, mex_t2g)\n",
    "g_avg_wk = grid_avgerage(tw_avg_wk, mex_t2g)"
   ]
  },
  {
   "cell_type": "code",
   "execution_count": 10,
   "metadata": {
    "ExecuteTime": {
     "end_time": "2019-01-22T00:47:46.630751Z",
     "start_time": "2019-01-22T00:47:44.821743Z"
    }
   },
   "outputs": [
    {
     "name": "stdout",
     "output_type": "stream",
     "text": [
      "reading existing grids\n",
      "CPU times: user 1.79 s, sys: 4 ms, total: 1.8 s\n",
      "Wall time: 1.79 s\n"
     ]
    }
   ],
   "source": [
    "%%time\n",
    "dv_cities = urban_dilatation_index(g_avg_wd,'urban_areas_16', 'urban')"
   ]
  },
  {
   "cell_type": "code",
   "execution_count": 9,
   "metadata": {
    "ExecuteTime": {
     "end_time": "2019-01-22T00:47:30.843547Z",
     "start_time": "2019-01-22T00:47:28.308101Z"
    }
   },
   "outputs": [
    {
     "name": "stdout",
     "output_type": "stream",
     "text": [
      "reading existing grids\n",
      "CPU times: user 2.5 s, sys: 24 ms, total: 2.53 s\n",
      "Wall time: 2.52 s\n"
     ]
    }
   ],
   "source": [
    "%%time\n",
    "n_hotspot_cities, hotspot_stats_cities = hotspot_stats(g_avg_wd,'urban_areas_16', 'urban')"
   ]
  },
  {
   "cell_type": "code",
   "execution_count": 11,
   "metadata": {
    "ExecuteTime": {
     "end_time": "2019-01-22T00:48:00.636586Z",
     "start_time": "2019-01-22T00:48:00.620906Z"
    }
   },
   "outputs": [],
   "source": [
    "features = pd.concat([dv_cities, n_hotspot_cities, hotspot_stats_cities],axis=1)"
   ]
  },
  {
   "cell_type": "code",
   "execution_count": 12,
   "metadata": {
    "ExecuteTime": {
     "end_time": "2019-01-22T00:48:14.664437Z",
     "start_time": "2019-01-22T00:48:14.647330Z"
    },
    "scrolled": true
   },
   "outputs": [],
   "source": [
    "crimes = pd.read_csv('data/qbased_crime_mexico.csv', index_col=0)"
   ]
  },
  {
   "cell_type": "code",
   "execution_count": 13,
   "metadata": {
    "ExecuteTime": {
     "end_time": "2019-01-22T00:48:28.860500Z",
     "start_time": "2019-01-22T00:48:28.701465Z"
    }
   },
   "outputs": [],
   "source": [
    "from scipy.stats import pearsonr, spearmanr, kendalltau"
   ]
  },
  {
   "cell_type": "code",
   "execution_count": 14,
   "metadata": {
    "ExecuteTime": {
     "end_time": "2019-01-22T00:48:43.210888Z",
     "start_time": "2019-01-22T00:48:43.066920Z"
    }
   },
   "outputs": [],
   "source": [
    "sig = {}\n",
    "for c in features:\n",
    "    pear_r, pear_p = pearsonr(features[c].values, crimes.total_crime.values)\n",
    "    spea_r, spea_p = spearmanr(features[c].values, crimes.total_crime.values)\n",
    "    kend_r, kend_p = kendalltau(features[c].values, crimes.total_crime.values)\n",
    "    sig[c] = {'pear_r': pear_r, 'pear_p':pear_p, 'spea_r': spea_r, 'spea_p':spea_p,  'kend_r': kend_r, 'kend_p':kend_p}\n",
    "sig = pd.DataFrame(sig).T"
   ]
  },
  {
   "cell_type": "code",
   "execution_count": 15,
   "metadata": {
    "ExecuteTime": {
     "end_time": "2019-01-22T00:48:57.411775Z",
     "start_time": "2019-01-22T00:48:57.386290Z"
    }
   },
   "outputs": [
    {
     "data": {
      "text/html": [
       "<div>\n",
       "<style scoped>\n",
       "    .dataframe tbody tr th:only-of-type {\n",
       "        vertical-align: middle;\n",
       "    }\n",
       "\n",
       "    .dataframe tbody tr th {\n",
       "        vertical-align: top;\n",
       "    }\n",
       "\n",
       "    .dataframe thead th {\n",
       "        text-align: right;\n",
       "    }\n",
       "</style>\n",
       "<table border=\"1\" class=\"dataframe\">\n",
       "  <thead>\n",
       "    <tr style=\"text-align: right;\">\n",
       "      <th></th>\n",
       "      <th>kend_p</th>\n",
       "      <th>kend_r</th>\n",
       "      <th>pear_p</th>\n",
       "      <th>pear_r</th>\n",
       "      <th>spea_p</th>\n",
       "      <th>spea_r</th>\n",
       "    </tr>\n",
       "  </thead>\n",
       "  <tbody>\n",
       "    <tr>\n",
       "      <th>n_int</th>\n",
       "      <td>0.093839</td>\n",
       "      <td>0.314965</td>\n",
       "      <td>0.339695</td>\n",
       "      <td>0.255419</td>\n",
       "      <td>0.070352</td>\n",
       "      <td>0.463815</td>\n",
       "    </tr>\n",
       "  </tbody>\n",
       "</table>\n",
       "</div>"
      ],
      "text/plain": [
       "         kend_p    kend_r    pear_p    pear_r    spea_p    spea_r\n",
       "n_int  0.093839  0.314965  0.339695  0.255419  0.070352  0.463815"
      ]
     },
     "execution_count": 15,
     "metadata": {},
     "output_type": "execute_result"
    }
   ],
   "source": [
    "sig[sig.kend_p<0.1]"
   ]
  },
  {
   "cell_type": "code",
   "execution_count": 16,
   "metadata": {
    "ExecuteTime": {
     "end_time": "2019-01-22T00:49:11.747716Z",
     "start_time": "2019-01-22T00:49:11.588698Z"
    }
   },
   "outputs": [],
   "source": [
    "import statsmodels.api as sm"
   ]
  },
  {
   "cell_type": "code",
   "execution_count": 17,
   "metadata": {
    "ExecuteTime": {
     "end_time": "2019-01-22T00:49:25.877966Z",
     "start_time": "2019-01-22T00:49:25.858378Z"
    },
    "scrolled": true
   },
   "outputs": [],
   "source": [
    "features = features.loc[crimes.index]"
   ]
  },
  {
   "cell_type": "code",
   "execution_count": 18,
   "metadata": {
    "ExecuteTime": {
     "end_time": "2019-01-22T00:49:40.069080Z",
     "start_time": "2019-01-22T00:49:40.027016Z"
    }
   },
   "outputs": [
    {
     "name": "stderr",
     "output_type": "stream",
     "text": [
      "/home/Jiahui/miniconda3/lib/python3.6/site-packages/scipy/stats/stats.py:1394: UserWarning: kurtosistest only valid for n>=20 ... continuing anyway, n=16\n",
      "  \"anyway, n=%i\" % int(n))\n"
     ]
    },
    {
     "data": {
      "text/html": [
       "<table class=\"simpletable\">\n",
       "<caption>OLS Regression Results</caption>\n",
       "<tr>\n",
       "  <th>Dep. Variable:</th>            <td>y</td>        <th>  R-squared:         </th> <td>   0.952</td>\n",
       "</tr>\n",
       "<tr>\n",
       "  <th>Model:</th>                   <td>OLS</td>       <th>  Adj. R-squared:    </th> <td>   0.845</td>\n",
       "</tr>\n",
       "<tr>\n",
       "  <th>Method:</th>             <td>Least Squares</td>  <th>  F-statistic:       </th> <td>   8.921</td>\n",
       "</tr>\n",
       "<tr>\n",
       "  <th>Date:</th>             <td>Mon, 21 Jan 2019</td> <th>  Prob (F-statistic):</th>  <td>0.0128</td> \n",
       "</tr>\n",
       "<tr>\n",
       "  <th>Time:</th>                 <td>19:49:40</td>     <th>  Log-Likelihood:    </th> <td>  23.408</td>\n",
       "</tr>\n",
       "<tr>\n",
       "  <th>No. Observations:</th>      <td>    16</td>      <th>  AIC:               </th> <td>  -24.82</td>\n",
       "</tr>\n",
       "<tr>\n",
       "  <th>Df Residuals:</th>          <td>     5</td>      <th>  BIC:               </th> <td>  -16.32</td>\n",
       "</tr>\n",
       "<tr>\n",
       "  <th>Df Model:</th>              <td>    11</td>      <th>                     </th>     <td> </td>   \n",
       "</tr>\n",
       "<tr>\n",
       "  <th>Covariance Type:</th>      <td>nonrobust</td>    <th>                     </th>     <td> </td>   \n",
       "</tr>\n",
       "</table>\n",
       "<table class=\"simpletable\">\n",
       "<tr>\n",
       "   <td></td>      <th>coef</th>     <th>std err</th>      <th>t</th>      <th>P>|t|</th>  <th>[0.025</th>    <th>0.975]</th>  \n",
       "</tr>\n",
       "<tr>\n",
       "  <th>x1</th>  <td>    0.0105</td> <td>    0.038</td> <td>    0.274</td> <td> 0.795</td> <td>   -0.088</td> <td>    0.109</td>\n",
       "</tr>\n",
       "<tr>\n",
       "  <th>x2</th>  <td>    0.0668</td> <td>    0.062</td> <td>    1.071</td> <td> 0.333</td> <td>   -0.094</td> <td>    0.227</td>\n",
       "</tr>\n",
       "<tr>\n",
       "  <th>x3</th>  <td>   -0.1407</td> <td>    0.087</td> <td>   -1.619</td> <td> 0.166</td> <td>   -0.364</td> <td>    0.083</td>\n",
       "</tr>\n",
       "<tr>\n",
       "  <th>x4</th>  <td>   -0.0460</td> <td>    0.121</td> <td>   -0.380</td> <td> 0.719</td> <td>   -0.357</td> <td>    0.265</td>\n",
       "</tr>\n",
       "<tr>\n",
       "  <th>x5</th>  <td>    0.2056</td> <td>    0.268</td> <td>    0.768</td> <td> 0.477</td> <td>   -0.483</td> <td>    0.894</td>\n",
       "</tr>\n",
       "<tr>\n",
       "  <th>x6</th>  <td>   -0.0978</td> <td>    0.205</td> <td>   -0.478</td> <td> 0.653</td> <td>   -0.624</td> <td>    0.428</td>\n",
       "</tr>\n",
       "<tr>\n",
       "  <th>x7</th>  <td>   -0.0907</td> <td>    0.145</td> <td>   -0.625</td> <td> 0.559</td> <td>   -0.464</td> <td>    0.282</td>\n",
       "</tr>\n",
       "<tr>\n",
       "  <th>x8</th>  <td>    0.0679</td> <td>    0.061</td> <td>    1.105</td> <td> 0.319</td> <td>   -0.090</td> <td>    0.226</td>\n",
       "</tr>\n",
       "<tr>\n",
       "  <th>x9</th>  <td>    0.0171</td> <td>    0.091</td> <td>    0.188</td> <td> 0.858</td> <td>   -0.218</td> <td>    0.252</td>\n",
       "</tr>\n",
       "<tr>\n",
       "  <th>x10</th> <td>    0.1596</td> <td>    0.111</td> <td>    1.434</td> <td> 0.211</td> <td>   -0.127</td> <td>    0.446</td>\n",
       "</tr>\n",
       "<tr>\n",
       "  <th>x11</th> <td>   -0.1451</td> <td>    0.059</td> <td>   -2.479</td> <td> 0.056</td> <td>   -0.295</td> <td>    0.005</td>\n",
       "</tr>\n",
       "</table>\n",
       "<table class=\"simpletable\">\n",
       "<tr>\n",
       "  <th>Omnibus:</th>       <td> 2.020</td> <th>  Durbin-Watson:     </th> <td>   1.434</td>\n",
       "</tr>\n",
       "<tr>\n",
       "  <th>Prob(Omnibus):</th> <td> 0.364</td> <th>  Jarque-Bera (JB):  </th> <td>   1.605</td>\n",
       "</tr>\n",
       "<tr>\n",
       "  <th>Skew:</th>          <td> 0.686</td> <th>  Prob(JB):          </th> <td>   0.448</td>\n",
       "</tr>\n",
       "<tr>\n",
       "  <th>Kurtosis:</th>      <td> 2.274</td> <th>  Cond. No.          </th> <td>1.69e+03</td>\n",
       "</tr>\n",
       "</table><br/><br/>Warnings:<br/>[1] Standard Errors assume that the covariance matrix of the errors is correctly specified.<br/>[2] The condition number is large, 1.69e+03. This might indicate that there are<br/>strong multicollinearity or other numerical problems."
      ],
      "text/plain": [
       "<class 'statsmodels.iolib.summary.Summary'>\n",
       "\"\"\"\n",
       "                            OLS Regression Results                            \n",
       "==============================================================================\n",
       "Dep. Variable:                      y   R-squared:                       0.952\n",
       "Model:                            OLS   Adj. R-squared:                  0.845\n",
       "Method:                 Least Squares   F-statistic:                     8.921\n",
       "Date:                Mon, 21 Jan 2019   Prob (F-statistic):             0.0128\n",
       "Time:                        19:49:40   Log-Likelihood:                 23.408\n",
       "No. Observations:                  16   AIC:                            -24.82\n",
       "Df Residuals:                       5   BIC:                            -16.32\n",
       "Df Model:                          11                                         \n",
       "Covariance Type:            nonrobust                                         \n",
       "==============================================================================\n",
       "                 coef    std err          t      P>|t|      [0.025      0.975]\n",
       "------------------------------------------------------------------------------\n",
       "x1             0.0105      0.038      0.274      0.795      -0.088       0.109\n",
       "x2             0.0668      0.062      1.071      0.333      -0.094       0.227\n",
       "x3            -0.1407      0.087     -1.619      0.166      -0.364       0.083\n",
       "x4            -0.0460      0.121     -0.380      0.719      -0.357       0.265\n",
       "x5             0.2056      0.268      0.768      0.477      -0.483       0.894\n",
       "x6            -0.0978      0.205     -0.478      0.653      -0.624       0.428\n",
       "x7            -0.0907      0.145     -0.625      0.559      -0.464       0.282\n",
       "x8             0.0679      0.061      1.105      0.319      -0.090       0.226\n",
       "x9             0.0171      0.091      0.188      0.858      -0.218       0.252\n",
       "x10            0.1596      0.111      1.434      0.211      -0.127       0.446\n",
       "x11           -0.1451      0.059     -2.479      0.056      -0.295       0.005\n",
       "==============================================================================\n",
       "Omnibus:                        2.020   Durbin-Watson:                   1.434\n",
       "Prob(Omnibus):                  0.364   Jarque-Bera (JB):                1.605\n",
       "Skew:                           0.686   Prob(JB):                        0.448\n",
       "Kurtosis:                       2.274   Cond. No.                     1.69e+03\n",
       "==============================================================================\n",
       "\n",
       "Warnings:\n",
       "[1] Standard Errors assume that the covariance matrix of the errors is correctly specified.\n",
       "[2] The condition number is large, 1.69e+03. This might indicate that there are\n",
       "strong multicollinearity or other numerical problems.\n",
       "\"\"\""
      ]
     },
     "execution_count": 18,
     "metadata": {},
     "output_type": "execute_result"
    }
   ],
   "source": [
    "Y = crimes.total_crime.values\n",
    "X = n_hotspot_cities.loc[crimes.index].iloc[:,8:19].values\n",
    "# X = sm.add_constant(X)\n",
    "model = sm.OLS(Y,X)\n",
    "results = model.fit()\n",
    "\n",
    "results.summary()"
   ]
  },
  {
   "cell_type": "code",
   "execution_count": null,
   "metadata": {},
   "outputs": [],
   "source": []
  }
 ],
 "metadata": {
  "kernelspec": {
   "display_name": "Python [default]",
   "language": "python",
   "name": "python3"
  },
  "language_info": {
   "codemirror_mode": {
    "name": "ipython",
    "version": 3
   },
   "file_extension": ".py",
   "mimetype": "text/x-python",
   "name": "python",
   "nbconvert_exporter": "python",
   "pygments_lexer": "ipython3",
   "version": "3.6.6"
  },
  "toc": {
   "base_numbering": 1,
   "nav_menu": {},
   "number_sections": true,
   "sideBar": true,
   "skip_h1_title": false,
   "title_cell": "Table of Contents",
   "title_sidebar": "Contents",
   "toc_cell": false,
   "toc_position": {},
   "toc_section_display": true,
   "toc_window_display": false
  },
  "varInspector": {
   "cols": {
    "lenName": 16,
    "lenType": 16,
    "lenVar": 40
   },
   "kernels_config": {
    "python": {
     "delete_cmd_postfix": "",
     "delete_cmd_prefix": "del ",
     "library": "var_list.py",
     "varRefreshCmd": "print(var_dic_list())"
    },
    "r": {
     "delete_cmd_postfix": ") ",
     "delete_cmd_prefix": "rm(",
     "library": "var_list.r",
     "varRefreshCmd": "cat(var_dic_list()) "
    }
   },
   "types_to_exclude": [
    "module",
    "function",
    "builtin_function_or_method",
    "instance",
    "_Feature"
   ],
   "window_display": false
  }
 },
 "nbformat": 4,
 "nbformat_minor": 2
}
