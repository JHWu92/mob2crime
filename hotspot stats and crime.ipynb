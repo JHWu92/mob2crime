{
 "cells": [
  {
   "cell_type": "code",
   "execution_count": 1,
   "metadata": {},
   "outputs": [],
   "source": [
    "% load_ext autoreload\n",
    "% autoreload 2\n"
   ]
  },
  {
   "cell_type": "code",
   "execution_count": 2,
   "metadata": {},
   "outputs": [],
   "source": [
    "import glob\n",
    "import os\n",
    "import numpy as np\n",
    "import pandas as pd\n",
    "from collections import defaultdict\n",
    "import datetime\n",
    "import src.mex_helper as mex\n",
    "import folium\n",
    "from src.utils.map_vis import time_slider_choropleth, geojson_per_row"
   ]
  },
  {
   "cell_type": "code",
   "execution_count": 3,
   "metadata": {},
   "outputs": [],
   "source": [
    "import matplotlib.pyplot as plt\n",
    "%matplotlib inline"
   ]
  },
  {
   "cell_type": "code",
   "execution_count": 4,
   "metadata": {},
   "outputs": [],
   "source": [
    "import src.utils.gis as gis\n",
    "from src.features import *"
   ]
  },
  {
   "cell_type": "code",
   "execution_count": 5,
   "metadata": {},
   "outputs": [],
   "source": [
    "def grid_avgerage(tw_avg, t2g):\n",
    "    # there are grids without any call throughout the observation period\n",
    "    g_avg = t2g.merge(tw_avg, left_on='gtid', right_index=True, how='left')\n",
    "\n",
    "    for h in range(24):\n",
    "        h=str(h)\n",
    "        g_avg[h] = g_avg[h] * g_avg['weight']\n",
    "\n",
    "    g_avg= g_avg.drop(['gtid','weight'], axis=1).groupby('grid').sum()  # fillna=0 by default\n",
    "\n",
    "    return g_avg"
   ]
  },
  {
   "cell_type": "code",
   "execution_count": 6,
   "metadata": {},
   "outputs": [
    {
     "name": "stdout",
     "output_type": "stream",
     "text": [
      "loading cached tw average stats/stat_tw_dow_aver_hr_uniq_user-out.pickle\n",
      "reading existing t2g file: data/mex_tower/mex_t2g_cities_1000m.csv\n",
      "number of towers in cities has no call at all during weekday and weekend 233 234\n"
     ]
    }
   ],
   "source": [
    "aver_out = mex.stat_tw_dow_aver_hr_uniq_user('out')\n",
    "tw_avg_wd = pd.DataFrame(aver_out['wd']).T\n",
    "tw_avg_wk = pd.DataFrame(aver_out['wk']).T\n",
    "\n",
    "mex_t2g = mex.tower2grid('cities', 1000)\n",
    "print('number of towers in cities has no call at all during weekday and weekend', len(set(mex_t2g.gtid) - set(tw_avg_wd.index)), len(set(mex_t2g.gtid) - set(tw_avg_wk.index)))\n"
   ]
  },
  {
   "cell_type": "code",
   "execution_count": 7,
   "metadata": {},
   "outputs": [],
   "source": [
    "# g_avg = pd.DataFrame([average number of calls], index=grid, columns='hour')\n",
    "g_avg_wd = grid_avgerage(tw_avg_wd, mex_t2g)\n",
    "g_avg_wk = grid_avgerage(tw_avg_wk, mex_t2g)"
   ]
  },
  {
   "cell_type": "code",
   "execution_count": 46,
   "metadata": {},
   "outputs": [
    {
     "name": "stdout",
     "output_type": "stream",
     "text": [
      "reading existing grids\n",
      "CPU times: user 1min 4s, sys: 13.3 s, total: 1min 17s\n",
      "Wall time: 1min 17s\n"
     ]
    }
   ],
   "source": [
    "%%time\n",
    "dv_cities = urban_dilatation_index(g_avg_wd)"
   ]
  },
  {
   "cell_type": "code",
   "execution_count": 39,
   "metadata": {},
   "outputs": [
    {
     "name": "stdout",
     "output_type": "stream",
     "text": [
      "reading existing grids\n",
      "CPU times: user 7.58 s, sys: 28 ms, total: 7.61 s\n",
      "Wall time: 7.6 s\n"
     ]
    }
   ],
   "source": [
    "%%time\n",
    "n_hotspot_cities, hotspot_stats_cities = hotspot_stats(g_avg_wd)"
   ]
  },
  {
   "cell_type": "code",
   "execution_count": 49,
   "metadata": {},
   "outputs": [],
   "source": [
    "features = pd.concat([dv_cities, n_hotspot_cities, hotspot_stats_cities],axis=1)"
   ]
  },
  {
   "cell_type": "code",
   "execution_count": 52,
   "metadata": {
    "scrolled": true
   },
   "outputs": [],
   "source": [
    "crimes = pd.read_csv('data/qbased_crime_mexico.csv', index_col=0)"
   ]
  },
  {
   "cell_type": "code",
   "execution_count": 80,
   "metadata": {},
   "outputs": [],
   "source": [
    "from scipy.stats import pearsonr, spearmanr, kendalltau"
   ]
  },
  {
   "cell_type": "code",
   "execution_count": 81,
   "metadata": {},
   "outputs": [],
   "source": [
    "sig = {}\n",
    "for c in features:\n",
    "    pear_r, pear_p = pearsonr(features[c].values, crimes.total_crime.values)\n",
    "    spea_r, spea_p = spearmanr(features[c].values, crimes.total_crime.values)\n",
    "    kend_r, kend_p = kendalltau(features[c].values, crimes.total_crime.values)\n",
    "    sig[c] = {'pear_r': pear_r, 'pear_p':pear_p, 'spea_r': spea_r, 'spea_p':spea_p,  'kend_r': kend_r, 'kend_p':kend_p}\n",
    "sig = pd.DataFrame(sig).T"
   ]
  },
  {
   "cell_type": "code",
   "execution_count": 82,
   "metadata": {},
   "outputs": [
    {
     "data": {
      "text/html": [
       "<div>\n",
       "<style scoped>\n",
       "    .dataframe tbody tr th:only-of-type {\n",
       "        vertical-align: middle;\n",
       "    }\n",
       "\n",
       "    .dataframe tbody tr th {\n",
       "        vertical-align: top;\n",
       "    }\n",
       "\n",
       "    .dataframe thead th {\n",
       "        text-align: right;\n",
       "    }\n",
       "</style>\n",
       "<table border=\"1\" class=\"dataframe\">\n",
       "  <thead>\n",
       "    <tr style=\"text-align: right;\">\n",
       "      <th></th>\n",
       "      <th>kend_p</th>\n",
       "      <th>kend_r</th>\n",
       "      <th>pear_p</th>\n",
       "      <th>pear_r</th>\n",
       "      <th>spea_p</th>\n",
       "      <th>spea_r</th>\n",
       "    </tr>\n",
       "  </thead>\n",
       "  <tbody>\n",
       "    <tr>\n",
       "      <th>nhot_20</th>\n",
       "      <td>0.078805</td>\n",
       "      <td>0.326363</td>\n",
       "      <td>0.079300</td>\n",
       "      <td>0.451325</td>\n",
       "      <td>0.089267</td>\n",
       "      <td>0.438558</td>\n",
       "    </tr>\n",
       "    <tr>\n",
       "      <th>nhot_21</th>\n",
       "      <td>0.094513</td>\n",
       "      <td>0.312261</td>\n",
       "      <td>0.145895</td>\n",
       "      <td>0.380569</td>\n",
       "      <td>0.123537</td>\n",
       "      <td>0.401182</td>\n",
       "    </tr>\n",
       "    <tr>\n",
       "      <th>n_med</th>\n",
       "      <td>0.086467</td>\n",
       "      <td>0.319339</td>\n",
       "      <td>0.226860</td>\n",
       "      <td>0.320056</td>\n",
       "      <td>0.116742</td>\n",
       "      <td>0.407953</td>\n",
       "    </tr>\n",
       "  </tbody>\n",
       "</table>\n",
       "</div>"
      ],
      "text/plain": [
       "           kend_p    kend_r    pear_p    pear_r    spea_p    spea_r\n",
       "nhot_20  0.078805  0.326363  0.079300  0.451325  0.089267  0.438558\n",
       "nhot_21  0.094513  0.312261  0.145895  0.380569  0.123537  0.401182\n",
       "n_med    0.086467  0.319339  0.226860  0.320056  0.116742  0.407953"
      ]
     },
     "execution_count": 82,
     "metadata": {},
     "output_type": "execute_result"
    }
   ],
   "source": [
    "sig[sig.kend_p<0.1]"
   ]
  },
  {
   "cell_type": "code",
   "execution_count": 54,
   "metadata": {},
   "outputs": [],
   "source": [
    "import statsmodels.api as sm"
   ]
  },
  {
   "cell_type": "code",
   "execution_count": 57,
   "metadata": {
    "scrolled": true
   },
   "outputs": [],
   "source": [
    "features = features.loc[crimes.index]"
   ]
  },
  {
   "cell_type": "code",
   "execution_count": 112,
   "metadata": {},
   "outputs": [
    {
     "name": "stderr",
     "output_type": "stream",
     "text": [
      "/home/Jiahui/miniconda3/lib/python3.6/site-packages/scipy/stats/stats.py:1394: UserWarning: kurtosistest only valid for n>=20 ... continuing anyway, n=16\n",
      "  \"anyway, n=%i\" % int(n))\n"
     ]
    },
    {
     "data": {
      "text/html": [
       "<table class=\"simpletable\">\n",
       "<caption>OLS Regression Results</caption>\n",
       "<tr>\n",
       "  <th>Dep. Variable:</th>            <td>y</td>        <th>  R-squared:         </th> <td>   0.846</td>\n",
       "</tr>\n",
       "<tr>\n",
       "  <th>Model:</th>                   <td>OLS</td>       <th>  Adj. R-squared:    </th> <td>   0.777</td>\n",
       "</tr>\n",
       "<tr>\n",
       "  <th>Method:</th>             <td>Least Squares</td>  <th>  F-statistic:       </th> <td>   12.12</td>\n",
       "</tr>\n",
       "<tr>\n",
       "  <th>Date:</th>             <td>Thu, 10 Jan 2019</td> <th>  Prob (F-statistic):</th> <td>0.000358</td>\n",
       "</tr>\n",
       "<tr>\n",
       "  <th>Time:</th>                 <td>00:00:07</td>     <th>  Log-Likelihood:    </th> <td>  14.183</td>\n",
       "</tr>\n",
       "<tr>\n",
       "  <th>No. Observations:</th>      <td>    16</td>      <th>  AIC:               </th> <td>  -18.37</td>\n",
       "</tr>\n",
       "<tr>\n",
       "  <th>Df Residuals:</th>          <td>    11</td>      <th>  BIC:               </th> <td>  -14.50</td>\n",
       "</tr>\n",
       "<tr>\n",
       "  <th>Df Model:</th>              <td>     5</td>      <th>                     </th>     <td> </td>   \n",
       "</tr>\n",
       "<tr>\n",
       "  <th>Covariance Type:</th>      <td>nonrobust</td>    <th>                     </th>     <td> </td>   \n",
       "</tr>\n",
       "</table>\n",
       "<table class=\"simpletable\">\n",
       "<tr>\n",
       "   <td></td>     <th>coef</th>     <th>std err</th>      <th>t</th>      <th>P>|t|</th>  <th>[0.025</th>    <th>0.975]</th>  \n",
       "</tr>\n",
       "<tr>\n",
       "  <th>x1</th> <td>    0.0068</td> <td>    0.013</td> <td>    0.542</td> <td> 0.599</td> <td>   -0.021</td> <td>    0.035</td>\n",
       "</tr>\n",
       "<tr>\n",
       "  <th>x2</th> <td>    0.0041</td> <td>    0.018</td> <td>    0.224</td> <td> 0.827</td> <td>   -0.036</td> <td>    0.044</td>\n",
       "</tr>\n",
       "<tr>\n",
       "  <th>x3</th> <td>   -0.0052</td> <td>    0.020</td> <td>   -0.264</td> <td> 0.797</td> <td>   -0.048</td> <td>    0.038</td>\n",
       "</tr>\n",
       "<tr>\n",
       "  <th>x4</th> <td>   -0.0180</td> <td>    0.029</td> <td>   -0.612</td> <td> 0.553</td> <td>   -0.083</td> <td>    0.047</td>\n",
       "</tr>\n",
       "<tr>\n",
       "  <th>x5</th> <td>    0.0191</td> <td>    0.020</td> <td>    0.971</td> <td> 0.352</td> <td>   -0.024</td> <td>    0.062</td>\n",
       "</tr>\n",
       "</table>\n",
       "<table class=\"simpletable\">\n",
       "<tr>\n",
       "  <th>Omnibus:</th>       <td> 0.051</td> <th>  Durbin-Watson:     </th> <td>   0.986</td>\n",
       "</tr>\n",
       "<tr>\n",
       "  <th>Prob(Omnibus):</th> <td> 0.975</td> <th>  Jarque-Bera (JB):  </th> <td>   0.196</td>\n",
       "</tr>\n",
       "<tr>\n",
       "  <th>Skew:</th>          <td> 0.109</td> <th>  Prob(JB):          </th> <td>   0.907</td>\n",
       "</tr>\n",
       "<tr>\n",
       "  <th>Kurtosis:</th>      <td> 2.504</td> <th>  Cond. No.          </th> <td>    208.</td>\n",
       "</tr>\n",
       "</table><br/><br/>Warnings:<br/>[1] Standard Errors assume that the covariance matrix of the errors is correctly specified."
      ],
      "text/plain": [
       "<class 'statsmodels.iolib.summary.Summary'>\n",
       "\"\"\"\n",
       "                            OLS Regression Results                            \n",
       "==============================================================================\n",
       "Dep. Variable:                      y   R-squared:                       0.846\n",
       "Model:                            OLS   Adj. R-squared:                  0.777\n",
       "Method:                 Least Squares   F-statistic:                     12.12\n",
       "Date:                Thu, 10 Jan 2019   Prob (F-statistic):           0.000358\n",
       "Time:                        00:00:07   Log-Likelihood:                 14.183\n",
       "No. Observations:                  16   AIC:                            -18.37\n",
       "Df Residuals:                      11   BIC:                            -14.50\n",
       "Df Model:                           5                                         \n",
       "Covariance Type:            nonrobust                                         \n",
       "==============================================================================\n",
       "                 coef    std err          t      P>|t|      [0.025      0.975]\n",
       "------------------------------------------------------------------------------\n",
       "x1             0.0068      0.013      0.542      0.599      -0.021       0.035\n",
       "x2             0.0041      0.018      0.224      0.827      -0.036       0.044\n",
       "x3            -0.0052      0.020     -0.264      0.797      -0.048       0.038\n",
       "x4            -0.0180      0.029     -0.612      0.553      -0.083       0.047\n",
       "x5             0.0191      0.020      0.971      0.352      -0.024       0.062\n",
       "==============================================================================\n",
       "Omnibus:                        0.051   Durbin-Watson:                   0.986\n",
       "Prob(Omnibus):                  0.975   Jarque-Bera (JB):                0.196\n",
       "Skew:                           0.109   Prob(JB):                        0.907\n",
       "Kurtosis:                       2.504   Cond. No.                         208.\n",
       "==============================================================================\n",
       "\n",
       "Warnings:\n",
       "[1] Standard Errors assume that the covariance matrix of the errors is correctly specified.\n",
       "\"\"\""
      ]
     },
     "execution_count": 112,
     "metadata": {},
     "output_type": "execute_result"
    }
   ],
   "source": [
    "Y = crimes.total_crime.values\n",
    "X = n_hotspot_cities.loc[crimes.index].iloc[:,19:].values\n",
    "# X = sm.add_constant(X)\n",
    "model = sm.OLS(Y,X)\n",
    "results = model.fit()\n",
    "\n",
    "results.summary()"
   ]
  },
  {
   "cell_type": "code",
   "execution_count": null,
   "metadata": {},
   "outputs": [],
   "source": []
  }
 ],
 "metadata": {
  "kernelspec": {
   "display_name": "Python [default]",
   "language": "python",
   "name": "python3"
  },
  "language_info": {
   "codemirror_mode": {
    "name": "ipython",
    "version": 3
   },
   "file_extension": ".py",
   "mimetype": "text/x-python",
   "name": "python",
   "nbconvert_exporter": "python",
   "pygments_lexer": "ipython3",
   "version": "3.6.6"
  }
 },
 "nbformat": 4,
 "nbformat_minor": 2
}
