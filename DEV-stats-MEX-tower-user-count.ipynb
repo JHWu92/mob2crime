{
 "cells": [
  {
   "cell_type": "code",
   "execution_count": 1,
   "metadata": {},
   "outputs": [],
   "source": [
    "import glob\n",
    "import pandas as pd\n",
    "import gzip\n",
    "import os\n",
    "from src.creds import drive_root, mex_col_call\n",
    "import logging\n",
    "import datetime\n",
    "from collections import defaultdict"
   ]
  },
  {
   "cell_type": "code",
   "execution_count": 12,
   "metadata": {},
   "outputs": [],
   "source": [
    "debugging = True\n",
    "level = logging.DEBUG if debugging else logging.INFO"
   ]
  },
  {
   "cell_type": "code",
   "execution_count": 2,
   "metadata": {},
   "outputs": [],
   "source": [
    "logging.basicConfig(filename=\"logs/MEX-tower-user-count.log\", level=level, format='%(asctime)s - %(name)s - %(levelname)s - %(message)s')"
   ]
  },
  {
   "cell_type": "code",
   "execution_count": 3,
   "metadata": {},
   "outputs": [],
   "source": [
    "idx_date = mex_col_call.index('date')\n",
    "idx_time = mex_col_call.index('time')\n",
    "idx_t1 = mex_col_call.index('cell_initial')\n",
    "idx_t2 = mex_col_call.index('cell_final')\n",
    "idx_duration = mex_col_call.index('duration')\n",
    "idx_p1 = mex_col_call.index('phone_1')"
   ]
  },
  {
   "cell_type": "code",
   "execution_count": 26,
   "metadata": {},
   "outputs": [],
   "source": [
    "\n",
    "mex_root = drive_root + \"MEX/\"\n",
    "include_in_calls = False\n",
    "file_pattern = '??????/*TRAFICO_VOZ*' if include_in_calls else '??????/*TRAFICO_VOZ_[0-9]*' \n",
    "stats_dir = 'stats/MEX-tower-user-count-w-in-calls/' if include_in_calls else 'stats/MEX-tower-user-count/' \n",
    "os.makedirs(stats_dir,exist_ok=True)\n",
    "\n",
    "fns = []\n",
    "for fn in glob.glob(mex_root+file_pattern):\n",
    "    fns.append(fn)\n",
    "    \n",
    "    "
   ]
  },
  {
   "cell_type": "code",
   "execution_count": 37,
   "metadata": {},
   "outputs": [],
   "source": [
    "fn=fns[1]"
   ]
  },
  {
   "cell_type": "code",
   "execution_count": 38,
   "metadata": {},
   "outputs": [
    {
     "data": {
      "text/plain": [
       "'20091018'"
      ]
     },
     "execution_count": 38,
     "metadata": {},
     "output_type": "execute_result"
    }
   ],
   "source": [
    "fn.replace('.dat','').replace('.gz','')[-8:]"
   ]
  },
  {
   "cell_type": "code",
   "execution_count": 13,
   "metadata": {},
   "outputs": [],
   "source": [
    "# loop over the files\n",
    "start_dt = datetime.datetime.now()\n",
    "logging.info('===============================')\n",
    "logging.info('MEX stats starts. debugging=%s' % debugging)\n",
    "\n",
    "for cnt, fn in enumerate(fns):\n",
    "    if cnt % 30 ==0:\n",
    "        print('working on the %dth file' % cnt)\n",
    "    \n",
    "    logging.info('processing file: %s' % fn.replace(drive_root,''))\n",
    "    file_date = fn.replace('.dat','').replace('.gz','')[-8:]\n",
    "    file_date = datetime.datetime.strptime(file_date, '%Y%m%d')\n",
    "    file_date = file_date.strftime('%d-%m-%Y')\n",
    "    \n",
    "    # for logging processing time per file\n",
    "    fn_start_dt = datetime.datetime.now()\n",
    "    \n",
    "    # storing stats: stats[d][tower][hour] = set of users\n",
    "    stats = defaultdict(lambda: defaultdict(lambda: defaultdict(set)))\n",
    "\n",
    "    # loop over the lines in a file\n",
    "    # some files are not gzipped\n",
    "    f = gzip.open(fn, 'rb') if fn.endswith('.gz') else open(fn,'rb')\n",
    "    \n",
    "    for i, line in enumerate(f):\n",
    "        if i>10 and debugging:\n",
    "            break\n",
    "\n",
    "        line = line.decode('utf8').strip().split('|')\n",
    "\n",
    "        dt1 = datetime.datetime.strptime(line[idx_date] + ' ' + line[idx_time], '%d/%m/%Y %H:%M:%S')\n",
    "        dt2 = dt1 + datetime.timedelta(seconds=int(line[idx_duration]))\n",
    "\n",
    "        d1 = dt1.strftime('%d-%m-%Y')\n",
    "        d1h = dt1.hour\n",
    "        d2 = dt2.strftime('%d-%m-%Y')\n",
    "        d2h = dt2.hour\n",
    "\n",
    "        stats[d1][line[idx_t1]][d1h].add(line[idx_p1])\n",
    "        stats[d2][line[idx_t2]][d2h].add(line[idx_p1])\n",
    "\n",
    "    logging.debug('iterated all lines')\n",
    "    f.close()\n",
    "    \n",
    "    # saving the stats\n",
    "    if file_date in stats:\n",
    "        logging.debug('file_date in the stats, saving csv')\n",
    "        today = pd.DataFrame.from_dict(stats.pop(file_date)).applymap(lambda x: pd.np.nan if pd.isnull(x) else len(x))\n",
    "        today.reindex(list(range(24))).to_csv(stats_dir + '%s.csv' % file_date)\n",
    "    else:\n",
    "        logging.warning('file_date not in the stats')\n",
    "\n",
    "    # there are more dates in addition to file_date\n",
    "    if len(stats)!=0:\n",
    "        extra_dates = list(stats.keys())\n",
    "        logging.warning('There are dates in addition to the file_date: %s' % extra_dates)\n",
    "        for ed in extra_dates:\n",
    "            extra = pd.DataFrame.from_dict(stats[ed]).applymap(lambda x: pd.np.nan if pd.isnull(x) else len(x))\n",
    "            extra.reindex(list(range(24))).to_csv(stats_dir + '%s-from-%s.csv' % (ed, file_date))\n",
    "    \n",
    "    logging.info('File processing time: %f seconds' % (datetime.datetime.now()-fn_start_dt).total_seconds())\n",
    "    \n",
    "    if debugging:\n",
    "        break  # fn loop\n",
    "    \n",
    "logging.info('MEX stats ends, %f seconds' %(datetime.datetime.now()-start_dt).total_seconds())"
   ]
  },
  {
   "cell_type": "code",
   "execution_count": null,
   "metadata": {},
   "outputs": [],
   "source": []
  }
 ],
 "metadata": {
  "kernelspec": {
   "display_name": "Python [default]",
   "language": "python",
   "name": "python3"
  },
  "language_info": {
   "codemirror_mode": {
    "name": "ipython",
    "version": 3
   },
   "file_extension": ".py",
   "mimetype": "text/x-python",
   "name": "python",
   "nbconvert_exporter": "python",
   "pygments_lexer": "ipython3",
   "version": "3.6.6"
  }
 },
 "nbformat": 4,
 "nbformat_minor": 2
}
