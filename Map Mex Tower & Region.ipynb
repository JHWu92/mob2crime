{
 "cells": [
  {
   "cell_type": "code",
   "execution_count": 1,
   "metadata": {
    "ExecuteTime": {
     "end_time": "2019-10-29T17:10:18.809064Z",
     "start_time": "2019-10-29T17:10:18.791107Z"
    }
   },
   "outputs": [],
   "source": [
    "%load_ext autoreload\n",
    "%autoreload 2"
   ]
  },
  {
   "cell_type": "code",
   "execution_count": 2,
   "metadata": {
    "ExecuteTime": {
     "end_time": "2019-10-29T17:10:19.336533Z",
     "start_time": "2019-10-29T17:10:18.983801Z"
    }
   },
   "outputs": [],
   "source": [
    "%matplotlib inline"
   ]
  },
  {
   "cell_type": "code",
   "execution_count": 3,
   "metadata": {
    "ExecuteTime": {
     "end_time": "2019-10-29T17:10:20.091572Z",
     "start_time": "2019-10-29T17:10:19.339042Z"
    }
   },
   "outputs": [],
   "source": [
    "import os\n",
    "import sys\n",
    "from itertools import chain\n",
    "\n",
    "import folium\n",
    "\n",
    "import src.mex as mex\n",
    "import src.mex.regions2010 as region\n",
    "import src.utils.map_vis as mvis\n",
    "import src.mex.tower as tower\n",
    "import src.tower_interpolation as tw_int\n",
    "import src.mex_helper as mex_helper\n",
    "if not os.getcwd().endswith('mob2crime'):\n",
    "    os.chdir('..')\n"
   ]
  },
  {
   "cell_type": "markdown",
   "metadata": {},
   "source": [
    "# load geoms"
   ]
  },
  {
   "cell_type": "code",
   "execution_count": 4,
   "metadata": {
    "ExecuteTime": {
     "end_time": "2019-10-29T17:10:46.042060Z",
     "start_time": "2019-10-29T17:10:23.733797Z"
    }
   },
   "outputs": [],
   "source": [
    "\n",
    "zms = region.mpa_all(to_4326=True)\n",
    "mun_ids = list(chain(*zms.mun_ids.apply(lambda x: x.split(',')).tolist()))\n",
    "mgm_zms = region.municipalities(mun_ids, to_4326=True)\n",
    "mglu_zms = region.mpa_urban_per_municipality(to_4326=True)\n",
    "mglr_zms = region.locs_rural(mun_ids, to_4326=True)\n"
   ]
  },
  {
   "cell_type": "code",
   "execution_count": 5,
   "metadata": {
    "ExecuteTime": {
     "end_time": "2019-10-29T17:11:07.394645Z",
     "start_time": "2019-10-29T17:10:46.043366Z"
    }
   },
   "outputs": [
    {
     "name": "stdout",
     "output_type": "stream",
     "text": [
      "loading existing mexico tower voronoi file: data/mex_tw_intpl/voronoi.geojson\n"
     ]
    }
   ],
   "source": [
    "zms = region.mpa_all(to_4326=True)\n",
    "zms = zms.iloc[:10]\n",
    "mun_ids = list(chain(*zms.mun_ids.apply(lambda x: x.split(',')).tolist()))\n",
    "\n",
    "zms_agebs = region.agebs(mun_ids,to_4326=True)\n",
    "\n",
    "tvor = tower.voronoi(to_4326=True)\n",
    "tvor_x_zms = tower.voronoi_x_region('mpa')\n",
    "tvor_x_zms = tvor_x_zms[tvor_x_zms.CVE_SUN.isin(zms.index.astype(str))]\n",
    "zms_tvors= tvor.loc[set(tvor_x_zms.gtid)]"
   ]
  },
  {
   "cell_type": "code",
   "execution_count": 6,
   "metadata": {
    "ExecuteTime": {
     "end_time": "2019-10-29T17:11:09.002867Z",
     "start_time": "2019-10-29T17:11:07.396083Z"
    }
   },
   "outputs": [],
   "source": [
    "t_pts = tower.pts(to_4326=True)\n",
    "t_pts.geometry = t_pts.buffer(0.001, resolution=2)\n",
    "t_pts.set_index('gtid',inplace=True)\n",
    "zms_t_pts = t_pts.loc[zms_tvors.index]"
   ]
  },
  {
   "cell_type": "markdown",
   "metadata": {},
   "source": [
    "# mpa to localidads"
   ]
  },
  {
   "cell_type": "code",
   "execution_count": null,
   "metadata": {},
   "outputs": [],
   "source": [
    "\n",
    "print('building map')\n",
    "m = folium.Map(location=[mex.clat, mex.clon], zoom_start=5)\n",
    "mvis.geojson_per_row(zms, name='metro', tip_cols=['NOM_SUN', 'CVE_SUN', 'pobtot'], color='grey', some_map=m)\n",
    "mvis.geojson_per_row(mgm_zms, name='mgm', tip_cols=['NOM_MUN', 'mun_id'], color='yellow', some_map=m)\n",
    "mvis.geojson_per_row(mglu_zms, name='mglu_zms', tip_cols=['CVE_SUN', 'NOM_LOC', 'mun_id', 'loc_id', 'pobtot'],\n",
    "                     color='green', some_map=m)\n",
    "mvis.geojson_per_row(mglr_zms, name='mglr_zms', tip_cols=['NOM_LOC', 'mun_id', 'loc_id', 'pobtot'], color='green',\n",
    "                     some_map=m)\n",
    "\n",
    "folium.LayerControl().add_to(m)\n",
    "m.save('maps/Mex zms to localidads.html')\n"
   ]
  },
  {
   "cell_type": "markdown",
   "metadata": {},
   "source": [
    "# idw vs grid_by_area"
   ]
  },
  {
   "cell_type": "code",
   "execution_count": 14,
   "metadata": {
    "ExecuteTime": {
     "end_time": "2019-10-29T17:13:15.074809Z",
     "start_time": "2019-10-29T17:13:15.044588Z"
    }
   },
   "outputs": [],
   "source": [
    "import pandas as pd"
   ]
  },
  {
   "cell_type": "code",
   "execution_count": 15,
   "metadata": {
    "ExecuteTime": {
     "end_time": "2019-10-29T17:13:15.250765Z",
     "start_time": "2019-10-29T17:13:15.226569Z"
    }
   },
   "outputs": [],
   "source": [
    "import src.utils.idw as idw"
   ]
  },
  {
   "cell_type": "code",
   "execution_count": 16,
   "metadata": {
    "ExecuteTime": {
     "end_time": "2019-10-29T17:13:17.487298Z",
     "start_time": "2019-10-29T17:13:15.429775Z"
    }
   },
   "outputs": [
    {
     "name": "stdout",
     "output_type": "stream",
     "text": [
      "loading cached tw average stats/stat_tw_dow_aver_hr_uniq_user-out+in.pickle\n"
     ]
    }
   ],
   "source": [
    "call_direction = 'out+in'\n",
    "aver = mex_helper.stat_tw_dow_aver_hr_uniq_user(call_direction)\n",
    "tw_avg = pd.DataFrame(aver['wd']).T"
   ]
  },
  {
   "cell_type": "code",
   "execution_count": 61,
   "metadata": {
    "ExecuteTime": {
     "end_time": "2019-10-29T18:08:02.528807Z",
     "start_time": "2019-10-29T18:08:02.495915Z"
    }
   },
   "outputs": [],
   "source": [
    "zms_t_pts['t12'] = tw_avg['12']\n",
    "\n",
    "zms_t_pts['t12'].fillna(0,inplace=True)"
   ]
  },
  {
   "cell_type": "code",
   "execution_count": 19,
   "metadata": {
    "ExecuteTime": {
     "end_time": "2019-10-29T17:25:43.927529Z",
     "start_time": "2019-10-29T17:25:43.765808Z"
    }
   },
   "outputs": [
    {
     "name": "stdout",
     "output_type": "stream",
     "text": [
      "to_map_grids loading existing file data/mex_tw_intpl/tower_to_mpa_g2000_by_area.csv\n"
     ]
    }
   ],
   "source": [
    "t2g2000_area = tw_int.to_mpa_grids(2000, by='area', per_mun=False)\n",
    "t2g2000_area.set_index('grid', inplace=True)\n",
    "avg_g2000_area = tw_int.interpolate_stats(tw_avg, t2g2000_area)"
   ]
  },
  {
   "cell_type": "code",
   "execution_count": 57,
   "metadata": {
    "ExecuteTime": {
     "end_time": "2019-10-29T18:07:49.575591Z",
     "start_time": "2019-10-29T18:07:49.291603Z"
    }
   },
   "outputs": [
    {
     "name": "stdout",
     "output_type": "stream",
     "text": [
      "interpolate_idw loading existing file data/mex_tw_intpl/interpolate_idw10_g2000.csv\n"
     ]
    }
   ],
   "source": [
    "avg_idw2000 = tw_int.interpolate_idw(tw_avg, 2000, per_mun=False)"
   ]
  },
  {
   "cell_type": "code",
   "execution_count": 21,
   "metadata": {
    "ExecuteTime": {
     "end_time": "2019-10-29T17:27:36.900416Z",
     "start_time": "2019-10-29T17:27:25.770622Z"
    }
   },
   "outputs": [
    {
     "name": "stdout",
     "output_type": "stream",
     "text": [
      "reading existing grids\n"
     ]
    }
   ],
   "source": [
    "zms_g2000 = region.mpa_grids(2000,per_mun=False)"
   ]
  },
  {
   "cell_type": "code",
   "execution_count": null,
   "metadata": {},
   "outputs": [],
   "source": [
    "\n",
    "tws_mex = mex.tower.pts()\n",
    "zms_mex = region.mpa_all()\n",
    "tws_x_zms = gp.sjoin(tws_mex, zms_mex)[['gtid', 'index_right']]"
   ]
  },
  {
   "cell_type": "code",
   "execution_count": 17,
   "metadata": {
    "ExecuteTime": {
     "end_time": "2019-10-29T17:13:21.756205Z",
     "start_time": "2019-10-29T17:13:21.607124Z"
    }
   },
   "outputs": [
    {
     "name": "stdout",
     "output_type": "stream",
     "text": [
      "computing weight for each SUN\n"
     ]
    }
   ],
   "source": [
    "import geopandas as gp\n",
    "import numpy as np\n",
    "print('computing weight for each SUN')\n",
    "gs_avg = []\n",
    "for sun in zms_g2000.CVE_SUN.unique():\n",
    "    \n",
    "    zm_grids = zms_g2000[zms_g2000.CVE_SUN == sun]\n",
    "    zm_tws = tws_mex[tws_mex.gtid.isin(tws_x_zms[tws_x_zms.index_right == sun].gtid)]\n",
    "    zm_g_coords = np.array(zm_grids.geometry.apply(lambda x: x.centroid.coords[0]).tolist())\n",
    "    zm_t_coords = np.array(zm_tws.geometry.apply(lambda x: x.coords[0]).tolist())\n",
    "    idw_tree = idw.tree(zm_t_coords, tw_avg.reindex(zm_tws.gtid, fill_value=0)['12'])\n",
    "    k = 10 if len(zm_t_coords)>10 else len(zm_t_coords)\n",
    "    g_avg = pd.DataFrame(idw_tree(zm_g_coords,k=k), index=zm_grids.index)\n",
    "    gs_avg.append(g_avg)\n",
    "    break\n",
    "\n"
   ]
  },
  {
   "cell_type": "code",
   "execution_count": 58,
   "metadata": {
    "ExecuteTime": {
     "end_time": "2019-10-29T18:07:54.167163Z",
     "start_time": "2019-10-29T18:07:54.138951Z"
    }
   },
   "outputs": [],
   "source": [
    "zms_g2000['g_area'] = avg_g2000_area['12']\n",
    "zms_g2000['idw_k10'] = avg_idw2000['12']\n"
   ]
  },
  {
   "cell_type": "code",
   "execution_count": 59,
   "metadata": {
    "ExecuteTime": {
     "end_time": "2019-10-29T18:07:55.056255Z",
     "start_time": "2019-10-29T18:07:54.755489Z"
    }
   },
   "outputs": [],
   "source": [
    "zm13_g2000 = zms_g2000[zms_g2000.CVE_SUN==13].to_crs(epsg=4326)\n",
    "zm13_g2000['g_area_norm'] = zm13_g2000.g_area/zm13_g2000.g_area.max()\n",
    "zm13_g2000['idw_k10_norm'] = zm13_g2000.idw_k10/zm13_g2000.idw_k10.max()"
   ]
  },
  {
   "cell_type": "code",
   "execution_count": 63,
   "metadata": {
    "ExecuteTime": {
     "end_time": "2019-10-29T18:08:15.902925Z",
     "start_time": "2019-10-29T18:08:03.264705Z"
    }
   },
   "outputs": [
    {
     "name": "stdout",
     "output_type": "stream",
     "text": [
      "building map\n"
     ]
    }
   ],
   "source": [
    "\n",
    "print('building map')\n",
    "m = folium.Map(location=[mex.clat, mex.clon], zoom_start=5)\n",
    "mvis.geojson_per_row(zms.reset_index(), name='metro', tip_cols=['NOM_SUN', 'CVE_SUN', 'pobtot'], color='grey', some_map=m)\n",
    "mvis.geojson_per_row_color_col(zm13_g2000.reset_index(), name='zm13_g2000_area', tip_cols=['grid', 'CVE_SUN', 'g_area', 'idw_k10'], color_col='g_area_norm', some_map=m)\n",
    "mvis.geojson_per_row_color_col(zm13_g2000.reset_index() , name='zm13_g2000_idw_k10', tip_cols=['grid', 'CVE_SUN', 'g_area', 'idw_k10'], color_col='idw_k10_norm', some_map=m)\n",
    "\n",
    "mvis.geojson_per_row_color_col(zms_t_pts.reset_index(), name='tower', tip_cols=['gtid','lonlat','t12'], some_map=m)\n",
    "\n",
    "\n",
    "folium.LayerControl().add_to(m)\n",
    "m.save('maps/Mex zms grids idw.html')\n"
   ]
  },
  {
   "cell_type": "markdown",
   "metadata": {},
   "source": [
    "# tower interpolation to agebs"
   ]
  },
  {
   "cell_type": "code",
   "execution_count": 57,
   "metadata": {
    "ExecuteTime": {
     "end_time": "2019-10-16T17:57:23.113244Z",
     "start_time": "2019-10-16T17:56:58.840060Z"
    }
   },
   "outputs": [],
   "source": [
    "tvor_x_agebs = tower.voronoi_x_region('mga')\n",
    "covered = tvor_x_agebs[tvor_x_agebs.gtid.isin(zms_tvors.index)]\n",
    "covered_ageb_ids = covered.ageb_id.unique()\n",
    "covered_loc_ids = sorted(set([aid[:9] for aid in covered_ageb_ids]))\n",
    "covered_mun_ids = sorted(set([aid[:5] for aid in covered_ageb_ids]))\n",
    "covered_agebs = region.agebs(mun_ids=covered_mun_ids, loc_ids=covered_loc_ids, to_4326=True)"
   ]
  },
  {
   "cell_type": "code",
   "execution_count": 58,
   "metadata": {
    "ExecuteTime": {
     "end_time": "2019-10-16T17:57:23.154048Z",
     "start_time": "2019-10-16T17:57:23.119280Z"
    }
   },
   "outputs": [],
   "source": [
    "extra_agebs = covered_agebs.loc[set(covered_agebs.index) - set(zms_agebs.index)]"
   ]
  },
  {
   "cell_type": "code",
   "execution_count": 84,
   "metadata": {
    "ExecuteTime": {
     "end_time": "2019-10-16T18:07:51.447099Z",
     "start_time": "2019-10-16T18:07:51.222145Z"
    }
   },
   "outputs": [
    {
     "name": "stdout",
     "output_type": "stream",
     "text": [
      "to_map_agebs loading existing file data/mex_tw_intpl/tower_to_mpa_agebs_by_area.csv\n",
      "to_map_agebs loading existing file data/mex_tw_intpl/tower_to_mpa_agebs_by_pop.csv\n"
     ]
    }
   ],
   "source": [
    "t2ageb_area = tw_int.to_mpa_agebs('area')\n",
    "t2ageb_pop = tw_int.to_mpa_agebs('pop')\n",
    "zms_t_pts['weight_area']=t2ageb_area.groupby('tower').weight.sum()\n",
    "zms_t_pts['weight_pop']=t2ageb_pop.groupby('tower').weight.sum()"
   ]
  },
  {
   "cell_type": "code",
   "execution_count": 95,
   "metadata": {
    "ExecuteTime": {
     "end_time": "2019-10-16T18:18:00.833445Z",
     "start_time": "2019-10-16T18:16:41.260031Z"
    }
   },
   "outputs": [],
   "source": [
    "\n",
    "m = folium.Map(location=[mex.clat, mex.clon], zoom_start=5)\n",
    "mvis.geojson_per_row(zms.reset_index(), name='metro', tip_cols=['NOM_SUN', 'CVE_SUN', 'pobtot'], color='grey', some_map=m)\n",
    "mvis.geojson_per_row(zms_agebs.reset_index(), name='agebs', tip_cols=['ageb_id', 'pobtot'], color='green', some_map=m)\n",
    "mvis.geojson_per_row(extra_agebs.reset_index(), name='extra_agebs', tip_cols=['ageb_id', 'pobtot'], color='red', some_map=m)\n",
    "mvis.geojson_per_row(zms_tvors.reset_index(), name='tvor', tip_cols=['gtid'], color='blue', some_map=m)\n",
    "mvis.geojson_per_row_color_col(zms_t_pts[~zms_t_pts.weight_pop.isnull()].reset_index(), name='tower', tip_cols=['gtid','weight_area', 'weight_pop','lonlat'], color_col='weight_pop', some_map=m)\n",
    "mvis.geojson_per_row(zms_t_pts[zms_t_pts.weight_pop.isnull()].reset_index(), name='tower_no_weight', tip_cols=['gtid','weight_area', 'weight_pop','lonlat'], some_map=m)\n",
    "\n",
    "\n",
    "folium.LayerControl().add_to(m)\n",
    "m.save('maps/Mex tower to mpa ageb.html')"
   ]
  },
  {
   "cell_type": "markdown",
   "metadata": {},
   "source": [
    "# grids and mun"
   ]
  },
  {
   "cell_type": "code",
   "execution_count": 5,
   "metadata": {
    "ExecuteTime": {
     "end_time": "2019-10-25T19:22:41.113646Z",
     "start_time": "2019-10-25T19:20:29.550617Z"
    }
   },
   "outputs": [
    {
     "name": "stdout",
     "output_type": "stream",
     "text": [
      "reading existing grids\n",
      "reading existing grids\n",
      "dividing grids by municipality\n",
      "computing the intersection between p1 grid and p2 mgmu\n",
      "computing area of the intersections\n",
      "computing the weight\n"
     ]
    }
   ],
   "source": [
    "zms_g1000 = region.mpa_grids(1000,per_mun=False)\n",
    "zms_g1000_mun = region.mpa_grids(1000,per_mun=True)"
   ]
  },
  {
   "cell_type": "code",
   "execution_count": 12,
   "metadata": {
    "ExecuteTime": {
     "end_time": "2019-10-25T19:26:43.243287Z",
     "start_time": "2019-10-25T19:26:02.723812Z"
    }
   },
   "outputs": [
    {
     "name": "stdout",
     "output_type": "stream",
     "text": [
      "reading existing grids\n",
      "reading existing grids\n",
      "dividing grids by municipality\n",
      "computing the intersection between p1 grid and p2 mgmu\n",
      "computing area of the intersections\n",
      "computing the weight\n"
     ]
    }
   ],
   "source": [
    "zms_g2000 = region.mpa_grids(2000,per_mun=False,to_4326=True)\n",
    "zms_g2000_mun = region.mpa_grids(2000,per_mun=True,to_4326=True)"
   ]
  },
  {
   "cell_type": "code",
   "execution_count": 14,
   "metadata": {
    "ExecuteTime": {
     "end_time": "2019-10-25T19:29:12.913348Z",
     "start_time": "2019-10-25T19:27:16.708439Z"
    }
   },
   "outputs": [
    {
     "name": "stdout",
     "output_type": "stream",
     "text": [
      "building map\n"
     ]
    }
   ],
   "source": [
    "\n",
    "print('building map')\n",
    "m = folium.Map(location=[mex.clat, mex.clon], zoom_start=5)\n",
    "mvis.geojson_per_row(zms.reset_index(), name='metro', tip_cols=['NOM_SUN', 'CVE_SUN', 'pobtot'], color='grey', some_map=m)\n",
    "mvis.geojson_per_row(mgm_zms.reset_index(), name='mgm', tip_cols=['NOM_MUN', 'mun_id'], color='yellow', some_map=m)\n",
    "mvis.geojson_per_row(zms_g2000_mun.reset_index(), name='zms_g2000_mun', tip_cols=['grid', 'CVE_SUN', 'mun_id'], color='blue', some_map=m)\n",
    "mvis.geojson_per_row(zms_g2000.reset_index(), name='zms_g2000', tip_cols=['grid', 'CVE_SUN'], color='green', some_map=m)\n",
    "\n",
    "\n",
    "folium.LayerControl().add_to(m)\n",
    "m.save('maps/Mex zms grids per mun.html')\n"
   ]
  },
  {
   "cell_type": "code",
   "execution_count": null,
   "metadata": {},
   "outputs": [],
   "source": []
  }
 ],
 "metadata": {
  "kernelspec": {
   "display_name": "Python [conda env:mob2crime]",
   "language": "python",
   "name": "conda-env-mob2crime-py"
  },
  "language_info": {
   "codemirror_mode": {
    "name": "ipython",
    "version": 3
   },
   "file_extension": ".py",
   "mimetype": "text/x-python",
   "name": "python",
   "nbconvert_exporter": "python",
   "pygments_lexer": "ipython3",
   "version": "3.7.3"
  },
  "toc": {
   "base_numbering": 1,
   "nav_menu": {},
   "number_sections": true,
   "sideBar": true,
   "skip_h1_title": false,
   "title_cell": "Table of Contents",
   "title_sidebar": "Contents",
   "toc_cell": false,
   "toc_position": {},
   "toc_section_display": true,
   "toc_window_display": false
  }
 },
 "nbformat": 4,
 "nbformat_minor": 2
}
