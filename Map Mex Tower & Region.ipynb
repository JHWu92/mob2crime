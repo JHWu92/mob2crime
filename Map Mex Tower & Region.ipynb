{
 "cells": [
  {
   "cell_type": "code",
   "execution_count": 1,
   "metadata": {
    "ExecuteTime": {
     "end_time": "2019-10-16T00:01:13.196351Z",
     "start_time": "2019-10-16T00:01:12.034374Z"
    }
   },
   "outputs": [],
   "source": [
    "import os\n",
    "import sys\n",
    "from itertools import chain\n",
    "\n",
    "import folium\n",
    "\n",
    "import src.mex as mex\n",
    "import src.mex.regions2010 as region\n",
    "import src.utils.map_vis as mvis\n",
    "\n",
    "if not os.getcwd().endswith('mob2crime'):\n",
    "    os.chdir('..')\n"
   ]
  },
  {
   "cell_type": "markdown",
   "metadata": {},
   "source": [
    "# mpa to localidads"
   ]
  },
  {
   "cell_type": "code",
   "execution_count": null,
   "metadata": {},
   "outputs": [],
   "source": [
    "\n",
    "zms = region.mpa_all(to_4326=True)\n",
    "mun_ids = list(chain(*zms.mun_ids.apply(lambda x: x.split(',')).tolist()))\n",
    "mgm_zms = region.municipalities(mun_ids, to_4326=True)\n",
    "mglu_zms = region.mpa_urban_per_municipality(to_4326=True)\n",
    "mglr_zms = region.locs_rural(mun_ids, to_4326=True)\n",
    "\n",
    "print('building map')\n",
    "m = folium.Map(location=[mex.clat, mex.clon], zoom_start=5)\n",
    "mvis.geojson_per_row(zms, name='metro', tip_cols=['NOM_SUN', 'CVE_SUN', 'pobtot'], color='grey', some_map=m)\n",
    "mvis.geojson_per_row(mgm_zms, name='mgm', tip_cols=['NOM_MUN', 'mun_id'], color='yellow', some_map=m)\n",
    "mvis.geojson_per_row(mglu_zms, name='mglu_zms', tip_cols=['CVE_SUN', 'NOM_LOC', 'mun_id', 'loc_id', 'pobtot'],\n",
    "                     color='green', some_map=m)\n",
    "mvis.geojson_per_row(mglr_zms, name='mglr_zms', tip_cols=['NOM_LOC', 'mun_id', 'loc_id', 'pobtot'], color='green',\n",
    "                     some_map=m)\n",
    "\n",
    "folium.LayerControl().add_to(m)\n",
    "m.save('maps/Mex zms to localidads.html')\n"
   ]
  }
 ],
 "metadata": {
  "kernelspec": {
   "display_name": "Python [conda env:mob2crime]",
   "language": "python",
   "name": "conda-env-mob2crime-py"
  },
  "language_info": {
   "codemirror_mode": {
    "name": "ipython",
    "version": 3
   },
   "file_extension": ".py",
   "mimetype": "text/x-python",
   "name": "python",
   "nbconvert_exporter": "python",
   "pygments_lexer": "ipython3",
   "version": "3.7.3"
  },
  "toc": {
   "base_numbering": 1,
   "nav_menu": {},
   "number_sections": true,
   "sideBar": true,
   "skip_h1_title": false,
   "title_cell": "Table of Contents",
   "title_sidebar": "Contents",
   "toc_cell": false,
   "toc_position": {},
   "toc_section_display": true,
   "toc_window_display": false
  }
 },
 "nbformat": 4,
 "nbformat_minor": 2
}
