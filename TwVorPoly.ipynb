{
 "cells": [
  {
   "cell_type": "code",
   "execution_count": 1,
   "metadata": {},
   "outputs": [],
   "source": [
    "% load_ext autoreload\n",
    "% autoreload 2\n"
   ]
  },
  {
   "cell_type": "code",
   "execution_count": 2,
   "metadata": {},
   "outputs": [
    {
     "data": {
      "text/plain": [
       "'/home/Jiahui/mob2crime'"
      ]
     },
     "execution_count": 2,
     "metadata": {},
     "output_type": "execute_result"
    }
   ],
   "source": [
    "import os\n",
    "\n",
    "if not os.getcwd().endswith('mob2crime'):\n",
    "    os.chdir('..')\n",
    "os.getcwd()"
   ]
  },
  {
   "cell_type": "code",
   "execution_count": 3,
   "metadata": {},
   "outputs": [],
   "source": [
    "import pandas as pd\n",
    "import numpy as np\n",
    "import geopandas as gp\n",
    "import folium\n",
    "from scipy.spatial import Voronoi, voronoi_plot_2d\n",
    "\n",
    "from src.utils.gis import *\n",
    "from src.utils.map_vis import *\n",
    "import src.mex_helper as mex"
   ]
  },
  {
   "cell_type": "markdown",
   "metadata": {},
   "source": [
    "# Mexico tw2city"
   ]
  },
  {
   "cell_type": "markdown",
   "metadata": {},
   "source": [
    "## all tower polygons"
   ]
  },
  {
   "cell_type": "code",
   "execution_count": 4,
   "metadata": {},
   "outputs": [
    {
     "name": "stdout",
     "output_type": "stream",
     "text": [
      "1    5731\n",
      "Name: gtid, dtype: int64\n"
     ]
    }
   ],
   "source": [
    "# get tower points\n",
    "mex_tower = mex.tower()\n",
    "# voronoi polygons across mexico\n",
    "tw_vor_polys = lonlats2vorpolys(mex_tower.lonlat.tolist(),dataframe=True)\n",
    "tw_vor_polys['gtid'] = mex_tower.gtid\n",
    "tw_vor_polys.crs = mex_tower.crs\n",
    "print(tw_vor_polys.gtid.value_counts().value_counts())\n",
    "tw_vor_polys.set_index('gtid', inplace=True)"
   ]
  },
  {
   "cell_type": "code",
   "execution_count": 6,
   "metadata": {},
   "outputs": [],
   "source": [
    "# plot the vor polygons\n",
    "# some_map = folium.Map(location=[19.381495, -99.139095], zoom_start=8)\n",
    "# geojson_per_row(tw_vor_polys, 'vor', color='yellow', tip_cols=['gtid'],some_map=some_map)\n",
    "# point_per_row(towers_shp, 'tower', tip_cols=['gtid'],some_map=some_map)\n",
    "\n",
    "# folium.LayerControl().add_to(some_map)\n",
    "# some_map.save('tmp/mexico_voronoi.html')"
   ]
  },
  {
   "cell_type": "markdown",
   "metadata": {},
   "source": [
    "## tower polygons within cities(or other given regions)"
   ]
  },
  {
   "cell_type": "code",
   "execution_count": 7,
   "metadata": {},
   "outputs": [],
   "source": [
    "mex_cities = mex.cities()"
   ]
  },
  {
   "cell_type": "code",
   "execution_count": 8,
   "metadata": {},
   "outputs": [],
   "source": [
    "# intesect city polygons and tower polygons, \n",
    "# default weight=1 (the percentage of stats in that tower to be assigned to that city)\n",
    "mex_t2c = gp.sjoin(tw_vor_polys, mex_cities)\n",
    "mex_t2c['weight'] = 1"
   ]
  },
  {
   "cell_type": "code",
   "execution_count": 9,
   "metadata": {},
   "outputs": [],
   "source": [
    "num_cities_per_tower = mex_t2c.groupby(level=0)['index_right'].count()\n",
    "t_m_c = num_cities_per_tower[num_cities_per_tower>1]\n",
    "t1c = num_cities_per_tower[num_cities_per_tower==1]"
   ]
  },
  {
   "cell_type": "code",
   "execution_count": 10,
   "metadata": {},
   "outputs": [],
   "source": [
    "# for the tower polygons intersecting with multiple cities\n",
    "# compute the area of each intersection\n",
    "# divide the weight by the percentage of area\n",
    "itxns = []\n",
    "for gtid, row in mex_t2c.loc[t_m_c.index].iterrows():\n",
    "    itxn = mex_cities.loc[row.index_right].geometry.intersection(tw_vor_polys.loc[gtid].geometry)\n",
    "    itxns.append({'gtid': gtid, 'cname': row.index_right, 'geometry': itxn})\n",
    "itxns = gp.GeoDataFrame(itxns)\n",
    "\n",
    "itxns.crs = mex_cities.crs\n",
    "itxns = itxns.to_crs(epsg=6362)\n",
    "itxns['area'] = itxns.geometry.apply(lambda x: x.area)\n",
    "\n",
    "itxns['weight'] = itxns.groupby('gtid').apply(lambda x: x.area/x.area.sum()).sort_index(level=1).values"
   ]
  },
  {
   "cell_type": "code",
   "execution_count": 11,
   "metadata": {},
   "outputs": [],
   "source": [
    "columns = ['gtid','cname','weight']\n",
    "tmp = mex_t2c.loc[t1c.index][['index_right','weight']].reset_index()\n",
    "tmp.columns=columns\n",
    "t_in_c = tmp.append(itxns[columns])\n",
    "t_in_c['geometry'] = t_in_c.apply(lambda x: tw_vor_polys.loc[x.gtid].geometry.intersection(mex_cities.loc[x.cname].geometry), axis=1)\n",
    "t_in_c = gp.GeoDataFrame(t_in_c)"
   ]
  },
  {
   "cell_type": "code",
   "execution_count": 12,
   "metadata": {},
   "outputs": [],
   "source": [
    "# plot the vor polygons in cities\n",
    "some_map = folium.Map(location=[19.381495, -99.139095], zoom_start=8)\n",
    "geojson_per_row(mex_cities.reset_index(), 'city', color='red', tip_cols=['cname','population'],some_map=some_map)\n",
    "geojson_per_row(t_in_c, 'vor', color='yellow', tip_cols=['gtid','cname','weight'],some_map=some_map)\n",
    "point_per_row(mex_tower[mex_tower.gtid.isin(t_in_c.gtid)].reset_index(), 'tower', tip_cols=['gtid'],some_map=some_map)\n",
    "\n",
    "folium.LayerControl().add_to(some_map)\n",
    "some_map.save('data/tower_in_cities_mexico.html')"
   ]
  },
  {
   "cell_type": "code",
   "execution_count": 14,
   "metadata": {},
   "outputs": [],
   "source": [
    "t_in_c.to_file('data/tower_in_cities_mexico.geojson', driver='GeoJSON')"
   ]
  },
  {
   "cell_type": "code",
   "execution_count": 18,
   "metadata": {},
   "outputs": [
    {
     "data": {
      "text/plain": [
       "cname\n",
       "Valle de Mexico, Distrito Federal    643\n",
       "Monterrey, Nuevo León                326\n",
       "Guadalajara, Jalisco                 269\n",
       "Tijuana, Baja California             186\n",
       "Mexicali, Baja California            112\n",
       "Toluca de Lerdo, México               79\n",
       "Cuernavaca, Morelos                   79\n",
       "Chihuahua, Chihuahua                  74\n",
       "Juárez, Chihuahua                     71\n",
       "Acapulco de Juárez, Guerrero          68\n",
       "Cancún, Quintana Roo                  62\n",
       "Morelia, Michoacán de Ocampo          55\n",
       "Villahermosa, Tabasco                 45\n",
       "Nuevo Laredo, Tamaulipas              43\n",
       "Culiacán Rosales, Sinaloa             41\n",
       "Oaxaca de Juárez, Oaxaca              39\n",
       "Name: gtid, dtype: int64"
      ]
     },
     "execution_count": 18,
     "metadata": {},
     "output_type": "execute_result"
    }
   ],
   "source": [
    "t_in_c.groupby('cname')['gtid'].count().sort_values(ascending=False)"
   ]
  }
 ],
 "metadata": {
  "kernelspec": {
   "display_name": "Python [default]",
   "language": "python",
   "name": "python3"
  },
  "language_info": {
   "codemirror_mode": {
    "name": "ipython",
    "version": 3
   },
   "file_extension": ".py",
   "mimetype": "text/x-python",
   "name": "python",
   "nbconvert_exporter": "python",
   "pygments_lexer": "ipython3",
   "version": "3.6.6"
  }
 },
 "nbformat": 4,
 "nbformat_minor": 2
}
