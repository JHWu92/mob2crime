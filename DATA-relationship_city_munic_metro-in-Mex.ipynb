{
 "cells": [
  {
   "cell_type": "code",
   "execution_count": 1,
   "metadata": {},
   "outputs": [],
   "source": [
    "import pandas as pd\n",
    "import geopandas as gp\n",
    "from src.utils.map_vis import geojson_per_row\n",
    "import folium"
   ]
  },
  {
   "cell_type": "markdown",
   "metadata": {},
   "source": [
    "# load localidades"
   ]
  },
  {
   "cell_type": "code",
   "execution_count": 2,
   "metadata": {},
   "outputs": [],
   "source": [
    "mex_localidades = gp.read_file('data/localidades_mexico_16.geojson')"
   ]
  },
  {
   "cell_type": "markdown",
   "metadata": {},
   "source": [
    "# load municipalities covering localidades"
   ]
  },
  {
   "cell_type": "code",
   "execution_count": 3,
   "metadata": {},
   "outputs": [],
   "source": [
    "from src.utils import fix_spanish_encoding"
   ]
  },
  {
   "cell_type": "code",
   "execution_count": 4,
   "metadata": {},
   "outputs": [],
   "source": [
    "# http://www.inegi.org.mx/geo/contenidos/geoestadistica/m_g_0.aspx\n",
    "shp_urban = gp.read_file('data/mexico/mglu2014v6_2/mglu2015v6_2.shp')\n",
    "shp_state = gp.read_file('data/mexico/mge2014v6_2/mge2015v6_2.shp')\n",
    "shp_munic = gp.read_file('data/mexico/mgm2014v6_2/mgm2015v6_2.shp')\n",
    "\n",
    "# get Urban id\n",
    "shp_urban.NOM_LOC = shp_urban.NOM_LOC.apply(fix_spanish_encoding)\n",
    "shp_urban['URBAN_ID'] = shp_urban.CVE_ENT + shp_urban.CVE_MUN + shp_urban.CVE_LOC\n",
    "\n",
    "# get the full data frame\n",
    "shp_all = shp_urban.merge(shp_state.drop('geometry', axis=1)).merge(shp_munic.drop('geometry', axis=1))"
   ]
  },
  {
   "cell_type": "code",
   "execution_count": 5,
   "metadata": {},
   "outputs": [
    {
     "name": "stdout",
     "output_type": "stream",
     "text": [
      "Warning: CRS does not match!\n"
     ]
    }
   ],
   "source": [
    "munic_localidades_pairs = gp.sjoin(shp_munic, mex_localidades)['index_right'].reset_index()"
   ]
  },
  {
   "cell_type": "code",
   "execution_count": 6,
   "metadata": {},
   "outputs": [],
   "source": [
    "def get_inx_area(row):\n",
    "    m = shp_munic.loc[row['index']].geometry\n",
    "    c = mex_localidades.loc[row['index_right']].geometry\n",
    "    return m.intersection(c).area"
   ]
  },
  {
   "cell_type": "code",
   "execution_count": 7,
   "metadata": {},
   "outputs": [],
   "source": [
    "munic_localidades_pairs['inx_area'] = munic_localidades_pairs.apply(get_inx_area, axis=1)"
   ]
  },
  {
   "cell_type": "code",
   "execution_count": 8,
   "metadata": {
    "scrolled": true
   },
   "outputs": [],
   "source": [
    "mindices = munic_localidades_pairs[munic_localidades_pairs.inx_area>1e-4]"
   ]
  },
  {
   "cell_type": "code",
   "execution_count": 9,
   "metadata": {
    "scrolled": true
   },
   "outputs": [],
   "source": [
    "munic_intersecting_cities = shp_munic.loc[mindices['index']]"
   ]
  },
  {
   "cell_type": "markdown",
   "metadata": {},
   "source": [
    "# load metro areas with the names of the localidades"
   ]
  },
  {
   "cell_type": "code",
   "execution_count": 10,
   "metadata": {},
   "outputs": [],
   "source": [
    "from shapely.ops import cascaded_union"
   ]
  },
  {
   "cell_type": "code",
   "execution_count": 11,
   "metadata": {},
   "outputs": [],
   "source": [
    "metro = gp.read_file('data/mexico/Mapa_de_delimitacion_de_zonas_metropolitanas_2010/ZM_2010.shp')\n",
    "sun_ids = [31, 21, 32, 28, 24, 11, 12, 41, 37, 3, 17,2,25,45]\n",
    "sun_names = ['Monterrey, Nuevo León', 'Guadalajara, Jalisco', 'Oaxaca de Juárez, Oaxaca', 'Cuernavaca, Morelos', 'Toluca de Lerdo, México', 'Juárez, Chihuahua', 'Chihuahua, Chihuahua', 'Villahermosa, Tabasco', 'Cancún, Quintana Roo', 'Mexicali, Baja California', 'Acapulco de Juárez, Guerrero', 'Tijuana, Baja California', 'Morelia, Michoacán de Ocampo', 'Nuevo Laredo, Tamaulipas','Culiacán Rosales, Sinaloa', 'Valle de Mexico, Distrito Federal']"
   ]
  },
  {
   "cell_type": "code",
   "execution_count": 12,
   "metadata": {},
   "outputs": [],
   "source": [
    "suns = []\n",
    "for cve,name in zip(sun_ids,sun_names):\n",
    "    sun = metro[metro.CVE_SUN==cve]\n",
    "    geometry = cascaded_union(sun.geometry.tolist())\n",
    "    pob = sun.POB_2010.sum()\n",
    "    suns.append({'name': name, 'cve_sun': cve, 'population': pob, 'nom_sun':sun.NOM_SUN.unique()[0], 'geometry':geometry})\n",
    "#     break\n",
    "\n",
    "sun = metro[(metro.CVE_SUN==13) & (metro.CVE_ENT=='09')]\n",
    "geometry = cascaded_union(sun.geometry.tolist())\n",
    "pob = sun.POB_2010.sum()\n",
    "suns.append({'name': sun_names[-1], 'cve_sun': 13, 'population': pob, 'nom_sun':sun.NOM_SUN.unique()[0], 'geometry':geometry})\n",
    "\n",
    "suns=gp.GeoDataFrame(suns)\n",
    "\n",
    "suns.crs = metro.crs\n",
    "\n",
    "suns = suns.to_crs(epsg=4326)"
   ]
  },
  {
   "cell_type": "code",
   "execution_count": 13,
   "metadata": {
    "scrolled": true
   },
   "outputs": [],
   "source": [
    "# metro[(metro.CVE_SUN==13) & (metro.CVE_ENT=='09')]"
   ]
  },
  {
   "cell_type": "code",
   "execution_count": 15,
   "metadata": {},
   "outputs": [],
   "source": [
    "some_map = folium.Map(location=[24.062199, -102.870324], zoom_start=5)\n",
    "geojson_per_row(suns, name='metropolitan-yellow', color='yellow', tip_cols=['name','population'], some_map=some_map)\n",
    "geojson_per_row(munic_intersecting_cities, name='munics-red', color='red', tip_cols=['NOM_MUN','CVE_ENT','CVE_MUN',], some_map=some_map)\n",
    "geojson_per_row(mex_localidades, name='cities-blue', tip_cols=['URBAN_ID', 'NOM_ENT', 'NOM_MUN','NOM_LOC',], some_map=some_map)\n",
    "\n",
    "folium.LayerControl().add_to(some_map)\n",
    "some_map.save('tmp/mexico locali and munics and metro.html')"
   ]
  },
  {
   "cell_type": "code",
   "execution_count": null,
   "metadata": {},
   "outputs": [],
   "source": []
  }
 ],
 "metadata": {
  "kernelspec": {
   "display_name": "Python [default]",
   "language": "python",
   "name": "python3"
  },
  "language_info": {
   "codemirror_mode": {
    "name": "ipython",
    "version": 3
   },
   "file_extension": ".py",
   "mimetype": "text/x-python",
   "name": "python",
   "nbconvert_exporter": "python",
   "pygments_lexer": "ipython3",
   "version": "3.6.6"
  }
 },
 "nbformat": 4,
 "nbformat_minor": 2
}
