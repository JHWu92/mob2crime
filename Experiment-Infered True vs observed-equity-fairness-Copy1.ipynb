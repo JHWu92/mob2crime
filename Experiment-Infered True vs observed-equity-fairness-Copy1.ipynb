{
 "cells": [
  {
   "cell_type": "code",
   "execution_count": 1,
   "metadata": {
    "ExecuteTime": {
     "end_time": "2020-04-09T13:39:13.114383Z",
     "start_time": "2020-04-09T13:39:12.309747Z"
    }
   },
   "outputs": [],
   "source": [
    "%load_ext autoreload\n",
    "%autoreload 2\n",
    "import os\n",
    "import src.ftrs.feature_generator as fgen\n",
    "import src.mex.regions2010 as mex_region\n",
    "import src.mex.census2010 as mex_census\n",
    "import src.mex.crime as mex_crime"
   ]
  },
  {
   "cell_type": "code",
   "execution_count": 2,
   "metadata": {
    "ExecuteTime": {
     "end_time": "2020-04-09T13:39:13.667644Z",
     "start_time": "2020-04-09T13:39:13.535917Z"
    }
   },
   "outputs": [],
   "source": [
    "from scipy.stats import spearmanr, pearsonr"
   ]
  },
  {
   "cell_type": "code",
   "execution_count": 3,
   "metadata": {
    "ExecuteTime": {
     "end_time": "2020-04-09T13:39:14.080503Z",
     "start_time": "2020-04-09T13:39:13.669246Z"
    }
   },
   "outputs": [],
   "source": [
    "import statsmodels.api as sm\n"
   ]
  },
  {
   "cell_type": "code",
   "execution_count": 4,
   "metadata": {
    "ExecuteTime": {
     "end_time": "2020-04-09T13:39:14.199300Z",
     "start_time": "2020-04-09T13:39:14.082111Z"
    }
   },
   "outputs": [],
   "source": [
    "%matplotlib inline"
   ]
  },
  {
   "cell_type": "code",
   "execution_count": 5,
   "metadata": {
    "ExecuteTime": {
     "end_time": "2020-04-09T13:39:14.341725Z",
     "start_time": "2020-04-09T13:39:14.245810Z"
    }
   },
   "outputs": [],
   "source": [
    "import exp_pred_muni_crime as exp_predc\n",
    "import src.exp.preprocessing as exp_prep\n",
    "import src.exp.sklearn_models as exp_sk\n",
    "import pandas as pd"
   ]
  },
  {
   "cell_type": "code",
   "execution_count": 6,
   "metadata": {
    "ExecuteTime": {
     "end_time": "2020-04-09T13:39:15.155589Z",
     "start_time": "2020-04-09T13:39:15.135818Z"
    }
   },
   "outputs": [],
   "source": [
    "from IPython.display import display"
   ]
  },
  {
   "cell_type": "code",
   "execution_count": 20,
   "metadata": {
    "ExecuteTime": {
     "end_time": "2020-04-09T13:44:59.832675Z",
     "start_time": "2020-04-09T13:44:59.811825Z"
    }
   },
   "outputs": [
    {
     "name": "stdout",
     "output_type": "stream",
     "text": [
      "Urban grid-500 Uni\n"
     ]
    }
   ],
   "source": [
    "settings = {\n",
    "    2: ('UrbanRural', 'grid-500', 'Uni'),  # running\n",
    "    0: ('Urban', 'grid-500', 'Uni'),  # done\n",
    "    1: ('Urban', 'grid-500', 'Pop'),  # done\n",
    "    3: ('Urban', 'ageb', 'Uni'),\n",
    "    4: ('Urban', 'ageb', 'Pop'),\n",
    "}\n",
    "\n",
    "boundary_type, su_type, intpl = settings[0]\n",
    "print(boundary_type, su_type, intpl)\n",
    "db_path = 'data/features_database.json'"
   ]
  },
  {
   "cell_type": "markdown",
   "metadata": {},
   "source": [
    "# load data"
   ]
  },
  {
   "cell_type": "code",
   "execution_count": 21,
   "metadata": {
    "ExecuteTime": {
     "end_time": "2020-04-09T13:45:10.022659Z",
     "start_time": "2020-04-09T13:45:03.356912Z"
    }
   },
   "outputs": [],
   "source": [
    "crimes = exp_predc.load_crime()"
   ]
  },
  {
   "cell_type": "code",
   "execution_count": null,
   "metadata": {},
   "outputs": [],
   "source": []
  },
  {
   "cell_type": "code",
   "execution_count": 22,
   "metadata": {
    "ExecuteTime": {
     "end_time": "2020-04-09T13:45:12.640937Z",
     "start_time": "2020-04-09T13:45:10.024141Z"
    }
   },
   "outputs": [],
   "source": [
    "features = exp_predc.load_feature(db_path, boundary_type, su_type, intpl, mun_ids=crimes.index)\n",
    "features = exp_prep.fillna(features)"
   ]
  },
  {
   "cell_type": "code",
   "execution_count": 23,
   "metadata": {
    "ExecuteTime": {
     "end_time": "2020-04-09T13:45:14.501277Z",
     "start_time": "2020-04-09T13:45:12.642570Z"
    }
   },
   "outputs": [],
   "source": [
    "income = mex_census.income_indigenous_group()\n",
    "poverty = mex_census.poverty_munic(kind='poverty', rate=True)\n",
    "econ_unoccupied = mex_census.econ_active_unoccupied(rate=True)\n",
    "mgms = mex_region.municipalities(load_pop=True)"
   ]
  },
  {
   "cell_type": "code",
   "execution_count": 24,
   "metadata": {
    "ExecuteTime": {
     "end_time": "2020-04-09T13:45:14.525892Z",
     "start_time": "2020-04-09T13:45:14.503219Z"
    }
   },
   "outputs": [
    {
     "data": {
      "text/plain": [
       "Index(['loubar-NHS-all_day', 'loubar-NHS-home_hour', 'loubar-NHS-work_hour',\n",
       "       'loubar-NHS-hour0', 'loubar-NHS-hour1', 'loubar-NHS-hour2',\n",
       "       'loubar-NHS-hour3', 'loubar-NHS-hour4', 'loubar-NHS-hour5',\n",
       "       'loubar-NHS-hour6',\n",
       "       ...\n",
       "       'loubar-NMMI-hour14', 'loubar-NMMI-hour15', 'loubar-NMMI-hour16',\n",
       "       'loubar-NMMI-hour17', 'loubar-NMMI-hour18', 'loubar-NMMI-hour19',\n",
       "       'loubar-NMMI-hour20', 'loubar-NMMI-hour21', 'loubar-NMMI-hour22',\n",
       "       'loubar-NMMI-hour23'],\n",
       "      dtype='object', length=216)"
      ]
     },
     "execution_count": 24,
     "metadata": {},
     "output_type": "execute_result"
    }
   ],
   "source": [
    "features.columns"
   ]
  },
  {
   "cell_type": "code",
   "execution_count": 128,
   "metadata": {
    "ExecuteTime": {
     "end_time": "2020-04-11T00:43:39.693654Z",
     "start_time": "2020-04-11T00:43:39.642927Z"
    }
   },
   "outputs": [],
   "source": [
    "to_r=crimes[['#pro']].join( features[[\n",
    "    'loubar-NHS-all_day','loubar-AHS-all_day','loubar-COMP-all_day',\n",
    "    'loubar-MCOMP-all_day','loubar-PROX-all_day','loubar-COHE-all_day',\n",
    "    'loubar-NMI-all_day','loubar-NMMI-all_day']])\n",
    "to_r.columns=['pro_cnt','nhs','ahs','comp','mcomp', 'prox','cohe', 'nmi', 'nmmi']\n",
    "to_r = to_r.join(poverty).join(econ_unoccupied).join(income)\n",
    "to_r.index.name='Identifier'\n",
    "to_r['popu'] = mgms.pobtot"
   ]
  },
  {
   "cell_type": "code",
   "execution_count": 26,
   "metadata": {
    "ExecuteTime": {
     "end_time": "2020-04-09T13:45:14.779147Z",
     "start_time": "2020-04-09T13:45:14.672852Z"
    }
   },
   "outputs": [],
   "source": [
    "true_crime = pd.read_csv('data/ddexp-posterier_mean_estimate.csv', index_col=0).reset_index(drop=True)"
   ]
  },
  {
   "cell_type": "code",
   "execution_count": 27,
   "metadata": {
    "ExecuteTime": {
     "end_time": "2020-04-09T13:45:14.878343Z",
     "start_time": "2020-04-09T13:45:14.781417Z"
    }
   },
   "outputs": [],
   "source": [
    "to_r['income_group'] = pd.qcut(to_r['aver_income'], 4, labels=False)\n"
   ]
  },
  {
   "cell_type": "code",
   "execution_count": 28,
   "metadata": {
    "ExecuteTime": {
     "end_time": "2020-04-09T13:45:14.955173Z",
     "start_time": "2020-04-09T13:45:14.879698Z"
    }
   },
   "outputs": [],
   "source": [
    "to_r['y'] = true_crime['y'].values\n",
    "to_r['z'] = true_crime['z'].values\n",
    "to_r['pro/z'] = to_r.pro_cnt/to_r.z"
   ]
  },
  {
   "cell_type": "code",
   "execution_count": 29,
   "metadata": {
    "ExecuteTime": {
     "end_time": "2020-04-09T13:45:15.225452Z",
     "start_time": "2020-04-09T13:45:14.956453Z"
    },
    "cell_style": "split"
   },
   "outputs": [
    {
     "data": {
      "text/plain": [
       "<matplotlib.axes._subplots.AxesSubplot at 0x7f5afb668908>"
      ]
     },
     "execution_count": 29,
     "metadata": {},
     "output_type": "execute_result"
    },
    {
     "data": {
      "image/png": "[encoded data removed]",
      "text/plain": [
       "<Figure size 432x288 with 1 Axes>"
      ]
     },
     "metadata": {
      "needs_background": "light"
     },
     "output_type": "display_data"
    }
   ],
   "source": [
    "to_r['pro/z'].hist()"
   ]
  },
  {
   "cell_type": "code",
   "execution_count": 30,
   "metadata": {
    "ExecuteTime": {
     "end_time": "2020-04-09T13:45:15.417040Z",
     "start_time": "2020-04-09T13:45:15.226752Z"
    },
    "cell_style": "split"
   },
   "outputs": [
    {
     "data": {
      "text/plain": [
       "<matplotlib.axes._subplots.AxesSubplot at 0x7f5afb6847f0>"
      ]
     },
     "execution_count": 30,
     "metadata": {},
     "output_type": "execute_result"
    },
    {
     "data": {
      "image/png": "[encoded data removed]",
      "text/plain": [
       "<Figure size 432x288 with 1 Axes>"
      ]
     },
     "metadata": {
      "needs_background": "light"
     },
     "output_type": "display_data"
    }
   ],
   "source": [
    "to_r[to_r['pro/z']<0.7].pro_cnt.hist()"
   ]
  },
  {
   "cell_type": "markdown",
   "metadata": {},
   "source": [
    "# run model"
   ]
  },
  {
   "cell_type": "code",
   "execution_count": 101,
   "metadata": {
    "ExecuteTime": {
     "end_time": "2020-04-09T14:02:36.623670Z",
     "start_time": "2020-04-09T14:02:36.577732Z"
    }
   },
   "outputs": [],
   "source": [
    "\n",
    "training = to_r.iloc[:1103].copy()\n",
    "testing = to_r.iloc[1103:].copy()\n",
    "\n",
    "# train_idx, test_idx = train_test_split(list(range(len(to_r))), test_size=0.2, random_state=301381)\n",
    "# training = to_r.iloc[train_idx].copy()\n",
    "# testing = to_r.iloc[test_idx].copy()\n",
    "\n",
    "nhs_min = training.nhs.min()\n",
    "nhs_range = training.nhs.max()-nhs_min\n",
    "\n",
    "training.nhs = (training.nhs - nhs_min) / nhs_range\n",
    "testing.nhs = (testing.nhs - nhs_min) / nhs_range\n",
    "\n",
    "train_result_compare = training[['pro_cnt', 'y', 'aver_income','PI_type', 'income_group']].copy()\n",
    "test_result_compare = testing[['pro_cnt', 'y', 'aver_income','PI_type', 'income_group']].copy()"
   ]
  },
  {
   "cell_type": "code",
   "execution_count": 16,
   "metadata": {
    "ExecuteTime": {
     "end_time": "2020-04-09T13:43:48.221511Z",
     "start_time": "2020-04-09T13:43:20.405278Z"
    }
   },
   "outputs": [],
   "source": [
    "c1 = pd.read_csv('data/chain1.csv.gz',index_col=0).iloc[:,:9]\n",
    "c2 = pd.read_csv('data/chain2.csv.gz',index_col=0).iloc[:,:9]\n",
    "c3 = pd.read_csv('data/chain3.csv.gz',index_col=0).iloc[:,:9]\n",
    "c4 = pd.read_csv('data/chain4.csv.gz',index_col=0).iloc[:,:9]\n"
   ]
  },
  {
   "cell_type": "code",
   "execution_count": 17,
   "metadata": {
    "ExecuteTime": {
     "end_time": "2020-04-09T13:44:27.556021Z",
     "start_time": "2020-04-09T13:44:27.534052Z"
    }
   },
   "outputs": [],
   "source": [
    "chain = pd.concat([c1,c2,c3,c4])"
   ]
  },
  {
   "cell_type": "code",
   "execution_count": 34,
   "metadata": {
    "ExecuteTime": {
     "end_time": "2020-04-09T13:48:22.665381Z",
     "start_time": "2020-04-09T13:48:22.626489Z"
    }
   },
   "outputs": [],
   "source": [
    "ftr = ['nhs','ahs','comp','mcomp', 'prox','cohe', 'nmi', 'nmmi']\n",
    "\n",
    "train_X = training[['nhs','prox','comp','poverty_rate','active_unoccupied']].values\n",
    "# train_X = training[ftr].values\n",
    "train_Y = training['pro_cnt'].values\n",
    "test_X = testing[['nhs','prox','comp','poverty_rate','active_unoccupied']].values\n",
    "# test_X = testing[ftr].values\n",
    "test_Y = testing['pro_cnt'].values\n",
    "dataset = (train_X, test_X, train_Y, test_Y)"
   ]
  },
  {
   "cell_type": "code",
   "execution_count": 68,
   "metadata": {
    "ExecuteTime": {
     "end_time": "2020-04-09T13:56:09.462992Z",
     "start_time": "2020-04-09T13:56:09.425896Z"
    }
   },
   "outputs": [],
   "source": [
    "ftr_b0 = pd.Series([1] * len(testing))\n",
    "\n",
    "ftr_b1 = pd.np.log(testing.active_unoccupied).reset_index(drop=True)\n",
    "ftr_b2 = pd.np.log(testing.poverty_rate).reset_index(drop=True)\n",
    "ftr_b = pd.concat([ftr_b0, ftr_b1, ftr_b2], axis=1)"
   ]
  },
  {
   "cell_type": "code",
   "execution_count": 67,
   "metadata": {
    "ExecuteTime": {
     "end_time": "2020-04-09T13:56:05.062056Z",
     "start_time": "2020-04-09T13:56:05.018595Z"
    }
   },
   "outputs": [],
   "source": [
    "ftr_a0 = pd.Series([1] * len(testing))\n",
    "ftr_a1 = pd.np.log(testing.nhs+0.001).reset_index(drop=True)\n",
    "ftr_a2 = testing.prox.reset_index(drop=True)\n",
    "ftr_a3 = pd.np.log(testing.comp+0.001).reset_index(drop=True)\n",
    "ftr_a = pd.concat([ftr_a0, ftr_a1, ftr_a2, ftr_a3], axis=1)"
   ]
  },
  {
   "cell_type": "code",
   "execution_count": 19,
   "metadata": {
    "ExecuteTime": {
     "end_time": "2020-04-09T13:44:33.657487Z",
     "start_time": "2020-04-09T13:44:33.633782Z"
    }
   },
   "outputs": [
    {
     "data": {
      "text/plain": [
       "a[1]            5.758013\n",
       "a[2]            0.784724\n",
       "a[3]           -3.246692\n",
       "a[4]           -0.570092\n",
       "b[1]            0.188889\n",
       "b[2]            0.385004\n",
       "b[3]           -1.254957\n",
       "epsilon         1.537528\n",
       "lambda[1]    8047.779614\n",
       "dtype: float64"
      ]
     },
     "execution_count": 19,
     "metadata": {},
     "output_type": "execute_result"
    }
   ],
   "source": [
    "chain.mean()"
   ]
  },
  {
   "cell_type": "code",
   "execution_count": 70,
   "metadata": {
    "ExecuteTime": {
     "end_time": "2020-04-09T13:56:16.148933Z",
     "start_time": "2020-04-09T13:56:16.108738Z"
    }
   },
   "outputs": [
    {
     "data": {
      "text/plain": [
       "array([ 5.75801333,  0.78472355, -3.2466924 , -0.57009186])"
      ]
     },
     "execution_count": 70,
     "metadata": {},
     "output_type": "execute_result"
    }
   ],
   "source": [
    "chain.mean()[:4].values"
   ]
  },
  {
   "cell_type": "code",
   "execution_count": 94,
   "metadata": {
    "ExecuteTime": {
     "end_time": "2020-04-09T14:01:50.811290Z",
     "start_time": "2020-04-09T14:01:50.768571Z"
    }
   },
   "outputs": [
    {
     "data": {
      "text/plain": [
       "0      130.941289\n",
       "1      235.632223\n",
       "2      101.592245\n",
       "3       65.660021\n",
       "4      214.087793\n",
       "          ...    \n",
       "271     95.334810\n",
       "272    300.401368\n",
       "273    544.729726\n",
       "274    366.346772\n",
       "275    519.215990\n",
       "Length: 276, dtype: float64"
      ]
     },
     "execution_count": 94,
     "metadata": {},
     "output_type": "execute_result"
    }
   ],
   "source": [
    "test_lam = pd.np.exp((ftr_a*chain.mean()[:4].values).sum(axis=1))\n",
    "test_lam"
   ]
  },
  {
   "cell_type": "code",
   "execution_count": 95,
   "metadata": {
    "ExecuteTime": {
     "end_time": "2020-04-09T14:01:51.554198Z",
     "start_time": "2020-04-09T14:01:51.514523Z"
    }
   },
   "outputs": [],
   "source": [
    "def inv_logit(p):\n",
    "    return pd.np.exp(p) / (1 + pd.np.exp(p))"
   ]
  },
  {
   "cell_type": "code",
   "execution_count": 96,
   "metadata": {
    "ExecuteTime": {
     "end_time": "2020-04-09T14:01:52.134011Z",
     "start_time": "2020-04-09T14:01:52.089842Z"
    }
   },
   "outputs": [],
   "source": [
    "test_pi = inv_logit((ftr_b*chain.mean()[4:7].values).sum(axis=1))"
   ]
  },
  {
   "cell_type": "code",
   "execution_count": 97,
   "metadata": {
    "ExecuteTime": {
     "end_time": "2020-04-09T14:01:52.722792Z",
     "start_time": "2020-04-09T14:01:52.689284Z"
    }
   },
   "outputs": [],
   "source": [
    "test_z = test_lam * test_pi"
   ]
  },
  {
   "cell_type": "code",
   "execution_count": 98,
   "metadata": {
    "ExecuteTime": {
     "end_time": "2020-04-09T14:01:53.175496Z",
     "start_time": "2020-04-09T14:01:53.132299Z"
    }
   },
   "outputs": [
    {
     "data": {
      "text/plain": [
       "0        7.102616\n",
       "1        6.472281\n",
       "2        0.929631\n",
       "3        2.155198\n",
       "4       18.355365\n",
       "          ...    \n",
       "271     17.726958\n",
       "272     21.187975\n",
       "273     34.046230\n",
       "274     35.868550\n",
       "275    152.802470\n",
       "Length: 276, dtype: float64"
      ]
     },
     "execution_count": 98,
     "metadata": {},
     "output_type": "execute_result"
    }
   ],
   "source": [
    "test_z"
   ]
  },
  {
   "cell_type": "code",
   "execution_count": 99,
   "metadata": {
    "ExecuteTime": {
     "end_time": "2020-04-09T14:01:54.229444Z",
     "start_time": "2020-04-09T14:01:54.186791Z"
    }
   },
   "outputs": [
    {
     "data": {
      "text/plain": [
       "189.01595468511368"
      ]
     },
     "execution_count": 99,
     "metadata": {},
     "output_type": "execute_result"
    }
   ],
   "source": [
    "(testing.pro_cnt.reset_index(drop=True)-test_z).abs().mean()"
   ]
  },
  {
   "cell_type": "code",
   "execution_count": 119,
   "metadata": {
    "ExecuteTime": {
     "end_time": "2020-04-09T14:04:13.967514Z",
     "start_time": "2020-04-09T14:04:13.938372Z"
    }
   },
   "outputs": [],
   "source": [
    "test_z.index=test_result_compare.index"
   ]
  },
  {
   "cell_type": "code",
   "execution_count": 120,
   "metadata": {
    "ExecuteTime": {
     "end_time": "2020-04-09T14:04:14.918811Z",
     "start_time": "2020-04-09T14:04:14.888520Z"
    }
   },
   "outputs": [],
   "source": [
    "test_result_compare['pro_cnt_pred'] = test_z"
   ]
  },
  {
   "cell_type": "markdown",
   "metadata": {},
   "source": [
    "# comparing result"
   ]
  },
  {
   "cell_type": "code",
   "execution_count": 103,
   "metadata": {
    "ExecuteTime": {
     "end_time": "2020-04-09T14:02:43.412667Z",
     "start_time": "2020-04-09T14:02:43.382090Z"
    }
   },
   "outputs": [],
   "source": [
    "def compute_error(df, col):\n",
    "    true = df[col]\n",
    "    pred = df[f'{col}_pred']\n",
    "    \n",
    "    df[f'{col}_SE'] = (true - pred)**2\n",
    "    df[f'{col}_E'] = true - pred\n",
    "    df[f'{col}_AE'] = df[f'{col}_E'].abs()\n"
   ]
  },
  {
   "cell_type": "code",
   "execution_count": 122,
   "metadata": {
    "ExecuteTime": {
     "end_time": "2020-04-09T14:04:19.898018Z",
     "start_time": "2020-04-09T14:04:19.866795Z"
    }
   },
   "outputs": [],
   "source": [
    "# compute_error(train_result_compare, 'y')\n",
    "# compute_error(train_result_compare, 'pro_cnt')\n",
    "# compute_error(test_result_compare, 'y')\n",
    "compute_error(test_result_compare, 'pro_cnt')"
   ]
  },
  {
   "cell_type": "code",
   "execution_count": 105,
   "metadata": {
    "ExecuteTime": {
     "end_time": "2020-04-09T14:02:51.620238Z",
     "start_time": "2020-04-09T14:02:51.570627Z"
    }
   },
   "outputs": [
    {
     "data": {
      "text/html": [
       "<div>\n",
       "<style scoped>\n",
       "    .dataframe tbody tr th:only-of-type {\n",
       "        vertical-align: middle;\n",
       "    }\n",
       "\n",
       "    .dataframe tbody tr th {\n",
       "        vertical-align: top;\n",
       "    }\n",
       "\n",
       "    .dataframe thead th {\n",
       "        text-align: right;\n",
       "    }\n",
       "</style>\n",
       "<table border=\"1\" class=\"dataframe\">\n",
       "  <thead>\n",
       "    <tr style=\"text-align: right;\">\n",
       "      <th></th>\n",
       "      <th>pro_cnt</th>\n",
       "      <th>y</th>\n",
       "    </tr>\n",
       "  </thead>\n",
       "  <tbody>\n",
       "    <tr>\n",
       "      <td>raw</td>\n",
       "      <td>1.000000</td>\n",
       "      <td>1.000000</td>\n",
       "    </tr>\n",
       "    <tr>\n",
       "      <td>mean</td>\n",
       "      <td>269.639166</td>\n",
       "      <td>721.737220</td>\n",
       "    </tr>\n",
       "    <tr>\n",
       "      <td>max_min</td>\n",
       "      <td>17655.000000</td>\n",
       "      <td>30796.056525</td>\n",
       "    </tr>\n",
       "    <tr>\n",
       "      <td>quartile</td>\n",
       "      <td>71.000000</td>\n",
       "      <td>415.487625</td>\n",
       "    </tr>\n",
       "  </tbody>\n",
       "</table>\n",
       "</div>"
      ],
      "text/plain": [
       "               pro_cnt             y\n",
       "raw           1.000000      1.000000\n",
       "mean        269.639166    721.737220\n",
       "max_min   17655.000000  30796.056525\n",
       "quartile     71.000000    415.487625"
      ]
     },
     "execution_count": 105,
     "metadata": {},
     "output_type": "execute_result"
    }
   ],
   "source": [
    "norm_factor = {'pro_cnt':{'raw':1}, 'y':{'raw':1}}\n",
    "norm_factor['pro_cnt']['mean'] = train_result_compare.pro_cnt.mean()\n",
    "norm_factor['pro_cnt']['max_min'] = train_result_compare.pro_cnt.max() - train_result_compare.pro_cnt.min()\n",
    "norm_factor['pro_cnt']['quartile'] = train_result_compare.pro_cnt.quantile(.75, interpolation='nearest') - train_result_compare.pro_cnt.quantile(.25, interpolation='nearest')\n",
    "\n",
    "norm_factor['y']['mean'] = train_result_compare.y.mean()\n",
    "norm_factor['y']['max_min'] = train_result_compare.y.max() - train_result_compare.y.min()\n",
    "norm_factor['y']['quartile'] = train_result_compare.y.quantile(.75, interpolation='nearest') - train_result_compare.y.quantile(.25, interpolation='nearest')\n",
    "pd.DataFrame(norm_factor)"
   ]
  },
  {
   "cell_type": "code",
   "execution_count": 106,
   "metadata": {
    "ExecuteTime": {
     "end_time": "2020-04-09T14:02:54.761149Z",
     "start_time": "2020-04-09T14:02:54.720779Z"
    }
   },
   "outputs": [],
   "source": [
    "def norm_err(df, col, nfact):\n",
    "    rmse = pd.np.sqrt(df[col+'_SE'].mean())\n",
    "    mae = df[col+'_AE'].mean()\n",
    "    me_neg = df[df[col+'_E']<0][col+'_E'].mean()\n",
    "    me_pos = df[df[col+'_E']>0][col+'_E'].mean()\n",
    "    ne_zero = (df[col+'_E']==0).sum()\n",
    "    \n",
    "    norm = {('ne_zero','raw'): ne_zero}\n",
    "    for fact_name, fact in nfact[col].items():\n",
    "        norm[('rmse', fact_name)] = rmse/fact\n",
    "        norm[('mae', fact_name)] = mae/fact\n",
    "        norm[('me_neg', fact_name)] = me_neg/fact\n",
    "        norm[('me_pos', fact_name)] = me_pos/fact\n",
    "    return norm"
   ]
  },
  {
   "cell_type": "code",
   "execution_count": 124,
   "metadata": {
    "ExecuteTime": {
     "end_time": "2020-04-09T14:04:40.821726Z",
     "start_time": "2020-04-09T14:04:40.779810Z"
    }
   },
   "outputs": [],
   "source": [
    "overall_err = {}\n",
    "# overall_err['train_y'] = norm_err(train_result_compare, 'y', norm_factor)\n",
    "# overall_err['test_y'] = norm_err(test_result_compare, 'y',norm_factor)\n",
    "# overall_err['train_pro_cnt'] = norm_err(train_result_compare, 'pro_cnt',norm_factor)\n",
    "overall_err['test_pro_cnt'] = norm_err(test_result_compare, 'pro_cnt',norm_factor)"
   ]
  },
  {
   "cell_type": "code",
   "execution_count": 108,
   "metadata": {
    "ExecuteTime": {
     "end_time": "2020-04-09T14:03:00.866328Z",
     "start_time": "2020-04-09T14:03:00.827931Z"
    }
   },
   "outputs": [],
   "source": [
    "def group_norm_err(df, col, nfact,gtype='PI_type'):\n",
    "    return pd.DataFrame(df.groupby(gtype).apply(lambda df: norm_err(df, col, nfact)).to_dict()).sort_index().T\n"
   ]
  },
  {
   "cell_type": "code",
   "execution_count": 109,
   "metadata": {
    "ExecuteTime": {
     "end_time": "2020-04-09T14:03:01.486578Z",
     "start_time": "2020-04-09T14:03:01.424871Z"
    },
    "cell_style": "center",
    "code_folding": []
   },
   "outputs": [],
   "source": [
    "def get_error_for_a_type(eall, egroup, etype, disp=True, return_df=True):\n",
    "    eall_df = pd.DataFrame(eall).sort_index().T[etype].to_frame().T\n",
    "    \n",
    "    egrp_df = []\n",
    "    for k, df in egroup.items():\n",
    "        t = df[etype].copy()\n",
    "        t.name = k\n",
    "        egrp_df.append(t)\n",
    "    egrp_df = pd.concat(egrp_df, axis=1, sort=False)\n",
    "    egrp_df.index.name = f'{etype[0]}/{etype[1]}'\n",
    "    egrp_df\n",
    "\n",
    "    egrp_std = {}\n",
    "    for i in ['train', 'test']:\n",
    "        egrp_std[i]={}\n",
    "        for j in ['y','pro_cnt']:\n",
    "            egrp_std[i][j]=egrp_df.std()[i+'_'+j]\n",
    "\n",
    "    egrp_std = pd.DataFrame(egrp_std).T\n",
    "    egrp_std.index.name = f'{etype[0]}/{etype[1]} std'\n",
    "    \n",
    "    egrp_std_by_mean = {}\n",
    "    for i in ['train', 'test']:\n",
    "        egrp_std_by_mean[i]={}\n",
    "        for j in ['y','pro_cnt']:\n",
    "            egrp_std_by_mean[i][j]=egrp_df.std()[i+'_'+j]/egrp_df.mean()[i+'_'+j]\n",
    "\n",
    "    egrp_std_by_mean = pd.DataFrame(egrp_std_by_mean).T\n",
    "    egrp_std_by_mean.index.name = f'{etype[0]}/{etype[1]} coef of variability'\n",
    "    \n",
    "    egrp_from_eall = {}\n",
    "    rs = pd.np.sqrt((pd.DataFrame(egrp_df.values - eall_df.values, index=egrp_df.index, columns=egrp_df.columns)**2).mean(axis=0))\n",
    "    \n",
    "    for i in ['train', 'test']:\n",
    "        egrp_from_eall[i]={}\n",
    "        for j in ['y','pro_cnt']:\n",
    "            egrp_from_eall[i][j]=rs[i+'_'+j]\n",
    "\n",
    "    egrp_from_eall = pd.DataFrame(egrp_from_eall).T\n",
    "    egrp_from_eall.index.name = f'{etype[0]}/{etype[1]} from all'\n",
    "    \n",
    "    if disp:\n",
    "        display(eall_df)\n",
    "        display(egrp_df)\n",
    "        display(egrp_std)\n",
    "        display(egrp_std_by_mean)\n",
    "        display(egrp_from_eall)\n",
    "    if return_df:\n",
    "        return eall_df, egrp_df, egrp_std, egrp_from_eall, egrp_std_by_mean"
   ]
  },
  {
   "cell_type": "code",
   "execution_count": 110,
   "metadata": {
    "ExecuteTime": {
     "end_time": "2020-04-09T14:03:02.370806Z",
     "start_time": "2020-04-09T14:03:02.335512Z"
    }
   },
   "outputs": [],
   "source": [
    "def fair_by_expectation(dat, nfact, pred_col, group_col, vs='1 vs all'):\n",
    "    fair = {}\n",
    "    groups = sorted(dat[group_col].unique())\n",
    "    if vs=='1 vs all':\n",
    "        for g in groups:\n",
    "            fair[g] = dat[dat[group_col]==g][pred_col+'_pred'].mean() - dat[dat[group_col]!=g][pred_col+'_pred'].mean()\n",
    "            fair[g] /= nfact[pred_col]['mean']\n",
    "        fair = pd.Series(fair)\n",
    "    if vs == 'all vs all':\n",
    "        for gi in groups:\n",
    "            fair[gi] = {}\n",
    "            for gj in groups:\n",
    "                fair[gi][gj] = dat[dat[group_col]==gi][pred_col+'_pred'].mean() - dat[dat[group_col]==gj][pred_col+'_pred'].mean()\n",
    "                fair[gi][gj] /= nfact[pred_col]['mean']\n",
    "        fair = pd.DataFrame(fair)\n",
    "    return fair"
   ]
  },
  {
   "cell_type": "markdown",
   "metadata": {},
   "source": [
    "## performance by PI_type"
   ]
  },
  {
   "cell_type": "code",
   "execution_count": 111,
   "metadata": {
    "ExecuteTime": {
     "end_time": "2020-04-09T14:03:03.326903Z",
     "start_time": "2020-04-09T14:03:03.288480Z"
    }
   },
   "outputs": [],
   "source": [
    "pi_types = train_result_compare.PI_type.unique()"
   ]
  },
  {
   "cell_type": "code",
   "execution_count": 112,
   "metadata": {
    "ExecuteTime": {
     "end_time": "2020-04-09T14:03:05.486033Z",
     "start_time": "2020-04-09T14:03:05.438207Z"
    }
   },
   "outputs": [
    {
     "data": {
      "text/html": [
       "<div>\n",
       "<style scoped>\n",
       "    .dataframe tbody tr th:only-of-type {\n",
       "        vertical-align: middle;\n",
       "    }\n",
       "\n",
       "    .dataframe tbody tr th {\n",
       "        vertical-align: top;\n",
       "    }\n",
       "\n",
       "    .dataframe thead th {\n",
       "        text-align: right;\n",
       "    }\n",
       "</style>\n",
       "<table border=\"1\" class=\"dataframe\">\n",
       "  <thead>\n",
       "    <tr style=\"text-align: right;\">\n",
       "      <th></th>\n",
       "      <th>PI_type</th>\n",
       "      <th>PI_type</th>\n",
       "    </tr>\n",
       "  </thead>\n",
       "  <tbody>\n",
       "    <tr>\n",
       "      <td>PI&lt;40%,1~4999</td>\n",
       "      <td>759</td>\n",
       "      <td>196.0</td>\n",
       "    </tr>\n",
       "    <tr>\n",
       "      <td>PI&gt;40%</td>\n",
       "      <td>177</td>\n",
       "      <td>29.0</td>\n",
       "    </tr>\n",
       "    <tr>\n",
       "      <td>PI&lt;40%,&gt;5000</td>\n",
       "      <td>162</td>\n",
       "      <td>51.0</td>\n",
       "    </tr>\n",
       "    <tr>\n",
       "      <td>PI NONE</td>\n",
       "      <td>5</td>\n",
       "      <td>NaN</td>\n",
       "    </tr>\n",
       "  </tbody>\n",
       "</table>\n",
       "</div>"
      ],
      "text/plain": [
       "               PI_type  PI_type\n",
       "PI<40%,1~4999      759    196.0\n",
       "PI>40%             177     29.0\n",
       "PI<40%,>5000       162     51.0\n",
       "PI NONE              5      NaN"
      ]
     },
     "execution_count": 112,
     "metadata": {},
     "output_type": "execute_result"
    }
   ],
   "source": [
    "pd.concat([train_result_compare.PI_type.value_counts(), test_result_compare.PI_type.value_counts()], axis=1, sort=False)"
   ]
  },
  {
   "cell_type": "markdown",
   "metadata": {},
   "source": [
    "### normalize RMSE and MAE by training data's mean, range or quartile"
   ]
  },
  {
   "cell_type": "code",
   "execution_count": 125,
   "metadata": {
    "ExecuteTime": {
     "end_time": "2020-04-09T14:04:46.006357Z",
     "start_time": "2020-04-09T14:04:45.952310Z"
    }
   },
   "outputs": [],
   "source": [
    "\n",
    "pi_type_group_err = {}\n",
    "\n",
    "# pi_type_group_err['train_y'] = group_norm_err(train_result_compare, 'y', norm_factor)\n",
    "# pi_type_group_err['test_y'] = group_norm_err(test_result_compare, 'y',norm_factor)\n",
    "# pi_type_group_err['train_pro_cnt'] = group_norm_err(train_result_compare, 'pro_cnt',norm_factor)\n",
    "pi_type_group_err['test_pro_cnt'] = group_norm_err(test_result_compare, 'pro_cnt',norm_factor)\n"
   ]
  },
  {
   "cell_type": "code",
   "execution_count": 126,
   "metadata": {
    "ExecuteTime": {
     "end_time": "2020-04-09T14:04:46.882329Z",
     "start_time": "2020-04-09T14:04:46.822097Z"
    }
   },
   "outputs": [
    {
     "data": {
      "text/html": [
       "<div>\n",
       "<style scoped>\n",
       "    .dataframe tbody tr th:only-of-type {\n",
       "        vertical-align: middle;\n",
       "    }\n",
       "\n",
       "    .dataframe tbody tr th {\n",
       "        vertical-align: top;\n",
       "    }\n",
       "\n",
       "    .dataframe thead tr th {\n",
       "        text-align: left;\n",
       "    }\n",
       "</style>\n",
       "<table border=\"1\" class=\"dataframe\">\n",
       "  <thead>\n",
       "    <tr>\n",
       "      <th></th>\n",
       "      <th colspan=\"4\" halign=\"left\">mae</th>\n",
       "      <th colspan=\"4\" halign=\"left\">me_neg</th>\n",
       "      <th colspan=\"4\" halign=\"left\">me_pos</th>\n",
       "      <th>ne_zero</th>\n",
       "      <th colspan=\"4\" halign=\"left\">rmse</th>\n",
       "    </tr>\n",
       "    <tr>\n",
       "      <th></th>\n",
       "      <th>max_min</th>\n",
       "      <th>mean</th>\n",
       "      <th>quartile</th>\n",
       "      <th>raw</th>\n",
       "      <th>max_min</th>\n",
       "      <th>mean</th>\n",
       "      <th>quartile</th>\n",
       "      <th>raw</th>\n",
       "      <th>max_min</th>\n",
       "      <th>mean</th>\n",
       "      <th>quartile</th>\n",
       "      <th>raw</th>\n",
       "      <th>raw</th>\n",
       "      <th>max_min</th>\n",
       "      <th>mean</th>\n",
       "      <th>quartile</th>\n",
       "      <th>raw</th>\n",
       "    </tr>\n",
       "  </thead>\n",
       "  <tbody>\n",
       "    <tr>\n",
       "      <td>PI&lt;40%,1~4999</td>\n",
       "      <td>0.005082</td>\n",
       "      <td>0.332769</td>\n",
       "      <td>1.263767</td>\n",
       "      <td>89.727456</td>\n",
       "      <td>-0.002384</td>\n",
       "      <td>-0.156088</td>\n",
       "      <td>-0.592780</td>\n",
       "      <td>-42.087395</td>\n",
       "      <td>0.006983</td>\n",
       "      <td>0.457213</td>\n",
       "      <td>1.736375</td>\n",
       "      <td>123.282629</td>\n",
       "      <td>0.0</td>\n",
       "      <td>0.015536</td>\n",
       "      <td>1.017266</td>\n",
       "      <td>3.863308</td>\n",
       "      <td>274.294873</td>\n",
       "    </tr>\n",
       "    <tr>\n",
       "      <td>PI&lt;40%,&gt;5000</td>\n",
       "      <td>0.036631</td>\n",
       "      <td>2.398435</td>\n",
       "      <td>9.108621</td>\n",
       "      <td>646.712089</td>\n",
       "      <td>-0.002772</td>\n",
       "      <td>-0.181499</td>\n",
       "      <td>-0.689285</td>\n",
       "      <td>-48.939214</td>\n",
       "      <td>0.042930</td>\n",
       "      <td>2.810889</td>\n",
       "      <td>10.675009</td>\n",
       "      <td>757.925647</td>\n",
       "      <td>0.0</td>\n",
       "      <td>0.077258</td>\n",
       "      <td>5.058580</td>\n",
       "      <td>19.211146</td>\n",
       "      <td>1363.991361</td>\n",
       "    </tr>\n",
       "    <tr>\n",
       "      <td>PI&gt;40%</td>\n",
       "      <td>0.003124</td>\n",
       "      <td>0.204553</td>\n",
       "      <td>0.776836</td>\n",
       "      <td>55.155368</td>\n",
       "      <td>-0.000446</td>\n",
       "      <td>-0.029221</td>\n",
       "      <td>-0.110974</td>\n",
       "      <td>-7.879151</td>\n",
       "      <td>0.003220</td>\n",
       "      <td>0.210814</td>\n",
       "      <td>0.800617</td>\n",
       "      <td>56.843804</td>\n",
       "      <td>0.0</td>\n",
       "      <td>0.004973</td>\n",
       "      <td>0.325641</td>\n",
       "      <td>1.236697</td>\n",
       "      <td>87.805515</td>\n",
       "    </tr>\n",
       "  </tbody>\n",
       "</table>\n",
       "</div>"
      ],
      "text/plain": [
       "                    mae                                    me_neg            \\\n",
       "                max_min      mean  quartile         raw   max_min      mean   \n",
       "PI<40%,1~4999  0.005082  0.332769  1.263767   89.727456 -0.002384 -0.156088   \n",
       "PI<40%,>5000   0.036631  2.398435  9.108621  646.712089 -0.002772 -0.181499   \n",
       "PI>40%         0.003124  0.204553  0.776836   55.155368 -0.000446 -0.029221   \n",
       "\n",
       "                                      me_pos                                   \\\n",
       "               quartile        raw   max_min      mean   quartile         raw   \n",
       "PI<40%,1~4999 -0.592780 -42.087395  0.006983  0.457213   1.736375  123.282629   \n",
       "PI<40%,>5000  -0.689285 -48.939214  0.042930  2.810889  10.675009  757.925647   \n",
       "PI>40%        -0.110974  -7.879151  0.003220  0.210814   0.800617   56.843804   \n",
       "\n",
       "              ne_zero      rmse                                    \n",
       "                  raw   max_min      mean   quartile          raw  \n",
       "PI<40%,1~4999     0.0  0.015536  1.017266   3.863308   274.294873  \n",
       "PI<40%,>5000      0.0  0.077258  5.058580  19.211146  1363.991361  \n",
       "PI>40%            0.0  0.004973  0.325641   1.236697    87.805515  "
      ]
     },
     "execution_count": 126,
     "metadata": {},
     "output_type": "execute_result"
    }
   ],
   "source": [
    "pi_type_group_err['test_pro_cnt']"
   ]
  },
  {
   "cell_type": "code",
   "execution_count": 114,
   "metadata": {
    "ExecuteTime": {
     "end_time": "2020-04-09T14:03:15.874534Z",
     "start_time": "2020-04-09T14:03:15.767971Z"
    },
    "cell_style": "split"
   },
   "outputs": [
    {
     "ename": "KeyError",
     "evalue": "'train_y'",
     "output_type": "error",
     "traceback": [
      "\u001b[0;31m---------------------------------------------------------------------------\u001b[0m",
      "\u001b[0;31mTypeError\u001b[0m                                 Traceback (most recent call last)",
      "\u001b[0;32m~/miniconda3/envs/mob2crime/lib/python3.7/site-packages/pandas/core/indexes/base.py\u001b[0m in \u001b[0;36mget_value\u001b[0;34m(self, series, key)\u001b[0m\n\u001b[1;32m   4735\u001b[0m             \u001b[0;32mtry\u001b[0m\u001b[0;34m:\u001b[0m\u001b[0;34m\u001b[0m\u001b[0;34m\u001b[0m\u001b[0m\n\u001b[0;32m-> 4736\u001b[0;31m                 \u001b[0;32mreturn\u001b[0m \u001b[0mlibindex\u001b[0m\u001b[0;34m.\u001b[0m\u001b[0mget_value_box\u001b[0m\u001b[0;34m(\u001b[0m\u001b[0ms\u001b[0m\u001b[0;34m,\u001b[0m \u001b[0mkey\u001b[0m\u001b[0;34m)\u001b[0m\u001b[0;34m\u001b[0m\u001b[0;34m\u001b[0m\u001b[0m\n\u001b[0m\u001b[1;32m   4737\u001b[0m             \u001b[0;32mexcept\u001b[0m \u001b[0mIndexError\u001b[0m\u001b[0;34m:\u001b[0m\u001b[0;34m\u001b[0m\u001b[0;34m\u001b[0m\u001b[0m\n",
      "\u001b[0;32mpandas/_libs/index.pyx\u001b[0m in \u001b[0;36mpandas._libs.index.get_value_box\u001b[0;34m()\u001b[0m\n",
      "\u001b[0;32mpandas/_libs/index.pyx\u001b[0m in \u001b[0;36mpandas._libs.index.get_value_at\u001b[0;34m()\u001b[0m\n",
      "\u001b[0;32mpandas/_libs/util.pxd\u001b[0m in \u001b[0;36mpandas._libs.util.get_value_at\u001b[0;34m()\u001b[0m\n",
      "\u001b[0;32mpandas/_libs/util.pxd\u001b[0m in \u001b[0;36mpandas._libs.util.validate_indexer\u001b[0;34m()\u001b[0m\n",
      "\u001b[0;31mTypeError\u001b[0m: 'str' object cannot be interpreted as an integer",
      "\nDuring handling of the above exception, another exception occurred:\n",
      "\u001b[0;31mKeyError\u001b[0m                                  Traceback (most recent call last)",
      "\u001b[0;32m<ipython-input-114-aac565f43619>\u001b[0m in \u001b[0;36m<module>\u001b[0;34m\u001b[0m\n\u001b[1;32m      1\u001b[0m \u001b[0merr_type\u001b[0m \u001b[0;34m=\u001b[0m \u001b[0;34m(\u001b[0m\u001b[0;34m'rmse'\u001b[0m\u001b[0;34m,\u001b[0m\u001b[0;34m'mean'\u001b[0m\u001b[0;34m)\u001b[0m\u001b[0;34m\u001b[0m\u001b[0;34m\u001b[0m\u001b[0m\n\u001b[0;32m----> 2\u001b[0;31m \u001b[0meall_df\u001b[0m\u001b[0;34m,\u001b[0m \u001b[0megrp_df\u001b[0m\u001b[0;34m,\u001b[0m \u001b[0megrp_std\u001b[0m\u001b[0;34m,\u001b[0m \u001b[0megrp_from_eall\u001b[0m\u001b[0;34m,\u001b[0m \u001b[0megrp_std_by_mean\u001b[0m\u001b[0;34m=\u001b[0m \u001b[0mget_error_for_a_type\u001b[0m\u001b[0;34m(\u001b[0m\u001b[0moverall_err\u001b[0m\u001b[0;34m,\u001b[0m \u001b[0mpi_type_group_err\u001b[0m\u001b[0;34m,\u001b[0m \u001b[0merr_type\u001b[0m\u001b[0;34m,\u001b[0m \u001b[0mdisp\u001b[0m\u001b[0;34m=\u001b[0m\u001b[0;32mTrue\u001b[0m\u001b[0;34m,\u001b[0m \u001b[0mreturn_df\u001b[0m\u001b[0;34m=\u001b[0m\u001b[0;32mTrue\u001b[0m\u001b[0;34m)\u001b[0m\u001b[0;34m\u001b[0m\u001b[0;34m\u001b[0m\u001b[0m\n\u001b[0m",
      "\u001b[0;32m<ipython-input-109-970ad74c8312>\u001b[0m in \u001b[0;36mget_error_for_a_type\u001b[0;34m(eall, egroup, etype, disp, return_df)\u001b[0m\n\u001b[1;32m     15\u001b[0m         \u001b[0megrp_std\u001b[0m\u001b[0;34m[\u001b[0m\u001b[0mi\u001b[0m\u001b[0;34m]\u001b[0m\u001b[0;34m=\u001b[0m\u001b[0;34m{\u001b[0m\u001b[0;34m}\u001b[0m\u001b[0;34m\u001b[0m\u001b[0;34m\u001b[0m\u001b[0m\n\u001b[1;32m     16\u001b[0m         \u001b[0;32mfor\u001b[0m \u001b[0mj\u001b[0m \u001b[0;32min\u001b[0m \u001b[0;34m[\u001b[0m\u001b[0;34m'y'\u001b[0m\u001b[0;34m,\u001b[0m\u001b[0;34m'pro_cnt'\u001b[0m\u001b[0;34m]\u001b[0m\u001b[0;34m:\u001b[0m\u001b[0;34m\u001b[0m\u001b[0;34m\u001b[0m\u001b[0m\n\u001b[0;32m---> 17\u001b[0;31m             \u001b[0megrp_std\u001b[0m\u001b[0;34m[\u001b[0m\u001b[0mi\u001b[0m\u001b[0;34m]\u001b[0m\u001b[0;34m[\u001b[0m\u001b[0mj\u001b[0m\u001b[0;34m]\u001b[0m\u001b[0;34m=\u001b[0m\u001b[0megrp_df\u001b[0m\u001b[0;34m.\u001b[0m\u001b[0mstd\u001b[0m\u001b[0;34m(\u001b[0m\u001b[0;34m)\u001b[0m\u001b[0;34m[\u001b[0m\u001b[0mi\u001b[0m\u001b[0;34m+\u001b[0m\u001b[0;34m'_'\u001b[0m\u001b[0;34m+\u001b[0m\u001b[0mj\u001b[0m\u001b[0;34m]\u001b[0m\u001b[0;34m\u001b[0m\u001b[0;34m\u001b[0m\u001b[0m\n\u001b[0m\u001b[1;32m     18\u001b[0m \u001b[0;34m\u001b[0m\u001b[0m\n\u001b[1;32m     19\u001b[0m     \u001b[0megrp_std\u001b[0m \u001b[0;34m=\u001b[0m \u001b[0mpd\u001b[0m\u001b[0;34m.\u001b[0m\u001b[0mDataFrame\u001b[0m\u001b[0;34m(\u001b[0m\u001b[0megrp_std\u001b[0m\u001b[0;34m)\u001b[0m\u001b[0;34m.\u001b[0m\u001b[0mT\u001b[0m\u001b[0;34m\u001b[0m\u001b[0;34m\u001b[0m\u001b[0m\n",
      "\u001b[0;32m~/miniconda3/envs/mob2crime/lib/python3.7/site-packages/pandas/core/series.py\u001b[0m in \u001b[0;36m__getitem__\u001b[0;34m(self, key)\u001b[0m\n\u001b[1;32m   1066\u001b[0m         \u001b[0mkey\u001b[0m \u001b[0;34m=\u001b[0m \u001b[0mcom\u001b[0m\u001b[0;34m.\u001b[0m\u001b[0mapply_if_callable\u001b[0m\u001b[0;34m(\u001b[0m\u001b[0mkey\u001b[0m\u001b[0;34m,\u001b[0m \u001b[0mself\u001b[0m\u001b[0;34m)\u001b[0m\u001b[0;34m\u001b[0m\u001b[0;34m\u001b[0m\u001b[0m\n\u001b[1;32m   1067\u001b[0m         \u001b[0;32mtry\u001b[0m\u001b[0;34m:\u001b[0m\u001b[0;34m\u001b[0m\u001b[0;34m\u001b[0m\u001b[0m\n\u001b[0;32m-> 1068\u001b[0;31m             \u001b[0mresult\u001b[0m \u001b[0;34m=\u001b[0m \u001b[0mself\u001b[0m\u001b[0;34m.\u001b[0m\u001b[0mindex\u001b[0m\u001b[0;34m.\u001b[0m\u001b[0mget_value\u001b[0m\u001b[0;34m(\u001b[0m\u001b[0mself\u001b[0m\u001b[0;34m,\u001b[0m \u001b[0mkey\u001b[0m\u001b[0;34m)\u001b[0m\u001b[0;34m\u001b[0m\u001b[0;34m\u001b[0m\u001b[0m\n\u001b[0m\u001b[1;32m   1069\u001b[0m \u001b[0;34m\u001b[0m\u001b[0m\n\u001b[1;32m   1070\u001b[0m             \u001b[0;32mif\u001b[0m \u001b[0;32mnot\u001b[0m \u001b[0mis_scalar\u001b[0m\u001b[0;34m(\u001b[0m\u001b[0mresult\u001b[0m\u001b[0;34m)\u001b[0m\u001b[0;34m:\u001b[0m\u001b[0;34m\u001b[0m\u001b[0;34m\u001b[0m\u001b[0m\n",
      "\u001b[0;32m~/miniconda3/envs/mob2crime/lib/python3.7/site-packages/pandas/core/indexes/base.py\u001b[0m in \u001b[0;36mget_value\u001b[0;34m(self, series, key)\u001b[0m\n\u001b[1;32m   4742\u001b[0m                     \u001b[0;32mraise\u001b[0m \u001b[0mInvalidIndexError\u001b[0m\u001b[0;34m(\u001b[0m\u001b[0mkey\u001b[0m\u001b[0;34m)\u001b[0m\u001b[0;34m\u001b[0m\u001b[0;34m\u001b[0m\u001b[0m\n\u001b[1;32m   4743\u001b[0m                 \u001b[0;32melse\u001b[0m\u001b[0;34m:\u001b[0m\u001b[0;34m\u001b[0m\u001b[0;34m\u001b[0m\u001b[0m\n\u001b[0;32m-> 4744\u001b[0;31m                     \u001b[0;32mraise\u001b[0m \u001b[0me1\u001b[0m\u001b[0;34m\u001b[0m\u001b[0;34m\u001b[0m\u001b[0m\n\u001b[0m\u001b[1;32m   4745\u001b[0m             \u001b[0;32mexcept\u001b[0m \u001b[0mException\u001b[0m\u001b[0;34m:\u001b[0m  \u001b[0;31m# pragma: no cover\u001b[0m\u001b[0;34m\u001b[0m\u001b[0;34m\u001b[0m\u001b[0m\n\u001b[1;32m   4746\u001b[0m                 \u001b[0;32mraise\u001b[0m \u001b[0me1\u001b[0m\u001b[0;34m\u001b[0m\u001b[0;34m\u001b[0m\u001b[0m\n",
      "\u001b[0;32m~/miniconda3/envs/mob2crime/lib/python3.7/site-packages/pandas/core/indexes/base.py\u001b[0m in \u001b[0;36mget_value\u001b[0;34m(self, series, key)\u001b[0m\n\u001b[1;32m   4728\u001b[0m         \u001b[0mk\u001b[0m \u001b[0;34m=\u001b[0m \u001b[0mself\u001b[0m\u001b[0;34m.\u001b[0m\u001b[0m_convert_scalar_indexer\u001b[0m\u001b[0;34m(\u001b[0m\u001b[0mk\u001b[0m\u001b[0;34m,\u001b[0m \u001b[0mkind\u001b[0m\u001b[0;34m=\u001b[0m\u001b[0;34m\"getitem\"\u001b[0m\u001b[0;34m)\u001b[0m\u001b[0;34m\u001b[0m\u001b[0;34m\u001b[0m\u001b[0m\n\u001b[1;32m   4729\u001b[0m         \u001b[0;32mtry\u001b[0m\u001b[0;34m:\u001b[0m\u001b[0;34m\u001b[0m\u001b[0;34m\u001b[0m\u001b[0m\n\u001b[0;32m-> 4730\u001b[0;31m             \u001b[0;32mreturn\u001b[0m \u001b[0mself\u001b[0m\u001b[0;34m.\u001b[0m\u001b[0m_engine\u001b[0m\u001b[0;34m.\u001b[0m\u001b[0mget_value\u001b[0m\u001b[0;34m(\u001b[0m\u001b[0ms\u001b[0m\u001b[0;34m,\u001b[0m \u001b[0mk\u001b[0m\u001b[0;34m,\u001b[0m \u001b[0mtz\u001b[0m\u001b[0;34m=\u001b[0m\u001b[0mgetattr\u001b[0m\u001b[0;34m(\u001b[0m\u001b[0mseries\u001b[0m\u001b[0;34m.\u001b[0m\u001b[0mdtype\u001b[0m\u001b[0;34m,\u001b[0m \u001b[0;34m\"tz\"\u001b[0m\u001b[0;34m,\u001b[0m \u001b[0;32mNone\u001b[0m\u001b[0;34m)\u001b[0m\u001b[0;34m)\u001b[0m\u001b[0;34m\u001b[0m\u001b[0;34m\u001b[0m\u001b[0m\n\u001b[0m\u001b[1;32m   4731\u001b[0m         \u001b[0;32mexcept\u001b[0m \u001b[0mKeyError\u001b[0m \u001b[0;32mas\u001b[0m \u001b[0me1\u001b[0m\u001b[0;34m:\u001b[0m\u001b[0;34m\u001b[0m\u001b[0;34m\u001b[0m\u001b[0m\n\u001b[1;32m   4732\u001b[0m             \u001b[0;32mif\u001b[0m \u001b[0mlen\u001b[0m\u001b[0;34m(\u001b[0m\u001b[0mself\u001b[0m\u001b[0;34m)\u001b[0m \u001b[0;34m>\u001b[0m \u001b[0;36m0\u001b[0m \u001b[0;32mand\u001b[0m \u001b[0;34m(\u001b[0m\u001b[0mself\u001b[0m\u001b[0;34m.\u001b[0m\u001b[0mholds_integer\u001b[0m\u001b[0;34m(\u001b[0m\u001b[0;34m)\u001b[0m \u001b[0;32mor\u001b[0m \u001b[0mself\u001b[0m\u001b[0;34m.\u001b[0m\u001b[0mis_boolean\u001b[0m\u001b[0;34m(\u001b[0m\u001b[0;34m)\u001b[0m\u001b[0;34m)\u001b[0m\u001b[0;34m:\u001b[0m\u001b[0;34m\u001b[0m\u001b[0;34m\u001b[0m\u001b[0m\n",
      "\u001b[0;32mpandas/_libs/index.pyx\u001b[0m in \u001b[0;36mpandas._libs.index.IndexEngine.get_value\u001b[0;34m()\u001b[0m\n",
      "\u001b[0;32mpandas/_libs/index.pyx\u001b[0m in \u001b[0;36mpandas._libs.index.IndexEngine.get_value\u001b[0;34m()\u001b[0m\n",
      "\u001b[0;32mpandas/_libs/index.pyx\u001b[0m in \u001b[0;36mpandas._libs.index.IndexEngine.get_loc\u001b[0;34m()\u001b[0m\n",
      "\u001b[0;32mpandas/_libs/hashtable_class_helper.pxi\u001b[0m in \u001b[0;36mpandas._libs.hashtable.PyObjectHashTable.get_item\u001b[0;34m()\u001b[0m\n",
      "\u001b[0;32mpandas/_libs/hashtable_class_helper.pxi\u001b[0m in \u001b[0;36mpandas._libs.hashtable.PyObjectHashTable.get_item\u001b[0;34m()\u001b[0m\n",
      "\u001b[0;31mKeyError\u001b[0m: 'train_y'"
     ]
    }
   ],
   "source": [
    "err_type = ('rmse','mean')\n",
    "eall_df, egrp_df, egrp_std, egrp_from_eall, egrp_std_by_mean= get_error_for_a_type(overall_err, pi_type_group_err, err_type, disp=True, return_df=True)"
   ]
  },
  {
   "cell_type": "code",
   "execution_count": 225,
   "metadata": {
    "ExecuteTime": {
     "end_time": "2020-04-09T00:54:08.775240Z",
     "start_time": "2020-04-09T00:54:08.687753Z"
    },
    "cell_style": "split"
   },
   "outputs": [
    {
     "data": {
      "text/html": [
       "<div>\n",
       "<style scoped>\n",
       "    .dataframe tbody tr th:only-of-type {\n",
       "        vertical-align: middle;\n",
       "    }\n",
       "\n",
       "    .dataframe tbody tr th {\n",
       "        vertical-align: top;\n",
       "    }\n",
       "\n",
       "    .dataframe thead th {\n",
       "        text-align: right;\n",
       "    }\n",
       "</style>\n",
       "<table border=\"1\" class=\"dataframe\">\n",
       "  <thead>\n",
       "    <tr style=\"text-align: right;\">\n",
       "      <th></th>\n",
       "      <th></th>\n",
       "      <th>train_y</th>\n",
       "      <th>test_y</th>\n",
       "      <th>train_pro_cnt</th>\n",
       "      <th>test_pro_cnt</th>\n",
       "    </tr>\n",
       "  </thead>\n",
       "  <tbody>\n",
       "    <tr>\n",
       "      <td>mae</td>\n",
       "      <td>mean</td>\n",
       "      <td>0.305546</td>\n",
       "      <td>0.850951</td>\n",
       "      <td>0.96735</td>\n",
       "      <td>1.076423</td>\n",
       "    </tr>\n",
       "  </tbody>\n",
       "</table>\n",
       "</div>"
      ],
      "text/plain": [
       "           train_y    test_y  train_pro_cnt  test_pro_cnt\n",
       "mae mean  0.305546  0.850951        0.96735      1.076423"
      ]
     },
     "metadata": {},
     "output_type": "display_data"
    },
    {
     "data": {
      "text/html": [
       "<div>\n",
       "<style scoped>\n",
       "    .dataframe tbody tr th:only-of-type {\n",
       "        vertical-align: middle;\n",
       "    }\n",
       "\n",
       "    .dataframe tbody tr th {\n",
       "        vertical-align: top;\n",
       "    }\n",
       "\n",
       "    .dataframe thead th {\n",
       "        text-align: right;\n",
       "    }\n",
       "</style>\n",
       "<table border=\"1\" class=\"dataframe\">\n",
       "  <thead>\n",
       "    <tr style=\"text-align: right;\">\n",
       "      <th></th>\n",
       "      <th>train_y</th>\n",
       "      <th>test_y</th>\n",
       "      <th>train_pro_cnt</th>\n",
       "      <th>test_pro_cnt</th>\n",
       "    </tr>\n",
       "    <tr>\n",
       "      <th>mae/mean</th>\n",
       "      <th></th>\n",
       "      <th></th>\n",
       "      <th></th>\n",
       "      <th></th>\n",
       "    </tr>\n",
       "  </thead>\n",
       "  <tbody>\n",
       "    <tr>\n",
       "      <td>PI NONE</td>\n",
       "      <td>0.023797</td>\n",
       "      <td>0.065655</td>\n",
       "      <td>3.460353</td>\n",
       "      <td>1.783914</td>\n",
       "    </tr>\n",
       "    <tr>\n",
       "      <td>PI&lt;40%,1~4999</td>\n",
       "      <td>0.203700</td>\n",
       "      <td>0.518017</td>\n",
       "      <td>0.848173</td>\n",
       "      <td>0.847652</td>\n",
       "    </tr>\n",
       "    <tr>\n",
       "      <td>PI&lt;40%,&gt;5000</td>\n",
       "      <td>0.848988</td>\n",
       "      <td>2.775652</td>\n",
       "      <td>2.183733</td>\n",
       "      <td>2.967131</td>\n",
       "    </tr>\n",
       "    <tr>\n",
       "      <td>PI&gt;40%</td>\n",
       "      <td>0.215202</td>\n",
       "      <td>0.523533</td>\n",
       "      <td>0.201221</td>\n",
       "      <td>0.237405</td>\n",
       "    </tr>\n",
       "  </tbody>\n",
       "</table>\n",
       "</div>"
      ],
      "text/plain": [
       "                train_y    test_y  train_pro_cnt  test_pro_cnt\n",
       "mae/mean                                                      \n",
       "PI NONE        0.023797  0.065655       3.460353      1.783914\n",
       "PI<40%,1~4999  0.203700  0.518017       0.848173      0.847652\n",
       "PI<40%,>5000   0.848988  2.775652       2.183733      2.967131\n",
       "PI>40%         0.215202  0.523533       0.201221      0.237405"
      ]
     },
     "metadata": {},
     "output_type": "display_data"
    },
    {
     "data": {
      "text/html": [
       "<div>\n",
       "<style scoped>\n",
       "    .dataframe tbody tr th:only-of-type {\n",
       "        vertical-align: middle;\n",
       "    }\n",
       "\n",
       "    .dataframe tbody tr th {\n",
       "        vertical-align: top;\n",
       "    }\n",
       "\n",
       "    .dataframe thead th {\n",
       "        text-align: right;\n",
       "    }\n",
       "</style>\n",
       "<table border=\"1\" class=\"dataframe\">\n",
       "  <thead>\n",
       "    <tr style=\"text-align: right;\">\n",
       "      <th></th>\n",
       "      <th>y</th>\n",
       "      <th>pro_cnt</th>\n",
       "    </tr>\n",
       "    <tr>\n",
       "      <th>mae/mean std</th>\n",
       "      <th></th>\n",
       "      <th></th>\n",
       "    </tr>\n",
       "  </thead>\n",
       "  <tbody>\n",
       "    <tr>\n",
       "      <td>train</td>\n",
       "      <td>0.361496</td>\n",
       "      <td>1.449363</td>\n",
       "    </tr>\n",
       "    <tr>\n",
       "      <td>test</td>\n",
       "      <td>1.222271</td>\n",
       "      <td>1.189687</td>\n",
       "    </tr>\n",
       "  </tbody>\n",
       "</table>\n",
       "</div>"
      ],
      "text/plain": [
       "                     y   pro_cnt\n",
       "mae/mean std                    \n",
       "train         0.361496  1.449363\n",
       "test          1.222271  1.189687"
      ]
     },
     "metadata": {},
     "output_type": "display_data"
    },
    {
     "data": {
      "text/html": [
       "<div>\n",
       "<style scoped>\n",
       "    .dataframe tbody tr th:only-of-type {\n",
       "        vertical-align: middle;\n",
       "    }\n",
       "\n",
       "    .dataframe tbody tr th {\n",
       "        vertical-align: top;\n",
       "    }\n",
       "\n",
       "    .dataframe thead th {\n",
       "        text-align: right;\n",
       "    }\n",
       "</style>\n",
       "<table border=\"1\" class=\"dataframe\">\n",
       "  <thead>\n",
       "    <tr style=\"text-align: right;\">\n",
       "      <th></th>\n",
       "      <th>y</th>\n",
       "      <th>pro_cnt</th>\n",
       "    </tr>\n",
       "    <tr>\n",
       "      <th>mae/mean coef of variability</th>\n",
       "      <th></th>\n",
       "      <th></th>\n",
       "    </tr>\n",
       "  </thead>\n",
       "  <tbody>\n",
       "    <tr>\n",
       "      <td>train</td>\n",
       "      <td>1.119455</td>\n",
       "      <td>0.866134</td>\n",
       "    </tr>\n",
       "    <tr>\n",
       "      <td>test</td>\n",
       "      <td>1.259146</td>\n",
       "      <td>0.815399</td>\n",
       "    </tr>\n",
       "  </tbody>\n",
       "</table>\n",
       "</div>"
      ],
      "text/plain": [
       "                                     y   pro_cnt\n",
       "mae/mean coef of variability                    \n",
       "train                         1.119455  0.866134\n",
       "test                          1.259146  0.815399"
      ]
     },
     "metadata": {},
     "output_type": "display_data"
    },
    {
     "data": {
      "text/html": [
       "<div>\n",
       "<style scoped>\n",
       "    .dataframe tbody tr th:only-of-type {\n",
       "        vertical-align: middle;\n",
       "    }\n",
       "\n",
       "    .dataframe tbody tr th {\n",
       "        vertical-align: top;\n",
       "    }\n",
       "\n",
       "    .dataframe thead th {\n",
       "        text-align: right;\n",
       "    }\n",
       "</style>\n",
       "<table border=\"1\" class=\"dataframe\">\n",
       "  <thead>\n",
       "    <tr style=\"text-align: right;\">\n",
       "      <th></th>\n",
       "      <th>y</th>\n",
       "      <th>pro_cnt</th>\n",
       "    </tr>\n",
       "    <tr>\n",
       "      <th>mae/mean from all</th>\n",
       "      <th></th>\n",
       "      <th></th>\n",
       "    </tr>\n",
       "  </thead>\n",
       "  <tbody>\n",
       "    <tr>\n",
       "      <td>train</td>\n",
       "      <td>0.313547</td>\n",
       "      <td>1.440122</td>\n",
       "    </tr>\n",
       "    <tr>\n",
       "      <td>test</td>\n",
       "      <td>1.065271</td>\n",
       "      <td>1.099046</td>\n",
       "    </tr>\n",
       "  </tbody>\n",
       "</table>\n",
       "</div>"
      ],
      "text/plain": [
       "                          y   pro_cnt\n",
       "mae/mean from all                    \n",
       "train              0.313547  1.440122\n",
       "test               1.065271  1.099046"
      ]
     },
     "metadata": {},
     "output_type": "display_data"
    }
   ],
   "source": [
    "err_type = ('mae','mean')\n",
    "eall_df, egrp_df, egrp_std2, egrp_from_eall,egrp_std_by_mean= get_error_for_a_type(overall_err, pi_type_group_err, err_type, disp=True, return_df=True)"
   ]
  },
  {
   "cell_type": "code",
   "execution_count": 218,
   "metadata": {
    "ExecuteTime": {
     "end_time": "2020-04-09T00:53:47.704988Z",
     "start_time": "2020-04-09T00:53:47.621664Z"
    },
    "cell_style": "split",
    "collapsed": true
   },
   "outputs": [
    {
     "data": {
      "text/html": [
       "<div>\n",
       "<style scoped>\n",
       "    .dataframe tbody tr th:only-of-type {\n",
       "        vertical-align: middle;\n",
       "    }\n",
       "\n",
       "    .dataframe tbody tr th {\n",
       "        vertical-align: top;\n",
       "    }\n",
       "\n",
       "    .dataframe thead th {\n",
       "        text-align: right;\n",
       "    }\n",
       "</style>\n",
       "<table border=\"1\" class=\"dataframe\">\n",
       "  <thead>\n",
       "    <tr style=\"text-align: right;\">\n",
       "      <th></th>\n",
       "      <th></th>\n",
       "      <th>train_y</th>\n",
       "      <th>test_y</th>\n",
       "      <th>train_pro_cnt</th>\n",
       "      <th>test_pro_cnt</th>\n",
       "    </tr>\n",
       "  </thead>\n",
       "  <tbody>\n",
       "    <tr>\n",
       "      <td>me_neg</td>\n",
       "      <td>mean</td>\n",
       "      <td>-0.219892</td>\n",
       "      <td>-0.606645</td>\n",
       "      <td>-0.790169</td>\n",
       "      <td>-0.827802</td>\n",
       "    </tr>\n",
       "  </tbody>\n",
       "</table>\n",
       "</div>"
      ],
      "text/plain": [
       "              train_y    test_y  train_pro_cnt  test_pro_cnt\n",
       "me_neg mean -0.219892 -0.606645      -0.790169     -0.827802"
      ]
     },
     "metadata": {},
     "output_type": "display_data"
    },
    {
     "data": {
      "text/html": [
       "<div>\n",
       "<style scoped>\n",
       "    .dataframe tbody tr th:only-of-type {\n",
       "        vertical-align: middle;\n",
       "    }\n",
       "\n",
       "    .dataframe tbody tr th {\n",
       "        vertical-align: top;\n",
       "    }\n",
       "\n",
       "    .dataframe thead th {\n",
       "        text-align: right;\n",
       "    }\n",
       "</style>\n",
       "<table border=\"1\" class=\"dataframe\">\n",
       "  <thead>\n",
       "    <tr style=\"text-align: right;\">\n",
       "      <th></th>\n",
       "      <th>train_y</th>\n",
       "      <th>test_y</th>\n",
       "      <th>train_pro_cnt</th>\n",
       "      <th>test_pro_cnt</th>\n",
       "    </tr>\n",
       "    <tr>\n",
       "      <th>me_neg/mean</th>\n",
       "      <th></th>\n",
       "      <th></th>\n",
       "      <th></th>\n",
       "      <th></th>\n",
       "    </tr>\n",
       "  </thead>\n",
       "  <tbody>\n",
       "    <tr>\n",
       "      <td>PI NONE</td>\n",
       "      <td>-0.023797</td>\n",
       "      <td>-0.065655</td>\n",
       "      <td>-3.460353</td>\n",
       "      <td>-1.783914</td>\n",
       "    </tr>\n",
       "    <tr>\n",
       "      <td>PI&lt;40%,1~4999</td>\n",
       "      <td>-0.205494</td>\n",
       "      <td>-0.598612</td>\n",
       "      <td>-0.855454</td>\n",
       "      <td>-0.894194</td>\n",
       "    </tr>\n",
       "    <tr>\n",
       "      <td>PI&lt;40%,&gt;5000</td>\n",
       "      <td>-0.373885</td>\n",
       "      <td>-1.011249</td>\n",
       "      <td>-1.178969</td>\n",
       "      <td>-1.217866</td>\n",
       "    </tr>\n",
       "    <tr>\n",
       "      <td>PI&gt;40%</td>\n",
       "      <td>-0.173769</td>\n",
       "      <td>-0.294988</td>\n",
       "      <td>-0.193272</td>\n",
       "      <td>-0.209886</td>\n",
       "    </tr>\n",
       "  </tbody>\n",
       "</table>\n",
       "</div>"
      ],
      "text/plain": [
       "                train_y    test_y  train_pro_cnt  test_pro_cnt\n",
       "me_neg/mean                                                   \n",
       "PI NONE       -0.023797 -0.065655      -3.460353     -1.783914\n",
       "PI<40%,1~4999 -0.205494 -0.598612      -0.855454     -0.894194\n",
       "PI<40%,>5000  -0.373885 -1.011249      -1.178969     -1.217866\n",
       "PI>40%        -0.173769 -0.294988      -0.193272     -0.209886"
      ]
     },
     "metadata": {},
     "output_type": "display_data"
    },
    {
     "data": {
      "text/html": [
       "<div>\n",
       "<style scoped>\n",
       "    .dataframe tbody tr th:only-of-type {\n",
       "        vertical-align: middle;\n",
       "    }\n",
       "\n",
       "    .dataframe tbody tr th {\n",
       "        vertical-align: top;\n",
       "    }\n",
       "\n",
       "    .dataframe thead th {\n",
       "        text-align: right;\n",
       "    }\n",
       "</style>\n",
       "<table border=\"1\" class=\"dataframe\">\n",
       "  <thead>\n",
       "    <tr style=\"text-align: right;\">\n",
       "      <th></th>\n",
       "      <th>y</th>\n",
       "      <th>pro_cnt</th>\n",
       "    </tr>\n",
       "    <tr>\n",
       "      <th>me_neg/mean std</th>\n",
       "      <th></th>\n",
       "      <th></th>\n",
       "    </tr>\n",
       "  </thead>\n",
       "  <tbody>\n",
       "    <tr>\n",
       "      <td>train</td>\n",
       "      <td>0.143607</td>\n",
       "      <td>1.419471</td>\n",
       "    </tr>\n",
       "    <tr>\n",
       "      <td>test</td>\n",
       "      <td>0.408888</td>\n",
       "      <td>0.656927</td>\n",
       "    </tr>\n",
       "  </tbody>\n",
       "</table>\n",
       "</div>"
      ],
      "text/plain": [
       "                        y   pro_cnt\n",
       "me_neg/mean std                    \n",
       "train            0.143607  1.419471\n",
       "test             0.408888  0.656927"
      ]
     },
     "metadata": {},
     "output_type": "display_data"
    },
    {
     "data": {
      "text/html": [
       "<div>\n",
       "<style scoped>\n",
       "    .dataframe tbody tr th:only-of-type {\n",
       "        vertical-align: middle;\n",
       "    }\n",
       "\n",
       "    .dataframe tbody tr th {\n",
       "        vertical-align: top;\n",
       "    }\n",
       "\n",
       "    .dataframe thead th {\n",
       "        text-align: right;\n",
       "    }\n",
       "</style>\n",
       "<table border=\"1\" class=\"dataframe\">\n",
       "  <thead>\n",
       "    <tr style=\"text-align: right;\">\n",
       "      <th></th>\n",
       "      <th>y</th>\n",
       "      <th>pro_cnt</th>\n",
       "    </tr>\n",
       "    <tr>\n",
       "      <th>me_neg/mean std/mean</th>\n",
       "      <th></th>\n",
       "      <th></th>\n",
       "    </tr>\n",
       "  </thead>\n",
       "  <tbody>\n",
       "    <tr>\n",
       "      <td>train</td>\n",
       "      <td>-0.739342</td>\n",
       "      <td>-0.998213</td>\n",
       "    </tr>\n",
       "    <tr>\n",
       "      <td>test</td>\n",
       "      <td>-0.830016</td>\n",
       "      <td>-0.639990</td>\n",
       "    </tr>\n",
       "  </tbody>\n",
       "</table>\n",
       "</div>"
      ],
      "text/plain": [
       "                             y   pro_cnt\n",
       "me_neg/mean std/mean                    \n",
       "train                -0.739342 -0.998213\n",
       "test                 -0.830016 -0.639990"
      ]
     },
     "metadata": {},
     "output_type": "display_data"
    },
    {
     "data": {
      "text/html": [
       "<div>\n",
       "<style scoped>\n",
       "    .dataframe tbody tr th:only-of-type {\n",
       "        vertical-align: middle;\n",
       "    }\n",
       "\n",
       "    .dataframe tbody tr th {\n",
       "        vertical-align: top;\n",
       "    }\n",
       "\n",
       "    .dataframe thead th {\n",
       "        text-align: right;\n",
       "    }\n",
       "</style>\n",
       "<table border=\"1\" class=\"dataframe\">\n",
       "  <thead>\n",
       "    <tr style=\"text-align: right;\">\n",
       "      <th></th>\n",
       "      <th>y</th>\n",
       "      <th>pro_cnt</th>\n",
       "    </tr>\n",
       "    <tr>\n",
       "      <th>me_neg/mean from all</th>\n",
       "      <th></th>\n",
       "      <th></th>\n",
       "    </tr>\n",
       "  </thead>\n",
       "  <tbody>\n",
       "    <tr>\n",
       "      <td>train</td>\n",
       "      <td>0.126986</td>\n",
       "      <td>1.382172</td>\n",
       "    </tr>\n",
       "    <tr>\n",
       "      <td>test</td>\n",
       "      <td>0.372011</td>\n",
       "      <td>0.602604</td>\n",
       "    </tr>\n",
       "  </tbody>\n",
       "</table>\n",
       "</div>"
      ],
      "text/plain": [
       "                             y   pro_cnt\n",
       "me_neg/mean from all                    \n",
       "train                 0.126986  1.382172\n",
       "test                  0.372011  0.602604"
      ]
     },
     "metadata": {},
     "output_type": "display_data"
    }
   ],
   "source": [
    "err_type = ('me_neg','mean')\n",
    "eall_df, egrp_df, egrp_std2, egrp_from_eall,egrp_std_by_mean= get_error_for_a_type(overall_err, pi_type_group_err, err_type, disp=True, return_df=True)"
   ]
  },
  {
   "cell_type": "code",
   "execution_count": 219,
   "metadata": {
    "ExecuteTime": {
     "end_time": "2020-04-09T00:53:47.948446Z",
     "start_time": "2020-04-09T00:53:47.868807Z"
    },
    "cell_style": "split",
    "collapsed": true
   },
   "outputs": [
    {
     "data": {
      "text/html": [
       "<div>\n",
       "<style scoped>\n",
       "    .dataframe tbody tr th:only-of-type {\n",
       "        vertical-align: middle;\n",
       "    }\n",
       "\n",
       "    .dataframe tbody tr th {\n",
       "        vertical-align: top;\n",
       "    }\n",
       "\n",
       "    .dataframe thead th {\n",
       "        text-align: right;\n",
       "    }\n",
       "</style>\n",
       "<table border=\"1\" class=\"dataframe\">\n",
       "  <thead>\n",
       "    <tr style=\"text-align: right;\">\n",
       "      <th></th>\n",
       "      <th></th>\n",
       "      <th>train_y</th>\n",
       "      <th>test_y</th>\n",
       "      <th>train_pro_cnt</th>\n",
       "      <th>test_pro_cnt</th>\n",
       "    </tr>\n",
       "  </thead>\n",
       "  <tbody>\n",
       "    <tr>\n",
       "      <td>me_pos</td>\n",
       "      <td>mean</td>\n",
       "      <td>0.506183</td>\n",
       "      <td>1.419037</td>\n",
       "      <td>2.04293</td>\n",
       "      <td>2.587273</td>\n",
       "    </tr>\n",
       "  </tbody>\n",
       "</table>\n",
       "</div>"
      ],
      "text/plain": [
       "              train_y    test_y  train_pro_cnt  test_pro_cnt\n",
       "me_pos mean  0.506183  1.419037        2.04293      2.587273"
      ]
     },
     "metadata": {},
     "output_type": "display_data"
    },
    {
     "data": {
      "text/html": [
       "<div>\n",
       "<style scoped>\n",
       "    .dataframe tbody tr th:only-of-type {\n",
       "        vertical-align: middle;\n",
       "    }\n",
       "\n",
       "    .dataframe tbody tr th {\n",
       "        vertical-align: top;\n",
       "    }\n",
       "\n",
       "    .dataframe thead th {\n",
       "        text-align: right;\n",
       "    }\n",
       "</style>\n",
       "<table border=\"1\" class=\"dataframe\">\n",
       "  <thead>\n",
       "    <tr style=\"text-align: right;\">\n",
       "      <th></th>\n",
       "      <th>train_y</th>\n",
       "      <th>test_y</th>\n",
       "      <th>train_pro_cnt</th>\n",
       "      <th>test_pro_cnt</th>\n",
       "    </tr>\n",
       "    <tr>\n",
       "      <th>me_pos/mean</th>\n",
       "      <th></th>\n",
       "      <th></th>\n",
       "      <th></th>\n",
       "      <th></th>\n",
       "    </tr>\n",
       "  </thead>\n",
       "  <tbody>\n",
       "    <tr>\n",
       "      <td>PI NONE</td>\n",
       "      <td>NaN</td>\n",
       "      <td>NaN</td>\n",
       "      <td>NaN</td>\n",
       "      <td>NaN</td>\n",
       "    </tr>\n",
       "    <tr>\n",
       "      <td>PI&lt;40%,1~4999</td>\n",
       "      <td>0.198642</td>\n",
       "      <td>0.277910</td>\n",
       "      <td>0.783205</td>\n",
       "      <td>0.259228</td>\n",
       "    </tr>\n",
       "    <tr>\n",
       "      <td>PI&lt;40%,&gt;5000</td>\n",
       "      <td>1.382746</td>\n",
       "      <td>5.266573</td>\n",
       "      <td>3.647819</td>\n",
       "      <td>4.992597</td>\n",
       "    </tr>\n",
       "    <tr>\n",
       "      <td>PI&gt;40%</td>\n",
       "      <td>0.312442</td>\n",
       "      <td>0.828260</td>\n",
       "      <td>0.338107</td>\n",
       "      <td>0.402519</td>\n",
       "    </tr>\n",
       "  </tbody>\n",
       "</table>\n",
       "</div>"
      ],
      "text/plain": [
       "                train_y    test_y  train_pro_cnt  test_pro_cnt\n",
       "me_pos/mean                                                   \n",
       "PI NONE             NaN       NaN            NaN           NaN\n",
       "PI<40%,1~4999  0.198642  0.277910       0.783205      0.259228\n",
       "PI<40%,>5000   1.382746  5.266573       3.647819      4.992597\n",
       "PI>40%         0.312442  0.828260       0.338107      0.402519"
      ]
     },
     "metadata": {},
     "output_type": "display_data"
    },
    {
     "data": {
      "text/html": [
       "<div>\n",
       "<style scoped>\n",
       "    .dataframe tbody tr th:only-of-type {\n",
       "        vertical-align: middle;\n",
       "    }\n",
       "\n",
       "    .dataframe tbody tr th {\n",
       "        vertical-align: top;\n",
       "    }\n",
       "\n",
       "    .dataframe thead th {\n",
       "        text-align: right;\n",
       "    }\n",
       "</style>\n",
       "<table border=\"1\" class=\"dataframe\">\n",
       "  <thead>\n",
       "    <tr style=\"text-align: right;\">\n",
       "      <th></th>\n",
       "      <th>y</th>\n",
       "      <th>pro_cnt</th>\n",
       "    </tr>\n",
       "    <tr>\n",
       "      <th>me_pos/mean std</th>\n",
       "      <th></th>\n",
       "      <th></th>\n",
       "    </tr>\n",
       "  </thead>\n",
       "  <tbody>\n",
       "    <tr>\n",
       "      <td>train</td>\n",
       "      <td>0.653274</td>\n",
       "      <td>1.796214</td>\n",
       "    </tr>\n",
       "    <tr>\n",
       "      <td>test</td>\n",
       "      <td>2.735211</td>\n",
       "      <td>2.692400</td>\n",
       "    </tr>\n",
       "  </tbody>\n",
       "</table>\n",
       "</div>"
      ],
      "text/plain": [
       "                        y   pro_cnt\n",
       "me_pos/mean std                    \n",
       "train            0.653274  1.796214\n",
       "test             2.735211  2.692400"
      ]
     },
     "metadata": {},
     "output_type": "display_data"
    },
    {
     "data": {
      "text/html": [
       "<div>\n",
       "<style scoped>\n",
       "    .dataframe tbody tr th:only-of-type {\n",
       "        vertical-align: middle;\n",
       "    }\n",
       "\n",
       "    .dataframe tbody tr th {\n",
       "        vertical-align: top;\n",
       "    }\n",
       "\n",
       "    .dataframe thead th {\n",
       "        text-align: right;\n",
       "    }\n",
       "</style>\n",
       "<table border=\"1\" class=\"dataframe\">\n",
       "  <thead>\n",
       "    <tr style=\"text-align: right;\">\n",
       "      <th></th>\n",
       "      <th>y</th>\n",
       "      <th>pro_cnt</th>\n",
       "    </tr>\n",
       "    <tr>\n",
       "      <th>me_pos/mean std/mean</th>\n",
       "      <th></th>\n",
       "      <th></th>\n",
       "    </tr>\n",
       "  </thead>\n",
       "  <tbody>\n",
       "    <tr>\n",
       "      <td>train</td>\n",
       "      <td>1.034846</td>\n",
       "      <td>1.129900</td>\n",
       "    </tr>\n",
       "    <tr>\n",
       "      <td>test</td>\n",
       "      <td>1.287614</td>\n",
       "      <td>1.428495</td>\n",
       "    </tr>\n",
       "  </tbody>\n",
       "</table>\n",
       "</div>"
      ],
      "text/plain": [
       "                             y   pro_cnt\n",
       "me_pos/mean std/mean                    \n",
       "train                 1.034846  1.129900\n",
       "test                  1.287614  1.428495"
      ]
     },
     "metadata": {},
     "output_type": "display_data"
    },
    {
     "data": {
      "text/html": [
       "<div>\n",
       "<style scoped>\n",
       "    .dataframe tbody tr th:only-of-type {\n",
       "        vertical-align: middle;\n",
       "    }\n",
       "\n",
       "    .dataframe tbody tr th {\n",
       "        vertical-align: top;\n",
       "    }\n",
       "\n",
       "    .dataframe thead th {\n",
       "        text-align: right;\n",
       "    }\n",
       "</style>\n",
       "<table border=\"1\" class=\"dataframe\">\n",
       "  <thead>\n",
       "    <tr style=\"text-align: right;\">\n",
       "      <th></th>\n",
       "      <th>y</th>\n",
       "      <th>pro_cnt</th>\n",
       "    </tr>\n",
       "    <tr>\n",
       "      <th>me_pos/mean from all</th>\n",
       "      <th></th>\n",
       "      <th></th>\n",
       "    </tr>\n",
       "  </thead>\n",
       "  <tbody>\n",
       "    <tr>\n",
       "      <td>train</td>\n",
       "      <td>0.547868</td>\n",
       "      <td>1.535035</td>\n",
       "    </tr>\n",
       "    <tr>\n",
       "      <td>test</td>\n",
       "      <td>2.341988</td>\n",
       "      <td>2.307851</td>\n",
       "    </tr>\n",
       "  </tbody>\n",
       "</table>\n",
       "</div>"
      ],
      "text/plain": [
       "                             y   pro_cnt\n",
       "me_pos/mean from all                    \n",
       "train                 0.547868  1.535035\n",
       "test                  2.341988  2.307851"
      ]
     },
     "metadata": {},
     "output_type": "display_data"
    }
   ],
   "source": [
    "err_type = ('me_pos','mean')\n",
    "eall_df, egrp_df, egrp_std2, egrp_from_eall,egrp_std_by_mean= get_error_for_a_type(overall_err, pi_type_group_err, err_type, disp=True, return_df=True)"
   ]
  },
  {
   "cell_type": "markdown",
   "metadata": {},
   "source": [
    "### fair measured by expectation difference"
   ]
  },
  {
   "cell_type": "code",
   "execution_count": null,
   "metadata": {},
   "outputs": [],
   "source": []
  },
  {
   "cell_type": "code",
   "execution_count": 296,
   "metadata": {
    "ExecuteTime": {
     "end_time": "2020-04-09T01:30:57.985773Z",
     "start_time": "2020-04-09T01:30:57.885920Z"
    },
    "cell_style": "split",
    "collapsed": true
   },
   "outputs": [
    {
     "data": {
      "text/html": [
       "<div>\n",
       "<style scoped>\n",
       "    .dataframe tbody tr th:only-of-type {\n",
       "        vertical-align: middle;\n",
       "    }\n",
       "\n",
       "    .dataframe tbody tr th {\n",
       "        vertical-align: top;\n",
       "    }\n",
       "\n",
       "    .dataframe thead th {\n",
       "        text-align: right;\n",
       "    }\n",
       "</style>\n",
       "<table border=\"1\" class=\"dataframe\">\n",
       "  <thead>\n",
       "    <tr style=\"text-align: right;\">\n",
       "      <th></th>\n",
       "      <th>PI NONE</th>\n",
       "      <th>PI&lt;40%,1~4999</th>\n",
       "      <th>PI&lt;40%,&gt;5000</th>\n",
       "      <th>PI&gt;40%</th>\n",
       "    </tr>\n",
       "  </thead>\n",
       "  <tbody>\n",
       "    <tr>\n",
       "      <td>PI NONE</td>\n",
       "      <td>0.000000</td>\n",
       "      <td>0.542469</td>\n",
       "      <td>3.294252</td>\n",
       "      <td>0.536964</td>\n",
       "    </tr>\n",
       "    <tr>\n",
       "      <td>PI&lt;40%,1~4999</td>\n",
       "      <td>-0.542469</td>\n",
       "      <td>0.000000</td>\n",
       "      <td>2.751784</td>\n",
       "      <td>-0.005504</td>\n",
       "    </tr>\n",
       "    <tr>\n",
       "      <td>PI&lt;40%,&gt;5000</td>\n",
       "      <td>-3.294252</td>\n",
       "      <td>-2.751784</td>\n",
       "      <td>0.000000</td>\n",
       "      <td>-2.757288</td>\n",
       "    </tr>\n",
       "    <tr>\n",
       "      <td>PI&gt;40%</td>\n",
       "      <td>-0.536964</td>\n",
       "      <td>0.005504</td>\n",
       "      <td>2.757288</td>\n",
       "      <td>0.000000</td>\n",
       "    </tr>\n",
       "  </tbody>\n",
       "</table>\n",
       "</div>"
      ],
      "text/plain": [
       "                PI NONE  PI<40%,1~4999  PI<40%,>5000    PI>40%\n",
       "PI NONE        0.000000       0.542469      3.294252  0.536964\n",
       "PI<40%,1~4999 -0.542469       0.000000      2.751784 -0.005504\n",
       "PI<40%,>5000  -3.294252      -2.751784      0.000000 -2.757288\n",
       "PI>40%        -0.536964       0.005504      2.757288  0.000000"
      ]
     },
     "execution_count": 296,
     "metadata": {},
     "output_type": "execute_result"
    }
   ],
   "source": [
    "pcol, gcol='y', 'PI_type'\n",
    "fair_by_expectation(train_result_compare, norm_factor, pcol, gcol, vs='all vs all')"
   ]
  },
  {
   "cell_type": "code",
   "execution_count": 295,
   "metadata": {
    "ExecuteTime": {
     "end_time": "2020-04-09T01:30:55.395601Z",
     "start_time": "2020-04-09T01:30:55.310210Z"
    },
    "cell_style": "split",
    "collapsed": true
   },
   "outputs": [
    {
     "data": {
      "text/html": [
       "<div>\n",
       "<style scoped>\n",
       "    .dataframe tbody tr th:only-of-type {\n",
       "        vertical-align: middle;\n",
       "    }\n",
       "\n",
       "    .dataframe tbody tr th {\n",
       "        vertical-align: top;\n",
       "    }\n",
       "\n",
       "    .dataframe thead th {\n",
       "        text-align: right;\n",
       "    }\n",
       "</style>\n",
       "<table border=\"1\" class=\"dataframe\">\n",
       "  <thead>\n",
       "    <tr style=\"text-align: right;\">\n",
       "      <th></th>\n",
       "      <th>PI NONE</th>\n",
       "      <th>PI&lt;40%,1~4999</th>\n",
       "      <th>PI&lt;40%,&gt;5000</th>\n",
       "      <th>PI&gt;40%</th>\n",
       "    </tr>\n",
       "  </thead>\n",
       "  <tbody>\n",
       "    <tr>\n",
       "      <td>PI NONE</td>\n",
       "      <td>0.000000</td>\n",
       "      <td>-2.411502</td>\n",
       "      <td>0.441516</td>\n",
       "      <td>-3.231143</td>\n",
       "    </tr>\n",
       "    <tr>\n",
       "      <td>PI&lt;40%,1~4999</td>\n",
       "      <td>2.411502</td>\n",
       "      <td>0.000000</td>\n",
       "      <td>2.853018</td>\n",
       "      <td>-0.819641</td>\n",
       "    </tr>\n",
       "    <tr>\n",
       "      <td>PI&lt;40%,&gt;5000</td>\n",
       "      <td>-0.441516</td>\n",
       "      <td>-2.853018</td>\n",
       "      <td>0.000000</td>\n",
       "      <td>-3.672659</td>\n",
       "    </tr>\n",
       "    <tr>\n",
       "      <td>PI&gt;40%</td>\n",
       "      <td>3.231143</td>\n",
       "      <td>0.819641</td>\n",
       "      <td>3.672659</td>\n",
       "      <td>0.000000</td>\n",
       "    </tr>\n",
       "  </tbody>\n",
       "</table>\n",
       "</div>"
      ],
      "text/plain": [
       "                PI NONE  PI<40%,1~4999  PI<40%,>5000    PI>40%\n",
       "PI NONE        0.000000      -2.411502      0.441516 -3.231143\n",
       "PI<40%,1~4999  2.411502       0.000000      2.853018 -0.819641\n",
       "PI<40%,>5000  -0.441516      -2.853018      0.000000 -3.672659\n",
       "PI>40%         3.231143       0.819641      3.672659  0.000000"
      ]
     },
     "execution_count": 295,
     "metadata": {},
     "output_type": "execute_result"
    }
   ],
   "source": [
    "pcol, gcol='pro_cnt', 'PI_type'\n",
    "fair_by_expectation(train_result_compare, norm_factor, pcol, gcol, vs='all vs all')"
   ]
  },
  {
   "cell_type": "code",
   "execution_count": 297,
   "metadata": {
    "ExecuteTime": {
     "end_time": "2020-04-09T01:31:21.289792Z",
     "start_time": "2020-04-09T01:31:21.212921Z"
    },
    "cell_style": "split",
    "scrolled": true
   },
   "outputs": [
    {
     "data": {
      "text/html": [
       "<div>\n",
       "<style scoped>\n",
       "    .dataframe tbody tr th:only-of-type {\n",
       "        vertical-align: middle;\n",
       "    }\n",
       "\n",
       "    .dataframe tbody tr th {\n",
       "        vertical-align: top;\n",
       "    }\n",
       "\n",
       "    .dataframe thead th {\n",
       "        text-align: right;\n",
       "    }\n",
       "</style>\n",
       "<table border=\"1\" class=\"dataframe\">\n",
       "  <thead>\n",
       "    <tr style=\"text-align: right;\">\n",
       "      <th></th>\n",
       "      <th>PI NONE</th>\n",
       "      <th>PI&lt;40%,1~4999</th>\n",
       "      <th>PI&lt;40%,&gt;5000</th>\n",
       "      <th>PI&gt;40%</th>\n",
       "    </tr>\n",
       "  </thead>\n",
       "  <tbody>\n",
       "    <tr>\n",
       "      <td>PI NONE</td>\n",
       "      <td>0.000000</td>\n",
       "      <td>0.672274</td>\n",
       "      <td>2.478375</td>\n",
       "      <td>0.322369</td>\n",
       "    </tr>\n",
       "    <tr>\n",
       "      <td>PI&lt;40%,1~4999</td>\n",
       "      <td>-0.672274</td>\n",
       "      <td>0.000000</td>\n",
       "      <td>1.806100</td>\n",
       "      <td>-0.349906</td>\n",
       "    </tr>\n",
       "    <tr>\n",
       "      <td>PI&lt;40%,&gt;5000</td>\n",
       "      <td>-2.478375</td>\n",
       "      <td>-1.806100</td>\n",
       "      <td>0.000000</td>\n",
       "      <td>-2.156006</td>\n",
       "    </tr>\n",
       "    <tr>\n",
       "      <td>PI&gt;40%</td>\n",
       "      <td>-0.322369</td>\n",
       "      <td>0.349906</td>\n",
       "      <td>2.156006</td>\n",
       "      <td>0.000000</td>\n",
       "    </tr>\n",
       "  </tbody>\n",
       "</table>\n",
       "</div>"
      ],
      "text/plain": [
       "                PI NONE  PI<40%,1~4999  PI<40%,>5000    PI>40%\n",
       "PI NONE        0.000000       0.672274      2.478375  0.322369\n",
       "PI<40%,1~4999 -0.672274       0.000000      1.806100 -0.349906\n",
       "PI<40%,>5000  -2.478375      -1.806100      0.000000 -2.156006\n",
       "PI>40%        -0.322369       0.349906      2.156006  0.000000"
      ]
     },
     "execution_count": 297,
     "metadata": {},
     "output_type": "execute_result"
    }
   ],
   "source": [
    "pcol, gcol='y', 'PI_type'\n",
    "fair_by_expectation(test_result_compare, norm_factor, pcol, gcol, vs='all vs all')"
   ]
  },
  {
   "cell_type": "code",
   "execution_count": 298,
   "metadata": {
    "ExecuteTime": {
     "end_time": "2020-04-09T01:31:21.289792Z",
     "start_time": "2020-04-09T01:31:21.212921Z"
    },
    "cell_style": "split",
    "scrolled": true
   },
   "outputs": [
    {
     "data": {
      "text/html": [
       "<div>\n",
       "<style scoped>\n",
       "    .dataframe tbody tr th:only-of-type {\n",
       "        vertical-align: middle;\n",
       "    }\n",
       "\n",
       "    .dataframe tbody tr th {\n",
       "        vertical-align: top;\n",
       "    }\n",
       "\n",
       "    .dataframe thead th {\n",
       "        text-align: right;\n",
       "    }\n",
       "</style>\n",
       "<table border=\"1\" class=\"dataframe\">\n",
       "  <thead>\n",
       "    <tr style=\"text-align: right;\">\n",
       "      <th></th>\n",
       "      <th>PI NONE</th>\n",
       "      <th>PI&lt;40%,1~4999</th>\n",
       "      <th>PI&lt;40%,&gt;5000</th>\n",
       "      <th>PI&gt;40%</th>\n",
       "    </tr>\n",
       "  </thead>\n",
       "  <tbody>\n",
       "    <tr>\n",
       "      <td>PI NONE</td>\n",
       "      <td>0.000000</td>\n",
       "      <td>-0.666466</td>\n",
       "      <td>0.876263</td>\n",
       "      <td>-1.548742</td>\n",
       "    </tr>\n",
       "    <tr>\n",
       "      <td>PI&lt;40%,1~4999</td>\n",
       "      <td>0.666466</td>\n",
       "      <td>0.000000</td>\n",
       "      <td>1.542729</td>\n",
       "      <td>-0.882276</td>\n",
       "    </tr>\n",
       "    <tr>\n",
       "      <td>PI&lt;40%,&gt;5000</td>\n",
       "      <td>-0.876263</td>\n",
       "      <td>-1.542729</td>\n",
       "      <td>0.000000</td>\n",
       "      <td>-2.425005</td>\n",
       "    </tr>\n",
       "    <tr>\n",
       "      <td>PI&gt;40%</td>\n",
       "      <td>1.548742</td>\n",
       "      <td>0.882276</td>\n",
       "      <td>2.425005</td>\n",
       "      <td>0.000000</td>\n",
       "    </tr>\n",
       "  </tbody>\n",
       "</table>\n",
       "</div>"
      ],
      "text/plain": [
       "                PI NONE  PI<40%,1~4999  PI<40%,>5000    PI>40%\n",
       "PI NONE        0.000000      -0.666466      0.876263 -1.548742\n",
       "PI<40%,1~4999  0.666466       0.000000      1.542729 -0.882276\n",
       "PI<40%,>5000  -0.876263      -1.542729      0.000000 -2.425005\n",
       "PI>40%         1.548742       0.882276      2.425005  0.000000"
      ]
     },
     "execution_count": 298,
     "metadata": {},
     "output_type": "execute_result"
    }
   ],
   "source": [
    "pcol, gcol='pro_cnt', 'PI_type'\n",
    "fair_by_expectation(test_result_compare, norm_factor, pcol, gcol, vs='all vs all')"
   ]
  },
  {
   "cell_type": "code",
   "execution_count": 299,
   "metadata": {
    "ExecuteTime": {
     "end_time": "2020-04-09T01:31:48.150954Z",
     "start_time": "2020-04-09T01:31:48.103751Z"
    },
    "cell_style": "split",
    "collapsed": true
   },
   "outputs": [
    {
     "data": {
      "text/plain": [
       "PI NONE         -0.971927\n",
       "PI<40%,1~4999   -1.388722\n",
       "PI<40%,>5000     2.754501\n",
       "PI>40%          -0.507825\n",
       "dtype: float64"
      ]
     },
     "execution_count": 299,
     "metadata": {},
     "output_type": "execute_result"
    }
   ],
   "source": [
    "pcol, gcol='y', 'PI_type'\n",
    "fair_by_expectation(train_result_compare, norm_factor, pcol, gcol, vs='1 vs all')"
   ]
  },
  {
   "cell_type": "code",
   "execution_count": 300,
   "metadata": {
    "ExecuteTime": {
     "end_time": "2020-04-09T01:32:00.254569Z",
     "start_time": "2020-04-09T01:32:00.223267Z"
    },
    "cell_style": "split",
    "collapsed": true
   },
   "outputs": [
    {
     "data": {
      "text/plain": [
       "PI NONE          2.087595\n",
       "PI<40%,1~4999   -1.072367\n",
       "PI<40%,>5000     2.989631\n",
       "PI>40%          -1.349943\n",
       "dtype: float64"
      ]
     },
     "execution_count": 300,
     "metadata": {},
     "output_type": "execute_result"
    }
   ],
   "source": [
    "pcol, gcol='pro_cnt', 'PI_type'\n",
    "fair_by_expectation(train_result_compare, norm_factor, pcol, gcol, vs='1 vs all')"
   ]
  },
  {
   "cell_type": "code",
   "execution_count": 302,
   "metadata": {
    "ExecuteTime": {
     "end_time": "2020-04-09T01:32:21.949809Z",
     "start_time": "2020-04-09T01:32:21.894614Z"
    },
    "cell_style": "split",
    "scrolled": true
   },
   "outputs": [
    {
     "data": {
      "text/plain": [
       "PI NONE         -0.888895\n",
       "PI<40%,1~4999   -0.682465\n",
       "PI<40%,>5000     1.874358\n",
       "PI>40%          -0.660613\n",
       "dtype: float64"
      ]
     },
     "execution_count": 302,
     "metadata": {},
     "output_type": "execute_result"
    }
   ],
   "source": [
    "pcol, gcol='y', 'PI_type'\n",
    "fair_by_expectation(test_result_compare, norm_factor, pcol, gcol, vs='1 vs all')"
   ]
  },
  {
   "cell_type": "code",
   "execution_count": 301,
   "metadata": {
    "ExecuteTime": {
     "end_time": "2020-04-09T01:32:20.998376Z",
     "start_time": "2020-04-09T01:32:20.942408Z"
    },
    "cell_style": "split",
    "scrolled": true
   },
   "outputs": [
    {
     "data": {
      "text/plain": [
       "PI NONE          0.570859\n",
       "PI<40%,1~4999   -0.323873\n",
       "PI<40%,>5000     1.694740\n",
       "PI>40%          -1.158280\n",
       "dtype: float64"
      ]
     },
     "execution_count": 301,
     "metadata": {},
     "output_type": "execute_result"
    }
   ],
   "source": [
    "pcol, gcol='pro_cnt', 'PI_type'\n",
    "fair_by_expectation(test_result_compare, norm_factor, pcol, gcol, vs='1 vs all')"
   ]
  },
  {
   "cell_type": "markdown",
   "metadata": {
    "heading_collapsed": true
   },
   "source": [
    "### (deprecate maybe) normalized RMSE, MAE by each group's mean, range or quartile"
   ]
  },
  {
   "cell_type": "code",
   "execution_count": 170,
   "metadata": {
    "ExecuteTime": {
     "end_time": "2020-03-26T01:41:52.398052Z",
     "start_time": "2020-03-26T01:41:52.368818Z"
    },
    "code_folding": [],
    "hidden": true
   },
   "outputs": [],
   "source": [
    "def normalized_error_summary(df, col):\n",
    "    mean = df[col].mean()\n",
    "    max_min = df[col].max()-df[col].min()\n",
    "    interquartile = df[col].quantile(.75, interpolation='nearest') - df[col].quantile(.25, interpolation='nearest')\n",
    "    \n",
    "    rmse = pd.np.sqrt(df[col+'_mse'].mean())\n",
    "    mae = df[col+'_mae'].mean()\n",
    "    \n",
    "    return {\n",
    "        ('mean', 'rmse'): rmse / mean,\n",
    "        ('max_min', 'rmse') : rmse/ max_min,\n",
    "        ('quartile', 'rmse'): rmse/interquartile,\n",
    "        ('mean', 'mae'): mae / mean,\n",
    "        ('max_min', 'mae') : mae/ max_min,\n",
    "        ('quartile', 'mae'): mae/interquartile,\n",
    "    }\n",
    "\n",
    "def group_err(df, col):\n",
    "    return pd.DataFrame(df.groupby('PI_type').apply(lambda df: normalized_error_summary(df, col)).to_dict()).T"
   ]
  },
  {
   "cell_type": "code",
   "execution_count": 179,
   "metadata": {
    "ExecuteTime": {
     "end_time": "2020-03-26T01:44:36.879716Z",
     "start_time": "2020-03-26T01:44:36.780864Z"
    },
    "hidden": true
   },
   "outputs": [],
   "source": [
    "pi_type_group_err = {}\n",
    "\n",
    "pi_type_group_err['train_y'] = group_err(train_result_compare, 'y')\n",
    "pi_type_group_err['test_y'] = group_err(test_result_compare, 'y')\n",
    "pi_type_group_err['train_pro_cnt'] = group_err(train_result_compare, 'pro_cnt')\n",
    "pi_type_group_err['test_pro_cnt'] = group_err(train_result_compare, 'pro_cnt')\n",
    "\n",
    "group_err_stds = []\n",
    "for k, v in pi_type_group_err.items():\n",
    "    tmp = v.std()\n",
    "    tmp.name=k\n",
    "    group_err_stds.append(tmp)\n"
   ]
  },
  {
   "cell_type": "code",
   "execution_count": 185,
   "metadata": {
    "ExecuteTime": {
     "end_time": "2020-03-26T01:50:07.266641Z",
     "start_time": "2020-03-26T01:50:07.222638Z"
    },
    "cell_style": "split",
    "hidden": true
   },
   "outputs": [
    {
     "data": {
      "text/plain": [
       "PI_type\n",
       "PI NONE          0.023805\n",
       "PI<40%,1~4999    0.376839\n",
       "PI<40%,>5000     2.290573\n",
       "PI>40%           0.429271\n",
       "dtype: float64"
      ]
     },
     "execution_count": 185,
     "metadata": {},
     "output_type": "execute_result"
    }
   ],
   "source": [
    "train_result_compare.groupby('PI_type').apply(lambda df: pd.np.sqrt(df.y_mse.mean())/train_result_compare.y.mean())"
   ]
  },
  {
   "cell_type": "code",
   "execution_count": 186,
   "metadata": {
    "ExecuteTime": {
     "end_time": "2020-03-26T01:50:27.488364Z",
     "start_time": "2020-03-26T01:50:27.447652Z"
    },
    "cell_style": "split",
    "hidden": true
   },
   "outputs": [
    {
     "data": {
      "text/plain": [
       "PI_type\n",
       "PI NONE          0.102023\n",
       "PI<40%,1~4999    0.706373\n",
       "PI<40%,>5000     5.014172\n",
       "PI>40%           0.399028\n",
       "dtype: float64"
      ]
     },
     "execution_count": 186,
     "metadata": {},
     "output_type": "execute_result"
    }
   ],
   "source": [
    "train_result_compare.groupby('PI_type').apply(lambda df: pd.np.sqrt(df.pro_cnt_mse.mean())/train_result_compare.pro_cnt.mean())"
   ]
  },
  {
   "cell_type": "code",
   "execution_count": 181,
   "metadata": {
    "ExecuteTime": {
     "end_time": "2020-03-26T01:45:14.900959Z",
     "start_time": "2020-03-26T01:45:14.861211Z"
    },
    "cell_style": "split",
    "hidden": true
   },
   "outputs": [
    {
     "data": {
      "text/html": [
       "<div>\n",
       "<style scoped>\n",
       "    .dataframe tbody tr th:only-of-type {\n",
       "        vertical-align: middle;\n",
       "    }\n",
       "\n",
       "    .dataframe tbody tr th {\n",
       "        vertical-align: top;\n",
       "    }\n",
       "\n",
       "    .dataframe thead tr th {\n",
       "        text-align: left;\n",
       "    }\n",
       "</style>\n",
       "<table border=\"1\" class=\"dataframe\">\n",
       "  <thead>\n",
       "    <tr>\n",
       "      <th></th>\n",
       "      <th>mean</th>\n",
       "      <th>max_min</th>\n",
       "      <th>quartile</th>\n",
       "      <th>mean</th>\n",
       "      <th>max_min</th>\n",
       "      <th>quartile</th>\n",
       "    </tr>\n",
       "    <tr>\n",
       "      <th></th>\n",
       "      <th>rmse</th>\n",
       "      <th>rmse</th>\n",
       "      <th>rmse</th>\n",
       "      <th>mae</th>\n",
       "      <th>mae</th>\n",
       "      <th>mae</th>\n",
       "    </tr>\n",
       "  </thead>\n",
       "  <tbody>\n",
       "    <tr>\n",
       "      <td>PI NONE</td>\n",
       "      <td>2.004960</td>\n",
       "      <td>2.409409</td>\n",
       "      <td>4.323627</td>\n",
       "      <td>1.395945</td>\n",
       "      <td>1.677541</td>\n",
       "      <td>3.010307</td>\n",
       "    </tr>\n",
       "    <tr>\n",
       "      <td>PI&lt;40%,1~4999</td>\n",
       "      <td>0.856085</td>\n",
       "      <td>0.036402</td>\n",
       "      <td>0.917209</td>\n",
       "      <td>0.423528</td>\n",
       "      <td>0.018009</td>\n",
       "      <td>0.453767</td>\n",
       "    </tr>\n",
       "    <tr>\n",
       "      <td>PI&lt;40%,&gt;5000</td>\n",
       "      <td>0.533739</td>\n",
       "      <td>0.053698</td>\n",
       "      <td>0.523219</td>\n",
       "      <td>0.226644</td>\n",
       "      <td>0.022802</td>\n",
       "      <td>0.222177</td>\n",
       "    </tr>\n",
       "    <tr>\n",
       "      <td>PI&gt;40%</td>\n",
       "      <td>1.032282</td>\n",
       "      <td>0.068989</td>\n",
       "      <td>1.491429</td>\n",
       "      <td>0.400289</td>\n",
       "      <td>0.026752</td>\n",
       "      <td>0.578333</td>\n",
       "    </tr>\n",
       "  </tbody>\n",
       "</table>\n",
       "</div>"
      ],
      "text/plain": [
       "                   mean   max_min  quartile      mean   max_min  quartile\n",
       "                   rmse      rmse      rmse       mae       mae       mae\n",
       "PI NONE        2.004960  2.409409  4.323627  1.395945  1.677541  3.010307\n",
       "PI<40%,1~4999  0.856085  0.036402  0.917209  0.423528  0.018009  0.453767\n",
       "PI<40%,>5000   0.533739  0.053698  0.523219  0.226644  0.022802  0.222177\n",
       "PI>40%         1.032282  0.068989  1.491429  0.400289  0.026752  0.578333"
      ]
     },
     "execution_count": 181,
     "metadata": {},
     "output_type": "execute_result"
    }
   ],
   "source": [
    "pi_type_group_err['test_y']"
   ]
  },
  {
   "cell_type": "code",
   "execution_count": 182,
   "metadata": {
    "ExecuteTime": {
     "end_time": "2020-03-26T01:45:31.067843Z",
     "start_time": "2020-03-26T01:45:31.023985Z"
    },
    "cell_style": "split",
    "hidden": true,
    "scrolled": true
   },
   "outputs": [
    {
     "data": {
      "text/html": [
       "<div>\n",
       "<style scoped>\n",
       "    .dataframe tbody tr th:only-of-type {\n",
       "        vertical-align: middle;\n",
       "    }\n",
       "\n",
       "    .dataframe tbody tr th {\n",
       "        vertical-align: top;\n",
       "    }\n",
       "\n",
       "    .dataframe thead tr th {\n",
       "        text-align: left;\n",
       "    }\n",
       "</style>\n",
       "<table border=\"1\" class=\"dataframe\">\n",
       "  <thead>\n",
       "    <tr>\n",
       "      <th></th>\n",
       "      <th>mean</th>\n",
       "      <th>max_min</th>\n",
       "      <th>quartile</th>\n",
       "      <th>mean</th>\n",
       "      <th>max_min</th>\n",
       "      <th>quartile</th>\n",
       "    </tr>\n",
       "    <tr>\n",
       "      <th></th>\n",
       "      <th>rmse</th>\n",
       "      <th>rmse</th>\n",
       "      <th>rmse</th>\n",
       "      <th>mae</th>\n",
       "      <th>mae</th>\n",
       "      <th>mae</th>\n",
       "    </tr>\n",
       "  </thead>\n",
       "  <tbody>\n",
       "    <tr>\n",
       "      <td>PI NONE</td>\n",
       "      <td>9.824753</td>\n",
       "      <td>5.501861</td>\n",
       "      <td>9.169769</td>\n",
       "      <td>8.929121</td>\n",
       "      <td>5.000308</td>\n",
       "      <td>8.333846</td>\n",
       "    </tr>\n",
       "    <tr>\n",
       "      <td>PI&lt;40%,1~4999</td>\n",
       "      <td>2.049821</td>\n",
       "      <td>0.048061</td>\n",
       "      <td>3.401177</td>\n",
       "      <td>0.807145</td>\n",
       "      <td>0.018925</td>\n",
       "      <td>1.339259</td>\n",
       "    </tr>\n",
       "    <tr>\n",
       "      <td>PI&lt;40%,&gt;5000</td>\n",
       "      <td>0.977279</td>\n",
       "      <td>0.076580</td>\n",
       "      <td>0.893010</td>\n",
       "      <td>0.345369</td>\n",
       "      <td>0.027063</td>\n",
       "      <td>0.315589</td>\n",
       "    </tr>\n",
       "    <tr>\n",
       "      <td>PI&gt;40%</td>\n",
       "      <td>6.915059</td>\n",
       "      <td>0.345960</td>\n",
       "      <td>11.954847</td>\n",
       "      <td>1.563333</td>\n",
       "      <td>0.078213</td>\n",
       "      <td>2.702711</td>\n",
       "    </tr>\n",
       "  </tbody>\n",
       "</table>\n",
       "</div>"
      ],
      "text/plain": [
       "                   mean   max_min   quartile      mean   max_min  quartile\n",
       "                   rmse      rmse       rmse       mae       mae       mae\n",
       "PI NONE        9.824753  5.501861   9.169769  8.929121  5.000308  8.333846\n",
       "PI<40%,1~4999  2.049821  0.048061   3.401177  0.807145  0.018925  1.339259\n",
       "PI<40%,>5000   0.977279  0.076580   0.893010  0.345369  0.027063  0.315589\n",
       "PI>40%         6.915059  0.345960  11.954847  1.563333  0.078213  2.702711"
      ]
     },
     "execution_count": 182,
     "metadata": {},
     "output_type": "execute_result"
    }
   ],
   "source": [
    "pi_type_group_err['test_pro_cnt']"
   ]
  },
  {
   "cell_type": "code",
   "execution_count": 180,
   "metadata": {
    "ExecuteTime": {
     "end_time": "2020-03-26T01:44:37.821046Z",
     "start_time": "2020-03-26T01:44:37.775756Z"
    },
    "hidden": true
   },
   "outputs": [
    {
     "data": {
      "text/html": [
       "<div>\n",
       "<style scoped>\n",
       "    .dataframe tbody tr th:only-of-type {\n",
       "        vertical-align: middle;\n",
       "    }\n",
       "\n",
       "    .dataframe tbody tr th {\n",
       "        vertical-align: top;\n",
       "    }\n",
       "\n",
       "    .dataframe thead th {\n",
       "        text-align: right;\n",
       "    }\n",
       "</style>\n",
       "<table border=\"1\" class=\"dataframe\">\n",
       "  <thead>\n",
       "    <tr style=\"text-align: right;\">\n",
       "      <th></th>\n",
       "      <th></th>\n",
       "      <th>train_y</th>\n",
       "      <th>test_y</th>\n",
       "      <th>train_pro_cnt</th>\n",
       "      <th>test_pro_cnt</th>\n",
       "    </tr>\n",
       "  </thead>\n",
       "  <tbody>\n",
       "    <tr>\n",
       "      <td>mean</td>\n",
       "      <td>rmse</td>\n",
       "      <td>0.633377</td>\n",
       "      <td>0.300009</td>\n",
       "      <td>4.156038</td>\n",
       "      <td>4.156038</td>\n",
       "    </tr>\n",
       "    <tr>\n",
       "      <td>max_min</td>\n",
       "      <td>rmse</td>\n",
       "      <td>1.178265</td>\n",
       "      <td>0.082349</td>\n",
       "      <td>2.675865</td>\n",
       "      <td>2.675865</td>\n",
       "    </tr>\n",
       "    <tr>\n",
       "      <td>quartile</td>\n",
       "      <td>rmse</td>\n",
       "      <td>1.719751</td>\n",
       "      <td>0.458005</td>\n",
       "      <td>5.093775</td>\n",
       "      <td>5.093775</td>\n",
       "    </tr>\n",
       "    <tr>\n",
       "      <td>mean</td>\n",
       "      <td>mae</td>\n",
       "      <td>0.530224</td>\n",
       "      <td>0.155131</td>\n",
       "      <td>4.043211</td>\n",
       "      <td>4.043211</td>\n",
       "    </tr>\n",
       "    <tr>\n",
       "      <td>max_min</td>\n",
       "      <td>mae</td>\n",
       "      <td>0.827518</td>\n",
       "      <td>0.052590</td>\n",
       "      <td>2.479593</td>\n",
       "      <td>2.479593</td>\n",
       "    </tr>\n",
       "    <tr>\n",
       "      <td>quartile</td>\n",
       "      <td>mae</td>\n",
       "      <td>1.304481</td>\n",
       "      <td>0.285657</td>\n",
       "      <td>3.576913</td>\n",
       "      <td>3.576913</td>\n",
       "    </tr>\n",
       "  </tbody>\n",
       "</table>\n",
       "</div>"
      ],
      "text/plain": [
       "                train_y    test_y  train_pro_cnt  test_pro_cnt\n",
       "mean     rmse  0.633377  0.300009       4.156038      4.156038\n",
       "max_min  rmse  1.178265  0.082349       2.675865      2.675865\n",
       "quartile rmse  1.719751  0.458005       5.093775      5.093775\n",
       "mean     mae   0.530224  0.155131       4.043211      4.043211\n",
       "max_min  mae   0.827518  0.052590       2.479593      2.479593\n",
       "quartile mae   1.304481  0.285657       3.576913      3.576913"
      ]
     },
     "execution_count": 180,
     "metadata": {},
     "output_type": "execute_result"
    }
   ],
   "source": [
    "pd.concat(group_err_stds, axis=1)"
   ]
  },
  {
   "cell_type": "markdown",
   "metadata": {},
   "source": [
    "## performance and aver_income"
   ]
  },
  {
   "cell_type": "markdown",
   "metadata": {
    "cell_style": "center"
   },
   "source": [
    "### fair measured by expectation difference"
   ]
  },
  {
   "cell_type": "code",
   "execution_count": 303,
   "metadata": {
    "ExecuteTime": {
     "end_time": "2020-04-09T01:33:28.104684Z",
     "start_time": "2020-04-09T01:33:28.008035Z"
    },
    "cell_style": "split",
    "collapsed": true
   },
   "outputs": [
    {
     "data": {
      "text/html": [
       "<div>\n",
       "<style scoped>\n",
       "    .dataframe tbody tr th:only-of-type {\n",
       "        vertical-align: middle;\n",
       "    }\n",
       "\n",
       "    .dataframe tbody tr th {\n",
       "        vertical-align: top;\n",
       "    }\n",
       "\n",
       "    .dataframe thead th {\n",
       "        text-align: right;\n",
       "    }\n",
       "</style>\n",
       "<table border=\"1\" class=\"dataframe\">\n",
       "  <thead>\n",
       "    <tr style=\"text-align: right;\">\n",
       "      <th></th>\n",
       "      <th>0</th>\n",
       "      <th>1</th>\n",
       "      <th>2</th>\n",
       "      <th>3</th>\n",
       "    </tr>\n",
       "  </thead>\n",
       "  <tbody>\n",
       "    <tr>\n",
       "      <td>0</td>\n",
       "      <td>0.000000</td>\n",
       "      <td>0.211181</td>\n",
       "      <td>0.267792</td>\n",
       "      <td>2.165503</td>\n",
       "    </tr>\n",
       "    <tr>\n",
       "      <td>1</td>\n",
       "      <td>-0.211181</td>\n",
       "      <td>0.000000</td>\n",
       "      <td>0.056610</td>\n",
       "      <td>1.954321</td>\n",
       "    </tr>\n",
       "    <tr>\n",
       "      <td>2</td>\n",
       "      <td>-0.267792</td>\n",
       "      <td>-0.056610</td>\n",
       "      <td>0.000000</td>\n",
       "      <td>1.897711</td>\n",
       "    </tr>\n",
       "    <tr>\n",
       "      <td>3</td>\n",
       "      <td>-2.165503</td>\n",
       "      <td>-1.954321</td>\n",
       "      <td>-1.897711</td>\n",
       "      <td>0.000000</td>\n",
       "    </tr>\n",
       "  </tbody>\n",
       "</table>\n",
       "</div>"
      ],
      "text/plain": [
       "          0         1         2         3\n",
       "0  0.000000  0.211181  0.267792  2.165503\n",
       "1 -0.211181  0.000000  0.056610  1.954321\n",
       "2 -0.267792 -0.056610  0.000000  1.897711\n",
       "3 -2.165503 -1.954321 -1.897711  0.000000"
      ]
     },
     "execution_count": 303,
     "metadata": {},
     "output_type": "execute_result"
    }
   ],
   "source": [
    "pcol, gcol='y', 'income_group'\n",
    "fair_by_expectation(train_result_compare, norm_factor, pcol, gcol, vs='all vs all')"
   ]
  },
  {
   "cell_type": "code",
   "execution_count": 304,
   "metadata": {
    "ExecuteTime": {
     "end_time": "2020-04-09T01:33:28.222220Z",
     "start_time": "2020-04-09T01:33:28.106609Z"
    },
    "cell_style": "split",
    "collapsed": true
   },
   "outputs": [
    {
     "data": {
      "text/html": [
       "<div>\n",
       "<style scoped>\n",
       "    .dataframe tbody tr th:only-of-type {\n",
       "        vertical-align: middle;\n",
       "    }\n",
       "\n",
       "    .dataframe tbody tr th {\n",
       "        vertical-align: top;\n",
       "    }\n",
       "\n",
       "    .dataframe thead th {\n",
       "        text-align: right;\n",
       "    }\n",
       "</style>\n",
       "<table border=\"1\" class=\"dataframe\">\n",
       "  <thead>\n",
       "    <tr style=\"text-align: right;\">\n",
       "      <th></th>\n",
       "      <th>0</th>\n",
       "      <th>1</th>\n",
       "      <th>2</th>\n",
       "      <th>3</th>\n",
       "    </tr>\n",
       "  </thead>\n",
       "  <tbody>\n",
       "    <tr>\n",
       "      <td>0</td>\n",
       "      <td>0.000000</td>\n",
       "      <td>0.068133</td>\n",
       "      <td>0.505444</td>\n",
       "      <td>4.075982</td>\n",
       "    </tr>\n",
       "    <tr>\n",
       "      <td>1</td>\n",
       "      <td>-0.068133</td>\n",
       "      <td>0.000000</td>\n",
       "      <td>0.437311</td>\n",
       "      <td>4.007849</td>\n",
       "    </tr>\n",
       "    <tr>\n",
       "      <td>2</td>\n",
       "      <td>-0.505444</td>\n",
       "      <td>-0.437311</td>\n",
       "      <td>0.000000</td>\n",
       "      <td>3.570538</td>\n",
       "    </tr>\n",
       "    <tr>\n",
       "      <td>3</td>\n",
       "      <td>-4.075982</td>\n",
       "      <td>-4.007849</td>\n",
       "      <td>-3.570538</td>\n",
       "      <td>0.000000</td>\n",
       "    </tr>\n",
       "  </tbody>\n",
       "</table>\n",
       "</div>"
      ],
      "text/plain": [
       "          0         1         2         3\n",
       "0  0.000000  0.068133  0.505444  4.075982\n",
       "1 -0.068133  0.000000  0.437311  4.007849\n",
       "2 -0.505444 -0.437311  0.000000  3.570538\n",
       "3 -4.075982 -4.007849 -3.570538  0.000000"
      ]
     },
     "execution_count": 304,
     "metadata": {},
     "output_type": "execute_result"
    }
   ],
   "source": [
    "pcol, gcol='pro_cnt', 'income_group'\n",
    "fair_by_expectation(train_result_compare, norm_factor, pcol, gcol, vs='all vs all')"
   ]
  },
  {
   "cell_type": "code",
   "execution_count": 305,
   "metadata": {
    "ExecuteTime": {
     "end_time": "2020-04-09T01:33:28.365590Z",
     "start_time": "2020-04-09T01:33:28.223821Z"
    },
    "cell_style": "split",
    "scrolled": true
   },
   "outputs": [
    {
     "data": {
      "text/html": [
       "<div>\n",
       "<style scoped>\n",
       "    .dataframe tbody tr th:only-of-type {\n",
       "        vertical-align: middle;\n",
       "    }\n",
       "\n",
       "    .dataframe tbody tr th {\n",
       "        vertical-align: top;\n",
       "    }\n",
       "\n",
       "    .dataframe thead th {\n",
       "        text-align: right;\n",
       "    }\n",
       "</style>\n",
       "<table border=\"1\" class=\"dataframe\">\n",
       "  <thead>\n",
       "    <tr style=\"text-align: right;\">\n",
       "      <th></th>\n",
       "      <th>0</th>\n",
       "      <th>1</th>\n",
       "      <th>2</th>\n",
       "      <th>3</th>\n",
       "    </tr>\n",
       "  </thead>\n",
       "  <tbody>\n",
       "    <tr>\n",
       "      <td>0</td>\n",
       "      <td>0.000000</td>\n",
       "      <td>0.172913</td>\n",
       "      <td>0.365154</td>\n",
       "      <td>2.120498</td>\n",
       "    </tr>\n",
       "    <tr>\n",
       "      <td>1</td>\n",
       "      <td>-0.172913</td>\n",
       "      <td>0.000000</td>\n",
       "      <td>0.192241</td>\n",
       "      <td>1.947585</td>\n",
       "    </tr>\n",
       "    <tr>\n",
       "      <td>2</td>\n",
       "      <td>-0.365154</td>\n",
       "      <td>-0.192241</td>\n",
       "      <td>0.000000</td>\n",
       "      <td>1.755344</td>\n",
       "    </tr>\n",
       "    <tr>\n",
       "      <td>3</td>\n",
       "      <td>-2.120498</td>\n",
       "      <td>-1.947585</td>\n",
       "      <td>-1.755344</td>\n",
       "      <td>0.000000</td>\n",
       "    </tr>\n",
       "  </tbody>\n",
       "</table>\n",
       "</div>"
      ],
      "text/plain": [
       "          0         1         2         3\n",
       "0  0.000000  0.172913  0.365154  2.120498\n",
       "1 -0.172913  0.000000  0.192241  1.947585\n",
       "2 -0.365154 -0.192241  0.000000  1.755344\n",
       "3 -2.120498 -1.947585 -1.755344  0.000000"
      ]
     },
     "execution_count": 305,
     "metadata": {},
     "output_type": "execute_result"
    }
   ],
   "source": [
    "pcol, gcol='y', 'income_group'\n",
    "fair_by_expectation(test_result_compare, norm_factor, pcol, gcol, vs='all vs all')"
   ]
  },
  {
   "cell_type": "code",
   "execution_count": 306,
   "metadata": {
    "ExecuteTime": {
     "end_time": "2020-04-09T01:33:28.506598Z",
     "start_time": "2020-04-09T01:33:28.368433Z"
    },
    "cell_style": "split",
    "scrolled": true
   },
   "outputs": [
    {
     "data": {
      "text/html": [
       "<div>\n",
       "<style scoped>\n",
       "    .dataframe tbody tr th:only-of-type {\n",
       "        vertical-align: middle;\n",
       "    }\n",
       "\n",
       "    .dataframe tbody tr th {\n",
       "        vertical-align: top;\n",
       "    }\n",
       "\n",
       "    .dataframe thead th {\n",
       "        text-align: right;\n",
       "    }\n",
       "</style>\n",
       "<table border=\"1\" class=\"dataframe\">\n",
       "  <thead>\n",
       "    <tr style=\"text-align: right;\">\n",
       "      <th></th>\n",
       "      <th>0</th>\n",
       "      <th>1</th>\n",
       "      <th>2</th>\n",
       "      <th>3</th>\n",
       "    </tr>\n",
       "  </thead>\n",
       "  <tbody>\n",
       "    <tr>\n",
       "      <td>0</td>\n",
       "      <td>0.000000</td>\n",
       "      <td>0.043143</td>\n",
       "      <td>0.552628</td>\n",
       "      <td>3.672583</td>\n",
       "    </tr>\n",
       "    <tr>\n",
       "      <td>1</td>\n",
       "      <td>-0.043143</td>\n",
       "      <td>0.000000</td>\n",
       "      <td>0.509485</td>\n",
       "      <td>3.629440</td>\n",
       "    </tr>\n",
       "    <tr>\n",
       "      <td>2</td>\n",
       "      <td>-0.552628</td>\n",
       "      <td>-0.509485</td>\n",
       "      <td>0.000000</td>\n",
       "      <td>3.119955</td>\n",
       "    </tr>\n",
       "    <tr>\n",
       "      <td>3</td>\n",
       "      <td>-3.672583</td>\n",
       "      <td>-3.629440</td>\n",
       "      <td>-3.119955</td>\n",
       "      <td>0.000000</td>\n",
       "    </tr>\n",
       "  </tbody>\n",
       "</table>\n",
       "</div>"
      ],
      "text/plain": [
       "          0         1         2         3\n",
       "0  0.000000  0.043143  0.552628  3.672583\n",
       "1 -0.043143  0.000000  0.509485  3.629440\n",
       "2 -0.552628 -0.509485  0.000000  3.119955\n",
       "3 -3.672583 -3.629440 -3.119955  0.000000"
      ]
     },
     "execution_count": 306,
     "metadata": {},
     "output_type": "execute_result"
    }
   ],
   "source": [
    "pcol, gcol='pro_cnt', 'income_group'\n",
    "fair_by_expectation(test_result_compare, norm_factor, pcol, gcol, vs='all vs all')"
   ]
  },
  {
   "cell_type": "code",
   "execution_count": 307,
   "metadata": {
    "ExecuteTime": {
     "end_time": "2020-04-09T01:33:28.617908Z",
     "start_time": "2020-04-09T01:33:28.508348Z"
    },
    "cell_style": "split",
    "collapsed": true
   },
   "outputs": [
    {
     "data": {
      "text/plain": [
       "0   -0.893268\n",
       "1   -0.605785\n",
       "2   -0.532656\n",
       "3    2.006809\n",
       "dtype: float64"
      ]
     },
     "execution_count": 307,
     "metadata": {},
     "output_type": "execute_result"
    }
   ],
   "source": [
    "pcol, gcol='y', 'income_group'\n",
    "fair_by_expectation(train_result_compare, norm_factor, pcol, gcol, vs='1 vs all')"
   ]
  },
  {
   "cell_type": "code",
   "execution_count": 308,
   "metadata": {
    "ExecuteTime": {
     "end_time": "2020-04-09T01:33:28.690662Z",
     "start_time": "2020-04-09T01:33:28.619326Z"
    },
    "cell_style": "split",
    "collapsed": true
   },
   "outputs": [
    {
     "data": {
      "text/plain": [
       "0   -1.573613\n",
       "1   -1.470048\n",
       "2   -0.893517\n",
       "3    3.885270\n",
       "dtype: float64"
      ]
     },
     "execution_count": 308,
     "metadata": {},
     "output_type": "execute_result"
    }
   ],
   "source": [
    "pcol, gcol='pro_cnt', 'income_group'\n",
    "fair_by_expectation(train_result_compare, norm_factor, pcol, gcol, vs='1 vs all')"
   ]
  },
  {
   "cell_type": "code",
   "execution_count": 309,
   "metadata": {
    "ExecuteTime": {
     "end_time": "2020-04-09T01:33:28.768146Z",
     "start_time": "2020-04-09T01:33:28.691839Z"
    },
    "cell_style": "split",
    "scrolled": true
   },
   "outputs": [
    {
     "data": {
      "text/plain": [
       "0   -0.843008\n",
       "1   -0.635964\n",
       "2   -0.366050\n",
       "3    1.938715\n",
       "dtype: float64"
      ]
     },
     "execution_count": 309,
     "metadata": {},
     "output_type": "execute_result"
    }
   ],
   "source": [
    "pcol, gcol='y', 'income_group'\n",
    "fair_by_expectation(test_result_compare, norm_factor, pcol, gcol, vs='1 vs all')"
   ]
  },
  {
   "cell_type": "code",
   "execution_count": 310,
   "metadata": {
    "ExecuteTime": {
     "end_time": "2020-04-09T01:33:28.846829Z",
     "start_time": "2020-04-09T01:33:28.769927Z"
    },
    "cell_style": "split",
    "scrolled": true
   },
   "outputs": [
    {
     "data": {
      "text/plain": [
       "0   -1.342558\n",
       "1   -1.330133\n",
       "2   -0.621695\n",
       "3    3.474116\n",
       "dtype: float64"
      ]
     },
     "execution_count": 310,
     "metadata": {},
     "output_type": "execute_result"
    }
   ],
   "source": [
    "pcol, gcol='pro_cnt', 'income_group'\n",
    "fair_by_expectation(test_result_compare, norm_factor, pcol, gcol, vs='1 vs all')"
   ]
  },
  {
   "cell_type": "markdown",
   "metadata": {},
   "source": [
    "### performance by income_group"
   ]
  },
  {
   "cell_type": "code",
   "execution_count": 226,
   "metadata": {
    "ExecuteTime": {
     "end_time": "2020-04-09T00:54:24.378344Z",
     "start_time": "2020-04-09T00:54:24.339889Z"
    }
   },
   "outputs": [
    {
     "data": {
      "text/html": [
       "<div>\n",
       "<style scoped>\n",
       "    .dataframe tbody tr th:only-of-type {\n",
       "        vertical-align: middle;\n",
       "    }\n",
       "\n",
       "    .dataframe tbody tr th {\n",
       "        vertical-align: top;\n",
       "    }\n",
       "\n",
       "    .dataframe thead th {\n",
       "        text-align: right;\n",
       "    }\n",
       "</style>\n",
       "<table border=\"1\" class=\"dataframe\">\n",
       "  <thead>\n",
       "    <tr style=\"text-align: right;\">\n",
       "      <th></th>\n",
       "      <th>income_group</th>\n",
       "      <th>income_group</th>\n",
       "    </tr>\n",
       "  </thead>\n",
       "  <tbody>\n",
       "    <tr>\n",
       "      <td>0</td>\n",
       "      <td>278</td>\n",
       "      <td>67</td>\n",
       "    </tr>\n",
       "    <tr>\n",
       "      <td>1</td>\n",
       "      <td>271</td>\n",
       "      <td>74</td>\n",
       "    </tr>\n",
       "    <tr>\n",
       "      <td>2</td>\n",
       "      <td>274</td>\n",
       "      <td>70</td>\n",
       "    </tr>\n",
       "    <tr>\n",
       "      <td>3</td>\n",
       "      <td>280</td>\n",
       "      <td>65</td>\n",
       "    </tr>\n",
       "  </tbody>\n",
       "</table>\n",
       "</div>"
      ],
      "text/plain": [
       "   income_group  income_group\n",
       "0           278            67\n",
       "1           271            74\n",
       "2           274            70\n",
       "3           280            65"
      ]
     },
     "execution_count": 226,
     "metadata": {},
     "output_type": "execute_result"
    }
   ],
   "source": [
    "pd.concat([train_result_compare.income_group.value_counts(), test_result_compare.income_group.value_counts()], axis=1, sort=False)"
   ]
  },
  {
   "cell_type": "code",
   "execution_count": 227,
   "metadata": {
    "ExecuteTime": {
     "end_time": "2020-04-09T00:54:24.812305Z",
     "start_time": "2020-04-09T00:54:24.714598Z"
    }
   },
   "outputs": [],
   "source": [
    "\n",
    "income_group_err = {}\n",
    "\n",
    "income_group_err['train_y'] = group_norm_err(train_result_compare, 'y', norm_factor, gtype='income_group')\n",
    "income_group_err['test_y'] = group_norm_err(test_result_compare, 'y',norm_factor, gtype='income_group')\n",
    "income_group_err['train_pro_cnt'] = group_norm_err(train_result_compare, 'pro_cnt',norm_factor, gtype='income_group')\n",
    "income_group_err['test_pro_cnt'] = group_norm_err(test_result_compare, 'pro_cnt',norm_factor, gtype='income_group')\n"
   ]
  },
  {
   "cell_type": "code",
   "execution_count": 228,
   "metadata": {
    "ExecuteTime": {
     "end_time": "2020-04-09T00:54:25.283516Z",
     "start_time": "2020-04-09T00:54:25.199336Z"
    },
    "cell_style": "split"
   },
   "outputs": [
    {
     "data": {
      "text/html": [
       "<div>\n",
       "<style scoped>\n",
       "    .dataframe tbody tr th:only-of-type {\n",
       "        vertical-align: middle;\n",
       "    }\n",
       "\n",
       "    .dataframe tbody tr th {\n",
       "        vertical-align: top;\n",
       "    }\n",
       "\n",
       "    .dataframe thead th {\n",
       "        text-align: right;\n",
       "    }\n",
       "</style>\n",
       "<table border=\"1\" class=\"dataframe\">\n",
       "  <thead>\n",
       "    <tr style=\"text-align: right;\">\n",
       "      <th></th>\n",
       "      <th></th>\n",
       "      <th>train_y</th>\n",
       "      <th>test_y</th>\n",
       "      <th>train_pro_cnt</th>\n",
       "      <th>test_pro_cnt</th>\n",
       "    </tr>\n",
       "  </thead>\n",
       "  <tbody>\n",
       "    <tr>\n",
       "      <td>rmse</td>\n",
       "      <td>mean</td>\n",
       "      <td>0.883442</td>\n",
       "      <td>2.694659</td>\n",
       "      <td>2.072542</td>\n",
       "      <td>3.366763</td>\n",
       "    </tr>\n",
       "  </tbody>\n",
       "</table>\n",
       "</div>"
      ],
      "text/plain": [
       "            train_y    test_y  train_pro_cnt  test_pro_cnt\n",
       "rmse mean  0.883442  2.694659       2.072542      3.366763"
      ]
     },
     "metadata": {},
     "output_type": "display_data"
    },
    {
     "data": {
      "text/html": [
       "<div>\n",
       "<style scoped>\n",
       "    .dataframe tbody tr th:only-of-type {\n",
       "        vertical-align: middle;\n",
       "    }\n",
       "\n",
       "    .dataframe tbody tr th {\n",
       "        vertical-align: top;\n",
       "    }\n",
       "\n",
       "    .dataframe thead th {\n",
       "        text-align: right;\n",
       "    }\n",
       "</style>\n",
       "<table border=\"1\" class=\"dataframe\">\n",
       "  <thead>\n",
       "    <tr style=\"text-align: right;\">\n",
       "      <th></th>\n",
       "      <th>train_y</th>\n",
       "      <th>test_y</th>\n",
       "      <th>train_pro_cnt</th>\n",
       "      <th>test_pro_cnt</th>\n",
       "    </tr>\n",
       "    <tr>\n",
       "      <th>rmse/mean</th>\n",
       "      <th></th>\n",
       "      <th></th>\n",
       "      <th></th>\n",
       "      <th></th>\n",
       "    </tr>\n",
       "  </thead>\n",
       "  <tbody>\n",
       "    <tr>\n",
       "      <td>0</td>\n",
       "      <td>0.330371</td>\n",
       "      <td>0.481313</td>\n",
       "      <td>0.199409</td>\n",
       "      <td>0.198389</td>\n",
       "    </tr>\n",
       "    <tr>\n",
       "      <td>1</td>\n",
       "      <td>0.279826</td>\n",
       "      <td>0.778764</td>\n",
       "      <td>0.242988</td>\n",
       "      <td>0.232610</td>\n",
       "    </tr>\n",
       "    <tr>\n",
       "      <td>2</td>\n",
       "      <td>0.437846</td>\n",
       "      <td>1.568822</td>\n",
       "      <td>1.250393</td>\n",
       "      <td>1.237596</td>\n",
       "    </tr>\n",
       "    <tr>\n",
       "      <td>3</td>\n",
       "      <td>1.644002</td>\n",
       "      <td>5.220379</td>\n",
       "      <td>3.910795</td>\n",
       "      <td>6.810207</td>\n",
       "    </tr>\n",
       "  </tbody>\n",
       "</table>\n",
       "</div>"
      ],
      "text/plain": [
       "            train_y    test_y  train_pro_cnt  test_pro_cnt\n",
       "rmse/mean                                                 \n",
       "0          0.330371  0.481313       0.199409      0.198389\n",
       "1          0.279826  0.778764       0.242988      0.232610\n",
       "2          0.437846  1.568822       1.250393      1.237596\n",
       "3          1.644002  5.220379       3.910795      6.810207"
      ]
     },
     "metadata": {},
     "output_type": "display_data"
    },
    {
     "data": {
      "text/html": [
       "<div>\n",
       "<style scoped>\n",
       "    .dataframe tbody tr th:only-of-type {\n",
       "        vertical-align: middle;\n",
       "    }\n",
       "\n",
       "    .dataframe tbody tr th {\n",
       "        vertical-align: top;\n",
       "    }\n",
       "\n",
       "    .dataframe thead th {\n",
       "        text-align: right;\n",
       "    }\n",
       "</style>\n",
       "<table border=\"1\" class=\"dataframe\">\n",
       "  <thead>\n",
       "    <tr style=\"text-align: right;\">\n",
       "      <th></th>\n",
       "      <th>y</th>\n",
       "      <th>pro_cnt</th>\n",
       "    </tr>\n",
       "    <tr>\n",
       "      <th>rmse/mean std</th>\n",
       "      <th></th>\n",
       "      <th></th>\n",
       "    </tr>\n",
       "  </thead>\n",
       "  <tbody>\n",
       "    <tr>\n",
       "      <td>train</td>\n",
       "      <td>0.650672</td>\n",
       "      <td>1.742275</td>\n",
       "    </tr>\n",
       "    <tr>\n",
       "      <td>test</td>\n",
       "      <td>2.187386</td>\n",
       "      <td>3.163938</td>\n",
       "    </tr>\n",
       "  </tbody>\n",
       "</table>\n",
       "</div>"
      ],
      "text/plain": [
       "                      y   pro_cnt\n",
       "rmse/mean std                    \n",
       "train          0.650672  1.742275\n",
       "test           2.187386  3.163938"
      ]
     },
     "metadata": {},
     "output_type": "display_data"
    },
    {
     "data": {
      "text/html": [
       "<div>\n",
       "<style scoped>\n",
       "    .dataframe tbody tr th:only-of-type {\n",
       "        vertical-align: middle;\n",
       "    }\n",
       "\n",
       "    .dataframe tbody tr th {\n",
       "        vertical-align: top;\n",
       "    }\n",
       "\n",
       "    .dataframe thead th {\n",
       "        text-align: right;\n",
       "    }\n",
       "</style>\n",
       "<table border=\"1\" class=\"dataframe\">\n",
       "  <thead>\n",
       "    <tr style=\"text-align: right;\">\n",
       "      <th></th>\n",
       "      <th>y</th>\n",
       "      <th>pro_cnt</th>\n",
       "    </tr>\n",
       "    <tr>\n",
       "      <th>rmse/mean coef of variability</th>\n",
       "      <th></th>\n",
       "      <th></th>\n",
       "    </tr>\n",
       "  </thead>\n",
       "  <tbody>\n",
       "    <tr>\n",
       "      <td>train</td>\n",
       "      <td>0.966807</td>\n",
       "      <td>1.243686</td>\n",
       "    </tr>\n",
       "    <tr>\n",
       "      <td>test</td>\n",
       "      <td>1.086997</td>\n",
       "      <td>1.492635</td>\n",
       "    </tr>\n",
       "  </tbody>\n",
       "</table>\n",
       "</div>"
      ],
      "text/plain": [
       "                                      y   pro_cnt\n",
       "rmse/mean coef of variability                    \n",
       "train                          0.966807  1.243686\n",
       "test                           1.086997  1.492635"
      ]
     },
     "metadata": {},
     "output_type": "display_data"
    },
    {
     "data": {
      "text/html": [
       "<div>\n",
       "<style scoped>\n",
       "    .dataframe tbody tr th:only-of-type {\n",
       "        vertical-align: middle;\n",
       "    }\n",
       "\n",
       "    .dataframe tbody tr th {\n",
       "        vertical-align: top;\n",
       "    }\n",
       "\n",
       "    .dataframe thead th {\n",
       "        text-align: right;\n",
       "    }\n",
       "</style>\n",
       "<table border=\"1\" class=\"dataframe\">\n",
       "  <thead>\n",
       "    <tr style=\"text-align: right;\">\n",
       "      <th></th>\n",
       "      <th>y</th>\n",
       "      <th>pro_cnt</th>\n",
       "    </tr>\n",
       "    <tr>\n",
       "      <th>rmse/mean from all</th>\n",
       "      <th></th>\n",
       "      <th></th>\n",
       "    </tr>\n",
       "  </thead>\n",
       "  <tbody>\n",
       "    <tr>\n",
       "      <td>train</td>\n",
       "      <td>0.601508</td>\n",
       "      <td>1.651590</td>\n",
       "    </tr>\n",
       "    <tr>\n",
       "      <td>test</td>\n",
       "      <td>2.013475</td>\n",
       "      <td>3.010489</td>\n",
       "    </tr>\n",
       "  </tbody>\n",
       "</table>\n",
       "</div>"
      ],
      "text/plain": [
       "                           y   pro_cnt\n",
       "rmse/mean from all                    \n",
       "train               0.601508  1.651590\n",
       "test                2.013475  3.010489"
      ]
     },
     "metadata": {},
     "output_type": "display_data"
    }
   ],
   "source": [
    "err_type = ('rmse','mean')\n",
    "eall_df, egrp_df, egrp_std, egrp_from_eall, egrp_std_by_mean= get_error_for_a_type(overall_err, income_group_err, err_type, disp=True, return_df=True)"
   ]
  },
  {
   "cell_type": "code",
   "execution_count": 229,
   "metadata": {
    "ExecuteTime": {
     "end_time": "2020-04-09T00:54:25.840474Z",
     "start_time": "2020-04-09T00:54:25.757809Z"
    },
    "cell_style": "split",
    "scrolled": false
   },
   "outputs": [
    {
     "data": {
      "text/html": [
       "<div>\n",
       "<style scoped>\n",
       "    .dataframe tbody tr th:only-of-type {\n",
       "        vertical-align: middle;\n",
       "    }\n",
       "\n",
       "    .dataframe tbody tr th {\n",
       "        vertical-align: top;\n",
       "    }\n",
       "\n",
       "    .dataframe thead th {\n",
       "        text-align: right;\n",
       "    }\n",
       "</style>\n",
       "<table border=\"1\" class=\"dataframe\">\n",
       "  <thead>\n",
       "    <tr style=\"text-align: right;\">\n",
       "      <th></th>\n",
       "      <th></th>\n",
       "      <th>train_y</th>\n",
       "      <th>test_y</th>\n",
       "      <th>train_pro_cnt</th>\n",
       "      <th>test_pro_cnt</th>\n",
       "    </tr>\n",
       "  </thead>\n",
       "  <tbody>\n",
       "    <tr>\n",
       "      <td>mae</td>\n",
       "      <td>mean</td>\n",
       "      <td>0.305546</td>\n",
       "      <td>0.850951</td>\n",
       "      <td>0.96735</td>\n",
       "      <td>1.076423</td>\n",
       "    </tr>\n",
       "  </tbody>\n",
       "</table>\n",
       "</div>"
      ],
      "text/plain": [
       "           train_y    test_y  train_pro_cnt  test_pro_cnt\n",
       "mae mean  0.305546  0.850951        0.96735      1.076423"
      ]
     },
     "metadata": {},
     "output_type": "display_data"
    },
    {
     "data": {
      "text/html": [
       "<div>\n",
       "<style scoped>\n",
       "    .dataframe tbody tr th:only-of-type {\n",
       "        vertical-align: middle;\n",
       "    }\n",
       "\n",
       "    .dataframe tbody tr th {\n",
       "        vertical-align: top;\n",
       "    }\n",
       "\n",
       "    .dataframe thead th {\n",
       "        text-align: right;\n",
       "    }\n",
       "</style>\n",
       "<table border=\"1\" class=\"dataframe\">\n",
       "  <thead>\n",
       "    <tr style=\"text-align: right;\">\n",
       "      <th></th>\n",
       "      <th>train_y</th>\n",
       "      <th>test_y</th>\n",
       "      <th>train_pro_cnt</th>\n",
       "      <th>test_pro_cnt</th>\n",
       "    </tr>\n",
       "    <tr>\n",
       "      <th>mae/mean</th>\n",
       "      <th></th>\n",
       "      <th></th>\n",
       "      <th></th>\n",
       "      <th></th>\n",
       "    </tr>\n",
       "  </thead>\n",
       "  <tbody>\n",
       "    <tr>\n",
       "      <td>0</td>\n",
       "      <td>0.141989</td>\n",
       "      <td>0.282220</td>\n",
       "      <td>0.185842</td>\n",
       "      <td>0.185578</td>\n",
       "    </tr>\n",
       "    <tr>\n",
       "      <td>1</td>\n",
       "      <td>0.161102</td>\n",
       "      <td>0.465303</td>\n",
       "      <td>0.207325</td>\n",
       "      <td>0.197933</td>\n",
       "    </tr>\n",
       "    <tr>\n",
       "      <td>2</td>\n",
       "      <td>0.201811</td>\n",
       "      <td>0.609024</td>\n",
       "      <td>0.663306</td>\n",
       "      <td>0.672833</td>\n",
       "    </tr>\n",
       "    <tr>\n",
       "      <td>3</td>\n",
       "      <td>0.709248</td>\n",
       "      <td>2.136765</td>\n",
       "      <td>2.776401</td>\n",
       "      <td>3.429443</td>\n",
       "    </tr>\n",
       "  </tbody>\n",
       "</table>\n",
       "</div>"
      ],
      "text/plain": [
       "           train_y    test_y  train_pro_cnt  test_pro_cnt\n",
       "mae/mean                                                 \n",
       "0         0.141989  0.282220       0.185842      0.185578\n",
       "1         0.161102  0.465303       0.207325      0.197933\n",
       "2         0.201811  0.609024       0.663306      0.672833\n",
       "3         0.709248  2.136765       2.776401      3.429443"
      ]
     },
     "metadata": {},
     "output_type": "display_data"
    },
    {
     "data": {
      "text/html": [
       "<div>\n",
       "<style scoped>\n",
       "    .dataframe tbody tr th:only-of-type {\n",
       "        vertical-align: middle;\n",
       "    }\n",
       "\n",
       "    .dataframe tbody tr th {\n",
       "        vertical-align: top;\n",
       "    }\n",
       "\n",
       "    .dataframe thead th {\n",
       "        text-align: right;\n",
       "    }\n",
       "</style>\n",
       "<table border=\"1\" class=\"dataframe\">\n",
       "  <thead>\n",
       "    <tr style=\"text-align: right;\">\n",
       "      <th></th>\n",
       "      <th>y</th>\n",
       "      <th>pro_cnt</th>\n",
       "    </tr>\n",
       "    <tr>\n",
       "      <th>mae/mean std</th>\n",
       "      <th></th>\n",
       "      <th></th>\n",
       "    </tr>\n",
       "  </thead>\n",
       "  <tbody>\n",
       "    <tr>\n",
       "      <td>train</td>\n",
       "      <td>0.271621</td>\n",
       "      <td>1.231959</td>\n",
       "    </tr>\n",
       "    <tr>\n",
       "      <td>test</td>\n",
       "      <td>0.852842</td>\n",
       "      <td>1.555295</td>\n",
       "    </tr>\n",
       "  </tbody>\n",
       "</table>\n",
       "</div>"
      ],
      "text/plain": [
       "                     y   pro_cnt\n",
       "mae/mean std                    \n",
       "train         0.271621  1.231959\n",
       "test          0.852842  1.555295"
      ]
     },
     "metadata": {},
     "output_type": "display_data"
    },
    {
     "data": {
      "text/html": [
       "<div>\n",
       "<style scoped>\n",
       "    .dataframe tbody tr th:only-of-type {\n",
       "        vertical-align: middle;\n",
       "    }\n",
       "\n",
       "    .dataframe tbody tr th {\n",
       "        vertical-align: top;\n",
       "    }\n",
       "\n",
       "    .dataframe thead th {\n",
       "        text-align: right;\n",
       "    }\n",
       "</style>\n",
       "<table border=\"1\" class=\"dataframe\">\n",
       "  <thead>\n",
       "    <tr style=\"text-align: right;\">\n",
       "      <th></th>\n",
       "      <th>y</th>\n",
       "      <th>pro_cnt</th>\n",
       "    </tr>\n",
       "    <tr>\n",
       "      <th>mae/mean coef of variability</th>\n",
       "      <th></th>\n",
       "      <th></th>\n",
       "    </tr>\n",
       "  </thead>\n",
       "  <tbody>\n",
       "    <tr>\n",
       "      <td>train</td>\n",
       "      <td>0.894853</td>\n",
       "      <td>1.285676</td>\n",
       "    </tr>\n",
       "    <tr>\n",
       "      <td>test</td>\n",
       "      <td>0.976543</td>\n",
       "      <td>1.386865</td>\n",
       "    </tr>\n",
       "  </tbody>\n",
       "</table>\n",
       "</div>"
      ],
      "text/plain": [
       "                                     y   pro_cnt\n",
       "mae/mean coef of variability                    \n",
       "train                         0.894853  1.285676\n",
       "test                          0.976543  1.386865"
      ]
     },
     "metadata": {},
     "output_type": "display_data"
    },
    {
     "data": {
      "text/html": [
       "<div>\n",
       "<style scoped>\n",
       "    .dataframe tbody tr th:only-of-type {\n",
       "        vertical-align: middle;\n",
       "    }\n",
       "\n",
       "    .dataframe tbody tr th {\n",
       "        vertical-align: top;\n",
       "    }\n",
       "\n",
       "    .dataframe thead th {\n",
       "        text-align: right;\n",
       "    }\n",
       "</style>\n",
       "<table border=\"1\" class=\"dataframe\">\n",
       "  <thead>\n",
       "    <tr style=\"text-align: right;\">\n",
       "      <th></th>\n",
       "      <th>y</th>\n",
       "      <th>pro_cnt</th>\n",
       "    </tr>\n",
       "    <tr>\n",
       "      <th>mae/mean from all</th>\n",
       "      <th></th>\n",
       "      <th></th>\n",
       "    </tr>\n",
       "  </thead>\n",
       "  <tbody>\n",
       "    <tr>\n",
       "      <td>train</td>\n",
       "      <td>0.235240</td>\n",
       "      <td>1.066947</td>\n",
       "    </tr>\n",
       "    <tr>\n",
       "      <td>test</td>\n",
       "      <td>0.738922</td>\n",
       "      <td>1.347677</td>\n",
       "    </tr>\n",
       "  </tbody>\n",
       "</table>\n",
       "</div>"
      ],
      "text/plain": [
       "                          y   pro_cnt\n",
       "mae/mean from all                    \n",
       "train              0.235240  1.066947\n",
       "test               0.738922  1.347677"
      ]
     },
     "metadata": {},
     "output_type": "display_data"
    }
   ],
   "source": [
    "err_type = ('mae','mean')\n",
    "eall_df, egrp_df, egrp_std2, egrp_from_eall, egrp_std_by_mean= get_error_for_a_type(overall_err, income_group_err, err_type, disp=True, return_df=True)"
   ]
  },
  {
   "cell_type": "code",
   "execution_count": 230,
   "metadata": {
    "ExecuteTime": {
     "end_time": "2020-04-09T00:54:26.134960Z",
     "start_time": "2020-04-09T00:54:26.047258Z"
    },
    "cell_style": "split"
   },
   "outputs": [
    {
     "data": {
      "text/html": [
       "<div>\n",
       "<style scoped>\n",
       "    .dataframe tbody tr th:only-of-type {\n",
       "        vertical-align: middle;\n",
       "    }\n",
       "\n",
       "    .dataframe tbody tr th {\n",
       "        vertical-align: top;\n",
       "    }\n",
       "\n",
       "    .dataframe thead th {\n",
       "        text-align: right;\n",
       "    }\n",
       "</style>\n",
       "<table border=\"1\" class=\"dataframe\">\n",
       "  <thead>\n",
       "    <tr style=\"text-align: right;\">\n",
       "      <th></th>\n",
       "      <th></th>\n",
       "      <th>train_y</th>\n",
       "      <th>test_y</th>\n",
       "      <th>train_pro_cnt</th>\n",
       "      <th>test_pro_cnt</th>\n",
       "    </tr>\n",
       "  </thead>\n",
       "  <tbody>\n",
       "    <tr>\n",
       "      <td>me_neg</td>\n",
       "      <td>mean</td>\n",
       "      <td>-0.219892</td>\n",
       "      <td>-0.606645</td>\n",
       "      <td>-0.790169</td>\n",
       "      <td>-0.827802</td>\n",
       "    </tr>\n",
       "  </tbody>\n",
       "</table>\n",
       "</div>"
      ],
      "text/plain": [
       "              train_y    test_y  train_pro_cnt  test_pro_cnt\n",
       "me_neg mean -0.219892 -0.606645      -0.790169     -0.827802"
      ]
     },
     "metadata": {},
     "output_type": "display_data"
    },
    {
     "data": {
      "text/html": [
       "<div>\n",
       "<style scoped>\n",
       "    .dataframe tbody tr th:only-of-type {\n",
       "        vertical-align: middle;\n",
       "    }\n",
       "\n",
       "    .dataframe tbody tr th {\n",
       "        vertical-align: top;\n",
       "    }\n",
       "\n",
       "    .dataframe thead th {\n",
       "        text-align: right;\n",
       "    }\n",
       "</style>\n",
       "<table border=\"1\" class=\"dataframe\">\n",
       "  <thead>\n",
       "    <tr style=\"text-align: right;\">\n",
       "      <th></th>\n",
       "      <th>train_y</th>\n",
       "      <th>test_y</th>\n",
       "      <th>train_pro_cnt</th>\n",
       "      <th>test_pro_cnt</th>\n",
       "    </tr>\n",
       "    <tr>\n",
       "      <th>me_neg/mean</th>\n",
       "      <th></th>\n",
       "      <th></th>\n",
       "      <th></th>\n",
       "      <th></th>\n",
       "    </tr>\n",
       "  </thead>\n",
       "  <tbody>\n",
       "    <tr>\n",
       "      <td>0</td>\n",
       "      <td>-0.136167</td>\n",
       "      <td>-0.253360</td>\n",
       "      <td>-0.185842</td>\n",
       "      <td>-0.187441</td>\n",
       "    </tr>\n",
       "    <tr>\n",
       "      <td>1</td>\n",
       "      <td>-0.124344</td>\n",
       "      <td>-0.405756</td>\n",
       "      <td>-0.207697</td>\n",
       "      <td>-0.197713</td>\n",
       "    </tr>\n",
       "    <tr>\n",
       "      <td>2</td>\n",
       "      <td>-0.153381</td>\n",
       "      <td>-0.651827</td>\n",
       "      <td>-0.653565</td>\n",
       "      <td>-0.750387</td>\n",
       "    </tr>\n",
       "    <tr>\n",
       "      <td>3</td>\n",
       "      <td>-0.452604</td>\n",
       "      <td>-1.121514</td>\n",
       "      <td>-2.434368</td>\n",
       "      <td>-2.678117</td>\n",
       "    </tr>\n",
       "  </tbody>\n",
       "</table>\n",
       "</div>"
      ],
      "text/plain": [
       "              train_y    test_y  train_pro_cnt  test_pro_cnt\n",
       "me_neg/mean                                                 \n",
       "0           -0.136167 -0.253360      -0.185842     -0.187441\n",
       "1           -0.124344 -0.405756      -0.207697     -0.197713\n",
       "2           -0.153381 -0.651827      -0.653565     -0.750387\n",
       "3           -0.452604 -1.121514      -2.434368     -2.678117"
      ]
     },
     "metadata": {},
     "output_type": "display_data"
    },
    {
     "data": {
      "text/html": [
       "<div>\n",
       "<style scoped>\n",
       "    .dataframe tbody tr th:only-of-type {\n",
       "        vertical-align: middle;\n",
       "    }\n",
       "\n",
       "    .dataframe tbody tr th {\n",
       "        vertical-align: top;\n",
       "    }\n",
       "\n",
       "    .dataframe thead th {\n",
       "        text-align: right;\n",
       "    }\n",
       "</style>\n",
       "<table border=\"1\" class=\"dataframe\">\n",
       "  <thead>\n",
       "    <tr style=\"text-align: right;\">\n",
       "      <th></th>\n",
       "      <th>y</th>\n",
       "      <th>pro_cnt</th>\n",
       "    </tr>\n",
       "    <tr>\n",
       "      <th>me_neg/mean std</th>\n",
       "      <th></th>\n",
       "      <th></th>\n",
       "    </tr>\n",
       "  </thead>\n",
       "  <tbody>\n",
       "    <tr>\n",
       "      <td>train</td>\n",
       "      <td>0.157771</td>\n",
       "      <td>1.064708</td>\n",
       "    </tr>\n",
       "    <tr>\n",
       "      <td>test</td>\n",
       "      <td>0.379600</td>\n",
       "      <td>1.179494</td>\n",
       "    </tr>\n",
       "  </tbody>\n",
       "</table>\n",
       "</div>"
      ],
      "text/plain": [
       "                        y   pro_cnt\n",
       "me_neg/mean std                    \n",
       "train            0.157771  1.064708\n",
       "test             0.379600  1.179494"
      ]
     },
     "metadata": {},
     "output_type": "display_data"
    },
    {
     "data": {
      "text/html": [
       "<div>\n",
       "<style scoped>\n",
       "    .dataframe tbody tr th:only-of-type {\n",
       "        vertical-align: middle;\n",
       "    }\n",
       "\n",
       "    .dataframe tbody tr th {\n",
       "        vertical-align: top;\n",
       "    }\n",
       "\n",
       "    .dataframe thead th {\n",
       "        text-align: right;\n",
       "    }\n",
       "</style>\n",
       "<table border=\"1\" class=\"dataframe\">\n",
       "  <thead>\n",
       "    <tr style=\"text-align: right;\">\n",
       "      <th></th>\n",
       "      <th>y</th>\n",
       "      <th>pro_cnt</th>\n",
       "    </tr>\n",
       "    <tr>\n",
       "      <th>me_neg/mean coef of variability</th>\n",
       "      <th></th>\n",
       "      <th></th>\n",
       "    </tr>\n",
       "  </thead>\n",
       "  <tbody>\n",
       "    <tr>\n",
       "      <td>train</td>\n",
       "      <td>-0.728318</td>\n",
       "      <td>-1.223284</td>\n",
       "    </tr>\n",
       "    <tr>\n",
       "      <td>test</td>\n",
       "      <td>-0.624225</td>\n",
       "      <td>-1.237126</td>\n",
       "    </tr>\n",
       "  </tbody>\n",
       "</table>\n",
       "</div>"
      ],
      "text/plain": [
       "                                        y   pro_cnt\n",
       "me_neg/mean coef of variability                    \n",
       "train                           -0.728318 -1.223284\n",
       "test                            -0.624225 -1.237126"
      ]
     },
     "metadata": {},
     "output_type": "display_data"
    },
    {
     "data": {
      "text/html": [
       "<div>\n",
       "<style scoped>\n",
       "    .dataframe tbody tr th:only-of-type {\n",
       "        vertical-align: middle;\n",
       "    }\n",
       "\n",
       "    .dataframe tbody tr th {\n",
       "        vertical-align: top;\n",
       "    }\n",
       "\n",
       "    .dataframe thead th {\n",
       "        text-align: right;\n",
       "    }\n",
       "</style>\n",
       "<table border=\"1\" class=\"dataframe\">\n",
       "  <thead>\n",
       "    <tr style=\"text-align: right;\">\n",
       "      <th></th>\n",
       "      <th>y</th>\n",
       "      <th>pro_cnt</th>\n",
       "    </tr>\n",
       "    <tr>\n",
       "      <th>me_neg/mean from all</th>\n",
       "      <th></th>\n",
       "      <th></th>\n",
       "    </tr>\n",
       "  </thead>\n",
       "  <tbody>\n",
       "    <tr>\n",
       "      <td>train</td>\n",
       "      <td>0.136673</td>\n",
       "      <td>0.925545</td>\n",
       "    </tr>\n",
       "    <tr>\n",
       "      <td>test</td>\n",
       "      <td>0.328747</td>\n",
       "      <td>1.029166</td>\n",
       "    </tr>\n",
       "  </tbody>\n",
       "</table>\n",
       "</div>"
      ],
      "text/plain": [
       "                             y   pro_cnt\n",
       "me_neg/mean from all                    \n",
       "train                 0.136673  0.925545\n",
       "test                  0.328747  1.029166"
      ]
     },
     "metadata": {},
     "output_type": "display_data"
    }
   ],
   "source": [
    "err_type = ('me_neg','mean')\n",
    "eall_df, egrp_df, egrp_std2, egrp_from_eall, egrp_std_by_mean= get_error_for_a_type(overall_err, income_group_err, err_type, disp=True, return_df=True)"
   ]
  },
  {
   "cell_type": "code",
   "execution_count": 231,
   "metadata": {
    "ExecuteTime": {
     "end_time": "2020-04-09T00:54:26.414865Z",
     "start_time": "2020-04-09T00:54:26.339297Z"
    },
    "cell_style": "split"
   },
   "outputs": [
    {
     "data": {
      "text/html": [
       "<div>\n",
       "<style scoped>\n",
       "    .dataframe tbody tr th:only-of-type {\n",
       "        vertical-align: middle;\n",
       "    }\n",
       "\n",
       "    .dataframe tbody tr th {\n",
       "        vertical-align: top;\n",
       "    }\n",
       "\n",
       "    .dataframe thead th {\n",
       "        text-align: right;\n",
       "    }\n",
       "</style>\n",
       "<table border=\"1\" class=\"dataframe\">\n",
       "  <thead>\n",
       "    <tr style=\"text-align: right;\">\n",
       "      <th></th>\n",
       "      <th></th>\n",
       "      <th>train_y</th>\n",
       "      <th>test_y</th>\n",
       "      <th>train_pro_cnt</th>\n",
       "      <th>test_pro_cnt</th>\n",
       "    </tr>\n",
       "  </thead>\n",
       "  <tbody>\n",
       "    <tr>\n",
       "      <td>me_pos</td>\n",
       "      <td>mean</td>\n",
       "      <td>0.506183</td>\n",
       "      <td>1.419037</td>\n",
       "      <td>2.04293</td>\n",
       "      <td>2.587273</td>\n",
       "    </tr>\n",
       "  </tbody>\n",
       "</table>\n",
       "</div>"
      ],
      "text/plain": [
       "              train_y    test_y  train_pro_cnt  test_pro_cnt\n",
       "me_pos mean  0.506183  1.419037        2.04293      2.587273"
      ]
     },
     "metadata": {},
     "output_type": "display_data"
    },
    {
     "data": {
      "text/html": [
       "<div>\n",
       "<style scoped>\n",
       "    .dataframe tbody tr th:only-of-type {\n",
       "        vertical-align: middle;\n",
       "    }\n",
       "\n",
       "    .dataframe tbody tr th {\n",
       "        vertical-align: top;\n",
       "    }\n",
       "\n",
       "    .dataframe thead th {\n",
       "        text-align: right;\n",
       "    }\n",
       "</style>\n",
       "<table border=\"1\" class=\"dataframe\">\n",
       "  <thead>\n",
       "    <tr style=\"text-align: right;\">\n",
       "      <th></th>\n",
       "      <th>train_y</th>\n",
       "      <th>test_y</th>\n",
       "      <th>train_pro_cnt</th>\n",
       "      <th>test_pro_cnt</th>\n",
       "    </tr>\n",
       "    <tr>\n",
       "      <th>me_pos/mean</th>\n",
       "      <th></th>\n",
       "      <th></th>\n",
       "      <th></th>\n",
       "      <th></th>\n",
       "    </tr>\n",
       "  </thead>\n",
       "  <tbody>\n",
       "    <tr>\n",
       "      <td>0</td>\n",
       "      <td>0.160688</td>\n",
       "      <td>0.367105</td>\n",
       "      <td>NaN</td>\n",
       "      <td>0.062610</td>\n",
       "    </tr>\n",
       "    <tr>\n",
       "      <td>1</td>\n",
       "      <td>0.228110</td>\n",
       "      <td>0.575236</td>\n",
       "      <td>0.204342</td>\n",
       "      <td>0.200038</td>\n",
       "    </tr>\n",
       "    <tr>\n",
       "      <td>2</td>\n",
       "      <td>0.302481</td>\n",
       "      <td>0.526986</td>\n",
       "      <td>0.704890</td>\n",
       "      <td>0.362614</td>\n",
       "    </tr>\n",
       "    <tr>\n",
       "      <td>3</td>\n",
       "      <td>1.362226</td>\n",
       "      <td>5.245971</td>\n",
       "      <td>3.728548</td>\n",
       "      <td>5.550834</td>\n",
       "    </tr>\n",
       "  </tbody>\n",
       "</table>\n",
       "</div>"
      ],
      "text/plain": [
       "              train_y    test_y  train_pro_cnt  test_pro_cnt\n",
       "me_pos/mean                                                 \n",
       "0            0.160688  0.367105            NaN      0.062610\n",
       "1            0.228110  0.575236       0.204342      0.200038\n",
       "2            0.302481  0.526986       0.704890      0.362614\n",
       "3            1.362226  5.245971       3.728548      5.550834"
      ]
     },
     "metadata": {},
     "output_type": "display_data"
    },
    {
     "data": {
      "text/html": [
       "<div>\n",
       "<style scoped>\n",
       "    .dataframe tbody tr th:only-of-type {\n",
       "        vertical-align: middle;\n",
       "    }\n",
       "\n",
       "    .dataframe tbody tr th {\n",
       "        vertical-align: top;\n",
       "    }\n",
       "\n",
       "    .dataframe thead th {\n",
       "        text-align: right;\n",
       "    }\n",
       "</style>\n",
       "<table border=\"1\" class=\"dataframe\">\n",
       "  <thead>\n",
       "    <tr style=\"text-align: right;\">\n",
       "      <th></th>\n",
       "      <th>y</th>\n",
       "      <th>pro_cnt</th>\n",
       "    </tr>\n",
       "    <tr>\n",
       "      <th>me_pos/mean std</th>\n",
       "      <th></th>\n",
       "      <th></th>\n",
       "    </tr>\n",
       "  </thead>\n",
       "  <tbody>\n",
       "    <tr>\n",
       "      <td>train</td>\n",
       "      <td>0.568855</td>\n",
       "      <td>1.906702</td>\n",
       "    </tr>\n",
       "    <tr>\n",
       "      <td>test</td>\n",
       "      <td>2.379761</td>\n",
       "      <td>2.674019</td>\n",
       "    </tr>\n",
       "  </tbody>\n",
       "</table>\n",
       "</div>"
      ],
      "text/plain": [
       "                        y   pro_cnt\n",
       "me_pos/mean std                    \n",
       "train            0.568855  1.906702\n",
       "test             2.379761  2.674019"
      ]
     },
     "metadata": {},
     "output_type": "display_data"
    },
    {
     "data": {
      "text/html": [
       "<div>\n",
       "<style scoped>\n",
       "    .dataframe tbody tr th:only-of-type {\n",
       "        vertical-align: middle;\n",
       "    }\n",
       "\n",
       "    .dataframe tbody tr th {\n",
       "        vertical-align: top;\n",
       "    }\n",
       "\n",
       "    .dataframe thead th {\n",
       "        text-align: right;\n",
       "    }\n",
       "</style>\n",
       "<table border=\"1\" class=\"dataframe\">\n",
       "  <thead>\n",
       "    <tr style=\"text-align: right;\">\n",
       "      <th></th>\n",
       "      <th>y</th>\n",
       "      <th>pro_cnt</th>\n",
       "    </tr>\n",
       "    <tr>\n",
       "      <th>me_pos/mean coef of variability</th>\n",
       "      <th></th>\n",
       "      <th></th>\n",
       "    </tr>\n",
       "  </thead>\n",
       "  <tbody>\n",
       "    <tr>\n",
       "      <td>train</td>\n",
       "      <td>1.108067</td>\n",
       "      <td>1.233372</td>\n",
       "    </tr>\n",
       "    <tr>\n",
       "      <td>test</td>\n",
       "      <td>1.417516</td>\n",
       "      <td>1.731851</td>\n",
       "    </tr>\n",
       "  </tbody>\n",
       "</table>\n",
       "</div>"
      ],
      "text/plain": [
       "                                        y   pro_cnt\n",
       "me_pos/mean coef of variability                    \n",
       "train                            1.108067  1.233372\n",
       "test                             1.417516  1.731851"
      ]
     },
     "metadata": {},
     "output_type": "display_data"
    },
    {
     "data": {
      "text/html": [
       "<div>\n",
       "<style scoped>\n",
       "    .dataframe tbody tr th:only-of-type {\n",
       "        vertical-align: middle;\n",
       "    }\n",
       "\n",
       "    .dataframe tbody tr th {\n",
       "        vertical-align: top;\n",
       "    }\n",
       "\n",
       "    .dataframe thead th {\n",
       "        text-align: right;\n",
       "    }\n",
       "</style>\n",
       "<table border=\"1\" class=\"dataframe\">\n",
       "  <thead>\n",
       "    <tr style=\"text-align: right;\">\n",
       "      <th></th>\n",
       "      <th>y</th>\n",
       "      <th>pro_cnt</th>\n",
       "    </tr>\n",
       "    <tr>\n",
       "      <th>me_pos/mean from all</th>\n",
       "      <th></th>\n",
       "      <th></th>\n",
       "    </tr>\n",
       "  </thead>\n",
       "  <tbody>\n",
       "    <tr>\n",
       "      <td>train</td>\n",
       "      <td>0.492695</td>\n",
       "      <td>1.634224</td>\n",
       "    </tr>\n",
       "    <tr>\n",
       "      <td>test</td>\n",
       "      <td>2.077242</td>\n",
       "      <td>2.539912</td>\n",
       "    </tr>\n",
       "  </tbody>\n",
       "</table>\n",
       "</div>"
      ],
      "text/plain": [
       "                             y   pro_cnt\n",
       "me_pos/mean from all                    \n",
       "train                 0.492695  1.634224\n",
       "test                  2.077242  2.539912"
      ]
     },
     "metadata": {},
     "output_type": "display_data"
    }
   ],
   "source": [
    "err_type = ('me_pos','mean')\n",
    "eall_df, egrp_df, egrp_std2, egrp_from_eall, egrp_std_by_mean= get_error_for_a_type(overall_err, income_group_err, err_type, disp=True, return_df=True)"
   ]
  },
  {
   "cell_type": "code",
   "execution_count": null,
   "metadata": {},
   "outputs": [],
   "source": []
  },
  {
   "cell_type": "markdown",
   "metadata": {},
   "source": [
    "### correlation type"
   ]
  },
  {
   "cell_type": "code",
   "execution_count": 232,
   "metadata": {
    "ExecuteTime": {
     "end_time": "2020-04-09T00:55:05.672204Z",
     "start_time": "2020-04-09T00:55:05.635949Z"
    },
    "code_folding": [
     0
    ]
   },
   "outputs": [],
   "source": [
    "def ols_err(err_col, true_col, data):\n",
    "    x_ = data[['aver_income',true_col]]\n",
    "    y_ = data[err_col]\n",
    "    x_ = sm.add_constant(x_)\n",
    "    model = sm.OLS(y_, x_).fit()\n",
    "    # display(model.summary())\n",
    "    coefs = {\n",
    "        ('aver_income', 'coef'): model.params['aver_income'], \n",
    "        ('aver_income', 'p'): model.pvalues['aver_income'],\n",
    "        ('true','coef'): model.params[true_col],\n",
    "        ('true', 'p'): model.pvalues[true_col],\n",
    "    }\n",
    "    r2 = {'r2': model.rsquared, 'r2adj':model.rsquared_adj}\n",
    "    return coefs, r2"
   ]
  },
  {
   "cell_type": "code",
   "execution_count": 233,
   "metadata": {
    "ExecuteTime": {
     "end_time": "2020-04-09T00:55:05.951189Z",
     "start_time": "2020-04-09T00:55:05.875209Z"
    }
   },
   "outputs": [
    {
     "name": "stderr",
     "output_type": "stream",
     "text": [
      "/home/Jiahui/miniconda3/envs/mob2crime/lib/python3.7/site-packages/numpy/core/fromnumeric.py:2495: FutureWarning: Method .ptp is deprecated and will be removed in a future version. Use numpy.ptp instead.\n",
      "  return ptp(axis=axis, out=out, **kwargs)\n"
     ]
    }
   ],
   "source": [
    "coefs_all = {}\n",
    "r2_all = {}\n",
    "for err_type in ['E','AE']:\n",
    "    for cnt_type in ['y', 'z']:\n",
    "        for dat_type, dat in [('train', train_result_compare), ('test', test_result_compare)]:\n",
    "            true_col = {'y': 'y', 'z': 'pro_cnt'}[cnt_type]\n",
    "            ecol = true_col+'_'+err_type\n",
    "            coefs, r2 = ols_err(ecol, true_col, dat)\n",
    "            coefs_all[(f'M{err_type}', f'{dat_type}_{true_col}')]=coefs\n",
    "            r2_all[(f'M{err_type}', f'{dat_type}_{true_col}')]=r2"
   ]
  },
  {
   "cell_type": "code",
   "execution_count": 234,
   "metadata": {
    "ExecuteTime": {
     "end_time": "2020-04-09T00:55:06.507958Z",
     "start_time": "2020-04-09T00:55:06.452490Z"
    }
   },
   "outputs": [
    {
     "data": {
      "text/html": [
       "<div>\n",
       "<style scoped>\n",
       "    .dataframe tbody tr th:only-of-type {\n",
       "        vertical-align: middle;\n",
       "    }\n",
       "\n",
       "    .dataframe tbody tr th {\n",
       "        vertical-align: top;\n",
       "    }\n",
       "\n",
       "    .dataframe thead tr th {\n",
       "        text-align: left;\n",
       "    }\n",
       "</style>\n",
       "<table border=\"1\" class=\"dataframe\">\n",
       "  <thead>\n",
       "    <tr>\n",
       "      <th></th>\n",
       "      <th></th>\n",
       "      <th colspan=\"2\" halign=\"left\">aver_income</th>\n",
       "      <th colspan=\"2\" halign=\"left\">true</th>\n",
       "    </tr>\n",
       "    <tr>\n",
       "      <th></th>\n",
       "      <th></th>\n",
       "      <th>coef</th>\n",
       "      <th>p</th>\n",
       "      <th>coef</th>\n",
       "      <th>p</th>\n",
       "    </tr>\n",
       "  </thead>\n",
       "  <tbody>\n",
       "    <tr>\n",
       "      <td rowspan=\"4\" valign=\"top\">ME</td>\n",
       "      <td>train_y</td>\n",
       "      <td>-0.2027</td>\n",
       "      <td>0.0000</td>\n",
       "      <td>0.2952</td>\n",
       "      <td>0.0</td>\n",
       "    </tr>\n",
       "    <tr>\n",
       "      <td>test_y</td>\n",
       "      <td>-0.6100</td>\n",
       "      <td>0.0000</td>\n",
       "      <td>0.8032</td>\n",
       "      <td>0.0</td>\n",
       "    </tr>\n",
       "    <tr>\n",
       "      <td>train_pro_cnt</td>\n",
       "      <td>-0.2176</td>\n",
       "      <td>0.0000</td>\n",
       "      <td>0.3922</td>\n",
       "      <td>0.0</td>\n",
       "    </tr>\n",
       "    <tr>\n",
       "      <td>test_pro_cnt</td>\n",
       "      <td>-0.4381</td>\n",
       "      <td>0.0000</td>\n",
       "      <td>0.8247</td>\n",
       "      <td>0.0</td>\n",
       "    </tr>\n",
       "    <tr>\n",
       "      <td rowspan=\"4\" valign=\"top\">MAE</td>\n",
       "      <td>train_y</td>\n",
       "      <td>-0.0275</td>\n",
       "      <td>0.0070</td>\n",
       "      <td>0.2578</td>\n",
       "      <td>0.0</td>\n",
       "    </tr>\n",
       "    <tr>\n",
       "      <td>test_y</td>\n",
       "      <td>-0.0924</td>\n",
       "      <td>0.1593</td>\n",
       "      <td>0.7126</td>\n",
       "      <td>0.0</td>\n",
       "    </tr>\n",
       "    <tr>\n",
       "      <td>train_pro_cnt</td>\n",
       "      <td>0.1958</td>\n",
       "      <td>0.0000</td>\n",
       "      <td>0.2245</td>\n",
       "      <td>0.0</td>\n",
       "    </tr>\n",
       "    <tr>\n",
       "      <td>test_pro_cnt</td>\n",
       "      <td>0.0899</td>\n",
       "      <td>0.0045</td>\n",
       "      <td>0.6651</td>\n",
       "      <td>0.0</td>\n",
       "    </tr>\n",
       "  </tbody>\n",
       "</table>\n",
       "</div>"
      ],
      "text/plain": [
       "                  aver_income            true     \n",
       "                         coef       p    coef    p\n",
       "ME  train_y           -0.2027  0.0000  0.2952  0.0\n",
       "    test_y            -0.6100  0.0000  0.8032  0.0\n",
       "    train_pro_cnt     -0.2176  0.0000  0.3922  0.0\n",
       "    test_pro_cnt      -0.4381  0.0000  0.8247  0.0\n",
       "MAE train_y           -0.0275  0.0070  0.2578  0.0\n",
       "    test_y            -0.0924  0.1593  0.7126  0.0\n",
       "    train_pro_cnt      0.1958  0.0000  0.2245  0.0\n",
       "    test_pro_cnt       0.0899  0.0045  0.6651  0.0"
      ]
     },
     "execution_count": 234,
     "metadata": {},
     "output_type": "execute_result"
    }
   ],
   "source": [
    "pd.DataFrame(coefs_all).applymap(lambda x: float(f'{x:.4f}')).T"
   ]
  },
  {
   "cell_type": "code",
   "execution_count": 235,
   "metadata": {
    "ExecuteTime": {
     "end_time": "2020-04-09T00:55:06.914100Z",
     "start_time": "2020-04-09T00:55:06.862948Z"
    }
   },
   "outputs": [],
   "source": [
    "spear_all = {}\n",
    "for err_type in ['E','AE']:\n",
    "    for cnt_type in ['y', 'z']:\n",
    "        for dat_type, dat in [('train', train_result_compare), ('test', test_result_compare)]:\n",
    "            true_col = {'y': 'y', 'z': 'pro_cnt'}[cnt_type]\n",
    "            ecol = true_col+'_'+err_type\n",
    "            rho, p = spearmanr(dat[ecol],dat['aver_income'])\n",
    "            spear_all[(f'M{err_type}', f'{dat_type}_{true_col}')]={'rho':rho, 'p':p}"
   ]
  },
  {
   "cell_type": "code",
   "execution_count": 236,
   "metadata": {
    "ExecuteTime": {
     "end_time": "2020-04-09T00:55:07.619492Z",
     "start_time": "2020-04-09T00:55:07.572289Z"
    }
   },
   "outputs": [
    {
     "data": {
      "text/html": [
       "<div>\n",
       "<style scoped>\n",
       "    .dataframe tbody tr th:only-of-type {\n",
       "        vertical-align: middle;\n",
       "    }\n",
       "\n",
       "    .dataframe tbody tr th {\n",
       "        vertical-align: top;\n",
       "    }\n",
       "\n",
       "    .dataframe thead th {\n",
       "        text-align: right;\n",
       "    }\n",
       "</style>\n",
       "<table border=\"1\" class=\"dataframe\">\n",
       "  <thead>\n",
       "    <tr style=\"text-align: right;\">\n",
       "      <th></th>\n",
       "      <th></th>\n",
       "      <th>rho</th>\n",
       "      <th>p</th>\n",
       "    </tr>\n",
       "  </thead>\n",
       "  <tbody>\n",
       "    <tr>\n",
       "      <td rowspan=\"4\" valign=\"top\">ME</td>\n",
       "      <td>train_y</td>\n",
       "      <td>-0.1209</td>\n",
       "      <td>0.0001</td>\n",
       "    </tr>\n",
       "    <tr>\n",
       "      <td>test_y</td>\n",
       "      <td>-0.1800</td>\n",
       "      <td>0.0027</td>\n",
       "    </tr>\n",
       "    <tr>\n",
       "      <td>train_pro_cnt</td>\n",
       "      <td>-0.2479</td>\n",
       "      <td>0.0000</td>\n",
       "    </tr>\n",
       "    <tr>\n",
       "      <td>test_pro_cnt</td>\n",
       "      <td>-0.3475</td>\n",
       "      <td>0.0000</td>\n",
       "    </tr>\n",
       "    <tr>\n",
       "      <td rowspan=\"4\" valign=\"top\">MAE</td>\n",
       "      <td>train_y</td>\n",
       "      <td>0.3602</td>\n",
       "      <td>0.0000</td>\n",
       "    </tr>\n",
       "    <tr>\n",
       "      <td>test_y</td>\n",
       "      <td>0.3782</td>\n",
       "      <td>0.0000</td>\n",
       "    </tr>\n",
       "    <tr>\n",
       "      <td>train_pro_cnt</td>\n",
       "      <td>0.6164</td>\n",
       "      <td>0.0000</td>\n",
       "    </tr>\n",
       "    <tr>\n",
       "      <td>test_pro_cnt</td>\n",
       "      <td>0.6794</td>\n",
       "      <td>0.0000</td>\n",
       "    </tr>\n",
       "  </tbody>\n",
       "</table>\n",
       "</div>"
      ],
      "text/plain": [
       "                      rho       p\n",
       "ME  train_y       -0.1209  0.0001\n",
       "    test_y        -0.1800  0.0027\n",
       "    train_pro_cnt -0.2479  0.0000\n",
       "    test_pro_cnt  -0.3475  0.0000\n",
       "MAE train_y        0.3602  0.0000\n",
       "    test_y         0.3782  0.0000\n",
       "    train_pro_cnt  0.6164  0.0000\n",
       "    test_pro_cnt   0.6794  0.0000"
      ]
     },
     "execution_count": 236,
     "metadata": {},
     "output_type": "execute_result"
    }
   ],
   "source": [
    "pd.DataFrame(spear_all).applymap(lambda x: float(f'{x:.4f}')).T"
   ]
  },
  {
   "cell_type": "code",
   "execution_count": null,
   "metadata": {},
   "outputs": [],
   "source": []
  }
 ],
 "metadata": {
  "kernelspec": {
   "display_name": "Python [conda env:mob2crime]",
   "language": "python",
   "name": "conda-env-mob2crime-py"
  },
  "language_info": {
   "codemirror_mode": {
    "name": "ipython",
    "version": 3
   },
   "file_extension": ".py",
   "mimetype": "text/x-python",
   "name": "python",
   "nbconvert_exporter": "python",
   "pygments_lexer": "ipython3",
   "version": "3.7.3"
  },
  "toc": {
   "base_numbering": 1,
   "nav_menu": {},
   "number_sections": true,
   "sideBar": true,
   "skip_h1_title": false,
   "title_cell": "Table of Contents",
   "title_sidebar": "Contents",
   "toc_cell": false,
   "toc_position": {
    "height": "calc(100% - 180px)",
    "left": "10px",
    "top": "150px",
    "width": "183.594px"
   },
   "toc_section_display": true,
   "toc_window_display": true
  }
 },
 "nbformat": 4,
 "nbformat_minor": 2
}
