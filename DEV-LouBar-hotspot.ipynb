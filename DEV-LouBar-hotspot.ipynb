{
 "cells": [
  {
   "cell_type": "code",
   "execution_count": 1,
   "metadata": {},
   "outputs": [],
   "source": [
    "import numpy as np\n",
    "%matplotlib inline\n",
    "from matplotlib import pyplot as plt\n",
    "from copy import copy\n",
    "import bisect\n",
    "from src.utils import loubar_thres "
   ]
  },
  {
   "cell_type": "code",
   "execution_count": 2,
   "metadata": {},
   "outputs": [],
   "source": [
    "arr = np.random.beta(2,200,1000)\n",
    "arr.sort()\n",
    "# arr"
   ]
  },
  {
   "cell_type": "code",
   "execution_count": 3,
   "metadata": {},
   "outputs": [
    {
     "data": {
      "text/plain": [
       "(0.009866627934034743, 0.591, 591)"
      ]
     },
     "execution_count": 3,
     "metadata": {},
     "output_type": "execute_result"
    }
   ],
   "source": [
    "mean = arr.mean()\n",
    "mean_idx = bisect.bisect(arr, arr.mean())\n",
    "mean_pos = mean_idx/arr.size\n",
    "mean, mean_pos, mean_idx"
   ]
  },
  {
   "cell_type": "code",
   "execution_count": 4,
   "metadata": {},
   "outputs": [
    {
     "data": {
      "text/plain": [
       "(0.014708977642084852, 0.8033020161539592, 803)"
      ]
     },
     "execution_count": 4,
     "metadata": {},
     "output_type": "execute_result"
    }
   ],
   "source": [
    "lonrenz_y = arr.cumsum() / arr.sum()\n",
    "lonrenz_y = np.insert(lonrenz_y, 0, 0) \n",
    "x_axis = np.arange(lonrenz_y.size)/(lonrenz_y.size-1)\n",
    "\n",
    "slope = (lonrenz_y[-1] - lonrenz_y[-2])/(x_axis[-1]-x_axis[-2])\n",
    "loubar = (slope-1)/slope\n",
    "\n",
    "thres_idx = int(np.ceil((lonrenz_y.size-1)*loubar))-1\n",
    "arr_thres = arr[thres_idx]\n",
    "\n",
    "arr_thres, loubar, thres_idx"
   ]
  },
  {
   "cell_type": "code",
   "execution_count": 6,
   "metadata": {},
   "outputs": [
    {
     "data": {
      "text/plain": [
       "(0.8033020161539592, 0.014708977642084852)"
      ]
     },
     "execution_count": 6,
     "metadata": {},
     "output_type": "execute_result"
    }
   ],
   "source": [
    "loubar_thres(arr,is_sorted=True)"
   ]
  },
  {
   "cell_type": "code",
   "execution_count": 148,
   "metadata": {},
   "outputs": [
    {
     "data": {
      "text/plain": [
       "[<matplotlib.lines.Line2D at 0x7f710ee52630>]"
      ]
     },
     "execution_count": 148,
     "metadata": {},
     "output_type": "execute_result"
    },
    {
     "data": {
      "image/png": "[encoded data removed]",
      "text/plain": [
       "<Figure size 432x432 with 1 Axes>"
      ]
     },
     "metadata": {},
     "output_type": "display_data"
    }
   ],
   "source": [
    "fig, ax = plt.subplots(figsize=[6,6])\n",
    "plt.ylim(0,1)\n",
    "plt.xlim(0,1)\n",
    "## scatter plot of Lorenz curve\n",
    "ax.scatter(np.arange(lonrenz_y.size)/(lonrenz_y.size-1), lonrenz_y, \n",
    "           marker='x', color='darkgreen', s=3)\n",
    "## line plot of equality\n",
    "ax.plot([0,1], [0,1], color='k')\n",
    "ax.plot([loubar, 1], [0, 1], color='r')\n",
    "ax.plot([mean_pos, mean_pos], [0, lonrenz_y[mean_idx]], color='blue')"
   ]
  },
  {
   "cell_type": "code",
   "execution_count": null,
   "metadata": {},
   "outputs": [],
   "source": []
  }
 ],
 "metadata": {
  "kernelspec": {
   "display_name": "Python [default]",
   "language": "python",
   "name": "python3"
  }
 },
 "nbformat": 4,
 "nbformat_minor": 2
}
