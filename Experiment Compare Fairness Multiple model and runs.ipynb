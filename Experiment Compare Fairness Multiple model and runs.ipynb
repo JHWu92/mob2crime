{
 "cells": [
  {
   "cell_type": "code",
   "execution_count": 1,
   "metadata": {
    "ExecuteTime": {
     "end_time": "2020-05-19T18:40:10.448650Z",
     "start_time": "2020-05-19T18:40:09.413173Z"
    }
   },
   "outputs": [],
   "source": [
    "# %load_ext autoreload\n",
    "# %autoreload 2\n",
    "\n",
    "%matplotlib inline\n",
    "\n",
    "from IPython.display import display\n",
    "\n",
    "from scipy.stats import pearsonr\n",
    "\n",
    "import pandas as pd\n",
    "import numpy as np\n",
    "import src.exp.sklearn_models as exp_sk\n",
    "import exp_pred_muni_crime as exp_pred\n",
    "import json"
   ]
  },
  {
   "cell_type": "code",
   "execution_count": 2,
   "metadata": {
    "ExecuteTime": {
     "end_time": "2020-05-19T18:40:10.454038Z",
     "start_time": "2020-05-19T18:40:10.450132Z"
    }
   },
   "outputs": [],
   "source": [
    "from IPython.display import display_html\n",
    "def display_side_by_side(dfs, headers=None):\n",
    "    html_str=''\n",
    "    for i, df in enumerate(dfs):\n",
    "        df_sty = df.style.set_table_attributes(\"style='display:inline'\")\n",
    "        if headers is not None:\n",
    "            df_sty = df_sty.set_caption(headers[i])\n",
    "        html_str+=df_sty._repr_html_()\n",
    "    display_html(html_str,raw=True)"
   ]
  },
  {
   "cell_type": "code",
   "execution_count": 3,
   "metadata": {
    "ExecuteTime": {
     "end_time": "2020-05-19T18:40:10.553996Z",
     "start_time": "2020-05-19T18:40:10.455350Z"
    }
   },
   "outputs": [],
   "source": [
    "from collections import defaultdict"
   ]
  },
  {
   "cell_type": "markdown",
   "metadata": {},
   "source": [
    "# load data"
   ]
  },
  {
   "cell_type": "code",
   "execution_count": 4,
   "metadata": {
    "ExecuteTime": {
     "end_time": "2020-05-19T18:40:13.629676Z",
     "start_time": "2020-05-19T18:40:13.601693Z"
    }
   },
   "outputs": [],
   "source": [
    "data = pd.read_csv('data/SigSpatial_crime_data_full.csv')\n",
    "data['income_group'] = pd.qcut(data['aver_income'], 4, labels=['q1','q2','q3','q4'])\n",
    "pi = data['PI_type']\n",
    "ic = data['income_group']\n",
    "data_idx = data.index.tolist()\n",
    "# idx_json = exp_pred.get_train_test_splits()\n",
    "idx_json = exp_pred.get_5fold_split(random_state=0)"
   ]
  },
  {
   "cell_type": "code",
   "execution_count": 5,
   "metadata": {
    "ExecuteTime": {
     "end_time": "2020-05-19T18:40:15.695610Z",
     "start_time": "2020-05-19T18:40:15.682988Z"
    }
   },
   "outputs": [
    {
     "data": {
      "text/plain": [
       "PI NONE            5\n",
       "PI<40%,1~4999    955\n",
       "PI<40%,>5000     213\n",
       "PI>40%           206\n",
       "Name: PI_type, dtype: int64"
      ]
     },
     "execution_count": 5,
     "metadata": {},
     "output_type": "execute_result"
    }
   ],
   "source": [
    "pi.value_counts().sort_index()"
   ]
  },
  {
   "cell_type": "code",
   "execution_count": 6,
   "metadata": {
    "ExecuteTime": {
     "end_time": "2020-05-19T18:40:15.977267Z",
     "start_time": "2020-05-19T18:40:15.971666Z"
    }
   },
   "outputs": [],
   "source": [
    "# seed_n = [1,3,4,5,6,7,8]\n",
    "# seed_n = list(range(10))\n",
    "# seed_n = list(range(20))\n",
    "# seed_n = [15, 7, 10, 9, 6, 19, 16, 5, 1, 0, 3, 18, 8, 11, 12, 2, 17, 14, 4, 13][10:]\n",
    "# seed_n = [0, 1,2,3,5,6,12,16,17,18]\n",
    "seed_n = list(range(5))"
   ]
  },
  {
   "cell_type": "code",
   "execution_count": 7,
   "metadata": {
    "ExecuteTime": {
     "end_time": "2020-05-19T18:40:17.136892Z",
     "start_time": "2020-05-19T18:40:16.974001Z"
    }
   },
   "outputs": [
    {
     "data": {
      "text/html": [
       "<div>\n",
       "<style scoped>\n",
       "    .dataframe tbody tr th:only-of-type {\n",
       "        vertical-align: middle;\n",
       "    }\n",
       "\n",
       "    .dataframe tbody tr th {\n",
       "        vertical-align: top;\n",
       "    }\n",
       "\n",
       "    .dataframe thead tr th {\n",
       "        text-align: left;\n",
       "    }\n",
       "</style>\n",
       "<table border=\"1\" class=\"dataframe\">\n",
       "  <thead>\n",
       "    <tr>\n",
       "      <th></th>\n",
       "      <th colspan=\"2\" halign=\"left\">0</th>\n",
       "      <th colspan=\"2\" halign=\"left\">1</th>\n",
       "      <th colspan=\"2\" halign=\"left\">2</th>\n",
       "      <th colspan=\"2\" halign=\"left\">3</th>\n",
       "      <th colspan=\"2\" halign=\"left\">4</th>\n",
       "    </tr>\n",
       "    <tr>\n",
       "      <th></th>\n",
       "      <th>train</th>\n",
       "      <th>test</th>\n",
       "      <th>train</th>\n",
       "      <th>test</th>\n",
       "      <th>train</th>\n",
       "      <th>test</th>\n",
       "      <th>train</th>\n",
       "      <th>test</th>\n",
       "      <th>train</th>\n",
       "      <th>test</th>\n",
       "    </tr>\n",
       "  </thead>\n",
       "  <tbody>\n",
       "    <tr>\n",
       "      <td>PI NONE</td>\n",
       "      <td>5</td>\n",
       "      <td>NaN</td>\n",
       "      <td>3</td>\n",
       "      <td>2</td>\n",
       "      <td>4</td>\n",
       "      <td>1</td>\n",
       "      <td>3</td>\n",
       "      <td>2</td>\n",
       "      <td>5</td>\n",
       "      <td>NaN</td>\n",
       "    </tr>\n",
       "    <tr>\n",
       "      <td>PI&lt;40%,1~4999</td>\n",
       "      <td>757</td>\n",
       "      <td>198.0</td>\n",
       "      <td>759</td>\n",
       "      <td>196</td>\n",
       "      <td>773</td>\n",
       "      <td>182</td>\n",
       "      <td>761</td>\n",
       "      <td>194</td>\n",
       "      <td>770</td>\n",
       "      <td>185.0</td>\n",
       "    </tr>\n",
       "    <tr>\n",
       "      <td>PI&lt;40%,&gt;5000</td>\n",
       "      <td>170</td>\n",
       "      <td>43.0</td>\n",
       "      <td>171</td>\n",
       "      <td>42</td>\n",
       "      <td>168</td>\n",
       "      <td>45</td>\n",
       "      <td>166</td>\n",
       "      <td>47</td>\n",
       "      <td>177</td>\n",
       "      <td>36.0</td>\n",
       "    </tr>\n",
       "    <tr>\n",
       "      <td>PI&gt;40%</td>\n",
       "      <td>171</td>\n",
       "      <td>35.0</td>\n",
       "      <td>170</td>\n",
       "      <td>36</td>\n",
       "      <td>158</td>\n",
       "      <td>48</td>\n",
       "      <td>173</td>\n",
       "      <td>33</td>\n",
       "      <td>152</td>\n",
       "      <td>54.0</td>\n",
       "    </tr>\n",
       "  </tbody>\n",
       "</table>\n",
       "</div>"
      ],
      "text/plain": [
       "                  0            1          2          3          4       \n",
       "              train   test train test train test train test train   test\n",
       "PI NONE           5    NaN     3    2     4    1     3    2     5    NaN\n",
       "PI<40%,1~4999   757  198.0   759  196   773  182   761  194   770  185.0\n",
       "PI<40%,>5000    170   43.0   171   42   168   45   166   47   177   36.0\n",
       "PI>40%          171   35.0   170   36   158   48   173   33   152   54.0"
      ]
     },
     "metadata": {},
     "output_type": "display_data"
    },
    {
     "data": {
      "text/html": [
       "<div>\n",
       "<style scoped>\n",
       "    .dataframe tbody tr th:only-of-type {\n",
       "        vertical-align: middle;\n",
       "    }\n",
       "\n",
       "    .dataframe tbody tr th {\n",
       "        vertical-align: top;\n",
       "    }\n",
       "\n",
       "    .dataframe thead tr th {\n",
       "        text-align: left;\n",
       "    }\n",
       "</style>\n",
       "<table border=\"1\" class=\"dataframe\">\n",
       "  <thead>\n",
       "    <tr>\n",
       "      <th></th>\n",
       "      <th colspan=\"2\" halign=\"left\">0</th>\n",
       "      <th colspan=\"2\" halign=\"left\">1</th>\n",
       "      <th colspan=\"2\" halign=\"left\">2</th>\n",
       "      <th colspan=\"2\" halign=\"left\">3</th>\n",
       "      <th colspan=\"2\" halign=\"left\">4</th>\n",
       "    </tr>\n",
       "    <tr>\n",
       "      <th></th>\n",
       "      <th>train</th>\n",
       "      <th>test</th>\n",
       "      <th>train</th>\n",
       "      <th>test</th>\n",
       "      <th>train</th>\n",
       "      <th>test</th>\n",
       "      <th>train</th>\n",
       "      <th>test</th>\n",
       "      <th>train</th>\n",
       "      <th>test</th>\n",
       "    </tr>\n",
       "  </thead>\n",
       "  <tbody>\n",
       "    <tr>\n",
       "      <td>q1</td>\n",
       "      <td>290</td>\n",
       "      <td>55</td>\n",
       "      <td>282</td>\n",
       "      <td>63</td>\n",
       "      <td>273</td>\n",
       "      <td>72</td>\n",
       "      <td>275</td>\n",
       "      <td>70</td>\n",
       "      <td>260</td>\n",
       "      <td>85</td>\n",
       "    </tr>\n",
       "    <tr>\n",
       "      <td>q2</td>\n",
       "      <td>270</td>\n",
       "      <td>75</td>\n",
       "      <td>278</td>\n",
       "      <td>67</td>\n",
       "      <td>278</td>\n",
       "      <td>67</td>\n",
       "      <td>274</td>\n",
       "      <td>71</td>\n",
       "      <td>280</td>\n",
       "      <td>65</td>\n",
       "    </tr>\n",
       "    <tr>\n",
       "      <td>q3</td>\n",
       "      <td>289</td>\n",
       "      <td>55</td>\n",
       "      <td>272</td>\n",
       "      <td>72</td>\n",
       "      <td>279</td>\n",
       "      <td>65</td>\n",
       "      <td>267</td>\n",
       "      <td>77</td>\n",
       "      <td>269</td>\n",
       "      <td>75</td>\n",
       "    </tr>\n",
       "    <tr>\n",
       "      <td>q4</td>\n",
       "      <td>254</td>\n",
       "      <td>91</td>\n",
       "      <td>271</td>\n",
       "      <td>74</td>\n",
       "      <td>273</td>\n",
       "      <td>72</td>\n",
       "      <td>287</td>\n",
       "      <td>58</td>\n",
       "      <td>295</td>\n",
       "      <td>50</td>\n",
       "    </tr>\n",
       "  </tbody>\n",
       "</table>\n",
       "</div>"
      ],
      "text/plain": [
       "       0          1          2          3          4     \n",
       "   train test train test train test train test train test\n",
       "q1   290   55   282   63   273   72   275   70   260   85\n",
       "q2   270   75   278   67   278   67   274   71   280   65\n",
       "q3   289   55   272   72   279   65   267   77   269   75\n",
       "q4   254   91   271   74   273   72   287   58   295   50"
      ]
     },
     "metadata": {},
     "output_type": "display_data"
    }
   ],
   "source": [
    "pi_distr = []\n",
    "ic_distr = []\n",
    "\n",
    "for idx in idx_json:\n",
    "    if int(idx['ith']) not in seed_n:\n",
    "        continue\n",
    "    train_pi = data.loc[idx['train']].PI_type.value_counts()\n",
    "    train_pi.name = (idx['ith'], 'train')\n",
    "    test_pi = data.loc[idx['test']].PI_type.value_counts()\n",
    "    test_pi.name = (idx['ith'], 'test')\n",
    "    pi_distr.extend([train_pi, test_pi])\n",
    "    \n",
    "    train_ic = data.loc[idx['train']].income_group.value_counts()\n",
    "    train_ic.name = (idx['ith'], 'train')\n",
    "    test_ic = data.loc[idx['test']].income_group.value_counts()\n",
    "    test_ic.name = (idx['ith'], 'test')\n",
    "    ic_distr.extend([train_ic, test_ic])\n",
    "    \n",
    "\n",
    "\n",
    "display(pd.concat(pi_distr, axis=1, sort=True))\n",
    "display(pd.concat(ic_distr, axis=1, sort=True))"
   ]
  },
  {
   "cell_type": "code",
   "execution_count": 49,
   "metadata": {
    "ExecuteTime": {
     "end_time": "2020-05-20T00:00:26.433916Z",
     "start_time": "2020-05-20T00:00:26.382783Z"
    }
   },
   "outputs": [],
   "source": [
    "\n",
    "z = data['vio_cnt']\n",
    "ml_pred_z = json.load(open('exp_result/SigSpatial/ml_pred_z_vio_5fold.json'))\n",
    "# ml_pred_z = json.load(open('exp_result/SigSpatial/ml_pred_z_vio_Pop_5fold.json'))\n",
    "# ml_pred_z = json.load(open('exp_result/SigSpatial/ml_pred_z_vio_noScale_5fold.json'))\n",
    "# ml_pred_z = json.load(open('exp_result/SigSpatial/ml_pred_z_vio_rs10-5fold.json'))\n",
    "\n",
    "# z = data['pro_cnt']\n",
    "# ml_pred_z = json.load(open('exp_result/SigSpatial/ml_pred_z_5fold.json'))\n",
    "# ml_pred_z = json.load(open('exp_result/SigSpatial/ml_pred_z_Pop_5fold.json'))\n",
    "# ml_pred_z = json.load(open('exp_result/SigSpatial/ml_pred_z_Pop_noScale_5fold.json'))\n",
    "# ml_pred_z = json.load(open('exp_result/SigSpatial/ml_pred_z_noScale_5fold.json'))\n",
    "# ml_pred_z = json.load(open('exp_result/SigSpatial/ml_pred_z_rate_5fold.json'))\n",
    "\n",
    "\n",
    "for n in ['ols', 'ridge', 'lasso', 'DTreg', 'SVR', 'linearSVR', 'ADAreg']:\n",
    "    ml_pred_z.pop(n)\n"
   ]
  },
  {
   "cell_type": "code",
   "execution_count": 50,
   "metadata": {
    "ExecuteTime": {
     "end_time": "2020-05-20T00:00:36.430166Z",
     "start_time": "2020-05-20T00:00:36.382132Z"
    }
   },
   "outputs": [],
   "source": [
    "# bmodel = 'BayPoisNoScale'\n",
    "# bmodel = 'SigSpatialModel_pro_log_8a2b'\n",
    "bmodel = 'SigSpatialModel_vio_log_8a6b'\n",
    "ml_pred_z[bmodel] = defaultdict(dict)\n",
    "for idx in idx_json:\n",
    "    if int(idx['ith']) not in seed_n:\n",
    "        continue\n",
    "    i = int(idx['ith']) + 1\n",
    "    folder = f'exp_result/SigSpatial/{bmodel}/5fold-{i}'\n",
    "    ml_pred_z[bmodel][str(i-1)] = {\n",
    "        'seed':\n",
    "        idx['seed'],\n",
    "        'train_pred':pd.read_csv(f'{folder}/pred_train_z.csv',index_col=0)['mean'].tolist(),\n",
    "        'test_pred':pd.read_csv(f'{folder}/pred_test_z.csv', index_col=0)['mean'].tolist()\n",
    "    }"
   ]
  },
  {
   "cell_type": "code",
   "execution_count": 51,
   "metadata": {
    "ExecuteTime": {
     "end_time": "2020-05-20T00:00:39.951994Z",
     "start_time": "2020-05-20T00:00:39.911899Z"
    }
   },
   "outputs": [],
   "source": [
    "ml_pred_y = {}\n",
    "ml_pred_y[bmodel] = defaultdict(dict)\n",
    "for idx in idx_json:\n",
    "    if int(idx['ith']) not in seed_n:\n",
    "        continue\n",
    "    i = int(idx['ith']) + 1\n",
    "    folder = f'exp_result/SigSpatial/{bmodel}/5fold-{i}'\n",
    "    ml_pred_y[bmodel][str(i-1)] = {\n",
    "        'seed':\n",
    "        idx['seed'],\n",
    "        'train':pd.read_csv(f'{folder}/pred_train_y.csv',index_col=0)['mean'].tolist(),\n",
    "        'test':pd.read_csv(f'{folder}/pred_test_y.csv', index_col=0)['mean'].tolist()\n",
    "    }"
   ]
  },
  {
   "cell_type": "code",
   "execution_count": 52,
   "metadata": {
    "ExecuteTime": {
     "end_time": "2020-05-20T00:00:40.315876Z",
     "start_time": "2020-05-20T00:00:40.311105Z"
    }
   },
   "outputs": [
    {
     "data": {
      "text/plain": [
       "['GDBreg', 'RFreg', 'BAGreg', 'XGBreg', 'SigSpatialModel_vio_log_8a6b']"
      ]
     },
     "execution_count": 52,
     "metadata": {},
     "output_type": "execute_result"
    }
   ],
   "source": [
    "model_names = list(ml_pred_z.keys())\n",
    "model_names"
   ]
  },
  {
   "cell_type": "code",
   "execution_count": 12,
   "metadata": {
    "ExecuteTime": {
     "end_time": "2020-05-19T18:40:44.494468Z",
     "start_time": "2020-05-19T18:40:44.491255Z"
    }
   },
   "outputs": [],
   "source": [
    "group_names = ['PI_type', 'income_group']"
   ]
  },
  {
   "cell_type": "code",
   "execution_count": 13,
   "metadata": {
    "ExecuteTime": {
     "end_time": "2020-05-19T18:40:44.877287Z",
     "start_time": "2020-05-19T18:40:44.873451Z"
    }
   },
   "outputs": [],
   "source": [
    "pi_gps = ['PI NONE', 'PI<40%,1~4999', 'PI<40%,>5000', 'PI>40%']"
   ]
  },
  {
   "cell_type": "markdown",
   "metadata": {},
   "source": [
    "# compute fairness"
   ]
  },
  {
   "cell_type": "markdown",
   "metadata": {},
   "source": [
    "Controlling Attribute Effect in Linear Regression: \n",
    "After remove the explanatory bias, to compensate for the remaining, unexplainable bias \n",
    "- the first constraint imposes that the mean prediction needs to be the same for the different batches or groups.\n",
    "- The second constraint expresses that the mean residuals needs to be the same; that is, the errors for the different groups need to be balanced \n",
    "\n",
    "Regression fairness:\n",
    "- FairST: Equitable Spatial and Temporal Demand Prediction for New Mobility Systems"
   ]
  },
  {
   "cell_type": "code",
   "execution_count": 14,
   "metadata": {
    "ExecuteTime": {
     "end_time": "2020-05-19T18:40:59.055778Z",
     "start_time": "2020-05-19T18:40:59.051664Z"
    }
   },
   "outputs": [],
   "source": [
    "from scipy.stats import pearsonr, spearmanr"
   ]
  },
  {
   "cell_type": "code",
   "execution_count": 15,
   "metadata": {
    "ExecuteTime": {
     "end_time": "2020-05-19T18:40:59.202766Z",
     "start_time": "2020-05-19T18:40:59.196119Z"
    },
    "code_folding": [
     0
    ]
   },
   "outputs": [],
   "source": [
    "def compute_error(df):\n",
    "    true = df.true\n",
    "    for mname in model_names:\n",
    "        pred = df[mname]\n",
    "        df[f'{mname}_SE'] = (true - pred)**2\n",
    "        df[f'{mname}_E'] = pred - true\n",
    "        df[f'{mname}_AE'] = df[f'{mname}_E'].abs()"
   ]
  },
  {
   "cell_type": "code",
   "execution_count": 16,
   "metadata": {
    "ExecuteTime": {
     "end_time": "2020-05-19T18:40:59.394752Z",
     "start_time": "2020-05-19T18:40:59.381718Z"
    },
    "code_folding": [
     0
    ]
   },
   "outputs": [],
   "source": [
    "def mean_err(df, mname, cor=True):\n",
    "    rmse = pd.np.sqrt(df[mname+'_SE'].mean())\n",
    "    mae = df[mname+'_AE'].mean()\n",
    "    me = df[mname+'_E'].mean()\n",
    "    me_neg = df[df[mname+'_E']<0][mname+'_E'].mean()\n",
    "    me_pos = df[df[mname+'_E']>0][mname+'_E'].mean()\n",
    "    err =  {'RMSE': round(rmse,2), 'MAE': round(mae,2), '+ME': round(me_pos,2), '-ME': round(me_neg,2),'ME':round(me,2),}\n",
    "    \n",
    "    if cor:\n",
    "        true = df.true\n",
    "        pred = df[mname]\n",
    "        pea_cor, pea_p = pearsonr(true, pred)\n",
    "        spe_cor, spe_p = spearmanr(true, pred)\n",
    "        r2 = exp_sk.r2_score(true, pred)\n",
    "        err.update({'pea_cor': pea_cor, 'pea_p': pea_p, 'spe_cor': spe_cor, 'spe_p':spe_p, 'r2': r2})\n",
    "    return err\n"
   ]
  },
  {
   "cell_type": "code",
   "execution_count": 17,
   "metadata": {
    "ExecuteTime": {
     "end_time": "2020-05-19T18:40:59.577800Z",
     "start_time": "2020-05-19T18:40:59.564262Z"
    },
    "code_folding": [
     0
    ]
   },
   "outputs": [],
   "source": [
    "def compile_predictions(train_test_id, popu=False):\n",
    "    idx = idx_json[train_test_id]\n",
    "    if popu:\n",
    "        train_z = z.loc[idx['train']]/data.loc[idx['train']]['popu']\n",
    "        test_z = z.loc[idx['test']]/data.loc[idx['test']]['popu']\n",
    "        \n",
    "    else:\n",
    "        train_z = z.loc[idx['train']]\n",
    "        test_z = z.loc[idx['test']]\n",
    "        \n",
    "    train_eval = {'true': train_z}\n",
    "    test_eval = {'true': test_z}\n",
    "\n",
    "    for mname, predictions in ml_pred_z.items():\n",
    "        pred = predictions[str(idx['ith'])]\n",
    "        train_eval[mname] = pred['train_pred']\n",
    "        test_eval[mname] = pred['test_pred']\n",
    "\n",
    "\n",
    "    train_eval = pd.DataFrame(train_eval)\n",
    "    test_eval = pd.DataFrame(test_eval)\n",
    "\n",
    "    compute_error(train_eval)\n",
    "    compute_error(test_eval)\n",
    "\n",
    "    test_eval = test_eval.join(data[['PI_type','income_group']], how='left')\n",
    "    train_eval = train_eval.join(data[['PI_type','income_group']], how='left')\n",
    "    return train_eval, test_eval"
   ]
  },
  {
   "cell_type": "code",
   "execution_count": 53,
   "metadata": {
    "ExecuteTime": {
     "end_time": "2020-05-20T00:00:44.772579Z",
     "start_time": "2020-05-20T00:00:44.350048Z"
    }
   },
   "outputs": [
    {
     "data": {
      "text/html": [
       "<style  type=\"text/css\" >\n",
       "</style><table id=\"T_f3cb2392_9a2c_11ea_85b4_d4ae52d07f78\" style='display:inline'><caption>test</caption><thead>    <tr>        <th class=\"blank level0\" ></th>        <th class=\"col_heading level0 col0\" >GDBreg</th>        <th class=\"col_heading level0 col1\" >RFreg</th>        <th class=\"col_heading level0 col2\" >BAGreg</th>        <th class=\"col_heading level0 col3\" >XGBreg</th>        <th class=\"col_heading level0 col4\" >SigSpatialModel_vio_log_8a6b</th>    </tr></thead><tbody>\n",
       "                <tr>\n",
       "                        <th id=\"T_f3cb2392_9a2c_11ea_85b4_d4ae52d07f78level0_row0\" class=\"row_heading level0 row0\" >RMSE</th>\n",
       "                        <td id=\"T_f3cb2392_9a2c_11ea_85b4_d4ae52d07f78row0_col0\" class=\"data row0 col0\" >1271.35</td>\n",
       "                        <td id=\"T_f3cb2392_9a2c_11ea_85b4_d4ae52d07f78row0_col1\" class=\"data row0 col1\" >1301.37</td>\n",
       "                        <td id=\"T_f3cb2392_9a2c_11ea_85b4_d4ae52d07f78row0_col2\" class=\"data row0 col2\" >1294.48</td>\n",
       "                        <td id=\"T_f3cb2392_9a2c_11ea_85b4_d4ae52d07f78row0_col3\" class=\"data row0 col3\" >1305.99</td>\n",
       "                        <td id=\"T_f3cb2392_9a2c_11ea_85b4_d4ae52d07f78row0_col4\" class=\"data row0 col4\" >1160.02</td>\n",
       "            </tr>\n",
       "            <tr>\n",
       "                        <th id=\"T_f3cb2392_9a2c_11ea_85b4_d4ae52d07f78level0_row1\" class=\"row_heading level0 row1\" >MAE</th>\n",
       "                        <td id=\"T_f3cb2392_9a2c_11ea_85b4_d4ae52d07f78row1_col0\" class=\"data row1 col0\" >408.912</td>\n",
       "                        <td id=\"T_f3cb2392_9a2c_11ea_85b4_d4ae52d07f78row1_col1\" class=\"data row1 col1\" >404.704</td>\n",
       "                        <td id=\"T_f3cb2392_9a2c_11ea_85b4_d4ae52d07f78row1_col2\" class=\"data row1 col2\" >406.112</td>\n",
       "                        <td id=\"T_f3cb2392_9a2c_11ea_85b4_d4ae52d07f78row1_col3\" class=\"data row1 col3\" >404.926</td>\n",
       "                        <td id=\"T_f3cb2392_9a2c_11ea_85b4_d4ae52d07f78row1_col4\" class=\"data row1 col4\" >346.104</td>\n",
       "            </tr>\n",
       "            <tr>\n",
       "                        <th id=\"T_f3cb2392_9a2c_11ea_85b4_d4ae52d07f78level0_row2\" class=\"row_heading level0 row2\" >+ME</th>\n",
       "                        <td id=\"T_f3cb2392_9a2c_11ea_85b4_d4ae52d07f78row2_col0\" class=\"data row2 col0\" >316.75</td>\n",
       "                        <td id=\"T_f3cb2392_9a2c_11ea_85b4_d4ae52d07f78row2_col1\" class=\"data row2 col1\" >273.196</td>\n",
       "                        <td id=\"T_f3cb2392_9a2c_11ea_85b4_d4ae52d07f78row2_col2\" class=\"data row2 col2\" >275.704</td>\n",
       "                        <td id=\"T_f3cb2392_9a2c_11ea_85b4_d4ae52d07f78row2_col3\" class=\"data row2 col3\" >320.508</td>\n",
       "                        <td id=\"T_f3cb2392_9a2c_11ea_85b4_d4ae52d07f78row2_col4\" class=\"data row2 col4\" >291.06</td>\n",
       "            </tr>\n",
       "            <tr>\n",
       "                        <th id=\"T_f3cb2392_9a2c_11ea_85b4_d4ae52d07f78level0_row3\" class=\"row_heading level0 row3\" >-ME</th>\n",
       "                        <td id=\"T_f3cb2392_9a2c_11ea_85b4_d4ae52d07f78row3_col0\" class=\"data row3 col0\" >-584.874</td>\n",
       "                        <td id=\"T_f3cb2392_9a2c_11ea_85b4_d4ae52d07f78row3_col1\" class=\"data row3 col1\" >-808.338</td>\n",
       "                        <td id=\"T_f3cb2392_9a2c_11ea_85b4_d4ae52d07f78row3_col2\" class=\"data row3 col2\" >-853.278</td>\n",
       "                        <td id=\"T_f3cb2392_9a2c_11ea_85b4_d4ae52d07f78row3_col3\" class=\"data row3 col3\" >-536.71</td>\n",
       "                        <td id=\"T_f3cb2392_9a2c_11ea_85b4_d4ae52d07f78row3_col4\" class=\"data row3 col4\" >-430.894</td>\n",
       "            </tr>\n",
       "            <tr>\n",
       "                        <th id=\"T_f3cb2392_9a2c_11ea_85b4_d4ae52d07f78level0_row4\" class=\"row_heading level0 row4\" >ME</th>\n",
       "                        <td id=\"T_f3cb2392_9a2c_11ea_85b4_d4ae52d07f78row4_col0\" class=\"data row4 col0\" >-13.562</td>\n",
       "                        <td id=\"T_f3cb2392_9a2c_11ea_85b4_d4ae52d07f78row4_col1\" class=\"data row4 col1\" >2.084</td>\n",
       "                        <td id=\"T_f3cb2392_9a2c_11ea_85b4_d4ae52d07f78row4_col2\" class=\"data row4 col2\" >18.52</td>\n",
       "                        <td id=\"T_f3cb2392_9a2c_11ea_85b4_d4ae52d07f78row4_col3\" class=\"data row4 col3\" >-18.75</td>\n",
       "                        <td id=\"T_f3cb2392_9a2c_11ea_85b4_d4ae52d07f78row4_col4\" class=\"data row4 col4\" >5.606</td>\n",
       "            </tr>\n",
       "            <tr>\n",
       "                        <th id=\"T_f3cb2392_9a2c_11ea_85b4_d4ae52d07f78level0_row5\" class=\"row_heading level0 row5\" >pea_cor</th>\n",
       "                        <td id=\"T_f3cb2392_9a2c_11ea_85b4_d4ae52d07f78row5_col0\" class=\"data row5 col0\" >0.739397</td>\n",
       "                        <td id=\"T_f3cb2392_9a2c_11ea_85b4_d4ae52d07f78row5_col1\" class=\"data row5 col1\" >0.733981</td>\n",
       "                        <td id=\"T_f3cb2392_9a2c_11ea_85b4_d4ae52d07f78row5_col2\" class=\"data row5 col2\" >0.737117</td>\n",
       "                        <td id=\"T_f3cb2392_9a2c_11ea_85b4_d4ae52d07f78row5_col3\" class=\"data row5 col3\" >0.728152</td>\n",
       "                        <td id=\"T_f3cb2392_9a2c_11ea_85b4_d4ae52d07f78row5_col4\" class=\"data row5 col4\" >0.813401</td>\n",
       "            </tr>\n",
       "            <tr>\n",
       "                        <th id=\"T_f3cb2392_9a2c_11ea_85b4_d4ae52d07f78level0_row6\" class=\"row_heading level0 row6\" >pea_p</th>\n",
       "                        <td id=\"T_f3cb2392_9a2c_11ea_85b4_d4ae52d07f78row6_col0\" class=\"data row6 col0\" >2.44636e-33</td>\n",
       "                        <td id=\"T_f3cb2392_9a2c_11ea_85b4_d4ae52d07f78row6_col1\" class=\"data row6 col1\" >2.76798e-31</td>\n",
       "                        <td id=\"T_f3cb2392_9a2c_11ea_85b4_d4ae52d07f78row6_col2\" class=\"data row6 col2\" >7.35343e-32</td>\n",
       "                        <td id=\"T_f3cb2392_9a2c_11ea_85b4_d4ae52d07f78row6_col3\" class=\"data row6 col3\" >1.99959e-33</td>\n",
       "                        <td id=\"T_f3cb2392_9a2c_11ea_85b4_d4ae52d07f78row6_col4\" class=\"data row6 col4\" >2.52999e-45</td>\n",
       "            </tr>\n",
       "            <tr>\n",
       "                        <th id=\"T_f3cb2392_9a2c_11ea_85b4_d4ae52d07f78level0_row7\" class=\"row_heading level0 row7\" >spe_cor</th>\n",
       "                        <td id=\"T_f3cb2392_9a2c_11ea_85b4_d4ae52d07f78row7_col0\" class=\"data row7 col0\" >0.607985</td>\n",
       "                        <td id=\"T_f3cb2392_9a2c_11ea_85b4_d4ae52d07f78row7_col1\" class=\"data row7 col1\" >0.703148</td>\n",
       "                        <td id=\"T_f3cb2392_9a2c_11ea_85b4_d4ae52d07f78row7_col2\" class=\"data row7 col2\" >0.681389</td>\n",
       "                        <td id=\"T_f3cb2392_9a2c_11ea_85b4_d4ae52d07f78row7_col3\" class=\"data row7 col3\" >0.646448</td>\n",
       "                        <td id=\"T_f3cb2392_9a2c_11ea_85b4_d4ae52d07f78row7_col4\" class=\"data row7 col4\" >0.666738</td>\n",
       "            </tr>\n",
       "            <tr>\n",
       "                        <th id=\"T_f3cb2392_9a2c_11ea_85b4_d4ae52d07f78level0_row8\" class=\"row_heading level0 row8\" >spe_p</th>\n",
       "                        <td id=\"T_f3cb2392_9a2c_11ea_85b4_d4ae52d07f78row8_col0\" class=\"data row8 col0\" >1.5061e-15</td>\n",
       "                        <td id=\"T_f3cb2392_9a2c_11ea_85b4_d4ae52d07f78row8_col1\" class=\"data row8 col1\" >9.18608e-35</td>\n",
       "                        <td id=\"T_f3cb2392_9a2c_11ea_85b4_d4ae52d07f78row8_col2\" class=\"data row8 col2\" >9.64281e-34</td>\n",
       "                        <td id=\"T_f3cb2392_9a2c_11ea_85b4_d4ae52d07f78row8_col3\" class=\"data row8 col3\" >1.88569e-25</td>\n",
       "                        <td id=\"T_f3cb2392_9a2c_11ea_85b4_d4ae52d07f78row8_col4\" class=\"data row8 col4\" >2.11624e-26</td>\n",
       "            </tr>\n",
       "            <tr>\n",
       "                        <th id=\"T_f3cb2392_9a2c_11ea_85b4_d4ae52d07f78level0_row9\" class=\"row_heading level0 row9\" >r2</th>\n",
       "                        <td id=\"T_f3cb2392_9a2c_11ea_85b4_d4ae52d07f78row9_col0\" class=\"data row9 col0\" >0.518384</td>\n",
       "                        <td id=\"T_f3cb2392_9a2c_11ea_85b4_d4ae52d07f78row9_col1\" class=\"data row9 col1\" >0.505119</td>\n",
       "                        <td id=\"T_f3cb2392_9a2c_11ea_85b4_d4ae52d07f78row9_col2\" class=\"data row9 col2\" >0.50377</td>\n",
       "                        <td id=\"T_f3cb2392_9a2c_11ea_85b4_d4ae52d07f78row9_col3\" class=\"data row9 col3\" >0.496578</td>\n",
       "                        <td id=\"T_f3cb2392_9a2c_11ea_85b4_d4ae52d07f78row9_col4\" class=\"data row9 col4\" >0.546647</td>\n",
       "            </tr>\n",
       "    </tbody></table><style  type=\"text/css\" >\n",
       "</style><table id=\"T_f3cb955c_9a2c_11ea_85b4_d4ae52d07f78\" style='display:inline'><caption>train</caption><thead>    <tr>        <th class=\"blank level0\" ></th>        <th class=\"col_heading level0 col0\" >GDBreg</th>        <th class=\"col_heading level0 col1\" >RFreg</th>        <th class=\"col_heading level0 col2\" >BAGreg</th>        <th class=\"col_heading level0 col3\" >XGBreg</th>        <th class=\"col_heading level0 col4\" >SigSpatialModel_vio_log_8a6b</th>    </tr></thead><tbody>\n",
       "                <tr>\n",
       "                        <th id=\"T_f3cb955c_9a2c_11ea_85b4_d4ae52d07f78level0_row0\" class=\"row_heading level0 row0\" >RMSE</th>\n",
       "                        <td id=\"T_f3cb955c_9a2c_11ea_85b4_d4ae52d07f78row0_col0\" class=\"data row0 col0\" >89.602</td>\n",
       "                        <td id=\"T_f3cb955c_9a2c_11ea_85b4_d4ae52d07f78row0_col1\" class=\"data row0 col1\" >713.052</td>\n",
       "                        <td id=\"T_f3cb955c_9a2c_11ea_85b4_d4ae52d07f78row0_col2\" class=\"data row0 col2\" >517.742</td>\n",
       "                        <td id=\"T_f3cb955c_9a2c_11ea_85b4_d4ae52d07f78row0_col3\" class=\"data row0 col3\" >549.404</td>\n",
       "                        <td id=\"T_f3cb955c_9a2c_11ea_85b4_d4ae52d07f78row0_col4\" class=\"data row0 col4\" >1036.28</td>\n",
       "            </tr>\n",
       "            <tr>\n",
       "                        <th id=\"T_f3cb955c_9a2c_11ea_85b4_d4ae52d07f78level0_row1\" class=\"row_heading level0 row1\" >MAE</th>\n",
       "                        <td id=\"T_f3cb955c_9a2c_11ea_85b4_d4ae52d07f78row1_col0\" class=\"data row1 col0\" >19.128</td>\n",
       "                        <td id=\"T_f3cb955c_9a2c_11ea_85b4_d4ae52d07f78row1_col1\" class=\"data row1 col1\" >187.638</td>\n",
       "                        <td id=\"T_f3cb955c_9a2c_11ea_85b4_d4ae52d07f78row1_col2\" class=\"data row1 col2\" >157.082</td>\n",
       "                        <td id=\"T_f3cb955c_9a2c_11ea_85b4_d4ae52d07f78row1_col3\" class=\"data row1 col3\" >155.922</td>\n",
       "                        <td id=\"T_f3cb955c_9a2c_11ea_85b4_d4ae52d07f78row1_col4\" class=\"data row1 col4\" >320.898</td>\n",
       "            </tr>\n",
       "            <tr>\n",
       "                        <th id=\"T_f3cb955c_9a2c_11ea_85b4_d4ae52d07f78level0_row2\" class=\"row_heading level0 row2\" >+ME</th>\n",
       "                        <td id=\"T_f3cb955c_9a2c_11ea_85b4_d4ae52d07f78row2_col0\" class=\"data row2 col0\" >15.276</td>\n",
       "                        <td id=\"T_f3cb955c_9a2c_11ea_85b4_d4ae52d07f78row2_col1\" class=\"data row2 col1\" >123.99</td>\n",
       "                        <td id=\"T_f3cb955c_9a2c_11ea_85b4_d4ae52d07f78row2_col2\" class=\"data row2 col2\" >107.566</td>\n",
       "                        <td id=\"T_f3cb955c_9a2c_11ea_85b4_d4ae52d07f78row2_col3\" class=\"data row2 col3\" >129.164</td>\n",
       "                        <td id=\"T_f3cb955c_9a2c_11ea_85b4_d4ae52d07f78row2_col4\" class=\"data row2 col4\" >268.206</td>\n",
       "            </tr>\n",
       "            <tr>\n",
       "                        <th id=\"T_f3cb955c_9a2c_11ea_85b4_d4ae52d07f78level0_row3\" class=\"row_heading level0 row3\" >-ME</th>\n",
       "                        <td id=\"T_f3cb955c_9a2c_11ea_85b4_d4ae52d07f78row3_col0\" class=\"data row3 col0\" >-26.822</td>\n",
       "                        <td id=\"T_f3cb955c_9a2c_11ea_85b4_d4ae52d07f78row3_col1\" class=\"data row3 col1\" >-402.32</td>\n",
       "                        <td id=\"T_f3cb955c_9a2c_11ea_85b4_d4ae52d07f78row3_col2\" class=\"data row3 col2\" >-323.544</td>\n",
       "                        <td id=\"T_f3cb955c_9a2c_11ea_85b4_d4ae52d07f78row3_col3\" class=\"data row3 col3\" >-189.606</td>\n",
       "                        <td id=\"T_f3cb955c_9a2c_11ea_85b4_d4ae52d07f78row3_col4\" class=\"data row3 col4\" >-400.372</td>\n",
       "            </tr>\n",
       "            <tr>\n",
       "                        <th id=\"T_f3cb955c_9a2c_11ea_85b4_d4ae52d07f78level0_row4\" class=\"row_heading level0 row4\" >ME</th>\n",
       "                        <td id=\"T_f3cb955c_9a2c_11ea_85b4_d4ae52d07f78row4_col0\" class=\"data row4 col0\" >0.364</td>\n",
       "                        <td id=\"T_f3cb955c_9a2c_11ea_85b4_d4ae52d07f78row4_col1\" class=\"data row4 col1\" >2.5</td>\n",
       "                        <td id=\"T_f3cb955c_9a2c_11ea_85b4_d4ae52d07f78row4_col2\" class=\"data row4 col2\" >8</td>\n",
       "                        <td id=\"T_f3cb955c_9a2c_11ea_85b4_d4ae52d07f78row4_col3\" class=\"data row4 col3\" >-16.526</td>\n",
       "                        <td id=\"T_f3cb955c_9a2c_11ea_85b4_d4ae52d07f78row4_col4\" class=\"data row4 col4\" >0.018</td>\n",
       "            </tr>\n",
       "            <tr>\n",
       "                        <th id=\"T_f3cb955c_9a2c_11ea_85b4_d4ae52d07f78level0_row5\" class=\"row_heading level0 row5\" >pea_cor</th>\n",
       "                        <td id=\"T_f3cb955c_9a2c_11ea_85b4_d4ae52d07f78row5_col0\" class=\"data row5 col0\" >0.998934</td>\n",
       "                        <td id=\"T_f3cb955c_9a2c_11ea_85b4_d4ae52d07f78row5_col1\" class=\"data row5 col1\" >0.942986</td>\n",
       "                        <td id=\"T_f3cb955c_9a2c_11ea_85b4_d4ae52d07f78row5_col2\" class=\"data row5 col2\" >0.9782</td>\n",
       "                        <td id=\"T_f3cb955c_9a2c_11ea_85b4_d4ae52d07f78row5_col3\" class=\"data row5 col3\" >0.965705</td>\n",
       "                        <td id=\"T_f3cb955c_9a2c_11ea_85b4_d4ae52d07f78row5_col4\" class=\"data row5 col4\" >0.831278</td>\n",
       "            </tr>\n",
       "            <tr>\n",
       "                        <th id=\"T_f3cb955c_9a2c_11ea_85b4_d4ae52d07f78level0_row6\" class=\"row_heading level0 row6\" >pea_p</th>\n",
       "                        <td id=\"T_f3cb955c_9a2c_11ea_85b4_d4ae52d07f78row6_col0\" class=\"data row6 col0\" >0</td>\n",
       "                        <td id=\"T_f3cb955c_9a2c_11ea_85b4_d4ae52d07f78row6_col1\" class=\"data row6 col1\" >0</td>\n",
       "                        <td id=\"T_f3cb955c_9a2c_11ea_85b4_d4ae52d07f78row6_col2\" class=\"data row6 col2\" >0</td>\n",
       "                        <td id=\"T_f3cb955c_9a2c_11ea_85b4_d4ae52d07f78row6_col3\" class=\"data row6 col3\" >0</td>\n",
       "                        <td id=\"T_f3cb955c_9a2c_11ea_85b4_d4ae52d07f78row6_col4\" class=\"data row6 col4\" >1.23472e-262</td>\n",
       "            </tr>\n",
       "            <tr>\n",
       "                        <th id=\"T_f3cb955c_9a2c_11ea_85b4_d4ae52d07f78level0_row7\" class=\"row_heading level0 row7\" >spe_cor</th>\n",
       "                        <td id=\"T_f3cb955c_9a2c_11ea_85b4_d4ae52d07f78row7_col0\" class=\"data row7 col0\" >0.973984</td>\n",
       "                        <td id=\"T_f3cb955c_9a2c_11ea_85b4_d4ae52d07f78row7_col1\" class=\"data row7 col1\" >0.86603</td>\n",
       "                        <td id=\"T_f3cb955c_9a2c_11ea_85b4_d4ae52d07f78row7_col2\" class=\"data row7 col2\" >0.871253</td>\n",
       "                        <td id=\"T_f3cb955c_9a2c_11ea_85b4_d4ae52d07f78row7_col3\" class=\"data row7 col3\" >0.795432</td>\n",
       "                        <td id=\"T_f3cb955c_9a2c_11ea_85b4_d4ae52d07f78row7_col4\" class=\"data row7 col4\" >0.675899</td>\n",
       "            </tr>\n",
       "            <tr>\n",
       "                        <th id=\"T_f3cb955c_9a2c_11ea_85b4_d4ae52d07f78level0_row8\" class=\"row_heading level0 row8\" >spe_p</th>\n",
       "                        <td id=\"T_f3cb955c_9a2c_11ea_85b4_d4ae52d07f78row8_col0\" class=\"data row8 col0\" >0</td>\n",
       "                        <td id=\"T_f3cb955c_9a2c_11ea_85b4_d4ae52d07f78row8_col1\" class=\"data row8 col1\" >6.71459e-244</td>\n",
       "                        <td id=\"T_f3cb955c_9a2c_11ea_85b4_d4ae52d07f78row8_col2\" class=\"data row8 col2\" >0</td>\n",
       "                        <td id=\"T_f3cb955c_9a2c_11ea_85b4_d4ae52d07f78row8_col3\" class=\"data row8 col3\" >1.81618e-215</td>\n",
       "                        <td id=\"T_f3cb955c_9a2c_11ea_85b4_d4ae52d07f78row8_col4\" class=\"data row8 col4\" >2.53829e-139</td>\n",
       "            </tr>\n",
       "            <tr>\n",
       "                        <th id=\"T_f3cb955c_9a2c_11ea_85b4_d4ae52d07f78level0_row9\" class=\"row_heading level0 row9\" >r2</th>\n",
       "                        <td id=\"T_f3cb955c_9a2c_11ea_85b4_d4ae52d07f78row9_col0\" class=\"data row9 col0\" >0.99676</td>\n",
       "                        <td id=\"T_f3cb955c_9a2c_11ea_85b4_d4ae52d07f78row9_col1\" class=\"data row9 col1\" >0.849445</td>\n",
       "                        <td id=\"T_f3cb955c_9a2c_11ea_85b4_d4ae52d07f78row9_col2\" class=\"data row9 col2\" >0.922822</td>\n",
       "                        <td id=\"T_f3cb955c_9a2c_11ea_85b4_d4ae52d07f78row9_col3\" class=\"data row9 col3\" >0.90411</td>\n",
       "                        <td id=\"T_f3cb955c_9a2c_11ea_85b4_d4ae52d07f78row9_col4\" class=\"data row9 col4\" >0.690506</td>\n",
       "            </tr>\n",
       "    </tbody></table>"
      ]
     },
     "metadata": {},
     "output_type": "display_data"
    }
   ],
   "source": [
    "# merr list: mean error for diff runs. \n",
    "# eval list: prediction, SE AE for each munic, used in 2.1 and 2.2 fair per group\n",
    "train_merr_list, test_merr_list, train_eval_list, test_eval_list = [], [], [], []\n",
    "for tr_te_i in seed_n:\n",
    "    train_eval, test_eval = compile_predictions(tr_te_i, popu=False)\n",
    "    train_eval_list.append(train_eval)\n",
    "    test_eval_list.append(test_eval)\n",
    "    \n",
    "    test_merr = {mname: mean_err(test_eval, mname) for mname in model_names}\n",
    "    test_merr = pd.DataFrame(test_merr)\n",
    "    test_merr_list.append(test_merr)\n",
    "\n",
    "    train_merr = {mname: mean_err(train_eval, mname) for mname in model_names}\n",
    "    train_merr = pd.DataFrame(train_merr)\n",
    "    train_merr_list.append(train_merr)\n",
    "\n",
    "display_side_by_side([sum(test_merr_list)/len(seed_n), sum(train_merr_list)/len(seed_n)],['test', 'train'])"
   ]
  },
  {
   "cell_type": "code",
   "execution_count": 54,
   "metadata": {
    "ExecuteTime": {
     "end_time": "2020-05-20T00:00:51.904108Z",
     "start_time": "2020-05-20T00:00:51.884840Z"
    }
   },
   "outputs": [
    {
     "data": {
      "text/html": [
       "<div>\n",
       "<style scoped>\n",
       "    .dataframe tbody tr th:only-of-type {\n",
       "        vertical-align: middle;\n",
       "    }\n",
       "\n",
       "    .dataframe tbody tr th {\n",
       "        vertical-align: top;\n",
       "    }\n",
       "\n",
       "    .dataframe thead th {\n",
       "        text-align: right;\n",
       "    }\n",
       "</style>\n",
       "<table border=\"1\" class=\"dataframe\">\n",
       "  <thead>\n",
       "    <tr style=\"text-align: right;\">\n",
       "      <th></th>\n",
       "      <th>RMSE</th>\n",
       "      <th>RMSE</th>\n",
       "      <th>RMSE</th>\n",
       "      <th>RMSE</th>\n",
       "      <th>RMSE</th>\n",
       "    </tr>\n",
       "  </thead>\n",
       "  <tbody>\n",
       "    <tr>\n",
       "      <td>GDBreg</td>\n",
       "      <td>1649.75</td>\n",
       "      <td>1238.22</td>\n",
       "      <td>1402.73</td>\n",
       "      <td>660.50</td>\n",
       "      <td>1405.54</td>\n",
       "    </tr>\n",
       "    <tr>\n",
       "      <td>RFreg</td>\n",
       "      <td>1678.40</td>\n",
       "      <td>1227.68</td>\n",
       "      <td>1534.50</td>\n",
       "      <td>582.88</td>\n",
       "      <td>1483.41</td>\n",
       "    </tr>\n",
       "    <tr>\n",
       "      <td>BAGreg</td>\n",
       "      <td>1684.48</td>\n",
       "      <td>1176.58</td>\n",
       "      <td>1469.12</td>\n",
       "      <td>649.08</td>\n",
       "      <td>1493.12</td>\n",
       "    </tr>\n",
       "    <tr>\n",
       "      <td>XGBreg</td>\n",
       "      <td>1650.86</td>\n",
       "      <td>1277.69</td>\n",
       "      <td>1476.42</td>\n",
       "      <td>632.09</td>\n",
       "      <td>1492.88</td>\n",
       "    </tr>\n",
       "    <tr>\n",
       "      <td>SigSpatialModel_vio_log_8a6b</td>\n",
       "      <td>1201.12</td>\n",
       "      <td>1342.29</td>\n",
       "      <td>1171.73</td>\n",
       "      <td>891.07</td>\n",
       "      <td>1193.88</td>\n",
       "    </tr>\n",
       "  </tbody>\n",
       "</table>\n",
       "</div>"
      ],
      "text/plain": [
       "                                 RMSE     RMSE     RMSE    RMSE     RMSE\n",
       "GDBreg                        1649.75  1238.22  1402.73  660.50  1405.54\n",
       "RFreg                         1678.40  1227.68  1534.50  582.88  1483.41\n",
       "BAGreg                        1684.48  1176.58  1469.12  649.08  1493.12\n",
       "XGBreg                        1650.86  1277.69  1476.42  632.09  1492.88\n",
       "SigSpatialModel_vio_log_8a6b  1201.12  1342.29  1171.73  891.07  1193.88"
      ]
     },
     "execution_count": 54,
     "metadata": {},
     "output_type": "execute_result"
    }
   ],
   "source": [
    "pd.concat([te.loc['RMSE'] for te in test_merr_list], axis=1)"
   ]
  },
  {
   "cell_type": "code",
   "execution_count": 55,
   "metadata": {
    "ExecuteTime": {
     "end_time": "2020-05-20T00:00:56.933831Z",
     "start_time": "2020-05-20T00:00:56.916850Z"
    }
   },
   "outputs": [],
   "source": [
    "te_avg_merr = sum(test_merr_list)/len(seed_n)"
   ]
  },
  {
   "cell_type": "code",
   "execution_count": 56,
   "metadata": {
    "ExecuteTime": {
     "end_time": "2020-05-20T00:00:57.152707Z",
     "start_time": "2020-05-20T00:00:57.134767Z"
    }
   },
   "outputs": [
    {
     "name": "stdout",
     "output_type": "stream",
     "text": [
      "\\begin{tabular}{lllll}\n",
      "\\toprule\n",
      "{} &       RF &      BAG &      XGB &     BURC \\\\\n",
      "\\midrule\n",
      "RMSE    &  1301.37 &  1294.48 &  1305.99 &  1160.02 \\\\\n",
      "MAE     &   404.70 &   406.11 &   404.93 &   346.10 \\\\\n",
      "pea\\_cor &     0.73 &     0.74 &     0.73 &     0.81 \\\\\n",
      "\\bottomrule\n",
      "\\end{tabular}\n",
      "\n"
     ]
    }
   ],
   "source": [
    "te_avg_merr.columns=['GDB','RF','BAG','XGB','BURC']\n",
    "print(te_avg_merr.loc[['RMSE','MAE','pea_cor'], ['RF','BAG','XGB','BURC']].applymap(lambda x: f'{x:.02f}').to_latex())"
   ]
  },
  {
   "cell_type": "code",
   "execution_count": 57,
   "metadata": {
    "ExecuteTime": {
     "end_time": "2020-05-20T00:00:57.994563Z",
     "start_time": "2020-05-20T00:00:57.990035Z"
    }
   },
   "outputs": [],
   "source": [
    "eval_cols = [c for c in train_eval.columns if c not in group_names]"
   ]
  },
  {
   "cell_type": "code",
   "execution_count": 58,
   "metadata": {
    "ExecuteTime": {
     "end_time": "2020-05-20T00:00:58.793319Z",
     "start_time": "2020-05-20T00:00:58.502126Z"
    },
    "cell_style": "split"
   },
   "outputs": [
    {
     "data": {
      "text/plain": [
       "<matplotlib.axes._subplots.AxesSubplot at 0x7f7614d676d8>"
      ]
     },
     "execution_count": 58,
     "metadata": {},
     "output_type": "execute_result"
    },
    {
     "data": {
      "image/png": "[encoded data removed]",
      "text/plain": [
       "<Figure size 432x288 with 1 Axes>"
      ]
     },
     "metadata": {
      "needs_background": "light"
     },
     "output_type": "display_data"
    }
   ],
   "source": [
    "pd.concat({i: merr.loc['RMSE'] for i, merr in enumerate(test_merr_list)}, axis=1).T.plot(kind='bar')"
   ]
  },
  {
   "cell_type": "code",
   "execution_count": 59,
   "metadata": {
    "ExecuteTime": {
     "end_time": "2020-05-20T00:01:06.360349Z",
     "start_time": "2020-05-20T00:01:06.067394Z"
    },
    "cell_style": "split"
   },
   "outputs": [
    {
     "data": {
      "text/plain": [
       "<matplotlib.axes._subplots.AxesSubplot at 0x7f7615087400>"
      ]
     },
     "execution_count": 59,
     "metadata": {},
     "output_type": "execute_result"
    },
    {
     "data": {
      "image/png": "[encoded data removed]",
      "text/plain": [
       "<Figure size 432x288 with 1 Axes>"
      ]
     },
     "metadata": {
      "needs_background": "light"
     },
     "output_type": "display_data"
    }
   ],
   "source": [
    "pd.concat({i: merr.loc['RMSE'] for i, merr in enumerate(train_merr_list)}, axis=1).T.plot(kind='bar')"
   ]
  },
  {
   "cell_type": "code",
   "execution_count": 60,
   "metadata": {
    "ExecuteTime": {
     "end_time": "2020-05-20T00:01:07.210557Z",
     "start_time": "2020-05-20T00:01:07.197862Z"
    }
   },
   "outputs": [],
   "source": [
    "def compile_infer(train_test_id):\n",
    "    idx = idx_json[train_test_id]\n",
    "    train_z = z.loc[idx['train']]\n",
    "    test_z = z.loc[idx['test']]\n",
    "    train_infer = {'true': train_z}\n",
    "    test_infer = {'true': test_z}\n",
    "\n",
    "    for mname, inference in ml_pred_y.items():\n",
    "        infer = inference[str(idx['ith'])]\n",
    "        train_infer[mname] = infer['train']\n",
    "        test_infer[mname] = infer['test']\n",
    "\n",
    "\n",
    "    train_infer = pd.DataFrame(train_infer)\n",
    "    test_infer = pd.DataFrame(test_infer)\n",
    "\n",
    "    test_infer = test_infer.join(data[['PI_type','income_group']], how='left')\n",
    "    train_infer = train_infer.join(data[['PI_type','income_group']], how='left')\n",
    "    return train_infer, test_infer"
   ]
  },
  {
   "cell_type": "code",
   "execution_count": 61,
   "metadata": {
    "ExecuteTime": {
     "end_time": "2020-05-20T00:01:08.197286Z",
     "start_time": "2020-05-20T00:01:08.142210Z"
    }
   },
   "outputs": [],
   "source": [
    "train_infer_list, test_infer_list = [], []\n",
    "for tr_te_i in seed_n:\n",
    "    train_infer, test_infer = compile_infer(tr_te_i)\n",
    "    train_infer_list.append(train_infer)\n",
    "    test_infer_list.append(test_infer)"
   ]
  },
  {
   "cell_type": "markdown",
   "metadata": {},
   "source": [
    "## fair by expectation/group average"
   ]
  },
  {
   "cell_type": "code",
   "execution_count": 62,
   "metadata": {
    "ExecuteTime": {
     "end_time": "2020-05-20T00:01:10.485271Z",
     "start_time": "2020-05-20T00:01:10.464080Z"
    }
   },
   "outputs": [],
   "source": [
    "def fair_by_expectation(dat, mname, gname, vs='1 vs all', sqrt=True, norm_by_mean=False):\n",
    "    # mname could be model name, comparing group prediction average\n",
    "    # could also be model_err name, comparing group errors average\n",
    "    fair = {}\n",
    "    groups = sorted(dat[gname].unique())\n",
    "    if vs=='1 vs all':\n",
    "        for g in groups:\n",
    "            # for RMSE comparison\n",
    "            if '_SE' in mname and sqrt:\n",
    "                fair[g] = np.sqrt(dat[dat[gname]==g][mname].mean()) - np.sqrt(dat[dat[gname]!=g][mname].mean())\n",
    "            else:\n",
    "                fair[g] = dat[dat[gname]==g][mname].mean() - dat[dat[gname]!=g][mname].mean()\n",
    "            if norm_by_mean and not mname.endswith('E'):\n",
    "                fair[g] /=dat[mname].mean()\n",
    "        fair = pd.Series(fair)\n",
    "    if vs == 'all vs all':\n",
    "        for gi in groups:\n",
    "            fair['i'+gi] = {}\n",
    "            for gj in groups:\n",
    "                # for RMSE comparison\n",
    "                if '_SE' in mname and sqrt:\n",
    "                    fair['i'+gi]['j'+gj] = np.sqrt(dat[dat[gname]==gi][mname].mean()) - np.sqrt(dat[dat[gname]==gj][mname].mean())\n",
    "                else:\n",
    "                    fair['i'+gi]['j'+gj] = dat[dat[gname]==gi][mname].mean() - dat[dat[gname]==gj][mname].mean()\n",
    "                if norm_by_mean and not mname.endswith('E'):\n",
    "                    fair['i'+gi]['j'+gj] /=dat[mname].mean()\n",
    "        fair = pd.DataFrame(fair)\n",
    "    return fair"
   ]
  },
  {
   "cell_type": "code",
   "execution_count": 63,
   "metadata": {
    "ExecuteTime": {
     "end_time": "2020-05-20T00:01:11.185461Z",
     "start_time": "2020-05-20T00:01:11.175500Z"
    }
   },
   "outputs": [],
   "source": [
    "def get_fair_exp_1vsall(train_test_id, norm_by_mean=False):\n",
    "    test_eval = test_eval_list[train_test_id]\n",
    "    train_eval = train_eval_list[train_test_id]\n",
    "\n",
    "    vs = '1 vs all'\n",
    "    fair_exp_1vsall = defaultdict(lambda: defaultdict(list))\n",
    "    for gname in group_names:\n",
    "        for dname, dat in [('train', train_eval), ('test',test_eval)]:\n",
    "            for ecol in eval_cols:\n",
    "                f = fair_by_expectation(dat, ecol, gname, vs=vs, norm_by_mean=norm_by_mean)\n",
    "                f.name=ecol\n",
    "                fair_exp_1vsall[gname][dname].append(f)\n",
    "    return fair_exp_1vsall"
   ]
  },
  {
   "cell_type": "markdown",
   "metadata": {},
   "source": [
    "### expectation of prediction"
   ]
  },
  {
   "cell_type": "code",
   "execution_count": 330,
   "metadata": {
    "ExecuteTime": {
     "end_time": "2020-04-17T15:13:36.469347Z",
     "start_time": "2020-04-17T15:13:36.448556Z"
    },
    "collapsed": true,
    "deletable": false,
    "editable": false,
    "run_control": {
     "frozen": true
    }
   },
   "outputs": [
    {
     "data": {
      "text/html": [
       "<div>\n",
       "<style scoped>\n",
       "    .dataframe tbody tr th:only-of-type {\n",
       "        vertical-align: middle;\n",
       "    }\n",
       "\n",
       "    .dataframe tbody tr th {\n",
       "        vertical-align: top;\n",
       "    }\n",
       "\n",
       "    .dataframe thead th {\n",
       "        text-align: right;\n",
       "    }\n",
       "</style>\n",
       "<table border=\"1\" class=\"dataframe\">\n",
       "  <thead>\n",
       "    <tr style=\"text-align: right;\">\n",
       "      <th></th>\n",
       "      <th>RFreg</th>\n",
       "      <th>XGBreg</th>\n",
       "      <th>BAGreg</th>\n",
       "      <th>BayPois</th>\n",
       "    </tr>\n",
       "  </thead>\n",
       "  <tbody>\n",
       "    <tr>\n",
       "      <td>RMSE</td>\n",
       "      <td>865.02</td>\n",
       "      <td>852.89</td>\n",
       "      <td>881.71</td>\n",
       "      <td>388.99</td>\n",
       "    </tr>\n",
       "    <tr>\n",
       "      <td>MAE</td>\n",
       "      <td>179.21</td>\n",
       "      <td>171.32</td>\n",
       "      <td>191.48</td>\n",
       "      <td>133.51</td>\n",
       "    </tr>\n",
       "    <tr>\n",
       "      <td>+ME</td>\n",
       "      <td>107.67</td>\n",
       "      <td>93.93</td>\n",
       "      <td>119.93</td>\n",
       "      <td>101.30</td>\n",
       "    </tr>\n",
       "    <tr>\n",
       "      <td>-ME</td>\n",
       "      <td>-364.11</td>\n",
       "      <td>-305.40</td>\n",
       "      <td>-443.66</td>\n",
       "      <td>-167.14</td>\n",
       "    </tr>\n",
       "  </tbody>\n",
       "</table>\n",
       "</div>"
      ],
      "text/plain": [
       "       RFreg  XGBreg  BAGreg  BayPois\n",
       "RMSE  865.02  852.89  881.71   388.99\n",
       "MAE   179.21  171.32  191.48   133.51\n",
       "+ME   107.67   93.93  119.93   101.30\n",
       "-ME  -364.11 -305.40 -443.66  -167.14"
      ]
     },
     "execution_count": 330,
     "metadata": {},
     "output_type": "execute_result"
    }
   ],
   "source": [
    "# reference\n",
    "test_merr_list[4]"
   ]
  },
  {
   "cell_type": "code",
   "execution_count": 331,
   "metadata": {
    "ExecuteTime": {
     "end_time": "2020-04-17T15:13:37.193765Z",
     "start_time": "2020-04-17T15:13:36.471275Z"
    },
    "deletable": false,
    "editable": false,
    "run_control": {
     "frozen": true
    }
   },
   "outputs": [
    {
     "data": {
      "text/html": [
       "<div>\n",
       "<style scoped>\n",
       "    .dataframe tbody tr th:only-of-type {\n",
       "        vertical-align: middle;\n",
       "    }\n",
       "\n",
       "    .dataframe tbody tr th {\n",
       "        vertical-align: top;\n",
       "    }\n",
       "\n",
       "    .dataframe thead th {\n",
       "        text-align: right;\n",
       "    }\n",
       "</style>\n",
       "<table border=\"1\" class=\"dataframe\">\n",
       "  <thead>\n",
       "    <tr style=\"text-align: right;\">\n",
       "      <th></th>\n",
       "      <th>q1</th>\n",
       "      <th>q2</th>\n",
       "      <th>q3</th>\n",
       "      <th>q4</th>\n",
       "    </tr>\n",
       "  </thead>\n",
       "  <tbody>\n",
       "    <tr>\n",
       "      <td>true</td>\n",
       "      <td>-1.300029</td>\n",
       "      <td>-1.156649</td>\n",
       "      <td>-0.699830</td>\n",
       "      <td>3.543722</td>\n",
       "    </tr>\n",
       "    <tr>\n",
       "      <td>RFreg</td>\n",
       "      <td>-1.186681</td>\n",
       "      <td>-0.882930</td>\n",
       "      <td>-0.687036</td>\n",
       "      <td>3.105432</td>\n",
       "    </tr>\n",
       "    <tr>\n",
       "      <td>XGBreg</td>\n",
       "      <td>-1.244691</td>\n",
       "      <td>-0.993801</td>\n",
       "      <td>-0.708728</td>\n",
       "      <td>3.316225</td>\n",
       "    </tr>\n",
       "    <tr>\n",
       "      <td>BAGreg</td>\n",
       "      <td>-1.200503</td>\n",
       "      <td>-0.951271</td>\n",
       "      <td>-0.625644</td>\n",
       "      <td>3.121637</td>\n",
       "    </tr>\n",
       "    <tr>\n",
       "      <td>BayPois</td>\n",
       "      <td>-1.286009</td>\n",
       "      <td>-1.166263</td>\n",
       "      <td>-0.655933</td>\n",
       "      <td>3.486054</td>\n",
       "    </tr>\n",
       "  </tbody>\n",
       "</table>\n",
       "</div>"
      ],
      "text/plain": [
       "               q1        q2        q3        q4\n",
       "true    -1.300029 -1.156649 -0.699830  3.543722\n",
       "RFreg   -1.186681 -0.882930 -0.687036  3.105432\n",
       "XGBreg  -1.244691 -0.993801 -0.708728  3.316225\n",
       "BAGreg  -1.200503 -0.951271 -0.625644  3.121637\n",
       "BayPois -1.286009 -1.166263 -0.655933  3.486054"
      ]
     },
     "execution_count": 331,
     "metadata": {},
     "output_type": "execute_result"
    }
   ],
   "source": [
    "fair_exp_1vsall = get_fair_exp_1vsall(4, norm_by_mean=True)\n",
    "pd.DataFrame(fair_exp_1vsall['income_group']['test']).head(len(model_names)+1)"
   ]
  },
  {
   "cell_type": "code",
   "execution_count": 332,
   "metadata": {
    "ExecuteTime": {
     "end_time": "2020-04-17T15:13:37.219506Z",
     "start_time": "2020-04-17T15:13:37.195016Z"
    },
    "collapsed": true,
    "deletable": false,
    "editable": false,
    "run_control": {
     "frozen": true
    }
   },
   "outputs": [
    {
     "data": {
      "text/html": [
       "<div>\n",
       "<style scoped>\n",
       "    .dataframe tbody tr th:only-of-type {\n",
       "        vertical-align: middle;\n",
       "    }\n",
       "\n",
       "    .dataframe tbody tr th {\n",
       "        vertical-align: top;\n",
       "    }\n",
       "\n",
       "    .dataframe thead th {\n",
       "        text-align: right;\n",
       "    }\n",
       "</style>\n",
       "<table border=\"1\" class=\"dataframe\">\n",
       "  <thead>\n",
       "    <tr style=\"text-align: right;\">\n",
       "      <th></th>\n",
       "      <th>PI NONE</th>\n",
       "      <th>PI&lt;40%,1~4999</th>\n",
       "      <th>PI&lt;40%,&gt;5000</th>\n",
       "      <th>PI&gt;40%</th>\n",
       "    </tr>\n",
       "  </thead>\n",
       "  <tbody>\n",
       "    <tr>\n",
       "      <td>true</td>\n",
       "      <td>-0.995964</td>\n",
       "      <td>-2.272021</td>\n",
       "      <td>4.185202</td>\n",
       "      <td>-1.000313</td>\n",
       "    </tr>\n",
       "    <tr>\n",
       "      <td>RFreg</td>\n",
       "      <td>-0.943714</td>\n",
       "      <td>-1.406511</td>\n",
       "      <td>2.809150</td>\n",
       "      <td>-0.885315</td>\n",
       "    </tr>\n",
       "    <tr>\n",
       "      <td>XGBreg</td>\n",
       "      <td>-0.900452</td>\n",
       "      <td>-1.424618</td>\n",
       "      <td>2.871523</td>\n",
       "      <td>-0.931673</td>\n",
       "    </tr>\n",
       "    <tr>\n",
       "      <td>BAGreg</td>\n",
       "      <td>-0.947264</td>\n",
       "      <td>-1.141349</td>\n",
       "      <td>2.482667</td>\n",
       "      <td>-0.969908</td>\n",
       "    </tr>\n",
       "    <tr>\n",
       "      <td>BayPois</td>\n",
       "      <td>-0.895340</td>\n",
       "      <td>-1.730212</td>\n",
       "      <td>3.418708</td>\n",
       "      <td>-1.050709</td>\n",
       "    </tr>\n",
       "  </tbody>\n",
       "</table>\n",
       "</div>"
      ],
      "text/plain": [
       "          PI NONE  PI<40%,1~4999  PI<40%,>5000    PI>40%\n",
       "true    -0.995964      -2.272021      4.185202 -1.000313\n",
       "RFreg   -0.943714      -1.406511      2.809150 -0.885315\n",
       "XGBreg  -0.900452      -1.424618      2.871523 -0.931673\n",
       "BAGreg  -0.947264      -1.141349      2.482667 -0.969908\n",
       "BayPois -0.895340      -1.730212      3.418708 -1.050709"
      ]
     },
     "execution_count": 332,
     "metadata": {},
     "output_type": "execute_result"
    }
   ],
   "source": [
    "pd.DataFrame(fair_exp_1vsall['PI_type']['test']).head(len(model_names)+1)"
   ]
  },
  {
   "cell_type": "markdown",
   "metadata": {},
   "source": [
    "#### 1 vs all"
   ]
  },
  {
   "cell_type": "code",
   "execution_count": 64,
   "metadata": {
    "ExecuteTime": {
     "end_time": "2020-05-20T00:01:17.593649Z",
     "start_time": "2020-05-20T00:01:14.310247Z"
    }
   },
   "outputs": [],
   "source": [
    "\n",
    "fair_exp_1vsall_list = [get_fair_exp_1vsall(i,norm_by_mean=True) for i in range(len(seed_n))]"
   ]
  },
  {
   "cell_type": "code",
   "execution_count": 65,
   "metadata": {
    "ExecuteTime": {
     "end_time": "2020-05-20T00:01:17.597645Z",
     "start_time": "2020-05-20T00:01:17.595123Z"
    }
   },
   "outputs": [],
   "source": [
    "rename_index = {'true': 'RepCr', 'RFreg': 'RF','BAGreg': 'BAG', 'XGBreg': 'XGB', bmodel:'BURC', 'infer':'TrueCr'}"
   ]
  },
  {
   "cell_type": "code",
   "execution_count": 66,
   "metadata": {
    "ExecuteTime": {
     "end_time": "2020-05-20T00:01:17.728105Z",
     "start_time": "2020-05-20T00:01:17.598921Z"
    }
   },
   "outputs": [],
   "source": [
    "rename_columns = {'q1':'IcQ1','q2':'IcQ2', 'q3':'IcQ3', 'q4':'IcQ4', 'PI NONE': 'PI1',\n",
    "                  'PI<40%,1~4999':'PI2', 'PI<40%,>5000': 'PI3', 'PI>40%': 'PI4'}"
   ]
  },
  {
   "cell_type": "code",
   "execution_count": 67,
   "metadata": {
    "ExecuteTime": {
     "end_time": "2020-05-20T00:01:17.940202Z",
     "start_time": "2020-05-20T00:01:17.730066Z"
    },
    "scrolled": true
   },
   "outputs": [
    {
     "data": {
      "text/html": [
       "<div>\n",
       "<style scoped>\n",
       "    .dataframe tbody tr th:only-of-type {\n",
       "        vertical-align: middle;\n",
       "    }\n",
       "\n",
       "    .dataframe tbody tr th {\n",
       "        vertical-align: top;\n",
       "    }\n",
       "\n",
       "    .dataframe thead th {\n",
       "        text-align: right;\n",
       "    }\n",
       "</style>\n",
       "<table border=\"1\" class=\"dataframe\">\n",
       "  <thead>\n",
       "    <tr style=\"text-align: right;\">\n",
       "      <th></th>\n",
       "      <th>q1</th>\n",
       "      <th>q2</th>\n",
       "      <th>q3</th>\n",
       "      <th>q4</th>\n",
       "      <th>AbsSum</th>\n",
       "    </tr>\n",
       "  </thead>\n",
       "  <tbody>\n",
       "    <tr>\n",
       "      <td>true</td>\n",
       "      <td>-1.277662</td>\n",
       "      <td>-1.086387</td>\n",
       "      <td>-0.759150</td>\n",
       "      <td>3.196682</td>\n",
       "      <td>6.319881</td>\n",
       "    </tr>\n",
       "    <tr>\n",
       "      <td>GDBreg</td>\n",
       "      <td>-1.183148</td>\n",
       "      <td>-0.961114</td>\n",
       "      <td>-0.600078</td>\n",
       "      <td>2.796066</td>\n",
       "      <td>5.540407</td>\n",
       "    </tr>\n",
       "    <tr>\n",
       "      <td>RFreg</td>\n",
       "      <td>-1.155683</td>\n",
       "      <td>-0.955467</td>\n",
       "      <td>-0.543264</td>\n",
       "      <td>2.701344</td>\n",
       "      <td>5.355758</td>\n",
       "    </tr>\n",
       "    <tr>\n",
       "      <td>BAGreg</td>\n",
       "      <td>-1.112652</td>\n",
       "      <td>-0.942252</td>\n",
       "      <td>-0.535151</td>\n",
       "      <td>2.652088</td>\n",
       "      <td>5.242144</td>\n",
       "    </tr>\n",
       "    <tr>\n",
       "      <td>XGBreg</td>\n",
       "      <td>-1.163022</td>\n",
       "      <td>-0.986989</td>\n",
       "      <td>-0.549802</td>\n",
       "      <td>2.760521</td>\n",
       "      <td>5.460333</td>\n",
       "    </tr>\n",
       "    <tr>\n",
       "      <td>SigSpatialModel_vio_log_8a6b</td>\n",
       "      <td>-1.215660</td>\n",
       "      <td>-1.010543</td>\n",
       "      <td>-0.688698</td>\n",
       "      <td>2.982402</td>\n",
       "      <td>5.897303</td>\n",
       "    </tr>\n",
       "    <tr>\n",
       "      <td>infer</td>\n",
       "      <td>-0.771686</td>\n",
       "      <td>-0.510128</td>\n",
       "      <td>-0.188346</td>\n",
       "      <td>1.471384</td>\n",
       "      <td>2.941544</td>\n",
       "    </tr>\n",
       "  </tbody>\n",
       "</table>\n",
       "</div>"
      ],
      "text/plain": [
       "                                    q1        q2        q3        q4    AbsSum\n",
       "true                         -1.277662 -1.086387 -0.759150  3.196682  6.319881\n",
       "GDBreg                       -1.183148 -0.961114 -0.600078  2.796066  5.540407\n",
       "RFreg                        -1.155683 -0.955467 -0.543264  2.701344  5.355758\n",
       "BAGreg                       -1.112652 -0.942252 -0.535151  2.652088  5.242144\n",
       "XGBreg                       -1.163022 -0.986989 -0.549802  2.760521  5.460333\n",
       "SigSpatialModel_vio_log_8a6b -1.215660 -1.010543 -0.688698  2.982402  5.897303\n",
       "infer                        -0.771686 -0.510128 -0.188346  1.471384  2.941544"
      ]
     },
     "execution_count": 67,
     "metadata": {},
     "output_type": "execute_result"
    }
   ],
   "source": [
    "tmpdf = sum([pd.DataFrame(f['income_group']['test']).head(len(model_names)+1) for f in fair_exp_1vsall_list])\n",
    "tmpdf.loc['infer']=sum([fair_by_expectation(test_infer_list[tr_te_i], bmodel,'income_group', norm_by_mean=True) for tr_te_i in range(len(seed_n))])\n",
    "tmpdf/=len(seed_n)\n",
    "# tmpdf['Sum'] = tmpdf.sum(axis=1)\n",
    "tmpdf['AbsSum']=tmpdf.abs().sum(axis=1)\n",
    "tmpdf"
   ]
  },
  {
   "cell_type": "code",
   "execution_count": 68,
   "metadata": {
    "ExecuteTime": {
     "end_time": "2020-05-20T00:01:32.935933Z",
     "start_time": "2020-05-20T00:01:32.915126Z"
    }
   },
   "outputs": [
    {
     "name": "stdout",
     "output_type": "stream",
     "text": [
      "\\begin{tabular}{llllll}\n",
      "\\toprule\n",
      "{} &   IcQ1 &   IcQ2 &   IcQ3 &  IcQ4 & AbsSum \\\\\n",
      "\\midrule\n",
      "RepCr  &  -1.28 &  -1.09 &  -0.76 &  3.20 &   6.32 \\\\\n",
      "RF     &  -1.16 &  -0.96 &  -0.54 &  2.70 &   5.36 \\\\\n",
      "BAG    &  -1.11 &  -0.94 &  -0.54 &  2.65 &   5.24 \\\\\n",
      "XGB    &  -1.16 &  -0.99 &  -0.55 &  2.76 &   5.46 \\\\\n",
      "BURC   &  -1.22 &  -1.01 &  -0.69 &  2.98 &   5.90 \\\\\n",
      "TrueCr &  -0.77 &  -0.51 &  -0.19 &  1.47 &   2.94 \\\\\n",
      "\\bottomrule\n",
      "\\end{tabular}\n",
      "\n"
     ]
    }
   ],
   "source": [
    "print(tmpdf.drop('GDBreg').rename(\n",
    "    columns={'q1':'IcQ1','q2':'IcQ2', 'q3':'IcQ3', 'q4':'IcQ4'},index=rename_index\n",
    ").applymap(lambda x: f'{x:.2f}').to_latex())"
   ]
  },
  {
   "cell_type": "code",
   "execution_count": 69,
   "metadata": {
    "ExecuteTime": {
     "end_time": "2020-05-20T00:01:35.108007Z",
     "start_time": "2020-05-20T00:01:34.975675Z"
    }
   },
   "outputs": [
    {
     "data": {
      "text/html": [
       "<div>\n",
       "<style scoped>\n",
       "    .dataframe tbody tr th:only-of-type {\n",
       "        vertical-align: middle;\n",
       "    }\n",
       "\n",
       "    .dataframe tbody tr th {\n",
       "        vertical-align: top;\n",
       "    }\n",
       "\n",
       "    .dataframe thead th {\n",
       "        text-align: right;\n",
       "    }\n",
       "</style>\n",
       "<table border=\"1\" class=\"dataframe\">\n",
       "  <thead>\n",
       "    <tr style=\"text-align: right;\">\n",
       "      <th></th>\n",
       "      <th>PI NONE</th>\n",
       "      <th>PI&lt;40%,1~4999</th>\n",
       "      <th>PI&lt;40%,&gt;5000</th>\n",
       "      <th>PI&gt;40%</th>\n",
       "      <th>AbsSum</th>\n",
       "    </tr>\n",
       "  </thead>\n",
       "  <tbody>\n",
       "    <tr>\n",
       "      <td>RepCr</td>\n",
       "      <td>-0.598340</td>\n",
       "      <td>-1.946289</td>\n",
       "      <td>4.221420</td>\n",
       "      <td>-1.023436</td>\n",
       "      <td>7.789484</td>\n",
       "    </tr>\n",
       "    <tr>\n",
       "      <td>RF</td>\n",
       "      <td>-0.453914</td>\n",
       "      <td>-1.119770</td>\n",
       "      <td>2.726306</td>\n",
       "      <td>-0.900820</td>\n",
       "      <td>5.200810</td>\n",
       "    </tr>\n",
       "    <tr>\n",
       "      <td>BAG</td>\n",
       "      <td>-0.432306</td>\n",
       "      <td>-1.125937</td>\n",
       "      <td>2.686063</td>\n",
       "      <td>-0.853732</td>\n",
       "      <td>5.098038</td>\n",
       "    </tr>\n",
       "    <tr>\n",
       "      <td>XGB</td>\n",
       "      <td>-0.486884</td>\n",
       "      <td>-1.265373</td>\n",
       "      <td>2.957184</td>\n",
       "      <td>-0.890154</td>\n",
       "      <td>5.599594</td>\n",
       "    </tr>\n",
       "    <tr>\n",
       "      <td>BURC</td>\n",
       "      <td>-0.572709</td>\n",
       "      <td>-1.605088</td>\n",
       "      <td>3.621561</td>\n",
       "      <td>-1.015865</td>\n",
       "      <td>6.815223</td>\n",
       "    </tr>\n",
       "    <tr>\n",
       "      <td>TrueCr</td>\n",
       "      <td>-0.459734</td>\n",
       "      <td>-0.854357</td>\n",
       "      <td>1.840574</td>\n",
       "      <td>-0.473496</td>\n",
       "      <td>3.628161</td>\n",
       "    </tr>\n",
       "  </tbody>\n",
       "</table>\n",
       "</div>"
      ],
      "text/plain": [
       "         PI NONE  PI<40%,1~4999  PI<40%,>5000    PI>40%    AbsSum\n",
       "RepCr  -0.598340      -1.946289      4.221420 -1.023436  7.789484\n",
       "RF     -0.453914      -1.119770      2.726306 -0.900820  5.200810\n",
       "BAG    -0.432306      -1.125937      2.686063 -0.853732  5.098038\n",
       "XGB    -0.486884      -1.265373      2.957184 -0.890154  5.599594\n",
       "BURC   -0.572709      -1.605088      3.621561 -1.015865  6.815223\n",
       "TrueCr -0.459734      -0.854357      1.840574 -0.473496  3.628161"
      ]
     },
     "execution_count": 69,
     "metadata": {},
     "output_type": "execute_result"
    }
   ],
   "source": [
    "tmpdf = sum([pd.DataFrame(f['PI_type']['test'], columns=pi_gps).head(len(model_names)+1).fillna(0) for f in fair_exp_1vsall_list])\n",
    "tmpdf.loc['infer'] = sum([fair_by_expectation(test_infer_list[tr_te_i], bmodel,'PI_type', norm_by_mean=True).reindex(pi_gps,fill_value=0) for tr_te_i in range(len(seed_n))])\n",
    "tmpdf/=len(seed_n)\n",
    "# tmpdf['Sum'] = tmpdf.sum(axis=1)\n",
    "tmpdf['AbsSum']=tmpdf.abs().sum(axis=1)\n",
    "tmpdf.drop('GDBreg').rename(columns={'q1':'income-q1','q2':'income-q2', 'q3':'income-q3', 'q4':'income-q4'},\n",
    "                           index=rename_index)"
   ]
  },
  {
   "cell_type": "code",
   "execution_count": 70,
   "metadata": {
    "ExecuteTime": {
     "end_time": "2020-05-20T00:01:35.942026Z",
     "start_time": "2020-05-20T00:01:35.924926Z"
    }
   },
   "outputs": [
    {
     "name": "stdout",
     "output_type": "stream",
     "text": [
      "\\begin{tabular}{llllll}\n",
      "\\toprule\n",
      "{} &    PI1 &    PI2 &   PI3 &    PI4 & AbsSum \\\\\n",
      "\\midrule\n",
      "RepCr  &  -0.60 &  -1.95 &  4.22 &  -1.02 &   7.79 \\\\\n",
      "RF     &  -0.45 &  -1.12 &  2.73 &  -0.90 &   5.20 \\\\\n",
      "BAG    &  -0.43 &  -1.13 &  2.69 &  -0.85 &   5.10 \\\\\n",
      "XGB    &  -0.49 &  -1.27 &  2.96 &  -0.89 &   5.60 \\\\\n",
      "BURC   &  -0.57 &  -1.61 &  3.62 &  -1.02 &   6.82 \\\\\n",
      "TrueCr &  -0.46 &  -0.85 &  1.84 &  -0.47 &   3.63 \\\\\n",
      "\\bottomrule\n",
      "\\end{tabular}\n",
      "\n"
     ]
    }
   ],
   "source": [
    "print(tmpdf.drop('GDBreg').rename(\n",
    "    columns=rename_columns,index=rename_index\n",
    ").applymap(lambda x: f'{x:.2f}').to_latex())"
   ]
  },
  {
   "cell_type": "markdown",
   "metadata": {
    "heading_collapsed": true
   },
   "source": [
    "#### all vs all"
   ]
  },
  {
   "cell_type": "code",
   "execution_count": 30,
   "metadata": {
    "ExecuteTime": {
     "end_time": "2020-04-19T12:36:53.707597Z",
     "start_time": "2020-04-19T12:36:52.635392Z"
    },
    "code_folding": [
     0
    ],
    "hidden": true
   },
   "outputs": [
    {
     "data": {
      "text/plain": [
       "true              10.944885\n",
       "GDBreg             9.724462\n",
       "RFreg              9.402979\n",
       "BAGreg             9.185788\n",
       "XGBreg             9.747132\n",
       "BayPoisNoScale    10.505151\n",
       "Infer              6.413557\n",
       "dtype: float64"
      ]
     },
     "execution_count": 30,
     "metadata": {},
     "output_type": "execute_result"
    }
   ],
   "source": [
    "fair_exp_ava_income_aver = {\n",
    "    **{\n",
    "        col:[\n",
    "            fair_by_expectation(test_eval_list[tr_te_i], col,'income_group', norm_by_mean=True, vs='all vs all').abs().sum().sum()/2\n",
    "            for tr_te_i in range(len(seed_n))\n",
    "        ] for col in ['true']+model_names},\n",
    "    'Infer':[\n",
    "            fair_by_expectation(test_infer_list[tr_te_i], 'BayPoisNoScale','income_group', norm_by_mean=True, vs='all vs all').abs().sum().sum()/2\n",
    "            for tr_te_i in range(len(seed_n))\n",
    "        ] \n",
    "}\n",
    "pd.DataFrame(fair_exp_ava_income_aver).mean()"
   ]
  },
  {
   "cell_type": "code",
   "execution_count": 31,
   "metadata": {
    "ExecuteTime": {
     "end_time": "2020-04-19T12:36:54.636021Z",
     "start_time": "2020-04-19T12:36:53.709528Z"
    },
    "code_folding": [
     0
    ],
    "hidden": true
   },
   "outputs": [
    {
     "data": {
      "text/plain": [
       "true              12.350775\n",
       "GDBreg             9.131834\n",
       "RFreg              8.740024\n",
       "BAGreg             8.038509\n",
       "XGBreg             8.837546\n",
       "BayPoisNoScale     9.854224\n",
       "Infer              7.264071\n",
       "dtype: float64"
      ]
     },
     "execution_count": 31,
     "metadata": {},
     "output_type": "execute_result"
    }
   ],
   "source": [
    "fair_exp_ava_pi_aver = {\n",
    "    **{\n",
    "        col:[\n",
    "            fair_by_expectation(test_eval_list[tr_te_i], col,'PI_type', norm_by_mean=True, vs='all vs all').abs().sum().sum()/2\n",
    "            for tr_te_i in range(len(seed_n))\n",
    "        ] for col in ['true']+model_names},\n",
    "    'Infer':[\n",
    "            fair_by_expectation(test_infer_list[tr_te_i], 'BayPoisNoScale','PI_type', norm_by_mean=True, vs='all vs all').abs().sum().sum()/2\n",
    "            for tr_te_i in range(len(seed_n))\n",
    "        ] \n",
    "}\n",
    "pd.DataFrame(fair_exp_ava_pi_aver).mean()"
   ]
  },
  {
   "cell_type": "markdown",
   "metadata": {
    "heading_collapsed": true
   },
   "source": [
    "### expecation of error"
   ]
  },
  {
   "cell_type": "code",
   "execution_count": 355,
   "metadata": {
    "ExecuteTime": {
     "end_time": "2020-04-17T15:20:16.128923Z",
     "start_time": "2020-04-17T15:20:16.087254Z"
    },
    "cell_style": "split",
    "hidden": true
   },
   "outputs": [
    {
     "data": {
      "text/html": [
       "<div>\n",
       "<style scoped>\n",
       "    .dataframe tbody tr th:only-of-type {\n",
       "        vertical-align: middle;\n",
       "    }\n",
       "\n",
       "    .dataframe tbody tr th {\n",
       "        vertical-align: top;\n",
       "    }\n",
       "\n",
       "    .dataframe thead th {\n",
       "        text-align: right;\n",
       "    }\n",
       "</style>\n",
       "<table border=\"1\" class=\"dataframe\">\n",
       "  <thead>\n",
       "    <tr style=\"text-align: right;\">\n",
       "      <th></th>\n",
       "      <th>PI NONE</th>\n",
       "      <th>PI&lt;40%,1~4999</th>\n",
       "      <th>PI&lt;40%,&gt;5000</th>\n",
       "      <th>PI&gt;40%</th>\n",
       "    </tr>\n",
       "  </thead>\n",
       "  <tbody>\n",
       "    <tr>\n",
       "      <td>RFreg_AE</td>\n",
       "      <td>-167.629846</td>\n",
       "      <td>-305.853577</td>\n",
       "      <td>579.380732</td>\n",
       "      <td>-153.832374</td>\n",
       "    </tr>\n",
       "    <tr>\n",
       "      <td>XGBreg_AE</td>\n",
       "      <td>-152.335251</td>\n",
       "      <td>-303.573490</td>\n",
       "      <td>578.279222</td>\n",
       "      <td>-157.208333</td>\n",
       "    </tr>\n",
       "    <tr>\n",
       "      <td>BAGreg_AE</td>\n",
       "      <td>-179.695561</td>\n",
       "      <td>-263.820578</td>\n",
       "      <td>542.335718</td>\n",
       "      <td>-185.506798</td>\n",
       "    </tr>\n",
       "    <tr>\n",
       "      <td>BayPois_AE</td>\n",
       "      <td>-110.913438</td>\n",
       "      <td>-194.212932</td>\n",
       "      <td>384.386820</td>\n",
       "      <td>-118.423751</td>\n",
       "    </tr>\n",
       "  </tbody>\n",
       "</table>\n",
       "</div>"
      ],
      "text/plain": [
       "               PI NONE  PI<40%,1~4999  PI<40%,>5000      PI>40%\n",
       "RFreg_AE   -167.629846    -305.853577    579.380732 -153.832374\n",
       "XGBreg_AE  -152.335251    -303.573490    578.279222 -157.208333\n",
       "BAGreg_AE  -179.695561    -263.820578    542.335718 -185.506798\n",
       "BayPois_AE -110.913438    -194.212932    384.386820 -118.423751"
      ]
     },
     "execution_count": 355,
     "metadata": {},
     "output_type": "execute_result"
    }
   ],
   "source": [
    "pd.DataFrame(fair_exp_1vsall['PI_type']['test']).loc[[m+'_AE' for m in model_names]]"
   ]
  },
  {
   "cell_type": "code",
   "execution_count": 474,
   "metadata": {
    "ExecuteTime": {
     "end_time": "2020-04-17T21:18:21.874347Z",
     "start_time": "2020-04-17T21:18:21.788237Z"
    },
    "cell_style": "split",
    "hidden": true
   },
   "outputs": [
    {
     "data": {
      "text/html": [
       "<div>\n",
       "<style scoped>\n",
       "    .dataframe tbody tr th:only-of-type {\n",
       "        vertical-align: middle;\n",
       "    }\n",
       "\n",
       "    .dataframe tbody tr th {\n",
       "        vertical-align: top;\n",
       "    }\n",
       "\n",
       "    .dataframe thead th {\n",
       "        text-align: right;\n",
       "    }\n",
       "</style>\n",
       "<table border=\"1\" class=\"dataframe\">\n",
       "  <thead>\n",
       "    <tr style=\"text-align: right;\">\n",
       "      <th></th>\n",
       "      <th>PI NONE</th>\n",
       "      <th>PI&lt;40%,1~4999</th>\n",
       "      <th>PI&lt;40%,&gt;5000</th>\n",
       "      <th>PI&gt;40%</th>\n",
       "      <th>Sum</th>\n",
       "      <th>AbsSum</th>\n",
       "    </tr>\n",
       "  </thead>\n",
       "  <tbody>\n",
       "    <tr>\n",
       "      <td>BAGreg_E</td>\n",
       "      <td>-2.225321</td>\n",
       "      <td>221.992433</td>\n",
       "      <td>-379.883696</td>\n",
       "      <td>20.287602</td>\n",
       "      <td>-139.828982</td>\n",
       "      <td>764.218034</td>\n",
       "    </tr>\n",
       "    <tr>\n",
       "      <td>BayPois_E</td>\n",
       "      <td>31.015990</td>\n",
       "      <td>172.119154</td>\n",
       "      <td>-286.373742</td>\n",
       "      <td>6.373440</td>\n",
       "      <td>-76.865158</td>\n",
       "      <td>572.747483</td>\n",
       "    </tr>\n",
       "    <tr>\n",
       "      <td>RFreg_E</td>\n",
       "      <td>-3.359632</td>\n",
       "      <td>180.231077</td>\n",
       "      <td>-303.472402</td>\n",
       "      <td>15.897375</td>\n",
       "      <td>-110.703582</td>\n",
       "      <td>613.664068</td>\n",
       "    </tr>\n",
       "    <tr>\n",
       "      <td>XGBreg_E</td>\n",
       "      <td>34.552136</td>\n",
       "      <td>200.445648</td>\n",
       "      <td>-329.907666</td>\n",
       "      <td>9.936442</td>\n",
       "      <td>-84.973441</td>\n",
       "      <td>659.815333</td>\n",
       "    </tr>\n",
       "  </tbody>\n",
       "</table>\n",
       "</div>"
      ],
      "text/plain": [
       "             PI NONE  PI<40%,1~4999  PI<40%,>5000     PI>40%         Sum  \\\n",
       "BAGreg_E   -2.225321     221.992433   -379.883696  20.287602 -139.828982   \n",
       "BayPois_E  31.015990     172.119154   -286.373742   6.373440  -76.865158   \n",
       "RFreg_E    -3.359632     180.231077   -303.472402  15.897375 -110.703582   \n",
       "XGBreg_E   34.552136     200.445648   -329.907666   9.936442  -84.973441   \n",
       "\n",
       "               AbsSum  \n",
       "BAGreg_E   764.218034  \n",
       "BayPois_E  572.747483  \n",
       "RFreg_E    613.664068  \n",
       "XGBreg_E   659.815333  "
      ]
     },
     "execution_count": 474,
     "metadata": {},
     "output_type": "execute_result"
    }
   ],
   "source": [
    "etype='_E'\n",
    "tmpdf=pd.concat([pd.DataFrame(f['PI_type']['test']).fillna(0).loc[[m+etype for m in model_names]] for f in fair_exp_1vsall_list],sort=False).groupby(level=0).mean()\n",
    "tmpdf['Sum'] = tmpdf.sum(axis=1)\n",
    "tmpdf['AbsSum']=tmpdf.abs().sum(axis=1)\n",
    "tmpdf"
   ]
  },
  {
   "cell_type": "code",
   "execution_count": 357,
   "metadata": {
    "ExecuteTime": {
     "end_time": "2020-04-17T15:20:16.522049Z",
     "start_time": "2020-04-17T15:20:16.484967Z"
    },
    "cell_style": "split",
    "hidden": true
   },
   "outputs": [
    {
     "data": {
      "text/html": [
       "<div>\n",
       "<style scoped>\n",
       "    .dataframe tbody tr th:only-of-type {\n",
       "        vertical-align: middle;\n",
       "    }\n",
       "\n",
       "    .dataframe tbody tr th {\n",
       "        vertical-align: top;\n",
       "    }\n",
       "\n",
       "    .dataframe thead th {\n",
       "        text-align: right;\n",
       "    }\n",
       "</style>\n",
       "<table border=\"1\" class=\"dataframe\">\n",
       "  <thead>\n",
       "    <tr style=\"text-align: right;\">\n",
       "      <th></th>\n",
       "      <th>q1</th>\n",
       "      <th>q2</th>\n",
       "      <th>q3</th>\n",
       "      <th>q4</th>\n",
       "    </tr>\n",
       "  </thead>\n",
       "  <tbody>\n",
       "    <tr>\n",
       "      <td>RFreg_AE</td>\n",
       "      <td>-210.342187</td>\n",
       "      <td>-160.391012</td>\n",
       "      <td>-93.465199</td>\n",
       "      <td>520.907593</td>\n",
       "    </tr>\n",
       "    <tr>\n",
       "      <td>XGBreg_AE</td>\n",
       "      <td>-209.890213</td>\n",
       "      <td>-180.179136</td>\n",
       "      <td>-90.372406</td>\n",
       "      <td>538.095057</td>\n",
       "    </tr>\n",
       "    <tr>\n",
       "      <td>BAGreg_AE</td>\n",
       "      <td>-228.465173</td>\n",
       "      <td>-187.240175</td>\n",
       "      <td>-120.420304</td>\n",
       "      <td>602.392434</td>\n",
       "    </tr>\n",
       "    <tr>\n",
       "      <td>BayPois_AE</td>\n",
       "      <td>-162.115310</td>\n",
       "      <td>-133.232269</td>\n",
       "      <td>-24.199057</td>\n",
       "      <td>354.858799</td>\n",
       "    </tr>\n",
       "  </tbody>\n",
       "</table>\n",
       "</div>"
      ],
      "text/plain": [
       "                    q1          q2          q3          q4\n",
       "RFreg_AE   -210.342187 -160.391012  -93.465199  520.907593\n",
       "XGBreg_AE  -209.890213 -180.179136  -90.372406  538.095057\n",
       "BAGreg_AE  -228.465173 -187.240175 -120.420304  602.392434\n",
       "BayPois_AE -162.115310 -133.232269  -24.199057  354.858799"
      ]
     },
     "execution_count": 357,
     "metadata": {},
     "output_type": "execute_result"
    }
   ],
   "source": [
    "pd.DataFrame(fair_exp_1vsall['income_group']['test']).loc[[m+'_AE' for m in model_names]]"
   ]
  },
  {
   "cell_type": "code",
   "execution_count": 475,
   "metadata": {
    "ExecuteTime": {
     "end_time": "2020-04-17T21:19:07.301931Z",
     "start_time": "2020-04-17T21:19:07.228042Z"
    },
    "cell_style": "split",
    "hidden": true
   },
   "outputs": [
    {
     "data": {
      "text/html": [
       "<div>\n",
       "<style scoped>\n",
       "    .dataframe tbody tr th:only-of-type {\n",
       "        vertical-align: middle;\n",
       "    }\n",
       "\n",
       "    .dataframe tbody tr th {\n",
       "        vertical-align: top;\n",
       "    }\n",
       "\n",
       "    .dataframe thead th {\n",
       "        text-align: right;\n",
       "    }\n",
       "</style>\n",
       "<table border=\"1\" class=\"dataframe\">\n",
       "  <thead>\n",
       "    <tr style=\"text-align: right;\">\n",
       "      <th></th>\n",
       "      <th>q1</th>\n",
       "      <th>q2</th>\n",
       "      <th>q3</th>\n",
       "      <th>q4</th>\n",
       "      <th>Sum</th>\n",
       "      <th>AbsSum</th>\n",
       "    </tr>\n",
       "  </thead>\n",
       "  <tbody>\n",
       "    <tr>\n",
       "      <td>BAGreg_AE</td>\n",
       "      <td>-230.245788</td>\n",
       "      <td>-182.395262</td>\n",
       "      <td>-118.596262</td>\n",
       "      <td>549.702001</td>\n",
       "      <td>18.464690</td>\n",
       "      <td>1099.404003</td>\n",
       "    </tr>\n",
       "    <tr>\n",
       "      <td>BayPois_AE</td>\n",
       "      <td>-196.275293</td>\n",
       "      <td>-163.272275</td>\n",
       "      <td>-84.019860</td>\n",
       "      <td>458.926220</td>\n",
       "      <td>15.358792</td>\n",
       "      <td>917.852440</td>\n",
       "    </tr>\n",
       "    <tr>\n",
       "      <td>RFreg_AE</td>\n",
       "      <td>-227.908066</td>\n",
       "      <td>-183.761209</td>\n",
       "      <td>-115.761727</td>\n",
       "      <td>545.009783</td>\n",
       "      <td>17.578782</td>\n",
       "      <td>1090.019566</td>\n",
       "    </tr>\n",
       "    <tr>\n",
       "      <td>XGBreg_AE</td>\n",
       "      <td>-218.474926</td>\n",
       "      <td>-188.331675</td>\n",
       "      <td>-116.916548</td>\n",
       "      <td>542.559974</td>\n",
       "      <td>18.836824</td>\n",
       "      <td>1085.119948</td>\n",
       "    </tr>\n",
       "  </tbody>\n",
       "</table>\n",
       "</div>"
      ],
      "text/plain": [
       "                    q1          q2          q3          q4        Sum  \\\n",
       "BAGreg_AE  -230.245788 -182.395262 -118.596262  549.702001  18.464690   \n",
       "BayPois_AE -196.275293 -163.272275  -84.019860  458.926220  15.358792   \n",
       "RFreg_AE   -227.908066 -183.761209 -115.761727  545.009783  17.578782   \n",
       "XGBreg_AE  -218.474926 -188.331675 -116.916548  542.559974  18.836824   \n",
       "\n",
       "                 AbsSum  \n",
       "BAGreg_AE   1099.404003  \n",
       "BayPois_AE   917.852440  \n",
       "RFreg_AE    1090.019566  \n",
       "XGBreg_AE   1085.119948  "
      ]
     },
     "execution_count": 475,
     "metadata": {},
     "output_type": "execute_result"
    }
   ],
   "source": [
    "etype='_AE'\n",
    "tmpdf=pd.concat([pd.DataFrame(f['income_group']['test']).fillna(0).loc[[m+etype for m in model_names]] for f in fair_exp_1vsall_list],sort=False).groupby(level=0).mean()\n",
    "tmpdf['Sum'] = tmpdf.sum(axis=1)\n",
    "tmpdf['AbsSum']=tmpdf.abs().sum(axis=1)\n",
    "tmpdf"
   ]
  },
  {
   "cell_type": "code",
   "execution_count": 359,
   "metadata": {
    "ExecuteTime": {
     "end_time": "2020-04-17T15:20:16.920251Z",
     "start_time": "2020-04-17T15:20:16.879785Z"
    },
    "cell_style": "split",
    "hidden": true
   },
   "outputs": [
    {
     "data": {
      "text/html": [
       "<div>\n",
       "<style scoped>\n",
       "    .dataframe tbody tr th:only-of-type {\n",
       "        vertical-align: middle;\n",
       "    }\n",
       "\n",
       "    .dataframe tbody tr th {\n",
       "        vertical-align: top;\n",
       "    }\n",
       "\n",
       "    .dataframe thead th {\n",
       "        text-align: right;\n",
       "    }\n",
       "</style>\n",
       "<table border=\"1\" class=\"dataframe\">\n",
       "  <thead>\n",
       "    <tr style=\"text-align: right;\">\n",
       "      <th></th>\n",
       "      <th>q1</th>\n",
       "      <th>q2</th>\n",
       "      <th>q3</th>\n",
       "      <th>q4</th>\n",
       "    </tr>\n",
       "  </thead>\n",
       "  <tbody>\n",
       "    <tr>\n",
       "      <td>RFreg_SE</td>\n",
       "      <td>-938.240425</td>\n",
       "      <td>-822.200037</td>\n",
       "      <td>-770.707007</td>\n",
       "      <td>1649.758618</td>\n",
       "    </tr>\n",
       "    <tr>\n",
       "      <td>XGBreg_SE</td>\n",
       "      <td>-959.883323</td>\n",
       "      <td>-885.203801</td>\n",
       "      <td>-771.613493</td>\n",
       "      <td>1662.048112</td>\n",
       "    </tr>\n",
       "    <tr>\n",
       "      <td>BAGreg_SE</td>\n",
       "      <td>-983.267808</td>\n",
       "      <td>-918.101289</td>\n",
       "      <td>-845.554628</td>\n",
       "      <td>1748.810105</td>\n",
       "    </tr>\n",
       "    <tr>\n",
       "      <td>BayPois_SE</td>\n",
       "      <td>-424.317094</td>\n",
       "      <td>-391.424496</td>\n",
       "      <td>-212.759589</td>\n",
       "      <td>652.410948</td>\n",
       "    </tr>\n",
       "  </tbody>\n",
       "</table>\n",
       "</div>"
      ],
      "text/plain": [
       "                    q1          q2          q3           q4\n",
       "RFreg_SE   -938.240425 -822.200037 -770.707007  1649.758618\n",
       "XGBreg_SE  -959.883323 -885.203801 -771.613493  1662.048112\n",
       "BAGreg_SE  -983.267808 -918.101289 -845.554628  1748.810105\n",
       "BayPois_SE -424.317094 -391.424496 -212.759589   652.410948"
      ]
     },
     "execution_count": 359,
     "metadata": {},
     "output_type": "execute_result"
    }
   ],
   "source": [
    "pd.DataFrame(fair_exp_1vsall['income_group']['test']).loc[[m+'_SE' for m in model_names]]"
   ]
  },
  {
   "cell_type": "code",
   "execution_count": 476,
   "metadata": {
    "ExecuteTime": {
     "end_time": "2020-04-17T21:19:17.924270Z",
     "start_time": "2020-04-17T21:19:17.843411Z"
    },
    "cell_style": "split",
    "hidden": true,
    "scrolled": true
   },
   "outputs": [
    {
     "data": {
      "text/html": [
       "<div>\n",
       "<style scoped>\n",
       "    .dataframe tbody tr th:only-of-type {\n",
       "        vertical-align: middle;\n",
       "    }\n",
       "\n",
       "    .dataframe tbody tr th {\n",
       "        vertical-align: top;\n",
       "    }\n",
       "\n",
       "    .dataframe thead th {\n",
       "        text-align: right;\n",
       "    }\n",
       "</style>\n",
       "<table border=\"1\" class=\"dataframe\">\n",
       "  <thead>\n",
       "    <tr style=\"text-align: right;\">\n",
       "      <th></th>\n",
       "      <th>q1</th>\n",
       "      <th>q2</th>\n",
       "      <th>q3</th>\n",
       "      <th>q4</th>\n",
       "      <th>Sum</th>\n",
       "      <th>AbsSum</th>\n",
       "    </tr>\n",
       "  </thead>\n",
       "  <tbody>\n",
       "    <tr>\n",
       "      <td>BAGreg_E</td>\n",
       "      <td>5.759584</td>\n",
       "      <td>37.280169</td>\n",
       "      <td>56.505003</td>\n",
       "      <td>-96.680118</td>\n",
       "      <td>2.864637</td>\n",
       "      <td>199.089511</td>\n",
       "    </tr>\n",
       "    <tr>\n",
       "      <td>BayPois_E</td>\n",
       "      <td>16.440232</td>\n",
       "      <td>16.802785</td>\n",
       "      <td>50.866781</td>\n",
       "      <td>-81.300129</td>\n",
       "      <td>2.809669</td>\n",
       "      <td>168.219597</td>\n",
       "    </tr>\n",
       "    <tr>\n",
       "      <td>RFreg_E</td>\n",
       "      <td>8.207182</td>\n",
       "      <td>31.627482</td>\n",
       "      <td>33.708319</td>\n",
       "      <td>-69.055999</td>\n",
       "      <td>4.486984</td>\n",
       "      <td>147.085966</td>\n",
       "    </tr>\n",
       "    <tr>\n",
       "      <td>XGBreg_E</td>\n",
       "      <td>21.513950</td>\n",
       "      <td>28.708411</td>\n",
       "      <td>24.897630</td>\n",
       "      <td>-71.610367</td>\n",
       "      <td>3.509624</td>\n",
       "      <td>150.239982</td>\n",
       "    </tr>\n",
       "  </tbody>\n",
       "</table>\n",
       "</div>"
      ],
      "text/plain": [
       "                  q1         q2         q3         q4       Sum      AbsSum\n",
       "BAGreg_E    5.759584  37.280169  56.505003 -96.680118  2.864637  199.089511\n",
       "BayPois_E  16.440232  16.802785  50.866781 -81.300129  2.809669  168.219597\n",
       "RFreg_E     8.207182  31.627482  33.708319 -69.055999  4.486984  147.085966\n",
       "XGBreg_E   21.513950  28.708411  24.897630 -71.610367  3.509624  150.239982"
      ]
     },
     "execution_count": 476,
     "metadata": {},
     "output_type": "execute_result"
    }
   ],
   "source": [
    "etype='_E'\n",
    "tmpdf=pd.concat([pd.DataFrame(f['income_group']['test']).fillna(0).loc[[m+etype for m in model_names]] for f in fair_exp_1vsall_list],sort=False).groupby(level=0).mean()\n",
    "tmpdf['Sum'] = tmpdf.sum(axis=1)\n",
    "tmpdf['AbsSum']=tmpdf.abs().sum(axis=1)\n",
    "tmpdf"
   ]
  },
  {
   "cell_type": "markdown",
   "metadata": {},
   "source": [
    "## fair by in-group error"
   ]
  },
  {
   "cell_type": "code",
   "execution_count": 71,
   "metadata": {
    "ExecuteTime": {
     "end_time": "2020-05-20T00:02:29.546816Z",
     "start_time": "2020-05-20T00:02:29.536896Z"
    }
   },
   "outputs": [],
   "source": [
    "def reorg_in_group_err(gname, err_type, fair_err, display=True):\n",
    "    \n",
    "    df_test = pd.DataFrame({mname:fair_err[gname]['test'][mname].loc[err_type] for mname in model_names})\n",
    "    df_train= pd.DataFrame({mname:fair_err[gname]['train'][mname].loc[err_type] for mname in model_names})\n",
    "    if display:\n",
    "        print(gname, err_type)\n",
    "        display_side_by_side(dfs=[df_test, df_train], headers=['test', 'train'])\n",
    "    else:\n",
    "        if gname=='PI_type':\n",
    "            df_test = df_test.reindex(pi_gps)\n",
    "            df_train = df_train.reindex(pi_gps)\n",
    "        return df_test, df_train"
   ]
  },
  {
   "cell_type": "code",
   "execution_count": 72,
   "metadata": {
    "ExecuteTime": {
     "end_time": "2020-05-20T00:02:30.817505Z",
     "start_time": "2020-05-20T00:02:30.806025Z"
    }
   },
   "outputs": [],
   "source": [
    "def fair_in_group_error(train_test_id, gname, err_type,norm_by_gmean=False):\n",
    "    train_eval = train_eval_list[train_test_id]\n",
    "    test_eval = test_eval_list[train_test_id]\n",
    "    fair_in_group_err = defaultdict(lambda: defaultdict(dict))\n",
    "    for dname, dat in [('train', train_eval), ('test',test_eval)]:\n",
    "        for mname in model_names:\n",
    "            ig_err = pd.DataFrame(dat.groupby(gname).apply(lambda df: mean_err(df, mname, cor=False)).to_dict())\n",
    "            if norm_by_gmean:\n",
    "                ig_err /= dat.groupby(gname)['true'].mean().replace(0,1)\n",
    "            fair_in_group_err[gname][dname][mname] = ig_err\n",
    "    te, tr = reorg_in_group_err(gname, err_type, fair_in_group_err,display=False)\n",
    "    return te, tr"
   ]
  },
  {
   "cell_type": "code",
   "execution_count": 73,
   "metadata": {
    "ExecuteTime": {
     "end_time": "2020-05-20T00:02:32.443409Z",
     "start_time": "2020-05-20T00:02:32.438195Z"
    }
   },
   "outputs": [],
   "source": [
    "def mean_list_df_ignore_nan(df_list):\n",
    "    values = np.nanmean([f.values for f in fair_in_g_err_test_list],axis=0)\n",
    "    return pd.DataFrame(values, index=df_list[0].index, columns=df_list[0].columns)"
   ]
  },
  {
   "cell_type": "code",
   "execution_count": 79,
   "metadata": {
    "ExecuteTime": {
     "end_time": "2020-05-20T00:24:50.026441Z",
     "start_time": "2020-05-20T00:24:48.575396Z"
    }
   },
   "outputs": [
    {
     "data": {
      "text/html": [
       "<div>\n",
       "<style scoped>\n",
       "    .dataframe tbody tr th:only-of-type {\n",
       "        vertical-align: middle;\n",
       "    }\n",
       "\n",
       "    .dataframe tbody tr th {\n",
       "        vertical-align: top;\n",
       "    }\n",
       "\n",
       "    .dataframe thead th {\n",
       "        text-align: right;\n",
       "    }\n",
       "</style>\n",
       "<table border=\"1\" class=\"dataframe\">\n",
       "  <thead>\n",
       "    <tr style=\"text-align: right;\">\n",
       "      <th></th>\n",
       "      <th>GDBreg</th>\n",
       "      <th>RFreg</th>\n",
       "      <th>BAGreg</th>\n",
       "      <th>XGBreg</th>\n",
       "      <th>SigSpatialModel_vio_log_8a6b</th>\n",
       "    </tr>\n",
       "  </thead>\n",
       "  <tbody>\n",
       "    <tr>\n",
       "      <td>PI NONE</td>\n",
       "      <td>125.460</td>\n",
       "      <td>109.480</td>\n",
       "      <td>127.510</td>\n",
       "      <td>211.826667</td>\n",
       "      <td>22.910</td>\n",
       "    </tr>\n",
       "    <tr>\n",
       "      <td>PI&lt;40%,1~4999</td>\n",
       "      <td>538.120</td>\n",
       "      <td>502.502</td>\n",
       "      <td>522.054</td>\n",
       "      <td>518.188000</td>\n",
       "      <td>518.398</td>\n",
       "    </tr>\n",
       "    <tr>\n",
       "      <td>PI&lt;40%,&gt;5000</td>\n",
       "      <td>3001.018</td>\n",
       "      <td>3128.016</td>\n",
       "      <td>3078.018</td>\n",
       "      <td>3131.642000</td>\n",
       "      <td>2719.838</td>\n",
       "    </tr>\n",
       "    <tr>\n",
       "      <td>PI&gt;40%</td>\n",
       "      <td>213.724</td>\n",
       "      <td>189.678</td>\n",
       "      <td>302.912</td>\n",
       "      <td>255.310000</td>\n",
       "      <td>120.174</td>\n",
       "    </tr>\n",
       "  </tbody>\n",
       "</table>\n",
       "</div>"
      ],
      "text/plain": [
       "                 GDBreg     RFreg    BAGreg       XGBreg  \\\n",
       "PI NONE         125.460   109.480   127.510   211.826667   \n",
       "PI<40%,1~4999   538.120   502.502   522.054   518.188000   \n",
       "PI<40%,>5000   3001.018  3128.016  3078.018  3131.642000   \n",
       "PI>40%          213.724   189.678   302.912   255.310000   \n",
       "\n",
       "               SigSpatialModel_vio_log_8a6b  \n",
       "PI NONE                              22.910  \n",
       "PI<40%,1~4999                       518.398  \n",
       "PI<40%,>5000                       2719.838  \n",
       "PI>40%                              120.174  "
      ]
     },
     "execution_count": 79,
     "metadata": {},
     "output_type": "execute_result"
    }
   ],
   "source": [
    "gname, err_type, norm_by_gmean = 'PI_type', 'RMSE', False\n",
    "fair_in_g_err_test_list, fair_in_g_err_train_list = [],[]\n",
    "for tr_te_id in range(len(seed_n)):\n",
    "    test_err, train_err = fair_in_group_error(tr_te_id, gname, err_type, norm_by_gmean=norm_by_gmean)\n",
    "    fair_in_g_err_test_list.append(test_err)\n",
    "    fair_in_g_err_train_list.append(train_err)\n",
    "tmpdf1 = mean_list_df_ignore_nan(fair_in_g_err_test_list)\n",
    "\n",
    "gname, err_type, norm_by_gmean = 'PI_type', 'RMSE', True\n",
    "fair_in_g_err_test_list, fair_in_g_err_train_list = [],[]\n",
    "for tr_te_id in range(len(seed_n)):\n",
    "    test_err, train_err = fair_in_group_error(tr_te_id, gname, err_type, norm_by_gmean=norm_by_gmean)\n",
    "    fair_in_g_err_test_list.append(test_err)\n",
    "    fair_in_g_err_train_list.append(train_err)\n",
    "tmpdf2 = mean_list_df_ignore_nan(fair_in_g_err_test_list)\n",
    "tmpdf1"
   ]
  },
  {
   "cell_type": "code",
   "execution_count": 80,
   "metadata": {
    "ExecuteTime": {
     "end_time": "2020-05-20T00:24:50.042667Z",
     "start_time": "2020-05-20T00:24:50.027745Z"
    }
   },
   "outputs": [
    {
     "name": "stdout",
     "output_type": "stream",
     "text": [
      "\\begin{tabular}{lllll}\n",
      "\\toprule\n",
      "{} &           PI1 &          PI2 &           PI3 &          PI4 \\\\\n",
      "\\midrule\n",
      "RF   &  109.5 (33.9) &  502.5 (2.5) &  3128.0 (1.3) &  189.7 (3.0) \\\\\n",
      "BAG  &  127.5 (31.9) &  522.1 (2.6) &  3078.0 (1.3) &  302.9 (4.7) \\\\\n",
      "XGB  &  211.8 (93.6) &  518.2 (2.6) &  3131.6 (1.3) &  255.3 (4.0) \\\\\n",
      "BURC &    22.9 (9.8) &  518.4 (2.7) &  2719.8 (1.2) &  120.2 (1.8) \\\\\n",
      "\\bottomrule\n",
      "\\end{tabular}\n",
      "\n"
     ]
    }
   ],
   "source": [
    "latex_df = (\n",
    "    tmpdf1.T.drop('GDBreg').rename(columns=rename_columns, index=rename_index).applymap(lambda x: f'{x:.1f}') +\n",
    "    tmpdf2.T.drop('GDBreg').rename(columns=rename_columns, index=rename_index).applymap(lambda x: f' ({x:.1f})')\n",
    "    \n",
    ")\n",
    "print(latex_df.to_latex())"
   ]
  },
  {
   "cell_type": "code",
   "execution_count": 81,
   "metadata": {
    "ExecuteTime": {
     "end_time": "2020-05-20T00:24:54.845150Z",
     "start_time": "2020-05-20T00:24:53.143171Z"
    }
   },
   "outputs": [
    {
     "data": {
      "text/html": [
       "<div>\n",
       "<style scoped>\n",
       "    .dataframe tbody tr th:only-of-type {\n",
       "        vertical-align: middle;\n",
       "    }\n",
       "\n",
       "    .dataframe tbody tr th {\n",
       "        vertical-align: top;\n",
       "    }\n",
       "\n",
       "    .dataframe thead th {\n",
       "        text-align: right;\n",
       "    }\n",
       "</style>\n",
       "<table border=\"1\" class=\"dataframe\">\n",
       "  <thead>\n",
       "    <tr style=\"text-align: right;\">\n",
       "      <th></th>\n",
       "      <th>GDBreg</th>\n",
       "      <th>RFreg</th>\n",
       "      <th>BAGreg</th>\n",
       "      <th>XGBreg</th>\n",
       "      <th>SigSpatialModel_vio_log_8a6b</th>\n",
       "    </tr>\n",
       "  </thead>\n",
       "  <tbody>\n",
       "    <tr>\n",
       "      <td>q1</td>\n",
       "      <td>143.006</td>\n",
       "      <td>101.962</td>\n",
       "      <td>205.766</td>\n",
       "      <td>168.576</td>\n",
       "      <td>98.158</td>\n",
       "    </tr>\n",
       "    <tr>\n",
       "      <td>q2</td>\n",
       "      <td>261.602</td>\n",
       "      <td>183.846</td>\n",
       "      <td>195.010</td>\n",
       "      <td>226.178</td>\n",
       "      <td>194.744</td>\n",
       "    </tr>\n",
       "    <tr>\n",
       "      <td>q3</td>\n",
       "      <td>396.682</td>\n",
       "      <td>390.020</td>\n",
       "      <td>393.034</td>\n",
       "      <td>378.636</td>\n",
       "      <td>331.930</td>\n",
       "    </tr>\n",
       "    <tr>\n",
       "      <td>q4</td>\n",
       "      <td>2485.344</td>\n",
       "      <td>2560.392</td>\n",
       "      <td>2547.736</td>\n",
       "      <td>2568.930</td>\n",
       "      <td>2305.410</td>\n",
       "    </tr>\n",
       "  </tbody>\n",
       "</table>\n",
       "</div>"
      ],
      "text/plain": [
       "      GDBreg     RFreg    BAGreg    XGBreg  SigSpatialModel_vio_log_8a6b\n",
       "q1   143.006   101.962   205.766   168.576                        98.158\n",
       "q2   261.602   183.846   195.010   226.178                       194.744\n",
       "q3   396.682   390.020   393.034   378.636                       331.930\n",
       "q4  2485.344  2560.392  2547.736  2568.930                      2305.410"
      ]
     },
     "execution_count": 81,
     "metadata": {},
     "output_type": "execute_result"
    }
   ],
   "source": [
    "gname, err_type, norm_by_gmean = 'income_group', 'RMSE', False\n",
    "fair_in_g_err_test_list, fair_in_g_err_train_list = [],[]\n",
    "for tr_te_id in range(len(seed_n)):\n",
    "    test_err, train_err = fair_in_group_error(tr_te_id, gname, err_type, norm_by_gmean=norm_by_gmean )\n",
    "    fair_in_g_err_test_list.append(test_err)\n",
    "    fair_in_g_err_train_list.append(train_err)\n",
    "\n",
    "tmpdf1 = mean_list_df_ignore_nan(fair_in_g_err_test_list)\n",
    "\n",
    "gname, err_type, norm_by_gmean = 'income_group', 'RMSE', True\n",
    "fair_in_g_err_test_list, fair_in_g_err_train_list = [],[]\n",
    "for tr_te_id in range(len(seed_n)):\n",
    "    test_err, train_err = fair_in_group_error(tr_te_id, gname, err_type, norm_by_gmean=norm_by_gmean )\n",
    "    fair_in_g_err_test_list.append(test_err)\n",
    "    fair_in_g_err_train_list.append(train_err)\n",
    "\n",
    "tmpdf2 = mean_list_df_ignore_nan(fair_in_g_err_test_list)\n",
    "tmpdf1"
   ]
  },
  {
   "cell_type": "code",
   "execution_count": 82,
   "metadata": {
    "ExecuteTime": {
     "end_time": "2020-05-20T00:24:54.872618Z",
     "start_time": "2020-05-20T00:24:54.848502Z"
    }
   },
   "outputs": [
    {
     "name": "stdout",
     "output_type": "stream",
     "text": [
      "\\begin{tabular}{lllll}\n",
      "\\toprule\n",
      "{} &         IcQ1 &         IcQ2 &         IcQ3 &          IcQ4 \\\\\n",
      "\\midrule\n",
      "RF   &  102.0 (4.7) &  183.8 (2.3) &  390.0 (2.0) &  2560.4 (1.4) \\\\\n",
      "BAG  &  205.8 (9.6) &  195.0 (2.5) &  393.0 (2.1) &  2547.7 (1.4) \\\\\n",
      "XGB  &  168.6 (8.0) &  226.2 (2.9) &  378.6 (2.0) &  2568.9 (1.4) \\\\\n",
      "BURC &   98.2 (4.7) &  194.7 (2.4) &  331.9 (1.7) &  2305.4 (1.4) \\\\\n",
      "\\bottomrule\n",
      "\\end{tabular}\n",
      "\n"
     ]
    }
   ],
   "source": [
    "latex_df = (\n",
    "    tmpdf1.T.drop('GDBreg').rename(columns=rename_columns, index=rename_index).applymap(lambda x: f'{x:.1f}') +\n",
    "    tmpdf2.T.drop('GDBreg').rename(columns=rename_columns, index=rename_index).applymap(lambda x: f' ({x:.1f})')\n",
    "    \n",
    ")\n",
    "print(latex_df.to_latex())"
   ]
  },
  {
   "cell_type": "code",
   "execution_count": 36,
   "metadata": {
    "ExecuteTime": {
     "end_time": "2020-04-19T12:38:36.252830Z",
     "start_time": "2020-04-19T12:38:36.211810Z"
    }
   },
   "outputs": [
    {
     "data": {
      "text/html": [
       "<div>\n",
       "<style scoped>\n",
       "    .dataframe tbody tr th:only-of-type {\n",
       "        vertical-align: middle;\n",
       "    }\n",
       "\n",
       "    .dataframe tbody tr th {\n",
       "        vertical-align: top;\n",
       "    }\n",
       "\n",
       "    .dataframe thead th {\n",
       "        text-align: right;\n",
       "    }\n",
       "</style>\n",
       "<table border=\"1\" class=\"dataframe\">\n",
       "  <thead>\n",
       "    <tr style=\"text-align: right;\">\n",
       "      <th></th>\n",
       "      <th>GDBreg</th>\n",
       "      <th>RFreg</th>\n",
       "      <th>BAGreg</th>\n",
       "      <th>XGBreg</th>\n",
       "      <th>BayPoisNoScale</th>\n",
       "    </tr>\n",
       "  </thead>\n",
       "  <tbody>\n",
       "    <tr>\n",
       "      <td>RMSE</td>\n",
       "      <td>822.404</td>\n",
       "      <td>763.068</td>\n",
       "      <td>803.822</td>\n",
       "      <td>810.752</td>\n",
       "      <td>601.192</td>\n",
       "    </tr>\n",
       "    <tr>\n",
       "      <td>MAE</td>\n",
       "      <td>217.576</td>\n",
       "      <td>198.378</td>\n",
       "      <td>210.540</td>\n",
       "      <td>211.492</td>\n",
       "      <td>180.398</td>\n",
       "    </tr>\n",
       "    <tr>\n",
       "      <td>+ME</td>\n",
       "      <td>174.004</td>\n",
       "      <td>130.508</td>\n",
       "      <td>136.292</td>\n",
       "      <td>154.214</td>\n",
       "      <td>160.116</td>\n",
       "    </tr>\n",
       "    <tr>\n",
       "      <td>-ME</td>\n",
       "      <td>-293.480</td>\n",
       "      <td>-365.122</td>\n",
       "      <td>-456.926</td>\n",
       "      <td>-316.510</td>\n",
       "      <td>-208.060</td>\n",
       "    </tr>\n",
       "    <tr>\n",
       "      <td>ME</td>\n",
       "      <td>1.720</td>\n",
       "      <td>-14.814</td>\n",
       "      <td>-1.274</td>\n",
       "      <td>-9.766</td>\n",
       "      <td>3.452</td>\n",
       "    </tr>\n",
       "  </tbody>\n",
       "</table>\n",
       "</div>"
      ],
      "text/plain": [
       "       GDBreg    RFreg   BAGreg   XGBreg  BayPoisNoScale\n",
       "RMSE  822.404  763.068  803.822  810.752         601.192\n",
       "MAE   217.576  198.378  210.540  211.492         180.398\n",
       "+ME   174.004  130.508  136.292  154.214         160.116\n",
       "-ME  -293.480 -365.122 -456.926 -316.510        -208.060\n",
       "ME      1.720  -14.814   -1.274   -9.766           3.452"
      ]
     },
     "execution_count": 36,
     "metadata": {},
     "output_type": "execute_result"
    }
   ],
   "source": [
    "sum(test_merr_list)/len(seed_n)"
   ]
  },
  {
   "cell_type": "code",
   "execution_count": 59,
   "metadata": {
    "ExecuteTime": {
     "end_time": "2020-04-18T16:17:28.168289Z",
     "start_time": "2020-04-18T16:17:28.130781Z"
    }
   },
   "outputs": [
    {
     "data": {
      "text/html": [
       "<div>\n",
       "<style scoped>\n",
       "    .dataframe tbody tr th:only-of-type {\n",
       "        vertical-align: middle;\n",
       "    }\n",
       "\n",
       "    .dataframe tbody tr th {\n",
       "        vertical-align: top;\n",
       "    }\n",
       "\n",
       "    .dataframe thead th {\n",
       "        text-align: right;\n",
       "    }\n",
       "</style>\n",
       "<table border=\"1\" class=\"dataframe\">\n",
       "  <thead>\n",
       "    <tr style=\"text-align: right;\">\n",
       "      <th></th>\n",
       "      <th>GDBreg</th>\n",
       "      <th>RFreg</th>\n",
       "      <th>BAGreg</th>\n",
       "      <th>BayPoisNoScale</th>\n",
       "    </tr>\n",
       "  </thead>\n",
       "  <tbody>\n",
       "    <tr>\n",
       "      <td>RMSE</td>\n",
       "      <td>1066.60</td>\n",
       "      <td>1063.72</td>\n",
       "      <td>1045.03</td>\n",
       "      <td>769.96</td>\n",
       "    </tr>\n",
       "    <tr>\n",
       "      <td>MAE</td>\n",
       "      <td>237.71</td>\n",
       "      <td>189.03</td>\n",
       "      <td>195.38</td>\n",
       "      <td>303.39</td>\n",
       "    </tr>\n",
       "    <tr>\n",
       "      <td>+ME</td>\n",
       "      <td>236.91</td>\n",
       "      <td>150.97</td>\n",
       "      <td>141.47</td>\n",
       "      <td>281.24</td>\n",
       "    </tr>\n",
       "    <tr>\n",
       "      <td>-ME</td>\n",
       "      <td>-238.58</td>\n",
       "      <td>-273.10</td>\n",
       "      <td>-385.36</td>\n",
       "      <td>-446.47</td>\n",
       "    </tr>\n",
       "    <tr>\n",
       "      <td>ME</td>\n",
       "      <td>9.50</td>\n",
       "      <td>18.83</td>\n",
       "      <td>25.03</td>\n",
       "      <td>183.69</td>\n",
       "    </tr>\n",
       "  </tbody>\n",
       "</table>\n",
       "</div>"
      ],
      "text/plain": [
       "       GDBreg    RFreg   BAGreg  BayPoisNoScale\n",
       "RMSE  1066.60  1063.72  1045.03          769.96\n",
       "MAE    237.71   189.03   195.38          303.39\n",
       "+ME    236.91   150.97   141.47          281.24\n",
       "-ME   -238.58  -273.10  -385.36         -446.47\n",
       "ME       9.50    18.83    25.03          183.69"
      ]
     },
     "execution_count": 59,
     "metadata": {},
     "output_type": "execute_result"
    }
   ],
   "source": [
    "train_eval = train_eval_list[4]\n",
    "test_eval = test_eval_list[4]\n",
    "test_merr_list[4]"
   ]
  },
  {
   "cell_type": "code",
   "execution_count": 410,
   "metadata": {
    "ExecuteTime": {
     "end_time": "2020-04-17T17:29:44.274907Z",
     "start_time": "2020-04-17T17:29:44.000150Z"
    }
   },
   "outputs": [],
   "source": [
    "fair_in_group_err = defaultdict(lambda: defaultdict(dict))\n",
    "for gname in group_names:\n",
    "    for dname, dat in [('train', train_eval), ('test',test_eval)]:\n",
    "        for mname in model_names:\n",
    "            fair_in_group_err[gname][dname][mname] = pd.DataFrame(\n",
    "                dat.groupby(gname).apply(lambda df: mean_err(df, mname)).to_dict())"
   ]
  },
  {
   "cell_type": "code",
   "execution_count": 364,
   "metadata": {
    "ExecuteTime": {
     "end_time": "2020-04-17T15:20:38.809801Z",
     "start_time": "2020-04-17T15:20:38.788141Z"
    },
    "collapsed": true
   },
   "outputs": [
    {
     "data": {
      "text/html": [
       "<style  type=\"text/css\" >\n",
       "</style><table id=\"T_fe5fbdd6_80be_11ea_98df_d4ae52d07f78\" style='display:inline'><caption>test</caption><thead>    <tr>        <th class=\"blank level0\" ></th>        <th class=\"col_heading level0 col0\" >RFreg</th>        <th class=\"col_heading level0 col1\" >XGBreg</th>        <th class=\"col_heading level0 col2\" >BAGreg</th>        <th class=\"col_heading level0 col3\" >BayPois</th>    </tr></thead><tbody>\n",
       "                <tr>\n",
       "                        <th id=\"T_fe5fbdd6_80be_11ea_98df_d4ae52d07f78level0_row0\" class=\"row_heading level0 row0\" >RMSE</th>\n",
       "                        <td id=\"T_fe5fbdd6_80be_11ea_98df_d4ae52d07f78row0_col0\" class=\"data row0 col0\" >453.14</td>\n",
       "                        <td id=\"T_fe5fbdd6_80be_11ea_98df_d4ae52d07f78row0_col1\" class=\"data row0 col1\" >449.8</td>\n",
       "                        <td id=\"T_fe5fbdd6_80be_11ea_98df_d4ae52d07f78row0_col2\" class=\"data row0 col2\" >420.09</td>\n",
       "                        <td id=\"T_fe5fbdd6_80be_11ea_98df_d4ae52d07f78row0_col3\" class=\"data row0 col3\" >385.41</td>\n",
       "            </tr>\n",
       "            <tr>\n",
       "                        <th id=\"T_fe5fbdd6_80be_11ea_98df_d4ae52d07f78level0_row1\" class=\"row_heading level0 row1\" >MAE</th>\n",
       "                        <td id=\"T_fe5fbdd6_80be_11ea_98df_d4ae52d07f78row1_col0\" class=\"data row1 col0\" >168.23</td>\n",
       "                        <td id=\"T_fe5fbdd6_80be_11ea_98df_d4ae52d07f78row1_col1\" class=\"data row1 col1\" >158.87</td>\n",
       "                        <td id=\"T_fe5fbdd6_80be_11ea_98df_d4ae52d07f78row1_col2\" class=\"data row1 col2\" >165.79</td>\n",
       "                        <td id=\"T_fe5fbdd6_80be_11ea_98df_d4ae52d07f78row1_col3\" class=\"data row1 col3\" >145.61</td>\n",
       "            </tr>\n",
       "            <tr>\n",
       "                        <th id=\"T_fe5fbdd6_80be_11ea_98df_d4ae52d07f78level0_row2\" class=\"row_heading level0 row2\" >+ME</th>\n",
       "                        <td id=\"T_fe5fbdd6_80be_11ea_98df_d4ae52d07f78row2_col0\" class=\"data row2 col0\" >163.75</td>\n",
       "                        <td id=\"T_fe5fbdd6_80be_11ea_98df_d4ae52d07f78row2_col1\" class=\"data row2 col1\" >166.9</td>\n",
       "                        <td id=\"T_fe5fbdd6_80be_11ea_98df_d4ae52d07f78row2_col2\" class=\"data row2 col2\" >149.22</td>\n",
       "                        <td id=\"T_fe5fbdd6_80be_11ea_98df_d4ae52d07f78row2_col3\" class=\"data row2 col3\" >151.21</td>\n",
       "            </tr>\n",
       "            <tr>\n",
       "                        <th id=\"T_fe5fbdd6_80be_11ea_98df_d4ae52d07f78level0_row3\" class=\"row_heading level0 row3\" >-ME</th>\n",
       "                        <td id=\"T_fe5fbdd6_80be_11ea_98df_d4ae52d07f78row3_col0\" class=\"data row3 col0\" >-186.21</td>\n",
       "                        <td id=\"T_fe5fbdd6_80be_11ea_98df_d4ae52d07f78row3_col1\" class=\"data row3 col1\" >-142.02</td>\n",
       "                        <td id=\"T_fe5fbdd6_80be_11ea_98df_d4ae52d07f78row3_col2\" class=\"data row3 col2\" >-246.53</td>\n",
       "                        <td id=\"T_fe5fbdd6_80be_11ea_98df_d4ae52d07f78row3_col3\" class=\"data row3 col3\" >-137.28</td>\n",
       "            </tr>\n",
       "    </tbody></table><style  type=\"text/css\" >\n",
       "</style><table id=\"T_fe5ff620_80be_11ea_98df_d4ae52d07f78\" style='display:inline'><caption>train</caption><thead>    <tr>        <th class=\"blank level0\" ></th>        <th class=\"col_heading level0 col0\" >RFreg</th>        <th class=\"col_heading level0 col1\" >XGBreg</th>        <th class=\"col_heading level0 col2\" >BAGreg</th>        <th class=\"col_heading level0 col3\" >BayPois</th>    </tr></thead><tbody>\n",
       "                <tr>\n",
       "                        <th id=\"T_fe5ff620_80be_11ea_98df_d4ae52d07f78level0_row0\" class=\"row_heading level0 row0\" >RMSE</th>\n",
       "                        <td id=\"T_fe5ff620_80be_11ea_98df_d4ae52d07f78row0_col0\" class=\"data row0 col0\" >547.02</td>\n",
       "                        <td id=\"T_fe5ff620_80be_11ea_98df_d4ae52d07f78row0_col1\" class=\"data row0 col1\" >625.75</td>\n",
       "                        <td id=\"T_fe5ff620_80be_11ea_98df_d4ae52d07f78row0_col2\" class=\"data row0 col2\" >352.72</td>\n",
       "                        <td id=\"T_fe5ff620_80be_11ea_98df_d4ae52d07f78row0_col3\" class=\"data row0 col3\" >618.25</td>\n",
       "            </tr>\n",
       "            <tr>\n",
       "                        <th id=\"T_fe5ff620_80be_11ea_98df_d4ae52d07f78level0_row1\" class=\"row_heading level0 row1\" >MAE</th>\n",
       "                        <td id=\"T_fe5ff620_80be_11ea_98df_d4ae52d07f78row1_col0\" class=\"data row1 col0\" >119.97</td>\n",
       "                        <td id=\"T_fe5ff620_80be_11ea_98df_d4ae52d07f78row1_col1\" class=\"data row1 col1\" >137.24</td>\n",
       "                        <td id=\"T_fe5ff620_80be_11ea_98df_d4ae52d07f78row1_col2\" class=\"data row1 col2\" >89.98</td>\n",
       "                        <td id=\"T_fe5ff620_80be_11ea_98df_d4ae52d07f78row1_col3\" class=\"data row1 col3\" >179.6</td>\n",
       "            </tr>\n",
       "            <tr>\n",
       "                        <th id=\"T_fe5ff620_80be_11ea_98df_d4ae52d07f78level0_row2\" class=\"row_heading level0 row2\" >+ME</th>\n",
       "                        <td id=\"T_fe5ff620_80be_11ea_98df_d4ae52d07f78row2_col0\" class=\"data row2 col0\" >81.69</td>\n",
       "                        <td id=\"T_fe5ff620_80be_11ea_98df_d4ae52d07f78row2_col1\" class=\"data row2 col1\" >97.33</td>\n",
       "                        <td id=\"T_fe5ff620_80be_11ea_98df_d4ae52d07f78row2_col2\" class=\"data row2 col2\" >59.58</td>\n",
       "                        <td id=\"T_fe5ff620_80be_11ea_98df_d4ae52d07f78row2_col3\" class=\"data row2 col3\" >158.49</td>\n",
       "            </tr>\n",
       "            <tr>\n",
       "                        <th id=\"T_fe5ff620_80be_11ea_98df_d4ae52d07f78level0_row3\" class=\"row_heading level0 row3\" >-ME</th>\n",
       "                        <td id=\"T_fe5ff620_80be_11ea_98df_d4ae52d07f78row3_col0\" class=\"data row3 col0\" >-225.82</td>\n",
       "                        <td id=\"T_fe5ff620_80be_11ea_98df_d4ae52d07f78row3_col1\" class=\"data row3 col1\" >-202.38</td>\n",
       "                        <td id=\"T_fe5ff620_80be_11ea_98df_d4ae52d07f78row3_col2\" class=\"data row3 col2\" >-185.16</td>\n",
       "                        <td id=\"T_fe5ff620_80be_11ea_98df_d4ae52d07f78row3_col3\" class=\"data row3 col3\" >-207.19</td>\n",
       "            </tr>\n",
       "    </tbody></table>"
      ]
     },
     "metadata": {},
     "output_type": "display_data"
    }
   ],
   "source": [
    "display_side_by_side([test_merr, train_merr],['test', 'train'])"
   ]
  },
  {
   "cell_type": "code",
   "execution_count": 365,
   "metadata": {
    "ExecuteTime": {
     "end_time": "2020-04-17T15:20:39.066038Z",
     "start_time": "2020-04-17T15:20:39.025517Z"
    },
    "cell_style": "center"
   },
   "outputs": [
    {
     "name": "stdout",
     "output_type": "stream",
     "text": [
      "PI_type RMSE\n"
     ]
    },
    {
     "data": {
      "text/html": [
       "<style  type=\"text/css\" >\n",
       "</style><table id=\"T_fe863f42_80be_11ea_98df_d4ae52d07f78\" style='display:inline'><caption>test</caption><thead>    <tr>        <th class=\"blank level0\" ></th>        <th class=\"col_heading level0 col0\" >RFreg</th>        <th class=\"col_heading level0 col1\" >XGBreg</th>        <th class=\"col_heading level0 col2\" >BAGreg</th>        <th class=\"col_heading level0 col3\" >BayPois</th>    </tr></thead><tbody>\n",
       "                <tr>\n",
       "                        <th id=\"T_fe863f42_80be_11ea_98df_d4ae52d07f78level0_row0\" class=\"row_heading level0 row0\" >PI NONE</th>\n",
       "                        <td id=\"T_fe863f42_80be_11ea_98df_d4ae52d07f78row0_col0\" class=\"data row0 col0\" >12.19</td>\n",
       "                        <td id=\"T_fe863f42_80be_11ea_98df_d4ae52d07f78row0_col1\" class=\"data row0 col1\" >19.53</td>\n",
       "                        <td id=\"T_fe863f42_80be_11ea_98df_d4ae52d07f78row0_col2\" class=\"data row0 col2\" >12.44</td>\n",
       "                        <td id=\"T_fe863f42_80be_11ea_98df_d4ae52d07f78row0_col3\" class=\"data row0 col3\" >22.99</td>\n",
       "            </tr>\n",
       "            <tr>\n",
       "                        <th id=\"T_fe863f42_80be_11ea_98df_d4ae52d07f78level0_row1\" class=\"row_heading level0 row1\" >PI<40%,1~4999</th>\n",
       "                        <td id=\"T_fe863f42_80be_11ea_98df_d4ae52d07f78row1_col0\" class=\"data row1 col0\" >194.21</td>\n",
       "                        <td id=\"T_fe863f42_80be_11ea_98df_d4ae52d07f78row1_col1\" class=\"data row1 col1\" >196.02</td>\n",
       "                        <td id=\"T_fe863f42_80be_11ea_98df_d4ae52d07f78row1_col2\" class=\"data row1 col2\" >279.01</td>\n",
       "                        <td id=\"T_fe863f42_80be_11ea_98df_d4ae52d07f78row1_col3\" class=\"data row1 col3\" >186.57</td>\n",
       "            </tr>\n",
       "            <tr>\n",
       "                        <th id=\"T_fe863f42_80be_11ea_98df_d4ae52d07f78level0_row2\" class=\"row_heading level0 row2\" >PI<40%,>5000</th>\n",
       "                        <td id=\"T_fe863f42_80be_11ea_98df_d4ae52d07f78row2_col0\" class=\"data row2 col0\" >2035.25</td>\n",
       "                        <td id=\"T_fe863f42_80be_11ea_98df_d4ae52d07f78row2_col1\" class=\"data row2 col1\" >2006.33</td>\n",
       "                        <td id=\"T_fe863f42_80be_11ea_98df_d4ae52d07f78row2_col2\" class=\"data row2 col2\" >2039.04</td>\n",
       "                        <td id=\"T_fe863f42_80be_11ea_98df_d4ae52d07f78row2_col3\" class=\"data row2 col3\" >853.85</td>\n",
       "            </tr>\n",
       "            <tr>\n",
       "                        <th id=\"T_fe863f42_80be_11ea_98df_d4ae52d07f78level0_row3\" class=\"row_heading level0 row3\" >PI>40%</th>\n",
       "                        <td id=\"T_fe863f42_80be_11ea_98df_d4ae52d07f78row3_col0\" class=\"data row3 col0\" >116.7</td>\n",
       "                        <td id=\"T_fe863f42_80be_11ea_98df_d4ae52d07f78row3_col1\" class=\"data row3 col1\" >76.71</td>\n",
       "                        <td id=\"T_fe863f42_80be_11ea_98df_d4ae52d07f78row3_col2\" class=\"data row3 col2\" >59.82</td>\n",
       "                        <td id=\"T_fe863f42_80be_11ea_98df_d4ae52d07f78row3_col3\" class=\"data row3 col3\" >57.45</td>\n",
       "            </tr>\n",
       "    </tbody></table><style  type=\"text/css\" >\n",
       "</style><table id=\"T_fe86a23e_80be_11ea_98df_d4ae52d07f78\" style='display:inline'><caption>train</caption><thead>    <tr>        <th class=\"blank level0\" ></th>        <th class=\"col_heading level0 col0\" >RFreg</th>        <th class=\"col_heading level0 col1\" >XGBreg</th>        <th class=\"col_heading level0 col2\" >BAGreg</th>        <th class=\"col_heading level0 col3\" >BayPois</th>    </tr></thead><tbody>\n",
       "                <tr>\n",
       "                        <th id=\"T_fe86a23e_80be_11ea_98df_d4ae52d07f78level0_row0\" class=\"row_heading level0 row0\" >PI NONE</th>\n",
       "                        <td id=\"T_fe86a23e_80be_11ea_98df_d4ae52d07f78row0_col0\" class=\"data row0 col0\" >7.24</td>\n",
       "                        <td id=\"T_fe86a23e_80be_11ea_98df_d4ae52d07f78row0_col1\" class=\"data row0 col1\" >67.1</td>\n",
       "                        <td id=\"T_fe86a23e_80be_11ea_98df_d4ae52d07f78row0_col2\" class=\"data row0 col2\" >13.99</td>\n",
       "                        <td id=\"T_fe86a23e_80be_11ea_98df_d4ae52d07f78row0_col3\" class=\"data row0 col3\" >64.97</td>\n",
       "            </tr>\n",
       "            <tr>\n",
       "                        <th id=\"T_fe86a23e_80be_11ea_98df_d4ae52d07f78level0_row1\" class=\"row_heading level0 row1\" >PI<40%,1~4999</th>\n",
       "                        <td id=\"T_fe86a23e_80be_11ea_98df_d4ae52d07f78row1_col0\" class=\"data row1 col0\" >188.47</td>\n",
       "                        <td id=\"T_fe86a23e_80be_11ea_98df_d4ae52d07f78row1_col1\" class=\"data row1 col1\" >204.54</td>\n",
       "                        <td id=\"T_fe86a23e_80be_11ea_98df_d4ae52d07f78row1_col2\" class=\"data row1 col2\" >127.03</td>\n",
       "                        <td id=\"T_fe86a23e_80be_11ea_98df_d4ae52d07f78row1_col3\" class=\"data row1 col3\" >397.75</td>\n",
       "            </tr>\n",
       "            <tr>\n",
       "                        <th id=\"T_fe86a23e_80be_11ea_98df_d4ae52d07f78level0_row2\" class=\"row_heading level0 row2\" >PI<40%,>5000</th>\n",
       "                        <td id=\"T_fe86a23e_80be_11ea_98df_d4ae52d07f78row2_col0\" class=\"data row2 col0\" >1286.35</td>\n",
       "                        <td id=\"T_fe86a23e_80be_11ea_98df_d4ae52d07f78row2_col1\" class=\"data row2 col1\" >1434.81</td>\n",
       "                        <td id=\"T_fe86a23e_80be_11ea_98df_d4ae52d07f78row2_col2\" class=\"data row2 col2\" >797.65</td>\n",
       "                        <td id=\"T_fe86a23e_80be_11ea_98df_d4ae52d07f78row2_col3\" class=\"data row2 col3\" >1384.54</td>\n",
       "            </tr>\n",
       "            <tr>\n",
       "                        <th id=\"T_fe86a23e_80be_11ea_98df_d4ae52d07f78level0_row3\" class=\"row_heading level0 row3\" >PI>40%</th>\n",
       "                        <td id=\"T_fe86a23e_80be_11ea_98df_d4ae52d07f78row3_col0\" class=\"data row3 col0\" >35.12</td>\n",
       "                        <td id=\"T_fe86a23e_80be_11ea_98df_d4ae52d07f78row3_col1\" class=\"data row3 col1\" >56.74</td>\n",
       "                        <td id=\"T_fe86a23e_80be_11ea_98df_d4ae52d07f78row3_col2\" class=\"data row3 col2\" >27.7</td>\n",
       "                        <td id=\"T_fe86a23e_80be_11ea_98df_d4ae52d07f78row3_col3\" class=\"data row3 col3\" >50</td>\n",
       "            </tr>\n",
       "    </tbody></table>"
      ]
     },
     "metadata": {},
     "output_type": "display_data"
    }
   ],
   "source": [
    "gname, err_type = 'PI_type', 'RMSE'\n",
    "reorg_in_group_err(gname, err_type, fair_in_group_err)"
   ]
  },
  {
   "cell_type": "code",
   "execution_count": 366,
   "metadata": {
    "ExecuteTime": {
     "end_time": "2020-04-17T15:22:06.555678Z",
     "start_time": "2020-04-17T15:22:06.512228Z"
    },
    "cell_style": "center"
   },
   "outputs": [
    {
     "name": "stdout",
     "output_type": "stream",
     "text": [
      "income_group RMSE\n"
     ]
    },
    {
     "data": {
      "text/html": [
       "<style  type=\"text/css\" >\n",
       "</style><table id=\"T_32abe3ee_80bf_11ea_98df_d4ae52d07f78\" style='display:inline'><caption>test</caption><thead>    <tr>        <th class=\"blank level0\" ></th>        <th class=\"col_heading level0 col0\" >RFreg</th>        <th class=\"col_heading level0 col1\" >XGBreg</th>        <th class=\"col_heading level0 col2\" >BAGreg</th>        <th class=\"col_heading level0 col3\" >BayPois</th>    </tr></thead><tbody>\n",
       "                <tr>\n",
       "                        <th id=\"T_32abe3ee_80bf_11ea_98df_d4ae52d07f78level0_row0\" class=\"row_heading level0 row0\" >q1</th>\n",
       "                        <td id=\"T_32abe3ee_80bf_11ea_98df_d4ae52d07f78row0_col0\" class=\"data row0 col0\" >64.74</td>\n",
       "                        <td id=\"T_32abe3ee_80bf_11ea_98df_d4ae52d07f78row0_col1\" class=\"data row0 col1\" >29.59</td>\n",
       "                        <td id=\"T_32abe3ee_80bf_11ea_98df_d4ae52d07f78row0_col2\" class=\"data row0 col2\" >39.53</td>\n",
       "                        <td id=\"T_32abe3ee_80bf_11ea_98df_d4ae52d07f78row0_col3\" class=\"data row0 col3\" >26.76</td>\n",
       "            </tr>\n",
       "            <tr>\n",
       "                        <th id=\"T_32abe3ee_80bf_11ea_98df_d4ae52d07f78level0_row1\" class=\"row_heading level0 row1\" >q2</th>\n",
       "                        <td id=\"T_32abe3ee_80bf_11ea_98df_d4ae52d07f78row1_col0\" class=\"data row1 col0\" >167.33</td>\n",
       "                        <td id=\"T_32abe3ee_80bf_11ea_98df_d4ae52d07f78row1_col1\" class=\"data row1 col1\" >93.48</td>\n",
       "                        <td id=\"T_32abe3ee_80bf_11ea_98df_d4ae52d07f78row1_col2\" class=\"data row1 col2\" >93.74</td>\n",
       "                        <td id=\"T_32abe3ee_80bf_11ea_98df_d4ae52d07f78row1_col3\" class=\"data row1 col3\" >54.52</td>\n",
       "            </tr>\n",
       "            <tr>\n",
       "                        <th id=\"T_32abe3ee_80bf_11ea_98df_d4ae52d07f78level0_row2\" class=\"row_heading level0 row2\" >q3</th>\n",
       "                        <td id=\"T_32abe3ee_80bf_11ea_98df_d4ae52d07f78row2_col0\" class=\"data row2 col0\" >239.47</td>\n",
       "                        <td id=\"T_32abe3ee_80bf_11ea_98df_d4ae52d07f78row2_col1\" class=\"data row2 col1\" >225.37</td>\n",
       "                        <td id=\"T_32abe3ee_80bf_11ea_98df_d4ae52d07f78row2_col2\" class=\"data row2 col2\" >188.68</td>\n",
       "                        <td id=\"T_32abe3ee_80bf_11ea_98df_d4ae52d07f78row2_col3\" class=\"data row2 col3\" >224.38</td>\n",
       "            </tr>\n",
       "            <tr>\n",
       "                        <th id=\"T_32abe3ee_80bf_11ea_98df_d4ae52d07f78level0_row3\" class=\"row_heading level0 row3\" >q4</th>\n",
       "                        <td id=\"T_32abe3ee_80bf_11ea_98df_d4ae52d07f78row3_col0\" class=\"data row3 col0\" >1825.17</td>\n",
       "                        <td id=\"T_32abe3ee_80bf_11ea_98df_d4ae52d07f78row3_col1\" class=\"data row3 col1\" >1808.13</td>\n",
       "                        <td id=\"T_32abe3ee_80bf_11ea_98df_d4ae52d07f78row3_col2\" class=\"data row3 col2\" >1875.68</td>\n",
       "                        <td id=\"T_32abe3ee_80bf_11ea_98df_d4ae52d07f78row3_col3\" class=\"data row3 col3\" >791.47</td>\n",
       "            </tr>\n",
       "    </tbody></table><style  type=\"text/css\" >\n",
       "</style><table id=\"T_32ac5d6a_80bf_11ea_98df_d4ae52d07f78\" style='display:inline'><caption>train</caption><thead>    <tr>        <th class=\"blank level0\" ></th>        <th class=\"col_heading level0 col0\" >RFreg</th>        <th class=\"col_heading level0 col1\" >XGBreg</th>        <th class=\"col_heading level0 col2\" >BAGreg</th>        <th class=\"col_heading level0 col3\" >BayPois</th>    </tr></thead><tbody>\n",
       "                <tr>\n",
       "                        <th id=\"T_32ac5d6a_80bf_11ea_98df_d4ae52d07f78level0_row0\" class=\"row_heading level0 row0\" >q1</th>\n",
       "                        <td id=\"T_32ac5d6a_80bf_11ea_98df_d4ae52d07f78row0_col0\" class=\"data row0 col0\" >13.32</td>\n",
       "                        <td id=\"T_32ac5d6a_80bf_11ea_98df_d4ae52d07f78row0_col1\" class=\"data row0 col1\" >36.42</td>\n",
       "                        <td id=\"T_32ac5d6a_80bf_11ea_98df_d4ae52d07f78row0_col2\" class=\"data row0 col2\" >15.28</td>\n",
       "                        <td id=\"T_32ac5d6a_80bf_11ea_98df_d4ae52d07f78row0_col3\" class=\"data row0 col3\" >20.21</td>\n",
       "            </tr>\n",
       "            <tr>\n",
       "                        <th id=\"T_32ac5d6a_80bf_11ea_98df_d4ae52d07f78level0_row1\" class=\"row_heading level0 row1\" >q2</th>\n",
       "                        <td id=\"T_32ac5d6a_80bf_11ea_98df_d4ae52d07f78row1_col0\" class=\"data row1 col0\" >45.84</td>\n",
       "                        <td id=\"T_32ac5d6a_80bf_11ea_98df_d4ae52d07f78row1_col1\" class=\"data row1 col1\" >50.28</td>\n",
       "                        <td id=\"T_32ac5d6a_80bf_11ea_98df_d4ae52d07f78row1_col2\" class=\"data row1 col2\" >36.42</td>\n",
       "                        <td id=\"T_32ac5d6a_80bf_11ea_98df_d4ae52d07f78row1_col3\" class=\"data row1 col3\" >61.74</td>\n",
       "            </tr>\n",
       "            <tr>\n",
       "                        <th id=\"T_32ac5d6a_80bf_11ea_98df_d4ae52d07f78level0_row2\" class=\"row_heading level0 row2\" >q3</th>\n",
       "                        <td id=\"T_32ac5d6a_80bf_11ea_98df_d4ae52d07f78row2_col0\" class=\"data row2 col0\" >150.98</td>\n",
       "                        <td id=\"T_32ac5d6a_80bf_11ea_98df_d4ae52d07f78row2_col1\" class=\"data row2 col1\" >127.23</td>\n",
       "                        <td id=\"T_32ac5d6a_80bf_11ea_98df_d4ae52d07f78row2_col2\" class=\"data row2 col2\" >104.83</td>\n",
       "                        <td id=\"T_32ac5d6a_80bf_11ea_98df_d4ae52d07f78row2_col3\" class=\"data row2 col3\" >150.14</td>\n",
       "            </tr>\n",
       "            <tr>\n",
       "                        <th id=\"T_32ac5d6a_80bf_11ea_98df_d4ae52d07f78level0_row3\" class=\"row_heading level0 row3\" >q4</th>\n",
       "                        <td id=\"T_32ac5d6a_80bf_11ea_98df_d4ae52d07f78row3_col0\" class=\"data row3 col0\" >1015.11</td>\n",
       "                        <td id=\"T_32ac5d6a_80bf_11ea_98df_d4ae52d07f78row3_col1\" class=\"data row3 col1\" >1134.53</td>\n",
       "                        <td id=\"T_32ac5d6a_80bf_11ea_98df_d4ae52d07f78row3_col2\" class=\"data row3 col2\" >632.69</td>\n",
       "                        <td id=\"T_32ac5d6a_80bf_11ea_98df_d4ae52d07f78row3_col3\" class=\"data row3 col3\" >1228.95</td>\n",
       "            </tr>\n",
       "    </tbody></table>"
      ]
     },
     "metadata": {},
     "output_type": "display_data"
    }
   ],
   "source": [
    "gname, err_type = 'income_group', 'RMSE'\n",
    "reorg_in_group_err(gname, err_type, fair_in_group_err)"
   ]
  },
  {
   "cell_type": "code",
   "execution_count": 109,
   "metadata": {
    "ExecuteTime": {
     "end_time": "2020-04-15T14:42:13.127012Z",
     "start_time": "2020-04-15T14:42:12.896193Z"
    }
   },
   "outputs": [
    {
     "data": {
      "text/plain": [
       "<matplotlib.axes._subplots.AxesSubplot at 0x7f9cc68e8d68>"
      ]
     },
     "execution_count": 109,
     "metadata": {},
     "output_type": "execute_result"
    },
    {
     "data": {
      "image/png": "[encoded data removed]",
      "text/plain": [
       "<Figure size 432x288 with 1 Axes>"
      ]
     },
     "metadata": {
      "needs_background": "light"
     },
     "output_type": "display_data"
    }
   ],
   "source": [
    "test_eval.sort_values('true')[['true', 'BAGreg','BayPois']].reset_index(drop=True).plot()"
   ]
  },
  {
   "cell_type": "code",
   "execution_count": null,
   "metadata": {},
   "outputs": [],
   "source": []
  },
  {
   "cell_type": "code",
   "execution_count": 75,
   "metadata": {
    "ExecuteTime": {
     "end_time": "2020-04-15T02:18:48.210558Z",
     "start_time": "2020-04-15T02:18:48.169892Z"
    },
    "cell_style": "center"
   },
   "outputs": [
    {
     "name": "stdout",
     "output_type": "stream",
     "text": [
      "income_group MAE\n"
     ]
    },
    {
     "data": {
      "text/html": [
       "<style  type=\"text/css\" >\n",
       "</style><table id=\"T_70a62ba2_7ebf_11ea_98df_d4ae52d07f78\" style='display:inline'><caption>test</caption><thead>    <tr>        <th class=\"blank level0\" ></th>        <th class=\"col_heading level0 col0\" >RFreg</th>        <th class=\"col_heading level0 col1\" >XGBreg</th>        <th class=\"col_heading level0 col2\" >BAGreg</th>        <th class=\"col_heading level0 col3\" >BayPois</th>    </tr></thead><tbody>\n",
       "                <tr>\n",
       "                        <th id=\"T_70a62ba2_7ebf_11ea_98df_d4ae52d07f78level0_row0\" class=\"row_heading level0 row0\" >q1</th>\n",
       "                        <td id=\"T_70a62ba2_7ebf_11ea_98df_d4ae52d07f78row0_col0\" class=\"data row0 col0\" >15.25</td>\n",
       "                        <td id=\"T_70a62ba2_7ebf_11ea_98df_d4ae52d07f78row0_col1\" class=\"data row0 col1\" >15.98</td>\n",
       "                        <td id=\"T_70a62ba2_7ebf_11ea_98df_d4ae52d07f78row0_col2\" class=\"data row0 col2\" >18.78</td>\n",
       "                        <td id=\"T_70a62ba2_7ebf_11ea_98df_d4ae52d07f78row0_col3\" class=\"data row0 col3\" >11.32</td>\n",
       "            </tr>\n",
       "            <tr>\n",
       "                        <th id=\"T_70a62ba2_7ebf_11ea_98df_d4ae52d07f78level0_row1\" class=\"row_heading level0 row1\" >q2</th>\n",
       "                        <td id=\"T_70a62ba2_7ebf_11ea_98df_d4ae52d07f78row1_col0\" class=\"data row1 col0\" >40.77</td>\n",
       "                        <td id=\"T_70a62ba2_7ebf_11ea_98df_d4ae52d07f78row1_col1\" class=\"data row1 col1\" >35.66</td>\n",
       "                        <td id=\"T_70a62ba2_7ebf_11ea_98df_d4ae52d07f78row1_col2\" class=\"data row1 col2\" >47.55</td>\n",
       "                        <td id=\"T_70a62ba2_7ebf_11ea_98df_d4ae52d07f78row1_col3\" class=\"data row1 col3\" >28.82</td>\n",
       "            </tr>\n",
       "            <tr>\n",
       "                        <th id=\"T_70a62ba2_7ebf_11ea_98df_d4ae52d07f78level0_row2\" class=\"row_heading level0 row2\" >q3</th>\n",
       "                        <td id=\"T_70a62ba2_7ebf_11ea_98df_d4ae52d07f78row2_col0\" class=\"data row2 col0\" >100.36</td>\n",
       "                        <td id=\"T_70a62ba2_7ebf_11ea_98df_d4ae52d07f78row2_col1\" class=\"data row2 col1\" >90.39</td>\n",
       "                        <td id=\"T_70a62ba2_7ebf_11ea_98df_d4ae52d07f78row2_col2\" class=\"data row2 col2\" >105.54</td>\n",
       "                        <td id=\"T_70a62ba2_7ebf_11ea_98df_d4ae52d07f78row2_col3\" class=\"data row2 col3\" >64.02</td>\n",
       "            </tr>\n",
       "            <tr>\n",
       "                        <th id=\"T_70a62ba2_7ebf_11ea_98df_d4ae52d07f78level0_row3\" class=\"row_heading level0 row3\" >q4</th>\n",
       "                        <td id=\"T_70a62ba2_7ebf_11ea_98df_d4ae52d07f78row3_col0\" class=\"data row3 col0\" >646.83</td>\n",
       "                        <td id=\"T_70a62ba2_7ebf_11ea_98df_d4ae52d07f78row3_col1\" class=\"data row3 col1\" >695.09</td>\n",
       "                        <td id=\"T_70a62ba2_7ebf_11ea_98df_d4ae52d07f78row3_col2\" class=\"data row3 col2\" >647.71</td>\n",
       "                        <td id=\"T_70a62ba2_7ebf_11ea_98df_d4ae52d07f78row3_col3\" class=\"data row3 col3\" >522.91</td>\n",
       "            </tr>\n",
       "    </tbody></table><style  type=\"text/css\" >\n",
       "</style><table id=\"T_70a69f6a_7ebf_11ea_98df_d4ae52d07f78\" style='display:inline'><caption>train</caption><thead>    <tr>        <th class=\"blank level0\" ></th>        <th class=\"col_heading level0 col0\" >RFreg</th>        <th class=\"col_heading level0 col1\" >XGBreg</th>        <th class=\"col_heading level0 col2\" >BAGreg</th>        <th class=\"col_heading level0 col3\" >BayPois</th>    </tr></thead><tbody>\n",
       "                <tr>\n",
       "                        <th id=\"T_70a69f6a_7ebf_11ea_98df_d4ae52d07f78level0_row0\" class=\"row_heading level0 row0\" >q1</th>\n",
       "                        <td id=\"T_70a69f6a_7ebf_11ea_98df_d4ae52d07f78row0_col0\" class=\"data row0 col0\" >21.08</td>\n",
       "                        <td id=\"T_70a69f6a_7ebf_11ea_98df_d4ae52d07f78row0_col1\" class=\"data row0 col1\" >14.42</td>\n",
       "                        <td id=\"T_70a69f6a_7ebf_11ea_98df_d4ae52d07f78row0_col2\" class=\"data row0 col2\" >12.66</td>\n",
       "                        <td id=\"T_70a69f6a_7ebf_11ea_98df_d4ae52d07f78row0_col3\" class=\"data row0 col3\" >13.41</td>\n",
       "            </tr>\n",
       "            <tr>\n",
       "                        <th id=\"T_70a69f6a_7ebf_11ea_98df_d4ae52d07f78level0_row1\" class=\"row_heading level0 row1\" >q2</th>\n",
       "                        <td id=\"T_70a69f6a_7ebf_11ea_98df_d4ae52d07f78row1_col0\" class=\"data row1 col0\" >36.87</td>\n",
       "                        <td id=\"T_70a69f6a_7ebf_11ea_98df_d4ae52d07f78row1_col1\" class=\"data row1 col1\" >28.03</td>\n",
       "                        <td id=\"T_70a69f6a_7ebf_11ea_98df_d4ae52d07f78row1_col2\" class=\"data row1 col2\" >19.58</td>\n",
       "                        <td id=\"T_70a69f6a_7ebf_11ea_98df_d4ae52d07f78row1_col3\" class=\"data row1 col3\" >34.68</td>\n",
       "            </tr>\n",
       "            <tr>\n",
       "                        <th id=\"T_70a69f6a_7ebf_11ea_98df_d4ae52d07f78level0_row2\" class=\"row_heading level0 row2\" >q3</th>\n",
       "                        <td id=\"T_70a69f6a_7ebf_11ea_98df_d4ae52d07f78row2_col0\" class=\"data row2 col0\" >68.68</td>\n",
       "                        <td id=\"T_70a69f6a_7ebf_11ea_98df_d4ae52d07f78row2_col1\" class=\"data row2 col1\" >58.66</td>\n",
       "                        <td id=\"T_70a69f6a_7ebf_11ea_98df_d4ae52d07f78row2_col2\" class=\"data row2 col2\" >48.83</td>\n",
       "                        <td id=\"T_70a69f6a_7ebf_11ea_98df_d4ae52d07f78row2_col3\" class=\"data row2 col3\" >100.99</td>\n",
       "            </tr>\n",
       "            <tr>\n",
       "                        <th id=\"T_70a69f6a_7ebf_11ea_98df_d4ae52d07f78level0_row3\" class=\"row_heading level0 row3\" >q4</th>\n",
       "                        <td id=\"T_70a69f6a_7ebf_11ea_98df_d4ae52d07f78row3_col0\" class=\"data row3 col0\" >368.94</td>\n",
       "                        <td id=\"T_70a69f6a_7ebf_11ea_98df_d4ae52d07f78row3_col1\" class=\"data row3 col1\" >417.73</td>\n",
       "                        <td id=\"T_70a69f6a_7ebf_11ea_98df_d4ae52d07f78row3_col2\" class=\"data row3 col2\" >247.54</td>\n",
       "                        <td id=\"T_70a69f6a_7ebf_11ea_98df_d4ae52d07f78row3_col3\" class=\"data row3 col3\" >547.28</td>\n",
       "            </tr>\n",
       "    </tbody></table>"
      ]
     },
     "metadata": {},
     "output_type": "display_data"
    }
   ],
   "source": [
    "gname, err_type = 'income_group', 'MAE'\n",
    "reorg_in_group_err(gname, err_type, fair_in_group_err)"
   ]
  }
 ],
 "metadata": {
  "kernelspec": {
   "display_name": "Python [conda env:mob2crime]",
   "language": "python",
   "name": "conda-env-mob2crime-py"
  },
  "language_info": {
   "codemirror_mode": {
    "name": "ipython",
    "version": 3
   },
   "file_extension": ".py",
   "mimetype": "text/x-python",
   "name": "python",
   "nbconvert_exporter": "python",
   "pygments_lexer": "ipython3",
   "version": "3.7.3"
  },
  "toc": {
   "base_numbering": 1,
   "nav_menu": {},
   "number_sections": true,
   "sideBar": true,
   "skip_h1_title": false,
   "title_cell": "Table of Contents",
   "title_sidebar": "Contents",
   "toc_cell": false,
   "toc_position": {
    "height": "calc(100% - 180px)",
    "left": "10px",
    "top": "150px",
    "width": "299.261px"
   },
   "toc_section_display": true,
   "toc_window_display": true
  },
  "varInspector": {
   "cols": {
    "lenName": 16,
    "lenType": 16,
    "lenVar": 40
   },
   "kernels_config": {
    "python": {
     "delete_cmd_postfix": "",
     "delete_cmd_prefix": "del ",
     "library": "var_list.py",
     "varRefreshCmd": "print(var_dic_list())"
    },
    "r": {
     "delete_cmd_postfix": ") ",
     "delete_cmd_prefix": "rm(",
     "library": "var_list.r",
     "varRefreshCmd": "cat(var_dic_list()) "
    }
   },
   "types_to_exclude": [
    "module",
    "function",
    "builtin_function_or_method",
    "instance",
    "_Feature"
   ],
   "window_display": false
  }
 },
 "nbformat": 4,
 "nbformat_minor": 2
}
