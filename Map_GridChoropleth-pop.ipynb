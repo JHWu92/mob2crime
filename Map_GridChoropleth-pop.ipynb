{
 "cells": [
  {
   "cell_type": "code",
   "execution_count": 1,
   "metadata": {
    "ExecuteTime": {
     "end_time": "2019-09-16T21:11:54.341110Z",
     "start_time": "2019-09-16T21:11:54.322428Z"
    },
    "cell_style": "split"
   },
   "outputs": [],
   "source": [
    "% load_ext autoreload\n",
    "% autoreload 2\n"
   ]
  },
  {
   "cell_type": "code",
   "execution_count": 2,
   "metadata": {
    "ExecuteTime": {
     "end_time": "2019-09-16T21:11:55.302752Z",
     "start_time": "2019-09-16T21:11:54.343673Z"
    },
    "cell_style": "split"
   },
   "outputs": [],
   "source": [
    "import glob\n",
    "import os\n",
    "import pandas as pd\n",
    "from collections import defaultdict\n",
    "import datetime\n",
    "import src.mex_helper as mex\n",
    "import folium\n",
    "from src.utils.map_vis import time_slider_choropleth, geojson_per_row"
   ]
  },
  {
   "cell_type": "markdown",
   "metadata": {},
   "source": [
    "# average over weekday and weekend"
   ]
  },
  {
   "cell_type": "code",
   "execution_count": 3,
   "metadata": {
    "ExecuteTime": {
     "end_time": "2019-09-16T21:11:55.318921Z",
     "start_time": "2019-09-16T21:11:55.304748Z"
    }
   },
   "outputs": [],
   "source": [
    "call_direction = 'out+in'"
   ]
  },
  {
   "cell_type": "code",
   "execution_count": 4,
   "metadata": {
    "ExecuteTime": {
     "end_time": "2019-09-16T21:11:56.828706Z",
     "start_time": "2019-09-16T21:11:55.323833Z"
    },
    "cell_style": "split"
   },
   "outputs": [
    {
     "name": "stdout",
     "output_type": "stream",
     "text": [
      "loading cached tw average stats/stat_tw_dow_aver_hr_uniq_user-out+in.pickle\n",
      "CPU times: user 1.42 s, sys: 40 ms, total: 1.46 s\n",
      "Wall time: 1.44 s\n"
     ]
    }
   ],
   "source": [
    "%%time\n",
    "aver = mex.stat_tw_dow_aver_hr_uniq_user(call_direction)"
   ]
  },
  {
   "cell_type": "code",
   "execution_count": 5,
   "metadata": {
    "ExecuteTime": {
     "end_time": "2019-09-16T21:11:57.353431Z",
     "start_time": "2019-09-16T21:11:56.830288Z"
    },
    "cell_style": "split"
   },
   "outputs": [],
   "source": [
    "tw_avg_wd = pd.DataFrame(aver['wd']).T\n",
    "tw_avg_wk = pd.DataFrame(aver['wk']).T"
   ]
  },
  {
   "cell_type": "markdown",
   "metadata": {
    "cell_style": "center",
    "heading_collapsed": true
   },
   "source": [
    "## difference between use out+in and only out is small"
   ]
  },
  {
   "cell_type": "code",
   "execution_count": 6,
   "metadata": {
    "ExecuteTime": {
     "end_time": "2019-01-21T21:38:57.797352Z",
     "start_time": "2019-01-21T21:38:56.320976Z"
    },
    "cell_style": "split",
    "hidden": true
   },
   "outputs": [
    {
     "name": "stdout",
     "output_type": "stream",
     "text": [
      "loading cached tw average stats/stat_tw_dow_aver_hr_uniq_user-out.pickle\n"
     ]
    }
   ],
   "source": [
    "aver_out = mex.stat_tw_dow_aver_hr_uniq_user('out')"
   ]
  },
  {
   "cell_type": "code",
   "execution_count": 7,
   "metadata": {
    "cell_style": "split",
    "hidden": true
   },
   "outputs": [],
   "source": [
    "div = tw_avg_wd/pd.DataFrame(aver_out['wd']).T"
   ]
  },
  {
   "cell_type": "code",
   "execution_count": 8,
   "metadata": {
    "cell_style": "split",
    "hidden": true
   },
   "outputs": [
    {
     "data": {
      "text/plain": [
       "<matplotlib.axes._subplots.AxesSubplot at 0x7f3b142fec18>"
      ]
     },
     "execution_count": 8,
     "metadata": {},
     "output_type": "execute_result"
    },
    {
     "data": {
      "image/png": "[encoded data removed]",
      "text/plain": [
       "<Figure size 432x288 with 1 Axes>"
      ]
     },
     "metadata": {},
     "output_type": "display_data"
    }
   ],
   "source": [
    "%matplotlib inline\n",
    "series = pd.Series(div.values.flatten())\n",
    "series[series<1].plot(kind='hist')"
   ]
  },
  {
   "cell_type": "markdown",
   "metadata": {},
   "source": [
    "# distribute tower stats to grids"
   ]
  },
  {
   "cell_type": "code",
   "execution_count": 40,
   "metadata": {
    "ExecuteTime": {
     "end_time": "2019-09-16T21:36:59.130349Z",
     "start_time": "2019-09-16T21:36:58.662131Z"
    }
   },
   "outputs": [],
   "source": [
    "# rkind = 'cities'\n",
    "# rname='city'\n",
    "# rname='urban'\n",
    "# rkind = 'urban_areas_16'\n",
    "# rkind = 'mpa_all_uba'\n",
    "\n",
    "rname='metropolitan'\n",
    "# rkind = 'metropolitans_16'\n",
    "rkind='metropolitans_all'\n",
    "\n",
    "gside=1000\n",
    "loc_buffer = 500\n",
    "\n",
    "hotspot_type = 'average'\n",
    "hotspot_type = 'loubar'\n",
    "\n",
    "# wrong\n",
    "# t2loc=mex.tower2loc_by_pop()\n",
    "# loc2grid = mex.loc2grid_by_area(rkind, gside, loc_buffer=500)\n",
    "\n",
    "t2l2g = mex.tower2loc2grid(loc_buffer, rkind, gside)"
   ]
  },
  {
   "cell_type": "code",
   "execution_count": 41,
   "metadata": {
    "ExecuteTime": {
     "end_time": "2019-09-16T21:36:59.763783Z",
     "start_time": "2019-09-16T21:36:59.719309Z"
    }
   },
   "outputs": [
    {
     "name": "stdout",
     "output_type": "stream",
     "text": [
      "number of towers in cities has no call at all during weekday and weekend 323 347\n"
     ]
    }
   ],
   "source": [
    "print(\n",
    "    'number of towers in cities has no call at all during weekday and weekend',\n",
    "    len(set(t2l2g.tower) - set(tw_avg_wd.index)),\n",
    "    len(set(t2l2g.tower) - set(tw_avg_wk.index))\n",
    ")"
   ]
  },
  {
   "cell_type": "code",
   "execution_count": 42,
   "metadata": {
    "ExecuteTime": {
     "end_time": "2019-09-16T21:37:00.073284Z",
     "start_time": "2019-09-16T21:36:59.981350Z"
    },
    "scrolled": true
   },
   "outputs": [],
   "source": [
    "t2g = t2l2g.groupby(['grid','tower']).weight.sum().reset_index()"
   ]
  },
  {
   "cell_type": "code",
   "execution_count": 43,
   "metadata": {
    "ExecuteTime": {
     "end_time": "2019-09-16T21:37:00.469737Z",
     "start_time": "2019-09-16T21:37:00.439625Z"
    },
    "code_folding": []
   },
   "outputs": [],
   "source": [
    "def grid_avgerage(tw_avg, t2g):\n",
    "    # there are grids without any call throughout the observation period\n",
    "#     print('grid_average')\n",
    "    g_avg = t2g.merge(tw_avg, left_on='tower', right_index=True, how='left')\n",
    "    \n",
    "    for h in range(24):\n",
    "        h = str(h)\n",
    "        g_avg[h] = g_avg[h] * g_avg['weight']\n",
    "\n",
    "    g_avg = g_avg[['grid','tower']+[str(h) for h in range(24)]].groupby('grid').sum()  # fillna=0 by default\n",
    "\n",
    "    return g_avg"
   ]
  },
  {
   "cell_type": "code",
   "execution_count": 44,
   "metadata": {
    "ExecuteTime": {
     "end_time": "2019-09-16T21:37:00.957823Z",
     "start_time": "2019-09-16T21:37:00.758972Z"
    }
   },
   "outputs": [],
   "source": [
    "g_avg_wd = grid_avgerage(tw_avg_wd, t2g)\n",
    "g_avg_wk = grid_avgerage(tw_avg_wk, t2g)"
   ]
  },
  {
   "cell_type": "markdown",
   "metadata": {},
   "source": [
    "# visualize by hour each city"
   ]
  },
  {
   "cell_type": "code",
   "execution_count": 45,
   "metadata": {
    "ExecuteTime": {
     "end_time": "2019-09-16T21:37:01.712057Z",
     "start_time": "2019-09-16T21:37:01.679979Z"
    }
   },
   "outputs": [],
   "source": [
    "from src.utils import loubar_thres\n",
    "import numpy as np\n",
    "def keep_hotspot(avg):\n",
    "    for h in avg:\n",
    "        arr = avg[h]\n",
    "        if hotspot_type=='loubar':\n",
    "            _, arr_thres = loubar_thres(arr, is_sorted=False)\n",
    "        elif hotspot_type=='average':\n",
    "            arr_thres = np.mean(arr)\n",
    "        else:\n",
    "            raise ValueError('hotspot type', hotspot_type,'not implemented')\n",
    "        avg[h][avg[h] <= arr_thres] = 0\n",
    "        # print(h, loubar, arr_thres)\n",
    "    return avg\n"
   ]
  },
  {
   "cell_type": "code",
   "execution_count": 46,
   "metadata": {
    "ExecuteTime": {
     "end_time": "2019-09-16T21:37:19.349302Z",
     "start_time": "2019-09-16T21:37:02.174143Z"
    }
   },
   "outputs": [
    {
     "name": "stdout",
     "output_type": "stream",
     "text": [
      "reading existing grids\n"
     ]
    }
   ],
   "source": [
    "mex_grids = mex.grids(rkind, gside)"
   ]
  },
  {
   "cell_type": "code",
   "execution_count": 47,
   "metadata": {
    "ExecuteTime": {
     "end_time": "2019-09-16T21:37:19.365517Z",
     "start_time": "2019-09-16T21:37:19.351316Z"
    }
   },
   "outputs": [],
   "source": [
    "fake_dates = [f\"1971-01-{i:02}\" for i in range(1,25)]"
   ]
  },
  {
   "cell_type": "code",
   "execution_count": 48,
   "metadata": {
    "ExecuteTime": {
     "end_time": "2019-09-16T21:37:20.048739Z",
     "start_time": "2019-09-16T21:37:19.366987Z"
    }
   },
   "outputs": [
    {
     "name": "stdout",
     "output_type": "stream",
     "text": [
      "rkind: metropolitans_all\n"
     ]
    }
   ],
   "source": [
    "print('rkind:', rkind)\n",
    "mex_regions = mex.regions(rkind)"
   ]
  },
  {
   "cell_type": "markdown",
   "metadata": {},
   "source": [
    "## all grids"
   ]
  },
  {
   "cell_type": "code",
   "execution_count": 34,
   "metadata": {
    "ExecuteTime": {
     "end_time": "2019-09-16T21:24:40.124145Z",
     "start_time": "2019-09-16T21:23:20.061886Z"
    }
   },
   "outputs": [
    {
     "name": "stdout",
     "output_type": "stream",
     "text": [
      "metropolitans_all metropolitan\n",
      "day of week: wd\n",
      "day of week: wk\n",
      "CPU times: user 1min 19s, sys: 76 ms, total: 1min 19s\n",
      "Wall time: 1min 20s\n"
     ]
    }
   ],
   "source": [
    "%%time\n",
    "print(rkind, rname)\n",
    "for dow, g_avg in [('wd', g_avg_wd), ('wk',g_avg_wk)]:\n",
    "    print('day of week:', dow)\n",
    "    for c in mex_regions.index[[0]]:\n",
    "#         if 'Tecomán' not in c:\n",
    "#             continue\n",
    "        lon,lat = mex_regions.loc[c].geometry.centroid.coords[0]\n",
    "        gc = mex_grids[mex_grids[rname]==c]\n",
    "        gc_avg = g_avg.reindex(set(gc.grid)&set(g_avg.index)).sort_index()\n",
    "        values = gc_avg.T.to_dict('list')\n",
    "        some_map = folium.Map(location=[lat,lon], zoom_start=10)\n",
    "        time_slider_choropleth(gc, values, fake_dates, color_per_day=True).add_to(some_map)\n",
    "        some_map.save(f'maps-v0908/MexGridChoropleth-{call_direction}-{rkind}/{c}_{dow}-Pop.html')"
   ]
  },
  {
   "cell_type": "markdown",
   "metadata": {},
   "source": [
    "## keep hotspot only"
   ]
  },
  {
   "cell_type": "code",
   "execution_count": 34,
   "metadata": {
    "ExecuteTime": {
     "end_time": "2019-09-09T02:53:01.842216Z",
     "start_time": "2019-09-09T02:53:01.721290Z"
    },
    "collapsed": true
   },
   "outputs": [
    {
     "name": "stdout",
     "output_type": "stream",
     "text": [
      "day of week: wd\n"
     ]
    },
    {
     "name": "stderr",
     "output_type": "stream",
     "text": [
      "/home/Jiahui/miniconda3/lib/python3.6/site-packages/ipykernel/__main__.py:6: FutureWarning: \n",
      "Passing list-likes to .loc or [] with any missing label will raise\n",
      "KeyError in the future, you can use .reindex() as an alternative.\n",
      "\n",
      "See the documentation here:\n",
      "https://pandas.pydata.org/pandas-docs/stable/indexing.html#deprecate-loc-reindex-listlike\n"
     ]
    },
    {
     "ename": "ValueError",
     "evalue": "cannot convert float NaN to integer",
     "output_type": "error",
     "traceback": [
      "\u001b[0;31m---------------------------------------------------------------------------\u001b[0m",
      "\u001b[0;31mValueError\u001b[0m                                Traceback (most recent call last)",
      "\u001b[0;32m<timed exec>\u001b[0m in \u001b[0;36m<module>\u001b[0;34m()\u001b[0m\n",
      "\u001b[0;32m<ipython-input-24-1fd2760869a4>\u001b[0m in \u001b[0;36mkeep_hotspot\u001b[0;34m(avg)\u001b[0m\n\u001b[1;32m      5\u001b[0m         \u001b[0marr\u001b[0m \u001b[0;34m=\u001b[0m \u001b[0mavg\u001b[0m\u001b[0;34m[\u001b[0m\u001b[0mh\u001b[0m\u001b[0;34m]\u001b[0m\u001b[0;34m\u001b[0m\u001b[0m\n\u001b[1;32m      6\u001b[0m         \u001b[0;32mif\u001b[0m \u001b[0mhotspot_type\u001b[0m\u001b[0;34m==\u001b[0m\u001b[0;34m'loubar'\u001b[0m\u001b[0;34m:\u001b[0m\u001b[0;34m\u001b[0m\u001b[0m\n\u001b[0;32m----> 7\u001b[0;31m             \u001b[0m_\u001b[0m\u001b[0;34m,\u001b[0m \u001b[0marr_thres\u001b[0m \u001b[0;34m=\u001b[0m \u001b[0mloubar_thres\u001b[0m\u001b[0;34m(\u001b[0m\u001b[0marr\u001b[0m\u001b[0;34m,\u001b[0m \u001b[0mis_sorted\u001b[0m\u001b[0;34m=\u001b[0m\u001b[0;32mFalse\u001b[0m\u001b[0;34m)\u001b[0m\u001b[0;34m\u001b[0m\u001b[0m\n\u001b[0m\u001b[1;32m      8\u001b[0m         \u001b[0;32melif\u001b[0m \u001b[0mhotspot_type\u001b[0m\u001b[0;34m==\u001b[0m\u001b[0;34m'average'\u001b[0m\u001b[0;34m:\u001b[0m\u001b[0;34m\u001b[0m\u001b[0m\n\u001b[1;32m      9\u001b[0m             \u001b[0marr_thres\u001b[0m \u001b[0;34m=\u001b[0m \u001b[0mnp\u001b[0m\u001b[0;34m.\u001b[0m\u001b[0mmean\u001b[0m\u001b[0;34m(\u001b[0m\u001b[0marr\u001b[0m\u001b[0;34m)\u001b[0m\u001b[0;34m\u001b[0m\u001b[0m\n",
      "\u001b[0;32m~/mob2crime/src/utils/__init__.py\u001b[0m in \u001b[0;36mloubar_thres\u001b[0;34m(arr, is_sorted)\u001b[0m\n\u001b[1;32m     20\u001b[0m     \u001b[0mslope\u001b[0m \u001b[0;34m=\u001b[0m \u001b[0;34m(\u001b[0m\u001b[0mlonrenz_y\u001b[0m\u001b[0;34m[\u001b[0m\u001b[0;34m-\u001b[0m\u001b[0;36m1\u001b[0m\u001b[0;34m]\u001b[0m \u001b[0;34m-\u001b[0m \u001b[0mlonrenz_y\u001b[0m\u001b[0;34m[\u001b[0m\u001b[0;34m-\u001b[0m\u001b[0;36m2\u001b[0m\u001b[0;34m]\u001b[0m\u001b[0;34m)\u001b[0m \u001b[0;34m/\u001b[0m \u001b[0;34m(\u001b[0m\u001b[0mx_axis\u001b[0m\u001b[0;34m[\u001b[0m\u001b[0;34m-\u001b[0m\u001b[0;36m1\u001b[0m\u001b[0;34m]\u001b[0m \u001b[0;34m-\u001b[0m \u001b[0mx_axis\u001b[0m\u001b[0;34m[\u001b[0m\u001b[0;34m-\u001b[0m\u001b[0;36m2\u001b[0m\u001b[0;34m]\u001b[0m\u001b[0;34m)\u001b[0m\u001b[0;34m\u001b[0m\u001b[0m\n\u001b[1;32m     21\u001b[0m     \u001b[0mloubar\u001b[0m \u001b[0;34m=\u001b[0m \u001b[0;34m(\u001b[0m\u001b[0mslope\u001b[0m \u001b[0;34m-\u001b[0m \u001b[0;36m1\u001b[0m\u001b[0;34m)\u001b[0m \u001b[0;34m/\u001b[0m \u001b[0mslope\u001b[0m\u001b[0;34m\u001b[0m\u001b[0m\n\u001b[0;32m---> 22\u001b[0;31m     \u001b[0marr_thres\u001b[0m \u001b[0;34m=\u001b[0m \u001b[0marr\u001b[0m\u001b[0;34m[\u001b[0m\u001b[0mint\u001b[0m\u001b[0;34m(\u001b[0m\u001b[0mnp\u001b[0m\u001b[0;34m.\u001b[0m\u001b[0mceil\u001b[0m\u001b[0;34m(\u001b[0m\u001b[0;34m(\u001b[0m\u001b[0mlonrenz_y\u001b[0m\u001b[0;34m.\u001b[0m\u001b[0msize\u001b[0m \u001b[0;34m-\u001b[0m \u001b[0;36m1\u001b[0m\u001b[0;34m)\u001b[0m \u001b[0;34m*\u001b[0m \u001b[0mloubar\u001b[0m\u001b[0;34m)\u001b[0m \u001b[0;34m-\u001b[0m \u001b[0;36m1\u001b[0m\u001b[0;34m)\u001b[0m\u001b[0;34m]\u001b[0m\u001b[0;34m\u001b[0m\u001b[0m\n\u001b[0m\u001b[1;32m     23\u001b[0m \u001b[0;34m\u001b[0m\u001b[0m\n\u001b[1;32m     24\u001b[0m     \u001b[0;32mreturn\u001b[0m \u001b[0mloubar\u001b[0m\u001b[0;34m,\u001b[0m \u001b[0marr_thres\u001b[0m\u001b[0;34m\u001b[0m\u001b[0m\n",
      "\u001b[0;31mValueError\u001b[0m: cannot convert float NaN to integer"
     ]
    }
   ],
   "source": [
    "%%time\n",
    "for dow, g_avg in [('wd', g_avg_wd), ('wk',g_avg_wk)]:\n",
    "    print('day of week:', dow)\n",
    "    for c in mex_regions.index:\n",
    "        lon,lat = mex_regions.loc[c].geometry.centroid.coords[0]\n",
    "        gc = mex_grids[mex_grids[rname]==c]\n",
    "        gc_avg = g_avg.loc[gc.grid].copy()\n",
    "        keep_hotspot(gc_avg)\n",
    "        values = gc_avg.T.to_dict('list')\n",
    "        some_map = folium.Map(location=[lat,lon], zoom_start=10)\n",
    "        time_slider_choropleth(gc, values, fake_dates, color_per_day=True).add_to(some_map)\n",
    "#         break\n",
    "        some_map.save(f'maps-v0908/MexGridChoroplethHotSpot-{call_direction}-{rkind}/{c}_{dow}-Pop.html')\n",
    "#     break"
   ]
  },
  {
   "cell_type": "markdown",
   "metadata": {},
   "source": [
    "## hotspot persistency"
   ]
  },
  {
   "cell_type": "code",
   "execution_count": 49,
   "metadata": {
    "ExecuteTime": {
     "end_time": "2019-09-16T21:37:20.114281Z",
     "start_time": "2019-09-16T21:37:20.050471Z"
    }
   },
   "outputs": [],
   "source": [
    "from branca.colormap import linear\n",
    "cmap = linear.Reds_09.scale(0,24)"
   ]
  },
  {
   "cell_type": "code",
   "execution_count": 50,
   "metadata": {
    "ExecuteTime": {
     "end_time": "2019-09-16T21:37:43.312451Z",
     "start_time": "2019-09-16T21:37:20.554483Z"
    }
   },
   "outputs": [
    {
     "name": "stdout",
     "output_type": "stream",
     "text": [
      "day of week: wd\n"
     ]
    },
    {
     "name": "stderr",
     "output_type": "stream",
     "text": [
      "/home/Jiahui/miniconda3/lib/python3.6/site-packages/ipykernel/__main__.py:10: FutureWarning: \n",
      "Passing list-likes to .loc or [] with any missing label will raise\n",
      "KeyError in the future, you can use .reindex() as an alternative.\n",
      "\n",
      "See the documentation here:\n",
      "https://pandas.pydata.org/pandas-docs/stable/indexing.html#deprecate-loc-reindex-listlike\n"
     ]
    },
    {
     "name": "stdout",
     "output_type": "stream",
     "text": [
      "day of week: wk\n",
      "CPU times: user 22.7 s, sys: 36 ms, total: 22.8 s\n",
      "Wall time: 22.7 s\n"
     ]
    }
   ],
   "source": [
    "%%time\n",
    "for dow, g_avg in [('wd', g_avg_wd), ('wk',g_avg_wk)]:\n",
    "    print('day of week:', dow)\n",
    "    \n",
    "    some_map = folium.Map(location=[mex.CLAT,mex.CLON], zoom_start=8)\n",
    "    \n",
    "    for c in mex_regions.index:\n",
    "        cgeom=mex_regions.loc[c].geometry\n",
    "        lon,lat = cgeom.centroid.coords[0]\n",
    "        gc = mex_grids[mex_grids[rname]==c].copy()\n",
    "        gc_avg = g_avg.loc[gc.grid].copy()\n",
    "        # there could be grids with no call\n",
    "        gc_avg.fillna(0,inplace=True)\n",
    "        keep_hotspot(gc_avg)\n",
    "        gc['persistency'] = (gc_avg!=0).sum(axis=1)\n",
    "        gc = gc[gc.persistency!=0]\n",
    "        gc = gc.append({'grid':-1, 'geometry':cgeom, 'persistency':0},ignore_index=True).sort_values('grid')\n",
    "        gjson = gc[['grid','persistency','geometry']].to_json()\n",
    "        folium.GeoJson(\n",
    "            gjson,\n",
    "            name=c,\n",
    "            style_function=lambda feature: {\n",
    "                'fillColor': cmap(feature['properties']['persistency']),\n",
    "                'color': 'black',\n",
    "                'weight': 1,\n",
    "                'dashArray': '5, 5',\n",
    "                'fillOpacity': 0.8,\n",
    "            }\n",
    "        ).add_to(some_map)\n",
    "#         break\n",
    "    \n",
    "    cmap.caption = 'hotspot persistency (hours)'\n",
    "    cmap.add_to(some_map)\n",
    "    folium.LayerControl(collapsed=False).add_to(some_map)\n",
    "    some_map.save(f'maps-v0916/MexHotSpot-{hotspot_type}-Persistency_{dow}-{call_direction}-{rkind}-{gside}-pop.html')\n",
    "#     break\n"
   ]
  },
  {
   "cell_type": "code",
   "execution_count": 81,
   "metadata": {},
   "outputs": [],
   "source": []
  }
 ],
 "metadata": {
  "kernelspec": {
   "display_name": "Python [default]",
   "language": "python",
   "name": "python3"
  },
  "language_info": {
   "codemirror_mode": {
    "name": "ipython",
    "version": 3
   },
   "file_extension": ".py",
   "mimetype": "text/x-python",
   "name": "python",
   "nbconvert_exporter": "python",
   "pygments_lexer": "ipython3",
   "version": "3.6.6"
  },
  "toc": {
   "base_numbering": 1,
   "nav_menu": {},
   "number_sections": true,
   "sideBar": true,
   "skip_h1_title": false,
   "title_cell": "Table of Contents",
   "title_sidebar": "Contents",
   "toc_cell": false,
   "toc_position": {},
   "toc_section_display": true,
   "toc_window_display": false
  },
  "varInspector": {
   "cols": {
    "lenName": 16,
    "lenType": 16,
    "lenVar": 40
   },
   "kernels_config": {
    "python": {
     "delete_cmd_postfix": "",
     "delete_cmd_prefix": "del ",
     "library": "var_list.py",
     "varRefreshCmd": "print(var_dic_list())"
    },
    "r": {
     "delete_cmd_postfix": ") ",
     "delete_cmd_prefix": "rm(",
     "library": "var_list.r",
     "varRefreshCmd": "cat(var_dic_list()) "
    }
   },
   "types_to_exclude": [
    "module",
    "function",
    "builtin_function_or_method",
    "instance",
    "_Feature"
   ],
   "window_display": false
  }
 },
 "nbformat": 4,
 "nbformat_minor": 2
}
