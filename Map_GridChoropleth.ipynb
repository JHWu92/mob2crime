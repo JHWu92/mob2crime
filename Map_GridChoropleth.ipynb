{
 "cells": [
  {
   "cell_type": "code",
   "execution_count": 1,
   "metadata": {
    "ExecuteTime": {
     "end_time": "2019-01-21T22:26:16.141332Z",
     "start_time": "2019-01-21T22:26:16.117100Z"
    },
    "cell_style": "split"
   },
   "outputs": [],
   "source": [
    "% load_ext autoreload\n",
    "% autoreload 2\n"
   ]
  },
  {
   "cell_type": "code",
   "execution_count": 2,
   "metadata": {
    "ExecuteTime": {
     "end_time": "2019-01-21T22:26:17.531295Z",
     "start_time": "2019-01-21T22:26:16.644418Z"
    },
    "cell_style": "split"
   },
   "outputs": [],
   "source": [
    "import glob\n",
    "import os\n",
    "import pandas as pd\n",
    "from collections import defaultdict\n",
    "import datetime\n",
    "import src.mex_helper as mex\n",
    "import folium\n",
    "from src.utils.map_vis import time_slider_choropleth, geojson_per_row"
   ]
  },
  {
   "cell_type": "markdown",
   "metadata": {},
   "source": [
    "# average over weekday and weekend"
   ]
  },
  {
   "cell_type": "code",
   "execution_count": 3,
   "metadata": {
    "ExecuteTime": {
     "end_time": "2019-01-21T22:26:18.544714Z",
     "start_time": "2019-01-21T22:26:18.516733Z"
    }
   },
   "outputs": [],
   "source": [
    "call_direction = 'out+in'"
   ]
  },
  {
   "cell_type": "code",
   "execution_count": 4,
   "metadata": {
    "ExecuteTime": {
     "end_time": "2019-01-21T22:26:20.710460Z",
     "start_time": "2019-01-21T22:26:19.253991Z"
    },
    "cell_style": "split"
   },
   "outputs": [
    {
     "name": "stdout",
     "output_type": "stream",
     "text": [
      "loading cached tw average stats/stat_tw_dow_aver_hr_uniq_user-out+in.pickle\n",
      "CPU times: user 1.44 s, sys: 20 ms, total: 1.46 s\n",
      "Wall time: 1.43 s\n"
     ]
    }
   ],
   "source": [
    "%%time\n",
    "aver = mex.stat_tw_dow_aver_hr_uniq_user(call_direction)"
   ]
  },
  {
   "cell_type": "code",
   "execution_count": 5,
   "metadata": {
    "ExecuteTime": {
     "end_time": "2019-01-21T22:26:48.607270Z",
     "start_time": "2019-01-21T22:26:48.093564Z"
    },
    "cell_style": "split"
   },
   "outputs": [],
   "source": [
    "tw_avg_wd = pd.DataFrame(aver['wd']).T\n",
    "tw_avg_wk = pd.DataFrame(aver['wk']).T"
   ]
  },
  {
   "cell_type": "markdown",
   "metadata": {
    "cell_style": "center",
    "heading_collapsed": true
   },
   "source": [
    "## difference between use out+in and only out is small"
   ]
  },
  {
   "cell_type": "code",
   "execution_count": 4,
   "metadata": {
    "ExecuteTime": {
     "end_time": "2019-01-21T21:38:57.797352Z",
     "start_time": "2019-01-21T21:38:56.320976Z"
    },
    "cell_style": "split",
    "hidden": true
   },
   "outputs": [
    {
     "name": "stdout",
     "output_type": "stream",
     "text": [
      "loading cached tw average stats/stat_tw_dow_aver_hr_uniq_user-out.pickle\n",
      "CPU times: user 1.44 s, sys: 40 ms, total: 1.48 s\n",
      "Wall time: 1.45 s\n"
     ]
    }
   ],
   "source": [
    "aver_out = mex.stat_tw_dow_aver_hr_uniq_user('out')"
   ]
  },
  {
   "cell_type": "code",
   "execution_count": 22,
   "metadata": {
    "cell_style": "split",
    "hidden": true
   },
   "outputs": [],
   "source": [
    "div = tw_avg_wd/pd.DataFrame(aver_out['wd']).T"
   ]
  },
  {
   "cell_type": "code",
   "execution_count": 33,
   "metadata": {
    "cell_style": "split",
    "hidden": true
   },
   "outputs": [
    {
     "data": {
      "text/plain": [
       "<matplotlib.axes._subplots.AxesSubplot at 0x7f49f4cf7588>"
      ]
     },
     "execution_count": 33,
     "metadata": {},
     "output_type": "execute_result"
    },
    {
     "data": {
      "image/png": "[encoded data removed]",
      "text/plain": [
       "<Figure size 432x288 with 1 Axes>"
      ]
     },
     "metadata": {},
     "output_type": "display_data"
    }
   ],
   "source": [
    "%matplotlib inline\n",
    "series = pd.Series(div.values.flatten())\n",
    "series[series<1].plot(kind='hist')"
   ]
  },
  {
   "cell_type": "markdown",
   "metadata": {},
   "source": [
    "# distribute tower stats to grids"
   ]
  },
  {
   "cell_type": "code",
   "execution_count": 6,
   "metadata": {
    "ExecuteTime": {
     "end_time": "2019-01-21T22:27:16.241420Z",
     "start_time": "2019-01-21T22:27:16.216188Z"
    }
   },
   "outputs": [
    {
     "name": "stdout",
     "output_type": "stream",
     "text": [
      "reading existing t2g file: data/mex_tower/mex_t2g_urban_areas_16_1000m.csv\n"
     ]
    }
   ],
   "source": [
    "# rkind = 'cities'\n",
    "# rname='city'\n",
    "rkind = 'urban_areas_16'\n",
    "rname='urban'\n",
    "mex_t2g = mex.tower2grid(rkind, 1000)\n"
   ]
  },
  {
   "cell_type": "code",
   "execution_count": 7,
   "metadata": {
    "ExecuteTime": {
     "end_time": "2019-01-21T22:27:44.007254Z",
     "start_time": "2019-01-21T22:27:43.981933Z"
    }
   },
   "outputs": [
    {
     "name": "stdout",
     "output_type": "stream",
     "text": [
      "number of towers in urban_areas_16 has no call at all during weekday and weekend\n"
     ]
    },
    {
     "data": {
      "text/plain": [
       "(146, 146)"
      ]
     },
     "execution_count": 7,
     "metadata": {},
     "output_type": "execute_result"
    }
   ],
   "source": [
    "print(f'number of towers in {rkind} has no call at all during weekday and weekend')\n",
    "len(set(mex_t2g.gtid) - set(tw_avg_wd.index)), len(set(mex_t2g.gtid) - set(tw_avg_wk.index)),"
   ]
  },
  {
   "cell_type": "code",
   "execution_count": 8,
   "metadata": {
    "ExecuteTime": {
     "end_time": "2019-01-21T22:28:11.885242Z",
     "start_time": "2019-01-21T22:28:11.870571Z"
    },
    "code_folding": [
     0
    ]
   },
   "outputs": [],
   "source": [
    "def grid_avgerage(tw_avg, t2g):\n",
    "    # there are grids without any call throughout the observation period\n",
    "    g_avg = t2g.merge(tw_avg, left_on='gtid', right_index=True, how='left')\n",
    "\n",
    "    for h in range(24):\n",
    "        h=str(h)\n",
    "        g_avg[h] = g_avg[h] * g_avg['weight']\n",
    "\n",
    "    g_avg= g_avg.drop(['gtid','weight'], axis=1).groupby('grid').sum()  # fillna=0 by default\n",
    "\n",
    "    return g_avg"
   ]
  },
  {
   "cell_type": "code",
   "execution_count": 9,
   "metadata": {
    "ExecuteTime": {
     "end_time": "2019-01-21T22:28:39.554849Z",
     "start_time": "2019-01-21T22:28:39.507607Z"
    }
   },
   "outputs": [],
   "source": [
    "g_avg_wd = grid_avgerage(tw_avg_wd, mex_t2g)\n",
    "g_avg_wk = grid_avgerage(tw_avg_wk, mex_t2g)"
   ]
  },
  {
   "cell_type": "markdown",
   "metadata": {},
   "source": [
    "# visualize by hour each city"
   ]
  },
  {
   "cell_type": "code",
   "execution_count": 10,
   "metadata": {
    "ExecuteTime": {
     "end_time": "2019-01-21T22:29:08.119733Z",
     "start_time": "2019-01-21T22:29:07.262273Z"
    }
   },
   "outputs": [
    {
     "name": "stdout",
     "output_type": "stream",
     "text": [
      "reading existing grids\n"
     ]
    }
   ],
   "source": [
    "mex_grids = mex.grids(rkind, 1000)"
   ]
  },
  {
   "cell_type": "code",
   "execution_count": 11,
   "metadata": {
    "ExecuteTime": {
     "end_time": "2019-01-21T22:29:35.853607Z",
     "start_time": "2019-01-21T22:29:35.839771Z"
    }
   },
   "outputs": [],
   "source": [
    "fake_dates = [f\"1971-01-{i:02}\" for i in range(1,25)]"
   ]
  },
  {
   "cell_type": "code",
   "execution_count": 12,
   "metadata": {
    "ExecuteTime": {
     "end_time": "2019-01-21T22:30:03.659242Z",
     "start_time": "2019-01-21T22:30:03.475919Z"
    }
   },
   "outputs": [
    {
     "name": "stdout",
     "output_type": "stream",
     "text": [
      "rkind: urban_areas_16\n"
     ]
    }
   ],
   "source": [
    "print('rkind:', rkind)\n",
    "mex_regions = mex.regions(rkind)"
   ]
  },
  {
   "cell_type": "markdown",
   "metadata": {},
   "source": [
    "## all grids"
   ]
  },
  {
   "cell_type": "code",
   "execution_count": 13,
   "metadata": {
    "ExecuteTime": {
     "end_time": "2019-01-21T22:30:54.266116Z",
     "start_time": "2019-01-21T22:30:32.947220Z"
    }
   },
   "outputs": [
    {
     "name": "stdout",
     "output_type": "stream",
     "text": [
      "urban_areas_16 urban\n",
      "day of week: wd\n",
      "day of week: wk\n",
      "CPU times: user 21.3 s, sys: 12 ms, total: 21.3 s\n",
      "Wall time: 21.3 s\n"
     ]
    }
   ],
   "source": [
    "%%time\n",
    "print(rkind, rname)\n",
    "for dow, g_avg in [('wd', g_avg_wd), ('wk',g_avg_wk)]:\n",
    "    print('day of week:', dow)\n",
    "    for c in mex_regions.index:\n",
    "        lon,lat = mex_regions.loc[c].geometry.centroid.coords[0]\n",
    "        gc = mex_grids[mex_grids[rname]==c]\n",
    "        gc_avg = g_avg.loc[gc.grid]\n",
    "        values = gc_avg.T.to_dict('list')\n",
    "        some_map = folium.Map(location=[lat,lon], zoom_start=10)\n",
    "        time_slider_choropleth(gc, values, fake_dates, color_per_day=True).add_to(some_map)\n",
    "        some_map.save(f'maps/MexGridChoropleth-{call_direction}-{rkind}/{c}_{dow}.html')"
   ]
  },
  {
   "cell_type": "markdown",
   "metadata": {},
   "source": [
    "## keep hotspot only"
   ]
  },
  {
   "cell_type": "code",
   "execution_count": 14,
   "metadata": {
    "ExecuteTime": {
     "end_time": "2019-01-21T22:31:23.907721Z",
     "start_time": "2019-01-21T22:31:23.894123Z"
    }
   },
   "outputs": [],
   "source": [
    "from src.utils import loubar_thres"
   ]
  },
  {
   "cell_type": "code",
   "execution_count": 15,
   "metadata": {
    "ExecuteTime": {
     "end_time": "2019-01-21T22:31:53.568529Z",
     "start_time": "2019-01-21T22:31:53.553729Z"
    }
   },
   "outputs": [],
   "source": [
    "def keep_hotspot(gc_avg):\n",
    "    for h in gc_avg:\n",
    "        arr = gc_avg[h]\n",
    "        loubar, arr_thres = loubar_thres(arr,is_sorted=False)\n",
    "        gc_avg[h][gc_avg[h]<=arr_thres]=0\n",
    "#         print(h, loubar, arr_thres)"
   ]
  },
  {
   "cell_type": "code",
   "execution_count": 16,
   "metadata": {
    "ExecuteTime": {
     "end_time": "2019-01-21T22:32:45.813564Z",
     "start_time": "2019-01-21T22:32:23.200675Z"
    },
    "scrolled": true
   },
   "outputs": [
    {
     "name": "stdout",
     "output_type": "stream",
     "text": [
      "day of week: wd\n",
      "day of week: wk\n",
      "CPU times: user 22.6 s, sys: 12 ms, total: 22.6 s\n",
      "Wall time: 22.6 s\n"
     ]
    }
   ],
   "source": [
    "%%time\n",
    "for dow, g_avg in [('wd', g_avg_wd), ('wk',g_avg_wk)]:\n",
    "    print('day of week:', dow)\n",
    "    for c in mex_regions.index:\n",
    "        lon,lat = mex_regions.loc[c].geometry.centroid.coords[0]\n",
    "        gc = mex_grids[mex_grids[rname]==c]\n",
    "        gc_avg = g_avg.loc[gc.grid].copy()\n",
    "        keep_hotspot(gc_avg)\n",
    "        values = gc_avg.T.to_dict('list')\n",
    "        some_map = folium.Map(location=[lat,lon], zoom_start=10)\n",
    "        time_slider_choropleth(gc, values, fake_dates, color_per_day=True).add_to(some_map)\n",
    "#         break\n",
    "        some_map.save(f'maps/MexGridChoroplethHotSpot-{call_direction}-{rkind}/{c}_{dow}.html')\n",
    "#     break"
   ]
  },
  {
   "cell_type": "markdown",
   "metadata": {},
   "source": [
    "## hotspot persistency"
   ]
  },
  {
   "cell_type": "code",
   "execution_count": 17,
   "metadata": {
    "ExecuteTime": {
     "end_time": "2019-01-21T22:33:15.308870Z",
     "start_time": "2019-01-21T22:33:15.294946Z"
    }
   },
   "outputs": [],
   "source": [
    "from branca.colormap import linear\n",
    "cmap = linear.Reds_09.scale(0,24)"
   ]
  },
  {
   "cell_type": "code",
   "execution_count": 18,
   "metadata": {
    "ExecuteTime": {
     "end_time": "2019-01-21T22:33:50.532275Z",
     "start_time": "2019-01-21T22:33:44.856875Z"
    }
   },
   "outputs": [
    {
     "name": "stdout",
     "output_type": "stream",
     "text": [
      "day of week: wd\n",
      "day of week: wk\n",
      "CPU times: user 5.63 s, sys: 32 ms, total: 5.66 s\n",
      "Wall time: 5.65 s\n"
     ]
    }
   ],
   "source": [
    "%%time\n",
    "for dow, g_avg in [('wd', g_avg_wd), ('wk',g_avg_wk)]:\n",
    "    print('day of week:', dow)\n",
    "    \n",
    "    some_map = folium.Map(location=[mex.CLAT,mex.CLON], zoom_start=8)\n",
    "    \n",
    "    for c in mex_regions.index:\n",
    "        cgeom=mex_regions.loc[c].geometry\n",
    "        lon,lat = cgeom.centroid.coords[0]\n",
    "        gc = mex_grids[mex_grids[rname]==c].copy()\n",
    "        gc_avg = g_avg.loc[gc.grid].copy()\n",
    "        keep_hotspot(gc_avg)\n",
    "        gc['persistency'] = (gc_avg!=0).sum(axis=1)\n",
    "        gc = gc[gc.persistency!=0]\n",
    "        gc = gc.append({'grid':-1, 'geometry':cgeom, 'persistency':0},ignore_index=True).sort_values('grid')\n",
    "        gjson = gc[['grid','persistency','geometry']].to_json()\n",
    "        folium.GeoJson(\n",
    "            gjson,\n",
    "            name=c,\n",
    "            style_function=lambda feature: {\n",
    "                'fillColor': cmap(feature['properties']['persistency']),\n",
    "                'color': 'black',\n",
    "                'weight': 1,\n",
    "                'dashArray': '5, 5',\n",
    "                'fillOpacity': 0.8,\n",
    "            }\n",
    "        ).add_to(some_map)\n",
    "#         break\n",
    "    \n",
    "    cmap.caption = 'hotspot persistency (hours)'\n",
    "    cmap.add_to(some_map)\n",
    "    folium.LayerControl(collapsed=False).add_to(some_map)\n",
    "    some_map.save(f'maps/MexGridChoroplethHotSpotPersistency_{dow}-{call_direction}-{rkind}.html')\n",
    "#     break\n"
   ]
  },
  {
   "cell_type": "code",
   "execution_count": 81,
   "metadata": {},
   "outputs": [],
   "source": []
  }
 ],
 "metadata": {
  "kernelspec": {
   "display_name": "Python [default]",
   "language": "python",
   "name": "python3"
  },
  "language_info": {
   "codemirror_mode": {
    "name": "ipython",
    "version": 3
   },
   "file_extension": ".py",
   "mimetype": "text/x-python",
   "name": "python",
   "nbconvert_exporter": "python",
   "pygments_lexer": "ipython3",
   "version": "3.6.6"
  },
  "toc": {
   "base_numbering": 1,
   "nav_menu": {},
   "number_sections": true,
   "sideBar": true,
   "skip_h1_title": false,
   "title_cell": "Table of Contents",
   "title_sidebar": "Contents",
   "toc_cell": false,
   "toc_position": {},
   "toc_section_display": true,
   "toc_window_display": false
  },
  "varInspector": {
   "cols": {
    "lenName": 16,
    "lenType": 16,
    "lenVar": 40
   },
   "kernels_config": {
    "python": {
     "delete_cmd_postfix": "",
     "delete_cmd_prefix": "del ",
     "library": "var_list.py",
     "varRefreshCmd": "print(var_dic_list())"
    },
    "r": {
     "delete_cmd_postfix": ") ",
     "delete_cmd_prefix": "rm(",
     "library": "var_list.r",
     "varRefreshCmd": "cat(var_dic_list()) "
    }
   },
   "types_to_exclude": [
    "module",
    "function",
    "builtin_function_or_method",
    "instance",
    "_Feature"
   ],
   "window_display": false
  }
 },
 "nbformat": 4,
 "nbformat_minor": 2
}
