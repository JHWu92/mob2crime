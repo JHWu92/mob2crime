{
 "cells": [
  {
   "cell_type": "code",
   "execution_count": 1,
   "metadata": {},
   "outputs": [],
   "source": [
    "% load_ext autoreload\n",
    "% autoreload 2\n"
   ]
  },
  {
   "cell_type": "code",
   "execution_count": 91,
   "metadata": {},
   "outputs": [],
   "source": [
    "import glob\n",
    "import os\n",
    "import pandas as pd\n",
    "from collections import defaultdict\n",
    "import datetime\n",
    "import src.mex_helper as mex\n",
    "import folium\n",
    "from src.utils.map_vis import time_slider_choropleth, geojson_per_row"
   ]
  },
  {
   "cell_type": "markdown",
   "metadata": {},
   "source": [
    "# load daily stats"
   ]
  },
  {
   "cell_type": "code",
   "execution_count": 3,
   "metadata": {},
   "outputs": [],
   "source": [
    "fns = sorted(glob.glob('stats/MexTwHrUniqCntVOZ/*-located.csv'))"
   ]
  },
  {
   "cell_type": "code",
   "execution_count": 4,
   "metadata": {},
   "outputs": [
    {
     "name": "stdout",
     "output_type": "stream",
     "text": [
      "working on 0th file stats/MexTwHrUniqCntVOZ/2009-10-01-located.csv\n",
      "working on 50th file stats/MexTwHrUniqCntVOZ/2009-11-20-located.csv\n",
      "working on 100th file stats/MexTwHrUniqCntVOZ/2010-01-09-located.csv\n",
      "working on 150th file stats/MexTwHrUniqCntVOZ/2010-03-27-located.csv\n",
      "working on 200th file stats/MexTwHrUniqCntVOZ/2010-05-16-located.csv\n",
      "CPU times: user 48.5 s, sys: 908 ms, total: 49.4 s\n",
      "Wall time: 49.4 s\n"
     ]
    }
   ],
   "source": [
    "%%time\n",
    "store_wd = defaultdict(list)\n",
    "store_wk = defaultdict(list)\n",
    "store = {True: store_wd, False:store_wk}\n",
    "for i,fn in enumerate(fns):\n",
    "    if i%50==0:\n",
    "        print('working on %dth file %s' % (i, fn))\n",
    "    date = os.path.basename(fn)[:10]\n",
    "#     if date=='2009-10-03': break\n",
    "    date = datetime.datetime.strptime(date,'%Y-%m-%d')\n",
    "    is_wd = date.weekday()<5\n",
    "    tmp_df = pd.read_csv(fn,index_col=0)\n",
    "    for gtid, row in tmp_df.iterrows():\n",
    "        store[is_wd][gtid].append(row)\n",
    "#     break"
   ]
  },
  {
   "cell_type": "markdown",
   "metadata": {},
   "source": [
    "# average over weekday and weekend"
   ]
  },
  {
   "cell_type": "code",
   "execution_count": 5,
   "metadata": {},
   "outputs": [
    {
     "name": "stdout",
     "output_type": "stream",
     "text": [
      "is_wd= True\n",
      "is_wd= False\n",
      "CPU times: user 2min 30s, sys: 112 ms, total: 2min 30s\n",
      "Wall time: 2min 30s\n"
     ]
    }
   ],
   "source": [
    "%%time\n",
    "average = {True: dict(), False: dict()}\n",
    "for is_wd in [True, False]:\n",
    "    print('is_wd=',is_wd)\n",
    "    for gtid, rows in store[is_wd].items():\n",
    "        avg_row = pd.DataFrame(rows).fillna(0).mean(axis=0)\n",
    "        average[is_wd][gtid]=avg_row"
   ]
  },
  {
   "cell_type": "code",
   "execution_count": 6,
   "metadata": {},
   "outputs": [],
   "source": [
    "tw_avg_wd = pd.DataFrame(average[True]).T\n",
    "tw_avg_wk = pd.DataFrame(average[False]).T"
   ]
  },
  {
   "cell_type": "markdown",
   "metadata": {},
   "source": [
    "# distribute tower stats to grids"
   ]
  },
  {
   "cell_type": "code",
   "execution_count": 7,
   "metadata": {},
   "outputs": [
    {
     "name": "stdout",
     "output_type": "stream",
     "text": [
      "reading existing t2g file: data/mex_t2g_cities_1000m.csv\n"
     ]
    }
   ],
   "source": [
    "mex_t2g = mex.tower2grid('cities', 1000)"
   ]
  },
  {
   "cell_type": "code",
   "execution_count": 8,
   "metadata": {},
   "outputs": [
    {
     "name": "stdout",
     "output_type": "stream",
     "text": [
      "number of towers in cities has no call at all during weekday and weekend\n"
     ]
    },
    {
     "data": {
      "text/plain": [
       "(233, 234)"
      ]
     },
     "execution_count": 8,
     "metadata": {},
     "output_type": "execute_result"
    }
   ],
   "source": [
    "print('number of towers in cities has no call at all during weekday and weekend')\n",
    "len(set(mex_t2g.gtid) - set(tw_avg_wd.index)), len(set(mex_t2g.gtid) - set(tw_avg_wk.index)),"
   ]
  },
  {
   "cell_type": "code",
   "execution_count": 9,
   "metadata": {},
   "outputs": [],
   "source": [
    "def grid_avgerage(tw_avg, t2g):\n",
    "    # there are grids without any call throughout the observation period\n",
    "    g_avg = t2g.merge(tw_avg, left_on='gtid', right_index=True, how='left')\n",
    "\n",
    "    for h in range(24):\n",
    "        h=str(h)\n",
    "        g_avg[h] = g_avg[h] * g_avg['weight']\n",
    "\n",
    "    g_avg= g_avg.drop(['gtid','weight'], axis=1).groupby('grid').sum()  # fillna=0 by default\n",
    "\n",
    "    return g_avg"
   ]
  },
  {
   "cell_type": "code",
   "execution_count": 11,
   "metadata": {},
   "outputs": [],
   "source": [
    "g_avg_wd = grid_avgerage(tw_avg_wd, mex_t2g)\n",
    "g_avg_wk = grid_avgerage(tw_avg_wk, mex_t2g)"
   ]
  },
  {
   "cell_type": "markdown",
   "metadata": {},
   "source": [
    "# visualize by hour each city"
   ]
  },
  {
   "cell_type": "code",
   "execution_count": 12,
   "metadata": {},
   "outputs": [
    {
     "name": "stdout",
     "output_type": "stream",
     "text": [
      "reading existing grids\n"
     ]
    }
   ],
   "source": [
    "mex_grids = mex.grids('cities', 1000)"
   ]
  },
  {
   "cell_type": "code",
   "execution_count": 13,
   "metadata": {},
   "outputs": [],
   "source": [
    "fake_dates = [f\"1971-01-{i:02}\" for i in range(1,25)]"
   ]
  },
  {
   "cell_type": "code",
   "execution_count": 14,
   "metadata": {},
   "outputs": [],
   "source": [
    "mex_cities = mex.cities()"
   ]
  },
  {
   "cell_type": "code",
   "execution_count": 132,
   "metadata": {},
   "outputs": [
    {
     "name": "stdout",
     "output_type": "stream",
     "text": [
      "day of week: wd\n",
      "day of week: wk\n",
      "CPU times: user 4min 29s, sys: 1.38 s, total: 4min 30s\n",
      "Wall time: 4min 30s\n"
     ]
    }
   ],
   "source": [
    "%%time\n",
    "for dow, g_avg in [('wd', g_avg_wd), ('wk',g_avg_wk)]:\n",
    "    print('day of week:', dow)\n",
    "    for c in mex_cities.index:\n",
    "        lon,lat = mex_cities.loc[c].geometry.centroid.coords[0]\n",
    "        gc = mex_grids[mex_grids.city==c]\n",
    "        gc_avg = g_avg.loc[gc.grid]\n",
    "        values = gc_avg.T.to_dict('list')\n",
    "        some_map = folium.Map(location=[lat,lon], zoom_start=10)\n",
    "        time_slider_choropleth(gc, values, fake_dates, color_per_day=True).add_to(some_map)\n",
    "        some_map.save(f'maps/MexGridChoropleth/{c}_{dow}.html')"
   ]
  },
  {
   "cell_type": "markdown",
   "metadata": {},
   "source": [
    "## keep hotspot only"
   ]
  },
  {
   "cell_type": "code",
   "execution_count": 17,
   "metadata": {},
   "outputs": [],
   "source": [
    "from src.utils import loubar_thres"
   ]
  },
  {
   "cell_type": "code",
   "execution_count": 42,
   "metadata": {},
   "outputs": [],
   "source": [
    "def keep_hotspot(gc_avg):\n",
    "    for h in gc_avg:\n",
    "        arr = gc_avg[h]\n",
    "        loubar, arr_thres = loubar_thres(arr,is_sorted=False)\n",
    "        gc_avg[h][gc_avg[h]<=arr_thres]=0\n",
    "#         print(h, loubar, arr_thres)"
   ]
  },
  {
   "cell_type": "code",
   "execution_count": 43,
   "metadata": {
    "scrolled": true
   },
   "outputs": [
    {
     "name": "stdout",
     "output_type": "stream",
     "text": [
      "day of week: wd\n",
      "day of week: wk\n",
      "CPU times: user 4min 7s, sys: 1.2 s, total: 4min 8s\n",
      "Wall time: 4min 8s\n"
     ]
    }
   ],
   "source": [
    "%%time\n",
    "for dow, g_avg in [('wd', g_avg_wd), ('wk',g_avg_wk)]:\n",
    "    print('day of week:', dow)\n",
    "    for c in mex_cities.index:\n",
    "        lon,lat = mex_cities.loc[c].geometry.centroid.coords[0]\n",
    "        gc = mex_grids[mex_grids.city==c]\n",
    "        gc_avg = g_avg.loc[gc.grid].copy()\n",
    "        keep_hotspot(gc_avg)\n",
    "        values = gc_avg.T.to_dict('list')\n",
    "        some_map = folium.Map(location=[lat,lon], zoom_start=10)\n",
    "        time_slider_choropleth(gc, values, fake_dates, color_per_day=True).add_to(some_map)\n",
    "#         break\n",
    "        some_map.save(f'maps/MexGridChoroplethHotSpot/{c}_{dow}.html')\n",
    "#     break"
   ]
  },
  {
   "cell_type": "markdown",
   "metadata": {},
   "source": [
    "## hotspot persistency"
   ]
  },
  {
   "cell_type": "code",
   "execution_count": 71,
   "metadata": {},
   "outputs": [],
   "source": [
    "from branca.colormap import linear\n",
    "cmap = linear.Reds_09.scale(0,24)"
   ]
  },
  {
   "cell_type": "code",
   "execution_count": 92,
   "metadata": {},
   "outputs": [
    {
     "name": "stdout",
     "output_type": "stream",
     "text": [
      "day of week: wd\n",
      "day of week: wk\n",
      "CPU times: user 7.05 s, sys: 32 ms, total: 7.08 s\n",
      "Wall time: 7.08 s\n"
     ]
    }
   ],
   "source": [
    "%%time\n",
    "for dow, g_avg in [('wd', g_avg_wd), ('wk',g_avg_wk)]:\n",
    "    print('day of week:', dow)\n",
    "    \n",
    "    some_map = folium.Map(location=[mex.CLAT,mex.CLON], zoom_start=8)\n",
    "    \n",
    "    for c in mex_cities.index:\n",
    "        cgeom=mex_cities.loc[c].geometry\n",
    "        lon,lat = cgeom.centroid.coords[0]\n",
    "        gc = mex_grids[mex_grids.city==c].copy()\n",
    "        gc_avg = g_avg.loc[gc.grid].copy()\n",
    "        keep_hotspot(gc_avg)\n",
    "        gc['persistency'] = (gc_avg!=0).sum(axis=1)\n",
    "        gc = gc[gc.persistency!=0]\n",
    "        gc = gc.append({'grid':-1, 'geometry':cgeom, 'persistency':0},ignore_index=True).sort_values('grid')\n",
    "        gjson = gc[['grid','persistency','geometry']].to_json()\n",
    "        folium.GeoJson(\n",
    "            gjson,\n",
    "            name=c,\n",
    "            style_function=lambda feature: {\n",
    "                'fillColor': colormap(feature['properties']['persistency']),\n",
    "                'color': 'black',\n",
    "                'weight': 1,\n",
    "                'dashArray': '5, 5',\n",
    "                'fillOpacity': 0.8,\n",
    "            }\n",
    "        ).add_to(some_map)\n",
    "#         break\n",
    "    \n",
    "    cmap.caption = 'hotspot persistency (hours)'\n",
    "    cmap.add_to(some_map)\n",
    "    folium.LayerControl(collapsed=False).add_to(some_map)\n",
    "    some_map.save(f'maps/MexGridChoroplethHotSpotPersistency_{dow}.html')\n",
    "#     break\n"
   ]
  },
  {
   "cell_type": "code",
   "execution_count": 81,
   "metadata": {},
   "outputs": [],
   "source": []
  }
 ],
 "metadata": {
  "kernelspec": {
   "display_name": "Python [default]",
   "language": "python",
   "name": "python3"
  },
  "language_info": {
   "codemirror_mode": {
    "name": "ipython",
    "version": 3
   },
   "file_extension": ".py",
   "mimetype": "text/x-python",
   "name": "python",
   "nbconvert_exporter": "python",
   "pygments_lexer": "ipython3",
   "version": "3.6.6"
  }
 },
 "nbformat": 4,
 "nbformat_minor": 2
}
