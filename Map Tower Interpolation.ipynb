{
 "cells": [
  {
   "cell_type": "code",
   "execution_count": 21,
   "metadata": {
    "ExecuteTime": {
     "end_time": "2019-10-29T13:21:55.566760Z",
     "start_time": "2019-10-29T13:21:54.985844Z"
    }
   },
   "outputs": [
    {
     "name": "stdout",
     "output_type": "stream",
     "text": [
      "The autoreload extension is already loaded. To reload it, use:\n",
      "  %reload_ext autoreload\n"
     ]
    }
   ],
   "source": [
    "%load_ext autoreload\n",
    "%autoreload 2\n"
   ]
  },
  {
   "cell_type": "code",
   "execution_count": 2,
   "metadata": {
    "ExecuteTime": {
     "end_time": "2019-10-25T18:34:52.499389Z",
     "start_time": "2019-10-25T18:34:47.806760Z"
    }
   },
   "outputs": [],
   "source": [
    "import os\n",
    "import sys\n",
    "\n",
    "import folium\n",
    "\n",
    "import src.mex_helper as mex_helper\n",
    "import src.mex as mex\n",
    "import src.mex.regions2010 as region\n",
    "import src.mex.tower as tower\n",
    "import src.tower_interpolation as tw_int\n",
    "import src.utils.map_vis as mvis\n",
    "\n",
    "from src.utils.map_vis import time_slider_choropleth, geojson_per_row\n",
    "if not os.getcwd().endswith('mob2crime'):\n",
    "    os.chdir('..')\n"
   ]
  },
  {
   "cell_type": "code",
   "execution_count": 3,
   "metadata": {
    "ExecuteTime": {
     "end_time": "2019-10-25T18:35:22.612400Z",
     "start_time": "2019-10-25T18:35:22.590034Z"
    }
   },
   "outputs": [],
   "source": [
    "import pandas as pd\n",
    "import geopandas as gp"
   ]
  },
  {
   "cell_type": "markdown",
   "metadata": {},
   "source": [
    "# load tower stats"
   ]
  },
  {
   "cell_type": "code",
   "execution_count": 4,
   "metadata": {
    "ExecuteTime": {
     "end_time": "2019-10-25T18:35:30.175770Z",
     "start_time": "2019-10-25T18:35:27.920193Z"
    }
   },
   "outputs": [
    {
     "name": "stdout",
     "output_type": "stream",
     "text": [
      "loading cached tw average stats/stat_tw_dow_aver_hr_uniq_user-out+in.pickle\n"
     ]
    }
   ],
   "source": [
    "call_direction = 'out+in'\n",
    "aver = mex_helper.stat_tw_dow_aver_hr_uniq_user(call_direction)\n",
    "tw_avg_wd = pd.DataFrame(aver['wd']).T"
   ]
  },
  {
   "cell_type": "markdown",
   "metadata": {},
   "source": [
    "# interpolation"
   ]
  },
  {
   "cell_type": "markdown",
   "metadata": {},
   "source": [
    "## to ageb"
   ]
  },
  {
   "cell_type": "code",
   "execution_count": 86,
   "metadata": {
    "ExecuteTime": {
     "end_time": "2019-10-16T19:10:10.721114Z",
     "start_time": "2019-10-16T19:10:10.638168Z"
    }
   },
   "outputs": [
    {
     "name": "stdout",
     "output_type": "stream",
     "text": [
      "to_map_agebs loading existing file data/mex_tw_intpl/tower_to_mpa_agebs_by_area.csv\n"
     ]
    }
   ],
   "source": [
    "t2ageb_area = tw_int.to_mpa_agebs('area')\n",
    "t2ageb_area.set_index('ageb', inplace=True)"
   ]
  },
  {
   "cell_type": "code",
   "execution_count": 87,
   "metadata": {
    "ExecuteTime": {
     "end_time": "2019-10-16T20:31:04.164474Z",
     "start_time": "2019-10-16T20:31:03.986542Z"
    }
   },
   "outputs": [],
   "source": [
    "ageb_area_avg = tw_int.interpolate_stats(tw_avg_wd, t2ageb_area)"
   ]
  },
  {
   "cell_type": "code",
   "execution_count": 201,
   "metadata": {
    "ExecuteTime": {
     "end_time": "2019-10-16T20:30:52.993108Z",
     "start_time": "2019-10-16T20:30:52.915258Z"
    }
   },
   "outputs": [
    {
     "name": "stdout",
     "output_type": "stream",
     "text": [
      "to_map_agebs loading existing file data/mex_tw_intpl/tower_to_mpa_agebs_by_pop.csv\n"
     ]
    }
   ],
   "source": [
    "t2ageb_pop = tw_int.to_mpa_agebs('pop')\n",
    "t2ageb_pop.set_index('ageb', inplace=True)"
   ]
  },
  {
   "cell_type": "code",
   "execution_count": 202,
   "metadata": {
    "ExecuteTime": {
     "end_time": "2019-10-16T20:31:04.164474Z",
     "start_time": "2019-10-16T20:31:03.986542Z"
    }
   },
   "outputs": [],
   "source": [
    "ageb_pop_avg = tw_int.interpolate_stats(tw_avg_wd, t2ageb_pop)"
   ]
  },
  {
   "cell_type": "markdown",
   "metadata": {},
   "source": [
    "## to grid"
   ]
  },
  {
   "cell_type": "code",
   "execution_count": 285,
   "metadata": {
    "ExecuteTime": {
     "end_time": "2019-10-17T13:45:48.597310Z",
     "start_time": "2019-10-17T13:45:48.196744Z"
    }
   },
   "outputs": [
    {
     "name": "stdout",
     "output_type": "stream",
     "text": [
      "to_map_grids loading existing file data/mex_tw_intpl/tower_to_mpa_g1000_by_area.csv\n"
     ]
    }
   ],
   "source": [
    "t2g1000_area = tw_int.to_mpa_grids(1000, by='area', per_mun=False)\n",
    "t2g1000_area.set_index('grid', inplace=True)\n",
    "avg_g1000_area = tw_int.interpolate_stats(tw_avg_wd, t2g1000_area)"
   ]
  },
  {
   "cell_type": "code",
   "execution_count": 286,
   "metadata": {
    "ExecuteTime": {
     "end_time": "2019-10-17T13:45:48.870275Z",
     "start_time": "2019-10-17T13:45:48.742508Z"
    }
   },
   "outputs": [
    {
     "name": "stdout",
     "output_type": "stream",
     "text": [
      "to_map_grids loading existing file data/mex_tw_intpl/tower_to_mpa_g1000_by_pop.csv\n"
     ]
    }
   ],
   "source": [
    "t2g1000pop = tw_int.to_mpa_grids(1000, by='pop', per_mun=False)\n",
    "t2g1000pop.set_index('grid', inplace=True)\n",
    "avg_g1000pop = tw_int.interpolate_stats(tw_avg_wd, t2g1000pop)"
   ]
  },
  {
   "cell_type": "markdown",
   "metadata": {},
   "source": [
    "# load geom"
   ]
  },
  {
   "cell_type": "code",
   "execution_count": 5,
   "metadata": {
    "ExecuteTime": {
     "end_time": "2019-10-25T18:35:46.984004Z",
     "start_time": "2019-10-25T18:35:43.916079Z"
    }
   },
   "outputs": [],
   "source": [
    "zms = region.mpa_all(to_4326=True)"
   ]
  },
  {
   "cell_type": "code",
   "execution_count": 6,
   "metadata": {
    "ExecuteTime": {
     "end_time": "2019-10-25T18:36:12.815764Z",
     "start_time": "2019-10-25T18:35:46.985775Z"
    }
   },
   "outputs": [],
   "source": [
    "# AGEBs\n",
    "\n",
    "mapping = region.ageb_ids_per_mpa()\n",
    "zms_agebs = region.agebs(mapping.mun_id.unique(), to_4326=True)"
   ]
  },
  {
   "cell_type": "code",
   "execution_count": 7,
   "metadata": {
    "ExecuteTime": {
     "end_time": "2019-10-25T18:36:15.041437Z",
     "start_time": "2019-10-25T18:36:12.817822Z"
    }
   },
   "outputs": [
    {
     "name": "stdout",
     "output_type": "stream",
     "text": [
      "loading existing mexico tower voronoi file: data/mex_tw_intpl/voronoi.geojson\n"
     ]
    }
   ],
   "source": [
    "# Towers\n",
    "\n",
    "tvor = tower.voronoi(to_4326=True)\n",
    "tvor_x_zms = tower.voronoi_x_region('mpa')\n",
    "tvor_x_zms = tvor_x_zms[tvor_x_zms.CVE_SUN.isin(zms.index.astype(str))]\n",
    "zms_tvors= tvor.loc[set(tvor_x_zms.gtid)]\n",
    "\n",
    "zms_tvors['sum_count']=tw_avg_wd.sum(axis=1)\n",
    "zms_tvors.sum_count.fillna(0,inplace=True)\n",
    "\n",
    "for cve_sun, gb in tvor_x_zms.groupby('CVE_SUN'):\n",
    "    zms_tvors.loc[gb.gtid, 'color'] = zms_tvors.loc[gb.gtid].sum_count/zms_tvors.loc[gb.gtid].sum_count.max()"
   ]
  },
  {
   "cell_type": "code",
   "execution_count": 17,
   "metadata": {
    "ExecuteTime": {
     "end_time": "2019-10-25T19:17:25.346420Z",
     "start_time": "2019-10-25T19:16:54.129409Z"
    }
   },
   "outputs": [
    {
     "name": "stdout",
     "output_type": "stream",
     "text": [
      "reading existing grids\n"
     ]
    }
   ],
   "source": [
    "zms_g1000 = region.mpa_grids(1000,per_mun=False)"
   ]
  },
  {
   "cell_type": "code",
   "execution_count": 18,
   "metadata": {
    "ExecuteTime": {
     "end_time": "2019-10-25T19:19:07.618939Z",
     "start_time": "2019-10-25T19:17:25.351123Z"
    }
   },
   "outputs": [
    {
     "name": "stdout",
     "output_type": "stream",
     "text": [
      "reading existing grids\n",
      "dividing grids by municipality\n",
      "computing the intersection between p1 grid and p2 mgmu\n",
      "computing area of the intersections\n",
      "computing the weight\n"
     ]
    }
   ],
   "source": [
    "zms_g1000_mun = region.mpa_grids(1000,per_mun=True)"
   ]
  },
  {
   "cell_type": "markdown",
   "metadata": {},
   "source": [
    "# hotspot "
   ]
  },
  {
   "cell_type": "code",
   "execution_count": 88,
   "metadata": {
    "ExecuteTime": {
     "end_time": "2019-10-16T19:10:20.506994Z",
     "start_time": "2019-10-16T19:10:20.476120Z"
    },
    "code_folding": [
     2
    ]
   },
   "outputs": [],
   "source": [
    "from src.utils import loubar_thres\n",
    "import numpy as np\n",
    "def keep_hotspot(avg):\n",
    "    hot_only = avg.copy()\n",
    "    for h in avg:\n",
    "        arr = avg[h]\n",
    "        if hotspot_type=='loubar':\n",
    "            _, arr_thres = loubar_thres(arr, is_sorted=False)\n",
    "        elif hotspot_type=='average':\n",
    "            arr_thres = np.mean(arr)\n",
    "        else:\n",
    "            raise ValueError('hotspot type', hotspot_type,'not implemented')\n",
    "        hot_only[h][hot_only[h] <= arr_thres] = 0\n",
    "        # print(h, loubar, arr_thres)\n",
    "    return hot_only\n"
   ]
  },
  {
   "cell_type": "code",
   "execution_count": 89,
   "metadata": {
    "ExecuteTime": {
     "end_time": "2019-10-16T19:10:20.710176Z",
     "start_time": "2019-10-16T19:10:20.688665Z"
    }
   },
   "outputs": [],
   "source": [
    "hotspot_type='loubar'"
   ]
  },
  {
   "cell_type": "markdown",
   "metadata": {},
   "source": [
    "## zms grids"
   ]
  },
  {
   "cell_type": "code",
   "execution_count": 290,
   "metadata": {
    "ExecuteTime": {
     "end_time": "2019-10-17T13:47:25.973763Z",
     "start_time": "2019-10-17T13:47:25.946249Z"
    }
   },
   "outputs": [],
   "source": [
    "by = 'area'\n",
    "side=1000\n",
    "avg_g = {\n",
    "    (1000,'pop'): avg_g1000pop,\n",
    "    (1000,'area'): avg_g1000_area\n",
    "}[(side,by)]\n",
    "grids = {\n",
    "    1000: grids1000\n",
    "}[side]\n"
   ]
  },
  {
   "cell_type": "code",
   "execution_count": 291,
   "metadata": {
    "ExecuteTime": {
     "end_time": "2019-10-17T13:47:30.732031Z",
     "start_time": "2019-10-17T13:47:26.475231Z"
    }
   },
   "outputs": [
    {
     "name": "stdout",
     "output_type": "stream",
     "text": [
      "area 1000\n"
     ]
    }
   ],
   "source": [
    "print(by,side)\n",
    "zms_grids_per = []\n",
    "for sun, sun_grids in grids.groupby('metropolitan'):\n",
    "    sun_grids = sun_grids.copy()\n",
    "    sun_grids_avg = avg_g.loc[sun_grids.index].copy()\n",
    "    sun_grids_avg = sun_grids_avg.fillna(0)\n",
    "    \n",
    "    hot = keep_hotspot(sun_grids_avg)    \n",
    "    sun_grids['CVE_SUN'] = sun\n",
    "    sun_grids['persistency'] = (hot!=0).sum(axis=1)\n",
    "    sun_grids['sum_count'] = sun_grids_avg.sum(axis=1)\n",
    "    sun_grids = sun_grids[sun_grids.persistency!=0]\n",
    "    zms_grids_per.append(sun_grids)\n",
    "\n",
    "zms_grids_per = pd.concat(zms_grids_per)\n",
    "zms_grids_per['color'] = zms_grids_per.persistency/24\n"
   ]
  },
  {
   "cell_type": "code",
   "execution_count": 292,
   "metadata": {
    "ExecuteTime": {
     "end_time": "2019-10-17T13:47:51.966323Z",
     "start_time": "2019-10-17T13:47:32.531580Z"
    }
   },
   "outputs": [],
   "source": [
    "\n",
    "m = folium.Map(location=[mex.clat, mex.clon], zoom_start=5)\n",
    "mvis.geojson_per_row(zms.reset_index(), name='metro', tip_cols=['NOM_SUN', 'CVE_SUN', 'pobtot'], color='grey', some_map=m)\n",
    "\n",
    "mvis.geojson_per_row_color_col(zms_grids_per.reset_index(), name='per', \n",
    "                               tip_cols=['id', 'metropolitan', 'persistency', 'sum_count'],\n",
    "                              color_col='color',some_map=m)\n",
    "\n",
    "mvis.geojson_per_row_color_col(zms_tvors.reset_index(), name='tower', tip_cols=['gtid', 'sum_count'],\n",
    "                              color_col='color',some_map=m)\n",
    "folium.LayerControl().add_to(m)\n",
    "m.save(f'maps/mex_mpa_grid/{side}_{by}_persistency.html')"
   ]
  },
  {
   "cell_type": "markdown",
   "metadata": {},
   "source": [
    "## zms agebs"
   ]
  },
  {
   "cell_type": "code",
   "execution_count": 203,
   "metadata": {
    "ExecuteTime": {
     "end_time": "2019-10-16T20:31:29.926007Z",
     "start_time": "2019-10-16T20:31:26.297305Z"
    }
   },
   "outputs": [],
   "source": [
    "zms_agebs_persistence = []\n",
    "\n",
    "for cve_sun, group in mapping.groupby('CVE_SUN'):\n",
    "#     lon,lat = zms.loc[cve_sun].geometry.centroid.coords[0]\n",
    "    zm_ageb= zms_agebs.loc[group.ageb_id].copy()\n",
    "    zm_ageb_avg = ageb_pop_avg.loc[group.ageb_id].copy()\n",
    "    hot = keep_hotspot(zm_ageb_avg)    \n",
    "    zm_ageb['CVE_SUN'] = cve_sun\n",
    "    zm_ageb['persistency'] = (hot!=0).sum(axis=1)\n",
    "    zm_ageb['sum_count'] = zm_ageb_avg.sum(axis=1)\n",
    "    zm_ageb = zm_ageb[zm_ageb.persistency!=0]\n",
    "    zms_agebs_persistence.append(zm_ageb)\n",
    "\n",
    "zms_agebs_persistence = pd.concat(zms_agebs_persistence)\n",
    "\n",
    "zms_agebs_persistence['color'] = zms_agebs_persistence.persistency/24"
   ]
  },
  {
   "cell_type": "code",
   "execution_count": 205,
   "metadata": {
    "ExecuteTime": {
     "end_time": "2019-10-16T20:32:16.116253Z",
     "start_time": "2019-10-16T20:31:52.595096Z"
    }
   },
   "outputs": [],
   "source": [
    "\n",
    "m = folium.Map(location=[mex.clat, mex.clon], zoom_start=5)\n",
    "mvis.geojson_per_row(zms.reset_index(), name='metro', tip_cols=['NOM_SUN', 'CVE_SUN', 'pobtot'], color='grey', some_map=m)\n",
    "\n",
    "mvis.geojson_per_row_color_col(zms_agebs_persistence.reset_index(), name='per', \n",
    "                               tip_cols=['ageb_id', 'pobtot', 'CVE_SUN', 'persistency', 'sum_count'],\n",
    "                              color_col='color',some_map=m)\n",
    "mvis.geojson_per_row_color_col(zms_tvors.reset_index(), name='tower', tip_cols=['gtid', 'sum_count'],\n",
    "                              color_col='color',some_map=m)\n",
    "folium.LayerControl().add_to(m)\n",
    "m.save('maps/mex_mpa_ageb_pop/persistency.html')"
   ]
  },
  {
   "cell_type": "markdown",
   "metadata": {},
   "source": [
    "## groupby mun urban"
   ]
  },
  {
   "cell_type": "code",
   "execution_count": 293,
   "metadata": {
    "ExecuteTime": {
     "end_time": "2019-10-17T13:54:36.901873Z",
     "start_time": "2019-10-17T13:54:36.866799Z"
    }
   },
   "outputs": [],
   "source": [
    "mapping_urb = mapping[mapping['Type']==\"Urban\"]"
   ]
  },
  {
   "cell_type": "code",
   "execution_count": 294,
   "metadata": {
    "ExecuteTime": {
     "end_time": "2019-10-17T13:55:09.808183Z",
     "start_time": "2019-10-17T13:54:55.217160Z"
    },
    "scrolled": true
   },
   "outputs": [
    {
     "name": "stdout",
     "output_type": "stream",
     "text": [
      "08004 9\n",
      "13022 4\n",
      "13039 9\n",
      "13070 9\n",
      "15006 4\n",
      "15012 5\n",
      "15017 8\n",
      "15022 8\n",
      "15027 6\n",
      "15030 6\n",
      "15034 2\n",
      "15038 1\n",
      "15043 6\n",
      "15044 8\n",
      "15046 3\n",
      "15055 3\n",
      "15068 8\n",
      "15069 3\n",
      "15072 6\n",
      "15073 8\n",
      "15075 6\n",
      "15083 5\n",
      "15089 7\n",
      "15094 8\n",
      "15098 3\n",
      "15112 8\n",
      "15115 6\n",
      "15125 3\n",
      "17009 7\n",
      "17026 7\n",
      "20083 5\n",
      "20087 3\n",
      "20115 7\n",
      "20157 6\n",
      "20174 1\n",
      "20227 8\n",
      "20293 9\n",
      "20338 6\n",
      "20350 8\n",
      "20375 8\n",
      "20403 2\n",
      "20409 5\n",
      "20519 3\n",
      "20539 4\n",
      "21060 3\n",
      "21090 9\n",
      "21122 4\n",
      "21125 3\n",
      "21136 2\n",
      "21149 9\n",
      "21163 6\n",
      "21181 3\n",
      "22008 3\n",
      "29001 5\n",
      "29002 7\n",
      "29009 5\n",
      "29017 5\n",
      "29018 9\n",
      "29022 1\n",
      "29027 7\n",
      "29029 4\n",
      "29032 4\n",
      "29035 3\n",
      "29042 5\n",
      "29048 9\n",
      "29049 5\n",
      "29050 4\n",
      "29051 2\n",
      "29053 4\n",
      "29054 2\n",
      "29056 5\n",
      "29057 4\n",
      "29058 4\n",
      "29059 2\n",
      "29060 3\n",
      "30033 6\n",
      "30059 6\n",
      "30074 4\n",
      "30082 7\n",
      "30090 9\n",
      "30093 3\n",
      "30099 9\n",
      "30120 6\n",
      "30136 1\n",
      "30182 5\n",
      "30185 1\n",
      "30196 4\n",
      "30199 5\n",
      "31013 6\n",
      "31100 6\n"
     ]
    }
   ],
   "source": [
    "mun_agebs_persistence = []\n",
    "\n",
    "for mid, gb in mapping_urb.groupby('mun_id'):\n",
    "#     lon,lat = zms.loc[cve_sun].geometry.centroid.coords[0]\n",
    "    if len(gb)<10:\n",
    "        print(mid, len(gb))\n",
    "        continue\n",
    "    mun_ageb= zms_agebs.loc[gb.ageb_id].copy()\n",
    "    mun_ageb_avg = ageb_area_avg.loc[gb.ageb_id].copy()\n",
    "    hot = keep_hotspot(mun_ageb_avg) \n",
    "    mun_ageb['CVE_SUN'] = gb.CVE_SUN.iloc[0]\n",
    "    mun_ageb['persistency'] = (hot!=0).sum(axis=1)\n",
    "    mun_ageb['sum_count'] = mun_ageb_avg.sum(axis=1)\n",
    "    mun_ageb = mun_ageb[mun_ageb.persistency!=0]\n",
    "    mun_agebs_persistence.append(mun_ageb)\n",
    "\n",
    "mun_agebs_persistence = pd.concat(mun_agebs_persistence)\n",
    "\n",
    "mun_agebs_persistence['color'] = mun_agebs_persistence.persistency/24"
   ]
  },
  {
   "cell_type": "code",
   "execution_count": 254,
   "metadata": {
    "ExecuteTime": {
     "end_time": "2019-10-16T23:26:47.150673Z",
     "start_time": "2019-10-16T23:26:45.488826Z"
    }
   },
   "outputs": [],
   "source": [
    "zms_mgm = region.municipalities(mun_ids, to_4326=True)"
   ]
  },
  {
   "cell_type": "code",
   "execution_count": 295,
   "metadata": {
    "ExecuteTime": {
     "end_time": "2019-10-17T13:55:39.504545Z",
     "start_time": "2019-10-17T13:55:09.810152Z"
    }
   },
   "outputs": [],
   "source": [
    "\n",
    "m = folium.Map(location=[mex.clat, mex.clon], zoom_start=5)\n",
    "mvis.geojson_per_row(zms.reset_index(), name='metro', tip_cols=['NOM_SUN', 'CVE_SUN', 'pobtot'], color='grey', some_map=m)\n",
    "mvis.geojson_per_row(zms_mgm.reset_index(), name='mu', tip_cols=['NOM_MUN', 'mun_id'], color='orange', some_map=m)\n",
    "\n",
    "mvis.geojson_per_row_color_col(mun_agebs_persistence.reset_index(), name='per', \n",
    "                               tip_cols=['ageb_id', 'pobtot', 'CVE_SUN', 'persistency', 'sum_count'],\n",
    "                              color_col='color',some_map=m)\n",
    "mvis.geojson_per_row_color_col(zms_tvors.reset_index(), name='tower', tip_cols=['gtid', 'sum_count'],\n",
    "                              color_col='color',some_map=m)\n",
    "folium.LayerControl().add_to(m)\n",
    "m.save('maps/mex_mpa_ageb_area/persistency_urb_per_municipality.html')"
   ]
  },
  {
   "cell_type": "code",
   "execution_count": null,
   "metadata": {},
   "outputs": [],
   "source": []
  }
 ],
 "metadata": {
  "kernelspec": {
   "display_name": "Python [conda env:mob2crime]",
   "language": "python",
   "name": "conda-env-mob2crime-py"
  },
  "language_info": {
   "codemirror_mode": {
    "name": "ipython",
    "version": 3
   },
   "file_extension": ".py",
   "mimetype": "text/x-python",
   "name": "python",
   "nbconvert_exporter": "python",
   "pygments_lexer": "ipython3",
   "version": "3.7.3"
  },
  "toc": {
   "base_numbering": 1,
   "nav_menu": {},
   "number_sections": true,
   "sideBar": true,
   "skip_h1_title": false,
   "title_cell": "Table of Contents",
   "title_sidebar": "Contents",
   "toc_cell": false,
   "toc_position": {},
   "toc_section_display": true,
   "toc_window_display": false
  }
 },
 "nbformat": 4,
 "nbformat_minor": 2
}
