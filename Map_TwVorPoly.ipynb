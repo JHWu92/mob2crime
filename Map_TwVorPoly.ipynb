{
 "cells": [
  {
   "cell_type": "code",
   "execution_count": 1,
   "metadata": {
    "ExecuteTime": {
     "end_time": "2019-09-16T22:21:42.635506Z",
     "start_time": "2019-09-16T22:21:42.614181Z"
    }
   },
   "outputs": [],
   "source": [
    "% load_ext autoreload\n",
    "% autoreload 2\n"
   ]
  },
  {
   "cell_type": "code",
   "execution_count": 2,
   "metadata": {
    "ExecuteTime": {
     "end_time": "2019-09-16T22:21:42.745597Z",
     "start_time": "2019-09-16T22:21:42.638071Z"
    }
   },
   "outputs": [
    {
     "data": {
      "text/plain": [
       "'/home/Jiahui/mob2crime'"
      ]
     },
     "execution_count": 2,
     "metadata": {},
     "output_type": "execute_result"
    }
   ],
   "source": [
    "import os\n",
    "\n",
    "if not os.getcwd().endswith('mob2crime'):\n",
    "    os.chdir('..')\n",
    "os.getcwd()"
   ]
  },
  {
   "cell_type": "code",
   "execution_count": 3,
   "metadata": {
    "ExecuteTime": {
     "end_time": "2019-09-16T22:21:50.031879Z",
     "start_time": "2019-09-16T22:21:42.749190Z"
    }
   },
   "outputs": [],
   "source": [
    "import pandas as pd\n",
    "import numpy as np\n",
    "import geopandas as gp\n",
    "import folium\n",
    "from scipy.spatial import Voronoi, voronoi_plot_2d\n",
    "\n",
    "from src.utils.gis import *\n",
    "import src.utils.map_vis as mv\n",
    "import src.mex_helper as mex\n",
    "%matplotlib inline"
   ]
  },
  {
   "cell_type": "markdown",
   "metadata": {},
   "source": [
    "# 20190916 overlaying TVor and loc in target Mpol"
   ]
  },
  {
   "cell_type": "code",
   "execution_count": 4,
   "metadata": {
    "ExecuteTime": {
     "end_time": "2019-09-16T22:24:16.743117Z",
     "start_time": "2019-09-16T22:21:50.034614Z"
    }
   },
   "outputs": [
    {
     "name": "stdout",
     "output_type": "stream",
     "text": [
      "loading existing tvor file: data/mex_tower/mex_tvor_in_country.geojson\n",
      "reading Localidad with polygons\n",
      "reading Localidad with points\n",
      "buffering point to 500\n",
      "changing crs to 4326\n"
     ]
    }
   ],
   "source": [
    "tvor = mex.tower_vor()\n",
    "localidad = mex.localidad()"
   ]
  },
  {
   "cell_type": "code",
   "execution_count": 5,
   "metadata": {
    "ExecuteTime": {
     "end_time": "2019-09-16T22:24:17.402634Z",
     "start_time": "2019-09-16T22:24:16.748446Z"
    }
   },
   "outputs": [],
   "source": [
    "rkind = 'metropolitans_all'\n",
    "rname = 'metropolitan'\n",
    "region = mex.regions(rkind)"
   ]
  },
  {
   "cell_type": "code",
   "execution_count": 6,
   "metadata": {
    "ExecuteTime": {
     "end_time": "2019-09-16T22:25:20.934487Z",
     "start_time": "2019-09-16T22:24:17.404488Z"
    }
   },
   "outputs": [
    {
     "name": "stdout",
     "output_type": "stream",
     "text": [
      "loading t2loc with geometry\n"
     ]
    }
   ],
   "source": [
    "t2loc = mex.tower2loc(500)"
   ]
  },
  {
   "cell_type": "code",
   "execution_count": 8,
   "metadata": {
    "ExecuteTime": {
     "end_time": "2019-09-16T22:31:01.878409Z",
     "start_time": "2019-09-16T22:31:01.713568Z"
    }
   },
   "outputs": [],
   "source": [
    "mv.geojson_per_row_color_col??"
   ]
  },
  {
   "cell_type": "code",
   "execution_count": 70,
   "metadata": {
    "ExecuteTime": {
     "end_time": "2019-09-19T13:40:50.660249Z",
     "start_time": "2019-09-19T13:40:50.629182Z"
    }
   },
   "outputs": [],
   "source": [
    "mnames = [\n",
    "    'Zona metropolitana del Valle de México',\n",
    "    'Zona metropolitana de La Piedad-Pénjamo', 'Zona metropolitana de Ocotlán',\n",
    "    'Zona metropolitana de Guadalajara',\n",
    "    'Zona metropolitana de San Francisco del Rincón',\n",
    "    'Zona metropolitana de León', 'Zona metropolitana de Tianguistenco',\n",
    "    'Zona metropolitana de Cuernavaca', 'Zona metropolitana de Cuautla'\n",
    "]"
   ]
  },
  {
   "cell_type": "code",
   "execution_count": 71,
   "metadata": {
    "ExecuteTime": {
     "end_time": "2019-09-19T13:40:52.338390Z",
     "start_time": "2019-09-19T13:40:52.304679Z"
    }
   },
   "outputs": [],
   "source": [
    "target_metro = region.loc[mnames].reset_index()"
   ]
  },
  {
   "cell_type": "code",
   "execution_count": 72,
   "metadata": {
    "ExecuteTime": {
     "end_time": "2019-09-19T13:40:52.619380Z",
     "start_time": "2019-09-19T13:40:52.517397Z"
    }
   },
   "outputs": [],
   "source": [
    "localidad['mun_id'] = localidad.CVE_ENT+localidad.CVE_MUN"
   ]
  },
  {
   "cell_type": "code",
   "execution_count": 73,
   "metadata": {
    "ExecuteTime": {
     "end_time": "2019-09-19T13:40:52.776543Z",
     "start_time": "2019-09-19T13:40:52.745097Z"
    }
   },
   "outputs": [],
   "source": [
    "mun_ids = [m for ms in target_metro.mun_ids.apply(lambda x: x.split(', ')).tolist() for m in ms]"
   ]
  },
  {
   "cell_type": "code",
   "execution_count": 74,
   "metadata": {
    "ExecuteTime": {
     "end_time": "2019-09-19T13:40:53.044480Z",
     "start_time": "2019-09-19T13:40:52.975219Z"
    }
   },
   "outputs": [],
   "source": [
    "target_loc = localidad[localidad.mun_id.isin(mun_ids)].reset_index()"
   ]
  },
  {
   "cell_type": "code",
   "execution_count": 75,
   "metadata": {
    "ExecuteTime": {
     "end_time": "2019-09-19T13:40:53.280753Z",
     "start_time": "2019-09-19T13:40:53.225067Z"
    }
   },
   "outputs": [],
   "source": [
    "target_t2l = t2loc[t2loc.localidad.isin(target_loc.loc_id)]"
   ]
  },
  {
   "cell_type": "code",
   "execution_count": 76,
   "metadata": {
    "ExecuteTime": {
     "end_time": "2019-09-19T13:40:53.454883Z",
     "start_time": "2019-09-19T13:40:53.423072Z"
    }
   },
   "outputs": [],
   "source": [
    "tids = target_t2l.tower.unique()"
   ]
  },
  {
   "cell_type": "code",
   "execution_count": 77,
   "metadata": {
    "ExecuteTime": {
     "end_time": "2019-09-19T13:40:53.718815Z",
     "start_time": "2019-09-19T13:40:53.663938Z"
    }
   },
   "outputs": [],
   "source": [
    "target_towers = tvor.loc[tids].reset_index()"
   ]
  },
  {
   "cell_type": "code",
   "execution_count": 78,
   "metadata": {
    "ExecuteTime": {
     "end_time": "2019-09-19T13:40:53.932865Z",
     "start_time": "2019-09-19T13:40:53.866187Z"
    }
   },
   "outputs": [
    {
     "data": {
      "text/plain": [
       "0.5805898633531521"
      ]
     },
     "execution_count": 78,
     "metadata": {},
     "output_type": "execute_result"
    }
   ],
   "source": [
    "target_t2l[target_t2l.tower=='36BA9953-36BA9954-36BA9955'].sort_values('weight', ascending=False).weight.sum()"
   ]
  },
  {
   "cell_type": "code",
   "execution_count": 79,
   "metadata": {
    "ExecuteTime": {
     "end_time": "2019-09-19T13:41:59.389297Z",
     "start_time": "2019-09-19T13:40:56.056849Z"
    }
   },
   "outputs": [],
   "source": [
    "some_map = folium.Map(location=[mex.CLAT,mex.CLON], zoom_start=8)\n",
    "mv.geojson_per_row(region.reset_index(),'metro', color='grey', tip_cols=['metropolitan'], some_map=some_map)\n",
    "mv.geojson_per_row(target_towers, 'tower', color='blue', tip_cols=['gtid'], some_map=some_map)\n",
    "mv.geojson_per_row(target_loc,'loc',color='purple',tip_cols=['loc_id','Pop'], some_map=some_map)\n",
    "mv.geojson_per_row(target_t2l,'t2l',color='red',tip_cols=['tower','localidad','iPop','tower_pop','weight'], some_map=some_map)\n",
    "folium.LayerControl(collapsed=False).add_to(some_map)\n",
    "some_map.save(f'maps-v0916/Mex_selected_metro_tw_loc.html')"
   ]
  },
  {
   "cell_type": "code",
   "execution_count": 7,
   "metadata": {
    "ExecuteTime": {
     "end_time": "2019-09-16T22:14:18.473634Z",
     "start_time": "2019-09-16T22:14:14.523488Z"
    }
   },
   "outputs": [
    {
     "data": {
      "text/html": [
       "<div>\n",
       "<style scoped>\n",
       "    .dataframe tbody tr th:only-of-type {\n",
       "        vertical-align: middle;\n",
       "    }\n",
       "\n",
       "    .dataframe tbody tr th {\n",
       "        vertical-align: top;\n",
       "    }\n",
       "\n",
       "    .dataframe thead th {\n",
       "        text-align: right;\n",
       "    }\n",
       "</style>\n",
       "<table border=\"1\" class=\"dataframe\">\n",
       "  <thead>\n",
       "    <tr style=\"text-align: right;\">\n",
       "      <th></th>\n",
       "      <th>cve_sun</th>\n",
       "      <th>mun_ids</th>\n",
       "      <th>name2</th>\n",
       "      <th>population</th>\n",
       "      <th>geometry</th>\n",
       "    </tr>\n",
       "    <tr>\n",
       "      <th>metropolitan</th>\n",
       "      <th></th>\n",
       "      <th></th>\n",
       "      <th></th>\n",
       "      <th></th>\n",
       "      <th></th>\n",
       "    </tr>\n",
       "  </thead>\n",
       "  <tbody>\n",
       "    <tr>\n",
       "      <th>Zona metropolitana del Valle de México</th>\n",
       "      <td>13</td>\n",
       "      <td>09012, 09013, 09008, 09002, 09014, 09015, 0901...</td>\n",
       "      <td>Valle de M‚xico</td>\n",
       "      <td>20116842</td>\n",
       "      <td>POLYGON ((-98.67014315329796 18.99606436833296...</td>\n",
       "    </tr>\n",
       "    <tr>\n",
       "      <th>Zona metropolitana de Guadalajara</th>\n",
       "      <td>21</td>\n",
       "      <td>14039, 14044, 14120, 14070, 14098, 14101, 1405...</td>\n",
       "      <td>Guadalajara</td>\n",
       "      <td>4434878</td>\n",
       "      <td>POLYGON ((-103.286319813277 20.33274354554612,...</td>\n",
       "    </tr>\n",
       "    <tr>\n",
       "      <th>Zona metropolitana de Monterrey</th>\n",
       "      <td>31</td>\n",
       "      <td>19026, 19031, 19049, 19018, 19048, 19039, 1901...</td>\n",
       "      <td>Monterrey</td>\n",
       "      <td>4106054</td>\n",
       "      <td>POLYGON ((-100.1068239216784 25.7014097940026,...</td>\n",
       "    </tr>\n",
       "    <tr>\n",
       "      <th>Zona metropolitana de Puebla-Tlaxcala</th>\n",
       "      <td>34</td>\n",
       "      <td>29059, 29058, 29057, 29056, 29054, 29053, 2905...</td>\n",
       "      <td>Puebla-Tlaxcala</td>\n",
       "      <td>2728790</td>\n",
       "      <td>POLYGON ((-98.41226441590273 19.11671792769241...</td>\n",
       "    </tr>\n",
       "    <tr>\n",
       "      <th>Zona metropolitana de Toluca</th>\n",
       "      <td>24</td>\n",
       "      <td>15118, 15115, 15106, 15087, 15076, 15073, 1507...</td>\n",
       "      <td>Toluca</td>\n",
       "      <td>1936126</td>\n",
       "      <td>POLYGON ((-99.76956480456774 19.07640499527427...</td>\n",
       "    </tr>\n",
       "    <tr>\n",
       "      <th>Zona metropolitana de Tijuana</th>\n",
       "      <td>2</td>\n",
       "      <td>02004, 02003, 02005</td>\n",
       "      <td>Tijuana</td>\n",
       "      <td>1751430</td>\n",
       "      <td>(POLYGON ((-116.675997897869 32.18521836061202...</td>\n",
       "    </tr>\n",
       "    <tr>\n",
       "      <th>Zona metropolitana de León</th>\n",
       "      <td>14</td>\n",
       "      <td>11037, 11020</td>\n",
       "      <td>Le¢n</td>\n",
       "      <td>1609504</td>\n",
       "      <td>POLYGON ((-101.4978255898703 20.88094461130867...</td>\n",
       "    </tr>\n",
       "    <tr>\n",
       "      <th>Zona metropolitana de Juárez</th>\n",
       "      <td>11</td>\n",
       "      <td>08037</td>\n",
       "      <td>Ju rez</td>\n",
       "      <td>1332131</td>\n",
       "      <td>POLYGON ((-106.5099878267038 31.76148617278301...</td>\n",
       "    </tr>\n",
       "    <tr>\n",
       "      <th>Zona metropolitana de La Laguna</th>\n",
       "      <td>4</td>\n",
       "      <td>10007, 10012, 05035, 05017</td>\n",
       "      <td>La Laguna</td>\n",
       "      <td>1215817</td>\n",
       "      <td>POLYGON ((-103.4279682574413 25.30109267747777...</td>\n",
       "    </tr>\n",
       "    <tr>\n",
       "      <th>Zona metropolitana de Querétaro</th>\n",
       "      <td>36</td>\n",
       "      <td>22011, 22014, 22008, 22006</td>\n",
       "      <td>Quer‚taro</td>\n",
       "      <td>1097025</td>\n",
       "      <td>POLYGON ((-100.2323353103928 20.53238475604553...</td>\n",
       "    </tr>\n",
       "    <tr>\n",
       "      <th>Zona metropolitana de San Luis Potosí - Soledad de Graciano Sánchez</th>\n",
       "      <td>38</td>\n",
       "      <td>24035, 24028</td>\n",
       "      <td>San Luis Potos¡-Soledad de Graciano S nchez</td>\n",
       "      <td>1040443</td>\n",
       "      <td>POLYGON ((-100.7968998982122 22.34580929074628...</td>\n",
       "    </tr>\n",
       "    <tr>\n",
       "      <th>Zona metropolitana de Mérida</th>\n",
       "      <td>55</td>\n",
       "      <td>31050, 31041, 31101, 31100, 31013</td>\n",
       "      <td>M‚rida</td>\n",
       "      <td>973046</td>\n",
       "      <td>POLYGON ((-89.80119916442221 21.14914333559416...</td>\n",
       "    </tr>\n",
       "    <tr>\n",
       "      <th>Zona metropolitana de Mexicali</th>\n",
       "      <td>3</td>\n",
       "      <td>02002</td>\n",
       "      <td>Mexicali</td>\n",
       "      <td>936826</td>\n",
       "      <td>(POLYGON ((-112.8923305416097 28.6782608390432...</td>\n",
       "    </tr>\n",
       "    <tr>\n",
       "      <th>Zona metropolitana de Aguascalientes</th>\n",
       "      <td>1</td>\n",
       "      <td>01005, 01011, 01001</td>\n",
       "      <td>Aguascalientes</td>\n",
       "      <td>932369</td>\n",
       "      <td>POLYGON ((-102.1064122399267 22.06035441303033...</td>\n",
       "    </tr>\n",
       "    <tr>\n",
       "      <th>Zona metropolitana de Cuernavaca</th>\n",
       "      <td>28</td>\n",
       "      <td>17020, 17018, 17007, 17028, 17009, 17008, 1701...</td>\n",
       "      <td>Cuernavaca</td>\n",
       "      <td>924964</td>\n",
       "      <td>POLYGON ((-99.12286437574771 18.8295163047535,...</td>\n",
       "    </tr>\n",
       "    <tr>\n",
       "      <th>Zona metropolitana de Acapulco</th>\n",
       "      <td>17</td>\n",
       "      <td>12021, 12001</td>\n",
       "      <td>Acapulco</td>\n",
       "      <td>863431</td>\n",
       "      <td>(POLYGON ((-99.9085014210799 16.82495449264042...</td>\n",
       "    </tr>\n",
       "    <tr>\n",
       "      <th>Zona metropolitana de Tampico</th>\n",
       "      <td>42</td>\n",
       "      <td>30123, 30133, 28038, 28009, 28003</td>\n",
       "      <td>Tampico</td>\n",
       "      <td>859419</td>\n",
       "      <td>POLYGON ((-97.78459981764949 22.26235752625409...</td>\n",
       "    </tr>\n",
       "    <tr>\n",
       "      <th>Zona metropolitana de Chihuahua</th>\n",
       "      <td>12</td>\n",
       "      <td>08019, 08004, 08002</td>\n",
       "      <td>Chihuahua</td>\n",
       "      <td>852533</td>\n",
       "      <td>POLYGON ((-105.694426840008 28.55697607324183,...</td>\n",
       "    </tr>\n",
       "    <tr>\n",
       "      <th>Zona metropolitana de Morelia</th>\n",
       "      <td>25</td>\n",
       "      <td>16022, 16053, 16088</td>\n",
       "      <td>Morelia</td>\n",
       "      <td>829625</td>\n",
       "      <td>POLYGON ((-101.2699051441763 19.8580724787545,...</td>\n",
       "    </tr>\n",
       "    <tr>\n",
       "      <th>Zona metropolitana de Saltillo</th>\n",
       "      <td>5</td>\n",
       "      <td>05030, 05027, 05004</td>\n",
       "      <td>Saltillo</td>\n",
       "      <td>823128</td>\n",
       "      <td>POLYGON ((-100.80454776667 25.15325944326091, ...</td>\n",
       "    </tr>\n",
       "    <tr>\n",
       "      <th>Zona metropolitana de Veracruz</th>\n",
       "      <td>47</td>\n",
       "      <td>30011, 30028, 30090, 30105, 30193</td>\n",
       "      <td>Veracruz</td>\n",
       "      <td>811671</td>\n",
       "      <td>(POLYGON ((-96.09203969368166 19.1767918438259...</td>\n",
       "    </tr>\n",
       "    <tr>\n",
       "      <th>Zona metropolitana de Villahermosa</th>\n",
       "      <td>41</td>\n",
       "      <td>27004, 27013</td>\n",
       "      <td>Villahermosa</td>\n",
       "      <td>755425</td>\n",
       "      <td>POLYGON ((-92.8865263834322 18.31952078941393,...</td>\n",
       "    </tr>\n",
       "    <tr>\n",
       "      <th>Zona metropolitana de Reynosa-Río Bravo</th>\n",
       "      <td>43</td>\n",
       "      <td>28032, 28033</td>\n",
       "      <td>Reynosa-R¡o Bravo</td>\n",
       "      <td>727150</td>\n",
       "      <td>POLYGON ((-97.94113698474702 26.05747232265776...</td>\n",
       "    </tr>\n",
       "    <tr>\n",
       "      <th>Zona metropolitana de Tuxtla Gutiérrez</th>\n",
       "      <td>10</td>\n",
       "      <td>07101, 07027, 07012</td>\n",
       "      <td>Tuxtla Guti‚rrez</td>\n",
       "      <td>684156</td>\n",
       "      <td>POLYGON ((-93.08098632560277 16.84094848639171...</td>\n",
       "    </tr>\n",
       "    <tr>\n",
       "      <th>Zona metropolitana de Cancún</th>\n",
       "      <td>37</td>\n",
       "      <td>23005, 23003</td>\n",
       "      <td>Canc£n</td>\n",
       "      <td>677379</td>\n",
       "      <td>(POLYGON ((-86.72492341729765 21.2134763470173...</td>\n",
       "    </tr>\n",
       "    <tr>\n",
       "      <th>Zona metropolitana de Xalapa</th>\n",
       "      <td>48</td>\n",
       "      <td>30026, 30038, 30065, 30087, 30093, 30136, 30182</td>\n",
       "      <td>Xalapa</td>\n",
       "      <td>666535</td>\n",
       "      <td>POLYGON ((-96.81649846556145 19.39533744881427...</td>\n",
       "    </tr>\n",
       "    <tr>\n",
       "      <th>Zona metropolitana de Oaxaca</th>\n",
       "      <td>32</td>\n",
       "      <td>20087, 20067, 20091, 20553, 20338, 20083, 2015...</td>\n",
       "      <td>Oaxaca</td>\n",
       "      <td>607963</td>\n",
       "      <td>POLYGON ((-96.70046300508734 16.90113368159351...</td>\n",
       "    </tr>\n",
       "    <tr>\n",
       "      <th>Zona metropolitana de Celaya</th>\n",
       "      <td>57</td>\n",
       "      <td>11009, 11007, 11044</td>\n",
       "      <td>Celaya</td>\n",
       "      <td>602045</td>\n",
       "      <td>POLYGON ((-100.6348829175936 20.66676665299208...</td>\n",
       "    </tr>\n",
       "    <tr>\n",
       "      <th>Zona metropolitana de Poza Rica</th>\n",
       "      <td>49</td>\n",
       "      <td>30033, 30040, 30124, 30131, 30175</td>\n",
       "      <td>Poza Rica</td>\n",
       "      <td>513518</td>\n",
       "      <td>POLYGON ((-97.18065945165777 20.67071707947663...</td>\n",
       "    </tr>\n",
       "    <tr>\n",
       "      <th>Zona metropolitana de Pachuca</th>\n",
       "      <td>18</td>\n",
       "      <td>13022, 13039, 13051, 13083, 13052, 13048, 13082</td>\n",
       "      <td>Pachuca</td>\n",
       "      <td>512196</td>\n",
       "      <td>POLYGON ((-98.60510575908197 20.11754909974939...</td>\n",
       "    </tr>\n",
       "    <tr>\n",
       "      <th>Zona metropolitana de Tlaxcala-Apizaco</th>\n",
       "      <td>46</td>\n",
       "      <td>29060, 29050, 29049, 29048, 29043, 29039, 2903...</td>\n",
       "      <td>Tlaxcala-Apizaco</td>\n",
       "      <td>499567</td>\n",
       "      <td>POLYGON ((-98.30639225756285 19.28374309537047...</td>\n",
       "    </tr>\n",
       "    <tr>\n",
       "      <th>Zona metropolitana de Matamoros</th>\n",
       "      <td>44</td>\n",
       "      <td>28022</td>\n",
       "      <td>Matamoros</td>\n",
       "      <td>489193</td>\n",
       "      <td>POLYGON ((-97.43224710588929 25.84626701126117...</td>\n",
       "    </tr>\n",
       "    <tr>\n",
       "      <th>Zona metropolitana de Cuautla</th>\n",
       "      <td>29</td>\n",
       "      <td>17029, 17030, 17026, 17006, 17002, 17004</td>\n",
       "      <td>Cuautla</td>\n",
       "      <td>434147</td>\n",
       "      <td>POLYGON ((-98.83636218153704 18.76450816568229...</td>\n",
       "    </tr>\n",
       "    <tr>\n",
       "      <th>Zona metropolitana de Tepic</th>\n",
       "      <td>30</td>\n",
       "      <td>18008, 18017</td>\n",
       "      <td>Tepic</td>\n",
       "      <td>429351</td>\n",
       "      <td>POLYGON ((-104.7639710585291 21.39486742051556...</td>\n",
       "    </tr>\n",
       "    <tr>\n",
       "      <th>Zona metropolitana de Orizaba</th>\n",
       "      <td>50</td>\n",
       "      <td>30022, 30030, 30074, 30081, 30085, 30099, 3010...</td>\n",
       "      <td>Orizaba</td>\n",
       "      <td>427406</td>\n",
       "      <td>POLYGON ((-97.04121782591071 18.78976664863583...</td>\n",
       "    </tr>\n",
       "    <tr>\n",
       "      <th>Zona metropolitana de Nuevo Laredo</th>\n",
       "      <td>45</td>\n",
       "      <td>28027</td>\n",
       "      <td>Nuevo Laredo</td>\n",
       "      <td>384033</td>\n",
       "      <td>POLYGON ((-99.71771759959194 27.66286054884337...</td>\n",
       "    </tr>\n",
       "    <tr>\n",
       "      <th>Zona metropolitana de Puerto Vallarta</th>\n",
       "      <td>22</td>\n",
       "      <td>18020, 14067</td>\n",
       "      <td>Puerto Vallarta</td>\n",
       "      <td>379886</td>\n",
       "      <td>(POLYGON ((-105.2929421518996 20.5444229853993...</td>\n",
       "    </tr>\n",
       "    <tr>\n",
       "      <th>Zona metropolitana de Minatitlán</th>\n",
       "      <td>51</td>\n",
       "      <td>30048, 30059, 30089, 30108, 30120, 30199</td>\n",
       "      <td>Minatitl n</td>\n",
       "      <td>356137</td>\n",
       "      <td>POLYGON ((-94.18664834327375 17.67269860518193...</td>\n",
       "    </tr>\n",
       "    <tr>\n",
       "      <th>Zona metropolitana de Coatzacoalcos</th>\n",
       "      <td>52</td>\n",
       "      <td>30039, 30082, 30206</td>\n",
       "      <td>Coatzacoalcos</td>\n",
       "      <td>347257</td>\n",
       "      <td>POLYGON ((-94.33665405768727 18.02322910418781...</td>\n",
       "    </tr>\n",
       "    <tr>\n",
       "      <th>Zona metropolitana de Colima-Villa de Álvarez</th>\n",
       "      <td>8</td>\n",
       "      <td>06004, 06010, 06003, 06002, 06005</td>\n",
       "      <td>Colima-Villa de µlvarez</td>\n",
       "      <td>334240</td>\n",
       "      <td>POLYGON ((-103.5141337782114 19.21719308402262...</td>\n",
       "    </tr>\n",
       "    <tr>\n",
       "      <th>Zona metropolitana de Monclova-Frontera</th>\n",
       "      <td>6</td>\n",
       "      <td>05018, 05010, 05006</td>\n",
       "      <td>Monclova-Frontera</td>\n",
       "      <td>317313</td>\n",
       "      <td>POLYGON ((-101.1126280799141 26.69767303398244...</td>\n",
       "    </tr>\n",
       "    <tr>\n",
       "      <th>Zona metropolitana de Córdoba</th>\n",
       "      <td>53</td>\n",
       "      <td>30014, 30044, 30068, 30196</td>\n",
       "      <td>C¢rdoba</td>\n",
       "      <td>316032</td>\n",
       "      <td>POLYGON ((-96.76170695933202 18.8163599174738,...</td>\n",
       "    </tr>\n",
       "    <tr>\n",
       "      <th>Zona metropolitana de Zacatecas-Guadalupe</th>\n",
       "      <td>56</td>\n",
       "      <td>32032, 32017, 32056</td>\n",
       "      <td>Zacatecas-Guadalupe</td>\n",
       "      <td>309660</td>\n",
       "      <td>POLYGON ((-102.5854166489967 22.8114882944136,...</td>\n",
       "    </tr>\n",
       "    <tr>\n",
       "      <th>Zona metropolitana de Tehuacán</th>\n",
       "      <td>35</td>\n",
       "      <td>21149, 21156</td>\n",
       "      <td>Tehuac n</td>\n",
       "      <td>296899</td>\n",
       "      <td>POLYGON ((-97.31350708906938 18.46906016740025...</td>\n",
       "    </tr>\n",
       "    <tr>\n",
       "      <th>Zona metropolitana de Zamora-Jacona</th>\n",
       "      <td>26</td>\n",
       "      <td>16108, 16043</td>\n",
       "      <td>Zamora-Jacona</td>\n",
       "      <td>250113</td>\n",
       "      <td>(POLYGON ((-102.2455405413702 19.9388378528739...</td>\n",
       "    </tr>\n",
       "    <tr>\n",
       "      <th>Zona metropolitana de La Piedad-Pénjamo</th>\n",
       "      <td>27</td>\n",
       "      <td>16069, 11023</td>\n",
       "      <td>La Piedad-P‚njamo</td>\n",
       "      <td>249512</td>\n",
       "      <td>POLYGON ((-101.9463586818037 20.34317810018212...</td>\n",
       "    </tr>\n",
       "    <tr>\n",
       "      <th>Zona metropolitana de Tulancingo</th>\n",
       "      <td>19</td>\n",
       "      <td>13016, 13056, 13077</td>\n",
       "      <td>Tulancingo</td>\n",
       "      <td>239579</td>\n",
       "      <td>POLYGON ((-98.15820150453526 20.08432134923275...</td>\n",
       "    </tr>\n",
       "    <tr>\n",
       "      <th>Zona metropolitana de Tula</th>\n",
       "      <td>20</td>\n",
       "      <td>13070, 13074, 13076, 13010, 13013</td>\n",
       "      <td>Tula</td>\n",
       "      <td>205812</td>\n",
       "      <td>POLYGON ((-99.14908807206166 20.03502079975187...</td>\n",
       "    </tr>\n",
       "    <tr>\n",
       "      <th>Zona metropolitana de Guaymas</th>\n",
       "      <td>40</td>\n",
       "      <td>26025, 26029</td>\n",
       "      <td>Guaymas</td>\n",
       "      <td>203430</td>\n",
       "      <td>(POLYGON ((-111.3786281309711 27.9740840820099...</td>\n",
       "    </tr>\n",
       "    <tr>\n",
       "      <th>Zona metropolitana de San Francisco del Rincón</th>\n",
       "      <td>15</td>\n",
       "      <td>11025, 11031</td>\n",
       "      <td>San Francisco del Rinc¢n</td>\n",
       "      <td>182365</td>\n",
       "      <td>POLYGON ((-101.7854404832005 21.04892219169014...</td>\n",
       "    </tr>\n",
       "    <tr>\n",
       "      <th>Zona metropolitana de Piedras Negras</th>\n",
       "      <td>7</td>\n",
       "      <td>05025, 05022</td>\n",
       "      <td>Piedras Negras</td>\n",
       "      <td>180734</td>\n",
       "      <td>POLYGON ((-100.8116906642597 28.48364390215004...</td>\n",
       "    </tr>\n",
       "    <tr>\n",
       "      <th>Zona metropolitana de Tehuantepec</th>\n",
       "      <td>33</td>\n",
       "      <td>20079, 20124, 20515</td>\n",
       "      <td>Tehuantepec</td>\n",
       "      <td>161337</td>\n",
       "      <td>(POLYGON ((-95.47202165201679 16.9321053892910...</td>\n",
       "    </tr>\n",
       "    <tr>\n",
       "      <th>Zona metropolitana de Tianguistenco</th>\n",
       "      <td>58</td>\n",
       "      <td>15101, 15098, 15043, 15019, 15012, 15006</td>\n",
       "      <td>Tianguistenco</td>\n",
       "      <td>157944</td>\n",
       "      <td>POLYGON ((-99.48196452851981 19.08779643518412...</td>\n",
       "    </tr>\n",
       "    <tr>\n",
       "      <th>Zona metropolitana de Tecomán</th>\n",
       "      <td>9</td>\n",
       "      <td>06009, 06001</td>\n",
       "      <td>Tecom n</td>\n",
       "      <td>141421</td>\n",
       "      <td>(POLYGON ((-114.7264985875087 18.3603718880002...</td>\n",
       "    </tr>\n",
       "    <tr>\n",
       "      <th>Zona metropolitana de Ocotlán</th>\n",
       "      <td>23</td>\n",
       "      <td>14066, 14063</td>\n",
       "      <td>Ocotl n</td>\n",
       "      <td>141375</td>\n",
       "      <td>POLYGON ((-103.0048056711144 20.40799977063429...</td>\n",
       "    </tr>\n",
       "    <tr>\n",
       "      <th>Zona metropolitana de Rioverde-Ciudad Fernández</th>\n",
       "      <td>39</td>\n",
       "      <td>24024, 24011</td>\n",
       "      <td>R¡overde-Ciudad Fern ndez</td>\n",
       "      <td>135452</td>\n",
       "      <td>POLYGON ((-99.80942274464775 22.05452960742615...</td>\n",
       "    </tr>\n",
       "    <tr>\n",
       "      <th>Zona metropolitana de Teziutlán</th>\n",
       "      <td>59</td>\n",
       "      <td>21054, 21174</td>\n",
       "      <td>Teziutl n</td>\n",
       "      <td>122500</td>\n",
       "      <td>POLYGON ((-97.3921906063442 19.76753848790943,...</td>\n",
       "    </tr>\n",
       "    <tr>\n",
       "      <th>Zona metropolitana de Acayucan</th>\n",
       "      <td>54</td>\n",
       "      <td>30003, 30116, 30145</td>\n",
       "      <td>Acayucan</td>\n",
       "      <td>112996</td>\n",
       "      <td>POLYGON ((-94.85654294850742 17.95517524947729...</td>\n",
       "    </tr>\n",
       "    <tr>\n",
       "      <th>Zona metropolitana de Moroleón-Uriangato</th>\n",
       "      <td>16</td>\n",
       "      <td>11041, 11021</td>\n",
       "      <td>Morole¢n-Uriangato</td>\n",
       "      <td>108669</td>\n",
       "      <td>POLYGON ((-101.252207053128 20.16186095443654,...</td>\n",
       "    </tr>\n",
       "  </tbody>\n",
       "</table>\n",
       "</div>"
      ],
      "text/plain": [
       "                                                    cve_sun  \\\n",
       "metropolitan                                                  \n",
       "Zona metropolitana del Valle de México                   13   \n",
       "Zona metropolitana de Guadalajara                        21   \n",
       "Zona metropolitana de Monterrey                          31   \n",
       "Zona metropolitana de Puebla-Tlaxcala                    34   \n",
       "Zona metropolitana de Toluca                             24   \n",
       "Zona metropolitana de Tijuana                             2   \n",
       "Zona metropolitana de León                               14   \n",
       "Zona metropolitana de Juárez                             11   \n",
       "Zona metropolitana de La Laguna                           4   \n",
       "Zona metropolitana de Querétaro                          36   \n",
       "Zona metropolitana de San Luis Potosí - Soledad...       38   \n",
       "Zona metropolitana de Mérida                             55   \n",
       "Zona metropolitana de Mexicali                            3   \n",
       "Zona metropolitana de Aguascalientes                      1   \n",
       "Zona metropolitana de Cuernavaca                         28   \n",
       "Zona metropolitana de Acapulco                           17   \n",
       "Zona metropolitana de Tampico                            42   \n",
       "Zona metropolitana de Chihuahua                          12   \n",
       "Zona metropolitana de Morelia                            25   \n",
       "Zona metropolitana de Saltillo                            5   \n",
       "Zona metropolitana de Veracruz                           47   \n",
       "Zona metropolitana de Villahermosa                       41   \n",
       "Zona metropolitana de Reynosa-Río Bravo                  43   \n",
       "Zona metropolitana de Tuxtla Gutiérrez                   10   \n",
       "Zona metropolitana de Cancún                             37   \n",
       "Zona metropolitana de Xalapa                             48   \n",
       "Zona metropolitana de Oaxaca                             32   \n",
       "Zona metropolitana de Celaya                             57   \n",
       "Zona metropolitana de Poza Rica                          49   \n",
       "Zona metropolitana de Pachuca                            18   \n",
       "Zona metropolitana de Tlaxcala-Apizaco                   46   \n",
       "Zona metropolitana de Matamoros                          44   \n",
       "Zona metropolitana de Cuautla                            29   \n",
       "Zona metropolitana de Tepic                              30   \n",
       "Zona metropolitana de Orizaba                            50   \n",
       "Zona metropolitana de Nuevo Laredo                       45   \n",
       "Zona metropolitana de Puerto Vallarta                    22   \n",
       "Zona metropolitana de Minatitlán                         51   \n",
       "Zona metropolitana de Coatzacoalcos                      52   \n",
       "Zona metropolitana de Colima-Villa de Álvarez             8   \n",
       "Zona metropolitana de Monclova-Frontera                   6   \n",
       "Zona metropolitana de Córdoba                            53   \n",
       "Zona metropolitana de Zacatecas-Guadalupe                56   \n",
       "Zona metropolitana de Tehuacán                           35   \n",
       "Zona metropolitana de Zamora-Jacona                      26   \n",
       "Zona metropolitana de La Piedad-Pénjamo                  27   \n",
       "Zona metropolitana de Tulancingo                         19   \n",
       "Zona metropolitana de Tula                               20   \n",
       "Zona metropolitana de Guaymas                            40   \n",
       "Zona metropolitana de San Francisco del Rincón           15   \n",
       "Zona metropolitana de Piedras Negras                      7   \n",
       "Zona metropolitana de Tehuantepec                        33   \n",
       "Zona metropolitana de Tianguistenco                      58   \n",
       "Zona metropolitana de Tecomán                             9   \n",
       "Zona metropolitana de Ocotlán                            23   \n",
       "Zona metropolitana de Rioverde-Ciudad Fernández          39   \n",
       "Zona metropolitana de Teziutlán                          59   \n",
       "Zona metropolitana de Acayucan                           54   \n",
       "Zona metropolitana de Moroleón-Uriangato                 16   \n",
       "\n",
       "                                                                                              mun_ids  \\\n",
       "metropolitan                                                                                            \n",
       "Zona metropolitana del Valle de México              09012, 09013, 09008, 09002, 09014, 09015, 0901...   \n",
       "Zona metropolitana de Guadalajara                   14039, 14044, 14120, 14070, 14098, 14101, 1405...   \n",
       "Zona metropolitana de Monterrey                     19026, 19031, 19049, 19018, 19048, 19039, 1901...   \n",
       "Zona metropolitana de Puebla-Tlaxcala               29059, 29058, 29057, 29056, 29054, 29053, 2905...   \n",
       "Zona metropolitana de Toluca                        15118, 15115, 15106, 15087, 15076, 15073, 1507...   \n",
       "Zona metropolitana de Tijuana                                                     02004, 02003, 02005   \n",
       "Zona metropolitana de León                                                               11037, 11020   \n",
       "Zona metropolitana de Juárez                                                                    08037   \n",
       "Zona metropolitana de La Laguna                                            10007, 10012, 05035, 05017   \n",
       "Zona metropolitana de Querétaro                                            22011, 22014, 22008, 22006   \n",
       "Zona metropolitana de San Luis Potosí - Soledad...                                       24035, 24028   \n",
       "Zona metropolitana de Mérida                                        31050, 31041, 31101, 31100, 31013   \n",
       "Zona metropolitana de Mexicali                                                                  02002   \n",
       "Zona metropolitana de Aguascalientes                                              01005, 01011, 01001   \n",
       "Zona metropolitana de Cuernavaca                    17020, 17018, 17007, 17028, 17009, 17008, 1701...   \n",
       "Zona metropolitana de Acapulco                                                           12021, 12001   \n",
       "Zona metropolitana de Tampico                                       30123, 30133, 28038, 28009, 28003   \n",
       "Zona metropolitana de Chihuahua                                                   08019, 08004, 08002   \n",
       "Zona metropolitana de Morelia                                                     16022, 16053, 16088   \n",
       "Zona metropolitana de Saltillo                                                    05030, 05027, 05004   \n",
       "Zona metropolitana de Veracruz                                      30011, 30028, 30090, 30105, 30193   \n",
       "Zona metropolitana de Villahermosa                                                       27004, 27013   \n",
       "Zona metropolitana de Reynosa-Río Bravo                                                  28032, 28033   \n",
       "Zona metropolitana de Tuxtla Gutiérrez                                            07101, 07027, 07012   \n",
       "Zona metropolitana de Cancún                                                             23005, 23003   \n",
       "Zona metropolitana de Xalapa                          30026, 30038, 30065, 30087, 30093, 30136, 30182   \n",
       "Zona metropolitana de Oaxaca                        20087, 20067, 20091, 20553, 20338, 20083, 2015...   \n",
       "Zona metropolitana de Celaya                                                      11009, 11007, 11044   \n",
       "Zona metropolitana de Poza Rica                                     30033, 30040, 30124, 30131, 30175   \n",
       "Zona metropolitana de Pachuca                         13022, 13039, 13051, 13083, 13052, 13048, 13082   \n",
       "Zona metropolitana de Tlaxcala-Apizaco              29060, 29050, 29049, 29048, 29043, 29039, 2903...   \n",
       "Zona metropolitana de Matamoros                                                                 28022   \n",
       "Zona metropolitana de Cuautla                                17029, 17030, 17026, 17006, 17002, 17004   \n",
       "Zona metropolitana de Tepic                                                              18008, 18017   \n",
       "Zona metropolitana de Orizaba                       30022, 30030, 30074, 30081, 30085, 30099, 3010...   \n",
       "Zona metropolitana de Nuevo Laredo                                                              28027   \n",
       "Zona metropolitana de Puerto Vallarta                                                    18020, 14067   \n",
       "Zona metropolitana de Minatitlán                             30048, 30059, 30089, 30108, 30120, 30199   \n",
       "Zona metropolitana de Coatzacoalcos                                               30039, 30082, 30206   \n",
       "Zona metropolitana de Colima-Villa de Álvarez                       06004, 06010, 06003, 06002, 06005   \n",
       "Zona metropolitana de Monclova-Frontera                                           05018, 05010, 05006   \n",
       "Zona metropolitana de Córdoba                                              30014, 30044, 30068, 30196   \n",
       "Zona metropolitana de Zacatecas-Guadalupe                                         32032, 32017, 32056   \n",
       "Zona metropolitana de Tehuacán                                                           21149, 21156   \n",
       "Zona metropolitana de Zamora-Jacona                                                      16108, 16043   \n",
       "Zona metropolitana de La Piedad-Pénjamo                                                  16069, 11023   \n",
       "Zona metropolitana de Tulancingo                                                  13016, 13056, 13077   \n",
       "Zona metropolitana de Tula                                          13070, 13074, 13076, 13010, 13013   \n",
       "Zona metropolitana de Guaymas                                                            26025, 26029   \n",
       "Zona metropolitana de San Francisco del Rincón                                           11025, 11031   \n",
       "Zona metropolitana de Piedras Negras                                                     05025, 05022   \n",
       "Zona metropolitana de Tehuantepec                                                 20079, 20124, 20515   \n",
       "Zona metropolitana de Tianguistenco                          15101, 15098, 15043, 15019, 15012, 15006   \n",
       "Zona metropolitana de Tecomán                                                            06009, 06001   \n",
       "Zona metropolitana de Ocotlán                                                            14066, 14063   \n",
       "Zona metropolitana de Rioverde-Ciudad Fernández                                          24024, 24011   \n",
       "Zona metropolitana de Teziutlán                                                          21054, 21174   \n",
       "Zona metropolitana de Acayucan                                                    30003, 30116, 30145   \n",
       "Zona metropolitana de Moroleón-Uriangato                                                 11041, 11021   \n",
       "\n",
       "                                                                                          name2  \\\n",
       "metropolitan                                                                                      \n",
       "Zona metropolitana del Valle de México                                          Valle de M‚xico   \n",
       "Zona metropolitana de Guadalajara                                                   Guadalajara   \n",
       "Zona metropolitana de Monterrey                                                       Monterrey   \n",
       "Zona metropolitana de Puebla-Tlaxcala                                           Puebla-Tlaxcala   \n",
       "Zona metropolitana de Toluca                                                             Toluca   \n",
       "Zona metropolitana de Tijuana                                                           Tijuana   \n",
       "Zona metropolitana de León                                                                 Le¢n   \n",
       "Zona metropolitana de Juárez                                                             Ju rez   \n",
       "Zona metropolitana de La Laguna                                                       La Laguna   \n",
       "Zona metropolitana de Querétaro                                                       Quer‚taro   \n",
       "Zona metropolitana de San Luis Potosí - Soledad...  San Luis Potos¡-Soledad de Graciano S nchez   \n",
       "Zona metropolitana de Mérida                                                             M‚rida   \n",
       "Zona metropolitana de Mexicali                                                         Mexicali   \n",
       "Zona metropolitana de Aguascalientes                                             Aguascalientes   \n",
       "Zona metropolitana de Cuernavaca                                                     Cuernavaca   \n",
       "Zona metropolitana de Acapulco                                                         Acapulco   \n",
       "Zona metropolitana de Tampico                                                           Tampico   \n",
       "Zona metropolitana de Chihuahua                                                       Chihuahua   \n",
       "Zona metropolitana de Morelia                                                           Morelia   \n",
       "Zona metropolitana de Saltillo                                                         Saltillo   \n",
       "Zona metropolitana de Veracruz                                                         Veracruz   \n",
       "Zona metropolitana de Villahermosa                                                 Villahermosa   \n",
       "Zona metropolitana de Reynosa-Río Bravo                                       Reynosa-R¡o Bravo   \n",
       "Zona metropolitana de Tuxtla Gutiérrez                                         Tuxtla Guti‚rrez   \n",
       "Zona metropolitana de Cancún                                                             Canc£n   \n",
       "Zona metropolitana de Xalapa                                                             Xalapa   \n",
       "Zona metropolitana de Oaxaca                                                             Oaxaca   \n",
       "Zona metropolitana de Celaya                                                             Celaya   \n",
       "Zona metropolitana de Poza Rica                                                       Poza Rica   \n",
       "Zona metropolitana de Pachuca                                                           Pachuca   \n",
       "Zona metropolitana de Tlaxcala-Apizaco                                         Tlaxcala-Apizaco   \n",
       "Zona metropolitana de Matamoros                                                       Matamoros   \n",
       "Zona metropolitana de Cuautla                                                           Cuautla   \n",
       "Zona metropolitana de Tepic                                                               Tepic   \n",
       "Zona metropolitana de Orizaba                                                           Orizaba   \n",
       "Zona metropolitana de Nuevo Laredo                                                 Nuevo Laredo   \n",
       "Zona metropolitana de Puerto Vallarta                                           Puerto Vallarta   \n",
       "Zona metropolitana de Minatitlán                                                     Minatitl n   \n",
       "Zona metropolitana de Coatzacoalcos                                               Coatzacoalcos   \n",
       "Zona metropolitana de Colima-Villa de Álvarez                           Colima-Villa de µlvarez   \n",
       "Zona metropolitana de Monclova-Frontera                                       Monclova-Frontera   \n",
       "Zona metropolitana de Córdoba                                                           C¢rdoba   \n",
       "Zona metropolitana de Zacatecas-Guadalupe                                   Zacatecas-Guadalupe   \n",
       "Zona metropolitana de Tehuacán                                                         Tehuac n   \n",
       "Zona metropolitana de Zamora-Jacona                                               Zamora-Jacona   \n",
       "Zona metropolitana de La Piedad-Pénjamo                                       La Piedad-P‚njamo   \n",
       "Zona metropolitana de Tulancingo                                                     Tulancingo   \n",
       "Zona metropolitana de Tula                                                                 Tula   \n",
       "Zona metropolitana de Guaymas                                                           Guaymas   \n",
       "Zona metropolitana de San Francisco del Rincón                         San Francisco del Rinc¢n   \n",
       "Zona metropolitana de Piedras Negras                                             Piedras Negras   \n",
       "Zona metropolitana de Tehuantepec                                                   Tehuantepec   \n",
       "Zona metropolitana de Tianguistenco                                               Tianguistenco   \n",
       "Zona metropolitana de Tecomán                                                           Tecom n   \n",
       "Zona metropolitana de Ocotlán                                                           Ocotl n   \n",
       "Zona metropolitana de Rioverde-Ciudad Fernández                       R¡overde-Ciudad Fern ndez   \n",
       "Zona metropolitana de Teziutlán                                                       Teziutl n   \n",
       "Zona metropolitana de Acayucan                                                         Acayucan   \n",
       "Zona metropolitana de Moroleón-Uriangato                                     Morole¢n-Uriangato   \n",
       "\n",
       "                                                    population  \\\n",
       "metropolitan                                                     \n",
       "Zona metropolitana del Valle de México                20116842   \n",
       "Zona metropolitana de Guadalajara                      4434878   \n",
       "Zona metropolitana de Monterrey                        4106054   \n",
       "Zona metropolitana de Puebla-Tlaxcala                  2728790   \n",
       "Zona metropolitana de Toluca                           1936126   \n",
       "Zona metropolitana de Tijuana                          1751430   \n",
       "Zona metropolitana de León                             1609504   \n",
       "Zona metropolitana de Juárez                           1332131   \n",
       "Zona metropolitana de La Laguna                        1215817   \n",
       "Zona metropolitana de Querétaro                        1097025   \n",
       "Zona metropolitana de San Luis Potosí - Soledad...     1040443   \n",
       "Zona metropolitana de Mérida                            973046   \n",
       "Zona metropolitana de Mexicali                          936826   \n",
       "Zona metropolitana de Aguascalientes                    932369   \n",
       "Zona metropolitana de Cuernavaca                        924964   \n",
       "Zona metropolitana de Acapulco                          863431   \n",
       "Zona metropolitana de Tampico                           859419   \n",
       "Zona metropolitana de Chihuahua                         852533   \n",
       "Zona metropolitana de Morelia                           829625   \n",
       "Zona metropolitana de Saltillo                          823128   \n",
       "Zona metropolitana de Veracruz                          811671   \n",
       "Zona metropolitana de Villahermosa                      755425   \n",
       "Zona metropolitana de Reynosa-Río Bravo                 727150   \n",
       "Zona metropolitana de Tuxtla Gutiérrez                  684156   \n",
       "Zona metropolitana de Cancún                            677379   \n",
       "Zona metropolitana de Xalapa                            666535   \n",
       "Zona metropolitana de Oaxaca                            607963   \n",
       "Zona metropolitana de Celaya                            602045   \n",
       "Zona metropolitana de Poza Rica                         513518   \n",
       "Zona metropolitana de Pachuca                           512196   \n",
       "Zona metropolitana de Tlaxcala-Apizaco                  499567   \n",
       "Zona metropolitana de Matamoros                         489193   \n",
       "Zona metropolitana de Cuautla                           434147   \n",
       "Zona metropolitana de Tepic                             429351   \n",
       "Zona metropolitana de Orizaba                           427406   \n",
       "Zona metropolitana de Nuevo Laredo                      384033   \n",
       "Zona metropolitana de Puerto Vallarta                   379886   \n",
       "Zona metropolitana de Minatitlán                        356137   \n",
       "Zona metropolitana de Coatzacoalcos                     347257   \n",
       "Zona metropolitana de Colima-Villa de Álvarez           334240   \n",
       "Zona metropolitana de Monclova-Frontera                 317313   \n",
       "Zona metropolitana de Córdoba                           316032   \n",
       "Zona metropolitana de Zacatecas-Guadalupe               309660   \n",
       "Zona metropolitana de Tehuacán                          296899   \n",
       "Zona metropolitana de Zamora-Jacona                     250113   \n",
       "Zona metropolitana de La Piedad-Pénjamo                 249512   \n",
       "Zona metropolitana de Tulancingo                        239579   \n",
       "Zona metropolitana de Tula                              205812   \n",
       "Zona metropolitana de Guaymas                           203430   \n",
       "Zona metropolitana de San Francisco del Rincón          182365   \n",
       "Zona metropolitana de Piedras Negras                    180734   \n",
       "Zona metropolitana de Tehuantepec                       161337   \n",
       "Zona metropolitana de Tianguistenco                     157944   \n",
       "Zona metropolitana de Tecomán                           141421   \n",
       "Zona metropolitana de Ocotlán                           141375   \n",
       "Zona metropolitana de Rioverde-Ciudad Fernández         135452   \n",
       "Zona metropolitana de Teziutlán                         122500   \n",
       "Zona metropolitana de Acayucan                          112996   \n",
       "Zona metropolitana de Moroleón-Uriangato                108669   \n",
       "\n",
       "                                                                                             geometry  \n",
       "metropolitan                                                                                           \n",
       "Zona metropolitana del Valle de México              POLYGON ((-98.67014315329796 18.99606436833296...  \n",
       "Zona metropolitana de Guadalajara                   POLYGON ((-103.286319813277 20.33274354554612,...  \n",
       "Zona metropolitana de Monterrey                     POLYGON ((-100.1068239216784 25.7014097940026,...  \n",
       "Zona metropolitana de Puebla-Tlaxcala               POLYGON ((-98.41226441590273 19.11671792769241...  \n",
       "Zona metropolitana de Toluca                        POLYGON ((-99.76956480456774 19.07640499527427...  \n",
       "Zona metropolitana de Tijuana                       (POLYGON ((-116.675997897869 32.18521836061202...  \n",
       "Zona metropolitana de León                          POLYGON ((-101.4978255898703 20.88094461130867...  \n",
       "Zona metropolitana de Juárez                        POLYGON ((-106.5099878267038 31.76148617278301...  \n",
       "Zona metropolitana de La Laguna                     POLYGON ((-103.4279682574413 25.30109267747777...  \n",
       "Zona metropolitana de Querétaro                     POLYGON ((-100.2323353103928 20.53238475604553...  \n",
       "Zona metropolitana de San Luis Potosí - Soledad...  POLYGON ((-100.7968998982122 22.34580929074628...  \n",
       "Zona metropolitana de Mérida                        POLYGON ((-89.80119916442221 21.14914333559416...  \n",
       "Zona metropolitana de Mexicali                      (POLYGON ((-112.8923305416097 28.6782608390432...  \n",
       "Zona metropolitana de Aguascalientes                POLYGON ((-102.1064122399267 22.06035441303033...  \n",
       "Zona metropolitana de Cuernavaca                    POLYGON ((-99.12286437574771 18.8295163047535,...  \n",
       "Zona metropolitana de Acapulco                      (POLYGON ((-99.9085014210799 16.82495449264042...  \n",
       "Zona metropolitana de Tampico                       POLYGON ((-97.78459981764949 22.26235752625409...  \n",
       "Zona metropolitana de Chihuahua                     POLYGON ((-105.694426840008 28.55697607324183,...  \n",
       "Zona metropolitana de Morelia                       POLYGON ((-101.2699051441763 19.8580724787545,...  \n",
       "Zona metropolitana de Saltillo                      POLYGON ((-100.80454776667 25.15325944326091, ...  \n",
       "Zona metropolitana de Veracruz                      (POLYGON ((-96.09203969368166 19.1767918438259...  \n",
       "Zona metropolitana de Villahermosa                  POLYGON ((-92.8865263834322 18.31952078941393,...  \n",
       "Zona metropolitana de Reynosa-Río Bravo             POLYGON ((-97.94113698474702 26.05747232265776...  \n",
       "Zona metropolitana de Tuxtla Gutiérrez              POLYGON ((-93.08098632560277 16.84094848639171...  \n",
       "Zona metropolitana de Cancún                        (POLYGON ((-86.72492341729765 21.2134763470173...  \n",
       "Zona metropolitana de Xalapa                        POLYGON ((-96.81649846556145 19.39533744881427...  \n",
       "Zona metropolitana de Oaxaca                        POLYGON ((-96.70046300508734 16.90113368159351...  \n",
       "Zona metropolitana de Celaya                        POLYGON ((-100.6348829175936 20.66676665299208...  \n",
       "Zona metropolitana de Poza Rica                     POLYGON ((-97.18065945165777 20.67071707947663...  \n",
       "Zona metropolitana de Pachuca                       POLYGON ((-98.60510575908197 20.11754909974939...  \n",
       "Zona metropolitana de Tlaxcala-Apizaco              POLYGON ((-98.30639225756285 19.28374309537047...  \n",
       "Zona metropolitana de Matamoros                     POLYGON ((-97.43224710588929 25.84626701126117...  \n",
       "Zona metropolitana de Cuautla                       POLYGON ((-98.83636218153704 18.76450816568229...  \n",
       "Zona metropolitana de Tepic                         POLYGON ((-104.7639710585291 21.39486742051556...  \n",
       "Zona metropolitana de Orizaba                       POLYGON ((-97.04121782591071 18.78976664863583...  \n",
       "Zona metropolitana de Nuevo Laredo                  POLYGON ((-99.71771759959194 27.66286054884337...  \n",
       "Zona metropolitana de Puerto Vallarta               (POLYGON ((-105.2929421518996 20.5444229853993...  \n",
       "Zona metropolitana de Minatitlán                    POLYGON ((-94.18664834327375 17.67269860518193...  \n",
       "Zona metropolitana de Coatzacoalcos                 POLYGON ((-94.33665405768727 18.02322910418781...  \n",
       "Zona metropolitana de Colima-Villa de Álvarez       POLYGON ((-103.5141337782114 19.21719308402262...  \n",
       "Zona metropolitana de Monclova-Frontera             POLYGON ((-101.1126280799141 26.69767303398244...  \n",
       "Zona metropolitana de Córdoba                       POLYGON ((-96.76170695933202 18.8163599174738,...  \n",
       "Zona metropolitana de Zacatecas-Guadalupe           POLYGON ((-102.5854166489967 22.8114882944136,...  \n",
       "Zona metropolitana de Tehuacán                      POLYGON ((-97.31350708906938 18.46906016740025...  \n",
       "Zona metropolitana de Zamora-Jacona                 (POLYGON ((-102.2455405413702 19.9388378528739...  \n",
       "Zona metropolitana de La Piedad-Pénjamo             POLYGON ((-101.9463586818037 20.34317810018212...  \n",
       "Zona metropolitana de Tulancingo                    POLYGON ((-98.15820150453526 20.08432134923275...  \n",
       "Zona metropolitana de Tula                          POLYGON ((-99.14908807206166 20.03502079975187...  \n",
       "Zona metropolitana de Guaymas                       (POLYGON ((-111.3786281309711 27.9740840820099...  \n",
       "Zona metropolitana de San Francisco del Rincón      POLYGON ((-101.7854404832005 21.04892219169014...  \n",
       "Zona metropolitana de Piedras Negras                POLYGON ((-100.8116906642597 28.48364390215004...  \n",
       "Zona metropolitana de Tehuantepec                   (POLYGON ((-95.47202165201679 16.9321053892910...  \n",
       "Zona metropolitana de Tianguistenco                 POLYGON ((-99.48196452851981 19.08779643518412...  \n",
       "Zona metropolitana de Tecomán                       (POLYGON ((-114.7264985875087 18.3603718880002...  \n",
       "Zona metropolitana de Ocotlán                       POLYGON ((-103.0048056711144 20.40799977063429...  \n",
       "Zona metropolitana de Rioverde-Ciudad Fernández     POLYGON ((-99.80942274464775 22.05452960742615...  \n",
       "Zona metropolitana de Teziutlán                     POLYGON ((-97.3921906063442 19.76753848790943,...  \n",
       "Zona metropolitana de Acayucan                      POLYGON ((-94.85654294850742 17.95517524947729...  \n",
       "Zona metropolitana de Moroleón-Uriangato            POLYGON ((-101.252207053128 20.16186095443654,...  "
      ]
     },
     "execution_count": 7,
     "metadata": {},
     "output_type": "execute_result"
    }
   ],
   "source": [
    "region"
   ]
  },
  {
   "cell_type": "markdown",
   "metadata": {},
   "source": [
    "# 20190909 distributed by Pop"
   ]
  },
  {
   "cell_type": "markdown",
   "metadata": {},
   "source": [
    "## Vor with counts"
   ]
  },
  {
   "cell_type": "code",
   "execution_count": 5,
   "metadata": {
    "ExecuteTime": {
     "end_time": "2019-09-09T16:21:29.825252Z",
     "start_time": "2019-09-09T16:21:28.794088Z"
    }
   },
   "outputs": [
    {
     "name": "stdout",
     "output_type": "stream",
     "text": [
      "loading existing tvor file: data/mex_tower/mex_tvor_in_country.geojson\n"
     ]
    }
   ],
   "source": [
    "tower = mex.tower_vor()"
   ]
  },
  {
   "cell_type": "code",
   "execution_count": 6,
   "metadata": {
    "ExecuteTime": {
     "end_time": "2019-09-09T16:21:38.914419Z",
     "start_time": "2019-09-09T16:21:37.019883Z"
    }
   },
   "outputs": [
    {
     "name": "stdout",
     "output_type": "stream",
     "text": [
      "loading cached tw average stats/stat_tw_dow_aver_hr_uniq_user-out+in.pickle\n"
     ]
    }
   ],
   "source": [
    "aver = mex.stat_tw_dow_aver_hr_uniq_user('out+in')\n",
    "\n",
    "tw_avg_wd = pd.DataFrame(aver['wd']).T\n"
   ]
  },
  {
   "cell_type": "code",
   "execution_count": 7,
   "metadata": {
    "ExecuteTime": {
     "end_time": "2019-09-09T16:22:32.845590Z",
     "start_time": "2019-09-09T16:22:32.814995Z"
    }
   },
   "outputs": [],
   "source": [
    "tw_avg_wd.columns = ['h'+c for c in tw_avg_wd.columns]"
   ]
  },
  {
   "cell_type": "code",
   "execution_count": 8,
   "metadata": {
    "ExecuteTime": {
     "end_time": "2019-09-09T16:23:22.114770Z",
     "start_time": "2019-09-09T16:23:21.630766Z"
    }
   },
   "outputs": [],
   "source": [
    "rkind = 'metropolitans_all'\n",
    "rname = 'metropolitan'\n",
    "region = mex.regions(rkind)"
   ]
  },
  {
   "cell_type": "code",
   "execution_count": 19,
   "metadata": {
    "ExecuteTime": {
     "end_time": "2019-09-09T16:32:21.836014Z",
     "start_time": "2019-09-09T16:32:21.747995Z"
    }
   },
   "outputs": [
    {
     "data": {
      "image/svg+xml": [
       "<svg xmlns=\"http://www.w3.org/2000/svg\" xmlns:xlink=\"http://www.w3.org/1999/xlink\" width=\"100.0\" height=\"100.0\" viewBox=\"-99.6952064652594 18.890022992037185 1.143656691402299 1.2235558076673207\" preserveAspectRatio=\"xMinYMin meet\"><g transform=\"matrix(1,0,0,-1,0,39.00360179174169)\"><path fill-rule=\"evenodd\" fill=\"#66cc99\" stroke=\"#555555\" stroke-width=\"0.024471116153346417\" opacity=\"0.6\" d=\"M -98.67014315329796,18.996064368332963 L -98.69093074616502,18.967573122328954 L -98.69020972386464,18.96658831594346 L -98.6903935453527,18.966407918411836 L -98.69102608113202,18.966190869845498 L -98.69165552050528,18.966293904967323 L -98.69252954173975,18.96625067530856 L -98.69374472538234,18.966195413349617 L -98.69400393540639,18.96584373626432 L -98.69449786690093,18.96538760878003 L -98.69513700540217,18.964792268923656 L -98.69568619386277,18.96434806947808 L -98.69635176398187,18.96420690884801 L -98.6991544702493,18.961024814723096 L -98.69996856710641,18.959885495438407 L -98.70056096588817,18.959270629114076 L -98.70038936111376,18.95866419847567 L -98.69988817969202,18.95777670616609 L -98.7014533910484,18.954803741156542 L -98.70214965410074,18.95471150067051 L -98.70268813686539,18.95437685332345 L -98.70400845550803,18.953464208702208 L -98.70485770217932,18.953172539988724 L -98.70539517445529,18.95253959167956 L -98.70582904484151,18.95210374156341 L -98.70562773700773,18.951828868188638 L -98.70575685139688,18.951875112185924 L -98.70599809180942,18.95173351379623 L -98.70665053096342,18.951659335667483 L -98.70679730582975,18.951449090547563 L -98.70777950641478,18.950644258028422 L -98.70845127030488,18.948950585669653 L -98.70864615935496,18.94881233966968 L -98.71294319764064,18.944301941998393 L -98.7135029915854,18.943492444597585 L -98.71403710507764,18.943032334280122 L -98.71482965781361,18.942649440089543 L -98.7161808076695,18.94242914530671 L -98.71633306674659,18.942405911071006 L -98.71712475812575,18.942530037429375 L -98.71774422392578,18.9428066386382 L -98.71816413169562,18.942976286289706 L -98.71879403789447,18.943207709645705 L -98.71942381824269,18.9435159516516 L -98.7199728373315,18.943793345199087 L -98.72116783136669,18.94436363522438 L -98.72189491661416,18.94447227765066 L -98.72267063829355,18.944488801082404 L -98.72379481073001,18.944537543660104 L -98.72529774735312,18.94458587290572 L -98.72626984620655,18.944688790114657 L -98.7263802883088,18.944756481706197 L -98.72696191994723,18.944864888873486 L -98.72739825331718,18.9448808979779 L -98.72814168074298,18.944881989338814 L -98.72872344749044,18.94491357039829 L -98.72935369824914,18.9449452205817 L -98.7301777586398,18.94505397121149 L -98.73059783206278,18.94513140278257 L -98.73106841244103,18.94535225263312 L -98.73193160065026,18.945367846821775 L -98.73281567699331,18.94566553418482 L -98.73335186967752,18.9457121160385 L -98.7337294249388,18.945574687150465 L -98.73449905985517,18.945286047494946 L -98.7349493820377,18.945024545713782 L -98.7356863833734,18.944565829420014 L -98.73624526637427,18.94418057891756 L -98.73710123250385,18.94393364983658 L -98.73833231934435,18.94410493327727 L -98.73902866938587,18.944271481764925 L -98.73968130210898,18.944562141774753 L -98.74020342197944,18.944783628466865 L -98.74096766815983,18.94505929481752 L -98.7415918523453,18.94497738210127 L -98.74240467664103,18.944909524804245 L -98.74282557649177,18.94489631301528 L -98.74326133953953,18.944648566085135 L -98.74374068822938,18.94437328588353 L -98.74416180780491,18.944208300625547 L -98.74485842494735,18.944209260134457 L -98.74550099351652,18.94422869236507 L -98.74613329742745,18.944108628258746 L -98.74645483620952,18.944211448761802 L -98.74680276512346,18.944460275473816 L -98.74749956985409,18.944337049493313 L -98.7480078274649,18.94413078143515 L -98.74834201882418,18.943869088522952 L -98.748675662135,18.94396612067125 L -98.74883518073162,18.94404912026691 L -98.74899506945327,18.943883769633374 L -98.74916974088946,18.9435390747014 L -98.74930066225751,18.943332292919226 L -98.74967423053981,18.94319134527855 L -98.7501675360965,18.94327479475466 L -98.75050098405393,18.94350979423656 L -98.75074777632638,18.943454938138863 L -98.75096630546408,18.94288954161745 L -98.75138728137291,18.942821122604126 L -98.75212754888733,18.942739329781713 L -98.75247627724902,18.94245005208742 L -98.753042560144,18.942257643029418 L -98.75372428995558,18.942506900865986 L -98.75422868801498,18.94269309813 L -98.75474643735323,18.94276429843028 L -98.7551774514451,18.942940520757574 L -98.75555217787438,18.942828409842186 L -98.75517578140273,18.942357055261514 L -98.75549573496205,18.94188837094883 L -98.75571979457578,18.941399281184037 L -98.75642594707466,18.940923785877164 L -98.75757235984287,18.940980474752312 L -98.75812384968157,18.940967399287114 L -98.75884948257377,18.94096834356259 L -98.7596331142072,18.94099695740352 L -98.76051920623489,18.941192729547577 L -98.76107149997557,18.9415050389376 L -98.76212332118742,18.941168662027486 L -98.7630596981417,18.940397816528534 L -98.76393792856857,18.9405016086083 L -98.7646902497521,18.941184234110242 L -98.76520189936905,18.941971707889376 L -98.76685483660319,18.942726178925675 L -98.76782693980203,18.942852511020124 L -98.76841069342365,18.942627818195106 L -98.76875753769872,18.942267074194287 L -98.76950263105581,18.942196767056675 L -98.76986546470259,18.94218341721052 L -98.77039825352057,18.94220867568179 L -98.77076666247964,18.942227355854865 L -98.77094298987475,18.942209558387326 L -98.77114720685731,18.942050892700067 L -98.77132216745136,18.941915584064372 L -98.77153948868965,18.94187187149791 L -98.77206086521367,18.9418830403636 L -98.7727764349779,18.941904106662523 L -98.77357361709996,18.94206767324877 L -98.77388697457218,18.94232526627642 L -98.77498450122124,18.943537691566803 L -98.77641914587845,18.94326674440485 L -98.77891902493619,18.941866497653876 L -98.77955592945209,18.940801814649838 L -98.77990448233794,18.940308798243034 L -98.78029245605103,18.940015838286214 L -98.78058690888264,18.939931813978443 L -98.78089230194765,18.93984203881492 L -98.78131496749604,18.939860416718396 L -98.78173607942497,18.939944225598307 L -98.78244959580414,18.940146491118174 L -98.78318978500589,18.94031443664138 L -98.78375576912696,18.940315097294494 L -98.7853096007327,18.94115930434993 L -98.7861149534905,18.942900951921974 L -98.79073180112641,18.93704916610569 L -98.79089545914067,18.936985426626887 L -98.7909944854106,18.93688370492157 L -98.79102026240979,18.93677043436691 L -98.79100001434762,18.936709190785617 L -98.79208028199528,18.93533987380264 L -98.79501625886641,18.938454417886756 L -98.7966366769631,18.939155861956383 L -98.7985399128092,18.93997970579106 L -98.79945419857728,18.9402924578918 L -98.8020479874458,18.94117968390341 L -98.80317539146435,18.94156530588044 L -98.80362096842056,18.941695461744764 L -98.80536230351684,18.942204102255193 L -98.80547341889454,18.942236557968098 L -98.80909804949223,18.94290202353195 L -98.80939252537536,18.942956083406536 L -98.81195321933899,18.942825007901128 L -98.81685267800704,18.943262535143862 L -98.81732929136125,18.94425462831511 L -98.81762021805484,18.944481597870748 L -98.81866957394614,18.945300253108982 L -98.81911051626116,18.94564424869755 L -98.81940729539323,18.945875776574287 L -98.8196646502041,18.946076546429737 L -98.81974223137675,18.94613707006058 L -98.82059339344389,18.947044180852696 L -98.8207735433558,18.947236170526434 L -98.82085243343177,18.947879985432824 L -98.82104412017613,18.949444294875935 L -98.82110542500914,18.949944586306287 L -98.82118494612092,18.950593524707195 L -98.82131512148614,18.95165582647423 L -98.82142719385098,18.952570381514175 L -98.8214554249911,18.952800754151493 L -98.82165634859673,18.952951175937454 L -98.82205265846518,18.95324787337507 L -98.82279361077237,18.95380257983068 L -98.82317272189809,18.954086394954096 L -98.82348372126421,18.95431921730997 L -98.82394639473382,18.954665585385037 L -98.82420178628458,18.954856775184986 L -98.82509990808876,18.955529118003472 L -98.82522183584575,18.955788224812537 L -98.82545097498372,18.955921793069447 L -98.82564287628192,18.956269151350558 L -98.82607133310988,18.95643143998081 L -98.82645055039185,18.956690869594723 L -98.8265512780041,18.956710299800456 L -98.82689522766647,18.956594135785394 L -98.82705503653591,18.95651228128078 L -98.82736697159154,18.956352507541904 L -98.82755636598922,18.95612681146908 L -98.82759682942071,18.955926725126954 L -98.82757868252756,18.95566035735848 L -98.82768336879712,18.955565265144013 L -98.82790524883559,18.955590818502614 L -98.82824678569975,18.9556301515028 L -98.82935437832714,18.955435246345747 L -98.8301125281875,18.955395308107203 L -98.83055074559641,18.955255375600462 L -98.83099685703044,18.95493102555129 L -98.83248612177657,18.953285263002652 L -98.83589087748797,18.950151766368 L -98.84071911252461,18.955666239486497 L -98.84142760931636,18.955582960919983 L -98.84410540346988,18.955268176893046 L -98.84516701295121,18.95514336703705 L -98.85045862864911,18.9591035802781 L -98.85184829996422,18.959315112332618 L -98.85312857041878,18.960059663384826 L -98.85321211169665,18.960273826925746 L -98.85395449633195,18.960529642703243 L -98.85415131157616,18.960712445796627 L -98.85453324672078,18.960823099743138 L -98.85489974023217,18.961038220480415 L -98.8553964290349,18.961579866410702 L -98.8553266392913,18.96173752908811 L -98.85547735951704,18.9617719854504 L -98.85564417124566,18.961795428695023 L -98.85605418469554,18.96205694185869 L -98.85567585561877,18.962236585331425 L -98.85571615628984,18.96244259101767 L -98.85642465867943,18.963011337801333 L -98.85647578744135,18.963257829565904 L -98.85663727892724,18.9632087093046 L -98.85709399299277,18.963477834715405 L -98.85825026822673,18.963819725673808 L -98.85841163301161,18.96383150434641 L -98.85837620321895,18.96409916775752 L -98.85824458692235,18.96429834978645 L -98.85820318355324,18.964399356140213 L -98.8594796420818,18.96477793504379 L -98.85904369249256,18.965393964087284 L -98.85969977922731,18.96574938334895 L -98.86010199984412,18.965962969680312 L -98.85999892526445,18.966187565160652 L -98.85984461886993,18.96644936651087 L -98.85911203867283,18.966871505903743 L -98.85897148751306,18.96689308763284 L -98.86004561955052,18.967326802560397 L -98.85991827350038,18.967821253138236 L -98.86000328804423,18.968168545641877 L -98.85942265261984,18.968661925739664 L -98.85894657007238,18.96964658291069 L -98.85793509094734,18.970404342925928 L -98.85733335721034,18.974591908665545 L -98.85791102395983,18.975247931599707 L -98.8587159334608,18.975892035928226 L -98.85955208607547,18.97700183447206 L -98.85999367685868,18.977539084926324 L -98.85999576890147,18.977679620276987 L -98.86005166567656,18.97789217498693 L -98.86015333419363,18.978018395349398 L -98.86056867984708,18.97848214612451 L -98.86116792103262,18.97919576336359 L -98.86124881861151,18.97933103099853 L -98.86183661922544,18.97998381028274 L -98.86715674402659,18.987643795479265 L -98.87000551778559,18.99051040013955 L -98.86857515440923,18.99434356774444 L -98.86839899380014,18.999895790625672 L -98.86818625534832,18.99968790166851 L -98.86810223787758,18.999697143095446 L -98.86803671397543,19.000689451482334 L -98.86857799183562,19.000559733802906 L -98.86905429815904,19.002326598889617 L -98.86809236014736,19.002390541300304 L -98.86809853876314,19.002468898791435 L -98.86820609580451,19.00255344376667 L -98.86839342497541,19.003202361818783 L -98.86880494816215,19.003096165570113 L -98.86925658398032,19.003076952262756 L -98.86889164014988,19.00570473737299 L -98.87218776599747,19.008705397377938 L -98.87405917219765,19.01040385342725 L -98.87377047131142,19.01189533026437 L -98.8728728957786,19.01399547851086 L -98.87249036081627,19.014753834512618 L -98.87230398170242,19.015897130183433 L -98.87206444450953,19.016691846959 L -98.87194364715302,19.018423469866168 L -98.87215119322185,19.02041081916671 L -98.87166100288505,19.021445871165824 L -98.871026429992,19.025393146322465 L -98.87895563478187,19.028108341145746 L -98.88816679770551,19.03691988769461 L -98.88964861701591,19.036832951908952 L -98.89041032723246,19.036869581782696 L -98.8912557240972,19.03695173681945 L -98.89194658882177,19.03708334614449 L -98.89282692439069,19.037332212325634 L -98.89433199958634,19.037604502878864 L -98.89479719621445,19.037740514425273 L -98.89788624230899,19.038550926401296 L -98.90060917455126,19.038781046085372 L -98.90338978233866,19.038482887281123 L -98.90449951299341,19.040240842304318 L -98.9054767625702,19.04168731302269 L -98.90554699193501,19.041977465826395 L -98.90827935408655,19.04604385307465 L -98.91167565259445,19.051235603067948 L -98.91706059894062,19.05942495928951 L -98.91552597198259,19.059735549826627 L -98.91553234425389,19.060117118710668 L -98.91540397809636,19.060173562830265 L -98.91519408509964,19.06026393355279 L -98.91554888400717,19.061107165759047 L -98.91559816914321,19.06405727850443 L -98.9156502287937,19.064067350779442 L -98.91624776255355,19.064189333022316 L -98.9176677236895,19.064457686612673 L -98.91984078194903,19.064878091200494 L -98.92066207371838,19.06491067780308 L -98.92124470605006,19.065144379651 L -98.92565372885277,19.066031214956098 L -98.92616655378099,19.0661500206367 L -98.92667746455074,19.066126019710605 L -98.9267442128871,19.066125235824114 L -98.92727183467777,19.066336547195377 L -98.92771403933814,19.06643680216537 L -98.92801563021975,19.06654678360209 L -98.93060540904257,19.06693939254947 L -98.93425881280481,19.067729725770086 L -98.93615712060092,19.06813196942051 L -98.93792879894534,19.06847337242578 L -98.93827802227213,19.06853370714454 L -98.93884455726511,19.06865420408311 L -98.93947642333715,19.068775011963364 L -98.93977712590008,19.068857584940588 L -98.9400483684189,19.068903968631627 L -98.94081256562272,19.069085377250378 L -98.94171533229672,19.069235319928282 L -98.94252907420156,19.069368892116305 L -98.94294815818243,19.069443138150938 L -98.9430972290132,19.06947918903904 L -98.94331698123405,19.069531971811802 L -98.94348307367578,19.069554224578013 L -98.9437635656501,19.069612587466697 L -98.94395729661944,19.069693757906133 L -98.94413536807856,19.069738430130254 L -98.94434755778416,19.06973441478756 L -98.94597860710137,19.068669283464597 L -98.94621942079638,19.068503272454578 L -98.94641941664685,19.06838667281777 L -98.94658452129775,19.06829393169215 L -98.94873325171353,19.066808928629957 L -98.94875597567845,19.06667419651346 L -98.95097621695544,19.065052197769358 L -98.95214879666837,19.064161848550413 L -98.95284705479808,19.063756946671493 L -98.95321413355757,19.063180326130173 L -98.9543390712593,19.062539427786195 L -98.95527248774529,19.06188975111024 L -98.9565836480898,19.060964983201682 L -98.95777855304463,19.060294487394565 L -98.96294351207948,19.06263191380063 L -98.96899504926007,19.065953451746523 L -98.96922513147287,19.065903777067934 L -98.9726143133173,19.0690311533797 L -98.97899540513643,19.0744559535154 L -98.98236137091605,19.077608408232326 L -98.98359448558634,19.07876325104696 L -99.02899368179845,19.08536879235417 L -99.03019490467044,19.08455653879718 L -99.04320886424227,19.075755461061277 L -99.0487286631648,19.066601537154227 L -99.05665036492286,19.053462025301883 L -99.05980023296536,19.048236663823513 L -99.0620857491641,19.04871871738568 L -99.10445385464313,19.057648025736537 L -99.10512856815623,19.057790120039197 L -99.12543312126913,19.062064718441086 L -99.13521261233832,19.08884055236005 L -99.1353790162122,19.089296070859856 L -99.1364814762313,19.089377991707508 L -99.17823067978783,19.092474264230898 L -99.2210843382652,19.09564029736182 L -99.22677778040446,19.09606000350384 L -99.2566296523171,19.116557816558057 L -99.27869521819018,19.131701727063696 L -99.28258882738947,19.138212834804815 L -99.28760524561714,19.1466005740163 L -99.29311506580886,19.165299072894587 L -99.29559685260156,19.172882804672664 L -99.30018312293139,19.184578500515226 L -99.30133143785879,19.188417408386925 L -99.30276264364595,19.19085509078533 L -99.30324331791434,19.19365580748555 L -99.30391557024545,19.197179176684383 L -99.30396509998472,19.19826354839386 L -99.30444483356217,19.200522034952062 L -99.30468651313204,19.202645355593024 L -99.306130624013,19.20614374386994 L -99.3067847339333,19.211080831788035 L -99.30713553495465,19.213728464112883 L -99.30813314557867,19.214368912782003 L -99.30829970050142,19.214512401633492 L -99.31230028395814,19.21803107871812 L -99.3133657413295,19.218967376577584 L -99.31624975639596,19.221501681749512 L -99.31612170358969,19.222588828544065 L -99.31555553123236,19.227395347476367 L -99.31534336058559,19.229196485062044 L -99.32129650017673,19.23266547436798 L -99.32225485157666,19.23264783415887 L -99.32432029139021,19.23260979386473 L -99.32671959660344,19.232565570110065 L -99.3304740381322,19.2374804825672 L -99.3308214817892,19.237935298147576 L -99.33577199832912,19.239327083693166 L -99.34234097293772,19.24112239964019 L -99.34206867383334,19.247539199562045 L -99.34131687390348,19.252149480532626 L -99.33985723772962,19.25965291304904 L -99.33762984030587,19.264039968905095 L -99.33915989631794,19.26769714627417 L -99.34093899045337,19.26779779991449 L -99.3415520065066,19.268094317978353 L -99.3419106508693,19.268178687519278 L -99.34225442472449,19.268291435725644 L -99.34277758006856,19.268474707836663 L -99.34305966279646,19.268547661783003 L -99.3434911980679,19.268872265615784 L -99.34370851754454,19.26896199238965 L -99.34407520710825,19.269115818827032 L -99.34468659926644,19.269475223645202 L -99.34512838189065,19.269992202340276 L -99.34552450185993,19.270437415064542 L -99.34584570706654,19.270806750227766 L -99.34615113711381,19.271307865921585 L -99.34629681946758,19.27202212890745 L -99.34647899287012,19.27222940376229 L -99.34751250281494,19.27302672517427 L -99.3482137061272,19.27396094638269 L -99.356128405612,19.274989353605104 L -99.36192190788799,19.275741867605117 L -99.36492420394829,19.277769253004987 L -99.35358134763744,19.29193430965861 L -99.3545360265048,19.29328801616464 L -99.35371582972344,19.29336191534714 L -99.3534716042581,19.293383919580062 L -99.35327671036227,19.293476841480267 L -99.35299836280777,19.29364926257477 L -99.3524138192584,19.293994137047697 L -99.3519542740419,19.294140451126903 L -99.35149208885034,19.29415237986755 L -99.35125585539181,19.294966160466657 L -99.35292381866164,19.296047399779745 L -99.35349778865464,19.2974018418416 L -99.34998525643137,19.29683718976288 L -99.35627424134152,19.302014523839347 L -99.35636862986324,19.30333341984563 L -99.35757044531898,19.303346221871163 L -99.35877226004668,19.303359014318396 L -99.359164688823,19.303363209795197 L -99.35987619194262,19.30337079115411 L -99.36097571069405,19.303382501837024 L -99.36223739473532,19.30339592950775 L -99.36321545631517,19.30340633080007 L -99.36410781902677,19.30392515497392 L -99.36488580748217,19.304377472894092 L -99.36570653030235,19.30485463000892 L -99.36660499587461,19.305376976645515 L -99.36722254141857,19.305735998348673 L -99.3678881775299,19.306122973227346 L -99.36832768320409,19.306378482259184 L -99.36874961428506,19.306623771898447 L -99.369165191123,19.30686536455167 L -99.36969265993821,19.307172003556364 L -99.37007116206422,19.307392039638287 L -99.37018358526737,19.307304732850927 L -99.37040593030139,19.307205405841778 L -99.37075816366054,19.307155282979757 L -99.37132700927341,19.307295476094353 L -99.37162753631637,19.307478995283113 L -99.37232219537819,19.30819344738093 L -99.37257166191375,19.30826866253448 L -99.3735318765593,19.308441947946754 L -99.37412651826085,19.30868096180157 L -99.37508316946035,19.309524699229776 L -99.37538513869721,19.309676886573993 L -99.37589391644188,19.30976024422342 L -99.37671506484145,19.309708051026654 L -99.37758033667856,19.309058216076885 L -99.37844560023927,19.308408377564724 L -99.37931085555869,19.30775853367898 L -99.38017610355588,19.30710868624776 L -99.3810413423578,19.306458833426692 L -99.38190657288365,19.30580897704399 L -99.38226375977875,19.306720131690806 L -99.38262095240817,19.307631286469803 L -99.38297814981794,19.308542441364256 L -99.3833353520081,19.309453596373768 L -99.38369255897885,19.310364751498224 L -99.38404977071275,19.31127590764307 L -99.38440698724486,19.31218706299659 L -99.3847642085577,19.313098218464305 L -99.38512143465152,19.314009374045884 L -99.38552161314377,19.31502444567562 L -99.3859217966487,19.316039517417884 L -99.38632198707452,19.3170545893055 L -99.38672218346733,19.318069661321505 L -99.38706118822111,19.31894525222166 L -99.38740019735243,19.31982084233928 L -99.3877392117981,19.3206964325964 L -99.38807822965,19.3215720229597 L -99.38841725184493,19.32244761435135 L -99.3887562793718,19.323323204976067 L -99.38909531030514,19.32419879570634 L -99.38943434559913,19.325074386558594 L -99.38977338619058,19.325949978454666 L -99.39011243020609,19.326825569549975 L -99.39045147858248,19.327701160766594 L -99.39087338211012,19.328599598586983 L -99.39129529120603,19.329498036157457 L -99.39162785560602,19.330180765589198 L -99.39192095894462,19.331052225345154 L -99.39249602514776,19.33231167681179 L -99.39273588886157,19.333090618255568 L -99.3929804073289,19.333824362736244 L -99.39321517578601,19.334580721107187 L -99.39362481444047,19.335567150087584 L -99.39408927474307,19.3369420589155 L -99.39427460770665,19.337366405071776 L -99.39445994085405,19.337790752096613 L -99.39486427205462,19.33866196506855 L -99.39522459928041,19.33932541690409 L -99.39560922557297,19.34003626124249 L -99.39632526252625,19.341455801854064 L -99.3965760639508,19.341960208342027 L -99.39682686626237,19.342464615594594 L -99.39710258899446,19.343028816692648 L -99.39765517486161,19.344159539413678 L -99.39798191086908,19.34493828244766 L -99.39834174520105,19.34546617086861 L -99.39875524221337,19.346174684562964 L -99.39913967555145,19.34679288931046 L -99.39951903059728,19.34743595655027 L -99.39978684296415,19.34793919116851 L -99.40030168086706,19.34857970060262 L -99.40180091517593,19.350508094735815 L -99.40202347130435,19.35076064401189 L -99.40238169479275,19.351125858440028 L -99.40277342141611,19.351563295120616 L -99.40319952962216,19.352158805224885 L -99.40345138679766,19.35270951441339 L -99.40382401427969,19.353237363536884 L -99.40402276273231,19.35383337519531 L -99.40406712427037,19.354680510786636 L -99.4041336977983,19.35563095947772 L -99.4041796236932,19.35628661622612 L -99.40415969625845,19.35748170396019 L -99.40414433806684,19.358402709256453 L -99.40412910133148,19.359316435414357 L -99.40409433833324,19.360329485497623 L -99.40406688832412,19.361129420556516 L -99.4040346645282,19.36206845827746 L -99.40386813852349,19.362886405021403 L -99.40382983428584,19.363861937954333 L -99.4037915294818,19.36483747286779 L -99.40375322414604,19.36581300794995 L -99.40371491826116,19.36678854410618 L -99.40367661182721,19.367764081336354 L -99.40363830484422,19.368739619640134 L -99.40359999729479,19.369715159923043 L -99.40356168921352,19.370690700373174 L -99.40344496933191,19.372305128971846 L -99.40341189645682,19.37322886819327 L -99.40337882406999,19.374152609299646 L -99.40334575125152,19.375076350462646 L -99.40331267796687,19.37600009349365 L -99.40327960425056,19.37692383658089 L -99.40324653006802,19.377847581535697 L -99.40321345545384,19.37877132654618 L -99.40318038037347,19.379695073423786 L -99.40314730486136,19.38061882035668 L -99.40311422888298,19.381542569156146 L -99.40308115247291,19.3824663180104 L -99.40304599730128,19.383286276329066 L -99.40289093505788,19.38418412073417 L -99.40273586983142,19.385081964971643 L -99.40258080349629,19.385979810885654 L -99.40242573416066,19.386877657537372 L -99.40227066375087,19.38777550405364 L -99.40211559032318,19.388673352212994 L -99.40196051582122,19.38957120023641 L -99.40180543830132,19.39046904990247 L -99.40165035970716,19.391366899432224 L -99.4014952780949,19.39226475060415 L -99.40124181493296,19.393277173112764 L -99.40098834801717,19.394289595449443 L -99.40073487635826,19.39530201940908 L -99.40048140189994,19.396314443212617 L -99.40029212438994,19.3972590351998 L -99.40010284328054,19.398203628847053 L -99.39991355956083,19.39914822235907 L -99.39972427416801,19.40009281665773 L -99.39953498519291,19.401037411709908 L -99.39934569454464,19.401982007548273 L -99.3990935243067,19.403240363060178 L -99.39884134843318,19.404498720826346 L -99.39860628479697,19.405727921663185 L -99.39837121595953,19.406957123820778 L -99.3981814797537,19.40789485586684 L -99.39799173999553,19.408832587742882 L -99.39780199760501,19.409770321276756 L -99.39761225261674,19.41070805465646 L -99.39742250499602,19.411645789693477 L -99.39723275571477,19.412583525498242 L -99.39704300288096,19.41352126113161 L -99.39685324741453,19.41445899842154 L -99.39666348935008,19.415396735556158 L -99.39647372865291,19.416334474346815 L -99.39638086777367,19.417238900547236 L -99.39621970892232,19.418066147275724 L -99.3961340680842,19.418454929603815 L -99.39591662918804,19.419419999330795 L -99.39617926860748,19.419549819611078 L -99.39645932871126,19.419504630086596 L -99.39657500072657,19.419371754411358 L -99.39669067249865,19.419238879573253 L -99.39669018962233,19.41903994684891 L -99.39668970673016,19.418841015074808 L -99.39677155190397,19.41874109046338 L -99.39685339600278,19.418641165802452 L -99.39727291686532,19.418707117733092 L -99.39778701407761,19.41877174728603 L -99.3979270678927,19.4191258417087 L -99.39806885242075,19.41945764482561 L -99.39855845520178,19.419721815724547 L -99.39872206124244,19.41985407902864 L -99.39888566855595,19.419986342191713 L -99.39951506093205,19.41976317880943 L -99.40012033642282,19.419165602712383 L -99.40051524824389,19.418655418311182 L -99.40065433357188,19.418611646727975 L -99.40102832389876,19.419030978368284 L -99.40142756018491,19.419556127124686 L -99.40176759696219,19.420854908697265 L -99.40200349588449,19.421755916437284 L -99.40228157225951,19.422818007101377 L -99.40258718778868,19.423985264645374 L -99.40286423081571,19.425043376380536 L -99.4031101219348,19.42598249412244 L -99.40332232169399,19.426792928952036 L -99.40355490185961,19.427681187689203 L -99.4037637176735,19.428478680611374 L -99.40400006141824,19.429381293144214 L -99.40430101732666,19.43053064573955 L -99.40539518056914,19.430602874976383 L -99.40767756731914,19.430535354408462 L -99.41085981876873,19.430630711455258 L -99.41112225778177,19.43066912386095 L -99.41147535900176,19.43056690708105 L -99.4119105729471,19.430472304405555 L -99.41240140438308,19.430494594298658 L -99.41277080188125,19.430485953094745 L -99.41295967772035,19.430368503974236 L -99.41319665980275,19.43022085476344 L -99.41346774602599,19.43015002543555 L -99.41379926470307,19.430172846808187 L -99.41407401247862,19.4301378005911 L -99.41372635742195,19.431109624584984 L -99.41337869739901,19.432081448836527 L -99.41303103240959,19.433053273345507 L -99.41268336245363,19.43402509811146 L -99.41233568753113,19.434996923134186 L -99.41228756013751,19.43595627897532 L -99.41223943109306,19.43691563671948 L -99.41219130234201,19.437874994587453 L -99.41230920289023,19.43879653338118 L -99.41224616578909,19.439418088932534 L -99.41231896105398,19.440871700836837 L -99.41194594244229,19.44196962523976 L -99.41157291781012,19.44306755006771 L -99.41155255688328,19.443088779120146 L -99.41101468721482,19.444088691888737 L -99.41047680964013,19.44508860385901 L -99.40993892415892,19.446088515030656 L -99.40934089445001,19.447123081764232 L -99.40874285470792,19.44815764640306 L -99.40875259053566,19.448187004771093 L -99.4094968335154,19.449177776611663 L -99.41001865588169,19.450001891918564 L -99.4105404855423,19.450826005291255 L -99.41106232150786,19.45165011852497 L -99.41136538405536,19.452976433058204 L -99.41141643534618,19.454709263438453 L -99.4115842102724,19.45542741885266 L -99.41220352731656,19.456087163051375 L -99.41258546232224,19.456232965765555 L -99.41282739712307,19.456247868874264 L -99.41382844298413,19.456704578758316 L -99.41451996922311,19.457373366958524 L -99.41521150319925,19.458042153415267 L -99.41590304303698,19.458710936284028 L -99.41659458965691,19.459379717392707 L -99.41728614309363,19.46004849492942 L -99.41797770428494,19.46071726981627 L -99.41866927130371,19.461386042926325 L -99.41915887285266,19.46231783456573 L -99.41964848110888,19.46324962558356 L -99.42013809607246,19.464181415979482 L -99.4205735464248,19.465192463046122 L -99.42100900420512,19.466203510008683 L -99.42144446847576,19.46721455594484 L -99.4221149646382,19.467939347536237 L -99.42278546796294,19.468664135830824 L -99.42396723810185,19.469915173335146 L -99.42465838877366,19.470648491108992 L -99.42534954691456,19.471381805413362 L -99.42604071249032,19.472115118059914 L -99.42673188647335,19.472848428158855 L -99.42742306697056,19.473581734771575 L -99.42811425490284,19.47431503972598 L -99.42872180601898,19.47505009684236 L -99.42932936463947,19.47578515303754 L -99.4299369288882,19.476520206467097 L -99.43054449968635,19.477255258958888 L -99.43127318829875,19.477992978841296 L -99.4320018857535,19.478730696735933 L -99.43295198548546,19.47962987067909 L -99.43329024192342,19.47994879127765 L -99.43444000103992,19.481033732097607 L -99.43514806577416,19.481689474770043 L -99.43585613733556,19.48234521460183 L -99.43656421476896,19.483000951576724 L -99.4372722999848,19.483656685726977 L -99.43822373404936,19.48456983475058 L -99.43945906962021,19.48566808991664 L -99.44064695099618,19.486724882073148 L -99.44186461906709,19.487761712043877 L -99.44083052557515,19.488098208140823 L -99.43979642792185,19.488434697307632 L -99.43876232419667,19.488771179511915 L -99.43772821631028,19.48910765478601 L -99.43669410235215,19.48944412309744 L -99.43565998423293,19.489780584478503 L -99.43399831547367,19.49032121639038 L -99.43298464467155,19.49055489980244 L -99.43288139057714,19.49065651241089 L -99.43591837732104,19.491490161891477 L -99.4393478010289,19.492431450226768 L -99.44152498397791,19.49302898360119 L -99.44268764981751,19.493348065755427 L -99.44381678256335,19.493657935013857 L -99.44433342681101,19.493799714385474 L -99.4449969130282,19.49398178859664 L -99.44567594497244,19.4941681252513 L -99.44625492207545,19.49432700276124 L -99.44666873181265,19.49444055514934 L -99.44705277565366,19.494545938208635 L -99.44802017157234,19.494827082473613 L -99.44898757149053,19.495108220637448 L -99.44904525520498,19.495188281055288 L -99.44910293900439,19.49526834055223 L -99.4491503484498,19.495441055944937 L -99.44919775803264,19.495613770449644 L -99.44929778703356,19.495878982937086 L -99.44939781736294,19.49614419635769 L -99.44970413600657,19.49674439429144 L -99.45012712476787,19.497319450639363 L -99.45055006063302,19.49787417237741 L -99.45084593143385,19.498208933327774 L -99.4511418027358,19.49854369380641 L -99.45152987815044,19.49887935339482 L -99.45191795548061,19.499215012111293 L -99.45241494190891,19.49956169467069 L -99.45291193088784,19.49990837482304 L -99.45336777264042,19.50024499019062 L -99.45382361663245,19.500581605214673 L -99.45433375981801,19.50075654597335 L -99.45484390429897,19.50093148595082 L -99.45563168186278,19.50126952043279 L -99.45641946334273,19.501607550936917 L -99.45686647984975,19.501990035653638 L -99.45687497125765,19.50229871463962 L -99.45718753614673,19.502425544013985 L -99.4573888655485,19.502465451732512 L -99.4582434426842,19.502884051857762 L -99.45909802508056,19.50330264734669 L -99.45995261369288,19.503721238215277 L -99.4608072066105,19.504139824431338 L -99.46166180574413,19.50455840602689 L -99.46251640918297,19.50497698296979 L -99.46337101883775,19.50539555529203 L -99.46422563279775,19.50581412296146 L -99.46508025201834,19.5062326859941 L -99.46593487745488,19.506651244405827 L -99.4667895071965,19.507069798164583 L -99.46764414315412,19.507488347302296 L -99.46857645068415,19.5079449375459 L -99.46950876445746,19.50840152317713 L -99.47044108450781,19.50885810238401 L -99.47137341080156,19.509314676978374 L -99.47230574337225,19.50977124514814 L -99.47323808218631,19.510227808705174 L -99.47417042727726,19.510684365837466 L -99.4751027786115,19.511140918356794 L -99.47576932314315,19.51149495135874 L -99.47681648793171,19.51200169646568 L -99.47780632866865,19.512457980171106 L -99.47945152192717,19.51324360535522 L -99.48009644038738,19.513315846406996 L -99.48014705071441,19.51331999377987 L -99.48014320448551,19.513133781678505 L -99.48021049527496,19.51281279124947 L -99.48036008424465,19.512444139539802 L -99.48045148631648,19.512123086062125 L -99.48050913811412,19.511894750428446 L -99.48065921624419,19.51175653846291 L -99.4807896034907,19.511663562684657 L -99.48104138547365,19.511595116799757 L -99.48249379268668,19.51145569474726 L -99.48438716612031,19.511475487367413 L -99.4854185872453,19.51152016597329 L -99.48636275974222,19.511517630136836 L -99.48762646307183,19.511539080586452 L -99.48936181733227,19.51152365670036 L -99.48936966598444,19.511536632780896 L -99.48980618242649,19.512018926370708 L -99.49012191756324,19.51252187930158 L -99.49065062569629,19.513234363446866 L -99.49109732845537,19.5138996242298 L -99.49153903183124,19.51451745332866 L -99.49194186535917,19.51504501784572 L -99.49226196785827,19.515412400790545 L -99.49274696519956,19.51584711130646 L -99.4931300268977,19.516169137280016 L -99.49347880381816,19.516373776232886 L -99.49404095348758,19.516602682794666 L -99.49456880891293,19.51664868420938 L -99.4950626222752,19.51653211182008 L -99.49541604494205,19.516508552302994 L -99.49593881386924,19.516324122143693 L -99.49607433938576,19.51632375056289 L -99.49618075025926,19.51637090271343 L -99.49632131672307,19.516460885989947 L -99.49647177615267,19.51657569330314 L -99.49716984846967,19.517057251065975 L -99.49766004865707,19.51772237424533 L -99.498130621445,19.518294922364944 L -99.49886308228481,19.518984226994316 L -99.4996922027717,19.5197387786012 L -99.50039824039497,19.520404533508216 L -99.50069136725861,19.520680372177388 L -99.50139948744905,19.521320029636392 L -99.5021564453024,19.52212447252255 L -99.502801458869,19.52287952087471 L -99.50368968722736,19.523934365077963 L -99.50402690453258,19.52433556724821 L -99.50436412287209,19.524736768826646 L -99.50443807205323,19.524861427913766 L -99.50453404711256,19.525023215639123 L -99.50470397300776,19.525309663272004 L -99.50490793684388,19.5255847189895 L -99.50495673496664,19.525860208255633 L -99.50488920763188,19.526090837330297 L -99.50475402671147,19.5262968043784 L -99.50463843693386,19.526550159326213 L -99.504213097479,19.527055153538747 L -99.50363809082452,19.52776841081404 L -99.50328027697812,19.52822803010195 L -99.5026521224438,19.528986617682236 L -99.50145893659094,19.53064142298339 L -99.50107735128019,19.53121632390356 L -99.50072029496805,19.53201933780437 L -99.50046471108811,19.532593887717344 L -99.50025731258567,19.533030491821247 L -99.50014630407712,19.53335160885825 L -99.50005009440231,19.533742719991672 L -99.50009496064897,19.534476843947992 L -99.50014403834872,19.53484496093451 L -99.50021218176785,19.535027769474862 L -99.5004305192788,19.53532538258333 L -99.50069739828633,19.53569289644989 L -99.50081658831041,19.536015634320883 L -99.50139453644564,19.53642746919348 L -99.50253492210041,19.537133697272385 L -99.50298593754157,19.537338032066316 L -99.50368897817077,19.537634291033402 L -99.50403305455326,19.537748551704176 L -99.50469744912006,19.537999729324554 L -99.50520142216966,19.53815872590797 L -99.50567164586873,19.538315556599688 L -99.50632139094826,19.538544177245402 L -99.50692723795072,19.53872547568675 L -99.50744081431,19.53881440299012 L -99.508051076683,19.53888272364788 L -99.50860318718262,19.538948946700277 L -99.50914066823918,19.538970025601397 L -99.50950850522881,19.538968989132528 L -99.51021069793516,19.53898959965004 L -99.51040443358828,19.539034236823976 L -99.51112611841593,19.53909997359077 L -99.51178446509725,19.539120701782927 L -99.51222525193856,19.53918948923467 L -99.51297091167784,19.53920996623771 L -99.51350836931584,19.539253623915894 L -99.51387658844831,19.539252576751416 L -99.51434134211205,19.5392738464911 L -99.51479151179558,19.539295157035465 L -99.51512049857593,19.539246775731907 L -99.51598792812273,19.539341447509777 L -99.51641887548432,19.539432843422862 L -99.51687624542961,19.539550634198182 L -99.51729000944961,19.53964271795796 L -99.51761439080954,19.539734417629816 L -99.51785636765989,19.539781167298493 L -99.51823403417117,19.539872712321372 L -99.51866956899464,19.540056718238226 L -99.51912930105824,19.54026550524733 L -99.51980174499593,19.540609231766165 L -99.52013574242386,19.540725750148106 L -99.52041146839188,19.540862768160878 L -99.5207937702771,19.54100173820568 L -99.5211083384548,19.541093458999118 L -99.52138456169715,19.541117513397296 L -99.52172345985404,19.54118657103745 L -99.52240091500488,19.541485089079945 L -99.52117372929956,19.548279829511976 L -99.52088055539664,19.54983953229523 L -99.52105328211506,19.55075853333321 L -99.52113428380333,19.551492544294558 L -99.52143233965887,19.552847210967975 L -99.52166957082584,19.55431727163022 L -99.5219068061838,19.555787333337957 L -99.52226639110324,19.557830879412517 L -99.52268309909344,19.560676278416704 L -99.52301457773439,19.562216098489515 L -99.5233593579447,19.564625675001956 L -99.52354662949172,19.56552203736309 L -99.52371499126869,19.566348419730655 L -99.52382454605225,19.56726759926099 L -99.52399747829206,19.5682091860262 L -99.52405022317868,19.568599875848882 L -99.52421890421158,19.56908059710772 L -99.52429047276891,19.56963163551038 L -99.52429925068272,19.570252892293517 L -99.52433685823969,19.57082662178165 L -99.52447652224058,19.57135487032565 L -99.5244465360018,19.571928795865738 L -99.5243906061241,19.573442625922528 L -99.52393542632882,19.57346428169118 L -99.52312627988142,19.573554738050436 L -99.52232201727713,19.573622584847836 L -99.52161969425549,19.57366754148212 L -99.52089813479976,19.573689959340708 L -99.51794336221715,19.573754945798708 L -99.51654814998943,19.573844795190933 L -99.51698801638982,19.57437218991853 L -99.51721498022994,19.574717198824175 L -99.51772732980444,19.57542963898572 L -99.51826366174413,19.576096824210683 L -99.51867481718517,19.576556521046736 L -99.51902277517172,19.576901178505263 L -99.51953070577896,19.577360594153795 L -99.51984999269021,19.57768274163357 L -99.52049619861896,19.57821768906856 L -99.52108324943812,19.578808785581064 L -99.52149417846579,19.579223292563142 L -99.52187112273164,19.57968307946702 L -99.52232052497776,19.58034824437603 L -99.52279873197898,19.581015583793377 L -99.52307932318264,19.58133783688074 L -99.52337433465198,19.5816374552606 L -99.52359204625427,19.58179722660438 L -99.5258001888185,19.582075462450387 L -99.52606100016139,19.582558171495435 L -99.52625447695797,19.582858080989293 L -99.52653455067453,19.583340732919456 L -99.52677128661448,19.58366084808343 L -99.52704675611973,19.58407573657524 L -99.52737026867493,19.584603444337738 L -99.52746688489447,19.584788416742843 L -99.52758304008348,19.584971071979936 L -99.52799368800578,19.585523374847998 L -99.52832710082562,19.586073643965516 L -99.52846219546194,19.58630368665568 L -99.52884429402755,19.58669566689587 L -99.52917313101372,19.58704036049972 L -99.5296081349579,19.58766036309511 L -99.52988844297792,19.58800519749638 L -99.53012527407435,19.58835015922173 L -99.53040564200556,19.58862495683248 L -99.53055085298838,19.588739748750513 L -99.5307925923697,19.58903951101441 L -99.53095182685267,19.5893598491945 L -99.53105343993954,19.589612580546643 L -99.53136836660323,19.590160637419608 L -99.53148237589595,19.59041333256326 L -99.53158197487042,19.590690919808484 L -99.53164738837779,19.59101153345098 L -99.53175081227756,19.59137947801995 L -99.5318736673872,19.591769956704308 L -99.53197167493556,19.592230544149245 L -99.53203603920686,19.592666380190284 L -99.53218650900314,19.593219440017485 L -99.532429444061,19.59434380344232 L -99.53258627619857,19.594713848569356 L -99.53270371182714,19.59519471056909 L -99.53284436635099,19.59574779871087 L -99.53290894538488,19.596161040694703 L -99.53305949742104,19.596736690835073 L -99.5333302066598,19.597402353149516 L -99.53366027863383,19.597909695663226 L -99.53397575727313,19.598316605635407 L -99.53375440667158,19.59846475682581 L -99.53363939740959,19.599435165436955 L -99.53352438746141,19.60040557498289 L -99.53340937587087,19.60137598544761 L -99.53244389838198,19.601571475280814 L -99.5314784180993,19.601766959901468 L -99.53051293505592,19.601962437497498 L -99.52969587742537,19.60274634234083 L -99.52887881035345,19.603530244335165 L -99.52806173387285,19.604314141668176 L -99.52777694025866,19.605198855691263 L -99.5274921438764,19.60608357093536 L -99.52720734284674,19.60696828555685 L -99.52692253809273,19.607853001383322 L -99.52663772964726,19.608737716602334 L -99.52635291749387,19.6096224321198 L -99.52606810161592,19.61050714884156 L -99.52578328204635,19.61139186495521 L -99.5254984587521,19.61227658227279 L -99.52521363176605,19.613161298981776 L -99.5249288010717,19.614046015988134 L -99.52464396665243,19.61493073419767 L -99.52504938188004,19.615265448548186 L -99.52545108233159,19.615431037798274 L -99.52545239406469,19.61554199537572 L -99.52560444257725,19.615934651371255 L -99.5258001095032,19.616279736831746 L -99.52610662840637,19.616694533598054 L -99.52642349181258,19.617064115529928 L -99.52721266000744,19.617712455005268 L -99.5274484358064,19.61789701915342 L -99.52763088019445,19.618104330624966 L -99.52767836660823,19.618219409816298 L -99.52769665766091,19.61835942642516 L -99.52769038780878,19.618542439560887 L -99.528221945179,19.618683210678846 L -99.52913051647909,19.618920017372666 L -99.53046791070977,19.61943343788178 L -99.53178160852623,19.619901734664676 L -99.53283413855661,19.62032335105224 L -99.53387663170656,19.620765324124513 L -99.53483704037389,19.62118494252149 L -99.53566235122568,19.621557515321282 L -99.53632391943509,19.62181535220627 L -99.53789694836681,19.622538119338227 L -99.53915039712287,19.623257311174445 L -99.53963265664903,19.623536005740977 L -99.54108541312755,19.624189069402313 L -99.54235889922128,19.62481780980062 L -99.54364208330121,19.625491696583403 L -99.54477976272541,19.626143421654852 L -99.54573926508706,19.626700793680328 L -99.54690686137538,19.62728237945711 L -99.54765925304316,19.627677708674987 L -99.54896101198693,19.628444125680055 L -99.54985261851499,19.629024273882674 L -99.55022777393233,19.629348450029738 L -99.55053950105072,19.62974059462441 L -99.55085122899554,19.630132739630664 L -99.55114402231764,19.63046733165996 L -99.55143681610905,19.630801924132083 L -99.55169052318027,19.631182948192794 L -99.55194423165798,19.63156397288819 L -99.55226801401534,19.631978669054647 L -99.5525917973926,19.63239336469517 L -99.55293743605073,19.632797827102383 L -99.55328307678263,19.633202287987434 L -99.55365501535374,19.633640554709146 L -99.55402695630761,19.634078821626385 L -99.55453461356,19.634793418117166 L -99.55477794938962,19.63495532942787 L -99.55502128484271,19.635117240359712 L -99.55541808356328,19.63548765114302 L -99.55581488444717,19.635858061031353 L -99.55642858986832,19.636344148209265 L -99.55704229969648,19.636830232242854 L -99.55800913624789,19.637685724764886 L -99.55902462613983,19.638541060991024 L -99.55986580996131,19.63935175043169 L -99.56115989706433,19.64052926973347 L -99.56258456435201,19.640357413027417 L -99.56300048080303,19.640702303244364 L -99.56378700584378,19.64101787210115 L -99.5645771735469,19.641234703742256 L -99.56461630405127,19.64186030577738 L -99.56472452362404,19.64359044451956 L -99.56542592804367,19.644290151622375 L -99.56612733970316,19.64498985508586 L -99.56682875857031,19.645689556722 L -99.56753018467758,19.646389254718446 L -99.5682316180088,19.647088949981136 L -99.56893305854778,19.64778864341599 L -99.56963450537076,19.648488333195367 L -99.57033596035812,19.649188021161955 L -99.57103742258597,19.64988770548803 L -99.5717388920219,19.650587387985656 L -99.57244036869852,19.65128706684247 L -99.57314185258346,19.651986743870523 L -99.57351953162532,19.652617294322198 L -99.57376205124929,19.6527647223137 L -99.57454784738067,19.65382415864255 L -99.57533365481,19.654883592058606 L -99.57640279658084,19.655855497358967 L -99.57709797667219,19.656599786650354 L -99.5777931634073,19.65734407422279 L -99.57866366697462,19.658828801261716 L -99.57943957719516,19.6597343976309 L -99.58055458411471,19.66079134346139 L -99.58085977088163,19.661038414823672 L -99.58204085000233,19.66180361466605 L -99.58322194241082,19.6625688068153 L -99.5841916981118,19.6631356457941 L -99.58516146094806,19.663702478883135 L -99.58613123284887,19.664269305206748 L -99.58710101282541,19.6648361265617 L -99.58802806053198,19.665465488342154 L -99.5889551168435,19.6660948439554 L -99.58922424488641,19.666277546709637 L -99.58944658168762,19.666428482590824 L -99.5898006514128,19.66666884682985 L -99.59024753559184,19.66697221655123 L -99.5908122654456,19.667355583127268 L -99.59097292056458,19.667410268639113 L -99.591489392585,19.667562088821573 L -99.59205825341905,19.667729304995117 L -99.5921099200844,19.667744948646675 L -99.59238648216024,19.667826270824158 L -99.5926616940834,19.667838938046067 L -99.59299291577443,19.667854182073572 L -99.59362092021264,19.668195407551046 L -99.59376639959297,19.668274453185244 L -99.59432311009118,19.668632271221785 L -99.59448613677134,19.6686301876305 L -99.59477521900878,19.668646552754083 L -99.59480931080535,19.66864889444838 L -99.5949087858322,19.668656880159467 L -99.59534539908802,19.668691066025772 L -99.59538548332998,19.668694763534972 L -99.5955202169607,19.668706583596578 L -99.59572427183382,19.668721361641197 L -99.59611604826581,19.668749495581462 L -99.59614278971003,19.66880726983321 L -99.59610269256765,19.66888064545773 L -99.59604248416147,19.668909305015994 L -99.5959780286825,19.668913404280584 L -99.59587613331357,19.66891284388521 L -99.59578850573075,19.668983441599504 L -99.59575919020975,19.669055924296938 L -99.59575458199353,19.669103943096065 L -99.59577875055768,19.66921085620722 L -99.59577991576104,19.669336509380837 L -99.59581780983714,19.669398986349087 L -99.59587331189621,19.669448290591394 L -99.5959187378162,19.66949250958772 L -99.59596182749873,19.669487674063802 L -99.59602682292069,19.6694287479778 L -99.5961553697131,19.669388977433226 L -99.59620470956195,19.669427870117623 L -99.59626257135152,19.669528378095233 L -99.59635960964619,19.669615393180173 L -99.59643069620181,19.669643955847185 L -99.59650338262041,19.669561221671014 L -99.59656348177072,19.669490021501012 L -99.59673770966577,19.669521807608316 L -99.59686415588541,19.669583409619822 L -99.5970159182963,19.669728871950966 L -99.59706075628885,19.669827287665765 L -99.59712823472627,19.66985780941107 L -99.59721856569621,19.669933942569873 L -99.59723923648293,19.670022786795474 L -99.59730861640305,19.670092142183037 L -99.59743916057937,19.670124093414856 L -99.59750311320116,19.670103227647576 L -99.59754047272313,19.670110505013245 L -99.5975858268747,19.670182630448828 L -99.59762759712459,19.670249057751267 L -99.59769250629283,19.67042012294475 L -99.59780895274176,19.670436291388786 L -99.59786683788697,19.670517604985832 L -99.5979368034569,19.670700351897974 L -99.59820626018833,19.670894330581508 L -99.5983787763703,19.67111078983466 L -99.59839276624882,19.67139108060126 L -99.59851909257901,19.671568286234493 L -99.59860651284824,19.671857083524433 L -99.59896869117185,19.671774909977852 L -99.5992586376304,19.672136165690496 L -99.59911115549883,19.672479154795795 L -99.59929422745059,19.67256067405781 L -99.59933972086276,19.672649978005555 L -99.59943560532561,19.67274328683394 L -99.59947499675606,19.67281533907617 L -99.59955312001642,19.6728816590234 L -99.59961249825184,19.672882600509723 L -99.59965023232618,19.67290544391346 L -99.59980230946145,19.672921968200484 L -99.59994174309742,19.673043764719765 L -99.6001966206052,19.67325732875343 L -99.60027139739238,19.673282973461887 L -99.60031080663926,19.67335053018811 L -99.60044408931479,19.673454414015566 L -99.60050546153523,19.673471516575688 L -99.6005675235551,19.673522806670846 L -99.60060707868374,19.673613536180895 L -99.6006307894572,19.67370480765315 L -99.60065586635244,19.673769604755925 L -99.60068585632415,19.67382082429474 L -99.60111348541139,19.67375839655761 L -99.601357630738,19.673789478847652 L -99.60174060955678,19.673572944526192 L -99.60201646783192,19.67381935225994 L -99.60257310829239,19.67384233752377 L -99.6031841604879,19.673237092041358 L -99.60364970558885,19.67336502300519 L -99.6039732448491,19.67319874605992 L -99.60406052182807,19.673577268265483 L -99.60448468435204,19.673964777874744 L -99.60500753253761,19.673880152288937 L -99.60540789861861,19.67372210832956 L -99.60629511144577,19.674079496710526 L -99.60655675436936,19.67407011936629 L -99.60678304374308,19.6739950742785 L -99.60692401655459,19.674216266228267 L -99.60753343285238,19.674016304706246 L -99.6087206938974,19.674175035495757 L -99.60958403999169,19.6741217740178 L -99.61046606499163,19.67429011339516 L -99.61132528095314,19.674204325916836 L -99.61270598470752,19.67322574565321 L -99.61347262307619,19.672554239224144 L -99.61401799985877,19.67156530839077 L -99.61514222936191,19.671501670487242 L -99.61719566140285,19.671385412368217 L -99.61852141942006,19.67112358125293 L -99.6198471723271,19.6708617386006 L -99.62006630377847,19.670594139475025 L -99.62036110260205,19.670417479954256 L -99.6211906140446,19.670179295707598 L -99.62182498844642,19.66992039292529 L -99.62193234301263,19.669214069410422 L -99.62225525397082,19.668816628447402 L -99.6227754510977,19.668498442534936 L -99.62366680656437,19.668275797285872 L -99.62369830165285,19.668429938864303 L -99.62392314162835,19.668641956716236 L -99.62434425348471,19.668065504820355 L -99.62461911944646,19.667836758681755 L -99.62493633945523,19.66746860600089 L -99.62546189283339,19.66704005496543 L -99.62598870253771,19.666935761252777 L -99.62663203608204,19.666999949468753 L -99.62707369839998,19.6668509130872 L -99.62750732423567,19.666621964080687 L -99.62826881338691,19.666281528118205 L -99.62870317748359,19.666242854014374 L -99.62936959557744,19.666284432172915 L -99.62980402114395,19.66626151754062 L -99.63048024033017,19.6663402121084 L -99.63089160193513,19.66634552458705 L -99.63130279489084,19.666308051138948 L -99.63184547530388,19.66631289872199 L -99.63308443513819,19.666418817299014 L -99.63375633130694,19.66646712354208 L -99.63390112803387,19.66654008489102 L -99.63413131559048,19.666820887408527 L -99.63443983586588,19.667014880384507 L -99.6349005868913,19.667132328586508 L -99.63525688157765,19.667224813943943 L -99.63577893505182,19.66727870477808 L -99.63568092004292,19.666618500548733 L -99.63561247215037,19.66622604398137 L -99.6356524078899,19.66617522889242 L -99.6353649634034,19.66589502281267 L -99.63550332235921,19.665691852924244 L -99.63564645175164,19.665341718329607 L -99.6360399408358,19.665234788415965 L -99.63642251905796,19.66452910695827 L -99.63647357777386,19.664217441588942 L -99.63634908706618,19.66416145973432 L -99.63579797638857,19.663706249125568 L -99.63524686844754,19.663251036713184 L -99.63547218717785,19.66274328680848 L -99.63627942549286,19.663018396949315 L -99.63757983760306,19.66309963636253 L -99.63860676713568,19.663037252357316 L -99.64128297358894,19.6618951394596 L -99.64181178887459,19.661424106060817 L -99.64214100767515,19.661068239279984 L -99.64195500963447,19.661646883838404 L -99.64233002595672,19.662626013365976 L -99.64270504672773,19.663605142956193 L -99.64299268178661,19.66392319588946 L -99.6439212951695,19.664107380901005 L -99.64553231157709,19.664426014791406 L -99.64627295060924,19.66457227618251 L -99.64725001684533,19.66476503502859 L -99.64822708585388,19.664957787607964 L -99.64839549350935,19.665945871814905 L -99.64860389460144,19.667175798214213 L -99.64879516664105,19.668341064500456 L -99.64893598603555,19.6691157128689 L -99.64916940665125,19.670483066189963 L -99.64935063090827,19.671546432735713 L -99.6495318589746,19.672609799357378 L -99.64964021481808,19.673255540284366 L -99.64965049362418,19.67330578304952 L -99.64988958349394,19.67470793575071 L -99.64890888455183,19.674652900317536 L -99.64792818638858,19.67459785944153 L -99.6469474890201,19.674542812216437 L -99.64596679246212,19.674487757736166 L -99.64498609668324,19.67443269781304 L -99.64400540169943,19.67437763154085 L -99.64302470751068,19.67432255891969 L -99.64253543386127,19.67428057218217 L -99.64233759181975,19.67428399086703 L -99.64106627033222,19.674212625476915 L -99.63979495018044,19.6741412494172 L -99.63803465361863,19.674042232869425 L -99.63799793482441,19.674333883734594 L -99.63796704194861,19.674506682561795 L -99.63790935340197,19.674923473492417 L -99.63778999355448,19.6754496458083 L -99.63777153536874,19.675606767350395 L -99.6377010000442,19.67593540662863 L -99.63766384544901,19.676237631292576 L -99.63753491664376,19.67699824680679 L -99.63736206065373,19.677989630762855 L -99.63709040564129,19.679545608245707 L -99.63690189634562,19.680617231806554 L -99.63671338311921,19.681688856317216 L -99.63652486787522,19.68276048180721 L -99.63634576638277,19.683792254024915 L -99.63616666119727,19.68482402803281 L -99.63601366073574,19.685697142447992 L -99.63569568322657,19.687463789262218 L -99.63555529108865,19.68807985728392 L -99.63554134993697,19.688342871549697 L -99.6354309746512,19.688563211903034 L -99.6352387006635,19.689716868230825 L -99.6352115011114,19.689835705589395 L -99.63435144898962,19.689395759811127 L -99.63349140149772,19.68895580842844 L -99.6326313605177,19.688515853283615 L -99.63177132415184,19.68807589344073 L -99.63091129431365,19.687635928929666 L -99.63005126908966,19.68719595972062 L -99.62986038952542,19.687105541108135 L -99.62818210642173,19.686812670341908 L -99.62772099432313,19.686735122566237 L -99.62747896464623,19.6866407235406 L -99.62648445282576,19.686232265360836 L -99.62534488286477,19.685768546700945 L -99.624669005281,19.685416936278088 L -99.62338845129636,19.684892022842327 L -99.62214830226513,19.684575163268427 L -99.62200427643188,19.684485567696846 L -99.62163227685997,19.68425850116228 L -99.62155598481266,19.684217015830782 L -99.62115470194446,19.684090175320048 L -99.62079008014051,19.683969893796426 L -99.62036342861988,19.683820186067816 L -99.62010988685341,19.683657680216584 L -99.61960388552619,19.68336564666209 L -99.61937094406784,19.683300211500875 L -99.61919231855225,19.683143681417565 L -99.61856518193201,19.68278311334654 L -99.61848956326273,19.682718219854156 L -99.6181174963894,19.682545908275983 L -99.61803566528614,19.682527483928038 L -99.6176709369236,19.68247723020824 L -99.6175808835198,19.682454315638456 L -99.6168236105517,19.682290102843623 L -99.61672972298832,19.682262231149174 L -99.61629850704355,19.682189249593915 L -99.61586239768086,19.682208637804912 L -99.61571234703803,19.682238431399792 L -99.6151335507225,19.68236746937709 L -99.61484331531196,19.68246253388409 L -99.6146010091136,19.682467520078912 L -99.61453779755361,19.682453097009834 L -99.61418812605413,19.682423297997946 L -99.61411666114711,19.682421192924206 L -99.61377155495872,19.682463037236193 L -99.61296106430443,19.68235239624014 L -99.61277882091585,19.68232129901878 L -99.61245145407057,19.682336332840148 L -99.61224835583955,19.682365670767314 L -99.61176008316976,19.68236606969453 L -99.61121400513541,19.682192980117087 L -99.61015737450064,19.68184265536565 L -99.6091007493315,19.681492322462706 L -99.60846415938661,19.68112226207546 L -99.60679013727346,19.680313816860764 L -99.60741392876253,19.68182073303584 L -99.60792772961693,19.68297324055107 L -99.60844723117435,19.684243836880594 L -99.60876078121673,19.684787500924838 L -99.60879799267897,19.685286475435696 L -99.60880278957366,19.68535079115184 L -99.60871463271246,19.685628062049823 L -99.60861029999215,19.686194197850792 L -99.60843882727698,19.686994880128058 L -99.60822301870576,19.687424579349372 L -99.60750349380399,19.687635037359975 L -99.60739577688423,19.687684832424008 L -99.6071737175722,19.68774793618279 L -99.60723828438275,19.687944263827504 L -99.60742814184927,19.689018932624794 L -99.60761800233585,19.69009360148132 L -99.60770468567128,19.690461821067533 L -99.6077502611342,19.690605529454672 L -99.60774236574935,19.69094036261948 L -99.60768843118484,19.691564974540846 L -99.60766151520534,19.691663383827006 L -99.60745532086655,19.691735018907874 L -99.60721938716826,19.693281799818596 L -99.60705111536595,19.69423497617542 L -99.60688284214285,19.695188154211753 L -99.60671456657413,19.69614133209995 L -99.6064550865288,19.696962551780253 L -99.6055688549765,19.696580945759916 L -99.60468262744683,19.696199334689187 L -99.60379640586942,19.69581771769231 L -99.60291018829886,19.6954360965513 L -99.60202397572378,19.695054469469113 L -99.60113776906903,19.694672838273224 L -99.60025156643721,19.69429120202726 L -99.59936536880096,19.693909559840275 L -99.59847917708508,19.69352791353988 L -99.59759298939223,19.69314626218958 L -99.59670680765177,19.692764604913663 L -99.59582062991828,19.692382943494078 L -99.59493445716461,19.69200127704001 L -99.59404829036343,19.691619604660556 L -99.5931621275693,19.691237928137625 L -99.59227596977112,19.690856245674272 L -99.5913898178934,19.690474559097964 L -99.59050367003884,19.6900928674723 L -99.58961752813698,19.689711169921605 L -99.58873139024234,19.68932946822779 L -99.5878452573276,19.68894776149996 L -99.58695913036564,19.68856604884729 L -99.58607300741097,19.688184332051655 L -99.58518689039298,19.68780261023751 L -99.58430077741446,19.68742088246829 L -99.58341466939999,19.687039150571522 L -99.58252856733837,19.68665741275032 L -99.58164246928409,19.686275670786372 L -99.58075637621005,19.685893923789056 L -99.57987028908894,19.685512170867476 L -99.57898420597526,19.68513041380342 L -99.57809812879854,19.68474865172141 L -99.57721205566152,19.68436688368479 L -99.57712577840432,19.684329336392423 L -99.57720546011694,19.682603350817228 L -99.57724711695366,19.682434051291118 L -99.57760386907724,19.681539359672264 L -99.57766223315429,19.681399917343413 L -99.57801226560844,19.681080249031332 L -99.57814730056005,19.680240308955447 L -99.57800442023176,19.67894617828906 L -99.57801446701237,19.67781050912939 L -99.57788054999972,19.67744549752456 L -99.57786488140307,19.67696009908597 L -99.5779544351486,19.676792812962624 L -99.57809498637052,19.67666720311863 L -99.5781781781849,19.675258211201605 L -99.57821679346027,19.674321527109456 L -99.57824237943427,19.673768401442487 L -99.578304770343,19.673331417771138 L -99.57675853577409,19.674367351051536 L -99.57577648016166,19.674441301110555 L -99.57479442253972,19.674515243884045 L -99.57381236478923,19.674589181214827 L -99.57283030501323,19.674663112166115 L -99.571848245125,19.674737036768573 L -99.57086618416804,19.674810955006947 L -99.56988412120207,19.674884865959644 L -99.56890205810792,19.67495877146963 L -99.56791999394531,19.675032670615423 L -99.56693792775775,19.675106563381622 L -99.56595586147475,19.675180448892874 L -99.56497379410733,19.675254328946014 L -99.56399172471521,19.675328202619497 L -99.56300965521169,19.67540206994416 L -99.56202758368364,19.675475930889124 L -99.56104551206064,19.675549784579083 L -99.56006343935366,19.675623632810876 L -99.55908136462241,19.675697474662996 L -99.55809928978022,19.675771310166173 L -99.55711721388685,19.67584513839889 L -99.55613513595323,19.675918961158004 L -99.55515305790891,19.675992777568144 L -99.55417097784081,19.676066587598548 L -99.55318889766221,19.67614039127997 L -99.55220681643293,19.67621418769088 L -99.55122473316379,19.676287978628075 L -99.55024264978442,19.676361763216317 L -99.54926056533832,19.676435541440135 L -99.54820323557885,19.67652196873993 L -99.54714590541428,19.676608389585528 L -99.54608857392098,19.676694802149076 L -99.54503124106621,19.676781208242954 L -99.54397390688295,19.67686760605486 L -99.54291657038188,19.67695399738144 L -99.54257837097497,19.676981587481304 L -99.54212916939936,19.678061803446827 L -99.54167995970707,19.679142020189882 L -99.54123074287084,19.680222236819443 L -99.54087197874176,19.681084964001833 L -99.54051320911555,19.681947690189702 L -99.54015443587274,19.682810417226246 L -99.53979565808929,19.683673143283446 L -99.53943687477576,19.68453587015782 L -99.53907808787811,19.685398596067923 L -99.53871929640688,19.686261322810367 L -99.53836050039469,19.687124048572628 L -99.53800169885207,19.687986775151145 L -99.537642893725,19.688849500764682 L -99.53728408402397,19.68971222720958 L -99.53733171993923,19.69077850424638 L -99.53656909843707,19.691651772336407 L -99.5358064671459,19.692525036473334 L -99.53504382509256,19.693398297547528 L -99.53419887750054,19.6944082247928 L -99.5337963859601,19.69497005796788 L -99.53296148130491,19.695753739148703 L -99.53212656607572,19.696537415443217 L -99.53129164215291,19.697321088694462 L -99.53045670765593,19.69810475705881 L -99.52992531259062,19.698977832472934 L -99.52939390973731,19.699850906798673 L -99.52886250102594,19.700723979160774 L -99.52833108450987,19.701597051340094 L -99.52750121495592,19.703155220706847 L -99.52718458289812,19.70417229559905 L -99.52686794608191,19.70518937180845 L -99.52655130549714,19.70620644753807 L -99.52591613019185,19.70746992275096 L -99.52515786482046,19.70813747086969 L -99.52439959201223,19.70880501474728 L -99.5232441615149,19.709513070246995 L -99.52257172757717,19.710227500507187 L -99.52189928559204,19.71094192920059 L -99.52122683748966,19.71165635545227 L -99.52055438137272,19.71237077832457 L -99.51988191816493,19.71308519964532 L -99.52084291003678,19.71297327212561 L -99.52180389936787,19.712861338505224 L -99.52276488709843,19.712749399705967 L -99.5237258742183,19.712637453931173 L -99.52468685879717,19.71252550205579 L -99.52564784179178,19.712413544095423 L -99.52660882318555,19.712301580956247 L -99.52756980396829,19.71218961084167 L -99.52853078220969,19.712077634626535 L -99.52949175886651,19.711965652326466 L -99.53045273487898,19.71185366486331 L -99.5314137083664,19.711741670393547 L -99.53237468026902,19.71162966983895 L -99.53333565058674,19.711517663199494 L -99.53429662025985,19.711405651397016 L -99.53525758740751,19.71129363258793 L -99.53621855297003,19.711181607694165 L -99.53717951790415,19.711069576731138 L -99.53814048027971,19.71095754057397 L -99.53910144108627,19.710845497425996 L -99.54006240030736,19.710733448193263 L -99.54102335889975,19.710621392891408 L -99.54198431493325,19.710509332395482 L -99.54294526939742,19.71039726490878 L -99.54390622323261,19.710285191352973 L -99.5448671745251,19.71017311169699 L -99.54582812423159,19.710061025956477 L -99.54678907233566,19.7099489350375 L -99.54775001982674,19.709836837143285 L -99.54871096477483,19.709724733149084 L -99.54967190813662,19.709612623070356 L -99.55063285085252,19.70950050782875 L -99.55159379104146,19.70938838558095 L -99.55255472964383,19.709276257248767 L -99.5535156666596,19.709164122832064 L -99.55447660302916,19.70905198325257 L -99.55543753687142,19.708939836667057 L -99.55639846912679,19.70882768399714 L -99.55735940075203,19.70871552525829 L -99.55832032981711,19.708603361325764 L -99.55928125731135,19.708491190402718 L -99.5602421832184,19.70837901339541 L -99.56120310849492,19.70826683031914 L -99.56216403121103,19.708154642049312 L -99.56312495235595,19.708042446789108 L -99.56408587287017,19.707930245460012 L -99.56504679083993,19.70781803803126 L -99.56600770720576,19.70770582542445 L -99.56696862200005,19.707593605827267 L -99.56792953616329,19.70748138016134 L -99.56889044778175,19.707369148395813 L -99.5698513578122,19.707256910546125 L -99.57081226719514,19.7071446675338 L -99.57177317404927,19.70703241751592 L -99.5717796132073,19.70797547314905 L -99.57178605245466,19.708918529703563 L -99.57179249274836,19.709861587194393 L -99.57179893215843,19.710804646496904 L -99.57180537167413,19.71174770581388 L -99.57181181127919,19.712690766051132 L -99.57181825193061,19.7136338272238 L -99.5718246917146,19.71457688930091 L -99.57183113158801,19.715519952297637 L -99.57183757155079,19.71646301621363 L -99.57184401254376,19.71740608197019 L -99.5718504526855,19.718349147724126 L -99.57185689291666,19.719292214396607 L -99.57186333323726,19.720235281987375 L -99.57186977364724,19.72117835049623 L -99.57187621510366,19.72212141993826 L -99.57188265569258,19.72306449028248 L -99.5712475995634,19.7239551305358 L -99.57061253510489,19.724845768944505 L -99.5699774623168,19.725736405508258 L -99.56934238215614,19.72662704024211 L -99.57060354324967,19.72672220740253 L -99.57186470609442,19.726817364976895 L -99.57165791787448,19.728138909008607 L -99.57142530825635,19.729625447595478 L -99.57236227640054,19.729825231075072 L -99.57329924825832,19.730025008814785 L -99.57423622191575,19.73022478078386 L -99.57517319832982,19.73042454699765 L -99.57611017845731,19.730624307471416 L -99.5770471603843,19.730824062174484 L -99.57798414508373,19.73102381021597 L -99.57892113252329,19.731223553408164 L -99.57964041472297,19.73185441970247 L -99.58035970360532,19.7324852829905 L -99.58107899821348,19.73311614325684 L -99.5817983004615,19.733747000531878 L -99.58119265124562,19.734208972863097 L -99.58113753151598,19.73406478462981 L -99.58074444326311,19.734209233906206 L -99.58051465476139,19.734423955393527 L -99.580706581019,19.735262558938924 L -99.57984913279408,19.735843317093206 L -99.57899167723532,19.73642407074013 L -99.57813421432662,19.737004820785664 L -99.57727674410013,19.737585565417383 L -99.57641926652354,19.738166306447518 L -99.57535238985221,19.738041523883393 L -99.57428551514165,19.737916733820615 L -99.57321864239185,19.737791936259246 L -99.57215177160298,19.737667131199284 L -99.57108490275903,19.737542319546925 L -99.57001803589236,19.737417499489798 L -99.56920431411051,19.73747179976394 L -99.56798054739969,19.73751656492041 L -99.56721741493551,19.737541394615228 L -99.56594107369773,19.737634596312567 L -99.56518106334771,19.737690089032753 L -99.5639903327982,19.73777702296678 L -99.56327178707328,19.737829479329168 L -99.56260033763786,19.737878493435833 L -99.56236655586648,19.73789555903265 L -99.5620845089306,19.738906758034314 L -99.56179659709767,19.739938963324406 L -99.56149619881731,19.741015920422168 L -99.56025428612722,19.740423391935032 L -99.55893083961605,19.739973006200962 L -99.55824139744537,19.739738374330624 L -99.55600510892785,19.738778409766592 L -99.55540850127063,19.73854982707035 L -99.55516111443785,19.738435376925793 L -99.55500587358792,19.73839067429866 L -99.5547876884465,19.738413941672935 L -99.55422586334309,19.738528637937364 L -99.55390641752906,19.738690026383864 L -99.55329146231612,19.7390353178931 L -99.55273001675991,19.739427885106327 L -99.55204286654485,19.73995638723159 L -99.55109981212382,19.740921691391353 L -99.55040829047879,19.74154282651442 L -99.54981325176279,19.742163662556127 L -99.54944618266948,19.742691172346074 L -99.54920451372806,19.743105339434475 L -99.54898711288666,19.743471988925556 L -99.54862457811682,19.743931708082158 L -99.54831995847779,19.744163075081413 L -99.54795173645805,19.744299751547256 L -99.54753506394431,19.744278434122776 L -99.54722931858215,19.74409637631265 L -99.54696192255989,19.743796724953093 L -99.54666551181032,19.743384204035753 L -99.54647561981865,19.742973616746124 L -99.54627022648559,19.742102208607566 L -99.54609920629117,19.74145887053168 L -99.54594344032715,19.741091101841775 L -99.54580215099197,19.74077073262442 L -99.54554516486897,19.740611115094573 L -99.54490046350371,19.740635668091194 L -99.54451303380077,19.74081983819389 L -99.54414544415252,19.74114175580302 L -99.54355022064384,19.74160217193416 L -99.54281563961307,19.742566800960333 L -99.54227377658069,19.74311741784274 L -99.54203183318893,19.743371175864727 L -99.54184833546142,19.74369253130036 L -99.54161185601309,19.74415185524247 L -99.54132687161065,19.74463391758848 L -99.54105681829257,19.745298926486306 L -99.5408788910597,19.745943323834236 L -99.5407588299747,19.746540104364204 L -99.54059043731498,19.747182213265628 L -99.54045622937767,19.74780162801789 L -99.54029769543097,19.74865154903758 L -99.54015390910736,19.7494313922146 L -99.540087061198,19.74984047220956 L -99.5400150334454,19.750281254779004 L -99.53985153971176,19.75087816498708 L -99.53954698711098,19.751222475205328 L -99.53918890815838,19.751544353537433 L -99.53886490141815,19.751866129426062 L -99.53847307624446,19.75225814237279 L -99.53773246914078,19.752786752181123 L -99.53692692578714,19.75316418930441 L -99.53665655628735,19.753372842068778 L -99.53650669017506,19.75351110016191 L -99.53633318817049,19.75371720350823 L -99.53612130845102,19.75406348857788 L -99.53605417310982,19.754224090128055 L -99.53594857494802,19.754500023500533 L -99.53589589180552,19.754615397741617 L -99.53568304966991,19.754731251938274 L -99.535431872707,19.75491499483483 L -99.53508867159468,19.7551238633957 L -99.5347310104684,19.75537569855731 L -99.53428138636309,19.755700100798787 L -99.53408329490304,19.755861091716433 L -99.53372454987836,19.755816978482077 L -99.53336502052841,19.755680241547388 L -99.53272919218914,19.755521734484567 L -99.53221467905254,19.755362864461684 L -99.53160778195185,19.75520652637935 L -99.53121456268862,19.755069884361852 L -99.53070474959112,19.754888404457088 L -99.53011245105992,19.754729759400497 L -99.5295398156776,19.75457105293414 L -99.52879234543602,19.754390270551223 L -99.52798667495074,19.7541870643029 L -99.52732656253119,19.75398342636921 L -99.52660794304704,19.75377995782094 L -99.52584608740547,19.753576613573383 L -99.52509839619248,19.75332578106857 L -99.52451602050022,19.75319193916596 L -99.52348228921977,19.752856089786423 L -99.52297861449804,19.75272423124294 L -99.51885743860996,19.75117002383093 L -99.51818835413474,19.750917683075723 L -99.51716548564379,19.75057855873929 L -99.5166231484879,19.750401985319417 L -99.51615085874573,19.75041045477395 L -99.51564441700145,19.75041953554355 L -99.51459108883917,19.750176407168517 L -99.51424153335701,19.75004987485979 L -99.51398239689519,19.74986988564064 L -99.51380017864736,19.749597049600485 L -99.51349755152994,19.748978906465243 L -99.51307141822522,19.748180383313194 L -99.51284718782695,19.74763204835291 L -99.51266264857173,19.74719881652792 L -99.51249452890079,19.746467328063062 L -99.51245162922666,19.74612405739826 L -99.51241944514308,19.745848531496232 L -99.5124846590718,19.74561791009879 L -99.51257950886426,19.745432386407085 L -99.5127028540836,19.745203858204597 L -99.5127929315584,19.74501834855335 L -99.51285299170249,19.744787741379717 L -99.51279798303996,19.744627497771393 L -99.51254173203758,19.744241914409095 L -99.51200485917397,19.7434888878413 L -99.51174954486784,19.743216257857465 L -99.51147826007129,19.742783272737494 L -99.51120892212211,19.74212210566328 L -99.5109775319922,19.74138853606585 L -99.5106914876006,19.740544422787693 L -99.51059928962985,19.739672646902388 L -99.51038649144323,19.738871248077917 L -99.51004216701656,19.73800470844928 L -99.50976858890994,19.737386474654645 L -99.50948363225494,19.736610130430144 L -99.50926427410585,19.736084367794756 L -99.50895512754603,19.73574411182863 L -99.50849125715857,19.73542688528527 L -99.50814537623489,19.73526972475979 L -99.50790234435047,19.735251882698876 L -99.5076120516355,19.73523057126361 L -99.50745194078698,19.73523622203652 L -99.50724022502658,19.73534910102934 L -99.50698197137437,19.735650301111363 L -99.50684323669512,19.735811095342605 L -99.50652366856588,19.736250277547402 L -99.5064528398938,19.73616839178722 L -99.50652613969304,19.735976307904547 L -99.50633132453613,19.735724735153823 L -99.5060785972184,19.735448383657193 L -99.5058738034656,19.735118761918656 L -99.50490408590889,19.73466577643923 L -99.50336187271267,19.734065651762688 L -99.50280122103496,19.73407572006748 L -99.50235293485345,19.733792683550092 L -99.50214185114022,19.733768152890924 L -99.50150675775463,19.73377707016468 L -99.49967687318123,19.733989212437965 L -99.49965063814707,19.73399226729677 L -99.49902721366003,19.733917916227107 L -99.49885990156031,19.73388259653756 L -99.49712802817785,19.73330624165936 L -99.49569707556437,19.732830013271908 L -99.49436533279682,19.73287697788364 L -99.49390633061218,19.732918864878457 L -99.4931717578638,19.732949935824642 L -99.49266577299693,19.73294437960931 L -99.49245957002063,19.73302271663011 L -99.49232543014544,19.733160895189247 L -99.49221560664395,19.73332385686193 L -99.49210285706002,19.73362237824902 L -99.49207133219173,19.733830308842506 L -99.49215682091007,19.734103434134198 L -99.49220791596122,19.73433372887043 L -99.49231408491661,19.734722015744484 L -99.49227602296293,19.735225916242495 L -99.49222714299816,19.736030316185108 L -99.49212638588295,19.736536648156395 L -99.49205463350859,19.737040640691056 L -99.49202951654571,19.737408955783955 L -99.49197661737209,19.737867712950777 L -99.4918367554017,19.73835156004619 L -99.49172051203061,19.738787899973982 L -99.49163444949286,19.739294190948925 L -99.49160170203534,19.73982066797196 L -99.49159797565432,19.74034932461344 L -99.49151285466132,19.741382000451765 L -99.4915423171465,19.74184053176086 L -99.49167942706919,19.742389134330562 L -99.49177012249216,19.742709687761202 L -99.49181383306512,19.743145588548003 L -99.49186388285105,19.74371928079651 L -99.49189805067918,19.744155207075508 L -99.49207077642053,19.744864112657744 L -99.49212578495663,19.745871552249405 L -99.49212937112101,19.746169753197407 L -99.49223555535235,19.74656029839173 L -99.49222444467314,19.74729455895099 L -99.49214269329516,19.747775987681283 L -99.49204437310061,19.748487896835826 L -99.49197504036268,19.74922231788047 L -99.49205907182387,19.749795916373664 L -99.49214587676603,19.750184254909698 L -99.49235304778955,19.75091791629557 L -99.49248703255877,19.751626927123468 L -99.49250288652091,19.75211986712901 L -99.4921637458252,19.752340838985322 L -99.49175726352917,19.752691314006796 L -99.49159782233764,19.752926072690876 L -99.49131538735203,19.753484501690533 L -99.49114359746532,19.753769989610465 L -99.49117465519518,19.75446843999974 L -99.49103403006035,19.755019972307924 L -99.49097256931681,19.75533452719022 L -99.49019975111919,19.75653039028925 L -99.49013849200901,19.75703661138523 L -99.49009050685926,19.75798252205695 L -99.48993028027564,19.75821240148841 L -99.48993706469322,19.758359588760115 L -99.48990165026292,19.75836860498758 L -99.4893341409651,19.758505706924012 L -99.48896572284292,19.758574488428344 L -99.48857276601449,19.758641077363556 L -99.488131587655,19.75873264823707 L -99.48778208209437,19.758869150754435 L -99.48721934171247,19.759006233355954 L -99.48683631722965,19.75907505026804 L -99.48644328395774,19.759211669688437 L -99.48545894678847,19.759415407776352 L -99.48479914918839,19.75952789499406 L -99.48415448728608,19.759595156040742 L -99.48373232507352,19.759664072046686 L -99.48353853377498,19.759687187336656 L -99.48331913300933,19.760144132694386 L -99.48307083556229,19.76062600611371 L -99.48297347429802,19.760831853441502 L -99.48279297994684,19.761245767852074 L -99.48270978563855,19.761544203428127 L -99.48264133762875,19.761795155810773 L -99.48256260585528,19.762276571225698 L -99.4824596287621,19.76275805162634 L -99.48244446934238,19.763081153865897 L -99.48242908408442,19.763424589124483 L -99.48245700688561,19.763790499590108 L -99.48250514740033,19.763928179508373 L -99.48256931169658,19.76408739245197 L -99.48285857624487,19.764537963144036 L -99.48302559634831,19.764798121116904 L -99.48372924839212,19.764299079165195 L -99.48395495183526,19.764139005382805 L -99.48411840151405,19.76446641364502 L -99.48424820509221,19.76480990857234 L -99.4843069594105,19.765395506146106 L -99.48501917529308,19.765500752790118 L -99.48532616856264,19.76566230928182 L -99.48542305241376,19.766040231486006 L -99.48551441489504,19.766264815618225 L -99.48546882801284,19.76649898948027 L -99.48545830185734,19.76686888878322 L -99.48539152660956,19.767324789854033 L -99.48539359694621,19.767504161924503 L -99.4856774667919,19.767814433686567 L -99.4857972231444,19.76833679031035 L -99.48622158315294,19.769741291611112 L -99.48605584784467,19.770332287694547 L -99.48555397962187,19.770883170888084 L -99.48524116886747,19.77104225098266 L -99.48504756654046,19.771226581623498 L -99.48499252156273,19.771427254760926 L -99.48454491381118,19.771994072868836 L -99.4841815521907,19.772262631835805 L -99.48381075378916,19.772313065628953 L -99.48342080654197,19.772345025453472 L -99.48315605372261,19.772456259195152 L -99.48232440588951,19.77242000689003 L -99.48111388624326,19.772034598586288 L -99.48105055765805,19.772148540525954 L -99.48083142620727,19.773307992903398 L -99.48058828937975,19.773561672545032 L -99.48037822675266,19.773894605340033 L -99.48028626444467,19.774488652599263 L -99.48051569304266,19.775297631569572 L -99.48028566689725,19.77585039016281 L -99.47994011841263,19.776271070629043 L -99.47976041996483,19.776703595448023 L -99.47930719858128,19.777319665512316 L -99.4792557454712,19.777766666799153 L -99.47920266027234,19.778115172428105 L -99.4786443975513,19.77859398406008 L -99.47856562702701,19.779516387057257 L -99.47860811828463,19.780351170347537 L -99.4784061639619,19.781421652588143 L -99.47911916003193,19.781892813312773 L -99.47912173727865,19.782243970763677 L -99.47889474181139,19.782761204897966 L -99.47860239090565,19.783163938592097 L -99.47815529216967,19.783695496218293 L -99.47780508128788,19.784448914991444 L -99.47768645392223,19.78458939132983 L -99.47720810282009,19.784887161218528 L -99.4768835352786,19.784988876071452 L -99.47664479260554,19.78499511497654 L -99.4762041918838,19.784922188281588 L -99.47590261744519,19.785276777267224 L -99.47566885207253,19.785833876479565 L -99.47548685807818,19.78604717459923 L -99.47527946395024,19.78670939038243 L -99.4758203629198,19.78686428536674 L -99.47588972565306,19.786946605684147 L -99.47606114010061,19.787285024393714 L -99.47580538288423,19.788120693133333 L -99.47586209612581,19.78844405444613 L -99.47585137886638,19.78891760358093 L -99.47556415451677,19.789188383259674 L -99.47535104424477,19.7892442546552 L -99.47465579549993,19.788906323630425 L -99.4746335826421,19.789045908025262 L -99.4746143621652,19.789421884662346 L -99.47444986811526,19.789969490600566 L -99.4742307946739,19.790269005183692 L -99.4739079913758,19.790455112400988 L -99.47386066433135,19.790622938872396 L -99.47400868409566,19.790752980852403 L -99.47428497381958,19.790974117495338 L -99.47450970451682,19.791271635914967 L -99.47454403699749,19.79166302999496 L -99.47461069602629,19.792003908208482 L -99.4745224853614,19.79211686140279 L -99.47435515406744,19.79217250213229 L -99.47400400379725,19.79214866930394 L -99.47376632888675,19.792179078090854 L -99.4735952695104,19.792233655960334 L -99.47348162634165,19.79244513420713 L -99.47346728185677,19.79270543712821 L -99.473532770348,19.792790279710946 L -99.47376472806663,19.792878219930238 L -99.4740338605657,19.792904280144793 L -99.47418456066758,19.792951205615513 L -99.47425866339317,19.79315977267052 L -99.4739042336104,19.793549879432355 L -99.47367142253458,19.793726619320168 L -99.47353643117991,19.793840991269352 L -99.47342381273143,19.793968785279976 L -99.47335052561772,19.79413818265955 L -99.473386964714,19.794312848296304 L -99.47375959568207,19.79448912873012 L -99.47352617695879,19.794577090331796 L -99.47322625911569,19.794702610227997 L -99.47354694584496,19.794883451234437 L -99.47335658314407,19.795357655396167 L -99.47318865227757,19.79550319186796 L -99.47284207686364,19.795482771349114 L -99.47284524584893,19.795711375823426 L -99.47281322631294,19.796033441124134 L -99.4728218164775,19.796139335986307 L -99.47260796690867,19.796336720291585 L -99.47205272803261,19.796185377341217 L -99.47178794976357,19.796919491987683 L -99.47158140277034,19.79713339281755 L -99.47110426027027,19.797047356829108 L -99.46946107021033,19.797373024494885 L -99.46900969202086,19.797901227447902 L -99.46892344797158,19.798118785339565 L -99.46819481703605,19.799009089018003 L -99.46856636428734,19.800496272509534 L -99.46853955939352,19.801287320884114 L -99.4680917989934,19.802110920446164 L -99.46799876456086,19.802652007740736 L -99.46827298472988,19.803308525585265 L -99.46847012877448,19.80359672992797 L -99.46848610262708,19.80383525551648 L -99.46842854383944,19.804068190444625 L -99.46790093603909,19.804917482666188 L -99.46778005214718,19.80524131123818 L -99.46763501725863,19.80537082445845 L -99.4675971197541,19.805765463349044 L -99.46735470035199,19.806354022400317 L -99.46711538521595,19.807319853085907 L -99.46640133314224,19.80818480934585 L -99.46571904544447,19.80907480204525 L -99.4656812699923,19.809414949858052 L -99.46566762763753,19.809910826433306 L -99.46540834863191,19.810386829327356 L -99.46517190555585,19.810573058276557 L -99.46470596155896,19.81080497723708 L -99.4643790203638,19.8109319783507 L -99.463781611012,19.811333944475006 L -99.4641042985583,19.81191235554429 L -99.4640869907913,19.81245234385912 L -99.46417741207301,19.812724288583098 L -99.46428106627344,19.812937227417343 L -99.46441102869633,19.813103011540075 L -99.46445716717894,19.813431702091027 L -99.46439909511626,19.81369039531174 L -99.4642908296824,19.813929294218816 L -99.46408874427432,19.814113903451677 L -99.46395074475362,19.814320534726846 L -99.46390441317023,19.814496419958424 L -99.46381191365118,19.81477570064597 L -99.4637082000784,19.8150031637197 L -99.46361622428515,19.815137470724125 L -99.463467103511,19.81524050797389 L -99.46329499210826,19.815384893681458 L -99.46324869389888,19.81555042157643 L -99.46311072621948,19.81574669596479 L -99.46300648738048,19.816119139887512 L -99.46283465207839,19.81618067744284 L -99.46263968191703,19.816314625598203 L -99.46241172662799,19.816343583531946 L -99.46196184293716,19.815974561661402 L -99.46177100247863,19.81570851020208 L -99.46142262058329,19.81533983279307 L -99.46136723054774,19.815043636622985 L -99.46132348631818,19.81463519634074 L -99.46124600393586,19.814206222129194 L -99.4612699126575,19.81379801729599 L -99.46123730553785,19.81344065423631 L -99.4611266244084,19.8128074241128 L -99.4609702523532,19.812357759083124 L -99.460745165169,19.812224281723182 L -99.46046089153059,19.812064453155937 L -99.4594927594314,19.812052337847803 L -99.45852462750499,19.812040216354703 L -99.45755649575162,19.812028088676733 L -99.4565883641713,19.81201595481379 L -99.4556202327641,19.81200381476591 L -99.45465210153007,19.81199166853308 L -99.45312807231105,19.812698455018353 L -99.45220870193437,19.813270064624692 L -99.45128932381431,19.813841668981574 L -99.45046193152807,19.814460929799058 L -99.44963453264971,19.815080186500207 L -99.45037291118747,19.815849278163324 L -99.45111129906756,19.816618365932307 L -99.45204914147372,19.81753718812563 L -99.45298699755185,19.818456004471837 L -99.45404096210724,19.819822338151216 L -99.45465072714609,19.82037804749513 L -99.45551824815833,19.821232730375975 L -99.45638578007926,19.822087409929082 L -99.45721848166566,19.82286084772792 L -99.45727701455836,19.82292702740064 L -99.4576137423076,19.823272539176397 L -99.4580290519237,19.82354889863014 L -99.45816284554961,19.823886796903686 L -99.45817821144095,19.823950375677306 L -99.45825342987175,19.82437409160436 L -99.45830489837317,19.824573759457202 L -99.45833712745205,19.824823991756453 L -99.45841215116134,19.82501284550243 L -99.4584179921993,19.82531817838684 L -99.45837520768816,19.825583152051166 L -99.45801540096225,19.82618347688486 L -99.45781756312023,19.8267233813677 L -99.45750106598643,19.827009931085914 L -99.45735779825723,19.82706605475802 L -99.45700347875686,19.826982740376682 L -99.45644972705556,19.826749294970767 L -99.45628697464917,19.82667018871853 L -99.45592968278781,19.82685011765135 L -99.45608367296647,19.828309502818374 L -99.45594594782196,19.82890320092647 L -99.45583512669204,19.828986078626276 L -99.45564032727128,19.829054892877142 L -99.45546071356908,19.829024265837052 L -99.45514288090753,19.829012243902987 L -99.45441122750108,19.82901582587803 L -99.45421687385056,19.829040358001553 L -99.4538419942754,19.829116134600138 L -99.45362741034873,19.82927988152989 L -99.45334003556884,19.829670723766725 L -99.45304139849848,19.830030417282902 L -99.45254343768012,19.83044781855596 L -99.45198585446134,19.830955373540498 L -99.45155667652254,19.831282772734024 L -99.45096199594583,19.83157317801408 L -99.45069439485265,19.83166548556687 L -99.45009186382018,19.831814213417353 L -99.44976061452778,19.831956833606004 L -99.44943496927343,19.832429095454643 L -99.44934369847248,19.832640511271055 L -99.44938466046229,19.832740534565616 L -99.44916094835833,19.833295676925076 L -99.44893407427908,19.833711480935825 L -99.44885460595073,19.833909763877557 L -99.4487273480639,19.834127144438362 L -99.44858363750612,19.83430073769435 L -99.4483774639372,19.83467426981183 L -99.44823275437288,19.83493644396653 L -99.4478534081762,19.835605023074542 L -99.44742840492664,19.836169162505648 L -99.4472468591338,19.836508040054987 L -99.4470614048647,19.83698618169255 L -99.44689273965686,19.837218936012427 L -99.44670414027028,19.837358572483915 L -99.44641812337163,19.837426430832036 L -99.44612827227607,19.8376258712126 L -99.4457738552722,19.83775381263579 L -99.44569669667352,19.837755270771563 L -99.44437817729553,19.83735010357095 L -99.44416691922441,19.837274768090758 L -99.44398232971254,19.8372089421004 L -99.4430340397613,19.83693369396146 L -99.4428060151061,19.83683847153754 L -99.44266098079068,19.836847957882373 L -99.44199202172881,19.83667520898811 L -99.44045923361246,19.836203762443777 L -99.43931291005966,19.835864460517914 L -99.4386920470411,19.835780682704605 L -99.43859747870336,19.835666872638253 L -99.43812933807732,19.835486747399194 L -99.43800147102033,19.835452812384343 L -99.43700101649645,19.835650456724064 L -99.43690966589509,19.835664958431177 L -99.4367100930932,19.835740270744527 L -99.43663707460645,19.835755290869088 L -99.43640522164392,19.836480705681563 L -99.43583758118947,19.836844730216566 L -99.43437947947284,19.837351954637363 L -99.43412733475859,19.83784954291971 L -99.43305340448346,19.83803864391176 L -99.43197947123281,19.838227736423683 L -99.43090553593011,19.838416822284167 L -99.42958376032578,19.838645465193217 L -99.42826198120845,19.838874097549787 L -99.42778727675362,19.838872357999577 L -99.4274562101553,19.83909527323089 L -99.4266920836522,19.83922320920042 L -99.42584567525049,19.839276130401025 L -99.42454433524343,19.839551503018583 L -99.42312014750742,19.83956493138126 L -99.42264878335102,19.839736636866917 L -99.42168987843795,19.840274337041677 L -99.42068574496601,19.841044249248345 L -99.42114330563126,19.842350868628444 L -99.42115651030464,19.84239665287725 L -99.42138077523622,19.842552367595957 L -99.42143069643191,19.8426873473646 L -99.42102700707883,19.84304732734149 L -99.42097657870272,19.84362570233821 L -99.42213803204473,19.844081568024464 L -99.42263978761963,19.844329971634384 L -99.42289646573707,19.845544251224293 L -99.42299481033697,19.846364636550117 L -99.422592864782,19.846555539715528 L -99.42252935289213,19.846951857226358 L -99.42263066606613,19.847234464961577 L -99.422795737278,19.847610269149683 L -99.42294855197352,19.847973993545793 L -99.42337633519226,19.848594157656507 L -99.42328607139532,19.848733626807753 L -99.4233350025038,19.84888993562323 L -99.42326000396972,19.84898798001176 L -99.42335397818978,19.84923915692841 L -99.42347065527098,19.849191618108165 L -99.42369113839545,19.84939333436744 L -99.42376550016952,19.8495956697366 L -99.42363589715542,19.84976496254467 L -99.42407360152646,19.850649091370844 L -99.4245113106432,19.85153321969331 L -99.42479875902649,19.85195435088905 L -99.42487073298362,19.852265852302207 L -99.42499915047203,19.852417010653383 L -99.42522159075939,19.85259459777145 L -99.42539521007839,19.852577684482757 L -99.42555322165506,19.85267912812621 L -99.42556218026444,19.85292429040941 L -99.4256148620222,19.85315719446536 L -99.42558211343695,19.8534628946519 L -99.42561122740068,19.85366589453893 L -99.42568900857393,19.853994967712417 L -99.42586156019904,19.85432194362761 L -99.42580557861635,19.854504733477583 L -99.42553529263708,19.85463422194893 L -99.42520163160053,19.854782498801978 L -99.42496237468984,19.854937343215237 L -99.42503951958737,19.85502307459458 L -99.42522879657646,19.855011392645878 L -99.42589685011902,19.85495321687274 L -99.42610665469296,19.85496671224347 L -99.4262075101214,19.8551869268721 L -99.4260958961082,19.85554380284529 L -99.42585173751876,19.855956796762307 L -99.42578242983454,19.856288337646046 L -99.42594712896326,19.85646494355736 L -99.42616416440319,19.856374276220244 L -99.42641524545924,19.856150105345165 L -99.42647183128216,19.856470618214804 L -99.42635209584938,19.85669205257253 L -99.42592148444795,19.856967799481758 L -99.4255806861605,19.857215275735573 L -99.42527232389287,19.857413639906074 L -99.42513438638821,19.857775634251283 L -99.4252250713237,19.858218775322403 L -99.42561916509042,19.858463259328527 L -99.42601644947487,19.858539632602973 L -99.42628139791721,19.858474505953307 L -99.42668220208976,19.858365314762192 L -99.42696844328376,19.858304326998077 L -99.42730218288642,19.85842917540695 L -99.42747785129414,19.85863567785458 L -99.42744425031208,19.858872733275053 L -99.42719450245092,19.8591225821863 L -99.42720029675209,19.859370978464025 L -99.42746494400015,19.859539347390967 L -99.42775171969096,19.859648500217 L -99.42790283592616,19.85978889876679 L -99.42776933966286,19.86087777488497 L -99.4283972366405,19.861666673465365 L -99.42908896248116,19.862424373385227 L -99.4290063157923,19.862924340209172 L -99.42896594689579,19.86335303113604 L -99.42928564750324,19.863954729622535 L -99.42952554311252,19.864355960217416 L -99.42944322917089,19.864883400187 L -99.42931875893873,19.86514876515534 L -99.42923008370705,19.865577305047868 L -99.42916431006452,19.865852230869272 L -99.42943300521763,19.866205718527155 L -99.42977293176362,19.86657603298091 L -99.42991138980227,19.866748767000978 L -99.42984608312746,19.867267782847243 L -99.42964395649646,19.867710623224642 L -99.42908228328258,19.868090077559444 L -99.42890392643424,19.86849071798748 L -99.42878996390881,19.86887226678745 L -99.42883636379744,19.86919971918477 L -99.42897408478683,19.869547499416626 L -99.42933582663964,19.870071640756823 L -99.42957100210991,19.870547436230424 L -99.42967023970196,19.870733979446772 L -99.42978835784584,19.870780574897285 L -99.43000042493107,19.870799572393473 L -99.43009399644977,19.870857151590073 L -99.42994859445426,19.870880224539736 L -99.4298665167373,19.870940481736138 L -99.42993582547604,19.871203018655628 L -99.42989421071954,19.871374069049867 L -99.4297366966306,19.871488848620835 L -99.4296929492333,19.871588640516965 L -99.42965050630063,19.87172437665698 L -99.4297358309123,19.87182993818454 L -99.42964070125888,19.872002770092987 L -99.42928831148632,19.872340478733175 L -99.42913566474965,19.872615409003807 L -99.42899025279391,19.872872111004202 L -99.42883270266282,19.87310020220028 L -99.42862274431693,19.873366501287222 L -99.4283534427011,19.873387527183038 L -99.42822241694802,19.873373930310365 L -99.42812016005063,19.87343577720275 L -99.42806459158415,19.87355032317418 L -99.4280462807009,19.873664772421158 L -99.4279814259534,19.873788135938536 L -99.42784433551702,19.874036072177958 L -99.4276421406282,19.87422964394112 L -99.42678139580542,19.874997023325562 L -99.42639543966672,19.872886537136793 L -99.42613686638376,19.870713244831727 L -99.42539252096209,19.869731086239877 L -99.42507650155822,19.869220570036916 L -99.42462312268695,19.868730139190095 L -99.42423580173916,19.868212176586663 L -99.42390248637298,19.867837517273756 L -99.42369765651591,19.86732569933658 L -99.42354228369975,19.866846406693796 L -99.42344206199841,19.866428855310957 L -99.42346646170587,19.866246024905564 L -99.42346587500498,19.865909385321928 L -99.42329162819401,19.865567304345205 L -99.42328618340962,19.86533361043776 L -99.42330336887922,19.865079277939277 L -99.4232912392948,19.864734297891086 L -99.42303578184608,19.86404141388852 L -99.42295838463318,19.863752996754744 L -99.4228982032639,19.86349543097693 L -99.42278559084964,19.863208625362507 L -99.42265966681705,19.86289613514744 L -99.42249447771053,19.86258145780015 L -99.42215819256887,19.862187269228237 L -99.42202142483568,19.861969753049344 L -99.42190960623208,19.861782026668706 L -99.42184190755252,19.861490287855975 L -99.42173096026242,19.86123385125008 L -99.42172388134261,19.86106744480203 L -99.42187868202423,19.860451450001328 L -99.42193021349887,19.860079981909713 L -99.4220000472766,19.859854381526905 L -99.42206358410327,19.859555332961094 L -99.42203957303919,19.859243735330956 L -99.42200398633724,19.859060986721783 L -99.42171617589426,19.858458233763766 L -99.42143826288586,19.857555551115052 L -99.42130462206262,19.856898650195067 L -99.42118411401012,19.855870966193624 L -99.42098756523069,19.855122368570473 L -99.41499177490017,19.850526628903207 L -99.40262091996088,19.855246576553146 L -99.39175175594778,19.859917535164165 L -99.39066361001484,19.85904895248669 L -99.38977384063625,19.858553203466737 L -99.38918048463509,19.85815012813329 L -99.3887186932002,19.857715647414587 L -99.38832303079633,19.85740544933639 L -99.3864370440562,19.856812829979013 L -99.38475764630651,19.856380979647863 L -99.383605234286,19.8561346102313 L -99.38245328258878,19.856074876595535 L -99.38153168428512,19.856014637392242 L -99.38087351076248,19.856016044130893 L -99.38024794964628,19.855892958121107 L -99.37962157588152,19.85542770469196 L -99.37889639911324,19.854931550565727 L -99.37817153114372,19.854559815499613 L -99.37744659191694,19.854156971550893 L -99.37701746058694,19.853597975046338 L -99.37612747121665,19.852977733683513 L -99.37540224169089,19.852450460292207 L -99.37375066970891,19.851563826383824 L -99.37324990890576,19.851541849026795 L -99.3751337825466,19.84763595353794 L -99.37444627763328,19.84668855544971 L -99.37531095507889,19.846536707796634 L -99.3768915309273,19.845249380622125 L -99.37697085688528,19.8449531617185 L -99.37694993414475,19.844509295719302 L -99.3757284289136,19.844133908659558 L -99.37524631483969,19.843582838941476 L -99.37485425732446,19.84319339839996 L -99.37429330018303,19.84198468349654 L -99.37415017306752,19.839807720627586 L -99.3741802838882,19.839511777929467 L -99.37426530849213,19.838676112003863 L -99.37439155285429,19.837914386637866 L -99.37451157627237,19.83757909138247 L -99.3745963760621,19.8374567347526 L -99.37474502416889,19.83730853423178 L -99.37486334814177,19.83722800264007 L -99.3749891000901,19.837185625781068 L -99.37629317367362,19.836623583855534 L -99.37724286789647,19.83618050402251 L -99.37871270363831,19.835249316122432 L -99.3793697175882,19.834306438248177 L -99.38029880451673,19.83315238269576 L -99.3810387466843,19.832035118174737 L -99.38137393928537,19.831386432700505 L -99.38154113151786,19.830850863625848 L -99.38172935867922,19.82981197198675 L -99.38198121873923,19.8286314546784 L -99.38227059673665,19.82795584074363 L -99.38185057172709,19.825609123973052 L -99.38154392336588,19.821133650507807 L -99.38159496250088,19.820840934875402 L -99.38155073682093,19.82063425135279 L -99.38154066350039,19.820462171183124 L -99.38152775692039,19.820287697785574 L -99.38163820539035,19.82017687156447 L -99.38181266383928,19.82011325396718 L -99.3819872605417,19.82032639430945 L -99.38222685400903,19.820535542692554 L -99.3825135140775,19.820832598136775 L -99.38270176610304,19.82089736362708 L -99.38298858145757,19.82090231735242 L -99.38317615369411,19.820721073339065 L -99.38334204298965,19.82037385451451 L -99.3834782722529,19.82004823022426 L -99.38361325904918,19.819784038371942 L -99.38367600649494,19.819621102719935 L -99.38356990552842,19.8195065360755 L -99.38342428262325,19.819478379360646 L -99.38325766278363,19.819414048229167 L -99.38311661532566,19.81932745171002 L -99.38309011444458,19.819131112217576 L -99.38309379028591,19.818940481094412 L -99.38312125518662,19.818696358423345 L -99.38318283380231,19.818657833596355 L -99.3833151894624,19.818692522348506 L -99.38341208709029,19.81879133962369 L -99.38354203159783,19.818948221582378 L -99.38374728797695,19.81914605371178 L -99.38386769926635,19.819205688418503 L -99.38395920086425,19.819192894173995 L -99.38401754860921,19.819121911916664 L -99.38406597115716,19.81902615137618 L -99.3841349321126,19.818865821344627 L -99.38417558386722,19.81877583542591 L -99.38431123045791,19.81871513857586 L -99.38463754217575,19.818617232356633 L -99.38473675601047,19.818558221594472 L -99.38473093033505,19.818468834888403 L -99.3847365129898,19.818371602338253 L -99.38475242292,19.818233346165236 L -99.38478324280192,19.817927497570743 L -99.38485950057905,19.81743474867445 L -99.38473295035537,19.817342607655252 L -99.3845204453499,19.817271457626184 L -99.38443691698164,19.81716653714003 L -99.38447381490779,19.816978245770695 L -99.38454820353277,19.816817521881198 L -99.38468236386034,19.81676136811463 L -99.3849247614324,19.816761044386286 L -99.38496951543274,19.81665833993125 L -99.38496711533121,19.816414432802485 L -99.38498373099512,19.816141194060293 L -99.38499515459604,19.816001004182393 L -99.38502158935562,19.81583628704875 L -99.38506799637982,19.81569122006091 L -99.38516027582315,19.815579955059402 L -99.38544954555611,19.81536105930656 L -99.38560466177965,19.815166097906335 L -99.38570218135834,19.81498007097666 L -99.38570922172853,19.81461457858235 L -99.3857232947562,19.814171309701976 L -99.38579629049615,19.813830222472923 L -99.38592643018448,19.81358787204036 L -99.38661464427483,19.81324673817088 L -99.38671257710014,19.813143670779173 L -99.3867221063702,19.81303201321858 L -99.38642931935418,19.812864896256446 L -99.38648905628644,19.812480518667694 L -99.38656790967445,19.81231122334582 L -99.38676456448925,19.81206691408419 L -99.38674761381318,19.811736334489595 L -99.38668824265467,19.811195815465133 L -99.38680255003757,19.811023355151438 L -99.38686988342955,19.810848378599726 L -99.38682191093974,19.810621837467544 L -99.38665534711538,19.810514391700472 L -99.386332202182,19.81038219638527 L -99.38625949522309,19.81023227400433 L -99.38618933363028,19.80995029137304 L -99.38612054699855,19.80959683134172 L -99.38609983930233,19.80946431201101 L -99.38610187143773,19.809347855153348 L -99.38633266857698,19.8089165675072 L -99.38643716672085,19.808431026934294 L -99.38649652422718,19.80800268365112 L -99.38649500734344,19.8073746371523 L -99.38643299564018,19.806703896544683 L -99.38646164064355,19.80606150782228 L -99.38652022996706,19.805319141040087 L -99.38644335496484,19.804828018814746 L -99.38644242405093,19.804442630544262 L -99.38603455638487,19.804329317795727 L -99.38577767309555,19.80422995328138 L -99.3855659204361,19.804059128412003 L -99.38539962176964,19.803959567667647 L -99.38509776569002,19.803988766221888 L -99.38493167548435,19.80397484739094 L -99.38481076547323,19.80391801400449 L -99.38482996268137,19.803743869512143 L -99.38449104875755,19.80351617616862 L -99.38430948561273,19.803345285153124 L -99.38421863377654,19.80323129028638 L -99.38427781616627,19.80273157142493 L -99.38415606127961,19.80231789590829 L -99.38409481342507,19.80196117911063 L -99.38336265896025,19.8013753730314 L -99.38330853878632,19.801332071394512 L -99.38255361955204,19.800331139258844 L -99.38234822842053,19.800061111505833 L -99.38235250714449,19.799839250505503 L -99.3824911698936,19.799487914841464 L -99.38274516034689,19.79923565193556 L -99.38073396245632,19.79830836727177 L -99.37754043109061,19.79645339364416 L -99.37779878006576,19.796447868211327 L -99.37799020440623,19.796369752752863 L -99.37818523187326,19.796105088378805 L -99.37908922871424,19.795683134161198 L -99.37950822120884,19.795441223368375 L -99.37972770383395,19.795299642189423 L -99.37971824624341,19.795085766746972 L -99.37979317585861,19.794946009486466 L -99.38002033420736,19.794873014995307 L -99.38027697969652,19.794911621159905 L -99.38063311473674,19.794441285867077 L -99.38096910207835,19.794184213598413 L -99.3812321645358,19.79411622373937 L -99.38148856169641,19.794066268380266 L -99.38178289246866,19.79403505664782 L -99.38211527202128,19.794016621845405 L -99.38239540640333,19.794057760573256 L -99.38273116577187,19.793864040228257 L -99.38294505450534,19.79368751910164 L -99.38313224136208,19.79364324768673 L -99.38327446243348,19.793654961420255 L -99.38349553882279,19.793758053289533 L -99.38371971895428,19.793801896388036 L -99.38386696024789,19.793825553402446 L -99.38398316013932,19.793798022153553 L -99.38409434338767,19.793729049232265 L -99.38416619992108,19.79360336769983 L -99.38426661014172,19.793539384833494 L -99.38441089498004,19.79351367797785 L -99.38455047497898,19.793473880571508 L -99.38477888959474,19.793454315976756 L -99.38499705184073,19.793453391398366 L -99.38527150873786,19.793359585374198 L -99.38540173949163,19.793291427973532 L -99.38555338212795,19.79313916784311 L -99.38568578188723,19.792958375868572 L -99.38593511559846,19.792624722688178 L -99.38616766764508,19.792564481699372 L -99.38631121315397,19.792521888397605 L -99.38647807645793,19.79250229464633 L -99.38668292847208,19.79243463118484 L -99.38710679658914,19.792269341081393 L -99.38740485367806,19.792081964363124 L -99.38770398913321,19.791841497057828 L -99.38811991658035,19.791722598370544 L -99.3884423608443,19.79136303945165 L -99.38851614459813,19.791171854471678 L -99.38869249618699,19.791115148154674 L -99.3888970303628,19.791052288108194 L -99.38894877874722,19.790913771967936 L -99.38907264949803,19.790670281634778 L -99.38911688078642,19.790193133959967 L -99.38913024690267,19.789861499864042 L -99.3890024573942,19.789674859984125 L -99.38895424240607,19.789434747924027 L -99.38897080979073,19.789165926589362 L -99.38909266451316,19.788785684756842 L -99.38929258007377,19.78837361557694 L -99.3895707727826,19.788024696909417 L -99.38980912718655,19.787754444996636 L -99.38993460592603,19.787215125307643 L -99.39016404122378,19.78665782408326 L -99.38997500308649,19.786437710317767 L -99.3903310207555,19.785733546683204 L -99.38999729416062,19.78523684552603 L -99.38979047906538,19.785340418082946 L -99.38933548389925,19.78591080453884 L -99.3887795273368,19.785366265606022 L -99.38919152839864,19.78490969469949 L -99.3893544349998,19.784778033552985 L -99.38901850123074,19.784545653492998 L -99.38953844692261,19.783885413512078 L -99.38957465268767,19.783857674813973 L -99.38961793704189,19.783795491427437 L -99.38944963131739,19.783620776950787 L -99.38936074017644,19.78347760096634 L -99.38868279257942,19.783414025006415 L -99.38716816725568,19.782958937866745 L -99.38587522924419,19.783006516767575 L -99.38551723373543,19.78323059162794 L -99.38538613801957,19.78329463958484 L -99.385128848841,19.783493057226256 L -99.3849166209992,19.78372423003743 L -99.38457202341662,19.783865393561538 L -99.38411779513726,19.783951014848206 L -99.38382599201978,19.784176314168043 L -99.38361313061105,19.78429003722447 L -99.38321096287325,19.784409194441004 L -99.38294654391056,19.784541521253264 L -99.38257035496075,19.784542326783303 L -99.38228251404534,19.784567820909707 L -99.38190274851333,19.784409669617503 L -99.3815844839271,19.784311899991447 L -99.38126698277888,19.784174679275242 L -99.38117186630078,19.784054395834765 L -99.3811754454985,19.783873338821387 L -99.38125948678457,19.783120191567836 L -99.38147068148977,19.782636252174637 L -99.38164738431726,19.782494295410523 L -99.38206018209883,19.782382850291697 L -99.38242336110928,19.782316651294128 L -99.3827601085863,19.782177460365276 L -99.38291634518282,19.78201541596946 L -99.38297352743832,19.781574917161574 L -99.38292285549623,19.78117902426442 L -99.38296810165801,19.780777661641118 L -99.38327075946624,19.780629109693194 L -99.38377165243031,19.78056680927255 L -99.38449730100048,19.78050838778169 L -99.38494891884804,19.780409725253506 L -99.38533879966091,19.780274490186876 L -99.38572112912222,19.77994496491234 L -99.38591656984107,19.77968726105326 L -99.38579083586552,19.77956765657326 L -99.38554224016872,19.77950422845123 L -99.38517916394156,19.779545284704476 L -99.38481654185716,19.77956265574118 L -99.38449346640532,19.779474309578614 L -99.38434746738882,19.779270688039844 L -99.38442536540063,19.779118313022725 L -99.38462460691787,19.778975143509932 L -99.3848683894298,19.77881840190617 L -99.38490001912898,19.778737287156783 L -99.3852272177655,19.778546666101576 L -99.38618052285298,19.778194797646094 L -99.38650600511046,19.77803118874025 L -99.38725438151495,19.777900839093142 L -99.3877989588474,19.77793184313196 L -99.38788359102469,19.77791318009528 L -99.38782566875226,19.77733862514642 L -99.38676940446138,19.775894833528717 L -99.38663938678461,19.77612781827864 L -99.38577038277548,19.777070242914466 L -99.38429889168553,19.775902156228433 L -99.38422332534881,19.775637720058615 L -99.38464592368345,19.775079794907406 L -99.38360459402894,19.772905790293656 L -99.3837117244841,19.772799291411623 L -99.38303190938237,19.771415503944947 L -99.38265725470299,19.771732769235133 L -99.38244518915693,19.771204068215283 L -99.38234251534367,19.77125534901283 L -99.38033607361622,19.772292867281088 L -99.37979885327083,19.77271818923322 L -99.37946336113416,19.77310065772311 L -99.37919495390672,19.773398155094053 L -99.37899381238442,19.773695501539198 L -99.37859063816225,19.773908449238363 L -99.37816529316032,19.774227481543065 L -99.37759956047566,19.774488431180053 L -99.37739876686922,19.77493424555715 L -99.3771976804234,19.775252803087586 L -99.37688430719606,19.775507968594912 L -99.37648082581025,19.775593652299495 L -99.37621136289202,19.775445762988817 L -99.37574005600018,19.775298289147827 L -99.37533627697616,19.775256718304725 L -99.37482288684036,19.775411643945777 L -99.37444491376999,19.775558958060508 L -99.37421848332487,19.77577632856877 L -99.37391814525745,19.77592488558243 L -99.3739395834486,19.776158454737175 L -99.37386756805687,19.77637865753428 L -99.37366135665171,19.776528180507853 L -99.37333297864474,19.776677289227486 L -99.3729839648155,19.776907391935747 L -99.3728242955262,19.777184242383612 L -99.3727789580698,19.777487792137666 L -99.37301109952847,19.777728921023222 L -99.37324008816066,19.777671893654702 L -99.37353586958614,19.777687519334815 L -99.3737749932121,19.777761662809244 L -99.37386237028531,19.777801491525704 L -99.37389846881628,19.777952338228033 L -99.37380563826638,19.77815588721008 L -99.37367533494812,19.778323465798252 L -99.37331001665784,19.778508156187748 L -99.37296006723615,19.77865651516894 L -99.37269760119132,19.77879089678631 L -99.37256390375433,19.77895383788494 L -99.37247388082578,19.77972610825013 L -99.37207920690877,19.78006538510565 L -99.37159932027309,19.780910881919038 L -99.37116761796158,19.781455908116495 L -99.37061021020648,19.781844548738434 L -99.36962425092443,19.781515984605257 L -99.36885663492671,19.781016034462798 L -99.36816259156284,19.780657924183437 L -99.3674416518075,19.780092929937116 L -99.36609067120794,19.78043342642138 L -99.36513888284429,19.780535298410513 L -99.36289727722337,19.780476245828012 L -99.36163803274594,19.781248958326497 L -99.36109130701834,19.781150953922847 L -99.36061226266813,19.78126339787944 L -99.3600037678149,19.781126524952384 L -99.35973652643513,19.781288172430497 L -99.35944454407216,19.781265741998745 L -99.35914997243745,19.781184631571563 L -99.35871441881474,19.781129109730703 L -99.35825265655947,19.781337173417757 L -99.35779094657292,19.78156825818796 L -99.35705932964257,19.78121725146565 L -99.35580978171738,19.78010121850844 L -99.35510624024187,19.779321900116276 L -99.35497761878293,19.778018612480615 L -99.35277420395998,19.77758407338736 L -99.35244078737603,19.776232793636535 L -99.35242498629933,19.775867726773942 L -99.3515305658175,19.77580147512177 L -99.35135994447757,19.776424741961765 L -99.35082503075915,19.77673167454821 L -99.35076308899964,19.77676721563869 L -99.35027705566151,19.77736500639011 L -99.34928030051408,19.77766615934903 L -99.34854921452701,19.777930828195498 L -99.3476493529637,19.77844277431016 L -99.34699813925359,19.77898001033855 L -99.34604960285252,19.779350270380306 L -99.34537810441086,19.77929845752526 L -99.34456044263527,19.77945452569243 L -99.34451727293222,19.77990784270186 L -99.34395215391066,19.780254266958625 L -99.34348031066472,19.780502143793683 L -99.34363992256105,19.780698963114833 L -99.34378054636801,19.78104449469884 L -99.34385730988996,19.781440249109476 L -99.34403268257435,19.781989553665902 L -99.34373260318152,19.782235687571507 L -99.34347059657496,19.78235988032206 L -99.34296885069735,19.7822654109825 L -99.34266984521568,19.782373880090176 L -99.34304211843087,19.78278478663596 L -99.34326485107549,19.782940002936236 L -99.34400098821543,19.78341629231338 L -99.34487515483147,19.783892979573068 L -99.34555133491729,19.784249349871942 L -99.34577950162361,19.784449286904593 L -99.34599881265254,19.784682919216756 L -99.34594420467666,19.784894338718495 L -99.34556109534094,19.78532489424511 L -99.3449881901603,19.786053995168075 L -99.34443833584407,19.786460689443366 L -99.34394997267142,19.786837803740013 L -99.34380929031855,19.787166303322227 L -99.34416024489279,19.787308785944305 L -99.34443620190211,19.7871574900314 L -99.34581470666731,19.787436453989073 L -99.34610055563311,19.78762398169313 L -99.34612355922503,19.7878641887873 L -99.34596998156118,19.78813114667594 L -99.34544325459696,19.788292062757183 L -99.34511036532332,19.788585192623177 L -99.34461878308788,19.78890156818865 L -99.34444314402548,19.789291481584055 L -99.34457568530289,19.789849921666203 L -99.3444371120117,19.790343495590147 L -99.34434022620623,19.790918144516027 L -99.34431888709332,19.79120888945071 L -99.34428525640728,19.791444237802605 L -99.34448148817303,19.79174942275561 L -99.34457444921397,19.79223553777691 L -99.34463442277634,19.79267243493403 L -99.34496811889225,19.792733355694747 L -99.3456487988542,19.792786558190883 L -99.34573515533735,19.79312825295018 L -99.34555885435257,19.793483338552893 L -99.34537355541285,19.793954002914546 L -99.34506085840003,19.794341232887266 L -99.34495540743244,19.79514458603547 L -99.34501102521092,19.795511301648805 L -99.34285785129009,19.79611636649677 L -99.34274785598765,19.79613177537348 L -99.34276933281447,19.796052496445963 L -99.34268245059025,19.7956983141919 L -99.34290152454483,19.79500771819766 L -99.3426080153584,19.79410198745107 L -99.3417619945863,19.79429258567046 L -99.34244899519248,19.795992673527753 L -99.34175801813572,19.795830597447214 L -99.3415709099702,19.79548061547316 L -99.3414441975716,19.795140499084255 L -99.34129978412837,19.79493655342489 L -99.34117315331311,19.794630468993272 L -99.34099439070121,19.79450241388486 L -99.34030937693038,19.79431624648694 L -99.3401421054858,19.795038538646516 L -99.34005269800245,19.79542459884776 L -99.34002327693287,19.795551638211712 L -99.3398080570127,19.79590942719317 L -99.3398810577659,19.796385798141262 L -99.3399356341313,19.796657980892746 L -99.33986436689881,19.796998481276308 L -99.33980900300212,19.797394431671464 L -99.33973784363364,19.797785980205894 L -99.3397385285738,19.79810932202351 L -99.33970321977468,19.798432729964983 L -99.33943400742774,19.79879062306559 L -99.33943512493836,19.799318184528484 L -99.33938174969838,19.79960758926423 L -99.33934669236221,19.80005012427975 L -99.33932944566226,19.80040753810612 L -99.33922207231396,19.800697051849603 L -99.33902223810678,19.800974489558264 L -99.33884498281597,19.80110619782826 L -99.33881262527363,19.80134722658457 L -99.33881327564796,19.801589469723986 L -99.33884425491259,19.801884381531384 L -99.33876040270353,19.801960806186788 L -99.33865391416909,19.802028244798 L -99.33851169638231,19.802047428839014 L -99.3383386984156,19.802005411166427 L -99.338222027104,19.801890747861222 L -99.33805217102686,19.801688544559404 L -99.33791682860173,19.80159091109236 L -99.33781254986359,19.80154577611009 L -99.33749933618665,19.801574743752056 L -99.33714092076158,19.8016593763395 L -99.33675687348476,19.8016483019887 L -99.33626608824426,19.80148375784939 L -99.33589361475913,19.80126493585365 L -99.33572869982787,19.801018984737954 L -99.33560464727984,19.80078897077198 L -99.33556808084867,19.80051675200602 L -99.33562599164709,19.800423845726254 L -99.33575938171616,19.8003872744339 L -99.33609753793975,19.80040619271013 L -99.33617961879726,19.80032840409591 L -99.3362346103818,19.80017905342352 L -99.3362244001593,19.800001337225414 L -99.33621438896917,19.79981065043319 L -99.33617268482479,19.79972794053753 L -99.3360955034242,19.799680844116804 L -99.33599872528058,19.799655266551003 L -99.33574589651694,19.79968151743219 L -99.3354499282229,19.799703658717757 L -99.33530485483558,19.799640568023293 L -99.335212222173,19.799352626989165 L -99.33519071340245,19.799149557999066 L -99.3351090119152,19.798897194397213 L -99.33521426778334,19.7987301574281 L -99.3353952588229,19.798598254711166 L -99.33552790502031,19.798590902270032 L -99.33570662559254,19.798574739957715 L -99.33589684119984,19.798491234791793 L -99.33585009309142,19.79827809866985 L -99.33579820181872,19.79806487394954 L -99.33566448773965,19.79786464397742 L -99.33551024077022,19.797673736253905 L -99.3352410483674,19.797565403074245 L -99.33492214932116,19.79750857371827 L -99.33455865066927,19.797425377104844 L -99.33446699197971,19.797270104192425 L -99.33368219849586,19.797182904992233 L -99.3332638992286,19.797063923280056 L -99.3329396932884,19.796918239113342 L -99.33217276111776,19.796887936816884 L -99.33134558939867,19.796701730782868 L -99.33079380885935,19.796681038143586 L -99.32971281066135,19.796181061573126 L -99.3289902074616,19.795828167597353 L -99.32837346901194,19.795538597164388 L -99.32840101398483,19.794984736592117 L -99.32835211616894,19.794956116775612 L -99.32726492748178,19.79386475312039 L -99.32691299598027,19.793656133578722 L -99.32636404725176,19.79321410783802 L -99.32558173357032,19.79309549771106 L -99.32447980951791,19.793183473096207 L -99.32418090881762,19.793534723452346 L -99.32388130086694,19.79288824908398 L -99.32358671268734,19.793173157543805 L -99.32296655084266,19.793613480814464 L -99.32314287165475,19.793905147778418 L -99.32260058889582,19.79423304721715 L -99.32258290843394,19.794236583836508 L -99.32314891285195,19.79528027831523 L -99.32230114467555,19.795005984118195 L -99.3216483819923,19.795749381545026 L -99.32158351038052,19.79575094157884 L -99.32051498010891,19.795833138953892 L -99.31988169575635,19.79605830512795 L -99.31935491737272,19.79628505044976 L -99.31915657101459,19.796348075815544 L -99.31903886807751,19.79636728357673 L -99.31879302035522,19.796392144686916 L -99.31840701602215,19.796345175998923 L -99.31785221496219,19.7961113415548 L -99.31720289551632,19.795826866703326 L -99.31686984801438,19.795670624461817 L -99.3166537114029,19.795989586351574 L -99.31638046963283,19.79638196728144 L -99.31636022780411,19.796364669506787 L -99.31559406193902,19.795558727565975 L -99.3149658089812,19.79618879233915 L -99.31410135147264,19.79669490553432 L -99.31386132895919,19.796345284123035 L -99.30660052756298,19.797693700880313 L -99.30705649263375,19.798714429948113 L -99.30782491033038,19.799302957809964 L -99.30797108395986,19.799945628037353 L -99.30843547638828,19.800384156816822 L -99.30866317221275,19.80044237918379 L -99.3089527797959,19.800440356355747 L -99.3089917871095,19.800433927524548 L -99.30915682120954,19.800678567109806 L -99.30917685424262,19.800873638977805 L -99.30902016557675,19.801148240059643 L -99.3089347131931,19.801173909003058 L -99.30884965002916,19.801296169636945 L -99.30886063934867,19.80142071472274 L -99.30925227346982,19.801694183486283 L -99.309693073546,19.80211795965579 L -99.31012439229025,19.80235596236562 L -99.31045581163451,19.802553253443385 L -99.31075076221705,19.802761322382196 L -99.31104025927134,19.803118526398926 L -99.31139086051478,19.80362604675688 L -99.3119853895476,19.80410897059599 L -99.31218336810272,19.804436620834274 L -99.31216440835375,19.804543077092333 L -99.31219806270342,19.804590327662698 L -99.31255366378332,19.80484120041083 L -99.31267424985266,19.80522817497196 L -99.31245940344104,19.805454009645583 L -99.31239825511042,19.805586926255668 L -99.31221683377392,19.805729742602594 L -99.31206738498823,19.806154750142625 L -99.31196761052512,19.80636981647974 L -99.31191010032126,19.806379640088355 L -99.31171948719295,19.806358183847653 L -99.31152348125964,19.806416143388123 L -99.31138750985717,19.806529380284196 L -99.31129557990843,19.80673374157142 L -99.31123378121586,19.80696031994284 L -99.31112496807528,19.80712078838792 L -99.31116576263096,19.80723986713336 L -99.3111071846982,19.807365350235788 L -99.31113535172793,19.807467876492424 L -99.31109930818442,19.807544781481226 L -99.31108817941785,19.807671101230966 L -99.31105652911225,19.807744004802764 L -99.31099053836287,19.80780813289809 L -99.31098061430883,19.807873254200707 L -99.31096952853775,19.80791569523886 L -99.3110907425695,19.808296606047577 L -99.31111351734114,19.80823967754925 L -99.3111857123407,19.808310573090253 L -99.31120172821595,19.80837637414519 L -99.31123539293544,19.808468194000387 L -99.31130821611276,19.80844559735295 L -99.31135194639907,19.80845722090057 L -99.31136039242875,19.808513410740215 L -99.31135524178927,19.808580203244514 L -99.31135441851185,19.808621762176937 L -99.31146211691156,19.808780945597544 L -99.31146616054504,19.808810747965133 L -99.31136559092305,19.80905749097022 L -99.31125044767634,19.809200320651787 L -99.31118882563337,19.809202869578662 L -99.31113116088356,19.809200027757342 L -99.31098259567361,19.809288847635543 L -99.31075397210022,19.809451256594958 L -99.31051560020062,19.809677413644913 L -99.31034000888168,19.80984253837823 L -99.31018120109316,19.81000269937327 L -99.31002794259267,19.810162960565954 L -99.30986429819126,19.810286235611713 L -99.30971795068,19.81037827206318 L -99.30962651092786,19.81041229882478 L -99.30964434921374,19.81056763098741 L -99.30955459025165,19.810697961440344 L -99.30945838709273,19.810801795481318 L -99.30941305822193,19.81095330277652 L -99.30939864899636,19.8110115401096 L -99.30941040863291,19.8110869549994 L -99.30939034136185,19.81120776239218 L -99.30930028728085,19.81129390487777 L -99.30919190456315,19.811413143939312 L -99.30913568048628,19.811575091419442 L -99.30892895762548,19.811800553980003 L -99.30878758019223,19.811929343697084 L -99.30871896800598,19.812073246795542 L -99.30861425074579,19.812195774301717 L -99.30847397628447,19.812269297416204 L -99.30829097203556,19.81228677718432 L -99.30817977233721,19.812367726148977 L -99.3080547809054,19.81240696870734 L -99.30793723803792,19.812439433889427 L -99.30776057635575,19.81250539663987 L -99.30759853000451,19.812571624333216 L -99.30747919767589,19.8126938896308 L -99.30733823674854,19.81280195488924 L -99.30717631741675,19.812861269361154 L -99.3069926268136,19.81291328892027 L -99.30693406355607,19.81291915767799 L -99.30690518766083,19.81297612790695 L -99.30694548140487,19.81302563928469 L -99.30702799323076,19.813027105775642 L -99.3071619728779,19.813034367704436 L -99.30721363586127,19.813070203808305 L -99.30732910208259,19.813036133942823 L -99.30779843774587,19.812789563032972 L -99.30771451208658,19.81452060848465 L -99.30771874049245,19.81454444396282 L -99.30796868851102,19.81447970335929 L -99.30804911694507,19.813651509474578 L -99.30815033441588,19.81273500462 L -99.30843523251443,19.812808911650095 L -99.30838872939759,19.81368450486642 L -99.30864702937473,19.813939850149435 L -99.30860933983382,19.81446070604079 L -99.30893796402506,19.81447832776649 L -99.30895179694602,19.814193246308495 L -99.3101107626723,19.813982433395594 L -99.31012349280248,19.81432634201041 L -99.31022120289796,19.81436164561831 L -99.31060199425482,19.8141662108049 L -99.31068000593808,19.814108645149297 L -99.31093594155142,19.81396291085087 L -99.31107300466574,19.813876285089258 L -99.31120606410428,19.813694972969746 L -99.31141537484841,19.813526144231197 L -99.3116588536838,19.813404334291477 L -99.3116753894997,19.813445766276494 L -99.31192295711243,19.814162496555255 L -99.31165046113843,19.81419775824395 L -99.3114014643959,19.814222916961793 L -99.31044243710274,19.81470219534796 L -99.31020801645066,19.815173043537072 L -99.3098881816482,19.81605814638256 L -99.30856355061732,19.81742394960707 L -99.30878840786387,19.818211839714248 L -99.3079775913069,19.818454123994517 L -99.30800677501884,19.818753998674215 L -99.30833539896143,19.81873795990511 L -99.30855728462492,19.81929965810922 L -99.30774400359037,19.819997941080587 L -99.3069738245489,19.82051189926325 L -99.3059026814465,19.820594328133243 L -99.30600401981512,19.82113901700439 L -99.306180537239,19.82143080957318 L -99.3060881218422,19.821956180656688 L -99.30612738035987,19.822365753778765 L -99.30624579406853,19.822742552017317 L -99.30609180011871,19.823035899343342 L -99.30581690413904,19.82328236265929 L -99.305550371722,19.82337029067311 L -99.30537870330106,19.82336617197112 L -99.30474931638582,19.82323971307616 L -99.30389281739677,19.82526062208292 L -99.30341628322806,19.82591050877678 L -99.30313022031693,19.826660990041077 L -99.30246755258548,19.82704380511433 L -99.30197630401895,19.827800771342844 L -99.30096464991207,19.827219806505983 L -99.3008739581151,19.82728634374989 L -99.30031376013011,19.828449649378673 L -99.30029275928815,19.82850830984216 L -99.30056993070367,19.82882388274406 L -99.3005774802562,19.82890725858728 L -99.30114565101981,19.829152661427102 L -99.29926325447198,19.831871861824336 L -99.29816341128259,19.83346056314687 L -99.29694378906619,19.835222251799106 L -99.28738579389407,19.83696432751747 L -99.286321411648,19.837158291538557 L -99.2858467151606,19.839633552085413 L -99.28511837255938,19.840624401650953 L -99.28475530430643,19.840697843343 L -99.28431555054193,19.84078679387327 L -99.28421893804143,19.841201233609237 L -99.28378132280685,19.841455105161938 L -99.28363564422334,19.841723158100354 L -99.28290439675149,19.84172699317744 L -99.28267430605638,19.84188473496851 L -99.28253365617003,19.841981159174747 L -99.28161402794042,19.842609078654885 L -99.28134245249355,19.842589072890625 L -99.28030034359345,19.841723297964077 L -99.2787189203547,19.840409396728766 L -99.27839195292731,19.84169055920775 L -99.27825731182064,19.842003606124763 L -99.27815911322122,19.84223192351734 L -99.27842070618757,19.842738215596597 L -99.27817425374528,19.84341277367871 L -99.27767115584598,19.84560825739673 L -99.27710135794611,19.847895371838632 L -99.27686144661322,19.84775472748593 L -99.27678088270704,19.848060457108936 L -99.27641237080306,19.849531217832567 L -99.27626734455696,19.850607288845172 L -99.27602520582944,19.851486866945695 L -99.2753834227169,19.852901201668484 L -99.27494390301469,19.853109777424574 L -99.27441219663784,19.853060290770507 L -99.2738971231687,19.85330470890887 L -99.27352529240463,19.853575982242166 L -99.27329720414622,19.854171866206755 L -99.27295469666042,19.854849142030073 L -99.2726120495641,19.855445200134778 L -99.27238367784697,19.855878667009897 L -99.27188507996307,19.856669107687203 L -99.27151988245022,19.85753613449459 L -99.27097086703684,19.85856495643459 L -99.27009162407488,19.859172983385214 L -99.2694687282905,19.85955528139568 L -99.2689554942326,19.85971206236049 L -99.26820347369902,19.85964385753838 L -99.26748795073333,19.859471593016945 L -99.2671577289731,19.859402749592988 L -99.26688243786062,19.859281824635854 L -99.26668048036383,19.859143457241714 L -99.26651531155731,19.85907436506665 L -99.26650758326214,19.859057314293494 L -99.26342101129194,19.859064506106705 L -99.25469560014378,19.85908455141021 L -99.25442718802753,19.859287728757405 L -99.25417344057344,19.859344544007072 L -99.2540243285605,19.85947177787862 L -99.25384553336289,19.85971196009 L -99.2537413246033,19.859909689247772 L -99.25335339348776,19.86009371531757 L -99.25309966693867,19.860164639322825 L -99.25290593994458,19.860404841942536 L -99.25287993987534,19.860641662236663 L -99.24796082092065,19.85978544005469 L -99.24566931035567,19.869529099964012 L -99.2414303444082,19.875262110749436 L -99.23637239728725,19.87508314253023 L -99.23594754036874,19.87349419300964 L -99.23567914649789,19.874000026034317 L -99.23569484039672,19.87424624378399 L -99.23575646132377,19.874463433906318 L -99.23580293163289,19.874796512291695 L -99.23571509539477,19.87529719269167 L -99.23562334509576,19.875704643188442 L -99.23550060920309,19.87598120471364 L -99.23536233567441,19.876155952503368 L -99.23525486534491,19.876345214638345 L -99.23525518698956,19.876563421486146 L -99.23517852970605,19.876767183758517 L -99.23502470823648,19.876840126462973 L -99.23471688554609,19.87685507842489 L -99.23454739168119,19.87673892209158 L -99.2344545464431,19.876404454409272 L -99.23440952547138,19.876259247574453 L -99.23428156937882,19.876077213602407 L -99.23399658570864,19.87579723893484 L -99.23371497844408,19.875910817687043 L -99.23249991696632,19.876552492584096 L -99.23216532518099,19.876738871482033 L -99.23166487522572,19.87601352942303 L -99.23115896481106,19.87549476435648 L -99.2305045932675,19.874866331806484 L -99.23000326248011,19.874453269610353 L -99.22932243982142,19.874033024905007 L -99.22829969353036,19.875046802500332 L -99.22834883916693,19.875415879379194 L -99.22496779633286,19.878881745794402 L -99.22352856257656,19.880639652399974 L -99.22231944745332,19.882221222014486 L -99.22066886183987,19.88423604938005 L -99.21987447685534,19.88557762645756 L -99.21940660344437,19.886980635699945 L -99.21861690833857,19.888473693762066 L -99.21828791501551,19.88907035221452 L -99.21746709097991,19.891423630629937 L -99.22224436071004,19.899156197032287 L -99.22247071836564,19.899538957724022 L -99.2239252184897,19.901998401823807 L -99.2201970485999,19.902389750937576 L -99.22076737922083,19.902741753564808 L -99.21949193084178,19.905050280452574 L -99.21915789713799,19.911390246129905 L -99.2186765362431,19.91148375933553 L -99.21814054803846,19.911694095076182 L -99.21795256281175,19.91176540696172 L -99.2177459971822,19.911996683547702 L -99.21752045667218,19.912103583891334 L -99.21712556515371,19.91215737827721 L -99.21673046421404,19.912051235391264 L -99.21648589093374,19.911998222329647 L -99.21629784062003,19.912016220817073 L -99.2161287162459,19.912123050630136 L -99.21595964043541,19.91226542130212 L -99.21571534092075,19.91240788824223 L -99.2154333858358,19.9125326239204 L -99.21524540760605,19.912603932684068 L -99.2149831140686,19.913053300070327 L -99.21555049487657,19.91470263011951 L -99.21408217204522,19.915217056952898 L -99.21356212549675,19.91510192783023 L -99.21350717010085,19.91419493924945 L -99.21257850558817,19.91398630006916 L -99.21263593639829,19.914896884824046 L -99.21227612238154,19.914817228930648 L -99.21072902343923,19.914474723009533 L -99.20663755712019,19.924955974243904 L -99.20707312283051,19.9257933530361 L -99.20660486335797,19.926340619480275 L -99.20560277281689,19.927500739125776 L -99.20652859322938,19.928532201320465 L -99.20701872385641,19.929072569773627 L -99.20697732514654,19.92993562405912 L -99.20692844421379,19.931070058671033 L -99.20688071179207,19.932131747563613 L -99.20799202701778,19.932276574230432 L -99.20825131708601,19.932310609585205 L -99.2092156437311,19.932435991406404 L -99.20941735547004,19.931777882136725 L -99.20982884342418,19.93026977620539 L -99.21023891665837,19.928820305855048 L -99.21051834575547,19.927838676568708 L -99.21075449287403,19.926982870695376 L -99.21083785700642,19.926703592975706 L -99.21096096189466,19.926274948676188 L -99.2111797922614,19.925482620430707 L -99.21151905393599,19.924288432643237 L -99.212654367025,19.9248183896508 L -99.2156678813023,19.926098089960067 L -99.2174139406957,19.92680866169563 L -99.2177389736987,19.926921041244285 L -99.21857254600438,19.927241905631295 L -99.21967578439275,19.930389184955292 L -99.22131652170154,19.9351890962614 L -99.22300460082103,19.9401935871024 L -99.22315324152093,19.940186916033277 L -99.22345115943448,19.94027434767041 L -99.22455195144249,19.945881117951394 L -99.2246289517375,19.946278094189807 L -99.22594593163792,19.94988069646826 L -99.22604847070312,19.950042082209876 L -99.22776104100028,19.951068127348957 L -99.22547014494756,19.95170008192507 L -99.22494225208291,19.951907755594707 L -99.2200640859827,19.95329069753335 L -99.21539443724616,19.954614408177534 L -99.21307529766597,19.958727113364265 L -99.21315950965264,19.9589252502434 L -99.21338793508983,19.958979427160823 L -99.21379155485985,19.9591326201003 L -99.21429144729282,19.95939860664044 L -99.21501382269831,19.9598336653894 L -99.21496134178311,19.960223469123733 L -99.21478849755864,19.960188642887832 L -99.21433995771058,19.96139845573756 L -99.2146752564387,19.961452417661746 L -99.21458924226593,19.961813372048905 L -99.21415455516438,19.96283027241733 L -99.21387338372578,19.96335905017202 L -99.21406601841655,19.96359586701046 L -99.21250490347727,19.965539525843088 L -99.21247784058926,19.96547904409861 L -99.21234561380723,19.96535753549384 L -99.21258624970869,19.964564160688912 L -99.21289130404774,19.963647270396088 L -99.21156954568109,19.963310688699984 L -99.2114562761168,19.96345178025361 L -99.21129527306309,19.963841244560893 L -99.21111651218362,19.964331370429615 L -99.21118291601371,19.964621690834715 L -99.20964703683039,19.965465783475512 L -99.20990730773937,19.96591939827234 L -99.20891960358257,19.966369756207726 L -99.2090216421919,19.96642129485775 L -99.20971292256712,19.96724449600151 L -99.20980853833618,19.96723287779138 L -99.20983176892211,19.96728205579934 L -99.21002741156987,19.96769623817555 L -99.20959418624803,19.967865017690855 L -99.20946224754982,19.968068440577188 L -99.20867953528298,19.968270913392185 L -99.20853604701675,19.96851820430878 L -99.20822413622152,19.9686102712602 L -99.20800396770701,19.968675259070064 L -99.20751352344072,19.968825819642504 L -99.20708741504902,19.969008260175073 L -99.2067706434566,19.969130605105605 L -99.20673558564957,19.96897473825844 L -99.20658060852668,19.96884062839893 L -99.20656940178138,19.968683779143458 L -99.20655901888598,19.968606006352573 L -99.20647667748433,19.968631140938736 L -99.20648392445247,19.96868778457753 L -99.2057188197099,19.96957140187885 L -99.2057270324842,19.969708479355667 L -99.20547244628179,19.969937083310583 L -99.20433815779607,19.970491191000182 L -99.20340945736308,19.970965557278742 L -99.20285439926589,19.971622716197423 L -99.20243074531162,19.972301925377632 L -99.2020217323942,19.972753929711693 L -99.20181751186807,19.97320570022992 L -99.20184086016977,19.973678714917327 L -99.20106844529762,19.974668673880483 L -99.20061431487957,19.97544325333034 L -99.20003160774988,19.976450120175553 L -99.19991765910954,19.976802953111854 L -99.19886849953954,19.9776938961194 L -99.19836769020505,19.977810510524773 L -99.19825740457325,19.976770142284128 L -99.19782364673077,19.97574983050757 L -99.1975104154287,19.97589337410143 L -99.19749021905673,19.976198243213577 L -99.19786151421432,19.97777970603398 L -99.19794162365042,19.978016596846743 L -99.19775036882668,19.978268392840626 L -99.19775084197104,19.97864796645015 L -99.19775087624423,19.978676096437493 L -99.19771668460412,19.979189387756463 L -99.19771668252145,19.979189442119786 L -99.19772597881057,19.979772894037552 L -99.19777711410798,19.98091467156839 L -99.19769455880991,19.981300943244715 L -99.19754022818015,19.981551931401512 L -99.19742698099523,19.982401612470657 L -99.19721333053879,19.983621844564436 L -99.19691905855387,19.984826603061045 L -99.1964639134522,19.985006972397155 L -99.19566899287359,19.9852467896617 L -99.19477289563227,19.985460871003006 L -99.19472516144295,19.985472274048067 L -99.19441072144441,19.98548018239207 L -99.19440205053446,19.98548040101775 L -99.19401668687638,19.985490090401996 L -99.19345781681824,19.985504143265768 L -99.1929033532473,19.985457027826524 L -99.19237147504172,19.98526291118273 L -99.19163985371262,19.984668412309272 L -99.19090823684436,19.984073912021486 L -99.19066534871423,19.98407417212599 L -99.19038351645361,19.9842032437924 L -99.18991721453477,19.984425136872506 L -99.18981698706031,19.984480697910204 L -99.18920571816214,19.984819553462085 L -99.1893372044526,19.98490621533172 L -99.18939181131664,19.985140112031015 L -99.18930043059994,19.985472914372703 L -99.1892635701082,19.985708768569733 L -99.18931592812257,19.98583011273296 L -99.18942046185363,19.98596660087008 L -99.18950491796393,19.98608032861417 L -99.18959338517409,19.98618267533745 L -99.18966576290299,19.986281214981865 L -99.18975417468383,19.986383564226177 L -99.18981054247419,19.986497319105606 L -99.18985890317231,19.986637660724295 L -99.1898590627694,19.986770434233428 L -99.1898310835012,19.986907031393358 L -99.18978707466691,19.98699814506233 L -99.18965936194446,19.987158039253412 L -99.18951234710586,19.987270963846765 L -99.1894090355749,19.987349987596595 L -99.18930969089436,19.987429006810448 L -99.18921038413907,19.987496754510264 L -99.18922387219503,19.987883148521274 L -99.18928510726711,19.98808060671898 L -99.18928072250159,19.98829209077385 L -99.18926145154481,19.988503237383206 L -99.18920222133357,19.988840595186407 L -99.18894371929677,19.98945179975537 L -99.1891927080128,19.989528583917277 L -99.18947099996859,19.989589834686445 L -99.19013559377534,19.989834124157387 L -99.19066636880949,19.99010987052002 L -99.19081112792584,19.990394256323263 L -99.1907455464725,19.990665569121482 L -99.19049486869741,19.990906910933784 L -99.18993011624623,19.99117142930088 L -99.18959415208789,19.991477140215025 L -99.18955108331213,19.991827249464773 L -99.18960514534272,19.991875963909475 L -99.18968549776183,19.99193169733269 L -99.18991565217266,19.99202522111969 L -99.19010308639511,19.992121719709633 L -99.19026377819748,19.99225282508119 L -99.19026889409855,19.99225699821797 L -99.19026967873383,19.99226069761758 L -99.19032828775819,19.992536528810287 L -99.190359689005,19.99285034775751 L -99.19037193057544,19.993172766591133 L -99.19027914481194,19.993537953739033 L -99.19016898229582,19.99383123973633 L -99.19005264289149,19.99396328519011 L -99.1896625746935,19.993664248913174 L -99.18954767503878,19.99354075701867 L -99.18945532232806,19.993349215281302 L -99.18930052367871,19.993178108887626 L -99.18908820044734,19.992918698238938 L -99.18894698063826,19.992733058343138 L -99.18870977934552,19.99252522411 L -99.18856694193492,19.992309775780743 L -99.18830711980274,19.992083619660733 L -99.18807491092528,19.991932618922007 L -99.18777159638863,19.991801650824055 L -99.18737759606644,19.991571275601533 L -99.18691575369456,19.991379434933496 L -99.18650825959683,19.99121317814142 L -99.18589113427251,19.990859315967437 L -99.18450803907412,19.99050446351316 L -99.18385467983936,19.99041860004869 L -99.18350159269761,19.990220649356633 L -99.18321621155238,19.990099505673005 L -99.18305110850199,19.99009140209344 L -99.18270073065932,19.99027629398399 L -99.18236195137852,19.990416065123632 L -99.18221216373246,19.99064715380004 L -99.18186044753831,19.991273522964878 L -99.18136985527688,19.991865041534492 L -99.18093757691788,19.99214900384794 L -99.17938691211903,19.99244129732956 L -99.17721734079916,19.993138894787325 L -99.17794242372196,19.99437871369272 L -99.17881343501297,19.99586802638952 L -99.18000148853672,19.998088777887826 L -99.17635035470681,19.999558700149127 L -99.16875339434945,20.002616858689933 L -99.16787277846294,20.003512764195545 L -99.16737418294312,20.01287348875557 L -99.16136616726297,20.01242612365432 L -99.15989546771408,20.0157815825864 L -99.15963880595923,20.016335822430502 L -99.15941218586708,20.016844667721646 L -99.1593208317333,20.017028117863816 L -99.15860312070667,20.027187714267214 L -99.15647685030126,20.026123312065582 L -99.15506043357838,20.025926107664663 L -99.15486267609498,20.02599288058999 L -99.15395282959219,20.026097416280322 L -99.1535650158251,20.026069474791374 L -99.15150307029836,20.026728352014928 L -99.1513871791137,20.02692720314821 L -99.15120237598943,20.027047097757812 L -99.1506810854274,20.02724110540776 L -99.15039804649003,20.027501728945555 L -99.14798181806468,20.02755225501516 L -99.1474334732153,20.027757844603535 L -99.14681566599414,20.0276147991827 L -99.14667923885337,20.027313327032584 L -99.14581437412845,20.02664930558031 L -99.1453170575953,20.026510279708315 L -99.14499153981684,20.026248032285938 L -99.14451242896045,20.026178131958126 L -99.14395496646357,20.02621953247247 L -99.14369205795636,20.026281310655364 L -99.14251319280537,20.026973260161718 L -99.14238319381391,20.02704956263268 L -99.14213471194256,20.02708023472381 L -99.1391367487375,20.028077047322626 L -99.13828864737519,20.028182808138908 L -99.13521380969293,20.027086495068737 L -99.13399267940609,20.027325196923798 L -99.13312891548426,20.027516291497253 L -99.13121348438334,20.02808704416038 L -99.13087683419806,20.028241978093455 L -99.12869494996303,20.03006046322519 L -99.12750598863457,20.03145135742342 L -99.12590924454287,20.031713937441452 L -99.11815317907242,20.02930446049241 L -99.11251929393305,20.02920422258063 L -99.1090803641325,20.0305328641882 L -99.10386925342506,20.030898549970107 L -99.10170458543669,20.032033904135083 L -99.1016418416426,20.03203159212934 L -99.09580483745818,20.03063968086701 L -99.09509253010954,20.03148707028329 L -99.09339680261964,20.032022037901303 L -99.08935132883423,20.034348804823033 L -99.08544996161731,20.032487917307645 L -99.07967267504556,20.026212488853403 L -99.07939633492389,20.024462935116254 L -99.07909403513672,20.021646704858252 L -99.07951402057131,20.020442652744073 L -99.0789949474078,20.01985270096489 L -99.07832395585692,20.018299597984527 L -99.07447809065961,20.018068472446522 L -99.07413536013865,20.017918878515715 L -99.07094386815459,20.018017517393908 L -99.06974394088266,20.01805458566345 L -99.06832041450734,20.018025318793768 L -99.0669487625832,20.017445869992198 L -99.06620946188276,20.016159327650442 L -99.06384086080581,20.01419435909472 L -99.06394463913747,20.00910387467356 L -99.06505908731289,20.002135647547217 L -99.06616240312553,19.996440592323054 L -99.06756047616722,19.984989400073943 L -99.06535264493645,19.9815013008757 L -99.06467952429759,19.98043787367728 L -99.06363206541046,19.97878290614322 L -99.06278407537368,19.97744309971667 L -99.06194924048704,19.976123849660915 L -99.06138577111487,19.975224264438033 L -99.0609863945889,19.974589570321093 L -99.06071050506466,19.974151182079904 L -99.0606776014125,19.97414283015029 L -99.06061881872168,19.97413498767378 L -99.05957574866895,19.973995821304406 L -99.05948266035507,19.97459862917788 L -99.05935941278005,19.975185142059065 L -99.05923152829409,19.97583460713282 L -99.05902712464597,19.976877818450976 L -99.05893241966066,19.977289028776994 L -99.058789560199,19.97785180557849 L -99.05879786046373,19.978454632841526 L -99.05866881782875,19.978564864090664 L -99.05861443122971,19.978611321244365 L -99.05855072543758,19.97909039418874 L -99.0584898652212,19.97924990553609 L -99.05841820151628,19.97944925968617 L -99.05816467678196,19.98072790460657 L -99.0578674252855,19.98210302419304 L -99.05776664203778,19.98227595512615 L -99.05761176566718,19.98244897737017 L -99.05610070705937,19.984668364709282 L -99.05642266568415,19.985040227765587 L -99.05652849177959,19.98511387689126 L -99.0566701368754,19.985254235653112 L -99.05685259513213,19.98542645950047 L -99.0569648892265,19.985565575730877 L -99.0571395041624,19.985908409774897 L -99.05723431754281,19.98609456196548 L -99.05740684618767,19.98647250804277 L -99.05757932216972,19.986705067507962 L -99.05771759469587,19.986936599778925 L -99.05774228029048,19.986977934567594 L -99.05792741591074,19.98728496714685 L -99.05803603452527,19.987506369944985 L -99.05809686375419,19.987637573637233 L -99.05809691826714,19.987785199021527 L -99.05810809970295,19.987823169069173 L -99.05811865318445,19.987859005208588 L -99.05813170292997,19.987928713221148 L -99.05814911587505,19.988055829750202 L -99.05819884559703,19.988109279829292 L -99.05823957681581,19.988179523786002 L -99.05850078467279,19.988404757837483 L -99.05817081620116,19.9887474443814 L -99.05790372396302,19.989024829040254 L -99.05778573352403,19.989003973529538 L -99.05702582779455,19.99037223190223 L -99.05691195594024,19.99030697170756 L -99.05678827904973,19.990236090812108 L -99.05566449859897,19.99066811785662 L -99.05129322147333,19.992353325853433 L -99.05097034602275,19.992569546439416 L -99.05045325041971,19.99291582938882 L -99.04991129686188,19.993215936386004 L -99.04990414854146,19.99337837822262 L -99.04970291369753,19.993498291839167 L -99.04867278849763,19.994112121865932 L -99.0477914674629,19.99491702593351 L -99.04787761326331,19.99501287719328 L -99.04787174552955,19.995095567374058 L -99.04764815669124,19.9951602815627 L -99.04762252502516,19.995298673780585 L -99.04774270441757,19.995523056418826 L -99.04766210542742,19.995680042272937 L -99.04770632966182,19.995978912618288 L -99.04741546121788,19.99603360889997 L -99.04742812757121,19.996257881396993 L -99.04755687450651,19.996463173979723 L -99.04729925194172,19.99668241423547 L -99.0472426646026,19.99682467605976 L -99.04723850623412,19.99689316214349 L -99.047358117743,19.99708341042162 L -99.04736562140346,19.99736961218017 L -99.04766186009296,19.99766770099447 L -99.04801525371482,19.998217714559193 L -99.0482588167315,19.99836353251692 L -99.04839595580924,19.998630337564094 L -99.04828989178095,19.999070694223057 L -99.04845383607412,19.999339517056985 L -99.0487546206931,19.99933747317312 L -99.04901732216389,19.999422956544283 L -99.04906567485607,19.999552821929985 L -99.04893099018166,19.999824737263765 L -99.04915481137364,19.999823875649682 L -99.04929861110615,19.99945152991525 L -99.04921351424439,19.99888799937097 L -99.04947289236917,19.998356175365917 L -99.05014515552955,19.998801370896764 L -99.05002480190595,19.999262753650164 L -99.04989293514782,19.99933732869146 L -99.04997835533722,19.99954808252805 L -99.04967478196389,19.999682998102998 L -99.04946350217129,19.999877566901823 L -99.049719629514,19.99997015331378 L -99.05010425647774,19.999760517577446 L -99.05039135863822,19.999760813943926 L -99.05057142458014,19.99985832693942 L -99.05080470083715,19.99967692024535 L -99.05097441261955,19.99964536107313 L -99.0513682086081,20.000295701394453 L -99.05221158109572,20.001340827120263 L -99.05200438760629,20.001431975376924 L -99.05187549690734,20.001285341500576 L -99.05165716661541,20.001287318555008 L -99.0511296007742,20.001137621180007 L -99.0509003595286,20.001626832970523 L -99.05124337329023,20.001802010285765 L -99.05103255250367,20.00201705743232 L -99.05096218703207,20.002091839011015 L -99.05081675856658,20.002407392088138 L -99.05123688143301,20.00259623693467 L -99.05103451460299,20.002808440046316 L -99.0507756025528,20.002639782664083 L -99.05069786271409,20.00317550339635 L -99.05039896638837,20.0030313133153 L -99.04943030099126,20.00769710194163 L -99.04877674138991,20.008087277815072 L -99.04338071776994,20.011308529937413 L -99.04291657258585,20.011294730552475 L -99.04232910662317,20.01163408914853 L -99.04197024770492,20.011040396281164 L -99.041429957337,20.01113475842112 L -99.04122197246977,20.011484022546103 L -99.04137179542705,20.01187562424729 L -99.04052301506087,20.01203005231192 L -99.04052925944903,20.01233508539952 L -99.0400272556834,20.012548966077482 L -99.03987899856031,20.01279820138572 L -99.03884121935744,20.012883394759648 L -99.03797353979397,20.012826362145876 L -99.03679293028222,20.01281698104193 L -99.03600827890358,20.01270472396841 L -99.03598353496719,20.012982388679188 L -99.03537285744041,20.01363252154275 L -99.0354422596599,20.01431922113419 L -99.03134289757493,20.0148536236178 L -99.03089709944551,20.012552711698923 L -99.03062666982325,20.011151651512147 L -99.03036029298437,20.008912589937463 L -99.03048407356901,20.00802772259766 L -99.030726978166,20.00517204182345 L -99.03097087223195,20.003666527411173 L -99.03083344037606,20.002912986972873 L -99.02742290069902,20.001648187938052 L -99.02804924391069,20.000263601847443 L -99.0285121201948,20.000102411420915 L -99.0289163298368,19.99924440092513 L -99.03024692837084,19.99963588449569 L -99.03193746291339,19.99663415693446 L -99.03154807938445,19.996101249257315 L -99.03021079659769,19.993225255140263 L -99.03017874187758,19.99316707558571 L -99.02985916133206,19.99300675597714 L -99.03009006769373,19.992540519009932 L -99.03037442174467,19.992231606728637 L -99.03045217491298,19.992186709747504 L -99.03041704818988,19.991775661774845 L -99.03043398765087,19.991543217899164 L -99.03095729849328,19.991566572843077 L -99.03102122330445,19.990957543046555 L -99.03068742518802,19.99054514874099 L -99.03159178655395,19.990496403768457 L -99.0319094260941,19.990718734281955 L -99.03277760417164,19.99063400250805 L -99.03289170768362,19.990087513711963 L -99.03299579960941,19.986087234558163 L -99.03309268526868,19.982363731329794 L -99.033108109661,19.98177090547615 L -99.03327451351588,19.97943669355553 L -99.03333910776114,19.979332487504323 L -99.03362580005542,19.977486003169982 L -99.03394652556842,19.9754202227877 L -99.03402617598213,19.974907243532318 L -99.03428945166321,19.973211558739088 L -99.03451296680596,19.97177178892455 L -99.03362145515518,19.971169934773553 L -99.03236755491793,19.970305082698825 L -99.03192479902853,19.969681899777626 L -99.03129102870821,19.9687876484124 L -99.03107046914063,19.968480709697698 L -99.03105736883997,19.96844989716648 L -99.03004059135102,19.96737009496486 L -99.02886215995856,19.96602978202886 L -99.0284103652167,19.965488013713497 L -99.02765581629872,19.964558615081465 L -99.02215651524241,19.96450735953578 L -99.0166067610476,19.96453025946369 L -99.01570340295221,19.96449625493699 L -99.0140247285731,19.964496392676672 L -99.0133689995121,19.964546013253617 L -99.01260836966219,19.964793934564938 L -99.01003790806232,19.96501717097664 L -99.006837921676,19.965017318357376 L -99.00412010523917,19.964952103591564 L -99.00679385313005,19.976038627894965 L -99.00704369951318,19.97707598123789 L -99.0072471473831,19.97709430185384 L -99.00749347823253,19.97896637119994 L -99.00754749424196,19.979163332190808 L -99.00776354177364,19.97922719320693 L -99.0087149323849,19.97722647131569 L -99.0134226455586,19.977650269727295 L -99.01404890441506,19.977706642661115 L -99.0142378052249,19.977723644719166 L -99.01334967315324,19.980663869006268 L -99.01376397679772,19.980678511136382 L -99.01372802577092,19.98113449381545 L -99.01389607088551,19.98122047891942 L -99.01385884781845,19.981305248210283 L -99.01371659063489,19.98127952195869 L -99.01371242258296,19.981332372534734 L -99.01317724351745,19.981382211836976 L -99.01250724763439,19.981516258011258 L -99.01148738139639,19.9819322993472 L -99.01125637068272,19.98212237944699 L -99.01133489289302,19.982158530823902 L -99.0122289666563,19.982563592976494 L -99.0130954228952,19.98295780025073 L -99.01396996016474,19.98341556167113 L -99.01326840271847,19.98493230982843 L -99.01309493122005,19.985013192276888 L -99.0132055850154,19.985065843159276 L -99.01453640851427,19.984307119388276 L -99.01514002044895,19.983979234353356 L -99.01564530814728,19.98419383527005 L -99.01650713772533,19.984613697734233 L -99.01738836744019,19.985006983527352 L -99.01823363311568,19.985452343204962 L -99.01901264478381,19.98583548057676 L -99.0198352268248,19.98620444921463 L -99.02067124716385,19.986608575451665 L -99.02155470048137,19.987005232233624 L -99.0209582668676,19.98876473492048 L -99.02055065811346,19.989967209840124 L -99.02034648796783,19.990561618947986 L -99.01936212923188,19.99011881192958 L -99.01862353659946,19.989794411511326 L -99.01826676053963,19.990626745567763 L -99.01790022799845,19.991478844866958 L -99.01891476589725,19.9919645503036 L -99.01887396420345,19.991993021349824 L -99.01890352934731,19.992007770955198 L -99.0184792579732,19.99233911927204 L -99.01830954639365,19.99262005282649 L -99.01815132523996,19.993026993988256 L -99.01807468646646,19.993402727890377 L -99.0189763862259,19.993755489907393 L -99.01796783604455,19.995535343808946 L -99.01763447117096,19.99593715059291 L -99.01751613616254,19.995784621683836 L -99.01730500374003,19.996203500195314 L -99.01688772666722,19.995893176413176 L -99.01645604714088,19.99648240814361 L -99.01623622178363,19.996777706056456 L -99.01533576514042,19.996315252826058 L -99.01476265385274,19.996154757803282 L -99.01418139491386,19.996946368227054 L -99.01402234203039,19.99686503156288 L -99.01350154942084,19.997620782821382 L -99.01333846408937,19.99765313966935 L -99.01374591222951,19.997874218807727 L -99.01406837630356,19.99805843365859 L -99.01354285580227,19.998877334251922 L -99.01415830216297,19.999286114276863 L -99.0135028441646,20.00021006268388 L -99.0135101337069,20.00026572942964 L -99.01352399260828,20.000391204756895 L -99.0136697234142,20.00051783988695 L -99.01397803978166,20.005645148177216 L -99.01350777412836,20.00920633323532 L -99.01339128684144,20.010030088159027 L -99.01328074976577,20.010925234814405 L -99.01273357432255,20.012030663433237 L -99.00992136132052,20.017729348273477 L -99.00967766969165,20.017976062637654 L -99.00874828908104,20.020207534484854 L -99.00844970379978,20.02087071595963 L -99.00783538786789,20.022064457103397 L -99.00715240074668,20.023695824923376 L -99.00698484076419,20.023993955532685 L -99.00651734870367,20.025077489569117 L -99.00596060264394,20.026353606638448 L -99.0056434524268,20.02738858509329 L -99.00526680195756,20.028944052820272 L -99.00546739663557,20.028964406248143 L -99.00509760678398,20.030834590223005 L -99.00476910458298,20.0326732147803 L -99.00561653186034,20.032779244895583 L -99.0059356113931,20.03093311681802 L -99.00668810998116,20.03102519866604 L -99.00752406242005,20.031099615849246 L -99.00785961338545,20.031130077684963 L -99.00766208302679,20.033053358899437 L -99.00793966171359,20.033118978749904 L -99.00786696293108,20.03373340553664 L -99.00782905225245,20.033865619165468 L -99.00931129288733,20.035146002939793 L -99.0094536921101,20.03520243228341 L -99.00965682920234,20.03521819298972 L -99.0098949750011,20.035231456933204 L -99.01042261108047,20.03523183941788 L -99.01049753720146,20.035479372897782 L -99.01047884326825,20.035886031604846 L -99.01029159134508,20.036292704467858 L -99.00977723363728,20.038929972465308 L -99.00900012780554,20.0389096382695 L -99.00815847151625,20.04236072838868 L -99.00602259195873,20.051399911732968 L -99.00564429556276,20.05320451418241 L -99.00115978488166,20.052394370542164 L -99.00010998692409,20.0533425502535 L -98.99919804670873,20.054166200583065 L -98.99683848065015,20.058074804071925 L -98.99633401157678,20.05837481178435 L -98.99557904897094,20.059661881348617 L -98.99562637451659,20.060125008275623 L -98.99484156238586,20.06140303797273 L -98.9936006400165,20.062915548335948 L -98.99314733438555,20.063140832592143 L -98.99292346397654,20.063942804471818 L -98.9927611216209,20.06474289102201 L -98.99256270015955,20.065747255438655 L -98.99232824649746,20.06591747777324 L -98.99207405266769,20.065847453355186 L -98.99177377841013,20.06623986689561 L -98.99135801644536,20.066730382201346 L -98.99124252172392,20.066970194988652 L -98.99095381990549,20.066948379092032 L -98.99056118746483,20.06681755033263 L -98.99036487725586,20.066610422161578 L -98.99027433237941,20.06645684484212 L -98.99011083549716,20.066359690700835 L -98.98997674449083,20.066452936029037 L -98.98981720031273,20.06672294277446 L -98.98962858534048,20.067123782432528 L -98.98939248075337,20.067520235944016 L -98.9891592990342,20.067934870542725 L -98.9890026764074,20.068217240103085 L -98.98897789428173,20.06826191793905 L -98.98896990195041,20.067862098312478 L -98.98905064996909,20.067011909483924 L -98.98912089931693,20.066693992199617 L -98.98927688170008,20.06629954632474 L -98.98943576317903,20.065923854318587 L -98.98951925684354,20.065362405638 L -98.98949325210101,20.064994359463697 L -98.98938640984775,20.06471536045009 L -98.98929050584886,20.06449426519322 L -98.98896854584467,20.06387014623068 L -98.98887839618536,20.06335449991941 L -98.98863697018359,20.06292712830225 L -98.98835025793743,20.06267069542114 L -98.98798809780084,20.06238576389569 L -98.98744083239869,20.061825479651972 L -98.98709376611244,20.061554790444884 L -98.98690747679206,20.0613970873671 L -98.98685257873096,20.06120986698722 L -98.98674411345996,20.061187890862183 L -98.98664093131032,20.061057120846655 L -98.98629373458118,20.061134957247706 L -98.98554965227406,20.060778265031853 L -98.98521921990063,20.060229264341434 L -98.98499641369595,20.05990346129995 L -98.98379094919575,20.05919520300249 L -98.9830588655857,20.05894912485741 L -98.98247923049004,20.058702830049423 L -98.98224375770214,20.058331382801068 L -98.98191042148487,20.057763770506007 L -98.98206404510213,20.057429878194032 L -98.98189609644012,20.056862259980086 L -98.98138732886797,20.05671816230635 L -98.98082480564115,20.056411535695435 L -98.98058338618638,20.056212078869827 L -98.98040233576651,20.05596988891809 L -98.98022127919879,20.055713449365516 L -98.98011567469669,20.05551400490936 L -98.97996482509552,20.05507238312751 L -98.97978380438269,20.054630757553024 L -98.97921044766369,20.054117861787798 L -98.97848615030655,20.053904093537472 L -98.97804855019092,20.053775832414647 L -98.97762605227955,20.053633327733756 L -98.97703759148708,20.053277119118228 L -98.97656634974979,20.053012576948053 L -98.97620421936816,20.052813096959238 L -98.97576666931549,20.052442661569927 L -98.97544982959691,20.052086484484395 L -98.9751631900413,20.051687573427117 L -98.97463513855486,20.051074950775433 L -98.9741674171062,20.050690260698406 L -98.9739109539052,20.050305600138643 L -98.97362180268179,20.0495743919248 L -98.97339553151387,20.049132757503106 L -98.97315415870041,20.048776587247406 L -98.972927867274,20.04847739888028 L -98.97264121234919,20.048178206568586 L -98.97177947618711,20.047610746188003 L -98.97147901838817,20.047440491362714 L -98.97092051646582,20.04720761136258 L -98.9706801579333,20.047094102449275 L -98.97039472781658,20.046909665979936 L -98.97031964784001,20.046682715040838 L -98.97027461519619,20.04646994947378 L -98.97028970038787,20.046143725089554 L -98.97027475205897,20.045746574667756 L -98.97001940294767,20.04540612049468 L -98.9697940638518,20.045278428872297 L -98.96937343132454,20.045093967545736 L -98.96904294815765,20.044838599929207 L -98.96868242420493,20.04455486220632 L -98.96826178832985,20.04439876556198 L -98.96765903569317,20.04420752689974 L -98.9673947072478,20.044097142926816 L -98.96720621802965,20.044007313083224 L -98.9670532822255,20.043894232828922 L -98.9669862445192,20.043785700363603 L -98.96687060186548,20.04367573749617 L -98.96677599545698,20.043497479123477 L -98.96665684656195,20.043348958581912 L -98.96651832253109,20.043213661422612 L -98.96634845126438,20.04299261786604 L -98.96609934364876,20.04274306032724 L -98.96586579318286,20.042438031949967 L -98.96555928846708,20.042347541412177 L -98.96535813091064,20.042338456943696 L -98.96511864863682,20.04237458312475 L -98.96498452938954,20.042464987130625 L -98.9648120815215,20.04256443029607 L -98.96461088221206,20.04274525667733 L -98.96446716104536,20.0429170549654 L -98.96440965945291,20.043070775711843 L -98.96390678878029,20.0432050799917 L -98.96364341645207,20.04326259567709 L -98.96353153592821,20.04315436494794 L -98.96299924011682,20.042715314064964 L -98.96282314361957,20.042553537947665 L -98.96269889068796,20.04234630688152 L -98.96247986578699,20.04205233655183 L -98.96224085869405,20.041786192211607 L -98.96201909125162,20.04165162383966 L -98.961906978855,20.041457466273307 L -98.96149580985502,20.041104408235352 L -98.9611032796042,20.04094548689419 L -98.96080423274434,20.040751291622062 L -98.96054260322444,20.040451207945303 L -98.96043048520463,20.040292346648066 L -98.96037445863716,20.040062904408042 L -98.96044929275169,20.039798196545355 L -98.96046103989852,20.039398513137815 L -98.96001419411245,20.03945465910009 L -98.95976099164609,20.03946866471571 L -98.95940352137157,20.039524825958374 L -98.95901625526186,20.03959504822599 L -98.95873039354579,20.039570445244976 L -98.95868768587276,20.03956539448455 L -98.95853971232056,20.03932776668843 L -98.9584057551894,20.038976190967954 L -98.95836116172644,20.03866682718032 L -98.95840589617485,20.038441852566162 L -98.95855487741605,20.038315334566125 L -98.95880817267637,20.037935728919027 L -98.95888271402968,20.037640454407153 L -98.95906149327456,20.037457694605084 L -98.95907830543673,20.03745769965839 L -98.95987796578444,20.032600689845264 L -98.96029976707348,20.032389315192034 L -98.96060198391909,20.03223843960022 L -98.96117426733421,20.032180789880968 L -98.96146170217358,20.0321477291872 L -98.96196298641887,20.0321075626933 L -98.96235534444827,20.032021367786992 L -98.9627574749917,20.031979267992064 L -98.96316994175915,20.031886845026005 L -98.96347238733496,20.031824737836843 L -98.96405324361142,20.031768609067285 L -98.96404297981489,20.031578253577425 L -98.96389828072422,20.03134673379238 L -98.96397656805499,20.031237694088983 L -98.96346439145567,20.031199189795476 L -98.96302938346132,20.030999794721655 L -98.96301183856316,20.030759791060106 L -98.96279642852666,20.030518189876496 L -98.96176544363631,20.03071193853357 L -98.96279205290718,20.031047372156863 L -98.96237040984477,20.031593647389414 L -98.9602405111886,20.031623007562818 L -98.96065288983426,20.029079633621986 L -98.9607362910762,20.02910875221034 L -98.96071912794115,20.028944841548952 L -98.96058037017836,20.028752091812223 L -98.9601910787116,20.02862947225399 L -98.95985366331155,20.02862939652694 L -98.95956812693956,20.02875186324124 L -98.95926987551704,20.029004332200344 L -98.95887514228747,20.028868981552346 L -98.95838011782887,20.02877187093746 L -98.95782434678637,20.028532675754995 L -98.95735180782961,20.028318286638473 L -98.95688665522613,20.028053085546105 L -98.9566365173321,20.027983074752083 L -98.95663066633,20.027963781018546 L -98.95621160997965,20.028024318385164 L -98.95572166392614,20.027905076019085 L -98.9552506405458,20.027833492603094 L -98.95516343181411,20.027835654322388 L -98.95428248392679,20.0311280718001 L -98.95370181211912,20.030530510589667 L -98.951836821139,20.028611165812116 L -98.9515566312092,20.02911016937383 L -98.95105583907274,20.02980823950385 L -98.95090602054071,20.029886011376764 L -98.95032650909765,20.029872465692875 L -98.94993943732557,20.030061405856895 L -98.94974697836547,20.03005016119056 L -98.94969396716603,20.029744175058205 L -98.94963442149692,20.02969143700212 L -98.94945716581725,20.029614149075794 L -98.94870263178333,20.02933880762987 L -98.94839169101694,20.02940996347999 L -98.94793678338652,20.029567886282624 L -98.94805617335594,20.028999061193034 L -98.94795295787765,20.02892114803058 L -98.94799742648796,20.028638650939467 L -98.94767970468946,20.02856645695092 L -98.94757581325933,20.02821050654689 L -98.94723765056713,20.028169086086994 L -98.94730746679735,20.027954307441476 L -98.94719401578244,20.027771428606794 L -98.94700331412379,20.027779346830123 L -98.94689405664194,20.027624649378055 L -98.9466546527017,20.02747508571529 L -98.94662833752493,20.026679762659622 L -98.9464933824401,20.026524634948416 L -98.94671661902784,20.02587822274376 L -98.9464743082604,20.025714998937293 L -98.94670095997085,20.025563146193992 L -98.94657474280689,20.025024225021326 L -98.94607300048223,20.02468318682719 L -98.94607777207013,20.024300777109854 L -98.94581670522615,20.024041483649405 L -98.94559390067579,20.02402269684008 L -98.94550173983856,20.023837634417795 L -98.94559507126272,20.02329754010907 L -98.94513497809922,20.023046365883577 L -98.9447010801365,20.02047107576891 L -98.94478694220443,20.02013988967565 L -98.94492814822819,20.019621599168975 L -98.94506875407383,20.01876784487934 L -98.94427981475353,20.017292206029673 L -98.94721968658631,20.009810760747232 L -98.94716745773096,20.009333842627797 L -98.9474872551418,20.00899178624292 L -98.94731419008814,20.008285170001997 L -98.94714101761356,20.007903097219664 L -98.94689081686796,20.00753919243313 L -98.94667912360585,20.007193490168763 L -98.94637101900368,20.007229779204586 L -98.94612070971696,20.0071933197657 L -98.94592824360987,20.006920389689842 L -98.94571664044359,20.0063200064862 L -98.94527397507072,20.005719549864747 L -98.94486973332111,20.00535559619273 L -98.94438843399121,20.00511895523115 L -98.94399612951288,20.00493864306471 L -98.94380358512187,20.004416711511695 L -98.94359644838556,20.003877832553307 L -98.94315727037674,20.002800397820337 L -98.94264646786783,20.001935815009574 L -98.94213155740796,20.000623192617876 L -98.94256807719121,19.99851195366966 L -98.94280927420654,19.99625276336963 L -98.94311692514292,19.993371047262837 L -98.94327559607474,19.98912878503129 L -98.94360300500662,19.98688772171462 L -98.94375912897648,19.984977974410626 L -98.94348662901378,19.98255357530846 L -98.9430199807751,19.980672732533996 L -98.9427304917737,19.97907309764139 L -98.94286961110859,19.977988116625 L -98.94333154751973,19.976782562902788 L -98.94414392817053,19.975738922909155 L -98.94474247753492,19.97505164285682 L -98.94575205041143,19.975174163968973 L -98.94825475898304,19.975265872398715 L -98.94865920658752,19.974774817204494 L -98.94854934960551,19.974018460304787 L -98.95222509070524,19.974129404538257 L -98.95568219035336,19.975722197765855 L -98.95709498148709,19.97567700157484 L -98.95771396372645,19.97586016738661 L -98.95810088091332,19.975799130813055 L -98.95859349421579,19.975709255338703 L -98.95876862157276,19.975581703490043 L -98.95904669041654,19.975387683342475 L -98.95928848920154,19.97521648505439 L -98.95962699291061,19.975033896101937 L -98.96017096577388,19.97497693645924 L -98.96052152525189,19.974919925454852 L -98.96095670538973,19.974828688424445 L -98.96150069610772,19.974657553406118 L -98.96196005558797,19.974543487892777 L -98.96264909291817,19.97438379360594 L -98.96401946642057,19.97414306669342 L -98.96440627113462,19.974143145095773 L -98.96480518231154,19.974063310502988 L -98.96524036580506,19.973937812719885 L -98.96539750429903,19.97394925507916 L -98.96556671906325,19.974006376550683 L -98.9659535211456,19.97401786478391 L -98.96621945440752,19.973995083105045 L -98.96632398302029,19.973862030539795 L -98.96641799965414,19.973666773277518 L -98.9665308133663,19.973453764761658 L -98.96664366606832,19.973098746265634 L -98.96683170094991,19.972690483526605 L -98.96704700086342,19.972233139317716 L -98.96724845239535,19.9719834907556 L -98.96739574058432,19.971785227304856 L -98.9676155718013,19.971528534353737 L -98.98117572427793,19.954721395033665 L -98.99562281893688,19.95689171578227 L -98.99576793125223,19.956164591011742 L -98.99759463692887,19.948871500942865 L -98.99817083085992,19.948289038037878 L -98.9986135650185,19.947215740287206 L -98.99861358388362,19.94590594486342 L -98.99961452253397,19.942795189337915 L -98.99977850666014,19.941825020244227 L -98.99908909686712,19.942009773439818 L -98.99461920896036,19.943304569932362 L -98.9853637908642,19.94551904585936 L -98.98469074650068,19.94631801650619 L -98.9846691902288,19.94626849212371 L -98.98411699288104,19.945019968374584 L -98.98320633534459,19.941986259317975 L -98.98310401550114,19.941484128710048 L -98.98306900131551,19.94099258558715 L -98.983049131111,19.940713661989214 L -98.98316475955048,19.93861282940766 L -98.97279838741251,19.935956233915963 L -98.97250560191753,19.935907210274667 L -98.97013065305138,19.932862166926412 L -98.96996643065376,19.932698911578104 L -98.96833301671806,19.933809081206117 L -98.96656965989708,19.931408929739124 L -98.96598844556111,19.93073136663583 L -98.9661056257111,19.929840708972186 L -98.96529113148091,19.929623866010274 L -98.96503263406726,19.92971924347066 L -98.9638213169938,19.929534548401794 L -98.96182586358825,19.929175074508095 L -98.96198306541505,19.92739092911177 L -98.96219185910103,19.927433358032633 L -98.96232616877575,19.92639614474888 L -98.96128139981838,19.925869623183416 L -98.96045820045022,19.925663492819666 L -98.96044456844824,19.92505810999145 L -98.95825746373366,19.92608614872368 L -98.95702395164396,19.927357718339547 L -98.95624751456673,19.928142715581703 L -98.95611243821054,19.92818355204358 L -98.95348284755501,19.91155111579542 L -98.95272260360959,19.906714563380547 L -98.95206964580449,19.906520305908867 L -98.95072867464992,19.906251194246963 L -98.95066239433253,19.90624075277942 L -98.95071102260654,19.905447521624755 L -98.95073486930393,19.904227419670125 L -98.95079500418446,19.903209766881503 L -98.95079910107445,19.90244303810437 L -98.95081542964897,19.901614618285 L -98.95068722684803,19.90098574934457 L -98.95056387402015,19.900857904259496 L -98.95007051519197,19.900139847360897 L -98.94957967069124,19.89947209596457 L -98.94909566995472,19.89911428272357 L -98.94870447535445,19.898852590402967 L -98.9481985447097,19.898561394934937 L -98.94764368784807,19.898386913307817 L -98.94677248125481,19.89816882400595 L -98.94567249875934,19.897909928627172 L -98.94513590194387,19.89795715908259 L -98.94500247392047,19.897958158605903 L -98.9447574575718,19.897421719688143 L -98.94317408310819,19.89726118048094 L -98.94319815818916,19.897205493023925 L -98.9437027388557,19.896342441002986 L -98.94228828519144,19.895582434485544 L -98.94226455803982,19.895557118952272 L -98.9432341737733,19.89389607606096 L -98.94309775540836,19.893707983212195 L -98.94189595387506,19.893107710094014 L -98.94187761346336,19.893083177768847 L -98.942455228982,19.892225465574356 L -98.9429932380079,19.891295335031238 L -98.94295908656777,19.89126452007207 L -98.94180101637434,19.8906428435679 L -98.94160050657571,19.890282279136834 L -98.94202937391228,19.889626939221557 L -98.94229146663265,19.889206246880736 L -98.94226569032165,19.889182596467364 L -98.94089947681798,19.88869188422162 L -98.94077385918952,19.888650316062638 L -98.94044674753894,19.88861036948249 L -98.94029632287054,19.88858744689139 L -98.9402691578551,19.888519579771806 L -98.94025330196664,19.888269450298793 L -98.9402709667329,19.88789294859113 L -98.94039771968754,19.887788449727612 L -98.94042290859369,19.887730439310417 L -98.93979858574542,19.886207426333407 L -98.93952878897274,19.886466438100676 L -98.93888857606416,19.88705589261849 L -98.93855797565695,19.887259053064003 L -98.93812954749762,19.887279925986437 L -98.93775427291995,19.887160149400653 L -98.93748264736809,19.88687712567088 L -98.93732324361655,19.886543083284813 L -98.93708316254987,19.88731229917818 L -98.936810871376,19.888053073796982 L -98.93631455215477,19.888869365636836 L -98.9360263826823,19.889292616110765 L -98.93546472694723,19.88972890053952 L -98.93466274069682,19.890231921976067 L -98.93271906757029,19.889260313427414 L -98.9311103409628,19.888452212637315 L -98.93109635678441,19.888424187797288 L -98.92998291408358,19.88786067034646 L -98.92839739115021,19.886998294757152 L -98.9266980607284,19.886116220552047 L -98.92576182365073,19.885563601843078 L -98.92673594134321,19.883513864475763 L -98.92469550282759,19.88462148746017 L -98.92402173214438,19.88442528289586 L -98.92396550059713,19.884475630443795 L -98.9232629818845,19.884098024281275 L -98.92292744412003,19.88385601602978 L -98.92257036967364,19.88372243115445 L -98.92230920269589,19.883699253303565 L -98.92181822445802,19.883463845742494 L -98.92116093426769,19.883106518062846 L -98.92118670378619,19.88306531206757 L -98.92172260732175,19.882265480263055 L -98.92097471306064,19.881887169147817 L -98.92029202427345,19.8816104434939 L -98.91950827199017,19.881612834041853 L -98.91935836211285,19.881808274354427 L -98.9192603068915,19.881905731704553 L -98.91989784371702,19.880911395341624 L -98.91924745220322,19.880431255214333 L -98.91856626187572,19.880047346956957 L -98.91798458285139,19.879715143243498 L -98.91787991215949,19.879655566284093 L -98.91790537808832,19.879605803323713 L -98.91747745109456,19.879328975707956 L -98.9175313284642,19.879224588576523 L -98.91697899527061,19.878992748787766 L -98.91727893025752,19.87845080557013 L -98.91741886223129,19.878182678824878 L -98.91736110017038,19.87819047448117 L -98.91689006339533,19.878057949733066 L -98.91619703848762,19.877822433159448 L -98.91548000382389,19.8775910940617 L -98.914793953786,19.87734938464164 L -98.91380506314587,19.87701292009002 L -98.91385072115126,19.87692430772911 L -98.9114316982989,19.8758878630947 L -98.91109418311468,19.87629100046553 L -98.91362141956073,19.877369260094937 L -98.9134138905338,19.877814135279745 L -98.91316956240674,19.878295397201967 L -98.9129125162557,19.878801697206672 L -98.9127404756672,19.87915585424436 L -98.91016547400429,19.878048560556696 L -98.90972219094256,19.8789700852849 L -98.91227590272213,19.88010015464368 L -98.91204561047056,19.880581342882653 L -98.91182479841086,19.881017255782293 L -98.90920374178611,19.879872067386668 L -98.90760918299218,19.882774675309314 L -98.90765385310185,19.883153792083668 L -98.90774673760369,19.883939132822917 L -98.90700669729374,19.883580268784673 L -98.9053150722801,19.885771159867353 L -98.90473138926176,19.886680823267216 L -98.90411752345115,19.887579957423476 L -98.89826970998008,19.883605333997313 L -98.89744402886626,19.884458342452323 L -98.89687394003305,19.885029656580056 L -98.89617816659582,19.88580600304709 L -98.89571239774169,19.886432619627367 L -98.89751758018708,19.887956541980174 L -98.89765602089258,19.888604234575016 L -98.89778887339874,19.889870922246452 L -98.8976464006722,19.8909555538912 L -98.89757406945131,19.89118358700716 L -98.89717335710264,19.892366257395715 L -98.89705036434778,19.89240484243198 L -98.89519623814208,19.893347167765494 L -98.89719515164087,19.894132717226682 L -98.89675124437936,19.894559450389668 L -98.89635491835415,19.894968570059046 L -98.89607867773088,19.8953770487293 L -98.89588993248526,19.895707574042316 L -98.89206056965887,19.89437610290304 L -98.89163409977782,19.894976982689112 L -98.89076001004086,19.896261104565756 L -98.89003748626025,19.897233649133078 L -98.88980904755792,19.897072794981547 L -98.8895608862709,19.89718985484249 L -98.88937264904425,19.897500677959833 L -98.88935688513064,19.89763393173655 L -98.88927840160093,19.897826365923034 L -98.8891059685977,19.897929906638627 L -98.88882393458987,19.89791492525162 L -98.88876511226069,19.897898208626987 L -98.88867778010683,19.89793529956984 L -98.88855006262338,19.897861534033105 L -98.88846295538622,19.89785405413828 L -98.88831846412039,19.897897526017754 L -98.88821529571229,19.898119266057396 L -98.8881196956854,19.89830598459268 L -98.88802784219814,19.898476788228876 L -98.88790401353643,19.898702508679968 L -98.88777787559496,19.89886417824014 L -98.8876859261038,19.899095525231182 L -98.88739970274418,19.89909350034594 L -98.88673112225402,19.898901910796784 L -98.8863514761444,19.899426739258505 L -98.88470078890872,19.89982344393047 L -98.88401866502188,19.8995979428982 L -98.88390090475056,19.899559012689416 L -98.8837208256892,19.900139426798084 L -98.88272240201073,19.900039506623532 L -98.88270672168458,19.90008824766988 L -98.8825986321296,19.900097481693464 L -98.88347765835181,19.900818774610478 L -98.88316207389894,19.901528760641618 L -98.8819253046245,19.90060255190847 L -98.88188031820829,19.900590055719604 L -98.88157502118904,19.90126966443397 L -98.8804204380994,19.900537592661692 L -98.88079696351183,19.89971454117266 L -98.88075749515797,19.899669434701686 L -98.87873597809288,19.899108420473382 L -98.87825266524301,19.89897597425718 L -98.87806082054045,19.898734650612653 L -98.87131152659624,19.895319557555624 L -98.87090291977887,19.89510595089816 L -98.87061995537381,19.89495802629293 L -98.8661216464656,19.89270278688567 L -98.86602505183069,19.892653190063324 L -98.86589594020184,19.892586896522253 L -98.86564154751365,19.893310283470328 L -98.86149210350789,19.897761531307346 L -98.85862737358659,19.900970904315145 L -98.85583001778552,19.90428015101916 L -98.85126128022013,19.90060545275945 L -98.84119147173479,19.892371789250962 L -98.84095155790592,19.89230885920956 L -98.84152708350292,19.890446352515585 L -98.84155964045067,19.890369478282874 L -98.84219681445587,19.888267367664298 L -98.84257332410888,19.887013171423735 L -98.84356337018362,19.883694789234376 L -98.84399533263316,19.882223281926564 L -98.84403367602599,19.881988256649514 L -98.8432275193878,19.88174936068871 L -98.84245033286543,19.881653570585637 L -98.84186296686549,19.881629215805752 L -98.8400877381387,19.88160278906593 L -98.83665425467844,19.881219523527083 L -98.83818214552052,19.87942053192634 L -98.83248893116433,19.876269391160115 L -98.8324417449056,19.87624073218383 L -98.83156839925665,19.87571029173552 L -98.83115084326363,19.875461497164423 L -98.83020185381153,19.874896046532132 L -98.82936691118442,19.874420072528665 L -98.82930475472362,19.874387967872742 L -98.82832540715854,19.873859935643214 L -98.82723377556263,19.873273029789726 L -98.82336372480113,19.870876023153066 L -98.82305816699726,19.87081429871319 L -98.82095856681319,19.86956211524134 L -98.81713525303115,19.867284148401662 L -98.81623367921416,19.868969378598464 L -98.81552996186329,19.868149277712774 L -98.81482635823794,19.867844417953012 L -98.81417641113147,19.867246498696062 L -98.81378787492461,19.866449100998008 L -98.81367559009782,19.865871746082387 L -98.81316449475176,19.865668733236127 L -98.81284765060965,19.86560480702829 L -98.8124202481497,19.865460507176692 L -98.81187606091837,19.865310155686235 L -98.81151199499712,19.86516990365532 L -98.8112328854673,19.865082625675043 L -98.81097243438933,19.8650317916991 L -98.81074441155317,19.864959138461455 L -98.81046346713184,19.864848042717732 L -98.81020387172973,19.86482206393698 L -98.80992373277621,19.864734043813748 L -98.80959377186213,19.864610757567142 L -98.8093365330866,19.86452469442479 L -98.80876327778792,19.864466266743424 L -98.8079914923642,19.86460851106579 L -98.80750733364322,19.864712408067945 L -98.80686146687796,19.864674879613318 L -98.80652661652405,19.864629234108957 L -98.80619937186322,19.864586255919086 L -98.80609680304292,19.86448728449729 L -98.80599620484523,19.864150265275445 L -98.80590910492134,19.863784376410848 L -98.80579064332704,19.863346335762248 L -98.80565847959095,19.863050721620148 L -98.80531574862648,19.86275985350815 L -98.80506583943186,19.862556907753046 L -98.8048301838416,19.86238100452977 L -98.80461590720475,19.862259168916385 L -98.80446583884877,19.86219781460384 L -98.80413321005094,19.86203740205626 L -98.80370530514335,19.861881677832542 L -98.80336512674901,19.861770803086863 L -98.80311382119085,19.861675302151315 L -98.80293216385887,19.861632807350805 L -98.80249561048281,19.861409740242003 L -98.80229934446756,19.861353721217203 L -98.8020863794021,19.861307717988783 L -98.80184297348066,19.861244012677787 L -98.8016982393488,19.861245417392624 L -98.8014039092368,19.860750542392026 L -98.80117182075529,19.860496102803136 L -98.80094305827983,19.86022053213087 L -98.80083849793098,19.859991096399078 L -98.80067975418973,19.859677696742253 L -98.80029170001612,19.859405243321135 L -98.80000198645756,19.859195323964325 L -98.79961414823784,19.8588907564976 L -98.79903737745124,19.85853384297897 L -98.79808669623472,19.857973507112586 L -98.79742962160861,19.857610705992812 L -98.79719622091243,19.857425623906074 L -98.79720392026564,19.857296831215926 L -98.79517248023839,19.856414696202776 L -98.79484969424811,19.856611070448594 L -98.79458311488881,19.856899311596386 L -98.79428628976945,19.85706282587641 L -98.79404210411522,19.857232911123265 L -98.79376336171055,19.857560156869237 L -98.79360508625479,19.857809754670818 L -98.79304204381701,19.858643740520293 L -98.79272898709505,19.859142918450864 L -98.79252213691494,19.859407051123046 L -98.79233519250576,19.85980000582596 L -98.79192362251591,19.859993055921223 L -98.7912506988857,19.86048758043182 L -98.79098184015346,19.86070924051394 L -98.79067408896064,19.860901616997012 L -98.78972153658084,19.86188684094549 L -98.79079298879623,19.862280646446195 L -98.79002195969304,19.86354558882891 L -98.79065377952855,19.864313167021425 L -98.79021247243584,19.86478157734404 L -98.79106421831004,19.865144011339932 L -98.78949670540625,19.868542693584473 L -98.79115947222304,19.868834600471757 L -98.79142754420553,19.868882696079105 L -98.79129920984107,19.869376323373267 L -98.7911660171192,19.869695917167853 L -98.79116664044736,19.870517085842938 L -98.79162120245857,19.871243945548528 L -98.79212251659932,19.871617033713413 L -98.79294716538352,19.871940495433243 L -98.7939268136033,19.87208409039806 L -98.78750514243063,19.878920960002038 L -98.78057411967644,19.883540547456192 L -98.77901346229689,19.882579833363675 L -98.777821453117,19.881943887798364 L -98.77787444517809,19.881855887044708 L -98.77739808323307,19.881660287063834 L -98.77701079568699,19.881422350544373 L -98.7765929420007,19.8811885974121 L -98.77622447158505,19.881091862616795 L -98.7755670868352,19.880741125892833 L -98.77518613088111,19.88052059148548 L -98.7748538347001,19.880279335119724 L -98.7740003915798,19.879774337821388 L -98.77360997430078,19.8795254081363 L -98.7731328112051,19.879274632627975 L -98.7726990922952,19.87908081981378 L -98.77099823017596,19.878518427786606 L -98.77065935269154,19.87835316760144 L -98.77038533102845,19.8781943350469 L -98.76992850990709,19.87795900822646 L -98.76948667144023,19.877775940383295 L -98.76908190193548,19.877533114340675 L -98.76730983226483,19.87660225434277 L -98.76616817571019,19.876288443680508 L -98.7647134194317,19.87587760723209 L -98.76317230190928,19.87545105334551 L -98.7614509730488,19.87490238096677 L -98.7613556525601,19.874988230813834 L -98.76125332155387,19.87501719362469 L -98.7609852817925,19.875016284068757 L -98.76042597520498,19.87514994489632 L -98.75885540204241,19.87557613298549 L -98.75778186466309,19.875915873810648 L -98.7571339864264,19.8761034297698 L -98.75677682583711,19.87615192152813 L -98.7563560985083,19.87626344896993 L -98.7562063305561,19.87638718251309 L -98.75591946582847,19.876465277835294 L -98.755335760272,19.876580765273744 L -98.75517650446035,19.876686406248165 L -98.75477620942203,19.876775393724063 L -98.75469904547532,19.87679046598799 L -98.75385553073501,19.87695523826785 L -98.7535793804465,19.877026590082757 L -98.75250386694282,19.87695738908046 L -98.75235629240692,19.876981713735038 L -98.7519691198226,19.87691262391122 L -98.75152808182403,19.876861402370373 L -98.75023724380932,19.87657229873653 L -98.74649993741262,19.87533262919982 L -98.74632520196785,19.875286827276682 L -98.7453890929122,19.87494073277784 L -98.7442316244707,19.874567503216145 L -98.74384341240876,19.874489294518256 L -98.74361535459882,19.874408851740316 L -98.74321382596915,19.874264047262432 L -98.74209178942873,19.87374471555294 L -98.74100267161218,19.873292641685175 L -98.73967220454712,19.87270475466501 L -98.73917284303216,19.8725595069786 L -98.73931470940438,19.87222545210939 L -98.73949377771046,19.87133813177629 L -98.7389014862682,19.87124869484537 L -98.73924776407333,19.869553673755995 L -98.73874344349862,19.869461972588333 L -98.73859216989726,19.869439157271106 L -98.73859028542539,19.86941732782666 L -98.73884432340728,19.867234985382698 L -98.73870721828527,19.867156835138825 L -98.73843192768395,19.867078496458973 L -98.73818605249177,19.86700851325102 L -98.73781789598016,19.866903763973742 L -98.73752928433952,19.867121569324645 L -98.73718662677648,19.867347951892935 L -98.73684329228334,19.867608007059538 L -98.73676462737774,19.867596519671793 L -98.73633551648552,19.867533854394544 L -98.73580117135083,19.867555262831765 L -98.7350934951769,19.867405847278487 L -98.73451298321018,19.867212846939236 L -98.7331681474218,19.86627474025307 L -98.73219302060295,19.865736916000518 L -98.73122950360087,19.865298089287233 L -98.73095252143631,19.865177644226158 L -98.72929164208408,19.864973461673817 L -98.72864791816254,19.864790792482214 L -98.72791627705224,19.864340756462653 L -98.72770842752459,19.86397121568587 L -98.72695070267486,19.863819905375156 L -98.72604336764859,19.863567331648696 L -98.72372738037464,19.86317296729653 L -98.72195029734641,19.862872831536002 L -98.7197683000873,19.862499540932973 L -98.71873477599709,19.862288544050937 L -98.71862687081111,19.862343836894496 L -98.71854336397747,19.862337310654308 L -98.71761240732268,19.860434781823542 L -98.71712778223257,19.85864294568567 L -98.71669364937593,19.85837620904874 L -98.71607273453934,19.85718794607494 L -98.71504696504546,19.856236191161262 L -98.71422238100597,19.855413365913254 L -98.71410495247338,19.8555025278747 L -98.71350515335571,19.854784741342716 L -98.71322500608751,19.854278834162084 L -98.71282066705133,19.853801924092064 L -98.71257302590647,19.85397265691177 L -98.71202259026452,19.85438573632157 L -98.71125593283662,19.855104278884166 L -98.70925015921623,19.85378122478213 L -98.70870156027944,19.854744360206155 L -98.70812779687604,19.85575168063241 L -98.70728284410903,19.855352527050727 L -98.7067764046432,19.85511326581552 L -98.70546369126698,19.85449310033686 L -98.70501398819763,19.854280646940726 L -98.7049459871558,19.854285330094513 L -98.70480227939451,19.854295228703506 L -98.70447260580906,19.85431793269197 L -98.70442559456964,19.85431691042199 L -98.70341926859871,19.8545390879648 L -98.7034449387328,19.854570920443837 L -98.70459935019399,19.855581167573714 L -98.70454595191312,19.85576394305558 L -98.70427262786336,19.85619704160775 L -98.70393194652657,19.856736867989575 L -98.70354103622202,19.857356284752978 L -98.70163385051123,19.855699606760563 L -98.70161642317032,19.855672751345622 L -98.7009879558014,19.856063384161036 L -98.70101707312725,19.856094599458746 L -98.70316076080024,19.857958830953194 L -98.70275547569688,19.858601015575292 L -98.70041365097403,19.856573247635136 L -98.700219001728,19.856704563804264 L -98.70007916690606,19.85679889942871 L -98.69994574045508,19.85688891191589 L -98.69989088599658,19.856991418986894 L -98.69912665300366,19.858419863754182 L -98.69874455485521,19.858067332377075 L -98.69852513458231,19.857864865181178 L -98.69815187138406,19.857518769947934 L -98.69813154283719,19.857501680841203 L -98.69796077048703,19.857587142620257 L -98.6962323905215,19.856213243187934 L -98.69614634540358,19.856144842472556 L -98.69563274874596,19.855660443510057 L -98.69466610267582,19.854887116073627 L -98.69356704125833,19.853954920391494 L -98.69256358408305,19.853295677457933 L -98.6905609599922,19.85215879246302 L -98.68974213926303,19.851659781353785 L -98.68912831469852,19.8512856951894 L -98.688858352391,19.85115704363583 L -98.6884380548213,19.850956748682638 L -98.68768474383869,19.8506371448926 L -98.68720965749762,19.850522852685366 L -98.68645881838682,19.850547097551363 L -98.68586696108953,19.850560318093635 L -98.68536755654034,19.85054896270981 L -98.68474501817315,19.850691545387136 L -98.68496550073496,19.85177666203158 L -98.68496243798717,19.852436709835455 L -98.68442090789019,19.853328816274146 L -98.68407999126745,19.854076813669636 L -98.6839395901358,19.85421740130246 L -98.68372893974582,19.854428331357173 L -98.68345752147427,19.854652323625903 L -98.6830984540803,19.854948648769465 L -98.68279635419977,19.855295166891917 L -98.68244524599528,19.85584859539329 L -98.6824731961343,19.855858007245857 L -98.68302253918024,19.856240941481403 L -98.68213507811076,19.857007396207493 L -98.68211634137289,19.857120438052032 L -98.68193250253267,19.857872434733906 L -98.68177467527208,19.85870802781772 L -98.68157924072672,19.85939837237887 L -98.681051333846,19.8603250042445 L -98.68092574443494,19.860543519360697 L -98.68084464083726,19.86065147289892 L -98.67735313229886,19.86096273148498 L -98.67618363243875,19.86136991081177 L -98.67589690732017,19.86176963916322 L -98.67556399751447,19.861921454937228 L -98.67466483756483,19.862420807473626 L -98.6735449667191,19.862850167161554 L -98.67302929489794,19.86301622107948 L -98.67298546171148,19.86284914144487 L -98.67295606546837,19.862725788060533 L -98.67265891967327,19.862834616252695 L -98.67241596902895,19.862244329184257 L -98.67218482292945,19.861901650181082 L -98.67251819090598,19.861623319539532 L -98.67244530885559,19.861478051190687 L -98.67234647816454,19.8613126291501 L -98.67204981238054,19.860959843935326 L -98.6725062571274,19.860622666361614 L -98.67236926050144,19.859503779456798 L -98.67223490355,19.858957622696995 L -98.672171211708,19.85852909400232 L -98.67228118550638,19.858027822078398 L -98.67241344642353,19.857342349296363 L -98.67248545645968,19.857021641609187 L -98.67237387387186,19.85697197100344 L -98.6720862545031,19.856815119184176 L -98.67221824499593,19.855646221644303 L -98.67159977229356,19.85517559334893 L -98.67159926249455,19.8551752031694 L -98.6719671838458,19.854223048546338 L -98.67190850161468,19.853890356586792 L -98.67183974500213,19.853659141397323 L -98.67315895863034,19.852795058535214 L -98.6732276159494,19.852749492089636 L -98.6747470968722,19.851741028654686 L -98.67625641722384,19.85073928087661 L -98.67717946221352,19.850126634387152 L -98.67725301993437,19.850083690612983 L -98.67725353710814,19.85008338825018 L -98.67741393735785,19.849989740783215 L -98.67788298502319,19.84961102959444 L -98.67838048349005,19.849024934772128 L -98.67892293254666,19.848350917584785 L -98.67974634586147,19.847625288647496 L -98.68172235419333,19.845883894034117 L -98.68189152323163,19.84576321136711 L -98.68249526501059,19.84523880855603 L -98.68372945296649,19.84416126752162 L -98.68436382156273,19.843643255011916 L -98.68677218731627,19.841581979027914 L -98.68793389548513,19.840535650367826 L -98.68967596683817,19.839010493797186 L -98.69081089853083,19.838067328608627 L -98.69416117539217,19.835268357788273 L -98.69742933753625,19.83244809949368 L -98.69764124860508,19.832114813479404 L -98.69586848704675,19.830445129698063 L -98.6941062493424,19.828771691009297 L -98.69269035267601,19.827437241283896 L -98.69198254769448,19.826799379870938 L -98.69127811260829,19.826100435022642 L -98.6905603447186,19.825435443034692 L -98.6898670472518,19.824761452030085 L -98.68893370048713,19.82377756953377 L -98.68707516227528,19.822185867635586 L -98.68569448887804,19.820801801690628 L -98.68308572606743,19.818424336679247 L -98.67942703845564,19.81495212128913 L -98.6790763939585,19.814671867833567 L -98.67900019720534,19.81428543693146 L -98.67864987807161,19.81408139482362 L -98.67860132737466,19.814110337853716 L -98.67839866049307,19.814231171795562 L -98.6783467557389,19.81414689315574 L -98.6772086199172,19.813198062305325 L -98.6766279282936,19.81379118238026 L -98.67587540788976,19.813184355716107 L -98.67481831423437,19.814772905153973 L -98.6740756425362,19.814016980858703 L -98.67402094785326,19.814199873278465 L -98.67358450869231,19.81488586486669 L -98.67303008147782,19.81575012537921 L -98.67253173399106,19.816634813204768 L -98.67247718190423,19.816723387234486 L -98.67265713202924,19.817684632690405 L -98.67307544362903,19.81947292372202 L -98.67343334706187,19.820504200082038 L -98.67345419271602,19.82053360996905 L -98.6740268071837,19.82072592100648 L -98.67343956221991,19.821484362785355 L -98.67345194686652,19.82154363077905 L -98.67349594304768,19.821585585335388 L -98.673546752344,19.821634039476816 L -98.67364183605802,19.82188084759466 L -98.67407819219437,19.82295444760337 L -98.67427508939821,19.823741466275763 L -98.67426413858634,19.824357088905032 L -98.67408474155715,19.8252769972597 L -98.67401049086287,19.825910566248105 L -98.6737503756164,19.826780478326572 L -98.67369693293648,19.82726382611966 L -98.67368283552248,19.82797306977323 L -98.67392512934597,19.828857083741546 L -98.67435376560924,19.829708237036975 L -98.67462332101398,19.830997639072045 L -98.67475830939236,19.832050475988662 L -98.67479217695994,19.832396203817318 L -98.67451918783773,19.832395000131985 L -98.67428532313977,19.832176920174334 L -98.67407552609896,19.832166095990846 L -98.6738324912204,19.83220740978685 L -98.67367765585925,19.832321962758346 L -98.67351168536865,19.832478253921202 L -98.6733015688186,19.832624023426586 L -98.6730252800323,19.83272791464597 L -98.6726607545634,19.83277944430401 L -98.67238455007418,19.83284157647443 L -98.67205310495245,19.83291404735091 L -98.67175134957724,19.833111406324193 L -98.67159237958845,19.83324589960957 L -98.6712483290994,19.833587900458603 L -98.6710074537232,19.83381183996554 L -98.67085280492665,19.833953916378242 L -98.67063960690199,19.834061526884202 L -98.6703959953378,19.834199093323914 L -98.6702310028774,19.834307234837002 L -98.66989210947949,19.834426980197307 L -98.66969339475497,19.83439529602019 L -98.66940642555757,19.834321685373936 L -98.66905312214888,19.83427927323962 L -98.66876593799854,19.834310056272162 L -98.66843725543711,19.834418220233403 L -98.66822258147924,19.834546887083647 L -98.66800096247832,19.834684929737833 L -98.66776841586271,19.83472110280109 L -98.66746625771438,19.83472080994031 L -98.66718600266115,19.834672503808285 L -98.66684375119254,19.8346301083687 L -98.66657457455567,19.8346207075767 L -98.66627624979698,19.834693229215052 L -98.6660551683249,19.8347972129719 L -98.66586719166195,19.83491169841297 L -98.6657011542389,19.83509929742907 L -98.6655353039008,19.83519294334506 L -98.66538048279601,19.835297049651924 L -98.6652299768142,19.835388913197484 L -98.6650168505518,19.835350958143522 L -98.6648861135619,19.835300944500904 L -98.66484331617993,19.835133661020116 L -98.66482357847924,19.835002012003066 L -98.66471513395466,19.83488585978846 L -98.66462065003681,19.83488504944478 L -98.66452749970696,19.834958299296606 L -98.66441674386114,19.835047809316432 L -98.66427705077736,19.83520358698937 L -98.66399161707925,19.835254931413772 L -98.66361750949787,19.83519867380053 L -98.66317001995492,19.83519426223606 L -98.66294912264803,19.83511102408149 L -98.66266975764292,19.835045174763223 L -98.6624330512786,19.835008089339993 L -98.66220407744906,19.835046936489242 L -98.66188169882867,19.834851739638612 L -98.66160607447614,19.8347868574518 L -98.66138354363189,19.834700527456253 L -98.66121526568338,19.834651310035046 L -98.66081486072058,19.835031422111673 L -98.66065855369392,19.83487955854193 L -98.66021095443153,19.834444676760004 L -98.65977977426095,19.83390719208533 L -98.65933536531081,19.833499722620758 L -98.65903076197559,19.833303408497397 L -98.65893081624066,19.833017990264704 L -98.65852228816581,19.83268379385683 L -98.65825641436227,19.83241424167679 L -98.6575670482564,19.831701704386514 L -98.65686177636663,19.830934460378767 L -98.65641533565953,19.830389105689246 L -98.65583954079862,19.829602982479454 L -98.65523808936732,19.828891349910776 L -98.65461091284348,19.828101207433775 L -98.65545582378546,19.827550513047115 L -98.6544261508406,19.82706367160733 L -98.65305680723871,19.826503932492212 L -98.65228763145223,19.826286922402037 L -98.6525572770873,19.825471373959424 L -98.6525849444251,19.82539303725067 L -98.65238997249155,19.8253143133115 L -98.65162962858064,19.825007201556907 L -98.6499347591615,19.824269951384778 L -98.65027662658865,19.823473842287257 L -98.65026003878151,19.823425271706295 L -98.64941703379957,19.823064168501556 L -98.64867393730253,19.822661111980107 L -98.64889381973819,19.82170804932342 L -98.64876252655782,19.82166184297138 L -98.64699317305363,19.820881545909884 L -98.64738903092987,19.81998772540024 L -98.6473926095149,19.819971149781736 L -98.64656330960828,19.81954732376042 L -98.64732677549625,19.818381314121197 L -98.64648919154465,19.818133011318537 L -98.64549445862221,19.817889103365495 L -98.64522872531997,19.817737129395837 L -98.6447639159431,19.81764099215992 L -98.64369884640104,19.817522506291315 L -98.64441863079257,19.814598731569422 L -98.64433638359506,19.814437953106964 L -98.64220442124507,19.813509421960916 L -98.64235490043771,19.81265230267759 L -98.64207674677279,19.81262986254259 L -98.63990310857878,19.81196444122052 L -98.63991280821381,19.811611992262296 L -98.63992953228299,19.81100430519463 L -98.63976404178771,19.810872539990505 L -98.63951201234875,19.810671870261725 L -98.6394230747846,19.810349103565027 L -98.63925353986306,19.809926340159816 L -98.63911503068604,19.8097397201903 L -98.63880033876276,19.809528665703905 L -98.63861810386032,19.809231243461515 L -98.63835406554198,19.808807711846168 L -98.63797544220677,19.807576238787583 L -98.63828223170023,19.80553155851048 L -98.63859183874705,19.80349968069184 L -98.63873379458373,19.80246823243499 L -98.63876179492445,19.802107627189596 L -98.63877044825843,19.802014653566243 L -98.63868851935628,19.801756590134733 L -98.63871995784875,19.80123070579888 L -98.63884967936116,19.80117568378814 L -98.63878785088438,19.800769637492063 L -98.63617285288036,19.79885043441958 L -98.63613902873091,19.798819915668464 L -98.63255816612136,19.79643316286003 L -98.63243620199175,19.79641264051584 L -98.63216490494897,19.796451559459037 L -98.63031524327087,19.795960516091544 L -98.6305955617281,19.795598159208378 L -98.62973691866509,19.795810522865278 L -98.62799279313288,19.795202793522286 L -98.6271492573944,19.794982682673567 L -98.62591076544905,19.794529299819576 L -98.62356193070845,19.79388869940953 L -98.62361360073326,19.793602034969737 L -98.62428742242855,19.790197462823865 L -98.62431386246732,19.790063866969398 L -98.62526104163754,19.785182530080757 L -98.62406618035638,19.785682709593456 L -98.62201668878632,19.786404075033325 L -98.62048288434367,19.787022255415355 L -98.61958641205473,19.78728913021917 L -98.61841222547442,19.787783068519214 L -98.61747561348596,19.788051216510045 L -98.61612003109602,19.787629551258817 L -98.6140237442285,19.78698694367689 L -98.61285444004108,19.78664298915461 L -98.61302085458709,19.786358449521117 L -98.61272949627377,19.786454783822553 L -98.61223370568236,19.786368412506498 L -98.61195057353727,19.786022049189604 L -98.61223637634676,19.78526891699733 L -98.61245347223455,19.784953954750325 L -98.61265419141799,19.784743761277486 L -98.6129893372585,19.784407215530123 L -98.61342860791277,19.78405143078251 L -98.6134121967793,19.781672716249528 L -98.61181879691347,19.779565852890826 L -98.61130231722535,19.777986218691737 L -98.60960391676988,19.777108928380304 L -98.61166368066293,19.77412895061611 L -98.61045723665724,19.773496979750913 L -98.60674235288235,19.771806575650317 L -98.60467023576204,19.770642498931743 L -98.59942510564217,19.768229135112914 L -98.60059801375331,19.764922791482473 L -98.59915452530562,19.765244167052543 L -98.59686665562256,19.76583976139263 L -98.59689402560593,19.76576722191652 L -98.59690843471923,19.765744201010033 L -98.59710667768334,19.765427496130503 L -98.59768413535785,19.764442830705846 L -98.59826158661645,19.763458162299177 L -98.59883902945425,19.76247349449221 L -98.59941646592178,19.7614888218917 L -98.59927658630767,19.761385810186013 L -98.59946547773326,19.761160134309694 L -98.60002570233966,19.76019739093622 L -98.60058592096117,19.759234644667803 L -98.60114613163827,19.758271897273826 L -98.60170633633058,19.757309146985506 L -98.60190229847112,19.756731050115217 L -98.6020893873681,19.75615076345378 L -98.60230229865392,19.754971757579593 L -98.60238753288112,19.754239877093333 L -98.60240883134145,19.753657052688702 L -98.60240096134557,19.75265533294182 L -98.60195834453188,19.752749341798918 L -98.60158676240809,19.752828264148736 L -98.60173180538,19.751699630709343 L -98.60248583987577,19.75153529998514 L -98.6026773653265,19.749461507418545 L -98.6027923778762,19.74773260471533 L -98.60292689959536,19.747788076350307 L -98.60314093097244,19.74511592256139 L -98.60317888054911,19.744642116519916 L -98.60357554041674,19.740365339518867 L -98.60358379469055,19.74026295240159 L -98.60363149269567,19.738948764227285 L -98.60387458441258,19.735967209951824 L -98.60376940733465,19.73536600352959 L -98.60318482800072,19.73470491116311 L -98.60305210959565,19.734367938097538 L -98.60321306700688,19.732646877541804 L -98.60456142581717,19.732939305139602 L -98.60489407107936,19.732163368170408 L -98.60574698808308,19.730173789128557 L -98.6060555232019,19.729454060114822 L -98.60631317210469,19.728853029672045 L -98.60711859204967,19.72697415296449 L -98.60767960734498,19.72566539266692 L -98.60795524351616,19.725379076446607 L -98.6081017087145,19.725075037190035 L -98.6081358968375,19.725187883241887 L -98.60865737675418,19.725856889214473 L -98.60931215129415,19.726513419957513 L -98.60987554722273,19.72706218417296 L -98.61063441251882,19.727599634764204 L -98.61116237528952,19.727877714001917 L -98.61199201123961,19.728377928691714 L -98.61290307487111,19.728724954492282 L -98.61397681133204,19.729145694199833 L -98.61518024029088,19.729415100883717 L -98.6158990318241,19.72948295342383 L -98.6159845252034,19.729308778996813 L -98.61622635283383,19.72854122112903 L -98.61907177247181,19.727266890266424 L -98.61980805139987,19.726931992381402 L -98.62099534327963,19.726772076861977 L -98.62123621664877,19.72706632143437 L -98.62128379122855,19.727125191732856 L -98.62149451703016,19.727046590588554 L -98.62290885221145,19.726297544875944 L -98.62317971403597,19.72602255192106 L -98.62377969872946,19.725574343701386 L -98.62446149130793,19.726495417941997 L -98.62470304017262,19.72742449487871 L -98.62574242401062,19.726609049291607 L -98.62693238675124,19.725647099620147 L -98.62626752418258,19.724859370600885 L -98.62630041783125,19.724832339581926 L -98.62621425836858,19.724712400408084 L -98.62668314041521,19.72444010568896 L -98.62751519438787,19.723954021569714 L -98.62746926545647,19.72374380258175 L -98.62750709402472,19.723393710847333 L -98.62744553715389,19.722975616039147 L -98.62751582964638,19.72276793314068 L -98.62735219049885,19.722385752209995 L -98.62734905674296,19.722229863935535 L -98.62763637626404,19.721821595806357 L -98.62789279391421,19.721822180670912 L -98.62819224161811,19.7222769657329 L -98.62839437203345,19.722313579871166 L -98.62857557492642,19.722359164909303 L -98.62876531074494,19.722571972112615 L -98.62920114597918,19.72264524873984 L -98.63064366992765,19.721322365854796 L -98.63118931810813,19.72136427158808 L -98.6315247514052,19.72148023597826 L -98.63158624788787,19.721663209720425 L -98.63161598474197,19.721989510243738 L -98.63156543177153,19.722188370784366 L -98.63163221761356,19.722285639898057 L -98.63154761957034,19.722749576024572 L -98.63165744792589,19.722974002535818 L -98.63181112232377,19.72298105788294 L -98.63198975950193,19.722912248519275 L -98.63225372736365,19.722659745653147 L -98.63256943750565,19.722492083290394 L -98.63280652613287,19.722325966423895 L -98.63292433350519,19.722235864870097 L -98.63279529814334,19.722165391092485 L -98.63264824117546,19.7218216526854 L -98.63252682492946,19.72167905865914 L -98.63225094761692,19.721332774256428 L -98.63201307365196,19.72083068982765 L -98.63180414394711,19.720197642931215 L -98.63179236334915,19.719646371117673 L -98.6316917388253,19.71913104208649 L -98.63145911938517,19.718665125936145 L -98.63085373290593,19.717719403376858 L -98.63345968334214,19.715990209212947 L -98.63346158762467,19.714964529632496 L -98.63028688511757,19.716852847141492 L -98.63002635752628,19.716104449872066 L -98.63013119855506,19.715716453769662 L -98.63233373869564,19.71379171794083 L -98.63247573822369,19.7132927612329 L -98.63237240831435,19.71313890331711 L -98.63242649955791,19.712951507412523 L -98.63224723830777,19.71263254893437 L -98.63225792889243,19.712399874710147 L -98.63211968036468,19.712352125792446 L -98.63189068436571,19.71211891211586 L -98.63188180759734,19.711856826349955 L -98.63164429531265,19.711668764091545 L -98.63154827915591,19.711670805394125 L -98.63142735041849,19.711609534952117 L -98.63149776745092,19.711573554760953 L -98.63142971370671,19.711388154256305 L -98.63127857409268,19.71146235282758 L -98.63117975887333,19.71140791265836 L -98.63118341607338,19.71135595362273 L -98.63120085347478,19.711102967606603 L -98.63099416212371,19.710989548673112 L -98.63096510245774,19.710899101011034 L -98.63084964057292,19.710819770369493 L -98.63083976125995,19.710727120540728 L -98.63062722649248,19.710548168461234 L -98.6304596438561,19.7103286374932 L -98.63021709044598,19.71024901634318 L -98.63018089090751,19.710187946292596 L -98.62999565028647,19.710083599187513 L -98.6299958646342,19.70999773911532 L -98.62973299397541,19.709726036978825 L -98.62943357295359,19.709720853189335 L -98.62947201815439,19.70961475646144 L -98.62994931293356,19.707916908306938 L -98.6299649586584,19.707844661669537 L -98.63010174407746,19.707745558398265 L -98.63084744249427,19.707184694437352 L -98.63090060438826,19.7070867593585 L -98.63088966056543,19.706029937496666 L -98.6307351791268,19.70537314582102 L -98.6307932437511,19.704704409596598 L -98.62991837640662,19.70411401613871 L -98.62971376492344,19.703567977596677 L -98.6299426199091,19.70346223628909 L -98.62901537956581,19.702689755409782 L -98.6268214215131,19.700861731445382 L -98.62731363202458,19.700032370068666 L -98.62513776595571,19.69800430197857 L -98.6244549976119,19.69736306682085 L -98.62438831304293,19.697157680073733 L -98.62402011573147,19.69689339472573 L -98.6239153946121,19.696408045922748 L -98.62406929821499,19.696133129186116 L -98.624844286741,19.695682042353635 L -98.62506640570822,19.695073130504742 L -98.62517695566557,19.694528349964422 L -98.62521821212802,19.69412080921353 L -98.62520745354621,19.693065762935404 L -98.62523966186865,19.69277173627449 L -98.62531108789382,19.692566405307602 L -98.62520146824022,19.69195297948313 L -98.62511027685395,19.691374633495347 L -98.62553544571658,19.690900681182303 L -98.62603446174592,19.69048333204291 L -98.62655686308891,19.690098698316646 L -98.6277246354358,19.689330248947606 L -98.62861568954419,19.688795195048243 L -98.62905672621613,19.687957886685933 L -98.62937253343402,19.687275799914346 L -98.62946366203438,19.686815244090432 L -98.62940016361502,19.686237571425707 L -98.62927223031355,19.6855365118356 L -98.62924303195807,19.68498808239629 L -98.62955761303414,19.684018404417177 L -98.6298341806339,19.682611849516185 L -98.62989204161919,19.68159581225614 L -98.62992997947622,19.68119293237826 L -98.62989413933175,19.680684782359602 L -98.6300499303073,19.67967385338945 L -98.63010694413092,19.679025735019632 L -98.63034909696162,19.67834295628868 L -98.63074057822007,19.67799628508519 L -98.63101861051382,19.6777157430317 L -98.63108527787848,19.67744324049706 L -98.63135214901466,19.677006680291743 L -98.63200497456621,19.676634272047952 L -98.63222799630704,19.67638201999763 L -98.63221422540913,19.67591869382957 L -98.63204725378291,19.67515203182794 L -98.63223710678338,19.674526355647657 L -98.63254445449225,19.67417849506035 L -98.63284114019527,19.674136983192227 L -98.6335226842688,19.674405124863295 L -98.63415987356399,19.674617011760684 L -98.63458919765314,19.674940788877915 L -98.63497431801278,19.67513812294486 L -98.63543428802373,19.675026743920824 L -98.63615118732248,19.67503464630546 L -98.63701168219526,19.674867915108894 L -98.63721999210291,19.674559469457044 L -98.63779922535234,19.674167537747078 L -98.63814077715722,19.673957636828618 L -98.63846670404388,19.673690440355706 L -98.6390176075034,19.6731170404645 L -98.63931494965152,19.67278069312595 L -98.63949412850748,19.672233520399608 L -98.63946591695859,19.671587653481854 L -98.63970371714602,19.671349460951202 L -98.6398970946994,19.671083101786024 L -98.63961593775944,19.67081579245894 L -98.63920116465736,19.670618409100715 L -98.6388711249985,19.670357680290696 L -98.6387166634518,19.66981891783712 L -98.63837339473237,19.669222450682994 L -98.63792955470376,19.668973248885727 L -98.6375883603116,19.66902871873341 L -98.63714566108122,19.66946213005655 L -98.63619208634947,19.670064805504655 L -98.63580602289528,19.670288654420084 L -98.63567195501734,19.6705551298956 L -98.63549352784747,19.670765357744802 L -98.63525655083279,19.670638520605266 L -98.63519777402684,19.670399734615817 L -98.63494666433158,19.669964005408797 L -98.63477027696024,19.669275720424228 L -98.63451974578791,19.668587282981314 L -98.63428055410205,19.668206294845387 L -98.63407923883354,19.668072706994415 L -98.633222032699,19.668590154389843 L -98.63304430902387,19.668491514740317 L -98.63292641666123,19.668168371521475 L -98.63239305501817,19.66795668880542 L -98.63212664161692,19.667867797737475 L -98.6320967037372,19.66785780929309 L -98.63191936780399,19.667590696547478 L -98.63178597010669,19.667562346598007 L -98.63143007643896,19.6675616155902 L -98.63105980671432,19.667364304856402 L -98.63093737850299,19.6672318303718 L -98.63002717462678,19.667310313417225 L -98.63014504157414,19.666697705786106 L -98.62866451578648,19.665294575578013 L -98.62776212787465,19.6651408600411 L -98.62791185331281,19.663560248239143 L -98.62791537557828,19.663535081021113 L -98.62751144704657,19.663467555545544 L -98.62593618020816,19.663087849008697 L -98.62506602972284,19.663109864221006 L -98.62460011332524,19.663710103861227 L -98.62442555693654,19.663675811289806 L -98.6237160410968,19.663531927517404 L -98.62332063492254,19.663451072416184 L -98.62281751843791,19.663142659629656 L -98.62208702238931,19.662698074914434 L -98.62195040250998,19.662566611170266 L -98.62120106362595,19.66176424095474 L -98.6206634642918,19.66150766770401 L -98.62042274832595,19.661458760264246 L -98.62026936357611,19.66140025920887 L -98.6196923459457,19.66117250614809 L -98.61967057040083,19.66116391586286 L -98.61990050420707,19.66107165768236 L -98.62054567554273,19.661024619944406 L -98.62087013020682,19.660862490154237 L -98.62118517215426,19.660596875460882 L -98.62132372149466,19.66035580798038 L -98.62205675918896,19.659080875254563 L -98.6223450150277,19.658371956028144 L -98.62219128935611,19.65799117642881 L -98.62222083871863,19.657659716726283 L -98.62313749748215,19.656781459633898 L -98.62430646220665,19.65613292373208 L -98.62444870332583,19.655837836485016 L -98.62477348164323,19.655764734103563 L -98.62484388258008,19.655724692877286 L -98.62511350871,19.655560034593798 L -98.62548729442538,19.655597765593118 L -98.62636689252533,19.655677155636567 L -98.62674862402115,19.655806539002477 L -98.62743626108744,19.65604547285712 L -98.62750185150887,19.656124786492477 L -98.6277307741605,19.656436090780932 L -98.62818448302568,19.656573903587947 L -98.62842189133991,19.656250405972646 L -98.62876955101942,19.65605891251345 L -98.62888492330966,19.65607939055763 L -98.62919704158236,19.65646242424372 L -98.62937501587831,19.656676939554757 L -98.62949489624845,19.656736032089157 L -98.63034023072267,19.65640807748371 L -98.63070955434345,19.656247934787178 L -98.63113860191312,19.656119195730096 L -98.6316282246104,19.65597565187476 L -98.63205363512259,19.655936420393413 L -98.63269095911456,19.65572416880555 L -98.6329778478732,19.655530037651477 L -98.63319983585407,19.655505583928655 L -98.63403138642023,19.655514511301057 L -98.63454052933382,19.655525832793348 L -98.63494913789908,19.655537865396457 L -98.63518236288736,19.65543003953144 L -98.63564524759614,19.65522809870514 L -98.63580940545062,19.655059422213764 L -98.6361952536854,19.654670410910533 L -98.63630454475742,19.654522843012092 L -98.63650704031014,19.654265019174908 L -98.6369911819952,19.65422493985808 L -98.63697971150293,19.654243721027377 L -98.63737602256555,19.654172732456967 L -98.63782155577323,19.654274824023187 L -98.63810888736143,19.65407837655333 L -98.63829346330616,19.653704466120505 L -98.63849378781157,19.65353982104856 L -98.63870831809962,19.65341434099593 L -98.63876891448596,19.653398398354412 L -98.6389775953842,19.65352510033942 L -98.63923341697415,19.653002152829785 L -98.6392968096148,19.65293458844134 L -98.63932031903938,19.652824505866924 L -98.6397357657725,19.65197519773049 L -98.63962209616007,19.65197362048547 L -98.6397206912031,19.65182158540223 L -98.64007218041525,19.651672666165556 L -98.64042381876423,19.65145725049878 L -98.64067048375225,19.651075376254276 L -98.64082898500175,19.65085957090627 L -98.64095241030365,19.65062707477961 L -98.6410406784757,19.650411128356673 L -98.64125177993205,19.650228678926542 L -98.64149002444658,19.6499969628448 L -98.6414343708343,19.649801595885698 L -98.64160846330564,19.649490427057014 L -98.64194086933263,19.649490151763697 L -98.6429044848742,19.649201239067736 L -98.6435541527867,19.649185904347096 L -98.64381413683826,19.648837799345824 L -98.64418658035746,19.64883089774791 L -98.64456807165911,19.64926752926907 L -98.64487443800074,19.649285950915264 L -98.64564905680983,19.64973235081678 L -98.64644440239256,19.650149169225905 L -98.64678793635295,19.650325543825577 L -98.64716030417743,19.65054702430478 L -98.64733751734454,19.65072193412428 L -98.6475652219899,19.650971750818666 L -98.64765379345974,19.65100969955778 L -98.64791605248735,19.651122058468705 L -98.64817956229815,19.651056077943043 L -98.64854838642634,19.65100692526611 L -98.64891839095449,19.650980503161303 L -98.64926244444041,19.65127024536867 L -98.64944557706066,19.651424715943858 L -98.64970105910817,19.65167810856408 L -98.649925154595,19.651877724837053 L -98.65030188676963,19.652057696270916 L -98.65056500276287,19.65217458201458 L -98.65063418612833,19.65265683235437 L -98.6505807208497,19.65302247033777 L -98.6507029428211,19.653338577634063 L -98.6509660945696,19.653438835194137 L -98.65133510347958,19.653306554038625 L -98.6519418762493,19.653163224070394 L -98.65195987435882,19.65320879543062 L -98.65225967754525,19.653608312746794 L -98.65293322087989,19.65421865562874 L -98.65310665978612,19.654315003885696 L -98.65481233816647,19.651183530359535 L -98.65554582632923,19.65047226355952 L -98.65797949206886,19.65374529675911 L -98.6580758028373,19.653749341371785 L -98.6581210218407,19.653967420374087 L -98.65945291428658,19.654136168266614 L -98.65975969127962,19.654330078382312 L -98.65996181967294,19.654318911236867 L -98.65994887238625,19.654414621158942 L -98.66121573541402,19.654781119842394 L -98.66203817678503,19.65529672183098 L -98.66248762829025,19.65581352289017 L -98.6628868434524,19.65618914482248 L -98.6635595067761,19.65654032694645 L -98.66435701335512,19.657032442445722 L -98.66475733791789,19.65771429561708 L -98.66481021223046,19.658585725918556 L -98.6646885084432,19.659316381276565 L -98.66461662172945,19.66007043243967 L -98.66468099621866,19.660405324691553 L -98.6647433310351,19.660729613408932 L -98.6651189705516,19.661458659323095 L -98.66536248743166,19.661608285141444 L -98.66553025825583,19.66074046583929 L -98.66517160731732,19.660353469506504 L -98.66549588645391,19.659789272562968 L -98.66600559433586,19.660373095821814 L -98.66620898136533,19.660649098665203 L -98.66670802326395,19.66090306363587 L -98.66579143916019,19.66187184988316 L -98.6664359898138,19.662267881249015 L -98.66709344371296,19.66191687860162 L -98.66777774484726,19.661335941048126 L -98.66739855929782,19.66086593572137 L -98.6669442430458,19.66057139766117 L -98.66714145037528,19.66037293706935 L -98.667641795744,19.659994314123566 L -98.66863606056029,19.659212202834773 L -98.66866434344786,19.659101555181945 L -98.66847183651902,19.658773611532226 L -98.66822856969084,19.658504314458998 L -98.67005481871733,19.658676133466383 L -98.67024513079696,19.657337500638913 L -98.6703352600832,19.65559003776531 L -98.67069541373739,19.654551742887964 L -98.67073084833855,19.653855182022724 L -98.6707558068351,19.653283341100256 L -98.67041423072635,19.651222296017007 L -98.66987521121747,19.65009395205899 L -98.67001452016959,19.649886357371074 L -98.66982353023823,19.648546282610322 L -98.66944980362756,19.64705676223312 L -98.66772706767622,19.644635848400206 L -98.66763140299969,19.64435561730262 L -98.66814223423142,19.643680868641972 L -98.66834096169279,19.64342738914533 L -98.66855085049497,19.643358823303736 L -98.66887415093375,19.64314994202504 L -98.66938039418548,19.64266197631038 L -98.6694581923991,19.642306245164757 L -98.66941026578232,19.64218804305981 L -98.66902976816169,19.641125594985432 L -98.66927277131973,19.640488213915454 L -98.67045160712306,19.63875140011977 L -98.6720366471493,19.636729479424936 L -98.67181726690295,19.63616933161199 L -98.67169709729231,19.6356492173675 L -98.67171615038421,19.63514381486739 L -98.67163692027725,19.634567023505515 L -98.67152885180494,19.633724944743722 L -98.67148161395303,19.633127336753592 L -98.6726159224555,19.631439494990467 L -98.67265929425746,19.630227176247047 L -98.6727163732828,19.63006479534809 L -98.67215542159495,19.628584246709952 L -98.672107772397,19.628376942162895 L -98.67203887247655,19.628020670680737 L -98.67197383690848,19.626652810237776 L -98.67221314606928,19.626315715439553 L -98.67181550314722,19.625720540554756 L -98.67198754033167,19.62566193880368 L -98.67239572735741,19.625147575338076 L -98.67160887245133,19.625164223154535 L -98.67139116404337,19.624919819753835 L -98.6708169304918,19.625009139618882 L -98.6705491095411,19.62482791941703 L -98.67009477738938,19.623415065198273 L -98.67013216460117,19.623283645073222 L -98.6699123935768,19.622386637499115 L -98.66962323575595,19.6219818403093 L -98.66913194670713,19.62148842161608 L -98.66912453256529,19.621337034998298 L -98.66901684949366,19.6206432605917 L -98.66898172224876,19.620001572420207 L -98.6686764847345,19.61917529942043 L -98.66792212958316,19.618162855546256 L -98.66717991345773,19.617962670466635 L -98.6668444097494,19.617636725876256 L -98.66662589455632,19.617507540242062 L -98.66637941491723,19.617396383686632 L -98.66574513656744,19.61711279498522 L -98.66498360275526,19.61643135741997 L -98.66467428949905,19.61585466689482 L -98.66440964093982,19.61557855227678 L -98.6638260384876,19.615053321988817 L -98.66413778700837,19.61473083037974 L -98.66343939210556,19.613782912134567 L -98.66381542181063,19.61355090890872 L -98.6631317709552,19.612991602611142 L -98.66193164061372,19.611692547274114 L -98.66174660139124,19.610112995231894 L -98.66269100567445,19.609098108160484 L -98.66284933478799,19.608944771275834 L -98.66426976981874,19.607429214917104 L -98.66471019197057,19.606972486199602 L -98.66476303243316,19.607016151502524 L -98.66487284991807,19.606908834405953 L -98.6655004158759,19.606197907534654 L -98.66557709814012,19.606153740298204 L -98.66622966308583,19.605777961223502 L -98.66632385512365,19.605006741492584 L -98.66643430097395,19.604436887507994 L -98.66659860910958,19.604417283765716 L -98.66662077792074,19.602988321445007 L -98.6679913463795,19.60212216488037 L -98.66855159121825,19.601371960408997 L -98.66945294413294,19.59985064415042 L -98.66943428319462,19.59944106348365 L -98.66953627477896,19.599237935456767 L -98.6697937546857,19.598725129757774 L -98.6700846257971,19.598483050198944 L -98.67025938653028,19.598437612360634 L -98.67021889151613,19.59862565247962 L -98.67030212643851,19.598634252420837 L -98.67094688791722,19.59860251789965 L -98.67111391988732,19.59867318264714 L -98.67135399260714,19.59874931360403 L -98.6715291475111,19.598771148322193 L -98.67173746415982,19.59868610040319 L -98.67199655035833,19.598648970932214 L -98.67219612140903,19.59865084052452 L -98.67231606484721,19.59853506935538 L -98.67240550412879,19.59836771009379 L -98.67255410225741,19.598367980516787 L -98.67271189926423,19.598412242163256 L -98.67283166445445,19.59851330651199 L -98.6728042237189,19.598685053195876 L -98.67295283616552,19.598768002534104 L -98.6731503104743,19.59878660891863 L -98.67322016907276,19.598814499946066 L -98.67390259542205,19.599325886950602 L -98.67461653170433,19.599573311695867 L -98.6753715071302,19.59955089729641 L -98.67818357329878,19.59997089175135 L -98.67852537184349,19.59979061232054 L -98.6813799479713,19.598284938365687 L -98.68135636042287,19.597648738136808 L -98.68157281198013,19.596151699413234 L -98.68163235757025,19.59613263549134 L -98.68153306243383,19.595799497550853 L -98.6816943746061,19.59579285366428 L -98.68178238102604,19.595708223847137 L -98.68178561163742,19.595575914655708 L -98.68158155337994,19.59513355059625 L -98.6820803028523,19.594260360749086 L -98.68204245700815,19.594082429479215 L -98.6818894928061,19.593557704544484 L -98.68171011330726,19.593059173998007 L -98.68140599750052,19.592580641316932 L -98.68151246164723,19.587920216938773 L -98.68745321957472,19.5858398881702 L -98.68911309868668,19.585853109032065 L -98.69077348775981,19.585866315582553 L -98.69243200500489,19.585879488365524 L -98.69267147267746,19.58519804858022 L -98.69286773843814,19.584383607273043 L -98.69300661036462,19.58366353639029 L -98.69173436710216,19.583409668341925 L -98.69124122398668,19.58300734062527 L -98.6911068860066,19.58197576587159 L -98.69101572228449,19.58127568656847 L -98.69115392638327,19.579433866771875 L -98.69062118454976,19.578894007586076 L -98.68911017044948,19.576859434847904 L -98.69202073437326,19.575909633717046 L -98.69326710557974,19.57607746129555 L -98.69328620360749,19.576045970038773 L -98.69420774406777,19.574545823918974 L -98.69520909563052,19.573086094243543 L -98.69563721475545,19.57245020023819 L -98.69457789737609,19.57217698376034 L -98.69480683262324,19.570641916336143 L -98.69582196563692,19.570754612606784 L -98.69742637488427,19.570921164351226 L -98.69815266372716,19.57098680861837 L -98.69924275718083,19.571094284661047 L -98.70021561416242,19.571201945665376 L -98.70085060456744,19.57114565222597 L -98.70126828373952,19.570944239139898 L -98.70114561309353,19.570506762869126 L -98.70092545115881,19.56904294309238 L -98.70133582986348,19.567468991024498 L -98.70130439254359,19.567366855740534 L -98.70138162777361,19.567253784389663 L -98.7019311100204,19.567361769982952 L -98.70219370157955,19.5662398809649 L -98.7017640076038,19.566061563321092 L -98.70200895370131,19.565262417559246 L -98.70159674215603,19.56515168710462 L -98.7012142712572,19.565935822824787 L -98.70072102056442,19.567162630300512 L -98.6995068691007,19.567150638567554 L -98.7000910775584,19.565441429002405 L -98.70135364846713,19.563688522885514 L -98.702062078781,19.56374828834441 L -98.70305911696896,19.561878845197 L -98.70441057267249,19.561344877253024 L -98.70446353703831,19.561323422426167 L -98.70384174447291,19.559091607486224 L -98.70604429186095,19.55933625551528 L -98.70616302953498,19.55880680680701 L -98.70619612833126,19.55865917023084 L -98.70623224074535,19.558498161378182 L -98.70646260436611,19.557470671825715 L -98.7064884978373,19.557355162656368 L -98.70656336709489,19.557021217010792 L -98.70669282053773,19.556443837050097 L -98.70813173632102,19.55480557621114 L -98.70616583548217,19.552706354247846 L -98.70546289497877,19.5524770339246 L -98.70593612416152,19.551749784494294 L -98.7077170271693,19.549012887701238 L -98.70839858657527,19.547599690853705 L -98.70611944325336,19.54710691168245 L -98.70459489440877,19.545894815208726 L -98.70307563468349,19.54654597406956 L -98.70161076273789,19.545813638069408 L -98.70144753690279,19.545258584026666 L -98.70234898932563,19.54289019459227 L -98.70234216562265,19.54026826254995 L -98.70217618237052,19.539222447277748 L -98.70186740962475,19.53811367726422 L -98.70157714033506,19.537084510432376 L -98.70002110410077,19.531311769930078 L -98.6988383110831,19.53028206810055 L -98.69814724351185,19.52967682777215 L -98.69593517679641,19.528126879035483 L -98.6954231516889,19.52781622635216 L -98.69419486526118,19.52725401028627 L -98.69352981771648,19.526950077788015 L -98.69311620081419,19.52633473478032 L -98.69273455446705,19.525766950838342 L -98.691832304088,19.524949472595512 L -98.69169986770265,19.52509008975877 L -98.69016871377617,19.52385861310248 L -98.69018002723415,19.5237494823174 L -98.68546265775612,19.520540496229344 L -98.6844318146128,19.51981935275662 L -98.68191240136291,19.518010706516357 L -98.67817089782305,19.512098379727373 L -98.67713815088817,19.506876166595465 L -98.67645571221406,19.502561521279752 L -98.67567263338819,19.499461254549946 L -98.67486344922222,19.498043539670228 L -98.67265931882304,19.495792011294633 L -98.66805200998876,19.493412911314728 L -98.66545974609377,19.490452452258964 L -98.66408743553289,19.48911056692764 L -98.66039770870212,19.485502461762238 L -98.66040536494718,19.485467843999672 L -98.6615047080228,19.480496841331938 L -98.66102186193075,19.478433120472143 L -98.65434736896916,19.471062076398358 L -98.65322655538678,19.465986223857875 L -98.6582204067336,19.46118281266984 L -98.66143520731114,19.458090356219582 L -98.6590639270307,19.455638283257862 L -98.65709610084572,19.453603320322603 L -98.65607375881054,19.452567538222507 L -98.64926118747543,19.445537866153977 L -98.64284437665985,19.439399205256247 L -98.64128463431565,19.437711141418472 L -98.638472000361,19.434666965294785 L -98.63482205067466,19.431241875831464 L -98.63491315180357,19.430982176698606 L -98.63489328753775,19.430627648584306 L -98.63467576476373,19.42991390197611 L -98.63469711114173,19.429548097214603 L -98.6351547159291,19.428753643802885 L -98.63572441116536,19.428230523611738 L -98.63603341713944,19.427864954984305 L -98.63647061484652,19.427287211757424 L -98.63678027699387,19.426696097404793 L -98.63707190155428,19.425967150109734 L -98.63738612588223,19.42598795526948 L -98.63771902390582,19.42644326760642 L -98.63797562974902,19.427521134511085 L -98.63815684974482,19.428026897764997 L -98.63832502334776,19.429002801721385 L -98.63860171888166,19.42971477484592 L -98.63877329668556,19.429992327994274 L -98.6389407553073,19.430106984021215 L -98.6391136762737,19.42999989701789 L -98.63935384429313,19.429631762606014 L -98.63944961387466,19.429245793293457 L -98.63967390042276,19.428848812054653 L -98.63992543239094,19.428410094339053 L -98.6401169030177,19.42802330280778 L -98.63997558278935,19.427464871274964 L -98.64011364343511,19.427108638903416 L -98.64053179525365,19.427386595276058 L -98.64097577971691,19.42768171996569 L -98.64122902299768,19.42705801814973 L -98.64172556972547,19.427296349123363 L -98.64269158873624,19.42780936823569 L -98.6436824902019,19.42896988535608 L -98.64536540190667,19.430568491480194 L -98.64607499019927,19.431018894651018 L -98.64662676398868,19.431419113045653 L -98.64709819715964,19.43246773911565 L -98.64775489986037,19.433017830217743 L -98.64833286447269,19.433492906252688 L -98.6488321164851,19.433843117112648 L -98.64948203039165,19.434192673174763 L -98.64972585033664,19.434343761556107 L -98.65020316499374,19.434638844343727 L -98.65057320069751,19.434655768218693 L -98.65018585198699,19.434002095362416 L -98.64988259904254,19.433517528584296 L -98.6495166338605,19.433019629545473 L -98.64924004052223,19.432475920519384 L -98.64875749130961,19.43159316008242 L -98.64936306714192,19.43169882621322 L -98.65073044261335,19.432099471753524 L -98.65222070832654,19.43234164268735 L -98.65296485015742,19.432329220365837 L -98.65490036075568,19.432321945356808 L -98.65598130212297,19.432545711572317 L -98.65662528569901,19.432473153656765 L -98.65845557115779,19.432297347988012 L -98.6601783763235,19.43209357543391 L -98.65976825361011,19.43044691400215 L -98.65896265570703,19.429775969089427 L -98.65802329753319,19.428754111545153 L -98.65742046360441,19.427605374298295 L -98.6570263194056,19.42681215198697 L -98.65664409720456,19.425979363289233 L -98.65637212969898,19.424886761304446 L -98.65637437095957,19.423820680513888 L -98.65640327135443,19.42311867910802 L -98.65634849016097,19.422092571322736 L -98.65677998848942,19.420653110441517 L -98.65764017466134,19.419103665427844 L -98.65838302609949,19.417775577446122 L -98.66043380238702,19.41470685917617 L -98.6608588950043,19.41422443216055 L -98.6608453932402,19.413787352057646 L -98.6608279441044,19.41351110808057 L -98.66088257885272,19.41325944351541 L -98.66115117095585,19.413173422697312 L -98.66139330494305,19.41317877180986 L -98.66161347819435,19.41309168057233 L -98.66176327088647,19.41291108595539 L -98.66169287845129,19.412817576250884 L -98.66139563825861,19.412714852325546 L -98.66115368646908,19.412646456786867 L -98.66104557044294,19.412538981127557 L -98.66102755892531,19.41237044661431 L -98.6608561410366,19.412135472375404 L -98.66072435582227,19.412090523974395 L -98.66056354742346,19.411958981384238 L -98.6603114132079,19.411953409915803 L -98.66022420130827,19.411652247536864 L -98.66017144000794,19.411232151093422 L -98.66018025001803,19.410873259569374 L -98.66006005727925,19.410631219887293 L -98.65965180256305,19.41056234563973 L -98.65933736617795,19.41052547341708 L -98.65900022971019,19.41012901272517 L -98.65900904255982,19.409770128960954 L -98.65910800073644,19.409592777357872 L -98.65879723823001,19.40940636075175 L -98.65857735635497,19.409371577355667 L -98.6586484617904,19.409043993146234 L -98.65872104833133,19.408656590595054 L -98.65881006507179,19.40826810146492 L -98.65917001057937,19.40810714914861 L -98.65956470932987,19.40798074758615 L -98.65981791833012,19.40781743451922 L -98.66003968886018,19.40748451666569 L -98.66003419210591,19.407344808508 L -98.66003003583758,19.407239163474696 L -98.65990730927889,19.406555571542068 L -98.65989252432848,19.40553392641699 L -98.6599249687776,19.4050239838511 L -98.66003199440523,19.404723736204136 L -98.66037897788455,19.404390965600914 L -98.66080518115858,19.404078861396552 L -98.66128974810906,19.403824780787673 L -98.66218845399887,19.403750064606932 L -98.66233067858754,19.403639729068477 L -98.66257388073171,19.403474881022284 L -98.66269942309681,19.403231782608447 L -98.66284794895545,19.402998253050896 L -98.65713702587534,19.397078206491457 L -98.65742647385171,19.39390983248253 L -98.65754616046081,19.392599677780478 L -98.65771160685159,19.39078856248943 L -98.65763462422082,19.390582491348386 L -98.65701098910716,19.388836412329773 L -98.65681737354971,19.38818949976233 L -98.65678946415406,19.387852184989057 L -98.65675568277646,19.38716428530052 L -98.65671515203715,19.38675110468679 L -98.65657767660676,19.38645258602564 L -98.65643835868804,19.386229620721736 L -98.65642154107496,19.386029975909885 L -98.65812963799452,19.382708544468798 L -98.65762327586222,19.381867558039723 L -98.65684860220722,19.380378332684565 L -98.65656757791673,19.37969846788942 L -98.65638023410219,19.378955097878727 L -98.6561237050716,19.378207197609377 L -98.65600748842245,19.377509966576994 L -98.6561339228505,19.376704224073613 L -98.65615265785587,19.375894522039427 L -98.65593395495583,19.375012431172813 L -98.65564162970709,19.374263738242238 L -98.65554270349723,19.37345233302657 L -98.65524232846892,19.372712114702203 L -98.65479501301631,19.371834495488223 L -98.65459603819536,19.371226514692147 L -98.6543777559517,19.37029571641798 L -98.65405924938585,19.369402685018038 L -98.65338050379877,19.3684330263888 L -98.65244134913172,19.3675198187641 L -98.65180199237619,19.36687301023143 L -98.6513228321427,19.366207539290645 L -98.65106354821187,19.365732355500914 L -98.65102128155637,19.36561130600267 L -98.65082833703265,19.36527256116751 L -98.65075519660446,19.365133415755082 L -98.65058534381669,19.364763228652055 L -98.65058558990323,19.364647628985775 L -98.65043952400386,19.364554858513713 L -98.65022027734577,19.364485107368534 L -98.65004968418239,19.36441544965917 L -98.64983043726635,19.364345648103992 L -98.64963551849867,19.36429905219049 L -98.64941612400364,19.364298629930712 L -98.64890400430616,19.36434386334083 L -98.64856262441963,19.3643894743662 L -98.64826984809682,19.364458239426735 L -98.64797712382503,19.36455011469858 L -98.64768434756472,19.364618927587088 L -98.64722093178753,19.364733630568722 L -98.64695263303553,19.364802440635632 L -98.64617241161174,19.364824036726585 L -98.64531980701803,19.364498736534284 L -98.64488126678616,19.364336061176544 L -98.64458909197738,19.364173671072184 L -98.64397951273207,19.364195590106938 L -98.6435649497215,19.364217938056196 L -98.64317456366727,19.364378994065635 L -98.64213965994254,19.364373479152338 L -98.641264946767,19.36483263732643 L -98.6403959192744,19.36471622934719 L -98.64040207699742,19.36455543790359 L -98.64039314397127,19.36452665805328 L -98.64030335712044,19.363750313978493 L -98.64029273172734,19.363462888475766 L -98.64016796446357,19.36242773957851 L -98.64011382096952,19.362370016618957 L -98.64005429535096,19.361973785633474 L -98.64002869592643,19.361457179375336 L -98.63910806393527,19.360516296641567 L -98.63917437327835,19.35989805441791 L -98.63917870355037,19.359722699808376 L -98.63878099167468,19.35938202731883 L -98.63847913227505,19.359270813753916 L -98.63807978324412,19.358911005274464 L -98.63820679503213,19.35868856878159 L -98.63813784152966,19.358560352687203 L -98.63895487210809,19.357120505108995 L -98.63919786065263,19.356937582552906 L -98.63965196771466,19.356874342776646 L -98.63984025748947,19.356913196655068 L -98.64027794023609,19.357003513697823 L -98.64066198013798,19.357095876291215 L -98.64128925115581,19.357382618827074 L -98.64207761317023,19.357571160599353 L -98.64324813539135,19.3580417008764 L -98.64371338302072,19.358270417198366 L -98.64430567206115,19.358231453961594 L -98.64451882517048,19.357469581084157 L -98.64437091781636,19.356266774455342 L -98.6444792659164,19.351999979888195 L -98.64669187789347,19.351952674920128 L -98.64766843750043,19.351847614825488 L -98.64892227794509,19.35142686773209 L -98.64959080392072,19.351027182273867 L -98.65048721606313,19.350516198753507 L -98.65147519398377,19.34995228602053 L -98.65261833671573,19.349517355652427 L -98.65375790610109,19.34933355035232 L -98.65494903214785,19.34929968870303 L -98.65534238209355,19.349359681679726 L -98.65595347993447,19.34945288228503 L -98.65676854431045,19.349696326658204 L -98.65709714471852,19.349828352707483 L -98.65874460132123,19.350721150816057 L -98.6602257034687,19.35158343752418 L -98.66058796331957,19.351736390637225 L -98.66049537777299,19.35126246449076 L -98.66106614295302,19.339247497433224 L -98.66347588483184,19.324792383560034 L -98.66213313859687,19.322164068389483 L -98.65377404684682,19.30579997721578 L -98.65334101713117,19.304952146223822 L -98.65116301454636,19.3006876721446 L -98.64577587115744,19.29013859906915 L -98.64114678882433,19.281416720746716 L -98.63809078197937,19.2756581119297 L -98.63187126894586,19.26393674854539 L -98.63131919435999,19.263268220341367 L -98.63107468975673,19.262698610649263 L -98.63033663914436,19.262567675676856 L -98.6292553270012,19.261873847047447 L -98.62894318076641,19.261325932916833 L -98.6287001602051,19.260784592475297 L -98.62869558352352,19.260156833580563 L -98.6286506592498,19.259500062167383 L -98.62847527343283,19.258664588530138 L -98.62833911423341,19.258427309999608 L -98.62814438184402,19.258210271732043 L -98.62788957276591,19.257942236539712 L -98.62752487617774,19.25775917322057 L -98.6280549156365,19.257240455038268 L -98.62833858519376,19.25709765574456 L -98.6286979045573,19.25690120730812 L -98.62898185379106,19.256615008156732 L -98.6292283807316,19.256185332053256 L -98.62947502797655,19.255683967859255 L -98.62985379606846,19.25523664823137 L -98.6302512555364,19.25487898815782 L -98.63072412013614,19.254593143844303 L -98.63140487651432,19.25423605194368 L -98.63189670966902,19.253896488616718 L -98.63229459956491,19.2533416473334 L -98.63242812172736,19.252750429640617 L -98.63249506690963,19.25220801527623 L -98.63239585556623,19.251875816180732 L -98.63232392893295,19.25124965720542 L -98.63236237123007,19.25044978857074 L -98.63269366291327,19.24978965294399 L -98.63342813181838,19.249130325244902 L -98.63405253779139,19.248505537484586 L -98.63471317658566,19.24808951428479 L -98.63530045330278,19.247673319554522 L -98.63596089174553,19.247326840346094 L -98.63654858636207,19.246736756509566 L -98.63717324038784,19.2460076220832 L -98.63765102451575,19.245382554649826 L -98.63838560506781,19.244653634056466 L -98.63944945659664,19.244168816432424 L -98.6408061294467,19.243413740698802 L -98.64357120435531,19.238729866692104 L -98.64288379242382,19.22066870331006 L -98.6470223898524,19.184827899032488 L -98.64293041335668,19.175686182781686 L -98.64031437790433,19.167161976284657 L -98.63920980435854,19.163562475721676 L -98.6381679814822,19.160167295560033 L -98.6362935584738,19.154058360119837 L -98.63623049405159,19.15359433517925 L -98.63533870694692,19.14703233400806 L -98.63891619195662,19.150599157398393 L -98.63910952136047,19.148391153520162 L -98.6399490402037,19.13839165521821 L -98.64008559650875,19.136979370569918 L -98.6406570634103,19.125455733771048 L -98.64039343628299,19.124762747314787 L -98.64010750562852,19.124153677248692 L -98.63964042723951,19.123214493499106 L -98.62696800312605,19.124763471434115 L -98.62560444777185,19.120178849786388 L -98.62548934619446,19.11957198393103 L -98.62572552880111,19.118627624889783 L -98.62634324706075,19.117183837574878 L -98.62786393658197,19.116473082459432 L -98.62880304392185,19.116269266275886 L -98.63058988692065,19.103475222842455 L -98.63061800787125,19.10297500588717 L -98.63075436591579,19.10238521707998 L -98.63110623230878,19.102052390279802 L -98.63144496036108,19.10155281845173 L -98.63255932000494,19.100606915163706 L -98.63246052692473,19.098713810576555 L -98.63096743696572,19.09746961251678 L -98.6298378124117,19.096412008185343 L -98.62899370925219,19.095699198841828 L -98.62824672770387,19.09496025587363 L -98.62761074854023,19.094168836809715 L -98.62691909051854,19.09349581475161 L -98.62613240864873,19.092189543416545 L -98.62589248855286,19.089376458561073 L -98.62625282016589,19.089440011420006 L -98.62658844918965,19.089404468340206 L -98.62682555294506,19.089123986950863 L -98.62729565641013,19.089068452594738 L -98.62778285501282,19.08905243825649 L -98.62823005597824,19.088892825072985 L -98.62874043359395,19.088805402200215 L -98.62924695047866,19.08877717045929 L -98.62957483019457,19.08851326788487 L -98.63012551861227,19.088408029929006 L -98.63071510200143,19.08824315773758 L -98.63108407364436,19.08795685415496 L -98.6315751304603,19.08751895183178 L -98.63183056863078,19.086982008616463 L -98.6322468180705,19.08679278956122 L -98.63257978551746,19.0865376933187 L -98.63302726399967,19.08581885280023 L -98.63353047230152,19.085199959717574 L -98.63395055281794,19.084882234445022 L -98.63436604109792,19.084681007409504 L -98.63520701018392,19.084265927540393 L -98.63539470267239,19.08393323689476 L -98.63539630643984,19.0832005024214 L -98.63544369966736,19.08291193435382 L -98.63574959496292,19.082120335319093 L -98.63604261020821,19.081666966497117 L -98.63636242340483,19.08108754758981 L -98.63678834545384,19.080558777471595 L -98.6371083046301,19.079928939590307 L -98.6376140959974,19.079299441735266 L -98.6379866609325,19.078871447240566 L -98.63843886536448,19.078468828154044 L -98.63875844423715,19.077990286127623 L -98.63929609071853,19.077442608876467 L -98.63929817046328,19.077440491067566 L -98.63736623186084,19.074445229667894 L -98.63622866047491,19.073499301634584 L -98.63502232991812,19.072373870262712 L -98.63023184496156,19.067794124741866 L -98.62755678401325,19.069389253524047 L -98.62610409776994,19.068429435055588 L -98.62347051576103,19.066381773706134 L -98.62650299218122,19.06401014306199 L -98.62693350719054,19.06387340541123 L -98.62776788921312,19.06321413563831 L -98.6281302054424,19.062573485677053 L -98.62842709220166,19.061983054101134 L -98.62890668973182,19.061481451530348 L -98.62944222149994,19.060928693707606 L -98.62978072607328,19.06055382476688 L -98.6301804198954,19.060451014790534 L -98.63029935662402,19.060309768695383 L -98.6303494818434,19.060033362788698 L -98.63045599668503,19.059956936272044 L -98.63075593554092,19.05989574697556 L -98.63110262276541,19.05964654502607 L -98.63122531947408,19.059031934925635 L -98.62751461053001,19.054364684903177 L -98.62759263996085,19.05392677643004 L -98.62735126933806,19.053120075174352 L -98.62751805779767,19.05223955304249 L -98.62769977733394,19.05162372124238 L -98.62771802895081,19.05111599568794 L -98.62739893221723,19.050590867403383 L -98.62719796263804,19.05019309066718 L -98.62696912195165,19.049828784891883 L -98.62707934437074,19.049391770469494 L -98.62715672558214,19.048979396373262 L -98.62753885910166,19.04832561443603 L -98.62770041951775,19.04776783016576 L -98.62777755758763,19.047134257121435 L -98.6280074753566,19.04706434455322 L -98.6284978029854,19.046290495189297 L -98.62872214696957,19.046057772945147 L -98.62906030905239,19.04566391088764 L -98.629244058523,19.045144322607996 L -98.62944683711896,19.044784732915595 L -98.62954006277276,19.04439583878005 L -98.62951945751577,19.044069166613337 L -98.62960828677343,19.043842007508665 L -98.6297882077365,19.043602977876287 L -98.62935956909568,19.043212595727702 L -98.61987463243602,19.035059573454383 L -98.62649119187319,19.02430733845746 L -98.62752307509791,19.022401924015536 L -98.62803556891691,19.021455562144837 L -98.62927386837832,19.017086785400604 L -98.63294665146704,19.015549520329238 L -98.64928017551426,19.00747141267482 L -98.652202731705,19.005990794780217 L -98.65845738677127,19.004171143079752 L -98.66447448049114,19.00355686187914 L -98.66625930634395,19.001304132952825 L -98.66701884680464,19.00034544784283 L -98.67014315329796,18.996064368332963 z\" /></g></svg>"
      ],
      "text/plain": [
       "<shapely.geometry.polygon.Polygon at 0x7f598d42cdd8>"
      ]
     },
     "execution_count": 19,
     "metadata": {},
     "output_type": "execute_result"
    }
   ],
   "source": [
    "region.iloc[0].geometry"
   ]
  },
  {
   "cell_type": "code",
   "execution_count": 21,
   "metadata": {
    "ExecuteTime": {
     "end_time": "2019-09-09T16:33:30.916382Z",
     "start_time": "2019-09-09T16:33:24.253940Z"
    }
   },
   "outputs": [],
   "source": [
    "lon,lat = region.iloc[0].geometry.centroid.coords[0]\n",
    "tw_df = tower[tower.geometry.apply(lambda x: x.intersects(region.iloc[0].geometry))]"
   ]
  },
  {
   "cell_type": "code",
   "execution_count": 23,
   "metadata": {
    "ExecuteTime": {
     "end_time": "2019-09-09T16:34:01.809809Z",
     "start_time": "2019-09-09T16:34:01.793870Z"
    }
   },
   "outputs": [],
   "source": [
    "tw_df_count = tw_df.merge(tw_avg_wd, left_index=True, right_index=True, how='left')"
   ]
  },
  {
   "cell_type": "code",
   "execution_count": 29,
   "metadata": {
    "ExecuteTime": {
     "end_time": "2019-09-09T16:36:10.343249Z",
     "start_time": "2019-09-09T16:36:10.311752Z"
    }
   },
   "outputs": [],
   "source": [
    "tw_df_count.fillna(0,inplace=True)"
   ]
  },
  {
   "cell_type": "code",
   "execution_count": 12,
   "metadata": {
    "ExecuteTime": {
     "end_time": "2019-09-09T16:27:18.905751Z",
     "start_time": "2019-09-09T16:27:18.886468Z"
    },
    "code_folding": [
     1
    ]
   },
   "outputs": [],
   "source": [
    "\n",
    "def geojson_per_row(gpdf, name, color='blue', tip_cols=None, some_map=None, color_col=None):\n",
    "    \n",
    "    if color_col:\n",
    "        from branca.colormap import linear\n",
    "        cmap = linear.Reds_09.scale()\n",
    "        colors = gpdf[color_col].apply(cmap)\n",
    "    else:\n",
    "        colors = [color] * len(gpdf)\n",
    "    feature_group = folium.FeatureGroup(name=name)\n",
    "    for i, row in enumerate(gpdf.itertuples()):\n",
    "        geom = row.geometry\n",
    "        # get boundaries from geom\n",
    "        if geom.type == 'Polygon':\n",
    "            if geom.boundary.type == 'MultiLineString':\n",
    "                lines = geom.boundary\n",
    "            else:\n",
    "                lines = [geom.boundary]\n",
    "        else:\n",
    "            lines = []\n",
    "            for part in geom:\n",
    "                if part.type == 'Point':\n",
    "                    continue\n",
    "                elif part.type == 'LineString':\n",
    "                    lines.append(part)\n",
    "                else:\n",
    "                    lines.append(part.boundary)\n",
    "        # if row.geometry.boundary.type == 'MultiLineString':\n",
    "        #     lines = row.geometry.boundary\n",
    "        # else:\n",
    "        #     lines = [row.geometry.boundary]\n",
    "        \n",
    "        clr = colors[i]\n",
    "        for line in lines:\n",
    "            tip = '<br>'.join(\n",
    "                ['%s: %s' % (col, getattr(row, col)) for col in tip_cols]) if tip_cols is not None else name\n",
    "\n",
    "            folium.Polygon(locations=[(lat, lon) for lon, lat in line.coords], color=clr, fill_color=clr, \n",
    "                           tooltip=tip, popup=tip).add_to(feature_group)\n",
    "    if some_map is not None:\n",
    "        feature_group.add_to(some_map)\n",
    "    return feature_group"
   ]
  },
  {
   "cell_type": "code",
   "execution_count": 24,
   "metadata": {
    "ExecuteTime": {
     "end_time": "2019-09-09T16:34:18.063092Z",
     "start_time": "2019-09-09T16:34:18.045709Z"
    }
   },
   "outputs": [
    {
     "data": {
      "text/plain": [
       "Index(['gtid', 'geometry', 'h0', 'h1', 'h2', 'h3', 'h4', 'h5', 'h6', 'h7',\n",
       "       'h8', 'h9', 'h10', 'h11', 'h12', 'h13', 'h14', 'h15', 'h16', 'h17',\n",
       "       'h18', 'h19', 'h20', 'h21', 'h22', 'h23'],\n",
       "      dtype='object')"
      ]
     },
     "execution_count": 24,
     "metadata": {},
     "output_type": "execute_result"
    }
   ],
   "source": [
    "tw_df_count.reset_index().columns"
   ]
  },
  {
   "cell_type": "code",
   "execution_count": 25,
   "metadata": {
    "ExecuteTime": {
     "end_time": "2019-09-09T16:34:34.352576Z",
     "start_time": "2019-09-09T16:34:34.336799Z"
    }
   },
   "outputs": [],
   "source": [
    "mini = tw_df_count.h12.min()\n",
    "maxi = tw_df_count.h12.max()\n",
    "\n",
    "tw_df_count['norm'] = (tw_df_count['h12'] - mini)/(maxi-mini)"
   ]
  },
  {
   "cell_type": "code",
   "execution_count": 32,
   "metadata": {
    "ExecuteTime": {
     "end_time": "2019-09-09T16:39:22.946119Z",
     "start_time": "2019-09-09T16:39:18.291678Z"
    }
   },
   "outputs": [],
   "source": [
    "some_map = folium.Map(location=[lat, lon], zoom_start=6)\n",
    "geojson_per_row(tw_df.reset_index(), 'tower', tip_cols=['gtid'], some_map=some_map)\n",
    "geojson_per_row(tw_df_count.reset_index(), 'tower_count', color='blue', color_col='norm', tip_cols=['index', 'h12'],some_map=some_map)\n",
    "\n",
    "folium.LayerControl().add_to(some_map)\n",
    "some_map.save(f'maps/20190909MexTwCountInDf.html')"
   ]
  },
  {
   "cell_type": "markdown",
   "metadata": {
    "heading_collapsed": true
   },
   "source": [
    "## so"
   ]
  },
  {
   "cell_type": "code",
   "execution_count": 35,
   "metadata": {
    "ExecuteTime": {
     "end_time": "2019-09-09T16:45:42.854222Z",
     "start_time": "2019-09-09T16:45:42.365709Z"
    },
    "hidden": true
   },
   "outputs": [],
   "source": [
    "rkind = 'metropolitans_all'\n",
    "rname = 'metropolitan'\n",
    "side = 1000\n",
    "region = mex.regions(rkind)"
   ]
  },
  {
   "cell_type": "code",
   "execution_count": 37,
   "metadata": {
    "ExecuteTime": {
     "end_time": "2019-09-09T16:46:19.972312Z",
     "start_time": "2019-09-09T16:46:19.957766Z"
    },
    "hidden": true
   },
   "outputs": [],
   "source": [
    "mex_df= region.iloc[0]"
   ]
  },
  {
   "cell_type": "code",
   "execution_count": 38,
   "metadata": {
    "ExecuteTime": {
     "end_time": "2019-09-09T16:46:36.496751Z",
     "start_time": "2019-09-09T16:46:36.449579Z"
    },
    "hidden": true
   },
   "outputs": [
    {
     "data": {
      "text/plain": [
       "cve_sun                                                      13\n",
       "mun_ids       09012, 09013, 09008, 09002, 09014, 09015, 0901...\n",
       "name2                                           Valle de M‚xico\n",
       "population                                             20116842\n",
       "geometry      POLYGON ((-98.67014315329796 18.99606436833296...\n",
       "Name: Zona metropolitana del Valle de México, dtype: object"
      ]
     },
     "execution_count": 38,
     "metadata": {},
     "output_type": "execute_result"
    }
   ],
   "source": [
    "mex_df"
   ]
  },
  {
   "cell_type": "code",
   "execution_count": 34,
   "metadata": {
    "ExecuteTime": {
     "end_time": "2019-09-09T16:45:25.998024Z",
     "start_time": "2019-09-09T16:45:25.219419Z"
    },
    "hidden": true
   },
   "outputs": [],
   "source": [
    "\n",
    "t2loc=mex.tower2loc_by_pop()\n",
    "loc2grid = mex.loc2grid_by_area(rkind, side, loc_buffer=500)"
   ]
  },
  {
   "cell_type": "code",
   "execution_count": 39,
   "metadata": {
    "ExecuteTime": {
     "end_time": "2019-09-09T16:49:20.680544Z",
     "start_time": "2019-09-09T16:47:00.234732Z"
    },
    "hidden": true
   },
   "outputs": [],
   "source": [
    "localidad = mex.localidad()\n",
    "localidad['mun_id'] = localidad.CVE_ENT+localidad.CVE_MUN\n",
    "local_in_MexDF = localidad[localidad.mun_id.isin(mex_df.mun_ids.split(', '))]"
   ]
  },
  {
   "cell_type": "code",
   "execution_count": 54,
   "metadata": {
    "ExecuteTime": {
     "end_time": "2019-09-09T13:41:43.187501Z",
     "start_time": "2019-09-09T13:41:34.255180Z"
    },
    "hidden": true
   },
   "outputs": [],
   "source": [
    "tInMexDF = polys2polys(tower, local_in_MexDF, area_crs=mex.AREA_CRS, pname1='tower',pname2='localidad')"
   ]
  },
  {
   "cell_type": "code",
   "execution_count": 56,
   "metadata": {
    "ExecuteTime": {
     "end_time": "2019-09-09T13:41:49.732135Z",
     "start_time": "2019-09-09T13:41:49.715925Z"
    },
    "hidden": true
   },
   "outputs": [],
   "source": [
    "tInMexDF = tInMexDF.iloc[:, :3]"
   ]
  },
  {
   "cell_type": "code",
   "execution_count": 57,
   "metadata": {
    "ExecuteTime": {
     "end_time": "2019-09-09T13:41:53.003910Z",
     "start_time": "2019-09-09T13:41:52.930977Z"
    },
    "hidden": true
   },
   "outputs": [],
   "source": [
    "t2loc_shap = gp.GeoDataFrame(t2loc.merge(tInMexDF))"
   ]
  },
  {
   "cell_type": "code",
   "execution_count": 60,
   "metadata": {
    "ExecuteTime": {
     "end_time": "2019-09-09T13:45:17.013723Z",
     "start_time": "2019-09-09T13:45:15.753214Z"
    },
    "hidden": true
   },
   "outputs": [],
   "source": [
    "population = mex.population_loc()"
   ]
  },
  {
   "cell_type": "code",
   "execution_count": 69,
   "metadata": {
    "ExecuteTime": {
     "end_time": "2019-09-09T13:48:48.961745Z",
     "start_time": "2019-09-09T13:48:48.879783Z"
    },
    "hidden": true
   },
   "outputs": [
    {
     "data": {
      "text/html": [
       "<div>\n",
       "<style scoped>\n",
       "    .dataframe tbody tr th:only-of-type {\n",
       "        vertical-align: middle;\n",
       "    }\n",
       "\n",
       "    .dataframe tbody tr th {\n",
       "        vertical-align: top;\n",
       "    }\n",
       "\n",
       "    .dataframe thead th {\n",
       "        text-align: right;\n",
       "    }\n",
       "</style>\n",
       "<table border=\"1\" class=\"dataframe\">\n",
       "  <thead>\n",
       "    <tr style=\"text-align: right;\">\n",
       "      <th></th>\n",
       "      <th>Población total</th>\n",
       "    </tr>\n",
       "  </thead>\n",
       "  <tbody>\n",
       "    <tr>\n",
       "      <th>155344</th>\n",
       "      <td>0</td>\n",
       "    </tr>\n",
       "  </tbody>\n",
       "</table>\n",
       "</div>"
      ],
      "text/plain": [
       "        Población total\n",
       "155344                0"
      ]
     },
     "execution_count": 69,
     "metadata": {},
     "output_type": "execute_result"
    }
   ],
   "source": [
    "population[population.loc_id=='150990003'][['Población total']]"
   ]
  },
  {
   "cell_type": "code",
   "execution_count": 83,
   "metadata": {
    "ExecuteTime": {
     "end_time": "2019-09-09T14:10:23.264952Z",
     "start_time": "2019-09-09T14:09:58.490732Z"
    },
    "hidden": true
   },
   "outputs": [],
   "source": [
    "some_map = folium.Map(location=[19.381495, -99.139095], zoom_start=6)\n",
    "geojson_per_row(tower.loc[set(tInMexDF.tower)].reset_index(), 'tower', color='yellow', tip_cols=['gtid'],some_map=some_map)\n",
    "geojson_per_row(local_in_MexDF.reset_index(),'local',color='green',tip_cols=['loc_id'], some_map=some_map)\n",
    "geojson_per_row(t2loc_shap, 'TwLocIntxn', color='blue', color_col='weight', tip_cols=['localidad', 'tower', 'weight','Pop', 'iPop', 'tower_pop'],some_map=some_map)\n",
    "\n",
    "folium.LayerControl().add_to(some_map)\n",
    "some_map.save(f'maps/20190909MexTwLocInMexDF.html')"
   ]
  },
  {
   "cell_type": "markdown",
   "metadata": {},
   "source": [
    "# version on 20190212"
   ]
  },
  {
   "cell_type": "code",
   "execution_count": 40,
   "metadata": {},
   "outputs": [],
   "source": []
  },
  {
   "cell_type": "code",
   "execution_count": 46,
   "metadata": {},
   "outputs": [
    {
     "name": "stdout",
     "output_type": "stream",
     "text": [
      "loading existing tvor file: data/mex_tower/mex_tvor_in_country.geojson\n",
      "keep tower voronoi within metropolitans_16 intersection only: False\n",
      "reading existing grids\n"
     ]
    }
   ],
   "source": [
    "# rkind = 'urban_areas_cvh_16'\n",
    "rkind = 'metropolitans_16'\n",
    "rname = 'metropolitan'\n",
    "side=1000\n",
    "\n",
    "# plot the vor polygons in cities\n",
    "some_map = folium.Map(location=[19.381495, -99.139095], zoom_start=6)\n",
    "\n",
    "# t2g_path = f'data/mex_tower/mex_t2g_{rkind}_{side}m.csv'\n",
    "\n",
    "# if not redo and os.path.exists(t2g_path):\n",
    "#     print('reading existing t2g file:', t2g_path)\n",
    "#     t2g = pd.read_csv(t2g_path, index_col=0)\n",
    "#     return t2g\n",
    "t2r_intxn_only=False\n",
    "\n",
    "tvor = mex.tower_vor()\n",
    "geojson_per_row(tvor.reset_index(), 'tower vor country', color='blue', tip_cols=['gtid'],some_map=some_map)\n",
    "tname = tvor.index.name\n",
    "\n",
    "rs = mex.regions(rkind)\n",
    "geojson_per_row(rs.reset_index(), f'{rkind}', color='green', tip_cols=[rname],some_map=some_map)\n",
    "rname = rs.index.name\n",
    "\n",
    "print('keep tower voronoi within', rkind, 'intersection only:', t2r_intxn_only)\n",
    "t2r = polys2polys(tvor, rs, tname, rname, cur_crs=4326, area_crs=4326, intersection_only=t2r_intxn_only)\n",
    "geojson_per_row(t2r.reset_index(), f'tvor in {rkind}', color='blue', tip_cols=['gtid',rname],some_map=some_map)\n",
    "\n",
    "# overlay = gp.overlay(tvor.reset_index(), rs.reset_index())\n",
    "# geojson_per_row(overlay, f'overlay', color='pink', tip_cols=['gtid','urban'],some_map=some_map)\n",
    "\n",
    "gs = mex.grids(rkind, side)\n",
    "geojson_per_row(gs, f'grids', color='yellow', tip_cols=['grid',rname],some_map=some_map)\n",
    "\n",
    "# print('building tower to grid mapping')\n",
    "# t2g = []\n",
    "# for n in rs.index:\n",
    "#     tr = t2r[t2r[rname] == n]\n",
    "#     gr = gs[gs[rname] == n]\n",
    "#     geojson_per_row(tr, f'tower in {n}', color='blue', tip_cols=['gtid'],some_map=some_map)\n",
    "#     geojson_per_row(gr, f'grid in {n}', color='yellow', tip_cols=['grid'],some_map=some_map)\n",
    "\n",
    "#     tr2gr = polys2polys(tr, gr, pname1='towerInRegion', pname2='grid', cur_crs=4326, area_crs=mex.AREA_CRS,\n",
    "#                         intersection_only=True)\n",
    "#     tr2gr = tr2gr.merge(tr[[tname, rname, f'{tname}_area', 'weight']], left_on='towerInRegion', right_index=True)\n",
    "#     tr2gr.rename(columns={'weight_x': 'w_Grid2towerInRegion', 'weight_y': 'w_towerInRegion',\n",
    "#                           'iarea': 'gridInTowerInRegion_area'}, inplace=True)\n",
    "#     tr2gr['weight'] = tr2gr.w_Grid2towerInRegion * tr2gr.w_towerInRegion\n",
    "#     tr2gr = tr2gr[[rname, tname, 'towerInRegion', 'grid', 'weight', 'w_towerInRegion', 'w_Grid2towerInRegion',\n",
    "#                    'gridInTowerInRegion_area', 'towerInRegion_area', 'gtid_area', 'geometry', ]]\n",
    "#     t2g.append(tr2gr[[rname, tname, 'grid', 'weight']])\n",
    "\n",
    "# t2g = pd.concat(t2g, ignore_index=True).drop(rname, axis=1)\n",
    "# print('saving tower to grid mapping:', t2g_path)\n",
    "# t2g.to_csv(t2g_path)\n",
    "\n",
    "folium.LayerControl().add_to(some_map)\n",
    "some_map.save(f'maps/MexTwGr{rkind}{side}.html')"
   ]
  },
  {
   "cell_type": "markdown",
   "metadata": {},
   "source": [
    "# Using mex_helper"
   ]
  },
  {
   "cell_type": "code",
   "execution_count": 4,
   "metadata": {},
   "outputs": [
    {
     "name": "stdout",
     "output_type": "stream",
     "text": [
      "loading existing tvor file: data/mex_tvor_in_country.geojson\n",
      "loading existing tvor file: data/mex_tvor_in_country.geojson\n",
      "loading existing tvor file: data/mex_tvor_in_country.geojson\n"
     ]
    }
   ],
   "source": [
    "mex_tower = mex.tower()\n",
    "mex_cities = mex.cities()\n",
    "mex_tvor = mex.tower_vor()\n",
    "mex_t2city = mex.tower_vor('cities')\n",
    "mex_t2city_incityonly = mex.tower_vor('cities',intersection_only=True)\n",
    "mex_t2city= mex_t2city.merge(mex_t2city_incityonly[['gtid','iarea', 'gtid_area','weight']], on='gtid')\n",
    "\n",
    "mex_t2city.columns = [col.replace('_x','_used').replace('_y','_raw') for col in mex_t2city.columns]"
   ]
  },
  {
   "cell_type": "code",
   "execution_count": 5,
   "metadata": {},
   "outputs": [
    {
     "name": "stdout",
     "output_type": "stream",
     "text": [
      "saving tvor file: data/mex_tvor_raw_vor.geojson\n"
     ]
    }
   ],
   "source": [
    "mex_tvor_not_clip = mex.tower_vor(in_country=False)"
   ]
  },
  {
   "cell_type": "markdown",
   "metadata": {},
   "source": [
    "## tower voronoi polygons for all cities"
   ]
  },
  {
   "cell_type": "code",
   "execution_count": 6,
   "metadata": {},
   "outputs": [],
   "source": [
    "# plot the vor polygons in cities\n",
    "some_map = folium.Map(location=[19.381495, -99.139095], zoom_start=6)\n",
    "\n",
    "geojson_per_row(mex_tvor_not_clip.reset_index(), 'vor_raw', color='green', tip_cols=['gtid'],some_map=some_map)\n",
    "geojson_per_row(mex_tvor.reset_index(), 'vor_used', color='blue', tip_cols=['gtid'],some_map=some_map)\n",
    "geojson_per_row(mex_cities.reset_index(), 'city', color='red', tip_cols=['city','population'],some_map=some_map)\n",
    "geojson_per_row(mex_t2city, 'vor_associated_to_cities', color='yellow', tip_cols=['gtid','city','weight_used','weight_raw','iarea_used','gtid_area_used'],some_map=some_map)\n",
    "point_per_row(mex_tower[mex_tower.gtid.isin(mex_t2city.gtid)].reset_index(), 'tower', tip_cols=['gtid'],some_map=some_map)\n",
    "\n",
    "folium.LayerControl().add_to(some_map)\n",
    "some_map.save('maps/MexTwVorInCity.html')"
   ]
  },
  {
   "cell_type": "markdown",
   "metadata": {},
   "source": [
    "## pick two cities to show how the grids look like"
   ]
  },
  {
   "cell_type": "code",
   "execution_count": 35,
   "metadata": {},
   "outputs": [
    {
     "name": "stdout",
     "output_type": "stream",
     "text": [
      "reading existing t2g file: data/mex_t2g_cities_1000m.csv\n",
      "reading existing grids\n"
     ]
    }
   ],
   "source": [
    "mex_t2g = mex.tower2grid('cities',1000)\n",
    "str_from_gp = lambda gp:'<br/>'.join(gp.gtid+': '+gp.weight.apply(lambda x: f\"{x:0.02%}\").values)\n",
    "mex_grids = mex.grids('cities', 1000)\n",
    "mex_grids = mex_grids.merge(\n",
    "    mex_t2g.groupby('grid').apply(\n",
    "        lambda x: str_from_gp(x)\n",
    "    ).reset_index(), \n",
    "    on='grid'\n",
    ")\n",
    "mex_grids.rename(columns={0: 'gtid_weight'},inplace=True)"
   ]
  },
  {
   "cell_type": "code",
   "execution_count": 37,
   "metadata": {},
   "outputs": [
    {
     "name": "stdout",
     "output_type": "stream",
     "text": [
      "drawing for city Tijuana, Baja California\n",
      "drawing for city Valle de Mexico, Distrito Federal\n"
     ]
    }
   ],
   "source": [
    "for c in ['Tijuana, Baja California', 'Valle de Mexico, Distrito Federal']:\n",
    "    print('drawing for city', c)\n",
    "    lon,lat = mex_cities.loc[c].geometry.centroid.coords[0]\n",
    "    tmp_city = mex_cities.loc[[c]].reset_index()\n",
    "    tmp_t2city = mex_t2city[mex_t2city.city==c]\n",
    "    tmp_towers = mex_tower[mex_tower.gtid.isin(tmp_t2city.gtid)].reset_index()\n",
    "    tmp_grids = mex_grids[mex_grids.city==c]\n",
    "    \n",
    "    some_map = folium.Map(location=[lat, lon], zoom_start=10)\n",
    "    geojson_per_row(tmp_city, 'city', color='red', tip_cols=['city','population'],some_map=some_map)\n",
    "    geojson_per_row(tmp_t2city, 'vor', color='blue', tip_cols=['gtid','city','weight_used'],some_map=some_map)\n",
    "    geojson_per_row(tmp_grids, 'grids', color='yellow', tip_cols=['grid','city','gtid_weight'],some_map=some_map)\n",
    "    point_per_row(tmp_towers, 'tower', tip_cols=['gtid'],some_map=some_map)\n",
    "\n",
    "    folium.LayerControl().add_to(some_map)\n",
    "    some_map.save(f'maps/MexTwGridIn{c}.html')\n"
   ]
  },
  {
   "cell_type": "code",
   "execution_count": null,
   "metadata": {},
   "outputs": [],
   "source": []
  },
  {
   "cell_type": "code",
   "execution_count": null,
   "metadata": {},
   "outputs": [],
   "source": []
  },
  {
   "cell_type": "markdown",
   "metadata": {},
   "source": [
    "# -----------Deprecated----------------"
   ]
  },
  {
   "cell_type": "markdown",
   "metadata": {},
   "source": [
    "# Mexico tw2city"
   ]
  },
  {
   "cell_type": "markdown",
   "metadata": {},
   "source": [
    "## all tower polygons"
   ]
  },
  {
   "cell_type": "code",
   "execution_count": 4,
   "metadata": {},
   "outputs": [
    {
     "name": "stdout",
     "output_type": "stream",
     "text": [
      "1    5731\n",
      "Name: gtid, dtype: int64\n"
     ]
    }
   ],
   "source": [
    "# get tower points\n",
    "mex_tower = mex.tower()\n",
    "# voronoi polygons across mexico\n",
    "tw_vor_polys = lonlats2vorpolys(mex_tower.lonlat.tolist(),dataframe=True)\n",
    "tw_vor_polys['gtid'] = mex_tower.gtid\n",
    "tw_vor_polys.crs = mex_tower.crs\n",
    "print(tw_vor_polys.gtid.value_counts().value_counts())\n",
    "tw_vor_polys.set_index('gtid', inplace=True)"
   ]
  },
  {
   "cell_type": "code",
   "execution_count": 6,
   "metadata": {},
   "outputs": [],
   "source": [
    "# plot the vor polygons\n",
    "# some_map = folium.Map(location=[19.381495, -99.139095], zoom_start=8)\n",
    "# geojson_per_row(tw_vor_polys, 'vor', color='yellow', tip_cols=['gtid'],some_map=some_map)\n",
    "# point_per_row(towers_shp, 'tower', tip_cols=['gtid'],some_map=some_map)\n",
    "\n",
    "# folium.LayerControl().add_to(some_map)\n",
    "# some_map.save('tmp/mexico_voronoi.html')"
   ]
  },
  {
   "cell_type": "markdown",
   "metadata": {},
   "source": [
    "## tower polygons within cities(or other given regions)"
   ]
  },
  {
   "cell_type": "code",
   "execution_count": 7,
   "metadata": {},
   "outputs": [],
   "source": [
    "mex_cities = mex.cities()"
   ]
  },
  {
   "cell_type": "code",
   "execution_count": 8,
   "metadata": {},
   "outputs": [],
   "source": [
    "# intesect city polygons and tower polygons, \n",
    "# default weight=1 (the percentage of stats in that tower to be assigned to that city)\n",
    "mex_t2c = gp.sjoin(tw_vor_polys, mex_cities)\n",
    "mex_t2c['weight'] = 1"
   ]
  },
  {
   "cell_type": "code",
   "execution_count": 9,
   "metadata": {},
   "outputs": [],
   "source": [
    "num_cities_per_tower = mex_t2c.groupby(level=0)['index_right'].count()\n",
    "t_m_c = num_cities_per_tower[num_cities_per_tower>1]\n",
    "t1c = num_cities_per_tower[num_cities_per_tower==1]"
   ]
  },
  {
   "cell_type": "code",
   "execution_count": 10,
   "metadata": {},
   "outputs": [],
   "source": [
    "# for the tower polygons intersecting with multiple cities\n",
    "# compute the area of each intersection\n",
    "# divide the weight by the percentage of area\n",
    "itxns = []\n",
    "for gtid, row in mex_t2c.loc[t_m_c.index].iterrows():\n",
    "    itxn = mex_cities.loc[row.index_right].geometry.intersection(tw_vor_polys.loc[gtid].geometry)\n",
    "    itxns.append({'gtid': gtid, 'cname': row.index_right, 'geometry': itxn})\n",
    "itxns = gp.GeoDataFrame(itxns)\n",
    "\n",
    "itxns.crs = mex_cities.crs\n",
    "itxns = itxns.to_crs(epsg=6362)\n",
    "itxns['area'] = itxns.geometry.apply(lambda x: x.area)\n",
    "\n",
    "itxns['weight'] = itxns.groupby('gtid').apply(lambda x: x.area/x.area.sum()).sort_index(level=1).values"
   ]
  },
  {
   "cell_type": "code",
   "execution_count": 11,
   "metadata": {},
   "outputs": [],
   "source": [
    "columns = ['gtid','cname','weight']\n",
    "tmp = mex_t2c.loc[t1c.index][['index_right','weight']].reset_index()\n",
    "tmp.columns=columns\n",
    "t_in_c = tmp.append(itxns[columns])\n",
    "t_in_c['geometry'] = t_in_c.apply(lambda x: tw_vor_polys.loc[x.gtid].geometry.intersection(mex_cities.loc[x.cname].geometry), axis=1)\n",
    "t_in_c = gp.GeoDataFrame(t_in_c)"
   ]
  },
  {
   "cell_type": "code",
   "execution_count": 12,
   "metadata": {},
   "outputs": [],
   "source": [
    "# plot the vor polygons in cities\n",
    "some_map = folium.Map(location=[19.381495, -99.139095], zoom_start=8)\n",
    "geojson_per_row(mex_cities.reset_index(), 'city', color='red', tip_cols=['cname','population'],some_map=some_map)\n",
    "geojson_per_row(t_in_c, 'vor', color='yellow', tip_cols=['gtid','cname','weight'],some_map=some_map)\n",
    "point_per_row(mex_tower[mex_tower.gtid.isin(t_in_c.gtid)].reset_index(), 'tower', tip_cols=['gtid'],some_map=some_map)\n",
    "\n",
    "folium.LayerControl().add_to(some_map)\n",
    "some_map.save('data/tower_in_cities_mexico.html')"
   ]
  },
  {
   "cell_type": "code",
   "execution_count": 14,
   "metadata": {},
   "outputs": [],
   "source": [
    "t_in_c.to_file('data/tower_in_cities_mexico.geojson', driver='GeoJSON')"
   ]
  },
  {
   "cell_type": "code",
   "execution_count": 18,
   "metadata": {},
   "outputs": [
    {
     "data": {
      "text/plain": [
       "cname\n",
       "Valle de Mexico, Distrito Federal    643\n",
       "Monterrey, Nuevo León                326\n",
       "Guadalajara, Jalisco                 269\n",
       "Tijuana, Baja California             186\n",
       "Mexicali, Baja California            112\n",
       "Toluca de Lerdo, México               79\n",
       "Cuernavaca, Morelos                   79\n",
       "Chihuahua, Chihuahua                  74\n",
       "Juárez, Chihuahua                     71\n",
       "Acapulco de Juárez, Guerrero          68\n",
       "Cancún, Quintana Roo                  62\n",
       "Morelia, Michoacán de Ocampo          55\n",
       "Villahermosa, Tabasco                 45\n",
       "Nuevo Laredo, Tamaulipas              43\n",
       "Culiacán Rosales, Sinaloa             41\n",
       "Oaxaca de Juárez, Oaxaca              39\n",
       "Name: gtid, dtype: int64"
      ]
     },
     "execution_count": 18,
     "metadata": {},
     "output_type": "execute_result"
    }
   ],
   "source": [
    "t_in_c.groupby('cname')['gtid'].count().sort_values(ascending=False)"
   ]
  }
 ],
 "metadata": {
  "kernelspec": {
   "display_name": "Python [default]",
   "language": "python",
   "name": "python3"
  },
  "language_info": {
   "codemirror_mode": {
    "name": "ipython",
    "version": 3
   },
   "file_extension": ".py",
   "mimetype": "text/x-python",
   "name": "python",
   "nbconvert_exporter": "python",
   "pygments_lexer": "ipython3",
   "version": "3.6.6"
  },
  "toc": {
   "base_numbering": 1,
   "nav_menu": {},
   "number_sections": true,
   "sideBar": true,
   "skip_h1_title": false,
   "title_cell": "Table of Contents",
   "title_sidebar": "Contents",
   "toc_cell": false,
   "toc_position": {},
   "toc_section_display": true,
   "toc_window_display": false
  },
  "varInspector": {
   "cols": {
    "lenName": 16,
    "lenType": 16,
    "lenVar": 40
   },
   "kernels_config": {
    "python": {
     "delete_cmd_postfix": "",
     "delete_cmd_prefix": "del ",
     "library": "var_list.py",
     "varRefreshCmd": "print(var_dic_list())"
    },
    "r": {
     "delete_cmd_postfix": ") ",
     "delete_cmd_prefix": "rm(",
     "library": "var_list.r",
     "varRefreshCmd": "cat(var_dic_list()) "
    }
   },
   "types_to_exclude": [
    "module",
    "function",
    "builtin_function_or_method",
    "instance",
    "_Feature"
   ],
   "window_display": false
  }
 },
 "nbformat": 4,
 "nbformat_minor": 2
}
