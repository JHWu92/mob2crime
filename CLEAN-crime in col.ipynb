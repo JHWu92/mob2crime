{
 "cells": [
  {
   "cell_type": "code",
   "execution_count": 1,
   "metadata": {},
   "outputs": [],
   "source": [
    "import pandas as pd\n",
    "import geopandas as gp\n",
    "import glob"
   ]
  },
  {
   "cell_type": "code",
   "execution_count": 2,
   "metadata": {},
   "outputs": [],
   "source": [
    "target_cities = gp.read_file('data/cities_colombia_16_cities.geojson')"
   ]
  },
  {
   "cell_type": "code",
   "execution_count": 3,
   "metadata": {},
   "outputs": [
    {
     "name": "stdout",
     "output_type": "stream",
     "text": [
      "Delito_Abigeato\n",
      "Delito_Amenazas\n",
      "Delito_Homicidio\n",
      "Delito_Hurto_Automotores\n",
      "Delito_Hurto_Celulares\n",
      "Delito_Hurto_Comercio\n",
      "Delito_Hurto_De_Motocicletas\n",
      "Delito_Hurto_Personas\n",
      "Delito_Hurto_Residencias\n",
      "Delito_Pirateria_Terrestre\n",
      "Delito_Secuestro\n",
      "Delito_Sexuales\n",
      "Delito_Terrorismo\n",
      "Delito_Violencia_Intrafamiliar\n"
     ]
    }
   ],
   "source": [
    "stats = target_cities.set_index('CPOB_CCDGO')[[]]\n",
    "\n",
    "for file_path in glob.glob('data/colombia/crime/*'):\n",
    "    crime_name = file_path.split('/')[-1][:-4]\n",
    "    print(crime_name)\n",
    "    crime = pd.read_csv(file_path)\n",
    "    crime.columns = [c.strip() for c in crime.columns]\n",
    "    crime = crime[~crime['CODIGO DANE'].isnull()]\n",
    "    crime['CODIGO DANE'] = crime['CODIGO DANE'].apply(lambda x: '%08d' % x)\n",
    "    # crime['Year'] = crime.FECHA.apply(lambda x: x.split(' ')[0].split('/')[-1])\n",
    "    # crime['Month'] = crime.FECHA.apply(lambda x: x.split(' ')[0].split('/')[1])\n",
    "    stats = stats.join(crime.groupby(['CODIGO DANE']).agg({'2014':'sum'}), how='left').rename(columns={'2014':crime_name})"
   ]
  },
  {
   "cell_type": "code",
   "execution_count": 5,
   "metadata": {},
   "outputs": [],
   "source": [
    "stats.to_csv('data/crimes_yearly_colombia_16_cities')"
   ]
  },
  {
   "cell_type": "code",
   "execution_count": null,
   "metadata": {},
   "outputs": [],
   "source": []
  }
 ],
 "metadata": {
  "kernelspec": {
   "display_name": "Python [default]",
   "language": "python",
   "name": "python3"
  },
  "language_info": {
   "codemirror_mode": {
    "name": "ipython",
    "version": 3
   },
   "file_extension": ".py",
   "mimetype": "text/x-python",
   "name": "python",
   "nbconvert_exporter": "python",
   "pygments_lexer": "ipython3",
   "version": "3.6.6"
  }
 },
 "nbformat": 4,
 "nbformat_minor": 2
}
