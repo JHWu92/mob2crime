{
 "cells": [
  {
   "cell_type": "code",
   "execution_count": 1,
   "metadata": {
    "ExecuteTime": {
     "end_time": "2019-10-30T03:07:45.907363Z",
     "start_time": "2019-10-30T03:07:45.887927Z"
    }
   },
   "outputs": [],
   "source": [
    "%load_ext autoreload\n",
    "%autoreload 2"
   ]
  },
  {
   "cell_type": "code",
   "execution_count": 27,
   "metadata": {
    "ExecuteTime": {
     "end_time": "2019-10-30T13:51:26.822465Z",
     "start_time": "2019-10-30T13:51:26.796375Z"
    }
   },
   "outputs": [],
   "source": [
    "import src.urban_diff_helper as ud_helper\n",
    "import pandas as pd"
   ]
  },
  {
   "cell_type": "markdown",
   "metadata": {},
   "source": [
    "# load geometries"
   ]
  },
  {
   "cell_type": "code",
   "execution_count": 48,
   "metadata": {
    "ExecuteTime": {
     "end_time": "2019-10-30T14:19:14.744562Z",
     "start_time": "2019-10-30T14:15:26.317016Z"
    }
   },
   "outputs": [
    {
     "name": "stdout",
     "output_type": "stream",
     "text": [
      "loading existing mexico tower voronoi file: data/mex_tw_intpl/voronoi.geojson\n",
      "reading existing grids\n",
      "reading existing grids\n",
      "dividing grids by municipality\n",
      "computing the intersection between p1 grid and p2 mgmu\n",
      "computing area of the intersections\n",
      "computing the weight\n",
      "reading existing grids\n",
      "reading existing grids\n",
      "dividing grids by municipality\n",
      "computing the intersection between p1 grid and p2 mgmu\n",
      "computing area of the intersections\n",
      "computing the weight\n"
     ]
    }
   ],
   "source": [
    "zms, zms_agebs, zms_tvor, zms_grids, mg_mapping = ud_helper.load_geoms()"
   ]
  },
  {
   "cell_type": "markdown",
   "metadata": {},
   "source": [
    "# load interpolation and interpolate avg"
   ]
  },
  {
   "cell_type": "code",
   "execution_count": 16,
   "metadata": {
    "ExecuteTime": {
     "end_time": "2019-10-30T04:54:05.735042Z",
     "start_time": "2019-10-30T04:11:59.720560Z"
    },
    "collapsed": true
   },
   "outputs": [
    {
     "name": "stdout",
     "output_type": "stream",
     "text": [
      "loading cached tw average stats/stat_tw_dow_aver_hr_uniq_user-out+in.pickle\n",
      "loading existing mexico tower voronoi file: data/mex_tw_intpl/voronoi.geojson\n",
      "computing the intersection between p1 tower and p2 ageb\n",
      "computing area of the intersections\n",
      "computing the weight\n",
      "loading existing mexico tower voronoi file: data/mex_tw_intpl/voronoi.geojson\n",
      "computing the intersection between p1 tower and p2 ageb\n",
      "computing area of the intersections\n",
      "computing the weight\n",
      "reading existing grids\n",
      "loading existing mexico tower voronoi file: data/mex_tw_intpl/voronoi.geojson\n",
      "computing the intersection between p1 tower and p2 grid\n",
      "computing area of the intersections\n",
      "computing the weight\n",
      "reading existing grids\n",
      "dividing grids by municipality\n",
      "computing the intersection between p1 grid and p2 mgmu\n",
      "computing area of the intersections\n",
      "computing the weight\n",
      "loading existing mexico tower voronoi file: data/mex_tw_intpl/voronoi.geojson\n",
      "computing the intersection between p1 tower and p2 grid\n",
      "computing area of the intersections\n",
      "computing the weight\n",
      "reading existing grids\n",
      "loading existing mexico tower voronoi file: data/mex_tw_intpl/voronoi.geojson\n",
      "computing the intersection between p1 tower and p2 ageb\n",
      "computing area of the intersections\n",
      "computing the weight\n",
      "computing the intersection between p1 txa and p2 grid\n",
      "computing area of the intersections\n",
      "computing the weight\n",
      "reading existing grids\n",
      "dividing grids by municipality\n",
      "computing the intersection between p1 grid and p2 mgmu\n",
      "computing area of the intersections\n",
      "computing the weight\n",
      "loading existing mexico tower voronoi file: data/mex_tw_intpl/voronoi.geojson\n",
      "computing the intersection between p1 tower and p2 ageb\n",
      "computing area of the intersections\n",
      "computing the weight\n",
      "computing the intersection between p1 txa and p2 grid\n",
      "computing area of the intersections\n",
      "computing the weight\n",
      "reading existing grids\n",
      "loading existing mexico tower voronoi file: data/mex_tw_intpl/voronoi.geojson\n",
      "computing the intersection between p1 tower and p2 grid\n",
      "computing area of the intersections\n",
      "computing the weight\n",
      "reading existing grids\n",
      "dividing grids by municipality\n",
      "computing the intersection between p1 grid and p2 mgmu\n",
      "computing area of the intersections\n",
      "computing the weight\n",
      "loading existing mexico tower voronoi file: data/mex_tw_intpl/voronoi.geojson\n",
      "computing the intersection between p1 tower and p2 grid\n",
      "computing area of the intersections\n",
      "computing the weight\n",
      "reading existing grids\n",
      "loading existing mexico tower voronoi file: data/mex_tw_intpl/voronoi.geojson\n",
      "computing the intersection between p1 tower and p2 ageb\n",
      "computing area of the intersections\n",
      "computing the weight\n",
      "computing the intersection between p1 txa and p2 grid\n",
      "computing area of the intersections\n",
      "computing the weight\n",
      "reading existing grids\n",
      "dividing grids by municipality\n",
      "computing the intersection between p1 grid and p2 mgmu\n",
      "computing area of the intersections\n",
      "computing the weight\n",
      "loading existing mexico tower voronoi file: data/mex_tw_intpl/voronoi.geojson\n",
      "computing the intersection between p1 tower and p2 ageb\n",
      "computing area of the intersections\n",
      "computing the weight\n",
      "computing the intersection between p1 txa and p2 grid\n",
      "computing area of the intersections\n",
      "computing the weight\n",
      "reading tower points\n",
      "reading existing grids\n",
      "reading tower points\n",
      "reading existing grids\n",
      "dividing grids by municipality\n",
      "computing the intersection between p1 grid and p2 mgmu\n",
      "computing area of the intersections\n",
      "computing the weight\n",
      "reading tower points\n",
      "reading existing grids\n",
      "reading tower points\n",
      "reading existing grids\n",
      "dividing grids by municipality\n",
      "computing the intersection between p1 grid and p2 mgmu\n",
      "computing area of the intersections\n",
      "computing the weight\n"
     ]
    }
   ],
   "source": [
    "avg_tw, avg_a, avg_g, avg_idw = ud_helper.interpolation()"
   ]
  },
  {
   "cell_type": "markdown",
   "metadata": {},
   "source": [
    "# draw function"
   ]
  },
  {
   "cell_type": "code",
   "execution_count": 7,
   "metadata": {
    "ExecuteTime": {
     "end_time": "2019-10-30T03:49:16.632440Z",
     "start_time": "2019-10-30T03:49:14.836504Z"
    }
   },
   "outputs": [
    {
     "data": {
      "text/html": [
       "        <script type=\"text/javascript\">\n",
       "        window.PlotlyConfig = {MathJaxConfig: 'local'};\n",
       "        if (window.MathJax) {MathJax.Hub.Config({SVG: {font: \"STIX-Web\"}});}\n",
       "        if (typeof require !== 'undefined') {\n",
       "        require.undef(\"plotly\");\n",
       "        requirejs.config({\n",
       "            paths: {\n",
       "                'plotly': ['https://cdn.plot.ly/plotly-latest.min']\n",
       "            }\n",
       "        });\n",
       "        require(['plotly'], function(Plotly) {\n",
       "            window._Plotly = Plotly;\n",
       "        });\n",
       "        }\n",
       "        </script>\n",
       "        "
      ]
     },
     "metadata": {},
     "output_type": "display_data"
    }
   ],
   "source": [
    "import plotly.offline as offline\n",
    "offline.init_notebook_mode(connected=True)\n",
    "import plotly.graph_objects as go"
   ]
  },
  {
   "cell_type": "code",
   "execution_count": 143,
   "metadata": {
    "ExecuteTime": {
     "end_time": "2019-10-30T16:15:51.129911Z",
     "start_time": "2019-10-30T16:15:51.085019Z"
    }
   },
   "outputs": [],
   "source": [
    "def draw_scatter(data_df, mode='lines+markers',height=600,margin_r=100):\n",
    "    \n",
    "    data = [\n",
    "        go.Scatter(x='zm' + data_df.index.astype(str),\n",
    "                   y=data_df[intpl_type].tolist(),\n",
    "                   name=str(intpl_type),\n",
    "                   mode='lines+markers'\n",
    "                  ) for intpl_type in data_df\n",
    "    ]\n",
    "    fig = go.Figure()\n",
    "    for trace in data:\n",
    "        fig.add_trace(trace)\n",
    "    fig.update_layout(height=height,margin=dict(l=10, r=margin_r, t=10, b=10),)\n",
    "\n",
    "    offline.iplot(fig)"
   ]
  },
  {
   "cell_type": "markdown",
   "metadata": {},
   "source": [
    "# urban dilatation index"
   ]
  },
  {
   "cell_type": "code",
   "execution_count": 20,
   "metadata": {
    "ExecuteTime": {
     "end_time": "2019-10-30T13:41:41.136468Z",
     "start_time": "2019-10-30T13:33:50.732736Z"
    }
   },
   "outputs": [
    {
     "name": "stdout",
     "output_type": "stream",
     "text": [
      "computing dv_a\n",
      "computing dv_g\n",
      "computing dv_idw\n"
     ]
    }
   ],
   "source": [
    "print('computing dv_a')\n",
    "dv_a = {}\n",
    "for by, avg in avg_a.items():\n",
    "    dv_a[by] = ud_helper.dilatation.dv_for_mpa_ageb(avg, zms, zms_agebs)\n",
    "\n",
    "print('computing dv_g')\n",
    "dv_g = {}\n",
    "for (side, by, per_mun), avg in avg_g.items():\n",
    "    zms_g = zms_grids[(side, per_mun)]\n",
    "    dv_g[(side, by, per_mun)] = ud_helper.dilatation.dv_for_mpa_grids(avg, zms, zms_g)\n",
    "\n",
    "print('computing dv_idw')\n",
    "dv_idw = {}\n",
    "for key, avg in avg_idw.items():\n",
    "    zms_g = zms_grids[key]\n",
    "    dv_idw[key] = ud_helper.dilatation.dv_for_mpa_grids(avg, zms, zms_g)"
   ]
  },
  {
   "cell_type": "code",
   "execution_count": 38,
   "metadata": {
    "ExecuteTime": {
     "end_time": "2019-10-30T14:03:08.058656Z",
     "start_time": "2019-10-30T14:03:08.029582Z"
    }
   },
   "outputs": [
    {
     "data": {
      "text/plain": [
       "dict_keys([(1000, False), (1000, True), (2000, False), (2000, True)])"
      ]
     },
     "execution_count": 38,
     "metadata": {},
     "output_type": "execute_result"
    }
   ],
   "source": [
    "dv_idw.keys()"
   ]
  },
  {
   "cell_type": "code",
   "execution_count": 23,
   "metadata": {
    "ExecuteTime": {
     "end_time": "2019-10-30T13:50:49.064945Z",
     "start_time": "2019-10-30T13:50:49.039952Z"
    }
   },
   "outputs": [],
   "source": [
    "dc = 'dilatation coefficient'\n"
   ]
  },
  {
   "cell_type": "code",
   "execution_count": 43,
   "metadata": {
    "ExecuteTime": {
     "end_time": "2019-10-30T14:04:36.189051Z",
     "start_time": "2019-10-30T14:04:36.155270Z"
    }
   },
   "outputs": [],
   "source": [
    "a= {f'g{side//1000}_{by}_{per_mun}':dv[dc] for (side, by, per_mun), dv in dv_g.items() if not per_mun}\n",
    "b= {f'idw10_g{side//1000}_{per_mun}':dv[dc] for (side, per_mun), dv in dv_idw.items() if not per_mun}\n"
   ]
  },
  {
   "cell_type": "code",
   "execution_count": 44,
   "metadata": {
    "ExecuteTime": {
     "end_time": "2019-10-30T14:04:37.373972Z",
     "start_time": "2019-10-30T14:04:36.787605Z"
    },
    "cell_style": "center",
    "code_folding": []
   },
   "outputs": [
    {
     "data": {
      "application/vnd.plotly.v1+json": {
       "config": {
        "linkText": "Export to plot.ly",
        "plotlyServerURL": "https://plot.ly",
        "showLink": false
       },
       "data": [
        {
         "mode": "lines+markers",
         "name": "ageb_area",
         "type": "scatter",
         "x": [
          "zm59",
          "zm16",
          "zm58",
          "zm26",
          "zm53",
          "zm52",
          "zm20",
          "zm32",
          "zm50",
          "zm35",
          "zm19",
          "zm46",
          "zm15",
          "zm54",
          "zm48",
          "zm29",
          "zm23",
          "zm57",
          "zm28",
          "zm18",
          "zm45",
          "zm9",
          "zm7",
          "zm56",
          "zm22",
          "zm55",
          "zm10",
          "zm33",
          "zm47",
          "zm14",
          "zm25",
          "zm38",
          "zm1",
          "zm27",
          "zm36",
          "zm30",
          "zm24",
          "zm41",
          "zm8",
          "zm34",
          "zm21",
          "zm49",
          "zm51",
          "zm37",
          "zm17",
          "zm39",
          "zm11",
          "zm2",
          "zm44",
          "zm43",
          "zm6",
          "zm4",
          "zm42",
          "zm31",
          "zm13",
          "zm40",
          "zm5",
          "zm3",
          "zm12"
         ],
         "y": [
          1.1225799347717136,
          1.1257383014630606,
          1.0164836972764526,
          1.1822931772610437,
          1.2020060769898704,
          1.114828490391267,
          1.0758694433482219,
          1.1641785805807336,
          1.239097812809723,
          1.1558040603402557,
          1.104590508882458,
          1.048024101103815,
          1.0954481230323267,
          1.0947655262389275,
          1.1148290940360537,
          1.0686671771411975,
          1.1946126695845476,
          1.1509827709437086,
          1.0853948865850924,
          1.1176425788979014,
          1.0762988377707141,
          1.0215381648762456,
          1.0980060478116607,
          1.1083090847516361,
          1.068399933546693,
          1.0988145194118537,
          1.1605749346222456,
          1.09308929905373,
          1.1067908244246776,
          1.3030370645473581,
          1.1641056287539426,
          1.070956041684813,
          1.1094403279431915,
          1.0632692170064633,
          1.1551120500110326,
          1.1707714357277146,
          1.108510770768311,
          1.1700827348322318,
          1.117149303644376,
          1.2159748333090963,
          1.11095965909408,
          1.100140599384561,
          1.0601678323901238,
          1.074366877676868,
          1.0616662331458728,
          1.4212505023884807,
          1.0988522201967847,
          1.0461838136045323,
          1.117396381332256,
          1.1185613722995746,
          1.1303169211631945,
          1.1153705947895174,
          1.1261118152508751,
          1.0686589077036237,
          1.1027201358986654,
          1.2988448274200475,
          1.2214944958489535,
          1.3560513983426057,
          1.1966105981772985
         ]
        },
        {
         "mode": "lines+markers",
         "name": "ageb_pop",
         "type": "scatter",
         "x": [
          "zm59",
          "zm16",
          "zm58",
          "zm26",
          "zm53",
          "zm52",
          "zm20",
          "zm32",
          "zm50",
          "zm35",
          "zm19",
          "zm46",
          "zm15",
          "zm54",
          "zm48",
          "zm29",
          "zm23",
          "zm57",
          "zm28",
          "zm18",
          "zm45",
          "zm9",
          "zm7",
          "zm56",
          "zm22",
          "zm55",
          "zm10",
          "zm33",
          "zm47",
          "zm14",
          "zm25",
          "zm38",
          "zm1",
          "zm27",
          "zm36",
          "zm30",
          "zm24",
          "zm41",
          "zm8",
          "zm34",
          "zm21",
          "zm49",
          "zm51",
          "zm37",
          "zm17",
          "zm39",
          "zm11",
          "zm2",
          "zm44",
          "zm43",
          "zm6",
          "zm4",
          "zm42",
          "zm31",
          "zm13",
          "zm40",
          "zm5",
          "zm3",
          "zm12"
         ],
         "y": [
          1.0675425483958394,
          1.414026562960785,
          1.2081527816488493,
          1.143308646624313,
          1.2345284474783316,
          1.1346604564120446,
          1.1024187345655057,
          1.1602005450097799,
          1.2495755372940784,
          1.2152843279188055,
          1.1240555032361659,
          1.0569494248627818,
          1.2187305733237703,
          1.0866904178868941,
          1.2913595202058634,
          1.046370757307155,
          1.4444713088030259,
          1.1467140727384666,
          1.0883309672222368,
          1.1840135708635664,
          1.224601960573599,
          1.075944478177469,
          1.202179047518072,
          1.1524943185719865,
          1.0687396176503814,
          1.0918734411168107,
          1.1562622646788607,
          1.1411307552203604,
          1.1234505156915944,
          1.3375447742176705,
          1.1631229197965673,
          1.2581173260396366,
          1.108199591481096,
          1.0602425843422096,
          1.267345537637877,
          1.242632736901632,
          1.1221558081282217,
          1.2049886491512953,
          1.148131623884725,
          1.1930165746739663,
          1.1227654346859237,
          1.1535063271539432,
          1.0864937250921165,
          1.1144284254182648,
          1.107642500865525,
          1.2066446458268936,
          1.1315100011647186,
          1.0986709710974256,
          1.178211508926948,
          1.0637944734347256,
          1.16900960776745,
          1.2269342690829796,
          1.1565125628505026,
          1.0707908826510053,
          1.0959699566417844,
          1.567142034208826,
          1.3474198577775205,
          1.2085613353493863,
          1.460554830991636
         ]
        },
        {
         "mode": "lines+markers",
         "name": "g1_area_False",
         "type": "scatter",
         "x": [
          "zm59",
          "zm16",
          "zm58",
          "zm26",
          "zm53",
          "zm52",
          "zm20",
          "zm32",
          "zm50",
          "zm35",
          "zm19",
          "zm46",
          "zm15",
          "zm54",
          "zm48",
          "zm29",
          "zm23",
          "zm57",
          "zm28",
          "zm18",
          "zm45",
          "zm9",
          "zm7",
          "zm56",
          "zm22",
          "zm55",
          "zm10",
          "zm33",
          "zm47",
          "zm14",
          "zm25",
          "zm38",
          "zm1",
          "zm27",
          "zm36",
          "zm30",
          "zm24",
          "zm41",
          "zm8",
          "zm34",
          "zm21",
          "zm49",
          "zm51",
          "zm37",
          "zm17",
          "zm39",
          "zm11",
          "zm2",
          "zm44",
          "zm43",
          "zm6",
          "zm4",
          "zm42",
          "zm31",
          "zm13",
          "zm40",
          "zm5",
          "zm3",
          "zm12"
         ],
         "y": [
          1.0425752064220948,
          1.0846834671676453,
          1.0523961889723084,
          1.1779959738540602,
          1.2129987029345979,
          1.125574352341137,
          1.0530427920912753,
          1.1822505868971056,
          1.2220318444925071,
          1.2512415396271435,
          1.0595910555008266,
          1.077372917047448,
          1.139971680874547,
          1.0767116620872144,
          1.2246579928666417,
          1.0324383878596002,
          1.1638368255074294,
          1.1467320475238663,
          1.1000349855781666,
          1.1899636968493295,
          1.1362388317553584,
          1.7118806555372765,
          1.1757048035570195,
          1.1605768794177105,
          1.0779241828345314,
          1.129301726583517,
          1.1856253368687737,
          1.0783115368874667,
          1.1249291668818038,
          1.3237996984643576,
          1.19598323229698,
          1.2227008142663531,
          1.1209850856915544,
          1.0340737788597554,
          1.2203151595284254,
          1.2494053276502148,
          1.1359847663192546,
          1.2128330131842573,
          1.1559325216762244,
          1.1955525872120223,
          1.1293755090983306,
          1.1247637560304622,
          1.0509355729104668,
          1.0963348413115361,
          1.108483571916463,
          1.1849281100145517,
          1.1437879735216245,
          1.087710832423305,
          1.3059756097791686,
          1.060694368679977,
          1.1492549970218087,
          1.2195858844112162,
          1.158515872303902,
          1.0715360555163218,
          1.0966338307251302,
          1.4217491996820917,
          1.313239510971577,
          1.2026091428560706,
          1.4015761537916551
         ]
        },
        {
         "mode": "lines+markers",
         "name": "g1_pop_False",
         "type": "scatter",
         "x": [
          "zm59",
          "zm16",
          "zm58",
          "zm26",
          "zm53",
          "zm52",
          "zm20",
          "zm32",
          "zm50",
          "zm35",
          "zm19",
          "zm46",
          "zm15",
          "zm54",
          "zm48",
          "zm29",
          "zm23",
          "zm57",
          "zm28",
          "zm18",
          "zm45",
          "zm9",
          "zm7",
          "zm56",
          "zm22",
          "zm55",
          "zm10",
          "zm33",
          "zm47",
          "zm14",
          "zm25",
          "zm38",
          "zm1",
          "zm27",
          "zm36",
          "zm30",
          "zm24",
          "zm41",
          "zm8",
          "zm34",
          "zm21",
          "zm49",
          "zm51",
          "zm37",
          "zm17",
          "zm39",
          "zm11",
          "zm2",
          "zm44",
          "zm43",
          "zm6",
          "zm4",
          "zm42",
          "zm31",
          "zm13",
          "zm40",
          "zm5",
          "zm3",
          "zm12"
         ],
         "y": [
          1.064145003184953,
          1.3894509388022591,
          1.201658669190625,
          1.1353984690640955,
          1.2268428990776543,
          1.129599307614561,
          1.1022258471069226,
          1.1555468686226482,
          1.2434027175772038,
          1.2085919320164213,
          1.1174066682733963,
          1.055917060298322,
          1.2136530719828158,
          1.0815763509498484,
          1.2846893845250755,
          1.0468887116051915,
          1.4279931793785503,
          1.1450823808450667,
          1.0889921116205392,
          1.180541189382877,
          1.2144763878450777,
          1.0711588769736498,
          1.200701305457359,
          1.1476411611217887,
          1.067749505489634,
          1.0915173366912108,
          1.152216454498222,
          1.1369754044927276,
          1.1223157320880282,
          1.3355004078421169,
          1.1612602093158033,
          1.256260695299277,
          1.1071722112206186,
          1.0612985853496166,
          1.2653084938659542,
          1.238394807150718,
          1.1205408534933778,
          1.202679453722613,
          1.1449095648914591,
          1.1919729574552944,
          1.122472660508808,
          1.1509348474002785,
          1.0842048363919239,
          1.1135978436885685,
          1.107097015585578,
          1.2070359333896084,
          1.1311873117603408,
          1.0984712982130094,
          1.1759959986146393,
          1.0632952294642861,
          1.1672025416744047,
          1.225162214032542,
          1.1558393676043135,
          1.070988951543001,
          1.0957383413193975,
          1.557504594470425,
          1.3443434519543758,
          1.2063984277517896,
          1.4579016906677436
         ]
        },
        {
         "mode": "lines+markers",
         "name": "g2_area_False",
         "type": "scatter",
         "x": [
          "zm59",
          "zm16",
          "zm58",
          "zm26",
          "zm53",
          "zm52",
          "zm20",
          "zm32",
          "zm50",
          "zm35",
          "zm19",
          "zm46",
          "zm15",
          "zm54",
          "zm48",
          "zm29",
          "zm23",
          "zm57",
          "zm28",
          "zm18",
          "zm45",
          "zm9",
          "zm7",
          "zm56",
          "zm22",
          "zm55",
          "zm10",
          "zm33",
          "zm47",
          "zm14",
          "zm25",
          "zm38",
          "zm1",
          "zm27",
          "zm36",
          "zm30",
          "zm24",
          "zm41",
          "zm8",
          "zm34",
          "zm21",
          "zm49",
          "zm51",
          "zm37",
          "zm17",
          "zm39",
          "zm11",
          "zm2",
          "zm44",
          "zm43",
          "zm6",
          "zm4",
          "zm42",
          "zm31",
          "zm13",
          "zm40",
          "zm5",
          "zm3",
          "zm12"
         ],
         "y": [
          1.0354512968430627,
          1.0767115718899245,
          1.0525555773889756,
          1.1555852341676087,
          1.1764446796671397,
          1.1173888297373784,
          1.0524623008414735,
          1.1577489518051545,
          1.2005463584093032,
          1.2106691642971523,
          1.0507795663952189,
          1.0727482737524545,
          1.1371116729237492,
          1.062847461930837,
          1.203616833510947,
          1.0316511906575865,
          1.1580387745596494,
          1.1424544985054932,
          1.094316116249248,
          1.1850322576185544,
          1.132777785174395,
          1.7097096291180196,
          1.1690015840150305,
          1.149684022624747,
          1.0745353558192576,
          1.1228909317848514,
          1.1665058074365566,
          1.0694236416577478,
          1.1195950121934652,
          1.3121296772553173,
          1.177543890030066,
          1.2141117008562377,
          1.1125722006658756,
          1.033640403505156,
          1.210371006563098,
          1.2226847285547595,
          1.124697567773982,
          1.198543970587997,
          1.1442346420020828,
          1.189847624943743,
          1.12747163882505,
          1.117694138277169,
          1.0489873244376728,
          1.0910611914688246,
          1.1021113929848354,
          1.1679424501671778,
          1.1411049214696085,
          1.0865507561691667,
          1.298916810409293,
          1.0593082909018703,
          1.1422029030240788,
          1.2138559277425092,
          1.150204377946497,
          1.0697292297609637,
          1.095658597703785,
          1.4129327615698553,
          1.3007417396322902,
          1.1969910844840987,
          1.3908158574137557
         ]
        },
        {
         "mode": "lines+markers",
         "name": "g2_pop_False",
         "type": "scatter",
         "x": [
          "zm59",
          "zm16",
          "zm58",
          "zm26",
          "zm53",
          "zm52",
          "zm20",
          "zm32",
          "zm50",
          "zm35",
          "zm19",
          "zm46",
          "zm15",
          "zm54",
          "zm48",
          "zm29",
          "zm23",
          "zm57",
          "zm28",
          "zm18",
          "zm45",
          "zm9",
          "zm7",
          "zm56",
          "zm22",
          "zm55",
          "zm10",
          "zm33",
          "zm47",
          "zm14",
          "zm25",
          "zm38",
          "zm1",
          "zm27",
          "zm36",
          "zm30",
          "zm24",
          "zm41",
          "zm8",
          "zm34",
          "zm21",
          "zm49",
          "zm51",
          "zm37",
          "zm17",
          "zm39",
          "zm11",
          "zm2",
          "zm44",
          "zm43",
          "zm6",
          "zm4",
          "zm42",
          "zm31",
          "zm13",
          "zm40",
          "zm5",
          "zm3",
          "zm12"
         ],
         "y": [
          1.046895652479513,
          1.341908919857475,
          1.1878821410470908,
          1.1106552327880042,
          1.1894882339172872,
          1.1239293259245695,
          1.097681398864867,
          1.1353573190584316,
          1.218146705899216,
          1.1689653233939399,
          1.0995376231218228,
          1.0507333228870785,
          1.1987684938091472,
          1.0608504319032306,
          1.2590452961537655,
          1.0450946472624711,
          1.384815672465046,
          1.1402644087581424,
          1.0843495553669429,
          1.1737892192598662,
          1.2097740156585186,
          1.0636877837704581,
          1.1924262870748503,
          1.1340554902208289,
          1.064880103716737,
          1.0862885849327633,
          1.1368178133806623,
          1.1266569317281594,
          1.1202488428724144,
          1.3239529375300587,
          1.1467918946858877,
          1.2461591970422876,
          1.0993035880772375,
          1.0591438051040434,
          1.2567791901989898,
          1.2096596140035283,
          1.110043870129722,
          1.1884827017896817,
          1.1405824705757972,
          1.1854942720530188,
          1.1209471124915542,
          1.1422214840885594,
          1.0771321929421651,
          1.1064943413937955,
          1.1018678892447689,
          1.170855058982306,
          1.1298600793500309,
          1.0972146681457848,
          1.1732228925129549,
          1.060932336240812,
          1.1616863915660935,
          1.218505760373271,
          1.1492004718144946,
          1.0696553964423126,
          1.09451405737101,
          1.5455710520670818,
          1.3308709281582891,
          1.1981251070970786,
          1.447487949512994
         ]
        },
        {
         "mode": "lines+markers",
         "name": "idw10_g1_False",
         "type": "scatter",
         "x": [
          "zm59",
          "zm16",
          "zm58",
          "zm26",
          "zm53",
          "zm52",
          "zm20",
          "zm32",
          "zm50",
          "zm35",
          "zm19",
          "zm46",
          "zm15",
          "zm54",
          "zm48",
          "zm29",
          "zm23",
          "zm57",
          "zm28",
          "zm18",
          "zm45",
          "zm9",
          "zm7",
          "zm56",
          "zm22",
          "zm55",
          "zm10",
          "zm33",
          "zm47",
          "zm14",
          "zm25",
          "zm38",
          "zm1",
          "zm27",
          "zm36",
          "zm30",
          "zm24",
          "zm41",
          "zm8",
          "zm34",
          "zm21",
          "zm49",
          "zm51",
          "zm37",
          "zm17",
          "zm39",
          "zm11",
          "zm2",
          "zm44",
          "zm43",
          "zm6",
          "zm4",
          "zm42",
          "zm31",
          "zm13",
          "zm40",
          "zm5",
          "zm3",
          "zm12"
         ],
         "y": [
          1.0026870111185764,
          1.0090581038927526,
          1.0000000000000007,
          1.0059359474647764,
          1.0137912928139385,
          1.0295546832469316,
          1.0025634292197088,
          1.0466406705425635,
          1.0359047277224116,
          1.024505590071904,
          1.0026392494496754,
          1.011181734186959,
          1.0304232127580288,
          1.0006437561678934,
          1.121849306219277,
          1.0116951136139911,
          1.0015537422446967,
          1.054808348553906,
          1.0411568618388132,
          1.0325820268147763,
          1.0441198562405551,
          1.0056158270301274,
          1.035714875273847,
          1.0418367779964819,
          1.0160204703153322,
          1.0317073639417906,
          1.0616889968618954,
          1.005793894981104,
          1.0492773318097521,
          1.115095299920704,
          1.0288887097479427,
          1.1211626942985307,
          1.0307376700446182,
          1.0089851916365749,
          1.0503655565965948,
          1.0383749010394154,
          1.0500460432124403,
          1.0486401763274735,
          1.0589740474661857,
          1.059493847725915,
          1.0709762899100124,
          1.0274612811205481,
          1.0054442687595784,
          1.0379837069037456,
          1.0394772035375288,
          1.0010729543488133,
          1.0821605679662634,
          1.1467662067277609,
          1.0456789780711344,
          1.0291109587528595,
          1.0442998014068285,
          1.0585993295470182,
          1.056184066430668,
          1.0783275253939453,
          1.043434411477517,
          1.0717961839435868,
          1.080554531429872,
          1.079817005458184,
          1.158416656653
         ]
        },
        {
         "mode": "lines+markers",
         "name": "idw10_g2_False",
         "type": "scatter",
         "x": [
          "zm59",
          "zm16",
          "zm58",
          "zm26",
          "zm53",
          "zm52",
          "zm20",
          "zm32",
          "zm50",
          "zm35",
          "zm19",
          "zm46",
          "zm15",
          "zm54",
          "zm48",
          "zm29",
          "zm23",
          "zm57",
          "zm28",
          "zm18",
          "zm45",
          "zm9",
          "zm7",
          "zm56",
          "zm22",
          "zm55",
          "zm10",
          "zm33",
          "zm47",
          "zm14",
          "zm25",
          "zm38",
          "zm1",
          "zm27",
          "zm36",
          "zm30",
          "zm24",
          "zm41",
          "zm8",
          "zm34",
          "zm21",
          "zm49",
          "zm51",
          "zm37",
          "zm17",
          "zm39",
          "zm11",
          "zm2",
          "zm44",
          "zm43",
          "zm6",
          "zm4",
          "zm42",
          "zm31",
          "zm13",
          "zm40",
          "zm5",
          "zm3",
          "zm12"
         ],
         "y": [
          1.0040432742012273,
          1.0068910507006308,
          1.0000000000000004,
          1.0058609077073892,
          1.0229182444628557,
          1.0318723245529402,
          1.0034923831067346,
          1.0412386542514511,
          1.0277174403379135,
          1.0186391985616288,
          1.002931758270024,
          1.015109709015567,
          1.0265959356109973,
          1.001383154598222,
          1.1105678698353818,
          1.012643119870159,
          1.0136715507344842,
          1.05214387964199,
          1.0401513213213769,
          1.028345565302894,
          1.0426938455267367,
          1.0051761818388554,
          1.0334084308471927,
          1.0428709214288188,
          1.014412912199005,
          1.0256315636606486,
          1.0563363357400917,
          1.0051063797130617,
          1.0570043662756183,
          1.116912153503367,
          1.0313658630659317,
          1.1102700938211143,
          1.030361876658442,
          1.0092755711786854,
          1.0562248504684113,
          1.0365837546977834,
          1.0489107936785613,
          1.047471424677112,
          1.0447883546987238,
          1.0658028744068087,
          1.0726123474668472,
          1.0266479179324839,
          1.0052031055907,
          1.0368364681188962,
          1.0418993074463192,
          1.0029609843103895,
          1.0842404252534465,
          1.140125188582548,
          1.04456939714993,
          1.0297883571277446,
          1.0505208971023092,
          1.0566784688192952,
          1.0612891914966271,
          1.0784469595078705,
          1.0413596333645625,
          1.0767589550526655,
          1.0731740821252327,
          1.0796186936955032,
          1.1528319943809664
         ]
        }
       ],
       "layout": {
        "height": 300,
        "margin": {
         "b": 10,
         "l": 10,
         "r": 100,
         "t": 10
        },
        "template": {
         "data": {
          "bar": [
           {
            "error_x": {
             "color": "#2a3f5f"
            },
            "error_y": {
             "color": "#2a3f5f"
            },
            "marker": {
             "line": {
              "color": "#E5ECF6",
              "width": 0.5
             }
            },
            "type": "bar"
           }
          ],
          "barpolar": [
           {
            "marker": {
             "line": {
              "color": "#E5ECF6",
              "width": 0.5
             }
            },
            "type": "barpolar"
           }
          ],
          "carpet": [
           {
            "aaxis": {
             "endlinecolor": "#2a3f5f",
             "gridcolor": "white",
             "linecolor": "white",
             "minorgridcolor": "white",
             "startlinecolor": "#2a3f5f"
            },
            "baxis": {
             "endlinecolor": "#2a3f5f",
             "gridcolor": "white",
             "linecolor": "white",
             "minorgridcolor": "white",
             "startlinecolor": "#2a3f5f"
            },
            "type": "carpet"
           }
          ],
          "choropleth": [
           {
            "colorbar": {
             "outlinewidth": 0,
             "ticks": ""
            },
            "type": "choropleth"
           }
          ],
          "contour": [
           {
            "colorbar": {
             "outlinewidth": 0,
             "ticks": ""
            },
            "colorscale": [
             [
              0,
              "#0d0887"
             ],
             [
              0.1111111111111111,
              "#46039f"
             ],
             [
              0.2222222222222222,
              "#7201a8"
             ],
             [
              0.3333333333333333,
              "#9c179e"
             ],
             [
              0.4444444444444444,
              "#bd3786"
             ],
             [
              0.5555555555555556,
              "#d8576b"
             ],
             [
              0.6666666666666666,
              "#ed7953"
             ],
             [
              0.7777777777777778,
              "#fb9f3a"
             ],
             [
              0.8888888888888888,
              "#fdca26"
             ],
             [
              1,
              "#f0f921"
             ]
            ],
            "type": "contour"
           }
          ],
          "contourcarpet": [
           {
            "colorbar": {
             "outlinewidth": 0,
             "ticks": ""
            },
            "type": "contourcarpet"
           }
          ],
          "heatmap": [
           {
            "colorbar": {
             "outlinewidth": 0,
             "ticks": ""
            },
            "colorscale": [
             [
              0,
              "#0d0887"
             ],
             [
              0.1111111111111111,
              "#46039f"
             ],
             [
              0.2222222222222222,
              "#7201a8"
             ],
             [
              0.3333333333333333,
              "#9c179e"
             ],
             [
              0.4444444444444444,
              "#bd3786"
             ],
             [
              0.5555555555555556,
              "#d8576b"
             ],
             [
              0.6666666666666666,
              "#ed7953"
             ],
             [
              0.7777777777777778,
              "#fb9f3a"
             ],
             [
              0.8888888888888888,
              "#fdca26"
             ],
             [
              1,
              "#f0f921"
             ]
            ],
            "type": "heatmap"
           }
          ],
          "heatmapgl": [
           {
            "colorbar": {
             "outlinewidth": 0,
             "ticks": ""
            },
            "colorscale": [
             [
              0,
              "#0d0887"
             ],
             [
              0.1111111111111111,
              "#46039f"
             ],
             [
              0.2222222222222222,
              "#7201a8"
             ],
             [
              0.3333333333333333,
              "#9c179e"
             ],
             [
              0.4444444444444444,
              "#bd3786"
             ],
             [
              0.5555555555555556,
              "#d8576b"
             ],
             [
              0.6666666666666666,
              "#ed7953"
             ],
             [
              0.7777777777777778,
              "#fb9f3a"
             ],
             [
              0.8888888888888888,
              "#fdca26"
             ],
             [
              1,
              "#f0f921"
             ]
            ],
            "type": "heatmapgl"
           }
          ],
          "histogram": [
           {
            "marker": {
             "colorbar": {
              "outlinewidth": 0,
              "ticks": ""
             }
            },
            "type": "histogram"
           }
          ],
          "histogram2d": [
           {
            "colorbar": {
             "outlinewidth": 0,
             "ticks": ""
            },
            "colorscale": [
             [
              0,
              "#0d0887"
             ],
             [
              0.1111111111111111,
              "#46039f"
             ],
             [
              0.2222222222222222,
              "#7201a8"
             ],
             [
              0.3333333333333333,
              "#9c179e"
             ],
             [
              0.4444444444444444,
              "#bd3786"
             ],
             [
              0.5555555555555556,
              "#d8576b"
             ],
             [
              0.6666666666666666,
              "#ed7953"
             ],
             [
              0.7777777777777778,
              "#fb9f3a"
             ],
             [
              0.8888888888888888,
              "#fdca26"
             ],
             [
              1,
              "#f0f921"
             ]
            ],
            "type": "histogram2d"
           }
          ],
          "histogram2dcontour": [
           {
            "colorbar": {
             "outlinewidth": 0,
             "ticks": ""
            },
            "colorscale": [
             [
              0,
              "#0d0887"
             ],
             [
              0.1111111111111111,
              "#46039f"
             ],
             [
              0.2222222222222222,
              "#7201a8"
             ],
             [
              0.3333333333333333,
              "#9c179e"
             ],
             [
              0.4444444444444444,
              "#bd3786"
             ],
             [
              0.5555555555555556,
              "#d8576b"
             ],
             [
              0.6666666666666666,
              "#ed7953"
             ],
             [
              0.7777777777777778,
              "#fb9f3a"
             ],
             [
              0.8888888888888888,
              "#fdca26"
             ],
             [
              1,
              "#f0f921"
             ]
            ],
            "type": "histogram2dcontour"
           }
          ],
          "mesh3d": [
           {
            "colorbar": {
             "outlinewidth": 0,
             "ticks": ""
            },
            "type": "mesh3d"
           }
          ],
          "parcoords": [
           {
            "line": {
             "colorbar": {
              "outlinewidth": 0,
              "ticks": ""
             }
            },
            "type": "parcoords"
           }
          ],
          "scatter": [
           {
            "marker": {
             "colorbar": {
              "outlinewidth": 0,
              "ticks": ""
             }
            },
            "type": "scatter"
           }
          ],
          "scatter3d": [
           {
            "line": {
             "colorbar": {
              "outlinewidth": 0,
              "ticks": ""
             }
            },
            "marker": {
             "colorbar": {
              "outlinewidth": 0,
              "ticks": ""
             }
            },
            "type": "scatter3d"
           }
          ],
          "scattercarpet": [
           {
            "marker": {
             "colorbar": {
              "outlinewidth": 0,
              "ticks": ""
             }
            },
            "type": "scattercarpet"
           }
          ],
          "scattergeo": [
           {
            "marker": {
             "colorbar": {
              "outlinewidth": 0,
              "ticks": ""
             }
            },
            "type": "scattergeo"
           }
          ],
          "scattergl": [
           {
            "marker": {
             "colorbar": {
              "outlinewidth": 0,
              "ticks": ""
             }
            },
            "type": "scattergl"
           }
          ],
          "scattermapbox": [
           {
            "marker": {
             "colorbar": {
              "outlinewidth": 0,
              "ticks": ""
             }
            },
            "type": "scattermapbox"
           }
          ],
          "scatterpolar": [
           {
            "marker": {
             "colorbar": {
              "outlinewidth": 0,
              "ticks": ""
             }
            },
            "type": "scatterpolar"
           }
          ],
          "scatterpolargl": [
           {
            "marker": {
             "colorbar": {
              "outlinewidth": 0,
              "ticks": ""
             }
            },
            "type": "scatterpolargl"
           }
          ],
          "scatterternary": [
           {
            "marker": {
             "colorbar": {
              "outlinewidth": 0,
              "ticks": ""
             }
            },
            "type": "scatterternary"
           }
          ],
          "surface": [
           {
            "colorbar": {
             "outlinewidth": 0,
             "ticks": ""
            },
            "colorscale": [
             [
              0,
              "#0d0887"
             ],
             [
              0.1111111111111111,
              "#46039f"
             ],
             [
              0.2222222222222222,
              "#7201a8"
             ],
             [
              0.3333333333333333,
              "#9c179e"
             ],
             [
              0.4444444444444444,
              "#bd3786"
             ],
             [
              0.5555555555555556,
              "#d8576b"
             ],
             [
              0.6666666666666666,
              "#ed7953"
             ],
             [
              0.7777777777777778,
              "#fb9f3a"
             ],
             [
              0.8888888888888888,
              "#fdca26"
             ],
             [
              1,
              "#f0f921"
             ]
            ],
            "type": "surface"
           }
          ],
          "table": [
           {
            "cells": {
             "fill": {
              "color": "#EBF0F8"
             },
             "line": {
              "color": "white"
             }
            },
            "header": {
             "fill": {
              "color": "#C8D4E3"
             },
             "line": {
              "color": "white"
             }
            },
            "type": "table"
           }
          ]
         },
         "layout": {
          "annotationdefaults": {
           "arrowcolor": "#2a3f5f",
           "arrowhead": 0,
           "arrowwidth": 1
          },
          "colorscale": {
           "diverging": [
            [
             0,
             "#8e0152"
            ],
            [
             0.1,
             "#c51b7d"
            ],
            [
             0.2,
             "#de77ae"
            ],
            [
             0.3,
             "#f1b6da"
            ],
            [
             0.4,
             "#fde0ef"
            ],
            [
             0.5,
             "#f7f7f7"
            ],
            [
             0.6,
             "#e6f5d0"
            ],
            [
             0.7,
             "#b8e186"
            ],
            [
             0.8,
             "#7fbc41"
            ],
            [
             0.9,
             "#4d9221"
            ],
            [
             1,
             "#276419"
            ]
           ],
           "sequential": [
            [
             0,
             "#0d0887"
            ],
            [
             0.1111111111111111,
             "#46039f"
            ],
            [
             0.2222222222222222,
             "#7201a8"
            ],
            [
             0.3333333333333333,
             "#9c179e"
            ],
            [
             0.4444444444444444,
             "#bd3786"
            ],
            [
             0.5555555555555556,
             "#d8576b"
            ],
            [
             0.6666666666666666,
             "#ed7953"
            ],
            [
             0.7777777777777778,
             "#fb9f3a"
            ],
            [
             0.8888888888888888,
             "#fdca26"
            ],
            [
             1,
             "#f0f921"
            ]
           ],
           "sequentialminus": [
            [
             0,
             "#0d0887"
            ],
            [
             0.1111111111111111,
             "#46039f"
            ],
            [
             0.2222222222222222,
             "#7201a8"
            ],
            [
             0.3333333333333333,
             "#9c179e"
            ],
            [
             0.4444444444444444,
             "#bd3786"
            ],
            [
             0.5555555555555556,
             "#d8576b"
            ],
            [
             0.6666666666666666,
             "#ed7953"
            ],
            [
             0.7777777777777778,
             "#fb9f3a"
            ],
            [
             0.8888888888888888,
             "#fdca26"
            ],
            [
             1,
             "#f0f921"
            ]
           ]
          },
          "colorway": [
           "#636efa",
           "#EF553B",
           "#00cc96",
           "#ab63fa",
           "#FFA15A",
           "#19d3f3",
           "#FF6692",
           "#B6E880",
           "#FF97FF",
           "#FECB52"
          ],
          "font": {
           "color": "#2a3f5f"
          },
          "geo": {
           "bgcolor": "white",
           "lakecolor": "white",
           "landcolor": "#E5ECF6",
           "showlakes": true,
           "showland": true,
           "subunitcolor": "white"
          },
          "hoverlabel": {
           "align": "left"
          },
          "hovermode": "closest",
          "mapbox": {
           "style": "light"
          },
          "paper_bgcolor": "white",
          "plot_bgcolor": "#E5ECF6",
          "polar": {
           "angularaxis": {
            "gridcolor": "white",
            "linecolor": "white",
            "ticks": ""
           },
           "bgcolor": "#E5ECF6",
           "radialaxis": {
            "gridcolor": "white",
            "linecolor": "white",
            "ticks": ""
           }
          },
          "scene": {
           "xaxis": {
            "backgroundcolor": "#E5ECF6",
            "gridcolor": "white",
            "gridwidth": 2,
            "linecolor": "white",
            "showbackground": true,
            "ticks": "",
            "zerolinecolor": "white"
           },
           "yaxis": {
            "backgroundcolor": "#E5ECF6",
            "gridcolor": "white",
            "gridwidth": 2,
            "linecolor": "white",
            "showbackground": true,
            "ticks": "",
            "zerolinecolor": "white"
           },
           "zaxis": {
            "backgroundcolor": "#E5ECF6",
            "gridcolor": "white",
            "gridwidth": 2,
            "linecolor": "white",
            "showbackground": true,
            "ticks": "",
            "zerolinecolor": "white"
           }
          },
          "shapedefaults": {
           "line": {
            "color": "#2a3f5f"
           }
          },
          "ternary": {
           "aaxis": {
            "gridcolor": "white",
            "linecolor": "white",
            "ticks": ""
           },
           "baxis": {
            "gridcolor": "white",
            "linecolor": "white",
            "ticks": ""
           },
           "bgcolor": "#E5ECF6",
           "caxis": {
            "gridcolor": "white",
            "linecolor": "white",
            "ticks": ""
           }
          },
          "title": {
           "x": 0.05
          },
          "xaxis": {
           "automargin": true,
           "gridcolor": "white",
           "linecolor": "white",
           "ticks": "",
           "zerolinecolor": "white",
           "zerolinewidth": 2
          },
          "yaxis": {
           "automargin": true,
           "gridcolor": "white",
           "linecolor": "white",
           "ticks": "",
           "zerolinecolor": "white",
           "zerolinewidth": 2
          }
         }
        }
       }
      },
      "text/html": [
       "<div>\n",
       "        \n",
       "        \n",
       "            <div id=\"7776a3ff-ca78-4e61-8516-c18203159928\" class=\"plotly-graph-div\" style=\"height:300px; width:100%;\"></div>\n",
       "            <script type=\"text/javascript\">\n",
       "                require([\"plotly\"], function(Plotly) {\n",
       "                    window.PLOTLYENV=window.PLOTLYENV || {};\n",
       "                    \n",
       "                if (document.getElementById(\"7776a3ff-ca78-4e61-8516-c18203159928\")) {\n",
       "                    Plotly.newPlot(\n",
       "                        '7776a3ff-ca78-4e61-8516-c18203159928',\n",
       "                        [{\"mode\": \"lines+markers\", \"name\": \"ageb_area\", \"type\": \"scatter\", \"x\": [\"zm59\", \"zm16\", \"zm58\", \"zm26\", \"zm53\", \"zm52\", \"zm20\", \"zm32\", \"zm50\", \"zm35\", \"zm19\", \"zm46\", \"zm15\", \"zm54\", \"zm48\", \"zm29\", \"zm23\", \"zm57\", \"zm28\", \"zm18\", \"zm45\", \"zm9\", \"zm7\", \"zm56\", \"zm22\", \"zm55\", \"zm10\", \"zm33\", \"zm47\", \"zm14\", \"zm25\", \"zm38\", \"zm1\", \"zm27\", \"zm36\", \"zm30\", \"zm24\", \"zm41\", \"zm8\", \"zm34\", \"zm21\", \"zm49\", \"zm51\", \"zm37\", \"zm17\", \"zm39\", \"zm11\", \"zm2\", \"zm44\", \"zm43\", \"zm6\", \"zm4\", \"zm42\", \"zm31\", \"zm13\", \"zm40\", \"zm5\", \"zm3\", \"zm12\"], \"y\": [1.1225799347717136, 1.1257383014630606, 1.0164836972764526, 1.1822931772610437, 1.2020060769898704, 1.114828490391267, 1.0758694433482219, 1.1641785805807336, 1.239097812809723, 1.1558040603402557, 1.104590508882458, 1.048024101103815, 1.0954481230323267, 1.0947655262389275, 1.1148290940360537, 1.0686671771411975, 1.1946126695845476, 1.1509827709437086, 1.0853948865850924, 1.1176425788979014, 1.0762988377707141, 1.0215381648762456, 1.0980060478116607, 1.1083090847516361, 1.068399933546693, 1.0988145194118537, 1.1605749346222456, 1.09308929905373, 1.1067908244246776, 1.3030370645473581, 1.1641056287539426, 1.070956041684813, 1.1094403279431915, 1.0632692170064633, 1.1551120500110326, 1.1707714357277146, 1.108510770768311, 1.1700827348322318, 1.117149303644376, 1.2159748333090963, 1.11095965909408, 1.100140599384561, 1.0601678323901238, 1.074366877676868, 1.0616662331458728, 1.4212505023884807, 1.0988522201967847, 1.0461838136045323, 1.117396381332256, 1.1185613722995746, 1.1303169211631945, 1.1153705947895174, 1.1261118152508751, 1.0686589077036237, 1.1027201358986654, 1.2988448274200475, 1.2214944958489535, 1.3560513983426057, 1.1966105981772985]}, {\"mode\": \"lines+markers\", \"name\": \"ageb_pop\", \"type\": \"scatter\", \"x\": [\"zm59\", \"zm16\", \"zm58\", \"zm26\", \"zm53\", \"zm52\", \"zm20\", \"zm32\", \"zm50\", \"zm35\", \"zm19\", \"zm46\", \"zm15\", \"zm54\", \"zm48\", \"zm29\", \"zm23\", \"zm57\", \"zm28\", \"zm18\", \"zm45\", \"zm9\", \"zm7\", \"zm56\", \"zm22\", \"zm55\", \"zm10\", \"zm33\", \"zm47\", \"zm14\", \"zm25\", \"zm38\", \"zm1\", \"zm27\", \"zm36\", \"zm30\", \"zm24\", \"zm41\", \"zm8\", \"zm34\", \"zm21\", \"zm49\", \"zm51\", \"zm37\", \"zm17\", \"zm39\", \"zm11\", \"zm2\", \"zm44\", \"zm43\", \"zm6\", \"zm4\", \"zm42\", \"zm31\", \"zm13\", \"zm40\", \"zm5\", \"zm3\", \"zm12\"], \"y\": [1.0675425483958394, 1.414026562960785, 1.2081527816488493, 1.143308646624313, 1.2345284474783316, 1.1346604564120446, 1.1024187345655057, 1.1602005450097799, 1.2495755372940784, 1.2152843279188055, 1.1240555032361659, 1.0569494248627818, 1.2187305733237703, 1.0866904178868941, 1.2913595202058634, 1.046370757307155, 1.4444713088030259, 1.1467140727384666, 1.0883309672222368, 1.1840135708635664, 1.224601960573599, 1.075944478177469, 1.202179047518072, 1.1524943185719865, 1.0687396176503814, 1.0918734411168107, 1.1562622646788607, 1.1411307552203604, 1.1234505156915944, 1.3375447742176705, 1.1631229197965673, 1.2581173260396366, 1.108199591481096, 1.0602425843422096, 1.267345537637877, 1.242632736901632, 1.1221558081282217, 1.2049886491512953, 1.148131623884725, 1.1930165746739663, 1.1227654346859237, 1.1535063271539432, 1.0864937250921165, 1.1144284254182648, 1.107642500865525, 1.2066446458268936, 1.1315100011647186, 1.0986709710974256, 1.178211508926948, 1.0637944734347256, 1.16900960776745, 1.2269342690829796, 1.1565125628505026, 1.0707908826510053, 1.0959699566417844, 1.567142034208826, 1.3474198577775205, 1.2085613353493863, 1.460554830991636]}, {\"mode\": \"lines+markers\", \"name\": \"g1_area_False\", \"type\": \"scatter\", \"x\": [\"zm59\", \"zm16\", \"zm58\", \"zm26\", \"zm53\", \"zm52\", \"zm20\", \"zm32\", \"zm50\", \"zm35\", \"zm19\", \"zm46\", \"zm15\", \"zm54\", \"zm48\", \"zm29\", \"zm23\", \"zm57\", \"zm28\", \"zm18\", \"zm45\", \"zm9\", \"zm7\", \"zm56\", \"zm22\", \"zm55\", \"zm10\", \"zm33\", \"zm47\", \"zm14\", \"zm25\", \"zm38\", \"zm1\", \"zm27\", \"zm36\", \"zm30\", \"zm24\", \"zm41\", \"zm8\", \"zm34\", \"zm21\", \"zm49\", \"zm51\", \"zm37\", \"zm17\", \"zm39\", \"zm11\", \"zm2\", \"zm44\", \"zm43\", \"zm6\", \"zm4\", \"zm42\", \"zm31\", \"zm13\", \"zm40\", \"zm5\", \"zm3\", \"zm12\"], \"y\": [1.0425752064220948, 1.0846834671676453, 1.0523961889723084, 1.1779959738540602, 1.2129987029345979, 1.125574352341137, 1.0530427920912753, 1.1822505868971056, 1.2220318444925071, 1.2512415396271435, 1.0595910555008266, 1.077372917047448, 1.139971680874547, 1.0767116620872144, 1.2246579928666417, 1.0324383878596002, 1.1638368255074294, 1.1467320475238663, 1.1000349855781666, 1.1899636968493295, 1.1362388317553584, 1.7118806555372765, 1.1757048035570195, 1.1605768794177105, 1.0779241828345314, 1.129301726583517, 1.1856253368687737, 1.0783115368874667, 1.1249291668818038, 1.3237996984643576, 1.19598323229698, 1.2227008142663531, 1.1209850856915544, 1.0340737788597554, 1.2203151595284254, 1.2494053276502148, 1.1359847663192546, 1.2128330131842573, 1.1559325216762244, 1.1955525872120223, 1.1293755090983306, 1.1247637560304622, 1.0509355729104668, 1.0963348413115361, 1.108483571916463, 1.1849281100145517, 1.1437879735216245, 1.087710832423305, 1.3059756097791686, 1.060694368679977, 1.1492549970218087, 1.2195858844112162, 1.158515872303902, 1.0715360555163218, 1.0966338307251302, 1.4217491996820917, 1.313239510971577, 1.2026091428560706, 1.4015761537916551]}, {\"mode\": \"lines+markers\", \"name\": \"g1_pop_False\", \"type\": \"scatter\", \"x\": [\"zm59\", \"zm16\", \"zm58\", \"zm26\", \"zm53\", \"zm52\", \"zm20\", \"zm32\", \"zm50\", \"zm35\", \"zm19\", \"zm46\", \"zm15\", \"zm54\", \"zm48\", \"zm29\", \"zm23\", \"zm57\", \"zm28\", \"zm18\", \"zm45\", \"zm9\", \"zm7\", \"zm56\", \"zm22\", \"zm55\", \"zm10\", \"zm33\", \"zm47\", \"zm14\", \"zm25\", \"zm38\", \"zm1\", \"zm27\", \"zm36\", \"zm30\", \"zm24\", \"zm41\", \"zm8\", \"zm34\", \"zm21\", \"zm49\", \"zm51\", \"zm37\", \"zm17\", \"zm39\", \"zm11\", \"zm2\", \"zm44\", \"zm43\", \"zm6\", \"zm4\", \"zm42\", \"zm31\", \"zm13\", \"zm40\", \"zm5\", \"zm3\", \"zm12\"], \"y\": [1.064145003184953, 1.3894509388022591, 1.201658669190625, 1.1353984690640955, 1.2268428990776543, 1.129599307614561, 1.1022258471069226, 1.1555468686226482, 1.2434027175772038, 1.2085919320164213, 1.1174066682733963, 1.055917060298322, 1.2136530719828158, 1.0815763509498484, 1.2846893845250755, 1.0468887116051915, 1.4279931793785503, 1.1450823808450667, 1.0889921116205392, 1.180541189382877, 1.2144763878450777, 1.0711588769736498, 1.200701305457359, 1.1476411611217887, 1.067749505489634, 1.0915173366912108, 1.152216454498222, 1.1369754044927276, 1.1223157320880282, 1.3355004078421169, 1.1612602093158033, 1.256260695299277, 1.1071722112206186, 1.0612985853496166, 1.2653084938659542, 1.238394807150718, 1.1205408534933778, 1.202679453722613, 1.1449095648914591, 1.1919729574552944, 1.122472660508808, 1.1509348474002785, 1.0842048363919239, 1.1135978436885685, 1.107097015585578, 1.2070359333896084, 1.1311873117603408, 1.0984712982130094, 1.1759959986146393, 1.0632952294642861, 1.1672025416744047, 1.225162214032542, 1.1558393676043135, 1.070988951543001, 1.0957383413193975, 1.557504594470425, 1.3443434519543758, 1.2063984277517896, 1.4579016906677436]}, {\"mode\": \"lines+markers\", \"name\": \"g2_area_False\", \"type\": \"scatter\", \"x\": [\"zm59\", \"zm16\", \"zm58\", \"zm26\", \"zm53\", \"zm52\", \"zm20\", \"zm32\", \"zm50\", \"zm35\", \"zm19\", \"zm46\", \"zm15\", \"zm54\", \"zm48\", \"zm29\", \"zm23\", \"zm57\", \"zm28\", \"zm18\", \"zm45\", \"zm9\", \"zm7\", \"zm56\", \"zm22\", \"zm55\", \"zm10\", \"zm33\", \"zm47\", \"zm14\", \"zm25\", \"zm38\", \"zm1\", \"zm27\", \"zm36\", \"zm30\", \"zm24\", \"zm41\", \"zm8\", \"zm34\", \"zm21\", \"zm49\", \"zm51\", \"zm37\", \"zm17\", \"zm39\", \"zm11\", \"zm2\", \"zm44\", \"zm43\", \"zm6\", \"zm4\", \"zm42\", \"zm31\", \"zm13\", \"zm40\", \"zm5\", \"zm3\", \"zm12\"], \"y\": [1.0354512968430627, 1.0767115718899245, 1.0525555773889756, 1.1555852341676087, 1.1764446796671397, 1.1173888297373784, 1.0524623008414735, 1.1577489518051545, 1.2005463584093032, 1.2106691642971523, 1.0507795663952189, 1.0727482737524545, 1.1371116729237492, 1.062847461930837, 1.203616833510947, 1.0316511906575865, 1.1580387745596494, 1.1424544985054932, 1.094316116249248, 1.1850322576185544, 1.132777785174395, 1.7097096291180196, 1.1690015840150305, 1.149684022624747, 1.0745353558192576, 1.1228909317848514, 1.1665058074365566, 1.0694236416577478, 1.1195950121934652, 1.3121296772553173, 1.177543890030066, 1.2141117008562377, 1.1125722006658756, 1.033640403505156, 1.210371006563098, 1.2226847285547595, 1.124697567773982, 1.198543970587997, 1.1442346420020828, 1.189847624943743, 1.12747163882505, 1.117694138277169, 1.0489873244376728, 1.0910611914688246, 1.1021113929848354, 1.1679424501671778, 1.1411049214696085, 1.0865507561691667, 1.298916810409293, 1.0593082909018703, 1.1422029030240788, 1.2138559277425092, 1.150204377946497, 1.0697292297609637, 1.095658597703785, 1.4129327615698553, 1.3007417396322902, 1.1969910844840987, 1.3908158574137557]}, {\"mode\": \"lines+markers\", \"name\": \"g2_pop_False\", \"type\": \"scatter\", \"x\": [\"zm59\", \"zm16\", \"zm58\", \"zm26\", \"zm53\", \"zm52\", \"zm20\", \"zm32\", \"zm50\", \"zm35\", \"zm19\", \"zm46\", \"zm15\", \"zm54\", \"zm48\", \"zm29\", \"zm23\", \"zm57\", \"zm28\", \"zm18\", \"zm45\", \"zm9\", \"zm7\", \"zm56\", \"zm22\", \"zm55\", \"zm10\", \"zm33\", \"zm47\", \"zm14\", \"zm25\", \"zm38\", \"zm1\", \"zm27\", \"zm36\", \"zm30\", \"zm24\", \"zm41\", \"zm8\", \"zm34\", \"zm21\", \"zm49\", \"zm51\", \"zm37\", \"zm17\", \"zm39\", \"zm11\", \"zm2\", \"zm44\", \"zm43\", \"zm6\", \"zm4\", \"zm42\", \"zm31\", \"zm13\", \"zm40\", \"zm5\", \"zm3\", \"zm12\"], \"y\": [1.046895652479513, 1.341908919857475, 1.1878821410470908, 1.1106552327880042, 1.1894882339172872, 1.1239293259245695, 1.097681398864867, 1.1353573190584316, 1.218146705899216, 1.1689653233939399, 1.0995376231218228, 1.0507333228870785, 1.1987684938091472, 1.0608504319032306, 1.2590452961537655, 1.0450946472624711, 1.384815672465046, 1.1402644087581424, 1.0843495553669429, 1.1737892192598662, 1.2097740156585186, 1.0636877837704581, 1.1924262870748503, 1.1340554902208289, 1.064880103716737, 1.0862885849327633, 1.1368178133806623, 1.1266569317281594, 1.1202488428724144, 1.3239529375300587, 1.1467918946858877, 1.2461591970422876, 1.0993035880772375, 1.0591438051040434, 1.2567791901989898, 1.2096596140035283, 1.110043870129722, 1.1884827017896817, 1.1405824705757972, 1.1854942720530188, 1.1209471124915542, 1.1422214840885594, 1.0771321929421651, 1.1064943413937955, 1.1018678892447689, 1.170855058982306, 1.1298600793500309, 1.0972146681457848, 1.1732228925129549, 1.060932336240812, 1.1616863915660935, 1.218505760373271, 1.1492004718144946, 1.0696553964423126, 1.09451405737101, 1.5455710520670818, 1.3308709281582891, 1.1981251070970786, 1.447487949512994]}, {\"mode\": \"lines+markers\", \"name\": \"idw10_g1_False\", \"type\": \"scatter\", \"x\": [\"zm59\", \"zm16\", \"zm58\", \"zm26\", \"zm53\", \"zm52\", \"zm20\", \"zm32\", \"zm50\", \"zm35\", \"zm19\", \"zm46\", \"zm15\", \"zm54\", \"zm48\", \"zm29\", \"zm23\", \"zm57\", \"zm28\", \"zm18\", \"zm45\", \"zm9\", \"zm7\", \"zm56\", \"zm22\", \"zm55\", \"zm10\", \"zm33\", \"zm47\", \"zm14\", \"zm25\", \"zm38\", \"zm1\", \"zm27\", \"zm36\", \"zm30\", \"zm24\", \"zm41\", \"zm8\", \"zm34\", \"zm21\", \"zm49\", \"zm51\", \"zm37\", \"zm17\", \"zm39\", \"zm11\", \"zm2\", \"zm44\", \"zm43\", \"zm6\", \"zm4\", \"zm42\", \"zm31\", \"zm13\", \"zm40\", \"zm5\", \"zm3\", \"zm12\"], \"y\": [1.0026870111185764, 1.0090581038927526, 1.0000000000000007, 1.0059359474647764, 1.0137912928139385, 1.0295546832469316, 1.0025634292197088, 1.0466406705425635, 1.0359047277224116, 1.024505590071904, 1.0026392494496754, 1.011181734186959, 1.0304232127580288, 1.0006437561678934, 1.121849306219277, 1.0116951136139911, 1.0015537422446967, 1.054808348553906, 1.0411568618388132, 1.0325820268147763, 1.0441198562405551, 1.0056158270301274, 1.035714875273847, 1.0418367779964819, 1.0160204703153322, 1.0317073639417906, 1.0616889968618954, 1.005793894981104, 1.0492773318097521, 1.115095299920704, 1.0288887097479427, 1.1211626942985307, 1.0307376700446182, 1.0089851916365749, 1.0503655565965948, 1.0383749010394154, 1.0500460432124403, 1.0486401763274735, 1.0589740474661857, 1.059493847725915, 1.0709762899100124, 1.0274612811205481, 1.0054442687595784, 1.0379837069037456, 1.0394772035375288, 1.0010729543488133, 1.0821605679662634, 1.1467662067277609, 1.0456789780711344, 1.0291109587528595, 1.0442998014068285, 1.0585993295470182, 1.056184066430668, 1.0783275253939453, 1.043434411477517, 1.0717961839435868, 1.080554531429872, 1.079817005458184, 1.158416656653]}, {\"mode\": \"lines+markers\", \"name\": \"idw10_g2_False\", \"type\": \"scatter\", \"x\": [\"zm59\", \"zm16\", \"zm58\", \"zm26\", \"zm53\", \"zm52\", \"zm20\", \"zm32\", \"zm50\", \"zm35\", \"zm19\", \"zm46\", \"zm15\", \"zm54\", \"zm48\", \"zm29\", \"zm23\", \"zm57\", \"zm28\", \"zm18\", \"zm45\", \"zm9\", \"zm7\", \"zm56\", \"zm22\", \"zm55\", \"zm10\", \"zm33\", \"zm47\", \"zm14\", \"zm25\", \"zm38\", \"zm1\", \"zm27\", \"zm36\", \"zm30\", \"zm24\", \"zm41\", \"zm8\", \"zm34\", \"zm21\", \"zm49\", \"zm51\", \"zm37\", \"zm17\", \"zm39\", \"zm11\", \"zm2\", \"zm44\", \"zm43\", \"zm6\", \"zm4\", \"zm42\", \"zm31\", \"zm13\", \"zm40\", \"zm5\", \"zm3\", \"zm12\"], \"y\": [1.0040432742012273, 1.0068910507006308, 1.0000000000000004, 1.0058609077073892, 1.0229182444628557, 1.0318723245529402, 1.0034923831067346, 1.0412386542514511, 1.0277174403379135, 1.0186391985616288, 1.002931758270024, 1.015109709015567, 1.0265959356109973, 1.001383154598222, 1.1105678698353818, 1.012643119870159, 1.0136715507344842, 1.05214387964199, 1.0401513213213769, 1.028345565302894, 1.0426938455267367, 1.0051761818388554, 1.0334084308471927, 1.0428709214288188, 1.014412912199005, 1.0256315636606486, 1.0563363357400917, 1.0051063797130617, 1.0570043662756183, 1.116912153503367, 1.0313658630659317, 1.1102700938211143, 1.030361876658442, 1.0092755711786854, 1.0562248504684113, 1.0365837546977834, 1.0489107936785613, 1.047471424677112, 1.0447883546987238, 1.0658028744068087, 1.0726123474668472, 1.0266479179324839, 1.0052031055907, 1.0368364681188962, 1.0418993074463192, 1.0029609843103895, 1.0842404252534465, 1.140125188582548, 1.04456939714993, 1.0297883571277446, 1.0505208971023092, 1.0566784688192952, 1.0612891914966271, 1.0784469595078705, 1.0413596333645625, 1.0767589550526655, 1.0731740821252327, 1.0796186936955032, 1.1528319943809664]}],\n",
       "                        {\"height\": 300, \"margin\": {\"b\": 10, \"l\": 10, \"r\": 100, \"t\": 10}, \"template\": {\"data\": {\"bar\": [{\"error_x\": {\"color\": \"#2a3f5f\"}, \"error_y\": {\"color\": \"#2a3f5f\"}, \"marker\": {\"line\": {\"color\": \"#E5ECF6\", \"width\": 0.5}}, \"type\": \"bar\"}], \"barpolar\": [{\"marker\": {\"line\": {\"color\": \"#E5ECF6\", \"width\": 0.5}}, \"type\": \"barpolar\"}], \"carpet\": [{\"aaxis\": {\"endlinecolor\": \"#2a3f5f\", \"gridcolor\": \"white\", \"linecolor\": \"white\", \"minorgridcolor\": \"white\", \"startlinecolor\": \"#2a3f5f\"}, \"baxis\": {\"endlinecolor\": \"#2a3f5f\", \"gridcolor\": \"white\", \"linecolor\": \"white\", \"minorgridcolor\": \"white\", \"startlinecolor\": \"#2a3f5f\"}, \"type\": \"carpet\"}], \"choropleth\": [{\"colorbar\": {\"outlinewidth\": 0, \"ticks\": \"\"}, \"type\": \"choropleth\"}], \"contour\": [{\"colorbar\": {\"outlinewidth\": 0, \"ticks\": \"\"}, \"colorscale\": [[0.0, \"#0d0887\"], [0.1111111111111111, \"#46039f\"], [0.2222222222222222, \"#7201a8\"], [0.3333333333333333, \"#9c179e\"], [0.4444444444444444, \"#bd3786\"], [0.5555555555555556, \"#d8576b\"], [0.6666666666666666, \"#ed7953\"], [0.7777777777777778, \"#fb9f3a\"], [0.8888888888888888, \"#fdca26\"], [1.0, \"#f0f921\"]], \"type\": \"contour\"}], \"contourcarpet\": [{\"colorbar\": {\"outlinewidth\": 0, \"ticks\": \"\"}, \"type\": \"contourcarpet\"}], \"heatmap\": [{\"colorbar\": {\"outlinewidth\": 0, \"ticks\": \"\"}, \"colorscale\": [[0.0, \"#0d0887\"], [0.1111111111111111, \"#46039f\"], [0.2222222222222222, \"#7201a8\"], [0.3333333333333333, \"#9c179e\"], [0.4444444444444444, \"#bd3786\"], [0.5555555555555556, \"#d8576b\"], [0.6666666666666666, \"#ed7953\"], [0.7777777777777778, \"#fb9f3a\"], [0.8888888888888888, \"#fdca26\"], [1.0, \"#f0f921\"]], \"type\": \"heatmap\"}], \"heatmapgl\": [{\"colorbar\": {\"outlinewidth\": 0, \"ticks\": \"\"}, \"colorscale\": [[0.0, \"#0d0887\"], [0.1111111111111111, \"#46039f\"], [0.2222222222222222, \"#7201a8\"], [0.3333333333333333, \"#9c179e\"], [0.4444444444444444, \"#bd3786\"], [0.5555555555555556, \"#d8576b\"], [0.6666666666666666, \"#ed7953\"], [0.7777777777777778, \"#fb9f3a\"], [0.8888888888888888, \"#fdca26\"], [1.0, \"#f0f921\"]], \"type\": \"heatmapgl\"}], \"histogram\": [{\"marker\": {\"colorbar\": {\"outlinewidth\": 0, \"ticks\": \"\"}}, \"type\": \"histogram\"}], \"histogram2d\": [{\"colorbar\": {\"outlinewidth\": 0, \"ticks\": \"\"}, \"colorscale\": [[0.0, \"#0d0887\"], [0.1111111111111111, \"#46039f\"], [0.2222222222222222, \"#7201a8\"], [0.3333333333333333, \"#9c179e\"], [0.4444444444444444, \"#bd3786\"], [0.5555555555555556, \"#d8576b\"], [0.6666666666666666, \"#ed7953\"], [0.7777777777777778, \"#fb9f3a\"], [0.8888888888888888, \"#fdca26\"], [1.0, \"#f0f921\"]], \"type\": \"histogram2d\"}], \"histogram2dcontour\": [{\"colorbar\": {\"outlinewidth\": 0, \"ticks\": \"\"}, \"colorscale\": [[0.0, \"#0d0887\"], [0.1111111111111111, \"#46039f\"], [0.2222222222222222, \"#7201a8\"], [0.3333333333333333, \"#9c179e\"], [0.4444444444444444, \"#bd3786\"], [0.5555555555555556, \"#d8576b\"], [0.6666666666666666, \"#ed7953\"], [0.7777777777777778, \"#fb9f3a\"], [0.8888888888888888, \"#fdca26\"], [1.0, \"#f0f921\"]], \"type\": \"histogram2dcontour\"}], \"mesh3d\": [{\"colorbar\": {\"outlinewidth\": 0, \"ticks\": \"\"}, \"type\": \"mesh3d\"}], \"parcoords\": [{\"line\": {\"colorbar\": {\"outlinewidth\": 0, \"ticks\": \"\"}}, \"type\": \"parcoords\"}], \"scatter\": [{\"marker\": {\"colorbar\": {\"outlinewidth\": 0, \"ticks\": \"\"}}, \"type\": \"scatter\"}], \"scatter3d\": [{\"line\": {\"colorbar\": {\"outlinewidth\": 0, \"ticks\": \"\"}}, \"marker\": {\"colorbar\": {\"outlinewidth\": 0, \"ticks\": \"\"}}, \"type\": \"scatter3d\"}], \"scattercarpet\": [{\"marker\": {\"colorbar\": {\"outlinewidth\": 0, \"ticks\": \"\"}}, \"type\": \"scattercarpet\"}], \"scattergeo\": [{\"marker\": {\"colorbar\": {\"outlinewidth\": 0, \"ticks\": \"\"}}, \"type\": \"scattergeo\"}], \"scattergl\": [{\"marker\": {\"colorbar\": {\"outlinewidth\": 0, \"ticks\": \"\"}}, \"type\": \"scattergl\"}], \"scattermapbox\": [{\"marker\": {\"colorbar\": {\"outlinewidth\": 0, \"ticks\": \"\"}}, \"type\": \"scattermapbox\"}], \"scatterpolar\": [{\"marker\": {\"colorbar\": {\"outlinewidth\": 0, \"ticks\": \"\"}}, \"type\": \"scatterpolar\"}], \"scatterpolargl\": [{\"marker\": {\"colorbar\": {\"outlinewidth\": 0, \"ticks\": \"\"}}, \"type\": \"scatterpolargl\"}], \"scatterternary\": [{\"marker\": {\"colorbar\": {\"outlinewidth\": 0, \"ticks\": \"\"}}, \"type\": \"scatterternary\"}], \"surface\": [{\"colorbar\": {\"outlinewidth\": 0, \"ticks\": \"\"}, \"colorscale\": [[0.0, \"#0d0887\"], [0.1111111111111111, \"#46039f\"], [0.2222222222222222, \"#7201a8\"], [0.3333333333333333, \"#9c179e\"], [0.4444444444444444, \"#bd3786\"], [0.5555555555555556, \"#d8576b\"], [0.6666666666666666, \"#ed7953\"], [0.7777777777777778, \"#fb9f3a\"], [0.8888888888888888, \"#fdca26\"], [1.0, \"#f0f921\"]], \"type\": \"surface\"}], \"table\": [{\"cells\": {\"fill\": {\"color\": \"#EBF0F8\"}, \"line\": {\"color\": \"white\"}}, \"header\": {\"fill\": {\"color\": \"#C8D4E3\"}, \"line\": {\"color\": \"white\"}}, \"type\": \"table\"}]}, \"layout\": {\"annotationdefaults\": {\"arrowcolor\": \"#2a3f5f\", \"arrowhead\": 0, \"arrowwidth\": 1}, \"colorscale\": {\"diverging\": [[0, \"#8e0152\"], [0.1, \"#c51b7d\"], [0.2, \"#de77ae\"], [0.3, \"#f1b6da\"], [0.4, \"#fde0ef\"], [0.5, \"#f7f7f7\"], [0.6, \"#e6f5d0\"], [0.7, \"#b8e186\"], [0.8, \"#7fbc41\"], [0.9, \"#4d9221\"], [1, \"#276419\"]], \"sequential\": [[0.0, \"#0d0887\"], [0.1111111111111111, \"#46039f\"], [0.2222222222222222, \"#7201a8\"], [0.3333333333333333, \"#9c179e\"], [0.4444444444444444, \"#bd3786\"], [0.5555555555555556, \"#d8576b\"], [0.6666666666666666, \"#ed7953\"], [0.7777777777777778, \"#fb9f3a\"], [0.8888888888888888, \"#fdca26\"], [1.0, \"#f0f921\"]], \"sequentialminus\": [[0.0, \"#0d0887\"], [0.1111111111111111, \"#46039f\"], [0.2222222222222222, \"#7201a8\"], [0.3333333333333333, \"#9c179e\"], [0.4444444444444444, \"#bd3786\"], [0.5555555555555556, \"#d8576b\"], [0.6666666666666666, \"#ed7953\"], [0.7777777777777778, \"#fb9f3a\"], [0.8888888888888888, \"#fdca26\"], [1.0, \"#f0f921\"]]}, \"colorway\": [\"#636efa\", \"#EF553B\", \"#00cc96\", \"#ab63fa\", \"#FFA15A\", \"#19d3f3\", \"#FF6692\", \"#B6E880\", \"#FF97FF\", \"#FECB52\"], \"font\": {\"color\": \"#2a3f5f\"}, \"geo\": {\"bgcolor\": \"white\", \"lakecolor\": \"white\", \"landcolor\": \"#E5ECF6\", \"showlakes\": true, \"showland\": true, \"subunitcolor\": \"white\"}, \"hoverlabel\": {\"align\": \"left\"}, \"hovermode\": \"closest\", \"mapbox\": {\"style\": \"light\"}, \"paper_bgcolor\": \"white\", \"plot_bgcolor\": \"#E5ECF6\", \"polar\": {\"angularaxis\": {\"gridcolor\": \"white\", \"linecolor\": \"white\", \"ticks\": \"\"}, \"bgcolor\": \"#E5ECF6\", \"radialaxis\": {\"gridcolor\": \"white\", \"linecolor\": \"white\", \"ticks\": \"\"}}, \"scene\": {\"xaxis\": {\"backgroundcolor\": \"#E5ECF6\", \"gridcolor\": \"white\", \"gridwidth\": 2, \"linecolor\": \"white\", \"showbackground\": true, \"ticks\": \"\", \"zerolinecolor\": \"white\"}, \"yaxis\": {\"backgroundcolor\": \"#E5ECF6\", \"gridcolor\": \"white\", \"gridwidth\": 2, \"linecolor\": \"white\", \"showbackground\": true, \"ticks\": \"\", \"zerolinecolor\": \"white\"}, \"zaxis\": {\"backgroundcolor\": \"#E5ECF6\", \"gridcolor\": \"white\", \"gridwidth\": 2, \"linecolor\": \"white\", \"showbackground\": true, \"ticks\": \"\", \"zerolinecolor\": \"white\"}}, \"shapedefaults\": {\"line\": {\"color\": \"#2a3f5f\"}}, \"ternary\": {\"aaxis\": {\"gridcolor\": \"white\", \"linecolor\": \"white\", \"ticks\": \"\"}, \"baxis\": {\"gridcolor\": \"white\", \"linecolor\": \"white\", \"ticks\": \"\"}, \"bgcolor\": \"#E5ECF6\", \"caxis\": {\"gridcolor\": \"white\", \"linecolor\": \"white\", \"ticks\": \"\"}}, \"title\": {\"x\": 0.05}, \"xaxis\": {\"automargin\": true, \"gridcolor\": \"white\", \"linecolor\": \"white\", \"ticks\": \"\", \"zerolinecolor\": \"white\", \"zerolinewidth\": 2}, \"yaxis\": {\"automargin\": true, \"gridcolor\": \"white\", \"linecolor\": \"white\", \"ticks\": \"\", \"zerolinecolor\": \"white\", \"zerolinewidth\": 2}}}},\n",
       "                        {\"responsive\": true}\n",
       "                    ).then(function(){\n",
       "                            \n",
       "var gd = document.getElementById('7776a3ff-ca78-4e61-8516-c18203159928');\n",
       "var x = new MutationObserver(function (mutations, observer) {{\n",
       "        var display = window.getComputedStyle(gd).display;\n",
       "        if (!display || display === 'none') {{\n",
       "            console.log([gd, 'removed!']);\n",
       "            Plotly.purge(gd);\n",
       "            observer.disconnect();\n",
       "        }}\n",
       "}});\n",
       "\n",
       "// Listen for the removal of the full notebook cells\n",
       "var notebookContainer = gd.closest('#notebook-container');\n",
       "if (notebookContainer) {{\n",
       "    x.observe(notebookContainer, {childList: true});\n",
       "}}\n",
       "\n",
       "// Listen for the clearing of the current output cell\n",
       "var outputEl = gd.closest('.output');\n",
       "if (outputEl) {{\n",
       "    x.observe(outputEl, {childList: true});\n",
       "}}\n",
       "\n",
       "                        })\n",
       "                };\n",
       "                });\n",
       "            </script>\n",
       "        </div>"
      ]
     },
     "metadata": {},
     "output_type": "display_data"
    },
    {
     "data": {
      "application/vnd.plotly.v1+json": {
       "config": {
        "linkText": "Export to plot.ly",
        "plotlyServerURL": "https://plot.ly",
        "showLink": false
       },
       "data": [
        {
         "mode": "lines+markers",
         "name": "0",
         "type": "scatter",
         "x": [
          "zm59",
          "zm16",
          "zm58",
          "zm26",
          "zm53",
          "zm52",
          "zm20",
          "zm32",
          "zm50",
          "zm35",
          "zm19",
          "zm46",
          "zm15",
          "zm54",
          "zm48",
          "zm29",
          "zm23",
          "zm57",
          "zm28",
          "zm18",
          "zm45",
          "zm9",
          "zm7",
          "zm56",
          "zm22",
          "zm55",
          "zm10",
          "zm33",
          "zm47",
          "zm14",
          "zm25",
          "zm38",
          "zm1",
          "zm27",
          "zm36",
          "zm30",
          "zm24",
          "zm41",
          "zm8",
          "zm34",
          "zm21",
          "zm49",
          "zm51",
          "zm37",
          "zm17",
          "zm39",
          "zm11",
          "zm2",
          "zm44",
          "zm43",
          "zm6",
          "zm4",
          "zm42",
          "zm31",
          "zm13",
          "zm40",
          "zm5",
          "zm3",
          "zm12"
         ],
         "y": [
          0.03850390862364206,
          0.17185108747317338,
          0.09291265874797923,
          0.07089790320158103,
          0.08936609491759213,
          0.04379081010171209,
          0.04112609545962497,
          0.054886667906492125,
          0.09254268332908659,
          0.08836859170009477,
          0.048918973409302416,
          0.024085586152164898,
          0.07699560366099187,
          0.037047023596793446,
          0.07650577324424343,
          0.019037204731286166,
          0.1767305722648969,
          0.0426623983491713,
          0.023494830801753158,
          0.06933698948704377,
          0.07575144188322125,
          0.3115544538200966,
          0.07210636980318637,
          0.04880968804292893,
          0.025863168321606095,
          0.037881046716272994,
          0.04858264779715608,
          0.05415281881632386,
          0.03130769275448456,
          0.09632363234822032,
          0.06544387676714676,
          0.07469041199933152,
          0.03708814602104836,
          0.02311611574930236,
          0.08934339013058706,
          0.0889933161546829,
          0.0338946806176177,
          0.06978965257256103,
          0.0432592744947218,
          0.06209228979621403,
          0.0240235217235211,
          0.05151082495387545,
          0.03227577362865258,
          0.03149721110041656,
          0.03068812985802805,
          0.13229112542230043,
          0.02531669385079558,
          0.03170556349610638,
          0.09937534147262157,
          0.02756715385643366,
          0.05072292370781992,
          0.07669557975255098,
          0.04319437266222278,
          0.003883068707226316,
          0.0253459074450101,
          0.20330864065000812,
          0.11481637469963187,
          0.08683017791447335,
          0.13864901233992635
         ]
        }
       ],
       "layout": {
        "height": 300,
        "margin": {
         "b": 10,
         "l": 10,
         "r": 135,
         "t": 10
        },
        "template": {
         "data": {
          "bar": [
           {
            "error_x": {
             "color": "#2a3f5f"
            },
            "error_y": {
             "color": "#2a3f5f"
            },
            "marker": {
             "line": {
              "color": "#E5ECF6",
              "width": 0.5
             }
            },
            "type": "bar"
           }
          ],
          "barpolar": [
           {
            "marker": {
             "line": {
              "color": "#E5ECF6",
              "width": 0.5
             }
            },
            "type": "barpolar"
           }
          ],
          "carpet": [
           {
            "aaxis": {
             "endlinecolor": "#2a3f5f",
             "gridcolor": "white",
             "linecolor": "white",
             "minorgridcolor": "white",
             "startlinecolor": "#2a3f5f"
            },
            "baxis": {
             "endlinecolor": "#2a3f5f",
             "gridcolor": "white",
             "linecolor": "white",
             "minorgridcolor": "white",
             "startlinecolor": "#2a3f5f"
            },
            "type": "carpet"
           }
          ],
          "choropleth": [
           {
            "colorbar": {
             "outlinewidth": 0,
             "ticks": ""
            },
            "type": "choropleth"
           }
          ],
          "contour": [
           {
            "colorbar": {
             "outlinewidth": 0,
             "ticks": ""
            },
            "colorscale": [
             [
              0,
              "#0d0887"
             ],
             [
              0.1111111111111111,
              "#46039f"
             ],
             [
              0.2222222222222222,
              "#7201a8"
             ],
             [
              0.3333333333333333,
              "#9c179e"
             ],
             [
              0.4444444444444444,
              "#bd3786"
             ],
             [
              0.5555555555555556,
              "#d8576b"
             ],
             [
              0.6666666666666666,
              "#ed7953"
             ],
             [
              0.7777777777777778,
              "#fb9f3a"
             ],
             [
              0.8888888888888888,
              "#fdca26"
             ],
             [
              1,
              "#f0f921"
             ]
            ],
            "type": "contour"
           }
          ],
          "contourcarpet": [
           {
            "colorbar": {
             "outlinewidth": 0,
             "ticks": ""
            },
            "type": "contourcarpet"
           }
          ],
          "heatmap": [
           {
            "colorbar": {
             "outlinewidth": 0,
             "ticks": ""
            },
            "colorscale": [
             [
              0,
              "#0d0887"
             ],
             [
              0.1111111111111111,
              "#46039f"
             ],
             [
              0.2222222222222222,
              "#7201a8"
             ],
             [
              0.3333333333333333,
              "#9c179e"
             ],
             [
              0.4444444444444444,
              "#bd3786"
             ],
             [
              0.5555555555555556,
              "#d8576b"
             ],
             [
              0.6666666666666666,
              "#ed7953"
             ],
             [
              0.7777777777777778,
              "#fb9f3a"
             ],
             [
              0.8888888888888888,
              "#fdca26"
             ],
             [
              1,
              "#f0f921"
             ]
            ],
            "type": "heatmap"
           }
          ],
          "heatmapgl": [
           {
            "colorbar": {
             "outlinewidth": 0,
             "ticks": ""
            },
            "colorscale": [
             [
              0,
              "#0d0887"
             ],
             [
              0.1111111111111111,
              "#46039f"
             ],
             [
              0.2222222222222222,
              "#7201a8"
             ],
             [
              0.3333333333333333,
              "#9c179e"
             ],
             [
              0.4444444444444444,
              "#bd3786"
             ],
             [
              0.5555555555555556,
              "#d8576b"
             ],
             [
              0.6666666666666666,
              "#ed7953"
             ],
             [
              0.7777777777777778,
              "#fb9f3a"
             ],
             [
              0.8888888888888888,
              "#fdca26"
             ],
             [
              1,
              "#f0f921"
             ]
            ],
            "type": "heatmapgl"
           }
          ],
          "histogram": [
           {
            "marker": {
             "colorbar": {
              "outlinewidth": 0,
              "ticks": ""
             }
            },
            "type": "histogram"
           }
          ],
          "histogram2d": [
           {
            "colorbar": {
             "outlinewidth": 0,
             "ticks": ""
            },
            "colorscale": [
             [
              0,
              "#0d0887"
             ],
             [
              0.1111111111111111,
              "#46039f"
             ],
             [
              0.2222222222222222,
              "#7201a8"
             ],
             [
              0.3333333333333333,
              "#9c179e"
             ],
             [
              0.4444444444444444,
              "#bd3786"
             ],
             [
              0.5555555555555556,
              "#d8576b"
             ],
             [
              0.6666666666666666,
              "#ed7953"
             ],
             [
              0.7777777777777778,
              "#fb9f3a"
             ],
             [
              0.8888888888888888,
              "#fdca26"
             ],
             [
              1,
              "#f0f921"
             ]
            ],
            "type": "histogram2d"
           }
          ],
          "histogram2dcontour": [
           {
            "colorbar": {
             "outlinewidth": 0,
             "ticks": ""
            },
            "colorscale": [
             [
              0,
              "#0d0887"
             ],
             [
              0.1111111111111111,
              "#46039f"
             ],
             [
              0.2222222222222222,
              "#7201a8"
             ],
             [
              0.3333333333333333,
              "#9c179e"
             ],
             [
              0.4444444444444444,
              "#bd3786"
             ],
             [
              0.5555555555555556,
              "#d8576b"
             ],
             [
              0.6666666666666666,
              "#ed7953"
             ],
             [
              0.7777777777777778,
              "#fb9f3a"
             ],
             [
              0.8888888888888888,
              "#fdca26"
             ],
             [
              1,
              "#f0f921"
             ]
            ],
            "type": "histogram2dcontour"
           }
          ],
          "mesh3d": [
           {
            "colorbar": {
             "outlinewidth": 0,
             "ticks": ""
            },
            "type": "mesh3d"
           }
          ],
          "parcoords": [
           {
            "line": {
             "colorbar": {
              "outlinewidth": 0,
              "ticks": ""
             }
            },
            "type": "parcoords"
           }
          ],
          "scatter": [
           {
            "marker": {
             "colorbar": {
              "outlinewidth": 0,
              "ticks": ""
             }
            },
            "type": "scatter"
           }
          ],
          "scatter3d": [
           {
            "line": {
             "colorbar": {
              "outlinewidth": 0,
              "ticks": ""
             }
            },
            "marker": {
             "colorbar": {
              "outlinewidth": 0,
              "ticks": ""
             }
            },
            "type": "scatter3d"
           }
          ],
          "scattercarpet": [
           {
            "marker": {
             "colorbar": {
              "outlinewidth": 0,
              "ticks": ""
             }
            },
            "type": "scattercarpet"
           }
          ],
          "scattergeo": [
           {
            "marker": {
             "colorbar": {
              "outlinewidth": 0,
              "ticks": ""
             }
            },
            "type": "scattergeo"
           }
          ],
          "scattergl": [
           {
            "marker": {
             "colorbar": {
              "outlinewidth": 0,
              "ticks": ""
             }
            },
            "type": "scattergl"
           }
          ],
          "scattermapbox": [
           {
            "marker": {
             "colorbar": {
              "outlinewidth": 0,
              "ticks": ""
             }
            },
            "type": "scattermapbox"
           }
          ],
          "scatterpolar": [
           {
            "marker": {
             "colorbar": {
              "outlinewidth": 0,
              "ticks": ""
             }
            },
            "type": "scatterpolar"
           }
          ],
          "scatterpolargl": [
           {
            "marker": {
             "colorbar": {
              "outlinewidth": 0,
              "ticks": ""
             }
            },
            "type": "scatterpolargl"
           }
          ],
          "scatterternary": [
           {
            "marker": {
             "colorbar": {
              "outlinewidth": 0,
              "ticks": ""
             }
            },
            "type": "scatterternary"
           }
          ],
          "surface": [
           {
            "colorbar": {
             "outlinewidth": 0,
             "ticks": ""
            },
            "colorscale": [
             [
              0,
              "#0d0887"
             ],
             [
              0.1111111111111111,
              "#46039f"
             ],
             [
              0.2222222222222222,
              "#7201a8"
             ],
             [
              0.3333333333333333,
              "#9c179e"
             ],
             [
              0.4444444444444444,
              "#bd3786"
             ],
             [
              0.5555555555555556,
              "#d8576b"
             ],
             [
              0.6666666666666666,
              "#ed7953"
             ],
             [
              0.7777777777777778,
              "#fb9f3a"
             ],
             [
              0.8888888888888888,
              "#fdca26"
             ],
             [
              1,
              "#f0f921"
             ]
            ],
            "type": "surface"
           }
          ],
          "table": [
           {
            "cells": {
             "fill": {
              "color": "#EBF0F8"
             },
             "line": {
              "color": "white"
             }
            },
            "header": {
             "fill": {
              "color": "#C8D4E3"
             },
             "line": {
              "color": "white"
             }
            },
            "type": "table"
           }
          ]
         },
         "layout": {
          "annotationdefaults": {
           "arrowcolor": "#2a3f5f",
           "arrowhead": 0,
           "arrowwidth": 1
          },
          "colorscale": {
           "diverging": [
            [
             0,
             "#8e0152"
            ],
            [
             0.1,
             "#c51b7d"
            ],
            [
             0.2,
             "#de77ae"
            ],
            [
             0.3,
             "#f1b6da"
            ],
            [
             0.4,
             "#fde0ef"
            ],
            [
             0.5,
             "#f7f7f7"
            ],
            [
             0.6,
             "#e6f5d0"
            ],
            [
             0.7,
             "#b8e186"
            ],
            [
             0.8,
             "#7fbc41"
            ],
            [
             0.9,
             "#4d9221"
            ],
            [
             1,
             "#276419"
            ]
           ],
           "sequential": [
            [
             0,
             "#0d0887"
            ],
            [
             0.1111111111111111,
             "#46039f"
            ],
            [
             0.2222222222222222,
             "#7201a8"
            ],
            [
             0.3333333333333333,
             "#9c179e"
            ],
            [
             0.4444444444444444,
             "#bd3786"
            ],
            [
             0.5555555555555556,
             "#d8576b"
            ],
            [
             0.6666666666666666,
             "#ed7953"
            ],
            [
             0.7777777777777778,
             "#fb9f3a"
            ],
            [
             0.8888888888888888,
             "#fdca26"
            ],
            [
             1,
             "#f0f921"
            ]
           ],
           "sequentialminus": [
            [
             0,
             "#0d0887"
            ],
            [
             0.1111111111111111,
             "#46039f"
            ],
            [
             0.2222222222222222,
             "#7201a8"
            ],
            [
             0.3333333333333333,
             "#9c179e"
            ],
            [
             0.4444444444444444,
             "#bd3786"
            ],
            [
             0.5555555555555556,
             "#d8576b"
            ],
            [
             0.6666666666666666,
             "#ed7953"
            ],
            [
             0.7777777777777778,
             "#fb9f3a"
            ],
            [
             0.8888888888888888,
             "#fdca26"
            ],
            [
             1,
             "#f0f921"
            ]
           ]
          },
          "colorway": [
           "#636efa",
           "#EF553B",
           "#00cc96",
           "#ab63fa",
           "#FFA15A",
           "#19d3f3",
           "#FF6692",
           "#B6E880",
           "#FF97FF",
           "#FECB52"
          ],
          "font": {
           "color": "#2a3f5f"
          },
          "geo": {
           "bgcolor": "white",
           "lakecolor": "white",
           "landcolor": "#E5ECF6",
           "showlakes": true,
           "showland": true,
           "subunitcolor": "white"
          },
          "hoverlabel": {
           "align": "left"
          },
          "hovermode": "closest",
          "mapbox": {
           "style": "light"
          },
          "paper_bgcolor": "white",
          "plot_bgcolor": "#E5ECF6",
          "polar": {
           "angularaxis": {
            "gridcolor": "white",
            "linecolor": "white",
            "ticks": ""
           },
           "bgcolor": "#E5ECF6",
           "radialaxis": {
            "gridcolor": "white",
            "linecolor": "white",
            "ticks": ""
           }
          },
          "scene": {
           "xaxis": {
            "backgroundcolor": "#E5ECF6",
            "gridcolor": "white",
            "gridwidth": 2,
            "linecolor": "white",
            "showbackground": true,
            "ticks": "",
            "zerolinecolor": "white"
           },
           "yaxis": {
            "backgroundcolor": "#E5ECF6",
            "gridcolor": "white",
            "gridwidth": 2,
            "linecolor": "white",
            "showbackground": true,
            "ticks": "",
            "zerolinecolor": "white"
           },
           "zaxis": {
            "backgroundcolor": "#E5ECF6",
            "gridcolor": "white",
            "gridwidth": 2,
            "linecolor": "white",
            "showbackground": true,
            "ticks": "",
            "zerolinecolor": "white"
           }
          },
          "shapedefaults": {
           "line": {
            "color": "#2a3f5f"
           }
          },
          "ternary": {
           "aaxis": {
            "gridcolor": "white",
            "linecolor": "white",
            "ticks": ""
           },
           "baxis": {
            "gridcolor": "white",
            "linecolor": "white",
            "ticks": ""
           },
           "bgcolor": "#E5ECF6",
           "caxis": {
            "gridcolor": "white",
            "linecolor": "white",
            "ticks": ""
           }
          },
          "title": {
           "x": 0.05
          },
          "xaxis": {
           "automargin": true,
           "gridcolor": "white",
           "linecolor": "white",
           "ticks": "",
           "zerolinecolor": "white",
           "zerolinewidth": 2
          },
          "yaxis": {
           "automargin": true,
           "gridcolor": "white",
           "linecolor": "white",
           "ticks": "",
           "zerolinecolor": "white",
           "zerolinewidth": 2
          }
         }
        }
       }
      },
      "text/html": [
       "<div>\n",
       "        \n",
       "        \n",
       "            <div id=\"43405a2b-8ff8-4ad3-96e6-3d30d5ef2c51\" class=\"plotly-graph-div\" style=\"height:300px; width:100%;\"></div>\n",
       "            <script type=\"text/javascript\">\n",
       "                require([\"plotly\"], function(Plotly) {\n",
       "                    window.PLOTLYENV=window.PLOTLYENV || {};\n",
       "                    \n",
       "                if (document.getElementById(\"43405a2b-8ff8-4ad3-96e6-3d30d5ef2c51\")) {\n",
       "                    Plotly.newPlot(\n",
       "                        '43405a2b-8ff8-4ad3-96e6-3d30d5ef2c51',\n",
       "                        [{\"mode\": \"lines+markers\", \"name\": \"0\", \"type\": \"scatter\", \"x\": [\"zm59\", \"zm16\", \"zm58\", \"zm26\", \"zm53\", \"zm52\", \"zm20\", \"zm32\", \"zm50\", \"zm35\", \"zm19\", \"zm46\", \"zm15\", \"zm54\", \"zm48\", \"zm29\", \"zm23\", \"zm57\", \"zm28\", \"zm18\", \"zm45\", \"zm9\", \"zm7\", \"zm56\", \"zm22\", \"zm55\", \"zm10\", \"zm33\", \"zm47\", \"zm14\", \"zm25\", \"zm38\", \"zm1\", \"zm27\", \"zm36\", \"zm30\", \"zm24\", \"zm41\", \"zm8\", \"zm34\", \"zm21\", \"zm49\", \"zm51\", \"zm37\", \"zm17\", \"zm39\", \"zm11\", \"zm2\", \"zm44\", \"zm43\", \"zm6\", \"zm4\", \"zm42\", \"zm31\", \"zm13\", \"zm40\", \"zm5\", \"zm3\", \"zm12\"], \"y\": [0.03850390862364206, 0.17185108747317338, 0.09291265874797923, 0.07089790320158103, 0.08936609491759213, 0.04379081010171209, 0.04112609545962497, 0.054886667906492125, 0.09254268332908659, 0.08836859170009477, 0.048918973409302416, 0.024085586152164898, 0.07699560366099187, 0.037047023596793446, 0.07650577324424343, 0.019037204731286166, 0.1767305722648969, 0.0426623983491713, 0.023494830801753158, 0.06933698948704377, 0.07575144188322125, 0.3115544538200966, 0.07210636980318637, 0.04880968804292893, 0.025863168321606095, 0.037881046716272994, 0.04858264779715608, 0.05415281881632386, 0.03130769275448456, 0.09632363234822032, 0.06544387676714676, 0.07469041199933152, 0.03708814602104836, 0.02311611574930236, 0.08934339013058706, 0.0889933161546829, 0.0338946806176177, 0.06978965257256103, 0.0432592744947218, 0.06209228979621403, 0.0240235217235211, 0.05151082495387545, 0.03227577362865258, 0.03149721110041656, 0.03068812985802805, 0.13229112542230043, 0.02531669385079558, 0.03170556349610638, 0.09937534147262157, 0.02756715385643366, 0.05072292370781992, 0.07669557975255098, 0.04319437266222278, 0.003883068707226316, 0.0253459074450101, 0.20330864065000812, 0.11481637469963187, 0.08683017791447335, 0.13864901233992635]}],\n",
       "                        {\"height\": 300, \"margin\": {\"b\": 10, \"l\": 10, \"r\": 135, \"t\": 10}, \"template\": {\"data\": {\"bar\": [{\"error_x\": {\"color\": \"#2a3f5f\"}, \"error_y\": {\"color\": \"#2a3f5f\"}, \"marker\": {\"line\": {\"color\": \"#E5ECF6\", \"width\": 0.5}}, \"type\": \"bar\"}], \"barpolar\": [{\"marker\": {\"line\": {\"color\": \"#E5ECF6\", \"width\": 0.5}}, \"type\": \"barpolar\"}], \"carpet\": [{\"aaxis\": {\"endlinecolor\": \"#2a3f5f\", \"gridcolor\": \"white\", \"linecolor\": \"white\", \"minorgridcolor\": \"white\", \"startlinecolor\": \"#2a3f5f\"}, \"baxis\": {\"endlinecolor\": \"#2a3f5f\", \"gridcolor\": \"white\", \"linecolor\": \"white\", \"minorgridcolor\": \"white\", \"startlinecolor\": \"#2a3f5f\"}, \"type\": \"carpet\"}], \"choropleth\": [{\"colorbar\": {\"outlinewidth\": 0, \"ticks\": \"\"}, \"type\": \"choropleth\"}], \"contour\": [{\"colorbar\": {\"outlinewidth\": 0, \"ticks\": \"\"}, \"colorscale\": [[0.0, \"#0d0887\"], [0.1111111111111111, \"#46039f\"], [0.2222222222222222, \"#7201a8\"], [0.3333333333333333, \"#9c179e\"], [0.4444444444444444, \"#bd3786\"], [0.5555555555555556, \"#d8576b\"], [0.6666666666666666, \"#ed7953\"], [0.7777777777777778, \"#fb9f3a\"], [0.8888888888888888, \"#fdca26\"], [1.0, \"#f0f921\"]], \"type\": \"contour\"}], \"contourcarpet\": [{\"colorbar\": {\"outlinewidth\": 0, \"ticks\": \"\"}, \"type\": \"contourcarpet\"}], \"heatmap\": [{\"colorbar\": {\"outlinewidth\": 0, \"ticks\": \"\"}, \"colorscale\": [[0.0, \"#0d0887\"], [0.1111111111111111, \"#46039f\"], [0.2222222222222222, \"#7201a8\"], [0.3333333333333333, \"#9c179e\"], [0.4444444444444444, \"#bd3786\"], [0.5555555555555556, \"#d8576b\"], [0.6666666666666666, \"#ed7953\"], [0.7777777777777778, \"#fb9f3a\"], [0.8888888888888888, \"#fdca26\"], [1.0, \"#f0f921\"]], \"type\": \"heatmap\"}], \"heatmapgl\": [{\"colorbar\": {\"outlinewidth\": 0, \"ticks\": \"\"}, \"colorscale\": [[0.0, \"#0d0887\"], [0.1111111111111111, \"#46039f\"], [0.2222222222222222, \"#7201a8\"], [0.3333333333333333, \"#9c179e\"], [0.4444444444444444, \"#bd3786\"], [0.5555555555555556, \"#d8576b\"], [0.6666666666666666, \"#ed7953\"], [0.7777777777777778, \"#fb9f3a\"], [0.8888888888888888, \"#fdca26\"], [1.0, \"#f0f921\"]], \"type\": \"heatmapgl\"}], \"histogram\": [{\"marker\": {\"colorbar\": {\"outlinewidth\": 0, \"ticks\": \"\"}}, \"type\": \"histogram\"}], \"histogram2d\": [{\"colorbar\": {\"outlinewidth\": 0, \"ticks\": \"\"}, \"colorscale\": [[0.0, \"#0d0887\"], [0.1111111111111111, \"#46039f\"], [0.2222222222222222, \"#7201a8\"], [0.3333333333333333, \"#9c179e\"], [0.4444444444444444, \"#bd3786\"], [0.5555555555555556, \"#d8576b\"], [0.6666666666666666, \"#ed7953\"], [0.7777777777777778, \"#fb9f3a\"], [0.8888888888888888, \"#fdca26\"], [1.0, \"#f0f921\"]], \"type\": \"histogram2d\"}], \"histogram2dcontour\": [{\"colorbar\": {\"outlinewidth\": 0, \"ticks\": \"\"}, \"colorscale\": [[0.0, \"#0d0887\"], [0.1111111111111111, \"#46039f\"], [0.2222222222222222, \"#7201a8\"], [0.3333333333333333, \"#9c179e\"], [0.4444444444444444, \"#bd3786\"], [0.5555555555555556, \"#d8576b\"], [0.6666666666666666, \"#ed7953\"], [0.7777777777777778, \"#fb9f3a\"], [0.8888888888888888, \"#fdca26\"], [1.0, \"#f0f921\"]], \"type\": \"histogram2dcontour\"}], \"mesh3d\": [{\"colorbar\": {\"outlinewidth\": 0, \"ticks\": \"\"}, \"type\": \"mesh3d\"}], \"parcoords\": [{\"line\": {\"colorbar\": {\"outlinewidth\": 0, \"ticks\": \"\"}}, \"type\": \"parcoords\"}], \"scatter\": [{\"marker\": {\"colorbar\": {\"outlinewidth\": 0, \"ticks\": \"\"}}, \"type\": \"scatter\"}], \"scatter3d\": [{\"line\": {\"colorbar\": {\"outlinewidth\": 0, \"ticks\": \"\"}}, \"marker\": {\"colorbar\": {\"outlinewidth\": 0, \"ticks\": \"\"}}, \"type\": \"scatter3d\"}], \"scattercarpet\": [{\"marker\": {\"colorbar\": {\"outlinewidth\": 0, \"ticks\": \"\"}}, \"type\": \"scattercarpet\"}], \"scattergeo\": [{\"marker\": {\"colorbar\": {\"outlinewidth\": 0, \"ticks\": \"\"}}, \"type\": \"scattergeo\"}], \"scattergl\": [{\"marker\": {\"colorbar\": {\"outlinewidth\": 0, \"ticks\": \"\"}}, \"type\": \"scattergl\"}], \"scattermapbox\": [{\"marker\": {\"colorbar\": {\"outlinewidth\": 0, \"ticks\": \"\"}}, \"type\": \"scattermapbox\"}], \"scatterpolar\": [{\"marker\": {\"colorbar\": {\"outlinewidth\": 0, \"ticks\": \"\"}}, \"type\": \"scatterpolar\"}], \"scatterpolargl\": [{\"marker\": {\"colorbar\": {\"outlinewidth\": 0, \"ticks\": \"\"}}, \"type\": \"scatterpolargl\"}], \"scatterternary\": [{\"marker\": {\"colorbar\": {\"outlinewidth\": 0, \"ticks\": \"\"}}, \"type\": \"scatterternary\"}], \"surface\": [{\"colorbar\": {\"outlinewidth\": 0, \"ticks\": \"\"}, \"colorscale\": [[0.0, \"#0d0887\"], [0.1111111111111111, \"#46039f\"], [0.2222222222222222, \"#7201a8\"], [0.3333333333333333, \"#9c179e\"], [0.4444444444444444, \"#bd3786\"], [0.5555555555555556, \"#d8576b\"], [0.6666666666666666, \"#ed7953\"], [0.7777777777777778, \"#fb9f3a\"], [0.8888888888888888, \"#fdca26\"], [1.0, \"#f0f921\"]], \"type\": \"surface\"}], \"table\": [{\"cells\": {\"fill\": {\"color\": \"#EBF0F8\"}, \"line\": {\"color\": \"white\"}}, \"header\": {\"fill\": {\"color\": \"#C8D4E3\"}, \"line\": {\"color\": \"white\"}}, \"type\": \"table\"}]}, \"layout\": {\"annotationdefaults\": {\"arrowcolor\": \"#2a3f5f\", \"arrowhead\": 0, \"arrowwidth\": 1}, \"colorscale\": {\"diverging\": [[0, \"#8e0152\"], [0.1, \"#c51b7d\"], [0.2, \"#de77ae\"], [0.3, \"#f1b6da\"], [0.4, \"#fde0ef\"], [0.5, \"#f7f7f7\"], [0.6, \"#e6f5d0\"], [0.7, \"#b8e186\"], [0.8, \"#7fbc41\"], [0.9, \"#4d9221\"], [1, \"#276419\"]], \"sequential\": [[0.0, \"#0d0887\"], [0.1111111111111111, \"#46039f\"], [0.2222222222222222, \"#7201a8\"], [0.3333333333333333, \"#9c179e\"], [0.4444444444444444, \"#bd3786\"], [0.5555555555555556, \"#d8576b\"], [0.6666666666666666, \"#ed7953\"], [0.7777777777777778, \"#fb9f3a\"], [0.8888888888888888, \"#fdca26\"], [1.0, \"#f0f921\"]], \"sequentialminus\": [[0.0, \"#0d0887\"], [0.1111111111111111, \"#46039f\"], [0.2222222222222222, \"#7201a8\"], [0.3333333333333333, \"#9c179e\"], [0.4444444444444444, \"#bd3786\"], [0.5555555555555556, \"#d8576b\"], [0.6666666666666666, \"#ed7953\"], [0.7777777777777778, \"#fb9f3a\"], [0.8888888888888888, \"#fdca26\"], [1.0, \"#f0f921\"]]}, \"colorway\": [\"#636efa\", \"#EF553B\", \"#00cc96\", \"#ab63fa\", \"#FFA15A\", \"#19d3f3\", \"#FF6692\", \"#B6E880\", \"#FF97FF\", \"#FECB52\"], \"font\": {\"color\": \"#2a3f5f\"}, \"geo\": {\"bgcolor\": \"white\", \"lakecolor\": \"white\", \"landcolor\": \"#E5ECF6\", \"showlakes\": true, \"showland\": true, \"subunitcolor\": \"white\"}, \"hoverlabel\": {\"align\": \"left\"}, \"hovermode\": \"closest\", \"mapbox\": {\"style\": \"light\"}, \"paper_bgcolor\": \"white\", \"plot_bgcolor\": \"#E5ECF6\", \"polar\": {\"angularaxis\": {\"gridcolor\": \"white\", \"linecolor\": \"white\", \"ticks\": \"\"}, \"bgcolor\": \"#E5ECF6\", \"radialaxis\": {\"gridcolor\": \"white\", \"linecolor\": \"white\", \"ticks\": \"\"}}, \"scene\": {\"xaxis\": {\"backgroundcolor\": \"#E5ECF6\", \"gridcolor\": \"white\", \"gridwidth\": 2, \"linecolor\": \"white\", \"showbackground\": true, \"ticks\": \"\", \"zerolinecolor\": \"white\"}, \"yaxis\": {\"backgroundcolor\": \"#E5ECF6\", \"gridcolor\": \"white\", \"gridwidth\": 2, \"linecolor\": \"white\", \"showbackground\": true, \"ticks\": \"\", \"zerolinecolor\": \"white\"}, \"zaxis\": {\"backgroundcolor\": \"#E5ECF6\", \"gridcolor\": \"white\", \"gridwidth\": 2, \"linecolor\": \"white\", \"showbackground\": true, \"ticks\": \"\", \"zerolinecolor\": \"white\"}}, \"shapedefaults\": {\"line\": {\"color\": \"#2a3f5f\"}}, \"ternary\": {\"aaxis\": {\"gridcolor\": \"white\", \"linecolor\": \"white\", \"ticks\": \"\"}, \"baxis\": {\"gridcolor\": \"white\", \"linecolor\": \"white\", \"ticks\": \"\"}, \"bgcolor\": \"#E5ECF6\", \"caxis\": {\"gridcolor\": \"white\", \"linecolor\": \"white\", \"ticks\": \"\"}}, \"title\": {\"x\": 0.05}, \"xaxis\": {\"automargin\": true, \"gridcolor\": \"white\", \"linecolor\": \"white\", \"ticks\": \"\", \"zerolinecolor\": \"white\", \"zerolinewidth\": 2}, \"yaxis\": {\"automargin\": true, \"gridcolor\": \"white\", \"linecolor\": \"white\", \"ticks\": \"\", \"zerolinecolor\": \"white\", \"zerolinewidth\": 2}}}},\n",
       "                        {\"responsive\": true}\n",
       "                    ).then(function(){\n",
       "                            \n",
       "var gd = document.getElementById('43405a2b-8ff8-4ad3-96e6-3d30d5ef2c51');\n",
       "var x = new MutationObserver(function (mutations, observer) {{\n",
       "        var display = window.getComputedStyle(gd).display;\n",
       "        if (!display || display === 'none') {{\n",
       "            console.log([gd, 'removed!']);\n",
       "            Plotly.purge(gd);\n",
       "            observer.disconnect();\n",
       "        }}\n",
       "}});\n",
       "\n",
       "// Listen for the removal of the full notebook cells\n",
       "var notebookContainer = gd.closest('#notebook-container');\n",
       "if (notebookContainer) {{\n",
       "    x.observe(notebookContainer, {childList: true});\n",
       "}}\n",
       "\n",
       "// Listen for the clearing of the current output cell\n",
       "var outputEl = gd.closest('.output');\n",
       "if (outputEl) {{\n",
       "    x.observe(outputEl, {childList: true});\n",
       "}}\n",
       "\n",
       "                        })\n",
       "                };\n",
       "                });\n",
       "            </script>\n",
       "        </div>"
      ]
     },
     "metadata": {},
     "output_type": "display_data"
    }
   ],
   "source": [
    "dc = 'dilatation coefficient'\n",
    "dila_coef = pd.DataFrame({\n",
    "    'ageb_area': dv_a['area'][dc],\n",
    "    'ageb_pop': dv_a['pop'][dc],\n",
    "    ** a, **b\n",
    "})\n",
    "sort_col = ud_helper.zms_sort_cols[0]\n",
    "dila_coef = dila_coef.loc[zms.sort_values(sort_col).index]\n",
    "\n",
    "# sort_col = dila_coef.columns[0]\n",
    "# dila_coef=dila_coef.sort_values(sort_col)\n",
    "# print(sort_col)\n",
    "\n",
    "draw_scatter(dila_coef, height=300)\n",
    "draw_scatter(dila_coef.std(axis=1).to_frame(), height=300, margin_r=135)"
   ]
  },
  {
   "cell_type": "markdown",
   "metadata": {},
   "source": [
    "# hotspots"
   ]
  },
  {
   "cell_type": "code",
   "execution_count": 49,
   "metadata": {
    "ExecuteTime": {
     "end_time": "2019-10-30T14:19:51.977182Z",
     "start_time": "2019-10-30T14:19:14.751406Z"
    }
   },
   "outputs": [
    {
     "name": "stdout",
     "output_type": "stream",
     "text": [
      "working on 1 2 3 4 5 6 7 8 9 10 11 12 13 14 15 16 17 18 19 20 21 22 23 24 25 26 27 28 29 30 31 32 33 34 35 36 37 38 39 40 41 42 43 44 45 46 47 48 49 50 51 52 53 54 55 56 57 58 59 \n",
      "working on 1 2 3 4 5 6 7 8 9 10 11 12 13 14 15 16 17 18 19 20 21 22 23 24 25 26 27 28 29 30 31 32 33 34 35 36 37 38 39 40 41 42 43 44 45 46 47 48 49 50 51 52 53 54 55 56 57 58 59 \n",
      "working on 1 2 3 4 5 6 7 8 9 10 11 12 13 14 15 16 17 18 19 20 21 22 23 24 25 26 27 28 29 30 31 32 33 34 35 36 37 38 39 40 41 42 43 44 45 46 47 48 49 50 51 52 53 54 55 56 57 58 59 \n",
      "working on 1 2 3 4 5 6 7 8 9 10 11 12 13 14 15 16 17 18 19 20 21 22 23 24 25 26 27 28 29 30 31 32 33 34 35 36 37 38 39 40 41 42 43 44 45 46 47 48 49 50 51 52 53 54 55 56 57 58 59 \n"
     ]
    }
   ],
   "source": [
    "hotspot_type = 'loubar'\n",
    "n_hs_a = {}\n",
    "comp_coef_a = {}\n",
    "for by in ['area', 'pop']:\n",
    "    for per_mun in [False, True]:\n",
    "        print(key,end=' ')\n",
    "        key = (by, per_mun)\n",
    "        n, cc = ud_helper.ftr_hs.hs_stats_ageb(\n",
    "            avg_a[by], zms, zms_agebs, mg_mapping, per_mun, hotspot_type)\n",
    "        n_hs_a[key] = n\n",
    "        comp_coef_a[key] = cc"
   ]
  },
  {
   "cell_type": "code",
   "execution_count": 112,
   "metadata": {
    "ExecuteTime": {
     "end_time": "2019-10-30T15:44:27.207956Z",
     "start_time": "2019-10-30T15:43:12.429291Z"
    },
    "scrolled": true
   },
   "outputs": [
    {
     "name": "stdout",
     "output_type": "stream",
     "text": [
      "(1000, 'area', False) working on 1 2 3 4 5 6 7 8 9 10 11 12 13 14 15 16 17 18 19 20 21 22 23 24 25 26 27 28 29 30 31 32 33 34 35 36 37 38 39 40 41 42 43 44 45 46 47 48 49 50 51 52 53 54 55 56 57 58 59 \n",
      "(1000, 'area', True) working on 1 2 3 4 5 6 7 8 9 10 11 12 13 14 15 16 17 18 19 20 21 22 23 24 25 26 27 28 29 30 31 32 33 34 35 36 37 38 39 40 41 42 43 44 45 46 47 48 49 50 51 52 53 54 55 56 57 58 59 \n",
      "(1000, 'pop', False) working on 1 2 3 4 5 6 7 8 9 10 11 12 13 14 15 16 17 18 19 20 21 22 23 24 25 26 27 28 29 30 31 32 33 34 35 36 37 38 39 40 41 42 43 44 45 46 47 48 49 50 51 52 53 54 55 56 57 58 59 \n",
      "(1000, 'pop', True) working on 1 2 3 4 5 6 7 8 9 10 11 12 13 14 15 16 17 18 19 20 21 22 23 24 25 26 27 28 29 30 31 32 33 34 35 36 37 38 39 40 41 42 43 44 45 46 47 48 49 50 51 52 53 54 55 56 57 58 59 \n",
      "(2000, 'area', False) working on 1 2 3 4 5 6 7 8 9 10 11 12 13 14 15 16 17 18 19 20 21 22 23 24 25 26 27 28 29 30 31 32 33 34 35 36 37 38 39 40 41 42 43 44 45 46 47 48 49 50 51 52 53 54 55 56 57 58 59 \n",
      "(2000, 'area', True) working on 1 2 3 4 5 6 7 8 9 10 11 12 13 14 15 16 17 18 19 20 21 22 23 24 25 26 27 28 29 30 31 32 33 34 35 36 37 38 39 40 41 42 43 44 45 46 47 48 49 50 51 52 53 54 55 56 57 58 59 \n",
      "(2000, 'pop', False) working on 1 2 3 4 5 6 7 8 9 10 11 12 13 14 15 16 17 18 19 20 21 22 23 24 25 26 27 28 29 30 31 32 33 34 35 36 37 38 39 40 41 42 43 44 45 46 47 48 49 50 51 52 53 54 55 56 57 58 59 \n",
      "(2000, 'pop', True) working on 1 2 3 4 5 6 7 8 9 10 11 12 13 14 15 16 17 18 19 20 21 22 23 24 25 26 27 28 29 30 31 32 33 34 35 36 37 38 39 40 41 42 43 44 45 46 47 48 49 50 51 52 53 54 55 56 57 58 59 \n"
     ]
    }
   ],
   "source": [
    "n_hs_g = {}\n",
    "comp_coef_g = {}\n",
    "for key, avg in avg_g.items():\n",
    "    print(key,end=' ')\n",
    "    side, by, per_mun = key\n",
    "    zms_g = zms_grids[(side, per_mun)]\n",
    "    n, cc = ud_helper.ftr_hs.hs_stats_grid(\n",
    "        avg, zms, zms_g, per_mun, hotspot_type)\n",
    "    n_hs_g[key] = n\n",
    "    comp_coef_g[key] = cc"
   ]
  },
  {
   "cell_type": "code",
   "execution_count": 116,
   "metadata": {
    "ExecuteTime": {
     "end_time": "2019-10-30T15:48:31.110991Z",
     "start_time": "2019-10-30T15:47:53.303739Z"
    },
    "scrolled": true
   },
   "outputs": [
    {
     "name": "stdout",
     "output_type": "stream",
     "text": [
      "(1000, False) working on 1 2 3 4 5 6 7 8 9 10 11 12 13 14 15 16 17 18 19 20 21 22 23 24 25 26 27 28 29 30 31 32 33 34 35 36 37 38 39 40 41 42 43 44 45 46 47 48 49 50 51 52 53 54 55 56 57 58 59 \n",
      "(1000, True) working on 1 2 3 4 5 6 7 8 9 10 11 12 13 14 15 16 17 18 19 20 21 22 23 24 25 26 27 28 29 30 31 32 33 34 35 36 37 38 39 40 41 42 43 44 45 46 47 48 49 50 51 52 53 54 55 56 57 58 59 \n",
      "(2000, False) working on 1 2 3 4 5 6 7 8 9 10 11 12 13 14 15 16 17 18 19 20 21 22 23 24 25 26 27 28 29 30 31 32 33 34 35 36 37 38 39 40 41 42 43 44 45 46 47 48 49 50 51 52 53 54 55 56 57 58 59 \n",
      "(2000, True) working on 1 2 3 4 5 6 7 8 9 10 11 12 13 14 15 16 17 18 19 20 21 22 23 24 25 26 27 28 29 30 31 32 33 34 35 36 37 38 39 40 41 42 43 44 45 46 47 48 49 50 51 52 53 54 55 56 57 58 59 \n"
     ]
    }
   ],
   "source": [
    "n_hs_idw = {}\n",
    "comp_coef_idw = {}\n",
    "for key, avg in avg_idw.items():\n",
    "    print(key,end=' ')\n",
    "    side, per_mun = key\n",
    "    zms_g = zms_grids[key]\n",
    "    n, cc = ud_helper.ftr_hs.hs_stats_grid(\n",
    "        avg, zms, zms_g, per_mun, hotspot_type)\n",
    "    n_hs_idw[key] = n\n",
    "    comp_coef_idw[key] = cc"
   ]
  },
  {
   "cell_type": "code",
   "execution_count": 158,
   "metadata": {
    "ExecuteTime": {
     "end_time": "2019-10-30T16:19:49.358060Z",
     "start_time": "2019-10-30T16:19:49.326385Z"
    }
   },
   "outputs": [],
   "source": [
    "per_mun_str = lambda x: 'zm' if not x else 'mun'\n",
    "\n",
    "a = {('ageb', None, by, per_mun_str(per_mun)):cc for (by, per_mun), cc in comp_coef_a.items() }\n",
    "g = {('g',str(side//1000),by,per_mun_str(per_mun)): cc for (side,by,per_mun), cc in comp_coef_g.items()}\n",
    "idw = {('idw10', str(side//1000), None, per_mun_str(per_mun)): cc for (side,per_mun), cc in comp_coef_idw.items()}"
   ]
  },
  {
   "cell_type": "code",
   "execution_count": 159,
   "metadata": {
    "ExecuteTime": {
     "end_time": "2019-10-30T16:19:51.874080Z",
     "start_time": "2019-10-30T16:19:51.164255Z"
    },
    "code_folding": [],
    "scrolled": false
   },
   "outputs": [
    {
     "name": "stdout",
     "output_type": "stream",
     "text": [
      "('ageb', nan, 'area', 'zm')\n"
     ]
    },
    {
     "data": {
      "application/vnd.plotly.v1+json": {
       "config": {
        "linkText": "Export to plot.ly",
        "plotlyServerURL": "https://plot.ly",
        "showLink": false
       },
       "data": [
        {
         "mode": "lines+markers",
         "name": "('ageb', nan, 'area', 'zm')",
         "type": "scatter",
         "x": [
          "zm40",
          "zm5",
          "zm39",
          "zm3",
          "zm37",
          "zm6",
          "zm30",
          "zm17",
          "zm49",
          "zm12",
          "zm44",
          "zm54",
          "zm42",
          "zm23",
          "zm25",
          "zm4",
          "zm48",
          "zm41",
          "zm9",
          "zm8",
          "zm51",
          "zm53",
          "zm36",
          "zm33",
          "zm50",
          "zm7",
          "zm10",
          "zm57",
          "zm47",
          "zm35",
          "zm43",
          "zm1",
          "zm55",
          "zm14",
          "zm18",
          "zm56",
          "zm2",
          "zm32",
          "zm26",
          "zm16",
          "zm38",
          "zm24",
          "zm31",
          "zm59",
          "zm45",
          "zm29",
          "zm22",
          "zm28",
          "zm11",
          "zm34",
          "zm21",
          "zm27",
          "zm46",
          "zm52",
          "zm15",
          "zm13",
          "zm19",
          "zm20",
          "zm58"
         ],
         "y": [
          0.021072290220803237,
          0.026366474460331073,
          0.030157976268462915,
          0.03129225905450303,
          0.04169194637586093,
          0.04365360981975309,
          0.04479460843678001,
          0.046382422986570256,
          0.047788169192226615,
          0.04826301299081995,
          0.04851376558383321,
          0.05202109327419096,
          0.05532274620913075,
          0.055491080123619425,
          0.06007383973778938,
          0.06386632926797976,
          0.06426200002297358,
          0.0646984022562156,
          0.06564591602694374,
          0.06733184847730384,
          0.06934384023883619,
          0.07141198935922456,
          0.07434058902736473,
          0.07516894699031267,
          0.07648249961535254,
          0.07992933893837842,
          0.08236113845573553,
          0.08438157811467852,
          0.08661466527375337,
          0.08979323151970826,
          0.09194048161732826,
          0.0961596238575681,
          0.0982570690257714,
          0.09865141261901006,
          0.09901565879821272,
          0.09959475378725936,
          0.10135068486549283,
          0.10199962835898503,
          0.1022155316636354,
          0.10576676342274507,
          0.10783840588240036,
          0.11212952440994955,
          0.11336962497163817,
          0.11472078887148861,
          0.11795450344472526,
          0.13143280043721417,
          0.1326002464138579,
          0.13974017801255892,
          0.1474092873701707,
          0.15405283857085125,
          0.15968880599047172,
          0.16144970605360875,
          0.1725728650547424,
          0.17341163962351902,
          0.18257555077018003,
          0.2048952026722198,
          0.2623736306712111,
          0.2693922403062062,
          0.4508153524551732
         ]
        },
        {
         "mode": "lines+markers",
         "name": "('ageb', nan, 'area', 'mun')",
         "type": "scatter",
         "x": [
          "zm40",
          "zm5",
          "zm39",
          "zm3",
          "zm37",
          "zm6",
          "zm30",
          "zm17",
          "zm49",
          "zm12",
          "zm44",
          "zm54",
          "zm42",
          "zm23",
          "zm25",
          "zm4",
          "zm48",
          "zm41",
          "zm9",
          "zm8",
          "zm51",
          "zm53",
          "zm36",
          "zm33",
          "zm50",
          "zm7",
          "zm10",
          "zm57",
          "zm47",
          "zm35",
          "zm43",
          "zm1",
          "zm55",
          "zm14",
          "zm18",
          "zm56",
          "zm2",
          "zm32",
          "zm26",
          "zm16",
          "zm38",
          "zm24",
          "zm31",
          "zm59",
          "zm45",
          "zm29",
          "zm22",
          "zm28",
          "zm11",
          "zm34",
          "zm21",
          "zm27",
          "zm46",
          "zm52",
          "zm15",
          "zm13",
          "zm19",
          "zm20",
          "zm58"
         ],
         "y": [
          0.05301933408522179,
          0.07564948821708767,
          0.0564083390546767,
          0.028387904243280866,
          0.12557992659555292,
          0.10020022326653472,
          0.0712079992537526,
          0.17902504761124674,
          0.17768689195195544,
          0.07008659957294723,
          0.04930655945600387,
          0.09494668403202337,
          0.27483854430772364,
          0.03968248457007547,
          0.14476273314267918,
          0.10046003581726369,
          0.2525095725197467,
          0.16279825287382182,
          0.15214467136428994,
          0.13527350802933752,
          0.10268887616569432,
          0.177095857470856,
          0.12131821383068894,
          0.4125102333656669,
          0.30367111661888757,
          0.11135798578266397,
          0.210907913604137,
          0.35975774415855516,
          0.14932387775923323,
          0.08979323151970826,
          0.18462968449552303,
          0.11784390336798081,
          0.1654735892278391,
          0.26657951919844186,
          0.24790501569486695,
          0.15103541848479712,
          0.3130649420927927,
          0.30629985934031567,
          0.1044144212425472,
          0.11632681247340876,
          0.10179267043915234,
          0.24604425258036855,
          0.21983709882986113,
          0.2115914075525575,
          0.11914921877846203,
          0.3274624409937636,
          0.15421370460674397,
          0.28249254776875765,
          0.1474092873701707,
          0.4892507829698541,
          0.2413648867654571,
          0.10385511719095153,
          0.40376064306909326,
          0.2666368930089601,
          0.10094722669888298,
          0.3266139205369314,
          0.25638909045019925,
          0.35794795751988795,
          0.31914600422285483
         ]
        },
        {
         "mode": "lines+markers",
         "name": "('ageb', nan, 'pop', 'zm')",
         "type": "scatter",
         "x": [
          "zm40",
          "zm5",
          "zm39",
          "zm3",
          "zm37",
          "zm6",
          "zm30",
          "zm17",
          "zm49",
          "zm12",
          "zm44",
          "zm54",
          "zm42",
          "zm23",
          "zm25",
          "zm4",
          "zm48",
          "zm41",
          "zm9",
          "zm8",
          "zm51",
          "zm53",
          "zm36",
          "zm33",
          "zm50",
          "zm7",
          "zm10",
          "zm57",
          "zm47",
          "zm35",
          "zm43",
          "zm1",
          "zm55",
          "zm14",
          "zm18",
          "zm56",
          "zm2",
          "zm32",
          "zm26",
          "zm16",
          "zm38",
          "zm24",
          "zm31",
          "zm59",
          "zm45",
          "zm29",
          "zm22",
          "zm28",
          "zm11",
          "zm34",
          "zm21",
          "zm27",
          "zm46",
          "zm52",
          "zm15",
          "zm13",
          "zm19",
          "zm20",
          "zm58"
         ],
         "y": [
          0.0764859903731221,
          0.05988623274130886,
          0.039224076071307575,
          0.2550858416065683,
          0.07159853981724097,
          0.054622247480939856,
          0.05311434263234333,
          0.08572537411510632,
          0.04513219126579117,
          0.05491393842859986,
          0.06018554244062721,
          0.045612233474922534,
          0.09640712566844506,
          0.1401671865554429,
          0.06433719434954278,
          0.07263173812801543,
          0.07239291158816888,
          0.059515109221081774,
          0.10662074093548433,
          0.07955060295457964,
          0.12234619258003036,
          0.07656967839817014,
          0.0951171257046256,
          0.04328831679016475,
          0.10104933563542796,
          0.09178988955683308,
          0.08864404222983135,
          0.16222002609603636,
          0.12545459546222557,
          0.07861303003462645,
          0.12374552172247794,
          0.09945928348918781,
          0.10388857536907997,
          0.10461480097028175,
          0.10546002412415222,
          0.1103595864032457,
          0.11303700658447739,
          0.10248251815159695,
          0.10648447802296562,
          0.1064070800800367,
          0.10314988574917337,
          0.13619584635667484,
          0.1419611548921654,
          0.15325889715521482,
          0.1335782032370791,
          0.2922488342674247,
          0.15881290553304264,
          0.19179383338251724,
          0.12843507440280094,
          0.2538506817974747,
          0.21758145399771353,
          0.29709414883426166,
          0.13172372325715218,
          0.1430963794774075,
          0.08779563202165803,
          0.20770723759571585,
          0.16681644761480519,
          0.3355018406448671,
          0.37363710863355665
         ]
        },
        {
         "mode": "lines+markers",
         "name": "('ageb', nan, 'pop', 'mun')",
         "type": "scatter",
         "x": [
          "zm40",
          "zm5",
          "zm39",
          "zm3",
          "zm37",
          "zm6",
          "zm30",
          "zm17",
          "zm49",
          "zm12",
          "zm44",
          "zm54",
          "zm42",
          "zm23",
          "zm25",
          "zm4",
          "zm48",
          "zm41",
          "zm9",
          "zm8",
          "zm51",
          "zm53",
          "zm36",
          "zm33",
          "zm50",
          "zm7",
          "zm10",
          "zm57",
          "zm47",
          "zm35",
          "zm43",
          "zm1",
          "zm55",
          "zm14",
          "zm18",
          "zm56",
          "zm2",
          "zm32",
          "zm26",
          "zm16",
          "zm38",
          "zm24",
          "zm31",
          "zm59",
          "zm45",
          "zm29",
          "zm22",
          "zm28",
          "zm11",
          "zm34",
          "zm21",
          "zm27",
          "zm46",
          "zm52",
          "zm15",
          "zm13",
          "zm19",
          "zm20",
          "zm58"
         ],
         "y": [
          0.07018238277114947,
          0.08546652069196768,
          0.047613890442556,
          0.327854501307942,
          0.1011997963694101,
          0.09464716929061835,
          0.07945989568719085,
          0.18139458213150453,
          0.21124300554888367,
          0.09575931831744061,
          0.06021624749807574,
          0.09256431199274695,
          0.26809089425184046,
          0.16670691294334827,
          0.1278164839170921,
          0.14467974964899172,
          0.4152438547706154,
          0.08054202152485263,
          0.15446841383185403,
          0.12348656396449378,
          0.17446245024420767,
          0.21324268381930148,
          0.12919383498352205,
          0.2950131785622217,
          0.2911616958802379,
          0.5034461647008357,
          0.27149546598934715,
          0.34476020981852595,
          0.24868826981970407,
          0.07934307437148323,
          0.2023938563689283,
          0.1689755729511228,
          0.18298773327611323,
          0.3189339468074195,
          0.25052381925567097,
          0.1642304094658971,
          0.3299951485338646,
          0.28894840853576204,
          0.17270634881008656,
          0.09462026513012572,
          0.1038203895892058,
          0.2894758082168909,
          0.2272698389106183,
          0.16549337671310924,
          0.1335782032370791,
          0.27496087222561993,
          0.20145138276891525,
          0.3289079796621905,
          0.12843507440280094,
          0.42520469720292736,
          0.2413588187370619,
          0.28555929097157573,
          0.38991859113469945,
          0.24714097444377073,
          0.08480978763667522,
          0.32586444742482523,
          0.19401380419169115,
          0.36191755626137145,
          0.2594975740746861
         ]
        },
        {
         "mode": "lines+markers",
         "name": "('g', '1', 'area', 'zm')",
         "type": "scatter",
         "x": [
          "zm40",
          "zm5",
          "zm39",
          "zm3",
          "zm37",
          "zm6",
          "zm30",
          "zm17",
          "zm49",
          "zm12",
          "zm44",
          "zm54",
          "zm42",
          "zm23",
          "zm25",
          "zm4",
          "zm48",
          "zm41",
          "zm9",
          "zm8",
          "zm51",
          "zm53",
          "zm36",
          "zm33",
          "zm50",
          "zm7",
          "zm10",
          "zm57",
          "zm47",
          "zm35",
          "zm43",
          "zm1",
          "zm55",
          "zm14",
          "zm18",
          "zm56",
          "zm2",
          "zm32",
          "zm26",
          "zm16",
          "zm38",
          "zm24",
          "zm31",
          "zm59",
          "zm45",
          "zm29",
          "zm22",
          "zm28",
          "zm11",
          "zm34",
          "zm21",
          "zm27",
          "zm46",
          "zm52",
          "zm15",
          "zm13",
          "zm19",
          "zm20",
          "zm58"
         ],
         "y": [
          0.03455015359363514,
          0.024309154994668517,
          0.05607905386416331,
          0.03635024853808278,
          0.04844340118863787,
          0.04802743515869068,
          0.04876888505811962,
          0.075289009369772,
          0.03993655012307873,
          0.03692767865032413,
          0.03287201578773074,
          0.14093299322547265,
          0.038958703431861884,
          0.10137907828324039,
          0.06097716678563133,
          0.08020010062213766,
          0.05970796321552795,
          0.053966822570658116,
          0.0954180709961608,
          0.0585961536945991,
          0.06146575310690721,
          0.08615279003447798,
          0.07113908599148885,
          0.07252958287975046,
          0.09504096956020297,
          0.07181723728888158,
          0.055760545782791875,
          0.07015166914469304,
          0.08156781614382438,
          0.07331921396087748,
          0.06847008759778012,
          0.07226232573260556,
          0.07220370539700059,
          0.07619885345115374,
          0.10319995560331238,
          0.09577616413583571,
          0.12306269469473483,
          0.08643241474071613,
          0.10638189411534471,
          0.20875583470304415,
          0.07705672344105609,
          0.0650295326902498,
          0.09754231685474359,
          0.18497531482137491,
          0.08272411874602992,
          0.2740103889725579,
          0.08695932791199448,
          0.1266185718324651,
          0.12783593115687505,
          0.09505114500354454,
          0.11004892301054633,
          0.40181893531443985,
          0.14999784276356445,
          0.10715545043293086,
          0.2641064255881259,
          0.11401351624443198,
          0.09061113047115557,
          0.38778846995835126,
          0.5576169169853741
         ]
        },
        {
         "mode": "lines+markers",
         "name": "('g', '1', 'area', 'mun')",
         "type": "scatter",
         "x": [
          "zm40",
          "zm5",
          "zm39",
          "zm3",
          "zm37",
          "zm6",
          "zm30",
          "zm17",
          "zm49",
          "zm12",
          "zm44",
          "zm54",
          "zm42",
          "zm23",
          "zm25",
          "zm4",
          "zm48",
          "zm41",
          "zm9",
          "zm8",
          "zm51",
          "zm53",
          "zm36",
          "zm33",
          "zm50",
          "zm7",
          "zm10",
          "zm57",
          "zm47",
          "zm35",
          "zm43",
          "zm1",
          "zm55",
          "zm14",
          "zm18",
          "zm56",
          "zm2",
          "zm32",
          "zm26",
          "zm16",
          "zm38",
          "zm24",
          "zm31",
          "zm59",
          "zm45",
          "zm29",
          "zm22",
          "zm28",
          "zm11",
          "zm34",
          "zm21",
          "zm27",
          "zm46",
          "zm52",
          "zm15",
          "zm13",
          "zm19",
          "zm20",
          "zm58"
         ],
         "y": [
          0.056662000944421906,
          0.08472444865543255,
          0.04204097352047236,
          0.02807887389054603,
          0.12487727303051349,
          0.09190307400761409,
          0.0798473276235747,
          0.21265552904059765,
          0.22847874404331453,
          0.06702015640509991,
          0.03197080135160053,
          0.08113567592787757,
          0.2573399581493629,
          0.04960277382137405,
          0.15940290671011959,
          0.10808382508949722,
          0.31576824622614363,
          0.06320227719259758,
          0.15541205304449904,
          0.17925212763824636,
          0.1684907020689673,
          0.23343870103686293,
          0.2015163285391267,
          0.3704031601294488,
          0.38496663240065987,
          0.1327596479482408,
          0.2798262690376244,
          0.5564108154139146,
          0.17083771895899771,
          0.19562305873029148,
          0.14720516632289277,
          0.1341027301325924,
          0.2428800062490795,
          0.35021149308083116,
          0.309160180190105,
          0.2074897797832362,
          0.30829770882664886,
          0.46065142401916365,
          0.10600427232989403,
          0.09944555277815043,
          0.0826004530402249,
          0.3585175476337807,
          0.27126435483469274,
          0.19948172026241787,
          0.06910250955021476,
          0.32776585920006945,
          0.18063511571638627,
          0.31426269121963574,
          0.13039235953065095,
          0.4556477558433722,
          0.24714089568662395,
          0.08845643276535702,
          0.43721224063803493,
          0.25331394558060844,
          0.07267256296770913,
          0.3933712009202948,
          0.24094452615134476,
          0.38575951165250133,
          0.280035921868492
         ]
        },
        {
         "mode": "lines+markers",
         "name": "('g', '1', 'pop', 'zm')",
         "type": "scatter",
         "x": [
          "zm40",
          "zm5",
          "zm39",
          "zm3",
          "zm37",
          "zm6",
          "zm30",
          "zm17",
          "zm49",
          "zm12",
          "zm44",
          "zm54",
          "zm42",
          "zm23",
          "zm25",
          "zm4",
          "zm48",
          "zm41",
          "zm9",
          "zm8",
          "zm51",
          "zm53",
          "zm36",
          "zm33",
          "zm50",
          "zm7",
          "zm10",
          "zm57",
          "zm47",
          "zm35",
          "zm43",
          "zm1",
          "zm55",
          "zm14",
          "zm18",
          "zm56",
          "zm2",
          "zm32",
          "zm26",
          "zm16",
          "zm38",
          "zm24",
          "zm31",
          "zm59",
          "zm45",
          "zm29",
          "zm22",
          "zm28",
          "zm11",
          "zm34",
          "zm21",
          "zm27",
          "zm46",
          "zm52",
          "zm15",
          "zm13",
          "zm19",
          "zm20",
          "zm58"
         ],
         "y": [
          0.06346618473639089,
          0.03655154690559112,
          0.030850107207593593,
          0.1767523179879163,
          0.051747829408688516,
          0.05290083826227283,
          0.05454758577079167,
          0.0946192881823876,
          0.03460570789681923,
          0.0411164591788954,
          0.044583499249708405,
          0.05403035230721104,
          0.03475297127133469,
          0.06184577498186571,
          0.05928537822655414,
          0.0859730697792337,
          0.06223373921177058,
          0.051907671006518226,
          0.04678106634803911,
          0.06756946028044579,
          0.08156983771410642,
          0.10420492366700856,
          0.08621232965680396,
          0.10532090521361322,
          0.08814283513797487,
          0.08357222946863287,
          0.05143118566765551,
          0.09072448363903908,
          0.07726517394108107,
          0.07395806123420315,
          0.0956247676838788,
          0.08496020275121213,
          0.09870020898028453,
          0.09867542878273476,
          0.12447891372989743,
          0.0945634771337552,
          0.13050751752626125,
          0.09041664575920565,
          0.097822612549705,
          0.10494822939602955,
          0.08860432158162347,
          0.09828590783619783,
          0.11812551831228703,
          0.11781150340408042,
          0.09831471581024064,
          0.29774052853349603,
          0.16589037787318717,
          0.12344664499137153,
          0.14275488330095873,
          0.1326365649207245,
          0.12704556929773825,
          0.3244103679499488,
          0.16889062450991935,
          0.14634151408357718,
          0.09166566508051803,
          0.1243307996141095,
          0.0574807976592318,
          0.23621769188540526,
          0.3371887384870731
         ]
        },
        {
         "mode": "lines+markers",
         "name": "('g', '1', 'pop', 'mun')",
         "type": "scatter",
         "x": [
          "zm40",
          "zm5",
          "zm39",
          "zm3",
          "zm37",
          "zm6",
          "zm30",
          "zm17",
          "zm49",
          "zm12",
          "zm44",
          "zm54",
          "zm42",
          "zm23",
          "zm25",
          "zm4",
          "zm48",
          "zm41",
          "zm9",
          "zm8",
          "zm51",
          "zm53",
          "zm36",
          "zm33",
          "zm50",
          "zm7",
          "zm10",
          "zm57",
          "zm47",
          "zm35",
          "zm43",
          "zm1",
          "zm55",
          "zm14",
          "zm18",
          "zm56",
          "zm2",
          "zm32",
          "zm26",
          "zm16",
          "zm38",
          "zm24",
          "zm31",
          "zm59",
          "zm45",
          "zm29",
          "zm22",
          "zm28",
          "zm11",
          "zm34",
          "zm21",
          "zm27",
          "zm46",
          "zm52",
          "zm15",
          "zm13",
          "zm19",
          "zm20",
          "zm58"
         ],
         "y": [
          0.07711131908405744,
          0.08420322622149642,
          0.03805131855934241,
          0.13209277727584787,
          0.10520310198377941,
          0.09544779285882465,
          0.0787456787527368,
          0.2463375963808857,
          0.210813142794497,
          0.09518169552468633,
          0.04458659779774827,
          0.09059630226540064,
          0.2892287043489597,
          0.2876548147404104,
          0.13734694067057002,
          0.15232539439406872,
          0.4820067398451973,
          0.07161688093213578,
          0.15685701072725267,
          0.17199616326143105,
          0.16287571046694233,
          0.25718022927891443,
          0.18776933706872928,
          0.23066085599449787,
          0.36252834827496067,
          0.49269329051498933,
          0.2641814482634953,
          0.44847458155339365,
          0.33806918622351095,
          0.2223058190369514,
          0.17313067069981286,
          0.19019265840861443,
          0.2560041912613591,
          0.3169800520582554,
          0.323322526622154,
          0.1562496011170935,
          0.33434093913665464,
          0.43647050034956364,
          0.17146519868355714,
          0.09956185574348622,
          0.0964754876015259,
          0.32835044929395774,
          0.26381529626337225,
          0.16085133942525165,
          0.10060366726350929,
          0.3123279228660317,
          0.19679674472803196,
          0.3290501737456118,
          0.14275488314192764,
          0.4314577929770959,
          0.26459909233770523,
          0.4131857948199175,
          0.4265534971539581,
          0.22635187837619503,
          0.09723625372194536,
          0.3773733911797458,
          0.2188440704567027,
          0.3859631352202917,
          0.2616932478550278
         ]
        },
        {
         "mode": "lines+markers",
         "name": "('g', '2', 'area', 'zm')",
         "type": "scatter",
         "x": [
          "zm40",
          "zm5",
          "zm39",
          "zm3",
          "zm37",
          "zm6",
          "zm30",
          "zm17",
          "zm49",
          "zm12",
          "zm44",
          "zm54",
          "zm42",
          "zm23",
          "zm25",
          "zm4",
          "zm48",
          "zm41",
          "zm9",
          "zm8",
          "zm51",
          "zm53",
          "zm36",
          "zm33",
          "zm50",
          "zm7",
          "zm10",
          "zm57",
          "zm47",
          "zm35",
          "zm43",
          "zm1",
          "zm55",
          "zm14",
          "zm18",
          "zm56",
          "zm2",
          "zm32",
          "zm26",
          "zm16",
          "zm38",
          "zm24",
          "zm31",
          "zm59",
          "zm45",
          "zm29",
          "zm22",
          "zm28",
          "zm11",
          "zm34",
          "zm21",
          "zm27",
          "zm46",
          "zm52",
          "zm15",
          "zm13",
          "zm19",
          "zm20",
          "zm58"
         ],
         "y": [
          0.03254395865708172,
          0.03265857284155106,
          0.06153371426233877,
          0.037608248203218085,
          0.05913962313598122,
          0.04733508468946647,
          0.06495899851992826,
          0.08807257039509618,
          0.037870329628697845,
          0.042928411491000684,
          0.05143399451710882,
          0.07797085799112424,
          0.04705540451595536,
          0.10300172962965537,
          0.07671424307017598,
          0.08331730748935301,
          0.09146548618205111,
          0.06245996919027977,
          0.11043544848506633,
          0.06664458164715785,
          0.07362614480907516,
          0.1337770394187612,
          0.09714772416969969,
          0.07720211708059097,
          0.12920128908117767,
          0.07344846472150883,
          0.07141492791972115,
          0.08730917969669107,
          0.0925358733733012,
          0.10232663928356957,
          0.05431924827852676,
          0.08183762646994007,
          0.09621564003314068,
          0.10480618827179443,
          0.10183407016095586,
          0.10817087785572803,
          0.13917725137103318,
          0.10861629271464328,
          0.12655311216684575,
          0.23355512118326538,
          0.09584769954725016,
          0.07735695265042032,
          0.09046216728366985,
          0.2157172261632656,
          0.10735186905682097,
          0.2828079835308455,
          0.09144718902766735,
          0.12430503924887525,
          0.1347160219267115,
          0.09253894780651806,
          0.1297846057856434,
          0.38277143104078576,
          0.15597156109005614,
          0.11559104687096142,
          0.2856188753114639,
          0.11821388549897889,
          0.11984440826689492,
          0.37664339357573173,
          0.31408126613926174
         ]
        },
        {
         "mode": "lines+markers",
         "name": "('g', '2', 'area', 'mun')",
         "type": "scatter",
         "x": [
          "zm40",
          "zm5",
          "zm39",
          "zm3",
          "zm37",
          "zm6",
          "zm30",
          "zm17",
          "zm49",
          "zm12",
          "zm44",
          "zm54",
          "zm42",
          "zm23",
          "zm25",
          "zm4",
          "zm48",
          "zm41",
          "zm9",
          "zm8",
          "zm51",
          "zm53",
          "zm36",
          "zm33",
          "zm50",
          "zm7",
          "zm10",
          "zm57",
          "zm47",
          "zm35",
          "zm43",
          "zm1",
          "zm55",
          "zm14",
          "zm18",
          "zm56",
          "zm2",
          "zm32",
          "zm26",
          "zm16",
          "zm38",
          "zm24",
          "zm31",
          "zm59",
          "zm45",
          "zm29",
          "zm22",
          "zm28",
          "zm11",
          "zm34",
          "zm21",
          "zm27",
          "zm46",
          "zm52",
          "zm15",
          "zm13",
          "zm19",
          "zm20",
          "zm58"
         ],
         "y": [
          0.06233026865624997,
          0.08803767042476426,
          0.04296145383752406,
          0.031517790792624734,
          0.12740623863299552,
          0.092066398877212,
          0.048713223623884104,
          0.3296521280686845,
          0.2685812571977444,
          0.06875045456678991,
          0.044935444058226394,
          0,
          0.3782790108727615,
          0.06423320612077471,
          0.14933063581230563,
          0.1448990158677348,
          0.2937545764709579,
          0.07532496440101637,
          0.051055454959976085,
          0.09175578006356815,
          0.054449440323709505,
          0.27538248654062586,
          0.12569412848901632,
          0.3908824160687093,
          0.24083632996514082,
          0.13559310657094847,
          0.11921030485550657,
          0.4002977563852633,
          0.139359869714052,
          0.2874429272176216,
          0.176019940422455,
          0.11842440109834425,
          0.18211903973945115,
          0.36770902247433185,
          0.2975266042766409,
          0.12549358296148397,
          0.2831082050047118,
          0.5135681976462224,
          0.13740244200872212,
          0.12403116291354241,
          0.09181077494693606,
          0.3469194961911798,
          0.2525917667769896,
          0.08226006429782853,
          0.09327214119198599,
          0.3486451091576054,
          0.19080814929610612,
          0.36756850460743157,
          0.1371061156559206,
          0.4755185207504214,
          0.23066504752394618,
          0.396219150498554,
          0.4279343192581047,
          0.11793963874578137,
          0.09698339410329365,
          0.37551013546313844,
          0.24909701496996836,
          0.40476317069143786,
          0.28297562043619257
         ]
        },
        {
         "mode": "lines+markers",
         "name": "('g', '2', 'pop', 'zm')",
         "type": "scatter",
         "x": [
          "zm40",
          "zm5",
          "zm39",
          "zm3",
          "zm37",
          "zm6",
          "zm30",
          "zm17",
          "zm49",
          "zm12",
          "zm44",
          "zm54",
          "zm42",
          "zm23",
          "zm25",
          "zm4",
          "zm48",
          "zm41",
          "zm9",
          "zm8",
          "zm51",
          "zm53",
          "zm36",
          "zm33",
          "zm50",
          "zm7",
          "zm10",
          "zm57",
          "zm47",
          "zm35",
          "zm43",
          "zm1",
          "zm55",
          "zm14",
          "zm18",
          "zm56",
          "zm2",
          "zm32",
          "zm26",
          "zm16",
          "zm38",
          "zm24",
          "zm31",
          "zm59",
          "zm45",
          "zm29",
          "zm22",
          "zm28",
          "zm11",
          "zm34",
          "zm21",
          "zm27",
          "zm46",
          "zm52",
          "zm15",
          "zm13",
          "zm19",
          "zm20",
          "zm58"
         ],
         "y": [
          0.07242599523849794,
          0.032685685821392085,
          0.038225382703383125,
          0.04260268276168831,
          0.055571564931280674,
          0.05896359030060237,
          0.06711440819462075,
          0.08346802663062923,
          0.03797700295414311,
          0.037835563569256984,
          0.06084036919436974,
          0.07856644655679293,
          0.052616514341217266,
          0.06940034946844646,
          0.0883743086886135,
          0.08930088303066092,
          0.07719806738850417,
          0.06473390231112676,
          0.07094972915122563,
          0.06449564733496496,
          0.11759125186261142,
          0.10576143096401863,
          0.09648048225197398,
          0.057429273816775345,
          0.10804527211975215,
          0.34698606695480083,
          0.07141492791972115,
          0.09684106846444425,
          0.09606594418489627,
          0.10232663928356957,
          0.05205829757714635,
          0.09612641944431848,
          0.09320467031190208,
          0.10700383161246976,
          0.13723674785832016,
          0.11373091183379068,
          0.12556476742678838,
          0.12366416898681952,
          0.2035949299503431,
          0.12036344331688216,
          0.10603406402396219,
          0.08639593540298726,
          0.11697564448588597,
          0.17062674273153514,
          0.11917981323141302,
          0.3208003040290323,
          0.06854256072345627,
          0.1311757025388352,
          0.13543300432746053,
          0.08650996235210746,
          0.12336974449520653,
          0.39560570958447544,
          0.20699689938890234,
          0.11559104687096142,
          0.10090743602553413,
          0.11855472623345349,
          0.08774754171305284,
          0.21971827755517684,
          0.32112799790422847
         ]
        },
        {
         "mode": "lines+markers",
         "name": "('g', '2', 'pop', 'mun')",
         "type": "scatter",
         "x": [
          "zm40",
          "zm5",
          "zm39",
          "zm3",
          "zm37",
          "zm6",
          "zm30",
          "zm17",
          "zm49",
          "zm12",
          "zm44",
          "zm54",
          "zm42",
          "zm23",
          "zm25",
          "zm4",
          "zm48",
          "zm41",
          "zm9",
          "zm8",
          "zm51",
          "zm53",
          "zm36",
          "zm33",
          "zm50",
          "zm7",
          "zm10",
          "zm57",
          "zm47",
          "zm35",
          "zm43",
          "zm1",
          "zm55",
          "zm14",
          "zm18",
          "zm56",
          "zm2",
          "zm32",
          "zm26",
          "zm16",
          "zm38",
          "zm24",
          "zm31",
          "zm59",
          "zm45",
          "zm29",
          "zm22",
          "zm28",
          "zm11",
          "zm34",
          "zm21",
          "zm27",
          "zm46",
          "zm52",
          "zm15",
          "zm13",
          "zm19",
          "zm20",
          "zm58"
         ],
         "y": [
          0.08169797503790294,
          0.0847938771211728,
          0.047956232633328905,
          0.03546795202693437,
          0.1484873839331782,
          0.1157366966972183,
          0.05792809276749244,
          0.2892931134864538,
          0.24160213131162747,
          0.11211507845027213,
          0.060233701748102796,
          0.053820733976410594,
          0.32218736924100716,
          0.33067997924389886,
          0.13356679077421146,
          0.13892619142413254,
          0.5701552461066964,
          0.07892428876535287,
          0,
          0.14400172456625604,
          0.06447582349538154,
          0.31415192292259053,
          0.15277716871250935,
          0.24638986042810088,
          0.27243076558038043,
          0.34655339580531547,
          0.16818259785541476,
          0.343694015088535,
          0.139359869714052,
          0.2321906797857283,
          0.19594711648063967,
          0.19022498186598055,
          0.18935068395074936,
          0.3190131204991853,
          0.32436131182694844,
          0.1287668935633614,
          0.3472119279657283,
          0.515292257495272,
          0.18940328350240893,
          0,
          0.10632010787367063,
          0.33719028384353095,
          0.25951473146433796,
          0.12196723430352327,
          0.1218801478402812,
          0.32756737277633385,
          0.2142061352424321,
          0.34044574490041446,
          0.13914877472660844,
          0.43752745303439095,
          0.2641743222627783,
          0.43290190237832243,
          0.4052887854436235,
          0.11550505636974849,
          0.10071128501763478,
          0.36890735387006596,
          0.2330568883865134,
          0.4205654370249287,
          0.2587974694403431
         ]
        },
        {
         "mode": "lines+markers",
         "name": "('idw10', '1', nan, 'zm')",
         "type": "scatter",
         "x": [
          "zm40",
          "zm5",
          "zm39",
          "zm3",
          "zm37",
          "zm6",
          "zm30",
          "zm17",
          "zm49",
          "zm12",
          "zm44",
          "zm54",
          "zm42",
          "zm23",
          "zm25",
          "zm4",
          "zm48",
          "zm41",
          "zm9",
          "zm8",
          "zm51",
          "zm53",
          "zm36",
          "zm33",
          "zm50",
          "zm7",
          "zm10",
          "zm57",
          "zm47",
          "zm35",
          "zm43",
          "zm1",
          "zm55",
          "zm14",
          "zm18",
          "zm56",
          "zm2",
          "zm32",
          "zm26",
          "zm16",
          "zm38",
          "zm24",
          "zm31",
          "zm59",
          "zm45",
          "zm29",
          "zm22",
          "zm28",
          "zm11",
          "zm34",
          "zm21",
          "zm27",
          "zm46",
          "zm52",
          "zm15",
          "zm13",
          "zm19",
          "zm20",
          "zm58"
         ],
         "y": [
          0.10079625200320735,
          0.06185376456976613,
          0.087827788572708,
          0.0951871852030138,
          0.07679295467849516,
          0.09084405303788595,
          0.10496336320829343,
          0.10629687632196436,
          0.10693558509257567,
          0.043717165297661675,
          0.08564259203535309,
          0.11127164009416746,
          0.0969901210771636,
          0.12533228792412354,
          0.11620673339419685,
          0.12206846052085508,
          0.09966882813304742,
          0.14137669727794525,
          0.14008057064909507,
          0.06403668580716357,
          0.11939529527275991,
          0.09943971357388601,
          0.12656902331071784,
          0.1618157760543028,
          0.1650134311632227,
          0.17147876748358074,
          0.11440146606522007,
          0.1728151137605683,
          0.12078584833617806,
          0.14340711790077448,
          0.12316895836831993,
          0.12944134414617658,
          0.14997798980904004,
          0.16743630936999604,
          0.1890943874576926,
          0.15527556117408867,
          0.13744858505364735,
          0.16745312461642942,
          0.20940216789515964,
          0.22825636259905202,
          0.08774132052272209,
          0.1286773607022078,
          0.14518277445823102,
          0.147359111747741,
          0.1520858660013904,
          0.312430450272993,
          0.16802590108406354,
          0.13947049970475747,
          0.15171590263803608,
          0.240700840340097,
          0.14675255876909615,
          0.22638459995575283,
          0.17236750208329368,
          0.1937238065768383,
          0.14121789615037228,
          0.2160868227809967,
          0.14897129101281728,
          0.22129971957160927,
          0.09986998325484457
         ]
        },
        {
         "mode": "lines+markers",
         "name": "('idw10', '1', nan, 'mun')",
         "type": "scatter",
         "x": [
          "zm40",
          "zm5",
          "zm39",
          "zm3",
          "zm37",
          "zm6",
          "zm30",
          "zm17",
          "zm49",
          "zm12",
          "zm44",
          "zm54",
          "zm42",
          "zm23",
          "zm25",
          "zm4",
          "zm48",
          "zm41",
          "zm9",
          "zm8",
          "zm51",
          "zm53",
          "zm36",
          "zm33",
          "zm50",
          "zm7",
          "zm10",
          "zm57",
          "zm47",
          "zm35",
          "zm43",
          "zm1",
          "zm55",
          "zm14",
          "zm18",
          "zm56",
          "zm2",
          "zm32",
          "zm26",
          "zm16",
          "zm38",
          "zm24",
          "zm31",
          "zm59",
          "zm45",
          "zm29",
          "zm22",
          "zm28",
          "zm11",
          "zm34",
          "zm21",
          "zm27",
          "zm46",
          "zm52",
          "zm15",
          "zm13",
          "zm19",
          "zm20",
          "zm58"
         ],
         "y": [
          0.06368255106681758,
          0.08226535997365379,
          0.04925921978388369,
          0.04770284931843901,
          0.09893475807323769,
          0.09460805578430301,
          0.08325599973634146,
          0.17183646867568905,
          0.16211410911976176,
          0.11062906080329475,
          0.058357033105649894,
          0.05571451573110869,
          0.3085938356850057,
          0.0526402351342862,
          0.1690911658683214,
          0.13999851874122024,
          0.28582579058223406,
          0.08733691896136686,
          0.15282012496438172,
          0.14782979370643334,
          0.15502603160189563,
          0.28893957141531545,
          0.23134658505563985,
          0.2261153472405784,
          0.3921179240371455,
          0.21371696642407062,
          0.23819735651408422,
          0.3237927468169562,
          0.313531572161895,
          0.20535655364155067,
          0.18861896250905816,
          0.181902107409611,
          0.2467875606307165,
          0.3664117233275603,
          0.30601806117199576,
          0.17554826620426842,
          0.2934123271263278,
          0.4357305002828047,
          0.14910822783983038,
          0.10060852001874564,
          0.07452474234155915,
          0.3032245500105847,
          0.3028378764669766,
          0.15248753878939855,
          0.10440201997498776,
          0.3552114887404255,
          0.15438434980685317,
          0.3997187423550024,
          0.1200266434474417,
          0.48474658255823583,
          0.30236047864045834,
          0.11020777925076111,
          0.4074235927326833,
          0.1913063412560536,
          0.07856978037646037,
          0.42788453324806636,
          0.17804913862447908,
          0.3314790734603629,
          0.0657484697328657
         ]
        },
        {
         "mode": "lines+markers",
         "name": "('idw10', '2', nan, 'zm')",
         "type": "scatter",
         "x": [
          "zm40",
          "zm5",
          "zm39",
          "zm3",
          "zm37",
          "zm6",
          "zm30",
          "zm17",
          "zm49",
          "zm12",
          "zm44",
          "zm54",
          "zm42",
          "zm23",
          "zm25",
          "zm4",
          "zm48",
          "zm41",
          "zm9",
          "zm8",
          "zm51",
          "zm53",
          "zm36",
          "zm33",
          "zm50",
          "zm7",
          "zm10",
          "zm57",
          "zm47",
          "zm35",
          "zm43",
          "zm1",
          "zm55",
          "zm14",
          "zm18",
          "zm56",
          "zm2",
          "zm32",
          "zm26",
          "zm16",
          "zm38",
          "zm24",
          "zm31",
          "zm59",
          "zm45",
          "zm29",
          "zm22",
          "zm28",
          "zm11",
          "zm34",
          "zm21",
          "zm27",
          "zm46",
          "zm52",
          "zm15",
          "zm13",
          "zm19",
          "zm20",
          "zm58"
         ],
         "y": [
          0.0777899910268719,
          0.0856083020384366,
          0.11748419047398455,
          0.1524726601721737,
          0.1250311489213463,
          0.05906059398615405,
          0.10829553400040243,
          0.10928752931606583,
          0.12922594322634623,
          0.07564307108889874,
          0.10355202597836317,
          0.12647558776805004,
          0.07198332009193674,
          0.11736233833523195,
          0.1230206017630537,
          0.12678328066279665,
          0.18166883567127962,
          0.15771154031056533,
          0.17469777590693247,
          0.13901951367632934,
          0.1768353878142539,
          0.1898489562997149,
          0.15988314472321521,
          0.19401601374813698,
          0.2612740230253792,
          0.2195803318632471,
          0.14133618698417727,
          0.22269959506445813,
          0.23762934788406415,
          0.19706341748615094,
          0.17537901249975998,
          0.1484504233285403,
          0.17892285729602422,
          0.15603364116630344,
          0.22006135792262596,
          0.18771296134774557,
          0.15673432101942295,
          0.19026696818853536,
          0.282484851032347,
          0.22005011875755426,
          0.16201235759204707,
          0.13289118168419398,
          0.16131577519829282,
          0.18202864417965514,
          0.1859007359256848,
          0.30447698677556245,
          0.2028363640035061,
          0.14503646806152817,
          0.15975364612724738,
          0.21400960168264044,
          0.1519636593753414,
          0.3277210537279221,
          0.28793527747012365,
          0.1728748757137845,
          0.17674666893716526,
          0.224288820349468,
          0.20360132672998793,
          0.22232319423901659,
          0.21026107822343076
         ]
        },
        {
         "mode": "lines+markers",
         "name": "('idw10', '2', nan, 'mun')",
         "type": "scatter",
         "x": [
          "zm40",
          "zm5",
          "zm39",
          "zm3",
          "zm37",
          "zm6",
          "zm30",
          "zm17",
          "zm49",
          "zm12",
          "zm44",
          "zm54",
          "zm42",
          "zm23",
          "zm25",
          "zm4",
          "zm48",
          "zm41",
          "zm9",
          "zm8",
          "zm51",
          "zm53",
          "zm36",
          "zm33",
          "zm50",
          "zm7",
          "zm10",
          "zm57",
          "zm47",
          "zm35",
          "zm43",
          "zm1",
          "zm55",
          "zm14",
          "zm18",
          "zm56",
          "zm2",
          "zm32",
          "zm26",
          "zm16",
          "zm38",
          "zm24",
          "zm31",
          "zm59",
          "zm45",
          "zm29",
          "zm22",
          "zm28",
          "zm11",
          "zm34",
          "zm21",
          "zm27",
          "zm46",
          "zm52",
          "zm15",
          "zm13",
          "zm19",
          "zm20",
          "zm58"
         ],
         "y": [
          0.07843374192413238,
          0.07838217871832129,
          0.05469606544159676,
          0.19018110266693142,
          0.1132230762479812,
          0.12277418234911093,
          0.07442972570640055,
          0.21518380167187567,
          0.2493015145285814,
          0.09994246002416009,
          0.06380459468479746,
          0.05789748767084969,
          0.34888445117862726,
          0.11847247385220286,
          0.11664434373226469,
          0.1858175624708746,
          0.2233783064071837,
          0.11063021178762175,
          0.06052999983417594,
          0.09415133571192066,
          0.07137296585406297,
          0.27073305709017104,
          0.20949836069284378,
          0.2385851144322533,
          0.29568555656346635,
          0.45967781526302715,
          0.1830919068782797,
          0.30305382865460495,
          0.17014902523853997,
          0.19843590969124464,
          0.19181572938877825,
          0.1598376583179413,
          0.17676361488771894,
          0.418398605819298,
          0.26882911861534226,
          0.11807281347541862,
          0.309241725995978,
          0.4581827972680101,
          0.16750182432139382,
          0.1347543667601265,
          0.11274384651493308,
          0.2996857157251413,
          0.25699519883671246,
          0.1284148772591943,
          0.14287271196462867,
          0.3602813975513853,
          0.1769920059250273,
          0.34427133025591367,
          0.1484301175992589,
          0.4933108899139182,
          0.29083885606752374,
          0.1807332025273956,
          0.3976638258099726,
          0.14717973550620528,
          0.07940125431722156,
          0.3950044208850478,
          0.1946601743565509,
          0.36263941228348623,
          0
         ]
        }
       ],
       "layout": {
        "height": 300,
        "margin": {
         "b": 10,
         "l": 10,
         "r": 100,
         "t": 10
        },
        "template": {
         "data": {
          "bar": [
           {
            "error_x": {
             "color": "#2a3f5f"
            },
            "error_y": {
             "color": "#2a3f5f"
            },
            "marker": {
             "line": {
              "color": "#E5ECF6",
              "width": 0.5
             }
            },
            "type": "bar"
           }
          ],
          "barpolar": [
           {
            "marker": {
             "line": {
              "color": "#E5ECF6",
              "width": 0.5
             }
            },
            "type": "barpolar"
           }
          ],
          "carpet": [
           {
            "aaxis": {
             "endlinecolor": "#2a3f5f",
             "gridcolor": "white",
             "linecolor": "white",
             "minorgridcolor": "white",
             "startlinecolor": "#2a3f5f"
            },
            "baxis": {
             "endlinecolor": "#2a3f5f",
             "gridcolor": "white",
             "linecolor": "white",
             "minorgridcolor": "white",
             "startlinecolor": "#2a3f5f"
            },
            "type": "carpet"
           }
          ],
          "choropleth": [
           {
            "colorbar": {
             "outlinewidth": 0,
             "ticks": ""
            },
            "type": "choropleth"
           }
          ],
          "contour": [
           {
            "colorbar": {
             "outlinewidth": 0,
             "ticks": ""
            },
            "colorscale": [
             [
              0,
              "#0d0887"
             ],
             [
              0.1111111111111111,
              "#46039f"
             ],
             [
              0.2222222222222222,
              "#7201a8"
             ],
             [
              0.3333333333333333,
              "#9c179e"
             ],
             [
              0.4444444444444444,
              "#bd3786"
             ],
             [
              0.5555555555555556,
              "#d8576b"
             ],
             [
              0.6666666666666666,
              "#ed7953"
             ],
             [
              0.7777777777777778,
              "#fb9f3a"
             ],
             [
              0.8888888888888888,
              "#fdca26"
             ],
             [
              1,
              "#f0f921"
             ]
            ],
            "type": "contour"
           }
          ],
          "contourcarpet": [
           {
            "colorbar": {
             "outlinewidth": 0,
             "ticks": ""
            },
            "type": "contourcarpet"
           }
          ],
          "heatmap": [
           {
            "colorbar": {
             "outlinewidth": 0,
             "ticks": ""
            },
            "colorscale": [
             [
              0,
              "#0d0887"
             ],
             [
              0.1111111111111111,
              "#46039f"
             ],
             [
              0.2222222222222222,
              "#7201a8"
             ],
             [
              0.3333333333333333,
              "#9c179e"
             ],
             [
              0.4444444444444444,
              "#bd3786"
             ],
             [
              0.5555555555555556,
              "#d8576b"
             ],
             [
              0.6666666666666666,
              "#ed7953"
             ],
             [
              0.7777777777777778,
              "#fb9f3a"
             ],
             [
              0.8888888888888888,
              "#fdca26"
             ],
             [
              1,
              "#f0f921"
             ]
            ],
            "type": "heatmap"
           }
          ],
          "heatmapgl": [
           {
            "colorbar": {
             "outlinewidth": 0,
             "ticks": ""
            },
            "colorscale": [
             [
              0,
              "#0d0887"
             ],
             [
              0.1111111111111111,
              "#46039f"
             ],
             [
              0.2222222222222222,
              "#7201a8"
             ],
             [
              0.3333333333333333,
              "#9c179e"
             ],
             [
              0.4444444444444444,
              "#bd3786"
             ],
             [
              0.5555555555555556,
              "#d8576b"
             ],
             [
              0.6666666666666666,
              "#ed7953"
             ],
             [
              0.7777777777777778,
              "#fb9f3a"
             ],
             [
              0.8888888888888888,
              "#fdca26"
             ],
             [
              1,
              "#f0f921"
             ]
            ],
            "type": "heatmapgl"
           }
          ],
          "histogram": [
           {
            "marker": {
             "colorbar": {
              "outlinewidth": 0,
              "ticks": ""
             }
            },
            "type": "histogram"
           }
          ],
          "histogram2d": [
           {
            "colorbar": {
             "outlinewidth": 0,
             "ticks": ""
            },
            "colorscale": [
             [
              0,
              "#0d0887"
             ],
             [
              0.1111111111111111,
              "#46039f"
             ],
             [
              0.2222222222222222,
              "#7201a8"
             ],
             [
              0.3333333333333333,
              "#9c179e"
             ],
             [
              0.4444444444444444,
              "#bd3786"
             ],
             [
              0.5555555555555556,
              "#d8576b"
             ],
             [
              0.6666666666666666,
              "#ed7953"
             ],
             [
              0.7777777777777778,
              "#fb9f3a"
             ],
             [
              0.8888888888888888,
              "#fdca26"
             ],
             [
              1,
              "#f0f921"
             ]
            ],
            "type": "histogram2d"
           }
          ],
          "histogram2dcontour": [
           {
            "colorbar": {
             "outlinewidth": 0,
             "ticks": ""
            },
            "colorscale": [
             [
              0,
              "#0d0887"
             ],
             [
              0.1111111111111111,
              "#46039f"
             ],
             [
              0.2222222222222222,
              "#7201a8"
             ],
             [
              0.3333333333333333,
              "#9c179e"
             ],
             [
              0.4444444444444444,
              "#bd3786"
             ],
             [
              0.5555555555555556,
              "#d8576b"
             ],
             [
              0.6666666666666666,
              "#ed7953"
             ],
             [
              0.7777777777777778,
              "#fb9f3a"
             ],
             [
              0.8888888888888888,
              "#fdca26"
             ],
             [
              1,
              "#f0f921"
             ]
            ],
            "type": "histogram2dcontour"
           }
          ],
          "mesh3d": [
           {
            "colorbar": {
             "outlinewidth": 0,
             "ticks": ""
            },
            "type": "mesh3d"
           }
          ],
          "parcoords": [
           {
            "line": {
             "colorbar": {
              "outlinewidth": 0,
              "ticks": ""
             }
            },
            "type": "parcoords"
           }
          ],
          "scatter": [
           {
            "marker": {
             "colorbar": {
              "outlinewidth": 0,
              "ticks": ""
             }
            },
            "type": "scatter"
           }
          ],
          "scatter3d": [
           {
            "line": {
             "colorbar": {
              "outlinewidth": 0,
              "ticks": ""
             }
            },
            "marker": {
             "colorbar": {
              "outlinewidth": 0,
              "ticks": ""
             }
            },
            "type": "scatter3d"
           }
          ],
          "scattercarpet": [
           {
            "marker": {
             "colorbar": {
              "outlinewidth": 0,
              "ticks": ""
             }
            },
            "type": "scattercarpet"
           }
          ],
          "scattergeo": [
           {
            "marker": {
             "colorbar": {
              "outlinewidth": 0,
              "ticks": ""
             }
            },
            "type": "scattergeo"
           }
          ],
          "scattergl": [
           {
            "marker": {
             "colorbar": {
              "outlinewidth": 0,
              "ticks": ""
             }
            },
            "type": "scattergl"
           }
          ],
          "scattermapbox": [
           {
            "marker": {
             "colorbar": {
              "outlinewidth": 0,
              "ticks": ""
             }
            },
            "type": "scattermapbox"
           }
          ],
          "scatterpolar": [
           {
            "marker": {
             "colorbar": {
              "outlinewidth": 0,
              "ticks": ""
             }
            },
            "type": "scatterpolar"
           }
          ],
          "scatterpolargl": [
           {
            "marker": {
             "colorbar": {
              "outlinewidth": 0,
              "ticks": ""
             }
            },
            "type": "scatterpolargl"
           }
          ],
          "scatterternary": [
           {
            "marker": {
             "colorbar": {
              "outlinewidth": 0,
              "ticks": ""
             }
            },
            "type": "scatterternary"
           }
          ],
          "surface": [
           {
            "colorbar": {
             "outlinewidth": 0,
             "ticks": ""
            },
            "colorscale": [
             [
              0,
              "#0d0887"
             ],
             [
              0.1111111111111111,
              "#46039f"
             ],
             [
              0.2222222222222222,
              "#7201a8"
             ],
             [
              0.3333333333333333,
              "#9c179e"
             ],
             [
              0.4444444444444444,
              "#bd3786"
             ],
             [
              0.5555555555555556,
              "#d8576b"
             ],
             [
              0.6666666666666666,
              "#ed7953"
             ],
             [
              0.7777777777777778,
              "#fb9f3a"
             ],
             [
              0.8888888888888888,
              "#fdca26"
             ],
             [
              1,
              "#f0f921"
             ]
            ],
            "type": "surface"
           }
          ],
          "table": [
           {
            "cells": {
             "fill": {
              "color": "#EBF0F8"
             },
             "line": {
              "color": "white"
             }
            },
            "header": {
             "fill": {
              "color": "#C8D4E3"
             },
             "line": {
              "color": "white"
             }
            },
            "type": "table"
           }
          ]
         },
         "layout": {
          "annotationdefaults": {
           "arrowcolor": "#2a3f5f",
           "arrowhead": 0,
           "arrowwidth": 1
          },
          "colorscale": {
           "diverging": [
            [
             0,
             "#8e0152"
            ],
            [
             0.1,
             "#c51b7d"
            ],
            [
             0.2,
             "#de77ae"
            ],
            [
             0.3,
             "#f1b6da"
            ],
            [
             0.4,
             "#fde0ef"
            ],
            [
             0.5,
             "#f7f7f7"
            ],
            [
             0.6,
             "#e6f5d0"
            ],
            [
             0.7,
             "#b8e186"
            ],
            [
             0.8,
             "#7fbc41"
            ],
            [
             0.9,
             "#4d9221"
            ],
            [
             1,
             "#276419"
            ]
           ],
           "sequential": [
            [
             0,
             "#0d0887"
            ],
            [
             0.1111111111111111,
             "#46039f"
            ],
            [
             0.2222222222222222,
             "#7201a8"
            ],
            [
             0.3333333333333333,
             "#9c179e"
            ],
            [
             0.4444444444444444,
             "#bd3786"
            ],
            [
             0.5555555555555556,
             "#d8576b"
            ],
            [
             0.6666666666666666,
             "#ed7953"
            ],
            [
             0.7777777777777778,
             "#fb9f3a"
            ],
            [
             0.8888888888888888,
             "#fdca26"
            ],
            [
             1,
             "#f0f921"
            ]
           ],
           "sequentialminus": [
            [
             0,
             "#0d0887"
            ],
            [
             0.1111111111111111,
             "#46039f"
            ],
            [
             0.2222222222222222,
             "#7201a8"
            ],
            [
             0.3333333333333333,
             "#9c179e"
            ],
            [
             0.4444444444444444,
             "#bd3786"
            ],
            [
             0.5555555555555556,
             "#d8576b"
            ],
            [
             0.6666666666666666,
             "#ed7953"
            ],
            [
             0.7777777777777778,
             "#fb9f3a"
            ],
            [
             0.8888888888888888,
             "#fdca26"
            ],
            [
             1,
             "#f0f921"
            ]
           ]
          },
          "colorway": [
           "#636efa",
           "#EF553B",
           "#00cc96",
           "#ab63fa",
           "#FFA15A",
           "#19d3f3",
           "#FF6692",
           "#B6E880",
           "#FF97FF",
           "#FECB52"
          ],
          "font": {
           "color": "#2a3f5f"
          },
          "geo": {
           "bgcolor": "white",
           "lakecolor": "white",
           "landcolor": "#E5ECF6",
           "showlakes": true,
           "showland": true,
           "subunitcolor": "white"
          },
          "hoverlabel": {
           "align": "left"
          },
          "hovermode": "closest",
          "mapbox": {
           "style": "light"
          },
          "paper_bgcolor": "white",
          "plot_bgcolor": "#E5ECF6",
          "polar": {
           "angularaxis": {
            "gridcolor": "white",
            "linecolor": "white",
            "ticks": ""
           },
           "bgcolor": "#E5ECF6",
           "radialaxis": {
            "gridcolor": "white",
            "linecolor": "white",
            "ticks": ""
           }
          },
          "scene": {
           "xaxis": {
            "backgroundcolor": "#E5ECF6",
            "gridcolor": "white",
            "gridwidth": 2,
            "linecolor": "white",
            "showbackground": true,
            "ticks": "",
            "zerolinecolor": "white"
           },
           "yaxis": {
            "backgroundcolor": "#E5ECF6",
            "gridcolor": "white",
            "gridwidth": 2,
            "linecolor": "white",
            "showbackground": true,
            "ticks": "",
            "zerolinecolor": "white"
           },
           "zaxis": {
            "backgroundcolor": "#E5ECF6",
            "gridcolor": "white",
            "gridwidth": 2,
            "linecolor": "white",
            "showbackground": true,
            "ticks": "",
            "zerolinecolor": "white"
           }
          },
          "shapedefaults": {
           "line": {
            "color": "#2a3f5f"
           }
          },
          "ternary": {
           "aaxis": {
            "gridcolor": "white",
            "linecolor": "white",
            "ticks": ""
           },
           "baxis": {
            "gridcolor": "white",
            "linecolor": "white",
            "ticks": ""
           },
           "bgcolor": "#E5ECF6",
           "caxis": {
            "gridcolor": "white",
            "linecolor": "white",
            "ticks": ""
           }
          },
          "title": {
           "x": 0.05
          },
          "xaxis": {
           "automargin": true,
           "gridcolor": "white",
           "linecolor": "white",
           "ticks": "",
           "zerolinecolor": "white",
           "zerolinewidth": 2
          },
          "yaxis": {
           "automargin": true,
           "gridcolor": "white",
           "linecolor": "white",
           "ticks": "",
           "zerolinecolor": "white",
           "zerolinewidth": 2
          }
         }
        }
       }
      },
      "text/html": [
       "<div>\n",
       "        \n",
       "        \n",
       "            <div id=\"dc1cf69c-a8ef-4cf2-a0b4-f6c564168fe5\" class=\"plotly-graph-div\" style=\"height:300px; width:100%;\"></div>\n",
       "            <script type=\"text/javascript\">\n",
       "                require([\"plotly\"], function(Plotly) {\n",
       "                    window.PLOTLYENV=window.PLOTLYENV || {};\n",
       "                    \n",
       "                if (document.getElementById(\"dc1cf69c-a8ef-4cf2-a0b4-f6c564168fe5\")) {\n",
       "                    Plotly.newPlot(\n",
       "                        'dc1cf69c-a8ef-4cf2-a0b4-f6c564168fe5',\n",
       "                        [{\"mode\": \"lines+markers\", \"name\": \"('ageb', nan, 'area', 'zm')\", \"type\": \"scatter\", \"x\": [\"zm40\", \"zm5\", \"zm39\", \"zm3\", \"zm37\", \"zm6\", \"zm30\", \"zm17\", \"zm49\", \"zm12\", \"zm44\", \"zm54\", \"zm42\", \"zm23\", \"zm25\", \"zm4\", \"zm48\", \"zm41\", \"zm9\", \"zm8\", \"zm51\", \"zm53\", \"zm36\", \"zm33\", \"zm50\", \"zm7\", \"zm10\", \"zm57\", \"zm47\", \"zm35\", \"zm43\", \"zm1\", \"zm55\", \"zm14\", \"zm18\", \"zm56\", \"zm2\", \"zm32\", \"zm26\", \"zm16\", \"zm38\", \"zm24\", \"zm31\", \"zm59\", \"zm45\", \"zm29\", \"zm22\", \"zm28\", \"zm11\", \"zm34\", \"zm21\", \"zm27\", \"zm46\", \"zm52\", \"zm15\", \"zm13\", \"zm19\", \"zm20\", \"zm58\"], \"y\": [0.021072290220803237, 0.026366474460331073, 0.030157976268462915, 0.03129225905450303, 0.04169194637586093, 0.04365360981975309, 0.04479460843678001, 0.046382422986570256, 0.047788169192226615, 0.04826301299081995, 0.04851376558383321, 0.05202109327419096, 0.05532274620913075, 0.055491080123619425, 0.06007383973778938, 0.06386632926797976, 0.06426200002297358, 0.0646984022562156, 0.06564591602694374, 0.06733184847730384, 0.06934384023883619, 0.07141198935922456, 0.07434058902736473, 0.07516894699031267, 0.07648249961535254, 0.07992933893837842, 0.08236113845573553, 0.08438157811467852, 0.08661466527375337, 0.08979323151970826, 0.09194048161732826, 0.0961596238575681, 0.0982570690257714, 0.09865141261901006, 0.09901565879821272, 0.09959475378725936, 0.10135068486549283, 0.10199962835898503, 0.1022155316636354, 0.10576676342274507, 0.10783840588240036, 0.11212952440994955, 0.11336962497163817, 0.11472078887148861, 0.11795450344472526, 0.13143280043721417, 0.1326002464138579, 0.13974017801255892, 0.1474092873701707, 0.15405283857085125, 0.15968880599047172, 0.16144970605360875, 0.1725728650547424, 0.17341163962351902, 0.18257555077018003, 0.2048952026722198, 0.2623736306712111, 0.2693922403062062, 0.4508153524551732]}, {\"mode\": \"lines+markers\", \"name\": \"('ageb', nan, 'area', 'mun')\", \"type\": \"scatter\", \"x\": [\"zm40\", \"zm5\", \"zm39\", \"zm3\", \"zm37\", \"zm6\", \"zm30\", \"zm17\", \"zm49\", \"zm12\", \"zm44\", \"zm54\", \"zm42\", \"zm23\", \"zm25\", \"zm4\", \"zm48\", \"zm41\", \"zm9\", \"zm8\", \"zm51\", \"zm53\", \"zm36\", \"zm33\", \"zm50\", \"zm7\", \"zm10\", \"zm57\", \"zm47\", \"zm35\", \"zm43\", \"zm1\", \"zm55\", \"zm14\", \"zm18\", \"zm56\", \"zm2\", \"zm32\", \"zm26\", \"zm16\", \"zm38\", \"zm24\", \"zm31\", \"zm59\", \"zm45\", \"zm29\", \"zm22\", \"zm28\", \"zm11\", \"zm34\", \"zm21\", \"zm27\", \"zm46\", \"zm52\", \"zm15\", \"zm13\", \"zm19\", \"zm20\", \"zm58\"], \"y\": [0.05301933408522179, 0.07564948821708767, 0.0564083390546767, 0.028387904243280866, 0.12557992659555292, 0.10020022326653472, 0.0712079992537526, 0.17902504761124674, 0.17768689195195544, 0.07008659957294723, 0.04930655945600387, 0.09494668403202337, 0.27483854430772364, 0.03968248457007547, 0.14476273314267918, 0.10046003581726369, 0.2525095725197467, 0.16279825287382182, 0.15214467136428994, 0.13527350802933752, 0.10268887616569432, 0.177095857470856, 0.12131821383068894, 0.4125102333656669, 0.30367111661888757, 0.11135798578266397, 0.210907913604137, 0.35975774415855516, 0.14932387775923323, 0.08979323151970826, 0.18462968449552303, 0.11784390336798081, 0.1654735892278391, 0.26657951919844186, 0.24790501569486695, 0.15103541848479712, 0.3130649420927927, 0.30629985934031567, 0.1044144212425472, 0.11632681247340876, 0.10179267043915234, 0.24604425258036855, 0.21983709882986113, 0.2115914075525575, 0.11914921877846203, 0.3274624409937636, 0.15421370460674397, 0.28249254776875765, 0.1474092873701707, 0.4892507829698541, 0.2413648867654571, 0.10385511719095153, 0.40376064306909326, 0.2666368930089601, 0.10094722669888298, 0.3266139205369314, 0.25638909045019925, 0.35794795751988795, 0.31914600422285483]}, {\"mode\": \"lines+markers\", \"name\": \"('ageb', nan, 'pop', 'zm')\", \"type\": \"scatter\", \"x\": [\"zm40\", \"zm5\", \"zm39\", \"zm3\", \"zm37\", \"zm6\", \"zm30\", \"zm17\", \"zm49\", \"zm12\", \"zm44\", \"zm54\", \"zm42\", \"zm23\", \"zm25\", \"zm4\", \"zm48\", \"zm41\", \"zm9\", \"zm8\", \"zm51\", \"zm53\", \"zm36\", \"zm33\", \"zm50\", \"zm7\", \"zm10\", \"zm57\", \"zm47\", \"zm35\", \"zm43\", \"zm1\", \"zm55\", \"zm14\", \"zm18\", \"zm56\", \"zm2\", \"zm32\", \"zm26\", \"zm16\", \"zm38\", \"zm24\", \"zm31\", \"zm59\", \"zm45\", \"zm29\", \"zm22\", \"zm28\", \"zm11\", \"zm34\", \"zm21\", \"zm27\", \"zm46\", \"zm52\", \"zm15\", \"zm13\", \"zm19\", \"zm20\", \"zm58\"], \"y\": [0.0764859903731221, 0.05988623274130886, 0.039224076071307575, 0.2550858416065683, 0.07159853981724097, 0.054622247480939856, 0.05311434263234333, 0.08572537411510632, 0.04513219126579117, 0.05491393842859986, 0.06018554244062721, 0.045612233474922534, 0.09640712566844506, 0.1401671865554429, 0.06433719434954278, 0.07263173812801543, 0.07239291158816888, 0.059515109221081774, 0.10662074093548433, 0.07955060295457964, 0.12234619258003036, 0.07656967839817014, 0.0951171257046256, 0.04328831679016475, 0.10104933563542796, 0.09178988955683308, 0.08864404222983135, 0.16222002609603636, 0.12545459546222557, 0.07861303003462645, 0.12374552172247794, 0.09945928348918781, 0.10388857536907997, 0.10461480097028175, 0.10546002412415222, 0.1103595864032457, 0.11303700658447739, 0.10248251815159695, 0.10648447802296562, 0.1064070800800367, 0.10314988574917337, 0.13619584635667484, 0.1419611548921654, 0.15325889715521482, 0.1335782032370791, 0.2922488342674247, 0.15881290553304264, 0.19179383338251724, 0.12843507440280094, 0.2538506817974747, 0.21758145399771353, 0.29709414883426166, 0.13172372325715218, 0.1430963794774075, 0.08779563202165803, 0.20770723759571585, 0.16681644761480519, 0.3355018406448671, 0.37363710863355665]}, {\"mode\": \"lines+markers\", \"name\": \"('ageb', nan, 'pop', 'mun')\", \"type\": \"scatter\", \"x\": [\"zm40\", \"zm5\", \"zm39\", \"zm3\", \"zm37\", \"zm6\", \"zm30\", \"zm17\", \"zm49\", \"zm12\", \"zm44\", \"zm54\", \"zm42\", \"zm23\", \"zm25\", \"zm4\", \"zm48\", \"zm41\", \"zm9\", \"zm8\", \"zm51\", \"zm53\", \"zm36\", \"zm33\", \"zm50\", \"zm7\", \"zm10\", \"zm57\", \"zm47\", \"zm35\", \"zm43\", \"zm1\", \"zm55\", \"zm14\", \"zm18\", \"zm56\", \"zm2\", \"zm32\", \"zm26\", \"zm16\", \"zm38\", \"zm24\", \"zm31\", \"zm59\", \"zm45\", \"zm29\", \"zm22\", \"zm28\", \"zm11\", \"zm34\", \"zm21\", \"zm27\", \"zm46\", \"zm52\", \"zm15\", \"zm13\", \"zm19\", \"zm20\", \"zm58\"], \"y\": [0.07018238277114947, 0.08546652069196768, 0.047613890442556, 0.327854501307942, 0.1011997963694101, 0.09464716929061835, 0.07945989568719085, 0.18139458213150453, 0.21124300554888367, 0.09575931831744061, 0.06021624749807574, 0.09256431199274695, 0.26809089425184046, 0.16670691294334827, 0.1278164839170921, 0.14467974964899172, 0.4152438547706154, 0.08054202152485263, 0.15446841383185403, 0.12348656396449378, 0.17446245024420767, 0.21324268381930148, 0.12919383498352205, 0.2950131785622217, 0.2911616958802379, 0.5034461647008357, 0.27149546598934715, 0.34476020981852595, 0.24868826981970407, 0.07934307437148323, 0.2023938563689283, 0.1689755729511228, 0.18298773327611323, 0.3189339468074195, 0.25052381925567097, 0.1642304094658971, 0.3299951485338646, 0.28894840853576204, 0.17270634881008656, 0.09462026513012572, 0.1038203895892058, 0.2894758082168909, 0.2272698389106183, 0.16549337671310924, 0.1335782032370791, 0.27496087222561993, 0.20145138276891525, 0.3289079796621905, 0.12843507440280094, 0.42520469720292736, 0.2413588187370619, 0.28555929097157573, 0.38991859113469945, 0.24714097444377073, 0.08480978763667522, 0.32586444742482523, 0.19401380419169115, 0.36191755626137145, 0.2594975740746861]}, {\"mode\": \"lines+markers\", \"name\": \"('g', '1', 'area', 'zm')\", \"type\": \"scatter\", \"x\": [\"zm40\", \"zm5\", \"zm39\", \"zm3\", \"zm37\", \"zm6\", \"zm30\", \"zm17\", \"zm49\", \"zm12\", \"zm44\", \"zm54\", \"zm42\", \"zm23\", \"zm25\", \"zm4\", \"zm48\", \"zm41\", \"zm9\", \"zm8\", \"zm51\", \"zm53\", \"zm36\", \"zm33\", \"zm50\", \"zm7\", \"zm10\", \"zm57\", \"zm47\", \"zm35\", \"zm43\", \"zm1\", \"zm55\", \"zm14\", \"zm18\", \"zm56\", \"zm2\", \"zm32\", \"zm26\", \"zm16\", \"zm38\", \"zm24\", \"zm31\", \"zm59\", \"zm45\", \"zm29\", \"zm22\", \"zm28\", \"zm11\", \"zm34\", \"zm21\", \"zm27\", \"zm46\", \"zm52\", \"zm15\", \"zm13\", \"zm19\", \"zm20\", \"zm58\"], \"y\": [0.03455015359363514, 0.024309154994668517, 0.05607905386416331, 0.03635024853808278, 0.04844340118863787, 0.04802743515869068, 0.04876888505811962, 0.075289009369772, 0.03993655012307873, 0.03692767865032413, 0.03287201578773074, 0.14093299322547265, 0.038958703431861884, 0.10137907828324039, 0.06097716678563133, 0.08020010062213766, 0.05970796321552795, 0.053966822570658116, 0.0954180709961608, 0.0585961536945991, 0.06146575310690721, 0.08615279003447798, 0.07113908599148885, 0.07252958287975046, 0.09504096956020297, 0.07181723728888158, 0.055760545782791875, 0.07015166914469304, 0.08156781614382438, 0.07331921396087748, 0.06847008759778012, 0.07226232573260556, 0.07220370539700059, 0.07619885345115374, 0.10319995560331238, 0.09577616413583571, 0.12306269469473483, 0.08643241474071613, 0.10638189411534471, 0.20875583470304415, 0.07705672344105609, 0.0650295326902498, 0.09754231685474359, 0.18497531482137491, 0.08272411874602992, 0.2740103889725579, 0.08695932791199448, 0.1266185718324651, 0.12783593115687505, 0.09505114500354454, 0.11004892301054633, 0.40181893531443985, 0.14999784276356445, 0.10715545043293086, 0.2641064255881259, 0.11401351624443198, 0.09061113047115557, 0.38778846995835126, 0.5576169169853741]}, {\"mode\": \"lines+markers\", \"name\": \"('g', '1', 'area', 'mun')\", \"type\": \"scatter\", \"x\": [\"zm40\", \"zm5\", \"zm39\", \"zm3\", \"zm37\", \"zm6\", \"zm30\", \"zm17\", \"zm49\", \"zm12\", \"zm44\", \"zm54\", \"zm42\", \"zm23\", \"zm25\", \"zm4\", \"zm48\", \"zm41\", \"zm9\", \"zm8\", \"zm51\", \"zm53\", \"zm36\", \"zm33\", \"zm50\", \"zm7\", \"zm10\", \"zm57\", \"zm47\", \"zm35\", \"zm43\", \"zm1\", \"zm55\", \"zm14\", \"zm18\", \"zm56\", \"zm2\", \"zm32\", \"zm26\", \"zm16\", \"zm38\", \"zm24\", \"zm31\", \"zm59\", \"zm45\", \"zm29\", \"zm22\", \"zm28\", \"zm11\", \"zm34\", \"zm21\", \"zm27\", \"zm46\", \"zm52\", \"zm15\", \"zm13\", \"zm19\", \"zm20\", \"zm58\"], \"y\": [0.056662000944421906, 0.08472444865543255, 0.04204097352047236, 0.02807887389054603, 0.12487727303051349, 0.09190307400761409, 0.0798473276235747, 0.21265552904059765, 0.22847874404331453, 0.06702015640509991, 0.03197080135160053, 0.08113567592787757, 0.2573399581493629, 0.04960277382137405, 0.15940290671011959, 0.10808382508949722, 0.31576824622614363, 0.06320227719259758, 0.15541205304449904, 0.17925212763824636, 0.1684907020689673, 0.23343870103686293, 0.2015163285391267, 0.3704031601294488, 0.38496663240065987, 0.1327596479482408, 0.2798262690376244, 0.5564108154139146, 0.17083771895899771, 0.19562305873029148, 0.14720516632289277, 0.1341027301325924, 0.2428800062490795, 0.35021149308083116, 0.309160180190105, 0.2074897797832362, 0.30829770882664886, 0.46065142401916365, 0.10600427232989403, 0.09944555277815043, 0.0826004530402249, 0.3585175476337807, 0.27126435483469274, 0.19948172026241787, 0.06910250955021476, 0.32776585920006945, 0.18063511571638627, 0.31426269121963574, 0.13039235953065095, 0.4556477558433722, 0.24714089568662395, 0.08845643276535702, 0.43721224063803493, 0.25331394558060844, 0.07267256296770913, 0.3933712009202948, 0.24094452615134476, 0.38575951165250133, 0.280035921868492]}, {\"mode\": \"lines+markers\", \"name\": \"('g', '1', 'pop', 'zm')\", \"type\": \"scatter\", \"x\": [\"zm40\", \"zm5\", \"zm39\", \"zm3\", \"zm37\", \"zm6\", \"zm30\", \"zm17\", \"zm49\", \"zm12\", \"zm44\", \"zm54\", \"zm42\", \"zm23\", \"zm25\", \"zm4\", \"zm48\", \"zm41\", \"zm9\", \"zm8\", \"zm51\", \"zm53\", \"zm36\", \"zm33\", \"zm50\", \"zm7\", \"zm10\", \"zm57\", \"zm47\", \"zm35\", \"zm43\", \"zm1\", \"zm55\", \"zm14\", \"zm18\", \"zm56\", \"zm2\", \"zm32\", \"zm26\", \"zm16\", \"zm38\", \"zm24\", \"zm31\", \"zm59\", \"zm45\", \"zm29\", \"zm22\", \"zm28\", \"zm11\", \"zm34\", \"zm21\", \"zm27\", \"zm46\", \"zm52\", \"zm15\", \"zm13\", \"zm19\", \"zm20\", \"zm58\"], \"y\": [0.06346618473639089, 0.03655154690559112, 0.030850107207593593, 0.1767523179879163, 0.051747829408688516, 0.05290083826227283, 0.05454758577079167, 0.0946192881823876, 0.03460570789681923, 0.0411164591788954, 0.044583499249708405, 0.05403035230721104, 0.03475297127133469, 0.06184577498186571, 0.05928537822655414, 0.0859730697792337, 0.06223373921177058, 0.051907671006518226, 0.04678106634803911, 0.06756946028044579, 0.08156983771410642, 0.10420492366700856, 0.08621232965680396, 0.10532090521361322, 0.08814283513797487, 0.08357222946863287, 0.05143118566765551, 0.09072448363903908, 0.07726517394108107, 0.07395806123420315, 0.0956247676838788, 0.08496020275121213, 0.09870020898028453, 0.09867542878273476, 0.12447891372989743, 0.0945634771337552, 0.13050751752626125, 0.09041664575920565, 0.097822612549705, 0.10494822939602955, 0.08860432158162347, 0.09828590783619783, 0.11812551831228703, 0.11781150340408042, 0.09831471581024064, 0.29774052853349603, 0.16589037787318717, 0.12344664499137153, 0.14275488330095873, 0.1326365649207245, 0.12704556929773825, 0.3244103679499488, 0.16889062450991935, 0.14634151408357718, 0.09166566508051803, 0.1243307996141095, 0.0574807976592318, 0.23621769188540526, 0.3371887384870731]}, {\"mode\": \"lines+markers\", \"name\": \"('g', '1', 'pop', 'mun')\", \"type\": \"scatter\", \"x\": [\"zm40\", \"zm5\", \"zm39\", \"zm3\", \"zm37\", \"zm6\", \"zm30\", \"zm17\", \"zm49\", \"zm12\", \"zm44\", \"zm54\", \"zm42\", \"zm23\", \"zm25\", \"zm4\", \"zm48\", \"zm41\", \"zm9\", \"zm8\", \"zm51\", \"zm53\", \"zm36\", \"zm33\", \"zm50\", \"zm7\", \"zm10\", \"zm57\", \"zm47\", \"zm35\", \"zm43\", \"zm1\", \"zm55\", \"zm14\", \"zm18\", \"zm56\", \"zm2\", \"zm32\", \"zm26\", \"zm16\", \"zm38\", \"zm24\", \"zm31\", \"zm59\", \"zm45\", \"zm29\", \"zm22\", \"zm28\", \"zm11\", \"zm34\", \"zm21\", \"zm27\", \"zm46\", \"zm52\", \"zm15\", \"zm13\", \"zm19\", \"zm20\", \"zm58\"], \"y\": [0.07711131908405744, 0.08420322622149642, 0.03805131855934241, 0.13209277727584787, 0.10520310198377941, 0.09544779285882465, 0.0787456787527368, 0.2463375963808857, 0.210813142794497, 0.09518169552468633, 0.04458659779774827, 0.09059630226540064, 0.2892287043489597, 0.2876548147404104, 0.13734694067057002, 0.15232539439406872, 0.4820067398451973, 0.07161688093213578, 0.15685701072725267, 0.17199616326143105, 0.16287571046694233, 0.25718022927891443, 0.18776933706872928, 0.23066085599449787, 0.36252834827496067, 0.49269329051498933, 0.2641814482634953, 0.44847458155339365, 0.33806918622351095, 0.2223058190369514, 0.17313067069981286, 0.19019265840861443, 0.2560041912613591, 0.3169800520582554, 0.323322526622154, 0.1562496011170935, 0.33434093913665464, 0.43647050034956364, 0.17146519868355714, 0.09956185574348622, 0.0964754876015259, 0.32835044929395774, 0.26381529626337225, 0.16085133942525165, 0.10060366726350929, 0.3123279228660317, 0.19679674472803196, 0.3290501737456118, 0.14275488314192764, 0.4314577929770959, 0.26459909233770523, 0.4131857948199175, 0.4265534971539581, 0.22635187837619503, 0.09723625372194536, 0.3773733911797458, 0.2188440704567027, 0.3859631352202917, 0.2616932478550278]}, {\"mode\": \"lines+markers\", \"name\": \"('g', '2', 'area', 'zm')\", \"type\": \"scatter\", \"x\": [\"zm40\", \"zm5\", \"zm39\", \"zm3\", \"zm37\", \"zm6\", \"zm30\", \"zm17\", \"zm49\", \"zm12\", \"zm44\", \"zm54\", \"zm42\", \"zm23\", \"zm25\", \"zm4\", \"zm48\", \"zm41\", \"zm9\", \"zm8\", \"zm51\", \"zm53\", \"zm36\", \"zm33\", \"zm50\", \"zm7\", \"zm10\", \"zm57\", \"zm47\", \"zm35\", \"zm43\", \"zm1\", \"zm55\", \"zm14\", \"zm18\", \"zm56\", \"zm2\", \"zm32\", \"zm26\", \"zm16\", \"zm38\", \"zm24\", \"zm31\", \"zm59\", \"zm45\", \"zm29\", \"zm22\", \"zm28\", \"zm11\", \"zm34\", \"zm21\", \"zm27\", \"zm46\", \"zm52\", \"zm15\", \"zm13\", \"zm19\", \"zm20\", \"zm58\"], \"y\": [0.03254395865708172, 0.03265857284155106, 0.06153371426233877, 0.037608248203218085, 0.05913962313598122, 0.04733508468946647, 0.06495899851992826, 0.08807257039509618, 0.037870329628697845, 0.042928411491000684, 0.05143399451710882, 0.07797085799112424, 0.04705540451595536, 0.10300172962965537, 0.07671424307017598, 0.08331730748935301, 0.09146548618205111, 0.06245996919027977, 0.11043544848506633, 0.06664458164715785, 0.07362614480907516, 0.1337770394187612, 0.09714772416969969, 0.07720211708059097, 0.12920128908117767, 0.07344846472150883, 0.07141492791972115, 0.08730917969669107, 0.0925358733733012, 0.10232663928356957, 0.05431924827852676, 0.08183762646994007, 0.09621564003314068, 0.10480618827179443, 0.10183407016095586, 0.10817087785572803, 0.13917725137103318, 0.10861629271464328, 0.12655311216684575, 0.23355512118326538, 0.09584769954725016, 0.07735695265042032, 0.09046216728366985, 0.2157172261632656, 0.10735186905682097, 0.2828079835308455, 0.09144718902766735, 0.12430503924887525, 0.1347160219267115, 0.09253894780651806, 0.1297846057856434, 0.38277143104078576, 0.15597156109005614, 0.11559104687096142, 0.2856188753114639, 0.11821388549897889, 0.11984440826689492, 0.37664339357573173, 0.31408126613926174]}, {\"mode\": \"lines+markers\", \"name\": \"('g', '2', 'area', 'mun')\", \"type\": \"scatter\", \"x\": [\"zm40\", \"zm5\", \"zm39\", \"zm3\", \"zm37\", \"zm6\", \"zm30\", \"zm17\", \"zm49\", \"zm12\", \"zm44\", \"zm54\", \"zm42\", \"zm23\", \"zm25\", \"zm4\", \"zm48\", \"zm41\", \"zm9\", \"zm8\", \"zm51\", \"zm53\", \"zm36\", \"zm33\", \"zm50\", \"zm7\", \"zm10\", \"zm57\", \"zm47\", \"zm35\", \"zm43\", \"zm1\", \"zm55\", \"zm14\", \"zm18\", \"zm56\", \"zm2\", \"zm32\", \"zm26\", \"zm16\", \"zm38\", \"zm24\", \"zm31\", \"zm59\", \"zm45\", \"zm29\", \"zm22\", \"zm28\", \"zm11\", \"zm34\", \"zm21\", \"zm27\", \"zm46\", \"zm52\", \"zm15\", \"zm13\", \"zm19\", \"zm20\", \"zm58\"], \"y\": [0.06233026865624997, 0.08803767042476426, 0.04296145383752406, 0.031517790792624734, 0.12740623863299552, 0.092066398877212, 0.048713223623884104, 0.3296521280686845, 0.2685812571977444, 0.06875045456678991, 0.044935444058226394, 0.0, 0.3782790108727615, 0.06423320612077471, 0.14933063581230563, 0.1448990158677348, 0.2937545764709579, 0.07532496440101637, 0.051055454959976085, 0.09175578006356815, 0.054449440323709505, 0.27538248654062586, 0.12569412848901632, 0.3908824160687093, 0.24083632996514082, 0.13559310657094847, 0.11921030485550657, 0.4002977563852633, 0.139359869714052, 0.2874429272176216, 0.176019940422455, 0.11842440109834425, 0.18211903973945115, 0.36770902247433185, 0.2975266042766409, 0.12549358296148397, 0.2831082050047118, 0.5135681976462224, 0.13740244200872212, 0.12403116291354241, 0.09181077494693606, 0.3469194961911798, 0.2525917667769896, 0.08226006429782853, 0.09327214119198599, 0.3486451091576054, 0.19080814929610612, 0.36756850460743157, 0.1371061156559206, 0.4755185207504214, 0.23066504752394618, 0.396219150498554, 0.4279343192581047, 0.11793963874578137, 0.09698339410329365, 0.37551013546313844, 0.24909701496996836, 0.40476317069143786, 0.28297562043619257]}, {\"mode\": \"lines+markers\", \"name\": \"('g', '2', 'pop', 'zm')\", \"type\": \"scatter\", \"x\": [\"zm40\", \"zm5\", \"zm39\", \"zm3\", \"zm37\", \"zm6\", \"zm30\", \"zm17\", \"zm49\", \"zm12\", \"zm44\", \"zm54\", \"zm42\", \"zm23\", \"zm25\", \"zm4\", \"zm48\", \"zm41\", \"zm9\", \"zm8\", \"zm51\", \"zm53\", \"zm36\", \"zm33\", \"zm50\", \"zm7\", \"zm10\", \"zm57\", \"zm47\", \"zm35\", \"zm43\", \"zm1\", \"zm55\", \"zm14\", \"zm18\", \"zm56\", \"zm2\", \"zm32\", \"zm26\", \"zm16\", \"zm38\", \"zm24\", \"zm31\", \"zm59\", \"zm45\", \"zm29\", \"zm22\", \"zm28\", \"zm11\", \"zm34\", \"zm21\", \"zm27\", \"zm46\", \"zm52\", \"zm15\", \"zm13\", \"zm19\", \"zm20\", \"zm58\"], \"y\": [0.07242599523849794, 0.032685685821392085, 0.038225382703383125, 0.04260268276168831, 0.055571564931280674, 0.05896359030060237, 0.06711440819462075, 0.08346802663062923, 0.03797700295414311, 0.037835563569256984, 0.06084036919436974, 0.07856644655679293, 0.052616514341217266, 0.06940034946844646, 0.0883743086886135, 0.08930088303066092, 0.07719806738850417, 0.06473390231112676, 0.07094972915122563, 0.06449564733496496, 0.11759125186261142, 0.10576143096401863, 0.09648048225197398, 0.057429273816775345, 0.10804527211975215, 0.34698606695480083, 0.07141492791972115, 0.09684106846444425, 0.09606594418489627, 0.10232663928356957, 0.05205829757714635, 0.09612641944431848, 0.09320467031190208, 0.10700383161246976, 0.13723674785832016, 0.11373091183379068, 0.12556476742678838, 0.12366416898681952, 0.2035949299503431, 0.12036344331688216, 0.10603406402396219, 0.08639593540298726, 0.11697564448588597, 0.17062674273153514, 0.11917981323141302, 0.3208003040290323, 0.06854256072345627, 0.1311757025388352, 0.13543300432746053, 0.08650996235210746, 0.12336974449520653, 0.39560570958447544, 0.20699689938890234, 0.11559104687096142, 0.10090743602553413, 0.11855472623345349, 0.08774754171305284, 0.21971827755517684, 0.32112799790422847]}, {\"mode\": \"lines+markers\", \"name\": \"('g', '2', 'pop', 'mun')\", \"type\": \"scatter\", \"x\": [\"zm40\", \"zm5\", \"zm39\", \"zm3\", \"zm37\", \"zm6\", \"zm30\", \"zm17\", \"zm49\", \"zm12\", \"zm44\", \"zm54\", \"zm42\", \"zm23\", \"zm25\", \"zm4\", \"zm48\", \"zm41\", \"zm9\", \"zm8\", \"zm51\", \"zm53\", \"zm36\", \"zm33\", \"zm50\", \"zm7\", \"zm10\", \"zm57\", \"zm47\", \"zm35\", \"zm43\", \"zm1\", \"zm55\", \"zm14\", \"zm18\", \"zm56\", \"zm2\", \"zm32\", \"zm26\", \"zm16\", \"zm38\", \"zm24\", \"zm31\", \"zm59\", \"zm45\", \"zm29\", \"zm22\", \"zm28\", \"zm11\", \"zm34\", \"zm21\", \"zm27\", \"zm46\", \"zm52\", \"zm15\", \"zm13\", \"zm19\", \"zm20\", \"zm58\"], \"y\": [0.08169797503790294, 0.0847938771211728, 0.047956232633328905, 0.03546795202693437, 0.1484873839331782, 0.1157366966972183, 0.05792809276749244, 0.2892931134864538, 0.24160213131162747, 0.11211507845027213, 0.060233701748102796, 0.053820733976410594, 0.32218736924100716, 0.33067997924389886, 0.13356679077421146, 0.13892619142413254, 0.5701552461066964, 0.07892428876535287, 0.0, 0.14400172456625604, 0.06447582349538154, 0.31415192292259053, 0.15277716871250935, 0.24638986042810088, 0.27243076558038043, 0.34655339580531547, 0.16818259785541476, 0.343694015088535, 0.139359869714052, 0.2321906797857283, 0.19594711648063967, 0.19022498186598055, 0.18935068395074936, 0.3190131204991853, 0.32436131182694844, 0.1287668935633614, 0.3472119279657283, 0.515292257495272, 0.18940328350240893, 0.0, 0.10632010787367063, 0.33719028384353095, 0.25951473146433796, 0.12196723430352327, 0.1218801478402812, 0.32756737277633385, 0.2142061352424321, 0.34044574490041446, 0.13914877472660844, 0.43752745303439095, 0.2641743222627783, 0.43290190237832243, 0.4052887854436235, 0.11550505636974849, 0.10071128501763478, 0.36890735387006596, 0.2330568883865134, 0.4205654370249287, 0.2587974694403431]}, {\"mode\": \"lines+markers\", \"name\": \"('idw10', '1', nan, 'zm')\", \"type\": \"scatter\", \"x\": [\"zm40\", \"zm5\", \"zm39\", \"zm3\", \"zm37\", \"zm6\", \"zm30\", \"zm17\", \"zm49\", \"zm12\", \"zm44\", \"zm54\", \"zm42\", \"zm23\", \"zm25\", \"zm4\", \"zm48\", \"zm41\", \"zm9\", \"zm8\", \"zm51\", \"zm53\", \"zm36\", \"zm33\", \"zm50\", \"zm7\", \"zm10\", \"zm57\", \"zm47\", \"zm35\", \"zm43\", \"zm1\", \"zm55\", \"zm14\", \"zm18\", \"zm56\", \"zm2\", \"zm32\", \"zm26\", \"zm16\", \"zm38\", \"zm24\", \"zm31\", \"zm59\", \"zm45\", \"zm29\", \"zm22\", \"zm28\", \"zm11\", \"zm34\", \"zm21\", \"zm27\", \"zm46\", \"zm52\", \"zm15\", \"zm13\", \"zm19\", \"zm20\", \"zm58\"], \"y\": [0.10079625200320735, 0.06185376456976613, 0.087827788572708, 0.0951871852030138, 0.07679295467849516, 0.09084405303788595, 0.10496336320829343, 0.10629687632196436, 0.10693558509257567, 0.043717165297661675, 0.08564259203535309, 0.11127164009416746, 0.0969901210771636, 0.12533228792412354, 0.11620673339419685, 0.12206846052085508, 0.09966882813304742, 0.14137669727794525, 0.14008057064909507, 0.06403668580716357, 0.11939529527275991, 0.09943971357388601, 0.12656902331071784, 0.1618157760543028, 0.1650134311632227, 0.17147876748358074, 0.11440146606522007, 0.1728151137605683, 0.12078584833617806, 0.14340711790077448, 0.12316895836831993, 0.12944134414617658, 0.14997798980904004, 0.16743630936999604, 0.1890943874576926, 0.15527556117408867, 0.13744858505364735, 0.16745312461642942, 0.20940216789515964, 0.22825636259905202, 0.08774132052272209, 0.1286773607022078, 0.14518277445823102, 0.147359111747741, 0.1520858660013904, 0.312430450272993, 0.16802590108406354, 0.13947049970475747, 0.15171590263803608, 0.240700840340097, 0.14675255876909615, 0.22638459995575283, 0.17236750208329368, 0.1937238065768383, 0.14121789615037228, 0.2160868227809967, 0.14897129101281728, 0.22129971957160927, 0.09986998325484457]}, {\"mode\": \"lines+markers\", \"name\": \"('idw10', '1', nan, 'mun')\", \"type\": \"scatter\", \"x\": [\"zm40\", \"zm5\", \"zm39\", \"zm3\", \"zm37\", \"zm6\", \"zm30\", \"zm17\", \"zm49\", \"zm12\", \"zm44\", \"zm54\", \"zm42\", \"zm23\", \"zm25\", \"zm4\", \"zm48\", \"zm41\", \"zm9\", \"zm8\", \"zm51\", \"zm53\", \"zm36\", \"zm33\", \"zm50\", \"zm7\", \"zm10\", \"zm57\", \"zm47\", \"zm35\", \"zm43\", \"zm1\", \"zm55\", \"zm14\", \"zm18\", \"zm56\", \"zm2\", \"zm32\", \"zm26\", \"zm16\", \"zm38\", \"zm24\", \"zm31\", \"zm59\", \"zm45\", \"zm29\", \"zm22\", \"zm28\", \"zm11\", \"zm34\", \"zm21\", \"zm27\", \"zm46\", \"zm52\", \"zm15\", \"zm13\", \"zm19\", \"zm20\", \"zm58\"], \"y\": [0.06368255106681758, 0.08226535997365379, 0.04925921978388369, 0.04770284931843901, 0.09893475807323769, 0.09460805578430301, 0.08325599973634146, 0.17183646867568905, 0.16211410911976176, 0.11062906080329475, 0.058357033105649894, 0.05571451573110869, 0.3085938356850057, 0.0526402351342862, 0.1690911658683214, 0.13999851874122024, 0.28582579058223406, 0.08733691896136686, 0.15282012496438172, 0.14782979370643334, 0.15502603160189563, 0.28893957141531545, 0.23134658505563985, 0.2261153472405784, 0.3921179240371455, 0.21371696642407062, 0.23819735651408422, 0.3237927468169562, 0.313531572161895, 0.20535655364155067, 0.18861896250905816, 0.181902107409611, 0.2467875606307165, 0.3664117233275603, 0.30601806117199576, 0.17554826620426842, 0.2934123271263278, 0.4357305002828047, 0.14910822783983038, 0.10060852001874564, 0.07452474234155915, 0.3032245500105847, 0.3028378764669766, 0.15248753878939855, 0.10440201997498776, 0.3552114887404255, 0.15438434980685317, 0.3997187423550024, 0.1200266434474417, 0.48474658255823583, 0.30236047864045834, 0.11020777925076111, 0.4074235927326833, 0.1913063412560536, 0.07856978037646037, 0.42788453324806636, 0.17804913862447908, 0.3314790734603629, 0.0657484697328657]}, {\"mode\": \"lines+markers\", \"name\": \"('idw10', '2', nan, 'zm')\", \"type\": \"scatter\", \"x\": [\"zm40\", \"zm5\", \"zm39\", \"zm3\", \"zm37\", \"zm6\", \"zm30\", \"zm17\", \"zm49\", \"zm12\", \"zm44\", \"zm54\", \"zm42\", \"zm23\", \"zm25\", \"zm4\", \"zm48\", \"zm41\", \"zm9\", \"zm8\", \"zm51\", \"zm53\", \"zm36\", \"zm33\", \"zm50\", \"zm7\", \"zm10\", \"zm57\", \"zm47\", \"zm35\", \"zm43\", \"zm1\", \"zm55\", \"zm14\", \"zm18\", \"zm56\", \"zm2\", \"zm32\", \"zm26\", \"zm16\", \"zm38\", \"zm24\", \"zm31\", \"zm59\", \"zm45\", \"zm29\", \"zm22\", \"zm28\", \"zm11\", \"zm34\", \"zm21\", \"zm27\", \"zm46\", \"zm52\", \"zm15\", \"zm13\", \"zm19\", \"zm20\", \"zm58\"], \"y\": [0.0777899910268719, 0.0856083020384366, 0.11748419047398455, 0.1524726601721737, 0.1250311489213463, 0.05906059398615405, 0.10829553400040243, 0.10928752931606583, 0.12922594322634623, 0.07564307108889874, 0.10355202597836317, 0.12647558776805004, 0.07198332009193674, 0.11736233833523195, 0.1230206017630537, 0.12678328066279665, 0.18166883567127962, 0.15771154031056533, 0.17469777590693247, 0.13901951367632934, 0.1768353878142539, 0.1898489562997149, 0.15988314472321521, 0.19401601374813698, 0.2612740230253792, 0.2195803318632471, 0.14133618698417727, 0.22269959506445813, 0.23762934788406415, 0.19706341748615094, 0.17537901249975998, 0.1484504233285403, 0.17892285729602422, 0.15603364116630344, 0.22006135792262596, 0.18771296134774557, 0.15673432101942295, 0.19026696818853536, 0.282484851032347, 0.22005011875755426, 0.16201235759204707, 0.13289118168419398, 0.16131577519829282, 0.18202864417965514, 0.1859007359256848, 0.30447698677556245, 0.2028363640035061, 0.14503646806152817, 0.15975364612724738, 0.21400960168264044, 0.1519636593753414, 0.3277210537279221, 0.28793527747012365, 0.1728748757137845, 0.17674666893716526, 0.224288820349468, 0.20360132672998793, 0.22232319423901659, 0.21026107822343076]}, {\"mode\": \"lines+markers\", \"name\": \"('idw10', '2', nan, 'mun')\", \"type\": \"scatter\", \"x\": [\"zm40\", \"zm5\", \"zm39\", \"zm3\", \"zm37\", \"zm6\", \"zm30\", \"zm17\", \"zm49\", \"zm12\", \"zm44\", \"zm54\", \"zm42\", \"zm23\", \"zm25\", \"zm4\", \"zm48\", \"zm41\", \"zm9\", \"zm8\", \"zm51\", \"zm53\", \"zm36\", \"zm33\", \"zm50\", \"zm7\", \"zm10\", \"zm57\", \"zm47\", \"zm35\", \"zm43\", \"zm1\", \"zm55\", \"zm14\", \"zm18\", \"zm56\", \"zm2\", \"zm32\", \"zm26\", \"zm16\", \"zm38\", \"zm24\", \"zm31\", \"zm59\", \"zm45\", \"zm29\", \"zm22\", \"zm28\", \"zm11\", \"zm34\", \"zm21\", \"zm27\", \"zm46\", \"zm52\", \"zm15\", \"zm13\", \"zm19\", \"zm20\", \"zm58\"], \"y\": [0.07843374192413238, 0.07838217871832129, 0.05469606544159676, 0.19018110266693142, 0.1132230762479812, 0.12277418234911093, 0.07442972570640055, 0.21518380167187567, 0.2493015145285814, 0.09994246002416009, 0.06380459468479746, 0.05789748767084969, 0.34888445117862726, 0.11847247385220286, 0.11664434373226469, 0.1858175624708746, 0.2233783064071837, 0.11063021178762175, 0.06052999983417594, 0.09415133571192066, 0.07137296585406297, 0.27073305709017104, 0.20949836069284378, 0.2385851144322533, 0.29568555656346635, 0.45967781526302715, 0.1830919068782797, 0.30305382865460495, 0.17014902523853997, 0.19843590969124464, 0.19181572938877825, 0.1598376583179413, 0.17676361488771894, 0.418398605819298, 0.26882911861534226, 0.11807281347541862, 0.309241725995978, 0.4581827972680101, 0.16750182432139382, 0.1347543667601265, 0.11274384651493308, 0.2996857157251413, 0.25699519883671246, 0.1284148772591943, 0.14287271196462867, 0.3602813975513853, 0.1769920059250273, 0.34427133025591367, 0.1484301175992589, 0.4933108899139182, 0.29083885606752374, 0.1807332025273956, 0.3976638258099726, 0.14717973550620528, 0.07940125431722156, 0.3950044208850478, 0.1946601743565509, 0.36263941228348623, 0.0]}],\n",
       "                        {\"height\": 300, \"margin\": {\"b\": 10, \"l\": 10, \"r\": 100, \"t\": 10}, \"template\": {\"data\": {\"bar\": [{\"error_x\": {\"color\": \"#2a3f5f\"}, \"error_y\": {\"color\": \"#2a3f5f\"}, \"marker\": {\"line\": {\"color\": \"#E5ECF6\", \"width\": 0.5}}, \"type\": \"bar\"}], \"barpolar\": [{\"marker\": {\"line\": {\"color\": \"#E5ECF6\", \"width\": 0.5}}, \"type\": \"barpolar\"}], \"carpet\": [{\"aaxis\": {\"endlinecolor\": \"#2a3f5f\", \"gridcolor\": \"white\", \"linecolor\": \"white\", \"minorgridcolor\": \"white\", \"startlinecolor\": \"#2a3f5f\"}, \"baxis\": {\"endlinecolor\": \"#2a3f5f\", \"gridcolor\": \"white\", \"linecolor\": \"white\", \"minorgridcolor\": \"white\", \"startlinecolor\": \"#2a3f5f\"}, \"type\": \"carpet\"}], \"choropleth\": [{\"colorbar\": {\"outlinewidth\": 0, \"ticks\": \"\"}, \"type\": \"choropleth\"}], \"contour\": [{\"colorbar\": {\"outlinewidth\": 0, \"ticks\": \"\"}, \"colorscale\": [[0.0, \"#0d0887\"], [0.1111111111111111, \"#46039f\"], [0.2222222222222222, \"#7201a8\"], [0.3333333333333333, \"#9c179e\"], [0.4444444444444444, \"#bd3786\"], [0.5555555555555556, \"#d8576b\"], [0.6666666666666666, \"#ed7953\"], [0.7777777777777778, \"#fb9f3a\"], [0.8888888888888888, \"#fdca26\"], [1.0, \"#f0f921\"]], \"type\": \"contour\"}], \"contourcarpet\": [{\"colorbar\": {\"outlinewidth\": 0, \"ticks\": \"\"}, \"type\": \"contourcarpet\"}], \"heatmap\": [{\"colorbar\": {\"outlinewidth\": 0, \"ticks\": \"\"}, \"colorscale\": [[0.0, \"#0d0887\"], [0.1111111111111111, \"#46039f\"], [0.2222222222222222, \"#7201a8\"], [0.3333333333333333, \"#9c179e\"], [0.4444444444444444, \"#bd3786\"], [0.5555555555555556, \"#d8576b\"], [0.6666666666666666, \"#ed7953\"], [0.7777777777777778, \"#fb9f3a\"], [0.8888888888888888, \"#fdca26\"], [1.0, \"#f0f921\"]], \"type\": \"heatmap\"}], \"heatmapgl\": [{\"colorbar\": {\"outlinewidth\": 0, \"ticks\": \"\"}, \"colorscale\": [[0.0, \"#0d0887\"], [0.1111111111111111, \"#46039f\"], [0.2222222222222222, \"#7201a8\"], [0.3333333333333333, \"#9c179e\"], [0.4444444444444444, \"#bd3786\"], [0.5555555555555556, \"#d8576b\"], [0.6666666666666666, \"#ed7953\"], [0.7777777777777778, \"#fb9f3a\"], [0.8888888888888888, \"#fdca26\"], [1.0, \"#f0f921\"]], \"type\": \"heatmapgl\"}], \"histogram\": [{\"marker\": {\"colorbar\": {\"outlinewidth\": 0, \"ticks\": \"\"}}, \"type\": \"histogram\"}], \"histogram2d\": [{\"colorbar\": {\"outlinewidth\": 0, \"ticks\": \"\"}, \"colorscale\": [[0.0, \"#0d0887\"], [0.1111111111111111, \"#46039f\"], [0.2222222222222222, \"#7201a8\"], [0.3333333333333333, \"#9c179e\"], [0.4444444444444444, \"#bd3786\"], [0.5555555555555556, \"#d8576b\"], [0.6666666666666666, \"#ed7953\"], [0.7777777777777778, \"#fb9f3a\"], [0.8888888888888888, \"#fdca26\"], [1.0, \"#f0f921\"]], \"type\": \"histogram2d\"}], \"histogram2dcontour\": [{\"colorbar\": {\"outlinewidth\": 0, \"ticks\": \"\"}, \"colorscale\": [[0.0, \"#0d0887\"], [0.1111111111111111, \"#46039f\"], [0.2222222222222222, \"#7201a8\"], [0.3333333333333333, \"#9c179e\"], [0.4444444444444444, \"#bd3786\"], [0.5555555555555556, \"#d8576b\"], [0.6666666666666666, \"#ed7953\"], [0.7777777777777778, \"#fb9f3a\"], [0.8888888888888888, \"#fdca26\"], [1.0, \"#f0f921\"]], \"type\": \"histogram2dcontour\"}], \"mesh3d\": [{\"colorbar\": {\"outlinewidth\": 0, \"ticks\": \"\"}, \"type\": \"mesh3d\"}], \"parcoords\": [{\"line\": {\"colorbar\": {\"outlinewidth\": 0, \"ticks\": \"\"}}, \"type\": \"parcoords\"}], \"scatter\": [{\"marker\": {\"colorbar\": {\"outlinewidth\": 0, \"ticks\": \"\"}}, \"type\": \"scatter\"}], \"scatter3d\": [{\"line\": {\"colorbar\": {\"outlinewidth\": 0, \"ticks\": \"\"}}, \"marker\": {\"colorbar\": {\"outlinewidth\": 0, \"ticks\": \"\"}}, \"type\": \"scatter3d\"}], \"scattercarpet\": [{\"marker\": {\"colorbar\": {\"outlinewidth\": 0, \"ticks\": \"\"}}, \"type\": \"scattercarpet\"}], \"scattergeo\": [{\"marker\": {\"colorbar\": {\"outlinewidth\": 0, \"ticks\": \"\"}}, \"type\": \"scattergeo\"}], \"scattergl\": [{\"marker\": {\"colorbar\": {\"outlinewidth\": 0, \"ticks\": \"\"}}, \"type\": \"scattergl\"}], \"scattermapbox\": [{\"marker\": {\"colorbar\": {\"outlinewidth\": 0, \"ticks\": \"\"}}, \"type\": \"scattermapbox\"}], \"scatterpolar\": [{\"marker\": {\"colorbar\": {\"outlinewidth\": 0, \"ticks\": \"\"}}, \"type\": \"scatterpolar\"}], \"scatterpolargl\": [{\"marker\": {\"colorbar\": {\"outlinewidth\": 0, \"ticks\": \"\"}}, \"type\": \"scatterpolargl\"}], \"scatterternary\": [{\"marker\": {\"colorbar\": {\"outlinewidth\": 0, \"ticks\": \"\"}}, \"type\": \"scatterternary\"}], \"surface\": [{\"colorbar\": {\"outlinewidth\": 0, \"ticks\": \"\"}, \"colorscale\": [[0.0, \"#0d0887\"], [0.1111111111111111, \"#46039f\"], [0.2222222222222222, \"#7201a8\"], [0.3333333333333333, \"#9c179e\"], [0.4444444444444444, \"#bd3786\"], [0.5555555555555556, \"#d8576b\"], [0.6666666666666666, \"#ed7953\"], [0.7777777777777778, \"#fb9f3a\"], [0.8888888888888888, \"#fdca26\"], [1.0, \"#f0f921\"]], \"type\": \"surface\"}], \"table\": [{\"cells\": {\"fill\": {\"color\": \"#EBF0F8\"}, \"line\": {\"color\": \"white\"}}, \"header\": {\"fill\": {\"color\": \"#C8D4E3\"}, \"line\": {\"color\": \"white\"}}, \"type\": \"table\"}]}, \"layout\": {\"annotationdefaults\": {\"arrowcolor\": \"#2a3f5f\", \"arrowhead\": 0, \"arrowwidth\": 1}, \"colorscale\": {\"diverging\": [[0, \"#8e0152\"], [0.1, \"#c51b7d\"], [0.2, \"#de77ae\"], [0.3, \"#f1b6da\"], [0.4, \"#fde0ef\"], [0.5, \"#f7f7f7\"], [0.6, \"#e6f5d0\"], [0.7, \"#b8e186\"], [0.8, \"#7fbc41\"], [0.9, \"#4d9221\"], [1, \"#276419\"]], \"sequential\": [[0.0, \"#0d0887\"], [0.1111111111111111, \"#46039f\"], [0.2222222222222222, \"#7201a8\"], [0.3333333333333333, \"#9c179e\"], [0.4444444444444444, \"#bd3786\"], [0.5555555555555556, \"#d8576b\"], [0.6666666666666666, \"#ed7953\"], [0.7777777777777778, \"#fb9f3a\"], [0.8888888888888888, \"#fdca26\"], [1.0, \"#f0f921\"]], \"sequentialminus\": [[0.0, \"#0d0887\"], [0.1111111111111111, \"#46039f\"], [0.2222222222222222, \"#7201a8\"], [0.3333333333333333, \"#9c179e\"], [0.4444444444444444, \"#bd3786\"], [0.5555555555555556, \"#d8576b\"], [0.6666666666666666, \"#ed7953\"], [0.7777777777777778, \"#fb9f3a\"], [0.8888888888888888, \"#fdca26\"], [1.0, \"#f0f921\"]]}, \"colorway\": [\"#636efa\", \"#EF553B\", \"#00cc96\", \"#ab63fa\", \"#FFA15A\", \"#19d3f3\", \"#FF6692\", \"#B6E880\", \"#FF97FF\", \"#FECB52\"], \"font\": {\"color\": \"#2a3f5f\"}, \"geo\": {\"bgcolor\": \"white\", \"lakecolor\": \"white\", \"landcolor\": \"#E5ECF6\", \"showlakes\": true, \"showland\": true, \"subunitcolor\": \"white\"}, \"hoverlabel\": {\"align\": \"left\"}, \"hovermode\": \"closest\", \"mapbox\": {\"style\": \"light\"}, \"paper_bgcolor\": \"white\", \"plot_bgcolor\": \"#E5ECF6\", \"polar\": {\"angularaxis\": {\"gridcolor\": \"white\", \"linecolor\": \"white\", \"ticks\": \"\"}, \"bgcolor\": \"#E5ECF6\", \"radialaxis\": {\"gridcolor\": \"white\", \"linecolor\": \"white\", \"ticks\": \"\"}}, \"scene\": {\"xaxis\": {\"backgroundcolor\": \"#E5ECF6\", \"gridcolor\": \"white\", \"gridwidth\": 2, \"linecolor\": \"white\", \"showbackground\": true, \"ticks\": \"\", \"zerolinecolor\": \"white\"}, \"yaxis\": {\"backgroundcolor\": \"#E5ECF6\", \"gridcolor\": \"white\", \"gridwidth\": 2, \"linecolor\": \"white\", \"showbackground\": true, \"ticks\": \"\", \"zerolinecolor\": \"white\"}, \"zaxis\": {\"backgroundcolor\": \"#E5ECF6\", \"gridcolor\": \"white\", \"gridwidth\": 2, \"linecolor\": \"white\", \"showbackground\": true, \"ticks\": \"\", \"zerolinecolor\": \"white\"}}, \"shapedefaults\": {\"line\": {\"color\": \"#2a3f5f\"}}, \"ternary\": {\"aaxis\": {\"gridcolor\": \"white\", \"linecolor\": \"white\", \"ticks\": \"\"}, \"baxis\": {\"gridcolor\": \"white\", \"linecolor\": \"white\", \"ticks\": \"\"}, \"bgcolor\": \"#E5ECF6\", \"caxis\": {\"gridcolor\": \"white\", \"linecolor\": \"white\", \"ticks\": \"\"}}, \"title\": {\"x\": 0.05}, \"xaxis\": {\"automargin\": true, \"gridcolor\": \"white\", \"linecolor\": \"white\", \"ticks\": \"\", \"zerolinecolor\": \"white\", \"zerolinewidth\": 2}, \"yaxis\": {\"automargin\": true, \"gridcolor\": \"white\", \"linecolor\": \"white\", \"ticks\": \"\", \"zerolinecolor\": \"white\", \"zerolinewidth\": 2}}}},\n",
       "                        {\"responsive\": true}\n",
       "                    ).then(function(){\n",
       "                            \n",
       "var gd = document.getElementById('dc1cf69c-a8ef-4cf2-a0b4-f6c564168fe5');\n",
       "var x = new MutationObserver(function (mutations, observer) {{\n",
       "        var display = window.getComputedStyle(gd).display;\n",
       "        if (!display || display === 'none') {{\n",
       "            console.log([gd, 'removed!']);\n",
       "            Plotly.purge(gd);\n",
       "            observer.disconnect();\n",
       "        }}\n",
       "}});\n",
       "\n",
       "// Listen for the removal of the full notebook cells\n",
       "var notebookContainer = gd.closest('#notebook-container');\n",
       "if (notebookContainer) {{\n",
       "    x.observe(notebookContainer, {childList: true});\n",
       "}}\n",
       "\n",
       "// Listen for the clearing of the current output cell\n",
       "var outputEl = gd.closest('.output');\n",
       "if (outputEl) {{\n",
       "    x.observe(outputEl, {childList: true});\n",
       "}}\n",
       "\n",
       "                        })\n",
       "                };\n",
       "                });\n",
       "            </script>\n",
       "        </div>"
      ]
     },
     "metadata": {},
     "output_type": "display_data"
    },
    {
     "data": {
      "application/vnd.plotly.v1+json": {
       "config": {
        "linkText": "Export to plot.ly",
        "plotlyServerURL": "https://plot.ly",
        "showLink": false
       },
       "data": [
        {
         "mode": "lines+markers",
         "name": "0",
         "type": "scatter",
         "x": [
          "zm40",
          "zm5",
          "zm39",
          "zm3",
          "zm37",
          "zm6",
          "zm30",
          "zm17",
          "zm49",
          "zm12",
          "zm44",
          "zm54",
          "zm42",
          "zm23",
          "zm25",
          "zm4",
          "zm48",
          "zm41",
          "zm9",
          "zm8",
          "zm51",
          "zm53",
          "zm36",
          "zm33",
          "zm50",
          "zm7",
          "zm10",
          "zm57",
          "zm47",
          "zm35",
          "zm43",
          "zm1",
          "zm55",
          "zm14",
          "zm18",
          "zm56",
          "zm2",
          "zm32",
          "zm26",
          "zm16",
          "zm38",
          "zm24",
          "zm31",
          "zm59",
          "zm45",
          "zm29",
          "zm22",
          "zm28",
          "zm11",
          "zm34",
          "zm21",
          "zm27",
          "zm46",
          "zm52",
          "zm15",
          "zm13",
          "zm19",
          "zm20",
          "zm58"
         ],
         "y": [
          0.020623082637538204,
          0.02474028240251659,
          0.022207454189760785,
          0.09363078300554542,
          0.03425742298137672,
          0.02612458810683087,
          0.01895838191953953,
          0.08404912634370212,
          0.08917987431697948,
          0.02673857254216031,
          0.01807103995235388,
          0.03452461627617375,
          0.13038426690147,
          0.08359858865005668,
          0.03798576929702752,
          0.03459876646330645,
          0.16306050376777503,
          0.0364954183958691,
          0.0518957560089596,
          0.04200211866880434,
          0.04471589004118185,
          0.08500131907819575,
          0.05033119212035606,
          0.12306574891617908,
          0.11291301288402238,
          0.15733513516287165,
          0.08129651787097149,
          0.15124548609612012,
          0.08167609739287676,
          0.07029405890149273,
          0.05340337529393863,
          0.03991148854446639,
          0.059542764869523604,
          0.12280133326631573,
          0.08889250449983441,
          0.03484224397165569,
          0.09808180550449368,
          0.17017630350625984,
          0.05179806398846434,
          0.061997636186359874,
          0.020047092350898875,
          0.11233295029477926,
          0.07315217754474075,
          0.03741196949071698,
          0.028433667514781873,
          0.05292354947504681,
          0.04382504021047829,
          0.10616353395039128,
          0.010542888729055901,
          0.1644290234122376,
          0.06570100409725672,
          0.12142084229607238,
          0.12438947931411874,
          0.05402863731354547,
          0.06617304857930775,
          0.1152346002318332,
          0.06462241657165374,
          0.07140768970453745,
          0.1378458812594274
         ]
        }
       ],
       "layout": {
        "height": 300,
        "margin": {
         "b": 10,
         "l": 10,
         "r": 175,
         "t": 10
        },
        "template": {
         "data": {
          "bar": [
           {
            "error_x": {
             "color": "#2a3f5f"
            },
            "error_y": {
             "color": "#2a3f5f"
            },
            "marker": {
             "line": {
              "color": "#E5ECF6",
              "width": 0.5
             }
            },
            "type": "bar"
           }
          ],
          "barpolar": [
           {
            "marker": {
             "line": {
              "color": "#E5ECF6",
              "width": 0.5
             }
            },
            "type": "barpolar"
           }
          ],
          "carpet": [
           {
            "aaxis": {
             "endlinecolor": "#2a3f5f",
             "gridcolor": "white",
             "linecolor": "white",
             "minorgridcolor": "white",
             "startlinecolor": "#2a3f5f"
            },
            "baxis": {
             "endlinecolor": "#2a3f5f",
             "gridcolor": "white",
             "linecolor": "white",
             "minorgridcolor": "white",
             "startlinecolor": "#2a3f5f"
            },
            "type": "carpet"
           }
          ],
          "choropleth": [
           {
            "colorbar": {
             "outlinewidth": 0,
             "ticks": ""
            },
            "type": "choropleth"
           }
          ],
          "contour": [
           {
            "colorbar": {
             "outlinewidth": 0,
             "ticks": ""
            },
            "colorscale": [
             [
              0,
              "#0d0887"
             ],
             [
              0.1111111111111111,
              "#46039f"
             ],
             [
              0.2222222222222222,
              "#7201a8"
             ],
             [
              0.3333333333333333,
              "#9c179e"
             ],
             [
              0.4444444444444444,
              "#bd3786"
             ],
             [
              0.5555555555555556,
              "#d8576b"
             ],
             [
              0.6666666666666666,
              "#ed7953"
             ],
             [
              0.7777777777777778,
              "#fb9f3a"
             ],
             [
              0.8888888888888888,
              "#fdca26"
             ],
             [
              1,
              "#f0f921"
             ]
            ],
            "type": "contour"
           }
          ],
          "contourcarpet": [
           {
            "colorbar": {
             "outlinewidth": 0,
             "ticks": ""
            },
            "type": "contourcarpet"
           }
          ],
          "heatmap": [
           {
            "colorbar": {
             "outlinewidth": 0,
             "ticks": ""
            },
            "colorscale": [
             [
              0,
              "#0d0887"
             ],
             [
              0.1111111111111111,
              "#46039f"
             ],
             [
              0.2222222222222222,
              "#7201a8"
             ],
             [
              0.3333333333333333,
              "#9c179e"
             ],
             [
              0.4444444444444444,
              "#bd3786"
             ],
             [
              0.5555555555555556,
              "#d8576b"
             ],
             [
              0.6666666666666666,
              "#ed7953"
             ],
             [
              0.7777777777777778,
              "#fb9f3a"
             ],
             [
              0.8888888888888888,
              "#fdca26"
             ],
             [
              1,
              "#f0f921"
             ]
            ],
            "type": "heatmap"
           }
          ],
          "heatmapgl": [
           {
            "colorbar": {
             "outlinewidth": 0,
             "ticks": ""
            },
            "colorscale": [
             [
              0,
              "#0d0887"
             ],
             [
              0.1111111111111111,
              "#46039f"
             ],
             [
              0.2222222222222222,
              "#7201a8"
             ],
             [
              0.3333333333333333,
              "#9c179e"
             ],
             [
              0.4444444444444444,
              "#bd3786"
             ],
             [
              0.5555555555555556,
              "#d8576b"
             ],
             [
              0.6666666666666666,
              "#ed7953"
             ],
             [
              0.7777777777777778,
              "#fb9f3a"
             ],
             [
              0.8888888888888888,
              "#fdca26"
             ],
             [
              1,
              "#f0f921"
             ]
            ],
            "type": "heatmapgl"
           }
          ],
          "histogram": [
           {
            "marker": {
             "colorbar": {
              "outlinewidth": 0,
              "ticks": ""
             }
            },
            "type": "histogram"
           }
          ],
          "histogram2d": [
           {
            "colorbar": {
             "outlinewidth": 0,
             "ticks": ""
            },
            "colorscale": [
             [
              0,
              "#0d0887"
             ],
             [
              0.1111111111111111,
              "#46039f"
             ],
             [
              0.2222222222222222,
              "#7201a8"
             ],
             [
              0.3333333333333333,
              "#9c179e"
             ],
             [
              0.4444444444444444,
              "#bd3786"
             ],
             [
              0.5555555555555556,
              "#d8576b"
             ],
             [
              0.6666666666666666,
              "#ed7953"
             ],
             [
              0.7777777777777778,
              "#fb9f3a"
             ],
             [
              0.8888888888888888,
              "#fdca26"
             ],
             [
              1,
              "#f0f921"
             ]
            ],
            "type": "histogram2d"
           }
          ],
          "histogram2dcontour": [
           {
            "colorbar": {
             "outlinewidth": 0,
             "ticks": ""
            },
            "colorscale": [
             [
              0,
              "#0d0887"
             ],
             [
              0.1111111111111111,
              "#46039f"
             ],
             [
              0.2222222222222222,
              "#7201a8"
             ],
             [
              0.3333333333333333,
              "#9c179e"
             ],
             [
              0.4444444444444444,
              "#bd3786"
             ],
             [
              0.5555555555555556,
              "#d8576b"
             ],
             [
              0.6666666666666666,
              "#ed7953"
             ],
             [
              0.7777777777777778,
              "#fb9f3a"
             ],
             [
              0.8888888888888888,
              "#fdca26"
             ],
             [
              1,
              "#f0f921"
             ]
            ],
            "type": "histogram2dcontour"
           }
          ],
          "mesh3d": [
           {
            "colorbar": {
             "outlinewidth": 0,
             "ticks": ""
            },
            "type": "mesh3d"
           }
          ],
          "parcoords": [
           {
            "line": {
             "colorbar": {
              "outlinewidth": 0,
              "ticks": ""
             }
            },
            "type": "parcoords"
           }
          ],
          "scatter": [
           {
            "marker": {
             "colorbar": {
              "outlinewidth": 0,
              "ticks": ""
             }
            },
            "type": "scatter"
           }
          ],
          "scatter3d": [
           {
            "line": {
             "colorbar": {
              "outlinewidth": 0,
              "ticks": ""
             }
            },
            "marker": {
             "colorbar": {
              "outlinewidth": 0,
              "ticks": ""
             }
            },
            "type": "scatter3d"
           }
          ],
          "scattercarpet": [
           {
            "marker": {
             "colorbar": {
              "outlinewidth": 0,
              "ticks": ""
             }
            },
            "type": "scattercarpet"
           }
          ],
          "scattergeo": [
           {
            "marker": {
             "colorbar": {
              "outlinewidth": 0,
              "ticks": ""
             }
            },
            "type": "scattergeo"
           }
          ],
          "scattergl": [
           {
            "marker": {
             "colorbar": {
              "outlinewidth": 0,
              "ticks": ""
             }
            },
            "type": "scattergl"
           }
          ],
          "scattermapbox": [
           {
            "marker": {
             "colorbar": {
              "outlinewidth": 0,
              "ticks": ""
             }
            },
            "type": "scattermapbox"
           }
          ],
          "scatterpolar": [
           {
            "marker": {
             "colorbar": {
              "outlinewidth": 0,
              "ticks": ""
             }
            },
            "type": "scatterpolar"
           }
          ],
          "scatterpolargl": [
           {
            "marker": {
             "colorbar": {
              "outlinewidth": 0,
              "ticks": ""
             }
            },
            "type": "scatterpolargl"
           }
          ],
          "scatterternary": [
           {
            "marker": {
             "colorbar": {
              "outlinewidth": 0,
              "ticks": ""
             }
            },
            "type": "scatterternary"
           }
          ],
          "surface": [
           {
            "colorbar": {
             "outlinewidth": 0,
             "ticks": ""
            },
            "colorscale": [
             [
              0,
              "#0d0887"
             ],
             [
              0.1111111111111111,
              "#46039f"
             ],
             [
              0.2222222222222222,
              "#7201a8"
             ],
             [
              0.3333333333333333,
              "#9c179e"
             ],
             [
              0.4444444444444444,
              "#bd3786"
             ],
             [
              0.5555555555555556,
              "#d8576b"
             ],
             [
              0.6666666666666666,
              "#ed7953"
             ],
             [
              0.7777777777777778,
              "#fb9f3a"
             ],
             [
              0.8888888888888888,
              "#fdca26"
             ],
             [
              1,
              "#f0f921"
             ]
            ],
            "type": "surface"
           }
          ],
          "table": [
           {
            "cells": {
             "fill": {
              "color": "#EBF0F8"
             },
             "line": {
              "color": "white"
             }
            },
            "header": {
             "fill": {
              "color": "#C8D4E3"
             },
             "line": {
              "color": "white"
             }
            },
            "type": "table"
           }
          ]
         },
         "layout": {
          "annotationdefaults": {
           "arrowcolor": "#2a3f5f",
           "arrowhead": 0,
           "arrowwidth": 1
          },
          "colorscale": {
           "diverging": [
            [
             0,
             "#8e0152"
            ],
            [
             0.1,
             "#c51b7d"
            ],
            [
             0.2,
             "#de77ae"
            ],
            [
             0.3,
             "#f1b6da"
            ],
            [
             0.4,
             "#fde0ef"
            ],
            [
             0.5,
             "#f7f7f7"
            ],
            [
             0.6,
             "#e6f5d0"
            ],
            [
             0.7,
             "#b8e186"
            ],
            [
             0.8,
             "#7fbc41"
            ],
            [
             0.9,
             "#4d9221"
            ],
            [
             1,
             "#276419"
            ]
           ],
           "sequential": [
            [
             0,
             "#0d0887"
            ],
            [
             0.1111111111111111,
             "#46039f"
            ],
            [
             0.2222222222222222,
             "#7201a8"
            ],
            [
             0.3333333333333333,
             "#9c179e"
            ],
            [
             0.4444444444444444,
             "#bd3786"
            ],
            [
             0.5555555555555556,
             "#d8576b"
            ],
            [
             0.6666666666666666,
             "#ed7953"
            ],
            [
             0.7777777777777778,
             "#fb9f3a"
            ],
            [
             0.8888888888888888,
             "#fdca26"
            ],
            [
             1,
             "#f0f921"
            ]
           ],
           "sequentialminus": [
            [
             0,
             "#0d0887"
            ],
            [
             0.1111111111111111,
             "#46039f"
            ],
            [
             0.2222222222222222,
             "#7201a8"
            ],
            [
             0.3333333333333333,
             "#9c179e"
            ],
            [
             0.4444444444444444,
             "#bd3786"
            ],
            [
             0.5555555555555556,
             "#d8576b"
            ],
            [
             0.6666666666666666,
             "#ed7953"
            ],
            [
             0.7777777777777778,
             "#fb9f3a"
            ],
            [
             0.8888888888888888,
             "#fdca26"
            ],
            [
             1,
             "#f0f921"
            ]
           ]
          },
          "colorway": [
           "#636efa",
           "#EF553B",
           "#00cc96",
           "#ab63fa",
           "#FFA15A",
           "#19d3f3",
           "#FF6692",
           "#B6E880",
           "#FF97FF",
           "#FECB52"
          ],
          "font": {
           "color": "#2a3f5f"
          },
          "geo": {
           "bgcolor": "white",
           "lakecolor": "white",
           "landcolor": "#E5ECF6",
           "showlakes": true,
           "showland": true,
           "subunitcolor": "white"
          },
          "hoverlabel": {
           "align": "left"
          },
          "hovermode": "closest",
          "mapbox": {
           "style": "light"
          },
          "paper_bgcolor": "white",
          "plot_bgcolor": "#E5ECF6",
          "polar": {
           "angularaxis": {
            "gridcolor": "white",
            "linecolor": "white",
            "ticks": ""
           },
           "bgcolor": "#E5ECF6",
           "radialaxis": {
            "gridcolor": "white",
            "linecolor": "white",
            "ticks": ""
           }
          },
          "scene": {
           "xaxis": {
            "backgroundcolor": "#E5ECF6",
            "gridcolor": "white",
            "gridwidth": 2,
            "linecolor": "white",
            "showbackground": true,
            "ticks": "",
            "zerolinecolor": "white"
           },
           "yaxis": {
            "backgroundcolor": "#E5ECF6",
            "gridcolor": "white",
            "gridwidth": 2,
            "linecolor": "white",
            "showbackground": true,
            "ticks": "",
            "zerolinecolor": "white"
           },
           "zaxis": {
            "backgroundcolor": "#E5ECF6",
            "gridcolor": "white",
            "gridwidth": 2,
            "linecolor": "white",
            "showbackground": true,
            "ticks": "",
            "zerolinecolor": "white"
           }
          },
          "shapedefaults": {
           "line": {
            "color": "#2a3f5f"
           }
          },
          "ternary": {
           "aaxis": {
            "gridcolor": "white",
            "linecolor": "white",
            "ticks": ""
           },
           "baxis": {
            "gridcolor": "white",
            "linecolor": "white",
            "ticks": ""
           },
           "bgcolor": "#E5ECF6",
           "caxis": {
            "gridcolor": "white",
            "linecolor": "white",
            "ticks": ""
           }
          },
          "title": {
           "x": 0.05
          },
          "xaxis": {
           "automargin": true,
           "gridcolor": "white",
           "linecolor": "white",
           "ticks": "",
           "zerolinecolor": "white",
           "zerolinewidth": 2
          },
          "yaxis": {
           "automargin": true,
           "gridcolor": "white",
           "linecolor": "white",
           "ticks": "",
           "zerolinecolor": "white",
           "zerolinewidth": 2
          }
         }
        }
       }
      },
      "text/html": [
       "<div>\n",
       "        \n",
       "        \n",
       "            <div id=\"8e84e68d-4d4d-47ae-9b51-b4faae4b4789\" class=\"plotly-graph-div\" style=\"height:300px; width:100%;\"></div>\n",
       "            <script type=\"text/javascript\">\n",
       "                require([\"plotly\"], function(Plotly) {\n",
       "                    window.PLOTLYENV=window.PLOTLYENV || {};\n",
       "                    \n",
       "                if (document.getElementById(\"8e84e68d-4d4d-47ae-9b51-b4faae4b4789\")) {\n",
       "                    Plotly.newPlot(\n",
       "                        '8e84e68d-4d4d-47ae-9b51-b4faae4b4789',\n",
       "                        [{\"mode\": \"lines+markers\", \"name\": \"0\", \"type\": \"scatter\", \"x\": [\"zm40\", \"zm5\", \"zm39\", \"zm3\", \"zm37\", \"zm6\", \"zm30\", \"zm17\", \"zm49\", \"zm12\", \"zm44\", \"zm54\", \"zm42\", \"zm23\", \"zm25\", \"zm4\", \"zm48\", \"zm41\", \"zm9\", \"zm8\", \"zm51\", \"zm53\", \"zm36\", \"zm33\", \"zm50\", \"zm7\", \"zm10\", \"zm57\", \"zm47\", \"zm35\", \"zm43\", \"zm1\", \"zm55\", \"zm14\", \"zm18\", \"zm56\", \"zm2\", \"zm32\", \"zm26\", \"zm16\", \"zm38\", \"zm24\", \"zm31\", \"zm59\", \"zm45\", \"zm29\", \"zm22\", \"zm28\", \"zm11\", \"zm34\", \"zm21\", \"zm27\", \"zm46\", \"zm52\", \"zm15\", \"zm13\", \"zm19\", \"zm20\", \"zm58\"], \"y\": [0.020623082637538204, 0.02474028240251659, 0.022207454189760785, 0.09363078300554542, 0.03425742298137672, 0.02612458810683087, 0.01895838191953953, 0.08404912634370212, 0.08917987431697948, 0.02673857254216031, 0.01807103995235388, 0.03452461627617375, 0.13038426690147, 0.08359858865005668, 0.03798576929702752, 0.03459876646330645, 0.16306050376777503, 0.0364954183958691, 0.0518957560089596, 0.04200211866880434, 0.04471589004118185, 0.08500131907819575, 0.05033119212035606, 0.12306574891617908, 0.11291301288402238, 0.15733513516287165, 0.08129651787097149, 0.15124548609612012, 0.08167609739287676, 0.07029405890149273, 0.05340337529393863, 0.03991148854446639, 0.059542764869523604, 0.12280133326631573, 0.08889250449983441, 0.03484224397165569, 0.09808180550449368, 0.17017630350625984, 0.05179806398846434, 0.061997636186359874, 0.020047092350898875, 0.11233295029477926, 0.07315217754474075, 0.03741196949071698, 0.028433667514781873, 0.05292354947504681, 0.04382504021047829, 0.10616353395039128, 0.010542888729055901, 0.1644290234122376, 0.06570100409725672, 0.12142084229607238, 0.12438947931411874, 0.05402863731354547, 0.06617304857930775, 0.1152346002318332, 0.06462241657165374, 0.07140768970453745, 0.1378458812594274]}],\n",
       "                        {\"height\": 300, \"margin\": {\"b\": 10, \"l\": 10, \"r\": 175, \"t\": 10}, \"template\": {\"data\": {\"bar\": [{\"error_x\": {\"color\": \"#2a3f5f\"}, \"error_y\": {\"color\": \"#2a3f5f\"}, \"marker\": {\"line\": {\"color\": \"#E5ECF6\", \"width\": 0.5}}, \"type\": \"bar\"}], \"barpolar\": [{\"marker\": {\"line\": {\"color\": \"#E5ECF6\", \"width\": 0.5}}, \"type\": \"barpolar\"}], \"carpet\": [{\"aaxis\": {\"endlinecolor\": \"#2a3f5f\", \"gridcolor\": \"white\", \"linecolor\": \"white\", \"minorgridcolor\": \"white\", \"startlinecolor\": \"#2a3f5f\"}, \"baxis\": {\"endlinecolor\": \"#2a3f5f\", \"gridcolor\": \"white\", \"linecolor\": \"white\", \"minorgridcolor\": \"white\", \"startlinecolor\": \"#2a3f5f\"}, \"type\": \"carpet\"}], \"choropleth\": [{\"colorbar\": {\"outlinewidth\": 0, \"ticks\": \"\"}, \"type\": \"choropleth\"}], \"contour\": [{\"colorbar\": {\"outlinewidth\": 0, \"ticks\": \"\"}, \"colorscale\": [[0.0, \"#0d0887\"], [0.1111111111111111, \"#46039f\"], [0.2222222222222222, \"#7201a8\"], [0.3333333333333333, \"#9c179e\"], [0.4444444444444444, \"#bd3786\"], [0.5555555555555556, \"#d8576b\"], [0.6666666666666666, \"#ed7953\"], [0.7777777777777778, \"#fb9f3a\"], [0.8888888888888888, \"#fdca26\"], [1.0, \"#f0f921\"]], \"type\": \"contour\"}], \"contourcarpet\": [{\"colorbar\": {\"outlinewidth\": 0, \"ticks\": \"\"}, \"type\": \"contourcarpet\"}], \"heatmap\": [{\"colorbar\": {\"outlinewidth\": 0, \"ticks\": \"\"}, \"colorscale\": [[0.0, \"#0d0887\"], [0.1111111111111111, \"#46039f\"], [0.2222222222222222, \"#7201a8\"], [0.3333333333333333, \"#9c179e\"], [0.4444444444444444, \"#bd3786\"], [0.5555555555555556, \"#d8576b\"], [0.6666666666666666, \"#ed7953\"], [0.7777777777777778, \"#fb9f3a\"], [0.8888888888888888, \"#fdca26\"], [1.0, \"#f0f921\"]], \"type\": \"heatmap\"}], \"heatmapgl\": [{\"colorbar\": {\"outlinewidth\": 0, \"ticks\": \"\"}, \"colorscale\": [[0.0, \"#0d0887\"], [0.1111111111111111, \"#46039f\"], [0.2222222222222222, \"#7201a8\"], [0.3333333333333333, \"#9c179e\"], [0.4444444444444444, \"#bd3786\"], [0.5555555555555556, \"#d8576b\"], [0.6666666666666666, \"#ed7953\"], [0.7777777777777778, \"#fb9f3a\"], [0.8888888888888888, \"#fdca26\"], [1.0, \"#f0f921\"]], \"type\": \"heatmapgl\"}], \"histogram\": [{\"marker\": {\"colorbar\": {\"outlinewidth\": 0, \"ticks\": \"\"}}, \"type\": \"histogram\"}], \"histogram2d\": [{\"colorbar\": {\"outlinewidth\": 0, \"ticks\": \"\"}, \"colorscale\": [[0.0, \"#0d0887\"], [0.1111111111111111, \"#46039f\"], [0.2222222222222222, \"#7201a8\"], [0.3333333333333333, \"#9c179e\"], [0.4444444444444444, \"#bd3786\"], [0.5555555555555556, \"#d8576b\"], [0.6666666666666666, \"#ed7953\"], [0.7777777777777778, \"#fb9f3a\"], [0.8888888888888888, \"#fdca26\"], [1.0, \"#f0f921\"]], \"type\": \"histogram2d\"}], \"histogram2dcontour\": [{\"colorbar\": {\"outlinewidth\": 0, \"ticks\": \"\"}, \"colorscale\": [[0.0, \"#0d0887\"], [0.1111111111111111, \"#46039f\"], [0.2222222222222222, \"#7201a8\"], [0.3333333333333333, \"#9c179e\"], [0.4444444444444444, \"#bd3786\"], [0.5555555555555556, \"#d8576b\"], [0.6666666666666666, \"#ed7953\"], [0.7777777777777778, \"#fb9f3a\"], [0.8888888888888888, \"#fdca26\"], [1.0, \"#f0f921\"]], \"type\": \"histogram2dcontour\"}], \"mesh3d\": [{\"colorbar\": {\"outlinewidth\": 0, \"ticks\": \"\"}, \"type\": \"mesh3d\"}], \"parcoords\": [{\"line\": {\"colorbar\": {\"outlinewidth\": 0, \"ticks\": \"\"}}, \"type\": \"parcoords\"}], \"scatter\": [{\"marker\": {\"colorbar\": {\"outlinewidth\": 0, \"ticks\": \"\"}}, \"type\": \"scatter\"}], \"scatter3d\": [{\"line\": {\"colorbar\": {\"outlinewidth\": 0, \"ticks\": \"\"}}, \"marker\": {\"colorbar\": {\"outlinewidth\": 0, \"ticks\": \"\"}}, \"type\": \"scatter3d\"}], \"scattercarpet\": [{\"marker\": {\"colorbar\": {\"outlinewidth\": 0, \"ticks\": \"\"}}, \"type\": \"scattercarpet\"}], \"scattergeo\": [{\"marker\": {\"colorbar\": {\"outlinewidth\": 0, \"ticks\": \"\"}}, \"type\": \"scattergeo\"}], \"scattergl\": [{\"marker\": {\"colorbar\": {\"outlinewidth\": 0, \"ticks\": \"\"}}, \"type\": \"scattergl\"}], \"scattermapbox\": [{\"marker\": {\"colorbar\": {\"outlinewidth\": 0, \"ticks\": \"\"}}, \"type\": \"scattermapbox\"}], \"scatterpolar\": [{\"marker\": {\"colorbar\": {\"outlinewidth\": 0, \"ticks\": \"\"}}, \"type\": \"scatterpolar\"}], \"scatterpolargl\": [{\"marker\": {\"colorbar\": {\"outlinewidth\": 0, \"ticks\": \"\"}}, \"type\": \"scatterpolargl\"}], \"scatterternary\": [{\"marker\": {\"colorbar\": {\"outlinewidth\": 0, \"ticks\": \"\"}}, \"type\": \"scatterternary\"}], \"surface\": [{\"colorbar\": {\"outlinewidth\": 0, \"ticks\": \"\"}, \"colorscale\": [[0.0, \"#0d0887\"], [0.1111111111111111, \"#46039f\"], [0.2222222222222222, \"#7201a8\"], [0.3333333333333333, \"#9c179e\"], [0.4444444444444444, \"#bd3786\"], [0.5555555555555556, \"#d8576b\"], [0.6666666666666666, \"#ed7953\"], [0.7777777777777778, \"#fb9f3a\"], [0.8888888888888888, \"#fdca26\"], [1.0, \"#f0f921\"]], \"type\": \"surface\"}], \"table\": [{\"cells\": {\"fill\": {\"color\": \"#EBF0F8\"}, \"line\": {\"color\": \"white\"}}, \"header\": {\"fill\": {\"color\": \"#C8D4E3\"}, \"line\": {\"color\": \"white\"}}, \"type\": \"table\"}]}, \"layout\": {\"annotationdefaults\": {\"arrowcolor\": \"#2a3f5f\", \"arrowhead\": 0, \"arrowwidth\": 1}, \"colorscale\": {\"diverging\": [[0, \"#8e0152\"], [0.1, \"#c51b7d\"], [0.2, \"#de77ae\"], [0.3, \"#f1b6da\"], [0.4, \"#fde0ef\"], [0.5, \"#f7f7f7\"], [0.6, \"#e6f5d0\"], [0.7, \"#b8e186\"], [0.8, \"#7fbc41\"], [0.9, \"#4d9221\"], [1, \"#276419\"]], \"sequential\": [[0.0, \"#0d0887\"], [0.1111111111111111, \"#46039f\"], [0.2222222222222222, \"#7201a8\"], [0.3333333333333333, \"#9c179e\"], [0.4444444444444444, \"#bd3786\"], [0.5555555555555556, \"#d8576b\"], [0.6666666666666666, \"#ed7953\"], [0.7777777777777778, \"#fb9f3a\"], [0.8888888888888888, \"#fdca26\"], [1.0, \"#f0f921\"]], \"sequentialminus\": [[0.0, \"#0d0887\"], [0.1111111111111111, \"#46039f\"], [0.2222222222222222, \"#7201a8\"], [0.3333333333333333, \"#9c179e\"], [0.4444444444444444, \"#bd3786\"], [0.5555555555555556, \"#d8576b\"], [0.6666666666666666, \"#ed7953\"], [0.7777777777777778, \"#fb9f3a\"], [0.8888888888888888, \"#fdca26\"], [1.0, \"#f0f921\"]]}, \"colorway\": [\"#636efa\", \"#EF553B\", \"#00cc96\", \"#ab63fa\", \"#FFA15A\", \"#19d3f3\", \"#FF6692\", \"#B6E880\", \"#FF97FF\", \"#FECB52\"], \"font\": {\"color\": \"#2a3f5f\"}, \"geo\": {\"bgcolor\": \"white\", \"lakecolor\": \"white\", \"landcolor\": \"#E5ECF6\", \"showlakes\": true, \"showland\": true, \"subunitcolor\": \"white\"}, \"hoverlabel\": {\"align\": \"left\"}, \"hovermode\": \"closest\", \"mapbox\": {\"style\": \"light\"}, \"paper_bgcolor\": \"white\", \"plot_bgcolor\": \"#E5ECF6\", \"polar\": {\"angularaxis\": {\"gridcolor\": \"white\", \"linecolor\": \"white\", \"ticks\": \"\"}, \"bgcolor\": \"#E5ECF6\", \"radialaxis\": {\"gridcolor\": \"white\", \"linecolor\": \"white\", \"ticks\": \"\"}}, \"scene\": {\"xaxis\": {\"backgroundcolor\": \"#E5ECF6\", \"gridcolor\": \"white\", \"gridwidth\": 2, \"linecolor\": \"white\", \"showbackground\": true, \"ticks\": \"\", \"zerolinecolor\": \"white\"}, \"yaxis\": {\"backgroundcolor\": \"#E5ECF6\", \"gridcolor\": \"white\", \"gridwidth\": 2, \"linecolor\": \"white\", \"showbackground\": true, \"ticks\": \"\", \"zerolinecolor\": \"white\"}, \"zaxis\": {\"backgroundcolor\": \"#E5ECF6\", \"gridcolor\": \"white\", \"gridwidth\": 2, \"linecolor\": \"white\", \"showbackground\": true, \"ticks\": \"\", \"zerolinecolor\": \"white\"}}, \"shapedefaults\": {\"line\": {\"color\": \"#2a3f5f\"}}, \"ternary\": {\"aaxis\": {\"gridcolor\": \"white\", \"linecolor\": \"white\", \"ticks\": \"\"}, \"baxis\": {\"gridcolor\": \"white\", \"linecolor\": \"white\", \"ticks\": \"\"}, \"bgcolor\": \"#E5ECF6\", \"caxis\": {\"gridcolor\": \"white\", \"linecolor\": \"white\", \"ticks\": \"\"}}, \"title\": {\"x\": 0.05}, \"xaxis\": {\"automargin\": true, \"gridcolor\": \"white\", \"linecolor\": \"white\", \"ticks\": \"\", \"zerolinecolor\": \"white\", \"zerolinewidth\": 2}, \"yaxis\": {\"automargin\": true, \"gridcolor\": \"white\", \"linecolor\": \"white\", \"ticks\": \"\", \"zerolinecolor\": \"white\", \"zerolinewidth\": 2}}}},\n",
       "                        {\"responsive\": true}\n",
       "                    ).then(function(){\n",
       "                            \n",
       "var gd = document.getElementById('8e84e68d-4d4d-47ae-9b51-b4faae4b4789');\n",
       "var x = new MutationObserver(function (mutations, observer) {{\n",
       "        var display = window.getComputedStyle(gd).display;\n",
       "        if (!display || display === 'none') {{\n",
       "            console.log([gd, 'removed!']);\n",
       "            Plotly.purge(gd);\n",
       "            observer.disconnect();\n",
       "        }}\n",
       "}});\n",
       "\n",
       "// Listen for the removal of the full notebook cells\n",
       "var notebookContainer = gd.closest('#notebook-container');\n",
       "if (notebookContainer) {{\n",
       "    x.observe(notebookContainer, {childList: true});\n",
       "}}\n",
       "\n",
       "// Listen for the clearing of the current output cell\n",
       "var outputEl = gd.closest('.output');\n",
       "if (outputEl) {{\n",
       "    x.observe(outputEl, {childList: true});\n",
       "}}\n",
       "\n",
       "                        })\n",
       "                };\n",
       "                });\n",
       "            </script>\n",
       "        </div>"
      ]
     },
     "metadata": {},
     "output_type": "display_data"
    }
   ],
   "source": [
    "comp_coef = pd.DataFrame({\n",
    "**a, **g, ** idw\n",
    "})\n",
    "\n",
    "sort_col = ud_helper.zms_sort_cols[3]\n",
    "comp_coef = comp_coef.loc[zms.sort_values(sort_col).index]\n",
    "sort_col = comp_coef.columns[0]\n",
    "comp_coef=comp_coef.sort_values(sort_col)\n",
    "print(sort_col)\n",
    "\n",
    "draw_scatter(comp_coef, height=300)\n",
    "draw_scatter(comp_coef.std(axis=1).to_frame(), height=300, margin_r=175)"
   ]
  },
  {
   "cell_type": "code",
   "execution_count": 162,
   "metadata": {
    "ExecuteTime": {
     "end_time": "2019-10-30T16:21:55.425808Z",
     "start_time": "2019-10-30T16:21:54.958360Z"
    }
   },
   "outputs": [
    {
     "name": "stdout",
     "output_type": "stream",
     "text": [
      "('ageb', nan, 'area', 'zm')\n"
     ]
    },
    {
     "data": {
      "application/vnd.plotly.v1+json": {
       "config": {
        "linkText": "Export to plot.ly",
        "plotlyServerURL": "https://plot.ly",
        "showLink": false
       },
       "data": [
        {
         "mode": "lines+markers",
         "name": "('ageb', nan, 'area', 'zm')",
         "type": "scatter",
         "x": [
          "zm33",
          "zm20",
          "zm39",
          "zm59",
          "zm54",
          "zm58",
          "zm19",
          "zm16",
          "zm48",
          "zm35",
          "zm23",
          "zm40",
          "zm41",
          "zm53",
          "zm17",
          "zm26",
          "zm50",
          "zm49",
          "zm42",
          "zm30",
          "zm52",
          "zm37",
          "zm22",
          "zm7",
          "zm6",
          "zm56",
          "zm12",
          "zm32",
          "zm46",
          "zm9",
          "zm36",
          "zm15",
          "zm18",
          "zm51",
          "zm43",
          "zm55",
          "zm10",
          "zm8",
          "zm29",
          "zm57",
          "zm24",
          "zm4",
          "zm28",
          "zm44",
          "zm5",
          "zm25",
          "zm47",
          "zm45",
          "zm1",
          "zm2",
          "zm38",
          "zm11",
          "zm3",
          "zm14",
          "zm27",
          "zm34",
          "zm31",
          "zm21",
          "zm13"
         ],
         "y": [
          4.541666666666667,
          5.125,
          6.666666666666667,
          7.833333333333333,
          10.041666666666666,
          11.875,
          11.875,
          12.291666666666666,
          15.166666666666666,
          15.666666666666666,
          15.791666666666666,
          15.958333333333334,
          16.75,
          17.541666666666668,
          18.958333333333332,
          19.666666666666668,
          19.791666666666668,
          20.958333333333332,
          21,
          21.375,
          23,
          23.041666666666668,
          23.5,
          24.5,
          25.333333333333332,
          26.875,
          27.083333333333332,
          29.458333333333332,
          29.625,
          30.416666666666668,
          32.458333333333336,
          35.083333333333336,
          35.958333333333336,
          37,
          37.125,
          38.125,
          38.25,
          39.541666666666664,
          40.166666666666664,
          41.958333333333336,
          42.375,
          42.541666666666664,
          45.125,
          45.791666666666664,
          46.333333333333336,
          47.541666666666664,
          49.666666666666664,
          50.541666666666664,
          56.25,
          58.583333333333336,
          59.291666666666664,
          63.958333333333336,
          67.04166666666667,
          68.83333333333333,
          69,
          94.54166666666667,
          157.16666666666666,
          161.625,
          195
         ]
        },
        {
         "mode": "lines+markers",
         "name": "('ageb', nan, 'area', 'mun')",
         "type": "scatter",
         "x": [
          "zm33",
          "zm20",
          "zm39",
          "zm59",
          "zm54",
          "zm58",
          "zm19",
          "zm16",
          "zm48",
          "zm35",
          "zm23",
          "zm40",
          "zm41",
          "zm53",
          "zm17",
          "zm26",
          "zm50",
          "zm49",
          "zm42",
          "zm30",
          "zm52",
          "zm37",
          "zm22",
          "zm7",
          "zm6",
          "zm56",
          "zm12",
          "zm32",
          "zm46",
          "zm9",
          "zm36",
          "zm15",
          "zm18",
          "zm51",
          "zm43",
          "zm55",
          "zm10",
          "zm8",
          "zm29",
          "zm57",
          "zm24",
          "zm4",
          "zm28",
          "zm44",
          "zm5",
          "zm25",
          "zm47",
          "zm45",
          "zm1",
          "zm2",
          "zm38",
          "zm11",
          "zm3",
          "zm14",
          "zm27",
          "zm34",
          "zm31",
          "zm21",
          "zm13"
         ],
         "y": [
          14.833333333333334,
          22.583333333333332,
          7.75,
          8.166666666666666,
          10,
          8,
          18.25,
          12.083333333333334,
          23.75,
          14.916666666666666,
          10.75,
          13.25,
          21.541666666666668,
          19.75,
          22.416666666666668,
          14.625,
          48.125,
          40.458333333333336,
          34.958333333333336,
          23.708333333333332,
          25.875,
          26.291666666666668,
          23.291666666666668,
          26.916666666666668,
          35.208333333333336,
          29,
          29.125,
          51.708333333333336,
          62.333333333333336,
          16,
          37.333333333333336,
          9,
          46.958333333333336,
          28.25,
          46.416666666666664,
          48.083333333333336,
          44.75,
          45.333333333333336,
          40.75,
          36.708333333333336,
          65.5,
          69.41666666666667,
          68.75,
          41.583333333333336,
          53.833333333333336,
          52.083333333333336,
          56.125,
          49.166666666666664,
          43.208333333333336,
          69.875,
          62.541666666666664,
          63.666666666666664,
          41.291666666666664,
          63.541666666666664,
          16.375,
          179.41666666666666,
          265.6666666666667,
          205.54166666666666,
          839.125
         ]
        },
        {
         "mode": "lines+markers",
         "name": "('ageb', nan, 'pop', 'zm')",
         "type": "scatter",
         "x": [
          "zm33",
          "zm20",
          "zm39",
          "zm59",
          "zm54",
          "zm58",
          "zm19",
          "zm16",
          "zm48",
          "zm35",
          "zm23",
          "zm40",
          "zm41",
          "zm53",
          "zm17",
          "zm26",
          "zm50",
          "zm49",
          "zm42",
          "zm30",
          "zm52",
          "zm37",
          "zm22",
          "zm7",
          "zm6",
          "zm56",
          "zm12",
          "zm32",
          "zm46",
          "zm9",
          "zm36",
          "zm15",
          "zm18",
          "zm51",
          "zm43",
          "zm55",
          "zm10",
          "zm8",
          "zm29",
          "zm57",
          "zm24",
          "zm4",
          "zm28",
          "zm44",
          "zm5",
          "zm25",
          "zm47",
          "zm45",
          "zm1",
          "zm2",
          "zm38",
          "zm11",
          "zm3",
          "zm14",
          "zm27",
          "zm34",
          "zm31",
          "zm21",
          "zm13"
         ],
         "y": [
          27,
          23.875,
          10.625,
          12.458333333333334,
          8.083333333333334,
          14.25,
          24.708333333333332,
          17.291666666666668,
          17.583333333333332,
          28.208333333333332,
          17.75,
          21.291666666666668,
          25.541666666666668,
          18.5,
          36.875,
          23.083333333333332,
          35.625,
          22.75,
          34.791666666666664,
          37.166666666666664,
          20.708333333333332,
          45.041666666666664,
          31.791666666666668,
          41.083333333333336,
          59.291666666666664,
          48.833333333333336,
          70,
          34.333333333333336,
          64.45833333333333,
          27.458333333333332,
          53.833333333333336,
          19.833333333333332,
          51.333333333333336,
          34.166666666666664,
          41.208333333333336,
          63.375,
          45.666666666666664,
          36.75,
          33.291666666666664,
          45.583333333333336,
          53.708333333333336,
          78.25,
          63.166666666666664,
          51.083333333333336,
          56.666666666666664,
          49.541666666666664,
          52.791666666666664,
          45.916666666666664,
          77.625,
          58.458333333333336,
          83.29166666666667,
          94.75,
          64.91666666666667,
          82.29166666666667,
          38.333333333333336,
          110,
          155.625,
          134.95833333333334,
          327.5416666666667
         ]
        },
        {
         "mode": "lines+markers",
         "name": "('ageb', nan, 'pop', 'mun')",
         "type": "scatter",
         "x": [
          "zm33",
          "zm20",
          "zm39",
          "zm59",
          "zm54",
          "zm58",
          "zm19",
          "zm16",
          "zm48",
          "zm35",
          "zm23",
          "zm40",
          "zm41",
          "zm53",
          "zm17",
          "zm26",
          "zm50",
          "zm49",
          "zm42",
          "zm30",
          "zm52",
          "zm37",
          "zm22",
          "zm7",
          "zm6",
          "zm56",
          "zm12",
          "zm32",
          "zm46",
          "zm9",
          "zm36",
          "zm15",
          "zm18",
          "zm51",
          "zm43",
          "zm55",
          "zm10",
          "zm8",
          "zm29",
          "zm57",
          "zm24",
          "zm4",
          "zm28",
          "zm44",
          "zm5",
          "zm25",
          "zm47",
          "zm45",
          "zm1",
          "zm2",
          "zm38",
          "zm11",
          "zm3",
          "zm14",
          "zm27",
          "zm34",
          "zm31",
          "zm21",
          "zm13"
         ],
         "y": [
          34.083333333333336,
          24.958333333333332,
          12.75,
          12.166666666666666,
          12.875,
          8.625,
          26.875,
          14.875,
          25.875,
          26.833333333333332,
          17.041666666666668,
          26.666666666666668,
          28.333333333333332,
          23.25,
          41,
          31.833333333333332,
          57.458333333333336,
          46.791666666666664,
          49.083333333333336,
          41.166666666666664,
          27.791666666666668,
          59.541666666666664,
          40.291666666666664,
          51.791666666666664,
          67.75,
          53.625,
          74.08333333333333,
          60.083333333333336,
          85.16666666666667,
          35.375,
          56,
          15.666666666666666,
          73.04166666666667,
          37.958333333333336,
          54.541666666666664,
          73.625,
          62.083333333333336,
          47.791666666666664,
          46.833333333333336,
          42.833333333333336,
          80.91666666666667,
          112.91666666666667,
          100.75,
          48.791666666666664,
          62.958333333333336,
          54.083333333333336,
          64.08333333333333,
          44.166666666666664,
          82,
          84.33333333333333,
          97.58333333333333,
          93.875,
          53.291666666666664,
          85.375,
          23.708333333333332,
          198.54166666666666,
          266.3333333333333,
          243.83333333333334,
          1162.4166666666667
         ]
        },
        {
         "mode": "lines+markers",
         "name": "('g', '1', 'area', 'zm')",
         "type": "scatter",
         "x": [
          "zm33",
          "zm20",
          "zm39",
          "zm59",
          "zm54",
          "zm58",
          "zm19",
          "zm16",
          "zm48",
          "zm35",
          "zm23",
          "zm40",
          "zm41",
          "zm53",
          "zm17",
          "zm26",
          "zm50",
          "zm49",
          "zm42",
          "zm30",
          "zm52",
          "zm37",
          "zm22",
          "zm7",
          "zm6",
          "zm56",
          "zm12",
          "zm32",
          "zm46",
          "zm9",
          "zm36",
          "zm15",
          "zm18",
          "zm51",
          "zm43",
          "zm55",
          "zm10",
          "zm8",
          "zm29",
          "zm57",
          "zm24",
          "zm4",
          "zm28",
          "zm44",
          "zm5",
          "zm25",
          "zm47",
          "zm45",
          "zm1",
          "zm2",
          "zm38",
          "zm11",
          "zm3",
          "zm14",
          "zm27",
          "zm34",
          "zm31",
          "zm21",
          "zm13"
         ],
         "y": [
          13.458333333333334,
          51.291666666666664,
          24.083333333333332,
          22.916666666666668,
          14.375,
          33.541666666666664,
          21,
          30.5,
          12.375,
          16.958333333333332,
          28.625,
          36.458333333333336,
          27.125,
          11.875,
          23.083333333333332,
          17.083333333333332,
          22.5,
          15.833333333333334,
          20.875,
          19.875,
          18.208333333333332,
          27.625,
          22.416666666666668,
          26.5,
          39.958333333333336,
          17.166666666666668,
          49.5,
          17.625,
          56.625,
          58.083333333333336,
          39.666666666666664,
          139.58333333333334,
          40.208333333333336,
          35.875,
          55.5,
          51.25,
          17.458333333333332,
          23.875,
          98.54166666666667,
          27.166666666666668,
          42.333333333333336,
          62.791666666666664,
          46.25,
          25.416666666666668,
          31.5,
          26,
          31.125,
          30.666666666666668,
          40.458333333333336,
          52.541666666666664,
          42.916666666666664,
          72.25,
          71.58333333333333,
          55.583333333333336,
          514.0833333333334,
          85.25,
          88.95833333333333,
          106.16666666666667,
          245.75
         ]
        },
        {
         "mode": "lines+markers",
         "name": "('g', '1', 'area', 'mun')",
         "type": "scatter",
         "x": [
          "zm33",
          "zm20",
          "zm39",
          "zm59",
          "zm54",
          "zm58",
          "zm19",
          "zm16",
          "zm48",
          "zm35",
          "zm23",
          "zm40",
          "zm41",
          "zm53",
          "zm17",
          "zm26",
          "zm50",
          "zm49",
          "zm42",
          "zm30",
          "zm52",
          "zm37",
          "zm22",
          "zm7",
          "zm6",
          "zm56",
          "zm12",
          "zm32",
          "zm46",
          "zm9",
          "zm36",
          "zm15",
          "zm18",
          "zm51",
          "zm43",
          "zm55",
          "zm10",
          "zm8",
          "zm29",
          "zm57",
          "zm24",
          "zm4",
          "zm28",
          "zm44",
          "zm5",
          "zm25",
          "zm47",
          "zm45",
          "zm1",
          "zm2",
          "zm38",
          "zm11",
          "zm3",
          "zm14",
          "zm27",
          "zm34",
          "zm31",
          "zm21",
          "zm13"
         ],
         "y": [
          12.125,
          50.166666666666664,
          20.458333333333332,
          11,
          8,
          15,
          24.5,
          12.833333333333334,
          20.958333333333332,
          19.833333333333332,
          7.583333333333333,
          15.875,
          19.958333333333332,
          17.333333333333332,
          22.25,
          9.875,
          42.541666666666664,
          35.625,
          31.5,
          16.375,
          18.125,
          22.875,
          24.25,
          26.041666666666668,
          31,
          17.25,
          40.958333333333336,
          76.25,
          165.75,
          14,
          37.708333333333336,
          13.958333333333334,
          64.5,
          35.166666666666664,
          43.458333333333336,
          62.333333333333336,
          25.708333333333332,
          28.708333333333332,
          49.916666666666664,
          30.75,
          104.29166666666667,
          62.916666666666664,
          80.58333333333333,
          19.083333333333332,
          34.541666666666664,
          23.666666666666668,
          34.166666666666664,
          24.708333333333332,
          34.583333333333336,
          60.541666666666664,
          42.166666666666664,
          65,
          29.208333333333332,
          51.125,
          27.125,
          275.375,
          239.5,
          155.08333333333334,
          884.125
         ]
        },
        {
         "mode": "lines+markers",
         "name": "('g', '1', 'pop', 'zm')",
         "type": "scatter",
         "x": [
          "zm33",
          "zm20",
          "zm39",
          "zm59",
          "zm54",
          "zm58",
          "zm19",
          "zm16",
          "zm48",
          "zm35",
          "zm23",
          "zm40",
          "zm41",
          "zm53",
          "zm17",
          "zm26",
          "zm50",
          "zm49",
          "zm42",
          "zm30",
          "zm52",
          "zm37",
          "zm22",
          "zm7",
          "zm6",
          "zm56",
          "zm12",
          "zm32",
          "zm46",
          "zm9",
          "zm36",
          "zm15",
          "zm18",
          "zm51",
          "zm43",
          "zm55",
          "zm10",
          "zm8",
          "zm29",
          "zm57",
          "zm24",
          "zm4",
          "zm28",
          "zm44",
          "zm5",
          "zm25",
          "zm47",
          "zm45",
          "zm1",
          "zm2",
          "zm38",
          "zm11",
          "zm3",
          "zm14",
          "zm27",
          "zm34",
          "zm31",
          "zm21",
          "zm13"
         ],
         "y": [
          13.083333333333334,
          26.333333333333332,
          13.333333333333334,
          9.041666666666666,
          7.125,
          21.708333333333332,
          10.125,
          8.458333333333334,
          13.833333333333334,
          13.875,
          10.166666666666666,
          13.666666666666666,
          23.416666666666668,
          12.75,
          21.083333333333332,
          11.916666666666666,
          15.833333333333334,
          12.166666666666666,
          21.75,
          22.166666666666668,
          20.583333333333332,
          26.041666666666668,
          18.958333333333332,
          22.875,
          29.041666666666668,
          18.166666666666668,
          52.875,
          20.625,
          35.708333333333336,
          11.041666666666666,
          40.791666666666664,
          22.166666666666668,
          30.5,
          23.541666666666668,
          41.958333333333336,
          53.583333333333336,
          18.5,
          21.125,
          24.458333333333332,
          27.458333333333332,
          45.75,
          60.375,
          34.416666666666664,
          24.083333333333332,
          30.458333333333332,
          28.291666666666668,
          32.333333333333336,
          26.958333333333332,
          39.666666666666664,
          51.333333333333336,
          45.083333333333336,
          61.25,
          48.875,
          52.958333333333336,
          26.625,
          79.25,
          110.75,
          92.875,
          229.375
         ]
        },
        {
         "mode": "lines+markers",
         "name": "('g', '1', 'pop', 'mun')",
         "type": "scatter",
         "x": [
          "zm33",
          "zm20",
          "zm39",
          "zm59",
          "zm54",
          "zm58",
          "zm19",
          "zm16",
          "zm48",
          "zm35",
          "zm23",
          "zm40",
          "zm41",
          "zm53",
          "zm17",
          "zm26",
          "zm50",
          "zm49",
          "zm42",
          "zm30",
          "zm52",
          "zm37",
          "zm22",
          "zm7",
          "zm6",
          "zm56",
          "zm12",
          "zm32",
          "zm46",
          "zm9",
          "zm36",
          "zm15",
          "zm18",
          "zm51",
          "zm43",
          "zm55",
          "zm10",
          "zm8",
          "zm29",
          "zm57",
          "zm24",
          "zm4",
          "zm28",
          "zm44",
          "zm5",
          "zm25",
          "zm47",
          "zm45",
          "zm1",
          "zm2",
          "zm38",
          "zm11",
          "zm3",
          "zm14",
          "zm27",
          "zm34",
          "zm31",
          "zm21",
          "zm13"
         ],
         "y": [
          17.375,
          42.208333333333336,
          16,
          9.833333333333334,
          9,
          10.666666666666666,
          20.25,
          9.875,
          23.375,
          18.375,
          11.416666666666666,
          16.125,
          22.208333333333332,
          23.25,
          27.791666666666668,
          14.583333333333334,
          41.708333333333336,
          28,
          34.791666666666664,
          23.666666666666668,
          23.375,
          29.291666666666668,
          23.625,
          27.25,
          34.75,
          20.458333333333332,
          58.75,
          68.75,
          106.45833333333333,
          15.333333333333334,
          46,
          16.125,
          49.75,
          37.541666666666664,
          47.083333333333336,
          65.91666666666667,
          27.958333333333332,
          28.791666666666668,
          44.541666666666664,
          32.875,
          95.625,
          76.16666666666667,
          76.79166666666667,
          23.125,
          39.791666666666664,
          33.916666666666664,
          42.166666666666664,
          25.791666666666668,
          44.958333333333336,
          69.625,
          46.166666666666664,
          60.75,
          40.166666666666664,
          55.916666666666664,
          14.875,
          249,
          218,
          167.33333333333334,
          821.9583333333334
         ]
        },
        {
         "mode": "lines+markers",
         "name": "('g', '2', 'area', 'zm')",
         "type": "scatter",
         "x": [
          "zm33",
          "zm20",
          "zm39",
          "zm59",
          "zm54",
          "zm58",
          "zm19",
          "zm16",
          "zm48",
          "zm35",
          "zm23",
          "zm40",
          "zm41",
          "zm53",
          "zm17",
          "zm26",
          "zm50",
          "zm49",
          "zm42",
          "zm30",
          "zm52",
          "zm37",
          "zm22",
          "zm7",
          "zm6",
          "zm56",
          "zm12",
          "zm32",
          "zm46",
          "zm9",
          "zm36",
          "zm15",
          "zm18",
          "zm51",
          "zm43",
          "zm55",
          "zm10",
          "zm8",
          "zm29",
          "zm57",
          "zm24",
          "zm4",
          "zm28",
          "zm44",
          "zm5",
          "zm25",
          "zm47",
          "zm45",
          "zm1",
          "zm2",
          "zm38",
          "zm11",
          "zm3",
          "zm14",
          "zm27",
          "zm34",
          "zm31",
          "zm21",
          "zm13"
         ],
         "y": [
          7.041666666666667,
          16.833333333333332,
          7.666666666666667,
          8.958333333333334,
          3.2083333333333335,
          14.708333333333334,
          12.416666666666666,
          11.166666666666666,
          5.708333333333333,
          4.458333333333333,
          9.208333333333334,
          9.583333333333334,
          8.458333333333334,
          4.833333333333333,
          8.458333333333334,
          6.416666666666667,
          7.5,
          5.291666666666667,
          9.416666666666666,
          8.791666666666666,
          7.166666666666667,
          9.75,
          8.666666666666666,
          7.291666666666667,
          10.5,
          8,
          16.25,
          6.416666666666667,
          15.25,
          18.333333333333332,
          15.041666666666666,
          34.583333333333336,
          12.5,
          14.583333333333334,
          15.458333333333334,
          17.583333333333332,
          6.875,
          10.291666666666666,
          25.875,
          10.208333333333334,
          13.125,
          21.541666666666668,
          13.041666666666666,
          13.291666666666666,
          15.166666666666666,
          10.416666666666666,
          11.958333333333334,
          12.833333333333334,
          13.625,
          17.291666666666668,
          15.875,
          28.625,
          20.583333333333332,
          18.75,
          128.16666666666666,
          27.208333333333332,
          37.208333333333336,
          41.041666666666664,
          84.41666666666667
         ]
        },
        {
         "mode": "lines+markers",
         "name": "('g', '2', 'area', 'mun')",
         "type": "scatter",
         "x": [
          "zm33",
          "zm20",
          "zm39",
          "zm59",
          "zm54",
          "zm58",
          "zm19",
          "zm16",
          "zm48",
          "zm35",
          "zm23",
          "zm40",
          "zm41",
          "zm53",
          "zm17",
          "zm26",
          "zm50",
          "zm49",
          "zm42",
          "zm30",
          "zm52",
          "zm37",
          "zm22",
          "zm7",
          "zm6",
          "zm56",
          "zm12",
          "zm32",
          "zm46",
          "zm9",
          "zm36",
          "zm15",
          "zm18",
          "zm51",
          "zm43",
          "zm55",
          "zm10",
          "zm8",
          "zm29",
          "zm57",
          "zm24",
          "zm4",
          "zm28",
          "zm44",
          "zm5",
          "zm25",
          "zm47",
          "zm45",
          "zm1",
          "zm2",
          "zm38",
          "zm11",
          "zm3",
          "zm14",
          "zm27",
          "zm34",
          "zm31",
          "zm21",
          "zm13"
         ],
         "y": [
          8.125,
          11.416666666666666,
          5,
          2,
          1,
          6,
          10.458333333333334,
          3,
          10.208333333333334,
          5.958333333333333,
          4.833333333333333,
          4.041666666666667,
          7.25,
          9.125,
          11.583333333333334,
          5.083333333333333,
          10.083333333333334,
          8,
          14.125,
          4.916666666666667,
          5.125,
          7.5,
          9.75,
          7.5,
          9.708333333333334,
          4.083333333333333,
          14.458333333333334,
          12.5,
          43.083333333333336,
          2,
          14,
          3.2916666666666665,
          22.333333333333332,
          5.208333333333333,
          13.5,
          20.5,
          9.375,
          9.333333333333334,
          16.625,
          9.708333333333334,
          34.833333333333336,
          22.541666666666668,
          29.291666666666668,
          9.958333333333334,
          16,
          9.291666666666666,
          11.208333333333334,
          10.25,
          10.458333333333334,
          19.791666666666668,
          14.75,
          25.583333333333332,
          8,
          17.791666666666668,
          9.125,
          91.25,
          81.625,
          58.666666666666664,
          293.3333333333333
         ]
        },
        {
         "mode": "lines+markers",
         "name": "('g', '2', 'pop', 'zm')",
         "type": "scatter",
         "x": [
          "zm33",
          "zm20",
          "zm39",
          "zm59",
          "zm54",
          "zm58",
          "zm19",
          "zm16",
          "zm48",
          "zm35",
          "zm23",
          "zm40",
          "zm41",
          "zm53",
          "zm17",
          "zm26",
          "zm50",
          "zm49",
          "zm42",
          "zm30",
          "zm52",
          "zm37",
          "zm22",
          "zm7",
          "zm6",
          "zm56",
          "zm12",
          "zm32",
          "zm46",
          "zm9",
          "zm36",
          "zm15",
          "zm18",
          "zm51",
          "zm43",
          "zm55",
          "zm10",
          "zm8",
          "zm29",
          "zm57",
          "zm24",
          "zm4",
          "zm28",
          "zm44",
          "zm5",
          "zm25",
          "zm47",
          "zm45",
          "zm1",
          "zm2",
          "zm38",
          "zm11",
          "zm3",
          "zm14",
          "zm27",
          "zm34",
          "zm31",
          "zm21",
          "zm13"
         ],
         "y": [
          4,
          15.208333333333334,
          4.583333333333333,
          3.1666666666666665,
          3,
          9.541666666666666,
          4.583333333333333,
          2.25,
          5.666666666666667,
          4.333333333333333,
          4.708333333333333,
          8.916666666666666,
          7.333333333333333,
          4.416666666666667,
          8.25,
          5.208333333333333,
          6.666666666666667,
          4.333333333333333,
          9.833333333333334,
          7.875,
          6.541666666666667,
          9.625,
          7.625,
          7.958333333333333,
          10.833333333333334,
          7.166666666666667,
          15.958333333333334,
          7.5,
          11.666666666666666,
          4.625,
          15.458333333333334,
          6.75,
          9.75,
          10.333333333333334,
          13,
          18.333333333333332,
          7.5,
          8.833333333333334,
          16.666666666666668,
          10.458333333333334,
          14.75,
          21.083333333333332,
          12.833333333333334,
          12.541666666666666,
          14.208333333333334,
          10.5,
          11.5,
          12.541666666666666,
          13.958333333333334,
          18,
          16.375,
          28.583333333333332,
          16.333333333333332,
          18.375,
          9.375,
          26.875,
          41.375,
          40.416666666666664,
          82.95833333333333
         ]
        },
        {
         "mode": "lines+markers",
         "name": "('g', '2', 'pop', 'mun')",
         "type": "scatter",
         "x": [
          "zm33",
          "zm20",
          "zm39",
          "zm59",
          "zm54",
          "zm58",
          "zm19",
          "zm16",
          "zm48",
          "zm35",
          "zm23",
          "zm40",
          "zm41",
          "zm53",
          "zm17",
          "zm26",
          "zm50",
          "zm49",
          "zm42",
          "zm30",
          "zm52",
          "zm37",
          "zm22",
          "zm7",
          "zm6",
          "zm56",
          "zm12",
          "zm32",
          "zm46",
          "zm9",
          "zm36",
          "zm15",
          "zm18",
          "zm51",
          "zm43",
          "zm55",
          "zm10",
          "zm8",
          "zm29",
          "zm57",
          "zm24",
          "zm4",
          "zm28",
          "zm44",
          "zm5",
          "zm25",
          "zm47",
          "zm45",
          "zm1",
          "zm2",
          "zm38",
          "zm11",
          "zm3",
          "zm14",
          "zm27",
          "zm34",
          "zm31",
          "zm21",
          "zm13"
         ],
         "y": [
          7.958333333333333,
          13.708333333333334,
          5.541666666666667,
          2,
          2,
          4,
          8.625,
          1.625,
          9.916666666666666,
          5.333333333333333,
          6,
          9.75,
          8,
          11.666666666666666,
          13.541666666666666,
          5.666666666666667,
          12.291666666666666,
          7,
          14.75,
          6.666666666666667,
          5.791666666666667,
          11.041666666666666,
          9.916666666666666,
          8.791666666666666,
          14.208333333333334,
          7.458333333333333,
          20,
          10.708333333333334,
          32.166666666666664,
          3,
          17.958333333333332,
          5,
          18.25,
          9.333333333333334,
          16.25,
          20.708333333333332,
          10.625,
          11.208333333333334,
          16.708333333333332,
          11.75,
          39.416666666666664,
          25.041666666666668,
          30.791666666666668,
          11.791666666666666,
          18.75,
          14.291666666666666,
          13.625,
          12,
          15.208333333333334,
          24.583333333333332,
          17.041666666666668,
          28.291666666666668,
          13.291666666666666,
          18.833333333333332,
          6.041666666666667,
          83.25,
          85.29166666666667,
          66.91666666666667,
          304.2083333333333
         ]
        },
        {
         "mode": "lines+markers",
         "name": "('idw10', '1', nan, 'zm')",
         "type": "scatter",
         "x": [
          "zm33",
          "zm20",
          "zm39",
          "zm59",
          "zm54",
          "zm58",
          "zm19",
          "zm16",
          "zm48",
          "zm35",
          "zm23",
          "zm40",
          "zm41",
          "zm53",
          "zm17",
          "zm26",
          "zm50",
          "zm49",
          "zm42",
          "zm30",
          "zm52",
          "zm37",
          "zm22",
          "zm7",
          "zm6",
          "zm56",
          "zm12",
          "zm32",
          "zm46",
          "zm9",
          "zm36",
          "zm15",
          "zm18",
          "zm51",
          "zm43",
          "zm55",
          "zm10",
          "zm8",
          "zm29",
          "zm57",
          "zm24",
          "zm4",
          "zm28",
          "zm44",
          "zm5",
          "zm25",
          "zm47",
          "zm45",
          "zm1",
          "zm2",
          "zm38",
          "zm11",
          "zm3",
          "zm14",
          "zm27",
          "zm34",
          "zm31",
          "zm21",
          "zm13"
         ],
         "y": [
          90.66666666666667,
          76,
          115.875,
          20.166666666666668,
          38.666666666666664,
          10,
          64.875,
          54.583333333333336,
          35.25,
          42.291666666666664,
          68.125,
          283.75,
          172,
          17.625,
          134.33333333333334,
          82.875,
          63.625,
          125.16666666666667,
          42.75,
          95.91666666666667,
          63.083333333333336,
          74.08333333333333,
          123.04166666666667,
          102.125,
          158.58333333333334,
          106.08333333333333,
          96.25,
          72.79166666666667,
          60.208333333333336,
          88.75,
          82.29166666666667,
          28.291666666666668,
          156.45833333333334,
          79.04166666666667,
          138.33333333333334,
          144.08333333333334,
          68.625,
          20.041666666666668,
          142.66666666666666,
          125.41666666666667,
          97.25,
          190.83333333333334,
          63.958333333333336,
          158.08333333333334,
          170.75,
          120.83333333333333,
          84,
          121.79166666666667,
          100.70833333333333,
          78.70833333333333,
          44.541666666666664,
          63.541666666666664,
          103.20833333333333,
          160.125,
          131.95833333333334,
          139.33333333333334,
          203.125,
          206.375,
          114.83333333333333
         ]
        },
        {
         "mode": "lines+markers",
         "name": "('idw10', '1', nan, 'mun')",
         "type": "scatter",
         "x": [
          "zm33",
          "zm20",
          "zm39",
          "zm59",
          "zm54",
          "zm58",
          "zm19",
          "zm16",
          "zm48",
          "zm35",
          "zm23",
          "zm40",
          "zm41",
          "zm53",
          "zm17",
          "zm26",
          "zm50",
          "zm49",
          "zm42",
          "zm30",
          "zm52",
          "zm37",
          "zm22",
          "zm7",
          "zm6",
          "zm56",
          "zm12",
          "zm32",
          "zm46",
          "zm9",
          "zm36",
          "zm15",
          "zm18",
          "zm51",
          "zm43",
          "zm55",
          "zm10",
          "zm8",
          "zm29",
          "zm57",
          "zm24",
          "zm4",
          "zm28",
          "zm44",
          "zm5",
          "zm25",
          "zm47",
          "zm45",
          "zm1",
          "zm2",
          "zm38",
          "zm11",
          "zm3",
          "zm14",
          "zm27",
          "zm34",
          "zm31",
          "zm21",
          "zm13"
         ],
         "y": [
          23.708333333333332,
          94.04166666666667,
          22.083333333333332,
          15.708333333333334,
          12,
          9,
          53.875,
          17.625,
          69.5,
          29.166666666666668,
          17.083333333333332,
          47.291666666666664,
          43.25,
          42.458333333333336,
          55.916666666666664,
          38.25,
          89.91666666666667,
          53.041666666666664,
          63.5,
          34.041666666666664,
          40.625,
          39.541666666666664,
          55.041666666666664,
          38.291666666666664,
          60.708333333333336,
          50.291666666666664,
          55.916666666666664,
          151.375,
          288.25,
          21.041666666666668,
          75.875,
          20,
          102.70833333333333,
          83.75,
          55.291666666666664,
          104,
          55.166666666666664,
          33.916666666666664,
          103.33333333333333,
          59.333333333333336,
          245,
          116.04166666666667,
          174.95833333333334,
          41.916666666666664,
          77.375,
          65.29166666666667,
          55.916666666666664,
          58.75,
          69.375,
          81,
          39.5,
          36.041666666666664,
          22.416666666666668,
          91.25,
          28.625,
          594.25,
          323.9583333333333,
          261.0833333333333,
          1284
         ]
        },
        {
         "mode": "lines+markers",
         "name": "('idw10', '2', nan, 'zm')",
         "type": "scatter",
         "x": [
          "zm33",
          "zm20",
          "zm39",
          "zm59",
          "zm54",
          "zm58",
          "zm19",
          "zm16",
          "zm48",
          "zm35",
          "zm23",
          "zm40",
          "zm41",
          "zm53",
          "zm17",
          "zm26",
          "zm50",
          "zm49",
          "zm42",
          "zm30",
          "zm52",
          "zm37",
          "zm22",
          "zm7",
          "zm6",
          "zm56",
          "zm12",
          "zm32",
          "zm46",
          "zm9",
          "zm36",
          "zm15",
          "zm18",
          "zm51",
          "zm43",
          "zm55",
          "zm10",
          "zm8",
          "zm29",
          "zm57",
          "zm24",
          "zm4",
          "zm28",
          "zm44",
          "zm5",
          "zm25",
          "zm47",
          "zm45",
          "zm1",
          "zm2",
          "zm38",
          "zm11",
          "zm3",
          "zm14",
          "zm27",
          "zm34",
          "zm31",
          "zm21",
          "zm13"
         ],
         "y": [
          45.291666666666664,
          21.333333333333332,
          52.333333333333336,
          7.166666666666667,
          11.125,
          11,
          26.583333333333332,
          12.041666666666666,
          29.833333333333332,
          17.541666666666668,
          16.541666666666668,
          46.541666666666664,
          43.125,
          16.583333333333332,
          35.166666666666664,
          35.833333333333336,
          38.708333333333336,
          35,
          25.166666666666668,
          22.875,
          15.333333333333334,
          49.583333333333336,
          52.916666666666664,
          48.583333333333336,
          17,
          42.625,
          101.125,
          26.875,
          36.541666666666664,
          36.25,
          54.916666666666664,
          21,
          58.666666666666664,
          73.875,
          67.875,
          52.083333333333336,
          30,
          44.625,
          27.666666666666668,
          45.083333333333336,
          40.208333333333336,
          57.208333333333336,
          14.708333333333334,
          54.375,
          91.91666666666667,
          32.25,
          40,
          42.875,
          43.791666666666664,
          56.208333333333336,
          43.166666666666664,
          76.58333333333333,
          98.79166666666667,
          37.416666666666664,
          82.29166666666667,
          81.625,
          120.20833333333333,
          62.875,
          189.75
         ]
        },
        {
         "mode": "lines+markers",
         "name": "('idw10', '2', nan, 'mun')",
         "type": "scatter",
         "x": [
          "zm33",
          "zm20",
          "zm39",
          "zm59",
          "zm54",
          "zm58",
          "zm19",
          "zm16",
          "zm48",
          "zm35",
          "zm23",
          "zm40",
          "zm41",
          "zm53",
          "zm17",
          "zm26",
          "zm50",
          "zm49",
          "zm42",
          "zm30",
          "zm52",
          "zm37",
          "zm22",
          "zm7",
          "zm6",
          "zm56",
          "zm12",
          "zm32",
          "zm46",
          "zm9",
          "zm36",
          "zm15",
          "zm18",
          "zm51",
          "zm43",
          "zm55",
          "zm10",
          "zm8",
          "zm29",
          "zm57",
          "zm24",
          "zm4",
          "zm28",
          "zm44",
          "zm5",
          "zm25",
          "zm47",
          "zm45",
          "zm1",
          "zm2",
          "zm38",
          "zm11",
          "zm3",
          "zm14",
          "zm27",
          "zm34",
          "zm31",
          "zm21",
          "zm13"
         ],
         "y": [
          16.666666666666668,
          27.875,
          12.625,
          4,
          3,
          1,
          24.458333333333332,
          4,
          29.666666666666668,
          14.416666666666666,
          11,
          14.375,
          17.708333333333332,
          25.541666666666668,
          21.666666666666668,
          13.791666666666666,
          27.083333333333332,
          20.083333333333332,
          33.75,
          11.333333333333334,
          9.666666666666666,
          26.958333333333332,
          19.75,
          11.958333333333334,
          18.791666666666668,
          17.416666666666668,
          50.166666666666664,
          25.958333333333332,
          107.5,
          7.166666666666667,
          20.5,
          7.041666666666667,
          53.166666666666664,
          24.541666666666668,
          30.125,
          41.708333333333336,
          23.875,
          20.125,
          33.833333333333336,
          25.666666666666668,
          95.08333333333333,
          47.75,
          55.791666666666664,
          20.416666666666668,
          35.916666666666664,
          18.666666666666668,
          28.583333333333332,
          22.291666666666668,
          26.625,
          50.125,
          33.916666666666664,
          46.208333333333336,
          12.583333333333334,
          38.541666666666664,
          14.75,
          210.70833333333334,
          131.41666666666666,
          107.91666666666667,
          559
         ]
        }
       ],
       "layout": {
        "height": 600,
        "margin": {
         "b": 10,
         "l": 10,
         "r": 100,
         "t": 10
        },
        "template": {
         "data": {
          "bar": [
           {
            "error_x": {
             "color": "#2a3f5f"
            },
            "error_y": {
             "color": "#2a3f5f"
            },
            "marker": {
             "line": {
              "color": "#E5ECF6",
              "width": 0.5
             }
            },
            "type": "bar"
           }
          ],
          "barpolar": [
           {
            "marker": {
             "line": {
              "color": "#E5ECF6",
              "width": 0.5
             }
            },
            "type": "barpolar"
           }
          ],
          "carpet": [
           {
            "aaxis": {
             "endlinecolor": "#2a3f5f",
             "gridcolor": "white",
             "linecolor": "white",
             "minorgridcolor": "white",
             "startlinecolor": "#2a3f5f"
            },
            "baxis": {
             "endlinecolor": "#2a3f5f",
             "gridcolor": "white",
             "linecolor": "white",
             "minorgridcolor": "white",
             "startlinecolor": "#2a3f5f"
            },
            "type": "carpet"
           }
          ],
          "choropleth": [
           {
            "colorbar": {
             "outlinewidth": 0,
             "ticks": ""
            },
            "type": "choropleth"
           }
          ],
          "contour": [
           {
            "colorbar": {
             "outlinewidth": 0,
             "ticks": ""
            },
            "colorscale": [
             [
              0,
              "#0d0887"
             ],
             [
              0.1111111111111111,
              "#46039f"
             ],
             [
              0.2222222222222222,
              "#7201a8"
             ],
             [
              0.3333333333333333,
              "#9c179e"
             ],
             [
              0.4444444444444444,
              "#bd3786"
             ],
             [
              0.5555555555555556,
              "#d8576b"
             ],
             [
              0.6666666666666666,
              "#ed7953"
             ],
             [
              0.7777777777777778,
              "#fb9f3a"
             ],
             [
              0.8888888888888888,
              "#fdca26"
             ],
             [
              1,
              "#f0f921"
             ]
            ],
            "type": "contour"
           }
          ],
          "contourcarpet": [
           {
            "colorbar": {
             "outlinewidth": 0,
             "ticks": ""
            },
            "type": "contourcarpet"
           }
          ],
          "heatmap": [
           {
            "colorbar": {
             "outlinewidth": 0,
             "ticks": ""
            },
            "colorscale": [
             [
              0,
              "#0d0887"
             ],
             [
              0.1111111111111111,
              "#46039f"
             ],
             [
              0.2222222222222222,
              "#7201a8"
             ],
             [
              0.3333333333333333,
              "#9c179e"
             ],
             [
              0.4444444444444444,
              "#bd3786"
             ],
             [
              0.5555555555555556,
              "#d8576b"
             ],
             [
              0.6666666666666666,
              "#ed7953"
             ],
             [
              0.7777777777777778,
              "#fb9f3a"
             ],
             [
              0.8888888888888888,
              "#fdca26"
             ],
             [
              1,
              "#f0f921"
             ]
            ],
            "type": "heatmap"
           }
          ],
          "heatmapgl": [
           {
            "colorbar": {
             "outlinewidth": 0,
             "ticks": ""
            },
            "colorscale": [
             [
              0,
              "#0d0887"
             ],
             [
              0.1111111111111111,
              "#46039f"
             ],
             [
              0.2222222222222222,
              "#7201a8"
             ],
             [
              0.3333333333333333,
              "#9c179e"
             ],
             [
              0.4444444444444444,
              "#bd3786"
             ],
             [
              0.5555555555555556,
              "#d8576b"
             ],
             [
              0.6666666666666666,
              "#ed7953"
             ],
             [
              0.7777777777777778,
              "#fb9f3a"
             ],
             [
              0.8888888888888888,
              "#fdca26"
             ],
             [
              1,
              "#f0f921"
             ]
            ],
            "type": "heatmapgl"
           }
          ],
          "histogram": [
           {
            "marker": {
             "colorbar": {
              "outlinewidth": 0,
              "ticks": ""
             }
            },
            "type": "histogram"
           }
          ],
          "histogram2d": [
           {
            "colorbar": {
             "outlinewidth": 0,
             "ticks": ""
            },
            "colorscale": [
             [
              0,
              "#0d0887"
             ],
             [
              0.1111111111111111,
              "#46039f"
             ],
             [
              0.2222222222222222,
              "#7201a8"
             ],
             [
              0.3333333333333333,
              "#9c179e"
             ],
             [
              0.4444444444444444,
              "#bd3786"
             ],
             [
              0.5555555555555556,
              "#d8576b"
             ],
             [
              0.6666666666666666,
              "#ed7953"
             ],
             [
              0.7777777777777778,
              "#fb9f3a"
             ],
             [
              0.8888888888888888,
              "#fdca26"
             ],
             [
              1,
              "#f0f921"
             ]
            ],
            "type": "histogram2d"
           }
          ],
          "histogram2dcontour": [
           {
            "colorbar": {
             "outlinewidth": 0,
             "ticks": ""
            },
            "colorscale": [
             [
              0,
              "#0d0887"
             ],
             [
              0.1111111111111111,
              "#46039f"
             ],
             [
              0.2222222222222222,
              "#7201a8"
             ],
             [
              0.3333333333333333,
              "#9c179e"
             ],
             [
              0.4444444444444444,
              "#bd3786"
             ],
             [
              0.5555555555555556,
              "#d8576b"
             ],
             [
              0.6666666666666666,
              "#ed7953"
             ],
             [
              0.7777777777777778,
              "#fb9f3a"
             ],
             [
              0.8888888888888888,
              "#fdca26"
             ],
             [
              1,
              "#f0f921"
             ]
            ],
            "type": "histogram2dcontour"
           }
          ],
          "mesh3d": [
           {
            "colorbar": {
             "outlinewidth": 0,
             "ticks": ""
            },
            "type": "mesh3d"
           }
          ],
          "parcoords": [
           {
            "line": {
             "colorbar": {
              "outlinewidth": 0,
              "ticks": ""
             }
            },
            "type": "parcoords"
           }
          ],
          "scatter": [
           {
            "marker": {
             "colorbar": {
              "outlinewidth": 0,
              "ticks": ""
             }
            },
            "type": "scatter"
           }
          ],
          "scatter3d": [
           {
            "line": {
             "colorbar": {
              "outlinewidth": 0,
              "ticks": ""
             }
            },
            "marker": {
             "colorbar": {
              "outlinewidth": 0,
              "ticks": ""
             }
            },
            "type": "scatter3d"
           }
          ],
          "scattercarpet": [
           {
            "marker": {
             "colorbar": {
              "outlinewidth": 0,
              "ticks": ""
             }
            },
            "type": "scattercarpet"
           }
          ],
          "scattergeo": [
           {
            "marker": {
             "colorbar": {
              "outlinewidth": 0,
              "ticks": ""
             }
            },
            "type": "scattergeo"
           }
          ],
          "scattergl": [
           {
            "marker": {
             "colorbar": {
              "outlinewidth": 0,
              "ticks": ""
             }
            },
            "type": "scattergl"
           }
          ],
          "scattermapbox": [
           {
            "marker": {
             "colorbar": {
              "outlinewidth": 0,
              "ticks": ""
             }
            },
            "type": "scattermapbox"
           }
          ],
          "scatterpolar": [
           {
            "marker": {
             "colorbar": {
              "outlinewidth": 0,
              "ticks": ""
             }
            },
            "type": "scatterpolar"
           }
          ],
          "scatterpolargl": [
           {
            "marker": {
             "colorbar": {
              "outlinewidth": 0,
              "ticks": ""
             }
            },
            "type": "scatterpolargl"
           }
          ],
          "scatterternary": [
           {
            "marker": {
             "colorbar": {
              "outlinewidth": 0,
              "ticks": ""
             }
            },
            "type": "scatterternary"
           }
          ],
          "surface": [
           {
            "colorbar": {
             "outlinewidth": 0,
             "ticks": ""
            },
            "colorscale": [
             [
              0,
              "#0d0887"
             ],
             [
              0.1111111111111111,
              "#46039f"
             ],
             [
              0.2222222222222222,
              "#7201a8"
             ],
             [
              0.3333333333333333,
              "#9c179e"
             ],
             [
              0.4444444444444444,
              "#bd3786"
             ],
             [
              0.5555555555555556,
              "#d8576b"
             ],
             [
              0.6666666666666666,
              "#ed7953"
             ],
             [
              0.7777777777777778,
              "#fb9f3a"
             ],
             [
              0.8888888888888888,
              "#fdca26"
             ],
             [
              1,
              "#f0f921"
             ]
            ],
            "type": "surface"
           }
          ],
          "table": [
           {
            "cells": {
             "fill": {
              "color": "#EBF0F8"
             },
             "line": {
              "color": "white"
             }
            },
            "header": {
             "fill": {
              "color": "#C8D4E3"
             },
             "line": {
              "color": "white"
             }
            },
            "type": "table"
           }
          ]
         },
         "layout": {
          "annotationdefaults": {
           "arrowcolor": "#2a3f5f",
           "arrowhead": 0,
           "arrowwidth": 1
          },
          "colorscale": {
           "diverging": [
            [
             0,
             "#8e0152"
            ],
            [
             0.1,
             "#c51b7d"
            ],
            [
             0.2,
             "#de77ae"
            ],
            [
             0.3,
             "#f1b6da"
            ],
            [
             0.4,
             "#fde0ef"
            ],
            [
             0.5,
             "#f7f7f7"
            ],
            [
             0.6,
             "#e6f5d0"
            ],
            [
             0.7,
             "#b8e186"
            ],
            [
             0.8,
             "#7fbc41"
            ],
            [
             0.9,
             "#4d9221"
            ],
            [
             1,
             "#276419"
            ]
           ],
           "sequential": [
            [
             0,
             "#0d0887"
            ],
            [
             0.1111111111111111,
             "#46039f"
            ],
            [
             0.2222222222222222,
             "#7201a8"
            ],
            [
             0.3333333333333333,
             "#9c179e"
            ],
            [
             0.4444444444444444,
             "#bd3786"
            ],
            [
             0.5555555555555556,
             "#d8576b"
            ],
            [
             0.6666666666666666,
             "#ed7953"
            ],
            [
             0.7777777777777778,
             "#fb9f3a"
            ],
            [
             0.8888888888888888,
             "#fdca26"
            ],
            [
             1,
             "#f0f921"
            ]
           ],
           "sequentialminus": [
            [
             0,
             "#0d0887"
            ],
            [
             0.1111111111111111,
             "#46039f"
            ],
            [
             0.2222222222222222,
             "#7201a8"
            ],
            [
             0.3333333333333333,
             "#9c179e"
            ],
            [
             0.4444444444444444,
             "#bd3786"
            ],
            [
             0.5555555555555556,
             "#d8576b"
            ],
            [
             0.6666666666666666,
             "#ed7953"
            ],
            [
             0.7777777777777778,
             "#fb9f3a"
            ],
            [
             0.8888888888888888,
             "#fdca26"
            ],
            [
             1,
             "#f0f921"
            ]
           ]
          },
          "colorway": [
           "#636efa",
           "#EF553B",
           "#00cc96",
           "#ab63fa",
           "#FFA15A",
           "#19d3f3",
           "#FF6692",
           "#B6E880",
           "#FF97FF",
           "#FECB52"
          ],
          "font": {
           "color": "#2a3f5f"
          },
          "geo": {
           "bgcolor": "white",
           "lakecolor": "white",
           "landcolor": "#E5ECF6",
           "showlakes": true,
           "showland": true,
           "subunitcolor": "white"
          },
          "hoverlabel": {
           "align": "left"
          },
          "hovermode": "closest",
          "mapbox": {
           "style": "light"
          },
          "paper_bgcolor": "white",
          "plot_bgcolor": "#E5ECF6",
          "polar": {
           "angularaxis": {
            "gridcolor": "white",
            "linecolor": "white",
            "ticks": ""
           },
           "bgcolor": "#E5ECF6",
           "radialaxis": {
            "gridcolor": "white",
            "linecolor": "white",
            "ticks": ""
           }
          },
          "scene": {
           "xaxis": {
            "backgroundcolor": "#E5ECF6",
            "gridcolor": "white",
            "gridwidth": 2,
            "linecolor": "white",
            "showbackground": true,
            "ticks": "",
            "zerolinecolor": "white"
           },
           "yaxis": {
            "backgroundcolor": "#E5ECF6",
            "gridcolor": "white",
            "gridwidth": 2,
            "linecolor": "white",
            "showbackground": true,
            "ticks": "",
            "zerolinecolor": "white"
           },
           "zaxis": {
            "backgroundcolor": "#E5ECF6",
            "gridcolor": "white",
            "gridwidth": 2,
            "linecolor": "white",
            "showbackground": true,
            "ticks": "",
            "zerolinecolor": "white"
           }
          },
          "shapedefaults": {
           "line": {
            "color": "#2a3f5f"
           }
          },
          "ternary": {
           "aaxis": {
            "gridcolor": "white",
            "linecolor": "white",
            "ticks": ""
           },
           "baxis": {
            "gridcolor": "white",
            "linecolor": "white",
            "ticks": ""
           },
           "bgcolor": "#E5ECF6",
           "caxis": {
            "gridcolor": "white",
            "linecolor": "white",
            "ticks": ""
           }
          },
          "title": {
           "x": 0.05
          },
          "xaxis": {
           "automargin": true,
           "gridcolor": "white",
           "linecolor": "white",
           "ticks": "",
           "zerolinecolor": "white",
           "zerolinewidth": 2
          },
          "yaxis": {
           "automargin": true,
           "gridcolor": "white",
           "linecolor": "white",
           "ticks": "",
           "zerolinecolor": "white",
           "zerolinewidth": 2
          }
         }
        }
       }
      },
      "text/html": [
       "<div>\n",
       "        \n",
       "        \n",
       "            <div id=\"8d91b81c-0608-4d7a-b2a4-92987ec28055\" class=\"plotly-graph-div\" style=\"height:600px; width:100%;\"></div>\n",
       "            <script type=\"text/javascript\">\n",
       "                require([\"plotly\"], function(Plotly) {\n",
       "                    window.PLOTLYENV=window.PLOTLYENV || {};\n",
       "                    \n",
       "                if (document.getElementById(\"8d91b81c-0608-4d7a-b2a4-92987ec28055\")) {\n",
       "                    Plotly.newPlot(\n",
       "                        '8d91b81c-0608-4d7a-b2a4-92987ec28055',\n",
       "                        [{\"mode\": \"lines+markers\", \"name\": \"('ageb', nan, 'area', 'zm')\", \"type\": \"scatter\", \"x\": [\"zm33\", \"zm20\", \"zm39\", \"zm59\", \"zm54\", \"zm58\", \"zm19\", \"zm16\", \"zm48\", \"zm35\", \"zm23\", \"zm40\", \"zm41\", \"zm53\", \"zm17\", \"zm26\", \"zm50\", \"zm49\", \"zm42\", \"zm30\", \"zm52\", \"zm37\", \"zm22\", \"zm7\", \"zm6\", \"zm56\", \"zm12\", \"zm32\", \"zm46\", \"zm9\", \"zm36\", \"zm15\", \"zm18\", \"zm51\", \"zm43\", \"zm55\", \"zm10\", \"zm8\", \"zm29\", \"zm57\", \"zm24\", \"zm4\", \"zm28\", \"zm44\", \"zm5\", \"zm25\", \"zm47\", \"zm45\", \"zm1\", \"zm2\", \"zm38\", \"zm11\", \"zm3\", \"zm14\", \"zm27\", \"zm34\", \"zm31\", \"zm21\", \"zm13\"], \"y\": [4.541666666666667, 5.125, 6.666666666666667, 7.833333333333333, 10.041666666666666, 11.875, 11.875, 12.291666666666666, 15.166666666666666, 15.666666666666666, 15.791666666666666, 15.958333333333334, 16.75, 17.541666666666668, 18.958333333333332, 19.666666666666668, 19.791666666666668, 20.958333333333332, 21.0, 21.375, 23.0, 23.041666666666668, 23.5, 24.5, 25.333333333333332, 26.875, 27.083333333333332, 29.458333333333332, 29.625, 30.416666666666668, 32.458333333333336, 35.083333333333336, 35.958333333333336, 37.0, 37.125, 38.125, 38.25, 39.541666666666664, 40.166666666666664, 41.958333333333336, 42.375, 42.541666666666664, 45.125, 45.791666666666664, 46.333333333333336, 47.541666666666664, 49.666666666666664, 50.541666666666664, 56.25, 58.583333333333336, 59.291666666666664, 63.958333333333336, 67.04166666666667, 68.83333333333333, 69.0, 94.54166666666667, 157.16666666666666, 161.625, 195.0]}, {\"mode\": \"lines+markers\", \"name\": \"('ageb', nan, 'area', 'mun')\", \"type\": \"scatter\", \"x\": [\"zm33\", \"zm20\", \"zm39\", \"zm59\", \"zm54\", \"zm58\", \"zm19\", \"zm16\", \"zm48\", \"zm35\", \"zm23\", \"zm40\", \"zm41\", \"zm53\", \"zm17\", \"zm26\", \"zm50\", \"zm49\", \"zm42\", \"zm30\", \"zm52\", \"zm37\", \"zm22\", \"zm7\", \"zm6\", \"zm56\", \"zm12\", \"zm32\", \"zm46\", \"zm9\", \"zm36\", \"zm15\", \"zm18\", \"zm51\", \"zm43\", \"zm55\", \"zm10\", \"zm8\", \"zm29\", \"zm57\", \"zm24\", \"zm4\", \"zm28\", \"zm44\", \"zm5\", \"zm25\", \"zm47\", \"zm45\", \"zm1\", \"zm2\", \"zm38\", \"zm11\", \"zm3\", \"zm14\", \"zm27\", \"zm34\", \"zm31\", \"zm21\", \"zm13\"], \"y\": [14.833333333333334, 22.583333333333332, 7.75, 8.166666666666666, 10.0, 8.0, 18.25, 12.083333333333334, 23.75, 14.916666666666666, 10.75, 13.25, 21.541666666666668, 19.75, 22.416666666666668, 14.625, 48.125, 40.458333333333336, 34.958333333333336, 23.708333333333332, 25.875, 26.291666666666668, 23.291666666666668, 26.916666666666668, 35.208333333333336, 29.0, 29.125, 51.708333333333336, 62.333333333333336, 16.0, 37.333333333333336, 9.0, 46.958333333333336, 28.25, 46.416666666666664, 48.083333333333336, 44.75, 45.333333333333336, 40.75, 36.708333333333336, 65.5, 69.41666666666667, 68.75, 41.583333333333336, 53.833333333333336, 52.083333333333336, 56.125, 49.166666666666664, 43.208333333333336, 69.875, 62.541666666666664, 63.666666666666664, 41.291666666666664, 63.541666666666664, 16.375, 179.41666666666666, 265.6666666666667, 205.54166666666666, 839.125]}, {\"mode\": \"lines+markers\", \"name\": \"('ageb', nan, 'pop', 'zm')\", \"type\": \"scatter\", \"x\": [\"zm33\", \"zm20\", \"zm39\", \"zm59\", \"zm54\", \"zm58\", \"zm19\", \"zm16\", \"zm48\", \"zm35\", \"zm23\", \"zm40\", \"zm41\", \"zm53\", \"zm17\", \"zm26\", \"zm50\", \"zm49\", \"zm42\", \"zm30\", \"zm52\", \"zm37\", \"zm22\", \"zm7\", \"zm6\", \"zm56\", \"zm12\", \"zm32\", \"zm46\", \"zm9\", \"zm36\", \"zm15\", \"zm18\", \"zm51\", \"zm43\", \"zm55\", \"zm10\", \"zm8\", \"zm29\", \"zm57\", \"zm24\", \"zm4\", \"zm28\", \"zm44\", \"zm5\", \"zm25\", \"zm47\", \"zm45\", \"zm1\", \"zm2\", \"zm38\", \"zm11\", \"zm3\", \"zm14\", \"zm27\", \"zm34\", \"zm31\", \"zm21\", \"zm13\"], \"y\": [27.0, 23.875, 10.625, 12.458333333333334, 8.083333333333334, 14.25, 24.708333333333332, 17.291666666666668, 17.583333333333332, 28.208333333333332, 17.75, 21.291666666666668, 25.541666666666668, 18.5, 36.875, 23.083333333333332, 35.625, 22.75, 34.791666666666664, 37.166666666666664, 20.708333333333332, 45.041666666666664, 31.791666666666668, 41.083333333333336, 59.291666666666664, 48.833333333333336, 70.0, 34.333333333333336, 64.45833333333333, 27.458333333333332, 53.833333333333336, 19.833333333333332, 51.333333333333336, 34.166666666666664, 41.208333333333336, 63.375, 45.666666666666664, 36.75, 33.291666666666664, 45.583333333333336, 53.708333333333336, 78.25, 63.166666666666664, 51.083333333333336, 56.666666666666664, 49.541666666666664, 52.791666666666664, 45.916666666666664, 77.625, 58.458333333333336, 83.29166666666667, 94.75, 64.91666666666667, 82.29166666666667, 38.333333333333336, 110.0, 155.625, 134.95833333333334, 327.5416666666667]}, {\"mode\": \"lines+markers\", \"name\": \"('ageb', nan, 'pop', 'mun')\", \"type\": \"scatter\", \"x\": [\"zm33\", \"zm20\", \"zm39\", \"zm59\", \"zm54\", \"zm58\", \"zm19\", \"zm16\", \"zm48\", \"zm35\", \"zm23\", \"zm40\", \"zm41\", \"zm53\", \"zm17\", \"zm26\", \"zm50\", \"zm49\", \"zm42\", \"zm30\", \"zm52\", \"zm37\", \"zm22\", \"zm7\", \"zm6\", \"zm56\", \"zm12\", \"zm32\", \"zm46\", \"zm9\", \"zm36\", \"zm15\", \"zm18\", \"zm51\", \"zm43\", \"zm55\", \"zm10\", \"zm8\", \"zm29\", \"zm57\", \"zm24\", \"zm4\", \"zm28\", \"zm44\", \"zm5\", \"zm25\", \"zm47\", \"zm45\", \"zm1\", \"zm2\", \"zm38\", \"zm11\", \"zm3\", \"zm14\", \"zm27\", \"zm34\", \"zm31\", \"zm21\", \"zm13\"], \"y\": [34.083333333333336, 24.958333333333332, 12.75, 12.166666666666666, 12.875, 8.625, 26.875, 14.875, 25.875, 26.833333333333332, 17.041666666666668, 26.666666666666668, 28.333333333333332, 23.25, 41.0, 31.833333333333332, 57.458333333333336, 46.791666666666664, 49.083333333333336, 41.166666666666664, 27.791666666666668, 59.541666666666664, 40.291666666666664, 51.791666666666664, 67.75, 53.625, 74.08333333333333, 60.083333333333336, 85.16666666666667, 35.375, 56.0, 15.666666666666666, 73.04166666666667, 37.958333333333336, 54.541666666666664, 73.625, 62.083333333333336, 47.791666666666664, 46.833333333333336, 42.833333333333336, 80.91666666666667, 112.91666666666667, 100.75, 48.791666666666664, 62.958333333333336, 54.083333333333336, 64.08333333333333, 44.166666666666664, 82.0, 84.33333333333333, 97.58333333333333, 93.875, 53.291666666666664, 85.375, 23.708333333333332, 198.54166666666666, 266.3333333333333, 243.83333333333334, 1162.4166666666667]}, {\"mode\": \"lines+markers\", \"name\": \"('g', '1', 'area', 'zm')\", \"type\": \"scatter\", \"x\": [\"zm33\", \"zm20\", \"zm39\", \"zm59\", \"zm54\", \"zm58\", \"zm19\", \"zm16\", \"zm48\", \"zm35\", \"zm23\", \"zm40\", \"zm41\", \"zm53\", \"zm17\", \"zm26\", \"zm50\", \"zm49\", \"zm42\", \"zm30\", \"zm52\", \"zm37\", \"zm22\", \"zm7\", \"zm6\", \"zm56\", \"zm12\", \"zm32\", \"zm46\", \"zm9\", \"zm36\", \"zm15\", \"zm18\", \"zm51\", \"zm43\", \"zm55\", \"zm10\", \"zm8\", \"zm29\", \"zm57\", \"zm24\", \"zm4\", \"zm28\", \"zm44\", \"zm5\", \"zm25\", \"zm47\", \"zm45\", \"zm1\", \"zm2\", \"zm38\", \"zm11\", \"zm3\", \"zm14\", \"zm27\", \"zm34\", \"zm31\", \"zm21\", \"zm13\"], \"y\": [13.458333333333334, 51.291666666666664, 24.083333333333332, 22.916666666666668, 14.375, 33.541666666666664, 21.0, 30.5, 12.375, 16.958333333333332, 28.625, 36.458333333333336, 27.125, 11.875, 23.083333333333332, 17.083333333333332, 22.5, 15.833333333333334, 20.875, 19.875, 18.208333333333332, 27.625, 22.416666666666668, 26.5, 39.958333333333336, 17.166666666666668, 49.5, 17.625, 56.625, 58.083333333333336, 39.666666666666664, 139.58333333333334, 40.208333333333336, 35.875, 55.5, 51.25, 17.458333333333332, 23.875, 98.54166666666667, 27.166666666666668, 42.333333333333336, 62.791666666666664, 46.25, 25.416666666666668, 31.5, 26.0, 31.125, 30.666666666666668, 40.458333333333336, 52.541666666666664, 42.916666666666664, 72.25, 71.58333333333333, 55.583333333333336, 514.0833333333334, 85.25, 88.95833333333333, 106.16666666666667, 245.75]}, {\"mode\": \"lines+markers\", \"name\": \"('g', '1', 'area', 'mun')\", \"type\": \"scatter\", \"x\": [\"zm33\", \"zm20\", \"zm39\", \"zm59\", \"zm54\", \"zm58\", \"zm19\", \"zm16\", \"zm48\", \"zm35\", \"zm23\", \"zm40\", \"zm41\", \"zm53\", \"zm17\", \"zm26\", \"zm50\", \"zm49\", \"zm42\", \"zm30\", \"zm52\", \"zm37\", \"zm22\", \"zm7\", \"zm6\", \"zm56\", \"zm12\", \"zm32\", \"zm46\", \"zm9\", \"zm36\", \"zm15\", \"zm18\", \"zm51\", \"zm43\", \"zm55\", \"zm10\", \"zm8\", \"zm29\", \"zm57\", \"zm24\", \"zm4\", \"zm28\", \"zm44\", \"zm5\", \"zm25\", \"zm47\", \"zm45\", \"zm1\", \"zm2\", \"zm38\", \"zm11\", \"zm3\", \"zm14\", \"zm27\", \"zm34\", \"zm31\", \"zm21\", \"zm13\"], \"y\": [12.125, 50.166666666666664, 20.458333333333332, 11.0, 8.0, 15.0, 24.5, 12.833333333333334, 20.958333333333332, 19.833333333333332, 7.583333333333333, 15.875, 19.958333333333332, 17.333333333333332, 22.25, 9.875, 42.541666666666664, 35.625, 31.5, 16.375, 18.125, 22.875, 24.25, 26.041666666666668, 31.0, 17.25, 40.958333333333336, 76.25, 165.75, 14.0, 37.708333333333336, 13.958333333333334, 64.5, 35.166666666666664, 43.458333333333336, 62.333333333333336, 25.708333333333332, 28.708333333333332, 49.916666666666664, 30.75, 104.29166666666667, 62.916666666666664, 80.58333333333333, 19.083333333333332, 34.541666666666664, 23.666666666666668, 34.166666666666664, 24.708333333333332, 34.583333333333336, 60.541666666666664, 42.166666666666664, 65.0, 29.208333333333332, 51.125, 27.125, 275.375, 239.5, 155.08333333333334, 884.125]}, {\"mode\": \"lines+markers\", \"name\": \"('g', '1', 'pop', 'zm')\", \"type\": \"scatter\", \"x\": [\"zm33\", \"zm20\", \"zm39\", \"zm59\", \"zm54\", \"zm58\", \"zm19\", \"zm16\", \"zm48\", \"zm35\", \"zm23\", \"zm40\", \"zm41\", \"zm53\", \"zm17\", \"zm26\", \"zm50\", \"zm49\", \"zm42\", \"zm30\", \"zm52\", \"zm37\", \"zm22\", \"zm7\", \"zm6\", \"zm56\", \"zm12\", \"zm32\", \"zm46\", \"zm9\", \"zm36\", \"zm15\", \"zm18\", \"zm51\", \"zm43\", \"zm55\", \"zm10\", \"zm8\", \"zm29\", \"zm57\", \"zm24\", \"zm4\", \"zm28\", \"zm44\", \"zm5\", \"zm25\", \"zm47\", \"zm45\", \"zm1\", \"zm2\", \"zm38\", \"zm11\", \"zm3\", \"zm14\", \"zm27\", \"zm34\", \"zm31\", \"zm21\", \"zm13\"], \"y\": [13.083333333333334, 26.333333333333332, 13.333333333333334, 9.041666666666666, 7.125, 21.708333333333332, 10.125, 8.458333333333334, 13.833333333333334, 13.875, 10.166666666666666, 13.666666666666666, 23.416666666666668, 12.75, 21.083333333333332, 11.916666666666666, 15.833333333333334, 12.166666666666666, 21.75, 22.166666666666668, 20.583333333333332, 26.041666666666668, 18.958333333333332, 22.875, 29.041666666666668, 18.166666666666668, 52.875, 20.625, 35.708333333333336, 11.041666666666666, 40.791666666666664, 22.166666666666668, 30.5, 23.541666666666668, 41.958333333333336, 53.583333333333336, 18.5, 21.125, 24.458333333333332, 27.458333333333332, 45.75, 60.375, 34.416666666666664, 24.083333333333332, 30.458333333333332, 28.291666666666668, 32.333333333333336, 26.958333333333332, 39.666666666666664, 51.333333333333336, 45.083333333333336, 61.25, 48.875, 52.958333333333336, 26.625, 79.25, 110.75, 92.875, 229.375]}, {\"mode\": \"lines+markers\", \"name\": \"('g', '1', 'pop', 'mun')\", \"type\": \"scatter\", \"x\": [\"zm33\", \"zm20\", \"zm39\", \"zm59\", \"zm54\", \"zm58\", \"zm19\", \"zm16\", \"zm48\", \"zm35\", \"zm23\", \"zm40\", \"zm41\", \"zm53\", \"zm17\", \"zm26\", \"zm50\", \"zm49\", \"zm42\", \"zm30\", \"zm52\", \"zm37\", \"zm22\", \"zm7\", \"zm6\", \"zm56\", \"zm12\", \"zm32\", \"zm46\", \"zm9\", \"zm36\", \"zm15\", \"zm18\", \"zm51\", \"zm43\", \"zm55\", \"zm10\", \"zm8\", \"zm29\", \"zm57\", \"zm24\", \"zm4\", \"zm28\", \"zm44\", \"zm5\", \"zm25\", \"zm47\", \"zm45\", \"zm1\", \"zm2\", \"zm38\", \"zm11\", \"zm3\", \"zm14\", \"zm27\", \"zm34\", \"zm31\", \"zm21\", \"zm13\"], \"y\": [17.375, 42.208333333333336, 16.0, 9.833333333333334, 9.0, 10.666666666666666, 20.25, 9.875, 23.375, 18.375, 11.416666666666666, 16.125, 22.208333333333332, 23.25, 27.791666666666668, 14.583333333333334, 41.708333333333336, 28.0, 34.791666666666664, 23.666666666666668, 23.375, 29.291666666666668, 23.625, 27.25, 34.75, 20.458333333333332, 58.75, 68.75, 106.45833333333333, 15.333333333333334, 46.0, 16.125, 49.75, 37.541666666666664, 47.083333333333336, 65.91666666666667, 27.958333333333332, 28.791666666666668, 44.541666666666664, 32.875, 95.625, 76.16666666666667, 76.79166666666667, 23.125, 39.791666666666664, 33.916666666666664, 42.166666666666664, 25.791666666666668, 44.958333333333336, 69.625, 46.166666666666664, 60.75, 40.166666666666664, 55.916666666666664, 14.875, 249.0, 218.0, 167.33333333333334, 821.9583333333334]}, {\"mode\": \"lines+markers\", \"name\": \"('g', '2', 'area', 'zm')\", \"type\": \"scatter\", \"x\": [\"zm33\", \"zm20\", \"zm39\", \"zm59\", \"zm54\", \"zm58\", \"zm19\", \"zm16\", \"zm48\", \"zm35\", \"zm23\", \"zm40\", \"zm41\", \"zm53\", \"zm17\", \"zm26\", \"zm50\", \"zm49\", \"zm42\", \"zm30\", \"zm52\", \"zm37\", \"zm22\", \"zm7\", \"zm6\", \"zm56\", \"zm12\", \"zm32\", \"zm46\", \"zm9\", \"zm36\", \"zm15\", \"zm18\", \"zm51\", \"zm43\", \"zm55\", \"zm10\", \"zm8\", \"zm29\", \"zm57\", \"zm24\", \"zm4\", \"zm28\", \"zm44\", \"zm5\", \"zm25\", \"zm47\", \"zm45\", \"zm1\", \"zm2\", \"zm38\", \"zm11\", \"zm3\", \"zm14\", \"zm27\", \"zm34\", \"zm31\", \"zm21\", \"zm13\"], \"y\": [7.041666666666667, 16.833333333333332, 7.666666666666667, 8.958333333333334, 3.2083333333333335, 14.708333333333334, 12.416666666666666, 11.166666666666666, 5.708333333333333, 4.458333333333333, 9.208333333333334, 9.583333333333334, 8.458333333333334, 4.833333333333333, 8.458333333333334, 6.416666666666667, 7.5, 5.291666666666667, 9.416666666666666, 8.791666666666666, 7.166666666666667, 9.75, 8.666666666666666, 7.291666666666667, 10.5, 8.0, 16.25, 6.416666666666667, 15.25, 18.333333333333332, 15.041666666666666, 34.583333333333336, 12.5, 14.583333333333334, 15.458333333333334, 17.583333333333332, 6.875, 10.291666666666666, 25.875, 10.208333333333334, 13.125, 21.541666666666668, 13.041666666666666, 13.291666666666666, 15.166666666666666, 10.416666666666666, 11.958333333333334, 12.833333333333334, 13.625, 17.291666666666668, 15.875, 28.625, 20.583333333333332, 18.75, 128.16666666666666, 27.208333333333332, 37.208333333333336, 41.041666666666664, 84.41666666666667]}, {\"mode\": \"lines+markers\", \"name\": \"('g', '2', 'area', 'mun')\", \"type\": \"scatter\", \"x\": [\"zm33\", \"zm20\", \"zm39\", \"zm59\", \"zm54\", \"zm58\", \"zm19\", \"zm16\", \"zm48\", \"zm35\", \"zm23\", \"zm40\", \"zm41\", \"zm53\", \"zm17\", \"zm26\", \"zm50\", \"zm49\", \"zm42\", \"zm30\", \"zm52\", \"zm37\", \"zm22\", \"zm7\", \"zm6\", \"zm56\", \"zm12\", \"zm32\", \"zm46\", \"zm9\", \"zm36\", \"zm15\", \"zm18\", \"zm51\", \"zm43\", \"zm55\", \"zm10\", \"zm8\", \"zm29\", \"zm57\", \"zm24\", \"zm4\", \"zm28\", \"zm44\", \"zm5\", \"zm25\", \"zm47\", \"zm45\", \"zm1\", \"zm2\", \"zm38\", \"zm11\", \"zm3\", \"zm14\", \"zm27\", \"zm34\", \"zm31\", \"zm21\", \"zm13\"], \"y\": [8.125, 11.416666666666666, 5.0, 2.0, 1.0, 6.0, 10.458333333333334, 3.0, 10.208333333333334, 5.958333333333333, 4.833333333333333, 4.041666666666667, 7.25, 9.125, 11.583333333333334, 5.083333333333333, 10.083333333333334, 8.0, 14.125, 4.916666666666667, 5.125, 7.5, 9.75, 7.5, 9.708333333333334, 4.083333333333333, 14.458333333333334, 12.5, 43.083333333333336, 2.0, 14.0, 3.2916666666666665, 22.333333333333332, 5.208333333333333, 13.5, 20.5, 9.375, 9.333333333333334, 16.625, 9.708333333333334, 34.833333333333336, 22.541666666666668, 29.291666666666668, 9.958333333333334, 16.0, 9.291666666666666, 11.208333333333334, 10.25, 10.458333333333334, 19.791666666666668, 14.75, 25.583333333333332, 8.0, 17.791666666666668, 9.125, 91.25, 81.625, 58.666666666666664, 293.3333333333333]}, {\"mode\": \"lines+markers\", \"name\": \"('g', '2', 'pop', 'zm')\", \"type\": \"scatter\", \"x\": [\"zm33\", \"zm20\", \"zm39\", \"zm59\", \"zm54\", \"zm58\", \"zm19\", \"zm16\", \"zm48\", \"zm35\", \"zm23\", \"zm40\", \"zm41\", \"zm53\", \"zm17\", \"zm26\", \"zm50\", \"zm49\", \"zm42\", \"zm30\", \"zm52\", \"zm37\", \"zm22\", \"zm7\", \"zm6\", \"zm56\", \"zm12\", \"zm32\", \"zm46\", \"zm9\", \"zm36\", \"zm15\", \"zm18\", \"zm51\", \"zm43\", \"zm55\", \"zm10\", \"zm8\", \"zm29\", \"zm57\", \"zm24\", \"zm4\", \"zm28\", \"zm44\", \"zm5\", \"zm25\", \"zm47\", \"zm45\", \"zm1\", \"zm2\", \"zm38\", \"zm11\", \"zm3\", \"zm14\", \"zm27\", \"zm34\", \"zm31\", \"zm21\", \"zm13\"], \"y\": [4.0, 15.208333333333334, 4.583333333333333, 3.1666666666666665, 3.0, 9.541666666666666, 4.583333333333333, 2.25, 5.666666666666667, 4.333333333333333, 4.708333333333333, 8.916666666666666, 7.333333333333333, 4.416666666666667, 8.25, 5.208333333333333, 6.666666666666667, 4.333333333333333, 9.833333333333334, 7.875, 6.541666666666667, 9.625, 7.625, 7.958333333333333, 10.833333333333334, 7.166666666666667, 15.958333333333334, 7.5, 11.666666666666666, 4.625, 15.458333333333334, 6.75, 9.75, 10.333333333333334, 13.0, 18.333333333333332, 7.5, 8.833333333333334, 16.666666666666668, 10.458333333333334, 14.75, 21.083333333333332, 12.833333333333334, 12.541666666666666, 14.208333333333334, 10.5, 11.5, 12.541666666666666, 13.958333333333334, 18.0, 16.375, 28.583333333333332, 16.333333333333332, 18.375, 9.375, 26.875, 41.375, 40.416666666666664, 82.95833333333333]}, {\"mode\": \"lines+markers\", \"name\": \"('g', '2', 'pop', 'mun')\", \"type\": \"scatter\", \"x\": [\"zm33\", \"zm20\", \"zm39\", \"zm59\", \"zm54\", \"zm58\", \"zm19\", \"zm16\", \"zm48\", \"zm35\", \"zm23\", \"zm40\", \"zm41\", \"zm53\", \"zm17\", \"zm26\", \"zm50\", \"zm49\", \"zm42\", \"zm30\", \"zm52\", \"zm37\", \"zm22\", \"zm7\", \"zm6\", \"zm56\", \"zm12\", \"zm32\", \"zm46\", \"zm9\", \"zm36\", \"zm15\", \"zm18\", \"zm51\", \"zm43\", \"zm55\", \"zm10\", \"zm8\", \"zm29\", \"zm57\", \"zm24\", \"zm4\", \"zm28\", \"zm44\", \"zm5\", \"zm25\", \"zm47\", \"zm45\", \"zm1\", \"zm2\", \"zm38\", \"zm11\", \"zm3\", \"zm14\", \"zm27\", \"zm34\", \"zm31\", \"zm21\", \"zm13\"], \"y\": [7.958333333333333, 13.708333333333334, 5.541666666666667, 2.0, 2.0, 4.0, 8.625, 1.625, 9.916666666666666, 5.333333333333333, 6.0, 9.75, 8.0, 11.666666666666666, 13.541666666666666, 5.666666666666667, 12.291666666666666, 7.0, 14.75, 6.666666666666667, 5.791666666666667, 11.041666666666666, 9.916666666666666, 8.791666666666666, 14.208333333333334, 7.458333333333333, 20.0, 10.708333333333334, 32.166666666666664, 3.0, 17.958333333333332, 5.0, 18.25, 9.333333333333334, 16.25, 20.708333333333332, 10.625, 11.208333333333334, 16.708333333333332, 11.75, 39.416666666666664, 25.041666666666668, 30.791666666666668, 11.791666666666666, 18.75, 14.291666666666666, 13.625, 12.0, 15.208333333333334, 24.583333333333332, 17.041666666666668, 28.291666666666668, 13.291666666666666, 18.833333333333332, 6.041666666666667, 83.25, 85.29166666666667, 66.91666666666667, 304.2083333333333]}, {\"mode\": \"lines+markers\", \"name\": \"('idw10', '1', nan, 'zm')\", \"type\": \"scatter\", \"x\": [\"zm33\", \"zm20\", \"zm39\", \"zm59\", \"zm54\", \"zm58\", \"zm19\", \"zm16\", \"zm48\", \"zm35\", \"zm23\", \"zm40\", \"zm41\", \"zm53\", \"zm17\", \"zm26\", \"zm50\", \"zm49\", \"zm42\", \"zm30\", \"zm52\", \"zm37\", \"zm22\", \"zm7\", \"zm6\", \"zm56\", \"zm12\", \"zm32\", \"zm46\", \"zm9\", \"zm36\", \"zm15\", \"zm18\", \"zm51\", \"zm43\", \"zm55\", \"zm10\", \"zm8\", \"zm29\", \"zm57\", \"zm24\", \"zm4\", \"zm28\", \"zm44\", \"zm5\", \"zm25\", \"zm47\", \"zm45\", \"zm1\", \"zm2\", \"zm38\", \"zm11\", \"zm3\", \"zm14\", \"zm27\", \"zm34\", \"zm31\", \"zm21\", \"zm13\"], \"y\": [90.66666666666667, 76.0, 115.875, 20.166666666666668, 38.666666666666664, 10.0, 64.875, 54.583333333333336, 35.25, 42.291666666666664, 68.125, 283.75, 172.0, 17.625, 134.33333333333334, 82.875, 63.625, 125.16666666666667, 42.75, 95.91666666666667, 63.083333333333336, 74.08333333333333, 123.04166666666667, 102.125, 158.58333333333334, 106.08333333333333, 96.25, 72.79166666666667, 60.208333333333336, 88.75, 82.29166666666667, 28.291666666666668, 156.45833333333334, 79.04166666666667, 138.33333333333334, 144.08333333333334, 68.625, 20.041666666666668, 142.66666666666666, 125.41666666666667, 97.25, 190.83333333333334, 63.958333333333336, 158.08333333333334, 170.75, 120.83333333333333, 84.0, 121.79166666666667, 100.70833333333333, 78.70833333333333, 44.541666666666664, 63.541666666666664, 103.20833333333333, 160.125, 131.95833333333334, 139.33333333333334, 203.125, 206.375, 114.83333333333333]}, {\"mode\": \"lines+markers\", \"name\": \"('idw10', '1', nan, 'mun')\", \"type\": \"scatter\", \"x\": [\"zm33\", \"zm20\", \"zm39\", \"zm59\", \"zm54\", \"zm58\", \"zm19\", \"zm16\", \"zm48\", \"zm35\", \"zm23\", \"zm40\", \"zm41\", \"zm53\", \"zm17\", \"zm26\", \"zm50\", \"zm49\", \"zm42\", \"zm30\", \"zm52\", \"zm37\", \"zm22\", \"zm7\", \"zm6\", \"zm56\", \"zm12\", \"zm32\", \"zm46\", \"zm9\", \"zm36\", \"zm15\", \"zm18\", \"zm51\", \"zm43\", \"zm55\", \"zm10\", \"zm8\", \"zm29\", \"zm57\", \"zm24\", \"zm4\", \"zm28\", \"zm44\", \"zm5\", \"zm25\", \"zm47\", \"zm45\", \"zm1\", \"zm2\", \"zm38\", \"zm11\", \"zm3\", \"zm14\", \"zm27\", \"zm34\", \"zm31\", \"zm21\", \"zm13\"], \"y\": [23.708333333333332, 94.04166666666667, 22.083333333333332, 15.708333333333334, 12.0, 9.0, 53.875, 17.625, 69.5, 29.166666666666668, 17.083333333333332, 47.291666666666664, 43.25, 42.458333333333336, 55.916666666666664, 38.25, 89.91666666666667, 53.041666666666664, 63.5, 34.041666666666664, 40.625, 39.541666666666664, 55.041666666666664, 38.291666666666664, 60.708333333333336, 50.291666666666664, 55.916666666666664, 151.375, 288.25, 21.041666666666668, 75.875, 20.0, 102.70833333333333, 83.75, 55.291666666666664, 104.0, 55.166666666666664, 33.916666666666664, 103.33333333333333, 59.333333333333336, 245.0, 116.04166666666667, 174.95833333333334, 41.916666666666664, 77.375, 65.29166666666667, 55.916666666666664, 58.75, 69.375, 81.0, 39.5, 36.041666666666664, 22.416666666666668, 91.25, 28.625, 594.25, 323.9583333333333, 261.0833333333333, 1284.0]}, {\"mode\": \"lines+markers\", \"name\": \"('idw10', '2', nan, 'zm')\", \"type\": \"scatter\", \"x\": [\"zm33\", \"zm20\", \"zm39\", \"zm59\", \"zm54\", \"zm58\", \"zm19\", \"zm16\", \"zm48\", \"zm35\", \"zm23\", \"zm40\", \"zm41\", \"zm53\", \"zm17\", \"zm26\", \"zm50\", \"zm49\", \"zm42\", \"zm30\", \"zm52\", \"zm37\", \"zm22\", \"zm7\", \"zm6\", \"zm56\", \"zm12\", \"zm32\", \"zm46\", \"zm9\", \"zm36\", \"zm15\", \"zm18\", \"zm51\", \"zm43\", \"zm55\", \"zm10\", \"zm8\", \"zm29\", \"zm57\", \"zm24\", \"zm4\", \"zm28\", \"zm44\", \"zm5\", \"zm25\", \"zm47\", \"zm45\", \"zm1\", \"zm2\", \"zm38\", \"zm11\", \"zm3\", \"zm14\", \"zm27\", \"zm34\", \"zm31\", \"zm21\", \"zm13\"], \"y\": [45.291666666666664, 21.333333333333332, 52.333333333333336, 7.166666666666667, 11.125, 11.0, 26.583333333333332, 12.041666666666666, 29.833333333333332, 17.541666666666668, 16.541666666666668, 46.541666666666664, 43.125, 16.583333333333332, 35.166666666666664, 35.833333333333336, 38.708333333333336, 35.0, 25.166666666666668, 22.875, 15.333333333333334, 49.583333333333336, 52.916666666666664, 48.583333333333336, 17.0, 42.625, 101.125, 26.875, 36.541666666666664, 36.25, 54.916666666666664, 21.0, 58.666666666666664, 73.875, 67.875, 52.083333333333336, 30.0, 44.625, 27.666666666666668, 45.083333333333336, 40.208333333333336, 57.208333333333336, 14.708333333333334, 54.375, 91.91666666666667, 32.25, 40.0, 42.875, 43.791666666666664, 56.208333333333336, 43.166666666666664, 76.58333333333333, 98.79166666666667, 37.416666666666664, 82.29166666666667, 81.625, 120.20833333333333, 62.875, 189.75]}, {\"mode\": \"lines+markers\", \"name\": \"('idw10', '2', nan, 'mun')\", \"type\": \"scatter\", \"x\": [\"zm33\", \"zm20\", \"zm39\", \"zm59\", \"zm54\", \"zm58\", \"zm19\", \"zm16\", \"zm48\", \"zm35\", \"zm23\", \"zm40\", \"zm41\", \"zm53\", \"zm17\", \"zm26\", \"zm50\", \"zm49\", \"zm42\", \"zm30\", \"zm52\", \"zm37\", \"zm22\", \"zm7\", \"zm6\", \"zm56\", \"zm12\", \"zm32\", \"zm46\", \"zm9\", \"zm36\", \"zm15\", \"zm18\", \"zm51\", \"zm43\", \"zm55\", \"zm10\", \"zm8\", \"zm29\", \"zm57\", \"zm24\", \"zm4\", \"zm28\", \"zm44\", \"zm5\", \"zm25\", \"zm47\", \"zm45\", \"zm1\", \"zm2\", \"zm38\", \"zm11\", \"zm3\", \"zm14\", \"zm27\", \"zm34\", \"zm31\", \"zm21\", \"zm13\"], \"y\": [16.666666666666668, 27.875, 12.625, 4.0, 3.0, 1.0, 24.458333333333332, 4.0, 29.666666666666668, 14.416666666666666, 11.0, 14.375, 17.708333333333332, 25.541666666666668, 21.666666666666668, 13.791666666666666, 27.083333333333332, 20.083333333333332, 33.75, 11.333333333333334, 9.666666666666666, 26.958333333333332, 19.75, 11.958333333333334, 18.791666666666668, 17.416666666666668, 50.166666666666664, 25.958333333333332, 107.5, 7.166666666666667, 20.5, 7.041666666666667, 53.166666666666664, 24.541666666666668, 30.125, 41.708333333333336, 23.875, 20.125, 33.833333333333336, 25.666666666666668, 95.08333333333333, 47.75, 55.791666666666664, 20.416666666666668, 35.916666666666664, 18.666666666666668, 28.583333333333332, 22.291666666666668, 26.625, 50.125, 33.916666666666664, 46.208333333333336, 12.583333333333334, 38.541666666666664, 14.75, 210.70833333333334, 131.41666666666666, 107.91666666666667, 559.0]}],\n",
       "                        {\"height\": 600, \"margin\": {\"b\": 10, \"l\": 10, \"r\": 100, \"t\": 10}, \"template\": {\"data\": {\"bar\": [{\"error_x\": {\"color\": \"#2a3f5f\"}, \"error_y\": {\"color\": \"#2a3f5f\"}, \"marker\": {\"line\": {\"color\": \"#E5ECF6\", \"width\": 0.5}}, \"type\": \"bar\"}], \"barpolar\": [{\"marker\": {\"line\": {\"color\": \"#E5ECF6\", \"width\": 0.5}}, \"type\": \"barpolar\"}], \"carpet\": [{\"aaxis\": {\"endlinecolor\": \"#2a3f5f\", \"gridcolor\": \"white\", \"linecolor\": \"white\", \"minorgridcolor\": \"white\", \"startlinecolor\": \"#2a3f5f\"}, \"baxis\": {\"endlinecolor\": \"#2a3f5f\", \"gridcolor\": \"white\", \"linecolor\": \"white\", \"minorgridcolor\": \"white\", \"startlinecolor\": \"#2a3f5f\"}, \"type\": \"carpet\"}], \"choropleth\": [{\"colorbar\": {\"outlinewidth\": 0, \"ticks\": \"\"}, \"type\": \"choropleth\"}], \"contour\": [{\"colorbar\": {\"outlinewidth\": 0, \"ticks\": \"\"}, \"colorscale\": [[0.0, \"#0d0887\"], [0.1111111111111111, \"#46039f\"], [0.2222222222222222, \"#7201a8\"], [0.3333333333333333, \"#9c179e\"], [0.4444444444444444, \"#bd3786\"], [0.5555555555555556, \"#d8576b\"], [0.6666666666666666, \"#ed7953\"], [0.7777777777777778, \"#fb9f3a\"], [0.8888888888888888, \"#fdca26\"], [1.0, \"#f0f921\"]], \"type\": \"contour\"}], \"contourcarpet\": [{\"colorbar\": {\"outlinewidth\": 0, \"ticks\": \"\"}, \"type\": \"contourcarpet\"}], \"heatmap\": [{\"colorbar\": {\"outlinewidth\": 0, \"ticks\": \"\"}, \"colorscale\": [[0.0, \"#0d0887\"], [0.1111111111111111, \"#46039f\"], [0.2222222222222222, \"#7201a8\"], [0.3333333333333333, \"#9c179e\"], [0.4444444444444444, \"#bd3786\"], [0.5555555555555556, \"#d8576b\"], [0.6666666666666666, \"#ed7953\"], [0.7777777777777778, \"#fb9f3a\"], [0.8888888888888888, \"#fdca26\"], [1.0, \"#f0f921\"]], \"type\": \"heatmap\"}], \"heatmapgl\": [{\"colorbar\": {\"outlinewidth\": 0, \"ticks\": \"\"}, \"colorscale\": [[0.0, \"#0d0887\"], [0.1111111111111111, \"#46039f\"], [0.2222222222222222, \"#7201a8\"], [0.3333333333333333, \"#9c179e\"], [0.4444444444444444, \"#bd3786\"], [0.5555555555555556, \"#d8576b\"], [0.6666666666666666, \"#ed7953\"], [0.7777777777777778, \"#fb9f3a\"], [0.8888888888888888, \"#fdca26\"], [1.0, \"#f0f921\"]], \"type\": \"heatmapgl\"}], \"histogram\": [{\"marker\": {\"colorbar\": {\"outlinewidth\": 0, \"ticks\": \"\"}}, \"type\": \"histogram\"}], \"histogram2d\": [{\"colorbar\": {\"outlinewidth\": 0, \"ticks\": \"\"}, \"colorscale\": [[0.0, \"#0d0887\"], [0.1111111111111111, \"#46039f\"], [0.2222222222222222, \"#7201a8\"], [0.3333333333333333, \"#9c179e\"], [0.4444444444444444, \"#bd3786\"], [0.5555555555555556, \"#d8576b\"], [0.6666666666666666, \"#ed7953\"], [0.7777777777777778, \"#fb9f3a\"], [0.8888888888888888, \"#fdca26\"], [1.0, \"#f0f921\"]], \"type\": \"histogram2d\"}], \"histogram2dcontour\": [{\"colorbar\": {\"outlinewidth\": 0, \"ticks\": \"\"}, \"colorscale\": [[0.0, \"#0d0887\"], [0.1111111111111111, \"#46039f\"], [0.2222222222222222, \"#7201a8\"], [0.3333333333333333, \"#9c179e\"], [0.4444444444444444, \"#bd3786\"], [0.5555555555555556, \"#d8576b\"], [0.6666666666666666, \"#ed7953\"], [0.7777777777777778, \"#fb9f3a\"], [0.8888888888888888, \"#fdca26\"], [1.0, \"#f0f921\"]], \"type\": \"histogram2dcontour\"}], \"mesh3d\": [{\"colorbar\": {\"outlinewidth\": 0, \"ticks\": \"\"}, \"type\": \"mesh3d\"}], \"parcoords\": [{\"line\": {\"colorbar\": {\"outlinewidth\": 0, \"ticks\": \"\"}}, \"type\": \"parcoords\"}], \"scatter\": [{\"marker\": {\"colorbar\": {\"outlinewidth\": 0, \"ticks\": \"\"}}, \"type\": \"scatter\"}], \"scatter3d\": [{\"line\": {\"colorbar\": {\"outlinewidth\": 0, \"ticks\": \"\"}}, \"marker\": {\"colorbar\": {\"outlinewidth\": 0, \"ticks\": \"\"}}, \"type\": \"scatter3d\"}], \"scattercarpet\": [{\"marker\": {\"colorbar\": {\"outlinewidth\": 0, \"ticks\": \"\"}}, \"type\": \"scattercarpet\"}], \"scattergeo\": [{\"marker\": {\"colorbar\": {\"outlinewidth\": 0, \"ticks\": \"\"}}, \"type\": \"scattergeo\"}], \"scattergl\": [{\"marker\": {\"colorbar\": {\"outlinewidth\": 0, \"ticks\": \"\"}}, \"type\": \"scattergl\"}], \"scattermapbox\": [{\"marker\": {\"colorbar\": {\"outlinewidth\": 0, \"ticks\": \"\"}}, \"type\": \"scattermapbox\"}], \"scatterpolar\": [{\"marker\": {\"colorbar\": {\"outlinewidth\": 0, \"ticks\": \"\"}}, \"type\": \"scatterpolar\"}], \"scatterpolargl\": [{\"marker\": {\"colorbar\": {\"outlinewidth\": 0, \"ticks\": \"\"}}, \"type\": \"scatterpolargl\"}], \"scatterternary\": [{\"marker\": {\"colorbar\": {\"outlinewidth\": 0, \"ticks\": \"\"}}, \"type\": \"scatterternary\"}], \"surface\": [{\"colorbar\": {\"outlinewidth\": 0, \"ticks\": \"\"}, \"colorscale\": [[0.0, \"#0d0887\"], [0.1111111111111111, \"#46039f\"], [0.2222222222222222, \"#7201a8\"], [0.3333333333333333, \"#9c179e\"], [0.4444444444444444, \"#bd3786\"], [0.5555555555555556, \"#d8576b\"], [0.6666666666666666, \"#ed7953\"], [0.7777777777777778, \"#fb9f3a\"], [0.8888888888888888, \"#fdca26\"], [1.0, \"#f0f921\"]], \"type\": \"surface\"}], \"table\": [{\"cells\": {\"fill\": {\"color\": \"#EBF0F8\"}, \"line\": {\"color\": \"white\"}}, \"header\": {\"fill\": {\"color\": \"#C8D4E3\"}, \"line\": {\"color\": \"white\"}}, \"type\": \"table\"}]}, \"layout\": {\"annotationdefaults\": {\"arrowcolor\": \"#2a3f5f\", \"arrowhead\": 0, \"arrowwidth\": 1}, \"colorscale\": {\"diverging\": [[0, \"#8e0152\"], [0.1, \"#c51b7d\"], [0.2, \"#de77ae\"], [0.3, \"#f1b6da\"], [0.4, \"#fde0ef\"], [0.5, \"#f7f7f7\"], [0.6, \"#e6f5d0\"], [0.7, \"#b8e186\"], [0.8, \"#7fbc41\"], [0.9, \"#4d9221\"], [1, \"#276419\"]], \"sequential\": [[0.0, \"#0d0887\"], [0.1111111111111111, \"#46039f\"], [0.2222222222222222, \"#7201a8\"], [0.3333333333333333, \"#9c179e\"], [0.4444444444444444, \"#bd3786\"], [0.5555555555555556, \"#d8576b\"], [0.6666666666666666, \"#ed7953\"], [0.7777777777777778, \"#fb9f3a\"], [0.8888888888888888, \"#fdca26\"], [1.0, \"#f0f921\"]], \"sequentialminus\": [[0.0, \"#0d0887\"], [0.1111111111111111, \"#46039f\"], [0.2222222222222222, \"#7201a8\"], [0.3333333333333333, \"#9c179e\"], [0.4444444444444444, \"#bd3786\"], [0.5555555555555556, \"#d8576b\"], [0.6666666666666666, \"#ed7953\"], [0.7777777777777778, \"#fb9f3a\"], [0.8888888888888888, \"#fdca26\"], [1.0, \"#f0f921\"]]}, \"colorway\": [\"#636efa\", \"#EF553B\", \"#00cc96\", \"#ab63fa\", \"#FFA15A\", \"#19d3f3\", \"#FF6692\", \"#B6E880\", \"#FF97FF\", \"#FECB52\"], \"font\": {\"color\": \"#2a3f5f\"}, \"geo\": {\"bgcolor\": \"white\", \"lakecolor\": \"white\", \"landcolor\": \"#E5ECF6\", \"showlakes\": true, \"showland\": true, \"subunitcolor\": \"white\"}, \"hoverlabel\": {\"align\": \"left\"}, \"hovermode\": \"closest\", \"mapbox\": {\"style\": \"light\"}, \"paper_bgcolor\": \"white\", \"plot_bgcolor\": \"#E5ECF6\", \"polar\": {\"angularaxis\": {\"gridcolor\": \"white\", \"linecolor\": \"white\", \"ticks\": \"\"}, \"bgcolor\": \"#E5ECF6\", \"radialaxis\": {\"gridcolor\": \"white\", \"linecolor\": \"white\", \"ticks\": \"\"}}, \"scene\": {\"xaxis\": {\"backgroundcolor\": \"#E5ECF6\", \"gridcolor\": \"white\", \"gridwidth\": 2, \"linecolor\": \"white\", \"showbackground\": true, \"ticks\": \"\", \"zerolinecolor\": \"white\"}, \"yaxis\": {\"backgroundcolor\": \"#E5ECF6\", \"gridcolor\": \"white\", \"gridwidth\": 2, \"linecolor\": \"white\", \"showbackground\": true, \"ticks\": \"\", \"zerolinecolor\": \"white\"}, \"zaxis\": {\"backgroundcolor\": \"#E5ECF6\", \"gridcolor\": \"white\", \"gridwidth\": 2, \"linecolor\": \"white\", \"showbackground\": true, \"ticks\": \"\", \"zerolinecolor\": \"white\"}}, \"shapedefaults\": {\"line\": {\"color\": \"#2a3f5f\"}}, \"ternary\": {\"aaxis\": {\"gridcolor\": \"white\", \"linecolor\": \"white\", \"ticks\": \"\"}, \"baxis\": {\"gridcolor\": \"white\", \"linecolor\": \"white\", \"ticks\": \"\"}, \"bgcolor\": \"#E5ECF6\", \"caxis\": {\"gridcolor\": \"white\", \"linecolor\": \"white\", \"ticks\": \"\"}}, \"title\": {\"x\": 0.05}, \"xaxis\": {\"automargin\": true, \"gridcolor\": \"white\", \"linecolor\": \"white\", \"ticks\": \"\", \"zerolinecolor\": \"white\", \"zerolinewidth\": 2}, \"yaxis\": {\"automargin\": true, \"gridcolor\": \"white\", \"linecolor\": \"white\", \"ticks\": \"\", \"zerolinecolor\": \"white\", \"zerolinewidth\": 2}}}},\n",
       "                        {\"responsive\": true}\n",
       "                    ).then(function(){\n",
       "                            \n",
       "var gd = document.getElementById('8d91b81c-0608-4d7a-b2a4-92987ec28055');\n",
       "var x = new MutationObserver(function (mutations, observer) {{\n",
       "        var display = window.getComputedStyle(gd).display;\n",
       "        if (!display || display === 'none') {{\n",
       "            console.log([gd, 'removed!']);\n",
       "            Plotly.purge(gd);\n",
       "            observer.disconnect();\n",
       "        }}\n",
       "}});\n",
       "\n",
       "// Listen for the removal of the full notebook cells\n",
       "var notebookContainer = gd.closest('#notebook-container');\n",
       "if (notebookContainer) {{\n",
       "    x.observe(notebookContainer, {childList: true});\n",
       "}}\n",
       "\n",
       "// Listen for the clearing of the current output cell\n",
       "var outputEl = gd.closest('.output');\n",
       "if (outputEl) {{\n",
       "    x.observe(outputEl, {childList: true});\n",
       "}}\n",
       "\n",
       "                        })\n",
       "                };\n",
       "                });\n",
       "            </script>\n",
       "        </div>"
      ]
     },
     "metadata": {},
     "output_type": "display_data"
    }
   ],
   "source": [
    "per_mun_str = lambda x: 'zm' if not x else 'mun'\n",
    "\n",
    "a = {('ageb', None, by, per_mun_str(per_mun)):cc for (by, per_mun), cc in n_hs_a.items() }\n",
    "g = {('g',str(side//1000),by,per_mun_str(per_mun)): cc for (side,by,per_mun), cc in n_hs_g.items()}\n",
    "idw = {('idw10', str(side//1000), None, per_mun_str(per_mun)): cc for (side,per_mun), cc in n_hs_idw.items()}\n",
    "\n",
    "Mean_number_hot = pd.DataFrame({\n",
    "**a, **g, **idw\n",
    "})\n",
    "sort_col = Mean_number_hot.columns[0]\n",
    "Mean_number_hot=Mean_number_hot.sort_values(sort_col)\n",
    "print(sort_col)\n",
    "\n",
    "draw_scatter(Mean_number_hot)"
   ]
  },
  {
   "cell_type": "code",
   "execution_count": null,
   "metadata": {},
   "outputs": [],
   "source": []
  }
 ],
 "metadata": {
  "kernelspec": {
   "display_name": "Python [conda env:mob2crime]",
   "language": "python",
   "name": "conda-env-mob2crime-py"
  },
  "language_info": {
   "codemirror_mode": {
    "name": "ipython",
    "version": 3
   },
   "file_extension": ".py",
   "mimetype": "text/x-python",
   "name": "python",
   "nbconvert_exporter": "python",
   "pygments_lexer": "ipython3",
   "version": "3.7.3"
  },
  "toc": {
   "base_numbering": 1,
   "nav_menu": {},
   "number_sections": true,
   "sideBar": true,
   "skip_h1_title": false,
   "title_cell": "Table of Contents",
   "title_sidebar": "Contents",
   "toc_cell": false,
   "toc_position": {},
   "toc_section_display": true,
   "toc_window_display": true
  }
 },
 "nbformat": 4,
 "nbformat_minor": 2
}
