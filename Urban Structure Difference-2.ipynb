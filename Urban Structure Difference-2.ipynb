{
 "cells": [
  {
   "cell_type": "code",
   "execution_count": 1,
   "metadata": {
    "ExecuteTime": {
     "end_time": "2019-11-04T19:41:43.078858Z",
     "start_time": "2019-11-04T19:41:43.062943Z"
    }
   },
   "outputs": [],
   "source": [
    "%load_ext autoreload\n",
    "%autoreload 2\n"
   ]
  },
  {
   "cell_type": "code",
   "execution_count": 2,
   "metadata": {
    "ExecuteTime": {
     "end_time": "2019-11-04T19:41:43.816728Z",
     "start_time": "2019-11-04T19:41:43.210171Z"
    }
   },
   "outputs": [],
   "source": [
    "import src.urban_diff_helper as ud_helper\n",
    "import pandas as pd\n",
    "from scipy.stats import wilcoxon,ttest_rel,kendalltau, spearmanr"
   ]
  },
  {
   "cell_type": "code",
   "execution_count": 3,
   "metadata": {
    "ExecuteTime": {
     "end_time": "2019-11-04T19:41:43.916952Z",
     "start_time": "2019-11-04T19:41:43.899857Z"
    }
   },
   "outputs": [],
   "source": [
    "import numpy as np"
   ]
  },
  {
   "cell_type": "code",
   "execution_count": 4,
   "metadata": {
    "ExecuteTime": {
     "end_time": "2019-11-04T19:41:44.570080Z",
     "start_time": "2019-11-04T19:41:44.548012Z"
    }
   },
   "outputs": [],
   "source": [
    "from IPython.display import display"
   ]
  },
  {
   "cell_type": "markdown",
   "metadata": {},
   "source": [
    "# load geometries"
   ]
  },
  {
   "cell_type": "code",
   "execution_count": 5,
   "metadata": {
    "ExecuteTime": {
     "end_time": "2019-11-04T19:45:28.680856Z",
     "start_time": "2019-11-04T19:42:03.863122Z"
    }
   },
   "outputs": [
    {
     "name": "stdout",
     "output_type": "stream",
     "text": [
      "loading zms\n",
      "loading agebs\n",
      "loading voronoi\n",
      "loading existing mexico tower voronoi file: data/mex_tw_intpl/voronoi.geojson\n",
      "==================== loading grids False False 2019-11-04 14:42:51.432993\n",
      "=====computing mpa_grids\n",
      "reading existing grids\n",
      "==================== loading grids False True 2019-11-04 14:44:37.708043\n",
      "loading existing file data/mexico/geography-socioeconomics/2010MetropolitanAreas/grids_500_whole_urb.geojson.gz\n",
      "==================== loading grids True False 2019-11-04 14:44:42.231241\n",
      "loading existing file data/mexico/geography-socioeconomics/2010MetropolitanAreas/grids_500_perMun_uNr.geojson.gz\n",
      "==================== loading grids True True 2019-11-04 14:45:23.732792\n",
      "loading existing file data/mexico/geography-socioeconomics/2010MetropolitanAreas/grids_500_perMun_urb.geojson.gz\n"
     ]
    }
   ],
   "source": [
    "zms, zms_agebs, zms_tvor, zms_grids, mg_mappings = ud_helper.load_geoms()"
   ]
  },
  {
   "cell_type": "markdown",
   "metadata": {},
   "source": [
    "# load interpolation and interpolate avg"
   ]
  },
  {
   "cell_type": "code",
   "execution_count": 6,
   "metadata": {
    "ExecuteTime": {
     "end_time": "2019-11-04T19:45:46.962193Z",
     "start_time": "2019-11-04T19:45:28.682711Z"
    }
   },
   "outputs": [
    {
     "name": "stdout",
     "output_type": "stream",
     "text": [
      "loading cached tw average stats/stat_tw_dow_aver_hr_uniq_user-out+in.pickle\n",
      "to_map_agebs loading existing file data/mex_tw_intpl/tower_to_mpa_agebs_by_area.csv\n",
      "to_map_agebs loading existing file data/mex_tw_intpl/tower_to_mpa_agebs_by_pop.csv\n",
      "to_map_grids loading existing file data/mex_tw_intpl/tower_to_mpa_g500_whole_uNr_area.csv\n",
      "to_map_grids loading existing file data/mex_tw_intpl/tower_to_mpa_g500_whole_urb_area.csv\n",
      "to_map_grids loading existing file data/mex_tw_intpl/tower_to_mpa_g500_perMun_uNr_area.csv\n",
      "to_map_grids loading existing file data/mex_tw_intpl/tower_to_mpa_g500_perMun_urb_area.csv\n",
      "to_map_grids loading existing file data/mex_tw_intpl/tower_to_mpa_g500_whole_uNr_pop.csv\n",
      "to_map_grids loading existing file data/mex_tw_intpl/tower_to_mpa_g500_whole_urb_pop.csv\n",
      "to_map_grids loading existing file data/mex_tw_intpl/tower_to_mpa_g500_perMun_uNr_pop.csv\n",
      "to_map_grids loading existing file data/mex_tw_intpl/tower_to_mpa_g500_perMun_urb_pop.csv\n",
      "interpolate_idw loading existing file data/mex_tw_intpl/interpolate_idw10_g500_whole_False.csv.gz\n",
      "interpolate_idw loading existing file data/mex_tw_intpl/interpolate_idw10_g500_whole_True.csv.gz\n",
      "interpolate_idw loading existing file data/mex_tw_intpl/interpolate_idw10_g500_perMun_False.csv.gz\n",
      "interpolate_idw loading existing file data/mex_tw_intpl/interpolate_idw10_g500_perMun_True.csv.gz\n"
     ]
    }
   ],
   "source": [
    "avg_tw, avg_a, avg_g, avg_idw = ud_helper.interpolation(zms_grids)"
   ]
  },
  {
   "cell_type": "markdown",
   "metadata": {},
   "source": [
    "# statistics test"
   ]
  },
  {
   "cell_type": "code",
   "execution_count": 7,
   "metadata": {
    "ExecuteTime": {
     "end_time": "2019-11-04T19:45:57.678513Z",
     "start_time": "2019-11-04T19:45:57.654409Z"
    }
   },
   "outputs": [],
   "source": [
    "def sig_lvl(x):\n",
    "    if x==-1 or x==0:\n",
    "        return '-'\n",
    "    if x <0.001:\n",
    "        return '***'\n",
    "    if x<0.01:\n",
    "        return '**'\n",
    "    if x<0.05:\n",
    "        return '*'\n",
    "    return ''"
   ]
  },
  {
   "cell_type": "code",
   "execution_count": 8,
   "metadata": {
    "ExecuteTime": {
     "end_time": "2019-11-04T19:45:59.643340Z",
     "start_time": "2019-11-04T19:45:59.607990Z"
    }
   },
   "outputs": [],
   "source": [
    "def statistics_test(test_func, stat_df, clean_table=False, larger_than=0.0):\n",
    "\n",
    "    n_cols = stat_df.shape[1]\n",
    "    p_values = np.zeros((n_cols, n_cols))\n",
    "    test_measures = np.ones((n_cols, n_cols))\n",
    "    for i in range(n_cols):\n",
    "        for j in range(i + 1, n_cols):\n",
    "            m, p = test_func(stat_df.iloc[:, i], stat_df.iloc[:, j])\n",
    "            p_values[i, j] = p_values[j, i] = p\n",
    "            test_measures[i, j] = test_measures[j, i] = m\n",
    "\n",
    "    \n",
    "    p_values = pd.DataFrame(p_values,\n",
    "                          index=stat_df.columns,\n",
    "                          columns=stat_df.columns)\n",
    "    test_measures[test_measures<=larger_than] = 0\n",
    "    test_measures = pd.DataFrame(test_measures,\n",
    "                          index=stat_df.columns,\n",
    "                          columns=stat_df.columns)\n",
    "    \n",
    "    if clean_table:\n",
    "        p_values = p_values.applymap(sig_lvl)\n",
    "#         test_measures = test_measures.applymap(lambda x: f'{x:.3f}')\n",
    "    return p_values, test_measures\n",
    "\n",
    "wilcoxon_test = lambda stat_df, clean_table, larger_than: statistics_test(wilcoxon, stat_df, clean_table, larger_than)\n",
    "paired_t_test = lambda stat_df, clean_table, larger_than: statistics_test(ttest_rel, stat_df, clean_table, larger_than)\n",
    "ken_tau_corr = lambda stat_df, clean_table, larger_than: statistics_test(kendalltau, stat_df, clean_table, larger_than)\n",
    "spe_rho_corr = lambda stat_df, clean_table, larger_than: statistics_test(spearmanr, stat_df, clean_table, larger_than)"
   ]
  },
  {
   "cell_type": "markdown",
   "metadata": {},
   "source": [
    "# draw function"
   ]
  },
  {
   "cell_type": "code",
   "execution_count": 9,
   "metadata": {
    "ExecuteTime": {
     "end_time": "2019-11-04T19:46:02.118988Z",
     "start_time": "2019-11-04T19:46:01.854604Z"
    }
   },
   "outputs": [
    {
     "data": {
      "text/html": [
       "        <script type=\"text/javascript\">\n",
       "        window.PlotlyConfig = {MathJaxConfig: 'local'};\n",
       "        if (window.MathJax) {MathJax.Hub.Config({SVG: {font: \"STIX-Web\"}});}\n",
       "        if (typeof require !== 'undefined') {\n",
       "        require.undef(\"plotly\");\n",
       "        requirejs.config({\n",
       "            paths: {\n",
       "                'plotly': ['https://cdn.plot.ly/plotly-latest.min']\n",
       "            }\n",
       "        });\n",
       "        require(['plotly'], function(Plotly) {\n",
       "            window._Plotly = Plotly;\n",
       "        });\n",
       "        }\n",
       "        </script>\n",
       "        "
      ]
     },
     "metadata": {},
     "output_type": "display_data"
    }
   ],
   "source": [
    "import plotly.offline as offline\n",
    "offline.init_notebook_mode(connected=True)\n",
    "import plotly.graph_objects as go"
   ]
  },
  {
   "cell_type": "code",
   "execution_count": 10,
   "metadata": {
    "ExecuteTime": {
     "end_time": "2019-11-04T19:46:02.138237Z",
     "start_time": "2019-11-04T19:46:02.120482Z"
    }
   },
   "outputs": [],
   "source": [
    "def draw_scatter(data_df, mode='lines+markers',height=600,margin_r=100):\n",
    "    \n",
    "    data = [\n",
    "        go.Scatter(x='zm' + data_df.index.astype(str),\n",
    "                   y=data_df[intpl_type].tolist(),\n",
    "                   name=str(intpl_type),\n",
    "                   mode='lines+markers'\n",
    "                  ) for intpl_type in data_df\n",
    "    ]\n",
    "    fig = go.Figure()\n",
    "    for trace in data:\n",
    "        fig.add_trace(trace)\n",
    "    fig.update_layout(height=height,margin=dict(l=10, r=margin_r, t=10, b=10),)\n",
    "\n",
    "    offline.iplot(fig)"
   ]
  },
  {
   "cell_type": "code",
   "execution_count": 11,
   "metadata": {
    "ExecuteTime": {
     "end_time": "2019-11-04T19:46:02.727953Z",
     "start_time": "2019-11-04T19:46:02.281120Z"
    }
   },
   "outputs": [],
   "source": [
    "import matplotlib.pyplot as plt\n",
    "from matplotlib import colors\n",
    "\n",
    "def background_gradient(s, m=None, M=None,  cmap='Oranges', low=0, high=0.2):\n",
    "\n",
    "    rng = M - m\n",
    "    norm = colors.Normalize(m - (rng * low),\n",
    "                            M + (rng * high))\n",
    "    normed = norm(s.values)\n",
    "    c = [colors.rgb2hex(x) for x in plt.cm.get_cmap(cmap)(normed)]\n",
    "    return ['background-color: %s' % color for color in c]\n"
   ]
  },
  {
   "cell_type": "code",
   "execution_count": 12,
   "metadata": {
    "ExecuteTime": {
     "end_time": "2019-11-04T19:46:02.747331Z",
     "start_time": "2019-11-04T19:46:02.729902Z"
    }
   },
   "outputs": [],
   "source": [
    "swap = lambda df, i, j: df.swaplevel(i,j).T.swaplevel(i,j).sort_index(level=range(len(df.columns.levels))).T.sort_index(level=range(len(df.columns.levels)))"
   ]
  },
  {
   "cell_type": "code",
   "execution_count": 13,
   "metadata": {
    "ExecuteTime": {
     "end_time": "2019-11-04T19:46:03.347566Z",
     "start_time": "2019-11-04T19:46:03.316929Z"
    }
   },
   "outputs": [],
   "source": [
    "from IPython.core.display import HTML "
   ]
  },
  {
   "cell_type": "code",
   "execution_count": 14,
   "metadata": {
    "ExecuteTime": {
     "end_time": "2019-11-04T19:46:04.092465Z",
     "start_time": "2019-11-04T19:46:04.055695Z"
    }
   },
   "outputs": [],
   "source": [
    "def grad_bg(df, cmap='Oranges', mini=None, maxi=None, high=0, mask_tril=False):\n",
    "    if mini is None:\n",
    "        mini = df.min().min()\n",
    "    if maxi is None:\n",
    "        maxi = df.max().max()\n",
    "    if mask_tril:\n",
    "        df = df.mask(np.tril(np.ones(df.shape, dtype=np.bool_),-1))\n",
    "    style= df.style.apply(background_gradient, m=mini, M=maxi, cmap=cmap, high=high).format(\"{:.3f}\").set_table_attributes(\"style='display:inline'\")\n",
    "    return HTML(style.render().replace('nan',''))"
   ]
  },
  {
   "cell_type": "markdown",
   "metadata": {
    "heading_collapsed": true
   },
   "source": [
    "# urban dilatation index"
   ]
  },
  {
   "cell_type": "code",
   "execution_count": 20,
   "metadata": {
    "ExecuteTime": {
     "end_time": "2019-10-30T13:41:41.136468Z",
     "start_time": "2019-10-30T13:33:50.732736Z"
    },
    "code_folding": [
     0
    ],
    "hidden": true
   },
   "outputs": [
    {
     "name": "stdout",
     "output_type": "stream",
     "text": [
      "computing dv_a\n",
      "computing dv_g\n",
      "computing dv_idw\n"
     ]
    }
   ],
   "source": [
    "# compute\n",
    "print('computing dv_a')\n",
    "dv_a = {}\n",
    "for by, avg in avg_a.items():\n",
    "    dv_a[by] = ud_helper.dilatation.dv_for_mpa_ageb(avg, zms, zms_agebs)\n",
    "\n",
    "print('computing dv_g')\n",
    "dv_g = {}\n",
    "for (side, by, per_mun), avg in avg_g.items():\n",
    "    zms_g = zms_grids[(side, per_mun)]\n",
    "    dv_g[(side, by, per_mun)] = ud_helper.dilatation.dv_for_mpa_grids(avg, zms, zms_g)\n",
    "\n",
    "print('computing dv_idw')\n",
    "dv_idw = {}\n",
    "for key, avg in avg_idw.items():\n",
    "    zms_g = zms_grids[key]\n",
    "    dv_idw[key] = ud_helper.dilatation.dv_for_mpa_grids(avg, zms, zms_g)"
   ]
  },
  {
   "cell_type": "code",
   "execution_count": 437,
   "metadata": {
    "ExecuteTime": {
     "end_time": "2019-10-31T13:37:28.979411Z",
     "start_time": "2019-10-31T13:37:28.928368Z"
    },
    "code_folding": [],
    "hidden": true
   },
   "outputs": [],
   "source": [
    "# flatten the dictionary of stats\n",
    "var = 'dilatation coefficient'\n",
    "a = {('ageb', 'area'):dv_a['area'][var], ('ageb', 'pop') : dv_a['pop'][var]}\n",
    "g= {(f'g{side//1000}', by, ):dv[var] for (side, by, per_mun), dv in dv_g.items() if not per_mun}\n",
    "idw= {(f'g{side//1000}','_idw') :dv[var] for (side, per_mun), dv in dv_idw.items() if not per_mun}\n",
    "dila_coef = pd.DataFrame({**a, **g, **idw})"
   ]
  },
  {
   "cell_type": "code",
   "execution_count": 278,
   "metadata": {
    "ExecuteTime": {
     "end_time": "2019-10-31T00:03:38.565562Z",
     "start_time": "2019-10-31T00:03:37.909445Z"
    },
    "cell_style": "center",
    "code_folding": [
     0
    ],
    "collapsed": true,
    "hidden": true
   },
   "outputs": [
    {
     "data": {
      "application/vnd.plotly.v1+json": {
       "config": {
        "linkText": "Export to plot.ly",
        "plotlyServerURL": "https://plot.ly",
        "showLink": false
       },
       "data": [
        {
         "mode": "lines+markers",
         "name": "('ageb', 'area')",
         "type": "scatter",
         "x": [
          "zm59",
          "zm16",
          "zm58",
          "zm26",
          "zm53",
          "zm52",
          "zm20",
          "zm32",
          "zm50",
          "zm35",
          "zm19",
          "zm46",
          "zm15",
          "zm54",
          "zm48",
          "zm29",
          "zm23",
          "zm57",
          "zm28",
          "zm18",
          "zm45",
          "zm9",
          "zm7",
          "zm56",
          "zm22",
          "zm55",
          "zm10",
          "zm33",
          "zm47",
          "zm14",
          "zm25",
          "zm38",
          "zm1",
          "zm27",
          "zm36",
          "zm30",
          "zm24",
          "zm41",
          "zm8",
          "zm34",
          "zm21",
          "zm49",
          "zm51",
          "zm37",
          "zm17",
          "zm39",
          "zm11",
          "zm2",
          "zm44",
          "zm43",
          "zm6",
          "zm4",
          "zm42",
          "zm31",
          "zm13",
          "zm40",
          "zm5",
          "zm3",
          "zm12"
         ],
         "y": [
          1.1225799347717136,
          1.1257383014630606,
          1.0164836972764526,
          1.1822931772610437,
          1.2020060769898704,
          1.114828490391267,
          1.0758694433482219,
          1.1641785805807336,
          1.239097812809723,
          1.1558040603402557,
          1.104590508882458,
          1.048024101103815,
          1.0954481230323267,
          1.0947655262389275,
          1.1148290940360537,
          1.0686671771411975,
          1.1946126695845476,
          1.1509827709437086,
          1.0853948865850924,
          1.1176425788979014,
          1.0762988377707141,
          1.0215381648762456,
          1.0980060478116607,
          1.1083090847516361,
          1.068399933546693,
          1.0988145194118537,
          1.1605749346222456,
          1.09308929905373,
          1.1067908244246776,
          1.3030370645473581,
          1.1641056287539426,
          1.070956041684813,
          1.1094403279431915,
          1.0632692170064633,
          1.1551120500110326,
          1.1707714357277146,
          1.108510770768311,
          1.1700827348322318,
          1.117149303644376,
          1.2159748333090963,
          1.11095965909408,
          1.100140599384561,
          1.0601678323901238,
          1.074366877676868,
          1.0616662331458728,
          1.4212505023884807,
          1.0988522201967847,
          1.0461838136045323,
          1.117396381332256,
          1.1185613722995746,
          1.1303169211631945,
          1.1153705947895174,
          1.1261118152508751,
          1.0686589077036237,
          1.1027201358986654,
          1.2988448274200475,
          1.2214944958489535,
          1.3560513983426057,
          1.1966105981772985
         ]
        },
        {
         "mode": "lines+markers",
         "name": "('ageb', 'pop')",
         "type": "scatter",
         "x": [
          "zm59",
          "zm16",
          "zm58",
          "zm26",
          "zm53",
          "zm52",
          "zm20",
          "zm32",
          "zm50",
          "zm35",
          "zm19",
          "zm46",
          "zm15",
          "zm54",
          "zm48",
          "zm29",
          "zm23",
          "zm57",
          "zm28",
          "zm18",
          "zm45",
          "zm9",
          "zm7",
          "zm56",
          "zm22",
          "zm55",
          "zm10",
          "zm33",
          "zm47",
          "zm14",
          "zm25",
          "zm38",
          "zm1",
          "zm27",
          "zm36",
          "zm30",
          "zm24",
          "zm41",
          "zm8",
          "zm34",
          "zm21",
          "zm49",
          "zm51",
          "zm37",
          "zm17",
          "zm39",
          "zm11",
          "zm2",
          "zm44",
          "zm43",
          "zm6",
          "zm4",
          "zm42",
          "zm31",
          "zm13",
          "zm40",
          "zm5",
          "zm3",
          "zm12"
         ],
         "y": [
          1.0675425483958394,
          1.414026562960785,
          1.2081527816488493,
          1.143308646624313,
          1.2345284474783316,
          1.1346604564120446,
          1.1024187345655057,
          1.1602005450097799,
          1.2495755372940784,
          1.2152843279188055,
          1.1240555032361659,
          1.0569494248627818,
          1.2187305733237703,
          1.0866904178868941,
          1.2913595202058634,
          1.046370757307155,
          1.4444713088030259,
          1.1467140727384666,
          1.0883309672222368,
          1.1840135708635664,
          1.224601960573599,
          1.075944478177469,
          1.202179047518072,
          1.1524943185719865,
          1.0687396176503814,
          1.0918734411168107,
          1.1562622646788607,
          1.1411307552203604,
          1.1234505156915944,
          1.3375447742176705,
          1.1631229197965673,
          1.2581173260396366,
          1.108199591481096,
          1.0602425843422096,
          1.267345537637877,
          1.242632736901632,
          1.1221558081282217,
          1.2049886491512953,
          1.148131623884725,
          1.1930165746739663,
          1.1227654346859237,
          1.1535063271539432,
          1.0864937250921165,
          1.1144284254182648,
          1.107642500865525,
          1.2066446458268936,
          1.1315100011647186,
          1.0986709710974256,
          1.178211508926948,
          1.0637944734347256,
          1.16900960776745,
          1.2269342690829796,
          1.1565125628505026,
          1.0707908826510053,
          1.0959699566417844,
          1.567142034208826,
          1.3474198577775205,
          1.2085613353493863,
          1.460554830991636
         ]
        },
        {
         "mode": "lines+markers",
         "name": "('g1', 'area')",
         "type": "scatter",
         "x": [
          "zm59",
          "zm16",
          "zm58",
          "zm26",
          "zm53",
          "zm52",
          "zm20",
          "zm32",
          "zm50",
          "zm35",
          "zm19",
          "zm46",
          "zm15",
          "zm54",
          "zm48",
          "zm29",
          "zm23",
          "zm57",
          "zm28",
          "zm18",
          "zm45",
          "zm9",
          "zm7",
          "zm56",
          "zm22",
          "zm55",
          "zm10",
          "zm33",
          "zm47",
          "zm14",
          "zm25",
          "zm38",
          "zm1",
          "zm27",
          "zm36",
          "zm30",
          "zm24",
          "zm41",
          "zm8",
          "zm34",
          "zm21",
          "zm49",
          "zm51",
          "zm37",
          "zm17",
          "zm39",
          "zm11",
          "zm2",
          "zm44",
          "zm43",
          "zm6",
          "zm4",
          "zm42",
          "zm31",
          "zm13",
          "zm40",
          "zm5",
          "zm3",
          "zm12"
         ],
         "y": [
          1.0425752064220948,
          1.0846834671676453,
          1.0523961889723084,
          1.1779959738540602,
          1.2129987029345979,
          1.125574352341137,
          1.0530427920912753,
          1.1822505868971056,
          1.2220318444925071,
          1.2512415396271435,
          1.0595910555008266,
          1.077372917047448,
          1.139971680874547,
          1.0767116620872144,
          1.2246579928666417,
          1.0324383878596002,
          1.1638368255074294,
          1.1467320475238663,
          1.1000349855781666,
          1.1899636968493295,
          1.1362388317553584,
          1.7118806555372765,
          1.1757048035570195,
          1.1605768794177105,
          1.0779241828345314,
          1.129301726583517,
          1.1856253368687737,
          1.0783115368874667,
          1.1249291668818038,
          1.3237996984643576,
          1.19598323229698,
          1.2227008142663531,
          1.1209850856915544,
          1.0340737788597554,
          1.2203151595284254,
          1.2494053276502148,
          1.1359847663192546,
          1.2128330131842573,
          1.1559325216762244,
          1.1955525872120223,
          1.1293755090983306,
          1.1247637560304622,
          1.0509355729104668,
          1.0963348413115361,
          1.108483571916463,
          1.1849281100145517,
          1.1437879735216245,
          1.087710832423305,
          1.3059756097791686,
          1.060694368679977,
          1.1492549970218087,
          1.2195858844112162,
          1.158515872303902,
          1.0715360555163218,
          1.0966338307251302,
          1.4217491996820917,
          1.313239510971577,
          1.2026091428560706,
          1.4015761537916551
         ]
        },
        {
         "mode": "lines+markers",
         "name": "('g1', 'pop')",
         "type": "scatter",
         "x": [
          "zm59",
          "zm16",
          "zm58",
          "zm26",
          "zm53",
          "zm52",
          "zm20",
          "zm32",
          "zm50",
          "zm35",
          "zm19",
          "zm46",
          "zm15",
          "zm54",
          "zm48",
          "zm29",
          "zm23",
          "zm57",
          "zm28",
          "zm18",
          "zm45",
          "zm9",
          "zm7",
          "zm56",
          "zm22",
          "zm55",
          "zm10",
          "zm33",
          "zm47",
          "zm14",
          "zm25",
          "zm38",
          "zm1",
          "zm27",
          "zm36",
          "zm30",
          "zm24",
          "zm41",
          "zm8",
          "zm34",
          "zm21",
          "zm49",
          "zm51",
          "zm37",
          "zm17",
          "zm39",
          "zm11",
          "zm2",
          "zm44",
          "zm43",
          "zm6",
          "zm4",
          "zm42",
          "zm31",
          "zm13",
          "zm40",
          "zm5",
          "zm3",
          "zm12"
         ],
         "y": [
          1.064145003184953,
          1.3894509388022591,
          1.201658669190625,
          1.1353984690640955,
          1.2268428990776543,
          1.129599307614561,
          1.1022258471069226,
          1.1555468686226482,
          1.2434027175772038,
          1.2085919320164213,
          1.1174066682733963,
          1.055917060298322,
          1.2136530719828158,
          1.0815763509498484,
          1.2846893845250755,
          1.0468887116051915,
          1.4279931793785503,
          1.1450823808450667,
          1.0889921116205392,
          1.180541189382877,
          1.2144763878450777,
          1.0711588769736498,
          1.200701305457359,
          1.1476411611217887,
          1.067749505489634,
          1.0915173366912108,
          1.152216454498222,
          1.1369754044927276,
          1.1223157320880282,
          1.3355004078421169,
          1.1612602093158033,
          1.256260695299277,
          1.1071722112206186,
          1.0612985853496166,
          1.2653084938659542,
          1.238394807150718,
          1.1205408534933778,
          1.202679453722613,
          1.1449095648914591,
          1.1919729574552944,
          1.122472660508808,
          1.1509348474002785,
          1.0842048363919239,
          1.1135978436885685,
          1.107097015585578,
          1.2070359333896084,
          1.1311873117603408,
          1.0984712982130094,
          1.1759959986146393,
          1.0632952294642861,
          1.1672025416744047,
          1.225162214032542,
          1.1558393676043135,
          1.070988951543001,
          1.0957383413193975,
          1.557504594470425,
          1.3443434519543758,
          1.2063984277517896,
          1.4579016906677436
         ]
        },
        {
         "mode": "lines+markers",
         "name": "('g2', 'area')",
         "type": "scatter",
         "x": [
          "zm59",
          "zm16",
          "zm58",
          "zm26",
          "zm53",
          "zm52",
          "zm20",
          "zm32",
          "zm50",
          "zm35",
          "zm19",
          "zm46",
          "zm15",
          "zm54",
          "zm48",
          "zm29",
          "zm23",
          "zm57",
          "zm28",
          "zm18",
          "zm45",
          "zm9",
          "zm7",
          "zm56",
          "zm22",
          "zm55",
          "zm10",
          "zm33",
          "zm47",
          "zm14",
          "zm25",
          "zm38",
          "zm1",
          "zm27",
          "zm36",
          "zm30",
          "zm24",
          "zm41",
          "zm8",
          "zm34",
          "zm21",
          "zm49",
          "zm51",
          "zm37",
          "zm17",
          "zm39",
          "zm11",
          "zm2",
          "zm44",
          "zm43",
          "zm6",
          "zm4",
          "zm42",
          "zm31",
          "zm13",
          "zm40",
          "zm5",
          "zm3",
          "zm12"
         ],
         "y": [
          1.0354512968430627,
          1.0767115718899245,
          1.0525555773889756,
          1.1555852341676087,
          1.1764446796671397,
          1.1173888297373784,
          1.0524623008414735,
          1.1577489518051545,
          1.2005463584093032,
          1.2106691642971523,
          1.0507795663952189,
          1.0727482737524545,
          1.1371116729237492,
          1.062847461930837,
          1.203616833510947,
          1.0316511906575865,
          1.1580387745596494,
          1.1424544985054932,
          1.094316116249248,
          1.1850322576185544,
          1.132777785174395,
          1.7097096291180196,
          1.1690015840150305,
          1.149684022624747,
          1.0745353558192576,
          1.1228909317848514,
          1.1665058074365566,
          1.0694236416577478,
          1.1195950121934652,
          1.3121296772553173,
          1.177543890030066,
          1.2141117008562377,
          1.1125722006658756,
          1.033640403505156,
          1.210371006563098,
          1.2226847285547595,
          1.124697567773982,
          1.198543970587997,
          1.1442346420020828,
          1.189847624943743,
          1.12747163882505,
          1.117694138277169,
          1.0489873244376728,
          1.0910611914688246,
          1.1021113929848354,
          1.1679424501671778,
          1.1411049214696085,
          1.0865507561691667,
          1.298916810409293,
          1.0593082909018703,
          1.1422029030240788,
          1.2138559277425092,
          1.150204377946497,
          1.0697292297609637,
          1.095658597703785,
          1.4129327615698553,
          1.3007417396322902,
          1.1969910844840987,
          1.3908158574137557
         ]
        },
        {
         "mode": "lines+markers",
         "name": "('g2', 'pop')",
         "type": "scatter",
         "x": [
          "zm59",
          "zm16",
          "zm58",
          "zm26",
          "zm53",
          "zm52",
          "zm20",
          "zm32",
          "zm50",
          "zm35",
          "zm19",
          "zm46",
          "zm15",
          "zm54",
          "zm48",
          "zm29",
          "zm23",
          "zm57",
          "zm28",
          "zm18",
          "zm45",
          "zm9",
          "zm7",
          "zm56",
          "zm22",
          "zm55",
          "zm10",
          "zm33",
          "zm47",
          "zm14",
          "zm25",
          "zm38",
          "zm1",
          "zm27",
          "zm36",
          "zm30",
          "zm24",
          "zm41",
          "zm8",
          "zm34",
          "zm21",
          "zm49",
          "zm51",
          "zm37",
          "zm17",
          "zm39",
          "zm11",
          "zm2",
          "zm44",
          "zm43",
          "zm6",
          "zm4",
          "zm42",
          "zm31",
          "zm13",
          "zm40",
          "zm5",
          "zm3",
          "zm12"
         ],
         "y": [
          1.046895652479513,
          1.341908919857475,
          1.1878821410470908,
          1.1106552327880042,
          1.1894882339172872,
          1.1239293259245695,
          1.097681398864867,
          1.1353573190584316,
          1.218146705899216,
          1.1689653233939399,
          1.0995376231218228,
          1.0507333228870785,
          1.1987684938091472,
          1.0608504319032306,
          1.2590452961537655,
          1.0450946472624711,
          1.384815672465046,
          1.1402644087581424,
          1.0843495553669429,
          1.1737892192598662,
          1.2097740156585186,
          1.0636877837704581,
          1.1924262870748503,
          1.1340554902208289,
          1.064880103716737,
          1.0862885849327633,
          1.1368178133806623,
          1.1266569317281594,
          1.1202488428724144,
          1.3239529375300587,
          1.1467918946858877,
          1.2461591970422876,
          1.0993035880772375,
          1.0591438051040434,
          1.2567791901989898,
          1.2096596140035283,
          1.110043870129722,
          1.1884827017896817,
          1.1405824705757972,
          1.1854942720530188,
          1.1209471124915542,
          1.1422214840885594,
          1.0771321929421651,
          1.1064943413937955,
          1.1018678892447689,
          1.170855058982306,
          1.1298600793500309,
          1.0972146681457848,
          1.1732228925129549,
          1.060932336240812,
          1.1616863915660935,
          1.218505760373271,
          1.1492004718144946,
          1.0696553964423126,
          1.09451405737101,
          1.5455710520670818,
          1.3308709281582891,
          1.1981251070970786,
          1.447487949512994
         ]
        },
        {
         "mode": "lines+markers",
         "name": "('idw', 'g1')",
         "type": "scatter",
         "x": [
          "zm59",
          "zm16",
          "zm58",
          "zm26",
          "zm53",
          "zm52",
          "zm20",
          "zm32",
          "zm50",
          "zm35",
          "zm19",
          "zm46",
          "zm15",
          "zm54",
          "zm48",
          "zm29",
          "zm23",
          "zm57",
          "zm28",
          "zm18",
          "zm45",
          "zm9",
          "zm7",
          "zm56",
          "zm22",
          "zm55",
          "zm10",
          "zm33",
          "zm47",
          "zm14",
          "zm25",
          "zm38",
          "zm1",
          "zm27",
          "zm36",
          "zm30",
          "zm24",
          "zm41",
          "zm8",
          "zm34",
          "zm21",
          "zm49",
          "zm51",
          "zm37",
          "zm17",
          "zm39",
          "zm11",
          "zm2",
          "zm44",
          "zm43",
          "zm6",
          "zm4",
          "zm42",
          "zm31",
          "zm13",
          "zm40",
          "zm5",
          "zm3",
          "zm12"
         ],
         "y": [
          1.0026870111185764,
          1.0090581038927526,
          1.0000000000000007,
          1.0059359474647764,
          1.0137912928139385,
          1.0295546832469316,
          1.0025634292197088,
          1.0466406705425635,
          1.0359047277224116,
          1.024505590071904,
          1.0026392494496754,
          1.011181734186959,
          1.0304232127580288,
          1.0006437561678934,
          1.121849306219277,
          1.0116951136139911,
          1.0015537422446967,
          1.054808348553906,
          1.0411568618388132,
          1.0325820268147763,
          1.0441198562405551,
          1.0056158270301274,
          1.035714875273847,
          1.0418367779964819,
          1.0160204703153322,
          1.0317073639417906,
          1.0616889968618954,
          1.005793894981104,
          1.0492773318097521,
          1.115095299920704,
          1.0288887097479427,
          1.1211626942985307,
          1.0307376700446182,
          1.0089851916365749,
          1.0503655565965948,
          1.0383749010394154,
          1.0500460432124403,
          1.0486401763274735,
          1.0589740474661857,
          1.059493847725915,
          1.0709762899100124,
          1.0274612811205481,
          1.0054442687595784,
          1.0379837069037456,
          1.0394772035375288,
          1.0010729543488133,
          1.0821605679662634,
          1.1467662067277609,
          1.0456789780711344,
          1.0291109587528595,
          1.0442998014068285,
          1.0585993295470182,
          1.056184066430668,
          1.0783275253939453,
          1.043434411477517,
          1.0717961839435868,
          1.080554531429872,
          1.079817005458184,
          1.158416656653
         ]
        },
        {
         "mode": "lines+markers",
         "name": "('idw', 'g2')",
         "type": "scatter",
         "x": [
          "zm59",
          "zm16",
          "zm58",
          "zm26",
          "zm53",
          "zm52",
          "zm20",
          "zm32",
          "zm50",
          "zm35",
          "zm19",
          "zm46",
          "zm15",
          "zm54",
          "zm48",
          "zm29",
          "zm23",
          "zm57",
          "zm28",
          "zm18",
          "zm45",
          "zm9",
          "zm7",
          "zm56",
          "zm22",
          "zm55",
          "zm10",
          "zm33",
          "zm47",
          "zm14",
          "zm25",
          "zm38",
          "zm1",
          "zm27",
          "zm36",
          "zm30",
          "zm24",
          "zm41",
          "zm8",
          "zm34",
          "zm21",
          "zm49",
          "zm51",
          "zm37",
          "zm17",
          "zm39",
          "zm11",
          "zm2",
          "zm44",
          "zm43",
          "zm6",
          "zm4",
          "zm42",
          "zm31",
          "zm13",
          "zm40",
          "zm5",
          "zm3",
          "zm12"
         ],
         "y": [
          1.0040432742012273,
          1.0068910507006308,
          1.0000000000000004,
          1.0058609077073892,
          1.0229182444628557,
          1.0318723245529402,
          1.0034923831067346,
          1.0412386542514511,
          1.0277174403379135,
          1.0186391985616288,
          1.002931758270024,
          1.015109709015567,
          1.0265959356109973,
          1.001383154598222,
          1.1105678698353818,
          1.012643119870159,
          1.0136715507344842,
          1.05214387964199,
          1.0401513213213769,
          1.028345565302894,
          1.0426938455267367,
          1.0051761818388554,
          1.0334084308471927,
          1.0428709214288188,
          1.014412912199005,
          1.0256315636606486,
          1.0563363357400917,
          1.0051063797130617,
          1.0570043662756183,
          1.116912153503367,
          1.0313658630659317,
          1.1102700938211143,
          1.030361876658442,
          1.0092755711786854,
          1.0562248504684113,
          1.0365837546977834,
          1.0489107936785613,
          1.047471424677112,
          1.0447883546987238,
          1.0658028744068087,
          1.0726123474668472,
          1.0266479179324839,
          1.0052031055907,
          1.0368364681188962,
          1.0418993074463192,
          1.0029609843103895,
          1.0842404252534465,
          1.140125188582548,
          1.04456939714993,
          1.0297883571277446,
          1.0505208971023092,
          1.0566784688192952,
          1.0612891914966271,
          1.0784469595078705,
          1.0413596333645625,
          1.0767589550526655,
          1.0731740821252327,
          1.0796186936955032,
          1.1528319943809664
         ]
        }
       ],
       "layout": {
        "height": 300,
        "margin": {
         "b": 10,
         "l": 10,
         "r": 100,
         "t": 10
        },
        "template": {
         "data": {
          "bar": [
           {
            "error_x": {
             "color": "#2a3f5f"
            },
            "error_y": {
             "color": "#2a3f5f"
            },
            "marker": {
             "line": {
              "color": "#E5ECF6",
              "width": 0.5
             }
            },
            "type": "bar"
           }
          ],
          "barpolar": [
           {
            "marker": {
             "line": {
              "color": "#E5ECF6",
              "width": 0.5
             }
            },
            "type": "barpolar"
           }
          ],
          "carpet": [
           {
            "aaxis": {
             "endlinecolor": "#2a3f5f",
             "gridcolor": "white",
             "linecolor": "white",
             "minorgridcolor": "white",
             "startlinecolor": "#2a3f5f"
            },
            "baxis": {
             "endlinecolor": "#2a3f5f",
             "gridcolor": "white",
             "linecolor": "white",
             "minorgridcolor": "white",
             "startlinecolor": "#2a3f5f"
            },
            "type": "carpet"
           }
          ],
          "choropleth": [
           {
            "colorbar": {
             "outlinewidth": 0,
             "ticks": ""
            },
            "type": "choropleth"
           }
          ],
          "contour": [
           {
            "colorbar": {
             "outlinewidth": 0,
             "ticks": ""
            },
            "colorscale": [
             [
              0,
              "#0d0887"
             ],
             [
              0.1111111111111111,
              "#46039f"
             ],
             [
              0.2222222222222222,
              "#7201a8"
             ],
             [
              0.3333333333333333,
              "#9c179e"
             ],
             [
              0.4444444444444444,
              "#bd3786"
             ],
             [
              0.5555555555555556,
              "#d8576b"
             ],
             [
              0.6666666666666666,
              "#ed7953"
             ],
             [
              0.7777777777777778,
              "#fb9f3a"
             ],
             [
              0.8888888888888888,
              "#fdca26"
             ],
             [
              1,
              "#f0f921"
             ]
            ],
            "type": "contour"
           }
          ],
          "contourcarpet": [
           {
            "colorbar": {
             "outlinewidth": 0,
             "ticks": ""
            },
            "type": "contourcarpet"
           }
          ],
          "heatmap": [
           {
            "colorbar": {
             "outlinewidth": 0,
             "ticks": ""
            },
            "colorscale": [
             [
              0,
              "#0d0887"
             ],
             [
              0.1111111111111111,
              "#46039f"
             ],
             [
              0.2222222222222222,
              "#7201a8"
             ],
             [
              0.3333333333333333,
              "#9c179e"
             ],
             [
              0.4444444444444444,
              "#bd3786"
             ],
             [
              0.5555555555555556,
              "#d8576b"
             ],
             [
              0.6666666666666666,
              "#ed7953"
             ],
             [
              0.7777777777777778,
              "#fb9f3a"
             ],
             [
              0.8888888888888888,
              "#fdca26"
             ],
             [
              1,
              "#f0f921"
             ]
            ],
            "type": "heatmap"
           }
          ],
          "heatmapgl": [
           {
            "colorbar": {
             "outlinewidth": 0,
             "ticks": ""
            },
            "colorscale": [
             [
              0,
              "#0d0887"
             ],
             [
              0.1111111111111111,
              "#46039f"
             ],
             [
              0.2222222222222222,
              "#7201a8"
             ],
             [
              0.3333333333333333,
              "#9c179e"
             ],
             [
              0.4444444444444444,
              "#bd3786"
             ],
             [
              0.5555555555555556,
              "#d8576b"
             ],
             [
              0.6666666666666666,
              "#ed7953"
             ],
             [
              0.7777777777777778,
              "#fb9f3a"
             ],
             [
              0.8888888888888888,
              "#fdca26"
             ],
             [
              1,
              "#f0f921"
             ]
            ],
            "type": "heatmapgl"
           }
          ],
          "histogram": [
           {
            "marker": {
             "colorbar": {
              "outlinewidth": 0,
              "ticks": ""
             }
            },
            "type": "histogram"
           }
          ],
          "histogram2d": [
           {
            "colorbar": {
             "outlinewidth": 0,
             "ticks": ""
            },
            "colorscale": [
             [
              0,
              "#0d0887"
             ],
             [
              0.1111111111111111,
              "#46039f"
             ],
             [
              0.2222222222222222,
              "#7201a8"
             ],
             [
              0.3333333333333333,
              "#9c179e"
             ],
             [
              0.4444444444444444,
              "#bd3786"
             ],
             [
              0.5555555555555556,
              "#d8576b"
             ],
             [
              0.6666666666666666,
              "#ed7953"
             ],
             [
              0.7777777777777778,
              "#fb9f3a"
             ],
             [
              0.8888888888888888,
              "#fdca26"
             ],
             [
              1,
              "#f0f921"
             ]
            ],
            "type": "histogram2d"
           }
          ],
          "histogram2dcontour": [
           {
            "colorbar": {
             "outlinewidth": 0,
             "ticks": ""
            },
            "colorscale": [
             [
              0,
              "#0d0887"
             ],
             [
              0.1111111111111111,
              "#46039f"
             ],
             [
              0.2222222222222222,
              "#7201a8"
             ],
             [
              0.3333333333333333,
              "#9c179e"
             ],
             [
              0.4444444444444444,
              "#bd3786"
             ],
             [
              0.5555555555555556,
              "#d8576b"
             ],
             [
              0.6666666666666666,
              "#ed7953"
             ],
             [
              0.7777777777777778,
              "#fb9f3a"
             ],
             [
              0.8888888888888888,
              "#fdca26"
             ],
             [
              1,
              "#f0f921"
             ]
            ],
            "type": "histogram2dcontour"
           }
          ],
          "mesh3d": [
           {
            "colorbar": {
             "outlinewidth": 0,
             "ticks": ""
            },
            "type": "mesh3d"
           }
          ],
          "parcoords": [
           {
            "line": {
             "colorbar": {
              "outlinewidth": 0,
              "ticks": ""
             }
            },
            "type": "parcoords"
           }
          ],
          "scatter": [
           {
            "marker": {
             "colorbar": {
              "outlinewidth": 0,
              "ticks": ""
             }
            },
            "type": "scatter"
           }
          ],
          "scatter3d": [
           {
            "line": {
             "colorbar": {
              "outlinewidth": 0,
              "ticks": ""
             }
            },
            "marker": {
             "colorbar": {
              "outlinewidth": 0,
              "ticks": ""
             }
            },
            "type": "scatter3d"
           }
          ],
          "scattercarpet": [
           {
            "marker": {
             "colorbar": {
              "outlinewidth": 0,
              "ticks": ""
             }
            },
            "type": "scattercarpet"
           }
          ],
          "scattergeo": [
           {
            "marker": {
             "colorbar": {
              "outlinewidth": 0,
              "ticks": ""
             }
            },
            "type": "scattergeo"
           }
          ],
          "scattergl": [
           {
            "marker": {
             "colorbar": {
              "outlinewidth": 0,
              "ticks": ""
             }
            },
            "type": "scattergl"
           }
          ],
          "scattermapbox": [
           {
            "marker": {
             "colorbar": {
              "outlinewidth": 0,
              "ticks": ""
             }
            },
            "type": "scattermapbox"
           }
          ],
          "scatterpolar": [
           {
            "marker": {
             "colorbar": {
              "outlinewidth": 0,
              "ticks": ""
             }
            },
            "type": "scatterpolar"
           }
          ],
          "scatterpolargl": [
           {
            "marker": {
             "colorbar": {
              "outlinewidth": 0,
              "ticks": ""
             }
            },
            "type": "scatterpolargl"
           }
          ],
          "scatterternary": [
           {
            "marker": {
             "colorbar": {
              "outlinewidth": 0,
              "ticks": ""
             }
            },
            "type": "scatterternary"
           }
          ],
          "surface": [
           {
            "colorbar": {
             "outlinewidth": 0,
             "ticks": ""
            },
            "colorscale": [
             [
              0,
              "#0d0887"
             ],
             [
              0.1111111111111111,
              "#46039f"
             ],
             [
              0.2222222222222222,
              "#7201a8"
             ],
             [
              0.3333333333333333,
              "#9c179e"
             ],
             [
              0.4444444444444444,
              "#bd3786"
             ],
             [
              0.5555555555555556,
              "#d8576b"
             ],
             [
              0.6666666666666666,
              "#ed7953"
             ],
             [
              0.7777777777777778,
              "#fb9f3a"
             ],
             [
              0.8888888888888888,
              "#fdca26"
             ],
             [
              1,
              "#f0f921"
             ]
            ],
            "type": "surface"
           }
          ],
          "table": [
           {
            "cells": {
             "fill": {
              "color": "#EBF0F8"
             },
             "line": {
              "color": "white"
             }
            },
            "header": {
             "fill": {
              "color": "#C8D4E3"
             },
             "line": {
              "color": "white"
             }
            },
            "type": "table"
           }
          ]
         },
         "layout": {
          "annotationdefaults": {
           "arrowcolor": "#2a3f5f",
           "arrowhead": 0,
           "arrowwidth": 1
          },
          "colorscale": {
           "diverging": [
            [
             0,
             "#8e0152"
            ],
            [
             0.1,
             "#c51b7d"
            ],
            [
             0.2,
             "#de77ae"
            ],
            [
             0.3,
             "#f1b6da"
            ],
            [
             0.4,
             "#fde0ef"
            ],
            [
             0.5,
             "#f7f7f7"
            ],
            [
             0.6,
             "#e6f5d0"
            ],
            [
             0.7,
             "#b8e186"
            ],
            [
             0.8,
             "#7fbc41"
            ],
            [
             0.9,
             "#4d9221"
            ],
            [
             1,
             "#276419"
            ]
           ],
           "sequential": [
            [
             0,
             "#0d0887"
            ],
            [
             0.1111111111111111,
             "#46039f"
            ],
            [
             0.2222222222222222,
             "#7201a8"
            ],
            [
             0.3333333333333333,
             "#9c179e"
            ],
            [
             0.4444444444444444,
             "#bd3786"
            ],
            [
             0.5555555555555556,
             "#d8576b"
            ],
            [
             0.6666666666666666,
             "#ed7953"
            ],
            [
             0.7777777777777778,
             "#fb9f3a"
            ],
            [
             0.8888888888888888,
             "#fdca26"
            ],
            [
             1,
             "#f0f921"
            ]
           ],
           "sequentialminus": [
            [
             0,
             "#0d0887"
            ],
            [
             0.1111111111111111,
             "#46039f"
            ],
            [
             0.2222222222222222,
             "#7201a8"
            ],
            [
             0.3333333333333333,
             "#9c179e"
            ],
            [
             0.4444444444444444,
             "#bd3786"
            ],
            [
             0.5555555555555556,
             "#d8576b"
            ],
            [
             0.6666666666666666,
             "#ed7953"
            ],
            [
             0.7777777777777778,
             "#fb9f3a"
            ],
            [
             0.8888888888888888,
             "#fdca26"
            ],
            [
             1,
             "#f0f921"
            ]
           ]
          },
          "colorway": [
           "#636efa",
           "#EF553B",
           "#00cc96",
           "#ab63fa",
           "#FFA15A",
           "#19d3f3",
           "#FF6692",
           "#B6E880",
           "#FF97FF",
           "#FECB52"
          ],
          "font": {
           "color": "#2a3f5f"
          },
          "geo": {
           "bgcolor": "white",
           "lakecolor": "white",
           "landcolor": "#E5ECF6",
           "showlakes": true,
           "showland": true,
           "subunitcolor": "white"
          },
          "hoverlabel": {
           "align": "left"
          },
          "hovermode": "closest",
          "mapbox": {
           "style": "light"
          },
          "paper_bgcolor": "white",
          "plot_bgcolor": "#E5ECF6",
          "polar": {
           "angularaxis": {
            "gridcolor": "white",
            "linecolor": "white",
            "ticks": ""
           },
           "bgcolor": "#E5ECF6",
           "radialaxis": {
            "gridcolor": "white",
            "linecolor": "white",
            "ticks": ""
           }
          },
          "scene": {
           "xaxis": {
            "backgroundcolor": "#E5ECF6",
            "gridcolor": "white",
            "gridwidth": 2,
            "linecolor": "white",
            "showbackground": true,
            "ticks": "",
            "zerolinecolor": "white"
           },
           "yaxis": {
            "backgroundcolor": "#E5ECF6",
            "gridcolor": "white",
            "gridwidth": 2,
            "linecolor": "white",
            "showbackground": true,
            "ticks": "",
            "zerolinecolor": "white"
           },
           "zaxis": {
            "backgroundcolor": "#E5ECF6",
            "gridcolor": "white",
            "gridwidth": 2,
            "linecolor": "white",
            "showbackground": true,
            "ticks": "",
            "zerolinecolor": "white"
           }
          },
          "shapedefaults": {
           "line": {
            "color": "#2a3f5f"
           }
          },
          "ternary": {
           "aaxis": {
            "gridcolor": "white",
            "linecolor": "white",
            "ticks": ""
           },
           "baxis": {
            "gridcolor": "white",
            "linecolor": "white",
            "ticks": ""
           },
           "bgcolor": "#E5ECF6",
           "caxis": {
            "gridcolor": "white",
            "linecolor": "white",
            "ticks": ""
           }
          },
          "title": {
           "x": 0.05
          },
          "xaxis": {
           "automargin": true,
           "gridcolor": "white",
           "linecolor": "white",
           "ticks": "",
           "zerolinecolor": "white",
           "zerolinewidth": 2
          },
          "yaxis": {
           "automargin": true,
           "gridcolor": "white",
           "linecolor": "white",
           "ticks": "",
           "zerolinecolor": "white",
           "zerolinewidth": 2
          }
         }
        }
       }
      },
      "text/html": [
       "<div>\n",
       "        \n",
       "        \n",
       "            <div id=\"d333d938-d3ae-47e4-b47b-63b7153b4476\" class=\"plotly-graph-div\" style=\"height:300px; width:100%;\"></div>\n",
       "            <script type=\"text/javascript\">\n",
       "                require([\"plotly\"], function(Plotly) {\n",
       "                    window.PLOTLYENV=window.PLOTLYENV || {};\n",
       "                    \n",
       "                if (document.getElementById(\"d333d938-d3ae-47e4-b47b-63b7153b4476\")) {\n",
       "                    Plotly.newPlot(\n",
       "                        'd333d938-d3ae-47e4-b47b-63b7153b4476',\n",
       "                        [{\"mode\": \"lines+markers\", \"name\": \"('ageb', 'area')\", \"type\": \"scatter\", \"x\": [\"zm59\", \"zm16\", \"zm58\", \"zm26\", \"zm53\", \"zm52\", \"zm20\", \"zm32\", \"zm50\", \"zm35\", \"zm19\", \"zm46\", \"zm15\", \"zm54\", \"zm48\", \"zm29\", \"zm23\", \"zm57\", \"zm28\", \"zm18\", \"zm45\", \"zm9\", \"zm7\", \"zm56\", \"zm22\", \"zm55\", \"zm10\", \"zm33\", \"zm47\", \"zm14\", \"zm25\", \"zm38\", \"zm1\", \"zm27\", \"zm36\", \"zm30\", \"zm24\", \"zm41\", \"zm8\", \"zm34\", \"zm21\", \"zm49\", \"zm51\", \"zm37\", \"zm17\", \"zm39\", \"zm11\", \"zm2\", \"zm44\", \"zm43\", \"zm6\", \"zm4\", \"zm42\", \"zm31\", \"zm13\", \"zm40\", \"zm5\", \"zm3\", \"zm12\"], \"y\": [1.1225799347717136, 1.1257383014630606, 1.0164836972764526, 1.1822931772610437, 1.2020060769898704, 1.114828490391267, 1.0758694433482219, 1.1641785805807336, 1.239097812809723, 1.1558040603402557, 1.104590508882458, 1.048024101103815, 1.0954481230323267, 1.0947655262389275, 1.1148290940360537, 1.0686671771411975, 1.1946126695845476, 1.1509827709437086, 1.0853948865850924, 1.1176425788979014, 1.0762988377707141, 1.0215381648762456, 1.0980060478116607, 1.1083090847516361, 1.068399933546693, 1.0988145194118537, 1.1605749346222456, 1.09308929905373, 1.1067908244246776, 1.3030370645473581, 1.1641056287539426, 1.070956041684813, 1.1094403279431915, 1.0632692170064633, 1.1551120500110326, 1.1707714357277146, 1.108510770768311, 1.1700827348322318, 1.117149303644376, 1.2159748333090963, 1.11095965909408, 1.100140599384561, 1.0601678323901238, 1.074366877676868, 1.0616662331458728, 1.4212505023884807, 1.0988522201967847, 1.0461838136045323, 1.117396381332256, 1.1185613722995746, 1.1303169211631945, 1.1153705947895174, 1.1261118152508751, 1.0686589077036237, 1.1027201358986654, 1.2988448274200475, 1.2214944958489535, 1.3560513983426057, 1.1966105981772985]}, {\"mode\": \"lines+markers\", \"name\": \"('ageb', 'pop')\", \"type\": \"scatter\", \"x\": [\"zm59\", \"zm16\", \"zm58\", \"zm26\", \"zm53\", \"zm52\", \"zm20\", \"zm32\", \"zm50\", \"zm35\", \"zm19\", \"zm46\", \"zm15\", \"zm54\", \"zm48\", \"zm29\", \"zm23\", \"zm57\", \"zm28\", \"zm18\", \"zm45\", \"zm9\", \"zm7\", \"zm56\", \"zm22\", \"zm55\", \"zm10\", \"zm33\", \"zm47\", \"zm14\", \"zm25\", \"zm38\", \"zm1\", \"zm27\", \"zm36\", \"zm30\", \"zm24\", \"zm41\", \"zm8\", \"zm34\", \"zm21\", \"zm49\", \"zm51\", \"zm37\", \"zm17\", \"zm39\", \"zm11\", \"zm2\", \"zm44\", \"zm43\", \"zm6\", \"zm4\", \"zm42\", \"zm31\", \"zm13\", \"zm40\", \"zm5\", \"zm3\", \"zm12\"], \"y\": [1.0675425483958394, 1.414026562960785, 1.2081527816488493, 1.143308646624313, 1.2345284474783316, 1.1346604564120446, 1.1024187345655057, 1.1602005450097799, 1.2495755372940784, 1.2152843279188055, 1.1240555032361659, 1.0569494248627818, 1.2187305733237703, 1.0866904178868941, 1.2913595202058634, 1.046370757307155, 1.4444713088030259, 1.1467140727384666, 1.0883309672222368, 1.1840135708635664, 1.224601960573599, 1.075944478177469, 1.202179047518072, 1.1524943185719865, 1.0687396176503814, 1.0918734411168107, 1.1562622646788607, 1.1411307552203604, 1.1234505156915944, 1.3375447742176705, 1.1631229197965673, 1.2581173260396366, 1.108199591481096, 1.0602425843422096, 1.267345537637877, 1.242632736901632, 1.1221558081282217, 1.2049886491512953, 1.148131623884725, 1.1930165746739663, 1.1227654346859237, 1.1535063271539432, 1.0864937250921165, 1.1144284254182648, 1.107642500865525, 1.2066446458268936, 1.1315100011647186, 1.0986709710974256, 1.178211508926948, 1.0637944734347256, 1.16900960776745, 1.2269342690829796, 1.1565125628505026, 1.0707908826510053, 1.0959699566417844, 1.567142034208826, 1.3474198577775205, 1.2085613353493863, 1.460554830991636]}, {\"mode\": \"lines+markers\", \"name\": \"('g1', 'area')\", \"type\": \"scatter\", \"x\": [\"zm59\", \"zm16\", \"zm58\", \"zm26\", \"zm53\", \"zm52\", \"zm20\", \"zm32\", \"zm50\", \"zm35\", \"zm19\", \"zm46\", \"zm15\", \"zm54\", \"zm48\", \"zm29\", \"zm23\", \"zm57\", \"zm28\", \"zm18\", \"zm45\", \"zm9\", \"zm7\", \"zm56\", \"zm22\", \"zm55\", \"zm10\", \"zm33\", \"zm47\", \"zm14\", \"zm25\", \"zm38\", \"zm1\", \"zm27\", \"zm36\", \"zm30\", \"zm24\", \"zm41\", \"zm8\", \"zm34\", \"zm21\", \"zm49\", \"zm51\", \"zm37\", \"zm17\", \"zm39\", \"zm11\", \"zm2\", \"zm44\", \"zm43\", \"zm6\", \"zm4\", \"zm42\", \"zm31\", \"zm13\", \"zm40\", \"zm5\", \"zm3\", \"zm12\"], \"y\": [1.0425752064220948, 1.0846834671676453, 1.0523961889723084, 1.1779959738540602, 1.2129987029345979, 1.125574352341137, 1.0530427920912753, 1.1822505868971056, 1.2220318444925071, 1.2512415396271435, 1.0595910555008266, 1.077372917047448, 1.139971680874547, 1.0767116620872144, 1.2246579928666417, 1.0324383878596002, 1.1638368255074294, 1.1467320475238663, 1.1000349855781666, 1.1899636968493295, 1.1362388317553584, 1.7118806555372765, 1.1757048035570195, 1.1605768794177105, 1.0779241828345314, 1.129301726583517, 1.1856253368687737, 1.0783115368874667, 1.1249291668818038, 1.3237996984643576, 1.19598323229698, 1.2227008142663531, 1.1209850856915544, 1.0340737788597554, 1.2203151595284254, 1.2494053276502148, 1.1359847663192546, 1.2128330131842573, 1.1559325216762244, 1.1955525872120223, 1.1293755090983306, 1.1247637560304622, 1.0509355729104668, 1.0963348413115361, 1.108483571916463, 1.1849281100145517, 1.1437879735216245, 1.087710832423305, 1.3059756097791686, 1.060694368679977, 1.1492549970218087, 1.2195858844112162, 1.158515872303902, 1.0715360555163218, 1.0966338307251302, 1.4217491996820917, 1.313239510971577, 1.2026091428560706, 1.4015761537916551]}, {\"mode\": \"lines+markers\", \"name\": \"('g1', 'pop')\", \"type\": \"scatter\", \"x\": [\"zm59\", \"zm16\", \"zm58\", \"zm26\", \"zm53\", \"zm52\", \"zm20\", \"zm32\", \"zm50\", \"zm35\", \"zm19\", \"zm46\", \"zm15\", \"zm54\", \"zm48\", \"zm29\", \"zm23\", \"zm57\", \"zm28\", \"zm18\", \"zm45\", \"zm9\", \"zm7\", \"zm56\", \"zm22\", \"zm55\", \"zm10\", \"zm33\", \"zm47\", \"zm14\", \"zm25\", \"zm38\", \"zm1\", \"zm27\", \"zm36\", \"zm30\", \"zm24\", \"zm41\", \"zm8\", \"zm34\", \"zm21\", \"zm49\", \"zm51\", \"zm37\", \"zm17\", \"zm39\", \"zm11\", \"zm2\", \"zm44\", \"zm43\", \"zm6\", \"zm4\", \"zm42\", \"zm31\", \"zm13\", \"zm40\", \"zm5\", \"zm3\", \"zm12\"], \"y\": [1.064145003184953, 1.3894509388022591, 1.201658669190625, 1.1353984690640955, 1.2268428990776543, 1.129599307614561, 1.1022258471069226, 1.1555468686226482, 1.2434027175772038, 1.2085919320164213, 1.1174066682733963, 1.055917060298322, 1.2136530719828158, 1.0815763509498484, 1.2846893845250755, 1.0468887116051915, 1.4279931793785503, 1.1450823808450667, 1.0889921116205392, 1.180541189382877, 1.2144763878450777, 1.0711588769736498, 1.200701305457359, 1.1476411611217887, 1.067749505489634, 1.0915173366912108, 1.152216454498222, 1.1369754044927276, 1.1223157320880282, 1.3355004078421169, 1.1612602093158033, 1.256260695299277, 1.1071722112206186, 1.0612985853496166, 1.2653084938659542, 1.238394807150718, 1.1205408534933778, 1.202679453722613, 1.1449095648914591, 1.1919729574552944, 1.122472660508808, 1.1509348474002785, 1.0842048363919239, 1.1135978436885685, 1.107097015585578, 1.2070359333896084, 1.1311873117603408, 1.0984712982130094, 1.1759959986146393, 1.0632952294642861, 1.1672025416744047, 1.225162214032542, 1.1558393676043135, 1.070988951543001, 1.0957383413193975, 1.557504594470425, 1.3443434519543758, 1.2063984277517896, 1.4579016906677436]}, {\"mode\": \"lines+markers\", \"name\": \"('g2', 'area')\", \"type\": \"scatter\", \"x\": [\"zm59\", \"zm16\", \"zm58\", \"zm26\", \"zm53\", \"zm52\", \"zm20\", \"zm32\", \"zm50\", \"zm35\", \"zm19\", \"zm46\", \"zm15\", \"zm54\", \"zm48\", \"zm29\", \"zm23\", \"zm57\", \"zm28\", \"zm18\", \"zm45\", \"zm9\", \"zm7\", \"zm56\", \"zm22\", \"zm55\", \"zm10\", \"zm33\", \"zm47\", \"zm14\", \"zm25\", \"zm38\", \"zm1\", \"zm27\", \"zm36\", \"zm30\", \"zm24\", \"zm41\", \"zm8\", \"zm34\", \"zm21\", \"zm49\", \"zm51\", \"zm37\", \"zm17\", \"zm39\", \"zm11\", \"zm2\", \"zm44\", \"zm43\", \"zm6\", \"zm4\", \"zm42\", \"zm31\", \"zm13\", \"zm40\", \"zm5\", \"zm3\", \"zm12\"], \"y\": [1.0354512968430627, 1.0767115718899245, 1.0525555773889756, 1.1555852341676087, 1.1764446796671397, 1.1173888297373784, 1.0524623008414735, 1.1577489518051545, 1.2005463584093032, 1.2106691642971523, 1.0507795663952189, 1.0727482737524545, 1.1371116729237492, 1.062847461930837, 1.203616833510947, 1.0316511906575865, 1.1580387745596494, 1.1424544985054932, 1.094316116249248, 1.1850322576185544, 1.132777785174395, 1.7097096291180196, 1.1690015840150305, 1.149684022624747, 1.0745353558192576, 1.1228909317848514, 1.1665058074365566, 1.0694236416577478, 1.1195950121934652, 1.3121296772553173, 1.177543890030066, 1.2141117008562377, 1.1125722006658756, 1.033640403505156, 1.210371006563098, 1.2226847285547595, 1.124697567773982, 1.198543970587997, 1.1442346420020828, 1.189847624943743, 1.12747163882505, 1.117694138277169, 1.0489873244376728, 1.0910611914688246, 1.1021113929848354, 1.1679424501671778, 1.1411049214696085, 1.0865507561691667, 1.298916810409293, 1.0593082909018703, 1.1422029030240788, 1.2138559277425092, 1.150204377946497, 1.0697292297609637, 1.095658597703785, 1.4129327615698553, 1.3007417396322902, 1.1969910844840987, 1.3908158574137557]}, {\"mode\": \"lines+markers\", \"name\": \"('g2', 'pop')\", \"type\": \"scatter\", \"x\": [\"zm59\", \"zm16\", \"zm58\", \"zm26\", \"zm53\", \"zm52\", \"zm20\", \"zm32\", \"zm50\", \"zm35\", \"zm19\", \"zm46\", \"zm15\", \"zm54\", \"zm48\", \"zm29\", \"zm23\", \"zm57\", \"zm28\", \"zm18\", \"zm45\", \"zm9\", \"zm7\", \"zm56\", \"zm22\", \"zm55\", \"zm10\", \"zm33\", \"zm47\", \"zm14\", \"zm25\", \"zm38\", \"zm1\", \"zm27\", \"zm36\", \"zm30\", \"zm24\", \"zm41\", \"zm8\", \"zm34\", \"zm21\", \"zm49\", \"zm51\", \"zm37\", \"zm17\", \"zm39\", \"zm11\", \"zm2\", \"zm44\", \"zm43\", \"zm6\", \"zm4\", \"zm42\", \"zm31\", \"zm13\", \"zm40\", \"zm5\", \"zm3\", \"zm12\"], \"y\": [1.046895652479513, 1.341908919857475, 1.1878821410470908, 1.1106552327880042, 1.1894882339172872, 1.1239293259245695, 1.097681398864867, 1.1353573190584316, 1.218146705899216, 1.1689653233939399, 1.0995376231218228, 1.0507333228870785, 1.1987684938091472, 1.0608504319032306, 1.2590452961537655, 1.0450946472624711, 1.384815672465046, 1.1402644087581424, 1.0843495553669429, 1.1737892192598662, 1.2097740156585186, 1.0636877837704581, 1.1924262870748503, 1.1340554902208289, 1.064880103716737, 1.0862885849327633, 1.1368178133806623, 1.1266569317281594, 1.1202488428724144, 1.3239529375300587, 1.1467918946858877, 1.2461591970422876, 1.0993035880772375, 1.0591438051040434, 1.2567791901989898, 1.2096596140035283, 1.110043870129722, 1.1884827017896817, 1.1405824705757972, 1.1854942720530188, 1.1209471124915542, 1.1422214840885594, 1.0771321929421651, 1.1064943413937955, 1.1018678892447689, 1.170855058982306, 1.1298600793500309, 1.0972146681457848, 1.1732228925129549, 1.060932336240812, 1.1616863915660935, 1.218505760373271, 1.1492004718144946, 1.0696553964423126, 1.09451405737101, 1.5455710520670818, 1.3308709281582891, 1.1981251070970786, 1.447487949512994]}, {\"mode\": \"lines+markers\", \"name\": \"('idw', 'g1')\", \"type\": \"scatter\", \"x\": [\"zm59\", \"zm16\", \"zm58\", \"zm26\", \"zm53\", \"zm52\", \"zm20\", \"zm32\", \"zm50\", \"zm35\", \"zm19\", \"zm46\", \"zm15\", \"zm54\", \"zm48\", \"zm29\", \"zm23\", \"zm57\", \"zm28\", \"zm18\", \"zm45\", \"zm9\", \"zm7\", \"zm56\", \"zm22\", \"zm55\", \"zm10\", \"zm33\", \"zm47\", \"zm14\", \"zm25\", \"zm38\", \"zm1\", \"zm27\", \"zm36\", \"zm30\", \"zm24\", \"zm41\", \"zm8\", \"zm34\", \"zm21\", \"zm49\", \"zm51\", \"zm37\", \"zm17\", \"zm39\", \"zm11\", \"zm2\", \"zm44\", \"zm43\", \"zm6\", \"zm4\", \"zm42\", \"zm31\", \"zm13\", \"zm40\", \"zm5\", \"zm3\", \"zm12\"], \"y\": [1.0026870111185764, 1.0090581038927526, 1.0000000000000007, 1.0059359474647764, 1.0137912928139385, 1.0295546832469316, 1.0025634292197088, 1.0466406705425635, 1.0359047277224116, 1.024505590071904, 1.0026392494496754, 1.011181734186959, 1.0304232127580288, 1.0006437561678934, 1.121849306219277, 1.0116951136139911, 1.0015537422446967, 1.054808348553906, 1.0411568618388132, 1.0325820268147763, 1.0441198562405551, 1.0056158270301274, 1.035714875273847, 1.0418367779964819, 1.0160204703153322, 1.0317073639417906, 1.0616889968618954, 1.005793894981104, 1.0492773318097521, 1.115095299920704, 1.0288887097479427, 1.1211626942985307, 1.0307376700446182, 1.0089851916365749, 1.0503655565965948, 1.0383749010394154, 1.0500460432124403, 1.0486401763274735, 1.0589740474661857, 1.059493847725915, 1.0709762899100124, 1.0274612811205481, 1.0054442687595784, 1.0379837069037456, 1.0394772035375288, 1.0010729543488133, 1.0821605679662634, 1.1467662067277609, 1.0456789780711344, 1.0291109587528595, 1.0442998014068285, 1.0585993295470182, 1.056184066430668, 1.0783275253939453, 1.043434411477517, 1.0717961839435868, 1.080554531429872, 1.079817005458184, 1.158416656653]}, {\"mode\": \"lines+markers\", \"name\": \"('idw', 'g2')\", \"type\": \"scatter\", \"x\": [\"zm59\", \"zm16\", \"zm58\", \"zm26\", \"zm53\", \"zm52\", \"zm20\", \"zm32\", \"zm50\", \"zm35\", \"zm19\", \"zm46\", \"zm15\", \"zm54\", \"zm48\", \"zm29\", \"zm23\", \"zm57\", \"zm28\", \"zm18\", \"zm45\", \"zm9\", \"zm7\", \"zm56\", \"zm22\", \"zm55\", \"zm10\", \"zm33\", \"zm47\", \"zm14\", \"zm25\", \"zm38\", \"zm1\", \"zm27\", \"zm36\", \"zm30\", \"zm24\", \"zm41\", \"zm8\", \"zm34\", \"zm21\", \"zm49\", \"zm51\", \"zm37\", \"zm17\", \"zm39\", \"zm11\", \"zm2\", \"zm44\", \"zm43\", \"zm6\", \"zm4\", \"zm42\", \"zm31\", \"zm13\", \"zm40\", \"zm5\", \"zm3\", \"zm12\"], \"y\": [1.0040432742012273, 1.0068910507006308, 1.0000000000000004, 1.0058609077073892, 1.0229182444628557, 1.0318723245529402, 1.0034923831067346, 1.0412386542514511, 1.0277174403379135, 1.0186391985616288, 1.002931758270024, 1.015109709015567, 1.0265959356109973, 1.001383154598222, 1.1105678698353818, 1.012643119870159, 1.0136715507344842, 1.05214387964199, 1.0401513213213769, 1.028345565302894, 1.0426938455267367, 1.0051761818388554, 1.0334084308471927, 1.0428709214288188, 1.014412912199005, 1.0256315636606486, 1.0563363357400917, 1.0051063797130617, 1.0570043662756183, 1.116912153503367, 1.0313658630659317, 1.1102700938211143, 1.030361876658442, 1.0092755711786854, 1.0562248504684113, 1.0365837546977834, 1.0489107936785613, 1.047471424677112, 1.0447883546987238, 1.0658028744068087, 1.0726123474668472, 1.0266479179324839, 1.0052031055907, 1.0368364681188962, 1.0418993074463192, 1.0029609843103895, 1.0842404252534465, 1.140125188582548, 1.04456939714993, 1.0297883571277446, 1.0505208971023092, 1.0566784688192952, 1.0612891914966271, 1.0784469595078705, 1.0413596333645625, 1.0767589550526655, 1.0731740821252327, 1.0796186936955032, 1.1528319943809664]}],\n",
       "                        {\"height\": 300, \"margin\": {\"b\": 10, \"l\": 10, \"r\": 100, \"t\": 10}, \"template\": {\"data\": {\"bar\": [{\"error_x\": {\"color\": \"#2a3f5f\"}, \"error_y\": {\"color\": \"#2a3f5f\"}, \"marker\": {\"line\": {\"color\": \"#E5ECF6\", \"width\": 0.5}}, \"type\": \"bar\"}], \"barpolar\": [{\"marker\": {\"line\": {\"color\": \"#E5ECF6\", \"width\": 0.5}}, \"type\": \"barpolar\"}], \"carpet\": [{\"aaxis\": {\"endlinecolor\": \"#2a3f5f\", \"gridcolor\": \"white\", \"linecolor\": \"white\", \"minorgridcolor\": \"white\", \"startlinecolor\": \"#2a3f5f\"}, \"baxis\": {\"endlinecolor\": \"#2a3f5f\", \"gridcolor\": \"white\", \"linecolor\": \"white\", \"minorgridcolor\": \"white\", \"startlinecolor\": \"#2a3f5f\"}, \"type\": \"carpet\"}], \"choropleth\": [{\"colorbar\": {\"outlinewidth\": 0, \"ticks\": \"\"}, \"type\": \"choropleth\"}], \"contour\": [{\"colorbar\": {\"outlinewidth\": 0, \"ticks\": \"\"}, \"colorscale\": [[0.0, \"#0d0887\"], [0.1111111111111111, \"#46039f\"], [0.2222222222222222, \"#7201a8\"], [0.3333333333333333, \"#9c179e\"], [0.4444444444444444, \"#bd3786\"], [0.5555555555555556, \"#d8576b\"], [0.6666666666666666, \"#ed7953\"], [0.7777777777777778, \"#fb9f3a\"], [0.8888888888888888, \"#fdca26\"], [1.0, \"#f0f921\"]], \"type\": \"contour\"}], \"contourcarpet\": [{\"colorbar\": {\"outlinewidth\": 0, \"ticks\": \"\"}, \"type\": \"contourcarpet\"}], \"heatmap\": [{\"colorbar\": {\"outlinewidth\": 0, \"ticks\": \"\"}, \"colorscale\": [[0.0, \"#0d0887\"], [0.1111111111111111, \"#46039f\"], [0.2222222222222222, \"#7201a8\"], [0.3333333333333333, \"#9c179e\"], [0.4444444444444444, \"#bd3786\"], [0.5555555555555556, \"#d8576b\"], [0.6666666666666666, \"#ed7953\"], [0.7777777777777778, \"#fb9f3a\"], [0.8888888888888888, \"#fdca26\"], [1.0, \"#f0f921\"]], \"type\": \"heatmap\"}], \"heatmapgl\": [{\"colorbar\": {\"outlinewidth\": 0, \"ticks\": \"\"}, \"colorscale\": [[0.0, \"#0d0887\"], [0.1111111111111111, \"#46039f\"], [0.2222222222222222, \"#7201a8\"], [0.3333333333333333, \"#9c179e\"], [0.4444444444444444, \"#bd3786\"], [0.5555555555555556, \"#d8576b\"], [0.6666666666666666, \"#ed7953\"], [0.7777777777777778, \"#fb9f3a\"], [0.8888888888888888, \"#fdca26\"], [1.0, \"#f0f921\"]], \"type\": \"heatmapgl\"}], \"histogram\": [{\"marker\": {\"colorbar\": {\"outlinewidth\": 0, \"ticks\": \"\"}}, \"type\": \"histogram\"}], \"histogram2d\": [{\"colorbar\": {\"outlinewidth\": 0, \"ticks\": \"\"}, \"colorscale\": [[0.0, \"#0d0887\"], [0.1111111111111111, \"#46039f\"], [0.2222222222222222, \"#7201a8\"], [0.3333333333333333, \"#9c179e\"], [0.4444444444444444, \"#bd3786\"], [0.5555555555555556, \"#d8576b\"], [0.6666666666666666, \"#ed7953\"], [0.7777777777777778, \"#fb9f3a\"], [0.8888888888888888, \"#fdca26\"], [1.0, \"#f0f921\"]], \"type\": \"histogram2d\"}], \"histogram2dcontour\": [{\"colorbar\": {\"outlinewidth\": 0, \"ticks\": \"\"}, \"colorscale\": [[0.0, \"#0d0887\"], [0.1111111111111111, \"#46039f\"], [0.2222222222222222, \"#7201a8\"], [0.3333333333333333, \"#9c179e\"], [0.4444444444444444, \"#bd3786\"], [0.5555555555555556, \"#d8576b\"], [0.6666666666666666, \"#ed7953\"], [0.7777777777777778, \"#fb9f3a\"], [0.8888888888888888, \"#fdca26\"], [1.0, \"#f0f921\"]], \"type\": \"histogram2dcontour\"}], \"mesh3d\": [{\"colorbar\": {\"outlinewidth\": 0, \"ticks\": \"\"}, \"type\": \"mesh3d\"}], \"parcoords\": [{\"line\": {\"colorbar\": {\"outlinewidth\": 0, \"ticks\": \"\"}}, \"type\": \"parcoords\"}], \"scatter\": [{\"marker\": {\"colorbar\": {\"outlinewidth\": 0, \"ticks\": \"\"}}, \"type\": \"scatter\"}], \"scatter3d\": [{\"line\": {\"colorbar\": {\"outlinewidth\": 0, \"ticks\": \"\"}}, \"marker\": {\"colorbar\": {\"outlinewidth\": 0, \"ticks\": \"\"}}, \"type\": \"scatter3d\"}], \"scattercarpet\": [{\"marker\": {\"colorbar\": {\"outlinewidth\": 0, \"ticks\": \"\"}}, \"type\": \"scattercarpet\"}], \"scattergeo\": [{\"marker\": {\"colorbar\": {\"outlinewidth\": 0, \"ticks\": \"\"}}, \"type\": \"scattergeo\"}], \"scattergl\": [{\"marker\": {\"colorbar\": {\"outlinewidth\": 0, \"ticks\": \"\"}}, \"type\": \"scattergl\"}], \"scattermapbox\": [{\"marker\": {\"colorbar\": {\"outlinewidth\": 0, \"ticks\": \"\"}}, \"type\": \"scattermapbox\"}], \"scatterpolar\": [{\"marker\": {\"colorbar\": {\"outlinewidth\": 0, \"ticks\": \"\"}}, \"type\": \"scatterpolar\"}], \"scatterpolargl\": [{\"marker\": {\"colorbar\": {\"outlinewidth\": 0, \"ticks\": \"\"}}, \"type\": \"scatterpolargl\"}], \"scatterternary\": [{\"marker\": {\"colorbar\": {\"outlinewidth\": 0, \"ticks\": \"\"}}, \"type\": \"scatterternary\"}], \"surface\": [{\"colorbar\": {\"outlinewidth\": 0, \"ticks\": \"\"}, \"colorscale\": [[0.0, \"#0d0887\"], [0.1111111111111111, \"#46039f\"], [0.2222222222222222, \"#7201a8\"], [0.3333333333333333, \"#9c179e\"], [0.4444444444444444, \"#bd3786\"], [0.5555555555555556, \"#d8576b\"], [0.6666666666666666, \"#ed7953\"], [0.7777777777777778, \"#fb9f3a\"], [0.8888888888888888, \"#fdca26\"], [1.0, \"#f0f921\"]], \"type\": \"surface\"}], \"table\": [{\"cells\": {\"fill\": {\"color\": \"#EBF0F8\"}, \"line\": {\"color\": \"white\"}}, \"header\": {\"fill\": {\"color\": \"#C8D4E3\"}, \"line\": {\"color\": \"white\"}}, \"type\": \"table\"}]}, \"layout\": {\"annotationdefaults\": {\"arrowcolor\": \"#2a3f5f\", \"arrowhead\": 0, \"arrowwidth\": 1}, \"colorscale\": {\"diverging\": [[0, \"#8e0152\"], [0.1, \"#c51b7d\"], [0.2, \"#de77ae\"], [0.3, \"#f1b6da\"], [0.4, \"#fde0ef\"], [0.5, \"#f7f7f7\"], [0.6, \"#e6f5d0\"], [0.7, \"#b8e186\"], [0.8, \"#7fbc41\"], [0.9, \"#4d9221\"], [1, \"#276419\"]], \"sequential\": [[0.0, \"#0d0887\"], [0.1111111111111111, \"#46039f\"], [0.2222222222222222, \"#7201a8\"], [0.3333333333333333, \"#9c179e\"], [0.4444444444444444, \"#bd3786\"], [0.5555555555555556, \"#d8576b\"], [0.6666666666666666, \"#ed7953\"], [0.7777777777777778, \"#fb9f3a\"], [0.8888888888888888, \"#fdca26\"], [1.0, \"#f0f921\"]], \"sequentialminus\": [[0.0, \"#0d0887\"], [0.1111111111111111, \"#46039f\"], [0.2222222222222222, \"#7201a8\"], [0.3333333333333333, \"#9c179e\"], [0.4444444444444444, \"#bd3786\"], [0.5555555555555556, \"#d8576b\"], [0.6666666666666666, \"#ed7953\"], [0.7777777777777778, \"#fb9f3a\"], [0.8888888888888888, \"#fdca26\"], [1.0, \"#f0f921\"]]}, \"colorway\": [\"#636efa\", \"#EF553B\", \"#00cc96\", \"#ab63fa\", \"#FFA15A\", \"#19d3f3\", \"#FF6692\", \"#B6E880\", \"#FF97FF\", \"#FECB52\"], \"font\": {\"color\": \"#2a3f5f\"}, \"geo\": {\"bgcolor\": \"white\", \"lakecolor\": \"white\", \"landcolor\": \"#E5ECF6\", \"showlakes\": true, \"showland\": true, \"subunitcolor\": \"white\"}, \"hoverlabel\": {\"align\": \"left\"}, \"hovermode\": \"closest\", \"mapbox\": {\"style\": \"light\"}, \"paper_bgcolor\": \"white\", \"plot_bgcolor\": \"#E5ECF6\", \"polar\": {\"angularaxis\": {\"gridcolor\": \"white\", \"linecolor\": \"white\", \"ticks\": \"\"}, \"bgcolor\": \"#E5ECF6\", \"radialaxis\": {\"gridcolor\": \"white\", \"linecolor\": \"white\", \"ticks\": \"\"}}, \"scene\": {\"xaxis\": {\"backgroundcolor\": \"#E5ECF6\", \"gridcolor\": \"white\", \"gridwidth\": 2, \"linecolor\": \"white\", \"showbackground\": true, \"ticks\": \"\", \"zerolinecolor\": \"white\"}, \"yaxis\": {\"backgroundcolor\": \"#E5ECF6\", \"gridcolor\": \"white\", \"gridwidth\": 2, \"linecolor\": \"white\", \"showbackground\": true, \"ticks\": \"\", \"zerolinecolor\": \"white\"}, \"zaxis\": {\"backgroundcolor\": \"#E5ECF6\", \"gridcolor\": \"white\", \"gridwidth\": 2, \"linecolor\": \"white\", \"showbackground\": true, \"ticks\": \"\", \"zerolinecolor\": \"white\"}}, \"shapedefaults\": {\"line\": {\"color\": \"#2a3f5f\"}}, \"ternary\": {\"aaxis\": {\"gridcolor\": \"white\", \"linecolor\": \"white\", \"ticks\": \"\"}, \"baxis\": {\"gridcolor\": \"white\", \"linecolor\": \"white\", \"ticks\": \"\"}, \"bgcolor\": \"#E5ECF6\", \"caxis\": {\"gridcolor\": \"white\", \"linecolor\": \"white\", \"ticks\": \"\"}}, \"title\": {\"x\": 0.05}, \"xaxis\": {\"automargin\": true, \"gridcolor\": \"white\", \"linecolor\": \"white\", \"ticks\": \"\", \"zerolinecolor\": \"white\", \"zerolinewidth\": 2}, \"yaxis\": {\"automargin\": true, \"gridcolor\": \"white\", \"linecolor\": \"white\", \"ticks\": \"\", \"zerolinecolor\": \"white\", \"zerolinewidth\": 2}}}},\n",
       "                        {\"responsive\": true}\n",
       "                    ).then(function(){\n",
       "                            \n",
       "var gd = document.getElementById('d333d938-d3ae-47e4-b47b-63b7153b4476');\n",
       "var x = new MutationObserver(function (mutations, observer) {{\n",
       "        var display = window.getComputedStyle(gd).display;\n",
       "        if (!display || display === 'none') {{\n",
       "            console.log([gd, 'removed!']);\n",
       "            Plotly.purge(gd);\n",
       "            observer.disconnect();\n",
       "        }}\n",
       "}});\n",
       "\n",
       "// Listen for the removal of the full notebook cells\n",
       "var notebookContainer = gd.closest('#notebook-container');\n",
       "if (notebookContainer) {{\n",
       "    x.observe(notebookContainer, {childList: true});\n",
       "}}\n",
       "\n",
       "// Listen for the clearing of the current output cell\n",
       "var outputEl = gd.closest('.output');\n",
       "if (outputEl) {{\n",
       "    x.observe(outputEl, {childList: true});\n",
       "}}\n",
       "\n",
       "                        })\n",
       "                };\n",
       "                });\n",
       "            </script>\n",
       "        </div>"
      ]
     },
     "metadata": {},
     "output_type": "display_data"
    },
    {
     "data": {
      "application/vnd.plotly.v1+json": {
       "config": {
        "linkText": "Export to plot.ly",
        "plotlyServerURL": "https://plot.ly",
        "showLink": false
       },
       "data": [
        {
         "mode": "lines+markers",
         "name": "0",
         "type": "scatter",
         "x": [
          "zm59",
          "zm16",
          "zm58",
          "zm26",
          "zm53",
          "zm52",
          "zm20",
          "zm32",
          "zm50",
          "zm35",
          "zm19",
          "zm46",
          "zm15",
          "zm54",
          "zm48",
          "zm29",
          "zm23",
          "zm57",
          "zm28",
          "zm18",
          "zm45",
          "zm9",
          "zm7",
          "zm56",
          "zm22",
          "zm55",
          "zm10",
          "zm33",
          "zm47",
          "zm14",
          "zm25",
          "zm38",
          "zm1",
          "zm27",
          "zm36",
          "zm30",
          "zm24",
          "zm41",
          "zm8",
          "zm34",
          "zm21",
          "zm49",
          "zm51",
          "zm37",
          "zm17",
          "zm39",
          "zm11",
          "zm2",
          "zm44",
          "zm43",
          "zm6",
          "zm4",
          "zm42",
          "zm31",
          "zm13",
          "zm40",
          "zm5",
          "zm3",
          "zm12"
         ],
         "y": [
          0.03850390862364206,
          0.17185108747317338,
          0.09291265874797923,
          0.07089790320158103,
          0.08936609491759213,
          0.04379081010171209,
          0.04112609545962497,
          0.054886667906492125,
          0.09254268332908659,
          0.08836859170009477,
          0.048918973409302416,
          0.024085586152164898,
          0.07699560366099187,
          0.037047023596793446,
          0.07650577324424343,
          0.019037204731286166,
          0.1767305722648969,
          0.0426623983491713,
          0.023494830801753158,
          0.06933698948704377,
          0.07575144188322125,
          0.3115544538200966,
          0.07210636980318637,
          0.04880968804292893,
          0.025863168321606095,
          0.037881046716272994,
          0.04858264779715608,
          0.05415281881632386,
          0.03130769275448456,
          0.09632363234822032,
          0.06544387676714676,
          0.07469041199933152,
          0.03708814602104836,
          0.02311611574930236,
          0.08934339013058706,
          0.0889933161546829,
          0.0338946806176177,
          0.06978965257256103,
          0.0432592744947218,
          0.06209228979621403,
          0.0240235217235211,
          0.05151082495387545,
          0.03227577362865258,
          0.03149721110041656,
          0.03068812985802805,
          0.13229112542230043,
          0.02531669385079558,
          0.03170556349610638,
          0.09937534147262157,
          0.02756715385643366,
          0.05072292370781992,
          0.07669557975255098,
          0.04319437266222278,
          0.003883068707226316,
          0.0253459074450101,
          0.20330864065000812,
          0.11481637469963187,
          0.08683017791447335,
          0.13864901233992635
         ]
        }
       ],
       "layout": {
        "height": 300,
        "margin": {
         "b": 10,
         "l": 10,
         "r": 135,
         "t": 10
        },
        "template": {
         "data": {
          "bar": [
           {
            "error_x": {
             "color": "#2a3f5f"
            },
            "error_y": {
             "color": "#2a3f5f"
            },
            "marker": {
             "line": {
              "color": "#E5ECF6",
              "width": 0.5
             }
            },
            "type": "bar"
           }
          ],
          "barpolar": [
           {
            "marker": {
             "line": {
              "color": "#E5ECF6",
              "width": 0.5
             }
            },
            "type": "barpolar"
           }
          ],
          "carpet": [
           {
            "aaxis": {
             "endlinecolor": "#2a3f5f",
             "gridcolor": "white",
             "linecolor": "white",
             "minorgridcolor": "white",
             "startlinecolor": "#2a3f5f"
            },
            "baxis": {
             "endlinecolor": "#2a3f5f",
             "gridcolor": "white",
             "linecolor": "white",
             "minorgridcolor": "white",
             "startlinecolor": "#2a3f5f"
            },
            "type": "carpet"
           }
          ],
          "choropleth": [
           {
            "colorbar": {
             "outlinewidth": 0,
             "ticks": ""
            },
            "type": "choropleth"
           }
          ],
          "contour": [
           {
            "colorbar": {
             "outlinewidth": 0,
             "ticks": ""
            },
            "colorscale": [
             [
              0,
              "#0d0887"
             ],
             [
              0.1111111111111111,
              "#46039f"
             ],
             [
              0.2222222222222222,
              "#7201a8"
             ],
             [
              0.3333333333333333,
              "#9c179e"
             ],
             [
              0.4444444444444444,
              "#bd3786"
             ],
             [
              0.5555555555555556,
              "#d8576b"
             ],
             [
              0.6666666666666666,
              "#ed7953"
             ],
             [
              0.7777777777777778,
              "#fb9f3a"
             ],
             [
              0.8888888888888888,
              "#fdca26"
             ],
             [
              1,
              "#f0f921"
             ]
            ],
            "type": "contour"
           }
          ],
          "contourcarpet": [
           {
            "colorbar": {
             "outlinewidth": 0,
             "ticks": ""
            },
            "type": "contourcarpet"
           }
          ],
          "heatmap": [
           {
            "colorbar": {
             "outlinewidth": 0,
             "ticks": ""
            },
            "colorscale": [
             [
              0,
              "#0d0887"
             ],
             [
              0.1111111111111111,
              "#46039f"
             ],
             [
              0.2222222222222222,
              "#7201a8"
             ],
             [
              0.3333333333333333,
              "#9c179e"
             ],
             [
              0.4444444444444444,
              "#bd3786"
             ],
             [
              0.5555555555555556,
              "#d8576b"
             ],
             [
              0.6666666666666666,
              "#ed7953"
             ],
             [
              0.7777777777777778,
              "#fb9f3a"
             ],
             [
              0.8888888888888888,
              "#fdca26"
             ],
             [
              1,
              "#f0f921"
             ]
            ],
            "type": "heatmap"
           }
          ],
          "heatmapgl": [
           {
            "colorbar": {
             "outlinewidth": 0,
             "ticks": ""
            },
            "colorscale": [
             [
              0,
              "#0d0887"
             ],
             [
              0.1111111111111111,
              "#46039f"
             ],
             [
              0.2222222222222222,
              "#7201a8"
             ],
             [
              0.3333333333333333,
              "#9c179e"
             ],
             [
              0.4444444444444444,
              "#bd3786"
             ],
             [
              0.5555555555555556,
              "#d8576b"
             ],
             [
              0.6666666666666666,
              "#ed7953"
             ],
             [
              0.7777777777777778,
              "#fb9f3a"
             ],
             [
              0.8888888888888888,
              "#fdca26"
             ],
             [
              1,
              "#f0f921"
             ]
            ],
            "type": "heatmapgl"
           }
          ],
          "histogram": [
           {
            "marker": {
             "colorbar": {
              "outlinewidth": 0,
              "ticks": ""
             }
            },
            "type": "histogram"
           }
          ],
          "histogram2d": [
           {
            "colorbar": {
             "outlinewidth": 0,
             "ticks": ""
            },
            "colorscale": [
             [
              0,
              "#0d0887"
             ],
             [
              0.1111111111111111,
              "#46039f"
             ],
             [
              0.2222222222222222,
              "#7201a8"
             ],
             [
              0.3333333333333333,
              "#9c179e"
             ],
             [
              0.4444444444444444,
              "#bd3786"
             ],
             [
              0.5555555555555556,
              "#d8576b"
             ],
             [
              0.6666666666666666,
              "#ed7953"
             ],
             [
              0.7777777777777778,
              "#fb9f3a"
             ],
             [
              0.8888888888888888,
              "#fdca26"
             ],
             [
              1,
              "#f0f921"
             ]
            ],
            "type": "histogram2d"
           }
          ],
          "histogram2dcontour": [
           {
            "colorbar": {
             "outlinewidth": 0,
             "ticks": ""
            },
            "colorscale": [
             [
              0,
              "#0d0887"
             ],
             [
              0.1111111111111111,
              "#46039f"
             ],
             [
              0.2222222222222222,
              "#7201a8"
             ],
             [
              0.3333333333333333,
              "#9c179e"
             ],
             [
              0.4444444444444444,
              "#bd3786"
             ],
             [
              0.5555555555555556,
              "#d8576b"
             ],
             [
              0.6666666666666666,
              "#ed7953"
             ],
             [
              0.7777777777777778,
              "#fb9f3a"
             ],
             [
              0.8888888888888888,
              "#fdca26"
             ],
             [
              1,
              "#f0f921"
             ]
            ],
            "type": "histogram2dcontour"
           }
          ],
          "mesh3d": [
           {
            "colorbar": {
             "outlinewidth": 0,
             "ticks": ""
            },
            "type": "mesh3d"
           }
          ],
          "parcoords": [
           {
            "line": {
             "colorbar": {
              "outlinewidth": 0,
              "ticks": ""
             }
            },
            "type": "parcoords"
           }
          ],
          "scatter": [
           {
            "marker": {
             "colorbar": {
              "outlinewidth": 0,
              "ticks": ""
             }
            },
            "type": "scatter"
           }
          ],
          "scatter3d": [
           {
            "line": {
             "colorbar": {
              "outlinewidth": 0,
              "ticks": ""
             }
            },
            "marker": {
             "colorbar": {
              "outlinewidth": 0,
              "ticks": ""
             }
            },
            "type": "scatter3d"
           }
          ],
          "scattercarpet": [
           {
            "marker": {
             "colorbar": {
              "outlinewidth": 0,
              "ticks": ""
             }
            },
            "type": "scattercarpet"
           }
          ],
          "scattergeo": [
           {
            "marker": {
             "colorbar": {
              "outlinewidth": 0,
              "ticks": ""
             }
            },
            "type": "scattergeo"
           }
          ],
          "scattergl": [
           {
            "marker": {
             "colorbar": {
              "outlinewidth": 0,
              "ticks": ""
             }
            },
            "type": "scattergl"
           }
          ],
          "scattermapbox": [
           {
            "marker": {
             "colorbar": {
              "outlinewidth": 0,
              "ticks": ""
             }
            },
            "type": "scattermapbox"
           }
          ],
          "scatterpolar": [
           {
            "marker": {
             "colorbar": {
              "outlinewidth": 0,
              "ticks": ""
             }
            },
            "type": "scatterpolar"
           }
          ],
          "scatterpolargl": [
           {
            "marker": {
             "colorbar": {
              "outlinewidth": 0,
              "ticks": ""
             }
            },
            "type": "scatterpolargl"
           }
          ],
          "scatterternary": [
           {
            "marker": {
             "colorbar": {
              "outlinewidth": 0,
              "ticks": ""
             }
            },
            "type": "scatterternary"
           }
          ],
          "surface": [
           {
            "colorbar": {
             "outlinewidth": 0,
             "ticks": ""
            },
            "colorscale": [
             [
              0,
              "#0d0887"
             ],
             [
              0.1111111111111111,
              "#46039f"
             ],
             [
              0.2222222222222222,
              "#7201a8"
             ],
             [
              0.3333333333333333,
              "#9c179e"
             ],
             [
              0.4444444444444444,
              "#bd3786"
             ],
             [
              0.5555555555555556,
              "#d8576b"
             ],
             [
              0.6666666666666666,
              "#ed7953"
             ],
             [
              0.7777777777777778,
              "#fb9f3a"
             ],
             [
              0.8888888888888888,
              "#fdca26"
             ],
             [
              1,
              "#f0f921"
             ]
            ],
            "type": "surface"
           }
          ],
          "table": [
           {
            "cells": {
             "fill": {
              "color": "#EBF0F8"
             },
             "line": {
              "color": "white"
             }
            },
            "header": {
             "fill": {
              "color": "#C8D4E3"
             },
             "line": {
              "color": "white"
             }
            },
            "type": "table"
           }
          ]
         },
         "layout": {
          "annotationdefaults": {
           "arrowcolor": "#2a3f5f",
           "arrowhead": 0,
           "arrowwidth": 1
          },
          "colorscale": {
           "diverging": [
            [
             0,
             "#8e0152"
            ],
            [
             0.1,
             "#c51b7d"
            ],
            [
             0.2,
             "#de77ae"
            ],
            [
             0.3,
             "#f1b6da"
            ],
            [
             0.4,
             "#fde0ef"
            ],
            [
             0.5,
             "#f7f7f7"
            ],
            [
             0.6,
             "#e6f5d0"
            ],
            [
             0.7,
             "#b8e186"
            ],
            [
             0.8,
             "#7fbc41"
            ],
            [
             0.9,
             "#4d9221"
            ],
            [
             1,
             "#276419"
            ]
           ],
           "sequential": [
            [
             0,
             "#0d0887"
            ],
            [
             0.1111111111111111,
             "#46039f"
            ],
            [
             0.2222222222222222,
             "#7201a8"
            ],
            [
             0.3333333333333333,
             "#9c179e"
            ],
            [
             0.4444444444444444,
             "#bd3786"
            ],
            [
             0.5555555555555556,
             "#d8576b"
            ],
            [
             0.6666666666666666,
             "#ed7953"
            ],
            [
             0.7777777777777778,
             "#fb9f3a"
            ],
            [
             0.8888888888888888,
             "#fdca26"
            ],
            [
             1,
             "#f0f921"
            ]
           ],
           "sequentialminus": [
            [
             0,
             "#0d0887"
            ],
            [
             0.1111111111111111,
             "#46039f"
            ],
            [
             0.2222222222222222,
             "#7201a8"
            ],
            [
             0.3333333333333333,
             "#9c179e"
            ],
            [
             0.4444444444444444,
             "#bd3786"
            ],
            [
             0.5555555555555556,
             "#d8576b"
            ],
            [
             0.6666666666666666,
             "#ed7953"
            ],
            [
             0.7777777777777778,
             "#fb9f3a"
            ],
            [
             0.8888888888888888,
             "#fdca26"
            ],
            [
             1,
             "#f0f921"
            ]
           ]
          },
          "colorway": [
           "#636efa",
           "#EF553B",
           "#00cc96",
           "#ab63fa",
           "#FFA15A",
           "#19d3f3",
           "#FF6692",
           "#B6E880",
           "#FF97FF",
           "#FECB52"
          ],
          "font": {
           "color": "#2a3f5f"
          },
          "geo": {
           "bgcolor": "white",
           "lakecolor": "white",
           "landcolor": "#E5ECF6",
           "showlakes": true,
           "showland": true,
           "subunitcolor": "white"
          },
          "hoverlabel": {
           "align": "left"
          },
          "hovermode": "closest",
          "mapbox": {
           "style": "light"
          },
          "paper_bgcolor": "white",
          "plot_bgcolor": "#E5ECF6",
          "polar": {
           "angularaxis": {
            "gridcolor": "white",
            "linecolor": "white",
            "ticks": ""
           },
           "bgcolor": "#E5ECF6",
           "radialaxis": {
            "gridcolor": "white",
            "linecolor": "white",
            "ticks": ""
           }
          },
          "scene": {
           "xaxis": {
            "backgroundcolor": "#E5ECF6",
            "gridcolor": "white",
            "gridwidth": 2,
            "linecolor": "white",
            "showbackground": true,
            "ticks": "",
            "zerolinecolor": "white"
           },
           "yaxis": {
            "backgroundcolor": "#E5ECF6",
            "gridcolor": "white",
            "gridwidth": 2,
            "linecolor": "white",
            "showbackground": true,
            "ticks": "",
            "zerolinecolor": "white"
           },
           "zaxis": {
            "backgroundcolor": "#E5ECF6",
            "gridcolor": "white",
            "gridwidth": 2,
            "linecolor": "white",
            "showbackground": true,
            "ticks": "",
            "zerolinecolor": "white"
           }
          },
          "shapedefaults": {
           "line": {
            "color": "#2a3f5f"
           }
          },
          "ternary": {
           "aaxis": {
            "gridcolor": "white",
            "linecolor": "white",
            "ticks": ""
           },
           "baxis": {
            "gridcolor": "white",
            "linecolor": "white",
            "ticks": ""
           },
           "bgcolor": "#E5ECF6",
           "caxis": {
            "gridcolor": "white",
            "linecolor": "white",
            "ticks": ""
           }
          },
          "title": {
           "x": 0.05
          },
          "xaxis": {
           "automargin": true,
           "gridcolor": "white",
           "linecolor": "white",
           "ticks": "",
           "zerolinecolor": "white",
           "zerolinewidth": 2
          },
          "yaxis": {
           "automargin": true,
           "gridcolor": "white",
           "linecolor": "white",
           "ticks": "",
           "zerolinecolor": "white",
           "zerolinewidth": 2
          }
         }
        }
       }
      },
      "text/html": [
       "<div>\n",
       "        \n",
       "        \n",
       "            <div id=\"fd2771ed-276c-4102-8e8f-2516267745ae\" class=\"plotly-graph-div\" style=\"height:300px; width:100%;\"></div>\n",
       "            <script type=\"text/javascript\">\n",
       "                require([\"plotly\"], function(Plotly) {\n",
       "                    window.PLOTLYENV=window.PLOTLYENV || {};\n",
       "                    \n",
       "                if (document.getElementById(\"fd2771ed-276c-4102-8e8f-2516267745ae\")) {\n",
       "                    Plotly.newPlot(\n",
       "                        'fd2771ed-276c-4102-8e8f-2516267745ae',\n",
       "                        [{\"mode\": \"lines+markers\", \"name\": \"0\", \"type\": \"scatter\", \"x\": [\"zm59\", \"zm16\", \"zm58\", \"zm26\", \"zm53\", \"zm52\", \"zm20\", \"zm32\", \"zm50\", \"zm35\", \"zm19\", \"zm46\", \"zm15\", \"zm54\", \"zm48\", \"zm29\", \"zm23\", \"zm57\", \"zm28\", \"zm18\", \"zm45\", \"zm9\", \"zm7\", \"zm56\", \"zm22\", \"zm55\", \"zm10\", \"zm33\", \"zm47\", \"zm14\", \"zm25\", \"zm38\", \"zm1\", \"zm27\", \"zm36\", \"zm30\", \"zm24\", \"zm41\", \"zm8\", \"zm34\", \"zm21\", \"zm49\", \"zm51\", \"zm37\", \"zm17\", \"zm39\", \"zm11\", \"zm2\", \"zm44\", \"zm43\", \"zm6\", \"zm4\", \"zm42\", \"zm31\", \"zm13\", \"zm40\", \"zm5\", \"zm3\", \"zm12\"], \"y\": [0.03850390862364206, 0.17185108747317338, 0.09291265874797923, 0.07089790320158103, 0.08936609491759213, 0.04379081010171209, 0.04112609545962497, 0.054886667906492125, 0.09254268332908659, 0.08836859170009477, 0.048918973409302416, 0.024085586152164898, 0.07699560366099187, 0.037047023596793446, 0.07650577324424343, 0.019037204731286166, 0.1767305722648969, 0.0426623983491713, 0.023494830801753158, 0.06933698948704377, 0.07575144188322125, 0.3115544538200966, 0.07210636980318637, 0.04880968804292893, 0.025863168321606095, 0.037881046716272994, 0.04858264779715608, 0.05415281881632386, 0.03130769275448456, 0.09632363234822032, 0.06544387676714676, 0.07469041199933152, 0.03708814602104836, 0.02311611574930236, 0.08934339013058706, 0.0889933161546829, 0.0338946806176177, 0.06978965257256103, 0.0432592744947218, 0.06209228979621403, 0.0240235217235211, 0.05151082495387545, 0.03227577362865258, 0.03149721110041656, 0.03068812985802805, 0.13229112542230043, 0.02531669385079558, 0.03170556349610638, 0.09937534147262157, 0.02756715385643366, 0.05072292370781992, 0.07669557975255098, 0.04319437266222278, 0.003883068707226316, 0.0253459074450101, 0.20330864065000812, 0.11481637469963187, 0.08683017791447335, 0.13864901233992635]}],\n",
       "                        {\"height\": 300, \"margin\": {\"b\": 10, \"l\": 10, \"r\": 135, \"t\": 10}, \"template\": {\"data\": {\"bar\": [{\"error_x\": {\"color\": \"#2a3f5f\"}, \"error_y\": {\"color\": \"#2a3f5f\"}, \"marker\": {\"line\": {\"color\": \"#E5ECF6\", \"width\": 0.5}}, \"type\": \"bar\"}], \"barpolar\": [{\"marker\": {\"line\": {\"color\": \"#E5ECF6\", \"width\": 0.5}}, \"type\": \"barpolar\"}], \"carpet\": [{\"aaxis\": {\"endlinecolor\": \"#2a3f5f\", \"gridcolor\": \"white\", \"linecolor\": \"white\", \"minorgridcolor\": \"white\", \"startlinecolor\": \"#2a3f5f\"}, \"baxis\": {\"endlinecolor\": \"#2a3f5f\", \"gridcolor\": \"white\", \"linecolor\": \"white\", \"minorgridcolor\": \"white\", \"startlinecolor\": \"#2a3f5f\"}, \"type\": \"carpet\"}], \"choropleth\": [{\"colorbar\": {\"outlinewidth\": 0, \"ticks\": \"\"}, \"type\": \"choropleth\"}], \"contour\": [{\"colorbar\": {\"outlinewidth\": 0, \"ticks\": \"\"}, \"colorscale\": [[0.0, \"#0d0887\"], [0.1111111111111111, \"#46039f\"], [0.2222222222222222, \"#7201a8\"], [0.3333333333333333, \"#9c179e\"], [0.4444444444444444, \"#bd3786\"], [0.5555555555555556, \"#d8576b\"], [0.6666666666666666, \"#ed7953\"], [0.7777777777777778, \"#fb9f3a\"], [0.8888888888888888, \"#fdca26\"], [1.0, \"#f0f921\"]], \"type\": \"contour\"}], \"contourcarpet\": [{\"colorbar\": {\"outlinewidth\": 0, \"ticks\": \"\"}, \"type\": \"contourcarpet\"}], \"heatmap\": [{\"colorbar\": {\"outlinewidth\": 0, \"ticks\": \"\"}, \"colorscale\": [[0.0, \"#0d0887\"], [0.1111111111111111, \"#46039f\"], [0.2222222222222222, \"#7201a8\"], [0.3333333333333333, \"#9c179e\"], [0.4444444444444444, \"#bd3786\"], [0.5555555555555556, \"#d8576b\"], [0.6666666666666666, \"#ed7953\"], [0.7777777777777778, \"#fb9f3a\"], [0.8888888888888888, \"#fdca26\"], [1.0, \"#f0f921\"]], \"type\": \"heatmap\"}], \"heatmapgl\": [{\"colorbar\": {\"outlinewidth\": 0, \"ticks\": \"\"}, \"colorscale\": [[0.0, \"#0d0887\"], [0.1111111111111111, \"#46039f\"], [0.2222222222222222, \"#7201a8\"], [0.3333333333333333, \"#9c179e\"], [0.4444444444444444, \"#bd3786\"], [0.5555555555555556, \"#d8576b\"], [0.6666666666666666, \"#ed7953\"], [0.7777777777777778, \"#fb9f3a\"], [0.8888888888888888, \"#fdca26\"], [1.0, \"#f0f921\"]], \"type\": \"heatmapgl\"}], \"histogram\": [{\"marker\": {\"colorbar\": {\"outlinewidth\": 0, \"ticks\": \"\"}}, \"type\": \"histogram\"}], \"histogram2d\": [{\"colorbar\": {\"outlinewidth\": 0, \"ticks\": \"\"}, \"colorscale\": [[0.0, \"#0d0887\"], [0.1111111111111111, \"#46039f\"], [0.2222222222222222, \"#7201a8\"], [0.3333333333333333, \"#9c179e\"], [0.4444444444444444, \"#bd3786\"], [0.5555555555555556, \"#d8576b\"], [0.6666666666666666, \"#ed7953\"], [0.7777777777777778, \"#fb9f3a\"], [0.8888888888888888, \"#fdca26\"], [1.0, \"#f0f921\"]], \"type\": \"histogram2d\"}], \"histogram2dcontour\": [{\"colorbar\": {\"outlinewidth\": 0, \"ticks\": \"\"}, \"colorscale\": [[0.0, \"#0d0887\"], [0.1111111111111111, \"#46039f\"], [0.2222222222222222, \"#7201a8\"], [0.3333333333333333, \"#9c179e\"], [0.4444444444444444, \"#bd3786\"], [0.5555555555555556, \"#d8576b\"], [0.6666666666666666, \"#ed7953\"], [0.7777777777777778, \"#fb9f3a\"], [0.8888888888888888, \"#fdca26\"], [1.0, \"#f0f921\"]], \"type\": \"histogram2dcontour\"}], \"mesh3d\": [{\"colorbar\": {\"outlinewidth\": 0, \"ticks\": \"\"}, \"type\": \"mesh3d\"}], \"parcoords\": [{\"line\": {\"colorbar\": {\"outlinewidth\": 0, \"ticks\": \"\"}}, \"type\": \"parcoords\"}], \"scatter\": [{\"marker\": {\"colorbar\": {\"outlinewidth\": 0, \"ticks\": \"\"}}, \"type\": \"scatter\"}], \"scatter3d\": [{\"line\": {\"colorbar\": {\"outlinewidth\": 0, \"ticks\": \"\"}}, \"marker\": {\"colorbar\": {\"outlinewidth\": 0, \"ticks\": \"\"}}, \"type\": \"scatter3d\"}], \"scattercarpet\": [{\"marker\": {\"colorbar\": {\"outlinewidth\": 0, \"ticks\": \"\"}}, \"type\": \"scattercarpet\"}], \"scattergeo\": [{\"marker\": {\"colorbar\": {\"outlinewidth\": 0, \"ticks\": \"\"}}, \"type\": \"scattergeo\"}], \"scattergl\": [{\"marker\": {\"colorbar\": {\"outlinewidth\": 0, \"ticks\": \"\"}}, \"type\": \"scattergl\"}], \"scattermapbox\": [{\"marker\": {\"colorbar\": {\"outlinewidth\": 0, \"ticks\": \"\"}}, \"type\": \"scattermapbox\"}], \"scatterpolar\": [{\"marker\": {\"colorbar\": {\"outlinewidth\": 0, \"ticks\": \"\"}}, \"type\": \"scatterpolar\"}], \"scatterpolargl\": [{\"marker\": {\"colorbar\": {\"outlinewidth\": 0, \"ticks\": \"\"}}, \"type\": \"scatterpolargl\"}], \"scatterternary\": [{\"marker\": {\"colorbar\": {\"outlinewidth\": 0, \"ticks\": \"\"}}, \"type\": \"scatterternary\"}], \"surface\": [{\"colorbar\": {\"outlinewidth\": 0, \"ticks\": \"\"}, \"colorscale\": [[0.0, \"#0d0887\"], [0.1111111111111111, \"#46039f\"], [0.2222222222222222, \"#7201a8\"], [0.3333333333333333, \"#9c179e\"], [0.4444444444444444, \"#bd3786\"], [0.5555555555555556, \"#d8576b\"], [0.6666666666666666, \"#ed7953\"], [0.7777777777777778, \"#fb9f3a\"], [0.8888888888888888, \"#fdca26\"], [1.0, \"#f0f921\"]], \"type\": \"surface\"}], \"table\": [{\"cells\": {\"fill\": {\"color\": \"#EBF0F8\"}, \"line\": {\"color\": \"white\"}}, \"header\": {\"fill\": {\"color\": \"#C8D4E3\"}, \"line\": {\"color\": \"white\"}}, \"type\": \"table\"}]}, \"layout\": {\"annotationdefaults\": {\"arrowcolor\": \"#2a3f5f\", \"arrowhead\": 0, \"arrowwidth\": 1}, \"colorscale\": {\"diverging\": [[0, \"#8e0152\"], [0.1, \"#c51b7d\"], [0.2, \"#de77ae\"], [0.3, \"#f1b6da\"], [0.4, \"#fde0ef\"], [0.5, \"#f7f7f7\"], [0.6, \"#e6f5d0\"], [0.7, \"#b8e186\"], [0.8, \"#7fbc41\"], [0.9, \"#4d9221\"], [1, \"#276419\"]], \"sequential\": [[0.0, \"#0d0887\"], [0.1111111111111111, \"#46039f\"], [0.2222222222222222, \"#7201a8\"], [0.3333333333333333, \"#9c179e\"], [0.4444444444444444, \"#bd3786\"], [0.5555555555555556, \"#d8576b\"], [0.6666666666666666, \"#ed7953\"], [0.7777777777777778, \"#fb9f3a\"], [0.8888888888888888, \"#fdca26\"], [1.0, \"#f0f921\"]], \"sequentialminus\": [[0.0, \"#0d0887\"], [0.1111111111111111, \"#46039f\"], [0.2222222222222222, \"#7201a8\"], [0.3333333333333333, \"#9c179e\"], [0.4444444444444444, \"#bd3786\"], [0.5555555555555556, \"#d8576b\"], [0.6666666666666666, \"#ed7953\"], [0.7777777777777778, \"#fb9f3a\"], [0.8888888888888888, \"#fdca26\"], [1.0, \"#f0f921\"]]}, \"colorway\": [\"#636efa\", \"#EF553B\", \"#00cc96\", \"#ab63fa\", \"#FFA15A\", \"#19d3f3\", \"#FF6692\", \"#B6E880\", \"#FF97FF\", \"#FECB52\"], \"font\": {\"color\": \"#2a3f5f\"}, \"geo\": {\"bgcolor\": \"white\", \"lakecolor\": \"white\", \"landcolor\": \"#E5ECF6\", \"showlakes\": true, \"showland\": true, \"subunitcolor\": \"white\"}, \"hoverlabel\": {\"align\": \"left\"}, \"hovermode\": \"closest\", \"mapbox\": {\"style\": \"light\"}, \"paper_bgcolor\": \"white\", \"plot_bgcolor\": \"#E5ECF6\", \"polar\": {\"angularaxis\": {\"gridcolor\": \"white\", \"linecolor\": \"white\", \"ticks\": \"\"}, \"bgcolor\": \"#E5ECF6\", \"radialaxis\": {\"gridcolor\": \"white\", \"linecolor\": \"white\", \"ticks\": \"\"}}, \"scene\": {\"xaxis\": {\"backgroundcolor\": \"#E5ECF6\", \"gridcolor\": \"white\", \"gridwidth\": 2, \"linecolor\": \"white\", \"showbackground\": true, \"ticks\": \"\", \"zerolinecolor\": \"white\"}, \"yaxis\": {\"backgroundcolor\": \"#E5ECF6\", \"gridcolor\": \"white\", \"gridwidth\": 2, \"linecolor\": \"white\", \"showbackground\": true, \"ticks\": \"\", \"zerolinecolor\": \"white\"}, \"zaxis\": {\"backgroundcolor\": \"#E5ECF6\", \"gridcolor\": \"white\", \"gridwidth\": 2, \"linecolor\": \"white\", \"showbackground\": true, \"ticks\": \"\", \"zerolinecolor\": \"white\"}}, \"shapedefaults\": {\"line\": {\"color\": \"#2a3f5f\"}}, \"ternary\": {\"aaxis\": {\"gridcolor\": \"white\", \"linecolor\": \"white\", \"ticks\": \"\"}, \"baxis\": {\"gridcolor\": \"white\", \"linecolor\": \"white\", \"ticks\": \"\"}, \"bgcolor\": \"#E5ECF6\", \"caxis\": {\"gridcolor\": \"white\", \"linecolor\": \"white\", \"ticks\": \"\"}}, \"title\": {\"x\": 0.05}, \"xaxis\": {\"automargin\": true, \"gridcolor\": \"white\", \"linecolor\": \"white\", \"ticks\": \"\", \"zerolinecolor\": \"white\", \"zerolinewidth\": 2}, \"yaxis\": {\"automargin\": true, \"gridcolor\": \"white\", \"linecolor\": \"white\", \"ticks\": \"\", \"zerolinecolor\": \"white\", \"zerolinewidth\": 2}}}},\n",
       "                        {\"responsive\": true}\n",
       "                    ).then(function(){\n",
       "                            \n",
       "var gd = document.getElementById('fd2771ed-276c-4102-8e8f-2516267745ae');\n",
       "var x = new MutationObserver(function (mutations, observer) {{\n",
       "        var display = window.getComputedStyle(gd).display;\n",
       "        if (!display || display === 'none') {{\n",
       "            console.log([gd, 'removed!']);\n",
       "            Plotly.purge(gd);\n",
       "            observer.disconnect();\n",
       "        }}\n",
       "}});\n",
       "\n",
       "// Listen for the removal of the full notebook cells\n",
       "var notebookContainer = gd.closest('#notebook-container');\n",
       "if (notebookContainer) {{\n",
       "    x.observe(notebookContainer, {childList: true});\n",
       "}}\n",
       "\n",
       "// Listen for the clearing of the current output cell\n",
       "var outputEl = gd.closest('.output');\n",
       "if (outputEl) {{\n",
       "    x.observe(outputEl, {childList: true});\n",
       "}}\n",
       "\n",
       "                        })\n",
       "                };\n",
       "                });\n",
       "            </script>\n",
       "        </div>"
      ]
     },
     "metadata": {},
     "output_type": "display_data"
    }
   ],
   "source": [
    "# Visualization\n",
    "sort_col = ud_helper.zms_sort_cols[0]\n",
    "dila_coef = dila_coef.loc[zms.sort_values(sort_col).index]\n",
    "\n",
    "# sort_col = dila_coef.columns[0]\n",
    "# dila_coef=dila_coef.sort_values(sort_col)\n",
    "# print(sort_col)\n",
    "\n",
    "draw_scatter(dila_coef, height=300)\n",
    "draw_scatter(dila_coef.std(axis=1).to_frame(), height=300, margin_r=135)"
   ]
  },
  {
   "cell_type": "code",
   "execution_count": 460,
   "metadata": {
    "ExecuteTime": {
     "end_time": "2019-10-31T15:19:55.393948Z",
     "start_time": "2019-10-31T15:19:55.356609Z"
    },
    "hidden": true
   },
   "outputs": [
    {
     "data": {
      "text/plain": [
       "3776"
      ]
     },
     "execution_count": 460,
     "metadata": {},
     "output_type": "execute_result"
    }
   ],
   "source": [
    "64*59"
   ]
  },
  {
   "cell_type": "code",
   "execution_count": 456,
   "metadata": {
    "ExecuteTime": {
     "end_time": "2019-10-31T14:38:30.988115Z",
     "start_time": "2019-10-31T14:38:30.697271Z"
    },
    "cell_style": "split",
    "hidden": true
   },
   "outputs": [
    {
     "data": {
      "text/html": [
       "<style  type=\"text/css\" >\n",
       "    #T_1bdc582c_fbec_11e9_8411_d4ae52d07f78row0_col0 {\n",
       "            background-color:  #fff7fb;\n",
       "        }    #T_1bdc582c_fbec_11e9_8411_d4ae52d07f78row0_col1 {\n",
       "            background-color:  #fff7fb;\n",
       "        }    #T_1bdc582c_fbec_11e9_8411_d4ae52d07f78row0_col2 {\n",
       "            background-color:  #fff7fb;\n",
       "        }    #T_1bdc582c_fbec_11e9_8411_d4ae52d07f78row0_col3 {\n",
       "            background-color:  #fff7fb;\n",
       "        }    #T_1bdc582c_fbec_11e9_8411_d4ae52d07f78row0_col4 {\n",
       "            background-color:  #fbf3f9;\n",
       "        }    #T_1bdc582c_fbec_11e9_8411_d4ae52d07f78row0_col5 {\n",
       "            background-color:  #fff7fb;\n",
       "        }    #T_1bdc582c_fbec_11e9_8411_d4ae52d07f78row0_col6 {\n",
       "            background-color:  #fff7fb;\n",
       "        }    #T_1bdc582c_fbec_11e9_8411_d4ae52d07f78row0_col7 {\n",
       "            background-color:  #fff7fb;\n",
       "        }    #T_1bdc582c_fbec_11e9_8411_d4ae52d07f78row1_col0 {\n",
       "            background-color:  #fff7fb;\n",
       "        }    #T_1bdc582c_fbec_11e9_8411_d4ae52d07f78row1_col1 {\n",
       "            background-color:  #fff7fb;\n",
       "        }    #T_1bdc582c_fbec_11e9_8411_d4ae52d07f78row1_col2 {\n",
       "            background-color:  #fbf3f9;\n",
       "        }    #T_1bdc582c_fbec_11e9_8411_d4ae52d07f78row1_col3 {\n",
       "            background-color:  #fff7fb;\n",
       "        }    #T_1bdc582c_fbec_11e9_8411_d4ae52d07f78row1_col4 {\n",
       "            background-color:  #fff7fb;\n",
       "        }    #T_1bdc582c_fbec_11e9_8411_d4ae52d07f78row1_col5 {\n",
       "            background-color:  #fff7fb;\n",
       "        }    #T_1bdc582c_fbec_11e9_8411_d4ae52d07f78row1_col6 {\n",
       "            background-color:  #fff7fb;\n",
       "        }    #T_1bdc582c_fbec_11e9_8411_d4ae52d07f78row1_col7 {\n",
       "            background-color:  #fff7fb;\n",
       "        }    #T_1bdc582c_fbec_11e9_8411_d4ae52d07f78row2_col0 {\n",
       "            background-color:  #fff7fb;\n",
       "        }    #T_1bdc582c_fbec_11e9_8411_d4ae52d07f78row2_col1 {\n",
       "            background-color:  #fbf3f9;\n",
       "        }    #T_1bdc582c_fbec_11e9_8411_d4ae52d07f78row2_col2 {\n",
       "            background-color:  #fff7fb;\n",
       "        }    #T_1bdc582c_fbec_11e9_8411_d4ae52d07f78row2_col3 {\n",
       "            background-color:  #f5eff6;\n",
       "        }    #T_1bdc582c_fbec_11e9_8411_d4ae52d07f78row2_col4 {\n",
       "            background-color:  #fff7fb;\n",
       "        }    #T_1bdc582c_fbec_11e9_8411_d4ae52d07f78row2_col5 {\n",
       "            background-color:  #046198;\n",
       "        }    #T_1bdc582c_fbec_11e9_8411_d4ae52d07f78row2_col6 {\n",
       "            background-color:  #fff7fb;\n",
       "        }    #T_1bdc582c_fbec_11e9_8411_d4ae52d07f78row2_col7 {\n",
       "            background-color:  #fff7fb;\n",
       "        }    #T_1bdc582c_fbec_11e9_8411_d4ae52d07f78row3_col0 {\n",
       "            background-color:  #fff7fb;\n",
       "        }    #T_1bdc582c_fbec_11e9_8411_d4ae52d07f78row3_col1 {\n",
       "            background-color:  #fff7fb;\n",
       "        }    #T_1bdc582c_fbec_11e9_8411_d4ae52d07f78row3_col2 {\n",
       "            background-color:  #f5eff6;\n",
       "        }    #T_1bdc582c_fbec_11e9_8411_d4ae52d07f78row3_col3 {\n",
       "            background-color:  #fff7fb;\n",
       "        }    #T_1bdc582c_fbec_11e9_8411_d4ae52d07f78row3_col4 {\n",
       "            background-color:  #fff7fb;\n",
       "        }    #T_1bdc582c_fbec_11e9_8411_d4ae52d07f78row3_col5 {\n",
       "            background-color:  #fff7fb;\n",
       "        }    #T_1bdc582c_fbec_11e9_8411_d4ae52d07f78row3_col6 {\n",
       "            background-color:  #fff7fb;\n",
       "        }    #T_1bdc582c_fbec_11e9_8411_d4ae52d07f78row3_col7 {\n",
       "            background-color:  #fff7fb;\n",
       "        }    #T_1bdc582c_fbec_11e9_8411_d4ae52d07f78row4_col0 {\n",
       "            background-color:  #fbf3f9;\n",
       "        }    #T_1bdc582c_fbec_11e9_8411_d4ae52d07f78row4_col1 {\n",
       "            background-color:  #fff7fb;\n",
       "        }    #T_1bdc582c_fbec_11e9_8411_d4ae52d07f78row4_col2 {\n",
       "            background-color:  #fff7fb;\n",
       "        }    #T_1bdc582c_fbec_11e9_8411_d4ae52d07f78row4_col3 {\n",
       "            background-color:  #fff7fb;\n",
       "        }    #T_1bdc582c_fbec_11e9_8411_d4ae52d07f78row4_col4 {\n",
       "            background-color:  #fff7fb;\n",
       "        }    #T_1bdc582c_fbec_11e9_8411_d4ae52d07f78row4_col5 {\n",
       "            background-color:  #f1ebf5;\n",
       "        }    #T_1bdc582c_fbec_11e9_8411_d4ae52d07f78row4_col6 {\n",
       "            background-color:  #fff7fb;\n",
       "        }    #T_1bdc582c_fbec_11e9_8411_d4ae52d07f78row4_col7 {\n",
       "            background-color:  #fff7fb;\n",
       "        }    #T_1bdc582c_fbec_11e9_8411_d4ae52d07f78row5_col0 {\n",
       "            background-color:  #fff7fb;\n",
       "        }    #T_1bdc582c_fbec_11e9_8411_d4ae52d07f78row5_col1 {\n",
       "            background-color:  #fff7fb;\n",
       "        }    #T_1bdc582c_fbec_11e9_8411_d4ae52d07f78row5_col2 {\n",
       "            background-color:  #046198;\n",
       "        }    #T_1bdc582c_fbec_11e9_8411_d4ae52d07f78row5_col3 {\n",
       "            background-color:  #fff7fb;\n",
       "        }    #T_1bdc582c_fbec_11e9_8411_d4ae52d07f78row5_col4 {\n",
       "            background-color:  #f1ebf5;\n",
       "        }    #T_1bdc582c_fbec_11e9_8411_d4ae52d07f78row5_col5 {\n",
       "            background-color:  #fff7fb;\n",
       "        }    #T_1bdc582c_fbec_11e9_8411_d4ae52d07f78row5_col6 {\n",
       "            background-color:  #fff7fb;\n",
       "        }    #T_1bdc582c_fbec_11e9_8411_d4ae52d07f78row5_col7 {\n",
       "            background-color:  #fff7fb;\n",
       "        }    #T_1bdc582c_fbec_11e9_8411_d4ae52d07f78row6_col0 {\n",
       "            background-color:  #fff7fb;\n",
       "        }    #T_1bdc582c_fbec_11e9_8411_d4ae52d07f78row6_col1 {\n",
       "            background-color:  #fff7fb;\n",
       "        }    #T_1bdc582c_fbec_11e9_8411_d4ae52d07f78row6_col2 {\n",
       "            background-color:  #fff7fb;\n",
       "        }    #T_1bdc582c_fbec_11e9_8411_d4ae52d07f78row6_col3 {\n",
       "            background-color:  #fff7fb;\n",
       "        }    #T_1bdc582c_fbec_11e9_8411_d4ae52d07f78row6_col4 {\n",
       "            background-color:  #fff7fb;\n",
       "        }    #T_1bdc582c_fbec_11e9_8411_d4ae52d07f78row6_col5 {\n",
       "            background-color:  #fff7fb;\n",
       "        }    #T_1bdc582c_fbec_11e9_8411_d4ae52d07f78row6_col6 {\n",
       "            background-color:  #fff7fb;\n",
       "        }    #T_1bdc582c_fbec_11e9_8411_d4ae52d07f78row6_col7 {\n",
       "            background-color:  #b0c2de;\n",
       "        }    #T_1bdc582c_fbec_11e9_8411_d4ae52d07f78row7_col0 {\n",
       "            background-color:  #fff7fb;\n",
       "        }    #T_1bdc582c_fbec_11e9_8411_d4ae52d07f78row7_col1 {\n",
       "            background-color:  #fff7fb;\n",
       "        }    #T_1bdc582c_fbec_11e9_8411_d4ae52d07f78row7_col2 {\n",
       "            background-color:  #fff7fb;\n",
       "        }    #T_1bdc582c_fbec_11e9_8411_d4ae52d07f78row7_col3 {\n",
       "            background-color:  #fff7fb;\n",
       "        }    #T_1bdc582c_fbec_11e9_8411_d4ae52d07f78row7_col4 {\n",
       "            background-color:  #fff7fb;\n",
       "        }    #T_1bdc582c_fbec_11e9_8411_d4ae52d07f78row7_col5 {\n",
       "            background-color:  #fff7fb;\n",
       "        }    #T_1bdc582c_fbec_11e9_8411_d4ae52d07f78row7_col6 {\n",
       "            background-color:  #b0c2de;\n",
       "        }    #T_1bdc582c_fbec_11e9_8411_d4ae52d07f78row7_col7 {\n",
       "            background-color:  #fff7fb;\n",
       "        }</style><table id=\"T_1bdc582c_fbec_11e9_8411_d4ae52d07f78\" ><thead>    <tr>        <th class=\"blank\" ></th>        <th class=\"blank level0\" ></th>        <th class=\"col_heading level0 col0\" colspan=2>ageb</th>        <th class=\"col_heading level0 col2\" colspan=2>g1</th>        <th class=\"col_heading level0 col4\" colspan=2>g2</th>        <th class=\"col_heading level0 col6\" >g1</th>        <th class=\"col_heading level0 col7\" >g2</th>    </tr>    <tr>        <th class=\"blank\" ></th>        <th class=\"blank level1\" ></th>        <th class=\"col_heading level1 col0\" >area</th>        <th class=\"col_heading level1 col1\" >pop</th>        <th class=\"col_heading level1 col2\" >area</th>        <th class=\"col_heading level1 col3\" >pop</th>        <th class=\"col_heading level1 col4\" >area</th>        <th class=\"col_heading level1 col5\" >pop</th>        <th class=\"col_heading level1 col6\" >_idw</th>        <th class=\"col_heading level1 col7\" >_idw</th>    </tr></thead><tbody>\n",
       "                <tr>\n",
       "                        <th id=\"T_1bdc582c_fbec_11e9_8411_d4ae52d07f78level0_row0\" class=\"row_heading level0 row0\" rowspan=2>ageb</th>\n",
       "                        <th id=\"T_1bdc582c_fbec_11e9_8411_d4ae52d07f78level1_row0\" class=\"row_heading level1 row0\" >area</th>\n",
       "                        <td id=\"T_1bdc582c_fbec_11e9_8411_d4ae52d07f78row0_col0\" class=\"data row0 col0\" >0.000</td>\n",
       "                        <td id=\"T_1bdc582c_fbec_11e9_8411_d4ae52d07f78row0_col1\" class=\"data row0 col1\" >0.000</td>\n",
       "                        <td id=\"T_1bdc582c_fbec_11e9_8411_d4ae52d07f78row0_col2\" class=\"data row0 col2\" >0.001</td>\n",
       "                        <td id=\"T_1bdc582c_fbec_11e9_8411_d4ae52d07f78row0_col3\" class=\"data row0 col3\" >0.000</td>\n",
       "                        <td id=\"T_1bdc582c_fbec_11e9_8411_d4ae52d07f78row0_col4\" class=\"data row0 col4\" >0.029</td>\n",
       "                        <td id=\"T_1bdc582c_fbec_11e9_8411_d4ae52d07f78row0_col5\" class=\"data row0 col5\" >0.003</td>\n",
       "                        <td id=\"T_1bdc582c_fbec_11e9_8411_d4ae52d07f78row0_col6\" class=\"data row0 col6\" >0.000</td>\n",
       "                        <td id=\"T_1bdc582c_fbec_11e9_8411_d4ae52d07f78row0_col7\" class=\"data row0 col7\" >0.000</td>\n",
       "            </tr>\n",
       "            <tr>\n",
       "                                <th id=\"T_1bdc582c_fbec_11e9_8411_d4ae52d07f78level1_row1\" class=\"row_heading level1 row1\" >pop</th>\n",
       "                        <td id=\"T_1bdc582c_fbec_11e9_8411_d4ae52d07f78row1_col0\" class=\"data row1 col0\" >0.000</td>\n",
       "                        <td id=\"T_1bdc582c_fbec_11e9_8411_d4ae52d07f78row1_col1\" class=\"data row1 col1\" >0.000</td>\n",
       "                        <td id=\"T_1bdc582c_fbec_11e9_8411_d4ae52d07f78row1_col2\" class=\"data row1 col2\" >0.029</td>\n",
       "                        <td id=\"T_1bdc582c_fbec_11e9_8411_d4ae52d07f78row1_col3\" class=\"data row1 col3\" >0.000</td>\n",
       "                        <td id=\"T_1bdc582c_fbec_11e9_8411_d4ae52d07f78row1_col4\" class=\"data row1 col4\" >0.000</td>\n",
       "                        <td id=\"T_1bdc582c_fbec_11e9_8411_d4ae52d07f78row1_col5\" class=\"data row1 col5\" >0.000</td>\n",
       "                        <td id=\"T_1bdc582c_fbec_11e9_8411_d4ae52d07f78row1_col6\" class=\"data row1 col6\" >0.000</td>\n",
       "                        <td id=\"T_1bdc582c_fbec_11e9_8411_d4ae52d07f78row1_col7\" class=\"data row1 col7\" >0.000</td>\n",
       "            </tr>\n",
       "            <tr>\n",
       "                        <th id=\"T_1bdc582c_fbec_11e9_8411_d4ae52d07f78level0_row2\" class=\"row_heading level0 row2\" rowspan=2>g1</th>\n",
       "                        <th id=\"T_1bdc582c_fbec_11e9_8411_d4ae52d07f78level1_row2\" class=\"row_heading level1 row2\" >area</th>\n",
       "                        <td id=\"T_1bdc582c_fbec_11e9_8411_d4ae52d07f78row2_col0\" class=\"data row2 col0\" >0.001</td>\n",
       "                        <td id=\"T_1bdc582c_fbec_11e9_8411_d4ae52d07f78row2_col1\" class=\"data row2 col1\" >0.029</td>\n",
       "                        <td id=\"T_1bdc582c_fbec_11e9_8411_d4ae52d07f78row2_col2\" class=\"data row2 col2\" >0.000</td>\n",
       "                        <td id=\"T_1bdc582c_fbec_11e9_8411_d4ae52d07f78row2_col3\" class=\"data row2 col3\" >0.060</td>\n",
       "                        <td id=\"T_1bdc582c_fbec_11e9_8411_d4ae52d07f78row2_col4\" class=\"data row2 col4\" >0.000</td>\n",
       "                        <td id=\"T_1bdc582c_fbec_11e9_8411_d4ae52d07f78row2_col5\" class=\"data row2 col5\" >0.786</td>\n",
       "                        <td id=\"T_1bdc582c_fbec_11e9_8411_d4ae52d07f78row2_col6\" class=\"data row2 col6\" >0.000</td>\n",
       "                        <td id=\"T_1bdc582c_fbec_11e9_8411_d4ae52d07f78row2_col7\" class=\"data row2 col7\" >0.000</td>\n",
       "            </tr>\n",
       "            <tr>\n",
       "                                <th id=\"T_1bdc582c_fbec_11e9_8411_d4ae52d07f78level1_row3\" class=\"row_heading level1 row3\" >pop</th>\n",
       "                        <td id=\"T_1bdc582c_fbec_11e9_8411_d4ae52d07f78row3_col0\" class=\"data row3 col0\" >0.000</td>\n",
       "                        <td id=\"T_1bdc582c_fbec_11e9_8411_d4ae52d07f78row3_col1\" class=\"data row3 col1\" >0.000</td>\n",
       "                        <td id=\"T_1bdc582c_fbec_11e9_8411_d4ae52d07f78row3_col2\" class=\"data row3 col2\" >0.060</td>\n",
       "                        <td id=\"T_1bdc582c_fbec_11e9_8411_d4ae52d07f78row3_col3\" class=\"data row3 col3\" >0.000</td>\n",
       "                        <td id=\"T_1bdc582c_fbec_11e9_8411_d4ae52d07f78row3_col4\" class=\"data row3 col4\" >0.000</td>\n",
       "                        <td id=\"T_1bdc582c_fbec_11e9_8411_d4ae52d07f78row3_col5\" class=\"data row3 col5\" >0.000</td>\n",
       "                        <td id=\"T_1bdc582c_fbec_11e9_8411_d4ae52d07f78row3_col6\" class=\"data row3 col6\" >0.000</td>\n",
       "                        <td id=\"T_1bdc582c_fbec_11e9_8411_d4ae52d07f78row3_col7\" class=\"data row3 col7\" >0.000</td>\n",
       "            </tr>\n",
       "            <tr>\n",
       "                        <th id=\"T_1bdc582c_fbec_11e9_8411_d4ae52d07f78level0_row4\" class=\"row_heading level0 row4\" rowspan=2>g2</th>\n",
       "                        <th id=\"T_1bdc582c_fbec_11e9_8411_d4ae52d07f78level1_row4\" class=\"row_heading level1 row4\" >area</th>\n",
       "                        <td id=\"T_1bdc582c_fbec_11e9_8411_d4ae52d07f78row4_col0\" class=\"data row4 col0\" >0.029</td>\n",
       "                        <td id=\"T_1bdc582c_fbec_11e9_8411_d4ae52d07f78row4_col1\" class=\"data row4 col1\" >0.000</td>\n",
       "                        <td id=\"T_1bdc582c_fbec_11e9_8411_d4ae52d07f78row4_col2\" class=\"data row4 col2\" >0.000</td>\n",
       "                        <td id=\"T_1bdc582c_fbec_11e9_8411_d4ae52d07f78row4_col3\" class=\"data row4 col3\" >0.000</td>\n",
       "                        <td id=\"T_1bdc582c_fbec_11e9_8411_d4ae52d07f78row4_col4\" class=\"data row4 col4\" >0.000</td>\n",
       "                        <td id=\"T_1bdc582c_fbec_11e9_8411_d4ae52d07f78row4_col5\" class=\"data row4 col5\" >0.088</td>\n",
       "                        <td id=\"T_1bdc582c_fbec_11e9_8411_d4ae52d07f78row4_col6\" class=\"data row4 col6\" >0.000</td>\n",
       "                        <td id=\"T_1bdc582c_fbec_11e9_8411_d4ae52d07f78row4_col7\" class=\"data row4 col7\" >0.000</td>\n",
       "            </tr>\n",
       "            <tr>\n",
       "                                <th id=\"T_1bdc582c_fbec_11e9_8411_d4ae52d07f78level1_row5\" class=\"row_heading level1 row5\" >pop</th>\n",
       "                        <td id=\"T_1bdc582c_fbec_11e9_8411_d4ae52d07f78row5_col0\" class=\"data row5 col0\" >0.003</td>\n",
       "                        <td id=\"T_1bdc582c_fbec_11e9_8411_d4ae52d07f78row5_col1\" class=\"data row5 col1\" >0.000</td>\n",
       "                        <td id=\"T_1bdc582c_fbec_11e9_8411_d4ae52d07f78row5_col2\" class=\"data row5 col2\" >0.786</td>\n",
       "                        <td id=\"T_1bdc582c_fbec_11e9_8411_d4ae52d07f78row5_col3\" class=\"data row5 col3\" >0.000</td>\n",
       "                        <td id=\"T_1bdc582c_fbec_11e9_8411_d4ae52d07f78row5_col4\" class=\"data row5 col4\" >0.088</td>\n",
       "                        <td id=\"T_1bdc582c_fbec_11e9_8411_d4ae52d07f78row5_col5\" class=\"data row5 col5\" >0.000</td>\n",
       "                        <td id=\"T_1bdc582c_fbec_11e9_8411_d4ae52d07f78row5_col6\" class=\"data row5 col6\" >0.000</td>\n",
       "                        <td id=\"T_1bdc582c_fbec_11e9_8411_d4ae52d07f78row5_col7\" class=\"data row5 col7\" >0.000</td>\n",
       "            </tr>\n",
       "            <tr>\n",
       "                        <th id=\"T_1bdc582c_fbec_11e9_8411_d4ae52d07f78level0_row6\" class=\"row_heading level0 row6\" >g1</th>\n",
       "                        <th id=\"T_1bdc582c_fbec_11e9_8411_d4ae52d07f78level1_row6\" class=\"row_heading level1 row6\" >_idw</th>\n",
       "                        <td id=\"T_1bdc582c_fbec_11e9_8411_d4ae52d07f78row6_col0\" class=\"data row6 col0\" >0.000</td>\n",
       "                        <td id=\"T_1bdc582c_fbec_11e9_8411_d4ae52d07f78row6_col1\" class=\"data row6 col1\" >0.000</td>\n",
       "                        <td id=\"T_1bdc582c_fbec_11e9_8411_d4ae52d07f78row6_col2\" class=\"data row6 col2\" >0.000</td>\n",
       "                        <td id=\"T_1bdc582c_fbec_11e9_8411_d4ae52d07f78row6_col3\" class=\"data row6 col3\" >0.000</td>\n",
       "                        <td id=\"T_1bdc582c_fbec_11e9_8411_d4ae52d07f78row6_col4\" class=\"data row6 col4\" >0.000</td>\n",
       "                        <td id=\"T_1bdc582c_fbec_11e9_8411_d4ae52d07f78row6_col5\" class=\"data row6 col5\" >0.000</td>\n",
       "                        <td id=\"T_1bdc582c_fbec_11e9_8411_d4ae52d07f78row6_col6\" class=\"data row6 col6\" >0.000</td>\n",
       "                        <td id=\"T_1bdc582c_fbec_11e9_8411_d4ae52d07f78row6_col7\" class=\"data row6 col7\" >0.326</td>\n",
       "            </tr>\n",
       "            <tr>\n",
       "                        <th id=\"T_1bdc582c_fbec_11e9_8411_d4ae52d07f78level0_row7\" class=\"row_heading level0 row7\" >g2</th>\n",
       "                        <th id=\"T_1bdc582c_fbec_11e9_8411_d4ae52d07f78level1_row7\" class=\"row_heading level1 row7\" >_idw</th>\n",
       "                        <td id=\"T_1bdc582c_fbec_11e9_8411_d4ae52d07f78row7_col0\" class=\"data row7 col0\" >0.000</td>\n",
       "                        <td id=\"T_1bdc582c_fbec_11e9_8411_d4ae52d07f78row7_col1\" class=\"data row7 col1\" >0.000</td>\n",
       "                        <td id=\"T_1bdc582c_fbec_11e9_8411_d4ae52d07f78row7_col2\" class=\"data row7 col2\" >0.000</td>\n",
       "                        <td id=\"T_1bdc582c_fbec_11e9_8411_d4ae52d07f78row7_col3\" class=\"data row7 col3\" >0.000</td>\n",
       "                        <td id=\"T_1bdc582c_fbec_11e9_8411_d4ae52d07f78row7_col4\" class=\"data row7 col4\" >0.000</td>\n",
       "                        <td id=\"T_1bdc582c_fbec_11e9_8411_d4ae52d07f78row7_col5\" class=\"data row7 col5\" >0.000</td>\n",
       "                        <td id=\"T_1bdc582c_fbec_11e9_8411_d4ae52d07f78row7_col6\" class=\"data row7 col6\" >0.326</td>\n",
       "                        <td id=\"T_1bdc582c_fbec_11e9_8411_d4ae52d07f78row7_col7\" class=\"data row7 col7\" >0.000</td>\n",
       "            </tr>\n",
       "    </tbody></table>"
      ],
      "text/plain": [
       "<pandas.io.formats.style.Styler at 0x7f0032fba320>"
      ]
     },
     "execution_count": 456,
     "metadata": {},
     "output_type": "execute_result"
    }
   ],
   "source": [
    "# even though (ageb, pop) and (g1 pop) has similar values, \n",
    "# but the std could also be small.\n",
    "dila_wil_ps, _ = wilcoxon_test(dila_coef, clean_table=False)\n",
    "grad_bg(dila_wil_ps, cmap='PuBu',high=.2)\n",
    "# dila_wil_ps"
   ]
  },
  {
   "cell_type": "code",
   "execution_count": 470,
   "metadata": {
    "ExecuteTime": {
     "end_time": "2019-10-31T16:21:04.378874Z",
     "start_time": "2019-10-31T16:21:04.066393Z"
    },
    "cell_style": "split",
    "hidden": true
   },
   "outputs": [
    {
     "name": "stdout",
     "output_type": "stream",
     "text": [
      "\n"
     ]
    },
    {
     "data": {
      "text/html": [
       "<style  type=\"text/css\" >\n",
       "    #T_6f914de8_fbfa_11e9_8411_d4ae52d07f78row0_col0 {\n",
       "            background-color:  #fff7fb;\n",
       "        }    #T_6f914de8_fbfa_11e9_8411_d4ae52d07f78row0_col1 {\n",
       "            background-color:  #fff7fb;\n",
       "        }    #T_6f914de8_fbfa_11e9_8411_d4ae52d07f78row0_col2 {\n",
       "            background-color:  #fff7fb;\n",
       "        }    #T_6f914de8_fbfa_11e9_8411_d4ae52d07f78row0_col3 {\n",
       "            background-color:  #fff7fb;\n",
       "        }    #T_6f914de8_fbfa_11e9_8411_d4ae52d07f78row0_col4 {\n",
       "            background-color:  #fff7fb;\n",
       "        }    #T_6f914de8_fbfa_11e9_8411_d4ae52d07f78row0_col5 {\n",
       "            background-color:  #fff7fb;\n",
       "        }    #T_6f914de8_fbfa_11e9_8411_d4ae52d07f78row0_col6 {\n",
       "            background-color:  #046198;\n",
       "        }    #T_6f914de8_fbfa_11e9_8411_d4ae52d07f78row0_col7 {\n",
       "            background-color:  #308cbe;\n",
       "        }    #T_6f914de8_fbfa_11e9_8411_d4ae52d07f78row1_col0 {\n",
       "            background-color:  #fff7fb;\n",
       "        }    #T_6f914de8_fbfa_11e9_8411_d4ae52d07f78row1_col1 {\n",
       "            background-color:  #fff7fb;\n",
       "        }    #T_6f914de8_fbfa_11e9_8411_d4ae52d07f78row1_col2 {\n",
       "            background-color:  #fff7fb;\n",
       "        }    #T_6f914de8_fbfa_11e9_8411_d4ae52d07f78row1_col3 {\n",
       "            background-color:  #fff7fb;\n",
       "        }    #T_6f914de8_fbfa_11e9_8411_d4ae52d07f78row1_col4 {\n",
       "            background-color:  #fff7fb;\n",
       "        }    #T_6f914de8_fbfa_11e9_8411_d4ae52d07f78row1_col5 {\n",
       "            background-color:  #fff7fb;\n",
       "        }    #T_6f914de8_fbfa_11e9_8411_d4ae52d07f78row1_col6 {\n",
       "            background-color:  #d4d4e8;\n",
       "        }    #T_6f914de8_fbfa_11e9_8411_d4ae52d07f78row1_col7 {\n",
       "            background-color:  #e0dded;\n",
       "        }    #T_6f914de8_fbfa_11e9_8411_d4ae52d07f78row2_col0 {\n",
       "            background-color:  #fff7fb;\n",
       "        }    #T_6f914de8_fbfa_11e9_8411_d4ae52d07f78row2_col1 {\n",
       "            background-color:  #fff7fb;\n",
       "        }    #T_6f914de8_fbfa_11e9_8411_d4ae52d07f78row2_col2 {\n",
       "            background-color:  #fff7fb;\n",
       "        }    #T_6f914de8_fbfa_11e9_8411_d4ae52d07f78row2_col3 {\n",
       "            background-color:  #fff7fb;\n",
       "        }    #T_6f914de8_fbfa_11e9_8411_d4ae52d07f78row2_col4 {\n",
       "            background-color:  #fff7fb;\n",
       "        }    #T_6f914de8_fbfa_11e9_8411_d4ae52d07f78row2_col5 {\n",
       "            background-color:  #fff7fb;\n",
       "        }    #T_6f914de8_fbfa_11e9_8411_d4ae52d07f78row2_col6 {\n",
       "            background-color:  #fff7fb;\n",
       "        }    #T_6f914de8_fbfa_11e9_8411_d4ae52d07f78row2_col7 {\n",
       "            background-color:  #fff7fb;\n",
       "        }    #T_6f914de8_fbfa_11e9_8411_d4ae52d07f78row3_col0 {\n",
       "            background-color:  #fff7fb;\n",
       "        }    #T_6f914de8_fbfa_11e9_8411_d4ae52d07f78row3_col1 {\n",
       "            background-color:  #fff7fb;\n",
       "        }    #T_6f914de8_fbfa_11e9_8411_d4ae52d07f78row3_col2 {\n",
       "            background-color:  #fff7fb;\n",
       "        }    #T_6f914de8_fbfa_11e9_8411_d4ae52d07f78row3_col3 {\n",
       "            background-color:  #fff7fb;\n",
       "        }    #T_6f914de8_fbfa_11e9_8411_d4ae52d07f78row3_col4 {\n",
       "            background-color:  #fff7fb;\n",
       "        }    #T_6f914de8_fbfa_11e9_8411_d4ae52d07f78row3_col5 {\n",
       "            background-color:  #fff7fb;\n",
       "        }    #T_6f914de8_fbfa_11e9_8411_d4ae52d07f78row3_col6 {\n",
       "            background-color:  #e0dded;\n",
       "        }    #T_6f914de8_fbfa_11e9_8411_d4ae52d07f78row3_col7 {\n",
       "            background-color:  #eae6f1;\n",
       "        }    #T_6f914de8_fbfa_11e9_8411_d4ae52d07f78row4_col0 {\n",
       "            background-color:  #fff7fb;\n",
       "        }    #T_6f914de8_fbfa_11e9_8411_d4ae52d07f78row4_col1 {\n",
       "            background-color:  #fff7fb;\n",
       "        }    #T_6f914de8_fbfa_11e9_8411_d4ae52d07f78row4_col2 {\n",
       "            background-color:  #fff7fb;\n",
       "        }    #T_6f914de8_fbfa_11e9_8411_d4ae52d07f78row4_col3 {\n",
       "            background-color:  #fff7fb;\n",
       "        }    #T_6f914de8_fbfa_11e9_8411_d4ae52d07f78row4_col4 {\n",
       "            background-color:  #fff7fb;\n",
       "        }    #T_6f914de8_fbfa_11e9_8411_d4ae52d07f78row4_col5 {\n",
       "            background-color:  #fff7fb;\n",
       "        }    #T_6f914de8_fbfa_11e9_8411_d4ae52d07f78row4_col6 {\n",
       "            background-color:  #fff7fb;\n",
       "        }    #T_6f914de8_fbfa_11e9_8411_d4ae52d07f78row4_col7 {\n",
       "            background-color:  #fff7fb;\n",
       "        }    #T_6f914de8_fbfa_11e9_8411_d4ae52d07f78row5_col0 {\n",
       "            background-color:  #fff7fb;\n",
       "        }    #T_6f914de8_fbfa_11e9_8411_d4ae52d07f78row5_col1 {\n",
       "            background-color:  #fff7fb;\n",
       "        }    #T_6f914de8_fbfa_11e9_8411_d4ae52d07f78row5_col2 {\n",
       "            background-color:  #fff7fb;\n",
       "        }    #T_6f914de8_fbfa_11e9_8411_d4ae52d07f78row5_col3 {\n",
       "            background-color:  #fff7fb;\n",
       "        }    #T_6f914de8_fbfa_11e9_8411_d4ae52d07f78row5_col4 {\n",
       "            background-color:  #fff7fb;\n",
       "        }    #T_6f914de8_fbfa_11e9_8411_d4ae52d07f78row5_col5 {\n",
       "            background-color:  #fff7fb;\n",
       "        }    #T_6f914de8_fbfa_11e9_8411_d4ae52d07f78row5_col6 {\n",
       "            background-color:  #faf2f8;\n",
       "        }    #T_6f914de8_fbfa_11e9_8411_d4ae52d07f78row5_col7 {\n",
       "            background-color:  #fbf3f9;\n",
       "        }    #T_6f914de8_fbfa_11e9_8411_d4ae52d07f78row6_col0 {\n",
       "            background-color:  #046198;\n",
       "        }    #T_6f914de8_fbfa_11e9_8411_d4ae52d07f78row6_col1 {\n",
       "            background-color:  #d4d4e8;\n",
       "        }    #T_6f914de8_fbfa_11e9_8411_d4ae52d07f78row6_col2 {\n",
       "            background-color:  #fff7fb;\n",
       "        }    #T_6f914de8_fbfa_11e9_8411_d4ae52d07f78row6_col3 {\n",
       "            background-color:  #e0dded;\n",
       "        }    #T_6f914de8_fbfa_11e9_8411_d4ae52d07f78row6_col4 {\n",
       "            background-color:  #fff7fb;\n",
       "        }    #T_6f914de8_fbfa_11e9_8411_d4ae52d07f78row6_col5 {\n",
       "            background-color:  #faf2f8;\n",
       "        }    #T_6f914de8_fbfa_11e9_8411_d4ae52d07f78row6_col6 {\n",
       "            background-color:  #fff7fb;\n",
       "        }    #T_6f914de8_fbfa_11e9_8411_d4ae52d07f78row6_col7 {\n",
       "            background-color:  #fff7fb;\n",
       "        }    #T_6f914de8_fbfa_11e9_8411_d4ae52d07f78row7_col0 {\n",
       "            background-color:  #308cbe;\n",
       "        }    #T_6f914de8_fbfa_11e9_8411_d4ae52d07f78row7_col1 {\n",
       "            background-color:  #e0dded;\n",
       "        }    #T_6f914de8_fbfa_11e9_8411_d4ae52d07f78row7_col2 {\n",
       "            background-color:  #fff7fb;\n",
       "        }    #T_6f914de8_fbfa_11e9_8411_d4ae52d07f78row7_col3 {\n",
       "            background-color:  #eae6f1;\n",
       "        }    #T_6f914de8_fbfa_11e9_8411_d4ae52d07f78row7_col4 {\n",
       "            background-color:  #fff7fb;\n",
       "        }    #T_6f914de8_fbfa_11e9_8411_d4ae52d07f78row7_col5 {\n",
       "            background-color:  #fbf3f9;\n",
       "        }    #T_6f914de8_fbfa_11e9_8411_d4ae52d07f78row7_col6 {\n",
       "            background-color:  #fff7fb;\n",
       "        }    #T_6f914de8_fbfa_11e9_8411_d4ae52d07f78row7_col7 {\n",
       "            background-color:  #fff7fb;\n",
       "        }</style><table id=\"T_6f914de8_fbfa_11e9_8411_d4ae52d07f78\" ><thead>    <tr>        <th class=\"blank\" ></th>        <th class=\"blank level0\" ></th>        <th class=\"col_heading level0 col0\" colspan=2>ageb</th>        <th class=\"col_heading level0 col2\" colspan=2>g1</th>        <th class=\"col_heading level0 col4\" colspan=2>g2</th>        <th class=\"col_heading level0 col6\" >g1</th>        <th class=\"col_heading level0 col7\" >g2</th>    </tr>    <tr>        <th class=\"blank\" ></th>        <th class=\"blank level1\" ></th>        <th class=\"col_heading level1 col0\" >area</th>        <th class=\"col_heading level1 col1\" >pop</th>        <th class=\"col_heading level1 col2\" >area</th>        <th class=\"col_heading level1 col3\" >pop</th>        <th class=\"col_heading level1 col4\" >area</th>        <th class=\"col_heading level1 col5\" >pop</th>        <th class=\"col_heading level1 col6\" >_idw</th>        <th class=\"col_heading level1 col7\" >_idw</th>    </tr></thead><tbody>\n",
       "                <tr>\n",
       "                        <th id=\"T_6f914de8_fbfa_11e9_8411_d4ae52d07f78level0_row0\" class=\"row_heading level0 row0\" rowspan=2>ageb</th>\n",
       "                        <th id=\"T_6f914de8_fbfa_11e9_8411_d4ae52d07f78level1_row0\" class=\"row_heading level1 row0\" >area</th>\n",
       "                        <td id=\"T_6f914de8_fbfa_11e9_8411_d4ae52d07f78row0_col0\" class=\"data row0 col0\" >0.000</td>\n",
       "                        <td id=\"T_6f914de8_fbfa_11e9_8411_d4ae52d07f78row0_col1\" class=\"data row0 col1\" >0.000</td>\n",
       "                        <td id=\"T_6f914de8_fbfa_11e9_8411_d4ae52d07f78row0_col2\" class=\"data row0 col2\" >0.000</td>\n",
       "                        <td id=\"T_6f914de8_fbfa_11e9_8411_d4ae52d07f78row0_col3\" class=\"data row0 col3\" >0.000</td>\n",
       "                        <td id=\"T_6f914de8_fbfa_11e9_8411_d4ae52d07f78row0_col4\" class=\"data row0 col4\" >0.000</td>\n",
       "                        <td id=\"T_6f914de8_fbfa_11e9_8411_d4ae52d07f78row0_col5\" class=\"data row0 col5\" >0.000</td>\n",
       "                        <td id=\"T_6f914de8_fbfa_11e9_8411_d4ae52d07f78row0_col6\" class=\"data row0 col6\" >0.031</td>\n",
       "                        <td id=\"T_6f914de8_fbfa_11e9_8411_d4ae52d07f78row0_col7\" class=\"data row0 col7\" >0.024</td>\n",
       "            </tr>\n",
       "            <tr>\n",
       "                                <th id=\"T_6f914de8_fbfa_11e9_8411_d4ae52d07f78level1_row1\" class=\"row_heading level1 row1\" >pop</th>\n",
       "                        <td id=\"T_6f914de8_fbfa_11e9_8411_d4ae52d07f78row1_col0\" class=\"data row1 col0\" >0.000</td>\n",
       "                        <td id=\"T_6f914de8_fbfa_11e9_8411_d4ae52d07f78row1_col1\" class=\"data row1 col1\" >0.000</td>\n",
       "                        <td id=\"T_6f914de8_fbfa_11e9_8411_d4ae52d07f78row1_col2\" class=\"data row1 col2\" >0.000</td>\n",
       "                        <td id=\"T_6f914de8_fbfa_11e9_8411_d4ae52d07f78row1_col3\" class=\"data row1 col3\" >0.000</td>\n",
       "                        <td id=\"T_6f914de8_fbfa_11e9_8411_d4ae52d07f78row1_col4\" class=\"data row1 col4\" >0.000</td>\n",
       "                        <td id=\"T_6f914de8_fbfa_11e9_8411_d4ae52d07f78row1_col5\" class=\"data row1 col5\" >0.000</td>\n",
       "                        <td id=\"T_6f914de8_fbfa_11e9_8411_d4ae52d07f78row1_col6\" class=\"data row1 col6\" >0.009</td>\n",
       "                        <td id=\"T_6f914de8_fbfa_11e9_8411_d4ae52d07f78row1_col7\" class=\"data row1 col7\" >0.007</td>\n",
       "            </tr>\n",
       "            <tr>\n",
       "                        <th id=\"T_6f914de8_fbfa_11e9_8411_d4ae52d07f78level0_row2\" class=\"row_heading level0 row2\" rowspan=2>g1</th>\n",
       "                        <th id=\"T_6f914de8_fbfa_11e9_8411_d4ae52d07f78level1_row2\" class=\"row_heading level1 row2\" >area</th>\n",
       "                        <td id=\"T_6f914de8_fbfa_11e9_8411_d4ae52d07f78row2_col0\" class=\"data row2 col0\" >0.000</td>\n",
       "                        <td id=\"T_6f914de8_fbfa_11e9_8411_d4ae52d07f78row2_col1\" class=\"data row2 col1\" >0.000</td>\n",
       "                        <td id=\"T_6f914de8_fbfa_11e9_8411_d4ae52d07f78row2_col2\" class=\"data row2 col2\" >0.000</td>\n",
       "                        <td id=\"T_6f914de8_fbfa_11e9_8411_d4ae52d07f78row2_col3\" class=\"data row2 col3\" >0.000</td>\n",
       "                        <td id=\"T_6f914de8_fbfa_11e9_8411_d4ae52d07f78row2_col4\" class=\"data row2 col4\" >0.000</td>\n",
       "                        <td id=\"T_6f914de8_fbfa_11e9_8411_d4ae52d07f78row2_col5\" class=\"data row2 col5\" >0.000</td>\n",
       "                        <td id=\"T_6f914de8_fbfa_11e9_8411_d4ae52d07f78row2_col6\" class=\"data row2 col6\" >0.000</td>\n",
       "                        <td id=\"T_6f914de8_fbfa_11e9_8411_d4ae52d07f78row2_col7\" class=\"data row2 col7\" >0.000</td>\n",
       "            </tr>\n",
       "            <tr>\n",
       "                                <th id=\"T_6f914de8_fbfa_11e9_8411_d4ae52d07f78level1_row3\" class=\"row_heading level1 row3\" >pop</th>\n",
       "                        <td id=\"T_6f914de8_fbfa_11e9_8411_d4ae52d07f78row3_col0\" class=\"data row3 col0\" >0.000</td>\n",
       "                        <td id=\"T_6f914de8_fbfa_11e9_8411_d4ae52d07f78row3_col1\" class=\"data row3 col1\" >0.000</td>\n",
       "                        <td id=\"T_6f914de8_fbfa_11e9_8411_d4ae52d07f78row3_col2\" class=\"data row3 col2\" >0.000</td>\n",
       "                        <td id=\"T_6f914de8_fbfa_11e9_8411_d4ae52d07f78row3_col3\" class=\"data row3 col3\" >0.000</td>\n",
       "                        <td id=\"T_6f914de8_fbfa_11e9_8411_d4ae52d07f78row3_col4\" class=\"data row3 col4\" >0.000</td>\n",
       "                        <td id=\"T_6f914de8_fbfa_11e9_8411_d4ae52d07f78row3_col5\" class=\"data row3 col5\" >0.000</td>\n",
       "                        <td id=\"T_6f914de8_fbfa_11e9_8411_d4ae52d07f78row3_col6\" class=\"data row3 col6\" >0.007</td>\n",
       "                        <td id=\"T_6f914de8_fbfa_11e9_8411_d4ae52d07f78row3_col7\" class=\"data row3 col7\" >0.005</td>\n",
       "            </tr>\n",
       "            <tr>\n",
       "                        <th id=\"T_6f914de8_fbfa_11e9_8411_d4ae52d07f78level0_row4\" class=\"row_heading level0 row4\" rowspan=2>g2</th>\n",
       "                        <th id=\"T_6f914de8_fbfa_11e9_8411_d4ae52d07f78level1_row4\" class=\"row_heading level1 row4\" >area</th>\n",
       "                        <td id=\"T_6f914de8_fbfa_11e9_8411_d4ae52d07f78row4_col0\" class=\"data row4 col0\" >0.000</td>\n",
       "                        <td id=\"T_6f914de8_fbfa_11e9_8411_d4ae52d07f78row4_col1\" class=\"data row4 col1\" >0.000</td>\n",
       "                        <td id=\"T_6f914de8_fbfa_11e9_8411_d4ae52d07f78row4_col2\" class=\"data row4 col2\" >0.000</td>\n",
       "                        <td id=\"T_6f914de8_fbfa_11e9_8411_d4ae52d07f78row4_col3\" class=\"data row4 col3\" >0.000</td>\n",
       "                        <td id=\"T_6f914de8_fbfa_11e9_8411_d4ae52d07f78row4_col4\" class=\"data row4 col4\" >0.000</td>\n",
       "                        <td id=\"T_6f914de8_fbfa_11e9_8411_d4ae52d07f78row4_col5\" class=\"data row4 col5\" >0.000</td>\n",
       "                        <td id=\"T_6f914de8_fbfa_11e9_8411_d4ae52d07f78row4_col6\" class=\"data row4 col6\" >0.000</td>\n",
       "                        <td id=\"T_6f914de8_fbfa_11e9_8411_d4ae52d07f78row4_col7\" class=\"data row4 col7\" >0.000</td>\n",
       "            </tr>\n",
       "            <tr>\n",
       "                                <th id=\"T_6f914de8_fbfa_11e9_8411_d4ae52d07f78level1_row5\" class=\"row_heading level1 row5\" >pop</th>\n",
       "                        <td id=\"T_6f914de8_fbfa_11e9_8411_d4ae52d07f78row5_col0\" class=\"data row5 col0\" >0.000</td>\n",
       "                        <td id=\"T_6f914de8_fbfa_11e9_8411_d4ae52d07f78row5_col1\" class=\"data row5 col1\" >0.000</td>\n",
       "                        <td id=\"T_6f914de8_fbfa_11e9_8411_d4ae52d07f78row5_col2\" class=\"data row5 col2\" >0.000</td>\n",
       "                        <td id=\"T_6f914de8_fbfa_11e9_8411_d4ae52d07f78row5_col3\" class=\"data row5 col3\" >0.000</td>\n",
       "                        <td id=\"T_6f914de8_fbfa_11e9_8411_d4ae52d07f78row5_col4\" class=\"data row5 col4\" >0.000</td>\n",
       "                        <td id=\"T_6f914de8_fbfa_11e9_8411_d4ae52d07f78row5_col5\" class=\"data row5 col5\" >0.000</td>\n",
       "                        <td id=\"T_6f914de8_fbfa_11e9_8411_d4ae52d07f78row5_col6\" class=\"data row5 col6\" >0.001</td>\n",
       "                        <td id=\"T_6f914de8_fbfa_11e9_8411_d4ae52d07f78row5_col7\" class=\"data row5 col7\" >0.001</td>\n",
       "            </tr>\n",
       "            <tr>\n",
       "                        <th id=\"T_6f914de8_fbfa_11e9_8411_d4ae52d07f78level0_row6\" class=\"row_heading level0 row6\" >g1</th>\n",
       "                        <th id=\"T_6f914de8_fbfa_11e9_8411_d4ae52d07f78level1_row6\" class=\"row_heading level1 row6\" >_idw</th>\n",
       "                        <td id=\"T_6f914de8_fbfa_11e9_8411_d4ae52d07f78row6_col0\" class=\"data row6 col0\" >0.031</td>\n",
       "                        <td id=\"T_6f914de8_fbfa_11e9_8411_d4ae52d07f78row6_col1\" class=\"data row6 col1\" >0.009</td>\n",
       "                        <td id=\"T_6f914de8_fbfa_11e9_8411_d4ae52d07f78row6_col2\" class=\"data row6 col2\" >0.000</td>\n",
       "                        <td id=\"T_6f914de8_fbfa_11e9_8411_d4ae52d07f78row6_col3\" class=\"data row6 col3\" >0.007</td>\n",
       "                        <td id=\"T_6f914de8_fbfa_11e9_8411_d4ae52d07f78row6_col4\" class=\"data row6 col4\" >0.000</td>\n",
       "                        <td id=\"T_6f914de8_fbfa_11e9_8411_d4ae52d07f78row6_col5\" class=\"data row6 col5\" >0.001</td>\n",
       "                        <td id=\"T_6f914de8_fbfa_11e9_8411_d4ae52d07f78row6_col6\" class=\"data row6 col6\" >0.000</td>\n",
       "                        <td id=\"T_6f914de8_fbfa_11e9_8411_d4ae52d07f78row6_col7\" class=\"data row6 col7\" >0.000</td>\n",
       "            </tr>\n",
       "            <tr>\n",
       "                        <th id=\"T_6f914de8_fbfa_11e9_8411_d4ae52d07f78level0_row7\" class=\"row_heading level0 row7\" >g2</th>\n",
       "                        <th id=\"T_6f914de8_fbfa_11e9_8411_d4ae52d07f78level1_row7\" class=\"row_heading level1 row7\" >_idw</th>\n",
       "                        <td id=\"T_6f914de8_fbfa_11e9_8411_d4ae52d07f78row7_col0\" class=\"data row7 col0\" >0.024</td>\n",
       "                        <td id=\"T_6f914de8_fbfa_11e9_8411_d4ae52d07f78row7_col1\" class=\"data row7 col1\" >0.007</td>\n",
       "                        <td id=\"T_6f914de8_fbfa_11e9_8411_d4ae52d07f78row7_col2\" class=\"data row7 col2\" >0.000</td>\n",
       "                        <td id=\"T_6f914de8_fbfa_11e9_8411_d4ae52d07f78row7_col3\" class=\"data row7 col3\" >0.005</td>\n",
       "                        <td id=\"T_6f914de8_fbfa_11e9_8411_d4ae52d07f78row7_col4\" class=\"data row7 col4\" >0.000</td>\n",
       "                        <td id=\"T_6f914de8_fbfa_11e9_8411_d4ae52d07f78row7_col5\" class=\"data row7 col5\" >0.001</td>\n",
       "                        <td id=\"T_6f914de8_fbfa_11e9_8411_d4ae52d07f78row7_col6\" class=\"data row7 col6\" >0.000</td>\n",
       "                        <td id=\"T_6f914de8_fbfa_11e9_8411_d4ae52d07f78row7_col7\" class=\"data row7 col7\" >0.000</td>\n",
       "            </tr>\n",
       "    </tbody></table>"
      ],
      "text/plain": [
       "<pandas.io.formats.style.Styler at 0x7f003996d5c0>"
      ]
     },
     "execution_count": 470,
     "metadata": {},
     "output_type": "execute_result"
    }
   ],
   "source": [
    "dila_ken_ps, dila_ken_tau = ken_tau_corr(\n",
    "    dila_coef, clean_table=False, larger_than=0.8)\n",
    "print()\n",
    "grad_bg(dila_ken_ps, cmap='PuBu',high=.2)"
   ]
  },
  {
   "cell_type": "code",
   "execution_count": 471,
   "metadata": {
    "ExecuteTime": {
     "end_time": "2019-10-31T16:21:06.334347Z",
     "start_time": "2019-10-31T16:21:06.059047Z"
    },
    "cell_style": "split",
    "hidden": true
   },
   "outputs": [
    {
     "data": {
      "text/html": [
       "<style  type=\"text/css\" >\n",
       "    #T_70bbadb2_fbfa_11e9_8411_d4ae52d07f78row0_col0 {\n",
       "            background-color:  #7f2704;\n",
       "        }    #T_70bbadb2_fbfa_11e9_8411_d4ae52d07f78row0_col1 {\n",
       "            background-color:  #9b3203;\n",
       "        }    #T_70bbadb2_fbfa_11e9_8411_d4ae52d07f78row0_col2 {\n",
       "            background-color:  #fff5eb;\n",
       "        }    #T_70bbadb2_fbfa_11e9_8411_d4ae52d07f78row0_col3 {\n",
       "            background-color:  #fff5eb;\n",
       "        }    #T_70bbadb2_fbfa_11e9_8411_d4ae52d07f78row0_col4 {\n",
       "            background-color:  #fff5eb;\n",
       "        }    #T_70bbadb2_fbfa_11e9_8411_d4ae52d07f78row0_col5 {\n",
       "            background-color:  #fff5eb;\n",
       "        }    #T_70bbadb2_fbfa_11e9_8411_d4ae52d07f78row0_col6 {\n",
       "            background-color:  #fff5eb;\n",
       "        }    #T_70bbadb2_fbfa_11e9_8411_d4ae52d07f78row0_col7 {\n",
       "            background-color:  #fff5eb;\n",
       "        }    #T_70bbadb2_fbfa_11e9_8411_d4ae52d07f78row1_col0 {\n",
       "            background-color:  #9b3203;\n",
       "        }    #T_70bbadb2_fbfa_11e9_8411_d4ae52d07f78row1_col1 {\n",
       "            background-color:  #7f2704;\n",
       "        }    #T_70bbadb2_fbfa_11e9_8411_d4ae52d07f78row1_col2 {\n",
       "            background-color:  #fff5eb;\n",
       "        }    #T_70bbadb2_fbfa_11e9_8411_d4ae52d07f78row1_col3 {\n",
       "            background-color:  #fff5eb;\n",
       "        }    #T_70bbadb2_fbfa_11e9_8411_d4ae52d07f78row1_col4 {\n",
       "            background-color:  #fff5eb;\n",
       "        }    #T_70bbadb2_fbfa_11e9_8411_d4ae52d07f78row1_col5 {\n",
       "            background-color:  #fff5eb;\n",
       "        }    #T_70bbadb2_fbfa_11e9_8411_d4ae52d07f78row1_col6 {\n",
       "            background-color:  #fff5eb;\n",
       "        }    #T_70bbadb2_fbfa_11e9_8411_d4ae52d07f78row1_col7 {\n",
       "            background-color:  #fff5eb;\n",
       "        }    #T_70bbadb2_fbfa_11e9_8411_d4ae52d07f78row2_col0 {\n",
       "            background-color:  #fff5eb;\n",
       "        }    #T_70bbadb2_fbfa_11e9_8411_d4ae52d07f78row2_col1 {\n",
       "            background-color:  #fff5eb;\n",
       "        }    #T_70bbadb2_fbfa_11e9_8411_d4ae52d07f78row2_col2 {\n",
       "            background-color:  #7f2704;\n",
       "        }    #T_70bbadb2_fbfa_11e9_8411_d4ae52d07f78row2_col3 {\n",
       "            background-color:  #fff5eb;\n",
       "        }    #T_70bbadb2_fbfa_11e9_8411_d4ae52d07f78row2_col4 {\n",
       "            background-color:  #fff5eb;\n",
       "        }    #T_70bbadb2_fbfa_11e9_8411_d4ae52d07f78row2_col5 {\n",
       "            background-color:  #fff5eb;\n",
       "        }    #T_70bbadb2_fbfa_11e9_8411_d4ae52d07f78row2_col6 {\n",
       "            background-color:  #fff5eb;\n",
       "        }    #T_70bbadb2_fbfa_11e9_8411_d4ae52d07f78row2_col7 {\n",
       "            background-color:  #fff5eb;\n",
       "        }    #T_70bbadb2_fbfa_11e9_8411_d4ae52d07f78row3_col0 {\n",
       "            background-color:  #fff5eb;\n",
       "        }    #T_70bbadb2_fbfa_11e9_8411_d4ae52d07f78row3_col1 {\n",
       "            background-color:  #fff5eb;\n",
       "        }    #T_70bbadb2_fbfa_11e9_8411_d4ae52d07f78row3_col2 {\n",
       "            background-color:  #fff5eb;\n",
       "        }    #T_70bbadb2_fbfa_11e9_8411_d4ae52d07f78row3_col3 {\n",
       "            background-color:  #7f2704;\n",
       "        }    #T_70bbadb2_fbfa_11e9_8411_d4ae52d07f78row3_col4 {\n",
       "            background-color:  #8b2c04;\n",
       "        }    #T_70bbadb2_fbfa_11e9_8411_d4ae52d07f78row3_col5 {\n",
       "            background-color:  #fff5eb;\n",
       "        }    #T_70bbadb2_fbfa_11e9_8411_d4ae52d07f78row3_col6 {\n",
       "            background-color:  #fff5eb;\n",
       "        }    #T_70bbadb2_fbfa_11e9_8411_d4ae52d07f78row3_col7 {\n",
       "            background-color:  #fff5eb;\n",
       "        }    #T_70bbadb2_fbfa_11e9_8411_d4ae52d07f78row4_col0 {\n",
       "            background-color:  #fff5eb;\n",
       "        }    #T_70bbadb2_fbfa_11e9_8411_d4ae52d07f78row4_col1 {\n",
       "            background-color:  #fff5eb;\n",
       "        }    #T_70bbadb2_fbfa_11e9_8411_d4ae52d07f78row4_col2 {\n",
       "            background-color:  #fff5eb;\n",
       "        }    #T_70bbadb2_fbfa_11e9_8411_d4ae52d07f78row4_col3 {\n",
       "            background-color:  #8b2c04;\n",
       "        }    #T_70bbadb2_fbfa_11e9_8411_d4ae52d07f78row4_col4 {\n",
       "            background-color:  #7f2704;\n",
       "        }    #T_70bbadb2_fbfa_11e9_8411_d4ae52d07f78row4_col5 {\n",
       "            background-color:  #fff5eb;\n",
       "        }    #T_70bbadb2_fbfa_11e9_8411_d4ae52d07f78row4_col6 {\n",
       "            background-color:  #fff5eb;\n",
       "        }    #T_70bbadb2_fbfa_11e9_8411_d4ae52d07f78row4_col7 {\n",
       "            background-color:  #fff5eb;\n",
       "        }    #T_70bbadb2_fbfa_11e9_8411_d4ae52d07f78row5_col0 {\n",
       "            background-color:  #fff5eb;\n",
       "        }    #T_70bbadb2_fbfa_11e9_8411_d4ae52d07f78row5_col1 {\n",
       "            background-color:  #fff5eb;\n",
       "        }    #T_70bbadb2_fbfa_11e9_8411_d4ae52d07f78row5_col2 {\n",
       "            background-color:  #fff5eb;\n",
       "        }    #T_70bbadb2_fbfa_11e9_8411_d4ae52d07f78row5_col3 {\n",
       "            background-color:  #fff5eb;\n",
       "        }    #T_70bbadb2_fbfa_11e9_8411_d4ae52d07f78row5_col4 {\n",
       "            background-color:  #fff5eb;\n",
       "        }    #T_70bbadb2_fbfa_11e9_8411_d4ae52d07f78row5_col5 {\n",
       "            background-color:  #7f2704;\n",
       "        }    #T_70bbadb2_fbfa_11e9_8411_d4ae52d07f78row5_col6 {\n",
       "            background-color:  #832804;\n",
       "        }    #T_70bbadb2_fbfa_11e9_8411_d4ae52d07f78row5_col7 {\n",
       "            background-color:  #942f03;\n",
       "        }    #T_70bbadb2_fbfa_11e9_8411_d4ae52d07f78row6_col0 {\n",
       "            background-color:  #fff5eb;\n",
       "        }    #T_70bbadb2_fbfa_11e9_8411_d4ae52d07f78row6_col1 {\n",
       "            background-color:  #fff5eb;\n",
       "        }    #T_70bbadb2_fbfa_11e9_8411_d4ae52d07f78row6_col2 {\n",
       "            background-color:  #fff5eb;\n",
       "        }    #T_70bbadb2_fbfa_11e9_8411_d4ae52d07f78row6_col3 {\n",
       "            background-color:  #fff5eb;\n",
       "        }    #T_70bbadb2_fbfa_11e9_8411_d4ae52d07f78row6_col4 {\n",
       "            background-color:  #fff5eb;\n",
       "        }    #T_70bbadb2_fbfa_11e9_8411_d4ae52d07f78row6_col5 {\n",
       "            background-color:  #832804;\n",
       "        }    #T_70bbadb2_fbfa_11e9_8411_d4ae52d07f78row6_col6 {\n",
       "            background-color:  #7f2704;\n",
       "        }    #T_70bbadb2_fbfa_11e9_8411_d4ae52d07f78row6_col7 {\n",
       "            background-color:  #912e04;\n",
       "        }    #T_70bbadb2_fbfa_11e9_8411_d4ae52d07f78row7_col0 {\n",
       "            background-color:  #fff5eb;\n",
       "        }    #T_70bbadb2_fbfa_11e9_8411_d4ae52d07f78row7_col1 {\n",
       "            background-color:  #fff5eb;\n",
       "        }    #T_70bbadb2_fbfa_11e9_8411_d4ae52d07f78row7_col2 {\n",
       "            background-color:  #fff5eb;\n",
       "        }    #T_70bbadb2_fbfa_11e9_8411_d4ae52d07f78row7_col3 {\n",
       "            background-color:  #fff5eb;\n",
       "        }    #T_70bbadb2_fbfa_11e9_8411_d4ae52d07f78row7_col4 {\n",
       "            background-color:  #fff5eb;\n",
       "        }    #T_70bbadb2_fbfa_11e9_8411_d4ae52d07f78row7_col5 {\n",
       "            background-color:  #942f03;\n",
       "        }    #T_70bbadb2_fbfa_11e9_8411_d4ae52d07f78row7_col6 {\n",
       "            background-color:  #912e04;\n",
       "        }    #T_70bbadb2_fbfa_11e9_8411_d4ae52d07f78row7_col7 {\n",
       "            background-color:  #7f2704;\n",
       "        }</style><table id=\"T_70bbadb2_fbfa_11e9_8411_d4ae52d07f78\" ><thead>    <tr>        <th class=\"blank\" ></th>        <th class=\"blank level0\" ></th>        <th class=\"col_heading level0 col0\" colspan=2>_idw</th>        <th class=\"col_heading level0 col2\" colspan=3>area</th>        <th class=\"col_heading level0 col5\" colspan=3>pop</th>    </tr>    <tr>        <th class=\"blank\" ></th>        <th class=\"blank level1\" ></th>        <th class=\"col_heading level1 col0\" >g1</th>        <th class=\"col_heading level1 col1\" >g2</th>        <th class=\"col_heading level1 col2\" >ageb</th>        <th class=\"col_heading level1 col3\" >g1</th>        <th class=\"col_heading level1 col4\" >g2</th>        <th class=\"col_heading level1 col5\" >ageb</th>        <th class=\"col_heading level1 col6\" >g1</th>        <th class=\"col_heading level1 col7\" >g2</th>    </tr></thead><tbody>\n",
       "                <tr>\n",
       "                        <th id=\"T_70bbadb2_fbfa_11e9_8411_d4ae52d07f78level0_row0\" class=\"row_heading level0 row0\" rowspan=2>_idw</th>\n",
       "                        <th id=\"T_70bbadb2_fbfa_11e9_8411_d4ae52d07f78level1_row0\" class=\"row_heading level1 row0\" >g1</th>\n",
       "                        <td id=\"T_70bbadb2_fbfa_11e9_8411_d4ae52d07f78row0_col0\" class=\"data row0 col0\" >1.000</td>\n",
       "                        <td id=\"T_70bbadb2_fbfa_11e9_8411_d4ae52d07f78row0_col1\" class=\"data row0 col1\" >0.906</td>\n",
       "                        <td id=\"T_70bbadb2_fbfa_11e9_8411_d4ae52d07f78row0_col2\" class=\"data row0 col2\" >0.000</td>\n",
       "                        <td id=\"T_70bbadb2_fbfa_11e9_8411_d4ae52d07f78row0_col3\" class=\"data row0 col3\" >0.000</td>\n",
       "                        <td id=\"T_70bbadb2_fbfa_11e9_8411_d4ae52d07f78row0_col4\" class=\"data row0 col4\" >0.000</td>\n",
       "                        <td id=\"T_70bbadb2_fbfa_11e9_8411_d4ae52d07f78row0_col5\" class=\"data row0 col5\" >0.000</td>\n",
       "                        <td id=\"T_70bbadb2_fbfa_11e9_8411_d4ae52d07f78row0_col6\" class=\"data row0 col6\" >0.000</td>\n",
       "                        <td id=\"T_70bbadb2_fbfa_11e9_8411_d4ae52d07f78row0_col7\" class=\"data row0 col7\" >0.000</td>\n",
       "            </tr>\n",
       "            <tr>\n",
       "                                <th id=\"T_70bbadb2_fbfa_11e9_8411_d4ae52d07f78level1_row1\" class=\"row_heading level1 row1\" >g2</th>\n",
       "                        <td id=\"T_70bbadb2_fbfa_11e9_8411_d4ae52d07f78row1_col0\" class=\"data row1 col0\" >0.906</td>\n",
       "                        <td id=\"T_70bbadb2_fbfa_11e9_8411_d4ae52d07f78row1_col1\" class=\"data row1 col1\" >1.000</td>\n",
       "                        <td id=\"T_70bbadb2_fbfa_11e9_8411_d4ae52d07f78row1_col2\" class=\"data row1 col2\" >0.000</td>\n",
       "                        <td id=\"T_70bbadb2_fbfa_11e9_8411_d4ae52d07f78row1_col3\" class=\"data row1 col3\" >0.000</td>\n",
       "                        <td id=\"T_70bbadb2_fbfa_11e9_8411_d4ae52d07f78row1_col4\" class=\"data row1 col4\" >0.000</td>\n",
       "                        <td id=\"T_70bbadb2_fbfa_11e9_8411_d4ae52d07f78row1_col5\" class=\"data row1 col5\" >0.000</td>\n",
       "                        <td id=\"T_70bbadb2_fbfa_11e9_8411_d4ae52d07f78row1_col6\" class=\"data row1 col6\" >0.000</td>\n",
       "                        <td id=\"T_70bbadb2_fbfa_11e9_8411_d4ae52d07f78row1_col7\" class=\"data row1 col7\" >0.000</td>\n",
       "            </tr>\n",
       "            <tr>\n",
       "                        <th id=\"T_70bbadb2_fbfa_11e9_8411_d4ae52d07f78level0_row2\" class=\"row_heading level0 row2\" rowspan=3>area</th>\n",
       "                        <th id=\"T_70bbadb2_fbfa_11e9_8411_d4ae52d07f78level1_row2\" class=\"row_heading level1 row2\" >ageb</th>\n",
       "                        <td id=\"T_70bbadb2_fbfa_11e9_8411_d4ae52d07f78row2_col0\" class=\"data row2 col0\" >0.000</td>\n",
       "                        <td id=\"T_70bbadb2_fbfa_11e9_8411_d4ae52d07f78row2_col1\" class=\"data row2 col1\" >0.000</td>\n",
       "                        <td id=\"T_70bbadb2_fbfa_11e9_8411_d4ae52d07f78row2_col2\" class=\"data row2 col2\" >1.000</td>\n",
       "                        <td id=\"T_70bbadb2_fbfa_11e9_8411_d4ae52d07f78row2_col3\" class=\"data row2 col3\" >0.000</td>\n",
       "                        <td id=\"T_70bbadb2_fbfa_11e9_8411_d4ae52d07f78row2_col4\" class=\"data row2 col4\" >0.000</td>\n",
       "                        <td id=\"T_70bbadb2_fbfa_11e9_8411_d4ae52d07f78row2_col5\" class=\"data row2 col5\" >0.000</td>\n",
       "                        <td id=\"T_70bbadb2_fbfa_11e9_8411_d4ae52d07f78row2_col6\" class=\"data row2 col6\" >0.000</td>\n",
       "                        <td id=\"T_70bbadb2_fbfa_11e9_8411_d4ae52d07f78row2_col7\" class=\"data row2 col7\" >0.000</td>\n",
       "            </tr>\n",
       "            <tr>\n",
       "                                <th id=\"T_70bbadb2_fbfa_11e9_8411_d4ae52d07f78level1_row3\" class=\"row_heading level1 row3\" >g1</th>\n",
       "                        <td id=\"T_70bbadb2_fbfa_11e9_8411_d4ae52d07f78row3_col0\" class=\"data row3 col0\" >0.000</td>\n",
       "                        <td id=\"T_70bbadb2_fbfa_11e9_8411_d4ae52d07f78row3_col1\" class=\"data row3 col1\" >0.000</td>\n",
       "                        <td id=\"T_70bbadb2_fbfa_11e9_8411_d4ae52d07f78row3_col2\" class=\"data row3 col2\" >0.000</td>\n",
       "                        <td id=\"T_70bbadb2_fbfa_11e9_8411_d4ae52d07f78row3_col3\" class=\"data row3 col3\" >1.000</td>\n",
       "                        <td id=\"T_70bbadb2_fbfa_11e9_8411_d4ae52d07f78row3_col4\" class=\"data row3 col4\" >0.958</td>\n",
       "                        <td id=\"T_70bbadb2_fbfa_11e9_8411_d4ae52d07f78row3_col5\" class=\"data row3 col5\" >0.000</td>\n",
       "                        <td id=\"T_70bbadb2_fbfa_11e9_8411_d4ae52d07f78row3_col6\" class=\"data row3 col6\" >0.000</td>\n",
       "                        <td id=\"T_70bbadb2_fbfa_11e9_8411_d4ae52d07f78row3_col7\" class=\"data row3 col7\" >0.000</td>\n",
       "            </tr>\n",
       "            <tr>\n",
       "                                <th id=\"T_70bbadb2_fbfa_11e9_8411_d4ae52d07f78level1_row4\" class=\"row_heading level1 row4\" >g2</th>\n",
       "                        <td id=\"T_70bbadb2_fbfa_11e9_8411_d4ae52d07f78row4_col0\" class=\"data row4 col0\" >0.000</td>\n",
       "                        <td id=\"T_70bbadb2_fbfa_11e9_8411_d4ae52d07f78row4_col1\" class=\"data row4 col1\" >0.000</td>\n",
       "                        <td id=\"T_70bbadb2_fbfa_11e9_8411_d4ae52d07f78row4_col2\" class=\"data row4 col2\" >0.000</td>\n",
       "                        <td id=\"T_70bbadb2_fbfa_11e9_8411_d4ae52d07f78row4_col3\" class=\"data row4 col3\" >0.958</td>\n",
       "                        <td id=\"T_70bbadb2_fbfa_11e9_8411_d4ae52d07f78row4_col4\" class=\"data row4 col4\" >1.000</td>\n",
       "                        <td id=\"T_70bbadb2_fbfa_11e9_8411_d4ae52d07f78row4_col5\" class=\"data row4 col5\" >0.000</td>\n",
       "                        <td id=\"T_70bbadb2_fbfa_11e9_8411_d4ae52d07f78row4_col6\" class=\"data row4 col6\" >0.000</td>\n",
       "                        <td id=\"T_70bbadb2_fbfa_11e9_8411_d4ae52d07f78row4_col7\" class=\"data row4 col7\" >0.000</td>\n",
       "            </tr>\n",
       "            <tr>\n",
       "                        <th id=\"T_70bbadb2_fbfa_11e9_8411_d4ae52d07f78level0_row5\" class=\"row_heading level0 row5\" rowspan=3>pop</th>\n",
       "                        <th id=\"T_70bbadb2_fbfa_11e9_8411_d4ae52d07f78level1_row5\" class=\"row_heading level1 row5\" >ageb</th>\n",
       "                        <td id=\"T_70bbadb2_fbfa_11e9_8411_d4ae52d07f78row5_col0\" class=\"data row5 col0\" >0.000</td>\n",
       "                        <td id=\"T_70bbadb2_fbfa_11e9_8411_d4ae52d07f78row5_col1\" class=\"data row5 col1\" >0.000</td>\n",
       "                        <td id=\"T_70bbadb2_fbfa_11e9_8411_d4ae52d07f78row5_col2\" class=\"data row5 col2\" >0.000</td>\n",
       "                        <td id=\"T_70bbadb2_fbfa_11e9_8411_d4ae52d07f78row5_col3\" class=\"data row5 col3\" >0.000</td>\n",
       "                        <td id=\"T_70bbadb2_fbfa_11e9_8411_d4ae52d07f78row5_col4\" class=\"data row5 col4\" >0.000</td>\n",
       "                        <td id=\"T_70bbadb2_fbfa_11e9_8411_d4ae52d07f78row5_col5\" class=\"data row5 col5\" >1.000</td>\n",
       "                        <td id=\"T_70bbadb2_fbfa_11e9_8411_d4ae52d07f78row5_col6\" class=\"data row5 col6\" >0.986</td>\n",
       "                        <td id=\"T_70bbadb2_fbfa_11e9_8411_d4ae52d07f78row5_col7\" class=\"data row5 col7\" >0.931</td>\n",
       "            </tr>\n",
       "            <tr>\n",
       "                                <th id=\"T_70bbadb2_fbfa_11e9_8411_d4ae52d07f78level1_row6\" class=\"row_heading level1 row6\" >g1</th>\n",
       "                        <td id=\"T_70bbadb2_fbfa_11e9_8411_d4ae52d07f78row6_col0\" class=\"data row6 col0\" >0.000</td>\n",
       "                        <td id=\"T_70bbadb2_fbfa_11e9_8411_d4ae52d07f78row6_col1\" class=\"data row6 col1\" >0.000</td>\n",
       "                        <td id=\"T_70bbadb2_fbfa_11e9_8411_d4ae52d07f78row6_col2\" class=\"data row6 col2\" >0.000</td>\n",
       "                        <td id=\"T_70bbadb2_fbfa_11e9_8411_d4ae52d07f78row6_col3\" class=\"data row6 col3\" >0.000</td>\n",
       "                        <td id=\"T_70bbadb2_fbfa_11e9_8411_d4ae52d07f78row6_col4\" class=\"data row6 col4\" >0.000</td>\n",
       "                        <td id=\"T_70bbadb2_fbfa_11e9_8411_d4ae52d07f78row6_col5\" class=\"data row6 col5\" >0.986</td>\n",
       "                        <td id=\"T_70bbadb2_fbfa_11e9_8411_d4ae52d07f78row6_col6\" class=\"data row6 col6\" >1.000</td>\n",
       "                        <td id=\"T_70bbadb2_fbfa_11e9_8411_d4ae52d07f78row6_col7\" class=\"data row6 col7\" >0.938</td>\n",
       "            </tr>\n",
       "            <tr>\n",
       "                                <th id=\"T_70bbadb2_fbfa_11e9_8411_d4ae52d07f78level1_row7\" class=\"row_heading level1 row7\" >g2</th>\n",
       "                        <td id=\"T_70bbadb2_fbfa_11e9_8411_d4ae52d07f78row7_col0\" class=\"data row7 col0\" >0.000</td>\n",
       "                        <td id=\"T_70bbadb2_fbfa_11e9_8411_d4ae52d07f78row7_col1\" class=\"data row7 col1\" >0.000</td>\n",
       "                        <td id=\"T_70bbadb2_fbfa_11e9_8411_d4ae52d07f78row7_col2\" class=\"data row7 col2\" >0.000</td>\n",
       "                        <td id=\"T_70bbadb2_fbfa_11e9_8411_d4ae52d07f78row7_col3\" class=\"data row7 col3\" >0.000</td>\n",
       "                        <td id=\"T_70bbadb2_fbfa_11e9_8411_d4ae52d07f78row7_col4\" class=\"data row7 col4\" >0.000</td>\n",
       "                        <td id=\"T_70bbadb2_fbfa_11e9_8411_d4ae52d07f78row7_col5\" class=\"data row7 col5\" >0.931</td>\n",
       "                        <td id=\"T_70bbadb2_fbfa_11e9_8411_d4ae52d07f78row7_col6\" class=\"data row7 col6\" >0.938</td>\n",
       "                        <td id=\"T_70bbadb2_fbfa_11e9_8411_d4ae52d07f78row7_col7\" class=\"data row7 col7\" >1.000</td>\n",
       "            </tr>\n",
       "    </tbody></table>"
      ],
      "text/plain": [
       "<pandas.io.formats.style.Styler at 0x7f003cbeb908>"
      ]
     },
     "execution_count": 471,
     "metadata": {},
     "output_type": "execute_result"
    }
   ],
   "source": [
    "grad_bg(swap(dila_ken_tau,0,1))"
   ]
  },
  {
   "cell_type": "code",
   "execution_count": 472,
   "metadata": {
    "ExecuteTime": {
     "end_time": "2019-10-31T16:21:11.594600Z",
     "start_time": "2019-10-31T16:21:11.308303Z"
    },
    "cell_style": "split",
    "hidden": true
   },
   "outputs": [
    {
     "data": {
      "text/html": [
       "<style  type=\"text/css\" >\n",
       "    #T_73de3834_fbfa_11e9_8411_d4ae52d07f78row0_col0 {\n",
       "            background-color:  #7f2704;\n",
       "        }    #T_73de3834_fbfa_11e9_8411_d4ae52d07f78row0_col1 {\n",
       "            background-color:  #fff5eb;\n",
       "        }    #T_73de3834_fbfa_11e9_8411_d4ae52d07f78row0_col2 {\n",
       "            background-color:  #fff5eb;\n",
       "        }    #T_73de3834_fbfa_11e9_8411_d4ae52d07f78row0_col3 {\n",
       "            background-color:  #fff5eb;\n",
       "        }    #T_73de3834_fbfa_11e9_8411_d4ae52d07f78row0_col4 {\n",
       "            background-color:  #fff5eb;\n",
       "        }    #T_73de3834_fbfa_11e9_8411_d4ae52d07f78row0_col5 {\n",
       "            background-color:  #fff5eb;\n",
       "        }    #T_73de3834_fbfa_11e9_8411_d4ae52d07f78row0_col6 {\n",
       "            background-color:  #fff5eb;\n",
       "        }    #T_73de3834_fbfa_11e9_8411_d4ae52d07f78row0_col7 {\n",
       "            background-color:  #fff5eb;\n",
       "        }    #T_73de3834_fbfa_11e9_8411_d4ae52d07f78row1_col0 {\n",
       "            background-color:  #fff5eb;\n",
       "        }    #T_73de3834_fbfa_11e9_8411_d4ae52d07f78row1_col1 {\n",
       "            background-color:  #7f2704;\n",
       "        }    #T_73de3834_fbfa_11e9_8411_d4ae52d07f78row1_col2 {\n",
       "            background-color:  #fff5eb;\n",
       "        }    #T_73de3834_fbfa_11e9_8411_d4ae52d07f78row1_col3 {\n",
       "            background-color:  #fff5eb;\n",
       "        }    #T_73de3834_fbfa_11e9_8411_d4ae52d07f78row1_col4 {\n",
       "            background-color:  #832804;\n",
       "        }    #T_73de3834_fbfa_11e9_8411_d4ae52d07f78row1_col5 {\n",
       "            background-color:  #fff5eb;\n",
       "        }    #T_73de3834_fbfa_11e9_8411_d4ae52d07f78row1_col6 {\n",
       "            background-color:  #fff5eb;\n",
       "        }    #T_73de3834_fbfa_11e9_8411_d4ae52d07f78row1_col7 {\n",
       "            background-color:  #942f03;\n",
       "        }    #T_73de3834_fbfa_11e9_8411_d4ae52d07f78row2_col0 {\n",
       "            background-color:  #fff5eb;\n",
       "        }    #T_73de3834_fbfa_11e9_8411_d4ae52d07f78row2_col1 {\n",
       "            background-color:  #fff5eb;\n",
       "        }    #T_73de3834_fbfa_11e9_8411_d4ae52d07f78row2_col2 {\n",
       "            background-color:  #7f2704;\n",
       "        }    #T_73de3834_fbfa_11e9_8411_d4ae52d07f78row2_col3 {\n",
       "            background-color:  #fff5eb;\n",
       "        }    #T_73de3834_fbfa_11e9_8411_d4ae52d07f78row2_col4 {\n",
       "            background-color:  #fff5eb;\n",
       "        }    #T_73de3834_fbfa_11e9_8411_d4ae52d07f78row2_col5 {\n",
       "            background-color:  #9b3203;\n",
       "        }    #T_73de3834_fbfa_11e9_8411_d4ae52d07f78row2_col6 {\n",
       "            background-color:  #fff5eb;\n",
       "        }    #T_73de3834_fbfa_11e9_8411_d4ae52d07f78row2_col7 {\n",
       "            background-color:  #fff5eb;\n",
       "        }    #T_73de3834_fbfa_11e9_8411_d4ae52d07f78row3_col0 {\n",
       "            background-color:  #fff5eb;\n",
       "        }    #T_73de3834_fbfa_11e9_8411_d4ae52d07f78row3_col1 {\n",
       "            background-color:  #fff5eb;\n",
       "        }    #T_73de3834_fbfa_11e9_8411_d4ae52d07f78row3_col2 {\n",
       "            background-color:  #fff5eb;\n",
       "        }    #T_73de3834_fbfa_11e9_8411_d4ae52d07f78row3_col3 {\n",
       "            background-color:  #7f2704;\n",
       "        }    #T_73de3834_fbfa_11e9_8411_d4ae52d07f78row3_col4 {\n",
       "            background-color:  #fff5eb;\n",
       "        }    #T_73de3834_fbfa_11e9_8411_d4ae52d07f78row3_col5 {\n",
       "            background-color:  #fff5eb;\n",
       "        }    #T_73de3834_fbfa_11e9_8411_d4ae52d07f78row3_col6 {\n",
       "            background-color:  #8b2c04;\n",
       "        }    #T_73de3834_fbfa_11e9_8411_d4ae52d07f78row3_col7 {\n",
       "            background-color:  #fff5eb;\n",
       "        }    #T_73de3834_fbfa_11e9_8411_d4ae52d07f78row4_col0 {\n",
       "            background-color:  #fff5eb;\n",
       "        }    #T_73de3834_fbfa_11e9_8411_d4ae52d07f78row4_col1 {\n",
       "            background-color:  #832804;\n",
       "        }    #T_73de3834_fbfa_11e9_8411_d4ae52d07f78row4_col2 {\n",
       "            background-color:  #fff5eb;\n",
       "        }    #T_73de3834_fbfa_11e9_8411_d4ae52d07f78row4_col3 {\n",
       "            background-color:  #fff5eb;\n",
       "        }    #T_73de3834_fbfa_11e9_8411_d4ae52d07f78row4_col4 {\n",
       "            background-color:  #7f2704;\n",
       "        }    #T_73de3834_fbfa_11e9_8411_d4ae52d07f78row4_col5 {\n",
       "            background-color:  #fff5eb;\n",
       "        }    #T_73de3834_fbfa_11e9_8411_d4ae52d07f78row4_col6 {\n",
       "            background-color:  #fff5eb;\n",
       "        }    #T_73de3834_fbfa_11e9_8411_d4ae52d07f78row4_col7 {\n",
       "            background-color:  #912e04;\n",
       "        }    #T_73de3834_fbfa_11e9_8411_d4ae52d07f78row5_col0 {\n",
       "            background-color:  #fff5eb;\n",
       "        }    #T_73de3834_fbfa_11e9_8411_d4ae52d07f78row5_col1 {\n",
       "            background-color:  #fff5eb;\n",
       "        }    #T_73de3834_fbfa_11e9_8411_d4ae52d07f78row5_col2 {\n",
       "            background-color:  #9b3203;\n",
       "        }    #T_73de3834_fbfa_11e9_8411_d4ae52d07f78row5_col3 {\n",
       "            background-color:  #fff5eb;\n",
       "        }    #T_73de3834_fbfa_11e9_8411_d4ae52d07f78row5_col4 {\n",
       "            background-color:  #fff5eb;\n",
       "        }    #T_73de3834_fbfa_11e9_8411_d4ae52d07f78row5_col5 {\n",
       "            background-color:  #7f2704;\n",
       "        }    #T_73de3834_fbfa_11e9_8411_d4ae52d07f78row5_col6 {\n",
       "            background-color:  #fff5eb;\n",
       "        }    #T_73de3834_fbfa_11e9_8411_d4ae52d07f78row5_col7 {\n",
       "            background-color:  #fff5eb;\n",
       "        }    #T_73de3834_fbfa_11e9_8411_d4ae52d07f78row6_col0 {\n",
       "            background-color:  #fff5eb;\n",
       "        }    #T_73de3834_fbfa_11e9_8411_d4ae52d07f78row6_col1 {\n",
       "            background-color:  #fff5eb;\n",
       "        }    #T_73de3834_fbfa_11e9_8411_d4ae52d07f78row6_col2 {\n",
       "            background-color:  #fff5eb;\n",
       "        }    #T_73de3834_fbfa_11e9_8411_d4ae52d07f78row6_col3 {\n",
       "            background-color:  #8b2c04;\n",
       "        }    #T_73de3834_fbfa_11e9_8411_d4ae52d07f78row6_col4 {\n",
       "            background-color:  #fff5eb;\n",
       "        }    #T_73de3834_fbfa_11e9_8411_d4ae52d07f78row6_col5 {\n",
       "            background-color:  #fff5eb;\n",
       "        }    #T_73de3834_fbfa_11e9_8411_d4ae52d07f78row6_col6 {\n",
       "            background-color:  #7f2704;\n",
       "        }    #T_73de3834_fbfa_11e9_8411_d4ae52d07f78row6_col7 {\n",
       "            background-color:  #fff5eb;\n",
       "        }    #T_73de3834_fbfa_11e9_8411_d4ae52d07f78row7_col0 {\n",
       "            background-color:  #fff5eb;\n",
       "        }    #T_73de3834_fbfa_11e9_8411_d4ae52d07f78row7_col1 {\n",
       "            background-color:  #942f03;\n",
       "        }    #T_73de3834_fbfa_11e9_8411_d4ae52d07f78row7_col2 {\n",
       "            background-color:  #fff5eb;\n",
       "        }    #T_73de3834_fbfa_11e9_8411_d4ae52d07f78row7_col3 {\n",
       "            background-color:  #fff5eb;\n",
       "        }    #T_73de3834_fbfa_11e9_8411_d4ae52d07f78row7_col4 {\n",
       "            background-color:  #912e04;\n",
       "        }    #T_73de3834_fbfa_11e9_8411_d4ae52d07f78row7_col5 {\n",
       "            background-color:  #fff5eb;\n",
       "        }    #T_73de3834_fbfa_11e9_8411_d4ae52d07f78row7_col6 {\n",
       "            background-color:  #fff5eb;\n",
       "        }    #T_73de3834_fbfa_11e9_8411_d4ae52d07f78row7_col7 {\n",
       "            background-color:  #7f2704;\n",
       "        }</style><table id=\"T_73de3834_fbfa_11e9_8411_d4ae52d07f78\" ><thead>    <tr>        <th class=\"blank\" ></th>        <th class=\"blank level0\" ></th>        <th class=\"col_heading level0 col0\" colspan=2>ageb</th>        <th class=\"col_heading level0 col2\" colspan=3>g1</th>        <th class=\"col_heading level0 col5\" colspan=3>g2</th>    </tr>    <tr>        <th class=\"blank\" ></th>        <th class=\"blank level1\" ></th>        <th class=\"col_heading level1 col0\" >area</th>        <th class=\"col_heading level1 col1\" >pop</th>        <th class=\"col_heading level1 col2\" >_idw</th>        <th class=\"col_heading level1 col3\" >area</th>        <th class=\"col_heading level1 col4\" >pop</th>        <th class=\"col_heading level1 col5\" >_idw</th>        <th class=\"col_heading level1 col6\" >area</th>        <th class=\"col_heading level1 col7\" >pop</th>    </tr></thead><tbody>\n",
       "                <tr>\n",
       "                        <th id=\"T_73de3834_fbfa_11e9_8411_d4ae52d07f78level0_row0\" class=\"row_heading level0 row0\" rowspan=2>ageb</th>\n",
       "                        <th id=\"T_73de3834_fbfa_11e9_8411_d4ae52d07f78level1_row0\" class=\"row_heading level1 row0\" >area</th>\n",
       "                        <td id=\"T_73de3834_fbfa_11e9_8411_d4ae52d07f78row0_col0\" class=\"data row0 col0\" >1.000</td>\n",
       "                        <td id=\"T_73de3834_fbfa_11e9_8411_d4ae52d07f78row0_col1\" class=\"data row0 col1\" >0.000</td>\n",
       "                        <td id=\"T_73de3834_fbfa_11e9_8411_d4ae52d07f78row0_col2\" class=\"data row0 col2\" >0.000</td>\n",
       "                        <td id=\"T_73de3834_fbfa_11e9_8411_d4ae52d07f78row0_col3\" class=\"data row0 col3\" >0.000</td>\n",
       "                        <td id=\"T_73de3834_fbfa_11e9_8411_d4ae52d07f78row0_col4\" class=\"data row0 col4\" >0.000</td>\n",
       "                        <td id=\"T_73de3834_fbfa_11e9_8411_d4ae52d07f78row0_col5\" class=\"data row0 col5\" >0.000</td>\n",
       "                        <td id=\"T_73de3834_fbfa_11e9_8411_d4ae52d07f78row0_col6\" class=\"data row0 col6\" >0.000</td>\n",
       "                        <td id=\"T_73de3834_fbfa_11e9_8411_d4ae52d07f78row0_col7\" class=\"data row0 col7\" >0.000</td>\n",
       "            </tr>\n",
       "            <tr>\n",
       "                                <th id=\"T_73de3834_fbfa_11e9_8411_d4ae52d07f78level1_row1\" class=\"row_heading level1 row1\" >pop</th>\n",
       "                        <td id=\"T_73de3834_fbfa_11e9_8411_d4ae52d07f78row1_col0\" class=\"data row1 col0\" >0.000</td>\n",
       "                        <td id=\"T_73de3834_fbfa_11e9_8411_d4ae52d07f78row1_col1\" class=\"data row1 col1\" >1.000</td>\n",
       "                        <td id=\"T_73de3834_fbfa_11e9_8411_d4ae52d07f78row1_col2\" class=\"data row1 col2\" >0.000</td>\n",
       "                        <td id=\"T_73de3834_fbfa_11e9_8411_d4ae52d07f78row1_col3\" class=\"data row1 col3\" >0.000</td>\n",
       "                        <td id=\"T_73de3834_fbfa_11e9_8411_d4ae52d07f78row1_col4\" class=\"data row1 col4\" >0.986</td>\n",
       "                        <td id=\"T_73de3834_fbfa_11e9_8411_d4ae52d07f78row1_col5\" class=\"data row1 col5\" >0.000</td>\n",
       "                        <td id=\"T_73de3834_fbfa_11e9_8411_d4ae52d07f78row1_col6\" class=\"data row1 col6\" >0.000</td>\n",
       "                        <td id=\"T_73de3834_fbfa_11e9_8411_d4ae52d07f78row1_col7\" class=\"data row1 col7\" >0.931</td>\n",
       "            </tr>\n",
       "            <tr>\n",
       "                        <th id=\"T_73de3834_fbfa_11e9_8411_d4ae52d07f78level0_row2\" class=\"row_heading level0 row2\" rowspan=3>g1</th>\n",
       "                        <th id=\"T_73de3834_fbfa_11e9_8411_d4ae52d07f78level1_row2\" class=\"row_heading level1 row2\" >_idw</th>\n",
       "                        <td id=\"T_73de3834_fbfa_11e9_8411_d4ae52d07f78row2_col0\" class=\"data row2 col0\" >0.000</td>\n",
       "                        <td id=\"T_73de3834_fbfa_11e9_8411_d4ae52d07f78row2_col1\" class=\"data row2 col1\" >0.000</td>\n",
       "                        <td id=\"T_73de3834_fbfa_11e9_8411_d4ae52d07f78row2_col2\" class=\"data row2 col2\" >1.000</td>\n",
       "                        <td id=\"T_73de3834_fbfa_11e9_8411_d4ae52d07f78row2_col3\" class=\"data row2 col3\" >0.000</td>\n",
       "                        <td id=\"T_73de3834_fbfa_11e9_8411_d4ae52d07f78row2_col4\" class=\"data row2 col4\" >0.000</td>\n",
       "                        <td id=\"T_73de3834_fbfa_11e9_8411_d4ae52d07f78row2_col5\" class=\"data row2 col5\" >0.906</td>\n",
       "                        <td id=\"T_73de3834_fbfa_11e9_8411_d4ae52d07f78row2_col6\" class=\"data row2 col6\" >0.000</td>\n",
       "                        <td id=\"T_73de3834_fbfa_11e9_8411_d4ae52d07f78row2_col7\" class=\"data row2 col7\" >0.000</td>\n",
       "            </tr>\n",
       "            <tr>\n",
       "                                <th id=\"T_73de3834_fbfa_11e9_8411_d4ae52d07f78level1_row3\" class=\"row_heading level1 row3\" >area</th>\n",
       "                        <td id=\"T_73de3834_fbfa_11e9_8411_d4ae52d07f78row3_col0\" class=\"data row3 col0\" >0.000</td>\n",
       "                        <td id=\"T_73de3834_fbfa_11e9_8411_d4ae52d07f78row3_col1\" class=\"data row3 col1\" >0.000</td>\n",
       "                        <td id=\"T_73de3834_fbfa_11e9_8411_d4ae52d07f78row3_col2\" class=\"data row3 col2\" >0.000</td>\n",
       "                        <td id=\"T_73de3834_fbfa_11e9_8411_d4ae52d07f78row3_col3\" class=\"data row3 col3\" >1.000</td>\n",
       "                        <td id=\"T_73de3834_fbfa_11e9_8411_d4ae52d07f78row3_col4\" class=\"data row3 col4\" >0.000</td>\n",
       "                        <td id=\"T_73de3834_fbfa_11e9_8411_d4ae52d07f78row3_col5\" class=\"data row3 col5\" >0.000</td>\n",
       "                        <td id=\"T_73de3834_fbfa_11e9_8411_d4ae52d07f78row3_col6\" class=\"data row3 col6\" >0.958</td>\n",
       "                        <td id=\"T_73de3834_fbfa_11e9_8411_d4ae52d07f78row3_col7\" class=\"data row3 col7\" >0.000</td>\n",
       "            </tr>\n",
       "            <tr>\n",
       "                                <th id=\"T_73de3834_fbfa_11e9_8411_d4ae52d07f78level1_row4\" class=\"row_heading level1 row4\" >pop</th>\n",
       "                        <td id=\"T_73de3834_fbfa_11e9_8411_d4ae52d07f78row4_col0\" class=\"data row4 col0\" >0.000</td>\n",
       "                        <td id=\"T_73de3834_fbfa_11e9_8411_d4ae52d07f78row4_col1\" class=\"data row4 col1\" >0.986</td>\n",
       "                        <td id=\"T_73de3834_fbfa_11e9_8411_d4ae52d07f78row4_col2\" class=\"data row4 col2\" >0.000</td>\n",
       "                        <td id=\"T_73de3834_fbfa_11e9_8411_d4ae52d07f78row4_col3\" class=\"data row4 col3\" >0.000</td>\n",
       "                        <td id=\"T_73de3834_fbfa_11e9_8411_d4ae52d07f78row4_col4\" class=\"data row4 col4\" >1.000</td>\n",
       "                        <td id=\"T_73de3834_fbfa_11e9_8411_d4ae52d07f78row4_col5\" class=\"data row4 col5\" >0.000</td>\n",
       "                        <td id=\"T_73de3834_fbfa_11e9_8411_d4ae52d07f78row4_col6\" class=\"data row4 col6\" >0.000</td>\n",
       "                        <td id=\"T_73de3834_fbfa_11e9_8411_d4ae52d07f78row4_col7\" class=\"data row4 col7\" >0.938</td>\n",
       "            </tr>\n",
       "            <tr>\n",
       "                        <th id=\"T_73de3834_fbfa_11e9_8411_d4ae52d07f78level0_row5\" class=\"row_heading level0 row5\" rowspan=3>g2</th>\n",
       "                        <th id=\"T_73de3834_fbfa_11e9_8411_d4ae52d07f78level1_row5\" class=\"row_heading level1 row5\" >_idw</th>\n",
       "                        <td id=\"T_73de3834_fbfa_11e9_8411_d4ae52d07f78row5_col0\" class=\"data row5 col0\" >0.000</td>\n",
       "                        <td id=\"T_73de3834_fbfa_11e9_8411_d4ae52d07f78row5_col1\" class=\"data row5 col1\" >0.000</td>\n",
       "                        <td id=\"T_73de3834_fbfa_11e9_8411_d4ae52d07f78row5_col2\" class=\"data row5 col2\" >0.906</td>\n",
       "                        <td id=\"T_73de3834_fbfa_11e9_8411_d4ae52d07f78row5_col3\" class=\"data row5 col3\" >0.000</td>\n",
       "                        <td id=\"T_73de3834_fbfa_11e9_8411_d4ae52d07f78row5_col4\" class=\"data row5 col4\" >0.000</td>\n",
       "                        <td id=\"T_73de3834_fbfa_11e9_8411_d4ae52d07f78row5_col5\" class=\"data row5 col5\" >1.000</td>\n",
       "                        <td id=\"T_73de3834_fbfa_11e9_8411_d4ae52d07f78row5_col6\" class=\"data row5 col6\" >0.000</td>\n",
       "                        <td id=\"T_73de3834_fbfa_11e9_8411_d4ae52d07f78row5_col7\" class=\"data row5 col7\" >0.000</td>\n",
       "            </tr>\n",
       "            <tr>\n",
       "                                <th id=\"T_73de3834_fbfa_11e9_8411_d4ae52d07f78level1_row6\" class=\"row_heading level1 row6\" >area</th>\n",
       "                        <td id=\"T_73de3834_fbfa_11e9_8411_d4ae52d07f78row6_col0\" class=\"data row6 col0\" >0.000</td>\n",
       "                        <td id=\"T_73de3834_fbfa_11e9_8411_d4ae52d07f78row6_col1\" class=\"data row6 col1\" >0.000</td>\n",
       "                        <td id=\"T_73de3834_fbfa_11e9_8411_d4ae52d07f78row6_col2\" class=\"data row6 col2\" >0.000</td>\n",
       "                        <td id=\"T_73de3834_fbfa_11e9_8411_d4ae52d07f78row6_col3\" class=\"data row6 col3\" >0.958</td>\n",
       "                        <td id=\"T_73de3834_fbfa_11e9_8411_d4ae52d07f78row6_col4\" class=\"data row6 col4\" >0.000</td>\n",
       "                        <td id=\"T_73de3834_fbfa_11e9_8411_d4ae52d07f78row6_col5\" class=\"data row6 col5\" >0.000</td>\n",
       "                        <td id=\"T_73de3834_fbfa_11e9_8411_d4ae52d07f78row6_col6\" class=\"data row6 col6\" >1.000</td>\n",
       "                        <td id=\"T_73de3834_fbfa_11e9_8411_d4ae52d07f78row6_col7\" class=\"data row6 col7\" >0.000</td>\n",
       "            </tr>\n",
       "            <tr>\n",
       "                                <th id=\"T_73de3834_fbfa_11e9_8411_d4ae52d07f78level1_row7\" class=\"row_heading level1 row7\" >pop</th>\n",
       "                        <td id=\"T_73de3834_fbfa_11e9_8411_d4ae52d07f78row7_col0\" class=\"data row7 col0\" >0.000</td>\n",
       "                        <td id=\"T_73de3834_fbfa_11e9_8411_d4ae52d07f78row7_col1\" class=\"data row7 col1\" >0.931</td>\n",
       "                        <td id=\"T_73de3834_fbfa_11e9_8411_d4ae52d07f78row7_col2\" class=\"data row7 col2\" >0.000</td>\n",
       "                        <td id=\"T_73de3834_fbfa_11e9_8411_d4ae52d07f78row7_col3\" class=\"data row7 col3\" >0.000</td>\n",
       "                        <td id=\"T_73de3834_fbfa_11e9_8411_d4ae52d07f78row7_col4\" class=\"data row7 col4\" >0.938</td>\n",
       "                        <td id=\"T_73de3834_fbfa_11e9_8411_d4ae52d07f78row7_col5\" class=\"data row7 col5\" >0.000</td>\n",
       "                        <td id=\"T_73de3834_fbfa_11e9_8411_d4ae52d07f78row7_col6\" class=\"data row7 col6\" >0.000</td>\n",
       "                        <td id=\"T_73de3834_fbfa_11e9_8411_d4ae52d07f78row7_col7\" class=\"data row7 col7\" >1.000</td>\n",
       "            </tr>\n",
       "    </tbody></table>"
      ],
      "text/plain": [
       "<pandas.io.formats.style.Styler at 0x7f0033d3bf28>"
      ]
     },
     "execution_count": 472,
     "metadata": {},
     "output_type": "execute_result"
    }
   ],
   "source": [
    "grad_bg(swap(swap(dila_ken_tau,0,1),0,1))"
   ]
  },
  {
   "cell_type": "markdown",
   "metadata": {},
   "source": [
    "# hotspots"
   ]
  },
  {
   "cell_type": "code",
   "execution_count": 15,
   "metadata": {
    "ExecuteTime": {
     "end_time": "2019-11-04T19:51:33.788263Z",
     "start_time": "2019-11-04T19:46:17.876770Z"
    },
    "code_folding": []
   },
   "outputs": [
    {
     "name": "stdout",
     "output_type": "stream",
     "text": [
      "('area', False, False) working on 1 2 3 4 5 6 7 8 9 10 11 12 13 14 15 16 17 18 19 20 21 22 23 24 25 26 27 28 29 30 31 32 33 34 35 36 37 38 39 40 41 42 43 44 45 46 47 48 49 50 51 52 53 54 55 56 57 58 59 \n",
      "('area', False, True) working on 1 2 3 4 5 6 7 8 9 10 11 12 13 14 15 16 17 18 19 20 21 22 23 24 25 26 27 28 29 30 31 32 33 34 35 36 37 38 39 40 41 42 43 44 45 46 47 48 49 50 51 52 53 54 55 56 57 58 59 \n",
      "('area', True, False) working on 1 2 3 4 5 6 7 8 9 10 11 12 13 14 15 16 17 18 19 20 21 22 23 24 25 26 27 28 29 30 31 32 33 34 35 36 37 38 39 40 41 42 43 44 45 46 47 48 49 50 51 52 53 54 55 56 57 58 59 \n",
      "('area', True, True) working on 1 2 3 4 5 6 7 8 9 10 11 12 13 14 15 16 17 18 19 20 21 22 23 24 25 26 27 28 29 30 31 32 33 34 35 36 37 38 39 40 41 42 43 44 45 46 47 48 49 50 51 52 53 54 55 56 57 58 59 \n",
      "('pop', False, False) working on 1 2 3 4 5 6 7 8 9 10 11 12 13 14 15 16 17 18 19 20 21 22 23 24 25 26 27 28 29 30 31 32 33 34 35 36 37 38 39 40 41 42 43 44 45 46 47 48 49 50 51 52 53 54 55 56 57 58 59 \n",
      "('pop', False, True) working on 1 2 3 4 5 6 7 8 9 10 11 12 13 14 15 16 17 18 19 20 21 22 23 24 25 26 27 28 29 30 31 32 33 34 35 36 37 38 39 40 41 42 43 44 45 46 47 48 49 50 51 52 53 54 55 56 57 58 59 \n",
      "('pop', True, False) working on 1 2 3 4 5 6 7 8 9 10 11 12 13 14 15 16 17 18 19 20 21 22 23 24 25 26 27 28 29 30 31 32 33 34 35 36 37 38 39 40 41 42 43 44 45 46 47 48 49 50 51 52 53 54 55 56 57 58 59 \n",
      "('pop', True, True) working on 1 2 3 4 5 6 7 8 9 10 11 12 13 14 15 16 17 18 19 20 21 22 23 24 25 26 27 28 29 30 31 32 33 34 35 36 37 38 39 40 41 42 43 44 45 46 47 48 49 50 51 52 53 54 55 56 57 58 59 \n",
      "('area', False, False) working on 1 2 3 4 5 6 7 8 9 10 11 12 13 14 15 16 17 18 19 20 21 22 23 24 25 26 27 28 29 30 31 32 33 34 35 36 37 38 39 40 41 42 43 44 45 46 47 48 49 50 51 52 53 54 55 56 57 58 59 \n",
      "('area', False, True) working on 1 2 3 4 5 6 7 8 9 10 11 12 13 14 15 16 17 18 19 20 21 22 23 24 25 26 27 28 29 30 31 32 33 34 35 36 37 38 39 40 41 42 43 44 45 46 47 48 49 50 51 52 53 54 55 56 57 58 59 \n",
      "('area', True, False) working on 1 2 3 4 5 6 7 8 9 10 11 12 13 14 15 16 17 18 19 20 21 22 23 24 25 26 27 28 29 30 31 32 33 34 35 36 37 38 39 40 41 42 43 44 45 46 47 48 49 50 51 52 53 54 55 56 57 58 59 \n",
      "('area', True, True) working on 1 2 3 4 5 6 7 8 9 10 11 12 13 14 15 16 17 18 19 20 21 22 23 24 25 26 27 28 29 30 31 32 33 34 35 36 37 38 39 40 41 42 43 44 45 46 47 48 49 50 51 52 53 54 55 56 57 58 59 \n",
      "('pop', False, False) working on 1 2 3 4 5 6 7 8 9 10 11 12 13 14 15 16 17 18 19 20 21 22 23 24 25 26 27 28 29 30 31 32 33 34 35 36 37 38 39 40 41 42 43 44 45 46 47 48 49 50 51 52 53 54 55 56 57 58 59 \n",
      "('pop', False, True) working on 1 2 3 4 5 6 7 8 9 10 11 12 13 14 15 16 17 18 19 20 21 22 23 24 25 26 27 28 29 30 31 32 33 34 35 36 37 38 39 40 41 42 43 44 45 46 47 48 49 50 51 52 53 54 55 56 57 58 59 \n",
      "('pop', True, False) working on 1 2 3 4 5 6 7 8 9 10 11 12 13 14 15 16 17 18 19 20 21 22 23 24 25 26 27 28 29 30 31 32 33 34 35 36 37 38 39 40 41 42 43 44 45 46 47 48 49 50 51 52 53 54 55 56 57 58 59 \n",
      "('pop', True, True) working on 1 2 3 4 5 6 7 8 9 10 11 12 13 14 15 16 17 18 19 20 21 22 23 24 25 26 27 28 29 30 31 32 33 34 35 36 37 38 39 40 41 42 43 44 45 46 47 48 49 50 51 52 53 54 55 56 57 58 59 \n",
      "(False, False) working on 1 2 3 4 5 6 7 8 9 10 11 12 13 14 15 16 17 18 19 20 21 22 23 24 25 26 27 28 29 30 31 32 33 34 35 36 37 38 39 40 41 42 43 44 45 46 47 48 49 50 51 52 53 54 55 56 57 58 59 \n",
      "(False, True) working on 1 2 3 4 5 6 7 8 9 10 11 12 13 14 15 16 17 18 19 20 21 22 23 24 25 26 27 28 29 30 31 32 33 34 35 36 37 38 39 40 41 42 43 44 45 46 47 48 49 50 51 52 53 54 55 56 57 58 59 \n",
      "(True, False) working on 1 2 3 4 5 6 7 8 9 10 11 12 13 14 15 16 17 18 19 20 21 22 23 24 25 26 27 28 29 30 31 32 33 34 35 36 37 38 39 40 41 42 43 44 45 46 47 48 49 50 51 52 53 54 55 56 57 58 59 \n",
      "(True, True) working on 1 2 3 4 5 6 7 8 9 10 11 12 13 14 15 16 17 18 19 20 21 22 23 24 25 26 27 28 29 30 31 32 33 34 35 36 37 38 39 40 41 42 43 44 45 46 47 48 49 50 51 52 53 54 55 56 57 58 59 \n",
      "(False, False) working on 1 2 3 4 5 6 7 8 9 10 11 12 13 14 15 16 17 18 19 20 21 22 23 24 25 26 27 28 29 30 31 32 33 34 35 36 37 38 39 40 41 42 43 44 45 46 47 48 49 50 51 52 53 54 55 56 57 58 59 \n",
      "(False, True) working on 1 2 3 4 5 6 7 8 9 10 11 12 13 14 15 16 17 18 19 20 21 22 23 24 25 26 27 28 29 30 31 32 33 34 35 36 37 38 39 40 41 42 43 44 45 46 47 48 49 50 51 52 53 54 55 56 57 58 59 \n",
      "(True, False) working on 1 (`01011`=2 using `average`) 2 3 4 (`05017`=1 no hotspot) 5 6 7 8 (`06003`=2 using `average`) (`06004`=2 using `average`) 9 (`06001`=2 using `average`) 10 (`07012`=1 no hotspot) 11 12 (`08002`=2 using `average`) (`08004`=2 using `average`) 13 (`13069`=2 using `average`) (`15009`=2 using `average`) (`15011`=1 no hotspot) (`15016`=1 no hotspot) (`15022`=1 no hotspot) (`15023`=1 no hotspot) (`15035`=2 using `average`) (`15044`=1 no hotspot) (`15050`=2 using `average`) (`15053`=1 no hotspot) (`15059`=1 no hotspot) (`15061`=1 no hotspot) (`15065`=1 no hotspot) (`15068`=1 no hotspot) (`15069`=1 no hotspot) (`15092`=1 no hotspot) (`15093`=1 no hotspot) (`15094`=1 no hotspot) (`15100`=2 using `average`) (`15103`=2 using `average`) (`15108`=2 using `average`) (`15120`=2 using `average`) (`15125`=1 no hotspot) 14 15 (`11025`=2 using `average`) 16 (`11041`=2 using `average`) 17 18 (`13039`=2 using `average`) (`13082`=1 no hotspot) (`13083`=2 using `average`) 19 (`13056`=1 no hotspot) 20 (`13010`=1 no hotspot) 21 (`14044`=2 using `average`) 22 23 (`14066`=1 no hotspot) 24 (`15005`=1 no hotspot) (`15018`=2 using `average`) 25 26 (`16043`=1 no hotspot) 27 28 (`17020`=1 no hotspot) (`17028`=1 no hotspot) 29 (`17002`=2 using `average`) (`17004`=1 no hotspot) 30 31 (`19010`=2 using `average`) 32 (`20083`=1 no hotspot) (`20107`=1 no hotspot) (`20115`=1 no hotspot) (`20157`=1 no hotspot) (`20227`=1 no hotspot) (`20350`=1 no hotspot) (`20553`=1 no hotspot) 33 (`20124`=1 no hotspot) (`20515`=2 using `average`) 34 (`21015`=2 using `average`) (`21034`=2 using `average`) (`21106`=1 no hotspot) (`21125`=1 no hotspot) (`21136`=1 no hotspot) (`29015`=2 using `average`) (`29025`=1 no hotspot) (`29041`=2 using `average`) (`29042`=1 no hotspot) (`29044`=1 no hotspot) 35 36 (`22008`=1 no hotspot) (`22011`=2 using `average`) 37 (`23003`=2 using `average`) 38 39 (`24011`=2 using `average`) 40 41 (`27013`=2 using `average`) 42 43 44 45 46 (`29002`=2 using `average`) (`29005`=2 using `average`) (`29010`=1 no hotspot) (`29018`=1 no hotspot) (`29031`=1 no hotspot) (`29035`=1 no hotspot) (`29036`=1 no hotspot) (`29060`=1 no hotspot) 47 (`30090`=2 using `average`) (`30105`=2 using `average`) 48 (`30026`=1 no hotspot) 49 (`30040`=2 using `average`) 50 (`30030`=1 no hotspot) (`30085`=2 using `average`) (`30099`=1 no hotspot) (`30101`=1 no hotspot) (`30115`=2 using `average`) (`30135`=1 no hotspot) (`30138`=1 no hotspot) 51 52 (`30082`=2 using `average`) (`30206`=2 using `average`) 53 (`30014`=2 using `average`) (`30068`=1 no hotspot) 54 55 (`31013`=1 no hotspot) (`31100`=1 no hotspot) 56 (`32032`=2 using `average`) 57 (`11044`=1 no hotspot) 58 (`15101`=1 no hotspot) (`zm58` has no mun_hotspot)\n",
      "59 \n",
      "(True, True) working on 1 (`01005`=2 using `average`) (`01011`=1 no hotspot) 2 3 4 (`05017`=1 no hotspot) 5 (`05004`=2 using `average`) 6 7 (`05022`=2 using `average`) 8 (`06003`=2 using `average`) (`06004`=2 using `average`) (`06005`=2 using `average`) 9 (`06001`=1 no hotspot) 10 (`07012`=1 no hotspot) (`07027`=2 using `average`) 11 12 13 (`13069`=2 using `average`) (`15009`=1 no hotspot) (`15011`=1 no hotspot) (`15023`=1 no hotspot) (`15035`=1 no hotspot) (`15044`=1 no hotspot) (`15053`=1 no hotspot) (`15059`=1 no hotspot) (`15065`=1 no hotspot) (`15068`=1 no hotspot) (`15069`=1 no hotspot) (`15092`=1 no hotspot) (`15093`=1 no hotspot) (`15094`=1 no hotspot) (`15100`=2 using `average`) (`15103`=1 no hotspot) (`15108`=2 using `average`) (`15120`=2 using `average`) (`15125`=1 no hotspot) 14 15 (`11025`=1 no hotspot) (`11031`=2 using `average`) 16 (`11041`=1 no hotspot) 17 (`12021`=2 using `average`) 18 (`13039`=2 using `average`) (`13082`=1 no hotspot) 19 20 (`13076`=1 no hotspot) (`zm20` has no mun_hotspot)\n"
     ]
    },
    {
     "name": "stdout",
     "output_type": "stream",
     "text": [
      "21 (`14044`=1 no hotspot) 22 23 24 (`15018`=1 no hotspot) (`15062`=2 using `average`) (`15118`=2 using `average`) 25 (`16088`=2 using `average`) 26 27 (`11023`=2 using `average`) 28 (`17020`=1 no hotspot) 29 (`17002`=1 no hotspot) 30 (`18008`=2 using `average`) 31 (`19010`=1 no hotspot) (`19045`=2 using `average`) 32 (`20107`=1 no hotspot) (`20115`=1 no hotspot) (`20157`=1 no hotspot) (`20227`=1 no hotspot) (`20350`=1 no hotspot) (`20553`=1 no hotspot) 33 (`20515`=2 using `average`) 34 (`21015`=2 using `average`) (`21034`=2 using `average`) (`21041`=2 using `average`) (`21074`=1 no hotspot) (`21125`=1 no hotspot) (`21136`=1 no hotspot) (`29025`=1 no hotspot) (`29041`=2 using `average`) (`29042`=1 no hotspot) (`29044`=1 no hotspot) 35 36 (`22008`=1 no hotspot) (`22011`=1 no hotspot) 37 (`23003`=2 using `average`) 38 39 (`24011`=2 using `average`) 40 41 (`27013`=1 no hotspot) 42 43 44 45 46 (`29002`=1 no hotspot) (`29005`=2 using `average`) (`29010`=1 no hotspot) (`29018`=1 no hotspot) (`29035`=1 no hotspot) (`29036`=1 no hotspot) (`29060`=1 no hotspot) 47 (`30011`=2 using `average`) (`30090`=1 no hotspot) (`30105`=2 using `average`) 48 (`30026`=1 no hotspot) 49 (`30040`=1 no hotspot) (`30124`=1 no hotspot) (`30175`=2 using `average`) 50 (`30030`=1 no hotspot) (`30085`=2 using `average`) (`30115`=1 no hotspot) (`30135`=1 no hotspot) (`30138`=1 no hotspot) 51 (`30048`=2 using `average`) (`30089`=2 using `average`) 52 (`30206`=1 no hotspot) 53 (`30014`=2 using `average`) (`30068`=1 no hotspot) 54 55 (`31041`=2 using `average`) (`31100`=1 no hotspot) 56 (`32032`=1 no hotspot) 57 (`11009`=2 using `average`) (`11044`=1 no hotspot) 58 (`15101`=1 no hotspot) (`zm58` has no mun_hotspot)\n",
      "59 \n"
     ]
    }
   ],
   "source": [
    "# compute hot stats\n",
    "hotspot_type = 'loubar'\n",
    "n_hs_a = {}\n",
    "comp_coef_a = {}\n",
    "for by in ['area', 'pop']:\n",
    "    for per_mun in [False, True]:\n",
    "        for urb_only in [False, True]:\n",
    "            key = (by, per_mun, urb_only)\n",
    "            print(key, end=' ')\n",
    "            n, cc = ud_helper.ftr_hs.hs_stats_ageb(\n",
    "                avg_a[by], zms, zms_agebs, mg_mappings, per_mun, urb_only, hotspot_type)\n",
    "            n_hs_a[key] = n\n",
    "            comp_coef_a[key] = cc\n",
    "\n",
    "n_hs_g = {}\n",
    "comp_coef_g = {}\n",
    "for key, avg in avg_g.items():\n",
    "    print(key, end=' ')\n",
    "    by, per_mun, urb_only = key\n",
    "    zms_g = zms_grids[(per_mun, urb_only)]\n",
    "    n, cc = ud_helper.ftr_hs.hs_stats_grid(\n",
    "        avg, zms, zms_g, per_mun, hotspot_type)\n",
    "    n_hs_g[key] = n\n",
    "    comp_coef_g[key] = cc\n",
    "\n",
    "n_hs_idw = {}\n",
    "comp_coef_idw = {}\n",
    "for key, avg in avg_idw.items():\n",
    "    print(key, end=' ')\n",
    "    per_mun, urb_only = key\n",
    "    zms_g = zms_grids[key]\n",
    "    n, cc = ud_helper.ftr_hs.hs_stats_grid(\n",
    "        avg, zms, zms_g, per_mun, hotspot_type)\n",
    "    n_hs_idw[key] = n\n",
    "    comp_coef_idw[key] = cc\n",
    "\n",
    "\n",
    "n_hs_tw = {}\n",
    "comp_coef_tw = {}\n",
    "for per_mun in [False, True]:\n",
    "    for urb_only in [False, True]:\n",
    "        key = (per_mun, urb_only)\n",
    "        print(key, end=' ')\n",
    "        n, cc = ud_helper.ftr_hs.hs_stats_vor(avg_tw, zms, per_mun, urb_only, hotspot_type)\n",
    "        n_hs_tw[key] = n\n",
    "        comp_coef_tw[key] = cc"
   ]
  },
  {
   "cell_type": "code",
   "execution_count": 16,
   "metadata": {
    "ExecuteTime": {
     "end_time": "2019-11-04T19:51:33.805633Z",
     "start_time": "2019-11-04T19:51:33.790092Z"
    }
   },
   "outputs": [],
   "source": [
    "from src.urban_diff_helper import ADMIN_STR"
   ]
  },
  {
   "cell_type": "code",
   "execution_count": 17,
   "metadata": {
    "ExecuteTime": {
     "end_time": "2019-11-04T19:51:33.948324Z",
     "start_time": "2019-11-04T19:51:33.807791Z"
    }
   },
   "outputs": [],
   "source": [
    "\n",
    "a = {(ADMIN_STR(per_mun, urb_only), 'ageb', by, ):cc for (by, per_mun, urb_only), cc in comp_coef_a.items() }\n",
    "g = {(ADMIN_STR(per_mun, urb_only), f'g.5km',by,): cc for (by,per_mun, urb_only), cc in comp_coef_g.items()}\n",
    "idw = {(ADMIN_STR(per_mun, urb_only), f'g.5km','_idw10'): cc for (per_mun, urb_only), cc in comp_coef_idw.items()}\n",
    "vor = {(ADMIN_STR(per_mun, urb_only), f'vor',''): cc for (per_mun, urb_only), cc in comp_coef_tw.items()}\n",
    "\n",
    "comp_coef = pd.DataFrame({**a, **g, ** idw, **vor})"
   ]
  },
  {
   "cell_type": "code",
   "execution_count": 18,
   "metadata": {
    "ExecuteTime": {
     "end_time": "2019-11-04T19:51:34.052224Z",
     "start_time": "2019-11-04T19:51:33.950063Z"
    }
   },
   "outputs": [],
   "source": [
    "\n",
    "a = {(ADMIN_STR(per_mun, urb_only), 'ageb', by, ):cc for (by, per_mun, urb_only), cc in n_hs_a.items() }\n",
    "g = {(ADMIN_STR(per_mun, urb_only), f'g.5km',by,): cc for (by,per_mun, urb_only), cc in n_hs_g.items()}\n",
    "idw = {(ADMIN_STR(per_mun, urb_only), f'g.5km','_idw10', ): cc for (per_mun, urb_only), cc in n_hs_idw.items()}\n",
    "vor = {(ADMIN_STR(per_mun, urb_only), f'vor',''): cc for (per_mun, urb_only), cc in n_hs_tw.items()}\n",
    "\n",
    "Mean_number_hot = pd.DataFrame({**a, **g, **idw, **vor})"
   ]
  },
  {
   "cell_type": "markdown",
   "metadata": {},
   "source": [
    "## comp_coef"
   ]
  },
  {
   "cell_type": "code",
   "execution_count": 19,
   "metadata": {
    "ExecuteTime": {
     "end_time": "2019-11-04T19:51:34.643104Z",
     "start_time": "2019-11-04T19:51:34.054529Z"
    },
    "cell_style": "center"
   },
   "outputs": [],
   "source": [
    "comp_ken_ps, comp_ken_tau = ken_tau_corr(comp_coef, clean_table=False,larger_than=.0)\n",
    "comp_spr_ps, comp_spr_rho = spe_rho_corr(comp_coef, clean_table=False, larger_than=.0)"
   ]
  },
  {
   "cell_type": "code",
   "execution_count": 40,
   "metadata": {
    "ExecuteTime": {
     "end_time": "2019-11-04T20:06:44.712709Z",
     "start_time": "2019-11-04T20:06:42.026280Z"
    }
   },
   "outputs": [
    {
     "name": "stderr",
     "output_type": "stream",
     "text": [
      "/home/Jiahui/miniconda3/envs/mob2crime/lib/python3.7/site-packages/matplotlib/colors.py:527: RuntimeWarning:\n",
      "\n",
      "invalid value encountered in less\n",
      "\n"
     ]
    },
    {
     "data": {
      "text/html": [
       "<style  type=\"text/css\" >\n",
       "    #T_9fdd3a9c_ff3e_11e9_83be_d4ae52d07f78row0_col0 {\n",
       "            background-color:  #7f2704;\n",
       "        }    #T_9fdd3a9c_ff3e_11e9_83be_d4ae52d07f78row0_col1 {\n",
       "            background-color:  #f9802d;\n",
       "        }    #T_9fdd3a9c_ff3e_11e9_83be_d4ae52d07f78row0_col2 {\n",
       "            background-color:  #fd9a4e;\n",
       "        }    #T_9fdd3a9c_ff3e_11e9_83be_d4ae52d07f78row0_col3 {\n",
       "            background-color:  #dc4c03;\n",
       "        }    #T_9fdd3a9c_ff3e_11e9_83be_d4ae52d07f78row0_col4 {\n",
       "            background-color:  #f5741f;\n",
       "        }    #T_9fdd3a9c_ff3e_11e9_83be_d4ae52d07f78row0_col5 {\n",
       "            background-color:  #fedebf;\n",
       "        }    #T_9fdd3a9c_ff3e_11e9_83be_d4ae52d07f78row0_col6 {\n",
       "            background-color:  #bb3d02;\n",
       "        }    #T_9fdd3a9c_ff3e_11e9_83be_d4ae52d07f78row0_col7 {\n",
       "            background-color:  #fd8e3d;\n",
       "        }    #T_9fdd3a9c_ff3e_11e9_83be_d4ae52d07f78row0_col8 {\n",
       "            background-color:  #fd974a;\n",
       "        }    #T_9fdd3a9c_ff3e_11e9_83be_d4ae52d07f78row0_col9 {\n",
       "            background-color:  #fd994d;\n",
       "        }    #T_9fdd3a9c_ff3e_11e9_83be_d4ae52d07f78row0_col10 {\n",
       "            background-color:  #f36e19;\n",
       "        }    #T_9fdd3a9c_ff3e_11e9_83be_d4ae52d07f78row0_col11 {\n",
       "            background-color:  #fdcfa0;\n",
       "        }    #T_9fdd3a9c_ff3e_11e9_83be_d4ae52d07f78row0_col12 {\n",
       "            background-color:  #fdb576;\n",
       "        }    #T_9fdd3a9c_ff3e_11e9_83be_d4ae52d07f78row0_col13 {\n",
       "            background-color:  #fdd0a2;\n",
       "        }    #T_9fdd3a9c_ff3e_11e9_83be_d4ae52d07f78row0_col14 {\n",
       "            background-color:  #fdc590;\n",
       "        }    #T_9fdd3a9c_ff3e_11e9_83be_d4ae52d07f78row0_col15 {\n",
       "            background-color:  #fdca99;\n",
       "        }    #T_9fdd3a9c_ff3e_11e9_83be_d4ae52d07f78row0_col16 {\n",
       "            background-color:  #fdc895;\n",
       "        }    #T_9fdd3a9c_ff3e_11e9_83be_d4ae52d07f78row0_col17 {\n",
       "            background-color:  #feddbc;\n",
       "        }    #T_9fdd3a9c_ff3e_11e9_83be_d4ae52d07f78row0_col18 {\n",
       "            background-color:  #fdc692;\n",
       "        }    #T_9fdd3a9c_ff3e_11e9_83be_d4ae52d07f78row0_col19 {\n",
       "            background-color:  #fdcfa0;\n",
       "        }    #T_9fdd3a9c_ff3e_11e9_83be_d4ae52d07f78row0_col20 {\n",
       "            background-color:  #fdb678;\n",
       "        }    #T_9fdd3a9c_ff3e_11e9_83be_d4ae52d07f78row0_col21 {\n",
       "            background-color:  #fdc895;\n",
       "        }    #T_9fdd3a9c_ff3e_11e9_83be_d4ae52d07f78row0_col22 {\n",
       "            background-color:  #fdd1a4;\n",
       "        }    #T_9fdd3a9c_ff3e_11e9_83be_d4ae52d07f78row0_col23 {\n",
       "            background-color:  #fedcb9;\n",
       "        }    #T_9fdd3a9c_ff3e_11e9_83be_d4ae52d07f78row1_col0 {\n",
       "            background-color:  #fff5eb;\n",
       "        }    #T_9fdd3a9c_ff3e_11e9_83be_d4ae52d07f78row1_col1 {\n",
       "            background-color:  #7f2704;\n",
       "        }    #T_9fdd3a9c_ff3e_11e9_83be_d4ae52d07f78row1_col2 {\n",
       "            background-color:  #fc8b3a;\n",
       "        }    #T_9fdd3a9c_ff3e_11e9_83be_d4ae52d07f78row1_col3 {\n",
       "            background-color:  #fd9649;\n",
       "        }    #T_9fdd3a9c_ff3e_11e9_83be_d4ae52d07f78row1_col4 {\n",
       "            background-color:  #f77a27;\n",
       "        }    #T_9fdd3a9c_ff3e_11e9_83be_d4ae52d07f78row1_col5 {\n",
       "            background-color:  #fdc895;\n",
       "        }    #T_9fdd3a9c_ff3e_11e9_83be_d4ae52d07f78row1_col6 {\n",
       "            background-color:  #f9812e;\n",
       "        }    #T_9fdd3a9c_ff3e_11e9_83be_d4ae52d07f78row1_col7 {\n",
       "            background-color:  #a43503;\n",
       "        }    #T_9fdd3a9c_ff3e_11e9_83be_d4ae52d07f78row1_col8 {\n",
       "            background-color:  #fdad69;\n",
       "        }    #T_9fdd3a9c_ff3e_11e9_83be_d4ae52d07f78row1_col9 {\n",
       "            background-color:  #fda660;\n",
       "        }    #T_9fdd3a9c_ff3e_11e9_83be_d4ae52d07f78row1_col10 {\n",
       "            background-color:  #f3701b;\n",
       "        }    #T_9fdd3a9c_ff3e_11e9_83be_d4ae52d07f78row1_col11 {\n",
       "            background-color:  #fda660;\n",
       "        }    #T_9fdd3a9c_ff3e_11e9_83be_d4ae52d07f78row1_col12 {\n",
       "            background-color:  #fdc189;\n",
       "        }    #T_9fdd3a9c_ff3e_11e9_83be_d4ae52d07f78row1_col13 {\n",
       "            background-color:  #fda965;\n",
       "        }    #T_9fdd3a9c_ff3e_11e9_83be_d4ae52d07f78row1_col14 {\n",
       "            background-color:  #fdc794;\n",
       "        }    #T_9fdd3a9c_ff3e_11e9_83be_d4ae52d07f78row1_col15 {\n",
       "            background-color:  #fdd2a6;\n",
       "        }    #T_9fdd3a9c_ff3e_11e9_83be_d4ae52d07f78row1_col16 {\n",
       "            background-color:  #fdc28b;\n",
       "        }    #T_9fdd3a9c_ff3e_11e9_83be_d4ae52d07f78row1_col17 {\n",
       "            background-color:  #fdbf86;\n",
       "        }    #T_9fdd3a9c_ff3e_11e9_83be_d4ae52d07f78row1_col18 {\n",
       "            background-color:  #fdd6ae;\n",
       "        }    #T_9fdd3a9c_ff3e_11e9_83be_d4ae52d07f78row1_col19 {\n",
       "            background-color:  #fdb576;\n",
       "        }    #T_9fdd3a9c_ff3e_11e9_83be_d4ae52d07f78row1_col20 {\n",
       "            background-color:  #fdc38d;\n",
       "        }    #T_9fdd3a9c_ff3e_11e9_83be_d4ae52d07f78row1_col21 {\n",
       "            background-color:  #fdd8b2;\n",
       "        }    #T_9fdd3a9c_ff3e_11e9_83be_d4ae52d07f78row1_col22 {\n",
       "            background-color:  #fdcfa0;\n",
       "        }    #T_9fdd3a9c_ff3e_11e9_83be_d4ae52d07f78row1_col23 {\n",
       "            background-color:  #fdc895;\n",
       "        }    #T_9fdd3a9c_ff3e_11e9_83be_d4ae52d07f78row2_col0 {\n",
       "            background-color:  #fff5eb;\n",
       "        }    #T_9fdd3a9c_ff3e_11e9_83be_d4ae52d07f78row2_col1 {\n",
       "            background-color:  #fff5eb;\n",
       "        }    #T_9fdd3a9c_ff3e_11e9_83be_d4ae52d07f78row2_col2 {\n",
       "            background-color:  #7f2704;\n",
       "        }    #T_9fdd3a9c_ff3e_11e9_83be_d4ae52d07f78row2_col3 {\n",
       "            background-color:  #fd9141;\n",
       "        }    #T_9fdd3a9c_ff3e_11e9_83be_d4ae52d07f78row2_col4 {\n",
       "            background-color:  #f5741f;\n",
       "        }    #T_9fdd3a9c_ff3e_11e9_83be_d4ae52d07f78row2_col5 {\n",
       "            background-color:  #fd9e54;\n",
       "        }    #T_9fdd3a9c_ff3e_11e9_83be_d4ae52d07f78row2_col6 {\n",
       "            background-color:  #fda762;\n",
       "        }    #T_9fdd3a9c_ff3e_11e9_83be_d4ae52d07f78row2_col7 {\n",
       "            background-color:  #fd9c51;\n",
       "        }    #T_9fdd3a9c_ff3e_11e9_83be_d4ae52d07f78row2_col8 {\n",
       "            background-color:  #fa8532;\n",
       "        }    #T_9fdd3a9c_ff3e_11e9_83be_d4ae52d07f78row2_col9 {\n",
       "            background-color:  #fdc088;\n",
       "        }    #T_9fdd3a9c_ff3e_11e9_83be_d4ae52d07f78row2_col10 {\n",
       "            background-color:  #f67824;\n",
       "        }    #T_9fdd3a9c_ff3e_11e9_83be_d4ae52d07f78row2_col11 {\n",
       "            background-color:  #fc8a39;\n",
       "        }    #T_9fdd3a9c_ff3e_11e9_83be_d4ae52d07f78row2_col12 {\n",
       "            background-color:  #fdce9e;\n",
       "        }    #T_9fdd3a9c_ff3e_11e9_83be_d4ae52d07f78row2_col13 {\n",
       "            background-color:  #fdb373;\n",
       "        }    #T_9fdd3a9c_ff3e_11e9_83be_d4ae52d07f78row2_col14 {\n",
       "            background-color:  #fdac67;\n",
       "        }    #T_9fdd3a9c_ff3e_11e9_83be_d4ae52d07f78row2_col15 {\n",
       "            background-color:  #fdcb9b;\n",
       "        }    #T_9fdd3a9c_ff3e_11e9_83be_d4ae52d07f78row2_col16 {\n",
       "            background-color:  #fdb87c;\n",
       "        }    #T_9fdd3a9c_ff3e_11e9_83be_d4ae52d07f78row2_col17 {\n",
       "            background-color:  #fda762;\n",
       "        }    #T_9fdd3a9c_ff3e_11e9_83be_d4ae52d07f78row2_col18 {\n",
       "            background-color:  #fdd7af;\n",
       "        }    #T_9fdd3a9c_ff3e_11e9_83be_d4ae52d07f78row2_col19 {\n",
       "            background-color:  #fdbd83;\n",
       "        }    #T_9fdd3a9c_ff3e_11e9_83be_d4ae52d07f78row2_col20 {\n",
       "            background-color:  #fdbf86;\n",
       "        }    #T_9fdd3a9c_ff3e_11e9_83be_d4ae52d07f78row2_col21 {\n",
       "            background-color:  #fddbb8;\n",
       "        }    #T_9fdd3a9c_ff3e_11e9_83be_d4ae52d07f78row2_col22 {\n",
       "            background-color:  #fdc590;\n",
       "        }    #T_9fdd3a9c_ff3e_11e9_83be_d4ae52d07f78row2_col23 {\n",
       "            background-color:  #fd9e54;\n",
       "        }    #T_9fdd3a9c_ff3e_11e9_83be_d4ae52d07f78row3_col0 {\n",
       "            background-color:  #fff5eb;\n",
       "        }    #T_9fdd3a9c_ff3e_11e9_83be_d4ae52d07f78row3_col1 {\n",
       "            background-color:  #fff5eb;\n",
       "        }    #T_9fdd3a9c_ff3e_11e9_83be_d4ae52d07f78row3_col2 {\n",
       "            background-color:  #fff5eb;\n",
       "        }    #T_9fdd3a9c_ff3e_11e9_83be_d4ae52d07f78row3_col3 {\n",
       "            background-color:  #7f2704;\n",
       "        }    #T_9fdd3a9c_ff3e_11e9_83be_d4ae52d07f78row3_col4 {\n",
       "            background-color:  #ef6612;\n",
       "        }    #T_9fdd3a9c_ff3e_11e9_83be_d4ae52d07f78row3_col5 {\n",
       "            background-color:  #fee2c7;\n",
       "        }    #T_9fdd3a9c_ff3e_11e9_83be_d4ae52d07f78row3_col6 {\n",
       "            background-color:  #ea5f0e;\n",
       "        }    #T_9fdd3a9c_ff3e_11e9_83be_d4ae52d07f78row3_col7 {\n",
       "            background-color:  #fd9e54;\n",
       "        }    #T_9fdd3a9c_ff3e_11e9_83be_d4ae52d07f78row3_col8 {\n",
       "            background-color:  #fd8f3e;\n",
       "        }    #T_9fdd3a9c_ff3e_11e9_83be_d4ae52d07f78row3_col9 {\n",
       "            background-color:  #ee6410;\n",
       "        }    #T_9fdd3a9c_ff3e_11e9_83be_d4ae52d07f78row3_col10 {\n",
       "            background-color:  #ef6612;\n",
       "        }    #T_9fdd3a9c_ff3e_11e9_83be_d4ae52d07f78row3_col11 {\n",
       "            background-color:  #fdd4aa;\n",
       "        }    #T_9fdd3a9c_ff3e_11e9_83be_d4ae52d07f78row3_col12 {\n",
       "            background-color:  #fdb475;\n",
       "        }    #T_9fdd3a9c_ff3e_11e9_83be_d4ae52d07f78row3_col13 {\n",
       "            background-color:  #fdce9e;\n",
       "        }    #T_9fdd3a9c_ff3e_11e9_83be_d4ae52d07f78row3_col14 {\n",
       "            background-color:  #fdc189;\n",
       "        }    #T_9fdd3a9c_ff3e_11e9_83be_d4ae52d07f78row3_col15 {\n",
       "            background-color:  #fdc48f;\n",
       "        }    #T_9fdd3a9c_ff3e_11e9_83be_d4ae52d07f78row3_col16 {\n",
       "            background-color:  #fdc692;\n",
       "        }    #T_9fdd3a9c_ff3e_11e9_83be_d4ae52d07f78row3_col17 {\n",
       "            background-color:  #fedebf;\n",
       "        }    #T_9fdd3a9c_ff3e_11e9_83be_d4ae52d07f78row3_col18 {\n",
       "            background-color:  #fdc590;\n",
       "        }    #T_9fdd3a9c_ff3e_11e9_83be_d4ae52d07f78row3_col19 {\n",
       "            background-color:  #fdc997;\n",
       "        }    #T_9fdd3a9c_ff3e_11e9_83be_d4ae52d07f78row3_col20 {\n",
       "            background-color:  #fdb576;\n",
       "        }    #T_9fdd3a9c_ff3e_11e9_83be_d4ae52d07f78row3_col21 {\n",
       "            background-color:  #fdc48f;\n",
       "        }    #T_9fdd3a9c_ff3e_11e9_83be_d4ae52d07f78row3_col22 {\n",
       "            background-color:  #fdce9e;\n",
       "        }    #T_9fdd3a9c_ff3e_11e9_83be_d4ae52d07f78row3_col23 {\n",
       "            background-color:  #feddbc;\n",
       "        }    #T_9fdd3a9c_ff3e_11e9_83be_d4ae52d07f78row4_col0 {\n",
       "            background-color:  #fff5eb;\n",
       "        }    #T_9fdd3a9c_ff3e_11e9_83be_d4ae52d07f78row4_col1 {\n",
       "            background-color:  #fff5eb;\n",
       "        }    #T_9fdd3a9c_ff3e_11e9_83be_d4ae52d07f78row4_col2 {\n",
       "            background-color:  #fff5eb;\n",
       "        }    #T_9fdd3a9c_ff3e_11e9_83be_d4ae52d07f78row4_col3 {\n",
       "            background-color:  #fff5eb;\n",
       "        }    #T_9fdd3a9c_ff3e_11e9_83be_d4ae52d07f78row4_col4 {\n",
       "            background-color:  #7f2704;\n",
       "        }    #T_9fdd3a9c_ff3e_11e9_83be_d4ae52d07f78row4_col5 {\n",
       "            background-color:  #fdb97d;\n",
       "        }    #T_9fdd3a9c_ff3e_11e9_83be_d4ae52d07f78row4_col6 {\n",
       "            background-color:  #f87e2b;\n",
       "        }    #T_9fdd3a9c_ff3e_11e9_83be_d4ae52d07f78row4_col7 {\n",
       "            background-color:  #fa8331;\n",
       "        }    #T_9fdd3a9c_ff3e_11e9_83be_d4ae52d07f78row4_col8 {\n",
       "            background-color:  #fb8836;\n",
       "        }    #T_9fdd3a9c_ff3e_11e9_83be_d4ae52d07f78row4_col9 {\n",
       "            background-color:  #fd9f56;\n",
       "        }    #T_9fdd3a9c_ff3e_11e9_83be_d4ae52d07f78row4_col10 {\n",
       "            background-color:  #a83703;\n",
       "        }    #T_9fdd3a9c_ff3e_11e9_83be_d4ae52d07f78row4_col11 {\n",
       "            background-color:  #fdad69;\n",
       "        }    #T_9fdd3a9c_ff3e_11e9_83be_d4ae52d07f78row4_col12 {\n",
       "            background-color:  #fdcd9c;\n",
       "        }    #T_9fdd3a9c_ff3e_11e9_83be_d4ae52d07f78row4_col13 {\n",
       "            background-color:  #fdb678;\n",
       "        }    #T_9fdd3a9c_ff3e_11e9_83be_d4ae52d07f78row4_col14 {\n",
       "            background-color:  #fdc28b;\n",
       "        }    #T_9fdd3a9c_ff3e_11e9_83be_d4ae52d07f78row4_col15 {\n",
       "            background-color:  #fdd9b4;\n",
       "        }    #T_9fdd3a9c_ff3e_11e9_83be_d4ae52d07f78row4_col16 {\n",
       "            background-color:  #fdbf86;\n",
       "        }    #T_9fdd3a9c_ff3e_11e9_83be_d4ae52d07f78row4_col17 {\n",
       "            background-color:  #fdc088;\n",
       "        }    #T_9fdd3a9c_ff3e_11e9_83be_d4ae52d07f78row4_col18 {\n",
       "            background-color:  #fdd7b1;\n",
       "        }    #T_9fdd3a9c_ff3e_11e9_83be_d4ae52d07f78row4_col19 {\n",
       "            background-color:  #fdba7f;\n",
       "        }    #T_9fdd3a9c_ff3e_11e9_83be_d4ae52d07f78row4_col20 {\n",
       "            background-color:  #fdc692;\n",
       "        }    #T_9fdd3a9c_ff3e_11e9_83be_d4ae52d07f78row4_col21 {\n",
       "            background-color:  #fdd9b5;\n",
       "        }    #T_9fdd3a9c_ff3e_11e9_83be_d4ae52d07f78row4_col22 {\n",
       "            background-color:  #fdc895;\n",
       "        }    #T_9fdd3a9c_ff3e_11e9_83be_d4ae52d07f78row4_col23 {\n",
       "            background-color:  #fdc189;\n",
       "        }    #T_9fdd3a9c_ff3e_11e9_83be_d4ae52d07f78row5_col0 {\n",
       "            background-color:  #fff5eb;\n",
       "        }    #T_9fdd3a9c_ff3e_11e9_83be_d4ae52d07f78row5_col1 {\n",
       "            background-color:  #fff5eb;\n",
       "        }    #T_9fdd3a9c_ff3e_11e9_83be_d4ae52d07f78row5_col2 {\n",
       "            background-color:  #fff5eb;\n",
       "        }    #T_9fdd3a9c_ff3e_11e9_83be_d4ae52d07f78row5_col3 {\n",
       "            background-color:  #fff5eb;\n",
       "        }    #T_9fdd3a9c_ff3e_11e9_83be_d4ae52d07f78row5_col4 {\n",
       "            background-color:  #fff5eb;\n",
       "        }    #T_9fdd3a9c_ff3e_11e9_83be_d4ae52d07f78row5_col5 {\n",
       "            background-color:  #7f2704;\n",
       "        }    #T_9fdd3a9c_ff3e_11e9_83be_d4ae52d07f78row5_col6 {\n",
       "            background-color:  #fee9d3;\n",
       "        }    #T_9fdd3a9c_ff3e_11e9_83be_d4ae52d07f78row5_col7 {\n",
       "            background-color:  #fdd5ab;\n",
       "        }    #T_9fdd3a9c_ff3e_11e9_83be_d4ae52d07f78row5_col8 {\n",
       "            background-color:  #fdba7f;\n",
       "        }    #T_9fdd3a9c_ff3e_11e9_83be_d4ae52d07f78row5_col9 {\n",
       "            background-color:  #fff5eb;\n",
       "        }    #T_9fdd3a9c_ff3e_11e9_83be_d4ae52d07f78row5_col10 {\n",
       "            background-color:  #fdc088;\n",
       "        }    #T_9fdd3a9c_ff3e_11e9_83be_d4ae52d07f78row5_col11 {\n",
       "            background-color:  #d54601;\n",
       "        }    #T_9fdd3a9c_ff3e_11e9_83be_d4ae52d07f78row5_col12 {\n",
       "            background-color:  #fedcb9;\n",
       "        }    #T_9fdd3a9c_ff3e_11e9_83be_d4ae52d07f78row5_col13 {\n",
       "            background-color:  #fdc48f;\n",
       "        }    #T_9fdd3a9c_ff3e_11e9_83be_d4ae52d07f78row5_col14 {\n",
       "            background-color:  #fdbb81;\n",
       "        }    #T_9fdd3a9c_ff3e_11e9_83be_d4ae52d07f78row5_col15 {\n",
       "            background-color:  #fdd5ad;\n",
       "        }    #T_9fdd3a9c_ff3e_11e9_83be_d4ae52d07f78row5_col16 {\n",
       "            background-color:  #fdc28b;\n",
       "        }    #T_9fdd3a9c_ff3e_11e9_83be_d4ae52d07f78row5_col17 {\n",
       "            background-color:  #e75b0b;\n",
       "        }    #T_9fdd3a9c_ff3e_11e9_83be_d4ae52d07f78row5_col18 {\n",
       "            background-color:  #fee9d3;\n",
       "        }    #T_9fdd3a9c_ff3e_11e9_83be_d4ae52d07f78row5_col19 {\n",
       "            background-color:  #fdd0a2;\n",
       "        }    #T_9fdd3a9c_ff3e_11e9_83be_d4ae52d07f78row5_col20 {\n",
       "            background-color:  #fddbb8;\n",
       "        }    #T_9fdd3a9c_ff3e_11e9_83be_d4ae52d07f78row5_col21 {\n",
       "            background-color:  #feeddc;\n",
       "        }    #T_9fdd3a9c_ff3e_11e9_83be_d4ae52d07f78row5_col22 {\n",
       "            background-color:  #fdcd9c;\n",
       "        }    #T_9fdd3a9c_ff3e_11e9_83be_d4ae52d07f78row5_col23 {\n",
       "            background-color:  #f87f2c;\n",
       "        }    #T_9fdd3a9c_ff3e_11e9_83be_d4ae52d07f78row6_col0 {\n",
       "            background-color:  #fff5eb;\n",
       "        }    #T_9fdd3a9c_ff3e_11e9_83be_d4ae52d07f78row6_col1 {\n",
       "            background-color:  #fff5eb;\n",
       "        }    #T_9fdd3a9c_ff3e_11e9_83be_d4ae52d07f78row6_col2 {\n",
       "            background-color:  #fff5eb;\n",
       "        }    #T_9fdd3a9c_ff3e_11e9_83be_d4ae52d07f78row6_col3 {\n",
       "            background-color:  #fff5eb;\n",
       "        }    #T_9fdd3a9c_ff3e_11e9_83be_d4ae52d07f78row6_col4 {\n",
       "            background-color:  #fff5eb;\n",
       "        }    #T_9fdd3a9c_ff3e_11e9_83be_d4ae52d07f78row6_col5 {\n",
       "            background-color:  #fff5eb;\n",
       "        }    #T_9fdd3a9c_ff3e_11e9_83be_d4ae52d07f78row6_col6 {\n",
       "            background-color:  #7f2704;\n",
       "        }    #T_9fdd3a9c_ff3e_11e9_83be_d4ae52d07f78row6_col7 {\n",
       "            background-color:  #f67824;\n",
       "        }    #T_9fdd3a9c_ff3e_11e9_83be_d4ae52d07f78row6_col8 {\n",
       "            background-color:  #fd9a4e;\n",
       "        }    #T_9fdd3a9c_ff3e_11e9_83be_d4ae52d07f78row6_col9 {\n",
       "            background-color:  #fb8735;\n",
       "        }    #T_9fdd3a9c_ff3e_11e9_83be_d4ae52d07f78row6_col10 {\n",
       "            background-color:  #f26d17;\n",
       "        }    #T_9fdd3a9c_ff3e_11e9_83be_d4ae52d07f78row6_col11 {\n",
       "            background-color:  #fdd7b1;\n",
       "        }    #T_9fdd3a9c_ff3e_11e9_83be_d4ae52d07f78row6_col12 {\n",
       "            background-color:  #fdb576;\n",
       "        }    #T_9fdd3a9c_ff3e_11e9_83be_d4ae52d07f78row6_col13 {\n",
       "            background-color:  #fdcfa0;\n",
       "        }    #T_9fdd3a9c_ff3e_11e9_83be_d4ae52d07f78row6_col14 {\n",
       "            background-color:  #fdcd9c;\n",
       "        }    #T_9fdd3a9c_ff3e_11e9_83be_d4ae52d07f78row6_col15 {\n",
       "            background-color:  #fdcfa0;\n",
       "        }    #T_9fdd3a9c_ff3e_11e9_83be_d4ae52d07f78row6_col16 {\n",
       "            background-color:  #fdc794;\n",
       "        }    #T_9fdd3a9c_ff3e_11e9_83be_d4ae52d07f78row6_col17 {\n",
       "            background-color:  #fee5cb;\n",
       "        }    #T_9fdd3a9c_ff3e_11e9_83be_d4ae52d07f78row6_col18 {\n",
       "            background-color:  #fdb576;\n",
       "        }    #T_9fdd3a9c_ff3e_11e9_83be_d4ae52d07f78row6_col19 {\n",
       "            background-color:  #fdcb9b;\n",
       "        }    #T_9fdd3a9c_ff3e_11e9_83be_d4ae52d07f78row6_col20 {\n",
       "            background-color:  #fdb678;\n",
       "        }    #T_9fdd3a9c_ff3e_11e9_83be_d4ae52d07f78row6_col21 {\n",
       "            background-color:  #fdc48f;\n",
       "        }    #T_9fdd3a9c_ff3e_11e9_83be_d4ae52d07f78row6_col22 {\n",
       "            background-color:  #fdd1a3;\n",
       "        }    #T_9fdd3a9c_ff3e_11e9_83be_d4ae52d07f78row6_col23 {\n",
       "            background-color:  #fedebf;\n",
       "        }    #T_9fdd3a9c_ff3e_11e9_83be_d4ae52d07f78row7_col0 {\n",
       "            background-color:  #fff5eb;\n",
       "        }    #T_9fdd3a9c_ff3e_11e9_83be_d4ae52d07f78row7_col1 {\n",
       "            background-color:  #fff5eb;\n",
       "        }    #T_9fdd3a9c_ff3e_11e9_83be_d4ae52d07f78row7_col2 {\n",
       "            background-color:  #fff5eb;\n",
       "        }    #T_9fdd3a9c_ff3e_11e9_83be_d4ae52d07f78row7_col3 {\n",
       "            background-color:  #fff5eb;\n",
       "        }    #T_9fdd3a9c_ff3e_11e9_83be_d4ae52d07f78row7_col4 {\n",
       "            background-color:  #fff5eb;\n",
       "        }    #T_9fdd3a9c_ff3e_11e9_83be_d4ae52d07f78row7_col5 {\n",
       "            background-color:  #fff5eb;\n",
       "        }    #T_9fdd3a9c_ff3e_11e9_83be_d4ae52d07f78row7_col6 {\n",
       "            background-color:  #fff5eb;\n",
       "        }    #T_9fdd3a9c_ff3e_11e9_83be_d4ae52d07f78row7_col7 {\n",
       "            background-color:  #7f2704;\n",
       "        }    #T_9fdd3a9c_ff3e_11e9_83be_d4ae52d07f78row7_col8 {\n",
       "            background-color:  #fdb373;\n",
       "        }    #T_9fdd3a9c_ff3e_11e9_83be_d4ae52d07f78row7_col9 {\n",
       "            background-color:  #fd9e54;\n",
       "        }    #T_9fdd3a9c_ff3e_11e9_83be_d4ae52d07f78row7_col10 {\n",
       "            background-color:  #f4721e;\n",
       "        }    #T_9fdd3a9c_ff3e_11e9_83be_d4ae52d07f78row7_col11 {\n",
       "            background-color:  #fdbb81;\n",
       "        }    #T_9fdd3a9c_ff3e_11e9_83be_d4ae52d07f78row7_col12 {\n",
       "            background-color:  #fdc48f;\n",
       "        }    #T_9fdd3a9c_ff3e_11e9_83be_d4ae52d07f78row7_col13 {\n",
       "            background-color:  #fdb170;\n",
       "        }    #T_9fdd3a9c_ff3e_11e9_83be_d4ae52d07f78row7_col14 {\n",
       "            background-color:  #fdd3a9;\n",
       "        }    #T_9fdd3a9c_ff3e_11e9_83be_d4ae52d07f78row7_col15 {\n",
       "            background-color:  #fdd7b1;\n",
       "        }    #T_9fdd3a9c_ff3e_11e9_83be_d4ae52d07f78row7_col16 {\n",
       "            background-color:  #fdc895;\n",
       "        }    #T_9fdd3a9c_ff3e_11e9_83be_d4ae52d07f78row7_col17 {\n",
       "            background-color:  #fdd3a7;\n",
       "        }    #T_9fdd3a9c_ff3e_11e9_83be_d4ae52d07f78row7_col18 {\n",
       "            background-color:  #fdd5ad;\n",
       "        }    #T_9fdd3a9c_ff3e_11e9_83be_d4ae52d07f78row7_col19 {\n",
       "            background-color:  #fdba7f;\n",
       "        }    #T_9fdd3a9c_ff3e_11e9_83be_d4ae52d07f78row7_col20 {\n",
       "            background-color:  #fdcd9c;\n",
       "        }    #T_9fdd3a9c_ff3e_11e9_83be_d4ae52d07f78row7_col21 {\n",
       "            background-color:  #fddbb8;\n",
       "        }    #T_9fdd3a9c_ff3e_11e9_83be_d4ae52d07f78row7_col22 {\n",
       "            background-color:  #fdd2a6;\n",
       "        }    #T_9fdd3a9c_ff3e_11e9_83be_d4ae52d07f78row7_col23 {\n",
       "            background-color:  #fdd1a4;\n",
       "        }    #T_9fdd3a9c_ff3e_11e9_83be_d4ae52d07f78row8_col0 {\n",
       "            background-color:  #fff5eb;\n",
       "        }    #T_9fdd3a9c_ff3e_11e9_83be_d4ae52d07f78row8_col1 {\n",
       "            background-color:  #fff5eb;\n",
       "        }    #T_9fdd3a9c_ff3e_11e9_83be_d4ae52d07f78row8_col2 {\n",
       "            background-color:  #fff5eb;\n",
       "        }    #T_9fdd3a9c_ff3e_11e9_83be_d4ae52d07f78row8_col3 {\n",
       "            background-color:  #fff5eb;\n",
       "        }    #T_9fdd3a9c_ff3e_11e9_83be_d4ae52d07f78row8_col4 {\n",
       "            background-color:  #fff5eb;\n",
       "        }    #T_9fdd3a9c_ff3e_11e9_83be_d4ae52d07f78row8_col5 {\n",
       "            background-color:  #fff5eb;\n",
       "        }    #T_9fdd3a9c_ff3e_11e9_83be_d4ae52d07f78row8_col6 {\n",
       "            background-color:  #fff5eb;\n",
       "        }    #T_9fdd3a9c_ff3e_11e9_83be_d4ae52d07f78row8_col7 {\n",
       "            background-color:  #fff5eb;\n",
       "        }    #T_9fdd3a9c_ff3e_11e9_83be_d4ae52d07f78row8_col8 {\n",
       "            background-color:  #7f2704;\n",
       "        }    #T_9fdd3a9c_ff3e_11e9_83be_d4ae52d07f78row8_col9 {\n",
       "            background-color:  #fda057;\n",
       "        }    #T_9fdd3a9c_ff3e_11e9_83be_d4ae52d07f78row8_col10 {\n",
       "            background-color:  #fd8f3e;\n",
       "        }    #T_9fdd3a9c_ff3e_11e9_83be_d4ae52d07f78row8_col11 {\n",
       "            background-color:  #fdaf6c;\n",
       "        }    #T_9fdd3a9c_ff3e_11e9_83be_d4ae52d07f78row8_col12 {\n",
       "            background-color:  #fdc590;\n",
       "        }    #T_9fdd3a9c_ff3e_11e9_83be_d4ae52d07f78row8_col13 {\n",
       "            background-color:  #fdbe84;\n",
       "        }    #T_9fdd3a9c_ff3e_11e9_83be_d4ae52d07f78row8_col14 {\n",
       "            background-color:  #fdbb81;\n",
       "        }    #T_9fdd3a9c_ff3e_11e9_83be_d4ae52d07f78row8_col15 {\n",
       "            background-color:  #fdc895;\n",
       "        }    #T_9fdd3a9c_ff3e_11e9_83be_d4ae52d07f78row8_col16 {\n",
       "            background-color:  #fda965;\n",
       "        }    #T_9fdd3a9c_ff3e_11e9_83be_d4ae52d07f78row8_col17 {\n",
       "            background-color:  #fdd3a7;\n",
       "        }    #T_9fdd3a9c_ff3e_11e9_83be_d4ae52d07f78row8_col18 {\n",
       "            background-color:  #fdc38d;\n",
       "        }    #T_9fdd3a9c_ff3e_11e9_83be_d4ae52d07f78row8_col19 {\n",
       "            background-color:  #fdbb81;\n",
       "        }    #T_9fdd3a9c_ff3e_11e9_83be_d4ae52d07f78row8_col20 {\n",
       "            background-color:  #fdaf6c;\n",
       "        }    #T_9fdd3a9c_ff3e_11e9_83be_d4ae52d07f78row8_col21 {\n",
       "            background-color:  #fdc28b;\n",
       "        }    #T_9fdd3a9c_ff3e_11e9_83be_d4ae52d07f78row8_col22 {\n",
       "            background-color:  #fdb373;\n",
       "        }    #T_9fdd3a9c_ff3e_11e9_83be_d4ae52d07f78row8_col23 {\n",
       "            background-color:  #fdc189;\n",
       "        }    #T_9fdd3a9c_ff3e_11e9_83be_d4ae52d07f78row9_col0 {\n",
       "            background-color:  #fff5eb;\n",
       "        }    #T_9fdd3a9c_ff3e_11e9_83be_d4ae52d07f78row9_col1 {\n",
       "            background-color:  #fff5eb;\n",
       "        }    #T_9fdd3a9c_ff3e_11e9_83be_d4ae52d07f78row9_col2 {\n",
       "            background-color:  #fff5eb;\n",
       "        }    #T_9fdd3a9c_ff3e_11e9_83be_d4ae52d07f78row9_col3 {\n",
       "            background-color:  #fff5eb;\n",
       "        }    #T_9fdd3a9c_ff3e_11e9_83be_d4ae52d07f78row9_col4 {\n",
       "            background-color:  #fff5eb;\n",
       "        }    #T_9fdd3a9c_ff3e_11e9_83be_d4ae52d07f78row9_col5 {\n",
       "            background-color:  #fff5eb;\n",
       "        }    #T_9fdd3a9c_ff3e_11e9_83be_d4ae52d07f78row9_col6 {\n",
       "            background-color:  #fff5eb;\n",
       "        }    #T_9fdd3a9c_ff3e_11e9_83be_d4ae52d07f78row9_col7 {\n",
       "            background-color:  #fff5eb;\n",
       "        }    #T_9fdd3a9c_ff3e_11e9_83be_d4ae52d07f78row9_col8 {\n",
       "            background-color:  #fff5eb;\n",
       "        }    #T_9fdd3a9c_ff3e_11e9_83be_d4ae52d07f78row9_col9 {\n",
       "            background-color:  #7f2704;\n",
       "        }    #T_9fdd3a9c_ff3e_11e9_83be_d4ae52d07f78row9_col10 {\n",
       "            background-color:  #fd9547;\n",
       "        }    #T_9fdd3a9c_ff3e_11e9_83be_d4ae52d07f78row9_col11 {\n",
       "            background-color:  #fee8d2;\n",
       "        }    #T_9fdd3a9c_ff3e_11e9_83be_d4ae52d07f78row9_col12 {\n",
       "            background-color:  #fdd8b2;\n",
       "        }    #T_9fdd3a9c_ff3e_11e9_83be_d4ae52d07f78row9_col13 {\n",
       "            background-color:  #fee0c3;\n",
       "        }    #T_9fdd3a9c_ff3e_11e9_83be_d4ae52d07f78row9_col14 {\n",
       "            background-color:  #fee9d3;\n",
       "        }    #T_9fdd3a9c_ff3e_11e9_83be_d4ae52d07f78row9_col15 {\n",
       "            background-color:  #fee4ca;\n",
       "        }    #T_9fdd3a9c_ff3e_11e9_83be_d4ae52d07f78row9_col16 {\n",
       "            background-color:  #fedebf;\n",
       "        }    #T_9fdd3a9c_ff3e_11e9_83be_d4ae52d07f78row9_col17 {\n",
       "            background-color:  #fff5ea;\n",
       "        }    #T_9fdd3a9c_ff3e_11e9_83be_d4ae52d07f78row9_col18 {\n",
       "            background-color:  #fdd7af;\n",
       "        }    #T_9fdd3a9c_ff3e_11e9_83be_d4ae52d07f78row9_col19 {\n",
       "            background-color:  #fedebd;\n",
       "        }    #T_9fdd3a9c_ff3e_11e9_83be_d4ae52d07f78row9_col20 {\n",
       "            background-color:  #fdd6ae;\n",
       "        }    #T_9fdd3a9c_ff3e_11e9_83be_d4ae52d07f78row9_col21 {\n",
       "            background-color:  #fdd2a6;\n",
       "        }    #T_9fdd3a9c_ff3e_11e9_83be_d4ae52d07f78row9_col22 {\n",
       "            background-color:  #fee2c6;\n",
       "        }    #T_9fdd3a9c_ff3e_11e9_83be_d4ae52d07f78row9_col23 {\n",
       "            background-color:  #feeddb;\n",
       "        }    #T_9fdd3a9c_ff3e_11e9_83be_d4ae52d07f78row10_col0 {\n",
       "            background-color:  #fff5eb;\n",
       "        }    #T_9fdd3a9c_ff3e_11e9_83be_d4ae52d07f78row10_col1 {\n",
       "            background-color:  #fff5eb;\n",
       "        }    #T_9fdd3a9c_ff3e_11e9_83be_d4ae52d07f78row10_col2 {\n",
       "            background-color:  #fff5eb;\n",
       "        }    #T_9fdd3a9c_ff3e_11e9_83be_d4ae52d07f78row10_col3 {\n",
       "            background-color:  #fff5eb;\n",
       "        }    #T_9fdd3a9c_ff3e_11e9_83be_d4ae52d07f78row10_col4 {\n",
       "            background-color:  #fff5eb;\n",
       "        }    #T_9fdd3a9c_ff3e_11e9_83be_d4ae52d07f78row10_col5 {\n",
       "            background-color:  #fff5eb;\n",
       "        }    #T_9fdd3a9c_ff3e_11e9_83be_d4ae52d07f78row10_col6 {\n",
       "            background-color:  #fff5eb;\n",
       "        }    #T_9fdd3a9c_ff3e_11e9_83be_d4ae52d07f78row10_col7 {\n",
       "            background-color:  #fff5eb;\n",
       "        }    #T_9fdd3a9c_ff3e_11e9_83be_d4ae52d07f78row10_col8 {\n",
       "            background-color:  #fff5eb;\n",
       "        }    #T_9fdd3a9c_ff3e_11e9_83be_d4ae52d07f78row10_col9 {\n",
       "            background-color:  #fff5eb;\n",
       "        }    #T_9fdd3a9c_ff3e_11e9_83be_d4ae52d07f78row10_col10 {\n",
       "            background-color:  #7f2704;\n",
       "        }    #T_9fdd3a9c_ff3e_11e9_83be_d4ae52d07f78row10_col11 {\n",
       "            background-color:  #fdae6a;\n",
       "        }    #T_9fdd3a9c_ff3e_11e9_83be_d4ae52d07f78row10_col12 {\n",
       "            background-color:  #fdc895;\n",
       "        }    #T_9fdd3a9c_ff3e_11e9_83be_d4ae52d07f78row10_col13 {\n",
       "            background-color:  #fdb576;\n",
       "        }    #T_9fdd3a9c_ff3e_11e9_83be_d4ae52d07f78row10_col14 {\n",
       "            background-color:  #fdc895;\n",
       "        }    #T_9fdd3a9c_ff3e_11e9_83be_d4ae52d07f78row10_col15 {\n",
       "            background-color:  #fdd9b4;\n",
       "        }    #T_9fdd3a9c_ff3e_11e9_83be_d4ae52d07f78row10_col16 {\n",
       "            background-color:  #fdc794;\n",
       "        }    #T_9fdd3a9c_ff3e_11e9_83be_d4ae52d07f78row10_col17 {\n",
       "            background-color:  #fdc38d;\n",
       "        }    #T_9fdd3a9c_ff3e_11e9_83be_d4ae52d07f78row10_col18 {\n",
       "            background-color:  #fdd5ab;\n",
       "        }    #T_9fdd3a9c_ff3e_11e9_83be_d4ae52d07f78row10_col19 {\n",
       "            background-color:  #fdb97d;\n",
       "        }    #T_9fdd3a9c_ff3e_11e9_83be_d4ae52d07f78row10_col20 {\n",
       "            background-color:  #fdc692;\n",
       "        }    #T_9fdd3a9c_ff3e_11e9_83be_d4ae52d07f78row10_col21 {\n",
       "            background-color:  #fdd9b5;\n",
       "        }    #T_9fdd3a9c_ff3e_11e9_83be_d4ae52d07f78row10_col22 {\n",
       "            background-color:  #fdd0a2;\n",
       "        }    #T_9fdd3a9c_ff3e_11e9_83be_d4ae52d07f78row10_col23 {\n",
       "            background-color:  #fdc590;\n",
       "        }    #T_9fdd3a9c_ff3e_11e9_83be_d4ae52d07f78row11_col0 {\n",
       "            background-color:  #fff5eb;\n",
       "        }    #T_9fdd3a9c_ff3e_11e9_83be_d4ae52d07f78row11_col1 {\n",
       "            background-color:  #fff5eb;\n",
       "        }    #T_9fdd3a9c_ff3e_11e9_83be_d4ae52d07f78row11_col2 {\n",
       "            background-color:  #fff5eb;\n",
       "        }    #T_9fdd3a9c_ff3e_11e9_83be_d4ae52d07f78row11_col3 {\n",
       "            background-color:  #fff5eb;\n",
       "        }    #T_9fdd3a9c_ff3e_11e9_83be_d4ae52d07f78row11_col4 {\n",
       "            background-color:  #fff5eb;\n",
       "        }    #T_9fdd3a9c_ff3e_11e9_83be_d4ae52d07f78row11_col5 {\n",
       "            background-color:  #fff5eb;\n",
       "        }    #T_9fdd3a9c_ff3e_11e9_83be_d4ae52d07f78row11_col6 {\n",
       "            background-color:  #fff5eb;\n",
       "        }    #T_9fdd3a9c_ff3e_11e9_83be_d4ae52d07f78row11_col7 {\n",
       "            background-color:  #fff5eb;\n",
       "        }    #T_9fdd3a9c_ff3e_11e9_83be_d4ae52d07f78row11_col8 {\n",
       "            background-color:  #fff5eb;\n",
       "        }    #T_9fdd3a9c_ff3e_11e9_83be_d4ae52d07f78row11_col9 {\n",
       "            background-color:  #fff5eb;\n",
       "        }    #T_9fdd3a9c_ff3e_11e9_83be_d4ae52d07f78row11_col10 {\n",
       "            background-color:  #fff5eb;\n",
       "        }    #T_9fdd3a9c_ff3e_11e9_83be_d4ae52d07f78row11_col11 {\n",
       "            background-color:  #7f2704;\n",
       "        }    #T_9fdd3a9c_ff3e_11e9_83be_d4ae52d07f78row11_col12 {\n",
       "            background-color:  #fdce9e;\n",
       "        }    #T_9fdd3a9c_ff3e_11e9_83be_d4ae52d07f78row11_col13 {\n",
       "            background-color:  #fdaf6c;\n",
       "        }    #T_9fdd3a9c_ff3e_11e9_83be_d4ae52d07f78row11_col14 {\n",
       "            background-color:  #fdae6a;\n",
       "        }    #T_9fdd3a9c_ff3e_11e9_83be_d4ae52d07f78row11_col15 {\n",
       "            background-color:  #fdc28b;\n",
       "        }    #T_9fdd3a9c_ff3e_11e9_83be_d4ae52d07f78row11_col16 {\n",
       "            background-color:  #fdaf6c;\n",
       "        }    #T_9fdd3a9c_ff3e_11e9_83be_d4ae52d07f78row11_col17 {\n",
       "            background-color:  #ea5f0e;\n",
       "        }    #T_9fdd3a9c_ff3e_11e9_83be_d4ae52d07f78row11_col18 {\n",
       "            background-color:  #fedebd;\n",
       "        }    #T_9fdd3a9c_ff3e_11e9_83be_d4ae52d07f78row11_col19 {\n",
       "            background-color:  #fdba7f;\n",
       "        }    #T_9fdd3a9c_ff3e_11e9_83be_d4ae52d07f78row11_col20 {\n",
       "            background-color:  #fdcb9b;\n",
       "        }    #T_9fdd3a9c_ff3e_11e9_83be_d4ae52d07f78row11_col21 {\n",
       "            background-color:  #fee5cb;\n",
       "        }    #T_9fdd3a9c_ff3e_11e9_83be_d4ae52d07f78row11_col22 {\n",
       "            background-color:  #fdbb81;\n",
       "        }    #T_9fdd3a9c_ff3e_11e9_83be_d4ae52d07f78row11_col23 {\n",
       "            background-color:  #fb8836;\n",
       "        }    #T_9fdd3a9c_ff3e_11e9_83be_d4ae52d07f78row12_col0 {\n",
       "            background-color:  #fff5eb;\n",
       "        }    #T_9fdd3a9c_ff3e_11e9_83be_d4ae52d07f78row12_col1 {\n",
       "            background-color:  #fff5eb;\n",
       "        }    #T_9fdd3a9c_ff3e_11e9_83be_d4ae52d07f78row12_col2 {\n",
       "            background-color:  #fff5eb;\n",
       "        }    #T_9fdd3a9c_ff3e_11e9_83be_d4ae52d07f78row12_col3 {\n",
       "            background-color:  #fff5eb;\n",
       "        }    #T_9fdd3a9c_ff3e_11e9_83be_d4ae52d07f78row12_col4 {\n",
       "            background-color:  #fff5eb;\n",
       "        }    #T_9fdd3a9c_ff3e_11e9_83be_d4ae52d07f78row12_col5 {\n",
       "            background-color:  #fff5eb;\n",
       "        }    #T_9fdd3a9c_ff3e_11e9_83be_d4ae52d07f78row12_col6 {\n",
       "            background-color:  #fff5eb;\n",
       "        }    #T_9fdd3a9c_ff3e_11e9_83be_d4ae52d07f78row12_col7 {\n",
       "            background-color:  #fff5eb;\n",
       "        }    #T_9fdd3a9c_ff3e_11e9_83be_d4ae52d07f78row12_col8 {\n",
       "            background-color:  #fff5eb;\n",
       "        }    #T_9fdd3a9c_ff3e_11e9_83be_d4ae52d07f78row12_col9 {\n",
       "            background-color:  #fff5eb;\n",
       "        }    #T_9fdd3a9c_ff3e_11e9_83be_d4ae52d07f78row12_col10 {\n",
       "            background-color:  #fff5eb;\n",
       "        }    #T_9fdd3a9c_ff3e_11e9_83be_d4ae52d07f78row12_col11 {\n",
       "            background-color:  #fff5eb;\n",
       "        }    #T_9fdd3a9c_ff3e_11e9_83be_d4ae52d07f78row12_col12 {\n",
       "            background-color:  #7f2704;\n",
       "        }    #T_9fdd3a9c_ff3e_11e9_83be_d4ae52d07f78row12_col13 {\n",
       "            background-color:  #f4721e;\n",
       "        }    #T_9fdd3a9c_ff3e_11e9_83be_d4ae52d07f78row12_col14 {\n",
       "            background-color:  #f57622;\n",
       "        }    #T_9fdd3a9c_ff3e_11e9_83be_d4ae52d07f78row12_col15 {\n",
       "            background-color:  #db4b03;\n",
       "        }    #T_9fdd3a9c_ff3e_11e9_83be_d4ae52d07f78row12_col16 {\n",
       "            background-color:  #f9802d;\n",
       "        }    #T_9fdd3a9c_ff3e_11e9_83be_d4ae52d07f78row12_col17 {\n",
       "            background-color:  #fdc997;\n",
       "        }    #T_9fdd3a9c_ff3e_11e9_83be_d4ae52d07f78row12_col18 {\n",
       "            background-color:  #eb600e;\n",
       "        }    #T_9fdd3a9c_ff3e_11e9_83be_d4ae52d07f78row12_col19 {\n",
       "            background-color:  #f9812e;\n",
       "        }    #T_9fdd3a9c_ff3e_11e9_83be_d4ae52d07f78row12_col20 {\n",
       "            background-color:  #f67723;\n",
       "        }    #T_9fdd3a9c_ff3e_11e9_83be_d4ae52d07f78row12_col21 {\n",
       "            background-color:  #f4721e;\n",
       "        }    #T_9fdd3a9c_ff3e_11e9_83be_d4ae52d07f78row12_col22 {\n",
       "            background-color:  #fd8c3b;\n",
       "        }    #T_9fdd3a9c_ff3e_11e9_83be_d4ae52d07f78row12_col23 {\n",
       "            background-color:  #fdc088;\n",
       "        }    #T_9fdd3a9c_ff3e_11e9_83be_d4ae52d07f78row13_col0 {\n",
       "            background-color:  #fff5eb;\n",
       "        }    #T_9fdd3a9c_ff3e_11e9_83be_d4ae52d07f78row13_col1 {\n",
       "            background-color:  #fff5eb;\n",
       "        }    #T_9fdd3a9c_ff3e_11e9_83be_d4ae52d07f78row13_col2 {\n",
       "            background-color:  #fff5eb;\n",
       "        }    #T_9fdd3a9c_ff3e_11e9_83be_d4ae52d07f78row13_col3 {\n",
       "            background-color:  #fff5eb;\n",
       "        }    #T_9fdd3a9c_ff3e_11e9_83be_d4ae52d07f78row13_col4 {\n",
       "            background-color:  #fff5eb;\n",
       "        }    #T_9fdd3a9c_ff3e_11e9_83be_d4ae52d07f78row13_col5 {\n",
       "            background-color:  #fff5eb;\n",
       "        }    #T_9fdd3a9c_ff3e_11e9_83be_d4ae52d07f78row13_col6 {\n",
       "            background-color:  #fff5eb;\n",
       "        }    #T_9fdd3a9c_ff3e_11e9_83be_d4ae52d07f78row13_col7 {\n",
       "            background-color:  #fff5eb;\n",
       "        }    #T_9fdd3a9c_ff3e_11e9_83be_d4ae52d07f78row13_col8 {\n",
       "            background-color:  #fff5eb;\n",
       "        }    #T_9fdd3a9c_ff3e_11e9_83be_d4ae52d07f78row13_col9 {\n",
       "            background-color:  #fff5eb;\n",
       "        }    #T_9fdd3a9c_ff3e_11e9_83be_d4ae52d07f78row13_col10 {\n",
       "            background-color:  #fff5eb;\n",
       "        }    #T_9fdd3a9c_ff3e_11e9_83be_d4ae52d07f78row13_col11 {\n",
       "            background-color:  #fff5eb;\n",
       "        }    #T_9fdd3a9c_ff3e_11e9_83be_d4ae52d07f78row13_col12 {\n",
       "            background-color:  #fff5eb;\n",
       "        }    #T_9fdd3a9c_ff3e_11e9_83be_d4ae52d07f78row13_col13 {\n",
       "            background-color:  #7f2704;\n",
       "        }    #T_9fdd3a9c_ff3e_11e9_83be_d4ae52d07f78row13_col14 {\n",
       "            background-color:  #f26c16;\n",
       "        }    #T_9fdd3a9c_ff3e_11e9_83be_d4ae52d07f78row13_col15 {\n",
       "            background-color:  #f26c16;\n",
       "        }    #T_9fdd3a9c_ff3e_11e9_83be_d4ae52d07f78row13_col16 {\n",
       "            background-color:  #df5106;\n",
       "        }    #T_9fdd3a9c_ff3e_11e9_83be_d4ae52d07f78row13_col17 {\n",
       "            background-color:  #fdb475;\n",
       "        }    #T_9fdd3a9c_ff3e_11e9_83be_d4ae52d07f78row13_col18 {\n",
       "            background-color:  #f9812e;\n",
       "        }    #T_9fdd3a9c_ff3e_11e9_83be_d4ae52d07f78row13_col19 {\n",
       "            background-color:  #cd4401;\n",
       "        }    #T_9fdd3a9c_ff3e_11e9_83be_d4ae52d07f78row13_col20 {\n",
       "            background-color:  #f77b28;\n",
       "        }    #T_9fdd3a9c_ff3e_11e9_83be_d4ae52d07f78row13_col21 {\n",
       "            background-color:  #fd8f3e;\n",
       "        }    #T_9fdd3a9c_ff3e_11e9_83be_d4ae52d07f78row13_col22 {\n",
       "            background-color:  #e75c0c;\n",
       "        }    #T_9fdd3a9c_ff3e_11e9_83be_d4ae52d07f78row13_col23 {\n",
       "            background-color:  #fd9547;\n",
       "        }    #T_9fdd3a9c_ff3e_11e9_83be_d4ae52d07f78row14_col0 {\n",
       "            background-color:  #fff5eb;\n",
       "        }    #T_9fdd3a9c_ff3e_11e9_83be_d4ae52d07f78row14_col1 {\n",
       "            background-color:  #fff5eb;\n",
       "        }    #T_9fdd3a9c_ff3e_11e9_83be_d4ae52d07f78row14_col2 {\n",
       "            background-color:  #fff5eb;\n",
       "        }    #T_9fdd3a9c_ff3e_11e9_83be_d4ae52d07f78row14_col3 {\n",
       "            background-color:  #fff5eb;\n",
       "        }    #T_9fdd3a9c_ff3e_11e9_83be_d4ae52d07f78row14_col4 {\n",
       "            background-color:  #fff5eb;\n",
       "        }    #T_9fdd3a9c_ff3e_11e9_83be_d4ae52d07f78row14_col5 {\n",
       "            background-color:  #fff5eb;\n",
       "        }    #T_9fdd3a9c_ff3e_11e9_83be_d4ae52d07f78row14_col6 {\n",
       "            background-color:  #fff5eb;\n",
       "        }    #T_9fdd3a9c_ff3e_11e9_83be_d4ae52d07f78row14_col7 {\n",
       "            background-color:  #fff5eb;\n",
       "        }    #T_9fdd3a9c_ff3e_11e9_83be_d4ae52d07f78row14_col8 {\n",
       "            background-color:  #fff5eb;\n",
       "        }    #T_9fdd3a9c_ff3e_11e9_83be_d4ae52d07f78row14_col9 {\n",
       "            background-color:  #fff5eb;\n",
       "        }    #T_9fdd3a9c_ff3e_11e9_83be_d4ae52d07f78row14_col10 {\n",
       "            background-color:  #fff5eb;\n",
       "        }    #T_9fdd3a9c_ff3e_11e9_83be_d4ae52d07f78row14_col11 {\n",
       "            background-color:  #fff5eb;\n",
       "        }    #T_9fdd3a9c_ff3e_11e9_83be_d4ae52d07f78row14_col12 {\n",
       "            background-color:  #fff5eb;\n",
       "        }    #T_9fdd3a9c_ff3e_11e9_83be_d4ae52d07f78row14_col13 {\n",
       "            background-color:  #fff5eb;\n",
       "        }    #T_9fdd3a9c_ff3e_11e9_83be_d4ae52d07f78row14_col14 {\n",
       "            background-color:  #7f2704;\n",
       "        }    #T_9fdd3a9c_ff3e_11e9_83be_d4ae52d07f78row14_col15 {\n",
       "            background-color:  #df5106;\n",
       "        }    #T_9fdd3a9c_ff3e_11e9_83be_d4ae52d07f78row14_col16 {\n",
       "            background-color:  #e85d0c;\n",
       "        }    #T_9fdd3a9c_ff3e_11e9_83be_d4ae52d07f78row14_col17 {\n",
       "            background-color:  #fda660;\n",
       "        }    #T_9fdd3a9c_ff3e_11e9_83be_d4ae52d07f78row14_col18 {\n",
       "            background-color:  #f16913;\n",
       "        }    #T_9fdd3a9c_ff3e_11e9_83be_d4ae52d07f78row14_col19 {\n",
       "            background-color:  #ed6310;\n",
       "        }    #T_9fdd3a9c_ff3e_11e9_83be_d4ae52d07f78row14_col20 {\n",
       "            background-color:  #df5106;\n",
       "        }    #T_9fdd3a9c_ff3e_11e9_83be_d4ae52d07f78row14_col21 {\n",
       "            background-color:  #f87d29;\n",
       "        }    #T_9fdd3a9c_ff3e_11e9_83be_d4ae52d07f78row14_col22 {\n",
       "            background-color:  #ee6410;\n",
       "        }    #T_9fdd3a9c_ff3e_11e9_83be_d4ae52d07f78row14_col23 {\n",
       "            background-color:  #fda159;\n",
       "        }    #T_9fdd3a9c_ff3e_11e9_83be_d4ae52d07f78row15_col0 {\n",
       "            background-color:  #fff5eb;\n",
       "        }    #T_9fdd3a9c_ff3e_11e9_83be_d4ae52d07f78row15_col1 {\n",
       "            background-color:  #fff5eb;\n",
       "        }    #T_9fdd3a9c_ff3e_11e9_83be_d4ae52d07f78row15_col2 {\n",
       "            background-color:  #fff5eb;\n",
       "        }    #T_9fdd3a9c_ff3e_11e9_83be_d4ae52d07f78row15_col3 {\n",
       "            background-color:  #fff5eb;\n",
       "        }    #T_9fdd3a9c_ff3e_11e9_83be_d4ae52d07f78row15_col4 {\n",
       "            background-color:  #fff5eb;\n",
       "        }    #T_9fdd3a9c_ff3e_11e9_83be_d4ae52d07f78row15_col5 {\n",
       "            background-color:  #fff5eb;\n",
       "        }    #T_9fdd3a9c_ff3e_11e9_83be_d4ae52d07f78row15_col6 {\n",
       "            background-color:  #fff5eb;\n",
       "        }    #T_9fdd3a9c_ff3e_11e9_83be_d4ae52d07f78row15_col7 {\n",
       "            background-color:  #fff5eb;\n",
       "        }    #T_9fdd3a9c_ff3e_11e9_83be_d4ae52d07f78row15_col8 {\n",
       "            background-color:  #fff5eb;\n",
       "        }    #T_9fdd3a9c_ff3e_11e9_83be_d4ae52d07f78row15_col9 {\n",
       "            background-color:  #fff5eb;\n",
       "        }    #T_9fdd3a9c_ff3e_11e9_83be_d4ae52d07f78row15_col10 {\n",
       "            background-color:  #fff5eb;\n",
       "        }    #T_9fdd3a9c_ff3e_11e9_83be_d4ae52d07f78row15_col11 {\n",
       "            background-color:  #fff5eb;\n",
       "        }    #T_9fdd3a9c_ff3e_11e9_83be_d4ae52d07f78row15_col12 {\n",
       "            background-color:  #fff5eb;\n",
       "        }    #T_9fdd3a9c_ff3e_11e9_83be_d4ae52d07f78row15_col13 {\n",
       "            background-color:  #fff5eb;\n",
       "        }    #T_9fdd3a9c_ff3e_11e9_83be_d4ae52d07f78row15_col14 {\n",
       "            background-color:  #fff5eb;\n",
       "        }    #T_9fdd3a9c_ff3e_11e9_83be_d4ae52d07f78row15_col15 {\n",
       "            background-color:  #7f2704;\n",
       "        }    #T_9fdd3a9c_ff3e_11e9_83be_d4ae52d07f78row15_col16 {\n",
       "            background-color:  #e25508;\n",
       "        }    #T_9fdd3a9c_ff3e_11e9_83be_d4ae52d07f78row15_col17 {\n",
       "            background-color:  #fdb97d;\n",
       "        }    #T_9fdd3a9c_ff3e_11e9_83be_d4ae52d07f78row15_col18 {\n",
       "            background-color:  #e35608;\n",
       "        }    #T_9fdd3a9c_ff3e_11e9_83be_d4ae52d07f78row15_col19 {\n",
       "            background-color:  #ee6410;\n",
       "        }    #T_9fdd3a9c_ff3e_11e9_83be_d4ae52d07f78row15_col20 {\n",
       "            background-color:  #e05206;\n",
       "        }    #T_9fdd3a9c_ff3e_11e9_83be_d4ae52d07f78row15_col21 {\n",
       "            background-color:  #e65a0b;\n",
       "        }    #T_9fdd3a9c_ff3e_11e9_83be_d4ae52d07f78row15_col22 {\n",
       "            background-color:  #e85d0c;\n",
       "        }    #T_9fdd3a9c_ff3e_11e9_83be_d4ae52d07f78row15_col23 {\n",
       "            background-color:  #fdb271;\n",
       "        }    #T_9fdd3a9c_ff3e_11e9_83be_d4ae52d07f78row16_col0 {\n",
       "            background-color:  #fff5eb;\n",
       "        }    #T_9fdd3a9c_ff3e_11e9_83be_d4ae52d07f78row16_col1 {\n",
       "            background-color:  #fff5eb;\n",
       "        }    #T_9fdd3a9c_ff3e_11e9_83be_d4ae52d07f78row16_col2 {\n",
       "            background-color:  #fff5eb;\n",
       "        }    #T_9fdd3a9c_ff3e_11e9_83be_d4ae52d07f78row16_col3 {\n",
       "            background-color:  #fff5eb;\n",
       "        }    #T_9fdd3a9c_ff3e_11e9_83be_d4ae52d07f78row16_col4 {\n",
       "            background-color:  #fff5eb;\n",
       "        }    #T_9fdd3a9c_ff3e_11e9_83be_d4ae52d07f78row16_col5 {\n",
       "            background-color:  #fff5eb;\n",
       "        }    #T_9fdd3a9c_ff3e_11e9_83be_d4ae52d07f78row16_col6 {\n",
       "            background-color:  #fff5eb;\n",
       "        }    #T_9fdd3a9c_ff3e_11e9_83be_d4ae52d07f78row16_col7 {\n",
       "            background-color:  #fff5eb;\n",
       "        }    #T_9fdd3a9c_ff3e_11e9_83be_d4ae52d07f78row16_col8 {\n",
       "            background-color:  #fff5eb;\n",
       "        }    #T_9fdd3a9c_ff3e_11e9_83be_d4ae52d07f78row16_col9 {\n",
       "            background-color:  #fff5eb;\n",
       "        }    #T_9fdd3a9c_ff3e_11e9_83be_d4ae52d07f78row16_col10 {\n",
       "            background-color:  #fff5eb;\n",
       "        }    #T_9fdd3a9c_ff3e_11e9_83be_d4ae52d07f78row16_col11 {\n",
       "            background-color:  #fff5eb;\n",
       "        }    #T_9fdd3a9c_ff3e_11e9_83be_d4ae52d07f78row16_col12 {\n",
       "            background-color:  #fff5eb;\n",
       "        }    #T_9fdd3a9c_ff3e_11e9_83be_d4ae52d07f78row16_col13 {\n",
       "            background-color:  #fff5eb;\n",
       "        }    #T_9fdd3a9c_ff3e_11e9_83be_d4ae52d07f78row16_col14 {\n",
       "            background-color:  #fff5eb;\n",
       "        }    #T_9fdd3a9c_ff3e_11e9_83be_d4ae52d07f78row16_col15 {\n",
       "            background-color:  #fff5eb;\n",
       "        }    #T_9fdd3a9c_ff3e_11e9_83be_d4ae52d07f78row16_col16 {\n",
       "            background-color:  #7f2704;\n",
       "        }    #T_9fdd3a9c_ff3e_11e9_83be_d4ae52d07f78row16_col17 {\n",
       "            background-color:  #fdb678;\n",
       "        }    #T_9fdd3a9c_ff3e_11e9_83be_d4ae52d07f78row16_col18 {\n",
       "            background-color:  #f57520;\n",
       "        }    #T_9fdd3a9c_ff3e_11e9_83be_d4ae52d07f78row16_col19 {\n",
       "            background-color:  #c64102;\n",
       "        }    #T_9fdd3a9c_ff3e_11e9_83be_d4ae52d07f78row16_col20 {\n",
       "            background-color:  #e15407;\n",
       "        }    #T_9fdd3a9c_ff3e_11e9_83be_d4ae52d07f78row16_col21 {\n",
       "            background-color:  #f36f1a;\n",
       "        }    #T_9fdd3a9c_ff3e_11e9_83be_d4ae52d07f78row16_col22 {\n",
       "            background-color:  #a53603;\n",
       "        }    #T_9fdd3a9c_ff3e_11e9_83be_d4ae52d07f78row16_col23 {\n",
       "            background-color:  #fd8f3e;\n",
       "        }    #T_9fdd3a9c_ff3e_11e9_83be_d4ae52d07f78row17_col0 {\n",
       "            background-color:  #fff5eb;\n",
       "        }    #T_9fdd3a9c_ff3e_11e9_83be_d4ae52d07f78row17_col1 {\n",
       "            background-color:  #fff5eb;\n",
       "        }    #T_9fdd3a9c_ff3e_11e9_83be_d4ae52d07f78row17_col2 {\n",
       "            background-color:  #fff5eb;\n",
       "        }    #T_9fdd3a9c_ff3e_11e9_83be_d4ae52d07f78row17_col3 {\n",
       "            background-color:  #fff5eb;\n",
       "        }    #T_9fdd3a9c_ff3e_11e9_83be_d4ae52d07f78row17_col4 {\n",
       "            background-color:  #fff5eb;\n",
       "        }    #T_9fdd3a9c_ff3e_11e9_83be_d4ae52d07f78row17_col5 {\n",
       "            background-color:  #fff5eb;\n",
       "        }    #T_9fdd3a9c_ff3e_11e9_83be_d4ae52d07f78row17_col6 {\n",
       "            background-color:  #fff5eb;\n",
       "        }    #T_9fdd3a9c_ff3e_11e9_83be_d4ae52d07f78row17_col7 {\n",
       "            background-color:  #fff5eb;\n",
       "        }    #T_9fdd3a9c_ff3e_11e9_83be_d4ae52d07f78row17_col8 {\n",
       "            background-color:  #fff5eb;\n",
       "        }    #T_9fdd3a9c_ff3e_11e9_83be_d4ae52d07f78row17_col9 {\n",
       "            background-color:  #fff5eb;\n",
       "        }    #T_9fdd3a9c_ff3e_11e9_83be_d4ae52d07f78row17_col10 {\n",
       "            background-color:  #fff5eb;\n",
       "        }    #T_9fdd3a9c_ff3e_11e9_83be_d4ae52d07f78row17_col11 {\n",
       "            background-color:  #fff5eb;\n",
       "        }    #T_9fdd3a9c_ff3e_11e9_83be_d4ae52d07f78row17_col12 {\n",
       "            background-color:  #fff5eb;\n",
       "        }    #T_9fdd3a9c_ff3e_11e9_83be_d4ae52d07f78row17_col13 {\n",
       "            background-color:  #fff5eb;\n",
       "        }    #T_9fdd3a9c_ff3e_11e9_83be_d4ae52d07f78row17_col14 {\n",
       "            background-color:  #fff5eb;\n",
       "        }    #T_9fdd3a9c_ff3e_11e9_83be_d4ae52d07f78row17_col15 {\n",
       "            background-color:  #fff5eb;\n",
       "        }    #T_9fdd3a9c_ff3e_11e9_83be_d4ae52d07f78row17_col16 {\n",
       "            background-color:  #fff5eb;\n",
       "        }    #T_9fdd3a9c_ff3e_11e9_83be_d4ae52d07f78row17_col17 {\n",
       "            background-color:  #7f2704;\n",
       "        }    #T_9fdd3a9c_ff3e_11e9_83be_d4ae52d07f78row17_col18 {\n",
       "            background-color:  #fddbb8;\n",
       "        }    #T_9fdd3a9c_ff3e_11e9_83be_d4ae52d07f78row17_col19 {\n",
       "            background-color:  #fdbb81;\n",
       "        }    #T_9fdd3a9c_ff3e_11e9_83be_d4ae52d07f78row17_col20 {\n",
       "            background-color:  #fdc590;\n",
       "        }    #T_9fdd3a9c_ff3e_11e9_83be_d4ae52d07f78row17_col21 {\n",
       "            background-color:  #fedebf;\n",
       "        }    #T_9fdd3a9c_ff3e_11e9_83be_d4ae52d07f78row17_col22 {\n",
       "            background-color:  #fdc088;\n",
       "        }    #T_9fdd3a9c_ff3e_11e9_83be_d4ae52d07f78row17_col23 {\n",
       "            background-color:  #eb610f;\n",
       "        }    #T_9fdd3a9c_ff3e_11e9_83be_d4ae52d07f78row18_col0 {\n",
       "            background-color:  #fff5eb;\n",
       "        }    #T_9fdd3a9c_ff3e_11e9_83be_d4ae52d07f78row18_col1 {\n",
       "            background-color:  #fff5eb;\n",
       "        }    #T_9fdd3a9c_ff3e_11e9_83be_d4ae52d07f78row18_col2 {\n",
       "            background-color:  #fff5eb;\n",
       "        }    #T_9fdd3a9c_ff3e_11e9_83be_d4ae52d07f78row18_col3 {\n",
       "            background-color:  #fff5eb;\n",
       "        }    #T_9fdd3a9c_ff3e_11e9_83be_d4ae52d07f78row18_col4 {\n",
       "            background-color:  #fff5eb;\n",
       "        }    #T_9fdd3a9c_ff3e_11e9_83be_d4ae52d07f78row18_col5 {\n",
       "            background-color:  #fff5eb;\n",
       "        }    #T_9fdd3a9c_ff3e_11e9_83be_d4ae52d07f78row18_col6 {\n",
       "            background-color:  #fff5eb;\n",
       "        }    #T_9fdd3a9c_ff3e_11e9_83be_d4ae52d07f78row18_col7 {\n",
       "            background-color:  #fff5eb;\n",
       "        }    #T_9fdd3a9c_ff3e_11e9_83be_d4ae52d07f78row18_col8 {\n",
       "            background-color:  #fff5eb;\n",
       "        }    #T_9fdd3a9c_ff3e_11e9_83be_d4ae52d07f78row18_col9 {\n",
       "            background-color:  #fff5eb;\n",
       "        }    #T_9fdd3a9c_ff3e_11e9_83be_d4ae52d07f78row18_col10 {\n",
       "            background-color:  #fff5eb;\n",
       "        }    #T_9fdd3a9c_ff3e_11e9_83be_d4ae52d07f78row18_col11 {\n",
       "            background-color:  #fff5eb;\n",
       "        }    #T_9fdd3a9c_ff3e_11e9_83be_d4ae52d07f78row18_col12 {\n",
       "            background-color:  #fff5eb;\n",
       "        }    #T_9fdd3a9c_ff3e_11e9_83be_d4ae52d07f78row18_col13 {\n",
       "            background-color:  #fff5eb;\n",
       "        }    #T_9fdd3a9c_ff3e_11e9_83be_d4ae52d07f78row18_col14 {\n",
       "            background-color:  #fff5eb;\n",
       "        }    #T_9fdd3a9c_ff3e_11e9_83be_d4ae52d07f78row18_col15 {\n",
       "            background-color:  #fff5eb;\n",
       "        }    #T_9fdd3a9c_ff3e_11e9_83be_d4ae52d07f78row18_col16 {\n",
       "            background-color:  #fff5eb;\n",
       "        }    #T_9fdd3a9c_ff3e_11e9_83be_d4ae52d07f78row18_col17 {\n",
       "            background-color:  #fff5eb;\n",
       "        }    #T_9fdd3a9c_ff3e_11e9_83be_d4ae52d07f78row18_col18 {\n",
       "            background-color:  #7f2704;\n",
       "        }    #T_9fdd3a9c_ff3e_11e9_83be_d4ae52d07f78row18_col19 {\n",
       "            background-color:  #f4711c;\n",
       "        }    #T_9fdd3a9c_ff3e_11e9_83be_d4ae52d07f78row18_col20 {\n",
       "            background-color:  #e5590a;\n",
       "        }    #T_9fdd3a9c_ff3e_11e9_83be_d4ae52d07f78row18_col21 {\n",
       "            background-color:  #dc4c03;\n",
       "        }    #T_9fdd3a9c_ff3e_11e9_83be_d4ae52d07f78row18_col22 {\n",
       "            background-color:  #f26d17;\n",
       "        }    #T_9fdd3a9c_ff3e_11e9_83be_d4ae52d07f78row18_col23 {\n",
       "            background-color:  #fdc997;\n",
       "        }    #T_9fdd3a9c_ff3e_11e9_83be_d4ae52d07f78row19_col0 {\n",
       "            background-color:  #fff5eb;\n",
       "        }    #T_9fdd3a9c_ff3e_11e9_83be_d4ae52d07f78row19_col1 {\n",
       "            background-color:  #fff5eb;\n",
       "        }    #T_9fdd3a9c_ff3e_11e9_83be_d4ae52d07f78row19_col2 {\n",
       "            background-color:  #fff5eb;\n",
       "        }    #T_9fdd3a9c_ff3e_11e9_83be_d4ae52d07f78row19_col3 {\n",
       "            background-color:  #fff5eb;\n",
       "        }    #T_9fdd3a9c_ff3e_11e9_83be_d4ae52d07f78row19_col4 {\n",
       "            background-color:  #fff5eb;\n",
       "        }    #T_9fdd3a9c_ff3e_11e9_83be_d4ae52d07f78row19_col5 {\n",
       "            background-color:  #fff5eb;\n",
       "        }    #T_9fdd3a9c_ff3e_11e9_83be_d4ae52d07f78row19_col6 {\n",
       "            background-color:  #fff5eb;\n",
       "        }    #T_9fdd3a9c_ff3e_11e9_83be_d4ae52d07f78row19_col7 {\n",
       "            background-color:  #fff5eb;\n",
       "        }    #T_9fdd3a9c_ff3e_11e9_83be_d4ae52d07f78row19_col8 {\n",
       "            background-color:  #fff5eb;\n",
       "        }    #T_9fdd3a9c_ff3e_11e9_83be_d4ae52d07f78row19_col9 {\n",
       "            background-color:  #fff5eb;\n",
       "        }    #T_9fdd3a9c_ff3e_11e9_83be_d4ae52d07f78row19_col10 {\n",
       "            background-color:  #fff5eb;\n",
       "        }    #T_9fdd3a9c_ff3e_11e9_83be_d4ae52d07f78row19_col11 {\n",
       "            background-color:  #fff5eb;\n",
       "        }    #T_9fdd3a9c_ff3e_11e9_83be_d4ae52d07f78row19_col12 {\n",
       "            background-color:  #fff5eb;\n",
       "        }    #T_9fdd3a9c_ff3e_11e9_83be_d4ae52d07f78row19_col13 {\n",
       "            background-color:  #fff5eb;\n",
       "        }    #T_9fdd3a9c_ff3e_11e9_83be_d4ae52d07f78row19_col14 {\n",
       "            background-color:  #fff5eb;\n",
       "        }    #T_9fdd3a9c_ff3e_11e9_83be_d4ae52d07f78row19_col15 {\n",
       "            background-color:  #fff5eb;\n",
       "        }    #T_9fdd3a9c_ff3e_11e9_83be_d4ae52d07f78row19_col16 {\n",
       "            background-color:  #fff5eb;\n",
       "        }    #T_9fdd3a9c_ff3e_11e9_83be_d4ae52d07f78row19_col17 {\n",
       "            background-color:  #fff5eb;\n",
       "        }    #T_9fdd3a9c_ff3e_11e9_83be_d4ae52d07f78row19_col18 {\n",
       "            background-color:  #fff5eb;\n",
       "        }    #T_9fdd3a9c_ff3e_11e9_83be_d4ae52d07f78row19_col19 {\n",
       "            background-color:  #7f2704;\n",
       "        }    #T_9fdd3a9c_ff3e_11e9_83be_d4ae52d07f78row19_col20 {\n",
       "            background-color:  #f06712;\n",
       "        }    #T_9fdd3a9c_ff3e_11e9_83be_d4ae52d07f78row19_col21 {\n",
       "            background-color:  #f57622;\n",
       "        }    #T_9fdd3a9c_ff3e_11e9_83be_d4ae52d07f78row19_col22 {\n",
       "            background-color:  #c64102;\n",
       "        }    #T_9fdd3a9c_ff3e_11e9_83be_d4ae52d07f78row19_col23 {\n",
       "            background-color:  #fd9d53;\n",
       "        }    #T_9fdd3a9c_ff3e_11e9_83be_d4ae52d07f78row20_col0 {\n",
       "            background-color:  #fff5eb;\n",
       "        }    #T_9fdd3a9c_ff3e_11e9_83be_d4ae52d07f78row20_col1 {\n",
       "            background-color:  #fff5eb;\n",
       "        }    #T_9fdd3a9c_ff3e_11e9_83be_d4ae52d07f78row20_col2 {\n",
       "            background-color:  #fff5eb;\n",
       "        }    #T_9fdd3a9c_ff3e_11e9_83be_d4ae52d07f78row20_col3 {\n",
       "            background-color:  #fff5eb;\n",
       "        }    #T_9fdd3a9c_ff3e_11e9_83be_d4ae52d07f78row20_col4 {\n",
       "            background-color:  #fff5eb;\n",
       "        }    #T_9fdd3a9c_ff3e_11e9_83be_d4ae52d07f78row20_col5 {\n",
       "            background-color:  #fff5eb;\n",
       "        }    #T_9fdd3a9c_ff3e_11e9_83be_d4ae52d07f78row20_col6 {\n",
       "            background-color:  #fff5eb;\n",
       "        }    #T_9fdd3a9c_ff3e_11e9_83be_d4ae52d07f78row20_col7 {\n",
       "            background-color:  #fff5eb;\n",
       "        }    #T_9fdd3a9c_ff3e_11e9_83be_d4ae52d07f78row20_col8 {\n",
       "            background-color:  #fff5eb;\n",
       "        }    #T_9fdd3a9c_ff3e_11e9_83be_d4ae52d07f78row20_col9 {\n",
       "            background-color:  #fff5eb;\n",
       "        }    #T_9fdd3a9c_ff3e_11e9_83be_d4ae52d07f78row20_col10 {\n",
       "            background-color:  #fff5eb;\n",
       "        }    #T_9fdd3a9c_ff3e_11e9_83be_d4ae52d07f78row20_col11 {\n",
       "            background-color:  #fff5eb;\n",
       "        }    #T_9fdd3a9c_ff3e_11e9_83be_d4ae52d07f78row20_col12 {\n",
       "            background-color:  #fff5eb;\n",
       "        }    #T_9fdd3a9c_ff3e_11e9_83be_d4ae52d07f78row20_col13 {\n",
       "            background-color:  #fff5eb;\n",
       "        }    #T_9fdd3a9c_ff3e_11e9_83be_d4ae52d07f78row20_col14 {\n",
       "            background-color:  #fff5eb;\n",
       "        }    #T_9fdd3a9c_ff3e_11e9_83be_d4ae52d07f78row20_col15 {\n",
       "            background-color:  #fff5eb;\n",
       "        }    #T_9fdd3a9c_ff3e_11e9_83be_d4ae52d07f78row20_col16 {\n",
       "            background-color:  #fff5eb;\n",
       "        }    #T_9fdd3a9c_ff3e_11e9_83be_d4ae52d07f78row20_col17 {\n",
       "            background-color:  #fff5eb;\n",
       "        }    #T_9fdd3a9c_ff3e_11e9_83be_d4ae52d07f78row20_col18 {\n",
       "            background-color:  #fff5eb;\n",
       "        }    #T_9fdd3a9c_ff3e_11e9_83be_d4ae52d07f78row20_col19 {\n",
       "            background-color:  #fff5eb;\n",
       "        }    #T_9fdd3a9c_ff3e_11e9_83be_d4ae52d07f78row20_col20 {\n",
       "            background-color:  #7f2704;\n",
       "        }    #T_9fdd3a9c_ff3e_11e9_83be_d4ae52d07f78row20_col21 {\n",
       "            background-color:  #e15307;\n",
       "        }    #T_9fdd3a9c_ff3e_11e9_83be_d4ae52d07f78row20_col22 {\n",
       "            background-color:  #e65a0b;\n",
       "        }    #T_9fdd3a9c_ff3e_11e9_83be_d4ae52d07f78row20_col23 {\n",
       "            background-color:  #fdae6a;\n",
       "        }    #T_9fdd3a9c_ff3e_11e9_83be_d4ae52d07f78row21_col0 {\n",
       "            background-color:  #fff5eb;\n",
       "        }    #T_9fdd3a9c_ff3e_11e9_83be_d4ae52d07f78row21_col1 {\n",
       "            background-color:  #fff5eb;\n",
       "        }    #T_9fdd3a9c_ff3e_11e9_83be_d4ae52d07f78row21_col2 {\n",
       "            background-color:  #fff5eb;\n",
       "        }    #T_9fdd3a9c_ff3e_11e9_83be_d4ae52d07f78row21_col3 {\n",
       "            background-color:  #fff5eb;\n",
       "        }    #T_9fdd3a9c_ff3e_11e9_83be_d4ae52d07f78row21_col4 {\n",
       "            background-color:  #fff5eb;\n",
       "        }    #T_9fdd3a9c_ff3e_11e9_83be_d4ae52d07f78row21_col5 {\n",
       "            background-color:  #fff5eb;\n",
       "        }    #T_9fdd3a9c_ff3e_11e9_83be_d4ae52d07f78row21_col6 {\n",
       "            background-color:  #fff5eb;\n",
       "        }    #T_9fdd3a9c_ff3e_11e9_83be_d4ae52d07f78row21_col7 {\n",
       "            background-color:  #fff5eb;\n",
       "        }    #T_9fdd3a9c_ff3e_11e9_83be_d4ae52d07f78row21_col8 {\n",
       "            background-color:  #fff5eb;\n",
       "        }    #T_9fdd3a9c_ff3e_11e9_83be_d4ae52d07f78row21_col9 {\n",
       "            background-color:  #fff5eb;\n",
       "        }    #T_9fdd3a9c_ff3e_11e9_83be_d4ae52d07f78row21_col10 {\n",
       "            background-color:  #fff5eb;\n",
       "        }    #T_9fdd3a9c_ff3e_11e9_83be_d4ae52d07f78row21_col11 {\n",
       "            background-color:  #fff5eb;\n",
       "        }    #T_9fdd3a9c_ff3e_11e9_83be_d4ae52d07f78row21_col12 {\n",
       "            background-color:  #fff5eb;\n",
       "        }    #T_9fdd3a9c_ff3e_11e9_83be_d4ae52d07f78row21_col13 {\n",
       "            background-color:  #fff5eb;\n",
       "        }    #T_9fdd3a9c_ff3e_11e9_83be_d4ae52d07f78row21_col14 {\n",
       "            background-color:  #fff5eb;\n",
       "        }    #T_9fdd3a9c_ff3e_11e9_83be_d4ae52d07f78row21_col15 {\n",
       "            background-color:  #fff5eb;\n",
       "        }    #T_9fdd3a9c_ff3e_11e9_83be_d4ae52d07f78row21_col16 {\n",
       "            background-color:  #fff5eb;\n",
       "        }    #T_9fdd3a9c_ff3e_11e9_83be_d4ae52d07f78row21_col17 {\n",
       "            background-color:  #fff5eb;\n",
       "        }    #T_9fdd3a9c_ff3e_11e9_83be_d4ae52d07f78row21_col18 {\n",
       "            background-color:  #fff5eb;\n",
       "        }    #T_9fdd3a9c_ff3e_11e9_83be_d4ae52d07f78row21_col19 {\n",
       "            background-color:  #fff5eb;\n",
       "        }    #T_9fdd3a9c_ff3e_11e9_83be_d4ae52d07f78row21_col20 {\n",
       "            background-color:  #fff5eb;\n",
       "        }    #T_9fdd3a9c_ff3e_11e9_83be_d4ae52d07f78row21_col21 {\n",
       "            background-color:  #7f2704;\n",
       "        }    #T_9fdd3a9c_ff3e_11e9_83be_d4ae52d07f78row21_col22 {\n",
       "            background-color:  #f36f1a;\n",
       "        }    #T_9fdd3a9c_ff3e_11e9_83be_d4ae52d07f78row21_col23 {\n",
       "            background-color:  #fdcb9b;\n",
       "        }    #T_9fdd3a9c_ff3e_11e9_83be_d4ae52d07f78row22_col0 {\n",
       "            background-color:  #fff5eb;\n",
       "        }    #T_9fdd3a9c_ff3e_11e9_83be_d4ae52d07f78row22_col1 {\n",
       "            background-color:  #fff5eb;\n",
       "        }    #T_9fdd3a9c_ff3e_11e9_83be_d4ae52d07f78row22_col2 {\n",
       "            background-color:  #fff5eb;\n",
       "        }    #T_9fdd3a9c_ff3e_11e9_83be_d4ae52d07f78row22_col3 {\n",
       "            background-color:  #fff5eb;\n",
       "        }    #T_9fdd3a9c_ff3e_11e9_83be_d4ae52d07f78row22_col4 {\n",
       "            background-color:  #fff5eb;\n",
       "        }    #T_9fdd3a9c_ff3e_11e9_83be_d4ae52d07f78row22_col5 {\n",
       "            background-color:  #fff5eb;\n",
       "        }    #T_9fdd3a9c_ff3e_11e9_83be_d4ae52d07f78row22_col6 {\n",
       "            background-color:  #fff5eb;\n",
       "        }    #T_9fdd3a9c_ff3e_11e9_83be_d4ae52d07f78row22_col7 {\n",
       "            background-color:  #fff5eb;\n",
       "        }    #T_9fdd3a9c_ff3e_11e9_83be_d4ae52d07f78row22_col8 {\n",
       "            background-color:  #fff5eb;\n",
       "        }    #T_9fdd3a9c_ff3e_11e9_83be_d4ae52d07f78row22_col9 {\n",
       "            background-color:  #fff5eb;\n",
       "        }    #T_9fdd3a9c_ff3e_11e9_83be_d4ae52d07f78row22_col10 {\n",
       "            background-color:  #fff5eb;\n",
       "        }    #T_9fdd3a9c_ff3e_11e9_83be_d4ae52d07f78row22_col11 {\n",
       "            background-color:  #fff5eb;\n",
       "        }    #T_9fdd3a9c_ff3e_11e9_83be_d4ae52d07f78row22_col12 {\n",
       "            background-color:  #fff5eb;\n",
       "        }    #T_9fdd3a9c_ff3e_11e9_83be_d4ae52d07f78row22_col13 {\n",
       "            background-color:  #fff5eb;\n",
       "        }    #T_9fdd3a9c_ff3e_11e9_83be_d4ae52d07f78row22_col14 {\n",
       "            background-color:  #fff5eb;\n",
       "        }    #T_9fdd3a9c_ff3e_11e9_83be_d4ae52d07f78row22_col15 {\n",
       "            background-color:  #fff5eb;\n",
       "        }    #T_9fdd3a9c_ff3e_11e9_83be_d4ae52d07f78row22_col16 {\n",
       "            background-color:  #fff5eb;\n",
       "        }    #T_9fdd3a9c_ff3e_11e9_83be_d4ae52d07f78row22_col17 {\n",
       "            background-color:  #fff5eb;\n",
       "        }    #T_9fdd3a9c_ff3e_11e9_83be_d4ae52d07f78row22_col18 {\n",
       "            background-color:  #fff5eb;\n",
       "        }    #T_9fdd3a9c_ff3e_11e9_83be_d4ae52d07f78row22_col19 {\n",
       "            background-color:  #fff5eb;\n",
       "        }    #T_9fdd3a9c_ff3e_11e9_83be_d4ae52d07f78row22_col20 {\n",
       "            background-color:  #fff5eb;\n",
       "        }    #T_9fdd3a9c_ff3e_11e9_83be_d4ae52d07f78row22_col21 {\n",
       "            background-color:  #fff5eb;\n",
       "        }    #T_9fdd3a9c_ff3e_11e9_83be_d4ae52d07f78row22_col22 {\n",
       "            background-color:  #7f2704;\n",
       "        }    #T_9fdd3a9c_ff3e_11e9_83be_d4ae52d07f78row22_col23 {\n",
       "            background-color:  #fd9446;\n",
       "        }    #T_9fdd3a9c_ff3e_11e9_83be_d4ae52d07f78row23_col0 {\n",
       "            background-color:  #fff5eb;\n",
       "        }    #T_9fdd3a9c_ff3e_11e9_83be_d4ae52d07f78row23_col1 {\n",
       "            background-color:  #fff5eb;\n",
       "        }    #T_9fdd3a9c_ff3e_11e9_83be_d4ae52d07f78row23_col2 {\n",
       "            background-color:  #fff5eb;\n",
       "        }    #T_9fdd3a9c_ff3e_11e9_83be_d4ae52d07f78row23_col3 {\n",
       "            background-color:  #fff5eb;\n",
       "        }    #T_9fdd3a9c_ff3e_11e9_83be_d4ae52d07f78row23_col4 {\n",
       "            background-color:  #fff5eb;\n",
       "        }    #T_9fdd3a9c_ff3e_11e9_83be_d4ae52d07f78row23_col5 {\n",
       "            background-color:  #fff5eb;\n",
       "        }    #T_9fdd3a9c_ff3e_11e9_83be_d4ae52d07f78row23_col6 {\n",
       "            background-color:  #fff5eb;\n",
       "        }    #T_9fdd3a9c_ff3e_11e9_83be_d4ae52d07f78row23_col7 {\n",
       "            background-color:  #fff5eb;\n",
       "        }    #T_9fdd3a9c_ff3e_11e9_83be_d4ae52d07f78row23_col8 {\n",
       "            background-color:  #fff5eb;\n",
       "        }    #T_9fdd3a9c_ff3e_11e9_83be_d4ae52d07f78row23_col9 {\n",
       "            background-color:  #fff5eb;\n",
       "        }    #T_9fdd3a9c_ff3e_11e9_83be_d4ae52d07f78row23_col10 {\n",
       "            background-color:  #fff5eb;\n",
       "        }    #T_9fdd3a9c_ff3e_11e9_83be_d4ae52d07f78row23_col11 {\n",
       "            background-color:  #fff5eb;\n",
       "        }    #T_9fdd3a9c_ff3e_11e9_83be_d4ae52d07f78row23_col12 {\n",
       "            background-color:  #fff5eb;\n",
       "        }    #T_9fdd3a9c_ff3e_11e9_83be_d4ae52d07f78row23_col13 {\n",
       "            background-color:  #fff5eb;\n",
       "        }    #T_9fdd3a9c_ff3e_11e9_83be_d4ae52d07f78row23_col14 {\n",
       "            background-color:  #fff5eb;\n",
       "        }    #T_9fdd3a9c_ff3e_11e9_83be_d4ae52d07f78row23_col15 {\n",
       "            background-color:  #fff5eb;\n",
       "        }    #T_9fdd3a9c_ff3e_11e9_83be_d4ae52d07f78row23_col16 {\n",
       "            background-color:  #fff5eb;\n",
       "        }    #T_9fdd3a9c_ff3e_11e9_83be_d4ae52d07f78row23_col17 {\n",
       "            background-color:  #fff5eb;\n",
       "        }    #T_9fdd3a9c_ff3e_11e9_83be_d4ae52d07f78row23_col18 {\n",
       "            background-color:  #fff5eb;\n",
       "        }    #T_9fdd3a9c_ff3e_11e9_83be_d4ae52d07f78row23_col19 {\n",
       "            background-color:  #fff5eb;\n",
       "        }    #T_9fdd3a9c_ff3e_11e9_83be_d4ae52d07f78row23_col20 {\n",
       "            background-color:  #fff5eb;\n",
       "        }    #T_9fdd3a9c_ff3e_11e9_83be_d4ae52d07f78row23_col21 {\n",
       "            background-color:  #fff5eb;\n",
       "        }    #T_9fdd3a9c_ff3e_11e9_83be_d4ae52d07f78row23_col22 {\n",
       "            background-color:  #fff5eb;\n",
       "        }    #T_9fdd3a9c_ff3e_11e9_83be_d4ae52d07f78row23_col23 {\n",
       "            background-color:  #7f2704;\n",
       "        }</style><table id=\"T_9fdd3a9c_ff3e_11e9_83be_d4ae52d07f78\" style='display:inline'><thead>    <tr>        <th class=\"blank\" ></th>        <th class=\"blank\" ></th>        <th class=\"blank level0\" ></th>        <th class=\"col_heading level0 col0\" colspan=6>Metro_UrbanOnly</th>        <th class=\"col_heading level0 col6\" colspan=6>Metro_UrbanRural</th>        <th class=\"col_heading level0 col12\" colspan=6>PerMun_UrbanOnly</th>        <th class=\"col_heading level0 col18\" colspan=6>PerMun_UrbanRural</th>    </tr>    <tr>        <th class=\"blank\" ></th>        <th class=\"blank\" ></th>        <th class=\"blank level1\" ></th>        <th class=\"col_heading level1 col0\" colspan=2>ageb</th>        <th class=\"col_heading level1 col2\" colspan=3>g.5km</th>        <th class=\"col_heading level1 col5\" >vor</th>        <th class=\"col_heading level1 col6\" colspan=2>ageb</th>        <th class=\"col_heading level1 col8\" colspan=3>g.5km</th>        <th class=\"col_heading level1 col11\" >vor</th>        <th class=\"col_heading level1 col12\" colspan=2>ageb</th>        <th class=\"col_heading level1 col14\" colspan=3>g.5km</th>        <th class=\"col_heading level1 col17\" >vor</th>        <th class=\"col_heading level1 col18\" colspan=2>ageb</th>        <th class=\"col_heading level1 col20\" colspan=3>g.5km</th>        <th class=\"col_heading level1 col23\" >vor</th>    </tr>    <tr>        <th class=\"blank\" ></th>        <th class=\"blank\" ></th>        <th class=\"blank level2\" ></th>        <th class=\"col_heading level2 col0\" >area</th>        <th class=\"col_heading level2 col1\" >pop</th>        <th class=\"col_heading level2 col2\" >_idw10</th>        <th class=\"col_heading level2 col3\" >area</th>        <th class=\"col_heading level2 col4\" >pop</th>        <th class=\"col_heading level2 col5\" ></th>        <th class=\"col_heading level2 col6\" >area</th>        <th class=\"col_heading level2 col7\" >pop</th>        <th class=\"col_heading level2 col8\" >_idw10</th>        <th class=\"col_heading level2 col9\" >area</th>        <th class=\"col_heading level2 col10\" >pop</th>        <th class=\"col_heading level2 col11\" ></th>        <th class=\"col_heading level2 col12\" >area</th>        <th class=\"col_heading level2 col13\" >pop</th>        <th class=\"col_heading level2 col14\" >_idw10</th>        <th class=\"col_heading level2 col15\" >area</th>        <th class=\"col_heading level2 col16\" >pop</th>        <th class=\"col_heading level2 col17\" ></th>        <th class=\"col_heading level2 col18\" >area</th>        <th class=\"col_heading level2 col19\" >pop</th>        <th class=\"col_heading level2 col20\" >_idw10</th>        <th class=\"col_heading level2 col21\" >area</th>        <th class=\"col_heading level2 col22\" >pop</th>        <th class=\"col_heading level2 col23\" ></th>    </tr></thead><tbody>\n",
       "                <tr>\n",
       "                        <th id=\"T_9fdd3a9c_ff3e_11e9_83be_d4ae52d07f78level0_row0\" class=\"row_heading level0 row0\" rowspan=6>Metro_UrbanOnly</th>\n",
       "                        <th id=\"T_9fdd3a9c_ff3e_11e9_83be_d4ae52d07f78level1_row0\" class=\"row_heading level1 row0\" rowspan=2>ageb</th>\n",
       "                        <th id=\"T_9fdd3a9c_ff3e_11e9_83be_d4ae52d07f78level2_row0\" class=\"row_heading level2 row0\" >area</th>\n",
       "                        <td id=\"T_9fdd3a9c_ff3e_11e9_83be_d4ae52d07f78row0_col0\" class=\"data row0 col0\" >1.000</td>\n",
       "                        <td id=\"T_9fdd3a9c_ff3e_11e9_83be_d4ae52d07f78row0_col1\" class=\"data row0 col1\" >0.575</td>\n",
       "                        <td id=\"T_9fdd3a9c_ff3e_11e9_83be_d4ae52d07f78row0_col2\" class=\"data row0 col2\" >0.488</td>\n",
       "                        <td id=\"T_9fdd3a9c_ff3e_11e9_83be_d4ae52d07f78row0_col3\" class=\"data row0 col3\" >0.749</td>\n",
       "                        <td id=\"T_9fdd3a9c_ff3e_11e9_83be_d4ae52d07f78row0_col4\" class=\"data row0 col4\" >0.614</td>\n",
       "                        <td id=\"T_9fdd3a9c_ff3e_11e9_83be_d4ae52d07f78row0_col5\" class=\"data row0 col5\" >0.223</td>\n",
       "                        <td id=\"T_9fdd3a9c_ff3e_11e9_83be_d4ae52d07f78row0_col6\" class=\"data row0 col6\" >0.833</td>\n",
       "                        <td id=\"T_9fdd3a9c_ff3e_11e9_83be_d4ae52d07f78row0_col7\" class=\"data row0 col7\" >0.532</td>\n",
       "                        <td id=\"T_9fdd3a9c_ff3e_11e9_83be_d4ae52d07f78row0_col8\" class=\"data row0 col8\" >0.497</td>\n",
       "                        <td id=\"T_9fdd3a9c_ff3e_11e9_83be_d4ae52d07f78row0_col9\" class=\"data row0 col9\" >0.492</td>\n",
       "                        <td id=\"T_9fdd3a9c_ff3e_11e9_83be_d4ae52d07f78row0_col10\" class=\"data row0 col10\" >0.632</td>\n",
       "                        <td id=\"T_9fdd3a9c_ff3e_11e9_83be_d4ae52d07f78row0_col11\" class=\"data row0 col11\" >0.304</td>\n",
       "                        <td id=\"T_9fdd3a9c_ff3e_11e9_83be_d4ae52d07f78row0_col12\" class=\"data row0 col12\" >0.395</td>\n",
       "                        <td id=\"T_9fdd3a9c_ff3e_11e9_83be_d4ae52d07f78row0_col13\" class=\"data row0 col13\" >0.301</td>\n",
       "                        <td id=\"T_9fdd3a9c_ff3e_11e9_83be_d4ae52d07f78row0_col14\" class=\"data row0 col14\" >0.338</td>\n",
       "                        <td id=\"T_9fdd3a9c_ff3e_11e9_83be_d4ae52d07f78row0_col15\" class=\"data row0 col15\" >0.320</td>\n",
       "                        <td id=\"T_9fdd3a9c_ff3e_11e9_83be_d4ae52d07f78row0_col16\" class=\"data row0 col16\" >0.328</td>\n",
       "                        <td id=\"T_9fdd3a9c_ff3e_11e9_83be_d4ae52d07f78row0_col17\" class=\"data row0 col17\" >0.233</td>\n",
       "                        <td id=\"T_9fdd3a9c_ff3e_11e9_83be_d4ae52d07f78row0_col18\" class=\"data row0 col18\" >0.336</td>\n",
       "                        <td id=\"T_9fdd3a9c_ff3e_11e9_83be_d4ae52d07f78row0_col19\" class=\"data row0 col19\" >0.303</td>\n",
       "                        <td id=\"T_9fdd3a9c_ff3e_11e9_83be_d4ae52d07f78row0_col20\" class=\"data row0 col20\" >0.390</td>\n",
       "                        <td id=\"T_9fdd3a9c_ff3e_11e9_83be_d4ae52d07f78row0_col21\" class=\"data row0 col21\" >0.328</td>\n",
       "                        <td id=\"T_9fdd3a9c_ff3e_11e9_83be_d4ae52d07f78row0_col22\" class=\"data row0 col22\" >0.295</td>\n",
       "                        <td id=\"T_9fdd3a9c_ff3e_11e9_83be_d4ae52d07f78row0_col23\" class=\"data row0 col23\" >0.241</td>\n",
       "            </tr>\n",
       "            <tr>\n",
       "                                        <th id=\"T_9fdd3a9c_ff3e_11e9_83be_d4ae52d07f78level2_row1\" class=\"row_heading level2 row1\" >pop</th>\n",
       "                        <td id=\"T_9fdd3a9c_ff3e_11e9_83be_d4ae52d07f78row1_col0\" class=\"data row1 col0\" ></td>\n",
       "                        <td id=\"T_9fdd3a9c_ff3e_11e9_83be_d4ae52d07f78row1_col1\" class=\"data row1 col1\" >1.000</td>\n",
       "                        <td id=\"T_9fdd3a9c_ff3e_11e9_83be_d4ae52d07f78row1_col2\" class=\"data row1 col2\" >0.539</td>\n",
       "                        <td id=\"T_9fdd3a9c_ff3e_11e9_83be_d4ae52d07f78row1_col3\" class=\"data row1 col3\" >0.503</td>\n",
       "                        <td id=\"T_9fdd3a9c_ff3e_11e9_83be_d4ae52d07f78row1_col4\" class=\"data row1 col4\" >0.593</td>\n",
       "                        <td id=\"T_9fdd3a9c_ff3e_11e9_83be_d4ae52d07f78row1_col5\" class=\"data row1 col5\" >0.325</td>\n",
       "                        <td id=\"T_9fdd3a9c_ff3e_11e9_83be_d4ae52d07f78row1_col6\" class=\"data row1 col6\" >0.571</td>\n",
       "                        <td id=\"T_9fdd3a9c_ff3e_11e9_83be_d4ae52d07f78row1_col7\" class=\"data row1 col7\" >0.888</td>\n",
       "                        <td id=\"T_9fdd3a9c_ff3e_11e9_83be_d4ae52d07f78row1_col8\" class=\"data row1 col8\" >0.420</td>\n",
       "                        <td id=\"T_9fdd3a9c_ff3e_11e9_83be_d4ae52d07f78row1_col9\" class=\"data row1 col9\" >0.445</td>\n",
       "                        <td id=\"T_9fdd3a9c_ff3e_11e9_83be_d4ae52d07f78row1_col10\" class=\"data row1 col10\" >0.627</td>\n",
       "                        <td id=\"T_9fdd3a9c_ff3e_11e9_83be_d4ae52d07f78row1_col11\" class=\"data row1 col11\" >0.443</td>\n",
       "                        <td id=\"T_9fdd3a9c_ff3e_11e9_83be_d4ae52d07f78row1_col12\" class=\"data row1 col12\" >0.352</td>\n",
       "                        <td id=\"T_9fdd3a9c_ff3e_11e9_83be_d4ae52d07f78row1_col13\" class=\"data row1 col13\" >0.432</td>\n",
       "                        <td id=\"T_9fdd3a9c_ff3e_11e9_83be_d4ae52d07f78row1_col14\" class=\"data row1 col14\" >0.329</td>\n",
       "                        <td id=\"T_9fdd3a9c_ff3e_11e9_83be_d4ae52d07f78row1_col15\" class=\"data row1 col15\" >0.292</td>\n",
       "                        <td id=\"T_9fdd3a9c_ff3e_11e9_83be_d4ae52d07f78row1_col16\" class=\"data row1 col16\" >0.349</td>\n",
       "                        <td id=\"T_9fdd3a9c_ff3e_11e9_83be_d4ae52d07f78row1_col17\" class=\"data row1 col17\" >0.362</td>\n",
       "                        <td id=\"T_9fdd3a9c_ff3e_11e9_83be_d4ae52d07f78row1_col18\" class=\"data row1 col18\" >0.268</td>\n",
       "                        <td id=\"T_9fdd3a9c_ff3e_11e9_83be_d4ae52d07f78row1_col19\" class=\"data row1 col19\" >0.392</td>\n",
       "                        <td id=\"T_9fdd3a9c_ff3e_11e9_83be_d4ae52d07f78row1_col20\" class=\"data row1 col20\" >0.345</td>\n",
       "                        <td id=\"T_9fdd3a9c_ff3e_11e9_83be_d4ae52d07f78row1_col21\" class=\"data row1 col21\" >0.258</td>\n",
       "                        <td id=\"T_9fdd3a9c_ff3e_11e9_83be_d4ae52d07f78row1_col22\" class=\"data row1 col22\" >0.307</td>\n",
       "                        <td id=\"T_9fdd3a9c_ff3e_11e9_83be_d4ae52d07f78row1_col23\" class=\"data row1 col23\" >0.329</td>\n",
       "            </tr>\n",
       "            <tr>\n",
       "                                <th id=\"T_9fdd3a9c_ff3e_11e9_83be_d4ae52d07f78level1_row2\" class=\"row_heading level1 row2\" rowspan=3>g.5km</th>\n",
       "                        <th id=\"T_9fdd3a9c_ff3e_11e9_83be_d4ae52d07f78level2_row2\" class=\"row_heading level2 row2\" >_idw10</th>\n",
       "                        <td id=\"T_9fdd3a9c_ff3e_11e9_83be_d4ae52d07f78row2_col0\" class=\"data row2 col0\" ></td>\n",
       "                        <td id=\"T_9fdd3a9c_ff3e_11e9_83be_d4ae52d07f78row2_col1\" class=\"data row2 col1\" ></td>\n",
       "                        <td id=\"T_9fdd3a9c_ff3e_11e9_83be_d4ae52d07f78row2_col2\" class=\"data row2 col2\" >1.000</td>\n",
       "                        <td id=\"T_9fdd3a9c_ff3e_11e9_83be_d4ae52d07f78row2_col3\" class=\"data row2 col3\" >0.520</td>\n",
       "                        <td id=\"T_9fdd3a9c_ff3e_11e9_83be_d4ae52d07f78row2_col4\" class=\"data row2 col4\" >0.617</td>\n",
       "                        <td id=\"T_9fdd3a9c_ff3e_11e9_83be_d4ae52d07f78row2_col5\" class=\"data row2 col5\" >0.473</td>\n",
       "                        <td id=\"T_9fdd3a9c_ff3e_11e9_83be_d4ae52d07f78row2_col6\" class=\"data row2 col6\" >0.440</td>\n",
       "                        <td id=\"T_9fdd3a9c_ff3e_11e9_83be_d4ae52d07f78row2_col7\" class=\"data row2 col7\" >0.479</td>\n",
       "                        <td id=\"T_9fdd3a9c_ff3e_11e9_83be_d4ae52d07f78row2_col8\" class=\"data row2 col8\" >0.560</td>\n",
       "                        <td id=\"T_9fdd3a9c_ff3e_11e9_83be_d4ae52d07f78row2_col9\" class=\"data row2 col9\" >0.356</td>\n",
       "                        <td id=\"T_9fdd3a9c_ff3e_11e9_83be_d4ae52d07f78row2_col10\" class=\"data row2 col10\" >0.599</td>\n",
       "                        <td id=\"T_9fdd3a9c_ff3e_11e9_83be_d4ae52d07f78row2_col11\" class=\"data row2 col11\" >0.544</td>\n",
       "                        <td id=\"T_9fdd3a9c_ff3e_11e9_83be_d4ae52d07f78row2_col12\" class=\"data row2 col12\" >0.310</td>\n",
       "                        <td id=\"T_9fdd3a9c_ff3e_11e9_83be_d4ae52d07f78row2_col13\" class=\"data row2 col13\" >0.402</td>\n",
       "                        <td id=\"T_9fdd3a9c_ff3e_11e9_83be_d4ae52d07f78row2_col14\" class=\"data row2 col14\" >0.425</td>\n",
       "                        <td id=\"T_9fdd3a9c_ff3e_11e9_83be_d4ae52d07f78row2_col15\" class=\"data row2 col15\" >0.317</td>\n",
       "                        <td id=\"T_9fdd3a9c_ff3e_11e9_83be_d4ae52d07f78row2_col16\" class=\"data row2 col16\" >0.382</td>\n",
       "                        <td id=\"T_9fdd3a9c_ff3e_11e9_83be_d4ae52d07f78row2_col17\" class=\"data row2 col17\" >0.439</td>\n",
       "                        <td id=\"T_9fdd3a9c_ff3e_11e9_83be_d4ae52d07f78row2_col18\" class=\"data row2 col18\" >0.266</td>\n",
       "                        <td id=\"T_9fdd3a9c_ff3e_11e9_83be_d4ae52d07f78row2_col19\" class=\"data row2 col19\" >0.369</td>\n",
       "                        <td id=\"T_9fdd3a9c_ff3e_11e9_83be_d4ae52d07f78row2_col20\" class=\"data row2 col20\" >0.359</td>\n",
       "                        <td id=\"T_9fdd3a9c_ff3e_11e9_83be_d4ae52d07f78row2_col21\" class=\"data row2 col21\" >0.241</td>\n",
       "                        <td id=\"T_9fdd3a9c_ff3e_11e9_83be_d4ae52d07f78row2_col22\" class=\"data row2 col22\" >0.340</td>\n",
       "                        <td id=\"T_9fdd3a9c_ff3e_11e9_83be_d4ae52d07f78row2_col23\" class=\"data row2 col23\" >0.473</td>\n",
       "            </tr>\n",
       "            <tr>\n",
       "                                        <th id=\"T_9fdd3a9c_ff3e_11e9_83be_d4ae52d07f78level2_row3\" class=\"row_heading level2 row3\" >area</th>\n",
       "                        <td id=\"T_9fdd3a9c_ff3e_11e9_83be_d4ae52d07f78row3_col0\" class=\"data row3 col0\" ></td>\n",
       "                        <td id=\"T_9fdd3a9c_ff3e_11e9_83be_d4ae52d07f78row3_col1\" class=\"data row3 col1\" ></td>\n",
       "                        <td id=\"T_9fdd3a9c_ff3e_11e9_83be_d4ae52d07f78row3_col2\" class=\"data row3 col2\" ></td>\n",
       "                        <td id=\"T_9fdd3a9c_ff3e_11e9_83be_d4ae52d07f78row3_col3\" class=\"data row3 col3\" >1.000</td>\n",
       "                        <td id=\"T_9fdd3a9c_ff3e_11e9_83be_d4ae52d07f78row3_col4\" class=\"data row3 col4\" >0.660</td>\n",
       "                        <td id=\"T_9fdd3a9c_ff3e_11e9_83be_d4ae52d07f78row3_col5\" class=\"data row3 col5\" >0.203</td>\n",
       "                        <td id=\"T_9fdd3a9c_ff3e_11e9_83be_d4ae52d07f78row3_col6\" class=\"data row3 col6\" >0.684</td>\n",
       "                        <td id=\"T_9fdd3a9c_ff3e_11e9_83be_d4ae52d07f78row3_col7\" class=\"data row3 col7\" >0.473</td>\n",
       "                        <td id=\"T_9fdd3a9c_ff3e_11e9_83be_d4ae52d07f78row3_col8\" class=\"data row3 col8\" >0.529</td>\n",
       "                        <td id=\"T_9fdd3a9c_ff3e_11e9_83be_d4ae52d07f78row3_col9\" class=\"data row3 col9\" >0.666</td>\n",
       "                        <td id=\"T_9fdd3a9c_ff3e_11e9_83be_d4ae52d07f78row3_col10\" class=\"data row3 col10\" >0.659</td>\n",
       "                        <td id=\"T_9fdd3a9c_ff3e_11e9_83be_d4ae52d07f78row3_col11\" class=\"data row3 col11\" >0.281</td>\n",
       "                        <td id=\"T_9fdd3a9c_ff3e_11e9_83be_d4ae52d07f78row3_col12\" class=\"data row3 col12\" >0.398</td>\n",
       "                        <td id=\"T_9fdd3a9c_ff3e_11e9_83be_d4ae52d07f78row3_col13\" class=\"data row3 col13\" >0.309</td>\n",
       "                        <td id=\"T_9fdd3a9c_ff3e_11e9_83be_d4ae52d07f78row3_col14\" class=\"data row3 col14\" >0.351</td>\n",
       "                        <td id=\"T_9fdd3a9c_ff3e_11e9_83be_d4ae52d07f78row3_col15\" class=\"data row3 col15\" >0.342</td>\n",
       "                        <td id=\"T_9fdd3a9c_ff3e_11e9_83be_d4ae52d07f78row3_col16\" class=\"data row3 col16\" >0.334</td>\n",
       "                        <td id=\"T_9fdd3a9c_ff3e_11e9_83be_d4ae52d07f78row3_col17\" class=\"data row3 col17\" >0.226</td>\n",
       "                        <td id=\"T_9fdd3a9c_ff3e_11e9_83be_d4ae52d07f78row3_col18\" class=\"data row3 col18\" >0.337</td>\n",
       "                        <td id=\"T_9fdd3a9c_ff3e_11e9_83be_d4ae52d07f78row3_col19\" class=\"data row3 col19\" >0.323</td>\n",
       "                        <td id=\"T_9fdd3a9c_ff3e_11e9_83be_d4ae52d07f78row3_col20\" class=\"data row3 col20\" >0.393</td>\n",
       "                        <td id=\"T_9fdd3a9c_ff3e_11e9_83be_d4ae52d07f78row3_col21\" class=\"data row3 col21\" >0.341</td>\n",
       "                        <td id=\"T_9fdd3a9c_ff3e_11e9_83be_d4ae52d07f78row3_col22\" class=\"data row3 col22\" >0.310</td>\n",
       "                        <td id=\"T_9fdd3a9c_ff3e_11e9_83be_d4ae52d07f78row3_col23\" class=\"data row3 col23\" >0.234</td>\n",
       "            </tr>\n",
       "            <tr>\n",
       "                                        <th id=\"T_9fdd3a9c_ff3e_11e9_83be_d4ae52d07f78level2_row4\" class=\"row_heading level2 row4\" >pop</th>\n",
       "                        <td id=\"T_9fdd3a9c_ff3e_11e9_83be_d4ae52d07f78row4_col0\" class=\"data row4 col0\" ></td>\n",
       "                        <td id=\"T_9fdd3a9c_ff3e_11e9_83be_d4ae52d07f78row4_col1\" class=\"data row4 col1\" ></td>\n",
       "                        <td id=\"T_9fdd3a9c_ff3e_11e9_83be_d4ae52d07f78row4_col2\" class=\"data row4 col2\" ></td>\n",
       "                        <td id=\"T_9fdd3a9c_ff3e_11e9_83be_d4ae52d07f78row4_col3\" class=\"data row4 col3\" ></td>\n",
       "                        <td id=\"T_9fdd3a9c_ff3e_11e9_83be_d4ae52d07f78row4_col4\" class=\"data row4 col4\" >1.000</td>\n",
       "                        <td id=\"T_9fdd3a9c_ff3e_11e9_83be_d4ae52d07f78row4_col5\" class=\"data row4 col5\" >0.378</td>\n",
       "                        <td id=\"T_9fdd3a9c_ff3e_11e9_83be_d4ae52d07f78row4_col6\" class=\"data row4 col6\" >0.583</td>\n",
       "                        <td id=\"T_9fdd3a9c_ff3e_11e9_83be_d4ae52d07f78row4_col7\" class=\"data row4 col7\" >0.563</td>\n",
       "                        <td id=\"T_9fdd3a9c_ff3e_11e9_83be_d4ae52d07f78row4_col8\" class=\"data row4 col8\" >0.549</td>\n",
       "                        <td id=\"T_9fdd3a9c_ff3e_11e9_83be_d4ae52d07f78row4_col9\" class=\"data row4 col9\" >0.468</td>\n",
       "                        <td id=\"T_9fdd3a9c_ff3e_11e9_83be_d4ae52d07f78row4_col10\" class=\"data row4 col10\" >0.877</td>\n",
       "                        <td id=\"T_9fdd3a9c_ff3e_11e9_83be_d4ae52d07f78row4_col11\" class=\"data row4 col11\" >0.422</td>\n",
       "                        <td id=\"T_9fdd3a9c_ff3e_11e9_83be_d4ae52d07f78row4_col12\" class=\"data row4 col12\" >0.313</td>\n",
       "                        <td id=\"T_9fdd3a9c_ff3e_11e9_83be_d4ae52d07f78row4_col13\" class=\"data row4 col13\" >0.390</td>\n",
       "                        <td id=\"T_9fdd3a9c_ff3e_11e9_83be_d4ae52d07f78row4_col14\" class=\"data row4 col14\" >0.350</td>\n",
       "                        <td id=\"T_9fdd3a9c_ff3e_11e9_83be_d4ae52d07f78row4_col15\" class=\"data row4 col15\" >0.254</td>\n",
       "                        <td id=\"T_9fdd3a9c_ff3e_11e9_83be_d4ae52d07f78row4_col16\" class=\"data row4 col16\" >0.358</td>\n",
       "                        <td id=\"T_9fdd3a9c_ff3e_11e9_83be_d4ae52d07f78row4_col17\" class=\"data row4 col17\" >0.356</td>\n",
       "                        <td id=\"T_9fdd3a9c_ff3e_11e9_83be_d4ae52d07f78row4_col18\" class=\"data row4 col18\" >0.261</td>\n",
       "                        <td id=\"T_9fdd3a9c_ff3e_11e9_83be_d4ae52d07f78row4_col19\" class=\"data row4 col19\" >0.376</td>\n",
       "                        <td id=\"T_9fdd3a9c_ff3e_11e9_83be_d4ae52d07f78row4_col20\" class=\"data row4 col20\" >0.336</td>\n",
       "                        <td id=\"T_9fdd3a9c_ff3e_11e9_83be_d4ae52d07f78row4_col21\" class=\"data row4 col21\" >0.251</td>\n",
       "                        <td id=\"T_9fdd3a9c_ff3e_11e9_83be_d4ae52d07f78row4_col22\" class=\"data row4 col22\" >0.326</td>\n",
       "                        <td id=\"T_9fdd3a9c_ff3e_11e9_83be_d4ae52d07f78row4_col23\" class=\"data row4 col23\" >0.351</td>\n",
       "            </tr>\n",
       "            <tr>\n",
       "                                <th id=\"T_9fdd3a9c_ff3e_11e9_83be_d4ae52d07f78level1_row5\" class=\"row_heading level1 row5\" >vor</th>\n",
       "                        <th id=\"T_9fdd3a9c_ff3e_11e9_83be_d4ae52d07f78level2_row5\" class=\"row_heading level2 row5\" ></th>\n",
       "                        <td id=\"T_9fdd3a9c_ff3e_11e9_83be_d4ae52d07f78row5_col0\" class=\"data row5 col0\" ></td>\n",
       "                        <td id=\"T_9fdd3a9c_ff3e_11e9_83be_d4ae52d07f78row5_col1\" class=\"data row5 col1\" ></td>\n",
       "                        <td id=\"T_9fdd3a9c_ff3e_11e9_83be_d4ae52d07f78row5_col2\" class=\"data row5 col2\" ></td>\n",
       "                        <td id=\"T_9fdd3a9c_ff3e_11e9_83be_d4ae52d07f78row5_col3\" class=\"data row5 col3\" ></td>\n",
       "                        <td id=\"T_9fdd3a9c_ff3e_11e9_83be_d4ae52d07f78row5_col4\" class=\"data row5 col4\" ></td>\n",
       "                        <td id=\"T_9fdd3a9c_ff3e_11e9_83be_d4ae52d07f78row5_col5\" class=\"data row5 col5\" >1.000</td>\n",
       "                        <td id=\"T_9fdd3a9c_ff3e_11e9_83be_d4ae52d07f78row5_col6\" class=\"data row5 col6\" >0.164</td>\n",
       "                        <td id=\"T_9fdd3a9c_ff3e_11e9_83be_d4ae52d07f78row5_col7\" class=\"data row5 col7\" >0.275</td>\n",
       "                        <td id=\"T_9fdd3a9c_ff3e_11e9_83be_d4ae52d07f78row5_col8\" class=\"data row5 col8\" >0.376</td>\n",
       "                        <td id=\"T_9fdd3a9c_ff3e_11e9_83be_d4ae52d07f78row5_col9\" class=\"data row5 col9\" >0.066</td>\n",
       "                        <td id=\"T_9fdd3a9c_ff3e_11e9_83be_d4ae52d07f78row5_col10\" class=\"data row5 col10\" >0.357</td>\n",
       "                        <td id=\"T_9fdd3a9c_ff3e_11e9_83be_d4ae52d07f78row5_col11\" class=\"data row5 col11\" >0.775</td>\n",
       "                        <td id=\"T_9fdd3a9c_ff3e_11e9_83be_d4ae52d07f78row5_col12\" class=\"data row5 col12\" >0.241</td>\n",
       "                        <td id=\"T_9fdd3a9c_ff3e_11e9_83be_d4ae52d07f78row5_col13\" class=\"data row5 col13\" >0.342</td>\n",
       "                        <td id=\"T_9fdd3a9c_ff3e_11e9_83be_d4ae52d07f78row5_col14\" class=\"data row5 col14\" >0.372</td>\n",
       "                        <td id=\"T_9fdd3a9c_ff3e_11e9_83be_d4ae52d07f78row5_col15\" class=\"data row5 col15\" >0.271</td>\n",
       "                        <td id=\"T_9fdd3a9c_ff3e_11e9_83be_d4ae52d07f78row5_col16\" class=\"data row5 col16\" >0.349</td>\n",
       "                        <td id=\"T_9fdd3a9c_ff3e_11e9_83be_d4ae52d07f78row5_col17\" class=\"data row5 col17\" >0.699</td>\n",
       "                        <td id=\"T_9fdd3a9c_ff3e_11e9_83be_d4ae52d07f78row5_col18\" class=\"data row5 col18\" >0.165</td>\n",
       "                        <td id=\"T_9fdd3a9c_ff3e_11e9_83be_d4ae52d07f78row5_col19\" class=\"data row5 col19\" >0.302</td>\n",
       "                        <td id=\"T_9fdd3a9c_ff3e_11e9_83be_d4ae52d07f78row5_col20\" class=\"data row5 col20\" >0.244</td>\n",
       "                        <td id=\"T_9fdd3a9c_ff3e_11e9_83be_d4ae52d07f78row5_col21\" class=\"data row5 col21\" >0.125</td>\n",
       "                        <td id=\"T_9fdd3a9c_ff3e_11e9_83be_d4ae52d07f78row5_col22\" class=\"data row5 col22\" >0.311</td>\n",
       "                        <td id=\"T_9fdd3a9c_ff3e_11e9_83be_d4ae52d07f78row5_col23\" class=\"data row5 col23\" >0.578</td>\n",
       "            </tr>\n",
       "            <tr>\n",
       "                        <th id=\"T_9fdd3a9c_ff3e_11e9_83be_d4ae52d07f78level0_row6\" class=\"row_heading level0 row6\" rowspan=6>Metro_UrbanRural</th>\n",
       "                        <th id=\"T_9fdd3a9c_ff3e_11e9_83be_d4ae52d07f78level1_row6\" class=\"row_heading level1 row6\" rowspan=2>ageb</th>\n",
       "                        <th id=\"T_9fdd3a9c_ff3e_11e9_83be_d4ae52d07f78level2_row6\" class=\"row_heading level2 row6\" >area</th>\n",
       "                        <td id=\"T_9fdd3a9c_ff3e_11e9_83be_d4ae52d07f78row6_col0\" class=\"data row6 col0\" ></td>\n",
       "                        <td id=\"T_9fdd3a9c_ff3e_11e9_83be_d4ae52d07f78row6_col1\" class=\"data row6 col1\" ></td>\n",
       "                        <td id=\"T_9fdd3a9c_ff3e_11e9_83be_d4ae52d07f78row6_col2\" class=\"data row6 col2\" ></td>\n",
       "                        <td id=\"T_9fdd3a9c_ff3e_11e9_83be_d4ae52d07f78row6_col3\" class=\"data row6 col3\" ></td>\n",
       "                        <td id=\"T_9fdd3a9c_ff3e_11e9_83be_d4ae52d07f78row6_col4\" class=\"data row6 col4\" ></td>\n",
       "                        <td id=\"T_9fdd3a9c_ff3e_11e9_83be_d4ae52d07f78row6_col5\" class=\"data row6 col5\" ></td>\n",
       "                        <td id=\"T_9fdd3a9c_ff3e_11e9_83be_d4ae52d07f78row6_col6\" class=\"data row6 col6\" >1.000</td>\n",
       "                        <td id=\"T_9fdd3a9c_ff3e_11e9_83be_d4ae52d07f78row6_col7\" class=\"data row6 col7\" >0.601</td>\n",
       "                        <td id=\"T_9fdd3a9c_ff3e_11e9_83be_d4ae52d07f78row6_col8\" class=\"data row6 col8\" >0.489</td>\n",
       "                        <td id=\"T_9fdd3a9c_ff3e_11e9_83be_d4ae52d07f78row6_col9\" class=\"data row6 col9\" >0.553</td>\n",
       "                        <td id=\"T_9fdd3a9c_ff3e_11e9_83be_d4ae52d07f78row6_col10\" class=\"data row6 col10\" >0.635</td>\n",
       "                        <td id=\"T_9fdd3a9c_ff3e_11e9_83be_d4ae52d07f78row6_col11\" class=\"data row6 col11\" >0.261</td>\n",
       "                        <td id=\"T_9fdd3a9c_ff3e_11e9_83be_d4ae52d07f78row6_col12\" class=\"data row6 col12\" >0.391</td>\n",
       "                        <td id=\"T_9fdd3a9c_ff3e_11e9_83be_d4ae52d07f78row6_col13\" class=\"data row6 col13\" >0.307</td>\n",
       "                        <td id=\"T_9fdd3a9c_ff3e_11e9_83be_d4ae52d07f78row6_col14\" class=\"data row6 col14\" >0.314</td>\n",
       "                        <td id=\"T_9fdd3a9c_ff3e_11e9_83be_d4ae52d07f78row6_col15\" class=\"data row6 col15\" >0.307</td>\n",
       "                        <td id=\"T_9fdd3a9c_ff3e_11e9_83be_d4ae52d07f78row6_col16\" class=\"data row6 col16\" >0.331</td>\n",
       "                        <td id=\"T_9fdd3a9c_ff3e_11e9_83be_d4ae52d07f78row6_col17\" class=\"data row6 col17\" >0.191</td>\n",
       "                        <td id=\"T_9fdd3a9c_ff3e_11e9_83be_d4ae52d07f78row6_col18\" class=\"data row6 col18\" >0.391</td>\n",
       "                        <td id=\"T_9fdd3a9c_ff3e_11e9_83be_d4ae52d07f78row6_col19\" class=\"data row6 col19\" >0.316</td>\n",
       "                        <td id=\"T_9fdd3a9c_ff3e_11e9_83be_d4ae52d07f78row6_col20\" class=\"data row6 col20\" >0.389</td>\n",
       "                        <td id=\"T_9fdd3a9c_ff3e_11e9_83be_d4ae52d07f78row6_col21\" class=\"data row6 col21\" >0.343</td>\n",
       "                        <td id=\"T_9fdd3a9c_ff3e_11e9_83be_d4ae52d07f78row6_col22\" class=\"data row6 col22\" >0.299</td>\n",
       "                        <td id=\"T_9fdd3a9c_ff3e_11e9_83be_d4ae52d07f78row6_col23\" class=\"data row6 col23\" >0.223</td>\n",
       "            </tr>\n",
       "            <tr>\n",
       "                                        <th id=\"T_9fdd3a9c_ff3e_11e9_83be_d4ae52d07f78level2_row7\" class=\"row_heading level2 row7\" >pop</th>\n",
       "                        <td id=\"T_9fdd3a9c_ff3e_11e9_83be_d4ae52d07f78row7_col0\" class=\"data row7 col0\" ></td>\n",
       "                        <td id=\"T_9fdd3a9c_ff3e_11e9_83be_d4ae52d07f78row7_col1\" class=\"data row7 col1\" ></td>\n",
       "                        <td id=\"T_9fdd3a9c_ff3e_11e9_83be_d4ae52d07f78row7_col2\" class=\"data row7 col2\" ></td>\n",
       "                        <td id=\"T_9fdd3a9c_ff3e_11e9_83be_d4ae52d07f78row7_col3\" class=\"data row7 col3\" ></td>\n",
       "                        <td id=\"T_9fdd3a9c_ff3e_11e9_83be_d4ae52d07f78row7_col4\" class=\"data row7 col4\" ></td>\n",
       "                        <td id=\"T_9fdd3a9c_ff3e_11e9_83be_d4ae52d07f78row7_col5\" class=\"data row7 col5\" ></td>\n",
       "                        <td id=\"T_9fdd3a9c_ff3e_11e9_83be_d4ae52d07f78row7_col6\" class=\"data row7 col6\" ></td>\n",
       "                        <td id=\"T_9fdd3a9c_ff3e_11e9_83be_d4ae52d07f78row7_col7\" class=\"data row7 col7\" >1.000</td>\n",
       "                        <td id=\"T_9fdd3a9c_ff3e_11e9_83be_d4ae52d07f78row7_col8\" class=\"data row7 col8\" >0.399</td>\n",
       "                        <td id=\"T_9fdd3a9c_ff3e_11e9_83be_d4ae52d07f78row7_col9\" class=\"data row7 col9\" >0.473</td>\n",
       "                        <td id=\"T_9fdd3a9c_ff3e_11e9_83be_d4ae52d07f78row7_col10\" class=\"data row7 col10\" >0.620</td>\n",
       "                        <td id=\"T_9fdd3a9c_ff3e_11e9_83be_d4ae52d07f78row7_col11\" class=\"data row7 col11\" >0.371</td>\n",
       "                        <td id=\"T_9fdd3a9c_ff3e_11e9_83be_d4ae52d07f78row7_col12\" class=\"data row7 col12\" >0.343</td>\n",
       "                        <td id=\"T_9fdd3a9c_ff3e_11e9_83be_d4ae52d07f78row7_col13\" class=\"data row7 col13\" >0.409</td>\n",
       "                        <td id=\"T_9fdd3a9c_ff3e_11e9_83be_d4ae52d07f78row7_col14\" class=\"data row7 col14\" >0.285</td>\n",
       "                        <td id=\"T_9fdd3a9c_ff3e_11e9_83be_d4ae52d07f78row7_col15\" class=\"data row7 col15\" >0.261</td>\n",
       "                        <td id=\"T_9fdd3a9c_ff3e_11e9_83be_d4ae52d07f78row7_col16\" class=\"data row7 col16\" >0.328</td>\n",
       "                        <td id=\"T_9fdd3a9c_ff3e_11e9_83be_d4ae52d07f78row7_col17\" class=\"data row7 col17\" >0.288</td>\n",
       "                        <td id=\"T_9fdd3a9c_ff3e_11e9_83be_d4ae52d07f78row7_col18\" class=\"data row7 col18\" >0.271</td>\n",
       "                        <td id=\"T_9fdd3a9c_ff3e_11e9_83be_d4ae52d07f78row7_col19\" class=\"data row7 col19\" >0.376</td>\n",
       "                        <td id=\"T_9fdd3a9c_ff3e_11e9_83be_d4ae52d07f78row7_col20\" class=\"data row7 col20\" >0.313</td>\n",
       "                        <td id=\"T_9fdd3a9c_ff3e_11e9_83be_d4ae52d07f78row7_col21\" class=\"data row7 col21\" >0.244</td>\n",
       "                        <td id=\"T_9fdd3a9c_ff3e_11e9_83be_d4ae52d07f78row7_col22\" class=\"data row7 col22\" >0.290</td>\n",
       "                        <td id=\"T_9fdd3a9c_ff3e_11e9_83be_d4ae52d07f78row7_col23\" class=\"data row7 col23\" >0.292</td>\n",
       "            </tr>\n",
       "            <tr>\n",
       "                                <th id=\"T_9fdd3a9c_ff3e_11e9_83be_d4ae52d07f78level1_row8\" class=\"row_heading level1 row8\" rowspan=3>g.5km</th>\n",
       "                        <th id=\"T_9fdd3a9c_ff3e_11e9_83be_d4ae52d07f78level2_row8\" class=\"row_heading level2 row8\" >_idw10</th>\n",
       "                        <td id=\"T_9fdd3a9c_ff3e_11e9_83be_d4ae52d07f78row8_col0\" class=\"data row8 col0\" ></td>\n",
       "                        <td id=\"T_9fdd3a9c_ff3e_11e9_83be_d4ae52d07f78row8_col1\" class=\"data row8 col1\" ></td>\n",
       "                        <td id=\"T_9fdd3a9c_ff3e_11e9_83be_d4ae52d07f78row8_col2\" class=\"data row8 col2\" ></td>\n",
       "                        <td id=\"T_9fdd3a9c_ff3e_11e9_83be_d4ae52d07f78row8_col3\" class=\"data row8 col3\" ></td>\n",
       "                        <td id=\"T_9fdd3a9c_ff3e_11e9_83be_d4ae52d07f78row8_col4\" class=\"data row8 col4\" ></td>\n",
       "                        <td id=\"T_9fdd3a9c_ff3e_11e9_83be_d4ae52d07f78row8_col5\" class=\"data row8 col5\" ></td>\n",
       "                        <td id=\"T_9fdd3a9c_ff3e_11e9_83be_d4ae52d07f78row8_col6\" class=\"data row8 col6\" ></td>\n",
       "                        <td id=\"T_9fdd3a9c_ff3e_11e9_83be_d4ae52d07f78row8_col7\" class=\"data row8 col7\" ></td>\n",
       "                        <td id=\"T_9fdd3a9c_ff3e_11e9_83be_d4ae52d07f78row8_col8\" class=\"data row8 col8\" >1.000</td>\n",
       "                        <td id=\"T_9fdd3a9c_ff3e_11e9_83be_d4ae52d07f78row8_col9\" class=\"data row8 col9\" >0.466</td>\n",
       "                        <td id=\"T_9fdd3a9c_ff3e_11e9_83be_d4ae52d07f78row8_col10\" class=\"data row8 col10\" >0.529</td>\n",
       "                        <td id=\"T_9fdd3a9c_ff3e_11e9_83be_d4ae52d07f78row8_col11\" class=\"data row8 col11\" >0.414</td>\n",
       "                        <td id=\"T_9fdd3a9c_ff3e_11e9_83be_d4ae52d07f78row8_col12\" class=\"data row8 col12\" >0.338</td>\n",
       "                        <td id=\"T_9fdd3a9c_ff3e_11e9_83be_d4ae52d07f78row8_col13\" class=\"data row8 col13\" >0.362</td>\n",
       "                        <td id=\"T_9fdd3a9c_ff3e_11e9_83be_d4ae52d07f78row8_col14\" class=\"data row8 col14\" >0.371</td>\n",
       "                        <td id=\"T_9fdd3a9c_ff3e_11e9_83be_d4ae52d07f78row8_col15\" class=\"data row8 col15\" >0.327</td>\n",
       "                        <td id=\"T_9fdd3a9c_ff3e_11e9_83be_d4ae52d07f78row8_col16\" class=\"data row8 col16\" >0.433</td>\n",
       "                        <td id=\"T_9fdd3a9c_ff3e_11e9_83be_d4ae52d07f78row8_col17\" class=\"data row8 col17\" >0.288</td>\n",
       "                        <td id=\"T_9fdd3a9c_ff3e_11e9_83be_d4ae52d07f78row8_col18\" class=\"data row8 col18\" >0.345</td>\n",
       "                        <td id=\"T_9fdd3a9c_ff3e_11e9_83be_d4ae52d07f78row8_col19\" class=\"data row8 col19\" >0.371</td>\n",
       "                        <td id=\"T_9fdd3a9c_ff3e_11e9_83be_d4ae52d07f78row8_col20\" class=\"data row8 col20\" >0.413</td>\n",
       "                        <td id=\"T_9fdd3a9c_ff3e_11e9_83be_d4ae52d07f78row8_col21\" class=\"data row8 col21\" >0.349</td>\n",
       "                        <td id=\"T_9fdd3a9c_ff3e_11e9_83be_d4ae52d07f78row8_col22\" class=\"data row8 col22\" >0.400</td>\n",
       "                        <td id=\"T_9fdd3a9c_ff3e_11e9_83be_d4ae52d07f78row8_col23\" class=\"data row8 col23\" >0.351</td>\n",
       "            </tr>\n",
       "            <tr>\n",
       "                                        <th id=\"T_9fdd3a9c_ff3e_11e9_83be_d4ae52d07f78level2_row9\" class=\"row_heading level2 row9\" >area</th>\n",
       "                        <td id=\"T_9fdd3a9c_ff3e_11e9_83be_d4ae52d07f78row9_col0\" class=\"data row9 col0\" ></td>\n",
       "                        <td id=\"T_9fdd3a9c_ff3e_11e9_83be_d4ae52d07f78row9_col1\" class=\"data row9 col1\" ></td>\n",
       "                        <td id=\"T_9fdd3a9c_ff3e_11e9_83be_d4ae52d07f78row9_col2\" class=\"data row9 col2\" ></td>\n",
       "                        <td id=\"T_9fdd3a9c_ff3e_11e9_83be_d4ae52d07f78row9_col3\" class=\"data row9 col3\" ></td>\n",
       "                        <td id=\"T_9fdd3a9c_ff3e_11e9_83be_d4ae52d07f78row9_col4\" class=\"data row9 col4\" ></td>\n",
       "                        <td id=\"T_9fdd3a9c_ff3e_11e9_83be_d4ae52d07f78row9_col5\" class=\"data row9 col5\" ></td>\n",
       "                        <td id=\"T_9fdd3a9c_ff3e_11e9_83be_d4ae52d07f78row9_col6\" class=\"data row9 col6\" ></td>\n",
       "                        <td id=\"T_9fdd3a9c_ff3e_11e9_83be_d4ae52d07f78row9_col7\" class=\"data row9 col7\" ></td>\n",
       "                        <td id=\"T_9fdd3a9c_ff3e_11e9_83be_d4ae52d07f78row9_col8\" class=\"data row9 col8\" ></td>\n",
       "                        <td id=\"T_9fdd3a9c_ff3e_11e9_83be_d4ae52d07f78row9_col9\" class=\"data row9 col9\" >1.000</td>\n",
       "                        <td id=\"T_9fdd3a9c_ff3e_11e9_83be_d4ae52d07f78row9_col10\" class=\"data row9 col10\" >0.507</td>\n",
       "                        <td id=\"T_9fdd3a9c_ff3e_11e9_83be_d4ae52d07f78row9_col11\" class=\"data row9 col11\" >0.167</td>\n",
       "                        <td id=\"T_9fdd3a9c_ff3e_11e9_83be_d4ae52d07f78row9_col12\" class=\"data row9 col12\" >0.258</td>\n",
       "                        <td id=\"T_9fdd3a9c_ff3e_11e9_83be_d4ae52d07f78row9_col13\" class=\"data row9 col13\" >0.213</td>\n",
       "                        <td id=\"T_9fdd3a9c_ff3e_11e9_83be_d4ae52d07f78row9_col14\" class=\"data row9 col14\" >0.164</td>\n",
       "                        <td id=\"T_9fdd3a9c_ff3e_11e9_83be_d4ae52d07f78row9_col15\" class=\"data row9 col15\" >0.195</td>\n",
       "                        <td id=\"T_9fdd3a9c_ff3e_11e9_83be_d4ae52d07f78row9_col16\" class=\"data row9 col16\" >0.224</td>\n",
       "                        <td id=\"T_9fdd3a9c_ff3e_11e9_83be_d4ae52d07f78row9_col17\" class=\"data row9 col17\" >0.073</td>\n",
       "                        <td id=\"T_9fdd3a9c_ff3e_11e9_83be_d4ae52d07f78row9_col18\" class=\"data row9 col18\" >0.265</td>\n",
       "                        <td id=\"T_9fdd3a9c_ff3e_11e9_83be_d4ae52d07f78row9_col19\" class=\"data row9 col19\" >0.227</td>\n",
       "                        <td id=\"T_9fdd3a9c_ff3e_11e9_83be_d4ae52d07f78row9_col20\" class=\"data row9 col20\" >0.267</td>\n",
       "                        <td id=\"T_9fdd3a9c_ff3e_11e9_83be_d4ae52d07f78row9_col21\" class=\"data row9 col21\" >0.292</td>\n",
       "                        <td id=\"T_9fdd3a9c_ff3e_11e9_83be_d4ae52d07f78row9_col22\" class=\"data row9 col22\" >0.205</td>\n",
       "                        <td id=\"T_9fdd3a9c_ff3e_11e9_83be_d4ae52d07f78row9_col23\" class=\"data row9 col23\" >0.132</td>\n",
       "            </tr>\n",
       "            <tr>\n",
       "                                        <th id=\"T_9fdd3a9c_ff3e_11e9_83be_d4ae52d07f78level2_row10\" class=\"row_heading level2 row10\" >pop</th>\n",
       "                        <td id=\"T_9fdd3a9c_ff3e_11e9_83be_d4ae52d07f78row10_col0\" class=\"data row10 col0\" ></td>\n",
       "                        <td id=\"T_9fdd3a9c_ff3e_11e9_83be_d4ae52d07f78row10_col1\" class=\"data row10 col1\" ></td>\n",
       "                        <td id=\"T_9fdd3a9c_ff3e_11e9_83be_d4ae52d07f78row10_col2\" class=\"data row10 col2\" ></td>\n",
       "                        <td id=\"T_9fdd3a9c_ff3e_11e9_83be_d4ae52d07f78row10_col3\" class=\"data row10 col3\" ></td>\n",
       "                        <td id=\"T_9fdd3a9c_ff3e_11e9_83be_d4ae52d07f78row10_col4\" class=\"data row10 col4\" ></td>\n",
       "                        <td id=\"T_9fdd3a9c_ff3e_11e9_83be_d4ae52d07f78row10_col5\" class=\"data row10 col5\" ></td>\n",
       "                        <td id=\"T_9fdd3a9c_ff3e_11e9_83be_d4ae52d07f78row10_col6\" class=\"data row10 col6\" ></td>\n",
       "                        <td id=\"T_9fdd3a9c_ff3e_11e9_83be_d4ae52d07f78row10_col7\" class=\"data row10 col7\" ></td>\n",
       "                        <td id=\"T_9fdd3a9c_ff3e_11e9_83be_d4ae52d07f78row10_col8\" class=\"data row10 col8\" ></td>\n",
       "                        <td id=\"T_9fdd3a9c_ff3e_11e9_83be_d4ae52d07f78row10_col9\" class=\"data row10 col9\" ></td>\n",
       "                        <td id=\"T_9fdd3a9c_ff3e_11e9_83be_d4ae52d07f78row10_col10\" class=\"data row10 col10\" >1.000</td>\n",
       "                        <td id=\"T_9fdd3a9c_ff3e_11e9_83be_d4ae52d07f78row10_col11\" class=\"data row10 col11\" >0.416</td>\n",
       "                        <td id=\"T_9fdd3a9c_ff3e_11e9_83be_d4ae52d07f78row10_col12\" class=\"data row10 col12\" >0.328</td>\n",
       "                        <td id=\"T_9fdd3a9c_ff3e_11e9_83be_d4ae52d07f78row10_col13\" class=\"data row10 col13\" >0.393</td>\n",
       "                        <td id=\"T_9fdd3a9c_ff3e_11e9_83be_d4ae52d07f78row10_col14\" class=\"data row10 col14\" >0.328</td>\n",
       "                        <td id=\"T_9fdd3a9c_ff3e_11e9_83be_d4ae52d07f78row10_col15\" class=\"data row10 col15\" >0.253</td>\n",
       "                        <td id=\"T_9fdd3a9c_ff3e_11e9_83be_d4ae52d07f78row10_col16\" class=\"data row10 col16\" >0.331</td>\n",
       "                        <td id=\"T_9fdd3a9c_ff3e_11e9_83be_d4ae52d07f78row10_col17\" class=\"data row10 col17\" >0.346</td>\n",
       "                        <td id=\"T_9fdd3a9c_ff3e_11e9_83be_d4ae52d07f78row10_col18\" class=\"data row10 col18\" >0.276</td>\n",
       "                        <td id=\"T_9fdd3a9c_ff3e_11e9_83be_d4ae52d07f78row10_col19\" class=\"data row10 col19\" >0.379</td>\n",
       "                        <td id=\"T_9fdd3a9c_ff3e_11e9_83be_d4ae52d07f78row10_col20\" class=\"data row10 col20\" >0.333</td>\n",
       "                        <td id=\"T_9fdd3a9c_ff3e_11e9_83be_d4ae52d07f78row10_col21\" class=\"data row10 col21\" >0.252</td>\n",
       "                        <td id=\"T_9fdd3a9c_ff3e_11e9_83be_d4ae52d07f78row10_col22\" class=\"data row10 col22\" >0.301</td>\n",
       "                        <td id=\"T_9fdd3a9c_ff3e_11e9_83be_d4ae52d07f78row10_col23\" class=\"data row10 col23\" >0.338</td>\n",
       "            </tr>\n",
       "            <tr>\n",
       "                                <th id=\"T_9fdd3a9c_ff3e_11e9_83be_d4ae52d07f78level1_row11\" class=\"row_heading level1 row11\" >vor</th>\n",
       "                        <th id=\"T_9fdd3a9c_ff3e_11e9_83be_d4ae52d07f78level2_row11\" class=\"row_heading level2 row11\" ></th>\n",
       "                        <td id=\"T_9fdd3a9c_ff3e_11e9_83be_d4ae52d07f78row11_col0\" class=\"data row11 col0\" ></td>\n",
       "                        <td id=\"T_9fdd3a9c_ff3e_11e9_83be_d4ae52d07f78row11_col1\" class=\"data row11 col1\" ></td>\n",
       "                        <td id=\"T_9fdd3a9c_ff3e_11e9_83be_d4ae52d07f78row11_col2\" class=\"data row11 col2\" ></td>\n",
       "                        <td id=\"T_9fdd3a9c_ff3e_11e9_83be_d4ae52d07f78row11_col3\" class=\"data row11 col3\" ></td>\n",
       "                        <td id=\"T_9fdd3a9c_ff3e_11e9_83be_d4ae52d07f78row11_col4\" class=\"data row11 col4\" ></td>\n",
       "                        <td id=\"T_9fdd3a9c_ff3e_11e9_83be_d4ae52d07f78row11_col5\" class=\"data row11 col5\" ></td>\n",
       "                        <td id=\"T_9fdd3a9c_ff3e_11e9_83be_d4ae52d07f78row11_col6\" class=\"data row11 col6\" ></td>\n",
       "                        <td id=\"T_9fdd3a9c_ff3e_11e9_83be_d4ae52d07f78row11_col7\" class=\"data row11 col7\" ></td>\n",
       "                        <td id=\"T_9fdd3a9c_ff3e_11e9_83be_d4ae52d07f78row11_col8\" class=\"data row11 col8\" ></td>\n",
       "                        <td id=\"T_9fdd3a9c_ff3e_11e9_83be_d4ae52d07f78row11_col9\" class=\"data row11 col9\" ></td>\n",
       "                        <td id=\"T_9fdd3a9c_ff3e_11e9_83be_d4ae52d07f78row11_col10\" class=\"data row11 col10\" ></td>\n",
       "                        <td id=\"T_9fdd3a9c_ff3e_11e9_83be_d4ae52d07f78row11_col11\" class=\"data row11 col11\" >1.000</td>\n",
       "                        <td id=\"T_9fdd3a9c_ff3e_11e9_83be_d4ae52d07f78row11_col12\" class=\"data row11 col12\" >0.310</td>\n",
       "                        <td id=\"T_9fdd3a9c_ff3e_11e9_83be_d4ae52d07f78row11_col13\" class=\"data row11 col13\" >0.415</td>\n",
       "                        <td id=\"T_9fdd3a9c_ff3e_11e9_83be_d4ae52d07f78row11_col14\" class=\"data row11 col14\" >0.420</td>\n",
       "                        <td id=\"T_9fdd3a9c_ff3e_11e9_83be_d4ae52d07f78row11_col15\" class=\"data row11 col15\" >0.350</td>\n",
       "                        <td id=\"T_9fdd3a9c_ff3e_11e9_83be_d4ae52d07f78row11_col16\" class=\"data row11 col16\" >0.414</td>\n",
       "                        <td id=\"T_9fdd3a9c_ff3e_11e9_83be_d4ae52d07f78row11_col17\" class=\"data row11 col17\" >0.686</td>\n",
       "                        <td id=\"T_9fdd3a9c_ff3e_11e9_83be_d4ae52d07f78row11_col18\" class=\"data row11 col18\" >0.228</td>\n",
       "                        <td id=\"T_9fdd3a9c_ff3e_11e9_83be_d4ae52d07f78row11_col19\" class=\"data row11 col19\" >0.373</td>\n",
       "                        <td id=\"T_9fdd3a9c_ff3e_11e9_83be_d4ae52d07f78row11_col20\" class=\"data row11 col20\" >0.317</td>\n",
       "                        <td id=\"T_9fdd3a9c_ff3e_11e9_83be_d4ae52d07f78row11_col21\" class=\"data row11 col21\" >0.191</td>\n",
       "                        <td id=\"T_9fdd3a9c_ff3e_11e9_83be_d4ae52d07f78row11_col22\" class=\"data row11 col22\" >0.372</td>\n",
       "                        <td id=\"T_9fdd3a9c_ff3e_11e9_83be_d4ae52d07f78row11_col23\" class=\"data row11 col23\" >0.549</td>\n",
       "            </tr>\n",
       "            <tr>\n",
       "                        <th id=\"T_9fdd3a9c_ff3e_11e9_83be_d4ae52d07f78level0_row12\" class=\"row_heading level0 row12\" rowspan=6>PerMun_UrbanOnly</th>\n",
       "                        <th id=\"T_9fdd3a9c_ff3e_11e9_83be_d4ae52d07f78level1_row12\" class=\"row_heading level1 row12\" rowspan=2>ageb</th>\n",
       "                        <th id=\"T_9fdd3a9c_ff3e_11e9_83be_d4ae52d07f78level2_row12\" class=\"row_heading level2 row12\" >area</th>\n",
       "                        <td id=\"T_9fdd3a9c_ff3e_11e9_83be_d4ae52d07f78row12_col0\" class=\"data row12 col0\" ></td>\n",
       "                        <td id=\"T_9fdd3a9c_ff3e_11e9_83be_d4ae52d07f78row12_col1\" class=\"data row12 col1\" ></td>\n",
       "                        <td id=\"T_9fdd3a9c_ff3e_11e9_83be_d4ae52d07f78row12_col2\" class=\"data row12 col2\" ></td>\n",
       "                        <td id=\"T_9fdd3a9c_ff3e_11e9_83be_d4ae52d07f78row12_col3\" class=\"data row12 col3\" ></td>\n",
       "                        <td id=\"T_9fdd3a9c_ff3e_11e9_83be_d4ae52d07f78row12_col4\" class=\"data row12 col4\" ></td>\n",
       "                        <td id=\"T_9fdd3a9c_ff3e_11e9_83be_d4ae52d07f78row12_col5\" class=\"data row12 col5\" ></td>\n",
       "                        <td id=\"T_9fdd3a9c_ff3e_11e9_83be_d4ae52d07f78row12_col6\" class=\"data row12 col6\" ></td>\n",
       "                        <td id=\"T_9fdd3a9c_ff3e_11e9_83be_d4ae52d07f78row12_col7\" class=\"data row12 col7\" ></td>\n",
       "                        <td id=\"T_9fdd3a9c_ff3e_11e9_83be_d4ae52d07f78row12_col8\" class=\"data row12 col8\" ></td>\n",
       "                        <td id=\"T_9fdd3a9c_ff3e_11e9_83be_d4ae52d07f78row12_col9\" class=\"data row12 col9\" ></td>\n",
       "                        <td id=\"T_9fdd3a9c_ff3e_11e9_83be_d4ae52d07f78row12_col10\" class=\"data row12 col10\" ></td>\n",
       "                        <td id=\"T_9fdd3a9c_ff3e_11e9_83be_d4ae52d07f78row12_col11\" class=\"data row12 col11\" ></td>\n",
       "                        <td id=\"T_9fdd3a9c_ff3e_11e9_83be_d4ae52d07f78row12_col12\" class=\"data row12 col12\" >1.000</td>\n",
       "                        <td id=\"T_9fdd3a9c_ff3e_11e9_83be_d4ae52d07f78row12_col13\" class=\"data row12 col13\" >0.619</td>\n",
       "                        <td id=\"T_9fdd3a9c_ff3e_11e9_83be_d4ae52d07f78row12_col14\" class=\"data row12 col14\" >0.607</td>\n",
       "                        <td id=\"T_9fdd3a9c_ff3e_11e9_83be_d4ae52d07f78row12_col15\" class=\"data row12 col15\" >0.755</td>\n",
       "                        <td id=\"T_9fdd3a9c_ff3e_11e9_83be_d4ae52d07f78row12_col16\" class=\"data row12 col16\" >0.576</td>\n",
       "                        <td id=\"T_9fdd3a9c_ff3e_11e9_83be_d4ae52d07f78row12_col17\" class=\"data row12 col17\" >0.323</td>\n",
       "                        <td id=\"T_9fdd3a9c_ff3e_11e9_83be_d4ae52d07f78row12_col18\" class=\"data row12 col18\" >0.682</td>\n",
       "                        <td id=\"T_9fdd3a9c_ff3e_11e9_83be_d4ae52d07f78row12_col19\" class=\"data row12 col19\" >0.572</td>\n",
       "                        <td id=\"T_9fdd3a9c_ff3e_11e9_83be_d4ae52d07f78row12_col20\" class=\"data row12 col20\" >0.605</td>\n",
       "                        <td id=\"T_9fdd3a9c_ff3e_11e9_83be_d4ae52d07f78row12_col21\" class=\"data row12 col21\" >0.618</td>\n",
       "                        <td id=\"T_9fdd3a9c_ff3e_11e9_83be_d4ae52d07f78row12_col22\" class=\"data row12 col22\" >0.536</td>\n",
       "                        <td id=\"T_9fdd3a9c_ff3e_11e9_83be_d4ae52d07f78row12_col23\" class=\"data row12 col23\" >0.357</td>\n",
       "            </tr>\n",
       "            <tr>\n",
       "                                        <th id=\"T_9fdd3a9c_ff3e_11e9_83be_d4ae52d07f78level2_row13\" class=\"row_heading level2 row13\" >pop</th>\n",
       "                        <td id=\"T_9fdd3a9c_ff3e_11e9_83be_d4ae52d07f78row13_col0\" class=\"data row13 col0\" ></td>\n",
       "                        <td id=\"T_9fdd3a9c_ff3e_11e9_83be_d4ae52d07f78row13_col1\" class=\"data row13 col1\" ></td>\n",
       "                        <td id=\"T_9fdd3a9c_ff3e_11e9_83be_d4ae52d07f78row13_col2\" class=\"data row13 col2\" ></td>\n",
       "                        <td id=\"T_9fdd3a9c_ff3e_11e9_83be_d4ae52d07f78row13_col3\" class=\"data row13 col3\" ></td>\n",
       "                        <td id=\"T_9fdd3a9c_ff3e_11e9_83be_d4ae52d07f78row13_col4\" class=\"data row13 col4\" ></td>\n",
       "                        <td id=\"T_9fdd3a9c_ff3e_11e9_83be_d4ae52d07f78row13_col5\" class=\"data row13 col5\" ></td>\n",
       "                        <td id=\"T_9fdd3a9c_ff3e_11e9_83be_d4ae52d07f78row13_col6\" class=\"data row13 col6\" ></td>\n",
       "                        <td id=\"T_9fdd3a9c_ff3e_11e9_83be_d4ae52d07f78row13_col7\" class=\"data row13 col7\" ></td>\n",
       "                        <td id=\"T_9fdd3a9c_ff3e_11e9_83be_d4ae52d07f78row13_col8\" class=\"data row13 col8\" ></td>\n",
       "                        <td id=\"T_9fdd3a9c_ff3e_11e9_83be_d4ae52d07f78row13_col9\" class=\"data row13 col9\" ></td>\n",
       "                        <td id=\"T_9fdd3a9c_ff3e_11e9_83be_d4ae52d07f78row13_col10\" class=\"data row13 col10\" ></td>\n",
       "                        <td id=\"T_9fdd3a9c_ff3e_11e9_83be_d4ae52d07f78row13_col11\" class=\"data row13 col11\" ></td>\n",
       "                        <td id=\"T_9fdd3a9c_ff3e_11e9_83be_d4ae52d07f78row13_col12\" class=\"data row13 col12\" ></td>\n",
       "                        <td id=\"T_9fdd3a9c_ff3e_11e9_83be_d4ae52d07f78row13_col13\" class=\"data row13 col13\" >1.000</td>\n",
       "                        <td id=\"T_9fdd3a9c_ff3e_11e9_83be_d4ae52d07f78row13_col14\" class=\"data row13 col14\" >0.640</td>\n",
       "                        <td id=\"T_9fdd3a9c_ff3e_11e9_83be_d4ae52d07f78row13_col15\" class=\"data row13 col15\" >0.640</td>\n",
       "                        <td id=\"T_9fdd3a9c_ff3e_11e9_83be_d4ae52d07f78row13_col16\" class=\"data row13 col16\" >0.735</td>\n",
       "                        <td id=\"T_9fdd3a9c_ff3e_11e9_83be_d4ae52d07f78row13_col17\" class=\"data row13 col17\" >0.396</td>\n",
       "                        <td id=\"T_9fdd3a9c_ff3e_11e9_83be_d4ae52d07f78row13_col18\" class=\"data row13 col18\" >0.572</td>\n",
       "                        <td id=\"T_9fdd3a9c_ff3e_11e9_83be_d4ae52d07f78row13_col19\" class=\"data row13 col19\" >0.794</td>\n",
       "                        <td id=\"T_9fdd3a9c_ff3e_11e9_83be_d4ae52d07f78row13_col20\" class=\"data row13 col20\" >0.591</td>\n",
       "                        <td id=\"T_9fdd3a9c_ff3e_11e9_83be_d4ae52d07f78row13_col21\" class=\"data row13 col21\" >0.527</td>\n",
       "                        <td id=\"T_9fdd3a9c_ff3e_11e9_83be_d4ae52d07f78row13_col22\" class=\"data row13 col22\" >0.695</td>\n",
       "                        <td id=\"T_9fdd3a9c_ff3e_11e9_83be_d4ae52d07f78row13_col23\" class=\"data row13 col23\" >0.504</td>\n",
       "            </tr>\n",
       "            <tr>\n",
       "                                <th id=\"T_9fdd3a9c_ff3e_11e9_83be_d4ae52d07f78level1_row14\" class=\"row_heading level1 row14\" rowspan=3>g.5km</th>\n",
       "                        <th id=\"T_9fdd3a9c_ff3e_11e9_83be_d4ae52d07f78level2_row14\" class=\"row_heading level2 row14\" >_idw10</th>\n",
       "                        <td id=\"T_9fdd3a9c_ff3e_11e9_83be_d4ae52d07f78row14_col0\" class=\"data row14 col0\" ></td>\n",
       "                        <td id=\"T_9fdd3a9c_ff3e_11e9_83be_d4ae52d07f78row14_col1\" class=\"data row14 col1\" ></td>\n",
       "                        <td id=\"T_9fdd3a9c_ff3e_11e9_83be_d4ae52d07f78row14_col2\" class=\"data row14 col2\" ></td>\n",
       "                        <td id=\"T_9fdd3a9c_ff3e_11e9_83be_d4ae52d07f78row14_col3\" class=\"data row14 col3\" ></td>\n",
       "                        <td id=\"T_9fdd3a9c_ff3e_11e9_83be_d4ae52d07f78row14_col4\" class=\"data row14 col4\" ></td>\n",
       "                        <td id=\"T_9fdd3a9c_ff3e_11e9_83be_d4ae52d07f78row14_col5\" class=\"data row14 col5\" ></td>\n",
       "                        <td id=\"T_9fdd3a9c_ff3e_11e9_83be_d4ae52d07f78row14_col6\" class=\"data row14 col6\" ></td>\n",
       "                        <td id=\"T_9fdd3a9c_ff3e_11e9_83be_d4ae52d07f78row14_col7\" class=\"data row14 col7\" ></td>\n",
       "                        <td id=\"T_9fdd3a9c_ff3e_11e9_83be_d4ae52d07f78row14_col8\" class=\"data row14 col8\" ></td>\n",
       "                        <td id=\"T_9fdd3a9c_ff3e_11e9_83be_d4ae52d07f78row14_col9\" class=\"data row14 col9\" ></td>\n",
       "                        <td id=\"T_9fdd3a9c_ff3e_11e9_83be_d4ae52d07f78row14_col10\" class=\"data row14 col10\" ></td>\n",
       "                        <td id=\"T_9fdd3a9c_ff3e_11e9_83be_d4ae52d07f78row14_col11\" class=\"data row14 col11\" ></td>\n",
       "                        <td id=\"T_9fdd3a9c_ff3e_11e9_83be_d4ae52d07f78row14_col12\" class=\"data row14 col12\" ></td>\n",
       "                        <td id=\"T_9fdd3a9c_ff3e_11e9_83be_d4ae52d07f78row14_col13\" class=\"data row14 col13\" ></td>\n",
       "                        <td id=\"T_9fdd3a9c_ff3e_11e9_83be_d4ae52d07f78row14_col14\" class=\"data row14 col14\" >1.000</td>\n",
       "                        <td id=\"T_9fdd3a9c_ff3e_11e9_83be_d4ae52d07f78row14_col15\" class=\"data row14 col15\" >0.736</td>\n",
       "                        <td id=\"T_9fdd3a9c_ff3e_11e9_83be_d4ae52d07f78row14_col16\" class=\"data row14 col16\" >0.693</td>\n",
       "                        <td id=\"T_9fdd3a9c_ff3e_11e9_83be_d4ae52d07f78row14_col17\" class=\"data row14 col17\" >0.443</td>\n",
       "                        <td id=\"T_9fdd3a9c_ff3e_11e9_83be_d4ae52d07f78row14_col18\" class=\"data row14 col18\" >0.647</td>\n",
       "                        <td id=\"T_9fdd3a9c_ff3e_11e9_83be_d4ae52d07f78row14_col19\" class=\"data row14 col19\" >0.670</td>\n",
       "                        <td id=\"T_9fdd3a9c_ff3e_11e9_83be_d4ae52d07f78row14_col20\" class=\"data row14 col20\" >0.736</td>\n",
       "                        <td id=\"T_9fdd3a9c_ff3e_11e9_83be_d4ae52d07f78row14_col21\" class=\"data row14 col21\" >0.587</td>\n",
       "                        <td id=\"T_9fdd3a9c_ff3e_11e9_83be_d4ae52d07f78row14_col22\" class=\"data row14 col22\" >0.667</td>\n",
       "                        <td id=\"T_9fdd3a9c_ff3e_11e9_83be_d4ae52d07f78row14_col23\" class=\"data row14 col23\" >0.462</td>\n",
       "            </tr>\n",
       "            <tr>\n",
       "                                        <th id=\"T_9fdd3a9c_ff3e_11e9_83be_d4ae52d07f78level2_row15\" class=\"row_heading level2 row15\" >area</th>\n",
       "                        <td id=\"T_9fdd3a9c_ff3e_11e9_83be_d4ae52d07f78row15_col0\" class=\"data row15 col0\" ></td>\n",
       "                        <td id=\"T_9fdd3a9c_ff3e_11e9_83be_d4ae52d07f78row15_col1\" class=\"data row15 col1\" ></td>\n",
       "                        <td id=\"T_9fdd3a9c_ff3e_11e9_83be_d4ae52d07f78row15_col2\" class=\"data row15 col2\" ></td>\n",
       "                        <td id=\"T_9fdd3a9c_ff3e_11e9_83be_d4ae52d07f78row15_col3\" class=\"data row15 col3\" ></td>\n",
       "                        <td id=\"T_9fdd3a9c_ff3e_11e9_83be_d4ae52d07f78row15_col4\" class=\"data row15 col4\" ></td>\n",
       "                        <td id=\"T_9fdd3a9c_ff3e_11e9_83be_d4ae52d07f78row15_col5\" class=\"data row15 col5\" ></td>\n",
       "                        <td id=\"T_9fdd3a9c_ff3e_11e9_83be_d4ae52d07f78row15_col6\" class=\"data row15 col6\" ></td>\n",
       "                        <td id=\"T_9fdd3a9c_ff3e_11e9_83be_d4ae52d07f78row15_col7\" class=\"data row15 col7\" ></td>\n",
       "                        <td id=\"T_9fdd3a9c_ff3e_11e9_83be_d4ae52d07f78row15_col8\" class=\"data row15 col8\" ></td>\n",
       "                        <td id=\"T_9fdd3a9c_ff3e_11e9_83be_d4ae52d07f78row15_col9\" class=\"data row15 col9\" ></td>\n",
       "                        <td id=\"T_9fdd3a9c_ff3e_11e9_83be_d4ae52d07f78row15_col10\" class=\"data row15 col10\" ></td>\n",
       "                        <td id=\"T_9fdd3a9c_ff3e_11e9_83be_d4ae52d07f78row15_col11\" class=\"data row15 col11\" ></td>\n",
       "                        <td id=\"T_9fdd3a9c_ff3e_11e9_83be_d4ae52d07f78row15_col12\" class=\"data row15 col12\" ></td>\n",
       "                        <td id=\"T_9fdd3a9c_ff3e_11e9_83be_d4ae52d07f78row15_col13\" class=\"data row15 col13\" ></td>\n",
       "                        <td id=\"T_9fdd3a9c_ff3e_11e9_83be_d4ae52d07f78row15_col14\" class=\"data row15 col14\" ></td>\n",
       "                        <td id=\"T_9fdd3a9c_ff3e_11e9_83be_d4ae52d07f78row15_col15\" class=\"data row15 col15\" >1.000</td>\n",
       "                        <td id=\"T_9fdd3a9c_ff3e_11e9_83be_d4ae52d07f78row15_col16\" class=\"data row15 col16\" >0.721</td>\n",
       "                        <td id=\"T_9fdd3a9c_ff3e_11e9_83be_d4ae52d07f78row15_col17\" class=\"data row15 col17\" >0.379</td>\n",
       "                        <td id=\"T_9fdd3a9c_ff3e_11e9_83be_d4ae52d07f78row15_col18\" class=\"data row15 col18\" >0.717</td>\n",
       "                        <td id=\"T_9fdd3a9c_ff3e_11e9_83be_d4ae52d07f78row15_col19\" class=\"data row15 col19\" >0.668</td>\n",
       "                        <td id=\"T_9fdd3a9c_ff3e_11e9_83be_d4ae52d07f78row15_col20\" class=\"data row15 col20\" >0.731</td>\n",
       "                        <td id=\"T_9fdd3a9c_ff3e_11e9_83be_d4ae52d07f78row15_col21\" class=\"data row15 col21\" >0.702</td>\n",
       "                        <td id=\"T_9fdd3a9c_ff3e_11e9_83be_d4ae52d07f78row15_col22\" class=\"data row15 col22\" >0.693</td>\n",
       "                        <td id=\"T_9fdd3a9c_ff3e_11e9_83be_d4ae52d07f78row15_col23\" class=\"data row15 col23\" >0.404</td>\n",
       "            </tr>\n",
       "            <tr>\n",
       "                                        <th id=\"T_9fdd3a9c_ff3e_11e9_83be_d4ae52d07f78level2_row16\" class=\"row_heading level2 row16\" >pop</th>\n",
       "                        <td id=\"T_9fdd3a9c_ff3e_11e9_83be_d4ae52d07f78row16_col0\" class=\"data row16 col0\" ></td>\n",
       "                        <td id=\"T_9fdd3a9c_ff3e_11e9_83be_d4ae52d07f78row16_col1\" class=\"data row16 col1\" ></td>\n",
       "                        <td id=\"T_9fdd3a9c_ff3e_11e9_83be_d4ae52d07f78row16_col2\" class=\"data row16 col2\" ></td>\n",
       "                        <td id=\"T_9fdd3a9c_ff3e_11e9_83be_d4ae52d07f78row16_col3\" class=\"data row16 col3\" ></td>\n",
       "                        <td id=\"T_9fdd3a9c_ff3e_11e9_83be_d4ae52d07f78row16_col4\" class=\"data row16 col4\" ></td>\n",
       "                        <td id=\"T_9fdd3a9c_ff3e_11e9_83be_d4ae52d07f78row16_col5\" class=\"data row16 col5\" ></td>\n",
       "                        <td id=\"T_9fdd3a9c_ff3e_11e9_83be_d4ae52d07f78row16_col6\" class=\"data row16 col6\" ></td>\n",
       "                        <td id=\"T_9fdd3a9c_ff3e_11e9_83be_d4ae52d07f78row16_col7\" class=\"data row16 col7\" ></td>\n",
       "                        <td id=\"T_9fdd3a9c_ff3e_11e9_83be_d4ae52d07f78row16_col8\" class=\"data row16 col8\" ></td>\n",
       "                        <td id=\"T_9fdd3a9c_ff3e_11e9_83be_d4ae52d07f78row16_col9\" class=\"data row16 col9\" ></td>\n",
       "                        <td id=\"T_9fdd3a9c_ff3e_11e9_83be_d4ae52d07f78row16_col10\" class=\"data row16 col10\" ></td>\n",
       "                        <td id=\"T_9fdd3a9c_ff3e_11e9_83be_d4ae52d07f78row16_col11\" class=\"data row16 col11\" ></td>\n",
       "                        <td id=\"T_9fdd3a9c_ff3e_11e9_83be_d4ae52d07f78row16_col12\" class=\"data row16 col12\" ></td>\n",
       "                        <td id=\"T_9fdd3a9c_ff3e_11e9_83be_d4ae52d07f78row16_col13\" class=\"data row16 col13\" ></td>\n",
       "                        <td id=\"T_9fdd3a9c_ff3e_11e9_83be_d4ae52d07f78row16_col14\" class=\"data row16 col14\" ></td>\n",
       "                        <td id=\"T_9fdd3a9c_ff3e_11e9_83be_d4ae52d07f78row16_col15\" class=\"data row16 col15\" ></td>\n",
       "                        <td id=\"T_9fdd3a9c_ff3e_11e9_83be_d4ae52d07f78row16_col16\" class=\"data row16 col16\" >1.000</td>\n",
       "                        <td id=\"T_9fdd3a9c_ff3e_11e9_83be_d4ae52d07f78row16_col17\" class=\"data row16 col17\" >0.390</td>\n",
       "                        <td id=\"T_9fdd3a9c_ff3e_11e9_83be_d4ae52d07f78row16_col18\" class=\"data row16 col18\" >0.613</td>\n",
       "                        <td id=\"T_9fdd3a9c_ff3e_11e9_83be_d4ae52d07f78row16_col19\" class=\"data row16 col19\" >0.807</td>\n",
       "                        <td id=\"T_9fdd3a9c_ff3e_11e9_83be_d4ae52d07f78row16_col20\" class=\"data row16 col20\" >0.723</td>\n",
       "                        <td id=\"T_9fdd3a9c_ff3e_11e9_83be_d4ae52d07f78row16_col21\" class=\"data row16 col21\" >0.628</td>\n",
       "                        <td id=\"T_9fdd3a9c_ff3e_11e9_83be_d4ae52d07f78row16_col22\" class=\"data row16 col22\" >0.885</td>\n",
       "                        <td id=\"T_9fdd3a9c_ff3e_11e9_83be_d4ae52d07f78row16_col23\" class=\"data row16 col23\" >0.529</td>\n",
       "            </tr>\n",
       "            <tr>\n",
       "                                <th id=\"T_9fdd3a9c_ff3e_11e9_83be_d4ae52d07f78level1_row17\" class=\"row_heading level1 row17\" >vor</th>\n",
       "                        <th id=\"T_9fdd3a9c_ff3e_11e9_83be_d4ae52d07f78level2_row17\" class=\"row_heading level2 row17\" ></th>\n",
       "                        <td id=\"T_9fdd3a9c_ff3e_11e9_83be_d4ae52d07f78row17_col0\" class=\"data row17 col0\" ></td>\n",
       "                        <td id=\"T_9fdd3a9c_ff3e_11e9_83be_d4ae52d07f78row17_col1\" class=\"data row17 col1\" ></td>\n",
       "                        <td id=\"T_9fdd3a9c_ff3e_11e9_83be_d4ae52d07f78row17_col2\" class=\"data row17 col2\" ></td>\n",
       "                        <td id=\"T_9fdd3a9c_ff3e_11e9_83be_d4ae52d07f78row17_col3\" class=\"data row17 col3\" ></td>\n",
       "                        <td id=\"T_9fdd3a9c_ff3e_11e9_83be_d4ae52d07f78row17_col4\" class=\"data row17 col4\" ></td>\n",
       "                        <td id=\"T_9fdd3a9c_ff3e_11e9_83be_d4ae52d07f78row17_col5\" class=\"data row17 col5\" ></td>\n",
       "                        <td id=\"T_9fdd3a9c_ff3e_11e9_83be_d4ae52d07f78row17_col6\" class=\"data row17 col6\" ></td>\n",
       "                        <td id=\"T_9fdd3a9c_ff3e_11e9_83be_d4ae52d07f78row17_col7\" class=\"data row17 col7\" ></td>\n",
       "                        <td id=\"T_9fdd3a9c_ff3e_11e9_83be_d4ae52d07f78row17_col8\" class=\"data row17 col8\" ></td>\n",
       "                        <td id=\"T_9fdd3a9c_ff3e_11e9_83be_d4ae52d07f78row17_col9\" class=\"data row17 col9\" ></td>\n",
       "                        <td id=\"T_9fdd3a9c_ff3e_11e9_83be_d4ae52d07f78row17_col10\" class=\"data row17 col10\" ></td>\n",
       "                        <td id=\"T_9fdd3a9c_ff3e_11e9_83be_d4ae52d07f78row17_col11\" class=\"data row17 col11\" ></td>\n",
       "                        <td id=\"T_9fdd3a9c_ff3e_11e9_83be_d4ae52d07f78row17_col12\" class=\"data row17 col12\" ></td>\n",
       "                        <td id=\"T_9fdd3a9c_ff3e_11e9_83be_d4ae52d07f78row17_col13\" class=\"data row17 col13\" ></td>\n",
       "                        <td id=\"T_9fdd3a9c_ff3e_11e9_83be_d4ae52d07f78row17_col14\" class=\"data row17 col14\" ></td>\n",
       "                        <td id=\"T_9fdd3a9c_ff3e_11e9_83be_d4ae52d07f78row17_col15\" class=\"data row17 col15\" ></td>\n",
       "                        <td id=\"T_9fdd3a9c_ff3e_11e9_83be_d4ae52d07f78row17_col16\" class=\"data row17 col16\" ></td>\n",
       "                        <td id=\"T_9fdd3a9c_ff3e_11e9_83be_d4ae52d07f78row17_col17\" class=\"data row17 col17\" >1.000</td>\n",
       "                        <td id=\"T_9fdd3a9c_ff3e_11e9_83be_d4ae52d07f78row17_col18\" class=\"data row17 col18\" >0.242</td>\n",
       "                        <td id=\"T_9fdd3a9c_ff3e_11e9_83be_d4ae52d07f78row17_col19\" class=\"data row17 col19\" >0.372</td>\n",
       "                        <td id=\"T_9fdd3a9c_ff3e_11e9_83be_d4ae52d07f78row17_col20\" class=\"data row17 col20\" >0.339</td>\n",
       "                        <td id=\"T_9fdd3a9c_ff3e_11e9_83be_d4ae52d07f78row17_col21\" class=\"data row17 col21\" >0.223</td>\n",
       "                        <td id=\"T_9fdd3a9c_ff3e_11e9_83be_d4ae52d07f78row17_col22\" class=\"data row17 col22\" >0.355</td>\n",
       "                        <td id=\"T_9fdd3a9c_ff3e_11e9_83be_d4ae52d07f78row17_col23\" class=\"data row17 col23\" >0.676</td>\n",
       "            </tr>\n",
       "            <tr>\n",
       "                        <th id=\"T_9fdd3a9c_ff3e_11e9_83be_d4ae52d07f78level0_row18\" class=\"row_heading level0 row18\" rowspan=6>PerMun_UrbanRural</th>\n",
       "                        <th id=\"T_9fdd3a9c_ff3e_11e9_83be_d4ae52d07f78level1_row18\" class=\"row_heading level1 row18\" rowspan=2>ageb</th>\n",
       "                        <th id=\"T_9fdd3a9c_ff3e_11e9_83be_d4ae52d07f78level2_row18\" class=\"row_heading level2 row18\" >area</th>\n",
       "                        <td id=\"T_9fdd3a9c_ff3e_11e9_83be_d4ae52d07f78row18_col0\" class=\"data row18 col0\" ></td>\n",
       "                        <td id=\"T_9fdd3a9c_ff3e_11e9_83be_d4ae52d07f78row18_col1\" class=\"data row18 col1\" ></td>\n",
       "                        <td id=\"T_9fdd3a9c_ff3e_11e9_83be_d4ae52d07f78row18_col2\" class=\"data row18 col2\" ></td>\n",
       "                        <td id=\"T_9fdd3a9c_ff3e_11e9_83be_d4ae52d07f78row18_col3\" class=\"data row18 col3\" ></td>\n",
       "                        <td id=\"T_9fdd3a9c_ff3e_11e9_83be_d4ae52d07f78row18_col4\" class=\"data row18 col4\" ></td>\n",
       "                        <td id=\"T_9fdd3a9c_ff3e_11e9_83be_d4ae52d07f78row18_col5\" class=\"data row18 col5\" ></td>\n",
       "                        <td id=\"T_9fdd3a9c_ff3e_11e9_83be_d4ae52d07f78row18_col6\" class=\"data row18 col6\" ></td>\n",
       "                        <td id=\"T_9fdd3a9c_ff3e_11e9_83be_d4ae52d07f78row18_col7\" class=\"data row18 col7\" ></td>\n",
       "                        <td id=\"T_9fdd3a9c_ff3e_11e9_83be_d4ae52d07f78row18_col8\" class=\"data row18 col8\" ></td>\n",
       "                        <td id=\"T_9fdd3a9c_ff3e_11e9_83be_d4ae52d07f78row18_col9\" class=\"data row18 col9\" ></td>\n",
       "                        <td id=\"T_9fdd3a9c_ff3e_11e9_83be_d4ae52d07f78row18_col10\" class=\"data row18 col10\" ></td>\n",
       "                        <td id=\"T_9fdd3a9c_ff3e_11e9_83be_d4ae52d07f78row18_col11\" class=\"data row18 col11\" ></td>\n",
       "                        <td id=\"T_9fdd3a9c_ff3e_11e9_83be_d4ae52d07f78row18_col12\" class=\"data row18 col12\" ></td>\n",
       "                        <td id=\"T_9fdd3a9c_ff3e_11e9_83be_d4ae52d07f78row18_col13\" class=\"data row18 col13\" ></td>\n",
       "                        <td id=\"T_9fdd3a9c_ff3e_11e9_83be_d4ae52d07f78row18_col14\" class=\"data row18 col14\" ></td>\n",
       "                        <td id=\"T_9fdd3a9c_ff3e_11e9_83be_d4ae52d07f78row18_col15\" class=\"data row18 col15\" ></td>\n",
       "                        <td id=\"T_9fdd3a9c_ff3e_11e9_83be_d4ae52d07f78row18_col16\" class=\"data row18 col16\" ></td>\n",
       "                        <td id=\"T_9fdd3a9c_ff3e_11e9_83be_d4ae52d07f78row18_col17\" class=\"data row18 col17\" ></td>\n",
       "                        <td id=\"T_9fdd3a9c_ff3e_11e9_83be_d4ae52d07f78row18_col18\" class=\"data row18 col18\" >1.000</td>\n",
       "                        <td id=\"T_9fdd3a9c_ff3e_11e9_83be_d4ae52d07f78row18_col19\" class=\"data row18 col19\" >0.624</td>\n",
       "                        <td id=\"T_9fdd3a9c_ff3e_11e9_83be_d4ae52d07f78row18_col20\" class=\"data row18 col20\" >0.708</td>\n",
       "                        <td id=\"T_9fdd3a9c_ff3e_11e9_83be_d4ae52d07f78row18_col21\" class=\"data row18 col21\" >0.749</td>\n",
       "                        <td id=\"T_9fdd3a9c_ff3e_11e9_83be_d4ae52d07f78row18_col22\" class=\"data row18 col22\" >0.639</td>\n",
       "                        <td id=\"T_9fdd3a9c_ff3e_11e9_83be_d4ae52d07f78row18_col23\" class=\"data row18 col23\" >0.324</td>\n",
       "            </tr>\n",
       "            <tr>\n",
       "                                        <th id=\"T_9fdd3a9c_ff3e_11e9_83be_d4ae52d07f78level2_row19\" class=\"row_heading level2 row19\" >pop</th>\n",
       "                        <td id=\"T_9fdd3a9c_ff3e_11e9_83be_d4ae52d07f78row19_col0\" class=\"data row19 col0\" ></td>\n",
       "                        <td id=\"T_9fdd3a9c_ff3e_11e9_83be_d4ae52d07f78row19_col1\" class=\"data row19 col1\" ></td>\n",
       "                        <td id=\"T_9fdd3a9c_ff3e_11e9_83be_d4ae52d07f78row19_col2\" class=\"data row19 col2\" ></td>\n",
       "                        <td id=\"T_9fdd3a9c_ff3e_11e9_83be_d4ae52d07f78row19_col3\" class=\"data row19 col3\" ></td>\n",
       "                        <td id=\"T_9fdd3a9c_ff3e_11e9_83be_d4ae52d07f78row19_col4\" class=\"data row19 col4\" ></td>\n",
       "                        <td id=\"T_9fdd3a9c_ff3e_11e9_83be_d4ae52d07f78row19_col5\" class=\"data row19 col5\" ></td>\n",
       "                        <td id=\"T_9fdd3a9c_ff3e_11e9_83be_d4ae52d07f78row19_col6\" class=\"data row19 col6\" ></td>\n",
       "                        <td id=\"T_9fdd3a9c_ff3e_11e9_83be_d4ae52d07f78row19_col7\" class=\"data row19 col7\" ></td>\n",
       "                        <td id=\"T_9fdd3a9c_ff3e_11e9_83be_d4ae52d07f78row19_col8\" class=\"data row19 col8\" ></td>\n",
       "                        <td id=\"T_9fdd3a9c_ff3e_11e9_83be_d4ae52d07f78row19_col9\" class=\"data row19 col9\" ></td>\n",
       "                        <td id=\"T_9fdd3a9c_ff3e_11e9_83be_d4ae52d07f78row19_col10\" class=\"data row19 col10\" ></td>\n",
       "                        <td id=\"T_9fdd3a9c_ff3e_11e9_83be_d4ae52d07f78row19_col11\" class=\"data row19 col11\" ></td>\n",
       "                        <td id=\"T_9fdd3a9c_ff3e_11e9_83be_d4ae52d07f78row19_col12\" class=\"data row19 col12\" ></td>\n",
       "                        <td id=\"T_9fdd3a9c_ff3e_11e9_83be_d4ae52d07f78row19_col13\" class=\"data row19 col13\" ></td>\n",
       "                        <td id=\"T_9fdd3a9c_ff3e_11e9_83be_d4ae52d07f78row19_col14\" class=\"data row19 col14\" ></td>\n",
       "                        <td id=\"T_9fdd3a9c_ff3e_11e9_83be_d4ae52d07f78row19_col15\" class=\"data row19 col15\" ></td>\n",
       "                        <td id=\"T_9fdd3a9c_ff3e_11e9_83be_d4ae52d07f78row19_col16\" class=\"data row19 col16\" ></td>\n",
       "                        <td id=\"T_9fdd3a9c_ff3e_11e9_83be_d4ae52d07f78row19_col17\" class=\"data row19 col17\" ></td>\n",
       "                        <td id=\"T_9fdd3a9c_ff3e_11e9_83be_d4ae52d07f78row19_col18\" class=\"data row19 col18\" ></td>\n",
       "                        <td id=\"T_9fdd3a9c_ff3e_11e9_83be_d4ae52d07f78row19_col19\" class=\"data row19 col19\" >1.000</td>\n",
       "                        <td id=\"T_9fdd3a9c_ff3e_11e9_83be_d4ae52d07f78row19_col20\" class=\"data row19 col20\" >0.656</td>\n",
       "                        <td id=\"T_9fdd3a9c_ff3e_11e9_83be_d4ae52d07f78row19_col21\" class=\"data row19 col21\" >0.608</td>\n",
       "                        <td id=\"T_9fdd3a9c_ff3e_11e9_83be_d4ae52d07f78row19_col22\" class=\"data row19 col22\" >0.809</td>\n",
       "                        <td id=\"T_9fdd3a9c_ff3e_11e9_83be_d4ae52d07f78row19_col23\" class=\"data row19 col23\" >0.476</td>\n",
       "            </tr>\n",
       "            <tr>\n",
       "                                <th id=\"T_9fdd3a9c_ff3e_11e9_83be_d4ae52d07f78level1_row20\" class=\"row_heading level1 row20\" rowspan=3>g.5km</th>\n",
       "                        <th id=\"T_9fdd3a9c_ff3e_11e9_83be_d4ae52d07f78level2_row20\" class=\"row_heading level2 row20\" >_idw10</th>\n",
       "                        <td id=\"T_9fdd3a9c_ff3e_11e9_83be_d4ae52d07f78row20_col0\" class=\"data row20 col0\" ></td>\n",
       "                        <td id=\"T_9fdd3a9c_ff3e_11e9_83be_d4ae52d07f78row20_col1\" class=\"data row20 col1\" ></td>\n",
       "                        <td id=\"T_9fdd3a9c_ff3e_11e9_83be_d4ae52d07f78row20_col2\" class=\"data row20 col2\" ></td>\n",
       "                        <td id=\"T_9fdd3a9c_ff3e_11e9_83be_d4ae52d07f78row20_col3\" class=\"data row20 col3\" ></td>\n",
       "                        <td id=\"T_9fdd3a9c_ff3e_11e9_83be_d4ae52d07f78row20_col4\" class=\"data row20 col4\" ></td>\n",
       "                        <td id=\"T_9fdd3a9c_ff3e_11e9_83be_d4ae52d07f78row20_col5\" class=\"data row20 col5\" ></td>\n",
       "                        <td id=\"T_9fdd3a9c_ff3e_11e9_83be_d4ae52d07f78row20_col6\" class=\"data row20 col6\" ></td>\n",
       "                        <td id=\"T_9fdd3a9c_ff3e_11e9_83be_d4ae52d07f78row20_col7\" class=\"data row20 col7\" ></td>\n",
       "                        <td id=\"T_9fdd3a9c_ff3e_11e9_83be_d4ae52d07f78row20_col8\" class=\"data row20 col8\" ></td>\n",
       "                        <td id=\"T_9fdd3a9c_ff3e_11e9_83be_d4ae52d07f78row20_col9\" class=\"data row20 col9\" ></td>\n",
       "                        <td id=\"T_9fdd3a9c_ff3e_11e9_83be_d4ae52d07f78row20_col10\" class=\"data row20 col10\" ></td>\n",
       "                        <td id=\"T_9fdd3a9c_ff3e_11e9_83be_d4ae52d07f78row20_col11\" class=\"data row20 col11\" ></td>\n",
       "                        <td id=\"T_9fdd3a9c_ff3e_11e9_83be_d4ae52d07f78row20_col12\" class=\"data row20 col12\" ></td>\n",
       "                        <td id=\"T_9fdd3a9c_ff3e_11e9_83be_d4ae52d07f78row20_col13\" class=\"data row20 col13\" ></td>\n",
       "                        <td id=\"T_9fdd3a9c_ff3e_11e9_83be_d4ae52d07f78row20_col14\" class=\"data row20 col14\" ></td>\n",
       "                        <td id=\"T_9fdd3a9c_ff3e_11e9_83be_d4ae52d07f78row20_col15\" class=\"data row20 col15\" ></td>\n",
       "                        <td id=\"T_9fdd3a9c_ff3e_11e9_83be_d4ae52d07f78row20_col16\" class=\"data row20 col16\" ></td>\n",
       "                        <td id=\"T_9fdd3a9c_ff3e_11e9_83be_d4ae52d07f78row20_col17\" class=\"data row20 col17\" ></td>\n",
       "                        <td id=\"T_9fdd3a9c_ff3e_11e9_83be_d4ae52d07f78row20_col18\" class=\"data row20 col18\" ></td>\n",
       "                        <td id=\"T_9fdd3a9c_ff3e_11e9_83be_d4ae52d07f78row20_col19\" class=\"data row20 col19\" ></td>\n",
       "                        <td id=\"T_9fdd3a9c_ff3e_11e9_83be_d4ae52d07f78row20_col20\" class=\"data row20 col20\" >1.000</td>\n",
       "                        <td id=\"T_9fdd3a9c_ff3e_11e9_83be_d4ae52d07f78row20_col21\" class=\"data row20 col21\" >0.730</td>\n",
       "                        <td id=\"T_9fdd3a9c_ff3e_11e9_83be_d4ae52d07f78row20_col22\" class=\"data row20 col22\" >0.704</td>\n",
       "                        <td id=\"T_9fdd3a9c_ff3e_11e9_83be_d4ae52d07f78row20_col23\" class=\"data row20 col23\" >0.420</td>\n",
       "            </tr>\n",
       "            <tr>\n",
       "                                        <th id=\"T_9fdd3a9c_ff3e_11e9_83be_d4ae52d07f78level2_row21\" class=\"row_heading level2 row21\" >area</th>\n",
       "                        <td id=\"T_9fdd3a9c_ff3e_11e9_83be_d4ae52d07f78row21_col0\" class=\"data row21 col0\" ></td>\n",
       "                        <td id=\"T_9fdd3a9c_ff3e_11e9_83be_d4ae52d07f78row21_col1\" class=\"data row21 col1\" ></td>\n",
       "                        <td id=\"T_9fdd3a9c_ff3e_11e9_83be_d4ae52d07f78row21_col2\" class=\"data row21 col2\" ></td>\n",
       "                        <td id=\"T_9fdd3a9c_ff3e_11e9_83be_d4ae52d07f78row21_col3\" class=\"data row21 col3\" ></td>\n",
       "                        <td id=\"T_9fdd3a9c_ff3e_11e9_83be_d4ae52d07f78row21_col4\" class=\"data row21 col4\" ></td>\n",
       "                        <td id=\"T_9fdd3a9c_ff3e_11e9_83be_d4ae52d07f78row21_col5\" class=\"data row21 col5\" ></td>\n",
       "                        <td id=\"T_9fdd3a9c_ff3e_11e9_83be_d4ae52d07f78row21_col6\" class=\"data row21 col6\" ></td>\n",
       "                        <td id=\"T_9fdd3a9c_ff3e_11e9_83be_d4ae52d07f78row21_col7\" class=\"data row21 col7\" ></td>\n",
       "                        <td id=\"T_9fdd3a9c_ff3e_11e9_83be_d4ae52d07f78row21_col8\" class=\"data row21 col8\" ></td>\n",
       "                        <td id=\"T_9fdd3a9c_ff3e_11e9_83be_d4ae52d07f78row21_col9\" class=\"data row21 col9\" ></td>\n",
       "                        <td id=\"T_9fdd3a9c_ff3e_11e9_83be_d4ae52d07f78row21_col10\" class=\"data row21 col10\" ></td>\n",
       "                        <td id=\"T_9fdd3a9c_ff3e_11e9_83be_d4ae52d07f78row21_col11\" class=\"data row21 col11\" ></td>\n",
       "                        <td id=\"T_9fdd3a9c_ff3e_11e9_83be_d4ae52d07f78row21_col12\" class=\"data row21 col12\" ></td>\n",
       "                        <td id=\"T_9fdd3a9c_ff3e_11e9_83be_d4ae52d07f78row21_col13\" class=\"data row21 col13\" ></td>\n",
       "                        <td id=\"T_9fdd3a9c_ff3e_11e9_83be_d4ae52d07f78row21_col14\" class=\"data row21 col14\" ></td>\n",
       "                        <td id=\"T_9fdd3a9c_ff3e_11e9_83be_d4ae52d07f78row21_col15\" class=\"data row21 col15\" ></td>\n",
       "                        <td id=\"T_9fdd3a9c_ff3e_11e9_83be_d4ae52d07f78row21_col16\" class=\"data row21 col16\" ></td>\n",
       "                        <td id=\"T_9fdd3a9c_ff3e_11e9_83be_d4ae52d07f78row21_col17\" class=\"data row21 col17\" ></td>\n",
       "                        <td id=\"T_9fdd3a9c_ff3e_11e9_83be_d4ae52d07f78row21_col18\" class=\"data row21 col18\" ></td>\n",
       "                        <td id=\"T_9fdd3a9c_ff3e_11e9_83be_d4ae52d07f78row21_col19\" class=\"data row21 col19\" ></td>\n",
       "                        <td id=\"T_9fdd3a9c_ff3e_11e9_83be_d4ae52d07f78row21_col20\" class=\"data row21 col20\" ></td>\n",
       "                        <td id=\"T_9fdd3a9c_ff3e_11e9_83be_d4ae52d07f78row21_col21\" class=\"data row21 col21\" >1.000</td>\n",
       "                        <td id=\"T_9fdd3a9c_ff3e_11e9_83be_d4ae52d07f78row21_col22\" class=\"data row21 col22\" >0.628</td>\n",
       "                        <td id=\"T_9fdd3a9c_ff3e_11e9_83be_d4ae52d07f78row21_col23\" class=\"data row21 col23\" >0.317</td>\n",
       "            </tr>\n",
       "            <tr>\n",
       "                                        <th id=\"T_9fdd3a9c_ff3e_11e9_83be_d4ae52d07f78level2_row22\" class=\"row_heading level2 row22\" >pop</th>\n",
       "                        <td id=\"T_9fdd3a9c_ff3e_11e9_83be_d4ae52d07f78row22_col0\" class=\"data row22 col0\" ></td>\n",
       "                        <td id=\"T_9fdd3a9c_ff3e_11e9_83be_d4ae52d07f78row22_col1\" class=\"data row22 col1\" ></td>\n",
       "                        <td id=\"T_9fdd3a9c_ff3e_11e9_83be_d4ae52d07f78row22_col2\" class=\"data row22 col2\" ></td>\n",
       "                        <td id=\"T_9fdd3a9c_ff3e_11e9_83be_d4ae52d07f78row22_col3\" class=\"data row22 col3\" ></td>\n",
       "                        <td id=\"T_9fdd3a9c_ff3e_11e9_83be_d4ae52d07f78row22_col4\" class=\"data row22 col4\" ></td>\n",
       "                        <td id=\"T_9fdd3a9c_ff3e_11e9_83be_d4ae52d07f78row22_col5\" class=\"data row22 col5\" ></td>\n",
       "                        <td id=\"T_9fdd3a9c_ff3e_11e9_83be_d4ae52d07f78row22_col6\" class=\"data row22 col6\" ></td>\n",
       "                        <td id=\"T_9fdd3a9c_ff3e_11e9_83be_d4ae52d07f78row22_col7\" class=\"data row22 col7\" ></td>\n",
       "                        <td id=\"T_9fdd3a9c_ff3e_11e9_83be_d4ae52d07f78row22_col8\" class=\"data row22 col8\" ></td>\n",
       "                        <td id=\"T_9fdd3a9c_ff3e_11e9_83be_d4ae52d07f78row22_col9\" class=\"data row22 col9\" ></td>\n",
       "                        <td id=\"T_9fdd3a9c_ff3e_11e9_83be_d4ae52d07f78row22_col10\" class=\"data row22 col10\" ></td>\n",
       "                        <td id=\"T_9fdd3a9c_ff3e_11e9_83be_d4ae52d07f78row22_col11\" class=\"data row22 col11\" ></td>\n",
       "                        <td id=\"T_9fdd3a9c_ff3e_11e9_83be_d4ae52d07f78row22_col12\" class=\"data row22 col12\" ></td>\n",
       "                        <td id=\"T_9fdd3a9c_ff3e_11e9_83be_d4ae52d07f78row22_col13\" class=\"data row22 col13\" ></td>\n",
       "                        <td id=\"T_9fdd3a9c_ff3e_11e9_83be_d4ae52d07f78row22_col14\" class=\"data row22 col14\" ></td>\n",
       "                        <td id=\"T_9fdd3a9c_ff3e_11e9_83be_d4ae52d07f78row22_col15\" class=\"data row22 col15\" ></td>\n",
       "                        <td id=\"T_9fdd3a9c_ff3e_11e9_83be_d4ae52d07f78row22_col16\" class=\"data row22 col16\" ></td>\n",
       "                        <td id=\"T_9fdd3a9c_ff3e_11e9_83be_d4ae52d07f78row22_col17\" class=\"data row22 col17\" ></td>\n",
       "                        <td id=\"T_9fdd3a9c_ff3e_11e9_83be_d4ae52d07f78row22_col18\" class=\"data row22 col18\" ></td>\n",
       "                        <td id=\"T_9fdd3a9c_ff3e_11e9_83be_d4ae52d07f78row22_col19\" class=\"data row22 col19\" ></td>\n",
       "                        <td id=\"T_9fdd3a9c_ff3e_11e9_83be_d4ae52d07f78row22_col20\" class=\"data row22 col20\" ></td>\n",
       "                        <td id=\"T_9fdd3a9c_ff3e_11e9_83be_d4ae52d07f78row22_col21\" class=\"data row22 col21\" ></td>\n",
       "                        <td id=\"T_9fdd3a9c_ff3e_11e9_83be_d4ae52d07f78row22_col22\" class=\"data row22 col22\" >1.000</td>\n",
       "                        <td id=\"T_9fdd3a9c_ff3e_11e9_83be_d4ae52d07f78row22_col23\" class=\"data row22 col23\" >0.508</td>\n",
       "            </tr>\n",
       "            <tr>\n",
       "                                <th id=\"T_9fdd3a9c_ff3e_11e9_83be_d4ae52d07f78level1_row23\" class=\"row_heading level1 row23\" >vor</th>\n",
       "                        <th id=\"T_9fdd3a9c_ff3e_11e9_83be_d4ae52d07f78level2_row23\" class=\"row_heading level2 row23\" ></th>\n",
       "                        <td id=\"T_9fdd3a9c_ff3e_11e9_83be_d4ae52d07f78row23_col0\" class=\"data row23 col0\" ></td>\n",
       "                        <td id=\"T_9fdd3a9c_ff3e_11e9_83be_d4ae52d07f78row23_col1\" class=\"data row23 col1\" ></td>\n",
       "                        <td id=\"T_9fdd3a9c_ff3e_11e9_83be_d4ae52d07f78row23_col2\" class=\"data row23 col2\" ></td>\n",
       "                        <td id=\"T_9fdd3a9c_ff3e_11e9_83be_d4ae52d07f78row23_col3\" class=\"data row23 col3\" ></td>\n",
       "                        <td id=\"T_9fdd3a9c_ff3e_11e9_83be_d4ae52d07f78row23_col4\" class=\"data row23 col4\" ></td>\n",
       "                        <td id=\"T_9fdd3a9c_ff3e_11e9_83be_d4ae52d07f78row23_col5\" class=\"data row23 col5\" ></td>\n",
       "                        <td id=\"T_9fdd3a9c_ff3e_11e9_83be_d4ae52d07f78row23_col6\" class=\"data row23 col6\" ></td>\n",
       "                        <td id=\"T_9fdd3a9c_ff3e_11e9_83be_d4ae52d07f78row23_col7\" class=\"data row23 col7\" ></td>\n",
       "                        <td id=\"T_9fdd3a9c_ff3e_11e9_83be_d4ae52d07f78row23_col8\" class=\"data row23 col8\" ></td>\n",
       "                        <td id=\"T_9fdd3a9c_ff3e_11e9_83be_d4ae52d07f78row23_col9\" class=\"data row23 col9\" ></td>\n",
       "                        <td id=\"T_9fdd3a9c_ff3e_11e9_83be_d4ae52d07f78row23_col10\" class=\"data row23 col10\" ></td>\n",
       "                        <td id=\"T_9fdd3a9c_ff3e_11e9_83be_d4ae52d07f78row23_col11\" class=\"data row23 col11\" ></td>\n",
       "                        <td id=\"T_9fdd3a9c_ff3e_11e9_83be_d4ae52d07f78row23_col12\" class=\"data row23 col12\" ></td>\n",
       "                        <td id=\"T_9fdd3a9c_ff3e_11e9_83be_d4ae52d07f78row23_col13\" class=\"data row23 col13\" ></td>\n",
       "                        <td id=\"T_9fdd3a9c_ff3e_11e9_83be_d4ae52d07f78row23_col14\" class=\"data row23 col14\" ></td>\n",
       "                        <td id=\"T_9fdd3a9c_ff3e_11e9_83be_d4ae52d07f78row23_col15\" class=\"data row23 col15\" ></td>\n",
       "                        <td id=\"T_9fdd3a9c_ff3e_11e9_83be_d4ae52d07f78row23_col16\" class=\"data row23 col16\" ></td>\n",
       "                        <td id=\"T_9fdd3a9c_ff3e_11e9_83be_d4ae52d07f78row23_col17\" class=\"data row23 col17\" ></td>\n",
       "                        <td id=\"T_9fdd3a9c_ff3e_11e9_83be_d4ae52d07f78row23_col18\" class=\"data row23 col18\" ></td>\n",
       "                        <td id=\"T_9fdd3a9c_ff3e_11e9_83be_d4ae52d07f78row23_col19\" class=\"data row23 col19\" ></td>\n",
       "                        <td id=\"T_9fdd3a9c_ff3e_11e9_83be_d4ae52d07f78row23_col20\" class=\"data row23 col20\" ></td>\n",
       "                        <td id=\"T_9fdd3a9c_ff3e_11e9_83be_d4ae52d07f78row23_col21\" class=\"data row23 col21\" ></td>\n",
       "                        <td id=\"T_9fdd3a9c_ff3e_11e9_83be_d4ae52d07f78row23_col22\" class=\"data row23 col22\" ></td>\n",
       "                        <td id=\"T_9fdd3a9c_ff3e_11e9_83be_d4ae52d07f78row23_col23\" class=\"data row23 col23\" >1.000</td>\n",
       "            </tr>\n",
       "    </tbody></table>"
      ],
      "text/plain": [
       "<IPython.core.display.HTML object>"
      ]
     },
     "metadata": {},
     "output_type": "display_data"
    }
   ],
   "source": [
    "\n",
    "swap_df = comp_ken_tau\n",
    "\n",
    "display(grad_bg(swap_df.T.sort_index(level=0).T.sort_index(level=0), mask_tril=True))\n",
    "\n",
    "# swap_df = swap(swap_df, 0,2)\n",
    "# # display(grad_bg(swap_df))\n",
    "# swap_df = swap(swap_df, 1,2)\n",
    "# display(grad_bg(swap_df))"
   ]
  },
  {
   "cell_type": "code",
   "execution_count": 236,
   "metadata": {
    "ExecuteTime": {
     "end_time": "2019-11-04T02:49:33.486757Z",
     "start_time": "2019-11-04T02:49:31.310525Z"
    },
    "code_folding": [],
    "collapsed": true
   },
   "outputs": [
    {
     "name": "stdout",
     "output_type": "stream",
     "text": [
      "('whole_uNr', 'ageb', 'area')\n"
     ]
    },
    {
     "data": {
      "application/vnd.plotly.v1+json": {
       "config": {
        "linkText": "Export to plot.ly",
        "plotlyServerURL": "https://plot.ly",
        "showLink": false
       },
       "data": [
        {
         "mode": "lines+markers",
         "name": "('whole_uNr', 'ageb', 'area')",
         "type": "scatter",
         "x": [
          "zm40",
          "zm5",
          "zm39",
          "zm3",
          "zm37",
          "zm6",
          "zm30",
          "zm17",
          "zm49",
          "zm12",
          "zm44",
          "zm54",
          "zm42",
          "zm23",
          "zm25",
          "zm4",
          "zm48",
          "zm41",
          "zm9",
          "zm8",
          "zm51",
          "zm53",
          "zm36",
          "zm33",
          "zm50",
          "zm7",
          "zm10",
          "zm57",
          "zm47",
          "zm35",
          "zm43",
          "zm1",
          "zm55",
          "zm14",
          "zm18",
          "zm56",
          "zm2",
          "zm32",
          "zm26",
          "zm16",
          "zm38",
          "zm24",
          "zm31",
          "zm59",
          "zm45",
          "zm29",
          "zm22",
          "zm28",
          "zm11",
          "zm34",
          "zm21",
          "zm27",
          "zm46",
          "zm52",
          "zm15",
          "zm13",
          "zm19",
          "zm20",
          "zm58"
         ],
         "y": [
          0.021072290220803237,
          0.026366474460331073,
          0.030157976268462915,
          0.03129225905450303,
          0.04169194637586093,
          0.04365360981975309,
          0.04479460843678001,
          0.046382422986570256,
          0.047788169192226615,
          0.04826301299081995,
          0.04851376558383321,
          0.05202109327419096,
          0.05532274620913075,
          0.055491080123619425,
          0.06007383973778938,
          0.06386632926797976,
          0.06426200002297358,
          0.0646984022562156,
          0.06564591602694374,
          0.06733184847730384,
          0.06934384023883619,
          0.07141198935922456,
          0.07434058902736473,
          0.07516894699031267,
          0.07648249961535254,
          0.07992933893837842,
          0.08236113845573553,
          0.08438157811467852,
          0.08661466527375337,
          0.08979323151970826,
          0.09194048161732826,
          0.0961596238575681,
          0.0982570690257714,
          0.09865141261901006,
          0.09901565879821272,
          0.09959475378725936,
          0.10135068486549283,
          0.10199962835898503,
          0.1022155316636354,
          0.10576676342274507,
          0.10783840588240036,
          0.11212952440994955,
          0.11336962497163817,
          0.11472078887148861,
          0.11795450344472526,
          0.13143280043721417,
          0.1326002464138579,
          0.13974017801255892,
          0.1474092873701707,
          0.15405283857085125,
          0.15968880599047172,
          0.16144970605360875,
          0.1725728650547424,
          0.17341163962351902,
          0.18257555077018003,
          0.2048952026722198,
          0.2623736306712111,
          0.2693922403062062,
          0.4508153524551732
         ]
        },
        {
         "mode": "lines+markers",
         "name": "('whole_urb', 'ageb', 'area')",
         "type": "scatter",
         "x": [
          "zm40",
          "zm5",
          "zm39",
          "zm3",
          "zm37",
          "zm6",
          "zm30",
          "zm17",
          "zm49",
          "zm12",
          "zm44",
          "zm54",
          "zm42",
          "zm23",
          "zm25",
          "zm4",
          "zm48",
          "zm41",
          "zm9",
          "zm8",
          "zm51",
          "zm53",
          "zm36",
          "zm33",
          "zm50",
          "zm7",
          "zm10",
          "zm57",
          "zm47",
          "zm35",
          "zm43",
          "zm1",
          "zm55",
          "zm14",
          "zm18",
          "zm56",
          "zm2",
          "zm32",
          "zm26",
          "zm16",
          "zm38",
          "zm24",
          "zm31",
          "zm59",
          "zm45",
          "zm29",
          "zm22",
          "zm28",
          "zm11",
          "zm34",
          "zm21",
          "zm27",
          "zm46",
          "zm52",
          "zm15",
          "zm13",
          "zm19",
          "zm20",
          "zm58"
         ],
         "y": [
          0.025218996140195918,
          0.027352320265741095,
          0.024471400469232518,
          0.028387904243280866,
          0.04169194637586093,
          0.044164252838983876,
          0.04167433250288301,
          0.04911384960873441,
          0.036783631534994726,
          0.049863731671873385,
          0.04930655945600387,
          0.03018015691648725,
          0.05532274620913075,
          0.04880982881357909,
          0.059367197490068385,
          0.06318247223487593,
          0.05802572313403244,
          0.0646984022562156,
          0.03781099254586765,
          0.060122207826957416,
          0.04427791554095275,
          0.06703981061491528,
          0.07363336285296983,
          0.07516894699031267,
          0.07571262240243243,
          0.07245725355834122,
          0.08356011209992527,
          0.07793435832908725,
          0.08835447696147557,
          0.08979323151970826,
          0.10093966332931208,
          0.09454860246742773,
          0.0982570690257714,
          0.10070999586281101,
          0.09006893830884549,
          0.1060285969324601,
          0.10171491578501703,
          0.10234109259093208,
          0.1044144212425472,
          0.11750301365034152,
          0.10382661319988193,
          0.11573874058444278,
          0.11470894896394447,
          0.11989961427462945,
          0.11914921877846203,
          0.11744772486272984,
          0.08799927483671878,
          0.13054204839480155,
          0.1474092873701707,
          0.15360007144559462,
          0.16164883880600947,
          0.11604655335212011,
          0.16702932845812013,
          0.18111426823293528,
          0.12002529771420219,
          0.2062373718706164,
          0.051831183217010864,
          0.21582495128687024,
          0.30778194452248236
         ]
        },
        {
         "mode": "lines+markers",
         "name": "('perMun_uNr', 'ageb', 'area')",
         "type": "scatter",
         "x": [
          "zm40",
          "zm5",
          "zm39",
          "zm3",
          "zm37",
          "zm6",
          "zm30",
          "zm17",
          "zm49",
          "zm12",
          "zm44",
          "zm54",
          "zm42",
          "zm23",
          "zm25",
          "zm4",
          "zm48",
          "zm41",
          "zm9",
          "zm8",
          "zm51",
          "zm53",
          "zm36",
          "zm33",
          "zm50",
          "zm7",
          "zm10",
          "zm57",
          "zm47",
          "zm35",
          "zm43",
          "zm1",
          "zm55",
          "zm14",
          "zm18",
          "zm56",
          "zm2",
          "zm32",
          "zm26",
          "zm16",
          "zm38",
          "zm24",
          "zm31",
          "zm59",
          "zm45",
          "zm29",
          "zm22",
          "zm28",
          "zm11",
          "zm34",
          "zm21",
          "zm27",
          "zm46",
          "zm52",
          "zm15",
          "zm13",
          "zm19",
          "zm20",
          "zm58"
         ],
         "y": [
          0.048699525050900576,
          0.0763576171450203,
          0.05255303612928151,
          0.03129225905450303,
          0.14320656239929308,
          0.1310519177726319,
          0.0920923031127086,
          0.12374403257074207,
          0.28955314426550965,
          0.1500156387236692,
          0.04851376558383321,
          0.1971195978954118,
          0.3322752427906566,
          0.07606460364540747,
          0.20177924638486702,
          0.11670686434920235,
          0.2778412990742602,
          0.09229534382727768,
          0.15715870393667936,
          0.2233165606924119,
          0.1619186673943982,
          0.4121322114557929,
          0.14792436970003603,
          0.5050643610943855,
          0.4009245540580868,
          0.18849323188797054,
          0.2797125360490861,
          0.3265381661526389,
          0.3011181216103591,
          0.1465004179674901,
          0.18757623720366412,
          0.17770349807093216,
          0.25133843696335423,
          0.42838634224482147,
          0.3753971015134557,
          0.13563527756878582,
          0.3579997522808856,
          0.4481852271629834,
          0.11162340580722763,
          0.1193215392765938,
          0.10254262229011525,
          0.34909780998456436,
          0.2298930082602907,
          0.2032187323580143,
          0.11795450344472526,
          0.3481378574738782,
          0.1574300766835036,
          0.36440255359318824,
          0.1474092873701707,
          0.526142460261372,
          0.2971864351053829,
          0.2544630420569273,
          0.3887868922115756,
          0.3393292770580125,
          0.18191282272305112,
          0.3937299320123429,
          0.47882070689831396,
          0.4344874926968599,
          0.3856075403355691
         ]
        },
        {
         "mode": "lines+markers",
         "name": "('perMun_urb', 'ageb', 'area')",
         "type": "scatter",
         "x": [
          "zm40",
          "zm5",
          "zm39",
          "zm3",
          "zm37",
          "zm6",
          "zm30",
          "zm17",
          "zm49",
          "zm12",
          "zm44",
          "zm54",
          "zm42",
          "zm23",
          "zm25",
          "zm4",
          "zm48",
          "zm41",
          "zm9",
          "zm8",
          "zm51",
          "zm53",
          "zm36",
          "zm33",
          "zm50",
          "zm7",
          "zm10",
          "zm57",
          "zm47",
          "zm35",
          "zm43",
          "zm1",
          "zm55",
          "zm14",
          "zm18",
          "zm56",
          "zm2",
          "zm32",
          "zm26",
          "zm16",
          "zm38",
          "zm24",
          "zm31",
          "zm59",
          "zm45",
          "zm29",
          "zm22",
          "zm28",
          "zm11",
          "zm34",
          "zm21",
          "zm27",
          "zm46",
          "zm52",
          "zm15",
          "zm13",
          "zm19",
          "zm20",
          "zm58"
         ],
         "y": [
          0.05301933408522179,
          0.07564948821708767,
          0.0564083390546767,
          0.028387904243280866,
          0.12557992659555292,
          0.10020022326653472,
          0.0712079992537526,
          0.17902504761124674,
          0.17768689195195544,
          0.07008659957294723,
          0.04930655945600387,
          0.09494668403202337,
          0.27483854430772364,
          0.03968248457007547,
          0.14476273314267918,
          0.10046003581726369,
          0.2525095725197467,
          0.16279825287382182,
          0.15214467136428994,
          0.13527350802933752,
          0.10268887616569432,
          0.177095857470856,
          0.12131821383068894,
          0.4125102333656669,
          0.30367111661888757,
          0.11135798578266397,
          0.210907913604137,
          0.35975774415855516,
          0.14932387775923323,
          0.08979323151970826,
          0.18462968449552303,
          0.11784390336798081,
          0.1654735892278391,
          0.26657951919844186,
          0.24790501569486695,
          0.15103541848479712,
          0.3130649420927927,
          0.30629985934031567,
          0.1044144212425472,
          0.11632681247340876,
          0.10179267043915234,
          0.24604425258036855,
          0.21983709882986113,
          0.2115914075525575,
          0.11914921877846203,
          0.3274624409937636,
          0.15421370460674397,
          0.28249254776875765,
          0.1474092873701707,
          0.4892507829698541,
          0.2413648867654571,
          0.10385511719095153,
          0.40376064306909326,
          0.2666368930089601,
          0.10094722669888298,
          0.3266139205369314,
          0.25638909045019925,
          0.35794795751988795,
          0.31914600422285483
         ]
        },
        {
         "mode": "lines+markers",
         "name": "('whole_uNr', 'ageb', 'pop')",
         "type": "scatter",
         "x": [
          "zm40",
          "zm5",
          "zm39",
          "zm3",
          "zm37",
          "zm6",
          "zm30",
          "zm17",
          "zm49",
          "zm12",
          "zm44",
          "zm54",
          "zm42",
          "zm23",
          "zm25",
          "zm4",
          "zm48",
          "zm41",
          "zm9",
          "zm8",
          "zm51",
          "zm53",
          "zm36",
          "zm33",
          "zm50",
          "zm7",
          "zm10",
          "zm57",
          "zm47",
          "zm35",
          "zm43",
          "zm1",
          "zm55",
          "zm14",
          "zm18",
          "zm56",
          "zm2",
          "zm32",
          "zm26",
          "zm16",
          "zm38",
          "zm24",
          "zm31",
          "zm59",
          "zm45",
          "zm29",
          "zm22",
          "zm28",
          "zm11",
          "zm34",
          "zm21",
          "zm27",
          "zm46",
          "zm52",
          "zm15",
          "zm13",
          "zm19",
          "zm20",
          "zm58"
         ],
         "y": [
          0.0764859903731221,
          0.05988623274130886,
          0.039224076071307575,
          0.2550858416065683,
          0.07159853981724097,
          0.054622247480939856,
          0.05311434263234333,
          0.08572537411510632,
          0.04513219126579117,
          0.05491393842859986,
          0.06018554244062721,
          0.045612233474922534,
          0.09640712566844506,
          0.1401671865554429,
          0.06433719434954278,
          0.07263173812801543,
          0.07239291158816888,
          0.059515109221081774,
          0.10662074093548433,
          0.07955060295457964,
          0.12234619258003036,
          0.07656967839817014,
          0.0951171257046256,
          0.04328831679016475,
          0.10104933563542796,
          0.09178988955683308,
          0.08864404222983135,
          0.16222002609603636,
          0.12545459546222557,
          0.07861303003462645,
          0.12374552172247794,
          0.09945928348918781,
          0.10388857536907997,
          0.10461480097028175,
          0.10546002412415222,
          0.1103595864032457,
          0.11303700658447739,
          0.10248251815159695,
          0.10648447802296562,
          0.1064070800800367,
          0.10314988574917337,
          0.13619584635667484,
          0.1419611548921654,
          0.15325889715521482,
          0.1335782032370791,
          0.2922488342674247,
          0.15881290553304264,
          0.19179383338251724,
          0.12843507440280094,
          0.2538506817974747,
          0.21758145399771353,
          0.29709414883426166,
          0.13172372325715218,
          0.1430963794774075,
          0.08779563202165803,
          0.20770723759571585,
          0.16681644761480519,
          0.3355018406448671,
          0.37363710863355665
         ]
        },
        {
         "mode": "lines+markers",
         "name": "('whole_urb', 'ageb', 'pop')",
         "type": "scatter",
         "x": [
          "zm40",
          "zm5",
          "zm39",
          "zm3",
          "zm37",
          "zm6",
          "zm30",
          "zm17",
          "zm49",
          "zm12",
          "zm44",
          "zm54",
          "zm42",
          "zm23",
          "zm25",
          "zm4",
          "zm48",
          "zm41",
          "zm9",
          "zm8",
          "zm51",
          "zm53",
          "zm36",
          "zm33",
          "zm50",
          "zm7",
          "zm10",
          "zm57",
          "zm47",
          "zm35",
          "zm43",
          "zm1",
          "zm55",
          "zm14",
          "zm18",
          "zm56",
          "zm2",
          "zm32",
          "zm26",
          "zm16",
          "zm38",
          "zm24",
          "zm31",
          "zm59",
          "zm45",
          "zm29",
          "zm22",
          "zm28",
          "zm11",
          "zm34",
          "zm21",
          "zm27",
          "zm46",
          "zm52",
          "zm15",
          "zm13",
          "zm19",
          "zm20",
          "zm58"
         ],
         "y": [
          0.05524542392709395,
          0.059024368013462655,
          0.03118680596011243,
          0.327854501307942,
          0.06212679264762308,
          0.05445362617088309,
          0.05271680362155647,
          0.08652197624243471,
          0.04443519784463803,
          0.04772098007952796,
          0.06021624749807574,
          0.03729331953379799,
          0.09640712566844506,
          0.1401671865554429,
          0.06326250475264586,
          0.06887854931319656,
          0.07225099775218104,
          0.06287776708121537,
          0.060655005305387595,
          0.07990230142363533,
          0.13234476221989402,
          0.07346982640223827,
          0.09538998822679393,
          0.04298204874087267,
          0.10185002054723247,
          0.09178988955683308,
          0.08864404222983135,
          0.13773757699493155,
          0.12645598825776685,
          0.07934307437148323,
          0.12105994535642368,
          0.1003589436327831,
          0.10388857536907997,
          0.10469503795041912,
          0.10380706760390083,
          0.11010130793948744,
          0.11066797864229024,
          0.10248251815159695,
          0.10648447802296562,
          0.09636381211381082,
          0.10379976673060197,
          0.1355743122445604,
          0.13486527198453305,
          0.16610095122030072,
          0.1335782032370791,
          0.28568577457648353,
          0.15881290553304264,
          0.17655800196158827,
          0.12843507440280094,
          0.2538506817974747,
          0.1968754456124515,
          0.1948206291540723,
          0.13241949825845126,
          0.1430963794774075,
          0.07434859739316763,
          0.20946313605028466,
          0.1032206552849619,
          0.2584767287414603,
          0.20023610635856282
         ]
        },
        {
         "mode": "lines+markers",
         "name": "('perMun_uNr', 'ageb', 'pop')",
         "type": "scatter",
         "x": [
          "zm40",
          "zm5",
          "zm39",
          "zm3",
          "zm37",
          "zm6",
          "zm30",
          "zm17",
          "zm49",
          "zm12",
          "zm44",
          "zm54",
          "zm42",
          "zm23",
          "zm25",
          "zm4",
          "zm48",
          "zm41",
          "zm9",
          "zm8",
          "zm51",
          "zm53",
          "zm36",
          "zm33",
          "zm50",
          "zm7",
          "zm10",
          "zm57",
          "zm47",
          "zm35",
          "zm43",
          "zm1",
          "zm55",
          "zm14",
          "zm18",
          "zm56",
          "zm2",
          "zm32",
          "zm26",
          "zm16",
          "zm38",
          "zm24",
          "zm31",
          "zm59",
          "zm45",
          "zm29",
          "zm22",
          "zm28",
          "zm11",
          "zm34",
          "zm21",
          "zm27",
          "zm46",
          "zm52",
          "zm15",
          "zm13",
          "zm19",
          "zm20",
          "zm58"
         ],
         "y": [
          0.08534957869426323,
          0.09003091770759646,
          0.05774610234897333,
          0.2550858416065683,
          0.1257714591947611,
          0.10104914587139564,
          0.08922553401745387,
          0.25416200592579424,
          0.2645591007620998,
          0.1563192239314416,
          0.06018554244062721,
          0.14791189701711793,
          0.29831436313447945,
          0.2075244248514523,
          0.18302210608057726,
          0.15676416347584546,
          0.3721171724410076,
          0.11179516873316996,
          0.13958866580787174,
          0.14300236924194434,
          0.18496013900855757,
          0.41382556962712636,
          0.2010217516968123,
          0.34325645155157336,
          0.33674918999759024,
          0.5120599162286903,
          0.24004609009291192,
          0.38893940002781274,
          0.33763783864435515,
          0.15255660600628737,
          0.18897175063568522,
          0.1881697045714955,
          0.2546237869026386,
          0.3434866007544212,
          0.3548021578950673,
          0.16157525447431448,
          0.36342167274804454,
          0.41726104480401915,
          0.17889823522739573,
          0.10406690544395884,
          0.10289438482452214,
          0.36665333993669913,
          0.22981605263570887,
          0.2008567485070612,
          0.1335782032370791,
          0.30160408875712447,
          0.2047208112985108,
          0.3560519617471679,
          0.12843507440280094,
          0.4484095053454103,
          0.26454714181674943,
          0.4398543654949708,
          0.3846669895073758,
          0.2856470233798534,
          0.08769529253136085,
          0.3515590328815601,
          0.250039656355674,
          0.44048591184900227,
          0.38421581349025913
         ]
        },
        {
         "mode": "lines+markers",
         "name": "('perMun_urb', 'ageb', 'pop')",
         "type": "scatter",
         "x": [
          "zm40",
          "zm5",
          "zm39",
          "zm3",
          "zm37",
          "zm6",
          "zm30",
          "zm17",
          "zm49",
          "zm12",
          "zm44",
          "zm54",
          "zm42",
          "zm23",
          "zm25",
          "zm4",
          "zm48",
          "zm41",
          "zm9",
          "zm8",
          "zm51",
          "zm53",
          "zm36",
          "zm33",
          "zm50",
          "zm7",
          "zm10",
          "zm57",
          "zm47",
          "zm35",
          "zm43",
          "zm1",
          "zm55",
          "zm14",
          "zm18",
          "zm56",
          "zm2",
          "zm32",
          "zm26",
          "zm16",
          "zm38",
          "zm24",
          "zm31",
          "zm59",
          "zm45",
          "zm29",
          "zm22",
          "zm28",
          "zm11",
          "zm34",
          "zm21",
          "zm27",
          "zm46",
          "zm52",
          "zm15",
          "zm13",
          "zm19",
          "zm20",
          "zm58"
         ],
         "y": [
          0.07018238277114947,
          0.08546652069196768,
          0.047613890442556,
          0.327854501307942,
          0.1011997963694101,
          0.09464716929061835,
          0.07945989568719085,
          0.18139458213150453,
          0.21124300554888367,
          0.09575931831744061,
          0.06021624749807574,
          0.09256431199274695,
          0.26809089425184046,
          0.16670691294334827,
          0.1278164839170921,
          0.14467974964899172,
          0.4152438547706154,
          0.08054202152485263,
          0.15446841383185403,
          0.12348656396449378,
          0.17446245024420767,
          0.21324268381930148,
          0.12919383498352205,
          0.2950131785622217,
          0.2911616958802379,
          0.5034461647008357,
          0.27149546598934715,
          0.34476020981852595,
          0.24868826981970407,
          0.07934307437148323,
          0.2023938563689283,
          0.1689755729511228,
          0.18298773327611323,
          0.3189339468074195,
          0.25052381925567097,
          0.1642304094658971,
          0.3299951485338646,
          0.28894840853576204,
          0.17270634881008656,
          0.09462026513012572,
          0.1038203895892058,
          0.2894758082168909,
          0.2272698389106183,
          0.16549337671310924,
          0.1335782032370791,
          0.27496087222561993,
          0.20145138276891525,
          0.3289079796621905,
          0.12843507440280094,
          0.42520469720292736,
          0.2413588187370619,
          0.28555929097157573,
          0.38991859113469945,
          0.24714097444377073,
          0.08480978763667522,
          0.32586444742482523,
          0.19401380419169115,
          0.36191755626137145,
          0.2594975740746861
         ]
        },
        {
         "mode": "lines+markers",
         "name": "('whole_uNr', 'g.5km', 'area')",
         "type": "scatter",
         "x": [
          "zm40",
          "zm5",
          "zm39",
          "zm3",
          "zm37",
          "zm6",
          "zm30",
          "zm17",
          "zm49",
          "zm12",
          "zm44",
          "zm54",
          "zm42",
          "zm23",
          "zm25",
          "zm4",
          "zm48",
          "zm41",
          "zm9",
          "zm8",
          "zm51",
          "zm53",
          "zm36",
          "zm33",
          "zm50",
          "zm7",
          "zm10",
          "zm57",
          "zm47",
          "zm35",
          "zm43",
          "zm1",
          "zm55",
          "zm14",
          "zm18",
          "zm56",
          "zm2",
          "zm32",
          "zm26",
          "zm16",
          "zm38",
          "zm24",
          "zm31",
          "zm59",
          "zm45",
          "zm29",
          "zm22",
          "zm28",
          "zm11",
          "zm34",
          "zm21",
          "zm27",
          "zm46",
          "zm52",
          "zm15",
          "zm13",
          "zm19",
          "zm20",
          "zm58"
         ],
         "y": [
          0.04142453841078112,
          0.02248503303846479,
          0.05033800283938737,
          0.03457533555492015,
          0.04642243568684838,
          0.048872743909855076,
          0.040498648754563174,
          0.06558028957143311,
          0.03504775009458644,
          0.034597442781385074,
          0.03561872995149256,
          0.23428374203236363,
          0.03307932636421176,
          0.1001423266156495,
          0.05578069337954652,
          0.0720835558491873,
          0.05999300100722896,
          0.051836705493716786,
          0.08887170001074271,
          0.05494709431941464,
          0.10142230036685167,
          0.07488348022522723,
          0.05682575924669956,
          0.06994354497315267,
          0.09976720278864047,
          0.06932153947144774,
          0.04812414717840249,
          0.07098459234720744,
          0.07394082636140752,
          0.06716404292687618,
          0.04537602481757038,
          0.07364883868865314,
          0.07057463827228821,
          0.0639194528527751,
          0.0948561267853864,
          0.09426472765396411,
          0.10175765129497773,
          0.070892286118869,
          0.10162692313910081,
          0.21665371142608097,
          0.06869549484523112,
          0.05547341864590029,
          0.08797328589207272,
          0.18574389990738738,
          0.06963636017408596,
          0.2645214038646657,
          0.0783624615547042,
          0.11802951804883653,
          0.13026585555986406,
          0.08987095594295277,
          0.12957889267389097,
          0.3908589254194067,
          0.1522261628190598,
          0.10435007275202046,
          0.26027938331416917,
          0.10196165736513405,
          0.07739518656822873,
          0.39018817937882644,
          0.5732662088285247
         ]
        },
        {
         "mode": "lines+markers",
         "name": "('whole_urb', 'g.5km', 'area')",
         "type": "scatter",
         "x": [
          "zm40",
          "zm5",
          "zm39",
          "zm3",
          "zm37",
          "zm6",
          "zm30",
          "zm17",
          "zm49",
          "zm12",
          "zm44",
          "zm54",
          "zm42",
          "zm23",
          "zm25",
          "zm4",
          "zm48",
          "zm41",
          "zm9",
          "zm8",
          "zm51",
          "zm53",
          "zm36",
          "zm33",
          "zm50",
          "zm7",
          "zm10",
          "zm57",
          "zm47",
          "zm35",
          "zm43",
          "zm1",
          "zm55",
          "zm14",
          "zm18",
          "zm56",
          "zm2",
          "zm32",
          "zm26",
          "zm16",
          "zm38",
          "zm24",
          "zm31",
          "zm59",
          "zm45",
          "zm29",
          "zm22",
          "zm28",
          "zm11",
          "zm34",
          "zm21",
          "zm27",
          "zm46",
          "zm52",
          "zm15",
          "zm13",
          "zm19",
          "zm20",
          "zm58"
         ],
         "y": [
          0.019762703813768778,
          0.021472623320505556,
          0.018605191220540725,
          0.0285923485908376,
          0.03469501257468092,
          0.03858701302878522,
          0.03220071163911727,
          0.05959168870029369,
          0.03269526214007915,
          0.03442589407627764,
          0.033888246395055444,
          0.03709774165978493,
          0.031019439803774914,
          0.046377944193363364,
          0.05220777434152306,
          0.058802576000071244,
          0.05952618988852844,
          0.03809558480545883,
          0.04029176783467204,
          0.0469003037446577,
          0.03681306377762674,
          0.06250791345100325,
          0.05240729867894253,
          0.06084174931986306,
          0.06503991752182019,
          0.04883674958565955,
          0.04575812339468915,
          0.05539476325370277,
          0.05623808505531594,
          0.06291760899378043,
          0.03789975597289501,
          0.06912372461010331,
          0.06580789426105839,
          0.057267000820968986,
          0.07776831375519729,
          0.08181725466014184,
          0.1042348832365348,
          0.07194321218514561,
          0.07198202091074608,
          0.09169061042875115,
          0.0662836052910062,
          0.047749961861213455,
          0.07851583983108104,
          0.08207723648272575,
          0.06544013560019495,
          0.19168843376781566,
          0.06350687846213518,
          0.1133112966826127,
          0.1309477756018438,
          0.0856945691706506,
          0.1266834737137171,
          0.07976768883589137,
          0.13812143428930518,
          0.0973768397306982,
          0.07414297764543964,
          0.10358255234675484,
          0.04434668113217861,
          0.2991389577641059,
          0.203202349930266
         ]
        },
        {
         "mode": "lines+markers",
         "name": "('perMun_uNr', 'g.5km', 'area')",
         "type": "scatter",
         "x": [
          "zm40",
          "zm5",
          "zm39",
          "zm3",
          "zm37",
          "zm6",
          "zm30",
          "zm17",
          "zm49",
          "zm12",
          "zm44",
          "zm54",
          "zm42",
          "zm23",
          "zm25",
          "zm4",
          "zm48",
          "zm41",
          "zm9",
          "zm8",
          "zm51",
          "zm53",
          "zm36",
          "zm33",
          "zm50",
          "zm7",
          "zm10",
          "zm57",
          "zm47",
          "zm35",
          "zm43",
          "zm1",
          "zm55",
          "zm14",
          "zm18",
          "zm56",
          "zm2",
          "zm32",
          "zm26",
          "zm16",
          "zm38",
          "zm24",
          "zm31",
          "zm59",
          "zm45",
          "zm29",
          "zm22",
          "zm28",
          "zm11",
          "zm34",
          "zm21",
          "zm27",
          "zm46",
          "zm52",
          "zm15",
          "zm13",
          "zm19",
          "zm20",
          "zm58"
         ],
         "y": [
          0.09020087933297741,
          0.10141096368656587,
          0.09108685075062575,
          0.034575334921285054,
          0.12047788527506416,
          0.1273215209015732,
          0.09668579913613858,
          0.2230828324845607,
          0.3429686353312939,
          0.10666034804672248,
          0.03561872994447989,
          0.2903889958790602,
          0.4246176764731459,
          0.09393867031626774,
          0.26419268679953933,
          0.19695576752848734,
          0.325389486922049,
          0.13094973694086287,
          0.21595829836772565,
          0.2829534526412665,
          0.21067039336096594,
          0.42124358480466023,
          0.13759796524135123,
          0.39899310623692763,
          0.4154670749704375,
          0.21683784639751877,
          0.4129883110862032,
          0.41004684478155456,
          0.3696200504315244,
          0.17774203347234901,
          0.19114355358092455,
          0.15066659117627965,
          0.3974810737051289,
          0.3746477622262274,
          0.505014212625281,
          0.12886446007698316,
          0.3702660930531284,
          0.5818118443546683,
          0.11449267971840466,
          0.2349586928198848,
          0.08295609088536787,
          0.48368685885052376,
          0.38208134164769947,
          0.21558828650268402,
          0.06963636017134263,
          0.3613966552597013,
          0.15846049879037996,
          0.3449546496161246,
          0.13026585553183184,
          0.5857545544409712,
          0.3207009928662963,
          0.491425791661457,
          0.5011275852413349,
          0.2881823799778824,
          0.27824226778014255,
          0.5645371443429342,
          0.35905023819116155,
          0.46591109116113966,
          0.5318531347497927
         ]
        },
        {
         "mode": "lines+markers",
         "name": "('perMun_urb', 'g.5km', 'area')",
         "type": "scatter",
         "x": [
          "zm40",
          "zm5",
          "zm39",
          "zm3",
          "zm37",
          "zm6",
          "zm30",
          "zm17",
          "zm49",
          "zm12",
          "zm44",
          "zm54",
          "zm42",
          "zm23",
          "zm25",
          "zm4",
          "zm48",
          "zm41",
          "zm9",
          "zm8",
          "zm51",
          "zm53",
          "zm36",
          "zm33",
          "zm50",
          "zm7",
          "zm10",
          "zm57",
          "zm47",
          "zm35",
          "zm43",
          "zm1",
          "zm55",
          "zm14",
          "zm18",
          "zm56",
          "zm2",
          "zm32",
          "zm26",
          "zm16",
          "zm38",
          "zm24",
          "zm31",
          "zm59",
          "zm45",
          "zm29",
          "zm22",
          "zm28",
          "zm11",
          "zm34",
          "zm21",
          "zm27",
          "zm46",
          "zm52",
          "zm15",
          "zm13",
          "zm19",
          "zm20",
          "zm58"
         ],
         "y": [
          0.04975345828424984,
          0.08603380219467141,
          0.03638079884400525,
          0.0285923485908376,
          0.12445591406594375,
          0.08688642872729824,
          0.07850606855405162,
          0.20401449201777952,
          0.2673337319069039,
          0.05965261460672301,
          0.033888246395055444,
          0.09545100180542396,
          0.34245233746440823,
          0.04790549686902286,
          0.17823225630457973,
          0.110944564650285,
          0.3297802175273421,
          0.05850984948376673,
          0.14304584373233928,
          0.15681558855823433,
          0.16440536048195872,
          0.34208150433328055,
          0.19878528859913258,
          0.34863426189661906,
          0.38027836986837893,
          0.13693666386513015,
          0.26712799642205326,
          0.5463428431066147,
          0.22324862960470818,
          0.14522154020077463,
          0.16918982015556855,
          0.12500004657685343,
          0.29705619025750574,
          0.394653640404174,
          0.32404826406251636,
          0.18329283753182787,
          0.32499204499725054,
          0.47840394367270617,
          0.09048957895237113,
          0.09635520441022205,
          0.0806385534044978,
          0.357435753802431,
          0.2862573172980181,
          0.18594942029819733,
          0.06544013560019495,
          0.32719599632616814,
          0.17592369583400774,
          0.32003212607913717,
          0.1309477756018438,
          0.45766735367406974,
          0.248473253942041,
          0.11725354411451282,
          0.43332444007794335,
          0.26432395375886003,
          0.0755684547869146,
          0.4163432567004406,
          0.18458764802090008,
          0.37528754426998234,
          0.29755103837746943
         ]
        },
        {
         "mode": "lines+markers",
         "name": "('whole_uNr', 'g.5km', 'pop')",
         "type": "scatter",
         "x": [
          "zm40",
          "zm5",
          "zm39",
          "zm3",
          "zm37",
          "zm6",
          "zm30",
          "zm17",
          "zm49",
          "zm12",
          "zm44",
          "zm54",
          "zm42",
          "zm23",
          "zm25",
          "zm4",
          "zm48",
          "zm41",
          "zm9",
          "zm8",
          "zm51",
          "zm53",
          "zm36",
          "zm33",
          "zm50",
          "zm7",
          "zm10",
          "zm57",
          "zm47",
          "zm35",
          "zm43",
          "zm1",
          "zm55",
          "zm14",
          "zm18",
          "zm56",
          "zm2",
          "zm32",
          "zm26",
          "zm16",
          "zm38",
          "zm24",
          "zm31",
          "zm59",
          "zm45",
          "zm29",
          "zm22",
          "zm28",
          "zm11",
          "zm34",
          "zm21",
          "zm27",
          "zm46",
          "zm52",
          "zm15",
          "zm13",
          "zm19",
          "zm20",
          "zm58"
         ],
         "y": [
          0.045274731775206876,
          0.029191692450701474,
          0.026105889135895254,
          0.09530647317406798,
          0.058342658936702936,
          0.04705338509992296,
          0.04430579100091581,
          0.0687866140619041,
          0.03280989313835878,
          0.04538622935038055,
          0.05245448497947242,
          0.0403784482713568,
          0.029351727871972613,
          0.05735438089479146,
          0.056006676997806086,
          0.07767424753084336,
          0.06894749640545784,
          0.046966949288500155,
          0.046233909198798905,
          0.0708063486455812,
          0.04874606023316494,
          0.07297106990089626,
          0.09027199948756262,
          0.0626273124647405,
          0.08353563398603958,
          0.15187876444483134,
          0.058069974466294104,
          0.08359800487879566,
          0.08589143019939953,
          0.06709849636970103,
          0.0903915689380015,
          0.08232967862504015,
          0.1173163530215723,
          0.0939676298562766,
          0.12106105489255932,
          0.09359116654211795,
          0.12407427011703748,
          0.07914556951839981,
          0.08880482341845766,
          0.0960913628996439,
          0.08614618894591931,
          0.05191767801315103,
          0.12290048059724246,
          0.09381643169876386,
          0.10160560412475143,
          0.3031616766988982,
          0.13916821709143082,
          0.12391610609357143,
          0.13824689025688164,
          0.15758637895740943,
          0.1582640501729121,
          0.2367160834026443,
          0.1160210628113152,
          0.14083056537246635,
          0.08704580918237496,
          0.11981803408992604,
          0.08959811510409597,
          0.2248450286719476,
          0.35610784989568744
         ]
        },
        {
         "mode": "lines+markers",
         "name": "('whole_urb', 'g.5km', 'pop')",
         "type": "scatter",
         "x": [
          "zm40",
          "zm5",
          "zm39",
          "zm3",
          "zm37",
          "zm6",
          "zm30",
          "zm17",
          "zm49",
          "zm12",
          "zm44",
          "zm54",
          "zm42",
          "zm23",
          "zm25",
          "zm4",
          "zm48",
          "zm41",
          "zm9",
          "zm8",
          "zm51",
          "zm53",
          "zm36",
          "zm33",
          "zm50",
          "zm7",
          "zm10",
          "zm57",
          "zm47",
          "zm35",
          "zm43",
          "zm1",
          "zm55",
          "zm14",
          "zm18",
          "zm56",
          "zm2",
          "zm32",
          "zm26",
          "zm16",
          "zm38",
          "zm24",
          "zm31",
          "zm59",
          "zm45",
          "zm29",
          "zm22",
          "zm28",
          "zm11",
          "zm34",
          "zm21",
          "zm27",
          "zm46",
          "zm52",
          "zm15",
          "zm13",
          "zm19",
          "zm20",
          "zm58"
         ],
         "y": [
          0.04775182000446057,
          0.029191692450701474,
          0.02369833487864082,
          0.07907007047790904,
          0.05713190701483713,
          0.04738526827296705,
          0.04439802110411398,
          0.07042615312872506,
          0.03137029493451422,
          0.04638682604978056,
          0.05586949181878364,
          0.03683234635285999,
          0.029392071900761957,
          0.05696847192775699,
          0.0539273541083938,
          0.07486999534640937,
          0.06825721320407344,
          0.04702257243651387,
          0.04525970367464157,
          0.07079911816770992,
          0.04455932705324264,
          0.06719538990334599,
          0.08401093762727083,
          0.0644178939367789,
          0.084289449827492,
          0.15463277077763773,
          0.0585245377458718,
          0.07887824586545834,
          0.08129524472234313,
          0.06709849636969918,
          0.07810536919097501,
          0.08453919069939103,
          0.11819222069145506,
          0.09149398846747052,
          0.1183427709499708,
          0.06568573169213021,
          0.12220265415021529,
          0.08011126542581236,
          0.09033026669672327,
          0.08015963530707625,
          0.08565692349429273,
          0.05232072958344854,
          0.12080831178708579,
          0.08357643464557787,
          0.0998197140175086,
          0.27986964860413993,
          0.1392593883249349,
          0.12242925279252084,
          0.1388411193090684,
          0.159654232514416,
          0.15631894645439162,
          0.2667384130934282,
          0.11803669779369294,
          0.14158350976074874,
          0.07339430194396124,
          0.11923588427628473,
          0.05014225723194225,
          0.17100735439504863,
          0.23795356887352812
         ]
        },
        {
         "mode": "lines+markers",
         "name": "('perMun_uNr', 'g.5km', 'pop')",
         "type": "scatter",
         "x": [
          "zm40",
          "zm5",
          "zm39",
          "zm3",
          "zm37",
          "zm6",
          "zm30",
          "zm17",
          "zm49",
          "zm12",
          "zm44",
          "zm54",
          "zm42",
          "zm23",
          "zm25",
          "zm4",
          "zm48",
          "zm41",
          "zm9",
          "zm8",
          "zm51",
          "zm53",
          "zm36",
          "zm33",
          "zm50",
          "zm7",
          "zm10",
          "zm57",
          "zm47",
          "zm35",
          "zm43",
          "zm1",
          "zm55",
          "zm14",
          "zm18",
          "zm56",
          "zm2",
          "zm32",
          "zm26",
          "zm16",
          "zm38",
          "zm24",
          "zm31",
          "zm59",
          "zm45",
          "zm29",
          "zm22",
          "zm28",
          "zm11",
          "zm34",
          "zm21",
          "zm27",
          "zm46",
          "zm52",
          "zm15",
          "zm13",
          "zm19",
          "zm20",
          "zm58"
         ],
         "y": [
          0.07436847463949431,
          0.07858093828198107,
          0.04768854455062222,
          0.09530647315732191,
          0.0956102219467889,
          0.09809006153671601,
          0.08093778559899234,
          0.2543254745562125,
          0.2566500413184722,
          0.22288763808675904,
          0.052454484977257534,
          0.11651409406231109,
          0.31265423806559334,
          0.24860138970721643,
          0.20620789445062915,
          0.16652564301507705,
          0.4283362561317224,
          0.0763686883742918,
          0.1786703334965575,
          0.18524162322086585,
          0.16751501865708868,
          0.38820160646143737,
          0.19550117550568402,
          0.3118568622118658,
          0.3751959160517148,
          0.46667778663260984,
          0.24354476039236628,
          0.4962280958034945,
          0.4589593807718301,
          0.20091934486991592,
          0.17911530390147826,
          0.19049587830640058,
          0.29838270768369446,
          0.3573836792152016,
          0.38419898092783694,
          0.1845057359473455,
          0.32831304788744425,
          0.44293676590822223,
          0.15716030281078888,
          0.0956263569136891,
          0.09364674841043,
          0.3846195972248559,
          0.2662498025149646,
          0.13766516149437816,
          0.1016056041247504,
          0.30322433830724854,
          0.19297045791955902,
          0.34379902378590804,
          0.13824689023206363,
          0.42870468048570815,
          0.296447237763738,
          0.4145685419406161,
          0.40176349993495847,
          0.3338620020599097,
          0.09769955959618278,
          0.4022449985314706,
          0.24266540889255964,
          0.41571523956536655,
          0.32967572383523075
         ]
        },
        {
         "mode": "lines+markers",
         "name": "('perMun_urb', 'g.5km', 'pop')",
         "type": "scatter",
         "x": [
          "zm40",
          "zm5",
          "zm39",
          "zm3",
          "zm37",
          "zm6",
          "zm30",
          "zm17",
          "zm49",
          "zm12",
          "zm44",
          "zm54",
          "zm42",
          "zm23",
          "zm25",
          "zm4",
          "zm48",
          "zm41",
          "zm9",
          "zm8",
          "zm51",
          "zm53",
          "zm36",
          "zm33",
          "zm50",
          "zm7",
          "zm10",
          "zm57",
          "zm47",
          "zm35",
          "zm43",
          "zm1",
          "zm55",
          "zm14",
          "zm18",
          "zm56",
          "zm2",
          "zm32",
          "zm26",
          "zm16",
          "zm38",
          "zm24",
          "zm31",
          "zm59",
          "zm45",
          "zm29",
          "zm22",
          "zm28",
          "zm11",
          "zm34",
          "zm21",
          "zm27",
          "zm46",
          "zm52",
          "zm15",
          "zm13",
          "zm19",
          "zm20",
          "zm58"
         ],
         "y": [
          0.07560656589292593,
          0.08016720342757869,
          0.03776450449802595,
          0.07907007047790904,
          0.0962031520060435,
          0.09523506425973569,
          0.07910126133039933,
          0.26762162477914614,
          0.2425637839324212,
          0.10177909192698374,
          0.05586949181878364,
          0.09544143746849228,
          0.31941698444031186,
          0.20908685587901973,
          0.14735323997996758,
          0.15004023892267018,
          0.3465960846985971,
          0.06745523769710762,
          0.15282463235212487,
          0.16596862661539874,
          0.1603483572635654,
          0.32366572724041714,
          0.19911440924165524,
          0.24367976233664976,
          0.35265605124042043,
          0.46153095937545274,
          0.25058828577890974,
          0.45126198447365584,
          0.36846943603483384,
          0.19739789742260674,
          0.17928190722947804,
          0.17125436148520648,
          0.28867750134726433,
          0.31576506333840787,
          0.34055500556797247,
          0.17539455148909713,
          0.3152931740651808,
          0.4394174401386037,
          0.16017359940309736,
          0.08016432218828566,
          0.09494573619277866,
          0.32878766100818135,
          0.25220267477233954,
          0.15535041199529534,
          0.0998197140175086,
          0.2834403001052652,
          0.18977277351337507,
          0.32024095077084397,
          0.1388411193090684,
          0.4245113109683996,
          0.28684126004223975,
          0.38925181602858294,
          0.40750541590991807,
          0.31342094933730663,
          0.09028673639465497,
          0.394167713284745,
          0.19478791193562778,
          0.38951036202094247,
          0.27822207084101636
         ]
        },
        {
         "mode": "lines+markers",
         "name": "('whole_uNr', 'g.5km', '_idw10')",
         "type": "scatter",
         "x": [
          "zm40",
          "zm5",
          "zm39",
          "zm3",
          "zm37",
          "zm6",
          "zm30",
          "zm17",
          "zm49",
          "zm12",
          "zm44",
          "zm54",
          "zm42",
          "zm23",
          "zm25",
          "zm4",
          "zm48",
          "zm41",
          "zm9",
          "zm8",
          "zm51",
          "zm53",
          "zm36",
          "zm33",
          "zm50",
          "zm7",
          "zm10",
          "zm57",
          "zm47",
          "zm35",
          "zm43",
          "zm1",
          "zm55",
          "zm14",
          "zm18",
          "zm56",
          "zm2",
          "zm32",
          "zm26",
          "zm16",
          "zm38",
          "zm24",
          "zm31",
          "zm59",
          "zm45",
          "zm29",
          "zm22",
          "zm28",
          "zm11",
          "zm34",
          "zm21",
          "zm27",
          "zm46",
          "zm52",
          "zm15",
          "zm13",
          "zm19",
          "zm20",
          "zm58"
         ],
         "y": [
          0.07229791050764252,
          0.055245884499646486,
          0.08274030133488897,
          0.08510373302787304,
          0.06331863086640073,
          0.0714540151687586,
          0.05405539682024849,
          0.09907446450735194,
          0.07785976518319533,
          0.0534656429555996,
          0.07481749798613956,
          0.07691315084430721,
          0.07713905061161648,
          0.12079047729871278,
          0.09991934670119111,
          0.10283877489404089,
          0.08009386829464361,
          0.09356593673699498,
          0.10308396268139257,
          0.07920705411458416,
          0.06623159095555212,
          0.13194656355862985,
          0.11890800307532932,
          0.14441138765742742,
          0.2035218071055289,
          0.15419926474108298,
          0.09738684950060356,
          0.12515511794983747,
          0.18093558656569766,
          0.15201442946297075,
          0.125822158153032,
          0.09785001175750438,
          0.1485126686410789,
          0.13077485098550207,
          0.11706281646451198,
          0.1159502286773403,
          0.11572880877242243,
          0.133354857156784,
          0.11393986482368519,
          0.1673212102453734,
          0.08857635238696379,
          0.09901281312654883,
          0.1461461787012053,
          0.1050595291433061,
          0.11124097393877817,
          0.26225420010073336,
          0.15324918663441478,
          0.15086453670933386,
          0.12372546262768809,
          0.2789549558150754,
          0.15312342191657913,
          0.1537822252745807,
          0.13177323279878833,
          0.13889205710336908,
          0.15452764043942613,
          0.2256727374199516,
          0.09223122397914589,
          0.20926307953656417,
          0.10130199897677582
         ]
        },
        {
         "mode": "lines+markers",
         "name": "('whole_urb', 'g.5km', '_idw10')",
         "type": "scatter",
         "x": [
          "zm40",
          "zm5",
          "zm39",
          "zm3",
          "zm37",
          "zm6",
          "zm30",
          "zm17",
          "zm49",
          "zm12",
          "zm44",
          "zm54",
          "zm42",
          "zm23",
          "zm25",
          "zm4",
          "zm48",
          "zm41",
          "zm9",
          "zm8",
          "zm51",
          "zm53",
          "zm36",
          "zm33",
          "zm50",
          "zm7",
          "zm10",
          "zm57",
          "zm47",
          "zm35",
          "zm43",
          "zm1",
          "zm55",
          "zm14",
          "zm18",
          "zm56",
          "zm2",
          "zm32",
          "zm26",
          "zm16",
          "zm38",
          "zm24",
          "zm31",
          "zm59",
          "zm45",
          "zm29",
          "zm22",
          "zm28",
          "zm11",
          "zm34",
          "zm21",
          "zm27",
          "zm46",
          "zm52",
          "zm15",
          "zm13",
          "zm19",
          "zm20",
          "zm58"
         ],
         "y": [
          0.03851492680877805,
          0.03444776054356968,
          0.03758869268168489,
          0.1585377638078633,
          0.05293311405506588,
          0.0476647538817842,
          0.06838904179831418,
          0.08996609500910907,
          0.05447321279960782,
          0.054235321918523656,
          0.05785860364472951,
          0.03742454043523292,
          0.03410872042844188,
          0.052500240294008856,
          0.08713041274692494,
          0.09397914574136021,
          0.07589716433183508,
          0.07316807851098092,
          0.0549348435468386,
          0.06249009813894397,
          0.09541307686024207,
          0.07780976482405745,
          0.12330020740488644,
          0.07706515595652724,
          0.1407963294102939,
          0.09617695239014486,
          0.07374820410345065,
          0.11320719483671587,
          0.242380723828102,
          0.10297774871992788,
          0.11764539864743573,
          0.10492659210729974,
          0.14712721397585668,
          0.12304611917523937,
          0.12091164259048749,
          0.10790944297566288,
          0.1213095301587802,
          0.11870727653893508,
          0.10735418893546665,
          0.09629056473657871,
          0.10444702867555579,
          0.0708580614137699,
          0.15238283053288457,
          0.07961801053299733,
          0.10001770401831865,
          0.26417678741961126,
          0.10346068310883416,
          0.1850534688145345,
          0.12646979857326238,
          0.2672530069548845,
          0.1369442250012593,
          0.2867017186551325,
          0.13262068702091676,
          0.11482766737800144,
          0.060737726681824075,
          0.2159699806710107,
          0.053795038628074394,
          0.1360845037479694,
          0.05658200236481947
         ]
        },
        {
         "mode": "lines+markers",
         "name": "('perMun_uNr', 'g.5km', '_idw10')",
         "type": "scatter",
         "x": [
          "zm40",
          "zm5",
          "zm39",
          "zm3",
          "zm37",
          "zm6",
          "zm30",
          "zm17",
          "zm49",
          "zm12",
          "zm44",
          "zm54",
          "zm42",
          "zm23",
          "zm25",
          "zm4",
          "zm48",
          "zm41",
          "zm9",
          "zm8",
          "zm51",
          "zm53",
          "zm36",
          "zm33",
          "zm50",
          "zm7",
          "zm10",
          "zm57",
          "zm47",
          "zm35",
          "zm43",
          "zm1",
          "zm55",
          "zm14",
          "zm18",
          "zm56",
          "zm2",
          "zm32",
          "zm26",
          "zm16",
          "zm38",
          "zm24",
          "zm31",
          "zm59",
          "zm45",
          "zm29",
          "zm22",
          "zm28",
          "zm11",
          "zm34",
          "zm21",
          "zm27",
          "zm46",
          "zm52",
          "zm15",
          "zm13",
          "zm19",
          "zm20",
          "zm58"
         ],
         "y": [
          0.07427294902340437,
          0.08699128413003145,
          0.0928996038402503,
          0.08505514095343616,
          0.14059979935237318,
          0.14495319823351033,
          0.10122018316055917,
          0.17937760790533533,
          0.2893843259449803,
          0.11091688297448472,
          0.07481749798412089,
          0.1265787456360146,
          0.38846919336915864,
          0.15403503624545029,
          0.20842589916170265,
          0.19966611850280722,
          0.33359013652291997,
          0.1023687398275548,
          0.16870242551182782,
          0.20020030276787928,
          0.18633333990227077,
          0.42701954793988656,
          0.1957917078684656,
          0.19773066593407151,
          0.32693292854196376,
          0.2741925262359019,
          0.2963005277638649,
          0.3094280893363892,
          0.29292870600302856,
          0.22619287117806292,
          0.19266850995397936,
          0.15278539333974817,
          0.3769539615764715,
          0.4012803835436807,
          0.38106373528906,
          0.18987898618788068,
          0.2537754690133479,
          0.5234984915375869,
          0.14319821098491853,
          0.15741043424111079,
          0.08644928321202106,
          0.3801388555671926,
          0.3130876985492792,
          0.2280226653177277,
          0.1112409739387778,
          0.3724772741863354,
          0.17466074192538703,
          0.40954369335642343,
          0.12372546261942342,
          0.5282203781108838,
          0.33605449484306227,
          0.3605707433646806,
          0.466112570735687,
          0.3400927247744732,
          0.1607062579724885,
          0.5394484741107487,
          0.24419750037511587,
          0.39350516180415435,
          0.3138585308863522
         ]
        },
        {
         "mode": "lines+markers",
         "name": "('perMun_urb', 'g.5km', '_idw10')",
         "type": "scatter",
         "x": [
          "zm40",
          "zm5",
          "zm39",
          "zm3",
          "zm37",
          "zm6",
          "zm30",
          "zm17",
          "zm49",
          "zm12",
          "zm44",
          "zm54",
          "zm42",
          "zm23",
          "zm25",
          "zm4",
          "zm48",
          "zm41",
          "zm9",
          "zm8",
          "zm51",
          "zm53",
          "zm36",
          "zm33",
          "zm50",
          "zm7",
          "zm10",
          "zm57",
          "zm47",
          "zm35",
          "zm43",
          "zm1",
          "zm55",
          "zm14",
          "zm18",
          "zm56",
          "zm2",
          "zm32",
          "zm26",
          "zm16",
          "zm38",
          "zm24",
          "zm31",
          "zm59",
          "zm45",
          "zm29",
          "zm22",
          "zm28",
          "zm11",
          "zm34",
          "zm21",
          "zm27",
          "zm46",
          "zm52",
          "zm15",
          "zm13",
          "zm19",
          "zm20",
          "zm58"
         ],
         "y": [
          0.059232093623189125,
          0.06907795556807113,
          0.04450996675268647,
          0.1585377638078633,
          0.09135556425131947,
          0.1028037892971487,
          0.057268638043638784,
          0.14082902044572465,
          0.22590898180446153,
          0.1074967647804415,
          0.05785860364472951,
          0.07691984199778487,
          0.33083620012523973,
          0.055850529944028976,
          0.2056264316018065,
          0.14637222330278737,
          0.3303497329863068,
          0.08321734687223406,
          0.14064950862022385,
          0.1419168311407624,
          0.14245892551560138,
          0.36952042278647923,
          0.19513176340494076,
          0.22140052173196303,
          0.36548411224850397,
          0.22916655744154046,
          0.16704709177114688,
          0.2674979294350718,
          0.19846668691472766,
          0.17506748750768017,
          0.19170558625280323,
          0.2207206947078219,
          0.33222883367095074,
          0.29325370712034293,
          0.317622332467448,
          0.1582550852337731,
          0.2680698319940203,
          0.46979405649309774,
          0.13362405351529222,
          0.08663121292316371,
          0.09443065836536466,
          0.3250791186159077,
          0.2534114255270829,
          0.1435197905369718,
          0.10001770401831865,
          0.3220033614548759,
          0.183588795138783,
          0.4561433893486616,
          0.12646979857326238,
          0.4974030349509451,
          0.2943040419414024,
          0.12107562648514222,
          0.396443993199418,
          0.2871295550320412,
          0.06482739177006004,
          0.4491404881130944,
          0.1737792819947562,
          0.28690935153320607,
          0.24045837507431275
         ]
        }
       ],
       "layout": {
        "height": 300,
        "margin": {
         "b": 10,
         "l": 10,
         "r": 100,
         "t": 10
        },
        "template": {
         "data": {
          "bar": [
           {
            "error_x": {
             "color": "#2a3f5f"
            },
            "error_y": {
             "color": "#2a3f5f"
            },
            "marker": {
             "line": {
              "color": "#E5ECF6",
              "width": 0.5
             }
            },
            "type": "bar"
           }
          ],
          "barpolar": [
           {
            "marker": {
             "line": {
              "color": "#E5ECF6",
              "width": 0.5
             }
            },
            "type": "barpolar"
           }
          ],
          "carpet": [
           {
            "aaxis": {
             "endlinecolor": "#2a3f5f",
             "gridcolor": "white",
             "linecolor": "white",
             "minorgridcolor": "white",
             "startlinecolor": "#2a3f5f"
            },
            "baxis": {
             "endlinecolor": "#2a3f5f",
             "gridcolor": "white",
             "linecolor": "white",
             "minorgridcolor": "white",
             "startlinecolor": "#2a3f5f"
            },
            "type": "carpet"
           }
          ],
          "choropleth": [
           {
            "colorbar": {
             "outlinewidth": 0,
             "ticks": ""
            },
            "type": "choropleth"
           }
          ],
          "contour": [
           {
            "colorbar": {
             "outlinewidth": 0,
             "ticks": ""
            },
            "colorscale": [
             [
              0,
              "#0d0887"
             ],
             [
              0.1111111111111111,
              "#46039f"
             ],
             [
              0.2222222222222222,
              "#7201a8"
             ],
             [
              0.3333333333333333,
              "#9c179e"
             ],
             [
              0.4444444444444444,
              "#bd3786"
             ],
             [
              0.5555555555555556,
              "#d8576b"
             ],
             [
              0.6666666666666666,
              "#ed7953"
             ],
             [
              0.7777777777777778,
              "#fb9f3a"
             ],
             [
              0.8888888888888888,
              "#fdca26"
             ],
             [
              1,
              "#f0f921"
             ]
            ],
            "type": "contour"
           }
          ],
          "contourcarpet": [
           {
            "colorbar": {
             "outlinewidth": 0,
             "ticks": ""
            },
            "type": "contourcarpet"
           }
          ],
          "heatmap": [
           {
            "colorbar": {
             "outlinewidth": 0,
             "ticks": ""
            },
            "colorscale": [
             [
              0,
              "#0d0887"
             ],
             [
              0.1111111111111111,
              "#46039f"
             ],
             [
              0.2222222222222222,
              "#7201a8"
             ],
             [
              0.3333333333333333,
              "#9c179e"
             ],
             [
              0.4444444444444444,
              "#bd3786"
             ],
             [
              0.5555555555555556,
              "#d8576b"
             ],
             [
              0.6666666666666666,
              "#ed7953"
             ],
             [
              0.7777777777777778,
              "#fb9f3a"
             ],
             [
              0.8888888888888888,
              "#fdca26"
             ],
             [
              1,
              "#f0f921"
             ]
            ],
            "type": "heatmap"
           }
          ],
          "heatmapgl": [
           {
            "colorbar": {
             "outlinewidth": 0,
             "ticks": ""
            },
            "colorscale": [
             [
              0,
              "#0d0887"
             ],
             [
              0.1111111111111111,
              "#46039f"
             ],
             [
              0.2222222222222222,
              "#7201a8"
             ],
             [
              0.3333333333333333,
              "#9c179e"
             ],
             [
              0.4444444444444444,
              "#bd3786"
             ],
             [
              0.5555555555555556,
              "#d8576b"
             ],
             [
              0.6666666666666666,
              "#ed7953"
             ],
             [
              0.7777777777777778,
              "#fb9f3a"
             ],
             [
              0.8888888888888888,
              "#fdca26"
             ],
             [
              1,
              "#f0f921"
             ]
            ],
            "type": "heatmapgl"
           }
          ],
          "histogram": [
           {
            "marker": {
             "colorbar": {
              "outlinewidth": 0,
              "ticks": ""
             }
            },
            "type": "histogram"
           }
          ],
          "histogram2d": [
           {
            "colorbar": {
             "outlinewidth": 0,
             "ticks": ""
            },
            "colorscale": [
             [
              0,
              "#0d0887"
             ],
             [
              0.1111111111111111,
              "#46039f"
             ],
             [
              0.2222222222222222,
              "#7201a8"
             ],
             [
              0.3333333333333333,
              "#9c179e"
             ],
             [
              0.4444444444444444,
              "#bd3786"
             ],
             [
              0.5555555555555556,
              "#d8576b"
             ],
             [
              0.6666666666666666,
              "#ed7953"
             ],
             [
              0.7777777777777778,
              "#fb9f3a"
             ],
             [
              0.8888888888888888,
              "#fdca26"
             ],
             [
              1,
              "#f0f921"
             ]
            ],
            "type": "histogram2d"
           }
          ],
          "histogram2dcontour": [
           {
            "colorbar": {
             "outlinewidth": 0,
             "ticks": ""
            },
            "colorscale": [
             [
              0,
              "#0d0887"
             ],
             [
              0.1111111111111111,
              "#46039f"
             ],
             [
              0.2222222222222222,
              "#7201a8"
             ],
             [
              0.3333333333333333,
              "#9c179e"
             ],
             [
              0.4444444444444444,
              "#bd3786"
             ],
             [
              0.5555555555555556,
              "#d8576b"
             ],
             [
              0.6666666666666666,
              "#ed7953"
             ],
             [
              0.7777777777777778,
              "#fb9f3a"
             ],
             [
              0.8888888888888888,
              "#fdca26"
             ],
             [
              1,
              "#f0f921"
             ]
            ],
            "type": "histogram2dcontour"
           }
          ],
          "mesh3d": [
           {
            "colorbar": {
             "outlinewidth": 0,
             "ticks": ""
            },
            "type": "mesh3d"
           }
          ],
          "parcoords": [
           {
            "line": {
             "colorbar": {
              "outlinewidth": 0,
              "ticks": ""
             }
            },
            "type": "parcoords"
           }
          ],
          "scatter": [
           {
            "marker": {
             "colorbar": {
              "outlinewidth": 0,
              "ticks": ""
             }
            },
            "type": "scatter"
           }
          ],
          "scatter3d": [
           {
            "line": {
             "colorbar": {
              "outlinewidth": 0,
              "ticks": ""
             }
            },
            "marker": {
             "colorbar": {
              "outlinewidth": 0,
              "ticks": ""
             }
            },
            "type": "scatter3d"
           }
          ],
          "scattercarpet": [
           {
            "marker": {
             "colorbar": {
              "outlinewidth": 0,
              "ticks": ""
             }
            },
            "type": "scattercarpet"
           }
          ],
          "scattergeo": [
           {
            "marker": {
             "colorbar": {
              "outlinewidth": 0,
              "ticks": ""
             }
            },
            "type": "scattergeo"
           }
          ],
          "scattergl": [
           {
            "marker": {
             "colorbar": {
              "outlinewidth": 0,
              "ticks": ""
             }
            },
            "type": "scattergl"
           }
          ],
          "scattermapbox": [
           {
            "marker": {
             "colorbar": {
              "outlinewidth": 0,
              "ticks": ""
             }
            },
            "type": "scattermapbox"
           }
          ],
          "scatterpolar": [
           {
            "marker": {
             "colorbar": {
              "outlinewidth": 0,
              "ticks": ""
             }
            },
            "type": "scatterpolar"
           }
          ],
          "scatterpolargl": [
           {
            "marker": {
             "colorbar": {
              "outlinewidth": 0,
              "ticks": ""
             }
            },
            "type": "scatterpolargl"
           }
          ],
          "scatterternary": [
           {
            "marker": {
             "colorbar": {
              "outlinewidth": 0,
              "ticks": ""
             }
            },
            "type": "scatterternary"
           }
          ],
          "surface": [
           {
            "colorbar": {
             "outlinewidth": 0,
             "ticks": ""
            },
            "colorscale": [
             [
              0,
              "#0d0887"
             ],
             [
              0.1111111111111111,
              "#46039f"
             ],
             [
              0.2222222222222222,
              "#7201a8"
             ],
             [
              0.3333333333333333,
              "#9c179e"
             ],
             [
              0.4444444444444444,
              "#bd3786"
             ],
             [
              0.5555555555555556,
              "#d8576b"
             ],
             [
              0.6666666666666666,
              "#ed7953"
             ],
             [
              0.7777777777777778,
              "#fb9f3a"
             ],
             [
              0.8888888888888888,
              "#fdca26"
             ],
             [
              1,
              "#f0f921"
             ]
            ],
            "type": "surface"
           }
          ],
          "table": [
           {
            "cells": {
             "fill": {
              "color": "#EBF0F8"
             },
             "line": {
              "color": "white"
             }
            },
            "header": {
             "fill": {
              "color": "#C8D4E3"
             },
             "line": {
              "color": "white"
             }
            },
            "type": "table"
           }
          ]
         },
         "layout": {
          "annotationdefaults": {
           "arrowcolor": "#2a3f5f",
           "arrowhead": 0,
           "arrowwidth": 1
          },
          "colorscale": {
           "diverging": [
            [
             0,
             "#8e0152"
            ],
            [
             0.1,
             "#c51b7d"
            ],
            [
             0.2,
             "#de77ae"
            ],
            [
             0.3,
             "#f1b6da"
            ],
            [
             0.4,
             "#fde0ef"
            ],
            [
             0.5,
             "#f7f7f7"
            ],
            [
             0.6,
             "#e6f5d0"
            ],
            [
             0.7,
             "#b8e186"
            ],
            [
             0.8,
             "#7fbc41"
            ],
            [
             0.9,
             "#4d9221"
            ],
            [
             1,
             "#276419"
            ]
           ],
           "sequential": [
            [
             0,
             "#0d0887"
            ],
            [
             0.1111111111111111,
             "#46039f"
            ],
            [
             0.2222222222222222,
             "#7201a8"
            ],
            [
             0.3333333333333333,
             "#9c179e"
            ],
            [
             0.4444444444444444,
             "#bd3786"
            ],
            [
             0.5555555555555556,
             "#d8576b"
            ],
            [
             0.6666666666666666,
             "#ed7953"
            ],
            [
             0.7777777777777778,
             "#fb9f3a"
            ],
            [
             0.8888888888888888,
             "#fdca26"
            ],
            [
             1,
             "#f0f921"
            ]
           ],
           "sequentialminus": [
            [
             0,
             "#0d0887"
            ],
            [
             0.1111111111111111,
             "#46039f"
            ],
            [
             0.2222222222222222,
             "#7201a8"
            ],
            [
             0.3333333333333333,
             "#9c179e"
            ],
            [
             0.4444444444444444,
             "#bd3786"
            ],
            [
             0.5555555555555556,
             "#d8576b"
            ],
            [
             0.6666666666666666,
             "#ed7953"
            ],
            [
             0.7777777777777778,
             "#fb9f3a"
            ],
            [
             0.8888888888888888,
             "#fdca26"
            ],
            [
             1,
             "#f0f921"
            ]
           ]
          },
          "colorway": [
           "#636efa",
           "#EF553B",
           "#00cc96",
           "#ab63fa",
           "#FFA15A",
           "#19d3f3",
           "#FF6692",
           "#B6E880",
           "#FF97FF",
           "#FECB52"
          ],
          "font": {
           "color": "#2a3f5f"
          },
          "geo": {
           "bgcolor": "white",
           "lakecolor": "white",
           "landcolor": "#E5ECF6",
           "showlakes": true,
           "showland": true,
           "subunitcolor": "white"
          },
          "hoverlabel": {
           "align": "left"
          },
          "hovermode": "closest",
          "mapbox": {
           "style": "light"
          },
          "paper_bgcolor": "white",
          "plot_bgcolor": "#E5ECF6",
          "polar": {
           "angularaxis": {
            "gridcolor": "white",
            "linecolor": "white",
            "ticks": ""
           },
           "bgcolor": "#E5ECF6",
           "radialaxis": {
            "gridcolor": "white",
            "linecolor": "white",
            "ticks": ""
           }
          },
          "scene": {
           "xaxis": {
            "backgroundcolor": "#E5ECF6",
            "gridcolor": "white",
            "gridwidth": 2,
            "linecolor": "white",
            "showbackground": true,
            "ticks": "",
            "zerolinecolor": "white"
           },
           "yaxis": {
            "backgroundcolor": "#E5ECF6",
            "gridcolor": "white",
            "gridwidth": 2,
            "linecolor": "white",
            "showbackground": true,
            "ticks": "",
            "zerolinecolor": "white"
           },
           "zaxis": {
            "backgroundcolor": "#E5ECF6",
            "gridcolor": "white",
            "gridwidth": 2,
            "linecolor": "white",
            "showbackground": true,
            "ticks": "",
            "zerolinecolor": "white"
           }
          },
          "shapedefaults": {
           "line": {
            "color": "#2a3f5f"
           }
          },
          "ternary": {
           "aaxis": {
            "gridcolor": "white",
            "linecolor": "white",
            "ticks": ""
           },
           "baxis": {
            "gridcolor": "white",
            "linecolor": "white",
            "ticks": ""
           },
           "bgcolor": "#E5ECF6",
           "caxis": {
            "gridcolor": "white",
            "linecolor": "white",
            "ticks": ""
           }
          },
          "title": {
           "x": 0.05
          },
          "xaxis": {
           "automargin": true,
           "gridcolor": "white",
           "linecolor": "white",
           "ticks": "",
           "zerolinecolor": "white",
           "zerolinewidth": 2
          },
          "yaxis": {
           "automargin": true,
           "gridcolor": "white",
           "linecolor": "white",
           "ticks": "",
           "zerolinecolor": "white",
           "zerolinewidth": 2
          }
         }
        }
       }
      },
      "text/html": [
       "<div>\n",
       "        \n",
       "        \n",
       "            <div id=\"e9588ee2-4fa2-439d-bf35-b10d224bc90b\" class=\"plotly-graph-div\" style=\"height:300px; width:100%;\"></div>\n",
       "            <script type=\"text/javascript\">\n",
       "                require([\"plotly\"], function(Plotly) {\n",
       "                    window.PLOTLYENV=window.PLOTLYENV || {};\n",
       "                    \n",
       "                if (document.getElementById(\"e9588ee2-4fa2-439d-bf35-b10d224bc90b\")) {\n",
       "                    Plotly.newPlot(\n",
       "                        'e9588ee2-4fa2-439d-bf35-b10d224bc90b',\n",
       "                        [{\"mode\": \"lines+markers\", \"name\": \"('whole_uNr', 'ageb', 'area')\", \"type\": \"scatter\", \"x\": [\"zm40\", \"zm5\", \"zm39\", \"zm3\", \"zm37\", \"zm6\", \"zm30\", \"zm17\", \"zm49\", \"zm12\", \"zm44\", \"zm54\", \"zm42\", \"zm23\", \"zm25\", \"zm4\", \"zm48\", \"zm41\", \"zm9\", \"zm8\", \"zm51\", \"zm53\", \"zm36\", \"zm33\", \"zm50\", \"zm7\", \"zm10\", \"zm57\", \"zm47\", \"zm35\", \"zm43\", \"zm1\", \"zm55\", \"zm14\", \"zm18\", \"zm56\", \"zm2\", \"zm32\", \"zm26\", \"zm16\", \"zm38\", \"zm24\", \"zm31\", \"zm59\", \"zm45\", \"zm29\", \"zm22\", \"zm28\", \"zm11\", \"zm34\", \"zm21\", \"zm27\", \"zm46\", \"zm52\", \"zm15\", \"zm13\", \"zm19\", \"zm20\", \"zm58\"], \"y\": [0.021072290220803237, 0.026366474460331073, 0.030157976268462915, 0.03129225905450303, 0.04169194637586093, 0.04365360981975309, 0.04479460843678001, 0.046382422986570256, 0.047788169192226615, 0.04826301299081995, 0.04851376558383321, 0.05202109327419096, 0.05532274620913075, 0.055491080123619425, 0.06007383973778938, 0.06386632926797976, 0.06426200002297358, 0.0646984022562156, 0.06564591602694374, 0.06733184847730384, 0.06934384023883619, 0.07141198935922456, 0.07434058902736473, 0.07516894699031267, 0.07648249961535254, 0.07992933893837842, 0.08236113845573553, 0.08438157811467852, 0.08661466527375337, 0.08979323151970826, 0.09194048161732826, 0.0961596238575681, 0.0982570690257714, 0.09865141261901006, 0.09901565879821272, 0.09959475378725936, 0.10135068486549283, 0.10199962835898503, 0.1022155316636354, 0.10576676342274507, 0.10783840588240036, 0.11212952440994955, 0.11336962497163817, 0.11472078887148861, 0.11795450344472526, 0.13143280043721417, 0.1326002464138579, 0.13974017801255892, 0.1474092873701707, 0.15405283857085125, 0.15968880599047172, 0.16144970605360875, 0.1725728650547424, 0.17341163962351902, 0.18257555077018003, 0.2048952026722198, 0.2623736306712111, 0.2693922403062062, 0.4508153524551732]}, {\"mode\": \"lines+markers\", \"name\": \"('whole_urb', 'ageb', 'area')\", \"type\": \"scatter\", \"x\": [\"zm40\", \"zm5\", \"zm39\", \"zm3\", \"zm37\", \"zm6\", \"zm30\", \"zm17\", \"zm49\", \"zm12\", \"zm44\", \"zm54\", \"zm42\", \"zm23\", \"zm25\", \"zm4\", \"zm48\", \"zm41\", \"zm9\", \"zm8\", \"zm51\", \"zm53\", \"zm36\", \"zm33\", \"zm50\", \"zm7\", \"zm10\", \"zm57\", \"zm47\", \"zm35\", \"zm43\", \"zm1\", \"zm55\", \"zm14\", \"zm18\", \"zm56\", \"zm2\", \"zm32\", \"zm26\", \"zm16\", \"zm38\", \"zm24\", \"zm31\", \"zm59\", \"zm45\", \"zm29\", \"zm22\", \"zm28\", \"zm11\", \"zm34\", \"zm21\", \"zm27\", \"zm46\", \"zm52\", \"zm15\", \"zm13\", \"zm19\", \"zm20\", \"zm58\"], \"y\": [0.025218996140195918, 0.027352320265741095, 0.024471400469232518, 0.028387904243280866, 0.04169194637586093, 0.044164252838983876, 0.04167433250288301, 0.04911384960873441, 0.036783631534994726, 0.049863731671873385, 0.04930655945600387, 0.03018015691648725, 0.05532274620913075, 0.04880982881357909, 0.059367197490068385, 0.06318247223487593, 0.05802572313403244, 0.0646984022562156, 0.03781099254586765, 0.060122207826957416, 0.04427791554095275, 0.06703981061491528, 0.07363336285296983, 0.07516894699031267, 0.07571262240243243, 0.07245725355834122, 0.08356011209992527, 0.07793435832908725, 0.08835447696147557, 0.08979323151970826, 0.10093966332931208, 0.09454860246742773, 0.0982570690257714, 0.10070999586281101, 0.09006893830884549, 0.1060285969324601, 0.10171491578501703, 0.10234109259093208, 0.1044144212425472, 0.11750301365034152, 0.10382661319988193, 0.11573874058444278, 0.11470894896394447, 0.11989961427462945, 0.11914921877846203, 0.11744772486272984, 0.08799927483671878, 0.13054204839480155, 0.1474092873701707, 0.15360007144559462, 0.16164883880600947, 0.11604655335212011, 0.16702932845812013, 0.18111426823293528, 0.12002529771420219, 0.2062373718706164, 0.051831183217010864, 0.21582495128687024, 0.30778194452248236]}, {\"mode\": \"lines+markers\", \"name\": \"('perMun_uNr', 'ageb', 'area')\", \"type\": \"scatter\", \"x\": [\"zm40\", \"zm5\", \"zm39\", \"zm3\", \"zm37\", \"zm6\", \"zm30\", \"zm17\", \"zm49\", \"zm12\", \"zm44\", \"zm54\", \"zm42\", \"zm23\", \"zm25\", \"zm4\", \"zm48\", \"zm41\", \"zm9\", \"zm8\", \"zm51\", \"zm53\", \"zm36\", \"zm33\", \"zm50\", \"zm7\", \"zm10\", \"zm57\", \"zm47\", \"zm35\", \"zm43\", \"zm1\", \"zm55\", \"zm14\", \"zm18\", \"zm56\", \"zm2\", \"zm32\", \"zm26\", \"zm16\", \"zm38\", \"zm24\", \"zm31\", \"zm59\", \"zm45\", \"zm29\", \"zm22\", \"zm28\", \"zm11\", \"zm34\", \"zm21\", \"zm27\", \"zm46\", \"zm52\", \"zm15\", \"zm13\", \"zm19\", \"zm20\", \"zm58\"], \"y\": [0.048699525050900576, 0.0763576171450203, 0.05255303612928151, 0.03129225905450303, 0.14320656239929308, 0.1310519177726319, 0.0920923031127086, 0.12374403257074207, 0.28955314426550965, 0.1500156387236692, 0.04851376558383321, 0.1971195978954118, 0.3322752427906566, 0.07606460364540747, 0.20177924638486702, 0.11670686434920235, 0.2778412990742602, 0.09229534382727768, 0.15715870393667936, 0.2233165606924119, 0.1619186673943982, 0.4121322114557929, 0.14792436970003603, 0.5050643610943855, 0.4009245540580868, 0.18849323188797054, 0.2797125360490861, 0.3265381661526389, 0.3011181216103591, 0.1465004179674901, 0.18757623720366412, 0.17770349807093216, 0.25133843696335423, 0.42838634224482147, 0.3753971015134557, 0.13563527756878582, 0.3579997522808856, 0.4481852271629834, 0.11162340580722763, 0.1193215392765938, 0.10254262229011525, 0.34909780998456436, 0.2298930082602907, 0.2032187323580143, 0.11795450344472526, 0.3481378574738782, 0.1574300766835036, 0.36440255359318824, 0.1474092873701707, 0.526142460261372, 0.2971864351053829, 0.2544630420569273, 0.3887868922115756, 0.3393292770580125, 0.18191282272305112, 0.3937299320123429, 0.47882070689831396, 0.4344874926968599, 0.3856075403355691]}, {\"mode\": \"lines+markers\", \"name\": \"('perMun_urb', 'ageb', 'area')\", \"type\": \"scatter\", \"x\": [\"zm40\", \"zm5\", \"zm39\", \"zm3\", \"zm37\", \"zm6\", \"zm30\", \"zm17\", \"zm49\", \"zm12\", \"zm44\", \"zm54\", \"zm42\", \"zm23\", \"zm25\", \"zm4\", \"zm48\", \"zm41\", \"zm9\", \"zm8\", \"zm51\", \"zm53\", \"zm36\", \"zm33\", \"zm50\", \"zm7\", \"zm10\", \"zm57\", \"zm47\", \"zm35\", \"zm43\", \"zm1\", \"zm55\", \"zm14\", \"zm18\", \"zm56\", \"zm2\", \"zm32\", \"zm26\", \"zm16\", \"zm38\", \"zm24\", \"zm31\", \"zm59\", \"zm45\", \"zm29\", \"zm22\", \"zm28\", \"zm11\", \"zm34\", \"zm21\", \"zm27\", \"zm46\", \"zm52\", \"zm15\", \"zm13\", \"zm19\", \"zm20\", \"zm58\"], \"y\": [0.05301933408522179, 0.07564948821708767, 0.0564083390546767, 0.028387904243280866, 0.12557992659555292, 0.10020022326653472, 0.0712079992537526, 0.17902504761124674, 0.17768689195195544, 0.07008659957294723, 0.04930655945600387, 0.09494668403202337, 0.27483854430772364, 0.03968248457007547, 0.14476273314267918, 0.10046003581726369, 0.2525095725197467, 0.16279825287382182, 0.15214467136428994, 0.13527350802933752, 0.10268887616569432, 0.177095857470856, 0.12131821383068894, 0.4125102333656669, 0.30367111661888757, 0.11135798578266397, 0.210907913604137, 0.35975774415855516, 0.14932387775923323, 0.08979323151970826, 0.18462968449552303, 0.11784390336798081, 0.1654735892278391, 0.26657951919844186, 0.24790501569486695, 0.15103541848479712, 0.3130649420927927, 0.30629985934031567, 0.1044144212425472, 0.11632681247340876, 0.10179267043915234, 0.24604425258036855, 0.21983709882986113, 0.2115914075525575, 0.11914921877846203, 0.3274624409937636, 0.15421370460674397, 0.28249254776875765, 0.1474092873701707, 0.4892507829698541, 0.2413648867654571, 0.10385511719095153, 0.40376064306909326, 0.2666368930089601, 0.10094722669888298, 0.3266139205369314, 0.25638909045019925, 0.35794795751988795, 0.31914600422285483]}, {\"mode\": \"lines+markers\", \"name\": \"('whole_uNr', 'ageb', 'pop')\", \"type\": \"scatter\", \"x\": [\"zm40\", \"zm5\", \"zm39\", \"zm3\", \"zm37\", \"zm6\", \"zm30\", \"zm17\", \"zm49\", \"zm12\", \"zm44\", \"zm54\", \"zm42\", \"zm23\", \"zm25\", \"zm4\", \"zm48\", \"zm41\", \"zm9\", \"zm8\", \"zm51\", \"zm53\", \"zm36\", \"zm33\", \"zm50\", \"zm7\", \"zm10\", \"zm57\", \"zm47\", \"zm35\", \"zm43\", \"zm1\", \"zm55\", \"zm14\", \"zm18\", \"zm56\", \"zm2\", \"zm32\", \"zm26\", \"zm16\", \"zm38\", \"zm24\", \"zm31\", \"zm59\", \"zm45\", \"zm29\", \"zm22\", \"zm28\", \"zm11\", \"zm34\", \"zm21\", \"zm27\", \"zm46\", \"zm52\", \"zm15\", \"zm13\", \"zm19\", \"zm20\", \"zm58\"], \"y\": [0.0764859903731221, 0.05988623274130886, 0.039224076071307575, 0.2550858416065683, 0.07159853981724097, 0.054622247480939856, 0.05311434263234333, 0.08572537411510632, 0.04513219126579117, 0.05491393842859986, 0.06018554244062721, 0.045612233474922534, 0.09640712566844506, 0.1401671865554429, 0.06433719434954278, 0.07263173812801543, 0.07239291158816888, 0.059515109221081774, 0.10662074093548433, 0.07955060295457964, 0.12234619258003036, 0.07656967839817014, 0.0951171257046256, 0.04328831679016475, 0.10104933563542796, 0.09178988955683308, 0.08864404222983135, 0.16222002609603636, 0.12545459546222557, 0.07861303003462645, 0.12374552172247794, 0.09945928348918781, 0.10388857536907997, 0.10461480097028175, 0.10546002412415222, 0.1103595864032457, 0.11303700658447739, 0.10248251815159695, 0.10648447802296562, 0.1064070800800367, 0.10314988574917337, 0.13619584635667484, 0.1419611548921654, 0.15325889715521482, 0.1335782032370791, 0.2922488342674247, 0.15881290553304264, 0.19179383338251724, 0.12843507440280094, 0.2538506817974747, 0.21758145399771353, 0.29709414883426166, 0.13172372325715218, 0.1430963794774075, 0.08779563202165803, 0.20770723759571585, 0.16681644761480519, 0.3355018406448671, 0.37363710863355665]}, {\"mode\": \"lines+markers\", \"name\": \"('whole_urb', 'ageb', 'pop')\", \"type\": \"scatter\", \"x\": [\"zm40\", \"zm5\", \"zm39\", \"zm3\", \"zm37\", \"zm6\", \"zm30\", \"zm17\", \"zm49\", \"zm12\", \"zm44\", \"zm54\", \"zm42\", \"zm23\", \"zm25\", \"zm4\", \"zm48\", \"zm41\", \"zm9\", \"zm8\", \"zm51\", \"zm53\", \"zm36\", \"zm33\", \"zm50\", \"zm7\", \"zm10\", \"zm57\", \"zm47\", \"zm35\", \"zm43\", \"zm1\", \"zm55\", \"zm14\", \"zm18\", \"zm56\", \"zm2\", \"zm32\", \"zm26\", \"zm16\", \"zm38\", \"zm24\", \"zm31\", \"zm59\", \"zm45\", \"zm29\", \"zm22\", \"zm28\", \"zm11\", \"zm34\", \"zm21\", \"zm27\", \"zm46\", \"zm52\", \"zm15\", \"zm13\", \"zm19\", \"zm20\", \"zm58\"], \"y\": [0.05524542392709395, 0.059024368013462655, 0.03118680596011243, 0.327854501307942, 0.06212679264762308, 0.05445362617088309, 0.05271680362155647, 0.08652197624243471, 0.04443519784463803, 0.04772098007952796, 0.06021624749807574, 0.03729331953379799, 0.09640712566844506, 0.1401671865554429, 0.06326250475264586, 0.06887854931319656, 0.07225099775218104, 0.06287776708121537, 0.060655005305387595, 0.07990230142363533, 0.13234476221989402, 0.07346982640223827, 0.09538998822679393, 0.04298204874087267, 0.10185002054723247, 0.09178988955683308, 0.08864404222983135, 0.13773757699493155, 0.12645598825776685, 0.07934307437148323, 0.12105994535642368, 0.1003589436327831, 0.10388857536907997, 0.10469503795041912, 0.10380706760390083, 0.11010130793948744, 0.11066797864229024, 0.10248251815159695, 0.10648447802296562, 0.09636381211381082, 0.10379976673060197, 0.1355743122445604, 0.13486527198453305, 0.16610095122030072, 0.1335782032370791, 0.28568577457648353, 0.15881290553304264, 0.17655800196158827, 0.12843507440280094, 0.2538506817974747, 0.1968754456124515, 0.1948206291540723, 0.13241949825845126, 0.1430963794774075, 0.07434859739316763, 0.20946313605028466, 0.1032206552849619, 0.2584767287414603, 0.20023610635856282]}, {\"mode\": \"lines+markers\", \"name\": \"('perMun_uNr', 'ageb', 'pop')\", \"type\": \"scatter\", \"x\": [\"zm40\", \"zm5\", \"zm39\", \"zm3\", \"zm37\", \"zm6\", \"zm30\", \"zm17\", \"zm49\", \"zm12\", \"zm44\", \"zm54\", \"zm42\", \"zm23\", \"zm25\", \"zm4\", \"zm48\", \"zm41\", \"zm9\", \"zm8\", \"zm51\", \"zm53\", \"zm36\", \"zm33\", \"zm50\", \"zm7\", \"zm10\", \"zm57\", \"zm47\", \"zm35\", \"zm43\", \"zm1\", \"zm55\", \"zm14\", \"zm18\", \"zm56\", \"zm2\", \"zm32\", \"zm26\", \"zm16\", \"zm38\", \"zm24\", \"zm31\", \"zm59\", \"zm45\", \"zm29\", \"zm22\", \"zm28\", \"zm11\", \"zm34\", \"zm21\", \"zm27\", \"zm46\", \"zm52\", \"zm15\", \"zm13\", \"zm19\", \"zm20\", \"zm58\"], \"y\": [0.08534957869426323, 0.09003091770759646, 0.05774610234897333, 0.2550858416065683, 0.1257714591947611, 0.10104914587139564, 0.08922553401745387, 0.25416200592579424, 0.2645591007620998, 0.1563192239314416, 0.06018554244062721, 0.14791189701711793, 0.29831436313447945, 0.2075244248514523, 0.18302210608057726, 0.15676416347584546, 0.3721171724410076, 0.11179516873316996, 0.13958866580787174, 0.14300236924194434, 0.18496013900855757, 0.41382556962712636, 0.2010217516968123, 0.34325645155157336, 0.33674918999759024, 0.5120599162286903, 0.24004609009291192, 0.38893940002781274, 0.33763783864435515, 0.15255660600628737, 0.18897175063568522, 0.1881697045714955, 0.2546237869026386, 0.3434866007544212, 0.3548021578950673, 0.16157525447431448, 0.36342167274804454, 0.41726104480401915, 0.17889823522739573, 0.10406690544395884, 0.10289438482452214, 0.36665333993669913, 0.22981605263570887, 0.2008567485070612, 0.1335782032370791, 0.30160408875712447, 0.2047208112985108, 0.3560519617471679, 0.12843507440280094, 0.4484095053454103, 0.26454714181674943, 0.4398543654949708, 0.3846669895073758, 0.2856470233798534, 0.08769529253136085, 0.3515590328815601, 0.250039656355674, 0.44048591184900227, 0.38421581349025913]}, {\"mode\": \"lines+markers\", \"name\": \"('perMun_urb', 'ageb', 'pop')\", \"type\": \"scatter\", \"x\": [\"zm40\", \"zm5\", \"zm39\", \"zm3\", \"zm37\", \"zm6\", \"zm30\", \"zm17\", \"zm49\", \"zm12\", \"zm44\", \"zm54\", \"zm42\", \"zm23\", \"zm25\", \"zm4\", \"zm48\", \"zm41\", \"zm9\", \"zm8\", \"zm51\", \"zm53\", \"zm36\", \"zm33\", \"zm50\", \"zm7\", \"zm10\", \"zm57\", \"zm47\", \"zm35\", \"zm43\", \"zm1\", \"zm55\", \"zm14\", \"zm18\", \"zm56\", \"zm2\", \"zm32\", \"zm26\", \"zm16\", \"zm38\", \"zm24\", \"zm31\", \"zm59\", \"zm45\", \"zm29\", \"zm22\", \"zm28\", \"zm11\", \"zm34\", \"zm21\", \"zm27\", \"zm46\", \"zm52\", \"zm15\", \"zm13\", \"zm19\", \"zm20\", \"zm58\"], \"y\": [0.07018238277114947, 0.08546652069196768, 0.047613890442556, 0.327854501307942, 0.1011997963694101, 0.09464716929061835, 0.07945989568719085, 0.18139458213150453, 0.21124300554888367, 0.09575931831744061, 0.06021624749807574, 0.09256431199274695, 0.26809089425184046, 0.16670691294334827, 0.1278164839170921, 0.14467974964899172, 0.4152438547706154, 0.08054202152485263, 0.15446841383185403, 0.12348656396449378, 0.17446245024420767, 0.21324268381930148, 0.12919383498352205, 0.2950131785622217, 0.2911616958802379, 0.5034461647008357, 0.27149546598934715, 0.34476020981852595, 0.24868826981970407, 0.07934307437148323, 0.2023938563689283, 0.1689755729511228, 0.18298773327611323, 0.3189339468074195, 0.25052381925567097, 0.1642304094658971, 0.3299951485338646, 0.28894840853576204, 0.17270634881008656, 0.09462026513012572, 0.1038203895892058, 0.2894758082168909, 0.2272698389106183, 0.16549337671310924, 0.1335782032370791, 0.27496087222561993, 0.20145138276891525, 0.3289079796621905, 0.12843507440280094, 0.42520469720292736, 0.2413588187370619, 0.28555929097157573, 0.38991859113469945, 0.24714097444377073, 0.08480978763667522, 0.32586444742482523, 0.19401380419169115, 0.36191755626137145, 0.2594975740746861]}, {\"mode\": \"lines+markers\", \"name\": \"('whole_uNr', 'g.5km', 'area')\", \"type\": \"scatter\", \"x\": [\"zm40\", \"zm5\", \"zm39\", \"zm3\", \"zm37\", \"zm6\", \"zm30\", \"zm17\", \"zm49\", \"zm12\", \"zm44\", \"zm54\", \"zm42\", \"zm23\", \"zm25\", \"zm4\", \"zm48\", \"zm41\", \"zm9\", \"zm8\", \"zm51\", \"zm53\", \"zm36\", \"zm33\", \"zm50\", \"zm7\", \"zm10\", \"zm57\", \"zm47\", \"zm35\", \"zm43\", \"zm1\", \"zm55\", \"zm14\", \"zm18\", \"zm56\", \"zm2\", \"zm32\", \"zm26\", \"zm16\", \"zm38\", \"zm24\", \"zm31\", \"zm59\", \"zm45\", \"zm29\", \"zm22\", \"zm28\", \"zm11\", \"zm34\", \"zm21\", \"zm27\", \"zm46\", \"zm52\", \"zm15\", \"zm13\", \"zm19\", \"zm20\", \"zm58\"], \"y\": [0.04142453841078112, 0.02248503303846479, 0.05033800283938737, 0.03457533555492015, 0.04642243568684838, 0.048872743909855076, 0.040498648754563174, 0.06558028957143311, 0.03504775009458644, 0.034597442781385074, 0.03561872995149256, 0.23428374203236363, 0.03307932636421176, 0.1001423266156495, 0.05578069337954652, 0.0720835558491873, 0.05999300100722896, 0.051836705493716786, 0.08887170001074271, 0.05494709431941464, 0.10142230036685167, 0.07488348022522723, 0.05682575924669956, 0.06994354497315267, 0.09976720278864047, 0.06932153947144774, 0.04812414717840249, 0.07098459234720744, 0.07394082636140752, 0.06716404292687618, 0.04537602481757038, 0.07364883868865314, 0.07057463827228821, 0.0639194528527751, 0.0948561267853864, 0.09426472765396411, 0.10175765129497773, 0.070892286118869, 0.10162692313910081, 0.21665371142608097, 0.06869549484523112, 0.05547341864590029, 0.08797328589207272, 0.18574389990738738, 0.06963636017408596, 0.2645214038646657, 0.0783624615547042, 0.11802951804883653, 0.13026585555986406, 0.08987095594295277, 0.12957889267389097, 0.3908589254194067, 0.1522261628190598, 0.10435007275202046, 0.26027938331416917, 0.10196165736513405, 0.07739518656822873, 0.39018817937882644, 0.5732662088285247]}, {\"mode\": \"lines+markers\", \"name\": \"('whole_urb', 'g.5km', 'area')\", \"type\": \"scatter\", \"x\": [\"zm40\", \"zm5\", \"zm39\", \"zm3\", \"zm37\", \"zm6\", \"zm30\", \"zm17\", \"zm49\", \"zm12\", \"zm44\", \"zm54\", \"zm42\", \"zm23\", \"zm25\", \"zm4\", \"zm48\", \"zm41\", \"zm9\", \"zm8\", \"zm51\", \"zm53\", \"zm36\", \"zm33\", \"zm50\", \"zm7\", \"zm10\", \"zm57\", \"zm47\", \"zm35\", \"zm43\", \"zm1\", \"zm55\", \"zm14\", \"zm18\", \"zm56\", \"zm2\", \"zm32\", \"zm26\", \"zm16\", \"zm38\", \"zm24\", \"zm31\", \"zm59\", \"zm45\", \"zm29\", \"zm22\", \"zm28\", \"zm11\", \"zm34\", \"zm21\", \"zm27\", \"zm46\", \"zm52\", \"zm15\", \"zm13\", \"zm19\", \"zm20\", \"zm58\"], \"y\": [0.019762703813768778, 0.021472623320505556, 0.018605191220540725, 0.0285923485908376, 0.03469501257468092, 0.03858701302878522, 0.03220071163911727, 0.05959168870029369, 0.03269526214007915, 0.03442589407627764, 0.033888246395055444, 0.03709774165978493, 0.031019439803774914, 0.046377944193363364, 0.05220777434152306, 0.058802576000071244, 0.05952618988852844, 0.03809558480545883, 0.04029176783467204, 0.0469003037446577, 0.03681306377762674, 0.06250791345100325, 0.05240729867894253, 0.06084174931986306, 0.06503991752182019, 0.04883674958565955, 0.04575812339468915, 0.05539476325370277, 0.05623808505531594, 0.06291760899378043, 0.03789975597289501, 0.06912372461010331, 0.06580789426105839, 0.057267000820968986, 0.07776831375519729, 0.08181725466014184, 0.1042348832365348, 0.07194321218514561, 0.07198202091074608, 0.09169061042875115, 0.0662836052910062, 0.047749961861213455, 0.07851583983108104, 0.08207723648272575, 0.06544013560019495, 0.19168843376781566, 0.06350687846213518, 0.1133112966826127, 0.1309477756018438, 0.0856945691706506, 0.1266834737137171, 0.07976768883589137, 0.13812143428930518, 0.0973768397306982, 0.07414297764543964, 0.10358255234675484, 0.04434668113217861, 0.2991389577641059, 0.203202349930266]}, {\"mode\": \"lines+markers\", \"name\": \"('perMun_uNr', 'g.5km', 'area')\", \"type\": \"scatter\", \"x\": [\"zm40\", \"zm5\", \"zm39\", \"zm3\", \"zm37\", \"zm6\", \"zm30\", \"zm17\", \"zm49\", \"zm12\", \"zm44\", \"zm54\", \"zm42\", \"zm23\", \"zm25\", \"zm4\", \"zm48\", \"zm41\", \"zm9\", \"zm8\", \"zm51\", \"zm53\", \"zm36\", \"zm33\", \"zm50\", \"zm7\", \"zm10\", \"zm57\", \"zm47\", \"zm35\", \"zm43\", \"zm1\", \"zm55\", \"zm14\", \"zm18\", \"zm56\", \"zm2\", \"zm32\", \"zm26\", \"zm16\", \"zm38\", \"zm24\", \"zm31\", \"zm59\", \"zm45\", \"zm29\", \"zm22\", \"zm28\", \"zm11\", \"zm34\", \"zm21\", \"zm27\", \"zm46\", \"zm52\", \"zm15\", \"zm13\", \"zm19\", \"zm20\", \"zm58\"], \"y\": [0.09020087933297741, 0.10141096368656587, 0.09108685075062575, 0.034575334921285054, 0.12047788527506416, 0.1273215209015732, 0.09668579913613858, 0.2230828324845607, 0.3429686353312939, 0.10666034804672248, 0.03561872994447989, 0.2903889958790602, 0.4246176764731459, 0.09393867031626774, 0.26419268679953933, 0.19695576752848734, 0.325389486922049, 0.13094973694086287, 0.21595829836772565, 0.2829534526412665, 0.21067039336096594, 0.42124358480466023, 0.13759796524135123, 0.39899310623692763, 0.4154670749704375, 0.21683784639751877, 0.4129883110862032, 0.41004684478155456, 0.3696200504315244, 0.17774203347234901, 0.19114355358092455, 0.15066659117627965, 0.3974810737051289, 0.3746477622262274, 0.505014212625281, 0.12886446007698316, 0.3702660930531284, 0.5818118443546683, 0.11449267971840466, 0.2349586928198848, 0.08295609088536787, 0.48368685885052376, 0.38208134164769947, 0.21558828650268402, 0.06963636017134263, 0.3613966552597013, 0.15846049879037996, 0.3449546496161246, 0.13026585553183184, 0.5857545544409712, 0.3207009928662963, 0.491425791661457, 0.5011275852413349, 0.2881823799778824, 0.27824226778014255, 0.5645371443429342, 0.35905023819116155, 0.46591109116113966, 0.5318531347497927]}, {\"mode\": \"lines+markers\", \"name\": \"('perMun_urb', 'g.5km', 'area')\", \"type\": \"scatter\", \"x\": [\"zm40\", \"zm5\", \"zm39\", \"zm3\", \"zm37\", \"zm6\", \"zm30\", \"zm17\", \"zm49\", \"zm12\", \"zm44\", \"zm54\", \"zm42\", \"zm23\", \"zm25\", \"zm4\", \"zm48\", \"zm41\", \"zm9\", \"zm8\", \"zm51\", \"zm53\", \"zm36\", \"zm33\", \"zm50\", \"zm7\", \"zm10\", \"zm57\", \"zm47\", \"zm35\", \"zm43\", \"zm1\", \"zm55\", \"zm14\", \"zm18\", \"zm56\", \"zm2\", \"zm32\", \"zm26\", \"zm16\", \"zm38\", \"zm24\", \"zm31\", \"zm59\", \"zm45\", \"zm29\", \"zm22\", \"zm28\", \"zm11\", \"zm34\", \"zm21\", \"zm27\", \"zm46\", \"zm52\", \"zm15\", \"zm13\", \"zm19\", \"zm20\", \"zm58\"], \"y\": [0.04975345828424984, 0.08603380219467141, 0.03638079884400525, 0.0285923485908376, 0.12445591406594375, 0.08688642872729824, 0.07850606855405162, 0.20401449201777952, 0.2673337319069039, 0.05965261460672301, 0.033888246395055444, 0.09545100180542396, 0.34245233746440823, 0.04790549686902286, 0.17823225630457973, 0.110944564650285, 0.3297802175273421, 0.05850984948376673, 0.14304584373233928, 0.15681558855823433, 0.16440536048195872, 0.34208150433328055, 0.19878528859913258, 0.34863426189661906, 0.38027836986837893, 0.13693666386513015, 0.26712799642205326, 0.5463428431066147, 0.22324862960470818, 0.14522154020077463, 0.16918982015556855, 0.12500004657685343, 0.29705619025750574, 0.394653640404174, 0.32404826406251636, 0.18329283753182787, 0.32499204499725054, 0.47840394367270617, 0.09048957895237113, 0.09635520441022205, 0.0806385534044978, 0.357435753802431, 0.2862573172980181, 0.18594942029819733, 0.06544013560019495, 0.32719599632616814, 0.17592369583400774, 0.32003212607913717, 0.1309477756018438, 0.45766735367406974, 0.248473253942041, 0.11725354411451282, 0.43332444007794335, 0.26432395375886003, 0.0755684547869146, 0.4163432567004406, 0.18458764802090008, 0.37528754426998234, 0.29755103837746943]}, {\"mode\": \"lines+markers\", \"name\": \"('whole_uNr', 'g.5km', 'pop')\", \"type\": \"scatter\", \"x\": [\"zm40\", \"zm5\", \"zm39\", \"zm3\", \"zm37\", \"zm6\", \"zm30\", \"zm17\", \"zm49\", \"zm12\", \"zm44\", \"zm54\", \"zm42\", \"zm23\", \"zm25\", \"zm4\", \"zm48\", \"zm41\", \"zm9\", \"zm8\", \"zm51\", \"zm53\", \"zm36\", \"zm33\", \"zm50\", \"zm7\", \"zm10\", \"zm57\", \"zm47\", \"zm35\", \"zm43\", \"zm1\", \"zm55\", \"zm14\", \"zm18\", \"zm56\", \"zm2\", \"zm32\", \"zm26\", \"zm16\", \"zm38\", \"zm24\", \"zm31\", \"zm59\", \"zm45\", \"zm29\", \"zm22\", \"zm28\", \"zm11\", \"zm34\", \"zm21\", \"zm27\", \"zm46\", \"zm52\", \"zm15\", \"zm13\", \"zm19\", \"zm20\", \"zm58\"], \"y\": [0.045274731775206876, 0.029191692450701474, 0.026105889135895254, 0.09530647317406798, 0.058342658936702936, 0.04705338509992296, 0.04430579100091581, 0.0687866140619041, 0.03280989313835878, 0.04538622935038055, 0.05245448497947242, 0.0403784482713568, 0.029351727871972613, 0.05735438089479146, 0.056006676997806086, 0.07767424753084336, 0.06894749640545784, 0.046966949288500155, 0.046233909198798905, 0.0708063486455812, 0.04874606023316494, 0.07297106990089626, 0.09027199948756262, 0.0626273124647405, 0.08353563398603958, 0.15187876444483134, 0.058069974466294104, 0.08359800487879566, 0.08589143019939953, 0.06709849636970103, 0.0903915689380015, 0.08232967862504015, 0.1173163530215723, 0.0939676298562766, 0.12106105489255932, 0.09359116654211795, 0.12407427011703748, 0.07914556951839981, 0.08880482341845766, 0.0960913628996439, 0.08614618894591931, 0.05191767801315103, 0.12290048059724246, 0.09381643169876386, 0.10160560412475143, 0.3031616766988982, 0.13916821709143082, 0.12391610609357143, 0.13824689025688164, 0.15758637895740943, 0.1582640501729121, 0.2367160834026443, 0.1160210628113152, 0.14083056537246635, 0.08704580918237496, 0.11981803408992604, 0.08959811510409597, 0.2248450286719476, 0.35610784989568744]}, {\"mode\": \"lines+markers\", \"name\": \"('whole_urb', 'g.5km', 'pop')\", \"type\": \"scatter\", \"x\": [\"zm40\", \"zm5\", \"zm39\", \"zm3\", \"zm37\", \"zm6\", \"zm30\", \"zm17\", \"zm49\", \"zm12\", \"zm44\", \"zm54\", \"zm42\", \"zm23\", \"zm25\", \"zm4\", \"zm48\", \"zm41\", \"zm9\", \"zm8\", \"zm51\", \"zm53\", \"zm36\", \"zm33\", \"zm50\", \"zm7\", \"zm10\", \"zm57\", \"zm47\", \"zm35\", \"zm43\", \"zm1\", \"zm55\", \"zm14\", \"zm18\", \"zm56\", \"zm2\", \"zm32\", \"zm26\", \"zm16\", \"zm38\", \"zm24\", \"zm31\", \"zm59\", \"zm45\", \"zm29\", \"zm22\", \"zm28\", \"zm11\", \"zm34\", \"zm21\", \"zm27\", \"zm46\", \"zm52\", \"zm15\", \"zm13\", \"zm19\", \"zm20\", \"zm58\"], \"y\": [0.04775182000446057, 0.029191692450701474, 0.02369833487864082, 0.07907007047790904, 0.05713190701483713, 0.04738526827296705, 0.04439802110411398, 0.07042615312872506, 0.03137029493451422, 0.04638682604978056, 0.05586949181878364, 0.03683234635285999, 0.029392071900761957, 0.05696847192775699, 0.0539273541083938, 0.07486999534640937, 0.06825721320407344, 0.04702257243651387, 0.04525970367464157, 0.07079911816770992, 0.04455932705324264, 0.06719538990334599, 0.08401093762727083, 0.0644178939367789, 0.084289449827492, 0.15463277077763773, 0.0585245377458718, 0.07887824586545834, 0.08129524472234313, 0.06709849636969918, 0.07810536919097501, 0.08453919069939103, 0.11819222069145506, 0.09149398846747052, 0.1183427709499708, 0.06568573169213021, 0.12220265415021529, 0.08011126542581236, 0.09033026669672327, 0.08015963530707625, 0.08565692349429273, 0.05232072958344854, 0.12080831178708579, 0.08357643464557787, 0.0998197140175086, 0.27986964860413993, 0.1392593883249349, 0.12242925279252084, 0.1388411193090684, 0.159654232514416, 0.15631894645439162, 0.2667384130934282, 0.11803669779369294, 0.14158350976074874, 0.07339430194396124, 0.11923588427628473, 0.05014225723194225, 0.17100735439504863, 0.23795356887352812]}, {\"mode\": \"lines+markers\", \"name\": \"('perMun_uNr', 'g.5km', 'pop')\", \"type\": \"scatter\", \"x\": [\"zm40\", \"zm5\", \"zm39\", \"zm3\", \"zm37\", \"zm6\", \"zm30\", \"zm17\", \"zm49\", \"zm12\", \"zm44\", \"zm54\", \"zm42\", \"zm23\", \"zm25\", \"zm4\", \"zm48\", \"zm41\", \"zm9\", \"zm8\", \"zm51\", \"zm53\", \"zm36\", \"zm33\", \"zm50\", \"zm7\", \"zm10\", \"zm57\", \"zm47\", \"zm35\", \"zm43\", \"zm1\", \"zm55\", \"zm14\", \"zm18\", \"zm56\", \"zm2\", \"zm32\", \"zm26\", \"zm16\", \"zm38\", \"zm24\", \"zm31\", \"zm59\", \"zm45\", \"zm29\", \"zm22\", \"zm28\", \"zm11\", \"zm34\", \"zm21\", \"zm27\", \"zm46\", \"zm52\", \"zm15\", \"zm13\", \"zm19\", \"zm20\", \"zm58\"], \"y\": [0.07436847463949431, 0.07858093828198107, 0.04768854455062222, 0.09530647315732191, 0.0956102219467889, 0.09809006153671601, 0.08093778559899234, 0.2543254745562125, 0.2566500413184722, 0.22288763808675904, 0.052454484977257534, 0.11651409406231109, 0.31265423806559334, 0.24860138970721643, 0.20620789445062915, 0.16652564301507705, 0.4283362561317224, 0.0763686883742918, 0.1786703334965575, 0.18524162322086585, 0.16751501865708868, 0.38820160646143737, 0.19550117550568402, 0.3118568622118658, 0.3751959160517148, 0.46667778663260984, 0.24354476039236628, 0.4962280958034945, 0.4589593807718301, 0.20091934486991592, 0.17911530390147826, 0.19049587830640058, 0.29838270768369446, 0.3573836792152016, 0.38419898092783694, 0.1845057359473455, 0.32831304788744425, 0.44293676590822223, 0.15716030281078888, 0.0956263569136891, 0.09364674841043, 0.3846195972248559, 0.2662498025149646, 0.13766516149437816, 0.1016056041247504, 0.30322433830724854, 0.19297045791955902, 0.34379902378590804, 0.13824689023206363, 0.42870468048570815, 0.296447237763738, 0.4145685419406161, 0.40176349993495847, 0.3338620020599097, 0.09769955959618278, 0.4022449985314706, 0.24266540889255964, 0.41571523956536655, 0.32967572383523075]}, {\"mode\": \"lines+markers\", \"name\": \"('perMun_urb', 'g.5km', 'pop')\", \"type\": \"scatter\", \"x\": [\"zm40\", \"zm5\", \"zm39\", \"zm3\", \"zm37\", \"zm6\", \"zm30\", \"zm17\", \"zm49\", \"zm12\", \"zm44\", \"zm54\", \"zm42\", \"zm23\", \"zm25\", \"zm4\", \"zm48\", \"zm41\", \"zm9\", \"zm8\", \"zm51\", \"zm53\", \"zm36\", \"zm33\", \"zm50\", \"zm7\", \"zm10\", \"zm57\", \"zm47\", \"zm35\", \"zm43\", \"zm1\", \"zm55\", \"zm14\", \"zm18\", \"zm56\", \"zm2\", \"zm32\", \"zm26\", \"zm16\", \"zm38\", \"zm24\", \"zm31\", \"zm59\", \"zm45\", \"zm29\", \"zm22\", \"zm28\", \"zm11\", \"zm34\", \"zm21\", \"zm27\", \"zm46\", \"zm52\", \"zm15\", \"zm13\", \"zm19\", \"zm20\", \"zm58\"], \"y\": [0.07560656589292593, 0.08016720342757869, 0.03776450449802595, 0.07907007047790904, 0.0962031520060435, 0.09523506425973569, 0.07910126133039933, 0.26762162477914614, 0.2425637839324212, 0.10177909192698374, 0.05586949181878364, 0.09544143746849228, 0.31941698444031186, 0.20908685587901973, 0.14735323997996758, 0.15004023892267018, 0.3465960846985971, 0.06745523769710762, 0.15282463235212487, 0.16596862661539874, 0.1603483572635654, 0.32366572724041714, 0.19911440924165524, 0.24367976233664976, 0.35265605124042043, 0.46153095937545274, 0.25058828577890974, 0.45126198447365584, 0.36846943603483384, 0.19739789742260674, 0.17928190722947804, 0.17125436148520648, 0.28867750134726433, 0.31576506333840787, 0.34055500556797247, 0.17539455148909713, 0.3152931740651808, 0.4394174401386037, 0.16017359940309736, 0.08016432218828566, 0.09494573619277866, 0.32878766100818135, 0.25220267477233954, 0.15535041199529534, 0.0998197140175086, 0.2834403001052652, 0.18977277351337507, 0.32024095077084397, 0.1388411193090684, 0.4245113109683996, 0.28684126004223975, 0.38925181602858294, 0.40750541590991807, 0.31342094933730663, 0.09028673639465497, 0.394167713284745, 0.19478791193562778, 0.38951036202094247, 0.27822207084101636]}, {\"mode\": \"lines+markers\", \"name\": \"('whole_uNr', 'g.5km', '_idw10')\", \"type\": \"scatter\", \"x\": [\"zm40\", \"zm5\", \"zm39\", \"zm3\", \"zm37\", \"zm6\", \"zm30\", \"zm17\", \"zm49\", \"zm12\", \"zm44\", \"zm54\", \"zm42\", \"zm23\", \"zm25\", \"zm4\", \"zm48\", \"zm41\", \"zm9\", \"zm8\", \"zm51\", \"zm53\", \"zm36\", \"zm33\", \"zm50\", \"zm7\", \"zm10\", \"zm57\", \"zm47\", \"zm35\", \"zm43\", \"zm1\", \"zm55\", \"zm14\", \"zm18\", \"zm56\", \"zm2\", \"zm32\", \"zm26\", \"zm16\", \"zm38\", \"zm24\", \"zm31\", \"zm59\", \"zm45\", \"zm29\", \"zm22\", \"zm28\", \"zm11\", \"zm34\", \"zm21\", \"zm27\", \"zm46\", \"zm52\", \"zm15\", \"zm13\", \"zm19\", \"zm20\", \"zm58\"], \"y\": [0.07229791050764252, 0.055245884499646486, 0.08274030133488897, 0.08510373302787304, 0.06331863086640073, 0.0714540151687586, 0.05405539682024849, 0.09907446450735194, 0.07785976518319533, 0.0534656429555996, 0.07481749798613956, 0.07691315084430721, 0.07713905061161648, 0.12079047729871278, 0.09991934670119111, 0.10283877489404089, 0.08009386829464361, 0.09356593673699498, 0.10308396268139257, 0.07920705411458416, 0.06623159095555212, 0.13194656355862985, 0.11890800307532932, 0.14441138765742742, 0.2035218071055289, 0.15419926474108298, 0.09738684950060356, 0.12515511794983747, 0.18093558656569766, 0.15201442946297075, 0.125822158153032, 0.09785001175750438, 0.1485126686410789, 0.13077485098550207, 0.11706281646451198, 0.1159502286773403, 0.11572880877242243, 0.133354857156784, 0.11393986482368519, 0.1673212102453734, 0.08857635238696379, 0.09901281312654883, 0.1461461787012053, 0.1050595291433061, 0.11124097393877817, 0.26225420010073336, 0.15324918663441478, 0.15086453670933386, 0.12372546262768809, 0.2789549558150754, 0.15312342191657913, 0.1537822252745807, 0.13177323279878833, 0.13889205710336908, 0.15452764043942613, 0.2256727374199516, 0.09223122397914589, 0.20926307953656417, 0.10130199897677582]}, {\"mode\": \"lines+markers\", \"name\": \"('whole_urb', 'g.5km', '_idw10')\", \"type\": \"scatter\", \"x\": [\"zm40\", \"zm5\", \"zm39\", \"zm3\", \"zm37\", \"zm6\", \"zm30\", \"zm17\", \"zm49\", \"zm12\", \"zm44\", \"zm54\", \"zm42\", \"zm23\", \"zm25\", \"zm4\", \"zm48\", \"zm41\", \"zm9\", \"zm8\", \"zm51\", \"zm53\", \"zm36\", \"zm33\", \"zm50\", \"zm7\", \"zm10\", \"zm57\", \"zm47\", \"zm35\", \"zm43\", \"zm1\", \"zm55\", \"zm14\", \"zm18\", \"zm56\", \"zm2\", \"zm32\", \"zm26\", \"zm16\", \"zm38\", \"zm24\", \"zm31\", \"zm59\", \"zm45\", \"zm29\", \"zm22\", \"zm28\", \"zm11\", \"zm34\", \"zm21\", \"zm27\", \"zm46\", \"zm52\", \"zm15\", \"zm13\", \"zm19\", \"zm20\", \"zm58\"], \"y\": [0.03851492680877805, 0.03444776054356968, 0.03758869268168489, 0.1585377638078633, 0.05293311405506588, 0.0476647538817842, 0.06838904179831418, 0.08996609500910907, 0.05447321279960782, 0.054235321918523656, 0.05785860364472951, 0.03742454043523292, 0.03410872042844188, 0.052500240294008856, 0.08713041274692494, 0.09397914574136021, 0.07589716433183508, 0.07316807851098092, 0.0549348435468386, 0.06249009813894397, 0.09541307686024207, 0.07780976482405745, 0.12330020740488644, 0.07706515595652724, 0.1407963294102939, 0.09617695239014486, 0.07374820410345065, 0.11320719483671587, 0.242380723828102, 0.10297774871992788, 0.11764539864743573, 0.10492659210729974, 0.14712721397585668, 0.12304611917523937, 0.12091164259048749, 0.10790944297566288, 0.1213095301587802, 0.11870727653893508, 0.10735418893546665, 0.09629056473657871, 0.10444702867555579, 0.0708580614137699, 0.15238283053288457, 0.07961801053299733, 0.10001770401831865, 0.26417678741961126, 0.10346068310883416, 0.1850534688145345, 0.12646979857326238, 0.2672530069548845, 0.1369442250012593, 0.2867017186551325, 0.13262068702091676, 0.11482766737800144, 0.060737726681824075, 0.2159699806710107, 0.053795038628074394, 0.1360845037479694, 0.05658200236481947]}, {\"mode\": \"lines+markers\", \"name\": \"('perMun_uNr', 'g.5km', '_idw10')\", \"type\": \"scatter\", \"x\": [\"zm40\", \"zm5\", \"zm39\", \"zm3\", \"zm37\", \"zm6\", \"zm30\", \"zm17\", \"zm49\", \"zm12\", \"zm44\", \"zm54\", \"zm42\", \"zm23\", \"zm25\", \"zm4\", \"zm48\", \"zm41\", \"zm9\", \"zm8\", \"zm51\", \"zm53\", \"zm36\", \"zm33\", \"zm50\", \"zm7\", \"zm10\", \"zm57\", \"zm47\", \"zm35\", \"zm43\", \"zm1\", \"zm55\", \"zm14\", \"zm18\", \"zm56\", \"zm2\", \"zm32\", \"zm26\", \"zm16\", \"zm38\", \"zm24\", \"zm31\", \"zm59\", \"zm45\", \"zm29\", \"zm22\", \"zm28\", \"zm11\", \"zm34\", \"zm21\", \"zm27\", \"zm46\", \"zm52\", \"zm15\", \"zm13\", \"zm19\", \"zm20\", \"zm58\"], \"y\": [0.07427294902340437, 0.08699128413003145, 0.0928996038402503, 0.08505514095343616, 0.14059979935237318, 0.14495319823351033, 0.10122018316055917, 0.17937760790533533, 0.2893843259449803, 0.11091688297448472, 0.07481749798412089, 0.1265787456360146, 0.38846919336915864, 0.15403503624545029, 0.20842589916170265, 0.19966611850280722, 0.33359013652291997, 0.1023687398275548, 0.16870242551182782, 0.20020030276787928, 0.18633333990227077, 0.42701954793988656, 0.1957917078684656, 0.19773066593407151, 0.32693292854196376, 0.2741925262359019, 0.2963005277638649, 0.3094280893363892, 0.29292870600302856, 0.22619287117806292, 0.19266850995397936, 0.15278539333974817, 0.3769539615764715, 0.4012803835436807, 0.38106373528906, 0.18987898618788068, 0.2537754690133479, 0.5234984915375869, 0.14319821098491853, 0.15741043424111079, 0.08644928321202106, 0.3801388555671926, 0.3130876985492792, 0.2280226653177277, 0.1112409739387778, 0.3724772741863354, 0.17466074192538703, 0.40954369335642343, 0.12372546261942342, 0.5282203781108838, 0.33605449484306227, 0.3605707433646806, 0.466112570735687, 0.3400927247744732, 0.1607062579724885, 0.5394484741107487, 0.24419750037511587, 0.39350516180415435, 0.3138585308863522]}, {\"mode\": \"lines+markers\", \"name\": \"('perMun_urb', 'g.5km', '_idw10')\", \"type\": \"scatter\", \"x\": [\"zm40\", \"zm5\", \"zm39\", \"zm3\", \"zm37\", \"zm6\", \"zm30\", \"zm17\", \"zm49\", \"zm12\", \"zm44\", \"zm54\", \"zm42\", \"zm23\", \"zm25\", \"zm4\", \"zm48\", \"zm41\", \"zm9\", \"zm8\", \"zm51\", \"zm53\", \"zm36\", \"zm33\", \"zm50\", \"zm7\", \"zm10\", \"zm57\", \"zm47\", \"zm35\", \"zm43\", \"zm1\", \"zm55\", \"zm14\", \"zm18\", \"zm56\", \"zm2\", \"zm32\", \"zm26\", \"zm16\", \"zm38\", \"zm24\", \"zm31\", \"zm59\", \"zm45\", \"zm29\", \"zm22\", \"zm28\", \"zm11\", \"zm34\", \"zm21\", \"zm27\", \"zm46\", \"zm52\", \"zm15\", \"zm13\", \"zm19\", \"zm20\", \"zm58\"], \"y\": [0.059232093623189125, 0.06907795556807113, 0.04450996675268647, 0.1585377638078633, 0.09135556425131947, 0.1028037892971487, 0.057268638043638784, 0.14082902044572465, 0.22590898180446153, 0.1074967647804415, 0.05785860364472951, 0.07691984199778487, 0.33083620012523973, 0.055850529944028976, 0.2056264316018065, 0.14637222330278737, 0.3303497329863068, 0.08321734687223406, 0.14064950862022385, 0.1419168311407624, 0.14245892551560138, 0.36952042278647923, 0.19513176340494076, 0.22140052173196303, 0.36548411224850397, 0.22916655744154046, 0.16704709177114688, 0.2674979294350718, 0.19846668691472766, 0.17506748750768017, 0.19170558625280323, 0.2207206947078219, 0.33222883367095074, 0.29325370712034293, 0.317622332467448, 0.1582550852337731, 0.2680698319940203, 0.46979405649309774, 0.13362405351529222, 0.08663121292316371, 0.09443065836536466, 0.3250791186159077, 0.2534114255270829, 0.1435197905369718, 0.10001770401831865, 0.3220033614548759, 0.183588795138783, 0.4561433893486616, 0.12646979857326238, 0.4974030349509451, 0.2943040419414024, 0.12107562648514222, 0.396443993199418, 0.2871295550320412, 0.06482739177006004, 0.4491404881130944, 0.1737792819947562, 0.28690935153320607, 0.24045837507431275]}],\n",
       "                        {\"height\": 300, \"margin\": {\"b\": 10, \"l\": 10, \"r\": 100, \"t\": 10}, \"template\": {\"data\": {\"bar\": [{\"error_x\": {\"color\": \"#2a3f5f\"}, \"error_y\": {\"color\": \"#2a3f5f\"}, \"marker\": {\"line\": {\"color\": \"#E5ECF6\", \"width\": 0.5}}, \"type\": \"bar\"}], \"barpolar\": [{\"marker\": {\"line\": {\"color\": \"#E5ECF6\", \"width\": 0.5}}, \"type\": \"barpolar\"}], \"carpet\": [{\"aaxis\": {\"endlinecolor\": \"#2a3f5f\", \"gridcolor\": \"white\", \"linecolor\": \"white\", \"minorgridcolor\": \"white\", \"startlinecolor\": \"#2a3f5f\"}, \"baxis\": {\"endlinecolor\": \"#2a3f5f\", \"gridcolor\": \"white\", \"linecolor\": \"white\", \"minorgridcolor\": \"white\", \"startlinecolor\": \"#2a3f5f\"}, \"type\": \"carpet\"}], \"choropleth\": [{\"colorbar\": {\"outlinewidth\": 0, \"ticks\": \"\"}, \"type\": \"choropleth\"}], \"contour\": [{\"colorbar\": {\"outlinewidth\": 0, \"ticks\": \"\"}, \"colorscale\": [[0.0, \"#0d0887\"], [0.1111111111111111, \"#46039f\"], [0.2222222222222222, \"#7201a8\"], [0.3333333333333333, \"#9c179e\"], [0.4444444444444444, \"#bd3786\"], [0.5555555555555556, \"#d8576b\"], [0.6666666666666666, \"#ed7953\"], [0.7777777777777778, \"#fb9f3a\"], [0.8888888888888888, \"#fdca26\"], [1.0, \"#f0f921\"]], \"type\": \"contour\"}], \"contourcarpet\": [{\"colorbar\": {\"outlinewidth\": 0, \"ticks\": \"\"}, \"type\": \"contourcarpet\"}], \"heatmap\": [{\"colorbar\": {\"outlinewidth\": 0, \"ticks\": \"\"}, \"colorscale\": [[0.0, \"#0d0887\"], [0.1111111111111111, \"#46039f\"], [0.2222222222222222, \"#7201a8\"], [0.3333333333333333, \"#9c179e\"], [0.4444444444444444, \"#bd3786\"], [0.5555555555555556, \"#d8576b\"], [0.6666666666666666, \"#ed7953\"], [0.7777777777777778, \"#fb9f3a\"], [0.8888888888888888, \"#fdca26\"], [1.0, \"#f0f921\"]], \"type\": \"heatmap\"}], \"heatmapgl\": [{\"colorbar\": {\"outlinewidth\": 0, \"ticks\": \"\"}, \"colorscale\": [[0.0, \"#0d0887\"], [0.1111111111111111, \"#46039f\"], [0.2222222222222222, \"#7201a8\"], [0.3333333333333333, \"#9c179e\"], [0.4444444444444444, \"#bd3786\"], [0.5555555555555556, \"#d8576b\"], [0.6666666666666666, \"#ed7953\"], [0.7777777777777778, \"#fb9f3a\"], [0.8888888888888888, \"#fdca26\"], [1.0, \"#f0f921\"]], \"type\": \"heatmapgl\"}], \"histogram\": [{\"marker\": {\"colorbar\": {\"outlinewidth\": 0, \"ticks\": \"\"}}, \"type\": \"histogram\"}], \"histogram2d\": [{\"colorbar\": {\"outlinewidth\": 0, \"ticks\": \"\"}, \"colorscale\": [[0.0, \"#0d0887\"], [0.1111111111111111, \"#46039f\"], [0.2222222222222222, \"#7201a8\"], [0.3333333333333333, \"#9c179e\"], [0.4444444444444444, \"#bd3786\"], [0.5555555555555556, \"#d8576b\"], [0.6666666666666666, \"#ed7953\"], [0.7777777777777778, \"#fb9f3a\"], [0.8888888888888888, \"#fdca26\"], [1.0, \"#f0f921\"]], \"type\": \"histogram2d\"}], \"histogram2dcontour\": [{\"colorbar\": {\"outlinewidth\": 0, \"ticks\": \"\"}, \"colorscale\": [[0.0, \"#0d0887\"], [0.1111111111111111, \"#46039f\"], [0.2222222222222222, \"#7201a8\"], [0.3333333333333333, \"#9c179e\"], [0.4444444444444444, \"#bd3786\"], [0.5555555555555556, \"#d8576b\"], [0.6666666666666666, \"#ed7953\"], [0.7777777777777778, \"#fb9f3a\"], [0.8888888888888888, \"#fdca26\"], [1.0, \"#f0f921\"]], \"type\": \"histogram2dcontour\"}], \"mesh3d\": [{\"colorbar\": {\"outlinewidth\": 0, \"ticks\": \"\"}, \"type\": \"mesh3d\"}], \"parcoords\": [{\"line\": {\"colorbar\": {\"outlinewidth\": 0, \"ticks\": \"\"}}, \"type\": \"parcoords\"}], \"scatter\": [{\"marker\": {\"colorbar\": {\"outlinewidth\": 0, \"ticks\": \"\"}}, \"type\": \"scatter\"}], \"scatter3d\": [{\"line\": {\"colorbar\": {\"outlinewidth\": 0, \"ticks\": \"\"}}, \"marker\": {\"colorbar\": {\"outlinewidth\": 0, \"ticks\": \"\"}}, \"type\": \"scatter3d\"}], \"scattercarpet\": [{\"marker\": {\"colorbar\": {\"outlinewidth\": 0, \"ticks\": \"\"}}, \"type\": \"scattercarpet\"}], \"scattergeo\": [{\"marker\": {\"colorbar\": {\"outlinewidth\": 0, \"ticks\": \"\"}}, \"type\": \"scattergeo\"}], \"scattergl\": [{\"marker\": {\"colorbar\": {\"outlinewidth\": 0, \"ticks\": \"\"}}, \"type\": \"scattergl\"}], \"scattermapbox\": [{\"marker\": {\"colorbar\": {\"outlinewidth\": 0, \"ticks\": \"\"}}, \"type\": \"scattermapbox\"}], \"scatterpolar\": [{\"marker\": {\"colorbar\": {\"outlinewidth\": 0, \"ticks\": \"\"}}, \"type\": \"scatterpolar\"}], \"scatterpolargl\": [{\"marker\": {\"colorbar\": {\"outlinewidth\": 0, \"ticks\": \"\"}}, \"type\": \"scatterpolargl\"}], \"scatterternary\": [{\"marker\": {\"colorbar\": {\"outlinewidth\": 0, \"ticks\": \"\"}}, \"type\": \"scatterternary\"}], \"surface\": [{\"colorbar\": {\"outlinewidth\": 0, \"ticks\": \"\"}, \"colorscale\": [[0.0, \"#0d0887\"], [0.1111111111111111, \"#46039f\"], [0.2222222222222222, \"#7201a8\"], [0.3333333333333333, \"#9c179e\"], [0.4444444444444444, \"#bd3786\"], [0.5555555555555556, \"#d8576b\"], [0.6666666666666666, \"#ed7953\"], [0.7777777777777778, \"#fb9f3a\"], [0.8888888888888888, \"#fdca26\"], [1.0, \"#f0f921\"]], \"type\": \"surface\"}], \"table\": [{\"cells\": {\"fill\": {\"color\": \"#EBF0F8\"}, \"line\": {\"color\": \"white\"}}, \"header\": {\"fill\": {\"color\": \"#C8D4E3\"}, \"line\": {\"color\": \"white\"}}, \"type\": \"table\"}]}, \"layout\": {\"annotationdefaults\": {\"arrowcolor\": \"#2a3f5f\", \"arrowhead\": 0, \"arrowwidth\": 1}, \"colorscale\": {\"diverging\": [[0, \"#8e0152\"], [0.1, \"#c51b7d\"], [0.2, \"#de77ae\"], [0.3, \"#f1b6da\"], [0.4, \"#fde0ef\"], [0.5, \"#f7f7f7\"], [0.6, \"#e6f5d0\"], [0.7, \"#b8e186\"], [0.8, \"#7fbc41\"], [0.9, \"#4d9221\"], [1, \"#276419\"]], \"sequential\": [[0.0, \"#0d0887\"], [0.1111111111111111, \"#46039f\"], [0.2222222222222222, \"#7201a8\"], [0.3333333333333333, \"#9c179e\"], [0.4444444444444444, \"#bd3786\"], [0.5555555555555556, \"#d8576b\"], [0.6666666666666666, \"#ed7953\"], [0.7777777777777778, \"#fb9f3a\"], [0.8888888888888888, \"#fdca26\"], [1.0, \"#f0f921\"]], \"sequentialminus\": [[0.0, \"#0d0887\"], [0.1111111111111111, \"#46039f\"], [0.2222222222222222, \"#7201a8\"], [0.3333333333333333, \"#9c179e\"], [0.4444444444444444, \"#bd3786\"], [0.5555555555555556, \"#d8576b\"], [0.6666666666666666, \"#ed7953\"], [0.7777777777777778, \"#fb9f3a\"], [0.8888888888888888, \"#fdca26\"], [1.0, \"#f0f921\"]]}, \"colorway\": [\"#636efa\", \"#EF553B\", \"#00cc96\", \"#ab63fa\", \"#FFA15A\", \"#19d3f3\", \"#FF6692\", \"#B6E880\", \"#FF97FF\", \"#FECB52\"], \"font\": {\"color\": \"#2a3f5f\"}, \"geo\": {\"bgcolor\": \"white\", \"lakecolor\": \"white\", \"landcolor\": \"#E5ECF6\", \"showlakes\": true, \"showland\": true, \"subunitcolor\": \"white\"}, \"hoverlabel\": {\"align\": \"left\"}, \"hovermode\": \"closest\", \"mapbox\": {\"style\": \"light\"}, \"paper_bgcolor\": \"white\", \"plot_bgcolor\": \"#E5ECF6\", \"polar\": {\"angularaxis\": {\"gridcolor\": \"white\", \"linecolor\": \"white\", \"ticks\": \"\"}, \"bgcolor\": \"#E5ECF6\", \"radialaxis\": {\"gridcolor\": \"white\", \"linecolor\": \"white\", \"ticks\": \"\"}}, \"scene\": {\"xaxis\": {\"backgroundcolor\": \"#E5ECF6\", \"gridcolor\": \"white\", \"gridwidth\": 2, \"linecolor\": \"white\", \"showbackground\": true, \"ticks\": \"\", \"zerolinecolor\": \"white\"}, \"yaxis\": {\"backgroundcolor\": \"#E5ECF6\", \"gridcolor\": \"white\", \"gridwidth\": 2, \"linecolor\": \"white\", \"showbackground\": true, \"ticks\": \"\", \"zerolinecolor\": \"white\"}, \"zaxis\": {\"backgroundcolor\": \"#E5ECF6\", \"gridcolor\": \"white\", \"gridwidth\": 2, \"linecolor\": \"white\", \"showbackground\": true, \"ticks\": \"\", \"zerolinecolor\": \"white\"}}, \"shapedefaults\": {\"line\": {\"color\": \"#2a3f5f\"}}, \"ternary\": {\"aaxis\": {\"gridcolor\": \"white\", \"linecolor\": \"white\", \"ticks\": \"\"}, \"baxis\": {\"gridcolor\": \"white\", \"linecolor\": \"white\", \"ticks\": \"\"}, \"bgcolor\": \"#E5ECF6\", \"caxis\": {\"gridcolor\": \"white\", \"linecolor\": \"white\", \"ticks\": \"\"}}, \"title\": {\"x\": 0.05}, \"xaxis\": {\"automargin\": true, \"gridcolor\": \"white\", \"linecolor\": \"white\", \"ticks\": \"\", \"zerolinecolor\": \"white\", \"zerolinewidth\": 2}, \"yaxis\": {\"automargin\": true, \"gridcolor\": \"white\", \"linecolor\": \"white\", \"ticks\": \"\", \"zerolinecolor\": \"white\", \"zerolinewidth\": 2}}}},\n",
       "                        {\"responsive\": true}\n",
       "                    ).then(function(){\n",
       "                            \n",
       "var gd = document.getElementById('e9588ee2-4fa2-439d-bf35-b10d224bc90b');\n",
       "var x = new MutationObserver(function (mutations, observer) {{\n",
       "        var display = window.getComputedStyle(gd).display;\n",
       "        if (!display || display === 'none') {{\n",
       "            console.log([gd, 'removed!']);\n",
       "            Plotly.purge(gd);\n",
       "            observer.disconnect();\n",
       "        }}\n",
       "}});\n",
       "\n",
       "// Listen for the removal of the full notebook cells\n",
       "var notebookContainer = gd.closest('#notebook-container');\n",
       "if (notebookContainer) {{\n",
       "    x.observe(notebookContainer, {childList: true});\n",
       "}}\n",
       "\n",
       "// Listen for the clearing of the current output cell\n",
       "var outputEl = gd.closest('.output');\n",
       "if (outputEl) {{\n",
       "    x.observe(outputEl, {childList: true});\n",
       "}}\n",
       "\n",
       "                        })\n",
       "                };\n",
       "                });\n",
       "            </script>\n",
       "        </div>"
      ]
     },
     "metadata": {},
     "output_type": "display_data"
    },
    {
     "data": {
      "application/vnd.plotly.v1+json": {
       "config": {
        "linkText": "Export to plot.ly",
        "plotlyServerURL": "https://plot.ly",
        "showLink": false
       },
       "data": [
        {
         "mode": "lines+markers",
         "name": "0",
         "type": "scatter",
         "x": [
          "zm40",
          "zm5",
          "zm39",
          "zm3",
          "zm37",
          "zm6",
          "zm30",
          "zm17",
          "zm49",
          "zm12",
          "zm44",
          "zm54",
          "zm42",
          "zm23",
          "zm25",
          "zm4",
          "zm48",
          "zm41",
          "zm9",
          "zm8",
          "zm51",
          "zm53",
          "zm36",
          "zm33",
          "zm50",
          "zm7",
          "zm10",
          "zm57",
          "zm47",
          "zm35",
          "zm43",
          "zm1",
          "zm55",
          "zm14",
          "zm18",
          "zm56",
          "zm2",
          "zm32",
          "zm26",
          "zm16",
          "zm38",
          "zm24",
          "zm31",
          "zm59",
          "zm45",
          "zm29",
          "zm22",
          "zm28",
          "zm11",
          "zm34",
          "zm21",
          "zm27",
          "zm46",
          "zm52",
          "zm15",
          "zm13",
          "zm19",
          "zm20",
          "zm58"
         ],
         "y": [
          0.020858629476529337,
          0.026833270142758145,
          0.021458228327290812,
          0.10144999566420006,
          0.03598360462934247,
          0.03331740561420747,
          0.021130951537593003,
          0.07508361655090202,
          0.11419458308755315,
          0.04925395203833337,
          0.011755496101274954,
          0.07166681866001294,
          0.14633556416162435,
          0.06414973405835808,
          0.06897121239838448,
          0.045439716549183884,
          0.14513394280760006,
          0.0306488746786235,
          0.05440427298858219,
          0.0655283374435289,
          0.05534486372928629,
          0.15242194708060108,
          0.052206176773151584,
          0.14805079639448787,
          0.13505494030485415,
          0.15529919036336265,
          0.10842614031126467,
          0.16263068673250156,
          0.11902109014424549,
          0.05290767421246258,
          0.0529964978725825,
          0.045265072816627366,
          0.10623396085654965,
          0.13519776914342227,
          0.1350994896133944,
          0.03763420148702067,
          0.11151899799348787,
          0.18692141675812307,
          0.029664245246335985,
          0.04313707724483658,
          0.012137157166772746,
          0.14406811057009522,
          0.08352574273154505,
          0.0482110651244205,
          0.022754383891433652,
          0.0668524463751986,
          0.04035608727040767,
          0.11349088095340842,
          0.008262494825206837,
          0.1639491653885344,
          0.0698808598914719,
          0.12555894748426677,
          0.1456663483019763,
          0.08660825393295635,
          0.0633927297288966,
          0.14226953490230762,
          0.11412128104011675,
          0.09617728933819081,
          0.12591119310865764
         ]
        }
       ],
       "layout": {
        "height": 300,
        "margin": {
         "b": 10,
         "l": 10,
         "r": 175,
         "t": 10
        },
        "template": {
         "data": {
          "bar": [
           {
            "error_x": {
             "color": "#2a3f5f"
            },
            "error_y": {
             "color": "#2a3f5f"
            },
            "marker": {
             "line": {
              "color": "#E5ECF6",
              "width": 0.5
             }
            },
            "type": "bar"
           }
          ],
          "barpolar": [
           {
            "marker": {
             "line": {
              "color": "#E5ECF6",
              "width": 0.5
             }
            },
            "type": "barpolar"
           }
          ],
          "carpet": [
           {
            "aaxis": {
             "endlinecolor": "#2a3f5f",
             "gridcolor": "white",
             "linecolor": "white",
             "minorgridcolor": "white",
             "startlinecolor": "#2a3f5f"
            },
            "baxis": {
             "endlinecolor": "#2a3f5f",
             "gridcolor": "white",
             "linecolor": "white",
             "minorgridcolor": "white",
             "startlinecolor": "#2a3f5f"
            },
            "type": "carpet"
           }
          ],
          "choropleth": [
           {
            "colorbar": {
             "outlinewidth": 0,
             "ticks": ""
            },
            "type": "choropleth"
           }
          ],
          "contour": [
           {
            "colorbar": {
             "outlinewidth": 0,
             "ticks": ""
            },
            "colorscale": [
             [
              0,
              "#0d0887"
             ],
             [
              0.1111111111111111,
              "#46039f"
             ],
             [
              0.2222222222222222,
              "#7201a8"
             ],
             [
              0.3333333333333333,
              "#9c179e"
             ],
             [
              0.4444444444444444,
              "#bd3786"
             ],
             [
              0.5555555555555556,
              "#d8576b"
             ],
             [
              0.6666666666666666,
              "#ed7953"
             ],
             [
              0.7777777777777778,
              "#fb9f3a"
             ],
             [
              0.8888888888888888,
              "#fdca26"
             ],
             [
              1,
              "#f0f921"
             ]
            ],
            "type": "contour"
           }
          ],
          "contourcarpet": [
           {
            "colorbar": {
             "outlinewidth": 0,
             "ticks": ""
            },
            "type": "contourcarpet"
           }
          ],
          "heatmap": [
           {
            "colorbar": {
             "outlinewidth": 0,
             "ticks": ""
            },
            "colorscale": [
             [
              0,
              "#0d0887"
             ],
             [
              0.1111111111111111,
              "#46039f"
             ],
             [
              0.2222222222222222,
              "#7201a8"
             ],
             [
              0.3333333333333333,
              "#9c179e"
             ],
             [
              0.4444444444444444,
              "#bd3786"
             ],
             [
              0.5555555555555556,
              "#d8576b"
             ],
             [
              0.6666666666666666,
              "#ed7953"
             ],
             [
              0.7777777777777778,
              "#fb9f3a"
             ],
             [
              0.8888888888888888,
              "#fdca26"
             ],
             [
              1,
              "#f0f921"
             ]
            ],
            "type": "heatmap"
           }
          ],
          "heatmapgl": [
           {
            "colorbar": {
             "outlinewidth": 0,
             "ticks": ""
            },
            "colorscale": [
             [
              0,
              "#0d0887"
             ],
             [
              0.1111111111111111,
              "#46039f"
             ],
             [
              0.2222222222222222,
              "#7201a8"
             ],
             [
              0.3333333333333333,
              "#9c179e"
             ],
             [
              0.4444444444444444,
              "#bd3786"
             ],
             [
              0.5555555555555556,
              "#d8576b"
             ],
             [
              0.6666666666666666,
              "#ed7953"
             ],
             [
              0.7777777777777778,
              "#fb9f3a"
             ],
             [
              0.8888888888888888,
              "#fdca26"
             ],
             [
              1,
              "#f0f921"
             ]
            ],
            "type": "heatmapgl"
           }
          ],
          "histogram": [
           {
            "marker": {
             "colorbar": {
              "outlinewidth": 0,
              "ticks": ""
             }
            },
            "type": "histogram"
           }
          ],
          "histogram2d": [
           {
            "colorbar": {
             "outlinewidth": 0,
             "ticks": ""
            },
            "colorscale": [
             [
              0,
              "#0d0887"
             ],
             [
              0.1111111111111111,
              "#46039f"
             ],
             [
              0.2222222222222222,
              "#7201a8"
             ],
             [
              0.3333333333333333,
              "#9c179e"
             ],
             [
              0.4444444444444444,
              "#bd3786"
             ],
             [
              0.5555555555555556,
              "#d8576b"
             ],
             [
              0.6666666666666666,
              "#ed7953"
             ],
             [
              0.7777777777777778,
              "#fb9f3a"
             ],
             [
              0.8888888888888888,
              "#fdca26"
             ],
             [
              1,
              "#f0f921"
             ]
            ],
            "type": "histogram2d"
           }
          ],
          "histogram2dcontour": [
           {
            "colorbar": {
             "outlinewidth": 0,
             "ticks": ""
            },
            "colorscale": [
             [
              0,
              "#0d0887"
             ],
             [
              0.1111111111111111,
              "#46039f"
             ],
             [
              0.2222222222222222,
              "#7201a8"
             ],
             [
              0.3333333333333333,
              "#9c179e"
             ],
             [
              0.4444444444444444,
              "#bd3786"
             ],
             [
              0.5555555555555556,
              "#d8576b"
             ],
             [
              0.6666666666666666,
              "#ed7953"
             ],
             [
              0.7777777777777778,
              "#fb9f3a"
             ],
             [
              0.8888888888888888,
              "#fdca26"
             ],
             [
              1,
              "#f0f921"
             ]
            ],
            "type": "histogram2dcontour"
           }
          ],
          "mesh3d": [
           {
            "colorbar": {
             "outlinewidth": 0,
             "ticks": ""
            },
            "type": "mesh3d"
           }
          ],
          "parcoords": [
           {
            "line": {
             "colorbar": {
              "outlinewidth": 0,
              "ticks": ""
             }
            },
            "type": "parcoords"
           }
          ],
          "scatter": [
           {
            "marker": {
             "colorbar": {
              "outlinewidth": 0,
              "ticks": ""
             }
            },
            "type": "scatter"
           }
          ],
          "scatter3d": [
           {
            "line": {
             "colorbar": {
              "outlinewidth": 0,
              "ticks": ""
             }
            },
            "marker": {
             "colorbar": {
              "outlinewidth": 0,
              "ticks": ""
             }
            },
            "type": "scatter3d"
           }
          ],
          "scattercarpet": [
           {
            "marker": {
             "colorbar": {
              "outlinewidth": 0,
              "ticks": ""
             }
            },
            "type": "scattercarpet"
           }
          ],
          "scattergeo": [
           {
            "marker": {
             "colorbar": {
              "outlinewidth": 0,
              "ticks": ""
             }
            },
            "type": "scattergeo"
           }
          ],
          "scattergl": [
           {
            "marker": {
             "colorbar": {
              "outlinewidth": 0,
              "ticks": ""
             }
            },
            "type": "scattergl"
           }
          ],
          "scattermapbox": [
           {
            "marker": {
             "colorbar": {
              "outlinewidth": 0,
              "ticks": ""
             }
            },
            "type": "scattermapbox"
           }
          ],
          "scatterpolar": [
           {
            "marker": {
             "colorbar": {
              "outlinewidth": 0,
              "ticks": ""
             }
            },
            "type": "scatterpolar"
           }
          ],
          "scatterpolargl": [
           {
            "marker": {
             "colorbar": {
              "outlinewidth": 0,
              "ticks": ""
             }
            },
            "type": "scatterpolargl"
           }
          ],
          "scatterternary": [
           {
            "marker": {
             "colorbar": {
              "outlinewidth": 0,
              "ticks": ""
             }
            },
            "type": "scatterternary"
           }
          ],
          "surface": [
           {
            "colorbar": {
             "outlinewidth": 0,
             "ticks": ""
            },
            "colorscale": [
             [
              0,
              "#0d0887"
             ],
             [
              0.1111111111111111,
              "#46039f"
             ],
             [
              0.2222222222222222,
              "#7201a8"
             ],
             [
              0.3333333333333333,
              "#9c179e"
             ],
             [
              0.4444444444444444,
              "#bd3786"
             ],
             [
              0.5555555555555556,
              "#d8576b"
             ],
             [
              0.6666666666666666,
              "#ed7953"
             ],
             [
              0.7777777777777778,
              "#fb9f3a"
             ],
             [
              0.8888888888888888,
              "#fdca26"
             ],
             [
              1,
              "#f0f921"
             ]
            ],
            "type": "surface"
           }
          ],
          "table": [
           {
            "cells": {
             "fill": {
              "color": "#EBF0F8"
             },
             "line": {
              "color": "white"
             }
            },
            "header": {
             "fill": {
              "color": "#C8D4E3"
             },
             "line": {
              "color": "white"
             }
            },
            "type": "table"
           }
          ]
         },
         "layout": {
          "annotationdefaults": {
           "arrowcolor": "#2a3f5f",
           "arrowhead": 0,
           "arrowwidth": 1
          },
          "colorscale": {
           "diverging": [
            [
             0,
             "#8e0152"
            ],
            [
             0.1,
             "#c51b7d"
            ],
            [
             0.2,
             "#de77ae"
            ],
            [
             0.3,
             "#f1b6da"
            ],
            [
             0.4,
             "#fde0ef"
            ],
            [
             0.5,
             "#f7f7f7"
            ],
            [
             0.6,
             "#e6f5d0"
            ],
            [
             0.7,
             "#b8e186"
            ],
            [
             0.8,
             "#7fbc41"
            ],
            [
             0.9,
             "#4d9221"
            ],
            [
             1,
             "#276419"
            ]
           ],
           "sequential": [
            [
             0,
             "#0d0887"
            ],
            [
             0.1111111111111111,
             "#46039f"
            ],
            [
             0.2222222222222222,
             "#7201a8"
            ],
            [
             0.3333333333333333,
             "#9c179e"
            ],
            [
             0.4444444444444444,
             "#bd3786"
            ],
            [
             0.5555555555555556,
             "#d8576b"
            ],
            [
             0.6666666666666666,
             "#ed7953"
            ],
            [
             0.7777777777777778,
             "#fb9f3a"
            ],
            [
             0.8888888888888888,
             "#fdca26"
            ],
            [
             1,
             "#f0f921"
            ]
           ],
           "sequentialminus": [
            [
             0,
             "#0d0887"
            ],
            [
             0.1111111111111111,
             "#46039f"
            ],
            [
             0.2222222222222222,
             "#7201a8"
            ],
            [
             0.3333333333333333,
             "#9c179e"
            ],
            [
             0.4444444444444444,
             "#bd3786"
            ],
            [
             0.5555555555555556,
             "#d8576b"
            ],
            [
             0.6666666666666666,
             "#ed7953"
            ],
            [
             0.7777777777777778,
             "#fb9f3a"
            ],
            [
             0.8888888888888888,
             "#fdca26"
            ],
            [
             1,
             "#f0f921"
            ]
           ]
          },
          "colorway": [
           "#636efa",
           "#EF553B",
           "#00cc96",
           "#ab63fa",
           "#FFA15A",
           "#19d3f3",
           "#FF6692",
           "#B6E880",
           "#FF97FF",
           "#FECB52"
          ],
          "font": {
           "color": "#2a3f5f"
          },
          "geo": {
           "bgcolor": "white",
           "lakecolor": "white",
           "landcolor": "#E5ECF6",
           "showlakes": true,
           "showland": true,
           "subunitcolor": "white"
          },
          "hoverlabel": {
           "align": "left"
          },
          "hovermode": "closest",
          "mapbox": {
           "style": "light"
          },
          "paper_bgcolor": "white",
          "plot_bgcolor": "#E5ECF6",
          "polar": {
           "angularaxis": {
            "gridcolor": "white",
            "linecolor": "white",
            "ticks": ""
           },
           "bgcolor": "#E5ECF6",
           "radialaxis": {
            "gridcolor": "white",
            "linecolor": "white",
            "ticks": ""
           }
          },
          "scene": {
           "xaxis": {
            "backgroundcolor": "#E5ECF6",
            "gridcolor": "white",
            "gridwidth": 2,
            "linecolor": "white",
            "showbackground": true,
            "ticks": "",
            "zerolinecolor": "white"
           },
           "yaxis": {
            "backgroundcolor": "#E5ECF6",
            "gridcolor": "white",
            "gridwidth": 2,
            "linecolor": "white",
            "showbackground": true,
            "ticks": "",
            "zerolinecolor": "white"
           },
           "zaxis": {
            "backgroundcolor": "#E5ECF6",
            "gridcolor": "white",
            "gridwidth": 2,
            "linecolor": "white",
            "showbackground": true,
            "ticks": "",
            "zerolinecolor": "white"
           }
          },
          "shapedefaults": {
           "line": {
            "color": "#2a3f5f"
           }
          },
          "ternary": {
           "aaxis": {
            "gridcolor": "white",
            "linecolor": "white",
            "ticks": ""
           },
           "baxis": {
            "gridcolor": "white",
            "linecolor": "white",
            "ticks": ""
           },
           "bgcolor": "#E5ECF6",
           "caxis": {
            "gridcolor": "white",
            "linecolor": "white",
            "ticks": ""
           }
          },
          "title": {
           "x": 0.05
          },
          "xaxis": {
           "automargin": true,
           "gridcolor": "white",
           "linecolor": "white",
           "ticks": "",
           "zerolinecolor": "white",
           "zerolinewidth": 2
          },
          "yaxis": {
           "automargin": true,
           "gridcolor": "white",
           "linecolor": "white",
           "ticks": "",
           "zerolinecolor": "white",
           "zerolinewidth": 2
          }
         }
        }
       }
      },
      "text/html": [
       "<div>\n",
       "        \n",
       "        \n",
       "            <div id=\"173a2cac-6148-41ee-82a4-4896bdfb580a\" class=\"plotly-graph-div\" style=\"height:300px; width:100%;\"></div>\n",
       "            <script type=\"text/javascript\">\n",
       "                require([\"plotly\"], function(Plotly) {\n",
       "                    window.PLOTLYENV=window.PLOTLYENV || {};\n",
       "                    \n",
       "                if (document.getElementById(\"173a2cac-6148-41ee-82a4-4896bdfb580a\")) {\n",
       "                    Plotly.newPlot(\n",
       "                        '173a2cac-6148-41ee-82a4-4896bdfb580a',\n",
       "                        [{\"mode\": \"lines+markers\", \"name\": \"0\", \"type\": \"scatter\", \"x\": [\"zm40\", \"zm5\", \"zm39\", \"zm3\", \"zm37\", \"zm6\", \"zm30\", \"zm17\", \"zm49\", \"zm12\", \"zm44\", \"zm54\", \"zm42\", \"zm23\", \"zm25\", \"zm4\", \"zm48\", \"zm41\", \"zm9\", \"zm8\", \"zm51\", \"zm53\", \"zm36\", \"zm33\", \"zm50\", \"zm7\", \"zm10\", \"zm57\", \"zm47\", \"zm35\", \"zm43\", \"zm1\", \"zm55\", \"zm14\", \"zm18\", \"zm56\", \"zm2\", \"zm32\", \"zm26\", \"zm16\", \"zm38\", \"zm24\", \"zm31\", \"zm59\", \"zm45\", \"zm29\", \"zm22\", \"zm28\", \"zm11\", \"zm34\", \"zm21\", \"zm27\", \"zm46\", \"zm52\", \"zm15\", \"zm13\", \"zm19\", \"zm20\", \"zm58\"], \"y\": [0.020858629476529337, 0.026833270142758145, 0.021458228327290812, 0.10144999566420006, 0.03598360462934247, 0.03331740561420747, 0.021130951537593003, 0.07508361655090202, 0.11419458308755315, 0.04925395203833337, 0.011755496101274954, 0.07166681866001294, 0.14633556416162435, 0.06414973405835808, 0.06897121239838448, 0.045439716549183884, 0.14513394280760006, 0.0306488746786235, 0.05440427298858219, 0.0655283374435289, 0.05534486372928629, 0.15242194708060108, 0.052206176773151584, 0.14805079639448787, 0.13505494030485415, 0.15529919036336265, 0.10842614031126467, 0.16263068673250156, 0.11902109014424549, 0.05290767421246258, 0.0529964978725825, 0.045265072816627366, 0.10623396085654965, 0.13519776914342227, 0.1350994896133944, 0.03763420148702067, 0.11151899799348787, 0.18692141675812307, 0.029664245246335985, 0.04313707724483658, 0.012137157166772746, 0.14406811057009522, 0.08352574273154505, 0.0482110651244205, 0.022754383891433652, 0.0668524463751986, 0.04035608727040767, 0.11349088095340842, 0.008262494825206837, 0.1639491653885344, 0.0698808598914719, 0.12555894748426677, 0.1456663483019763, 0.08660825393295635, 0.0633927297288966, 0.14226953490230762, 0.11412128104011675, 0.09617728933819081, 0.12591119310865764]}],\n",
       "                        {\"height\": 300, \"margin\": {\"b\": 10, \"l\": 10, \"r\": 175, \"t\": 10}, \"template\": {\"data\": {\"bar\": [{\"error_x\": {\"color\": \"#2a3f5f\"}, \"error_y\": {\"color\": \"#2a3f5f\"}, \"marker\": {\"line\": {\"color\": \"#E5ECF6\", \"width\": 0.5}}, \"type\": \"bar\"}], \"barpolar\": [{\"marker\": {\"line\": {\"color\": \"#E5ECF6\", \"width\": 0.5}}, \"type\": \"barpolar\"}], \"carpet\": [{\"aaxis\": {\"endlinecolor\": \"#2a3f5f\", \"gridcolor\": \"white\", \"linecolor\": \"white\", \"minorgridcolor\": \"white\", \"startlinecolor\": \"#2a3f5f\"}, \"baxis\": {\"endlinecolor\": \"#2a3f5f\", \"gridcolor\": \"white\", \"linecolor\": \"white\", \"minorgridcolor\": \"white\", \"startlinecolor\": \"#2a3f5f\"}, \"type\": \"carpet\"}], \"choropleth\": [{\"colorbar\": {\"outlinewidth\": 0, \"ticks\": \"\"}, \"type\": \"choropleth\"}], \"contour\": [{\"colorbar\": {\"outlinewidth\": 0, \"ticks\": \"\"}, \"colorscale\": [[0.0, \"#0d0887\"], [0.1111111111111111, \"#46039f\"], [0.2222222222222222, \"#7201a8\"], [0.3333333333333333, \"#9c179e\"], [0.4444444444444444, \"#bd3786\"], [0.5555555555555556, \"#d8576b\"], [0.6666666666666666, \"#ed7953\"], [0.7777777777777778, \"#fb9f3a\"], [0.8888888888888888, \"#fdca26\"], [1.0, \"#f0f921\"]], \"type\": \"contour\"}], \"contourcarpet\": [{\"colorbar\": {\"outlinewidth\": 0, \"ticks\": \"\"}, \"type\": \"contourcarpet\"}], \"heatmap\": [{\"colorbar\": {\"outlinewidth\": 0, \"ticks\": \"\"}, \"colorscale\": [[0.0, \"#0d0887\"], [0.1111111111111111, \"#46039f\"], [0.2222222222222222, \"#7201a8\"], [0.3333333333333333, \"#9c179e\"], [0.4444444444444444, \"#bd3786\"], [0.5555555555555556, \"#d8576b\"], [0.6666666666666666, \"#ed7953\"], [0.7777777777777778, \"#fb9f3a\"], [0.8888888888888888, \"#fdca26\"], [1.0, \"#f0f921\"]], \"type\": \"heatmap\"}], \"heatmapgl\": [{\"colorbar\": {\"outlinewidth\": 0, \"ticks\": \"\"}, \"colorscale\": [[0.0, \"#0d0887\"], [0.1111111111111111, \"#46039f\"], [0.2222222222222222, \"#7201a8\"], [0.3333333333333333, \"#9c179e\"], [0.4444444444444444, \"#bd3786\"], [0.5555555555555556, \"#d8576b\"], [0.6666666666666666, \"#ed7953\"], [0.7777777777777778, \"#fb9f3a\"], [0.8888888888888888, \"#fdca26\"], [1.0, \"#f0f921\"]], \"type\": \"heatmapgl\"}], \"histogram\": [{\"marker\": {\"colorbar\": {\"outlinewidth\": 0, \"ticks\": \"\"}}, \"type\": \"histogram\"}], \"histogram2d\": [{\"colorbar\": {\"outlinewidth\": 0, \"ticks\": \"\"}, \"colorscale\": [[0.0, \"#0d0887\"], [0.1111111111111111, \"#46039f\"], [0.2222222222222222, \"#7201a8\"], [0.3333333333333333, \"#9c179e\"], [0.4444444444444444, \"#bd3786\"], [0.5555555555555556, \"#d8576b\"], [0.6666666666666666, \"#ed7953\"], [0.7777777777777778, \"#fb9f3a\"], [0.8888888888888888, \"#fdca26\"], [1.0, \"#f0f921\"]], \"type\": \"histogram2d\"}], \"histogram2dcontour\": [{\"colorbar\": {\"outlinewidth\": 0, \"ticks\": \"\"}, \"colorscale\": [[0.0, \"#0d0887\"], [0.1111111111111111, \"#46039f\"], [0.2222222222222222, \"#7201a8\"], [0.3333333333333333, \"#9c179e\"], [0.4444444444444444, \"#bd3786\"], [0.5555555555555556, \"#d8576b\"], [0.6666666666666666, \"#ed7953\"], [0.7777777777777778, \"#fb9f3a\"], [0.8888888888888888, \"#fdca26\"], [1.0, \"#f0f921\"]], \"type\": \"histogram2dcontour\"}], \"mesh3d\": [{\"colorbar\": {\"outlinewidth\": 0, \"ticks\": \"\"}, \"type\": \"mesh3d\"}], \"parcoords\": [{\"line\": {\"colorbar\": {\"outlinewidth\": 0, \"ticks\": \"\"}}, \"type\": \"parcoords\"}], \"scatter\": [{\"marker\": {\"colorbar\": {\"outlinewidth\": 0, \"ticks\": \"\"}}, \"type\": \"scatter\"}], \"scatter3d\": [{\"line\": {\"colorbar\": {\"outlinewidth\": 0, \"ticks\": \"\"}}, \"marker\": {\"colorbar\": {\"outlinewidth\": 0, \"ticks\": \"\"}}, \"type\": \"scatter3d\"}], \"scattercarpet\": [{\"marker\": {\"colorbar\": {\"outlinewidth\": 0, \"ticks\": \"\"}}, \"type\": \"scattercarpet\"}], \"scattergeo\": [{\"marker\": {\"colorbar\": {\"outlinewidth\": 0, \"ticks\": \"\"}}, \"type\": \"scattergeo\"}], \"scattergl\": [{\"marker\": {\"colorbar\": {\"outlinewidth\": 0, \"ticks\": \"\"}}, \"type\": \"scattergl\"}], \"scattermapbox\": [{\"marker\": {\"colorbar\": {\"outlinewidth\": 0, \"ticks\": \"\"}}, \"type\": \"scattermapbox\"}], \"scatterpolar\": [{\"marker\": {\"colorbar\": {\"outlinewidth\": 0, \"ticks\": \"\"}}, \"type\": \"scatterpolar\"}], \"scatterpolargl\": [{\"marker\": {\"colorbar\": {\"outlinewidth\": 0, \"ticks\": \"\"}}, \"type\": \"scatterpolargl\"}], \"scatterternary\": [{\"marker\": {\"colorbar\": {\"outlinewidth\": 0, \"ticks\": \"\"}}, \"type\": \"scatterternary\"}], \"surface\": [{\"colorbar\": {\"outlinewidth\": 0, \"ticks\": \"\"}, \"colorscale\": [[0.0, \"#0d0887\"], [0.1111111111111111, \"#46039f\"], [0.2222222222222222, \"#7201a8\"], [0.3333333333333333, \"#9c179e\"], [0.4444444444444444, \"#bd3786\"], [0.5555555555555556, \"#d8576b\"], [0.6666666666666666, \"#ed7953\"], [0.7777777777777778, \"#fb9f3a\"], [0.8888888888888888, \"#fdca26\"], [1.0, \"#f0f921\"]], \"type\": \"surface\"}], \"table\": [{\"cells\": {\"fill\": {\"color\": \"#EBF0F8\"}, \"line\": {\"color\": \"white\"}}, \"header\": {\"fill\": {\"color\": \"#C8D4E3\"}, \"line\": {\"color\": \"white\"}}, \"type\": \"table\"}]}, \"layout\": {\"annotationdefaults\": {\"arrowcolor\": \"#2a3f5f\", \"arrowhead\": 0, \"arrowwidth\": 1}, \"colorscale\": {\"diverging\": [[0, \"#8e0152\"], [0.1, \"#c51b7d\"], [0.2, \"#de77ae\"], [0.3, \"#f1b6da\"], [0.4, \"#fde0ef\"], [0.5, \"#f7f7f7\"], [0.6, \"#e6f5d0\"], [0.7, \"#b8e186\"], [0.8, \"#7fbc41\"], [0.9, \"#4d9221\"], [1, \"#276419\"]], \"sequential\": [[0.0, \"#0d0887\"], [0.1111111111111111, \"#46039f\"], [0.2222222222222222, \"#7201a8\"], [0.3333333333333333, \"#9c179e\"], [0.4444444444444444, \"#bd3786\"], [0.5555555555555556, \"#d8576b\"], [0.6666666666666666, \"#ed7953\"], [0.7777777777777778, \"#fb9f3a\"], [0.8888888888888888, \"#fdca26\"], [1.0, \"#f0f921\"]], \"sequentialminus\": [[0.0, \"#0d0887\"], [0.1111111111111111, \"#46039f\"], [0.2222222222222222, \"#7201a8\"], [0.3333333333333333, \"#9c179e\"], [0.4444444444444444, \"#bd3786\"], [0.5555555555555556, \"#d8576b\"], [0.6666666666666666, \"#ed7953\"], [0.7777777777777778, \"#fb9f3a\"], [0.8888888888888888, \"#fdca26\"], [1.0, \"#f0f921\"]]}, \"colorway\": [\"#636efa\", \"#EF553B\", \"#00cc96\", \"#ab63fa\", \"#FFA15A\", \"#19d3f3\", \"#FF6692\", \"#B6E880\", \"#FF97FF\", \"#FECB52\"], \"font\": {\"color\": \"#2a3f5f\"}, \"geo\": {\"bgcolor\": \"white\", \"lakecolor\": \"white\", \"landcolor\": \"#E5ECF6\", \"showlakes\": true, \"showland\": true, \"subunitcolor\": \"white\"}, \"hoverlabel\": {\"align\": \"left\"}, \"hovermode\": \"closest\", \"mapbox\": {\"style\": \"light\"}, \"paper_bgcolor\": \"white\", \"plot_bgcolor\": \"#E5ECF6\", \"polar\": {\"angularaxis\": {\"gridcolor\": \"white\", \"linecolor\": \"white\", \"ticks\": \"\"}, \"bgcolor\": \"#E5ECF6\", \"radialaxis\": {\"gridcolor\": \"white\", \"linecolor\": \"white\", \"ticks\": \"\"}}, \"scene\": {\"xaxis\": {\"backgroundcolor\": \"#E5ECF6\", \"gridcolor\": \"white\", \"gridwidth\": 2, \"linecolor\": \"white\", \"showbackground\": true, \"ticks\": \"\", \"zerolinecolor\": \"white\"}, \"yaxis\": {\"backgroundcolor\": \"#E5ECF6\", \"gridcolor\": \"white\", \"gridwidth\": 2, \"linecolor\": \"white\", \"showbackground\": true, \"ticks\": \"\", \"zerolinecolor\": \"white\"}, \"zaxis\": {\"backgroundcolor\": \"#E5ECF6\", \"gridcolor\": \"white\", \"gridwidth\": 2, \"linecolor\": \"white\", \"showbackground\": true, \"ticks\": \"\", \"zerolinecolor\": \"white\"}}, \"shapedefaults\": {\"line\": {\"color\": \"#2a3f5f\"}}, \"ternary\": {\"aaxis\": {\"gridcolor\": \"white\", \"linecolor\": \"white\", \"ticks\": \"\"}, \"baxis\": {\"gridcolor\": \"white\", \"linecolor\": \"white\", \"ticks\": \"\"}, \"bgcolor\": \"#E5ECF6\", \"caxis\": {\"gridcolor\": \"white\", \"linecolor\": \"white\", \"ticks\": \"\"}}, \"title\": {\"x\": 0.05}, \"xaxis\": {\"automargin\": true, \"gridcolor\": \"white\", \"linecolor\": \"white\", \"ticks\": \"\", \"zerolinecolor\": \"white\", \"zerolinewidth\": 2}, \"yaxis\": {\"automargin\": true, \"gridcolor\": \"white\", \"linecolor\": \"white\", \"ticks\": \"\", \"zerolinecolor\": \"white\", \"zerolinewidth\": 2}}}},\n",
       "                        {\"responsive\": true}\n",
       "                    ).then(function(){\n",
       "                            \n",
       "var gd = document.getElementById('173a2cac-6148-41ee-82a4-4896bdfb580a');\n",
       "var x = new MutationObserver(function (mutations, observer) {{\n",
       "        var display = window.getComputedStyle(gd).display;\n",
       "        if (!display || display === 'none') {{\n",
       "            console.log([gd, 'removed!']);\n",
       "            Plotly.purge(gd);\n",
       "            observer.disconnect();\n",
       "        }}\n",
       "}});\n",
       "\n",
       "// Listen for the removal of the full notebook cells\n",
       "var notebookContainer = gd.closest('#notebook-container');\n",
       "if (notebookContainer) {{\n",
       "    x.observe(notebookContainer, {childList: true});\n",
       "}}\n",
       "\n",
       "// Listen for the clearing of the current output cell\n",
       "var outputEl = gd.closest('.output');\n",
       "if (outputEl) {{\n",
       "    x.observe(outputEl, {childList: true});\n",
       "}}\n",
       "\n",
       "                        })\n",
       "                };\n",
       "                });\n",
       "            </script>\n",
       "        </div>"
      ]
     },
     "metadata": {},
     "output_type": "display_data"
    }
   ],
   "source": [
    "\n",
    "\n",
    "sort_col = ud_helper.zms_sort_cols[3]\n",
    "comp_coef = comp_coef.loc[zms.sort_values(sort_col).index]\n",
    "sort_col = comp_coef.columns[0]\n",
    "comp_coef=comp_coef.sort_values(sort_col)\n",
    "print(sort_col)\n",
    "\n",
    "draw_scatter(comp_coef, height=300)\n",
    "draw_scatter(comp_coef.std(axis=1).to_frame(), height=300, margin_r=175)"
   ]
  },
  {
   "cell_type": "markdown",
   "metadata": {},
   "source": [
    "## N hotspot"
   ]
  },
  {
   "cell_type": "code",
   "execution_count": 20,
   "metadata": {
    "ExecuteTime": {
     "end_time": "2019-11-04T19:51:35.096763Z",
     "start_time": "2019-11-04T19:51:34.644546Z"
    }
   },
   "outputs": [],
   "source": [
    "nhs_spr_ps, nhs_spr_rho = spe_rho_corr(Mean_number_hot, clean_table=False,larger_than=0.0)\n",
    "nhs_ken_ps, nhs_ken_tau = ken_tau_corr(Mean_number_hot, clean_table=False,larger_than=0.0)\n"
   ]
  },
  {
   "cell_type": "code",
   "execution_count": 379,
   "metadata": {
    "ExecuteTime": {
     "end_time": "2019-11-04T19:35:16.778680Z",
     "start_time": "2019-11-04T19:35:16.574426Z"
    },
    "scrolled": false
   },
   "outputs": [],
   "source": [
    "# display(grad_bg(nhs_ken_tau.T.sort_index(level=0).T.sort_index(level=0),mini=0))\n",
    "\n",
    "# swap_df = swap(nhs_ken_tau, 0,2)\n",
    "# display(grad_bg(swap_df))\n",
    "\n",
    "# swap_df = swap(swap_df, 1,2)\n",
    "# display(grad_bg(swap_df))\n",
    "# swap_df = swap(swap_df, 2,0)\n",
    "# display(grad_bg(swap_df))"
   ]
  },
  {
   "cell_type": "code",
   "execution_count": 288,
   "metadata": {
    "ExecuteTime": {
     "end_time": "2019-10-31T00:05:17.380172Z",
     "start_time": "2019-10-31T00:05:16.483015Z"
    },
    "collapsed": true
   },
   "outputs": [
    {
     "name": "stdout",
     "output_type": "stream",
     "text": [
      "('ageb', nan, 'area', 'zm')\n"
     ]
    },
    {
     "data": {
      "application/vnd.plotly.v1+json": {
       "config": {
        "linkText": "Export to plot.ly",
        "plotlyServerURL": "https://plot.ly",
        "showLink": false
       },
       "data": [
        {
         "mode": "lines+markers",
         "name": "('ageb', nan, 'area', 'zm')",
         "type": "scatter",
         "x": [
          "zm33",
          "zm20",
          "zm39",
          "zm59",
          "zm54",
          "zm58",
          "zm19",
          "zm16",
          "zm48",
          "zm35",
          "zm23",
          "zm40",
          "zm41",
          "zm53",
          "zm17",
          "zm26",
          "zm50",
          "zm49",
          "zm42",
          "zm30",
          "zm52",
          "zm37",
          "zm22",
          "zm7",
          "zm6",
          "zm56",
          "zm12",
          "zm32",
          "zm46",
          "zm9",
          "zm36",
          "zm15",
          "zm18",
          "zm51",
          "zm43",
          "zm55",
          "zm10",
          "zm8",
          "zm29",
          "zm57",
          "zm24",
          "zm4",
          "zm28",
          "zm44",
          "zm5",
          "zm25",
          "zm47",
          "zm45",
          "zm1",
          "zm2",
          "zm38",
          "zm11",
          "zm3",
          "zm14",
          "zm27",
          "zm34",
          "zm31",
          "zm21",
          "zm13"
         ],
         "y": [
          4.541666666666667,
          5.125,
          6.666666666666667,
          7.833333333333333,
          10.041666666666666,
          11.875,
          11.875,
          12.291666666666666,
          15.166666666666666,
          15.666666666666666,
          15.791666666666666,
          15.958333333333334,
          16.75,
          17.541666666666668,
          18.958333333333332,
          19.666666666666668,
          19.791666666666668,
          20.958333333333332,
          21,
          21.375,
          23,
          23.041666666666668,
          23.5,
          24.5,
          25.333333333333332,
          26.875,
          27.083333333333332,
          29.458333333333332,
          29.625,
          30.416666666666668,
          32.458333333333336,
          35.083333333333336,
          35.958333333333336,
          37,
          37.125,
          38.125,
          38.25,
          39.541666666666664,
          40.166666666666664,
          41.958333333333336,
          42.375,
          42.541666666666664,
          45.125,
          45.791666666666664,
          46.333333333333336,
          47.541666666666664,
          49.666666666666664,
          50.541666666666664,
          56.25,
          58.583333333333336,
          59.291666666666664,
          63.958333333333336,
          67.04166666666667,
          68.83333333333333,
          69,
          94.54166666666667,
          157.16666666666666,
          161.625,
          195
         ]
        },
        {
         "mode": "lines+markers",
         "name": "('ageb', nan, 'area', 'mun')",
         "type": "scatter",
         "x": [
          "zm33",
          "zm20",
          "zm39",
          "zm59",
          "zm54",
          "zm58",
          "zm19",
          "zm16",
          "zm48",
          "zm35",
          "zm23",
          "zm40",
          "zm41",
          "zm53",
          "zm17",
          "zm26",
          "zm50",
          "zm49",
          "zm42",
          "zm30",
          "zm52",
          "zm37",
          "zm22",
          "zm7",
          "zm6",
          "zm56",
          "zm12",
          "zm32",
          "zm46",
          "zm9",
          "zm36",
          "zm15",
          "zm18",
          "zm51",
          "zm43",
          "zm55",
          "zm10",
          "zm8",
          "zm29",
          "zm57",
          "zm24",
          "zm4",
          "zm28",
          "zm44",
          "zm5",
          "zm25",
          "zm47",
          "zm45",
          "zm1",
          "zm2",
          "zm38",
          "zm11",
          "zm3",
          "zm14",
          "zm27",
          "zm34",
          "zm31",
          "zm21",
          "zm13"
         ],
         "y": [
          14.833333333333334,
          22.583333333333332,
          7.75,
          8.166666666666666,
          10,
          8,
          18.25,
          12.083333333333334,
          23.75,
          14.916666666666666,
          10.75,
          13.25,
          21.541666666666668,
          19.75,
          22.416666666666668,
          14.625,
          48.125,
          40.458333333333336,
          34.958333333333336,
          23.708333333333332,
          25.875,
          26.291666666666668,
          23.291666666666668,
          26.916666666666668,
          35.208333333333336,
          29,
          29.125,
          51.708333333333336,
          62.333333333333336,
          16,
          37.333333333333336,
          9,
          46.958333333333336,
          28.25,
          46.416666666666664,
          48.083333333333336,
          44.75,
          45.333333333333336,
          40.75,
          36.708333333333336,
          65.5,
          69.41666666666667,
          68.75,
          41.583333333333336,
          53.833333333333336,
          52.083333333333336,
          56.125,
          49.166666666666664,
          43.208333333333336,
          69.875,
          62.541666666666664,
          63.666666666666664,
          41.291666666666664,
          63.541666666666664,
          16.375,
          179.41666666666666,
          265.6666666666667,
          205.54166666666666,
          839.125
         ]
        },
        {
         "mode": "lines+markers",
         "name": "('ageb', nan, 'pop', 'zm')",
         "type": "scatter",
         "x": [
          "zm33",
          "zm20",
          "zm39",
          "zm59",
          "zm54",
          "zm58",
          "zm19",
          "zm16",
          "zm48",
          "zm35",
          "zm23",
          "zm40",
          "zm41",
          "zm53",
          "zm17",
          "zm26",
          "zm50",
          "zm49",
          "zm42",
          "zm30",
          "zm52",
          "zm37",
          "zm22",
          "zm7",
          "zm6",
          "zm56",
          "zm12",
          "zm32",
          "zm46",
          "zm9",
          "zm36",
          "zm15",
          "zm18",
          "zm51",
          "zm43",
          "zm55",
          "zm10",
          "zm8",
          "zm29",
          "zm57",
          "zm24",
          "zm4",
          "zm28",
          "zm44",
          "zm5",
          "zm25",
          "zm47",
          "zm45",
          "zm1",
          "zm2",
          "zm38",
          "zm11",
          "zm3",
          "zm14",
          "zm27",
          "zm34",
          "zm31",
          "zm21",
          "zm13"
         ],
         "y": [
          27,
          23.875,
          10.625,
          12.458333333333334,
          8.083333333333334,
          14.25,
          24.708333333333332,
          17.291666666666668,
          17.583333333333332,
          28.208333333333332,
          17.75,
          21.291666666666668,
          25.541666666666668,
          18.5,
          36.875,
          23.083333333333332,
          35.625,
          22.75,
          34.791666666666664,
          37.166666666666664,
          20.708333333333332,
          45.041666666666664,
          31.791666666666668,
          41.083333333333336,
          59.291666666666664,
          48.833333333333336,
          70,
          34.333333333333336,
          64.45833333333333,
          27.458333333333332,
          53.833333333333336,
          19.833333333333332,
          51.333333333333336,
          34.166666666666664,
          41.208333333333336,
          63.375,
          45.666666666666664,
          36.75,
          33.291666666666664,
          45.583333333333336,
          53.708333333333336,
          78.25,
          63.166666666666664,
          51.083333333333336,
          56.666666666666664,
          49.541666666666664,
          52.791666666666664,
          45.916666666666664,
          77.625,
          58.458333333333336,
          83.29166666666667,
          94.75,
          64.91666666666667,
          82.29166666666667,
          38.333333333333336,
          110,
          155.625,
          134.95833333333334,
          327.5416666666667
         ]
        },
        {
         "mode": "lines+markers",
         "name": "('ageb', nan, 'pop', 'mun')",
         "type": "scatter",
         "x": [
          "zm33",
          "zm20",
          "zm39",
          "zm59",
          "zm54",
          "zm58",
          "zm19",
          "zm16",
          "zm48",
          "zm35",
          "zm23",
          "zm40",
          "zm41",
          "zm53",
          "zm17",
          "zm26",
          "zm50",
          "zm49",
          "zm42",
          "zm30",
          "zm52",
          "zm37",
          "zm22",
          "zm7",
          "zm6",
          "zm56",
          "zm12",
          "zm32",
          "zm46",
          "zm9",
          "zm36",
          "zm15",
          "zm18",
          "zm51",
          "zm43",
          "zm55",
          "zm10",
          "zm8",
          "zm29",
          "zm57",
          "zm24",
          "zm4",
          "zm28",
          "zm44",
          "zm5",
          "zm25",
          "zm47",
          "zm45",
          "zm1",
          "zm2",
          "zm38",
          "zm11",
          "zm3",
          "zm14",
          "zm27",
          "zm34",
          "zm31",
          "zm21",
          "zm13"
         ],
         "y": [
          34.083333333333336,
          24.958333333333332,
          12.75,
          12.166666666666666,
          12.875,
          8.625,
          26.875,
          14.875,
          25.875,
          26.833333333333332,
          17.041666666666668,
          26.666666666666668,
          28.333333333333332,
          23.25,
          41,
          31.833333333333332,
          57.458333333333336,
          46.791666666666664,
          49.083333333333336,
          41.166666666666664,
          27.791666666666668,
          59.541666666666664,
          40.291666666666664,
          51.791666666666664,
          67.75,
          53.625,
          74.08333333333333,
          60.083333333333336,
          85.16666666666667,
          35.375,
          56,
          15.666666666666666,
          73.04166666666667,
          37.958333333333336,
          54.541666666666664,
          73.625,
          62.083333333333336,
          47.791666666666664,
          46.833333333333336,
          42.833333333333336,
          80.91666666666667,
          112.91666666666667,
          100.75,
          48.791666666666664,
          62.958333333333336,
          54.083333333333336,
          64.08333333333333,
          44.166666666666664,
          82,
          84.33333333333333,
          97.58333333333333,
          93.875,
          53.291666666666664,
          85.375,
          23.708333333333332,
          198.54166666666666,
          266.3333333333333,
          243.83333333333334,
          1162.4166666666667
         ]
        },
        {
         "mode": "lines+markers",
         "name": "('g', '1', 'area', 'zm')",
         "type": "scatter",
         "x": [
          "zm33",
          "zm20",
          "zm39",
          "zm59",
          "zm54",
          "zm58",
          "zm19",
          "zm16",
          "zm48",
          "zm35",
          "zm23",
          "zm40",
          "zm41",
          "zm53",
          "zm17",
          "zm26",
          "zm50",
          "zm49",
          "zm42",
          "zm30",
          "zm52",
          "zm37",
          "zm22",
          "zm7",
          "zm6",
          "zm56",
          "zm12",
          "zm32",
          "zm46",
          "zm9",
          "zm36",
          "zm15",
          "zm18",
          "zm51",
          "zm43",
          "zm55",
          "zm10",
          "zm8",
          "zm29",
          "zm57",
          "zm24",
          "zm4",
          "zm28",
          "zm44",
          "zm5",
          "zm25",
          "zm47",
          "zm45",
          "zm1",
          "zm2",
          "zm38",
          "zm11",
          "zm3",
          "zm14",
          "zm27",
          "zm34",
          "zm31",
          "zm21",
          "zm13"
         ],
         "y": [
          13.458333333333334,
          51.291666666666664,
          24.083333333333332,
          22.916666666666668,
          14.375,
          33.541666666666664,
          21,
          30.5,
          12.375,
          16.958333333333332,
          28.625,
          36.458333333333336,
          27.125,
          11.875,
          23.083333333333332,
          17.083333333333332,
          22.5,
          15.833333333333334,
          20.875,
          19.875,
          18.208333333333332,
          27.625,
          22.416666666666668,
          26.5,
          39.958333333333336,
          17.166666666666668,
          49.5,
          17.625,
          56.625,
          58.083333333333336,
          39.666666666666664,
          139.58333333333334,
          40.208333333333336,
          35.875,
          55.5,
          51.25,
          17.458333333333332,
          23.875,
          98.54166666666667,
          27.166666666666668,
          42.333333333333336,
          62.791666666666664,
          46.25,
          25.416666666666668,
          31.5,
          26,
          31.125,
          30.666666666666668,
          40.458333333333336,
          52.541666666666664,
          42.916666666666664,
          72.25,
          71.58333333333333,
          55.583333333333336,
          514.0833333333334,
          85.25,
          88.95833333333333,
          106.16666666666667,
          245.75
         ]
        },
        {
         "mode": "lines+markers",
         "name": "('g', '1', 'area', 'mun')",
         "type": "scatter",
         "x": [
          "zm33",
          "zm20",
          "zm39",
          "zm59",
          "zm54",
          "zm58",
          "zm19",
          "zm16",
          "zm48",
          "zm35",
          "zm23",
          "zm40",
          "zm41",
          "zm53",
          "zm17",
          "zm26",
          "zm50",
          "zm49",
          "zm42",
          "zm30",
          "zm52",
          "zm37",
          "zm22",
          "zm7",
          "zm6",
          "zm56",
          "zm12",
          "zm32",
          "zm46",
          "zm9",
          "zm36",
          "zm15",
          "zm18",
          "zm51",
          "zm43",
          "zm55",
          "zm10",
          "zm8",
          "zm29",
          "zm57",
          "zm24",
          "zm4",
          "zm28",
          "zm44",
          "zm5",
          "zm25",
          "zm47",
          "zm45",
          "zm1",
          "zm2",
          "zm38",
          "zm11",
          "zm3",
          "zm14",
          "zm27",
          "zm34",
          "zm31",
          "zm21",
          "zm13"
         ],
         "y": [
          12.125,
          50.166666666666664,
          20.458333333333332,
          11,
          8,
          15,
          24.5,
          12.833333333333334,
          20.958333333333332,
          19.833333333333332,
          7.583333333333333,
          15.875,
          19.958333333333332,
          17.333333333333332,
          22.25,
          9.875,
          42.541666666666664,
          35.625,
          31.5,
          16.375,
          18.125,
          22.875,
          24.25,
          26.041666666666668,
          31,
          17.25,
          40.958333333333336,
          76.25,
          165.75,
          14,
          37.708333333333336,
          13.958333333333334,
          64.5,
          35.166666666666664,
          43.458333333333336,
          62.333333333333336,
          25.708333333333332,
          28.708333333333332,
          49.916666666666664,
          30.75,
          104.29166666666667,
          62.916666666666664,
          80.58333333333333,
          19.083333333333332,
          34.541666666666664,
          23.666666666666668,
          34.166666666666664,
          24.708333333333332,
          34.583333333333336,
          60.541666666666664,
          42.166666666666664,
          65,
          29.208333333333332,
          51.125,
          27.125,
          275.375,
          239.5,
          155.08333333333334,
          884.125
         ]
        },
        {
         "mode": "lines+markers",
         "name": "('g', '1', 'pop', 'zm')",
         "type": "scatter",
         "x": [
          "zm33",
          "zm20",
          "zm39",
          "zm59",
          "zm54",
          "zm58",
          "zm19",
          "zm16",
          "zm48",
          "zm35",
          "zm23",
          "zm40",
          "zm41",
          "zm53",
          "zm17",
          "zm26",
          "zm50",
          "zm49",
          "zm42",
          "zm30",
          "zm52",
          "zm37",
          "zm22",
          "zm7",
          "zm6",
          "zm56",
          "zm12",
          "zm32",
          "zm46",
          "zm9",
          "zm36",
          "zm15",
          "zm18",
          "zm51",
          "zm43",
          "zm55",
          "zm10",
          "zm8",
          "zm29",
          "zm57",
          "zm24",
          "zm4",
          "zm28",
          "zm44",
          "zm5",
          "zm25",
          "zm47",
          "zm45",
          "zm1",
          "zm2",
          "zm38",
          "zm11",
          "zm3",
          "zm14",
          "zm27",
          "zm34",
          "zm31",
          "zm21",
          "zm13"
         ],
         "y": [
          13.083333333333334,
          26.333333333333332,
          13.333333333333334,
          9.041666666666666,
          7.125,
          21.708333333333332,
          10.125,
          8.458333333333334,
          13.833333333333334,
          13.875,
          10.166666666666666,
          13.666666666666666,
          23.416666666666668,
          12.75,
          21.083333333333332,
          11.916666666666666,
          15.833333333333334,
          12.166666666666666,
          21.75,
          22.166666666666668,
          20.583333333333332,
          26.041666666666668,
          18.958333333333332,
          22.875,
          29.041666666666668,
          18.166666666666668,
          52.875,
          20.625,
          35.708333333333336,
          11.041666666666666,
          40.791666666666664,
          22.166666666666668,
          30.5,
          23.541666666666668,
          41.958333333333336,
          53.583333333333336,
          18.5,
          21.125,
          24.458333333333332,
          27.458333333333332,
          45.75,
          60.375,
          34.416666666666664,
          24.083333333333332,
          30.458333333333332,
          28.291666666666668,
          32.333333333333336,
          26.958333333333332,
          39.666666666666664,
          51.333333333333336,
          45.083333333333336,
          61.25,
          48.875,
          52.958333333333336,
          26.625,
          79.25,
          110.75,
          92.875,
          229.375
         ]
        },
        {
         "mode": "lines+markers",
         "name": "('g', '1', 'pop', 'mun')",
         "type": "scatter",
         "x": [
          "zm33",
          "zm20",
          "zm39",
          "zm59",
          "zm54",
          "zm58",
          "zm19",
          "zm16",
          "zm48",
          "zm35",
          "zm23",
          "zm40",
          "zm41",
          "zm53",
          "zm17",
          "zm26",
          "zm50",
          "zm49",
          "zm42",
          "zm30",
          "zm52",
          "zm37",
          "zm22",
          "zm7",
          "zm6",
          "zm56",
          "zm12",
          "zm32",
          "zm46",
          "zm9",
          "zm36",
          "zm15",
          "zm18",
          "zm51",
          "zm43",
          "zm55",
          "zm10",
          "zm8",
          "zm29",
          "zm57",
          "zm24",
          "zm4",
          "zm28",
          "zm44",
          "zm5",
          "zm25",
          "zm47",
          "zm45",
          "zm1",
          "zm2",
          "zm38",
          "zm11",
          "zm3",
          "zm14",
          "zm27",
          "zm34",
          "zm31",
          "zm21",
          "zm13"
         ],
         "y": [
          17.375,
          42.208333333333336,
          16,
          9.833333333333334,
          9,
          10.666666666666666,
          20.25,
          9.875,
          23.375,
          18.375,
          11.416666666666666,
          16.125,
          22.208333333333332,
          23.25,
          27.791666666666668,
          14.583333333333334,
          41.708333333333336,
          28,
          34.791666666666664,
          23.666666666666668,
          23.375,
          29.291666666666668,
          23.625,
          27.25,
          34.75,
          20.458333333333332,
          58.75,
          68.75,
          106.45833333333333,
          15.333333333333334,
          46,
          16.125,
          49.75,
          37.541666666666664,
          47.083333333333336,
          65.91666666666667,
          27.958333333333332,
          28.791666666666668,
          44.541666666666664,
          32.875,
          95.625,
          76.16666666666667,
          76.79166666666667,
          23.125,
          39.791666666666664,
          33.916666666666664,
          42.166666666666664,
          25.791666666666668,
          44.958333333333336,
          69.625,
          46.166666666666664,
          60.75,
          40.166666666666664,
          55.916666666666664,
          14.875,
          249,
          218,
          167.33333333333334,
          821.9583333333334
         ]
        },
        {
         "mode": "lines+markers",
         "name": "('g', '2', 'area', 'zm')",
         "type": "scatter",
         "x": [
          "zm33",
          "zm20",
          "zm39",
          "zm59",
          "zm54",
          "zm58",
          "zm19",
          "zm16",
          "zm48",
          "zm35",
          "zm23",
          "zm40",
          "zm41",
          "zm53",
          "zm17",
          "zm26",
          "zm50",
          "zm49",
          "zm42",
          "zm30",
          "zm52",
          "zm37",
          "zm22",
          "zm7",
          "zm6",
          "zm56",
          "zm12",
          "zm32",
          "zm46",
          "zm9",
          "zm36",
          "zm15",
          "zm18",
          "zm51",
          "zm43",
          "zm55",
          "zm10",
          "zm8",
          "zm29",
          "zm57",
          "zm24",
          "zm4",
          "zm28",
          "zm44",
          "zm5",
          "zm25",
          "zm47",
          "zm45",
          "zm1",
          "zm2",
          "zm38",
          "zm11",
          "zm3",
          "zm14",
          "zm27",
          "zm34",
          "zm31",
          "zm21",
          "zm13"
         ],
         "y": [
          7.041666666666667,
          16.833333333333332,
          7.666666666666667,
          8.958333333333334,
          3.2083333333333335,
          14.708333333333334,
          12.416666666666666,
          11.166666666666666,
          5.708333333333333,
          4.458333333333333,
          9.208333333333334,
          9.583333333333334,
          8.458333333333334,
          4.833333333333333,
          8.458333333333334,
          6.416666666666667,
          7.5,
          5.291666666666667,
          9.416666666666666,
          8.791666666666666,
          7.166666666666667,
          9.75,
          8.666666666666666,
          7.291666666666667,
          10.5,
          8,
          16.25,
          6.416666666666667,
          15.25,
          18.333333333333332,
          15.041666666666666,
          34.583333333333336,
          12.5,
          14.583333333333334,
          15.458333333333334,
          17.583333333333332,
          6.875,
          10.291666666666666,
          25.875,
          10.208333333333334,
          13.125,
          21.541666666666668,
          13.041666666666666,
          13.291666666666666,
          15.166666666666666,
          10.416666666666666,
          11.958333333333334,
          12.833333333333334,
          13.625,
          17.291666666666668,
          15.875,
          28.625,
          20.583333333333332,
          18.75,
          128.16666666666666,
          27.208333333333332,
          37.208333333333336,
          41.041666666666664,
          84.41666666666667
         ]
        },
        {
         "mode": "lines+markers",
         "name": "('g', '2', 'area', 'mun')",
         "type": "scatter",
         "x": [
          "zm33",
          "zm20",
          "zm39",
          "zm59",
          "zm54",
          "zm58",
          "zm19",
          "zm16",
          "zm48",
          "zm35",
          "zm23",
          "zm40",
          "zm41",
          "zm53",
          "zm17",
          "zm26",
          "zm50",
          "zm49",
          "zm42",
          "zm30",
          "zm52",
          "zm37",
          "zm22",
          "zm7",
          "zm6",
          "zm56",
          "zm12",
          "zm32",
          "zm46",
          "zm9",
          "zm36",
          "zm15",
          "zm18",
          "zm51",
          "zm43",
          "zm55",
          "zm10",
          "zm8",
          "zm29",
          "zm57",
          "zm24",
          "zm4",
          "zm28",
          "zm44",
          "zm5",
          "zm25",
          "zm47",
          "zm45",
          "zm1",
          "zm2",
          "zm38",
          "zm11",
          "zm3",
          "zm14",
          "zm27",
          "zm34",
          "zm31",
          "zm21",
          "zm13"
         ],
         "y": [
          8.125,
          11.416666666666666,
          5,
          2,
          1,
          6,
          10.458333333333334,
          3,
          10.208333333333334,
          5.958333333333333,
          4.833333333333333,
          4.041666666666667,
          7.25,
          9.125,
          11.583333333333334,
          5.083333333333333,
          10.083333333333334,
          8,
          14.125,
          4.916666666666667,
          5.125,
          7.5,
          9.75,
          7.5,
          9.708333333333334,
          4.083333333333333,
          14.458333333333334,
          12.5,
          43.083333333333336,
          2,
          14,
          3.2916666666666665,
          22.333333333333332,
          5.208333333333333,
          13.5,
          20.5,
          9.375,
          9.333333333333334,
          16.625,
          9.708333333333334,
          34.833333333333336,
          22.541666666666668,
          29.291666666666668,
          9.958333333333334,
          16,
          9.291666666666666,
          11.208333333333334,
          10.25,
          10.458333333333334,
          19.791666666666668,
          14.75,
          25.583333333333332,
          8,
          17.791666666666668,
          9.125,
          91.25,
          81.625,
          58.666666666666664,
          293.3333333333333
         ]
        },
        {
         "mode": "lines+markers",
         "name": "('g', '2', 'pop', 'zm')",
         "type": "scatter",
         "x": [
          "zm33",
          "zm20",
          "zm39",
          "zm59",
          "zm54",
          "zm58",
          "zm19",
          "zm16",
          "zm48",
          "zm35",
          "zm23",
          "zm40",
          "zm41",
          "zm53",
          "zm17",
          "zm26",
          "zm50",
          "zm49",
          "zm42",
          "zm30",
          "zm52",
          "zm37",
          "zm22",
          "zm7",
          "zm6",
          "zm56",
          "zm12",
          "zm32",
          "zm46",
          "zm9",
          "zm36",
          "zm15",
          "zm18",
          "zm51",
          "zm43",
          "zm55",
          "zm10",
          "zm8",
          "zm29",
          "zm57",
          "zm24",
          "zm4",
          "zm28",
          "zm44",
          "zm5",
          "zm25",
          "zm47",
          "zm45",
          "zm1",
          "zm2",
          "zm38",
          "zm11",
          "zm3",
          "zm14",
          "zm27",
          "zm34",
          "zm31",
          "zm21",
          "zm13"
         ],
         "y": [
          4,
          15.208333333333334,
          4.583333333333333,
          3.1666666666666665,
          3,
          9.541666666666666,
          4.583333333333333,
          2.25,
          5.666666666666667,
          4.333333333333333,
          4.708333333333333,
          8.916666666666666,
          7.333333333333333,
          4.416666666666667,
          8.25,
          5.208333333333333,
          6.666666666666667,
          4.333333333333333,
          9.833333333333334,
          7.875,
          6.541666666666667,
          9.625,
          7.625,
          7.958333333333333,
          10.833333333333334,
          7.166666666666667,
          15.958333333333334,
          7.5,
          11.666666666666666,
          4.625,
          15.458333333333334,
          6.75,
          9.75,
          10.333333333333334,
          13,
          18.333333333333332,
          7.5,
          8.833333333333334,
          16.666666666666668,
          10.458333333333334,
          14.75,
          21.083333333333332,
          12.833333333333334,
          12.541666666666666,
          14.208333333333334,
          10.5,
          11.5,
          12.541666666666666,
          13.958333333333334,
          18,
          16.375,
          28.583333333333332,
          16.333333333333332,
          18.375,
          9.375,
          26.875,
          41.375,
          40.416666666666664,
          82.95833333333333
         ]
        },
        {
         "mode": "lines+markers",
         "name": "('g', '2', 'pop', 'mun')",
         "type": "scatter",
         "x": [
          "zm33",
          "zm20",
          "zm39",
          "zm59",
          "zm54",
          "zm58",
          "zm19",
          "zm16",
          "zm48",
          "zm35",
          "zm23",
          "zm40",
          "zm41",
          "zm53",
          "zm17",
          "zm26",
          "zm50",
          "zm49",
          "zm42",
          "zm30",
          "zm52",
          "zm37",
          "zm22",
          "zm7",
          "zm6",
          "zm56",
          "zm12",
          "zm32",
          "zm46",
          "zm9",
          "zm36",
          "zm15",
          "zm18",
          "zm51",
          "zm43",
          "zm55",
          "zm10",
          "zm8",
          "zm29",
          "zm57",
          "zm24",
          "zm4",
          "zm28",
          "zm44",
          "zm5",
          "zm25",
          "zm47",
          "zm45",
          "zm1",
          "zm2",
          "zm38",
          "zm11",
          "zm3",
          "zm14",
          "zm27",
          "zm34",
          "zm31",
          "zm21",
          "zm13"
         ],
         "y": [
          7.958333333333333,
          13.708333333333334,
          5.541666666666667,
          2,
          2,
          4,
          8.625,
          1.625,
          9.916666666666666,
          5.333333333333333,
          6,
          9.75,
          8,
          11.666666666666666,
          13.541666666666666,
          5.666666666666667,
          12.291666666666666,
          7,
          14.75,
          6.666666666666667,
          5.791666666666667,
          11.041666666666666,
          9.916666666666666,
          8.791666666666666,
          14.208333333333334,
          7.458333333333333,
          20,
          10.708333333333334,
          32.166666666666664,
          3,
          17.958333333333332,
          5,
          18.25,
          9.333333333333334,
          16.25,
          20.708333333333332,
          10.625,
          11.208333333333334,
          16.708333333333332,
          11.75,
          39.416666666666664,
          25.041666666666668,
          30.791666666666668,
          11.791666666666666,
          18.75,
          14.291666666666666,
          13.625,
          12,
          15.208333333333334,
          24.583333333333332,
          17.041666666666668,
          28.291666666666668,
          13.291666666666666,
          18.833333333333332,
          6.041666666666667,
          83.25,
          85.29166666666667,
          66.91666666666667,
          304.2083333333333
         ]
        },
        {
         "mode": "lines+markers",
         "name": "('idw10', '1', nan, 'zm')",
         "type": "scatter",
         "x": [
          "zm33",
          "zm20",
          "zm39",
          "zm59",
          "zm54",
          "zm58",
          "zm19",
          "zm16",
          "zm48",
          "zm35",
          "zm23",
          "zm40",
          "zm41",
          "zm53",
          "zm17",
          "zm26",
          "zm50",
          "zm49",
          "zm42",
          "zm30",
          "zm52",
          "zm37",
          "zm22",
          "zm7",
          "zm6",
          "zm56",
          "zm12",
          "zm32",
          "zm46",
          "zm9",
          "zm36",
          "zm15",
          "zm18",
          "zm51",
          "zm43",
          "zm55",
          "zm10",
          "zm8",
          "zm29",
          "zm57",
          "zm24",
          "zm4",
          "zm28",
          "zm44",
          "zm5",
          "zm25",
          "zm47",
          "zm45",
          "zm1",
          "zm2",
          "zm38",
          "zm11",
          "zm3",
          "zm14",
          "zm27",
          "zm34",
          "zm31",
          "zm21",
          "zm13"
         ],
         "y": [
          90.66666666666667,
          76,
          115.875,
          20.166666666666668,
          38.666666666666664,
          10,
          64.875,
          54.583333333333336,
          35.25,
          42.291666666666664,
          68.125,
          283.75,
          172,
          17.625,
          134.33333333333334,
          82.875,
          63.625,
          125.16666666666667,
          42.75,
          95.91666666666667,
          63.083333333333336,
          74.08333333333333,
          123.04166666666667,
          102.125,
          158.58333333333334,
          106.08333333333333,
          96.25,
          72.79166666666667,
          60.208333333333336,
          88.75,
          82.29166666666667,
          28.291666666666668,
          156.45833333333334,
          79.04166666666667,
          138.33333333333334,
          144.08333333333334,
          68.625,
          20.041666666666668,
          142.66666666666666,
          125.41666666666667,
          97.25,
          190.83333333333334,
          63.958333333333336,
          158.08333333333334,
          170.75,
          120.83333333333333,
          84,
          121.79166666666667,
          100.70833333333333,
          78.70833333333333,
          44.541666666666664,
          63.541666666666664,
          103.20833333333333,
          160.125,
          131.95833333333334,
          139.33333333333334,
          203.125,
          206.375,
          114.83333333333333
         ]
        },
        {
         "mode": "lines+markers",
         "name": "('idw10', '1', nan, 'mun')",
         "type": "scatter",
         "x": [
          "zm33",
          "zm20",
          "zm39",
          "zm59",
          "zm54",
          "zm58",
          "zm19",
          "zm16",
          "zm48",
          "zm35",
          "zm23",
          "zm40",
          "zm41",
          "zm53",
          "zm17",
          "zm26",
          "zm50",
          "zm49",
          "zm42",
          "zm30",
          "zm52",
          "zm37",
          "zm22",
          "zm7",
          "zm6",
          "zm56",
          "zm12",
          "zm32",
          "zm46",
          "zm9",
          "zm36",
          "zm15",
          "zm18",
          "zm51",
          "zm43",
          "zm55",
          "zm10",
          "zm8",
          "zm29",
          "zm57",
          "zm24",
          "zm4",
          "zm28",
          "zm44",
          "zm5",
          "zm25",
          "zm47",
          "zm45",
          "zm1",
          "zm2",
          "zm38",
          "zm11",
          "zm3",
          "zm14",
          "zm27",
          "zm34",
          "zm31",
          "zm21",
          "zm13"
         ],
         "y": [
          23.708333333333332,
          94.04166666666667,
          22.083333333333332,
          15.708333333333334,
          12,
          9,
          53.875,
          17.625,
          69.5,
          29.166666666666668,
          17.083333333333332,
          47.291666666666664,
          43.25,
          42.458333333333336,
          55.916666666666664,
          38.25,
          89.91666666666667,
          53.041666666666664,
          63.5,
          34.041666666666664,
          40.625,
          39.541666666666664,
          55.041666666666664,
          38.291666666666664,
          60.708333333333336,
          50.291666666666664,
          55.916666666666664,
          151.375,
          288.25,
          21.041666666666668,
          75.875,
          20,
          102.70833333333333,
          83.75,
          55.291666666666664,
          104,
          55.166666666666664,
          33.916666666666664,
          103.33333333333333,
          59.333333333333336,
          245,
          116.04166666666667,
          174.95833333333334,
          41.916666666666664,
          77.375,
          65.29166666666667,
          55.916666666666664,
          58.75,
          69.375,
          81,
          39.5,
          36.041666666666664,
          22.416666666666668,
          91.25,
          28.625,
          594.25,
          323.9583333333333,
          261.0833333333333,
          1284
         ]
        },
        {
         "mode": "lines+markers",
         "name": "('idw10', '2', nan, 'zm')",
         "type": "scatter",
         "x": [
          "zm33",
          "zm20",
          "zm39",
          "zm59",
          "zm54",
          "zm58",
          "zm19",
          "zm16",
          "zm48",
          "zm35",
          "zm23",
          "zm40",
          "zm41",
          "zm53",
          "zm17",
          "zm26",
          "zm50",
          "zm49",
          "zm42",
          "zm30",
          "zm52",
          "zm37",
          "zm22",
          "zm7",
          "zm6",
          "zm56",
          "zm12",
          "zm32",
          "zm46",
          "zm9",
          "zm36",
          "zm15",
          "zm18",
          "zm51",
          "zm43",
          "zm55",
          "zm10",
          "zm8",
          "zm29",
          "zm57",
          "zm24",
          "zm4",
          "zm28",
          "zm44",
          "zm5",
          "zm25",
          "zm47",
          "zm45",
          "zm1",
          "zm2",
          "zm38",
          "zm11",
          "zm3",
          "zm14",
          "zm27",
          "zm34",
          "zm31",
          "zm21",
          "zm13"
         ],
         "y": [
          45.291666666666664,
          21.333333333333332,
          52.333333333333336,
          7.166666666666667,
          11.125,
          11,
          26.583333333333332,
          12.041666666666666,
          29.833333333333332,
          17.541666666666668,
          16.541666666666668,
          46.541666666666664,
          43.125,
          16.583333333333332,
          35.166666666666664,
          35.833333333333336,
          38.708333333333336,
          35,
          25.166666666666668,
          22.875,
          15.333333333333334,
          49.583333333333336,
          52.916666666666664,
          48.583333333333336,
          17,
          42.625,
          101.125,
          26.875,
          36.541666666666664,
          36.25,
          54.916666666666664,
          21,
          58.666666666666664,
          73.875,
          67.875,
          52.083333333333336,
          30,
          44.625,
          27.666666666666668,
          45.083333333333336,
          40.208333333333336,
          57.208333333333336,
          14.708333333333334,
          54.375,
          91.91666666666667,
          32.25,
          40,
          42.875,
          43.791666666666664,
          56.208333333333336,
          43.166666666666664,
          76.58333333333333,
          98.79166666666667,
          37.416666666666664,
          82.29166666666667,
          81.625,
          120.20833333333333,
          62.875,
          189.75
         ]
        },
        {
         "mode": "lines+markers",
         "name": "('idw10', '2', nan, 'mun')",
         "type": "scatter",
         "x": [
          "zm33",
          "zm20",
          "zm39",
          "zm59",
          "zm54",
          "zm58",
          "zm19",
          "zm16",
          "zm48",
          "zm35",
          "zm23",
          "zm40",
          "zm41",
          "zm53",
          "zm17",
          "zm26",
          "zm50",
          "zm49",
          "zm42",
          "zm30",
          "zm52",
          "zm37",
          "zm22",
          "zm7",
          "zm6",
          "zm56",
          "zm12",
          "zm32",
          "zm46",
          "zm9",
          "zm36",
          "zm15",
          "zm18",
          "zm51",
          "zm43",
          "zm55",
          "zm10",
          "zm8",
          "zm29",
          "zm57",
          "zm24",
          "zm4",
          "zm28",
          "zm44",
          "zm5",
          "zm25",
          "zm47",
          "zm45",
          "zm1",
          "zm2",
          "zm38",
          "zm11",
          "zm3",
          "zm14",
          "zm27",
          "zm34",
          "zm31",
          "zm21",
          "zm13"
         ],
         "y": [
          16.666666666666668,
          27.875,
          12.625,
          4,
          3,
          1,
          24.458333333333332,
          4,
          29.666666666666668,
          14.416666666666666,
          11,
          14.375,
          17.708333333333332,
          25.541666666666668,
          21.666666666666668,
          13.791666666666666,
          27.083333333333332,
          20.083333333333332,
          33.75,
          11.333333333333334,
          9.666666666666666,
          26.958333333333332,
          19.75,
          11.958333333333334,
          18.791666666666668,
          17.416666666666668,
          50.166666666666664,
          25.958333333333332,
          107.5,
          7.166666666666667,
          20.5,
          7.041666666666667,
          53.166666666666664,
          24.541666666666668,
          30.125,
          41.708333333333336,
          23.875,
          20.125,
          33.833333333333336,
          25.666666666666668,
          95.08333333333333,
          47.75,
          55.791666666666664,
          20.416666666666668,
          35.916666666666664,
          18.666666666666668,
          28.583333333333332,
          22.291666666666668,
          26.625,
          50.125,
          33.916666666666664,
          46.208333333333336,
          12.583333333333334,
          38.541666666666664,
          14.75,
          210.70833333333334,
          131.41666666666666,
          107.91666666666667,
          559
         ]
        }
       ],
       "layout": {
        "height": 600,
        "margin": {
         "b": 10,
         "l": 10,
         "r": 100,
         "t": 10
        },
        "template": {
         "data": {
          "bar": [
           {
            "error_x": {
             "color": "#2a3f5f"
            },
            "error_y": {
             "color": "#2a3f5f"
            },
            "marker": {
             "line": {
              "color": "#E5ECF6",
              "width": 0.5
             }
            },
            "type": "bar"
           }
          ],
          "barpolar": [
           {
            "marker": {
             "line": {
              "color": "#E5ECF6",
              "width": 0.5
             }
            },
            "type": "barpolar"
           }
          ],
          "carpet": [
           {
            "aaxis": {
             "endlinecolor": "#2a3f5f",
             "gridcolor": "white",
             "linecolor": "white",
             "minorgridcolor": "white",
             "startlinecolor": "#2a3f5f"
            },
            "baxis": {
             "endlinecolor": "#2a3f5f",
             "gridcolor": "white",
             "linecolor": "white",
             "minorgridcolor": "white",
             "startlinecolor": "#2a3f5f"
            },
            "type": "carpet"
           }
          ],
          "choropleth": [
           {
            "colorbar": {
             "outlinewidth": 0,
             "ticks": ""
            },
            "type": "choropleth"
           }
          ],
          "contour": [
           {
            "colorbar": {
             "outlinewidth": 0,
             "ticks": ""
            },
            "colorscale": [
             [
              0,
              "#0d0887"
             ],
             [
              0.1111111111111111,
              "#46039f"
             ],
             [
              0.2222222222222222,
              "#7201a8"
             ],
             [
              0.3333333333333333,
              "#9c179e"
             ],
             [
              0.4444444444444444,
              "#bd3786"
             ],
             [
              0.5555555555555556,
              "#d8576b"
             ],
             [
              0.6666666666666666,
              "#ed7953"
             ],
             [
              0.7777777777777778,
              "#fb9f3a"
             ],
             [
              0.8888888888888888,
              "#fdca26"
             ],
             [
              1,
              "#f0f921"
             ]
            ],
            "type": "contour"
           }
          ],
          "contourcarpet": [
           {
            "colorbar": {
             "outlinewidth": 0,
             "ticks": ""
            },
            "type": "contourcarpet"
           }
          ],
          "heatmap": [
           {
            "colorbar": {
             "outlinewidth": 0,
             "ticks": ""
            },
            "colorscale": [
             [
              0,
              "#0d0887"
             ],
             [
              0.1111111111111111,
              "#46039f"
             ],
             [
              0.2222222222222222,
              "#7201a8"
             ],
             [
              0.3333333333333333,
              "#9c179e"
             ],
             [
              0.4444444444444444,
              "#bd3786"
             ],
             [
              0.5555555555555556,
              "#d8576b"
             ],
             [
              0.6666666666666666,
              "#ed7953"
             ],
             [
              0.7777777777777778,
              "#fb9f3a"
             ],
             [
              0.8888888888888888,
              "#fdca26"
             ],
             [
              1,
              "#f0f921"
             ]
            ],
            "type": "heatmap"
           }
          ],
          "heatmapgl": [
           {
            "colorbar": {
             "outlinewidth": 0,
             "ticks": ""
            },
            "colorscale": [
             [
              0,
              "#0d0887"
             ],
             [
              0.1111111111111111,
              "#46039f"
             ],
             [
              0.2222222222222222,
              "#7201a8"
             ],
             [
              0.3333333333333333,
              "#9c179e"
             ],
             [
              0.4444444444444444,
              "#bd3786"
             ],
             [
              0.5555555555555556,
              "#d8576b"
             ],
             [
              0.6666666666666666,
              "#ed7953"
             ],
             [
              0.7777777777777778,
              "#fb9f3a"
             ],
             [
              0.8888888888888888,
              "#fdca26"
             ],
             [
              1,
              "#f0f921"
             ]
            ],
            "type": "heatmapgl"
           }
          ],
          "histogram": [
           {
            "marker": {
             "colorbar": {
              "outlinewidth": 0,
              "ticks": ""
             }
            },
            "type": "histogram"
           }
          ],
          "histogram2d": [
           {
            "colorbar": {
             "outlinewidth": 0,
             "ticks": ""
            },
            "colorscale": [
             [
              0,
              "#0d0887"
             ],
             [
              0.1111111111111111,
              "#46039f"
             ],
             [
              0.2222222222222222,
              "#7201a8"
             ],
             [
              0.3333333333333333,
              "#9c179e"
             ],
             [
              0.4444444444444444,
              "#bd3786"
             ],
             [
              0.5555555555555556,
              "#d8576b"
             ],
             [
              0.6666666666666666,
              "#ed7953"
             ],
             [
              0.7777777777777778,
              "#fb9f3a"
             ],
             [
              0.8888888888888888,
              "#fdca26"
             ],
             [
              1,
              "#f0f921"
             ]
            ],
            "type": "histogram2d"
           }
          ],
          "histogram2dcontour": [
           {
            "colorbar": {
             "outlinewidth": 0,
             "ticks": ""
            },
            "colorscale": [
             [
              0,
              "#0d0887"
             ],
             [
              0.1111111111111111,
              "#46039f"
             ],
             [
              0.2222222222222222,
              "#7201a8"
             ],
             [
              0.3333333333333333,
              "#9c179e"
             ],
             [
              0.4444444444444444,
              "#bd3786"
             ],
             [
              0.5555555555555556,
              "#d8576b"
             ],
             [
              0.6666666666666666,
              "#ed7953"
             ],
             [
              0.7777777777777778,
              "#fb9f3a"
             ],
             [
              0.8888888888888888,
              "#fdca26"
             ],
             [
              1,
              "#f0f921"
             ]
            ],
            "type": "histogram2dcontour"
           }
          ],
          "mesh3d": [
           {
            "colorbar": {
             "outlinewidth": 0,
             "ticks": ""
            },
            "type": "mesh3d"
           }
          ],
          "parcoords": [
           {
            "line": {
             "colorbar": {
              "outlinewidth": 0,
              "ticks": ""
             }
            },
            "type": "parcoords"
           }
          ],
          "scatter": [
           {
            "marker": {
             "colorbar": {
              "outlinewidth": 0,
              "ticks": ""
             }
            },
            "type": "scatter"
           }
          ],
          "scatter3d": [
           {
            "line": {
             "colorbar": {
              "outlinewidth": 0,
              "ticks": ""
             }
            },
            "marker": {
             "colorbar": {
              "outlinewidth": 0,
              "ticks": ""
             }
            },
            "type": "scatter3d"
           }
          ],
          "scattercarpet": [
           {
            "marker": {
             "colorbar": {
              "outlinewidth": 0,
              "ticks": ""
             }
            },
            "type": "scattercarpet"
           }
          ],
          "scattergeo": [
           {
            "marker": {
             "colorbar": {
              "outlinewidth": 0,
              "ticks": ""
             }
            },
            "type": "scattergeo"
           }
          ],
          "scattergl": [
           {
            "marker": {
             "colorbar": {
              "outlinewidth": 0,
              "ticks": ""
             }
            },
            "type": "scattergl"
           }
          ],
          "scattermapbox": [
           {
            "marker": {
             "colorbar": {
              "outlinewidth": 0,
              "ticks": ""
             }
            },
            "type": "scattermapbox"
           }
          ],
          "scatterpolar": [
           {
            "marker": {
             "colorbar": {
              "outlinewidth": 0,
              "ticks": ""
             }
            },
            "type": "scatterpolar"
           }
          ],
          "scatterpolargl": [
           {
            "marker": {
             "colorbar": {
              "outlinewidth": 0,
              "ticks": ""
             }
            },
            "type": "scatterpolargl"
           }
          ],
          "scatterternary": [
           {
            "marker": {
             "colorbar": {
              "outlinewidth": 0,
              "ticks": ""
             }
            },
            "type": "scatterternary"
           }
          ],
          "surface": [
           {
            "colorbar": {
             "outlinewidth": 0,
             "ticks": ""
            },
            "colorscale": [
             [
              0,
              "#0d0887"
             ],
             [
              0.1111111111111111,
              "#46039f"
             ],
             [
              0.2222222222222222,
              "#7201a8"
             ],
             [
              0.3333333333333333,
              "#9c179e"
             ],
             [
              0.4444444444444444,
              "#bd3786"
             ],
             [
              0.5555555555555556,
              "#d8576b"
             ],
             [
              0.6666666666666666,
              "#ed7953"
             ],
             [
              0.7777777777777778,
              "#fb9f3a"
             ],
             [
              0.8888888888888888,
              "#fdca26"
             ],
             [
              1,
              "#f0f921"
             ]
            ],
            "type": "surface"
           }
          ],
          "table": [
           {
            "cells": {
             "fill": {
              "color": "#EBF0F8"
             },
             "line": {
              "color": "white"
             }
            },
            "header": {
             "fill": {
              "color": "#C8D4E3"
             },
             "line": {
              "color": "white"
             }
            },
            "type": "table"
           }
          ]
         },
         "layout": {
          "annotationdefaults": {
           "arrowcolor": "#2a3f5f",
           "arrowhead": 0,
           "arrowwidth": 1
          },
          "colorscale": {
           "diverging": [
            [
             0,
             "#8e0152"
            ],
            [
             0.1,
             "#c51b7d"
            ],
            [
             0.2,
             "#de77ae"
            ],
            [
             0.3,
             "#f1b6da"
            ],
            [
             0.4,
             "#fde0ef"
            ],
            [
             0.5,
             "#f7f7f7"
            ],
            [
             0.6,
             "#e6f5d0"
            ],
            [
             0.7,
             "#b8e186"
            ],
            [
             0.8,
             "#7fbc41"
            ],
            [
             0.9,
             "#4d9221"
            ],
            [
             1,
             "#276419"
            ]
           ],
           "sequential": [
            [
             0,
             "#0d0887"
            ],
            [
             0.1111111111111111,
             "#46039f"
            ],
            [
             0.2222222222222222,
             "#7201a8"
            ],
            [
             0.3333333333333333,
             "#9c179e"
            ],
            [
             0.4444444444444444,
             "#bd3786"
            ],
            [
             0.5555555555555556,
             "#d8576b"
            ],
            [
             0.6666666666666666,
             "#ed7953"
            ],
            [
             0.7777777777777778,
             "#fb9f3a"
            ],
            [
             0.8888888888888888,
             "#fdca26"
            ],
            [
             1,
             "#f0f921"
            ]
           ],
           "sequentialminus": [
            [
             0,
             "#0d0887"
            ],
            [
             0.1111111111111111,
             "#46039f"
            ],
            [
             0.2222222222222222,
             "#7201a8"
            ],
            [
             0.3333333333333333,
             "#9c179e"
            ],
            [
             0.4444444444444444,
             "#bd3786"
            ],
            [
             0.5555555555555556,
             "#d8576b"
            ],
            [
             0.6666666666666666,
             "#ed7953"
            ],
            [
             0.7777777777777778,
             "#fb9f3a"
            ],
            [
             0.8888888888888888,
             "#fdca26"
            ],
            [
             1,
             "#f0f921"
            ]
           ]
          },
          "colorway": [
           "#636efa",
           "#EF553B",
           "#00cc96",
           "#ab63fa",
           "#FFA15A",
           "#19d3f3",
           "#FF6692",
           "#B6E880",
           "#FF97FF",
           "#FECB52"
          ],
          "font": {
           "color": "#2a3f5f"
          },
          "geo": {
           "bgcolor": "white",
           "lakecolor": "white",
           "landcolor": "#E5ECF6",
           "showlakes": true,
           "showland": true,
           "subunitcolor": "white"
          },
          "hoverlabel": {
           "align": "left"
          },
          "hovermode": "closest",
          "mapbox": {
           "style": "light"
          },
          "paper_bgcolor": "white",
          "plot_bgcolor": "#E5ECF6",
          "polar": {
           "angularaxis": {
            "gridcolor": "white",
            "linecolor": "white",
            "ticks": ""
           },
           "bgcolor": "#E5ECF6",
           "radialaxis": {
            "gridcolor": "white",
            "linecolor": "white",
            "ticks": ""
           }
          },
          "scene": {
           "xaxis": {
            "backgroundcolor": "#E5ECF6",
            "gridcolor": "white",
            "gridwidth": 2,
            "linecolor": "white",
            "showbackground": true,
            "ticks": "",
            "zerolinecolor": "white"
           },
           "yaxis": {
            "backgroundcolor": "#E5ECF6",
            "gridcolor": "white",
            "gridwidth": 2,
            "linecolor": "white",
            "showbackground": true,
            "ticks": "",
            "zerolinecolor": "white"
           },
           "zaxis": {
            "backgroundcolor": "#E5ECF6",
            "gridcolor": "white",
            "gridwidth": 2,
            "linecolor": "white",
            "showbackground": true,
            "ticks": "",
            "zerolinecolor": "white"
           }
          },
          "shapedefaults": {
           "line": {
            "color": "#2a3f5f"
           }
          },
          "ternary": {
           "aaxis": {
            "gridcolor": "white",
            "linecolor": "white",
            "ticks": ""
           },
           "baxis": {
            "gridcolor": "white",
            "linecolor": "white",
            "ticks": ""
           },
           "bgcolor": "#E5ECF6",
           "caxis": {
            "gridcolor": "white",
            "linecolor": "white",
            "ticks": ""
           }
          },
          "title": {
           "x": 0.05
          },
          "xaxis": {
           "automargin": true,
           "gridcolor": "white",
           "linecolor": "white",
           "ticks": "",
           "zerolinecolor": "white",
           "zerolinewidth": 2
          },
          "yaxis": {
           "automargin": true,
           "gridcolor": "white",
           "linecolor": "white",
           "ticks": "",
           "zerolinecolor": "white",
           "zerolinewidth": 2
          }
         }
        }
       }
      },
      "text/html": [
       "<div>\n",
       "        \n",
       "        \n",
       "            <div id=\"76b7990c-1e27-4ac4-81d8-cff4e0781f82\" class=\"plotly-graph-div\" style=\"height:600px; width:100%;\"></div>\n",
       "            <script type=\"text/javascript\">\n",
       "                require([\"plotly\"], function(Plotly) {\n",
       "                    window.PLOTLYENV=window.PLOTLYENV || {};\n",
       "                    \n",
       "                if (document.getElementById(\"76b7990c-1e27-4ac4-81d8-cff4e0781f82\")) {\n",
       "                    Plotly.newPlot(\n",
       "                        '76b7990c-1e27-4ac4-81d8-cff4e0781f82',\n",
       "                        [{\"mode\": \"lines+markers\", \"name\": \"('ageb', nan, 'area', 'zm')\", \"type\": \"scatter\", \"x\": [\"zm33\", \"zm20\", \"zm39\", \"zm59\", \"zm54\", \"zm58\", \"zm19\", \"zm16\", \"zm48\", \"zm35\", \"zm23\", \"zm40\", \"zm41\", \"zm53\", \"zm17\", \"zm26\", \"zm50\", \"zm49\", \"zm42\", \"zm30\", \"zm52\", \"zm37\", \"zm22\", \"zm7\", \"zm6\", \"zm56\", \"zm12\", \"zm32\", \"zm46\", \"zm9\", \"zm36\", \"zm15\", \"zm18\", \"zm51\", \"zm43\", \"zm55\", \"zm10\", \"zm8\", \"zm29\", \"zm57\", \"zm24\", \"zm4\", \"zm28\", \"zm44\", \"zm5\", \"zm25\", \"zm47\", \"zm45\", \"zm1\", \"zm2\", \"zm38\", \"zm11\", \"zm3\", \"zm14\", \"zm27\", \"zm34\", \"zm31\", \"zm21\", \"zm13\"], \"y\": [4.541666666666667, 5.125, 6.666666666666667, 7.833333333333333, 10.041666666666666, 11.875, 11.875, 12.291666666666666, 15.166666666666666, 15.666666666666666, 15.791666666666666, 15.958333333333334, 16.75, 17.541666666666668, 18.958333333333332, 19.666666666666668, 19.791666666666668, 20.958333333333332, 21.0, 21.375, 23.0, 23.041666666666668, 23.5, 24.5, 25.333333333333332, 26.875, 27.083333333333332, 29.458333333333332, 29.625, 30.416666666666668, 32.458333333333336, 35.083333333333336, 35.958333333333336, 37.0, 37.125, 38.125, 38.25, 39.541666666666664, 40.166666666666664, 41.958333333333336, 42.375, 42.541666666666664, 45.125, 45.791666666666664, 46.333333333333336, 47.541666666666664, 49.666666666666664, 50.541666666666664, 56.25, 58.583333333333336, 59.291666666666664, 63.958333333333336, 67.04166666666667, 68.83333333333333, 69.0, 94.54166666666667, 157.16666666666666, 161.625, 195.0]}, {\"mode\": \"lines+markers\", \"name\": \"('ageb', nan, 'area', 'mun')\", \"type\": \"scatter\", \"x\": [\"zm33\", \"zm20\", \"zm39\", \"zm59\", \"zm54\", \"zm58\", \"zm19\", \"zm16\", \"zm48\", \"zm35\", \"zm23\", \"zm40\", \"zm41\", \"zm53\", \"zm17\", \"zm26\", \"zm50\", \"zm49\", \"zm42\", \"zm30\", \"zm52\", \"zm37\", \"zm22\", \"zm7\", \"zm6\", \"zm56\", \"zm12\", \"zm32\", \"zm46\", \"zm9\", \"zm36\", \"zm15\", \"zm18\", \"zm51\", \"zm43\", \"zm55\", \"zm10\", \"zm8\", \"zm29\", \"zm57\", \"zm24\", \"zm4\", \"zm28\", \"zm44\", \"zm5\", \"zm25\", \"zm47\", \"zm45\", \"zm1\", \"zm2\", \"zm38\", \"zm11\", \"zm3\", \"zm14\", \"zm27\", \"zm34\", \"zm31\", \"zm21\", \"zm13\"], \"y\": [14.833333333333334, 22.583333333333332, 7.75, 8.166666666666666, 10.0, 8.0, 18.25, 12.083333333333334, 23.75, 14.916666666666666, 10.75, 13.25, 21.541666666666668, 19.75, 22.416666666666668, 14.625, 48.125, 40.458333333333336, 34.958333333333336, 23.708333333333332, 25.875, 26.291666666666668, 23.291666666666668, 26.916666666666668, 35.208333333333336, 29.0, 29.125, 51.708333333333336, 62.333333333333336, 16.0, 37.333333333333336, 9.0, 46.958333333333336, 28.25, 46.416666666666664, 48.083333333333336, 44.75, 45.333333333333336, 40.75, 36.708333333333336, 65.5, 69.41666666666667, 68.75, 41.583333333333336, 53.833333333333336, 52.083333333333336, 56.125, 49.166666666666664, 43.208333333333336, 69.875, 62.541666666666664, 63.666666666666664, 41.291666666666664, 63.541666666666664, 16.375, 179.41666666666666, 265.6666666666667, 205.54166666666666, 839.125]}, {\"mode\": \"lines+markers\", \"name\": \"('ageb', nan, 'pop', 'zm')\", \"type\": \"scatter\", \"x\": [\"zm33\", \"zm20\", \"zm39\", \"zm59\", \"zm54\", \"zm58\", \"zm19\", \"zm16\", \"zm48\", \"zm35\", \"zm23\", \"zm40\", \"zm41\", \"zm53\", \"zm17\", \"zm26\", \"zm50\", \"zm49\", \"zm42\", \"zm30\", \"zm52\", \"zm37\", \"zm22\", \"zm7\", \"zm6\", \"zm56\", \"zm12\", \"zm32\", \"zm46\", \"zm9\", \"zm36\", \"zm15\", \"zm18\", \"zm51\", \"zm43\", \"zm55\", \"zm10\", \"zm8\", \"zm29\", \"zm57\", \"zm24\", \"zm4\", \"zm28\", \"zm44\", \"zm5\", \"zm25\", \"zm47\", \"zm45\", \"zm1\", \"zm2\", \"zm38\", \"zm11\", \"zm3\", \"zm14\", \"zm27\", \"zm34\", \"zm31\", \"zm21\", \"zm13\"], \"y\": [27.0, 23.875, 10.625, 12.458333333333334, 8.083333333333334, 14.25, 24.708333333333332, 17.291666666666668, 17.583333333333332, 28.208333333333332, 17.75, 21.291666666666668, 25.541666666666668, 18.5, 36.875, 23.083333333333332, 35.625, 22.75, 34.791666666666664, 37.166666666666664, 20.708333333333332, 45.041666666666664, 31.791666666666668, 41.083333333333336, 59.291666666666664, 48.833333333333336, 70.0, 34.333333333333336, 64.45833333333333, 27.458333333333332, 53.833333333333336, 19.833333333333332, 51.333333333333336, 34.166666666666664, 41.208333333333336, 63.375, 45.666666666666664, 36.75, 33.291666666666664, 45.583333333333336, 53.708333333333336, 78.25, 63.166666666666664, 51.083333333333336, 56.666666666666664, 49.541666666666664, 52.791666666666664, 45.916666666666664, 77.625, 58.458333333333336, 83.29166666666667, 94.75, 64.91666666666667, 82.29166666666667, 38.333333333333336, 110.0, 155.625, 134.95833333333334, 327.5416666666667]}, {\"mode\": \"lines+markers\", \"name\": \"('ageb', nan, 'pop', 'mun')\", \"type\": \"scatter\", \"x\": [\"zm33\", \"zm20\", \"zm39\", \"zm59\", \"zm54\", \"zm58\", \"zm19\", \"zm16\", \"zm48\", \"zm35\", \"zm23\", \"zm40\", \"zm41\", \"zm53\", \"zm17\", \"zm26\", \"zm50\", \"zm49\", \"zm42\", \"zm30\", \"zm52\", \"zm37\", \"zm22\", \"zm7\", \"zm6\", \"zm56\", \"zm12\", \"zm32\", \"zm46\", \"zm9\", \"zm36\", \"zm15\", \"zm18\", \"zm51\", \"zm43\", \"zm55\", \"zm10\", \"zm8\", \"zm29\", \"zm57\", \"zm24\", \"zm4\", \"zm28\", \"zm44\", \"zm5\", \"zm25\", \"zm47\", \"zm45\", \"zm1\", \"zm2\", \"zm38\", \"zm11\", \"zm3\", \"zm14\", \"zm27\", \"zm34\", \"zm31\", \"zm21\", \"zm13\"], \"y\": [34.083333333333336, 24.958333333333332, 12.75, 12.166666666666666, 12.875, 8.625, 26.875, 14.875, 25.875, 26.833333333333332, 17.041666666666668, 26.666666666666668, 28.333333333333332, 23.25, 41.0, 31.833333333333332, 57.458333333333336, 46.791666666666664, 49.083333333333336, 41.166666666666664, 27.791666666666668, 59.541666666666664, 40.291666666666664, 51.791666666666664, 67.75, 53.625, 74.08333333333333, 60.083333333333336, 85.16666666666667, 35.375, 56.0, 15.666666666666666, 73.04166666666667, 37.958333333333336, 54.541666666666664, 73.625, 62.083333333333336, 47.791666666666664, 46.833333333333336, 42.833333333333336, 80.91666666666667, 112.91666666666667, 100.75, 48.791666666666664, 62.958333333333336, 54.083333333333336, 64.08333333333333, 44.166666666666664, 82.0, 84.33333333333333, 97.58333333333333, 93.875, 53.291666666666664, 85.375, 23.708333333333332, 198.54166666666666, 266.3333333333333, 243.83333333333334, 1162.4166666666667]}, {\"mode\": \"lines+markers\", \"name\": \"('g', '1', 'area', 'zm')\", \"type\": \"scatter\", \"x\": [\"zm33\", \"zm20\", \"zm39\", \"zm59\", \"zm54\", \"zm58\", \"zm19\", \"zm16\", \"zm48\", \"zm35\", \"zm23\", \"zm40\", \"zm41\", \"zm53\", \"zm17\", \"zm26\", \"zm50\", \"zm49\", \"zm42\", \"zm30\", \"zm52\", \"zm37\", \"zm22\", \"zm7\", \"zm6\", \"zm56\", \"zm12\", \"zm32\", \"zm46\", \"zm9\", \"zm36\", \"zm15\", \"zm18\", \"zm51\", \"zm43\", \"zm55\", \"zm10\", \"zm8\", \"zm29\", \"zm57\", \"zm24\", \"zm4\", \"zm28\", \"zm44\", \"zm5\", \"zm25\", \"zm47\", \"zm45\", \"zm1\", \"zm2\", \"zm38\", \"zm11\", \"zm3\", \"zm14\", \"zm27\", \"zm34\", \"zm31\", \"zm21\", \"zm13\"], \"y\": [13.458333333333334, 51.291666666666664, 24.083333333333332, 22.916666666666668, 14.375, 33.541666666666664, 21.0, 30.5, 12.375, 16.958333333333332, 28.625, 36.458333333333336, 27.125, 11.875, 23.083333333333332, 17.083333333333332, 22.5, 15.833333333333334, 20.875, 19.875, 18.208333333333332, 27.625, 22.416666666666668, 26.5, 39.958333333333336, 17.166666666666668, 49.5, 17.625, 56.625, 58.083333333333336, 39.666666666666664, 139.58333333333334, 40.208333333333336, 35.875, 55.5, 51.25, 17.458333333333332, 23.875, 98.54166666666667, 27.166666666666668, 42.333333333333336, 62.791666666666664, 46.25, 25.416666666666668, 31.5, 26.0, 31.125, 30.666666666666668, 40.458333333333336, 52.541666666666664, 42.916666666666664, 72.25, 71.58333333333333, 55.583333333333336, 514.0833333333334, 85.25, 88.95833333333333, 106.16666666666667, 245.75]}, {\"mode\": \"lines+markers\", \"name\": \"('g', '1', 'area', 'mun')\", \"type\": \"scatter\", \"x\": [\"zm33\", \"zm20\", \"zm39\", \"zm59\", \"zm54\", \"zm58\", \"zm19\", \"zm16\", \"zm48\", \"zm35\", \"zm23\", \"zm40\", \"zm41\", \"zm53\", \"zm17\", \"zm26\", \"zm50\", \"zm49\", \"zm42\", \"zm30\", \"zm52\", \"zm37\", \"zm22\", \"zm7\", \"zm6\", \"zm56\", \"zm12\", \"zm32\", \"zm46\", \"zm9\", \"zm36\", \"zm15\", \"zm18\", \"zm51\", \"zm43\", \"zm55\", \"zm10\", \"zm8\", \"zm29\", \"zm57\", \"zm24\", \"zm4\", \"zm28\", \"zm44\", \"zm5\", \"zm25\", \"zm47\", \"zm45\", \"zm1\", \"zm2\", \"zm38\", \"zm11\", \"zm3\", \"zm14\", \"zm27\", \"zm34\", \"zm31\", \"zm21\", \"zm13\"], \"y\": [12.125, 50.166666666666664, 20.458333333333332, 11.0, 8.0, 15.0, 24.5, 12.833333333333334, 20.958333333333332, 19.833333333333332, 7.583333333333333, 15.875, 19.958333333333332, 17.333333333333332, 22.25, 9.875, 42.541666666666664, 35.625, 31.5, 16.375, 18.125, 22.875, 24.25, 26.041666666666668, 31.0, 17.25, 40.958333333333336, 76.25, 165.75, 14.0, 37.708333333333336, 13.958333333333334, 64.5, 35.166666666666664, 43.458333333333336, 62.333333333333336, 25.708333333333332, 28.708333333333332, 49.916666666666664, 30.75, 104.29166666666667, 62.916666666666664, 80.58333333333333, 19.083333333333332, 34.541666666666664, 23.666666666666668, 34.166666666666664, 24.708333333333332, 34.583333333333336, 60.541666666666664, 42.166666666666664, 65.0, 29.208333333333332, 51.125, 27.125, 275.375, 239.5, 155.08333333333334, 884.125]}, {\"mode\": \"lines+markers\", \"name\": \"('g', '1', 'pop', 'zm')\", \"type\": \"scatter\", \"x\": [\"zm33\", \"zm20\", \"zm39\", \"zm59\", \"zm54\", \"zm58\", \"zm19\", \"zm16\", \"zm48\", \"zm35\", \"zm23\", \"zm40\", \"zm41\", \"zm53\", \"zm17\", \"zm26\", \"zm50\", \"zm49\", \"zm42\", \"zm30\", \"zm52\", \"zm37\", \"zm22\", \"zm7\", \"zm6\", \"zm56\", \"zm12\", \"zm32\", \"zm46\", \"zm9\", \"zm36\", \"zm15\", \"zm18\", \"zm51\", \"zm43\", \"zm55\", \"zm10\", \"zm8\", \"zm29\", \"zm57\", \"zm24\", \"zm4\", \"zm28\", \"zm44\", \"zm5\", \"zm25\", \"zm47\", \"zm45\", \"zm1\", \"zm2\", \"zm38\", \"zm11\", \"zm3\", \"zm14\", \"zm27\", \"zm34\", \"zm31\", \"zm21\", \"zm13\"], \"y\": [13.083333333333334, 26.333333333333332, 13.333333333333334, 9.041666666666666, 7.125, 21.708333333333332, 10.125, 8.458333333333334, 13.833333333333334, 13.875, 10.166666666666666, 13.666666666666666, 23.416666666666668, 12.75, 21.083333333333332, 11.916666666666666, 15.833333333333334, 12.166666666666666, 21.75, 22.166666666666668, 20.583333333333332, 26.041666666666668, 18.958333333333332, 22.875, 29.041666666666668, 18.166666666666668, 52.875, 20.625, 35.708333333333336, 11.041666666666666, 40.791666666666664, 22.166666666666668, 30.5, 23.541666666666668, 41.958333333333336, 53.583333333333336, 18.5, 21.125, 24.458333333333332, 27.458333333333332, 45.75, 60.375, 34.416666666666664, 24.083333333333332, 30.458333333333332, 28.291666666666668, 32.333333333333336, 26.958333333333332, 39.666666666666664, 51.333333333333336, 45.083333333333336, 61.25, 48.875, 52.958333333333336, 26.625, 79.25, 110.75, 92.875, 229.375]}, {\"mode\": \"lines+markers\", \"name\": \"('g', '1', 'pop', 'mun')\", \"type\": \"scatter\", \"x\": [\"zm33\", \"zm20\", \"zm39\", \"zm59\", \"zm54\", \"zm58\", \"zm19\", \"zm16\", \"zm48\", \"zm35\", \"zm23\", \"zm40\", \"zm41\", \"zm53\", \"zm17\", \"zm26\", \"zm50\", \"zm49\", \"zm42\", \"zm30\", \"zm52\", \"zm37\", \"zm22\", \"zm7\", \"zm6\", \"zm56\", \"zm12\", \"zm32\", \"zm46\", \"zm9\", \"zm36\", \"zm15\", \"zm18\", \"zm51\", \"zm43\", \"zm55\", \"zm10\", \"zm8\", \"zm29\", \"zm57\", \"zm24\", \"zm4\", \"zm28\", \"zm44\", \"zm5\", \"zm25\", \"zm47\", \"zm45\", \"zm1\", \"zm2\", \"zm38\", \"zm11\", \"zm3\", \"zm14\", \"zm27\", \"zm34\", \"zm31\", \"zm21\", \"zm13\"], \"y\": [17.375, 42.208333333333336, 16.0, 9.833333333333334, 9.0, 10.666666666666666, 20.25, 9.875, 23.375, 18.375, 11.416666666666666, 16.125, 22.208333333333332, 23.25, 27.791666666666668, 14.583333333333334, 41.708333333333336, 28.0, 34.791666666666664, 23.666666666666668, 23.375, 29.291666666666668, 23.625, 27.25, 34.75, 20.458333333333332, 58.75, 68.75, 106.45833333333333, 15.333333333333334, 46.0, 16.125, 49.75, 37.541666666666664, 47.083333333333336, 65.91666666666667, 27.958333333333332, 28.791666666666668, 44.541666666666664, 32.875, 95.625, 76.16666666666667, 76.79166666666667, 23.125, 39.791666666666664, 33.916666666666664, 42.166666666666664, 25.791666666666668, 44.958333333333336, 69.625, 46.166666666666664, 60.75, 40.166666666666664, 55.916666666666664, 14.875, 249.0, 218.0, 167.33333333333334, 821.9583333333334]}, {\"mode\": \"lines+markers\", \"name\": \"('g', '2', 'area', 'zm')\", \"type\": \"scatter\", \"x\": [\"zm33\", \"zm20\", \"zm39\", \"zm59\", \"zm54\", \"zm58\", \"zm19\", \"zm16\", \"zm48\", \"zm35\", \"zm23\", \"zm40\", \"zm41\", \"zm53\", \"zm17\", \"zm26\", \"zm50\", \"zm49\", \"zm42\", \"zm30\", \"zm52\", \"zm37\", \"zm22\", \"zm7\", \"zm6\", \"zm56\", \"zm12\", \"zm32\", \"zm46\", \"zm9\", \"zm36\", \"zm15\", \"zm18\", \"zm51\", \"zm43\", \"zm55\", \"zm10\", \"zm8\", \"zm29\", \"zm57\", \"zm24\", \"zm4\", \"zm28\", \"zm44\", \"zm5\", \"zm25\", \"zm47\", \"zm45\", \"zm1\", \"zm2\", \"zm38\", \"zm11\", \"zm3\", \"zm14\", \"zm27\", \"zm34\", \"zm31\", \"zm21\", \"zm13\"], \"y\": [7.041666666666667, 16.833333333333332, 7.666666666666667, 8.958333333333334, 3.2083333333333335, 14.708333333333334, 12.416666666666666, 11.166666666666666, 5.708333333333333, 4.458333333333333, 9.208333333333334, 9.583333333333334, 8.458333333333334, 4.833333333333333, 8.458333333333334, 6.416666666666667, 7.5, 5.291666666666667, 9.416666666666666, 8.791666666666666, 7.166666666666667, 9.75, 8.666666666666666, 7.291666666666667, 10.5, 8.0, 16.25, 6.416666666666667, 15.25, 18.333333333333332, 15.041666666666666, 34.583333333333336, 12.5, 14.583333333333334, 15.458333333333334, 17.583333333333332, 6.875, 10.291666666666666, 25.875, 10.208333333333334, 13.125, 21.541666666666668, 13.041666666666666, 13.291666666666666, 15.166666666666666, 10.416666666666666, 11.958333333333334, 12.833333333333334, 13.625, 17.291666666666668, 15.875, 28.625, 20.583333333333332, 18.75, 128.16666666666666, 27.208333333333332, 37.208333333333336, 41.041666666666664, 84.41666666666667]}, {\"mode\": \"lines+markers\", \"name\": \"('g', '2', 'area', 'mun')\", \"type\": \"scatter\", \"x\": [\"zm33\", \"zm20\", \"zm39\", \"zm59\", \"zm54\", \"zm58\", \"zm19\", \"zm16\", \"zm48\", \"zm35\", \"zm23\", \"zm40\", \"zm41\", \"zm53\", \"zm17\", \"zm26\", \"zm50\", \"zm49\", \"zm42\", \"zm30\", \"zm52\", \"zm37\", \"zm22\", \"zm7\", \"zm6\", \"zm56\", \"zm12\", \"zm32\", \"zm46\", \"zm9\", \"zm36\", \"zm15\", \"zm18\", \"zm51\", \"zm43\", \"zm55\", \"zm10\", \"zm8\", \"zm29\", \"zm57\", \"zm24\", \"zm4\", \"zm28\", \"zm44\", \"zm5\", \"zm25\", \"zm47\", \"zm45\", \"zm1\", \"zm2\", \"zm38\", \"zm11\", \"zm3\", \"zm14\", \"zm27\", \"zm34\", \"zm31\", \"zm21\", \"zm13\"], \"y\": [8.125, 11.416666666666666, 5.0, 2.0, 1.0, 6.0, 10.458333333333334, 3.0, 10.208333333333334, 5.958333333333333, 4.833333333333333, 4.041666666666667, 7.25, 9.125, 11.583333333333334, 5.083333333333333, 10.083333333333334, 8.0, 14.125, 4.916666666666667, 5.125, 7.5, 9.75, 7.5, 9.708333333333334, 4.083333333333333, 14.458333333333334, 12.5, 43.083333333333336, 2.0, 14.0, 3.2916666666666665, 22.333333333333332, 5.208333333333333, 13.5, 20.5, 9.375, 9.333333333333334, 16.625, 9.708333333333334, 34.833333333333336, 22.541666666666668, 29.291666666666668, 9.958333333333334, 16.0, 9.291666666666666, 11.208333333333334, 10.25, 10.458333333333334, 19.791666666666668, 14.75, 25.583333333333332, 8.0, 17.791666666666668, 9.125, 91.25, 81.625, 58.666666666666664, 293.3333333333333]}, {\"mode\": \"lines+markers\", \"name\": \"('g', '2', 'pop', 'zm')\", \"type\": \"scatter\", \"x\": [\"zm33\", \"zm20\", \"zm39\", \"zm59\", \"zm54\", \"zm58\", \"zm19\", \"zm16\", \"zm48\", \"zm35\", \"zm23\", \"zm40\", \"zm41\", \"zm53\", \"zm17\", \"zm26\", \"zm50\", \"zm49\", \"zm42\", \"zm30\", \"zm52\", \"zm37\", \"zm22\", \"zm7\", \"zm6\", \"zm56\", \"zm12\", \"zm32\", \"zm46\", \"zm9\", \"zm36\", \"zm15\", \"zm18\", \"zm51\", \"zm43\", \"zm55\", \"zm10\", \"zm8\", \"zm29\", \"zm57\", \"zm24\", \"zm4\", \"zm28\", \"zm44\", \"zm5\", \"zm25\", \"zm47\", \"zm45\", \"zm1\", \"zm2\", \"zm38\", \"zm11\", \"zm3\", \"zm14\", \"zm27\", \"zm34\", \"zm31\", \"zm21\", \"zm13\"], \"y\": [4.0, 15.208333333333334, 4.583333333333333, 3.1666666666666665, 3.0, 9.541666666666666, 4.583333333333333, 2.25, 5.666666666666667, 4.333333333333333, 4.708333333333333, 8.916666666666666, 7.333333333333333, 4.416666666666667, 8.25, 5.208333333333333, 6.666666666666667, 4.333333333333333, 9.833333333333334, 7.875, 6.541666666666667, 9.625, 7.625, 7.958333333333333, 10.833333333333334, 7.166666666666667, 15.958333333333334, 7.5, 11.666666666666666, 4.625, 15.458333333333334, 6.75, 9.75, 10.333333333333334, 13.0, 18.333333333333332, 7.5, 8.833333333333334, 16.666666666666668, 10.458333333333334, 14.75, 21.083333333333332, 12.833333333333334, 12.541666666666666, 14.208333333333334, 10.5, 11.5, 12.541666666666666, 13.958333333333334, 18.0, 16.375, 28.583333333333332, 16.333333333333332, 18.375, 9.375, 26.875, 41.375, 40.416666666666664, 82.95833333333333]}, {\"mode\": \"lines+markers\", \"name\": \"('g', '2', 'pop', 'mun')\", \"type\": \"scatter\", \"x\": [\"zm33\", \"zm20\", \"zm39\", \"zm59\", \"zm54\", \"zm58\", \"zm19\", \"zm16\", \"zm48\", \"zm35\", \"zm23\", \"zm40\", \"zm41\", \"zm53\", \"zm17\", \"zm26\", \"zm50\", \"zm49\", \"zm42\", \"zm30\", \"zm52\", \"zm37\", \"zm22\", \"zm7\", \"zm6\", \"zm56\", \"zm12\", \"zm32\", \"zm46\", \"zm9\", \"zm36\", \"zm15\", \"zm18\", \"zm51\", \"zm43\", \"zm55\", \"zm10\", \"zm8\", \"zm29\", \"zm57\", \"zm24\", \"zm4\", \"zm28\", \"zm44\", \"zm5\", \"zm25\", \"zm47\", \"zm45\", \"zm1\", \"zm2\", \"zm38\", \"zm11\", \"zm3\", \"zm14\", \"zm27\", \"zm34\", \"zm31\", \"zm21\", \"zm13\"], \"y\": [7.958333333333333, 13.708333333333334, 5.541666666666667, 2.0, 2.0, 4.0, 8.625, 1.625, 9.916666666666666, 5.333333333333333, 6.0, 9.75, 8.0, 11.666666666666666, 13.541666666666666, 5.666666666666667, 12.291666666666666, 7.0, 14.75, 6.666666666666667, 5.791666666666667, 11.041666666666666, 9.916666666666666, 8.791666666666666, 14.208333333333334, 7.458333333333333, 20.0, 10.708333333333334, 32.166666666666664, 3.0, 17.958333333333332, 5.0, 18.25, 9.333333333333334, 16.25, 20.708333333333332, 10.625, 11.208333333333334, 16.708333333333332, 11.75, 39.416666666666664, 25.041666666666668, 30.791666666666668, 11.791666666666666, 18.75, 14.291666666666666, 13.625, 12.0, 15.208333333333334, 24.583333333333332, 17.041666666666668, 28.291666666666668, 13.291666666666666, 18.833333333333332, 6.041666666666667, 83.25, 85.29166666666667, 66.91666666666667, 304.2083333333333]}, {\"mode\": \"lines+markers\", \"name\": \"('idw10', '1', nan, 'zm')\", \"type\": \"scatter\", \"x\": [\"zm33\", \"zm20\", \"zm39\", \"zm59\", \"zm54\", \"zm58\", \"zm19\", \"zm16\", \"zm48\", \"zm35\", \"zm23\", \"zm40\", \"zm41\", \"zm53\", \"zm17\", \"zm26\", \"zm50\", \"zm49\", \"zm42\", \"zm30\", \"zm52\", \"zm37\", \"zm22\", \"zm7\", \"zm6\", \"zm56\", \"zm12\", \"zm32\", \"zm46\", \"zm9\", \"zm36\", \"zm15\", \"zm18\", \"zm51\", \"zm43\", \"zm55\", \"zm10\", \"zm8\", \"zm29\", \"zm57\", \"zm24\", \"zm4\", \"zm28\", \"zm44\", \"zm5\", \"zm25\", \"zm47\", \"zm45\", \"zm1\", \"zm2\", \"zm38\", \"zm11\", \"zm3\", \"zm14\", \"zm27\", \"zm34\", \"zm31\", \"zm21\", \"zm13\"], \"y\": [90.66666666666667, 76.0, 115.875, 20.166666666666668, 38.666666666666664, 10.0, 64.875, 54.583333333333336, 35.25, 42.291666666666664, 68.125, 283.75, 172.0, 17.625, 134.33333333333334, 82.875, 63.625, 125.16666666666667, 42.75, 95.91666666666667, 63.083333333333336, 74.08333333333333, 123.04166666666667, 102.125, 158.58333333333334, 106.08333333333333, 96.25, 72.79166666666667, 60.208333333333336, 88.75, 82.29166666666667, 28.291666666666668, 156.45833333333334, 79.04166666666667, 138.33333333333334, 144.08333333333334, 68.625, 20.041666666666668, 142.66666666666666, 125.41666666666667, 97.25, 190.83333333333334, 63.958333333333336, 158.08333333333334, 170.75, 120.83333333333333, 84.0, 121.79166666666667, 100.70833333333333, 78.70833333333333, 44.541666666666664, 63.541666666666664, 103.20833333333333, 160.125, 131.95833333333334, 139.33333333333334, 203.125, 206.375, 114.83333333333333]}, {\"mode\": \"lines+markers\", \"name\": \"('idw10', '1', nan, 'mun')\", \"type\": \"scatter\", \"x\": [\"zm33\", \"zm20\", \"zm39\", \"zm59\", \"zm54\", \"zm58\", \"zm19\", \"zm16\", \"zm48\", \"zm35\", \"zm23\", \"zm40\", \"zm41\", \"zm53\", \"zm17\", \"zm26\", \"zm50\", \"zm49\", \"zm42\", \"zm30\", \"zm52\", \"zm37\", \"zm22\", \"zm7\", \"zm6\", \"zm56\", \"zm12\", \"zm32\", \"zm46\", \"zm9\", \"zm36\", \"zm15\", \"zm18\", \"zm51\", \"zm43\", \"zm55\", \"zm10\", \"zm8\", \"zm29\", \"zm57\", \"zm24\", \"zm4\", \"zm28\", \"zm44\", \"zm5\", \"zm25\", \"zm47\", \"zm45\", \"zm1\", \"zm2\", \"zm38\", \"zm11\", \"zm3\", \"zm14\", \"zm27\", \"zm34\", \"zm31\", \"zm21\", \"zm13\"], \"y\": [23.708333333333332, 94.04166666666667, 22.083333333333332, 15.708333333333334, 12.0, 9.0, 53.875, 17.625, 69.5, 29.166666666666668, 17.083333333333332, 47.291666666666664, 43.25, 42.458333333333336, 55.916666666666664, 38.25, 89.91666666666667, 53.041666666666664, 63.5, 34.041666666666664, 40.625, 39.541666666666664, 55.041666666666664, 38.291666666666664, 60.708333333333336, 50.291666666666664, 55.916666666666664, 151.375, 288.25, 21.041666666666668, 75.875, 20.0, 102.70833333333333, 83.75, 55.291666666666664, 104.0, 55.166666666666664, 33.916666666666664, 103.33333333333333, 59.333333333333336, 245.0, 116.04166666666667, 174.95833333333334, 41.916666666666664, 77.375, 65.29166666666667, 55.916666666666664, 58.75, 69.375, 81.0, 39.5, 36.041666666666664, 22.416666666666668, 91.25, 28.625, 594.25, 323.9583333333333, 261.0833333333333, 1284.0]}, {\"mode\": \"lines+markers\", \"name\": \"('idw10', '2', nan, 'zm')\", \"type\": \"scatter\", \"x\": [\"zm33\", \"zm20\", \"zm39\", \"zm59\", \"zm54\", \"zm58\", \"zm19\", \"zm16\", \"zm48\", \"zm35\", \"zm23\", \"zm40\", \"zm41\", \"zm53\", \"zm17\", \"zm26\", \"zm50\", \"zm49\", \"zm42\", \"zm30\", \"zm52\", \"zm37\", \"zm22\", \"zm7\", \"zm6\", \"zm56\", \"zm12\", \"zm32\", \"zm46\", \"zm9\", \"zm36\", \"zm15\", \"zm18\", \"zm51\", \"zm43\", \"zm55\", \"zm10\", \"zm8\", \"zm29\", \"zm57\", \"zm24\", \"zm4\", \"zm28\", \"zm44\", \"zm5\", \"zm25\", \"zm47\", \"zm45\", \"zm1\", \"zm2\", \"zm38\", \"zm11\", \"zm3\", \"zm14\", \"zm27\", \"zm34\", \"zm31\", \"zm21\", \"zm13\"], \"y\": [45.291666666666664, 21.333333333333332, 52.333333333333336, 7.166666666666667, 11.125, 11.0, 26.583333333333332, 12.041666666666666, 29.833333333333332, 17.541666666666668, 16.541666666666668, 46.541666666666664, 43.125, 16.583333333333332, 35.166666666666664, 35.833333333333336, 38.708333333333336, 35.0, 25.166666666666668, 22.875, 15.333333333333334, 49.583333333333336, 52.916666666666664, 48.583333333333336, 17.0, 42.625, 101.125, 26.875, 36.541666666666664, 36.25, 54.916666666666664, 21.0, 58.666666666666664, 73.875, 67.875, 52.083333333333336, 30.0, 44.625, 27.666666666666668, 45.083333333333336, 40.208333333333336, 57.208333333333336, 14.708333333333334, 54.375, 91.91666666666667, 32.25, 40.0, 42.875, 43.791666666666664, 56.208333333333336, 43.166666666666664, 76.58333333333333, 98.79166666666667, 37.416666666666664, 82.29166666666667, 81.625, 120.20833333333333, 62.875, 189.75]}, {\"mode\": \"lines+markers\", \"name\": \"('idw10', '2', nan, 'mun')\", \"type\": \"scatter\", \"x\": [\"zm33\", \"zm20\", \"zm39\", \"zm59\", \"zm54\", \"zm58\", \"zm19\", \"zm16\", \"zm48\", \"zm35\", \"zm23\", \"zm40\", \"zm41\", \"zm53\", \"zm17\", \"zm26\", \"zm50\", \"zm49\", \"zm42\", \"zm30\", \"zm52\", \"zm37\", \"zm22\", \"zm7\", \"zm6\", \"zm56\", \"zm12\", \"zm32\", \"zm46\", \"zm9\", \"zm36\", \"zm15\", \"zm18\", \"zm51\", \"zm43\", \"zm55\", \"zm10\", \"zm8\", \"zm29\", \"zm57\", \"zm24\", \"zm4\", \"zm28\", \"zm44\", \"zm5\", \"zm25\", \"zm47\", \"zm45\", \"zm1\", \"zm2\", \"zm38\", \"zm11\", \"zm3\", \"zm14\", \"zm27\", \"zm34\", \"zm31\", \"zm21\", \"zm13\"], \"y\": [16.666666666666668, 27.875, 12.625, 4.0, 3.0, 1.0, 24.458333333333332, 4.0, 29.666666666666668, 14.416666666666666, 11.0, 14.375, 17.708333333333332, 25.541666666666668, 21.666666666666668, 13.791666666666666, 27.083333333333332, 20.083333333333332, 33.75, 11.333333333333334, 9.666666666666666, 26.958333333333332, 19.75, 11.958333333333334, 18.791666666666668, 17.416666666666668, 50.166666666666664, 25.958333333333332, 107.5, 7.166666666666667, 20.5, 7.041666666666667, 53.166666666666664, 24.541666666666668, 30.125, 41.708333333333336, 23.875, 20.125, 33.833333333333336, 25.666666666666668, 95.08333333333333, 47.75, 55.791666666666664, 20.416666666666668, 35.916666666666664, 18.666666666666668, 28.583333333333332, 22.291666666666668, 26.625, 50.125, 33.916666666666664, 46.208333333333336, 12.583333333333334, 38.541666666666664, 14.75, 210.70833333333334, 131.41666666666666, 107.91666666666667, 559.0]}],\n",
       "                        {\"height\": 600, \"margin\": {\"b\": 10, \"l\": 10, \"r\": 100, \"t\": 10}, \"template\": {\"data\": {\"bar\": [{\"error_x\": {\"color\": \"#2a3f5f\"}, \"error_y\": {\"color\": \"#2a3f5f\"}, \"marker\": {\"line\": {\"color\": \"#E5ECF6\", \"width\": 0.5}}, \"type\": \"bar\"}], \"barpolar\": [{\"marker\": {\"line\": {\"color\": \"#E5ECF6\", \"width\": 0.5}}, \"type\": \"barpolar\"}], \"carpet\": [{\"aaxis\": {\"endlinecolor\": \"#2a3f5f\", \"gridcolor\": \"white\", \"linecolor\": \"white\", \"minorgridcolor\": \"white\", \"startlinecolor\": \"#2a3f5f\"}, \"baxis\": {\"endlinecolor\": \"#2a3f5f\", \"gridcolor\": \"white\", \"linecolor\": \"white\", \"minorgridcolor\": \"white\", \"startlinecolor\": \"#2a3f5f\"}, \"type\": \"carpet\"}], \"choropleth\": [{\"colorbar\": {\"outlinewidth\": 0, \"ticks\": \"\"}, \"type\": \"choropleth\"}], \"contour\": [{\"colorbar\": {\"outlinewidth\": 0, \"ticks\": \"\"}, \"colorscale\": [[0.0, \"#0d0887\"], [0.1111111111111111, \"#46039f\"], [0.2222222222222222, \"#7201a8\"], [0.3333333333333333, \"#9c179e\"], [0.4444444444444444, \"#bd3786\"], [0.5555555555555556, \"#d8576b\"], [0.6666666666666666, \"#ed7953\"], [0.7777777777777778, \"#fb9f3a\"], [0.8888888888888888, \"#fdca26\"], [1.0, \"#f0f921\"]], \"type\": \"contour\"}], \"contourcarpet\": [{\"colorbar\": {\"outlinewidth\": 0, \"ticks\": \"\"}, \"type\": \"contourcarpet\"}], \"heatmap\": [{\"colorbar\": {\"outlinewidth\": 0, \"ticks\": \"\"}, \"colorscale\": [[0.0, \"#0d0887\"], [0.1111111111111111, \"#46039f\"], [0.2222222222222222, \"#7201a8\"], [0.3333333333333333, \"#9c179e\"], [0.4444444444444444, \"#bd3786\"], [0.5555555555555556, \"#d8576b\"], [0.6666666666666666, \"#ed7953\"], [0.7777777777777778, \"#fb9f3a\"], [0.8888888888888888, \"#fdca26\"], [1.0, \"#f0f921\"]], \"type\": \"heatmap\"}], \"heatmapgl\": [{\"colorbar\": {\"outlinewidth\": 0, \"ticks\": \"\"}, \"colorscale\": [[0.0, \"#0d0887\"], [0.1111111111111111, \"#46039f\"], [0.2222222222222222, \"#7201a8\"], [0.3333333333333333, \"#9c179e\"], [0.4444444444444444, \"#bd3786\"], [0.5555555555555556, \"#d8576b\"], [0.6666666666666666, \"#ed7953\"], [0.7777777777777778, \"#fb9f3a\"], [0.8888888888888888, \"#fdca26\"], [1.0, \"#f0f921\"]], \"type\": \"heatmapgl\"}], \"histogram\": [{\"marker\": {\"colorbar\": {\"outlinewidth\": 0, \"ticks\": \"\"}}, \"type\": \"histogram\"}], \"histogram2d\": [{\"colorbar\": {\"outlinewidth\": 0, \"ticks\": \"\"}, \"colorscale\": [[0.0, \"#0d0887\"], [0.1111111111111111, \"#46039f\"], [0.2222222222222222, \"#7201a8\"], [0.3333333333333333, \"#9c179e\"], [0.4444444444444444, \"#bd3786\"], [0.5555555555555556, \"#d8576b\"], [0.6666666666666666, \"#ed7953\"], [0.7777777777777778, \"#fb9f3a\"], [0.8888888888888888, \"#fdca26\"], [1.0, \"#f0f921\"]], \"type\": \"histogram2d\"}], \"histogram2dcontour\": [{\"colorbar\": {\"outlinewidth\": 0, \"ticks\": \"\"}, \"colorscale\": [[0.0, \"#0d0887\"], [0.1111111111111111, \"#46039f\"], [0.2222222222222222, \"#7201a8\"], [0.3333333333333333, \"#9c179e\"], [0.4444444444444444, \"#bd3786\"], [0.5555555555555556, \"#d8576b\"], [0.6666666666666666, \"#ed7953\"], [0.7777777777777778, \"#fb9f3a\"], [0.8888888888888888, \"#fdca26\"], [1.0, \"#f0f921\"]], \"type\": \"histogram2dcontour\"}], \"mesh3d\": [{\"colorbar\": {\"outlinewidth\": 0, \"ticks\": \"\"}, \"type\": \"mesh3d\"}], \"parcoords\": [{\"line\": {\"colorbar\": {\"outlinewidth\": 0, \"ticks\": \"\"}}, \"type\": \"parcoords\"}], \"scatter\": [{\"marker\": {\"colorbar\": {\"outlinewidth\": 0, \"ticks\": \"\"}}, \"type\": \"scatter\"}], \"scatter3d\": [{\"line\": {\"colorbar\": {\"outlinewidth\": 0, \"ticks\": \"\"}}, \"marker\": {\"colorbar\": {\"outlinewidth\": 0, \"ticks\": \"\"}}, \"type\": \"scatter3d\"}], \"scattercarpet\": [{\"marker\": {\"colorbar\": {\"outlinewidth\": 0, \"ticks\": \"\"}}, \"type\": \"scattercarpet\"}], \"scattergeo\": [{\"marker\": {\"colorbar\": {\"outlinewidth\": 0, \"ticks\": \"\"}}, \"type\": \"scattergeo\"}], \"scattergl\": [{\"marker\": {\"colorbar\": {\"outlinewidth\": 0, \"ticks\": \"\"}}, \"type\": \"scattergl\"}], \"scattermapbox\": [{\"marker\": {\"colorbar\": {\"outlinewidth\": 0, \"ticks\": \"\"}}, \"type\": \"scattermapbox\"}], \"scatterpolar\": [{\"marker\": {\"colorbar\": {\"outlinewidth\": 0, \"ticks\": \"\"}}, \"type\": \"scatterpolar\"}], \"scatterpolargl\": [{\"marker\": {\"colorbar\": {\"outlinewidth\": 0, \"ticks\": \"\"}}, \"type\": \"scatterpolargl\"}], \"scatterternary\": [{\"marker\": {\"colorbar\": {\"outlinewidth\": 0, \"ticks\": \"\"}}, \"type\": \"scatterternary\"}], \"surface\": [{\"colorbar\": {\"outlinewidth\": 0, \"ticks\": \"\"}, \"colorscale\": [[0.0, \"#0d0887\"], [0.1111111111111111, \"#46039f\"], [0.2222222222222222, \"#7201a8\"], [0.3333333333333333, \"#9c179e\"], [0.4444444444444444, \"#bd3786\"], [0.5555555555555556, \"#d8576b\"], [0.6666666666666666, \"#ed7953\"], [0.7777777777777778, \"#fb9f3a\"], [0.8888888888888888, \"#fdca26\"], [1.0, \"#f0f921\"]], \"type\": \"surface\"}], \"table\": [{\"cells\": {\"fill\": {\"color\": \"#EBF0F8\"}, \"line\": {\"color\": \"white\"}}, \"header\": {\"fill\": {\"color\": \"#C8D4E3\"}, \"line\": {\"color\": \"white\"}}, \"type\": \"table\"}]}, \"layout\": {\"annotationdefaults\": {\"arrowcolor\": \"#2a3f5f\", \"arrowhead\": 0, \"arrowwidth\": 1}, \"colorscale\": {\"diverging\": [[0, \"#8e0152\"], [0.1, \"#c51b7d\"], [0.2, \"#de77ae\"], [0.3, \"#f1b6da\"], [0.4, \"#fde0ef\"], [0.5, \"#f7f7f7\"], [0.6, \"#e6f5d0\"], [0.7, \"#b8e186\"], [0.8, \"#7fbc41\"], [0.9, \"#4d9221\"], [1, \"#276419\"]], \"sequential\": [[0.0, \"#0d0887\"], [0.1111111111111111, \"#46039f\"], [0.2222222222222222, \"#7201a8\"], [0.3333333333333333, \"#9c179e\"], [0.4444444444444444, \"#bd3786\"], [0.5555555555555556, \"#d8576b\"], [0.6666666666666666, \"#ed7953\"], [0.7777777777777778, \"#fb9f3a\"], [0.8888888888888888, \"#fdca26\"], [1.0, \"#f0f921\"]], \"sequentialminus\": [[0.0, \"#0d0887\"], [0.1111111111111111, \"#46039f\"], [0.2222222222222222, \"#7201a8\"], [0.3333333333333333, \"#9c179e\"], [0.4444444444444444, \"#bd3786\"], [0.5555555555555556, \"#d8576b\"], [0.6666666666666666, \"#ed7953\"], [0.7777777777777778, \"#fb9f3a\"], [0.8888888888888888, \"#fdca26\"], [1.0, \"#f0f921\"]]}, \"colorway\": [\"#636efa\", \"#EF553B\", \"#00cc96\", \"#ab63fa\", \"#FFA15A\", \"#19d3f3\", \"#FF6692\", \"#B6E880\", \"#FF97FF\", \"#FECB52\"], \"font\": {\"color\": \"#2a3f5f\"}, \"geo\": {\"bgcolor\": \"white\", \"lakecolor\": \"white\", \"landcolor\": \"#E5ECF6\", \"showlakes\": true, \"showland\": true, \"subunitcolor\": \"white\"}, \"hoverlabel\": {\"align\": \"left\"}, \"hovermode\": \"closest\", \"mapbox\": {\"style\": \"light\"}, \"paper_bgcolor\": \"white\", \"plot_bgcolor\": \"#E5ECF6\", \"polar\": {\"angularaxis\": {\"gridcolor\": \"white\", \"linecolor\": \"white\", \"ticks\": \"\"}, \"bgcolor\": \"#E5ECF6\", \"radialaxis\": {\"gridcolor\": \"white\", \"linecolor\": \"white\", \"ticks\": \"\"}}, \"scene\": {\"xaxis\": {\"backgroundcolor\": \"#E5ECF6\", \"gridcolor\": \"white\", \"gridwidth\": 2, \"linecolor\": \"white\", \"showbackground\": true, \"ticks\": \"\", \"zerolinecolor\": \"white\"}, \"yaxis\": {\"backgroundcolor\": \"#E5ECF6\", \"gridcolor\": \"white\", \"gridwidth\": 2, \"linecolor\": \"white\", \"showbackground\": true, \"ticks\": \"\", \"zerolinecolor\": \"white\"}, \"zaxis\": {\"backgroundcolor\": \"#E5ECF6\", \"gridcolor\": \"white\", \"gridwidth\": 2, \"linecolor\": \"white\", \"showbackground\": true, \"ticks\": \"\", \"zerolinecolor\": \"white\"}}, \"shapedefaults\": {\"line\": {\"color\": \"#2a3f5f\"}}, \"ternary\": {\"aaxis\": {\"gridcolor\": \"white\", \"linecolor\": \"white\", \"ticks\": \"\"}, \"baxis\": {\"gridcolor\": \"white\", \"linecolor\": \"white\", \"ticks\": \"\"}, \"bgcolor\": \"#E5ECF6\", \"caxis\": {\"gridcolor\": \"white\", \"linecolor\": \"white\", \"ticks\": \"\"}}, \"title\": {\"x\": 0.05}, \"xaxis\": {\"automargin\": true, \"gridcolor\": \"white\", \"linecolor\": \"white\", \"ticks\": \"\", \"zerolinecolor\": \"white\", \"zerolinewidth\": 2}, \"yaxis\": {\"automargin\": true, \"gridcolor\": \"white\", \"linecolor\": \"white\", \"ticks\": \"\", \"zerolinecolor\": \"white\", \"zerolinewidth\": 2}}}},\n",
       "                        {\"responsive\": true}\n",
       "                    ).then(function(){\n",
       "                            \n",
       "var gd = document.getElementById('76b7990c-1e27-4ac4-81d8-cff4e0781f82');\n",
       "var x = new MutationObserver(function (mutations, observer) {{\n",
       "        var display = window.getComputedStyle(gd).display;\n",
       "        if (!display || display === 'none') {{\n",
       "            console.log([gd, 'removed!']);\n",
       "            Plotly.purge(gd);\n",
       "            observer.disconnect();\n",
       "        }}\n",
       "}});\n",
       "\n",
       "// Listen for the removal of the full notebook cells\n",
       "var notebookContainer = gd.closest('#notebook-container');\n",
       "if (notebookContainer) {{\n",
       "    x.observe(notebookContainer, {childList: true});\n",
       "}}\n",
       "\n",
       "// Listen for the clearing of the current output cell\n",
       "var outputEl = gd.closest('.output');\n",
       "if (outputEl) {{\n",
       "    x.observe(outputEl, {childList: true});\n",
       "}}\n",
       "\n",
       "                        })\n",
       "                };\n",
       "                });\n",
       "            </script>\n",
       "        </div>"
      ]
     },
     "metadata": {},
     "output_type": "display_data"
    }
   ],
   "source": [
    "\n",
    "sort_col = Mean_number_hot.columns[0]\n",
    "Mean_number_hot=Mean_number_hot.sort_values(sort_col)\n",
    "print(sort_col)\n",
    "\n",
    "draw_scatter(Mean_number_hot)"
   ]
  },
  {
   "cell_type": "markdown",
   "metadata": {},
   "source": [
    "## display table"
   ]
  },
  {
   "cell_type": "code",
   "execution_count": 21,
   "metadata": {
    "ExecuteTime": {
     "end_time": "2019-11-04T19:51:35.113908Z",
     "start_time": "2019-11-04T19:51:35.098027Z"
    }
   },
   "outputs": [],
   "source": [
    "admin_strs = [ADMIN_STR(m,u) for m in [False, True] for u in [False,True]]"
   ]
  },
  {
   "cell_type": "code",
   "execution_count": 36,
   "metadata": {
    "ExecuteTime": {
     "end_time": "2019-11-04T20:01:43.338844Z",
     "start_time": "2019-11-04T20:01:43.305024Z"
    }
   },
   "outputs": [],
   "source": [
    "def print_table(astr, measurements):\n",
    "    print(astr.replace('_','\\n'))\n",
    "    for index_name, index_corr in measurements:\n",
    "        tbl = index_corr.T.sort_index(level=0).T.sort_index(level=0).loc[astr, astr].copy()\n",
    "        tbl.columns =['<br/>'.join(col).strip() for col in tbl.columns.values]\n",
    "        tbl.index =['<br/>'.join(col).strip() for col in tbl.index.values]\n",
    "        tbl.index.name=index_name\n",
    "        dis_tbl = grad_bg(tbl, mask_tril=True, mini=0)\n",
    "        display(dis_tbl)"
   ]
  },
  {
   "cell_type": "code",
   "execution_count": 37,
   "metadata": {
    "ExecuteTime": {
     "end_time": "2019-11-04T20:01:44.979338Z",
     "start_time": "2019-11-04T20:01:44.887938Z"
    },
    "cell_style": "split"
   },
   "outputs": [
    {
     "name": "stdout",
     "output_type": "stream",
     "text": [
      "PerMun\n",
      "UrbanOnly\n"
     ]
    },
    {
     "data": {
      "text/html": [
       "<style  type=\"text/css\" >\n",
       "    #T_ed372e66_ff3d_11e9_83be_d4ae52d07f78row0_col0 {\n",
       "            background-color:  #7f2704;\n",
       "        }    #T_ed372e66_ff3d_11e9_83be_d4ae52d07f78row0_col1 {\n",
       "            background-color:  #f26b15;\n",
       "        }    #T_ed372e66_ff3d_11e9_83be_d4ae52d07f78row0_col2 {\n",
       "            background-color:  #f36e19;\n",
       "        }    #T_ed372e66_ff3d_11e9_83be_d4ae52d07f78row0_col3 {\n",
       "            background-color:  #d64701;\n",
       "        }    #T_ed372e66_ff3d_11e9_83be_d4ae52d07f78row0_col4 {\n",
       "            background-color:  #f67723;\n",
       "        }    #T_ed372e66_ff3d_11e9_83be_d4ae52d07f78row0_col5 {\n",
       "            background-color:  #fdbd83;\n",
       "        }    #T_ed372e66_ff3d_11e9_83be_d4ae52d07f78row1_col0 {\n",
       "            background-color:  #fff5eb;\n",
       "        }    #T_ed372e66_ff3d_11e9_83be_d4ae52d07f78row1_col1 {\n",
       "            background-color:  #7f2704;\n",
       "        }    #T_ed372e66_ff3d_11e9_83be_d4ae52d07f78row1_col2 {\n",
       "            background-color:  #ee6511;\n",
       "        }    #T_ed372e66_ff3d_11e9_83be_d4ae52d07f78row1_col3 {\n",
       "            background-color:  #ee6511;\n",
       "        }    #T_ed372e66_ff3d_11e9_83be_d4ae52d07f78row1_col4 {\n",
       "            background-color:  #db4b03;\n",
       "        }    #T_ed372e66_ff3d_11e9_83be_d4ae52d07f78row1_col5 {\n",
       "            background-color:  #fda863;\n",
       "        }    #T_ed372e66_ff3d_11e9_83be_d4ae52d07f78row2_col0 {\n",
       "            background-color:  #fff5eb;\n",
       "        }    #T_ed372e66_ff3d_11e9_83be_d4ae52d07f78row2_col1 {\n",
       "            background-color:  #fff5eb;\n",
       "        }    #T_ed372e66_ff3d_11e9_83be_d4ae52d07f78row2_col2 {\n",
       "            background-color:  #7f2704;\n",
       "        }    #T_ed372e66_ff3d_11e9_83be_d4ae52d07f78row2_col3 {\n",
       "            background-color:  #db4b03;\n",
       "        }    #T_ed372e66_ff3d_11e9_83be_d4ae52d07f78row2_col4 {\n",
       "            background-color:  #e45709;\n",
       "        }    #T_ed372e66_ff3d_11e9_83be_d4ae52d07f78row2_col5 {\n",
       "            background-color:  #fd9c51;\n",
       "        }    #T_ed372e66_ff3d_11e9_83be_d4ae52d07f78row3_col0 {\n",
       "            background-color:  #fff5eb;\n",
       "        }    #T_ed372e66_ff3d_11e9_83be_d4ae52d07f78row3_col1 {\n",
       "            background-color:  #fff5eb;\n",
       "        }    #T_ed372e66_ff3d_11e9_83be_d4ae52d07f78row3_col2 {\n",
       "            background-color:  #fff5eb;\n",
       "        }    #T_ed372e66_ff3d_11e9_83be_d4ae52d07f78row3_col3 {\n",
       "            background-color:  #7f2704;\n",
       "        }    #T_ed372e66_ff3d_11e9_83be_d4ae52d07f78row3_col4 {\n",
       "            background-color:  #de5005;\n",
       "        }    #T_ed372e66_ff3d_11e9_83be_d4ae52d07f78row3_col5 {\n",
       "            background-color:  #fdad69;\n",
       "        }    #T_ed372e66_ff3d_11e9_83be_d4ae52d07f78row4_col0 {\n",
       "            background-color:  #fff5eb;\n",
       "        }    #T_ed372e66_ff3d_11e9_83be_d4ae52d07f78row4_col1 {\n",
       "            background-color:  #fff5eb;\n",
       "        }    #T_ed372e66_ff3d_11e9_83be_d4ae52d07f78row4_col2 {\n",
       "            background-color:  #fff5eb;\n",
       "        }    #T_ed372e66_ff3d_11e9_83be_d4ae52d07f78row4_col3 {\n",
       "            background-color:  #fff5eb;\n",
       "        }    #T_ed372e66_ff3d_11e9_83be_d4ae52d07f78row4_col4 {\n",
       "            background-color:  #7f2704;\n",
       "        }    #T_ed372e66_ff3d_11e9_83be_d4ae52d07f78row4_col5 {\n",
       "            background-color:  #fdab66;\n",
       "        }    #T_ed372e66_ff3d_11e9_83be_d4ae52d07f78row5_col0 {\n",
       "            background-color:  #fff5eb;\n",
       "        }    #T_ed372e66_ff3d_11e9_83be_d4ae52d07f78row5_col1 {\n",
       "            background-color:  #fff5eb;\n",
       "        }    #T_ed372e66_ff3d_11e9_83be_d4ae52d07f78row5_col2 {\n",
       "            background-color:  #fff5eb;\n",
       "        }    #T_ed372e66_ff3d_11e9_83be_d4ae52d07f78row5_col3 {\n",
       "            background-color:  #fff5eb;\n",
       "        }    #T_ed372e66_ff3d_11e9_83be_d4ae52d07f78row5_col4 {\n",
       "            background-color:  #fff5eb;\n",
       "        }    #T_ed372e66_ff3d_11e9_83be_d4ae52d07f78row5_col5 {\n",
       "            background-color:  #7f2704;\n",
       "        }</style><table id=\"T_ed372e66_ff3d_11e9_83be_d4ae52d07f78\" style='display:inline'><thead>    <tr>        <th class=\"blank level0\" ></th>        <th class=\"col_heading level0 col0\" >ageb<br/>area</th>        <th class=\"col_heading level0 col1\" >ageb<br/>pop</th>        <th class=\"col_heading level0 col2\" >g.5km<br/>_idw10</th>        <th class=\"col_heading level0 col3\" >g.5km<br/>area</th>        <th class=\"col_heading level0 col4\" >g.5km<br/>pop</th>        <th class=\"col_heading level0 col5\" >vor<br/></th>    </tr>    <tr>        <th class=\"index_name level0\" >Comp Coef</th>        <th class=\"blank\" ></th>        <th class=\"blank\" ></th>        <th class=\"blank\" ></th>        <th class=\"blank\" ></th>        <th class=\"blank\" ></th>        <th class=\"blank\" ></th>    </tr></thead><tbody>\n",
       "                <tr>\n",
       "                        <th id=\"T_ed372e66_ff3d_11e9_83be_d4ae52d07f78level0_row0\" class=\"row_heading level0 row0\" >ageb<br/>area</th>\n",
       "                        <td id=\"T_ed372e66_ff3d_11e9_83be_d4ae52d07f78row0_col0\" class=\"data row0 col0\" >1.000</td>\n",
       "                        <td id=\"T_ed372e66_ff3d_11e9_83be_d4ae52d07f78row0_col1\" class=\"data row0 col1\" >0.619</td>\n",
       "                        <td id=\"T_ed372e66_ff3d_11e9_83be_d4ae52d07f78row0_col2\" class=\"data row0 col2\" >0.607</td>\n",
       "                        <td id=\"T_ed372e66_ff3d_11e9_83be_d4ae52d07f78row0_col3\" class=\"data row0 col3\" >0.755</td>\n",
       "                        <td id=\"T_ed372e66_ff3d_11e9_83be_d4ae52d07f78row0_col4\" class=\"data row0 col4\" >0.576</td>\n",
       "                        <td id=\"T_ed372e66_ff3d_11e9_83be_d4ae52d07f78row0_col5\" class=\"data row0 col5\" >0.323</td>\n",
       "            </tr>\n",
       "            <tr>\n",
       "                        <th id=\"T_ed372e66_ff3d_11e9_83be_d4ae52d07f78level0_row1\" class=\"row_heading level0 row1\" >ageb<br/>pop</th>\n",
       "                        <td id=\"T_ed372e66_ff3d_11e9_83be_d4ae52d07f78row1_col0\" class=\"data row1 col0\" ></td>\n",
       "                        <td id=\"T_ed372e66_ff3d_11e9_83be_d4ae52d07f78row1_col1\" class=\"data row1 col1\" >1.000</td>\n",
       "                        <td id=\"T_ed372e66_ff3d_11e9_83be_d4ae52d07f78row1_col2\" class=\"data row1 col2\" >0.640</td>\n",
       "                        <td id=\"T_ed372e66_ff3d_11e9_83be_d4ae52d07f78row1_col3\" class=\"data row1 col3\" >0.640</td>\n",
       "                        <td id=\"T_ed372e66_ff3d_11e9_83be_d4ae52d07f78row1_col4\" class=\"data row1 col4\" >0.735</td>\n",
       "                        <td id=\"T_ed372e66_ff3d_11e9_83be_d4ae52d07f78row1_col5\" class=\"data row1 col5\" >0.396</td>\n",
       "            </tr>\n",
       "            <tr>\n",
       "                        <th id=\"T_ed372e66_ff3d_11e9_83be_d4ae52d07f78level0_row2\" class=\"row_heading level0 row2\" >g.5km<br/>_idw10</th>\n",
       "                        <td id=\"T_ed372e66_ff3d_11e9_83be_d4ae52d07f78row2_col0\" class=\"data row2 col0\" ></td>\n",
       "                        <td id=\"T_ed372e66_ff3d_11e9_83be_d4ae52d07f78row2_col1\" class=\"data row2 col1\" ></td>\n",
       "                        <td id=\"T_ed372e66_ff3d_11e9_83be_d4ae52d07f78row2_col2\" class=\"data row2 col2\" >1.000</td>\n",
       "                        <td id=\"T_ed372e66_ff3d_11e9_83be_d4ae52d07f78row2_col3\" class=\"data row2 col3\" >0.736</td>\n",
       "                        <td id=\"T_ed372e66_ff3d_11e9_83be_d4ae52d07f78row2_col4\" class=\"data row2 col4\" >0.693</td>\n",
       "                        <td id=\"T_ed372e66_ff3d_11e9_83be_d4ae52d07f78row2_col5\" class=\"data row2 col5\" >0.443</td>\n",
       "            </tr>\n",
       "            <tr>\n",
       "                        <th id=\"T_ed372e66_ff3d_11e9_83be_d4ae52d07f78level0_row3\" class=\"row_heading level0 row3\" >g.5km<br/>area</th>\n",
       "                        <td id=\"T_ed372e66_ff3d_11e9_83be_d4ae52d07f78row3_col0\" class=\"data row3 col0\" ></td>\n",
       "                        <td id=\"T_ed372e66_ff3d_11e9_83be_d4ae52d07f78row3_col1\" class=\"data row3 col1\" ></td>\n",
       "                        <td id=\"T_ed372e66_ff3d_11e9_83be_d4ae52d07f78row3_col2\" class=\"data row3 col2\" ></td>\n",
       "                        <td id=\"T_ed372e66_ff3d_11e9_83be_d4ae52d07f78row3_col3\" class=\"data row3 col3\" >1.000</td>\n",
       "                        <td id=\"T_ed372e66_ff3d_11e9_83be_d4ae52d07f78row3_col4\" class=\"data row3 col4\" >0.721</td>\n",
       "                        <td id=\"T_ed372e66_ff3d_11e9_83be_d4ae52d07f78row3_col5\" class=\"data row3 col5\" >0.379</td>\n",
       "            </tr>\n",
       "            <tr>\n",
       "                        <th id=\"T_ed372e66_ff3d_11e9_83be_d4ae52d07f78level0_row4\" class=\"row_heading level0 row4\" >g.5km<br/>pop</th>\n",
       "                        <td id=\"T_ed372e66_ff3d_11e9_83be_d4ae52d07f78row4_col0\" class=\"data row4 col0\" ></td>\n",
       "                        <td id=\"T_ed372e66_ff3d_11e9_83be_d4ae52d07f78row4_col1\" class=\"data row4 col1\" ></td>\n",
       "                        <td id=\"T_ed372e66_ff3d_11e9_83be_d4ae52d07f78row4_col2\" class=\"data row4 col2\" ></td>\n",
       "                        <td id=\"T_ed372e66_ff3d_11e9_83be_d4ae52d07f78row4_col3\" class=\"data row4 col3\" ></td>\n",
       "                        <td id=\"T_ed372e66_ff3d_11e9_83be_d4ae52d07f78row4_col4\" class=\"data row4 col4\" >1.000</td>\n",
       "                        <td id=\"T_ed372e66_ff3d_11e9_83be_d4ae52d07f78row4_col5\" class=\"data row4 col5\" >0.390</td>\n",
       "            </tr>\n",
       "            <tr>\n",
       "                        <th id=\"T_ed372e66_ff3d_11e9_83be_d4ae52d07f78level0_row5\" class=\"row_heading level0 row5\" >vor<br/></th>\n",
       "                        <td id=\"T_ed372e66_ff3d_11e9_83be_d4ae52d07f78row5_col0\" class=\"data row5 col0\" ></td>\n",
       "                        <td id=\"T_ed372e66_ff3d_11e9_83be_d4ae52d07f78row5_col1\" class=\"data row5 col1\" ></td>\n",
       "                        <td id=\"T_ed372e66_ff3d_11e9_83be_d4ae52d07f78row5_col2\" class=\"data row5 col2\" ></td>\n",
       "                        <td id=\"T_ed372e66_ff3d_11e9_83be_d4ae52d07f78row5_col3\" class=\"data row5 col3\" ></td>\n",
       "                        <td id=\"T_ed372e66_ff3d_11e9_83be_d4ae52d07f78row5_col4\" class=\"data row5 col4\" ></td>\n",
       "                        <td id=\"T_ed372e66_ff3d_11e9_83be_d4ae52d07f78row5_col5\" class=\"data row5 col5\" >1.000</td>\n",
       "            </tr>\n",
       "    </tbody></table>"
      ],
      "text/plain": [
       "<IPython.core.display.HTML object>"
      ]
     },
     "metadata": {},
     "output_type": "display_data"
    },
    {
     "data": {
      "text/html": [
       "<style  type=\"text/css\" >\n",
       "    #T_ed3bf45a_ff3d_11e9_83be_d4ae52d07f78row0_col0 {\n",
       "            background-color:  #7f2704;\n",
       "        }    #T_ed3bf45a_ff3d_11e9_83be_d4ae52d07f78row0_col1 {\n",
       "            background-color:  #cd4401;\n",
       "        }    #T_ed3bf45a_ff3d_11e9_83be_d4ae52d07f78row0_col2 {\n",
       "            background-color:  #f5741f;\n",
       "        }    #T_ed3bf45a_ff3d_11e9_83be_d4ae52d07f78row0_col3 {\n",
       "            background-color:  #ed6310;\n",
       "        }    #T_ed3bf45a_ff3d_11e9_83be_d4ae52d07f78row0_col4 {\n",
       "            background-color:  #dd4d04;\n",
       "        }    #T_ed3bf45a_ff3d_11e9_83be_d4ae52d07f78row0_col5 {\n",
       "            background-color:  #ee6410;\n",
       "        }    #T_ed3bf45a_ff3d_11e9_83be_d4ae52d07f78row1_col0 {\n",
       "            background-color:  #fff5eb;\n",
       "        }    #T_ed3bf45a_ff3d_11e9_83be_d4ae52d07f78row1_col1 {\n",
       "            background-color:  #7f2704;\n",
       "        }    #T_ed3bf45a_ff3d_11e9_83be_d4ae52d07f78row1_col2 {\n",
       "            background-color:  #fb8634;\n",
       "        }    #T_ed3bf45a_ff3d_11e9_83be_d4ae52d07f78row1_col3 {\n",
       "            background-color:  #f36f1a;\n",
       "        }    #T_ed3bf45a_ff3d_11e9_83be_d4ae52d07f78row1_col4 {\n",
       "            background-color:  #e15407;\n",
       "        }    #T_ed3bf45a_ff3d_11e9_83be_d4ae52d07f78row1_col5 {\n",
       "            background-color:  #ea5f0e;\n",
       "        }    #T_ed3bf45a_ff3d_11e9_83be_d4ae52d07f78row2_col0 {\n",
       "            background-color:  #fff5eb;\n",
       "        }    #T_ed3bf45a_ff3d_11e9_83be_d4ae52d07f78row2_col1 {\n",
       "            background-color:  #fff5eb;\n",
       "        }    #T_ed3bf45a_ff3d_11e9_83be_d4ae52d07f78row2_col2 {\n",
       "            background-color:  #7f2704;\n",
       "        }    #T_ed3bf45a_ff3d_11e9_83be_d4ae52d07f78row2_col3 {\n",
       "            background-color:  #e75b0b;\n",
       "        }    #T_ed3bf45a_ff3d_11e9_83be_d4ae52d07f78row2_col4 {\n",
       "            background-color:  #e35608;\n",
       "        }    #T_ed3bf45a_ff3d_11e9_83be_d4ae52d07f78row2_col5 {\n",
       "            background-color:  #fd994d;\n",
       "        }    #T_ed3bf45a_ff3d_11e9_83be_d4ae52d07f78row3_col0 {\n",
       "            background-color:  #fff5eb;\n",
       "        }    #T_ed3bf45a_ff3d_11e9_83be_d4ae52d07f78row3_col1 {\n",
       "            background-color:  #fff5eb;\n",
       "        }    #T_ed3bf45a_ff3d_11e9_83be_d4ae52d07f78row3_col2 {\n",
       "            background-color:  #fff5eb;\n",
       "        }    #T_ed3bf45a_ff3d_11e9_83be_d4ae52d07f78row3_col3 {\n",
       "            background-color:  #7f2704;\n",
       "        }    #T_ed3bf45a_ff3d_11e9_83be_d4ae52d07f78row3_col4 {\n",
       "            background-color:  #c34002;\n",
       "        }    #T_ed3bf45a_ff3d_11e9_83be_d4ae52d07f78row3_col5 {\n",
       "            background-color:  #fd9a4e;\n",
       "        }    #T_ed3bf45a_ff3d_11e9_83be_d4ae52d07f78row4_col0 {\n",
       "            background-color:  #fff5eb;\n",
       "        }    #T_ed3bf45a_ff3d_11e9_83be_d4ae52d07f78row4_col1 {\n",
       "            background-color:  #fff5eb;\n",
       "        }    #T_ed3bf45a_ff3d_11e9_83be_d4ae52d07f78row4_col2 {\n",
       "            background-color:  #fff5eb;\n",
       "        }    #T_ed3bf45a_ff3d_11e9_83be_d4ae52d07f78row4_col3 {\n",
       "            background-color:  #fff5eb;\n",
       "        }    #T_ed3bf45a_ff3d_11e9_83be_d4ae52d07f78row4_col4 {\n",
       "            background-color:  #7f2704;\n",
       "        }    #T_ed3bf45a_ff3d_11e9_83be_d4ae52d07f78row4_col5 {\n",
       "            background-color:  #f87f2c;\n",
       "        }    #T_ed3bf45a_ff3d_11e9_83be_d4ae52d07f78row5_col0 {\n",
       "            background-color:  #fff5eb;\n",
       "        }    #T_ed3bf45a_ff3d_11e9_83be_d4ae52d07f78row5_col1 {\n",
       "            background-color:  #fff5eb;\n",
       "        }    #T_ed3bf45a_ff3d_11e9_83be_d4ae52d07f78row5_col2 {\n",
       "            background-color:  #fff5eb;\n",
       "        }    #T_ed3bf45a_ff3d_11e9_83be_d4ae52d07f78row5_col3 {\n",
       "            background-color:  #fff5eb;\n",
       "        }    #T_ed3bf45a_ff3d_11e9_83be_d4ae52d07f78row5_col4 {\n",
       "            background-color:  #fff5eb;\n",
       "        }    #T_ed3bf45a_ff3d_11e9_83be_d4ae52d07f78row5_col5 {\n",
       "            background-color:  #7f2704;\n",
       "        }</style><table id=\"T_ed3bf45a_ff3d_11e9_83be_d4ae52d07f78\" style='display:inline'><thead>    <tr>        <th class=\"blank level0\" ></th>        <th class=\"col_heading level0 col0\" >ageb<br/>area</th>        <th class=\"col_heading level0 col1\" >ageb<br/>pop</th>        <th class=\"col_heading level0 col2\" >g.5km<br/>_idw10</th>        <th class=\"col_heading level0 col3\" >g.5km<br/>area</th>        <th class=\"col_heading level0 col4\" >g.5km<br/>pop</th>        <th class=\"col_heading level0 col5\" >vor<br/></th>    </tr>    <tr>        <th class=\"index_name level0\" >Avg N HS</th>        <th class=\"blank\" ></th>        <th class=\"blank\" ></th>        <th class=\"blank\" ></th>        <th class=\"blank\" ></th>        <th class=\"blank\" ></th>        <th class=\"blank\" ></th>    </tr></thead><tbody>\n",
       "                <tr>\n",
       "                        <th id=\"T_ed3bf45a_ff3d_11e9_83be_d4ae52d07f78level0_row0\" class=\"row_heading level0 row0\" >ageb<br/>area</th>\n",
       "                        <td id=\"T_ed3bf45a_ff3d_11e9_83be_d4ae52d07f78row0_col0\" class=\"data row0 col0\" >1.000</td>\n",
       "                        <td id=\"T_ed3bf45a_ff3d_11e9_83be_d4ae52d07f78row0_col1\" class=\"data row0 col1\" >0.780</td>\n",
       "                        <td id=\"T_ed3bf45a_ff3d_11e9_83be_d4ae52d07f78row0_col2\" class=\"data row0 col2\" >0.586</td>\n",
       "                        <td id=\"T_ed3bf45a_ff3d_11e9_83be_d4ae52d07f78row0_col3\" class=\"data row0 col3\" >0.648</td>\n",
       "                        <td id=\"T_ed3bf45a_ff3d_11e9_83be_d4ae52d07f78row0_col4\" class=\"data row0 col4\" >0.727</td>\n",
       "                        <td id=\"T_ed3bf45a_ff3d_11e9_83be_d4ae52d07f78row0_col5\" class=\"data row0 col5\" >0.641</td>\n",
       "            </tr>\n",
       "            <tr>\n",
       "                        <th id=\"T_ed3bf45a_ff3d_11e9_83be_d4ae52d07f78level0_row1\" class=\"row_heading level0 row1\" >ageb<br/>pop</th>\n",
       "                        <td id=\"T_ed3bf45a_ff3d_11e9_83be_d4ae52d07f78row1_col0\" class=\"data row1 col0\" ></td>\n",
       "                        <td id=\"T_ed3bf45a_ff3d_11e9_83be_d4ae52d07f78row1_col1\" class=\"data row1 col1\" >1.000</td>\n",
       "                        <td id=\"T_ed3bf45a_ff3d_11e9_83be_d4ae52d07f78row1_col2\" class=\"data row1 col2\" >0.525</td>\n",
       "                        <td id=\"T_ed3bf45a_ff3d_11e9_83be_d4ae52d07f78row1_col3\" class=\"data row1 col3\" >0.604</td>\n",
       "                        <td id=\"T_ed3bf45a_ff3d_11e9_83be_d4ae52d07f78row1_col4\" class=\"data row1 col4\" >0.704</td>\n",
       "                        <td id=\"T_ed3bf45a_ff3d_11e9_83be_d4ae52d07f78row1_col5\" class=\"data row1 col5\" >0.663</td>\n",
       "            </tr>\n",
       "            <tr>\n",
       "                        <th id=\"T_ed3bf45a_ff3d_11e9_83be_d4ae52d07f78level0_row2\" class=\"row_heading level0 row2\" >g.5km<br/>_idw10</th>\n",
       "                        <td id=\"T_ed3bf45a_ff3d_11e9_83be_d4ae52d07f78row2_col0\" class=\"data row2 col0\" ></td>\n",
       "                        <td id=\"T_ed3bf45a_ff3d_11e9_83be_d4ae52d07f78row2_col1\" class=\"data row2 col1\" ></td>\n",
       "                        <td id=\"T_ed3bf45a_ff3d_11e9_83be_d4ae52d07f78row2_col2\" class=\"data row2 col2\" >1.000</td>\n",
       "                        <td id=\"T_ed3bf45a_ff3d_11e9_83be_d4ae52d07f78row2_col3\" class=\"data row2 col3\" >0.676</td>\n",
       "                        <td id=\"T_ed3bf45a_ff3d_11e9_83be_d4ae52d07f78row2_col4\" class=\"data row2 col4\" >0.698</td>\n",
       "                        <td id=\"T_ed3bf45a_ff3d_11e9_83be_d4ae52d07f78row2_col5\" class=\"data row2 col5\" >0.454</td>\n",
       "            </tr>\n",
       "            <tr>\n",
       "                        <th id=\"T_ed3bf45a_ff3d_11e9_83be_d4ae52d07f78level0_row3\" class=\"row_heading level0 row3\" >g.5km<br/>area</th>\n",
       "                        <td id=\"T_ed3bf45a_ff3d_11e9_83be_d4ae52d07f78row3_col0\" class=\"data row3 col0\" ></td>\n",
       "                        <td id=\"T_ed3bf45a_ff3d_11e9_83be_d4ae52d07f78row3_col1\" class=\"data row3 col1\" ></td>\n",
       "                        <td id=\"T_ed3bf45a_ff3d_11e9_83be_d4ae52d07f78row3_col2\" class=\"data row3 col2\" ></td>\n",
       "                        <td id=\"T_ed3bf45a_ff3d_11e9_83be_d4ae52d07f78row3_col3\" class=\"data row3 col3\" >1.000</td>\n",
       "                        <td id=\"T_ed3bf45a_ff3d_11e9_83be_d4ae52d07f78row3_col4\" class=\"data row3 col4\" >0.801</td>\n",
       "                        <td id=\"T_ed3bf45a_ff3d_11e9_83be_d4ae52d07f78row3_col5\" class=\"data row3 col5\" >0.451</td>\n",
       "            </tr>\n",
       "            <tr>\n",
       "                        <th id=\"T_ed3bf45a_ff3d_11e9_83be_d4ae52d07f78level0_row4\" class=\"row_heading level0 row4\" >g.5km<br/>pop</th>\n",
       "                        <td id=\"T_ed3bf45a_ff3d_11e9_83be_d4ae52d07f78row4_col0\" class=\"data row4 col0\" ></td>\n",
       "                        <td id=\"T_ed3bf45a_ff3d_11e9_83be_d4ae52d07f78row4_col1\" class=\"data row4 col1\" ></td>\n",
       "                        <td id=\"T_ed3bf45a_ff3d_11e9_83be_d4ae52d07f78row4_col2\" class=\"data row4 col2\" ></td>\n",
       "                        <td id=\"T_ed3bf45a_ff3d_11e9_83be_d4ae52d07f78row4_col3\" class=\"data row4 col3\" ></td>\n",
       "                        <td id=\"T_ed3bf45a_ff3d_11e9_83be_d4ae52d07f78row4_col4\" class=\"data row4 col4\" >1.000</td>\n",
       "                        <td id=\"T_ed3bf45a_ff3d_11e9_83be_d4ae52d07f78row4_col5\" class=\"data row4 col5\" >0.548</td>\n",
       "            </tr>\n",
       "            <tr>\n",
       "                        <th id=\"T_ed3bf45a_ff3d_11e9_83be_d4ae52d07f78level0_row5\" class=\"row_heading level0 row5\" >vor<br/></th>\n",
       "                        <td id=\"T_ed3bf45a_ff3d_11e9_83be_d4ae52d07f78row5_col0\" class=\"data row5 col0\" ></td>\n",
       "                        <td id=\"T_ed3bf45a_ff3d_11e9_83be_d4ae52d07f78row5_col1\" class=\"data row5 col1\" ></td>\n",
       "                        <td id=\"T_ed3bf45a_ff3d_11e9_83be_d4ae52d07f78row5_col2\" class=\"data row5 col2\" ></td>\n",
       "                        <td id=\"T_ed3bf45a_ff3d_11e9_83be_d4ae52d07f78row5_col3\" class=\"data row5 col3\" ></td>\n",
       "                        <td id=\"T_ed3bf45a_ff3d_11e9_83be_d4ae52d07f78row5_col4\" class=\"data row5 col4\" ></td>\n",
       "                        <td id=\"T_ed3bf45a_ff3d_11e9_83be_d4ae52d07f78row5_col5\" class=\"data row5 col5\" >1.000</td>\n",
       "            </tr>\n",
       "    </tbody></table>"
      ],
      "text/plain": [
       "<IPython.core.display.HTML object>"
      ]
     },
     "metadata": {},
     "output_type": "display_data"
    }
   ],
   "source": [
    "i=3\n",
    "astr=admin_strs[i]\n",
    "measurements = [\n",
    "    ('Comp Coef', comp_ken_tau), \n",
    "    ('Avg N HS', nhs_ken_tau)\n",
    "]\n",
    "print_table(astr, measurements)"
   ]
  },
  {
   "cell_type": "code",
   "execution_count": 38,
   "metadata": {
    "ExecuteTime": {
     "end_time": "2019-11-04T20:01:47.441530Z",
     "start_time": "2019-11-04T20:01:47.343908Z"
    },
    "cell_style": "split"
   },
   "outputs": [
    {
     "name": "stdout",
     "output_type": "stream",
     "text": [
      "PerMun\n",
      "UrbanOnly\n"
     ]
    },
    {
     "data": {
      "text/html": [
       "<style  type=\"text/css\" >\n",
       "    #T_eeae6b24_ff3d_11e9_83be_d4ae52d07f78row0_col0 {\n",
       "            background-color:  #7f2704;\n",
       "        }    #T_eeae6b24_ff3d_11e9_83be_d4ae52d07f78row0_col1 {\n",
       "            background-color:  #d84801;\n",
       "        }    #T_eeae6b24_ff3d_11e9_83be_d4ae52d07f78row0_col2 {\n",
       "            background-color:  #be3f02;\n",
       "        }    #T_eeae6b24_ff3d_11e9_83be_d4ae52d07f78row0_col3 {\n",
       "            background-color:  #993103;\n",
       "        }    #T_eeae6b24_ff3d_11e9_83be_d4ae52d07f78row0_col4 {\n",
       "            background-color:  #db4a02;\n",
       "        }    #T_eeae6b24_ff3d_11e9_83be_d4ae52d07f78row0_col5 {\n",
       "            background-color:  #fda45d;\n",
       "        }    #T_eeae6b24_ff3d_11e9_83be_d4ae52d07f78row1_col0 {\n",
       "            background-color:  #fff5eb;\n",
       "        }    #T_eeae6b24_ff3d_11e9_83be_d4ae52d07f78row1_col1 {\n",
       "            background-color:  #7f2704;\n",
       "        }    #T_eeae6b24_ff3d_11e9_83be_d4ae52d07f78row1_col2 {\n",
       "            background-color:  #be3f02;\n",
       "        }    #T_eeae6b24_ff3d_11e9_83be_d4ae52d07f78row1_col3 {\n",
       "            background-color:  #ce4401;\n",
       "        }    #T_eeae6b24_ff3d_11e9_83be_d4ae52d07f78row1_col4 {\n",
       "            background-color:  #ab3803;\n",
       "        }    #T_eeae6b24_ff3d_11e9_83be_d4ae52d07f78row1_col5 {\n",
       "            background-color:  #fb8735;\n",
       "        }    #T_eeae6b24_ff3d_11e9_83be_d4ae52d07f78row2_col0 {\n",
       "            background-color:  #fff5eb;\n",
       "        }    #T_eeae6b24_ff3d_11e9_83be_d4ae52d07f78row2_col1 {\n",
       "            background-color:  #fff5eb;\n",
       "        }    #T_eeae6b24_ff3d_11e9_83be_d4ae52d07f78row2_col2 {\n",
       "            background-color:  #7f2704;\n",
       "        }    #T_eeae6b24_ff3d_11e9_83be_d4ae52d07f78row2_col3 {\n",
       "            background-color:  #9c3203;\n",
       "        }    #T_eeae6b24_ff3d_11e9_83be_d4ae52d07f78row2_col4 {\n",
       "            background-color:  #b13a03;\n",
       "        }    #T_eeae6b24_ff3d_11e9_83be_d4ae52d07f78row2_col5 {\n",
       "            background-color:  #ee6511;\n",
       "        }    #T_eeae6b24_ff3d_11e9_83be_d4ae52d07f78row3_col0 {\n",
       "            background-color:  #fff5eb;\n",
       "        }    #T_eeae6b24_ff3d_11e9_83be_d4ae52d07f78row3_col1 {\n",
       "            background-color:  #fff5eb;\n",
       "        }    #T_eeae6b24_ff3d_11e9_83be_d4ae52d07f78row3_col2 {\n",
       "            background-color:  #fff5eb;\n",
       "        }    #T_eeae6b24_ff3d_11e9_83be_d4ae52d07f78row3_col3 {\n",
       "            background-color:  #7f2704;\n",
       "        }    #T_eeae6b24_ff3d_11e9_83be_d4ae52d07f78row3_col4 {\n",
       "            background-color:  #ae3903;\n",
       "        }    #T_eeae6b24_ff3d_11e9_83be_d4ae52d07f78row3_col5 {\n",
       "            background-color:  #fd8c3b;\n",
       "        }    #T_eeae6b24_ff3d_11e9_83be_d4ae52d07f78row4_col0 {\n",
       "            background-color:  #fff5eb;\n",
       "        }    #T_eeae6b24_ff3d_11e9_83be_d4ae52d07f78row4_col1 {\n",
       "            background-color:  #fff5eb;\n",
       "        }    #T_eeae6b24_ff3d_11e9_83be_d4ae52d07f78row4_col2 {\n",
       "            background-color:  #fff5eb;\n",
       "        }    #T_eeae6b24_ff3d_11e9_83be_d4ae52d07f78row4_col3 {\n",
       "            background-color:  #fff5eb;\n",
       "        }    #T_eeae6b24_ff3d_11e9_83be_d4ae52d07f78row4_col4 {\n",
       "            background-color:  #7f2704;\n",
       "        }    #T_eeae6b24_ff3d_11e9_83be_d4ae52d07f78row4_col5 {\n",
       "            background-color:  #f9812e;\n",
       "        }    #T_eeae6b24_ff3d_11e9_83be_d4ae52d07f78row5_col0 {\n",
       "            background-color:  #fff5eb;\n",
       "        }    #T_eeae6b24_ff3d_11e9_83be_d4ae52d07f78row5_col1 {\n",
       "            background-color:  #fff5eb;\n",
       "        }    #T_eeae6b24_ff3d_11e9_83be_d4ae52d07f78row5_col2 {\n",
       "            background-color:  #fff5eb;\n",
       "        }    #T_eeae6b24_ff3d_11e9_83be_d4ae52d07f78row5_col3 {\n",
       "            background-color:  #fff5eb;\n",
       "        }    #T_eeae6b24_ff3d_11e9_83be_d4ae52d07f78row5_col4 {\n",
       "            background-color:  #fff5eb;\n",
       "        }    #T_eeae6b24_ff3d_11e9_83be_d4ae52d07f78row5_col5 {\n",
       "            background-color:  #7f2704;\n",
       "        }</style><table id=\"T_eeae6b24_ff3d_11e9_83be_d4ae52d07f78\" style='display:inline'><thead>    <tr>        <th class=\"blank level0\" ></th>        <th class=\"col_heading level0 col0\" >ageb<br/>area</th>        <th class=\"col_heading level0 col1\" >ageb<br/>pop</th>        <th class=\"col_heading level0 col2\" >g.5km<br/>_idw10</th>        <th class=\"col_heading level0 col3\" >g.5km<br/>area</th>        <th class=\"col_heading level0 col4\" >g.5km<br/>pop</th>        <th class=\"col_heading level0 col5\" >vor<br/></th>    </tr>    <tr>        <th class=\"index_name level0\" >Comp Coef</th>        <th class=\"blank\" ></th>        <th class=\"blank\" ></th>        <th class=\"blank\" ></th>        <th class=\"blank\" ></th>        <th class=\"blank\" ></th>        <th class=\"blank\" ></th>    </tr></thead><tbody>\n",
       "                <tr>\n",
       "                        <th id=\"T_eeae6b24_ff3d_11e9_83be_d4ae52d07f78level0_row0\" class=\"row_heading level0 row0\" >ageb<br/>area</th>\n",
       "                        <td id=\"T_eeae6b24_ff3d_11e9_83be_d4ae52d07f78row0_col0\" class=\"data row0 col0\" >1.000</td>\n",
       "                        <td id=\"T_eeae6b24_ff3d_11e9_83be_d4ae52d07f78row0_col1\" class=\"data row0 col1\" >0.751</td>\n",
       "                        <td id=\"T_eeae6b24_ff3d_11e9_83be_d4ae52d07f78row0_col2\" class=\"data row0 col2\" >0.813</td>\n",
       "                        <td id=\"T_eeae6b24_ff3d_11e9_83be_d4ae52d07f78row0_col3\" class=\"data row0 col3\" >0.915</td>\n",
       "                        <td id=\"T_eeae6b24_ff3d_11e9_83be_d4ae52d07f78row0_col4\" class=\"data row0 col4\" >0.742</td>\n",
       "                        <td id=\"T_eeae6b24_ff3d_11e9_83be_d4ae52d07f78row0_col5\" class=\"data row0 col5\" >0.413</td>\n",
       "            </tr>\n",
       "            <tr>\n",
       "                        <th id=\"T_eeae6b24_ff3d_11e9_83be_d4ae52d07f78level0_row1\" class=\"row_heading level0 row1\" >ageb<br/>pop</th>\n",
       "                        <td id=\"T_eeae6b24_ff3d_11e9_83be_d4ae52d07f78row1_col0\" class=\"data row1 col0\" ></td>\n",
       "                        <td id=\"T_eeae6b24_ff3d_11e9_83be_d4ae52d07f78row1_col1\" class=\"data row1 col1\" >1.000</td>\n",
       "                        <td id=\"T_eeae6b24_ff3d_11e9_83be_d4ae52d07f78row1_col2\" class=\"data row1 col2\" >0.814</td>\n",
       "                        <td id=\"T_eeae6b24_ff3d_11e9_83be_d4ae52d07f78row1_col3\" class=\"data row1 col3\" >0.776</td>\n",
       "                        <td id=\"T_eeae6b24_ff3d_11e9_83be_d4ae52d07f78row1_col4\" class=\"data row1 col4\" >0.863</td>\n",
       "                        <td id=\"T_eeae6b24_ff3d_11e9_83be_d4ae52d07f78row1_col5\" class=\"data row1 col5\" >0.521</td>\n",
       "            </tr>\n",
       "            <tr>\n",
       "                        <th id=\"T_eeae6b24_ff3d_11e9_83be_d4ae52d07f78level0_row2\" class=\"row_heading level0 row2\" >g.5km<br/>_idw10</th>\n",
       "                        <td id=\"T_eeae6b24_ff3d_11e9_83be_d4ae52d07f78row2_col0\" class=\"data row2 col0\" ></td>\n",
       "                        <td id=\"T_eeae6b24_ff3d_11e9_83be_d4ae52d07f78row2_col1\" class=\"data row2 col1\" ></td>\n",
       "                        <td id=\"T_eeae6b24_ff3d_11e9_83be_d4ae52d07f78row2_col2\" class=\"data row2 col2\" >1.000</td>\n",
       "                        <td id=\"T_eeae6b24_ff3d_11e9_83be_d4ae52d07f78row2_col3\" class=\"data row2 col3\" >0.903</td>\n",
       "                        <td id=\"T_eeae6b24_ff3d_11e9_83be_d4ae52d07f78row2_col4\" class=\"data row2 col4\" >0.845</td>\n",
       "                        <td id=\"T_eeae6b24_ff3d_11e9_83be_d4ae52d07f78row2_col5\" class=\"data row2 col5\" >0.640</td>\n",
       "            </tr>\n",
       "            <tr>\n",
       "                        <th id=\"T_eeae6b24_ff3d_11e9_83be_d4ae52d07f78level0_row3\" class=\"row_heading level0 row3\" >g.5km<br/>area</th>\n",
       "                        <td id=\"T_eeae6b24_ff3d_11e9_83be_d4ae52d07f78row3_col0\" class=\"data row3 col0\" ></td>\n",
       "                        <td id=\"T_eeae6b24_ff3d_11e9_83be_d4ae52d07f78row3_col1\" class=\"data row3 col1\" ></td>\n",
       "                        <td id=\"T_eeae6b24_ff3d_11e9_83be_d4ae52d07f78row3_col2\" class=\"data row3 col2\" ></td>\n",
       "                        <td id=\"T_eeae6b24_ff3d_11e9_83be_d4ae52d07f78row3_col3\" class=\"data row3 col3\" >1.000</td>\n",
       "                        <td id=\"T_eeae6b24_ff3d_11e9_83be_d4ae52d07f78row3_col4\" class=\"data row3 col4\" >0.854</td>\n",
       "                        <td id=\"T_eeae6b24_ff3d_11e9_83be_d4ae52d07f78row3_col5\" class=\"data row3 col5\" >0.503</td>\n",
       "            </tr>\n",
       "            <tr>\n",
       "                        <th id=\"T_eeae6b24_ff3d_11e9_83be_d4ae52d07f78level0_row4\" class=\"row_heading level0 row4\" >g.5km<br/>pop</th>\n",
       "                        <td id=\"T_eeae6b24_ff3d_11e9_83be_d4ae52d07f78row4_col0\" class=\"data row4 col0\" ></td>\n",
       "                        <td id=\"T_eeae6b24_ff3d_11e9_83be_d4ae52d07f78row4_col1\" class=\"data row4 col1\" ></td>\n",
       "                        <td id=\"T_eeae6b24_ff3d_11e9_83be_d4ae52d07f78row4_col2\" class=\"data row4 col2\" ></td>\n",
       "                        <td id=\"T_eeae6b24_ff3d_11e9_83be_d4ae52d07f78row4_col3\" class=\"data row4 col3\" ></td>\n",
       "                        <td id=\"T_eeae6b24_ff3d_11e9_83be_d4ae52d07f78row4_col4\" class=\"data row4 col4\" >1.000</td>\n",
       "                        <td id=\"T_eeae6b24_ff3d_11e9_83be_d4ae52d07f78row4_col5\" class=\"data row4 col5\" >0.543</td>\n",
       "            </tr>\n",
       "            <tr>\n",
       "                        <th id=\"T_eeae6b24_ff3d_11e9_83be_d4ae52d07f78level0_row5\" class=\"row_heading level0 row5\" >vor<br/></th>\n",
       "                        <td id=\"T_eeae6b24_ff3d_11e9_83be_d4ae52d07f78row5_col0\" class=\"data row5 col0\" ></td>\n",
       "                        <td id=\"T_eeae6b24_ff3d_11e9_83be_d4ae52d07f78row5_col1\" class=\"data row5 col1\" ></td>\n",
       "                        <td id=\"T_eeae6b24_ff3d_11e9_83be_d4ae52d07f78row5_col2\" class=\"data row5 col2\" ></td>\n",
       "                        <td id=\"T_eeae6b24_ff3d_11e9_83be_d4ae52d07f78row5_col3\" class=\"data row5 col3\" ></td>\n",
       "                        <td id=\"T_eeae6b24_ff3d_11e9_83be_d4ae52d07f78row5_col4\" class=\"data row5 col4\" ></td>\n",
       "                        <td id=\"T_eeae6b24_ff3d_11e9_83be_d4ae52d07f78row5_col5\" class=\"data row5 col5\" >1.000</td>\n",
       "            </tr>\n",
       "    </tbody></table>"
      ],
      "text/plain": [
       "<IPython.core.display.HTML object>"
      ]
     },
     "metadata": {},
     "output_type": "display_data"
    },
    {
     "data": {
      "text/html": [
       "<style  type=\"text/css\" >\n",
       "    #T_eeb3b43a_ff3d_11e9_83be_d4ae52d07f78row0_col0 {\n",
       "            background-color:  #7f2704;\n",
       "        }    #T_eeb3b43a_ff3d_11e9_83be_d4ae52d07f78row0_col1 {\n",
       "            background-color:  #963003;\n",
       "        }    #T_eeb3b43a_ff3d_11e9_83be_d4ae52d07f78row0_col2 {\n",
       "            background-color:  #cb4302;\n",
       "        }    #T_eeb3b43a_ff3d_11e9_83be_d4ae52d07f78row0_col3 {\n",
       "            background-color:  #b93d02;\n",
       "        }    #T_eeb3b43a_ff3d_11e9_83be_d4ae52d07f78row0_col4 {\n",
       "            background-color:  #9f3303;\n",
       "        }    #T_eeb3b43a_ff3d_11e9_83be_d4ae52d07f78row0_col5 {\n",
       "            background-color:  #be3f02;\n",
       "        }    #T_eeb3b43a_ff3d_11e9_83be_d4ae52d07f78row1_col0 {\n",
       "            background-color:  #fff5eb;\n",
       "        }    #T_eeb3b43a_ff3d_11e9_83be_d4ae52d07f78row1_col1 {\n",
       "            background-color:  #7f2704;\n",
       "        }    #T_eeb3b43a_ff3d_11e9_83be_d4ae52d07f78row1_col2 {\n",
       "            background-color:  #e15307;\n",
       "        }    #T_eeb3b43a_ff3d_11e9_83be_d4ae52d07f78row1_col3 {\n",
       "            background-color:  #cd4401;\n",
       "        }    #T_eeb3b43a_ff3d_11e9_83be_d4ae52d07f78row1_col4 {\n",
       "            background-color:  #a53603;\n",
       "        }    #T_eeb3b43a_ff3d_11e9_83be_d4ae52d07f78row1_col5 {\n",
       "            background-color:  #b63c02;\n",
       "        }    #T_eeb3b43a_ff3d_11e9_83be_d4ae52d07f78row2_col0 {\n",
       "            background-color:  #fff5eb;\n",
       "        }    #T_eeb3b43a_ff3d_11e9_83be_d4ae52d07f78row2_col1 {\n",
       "            background-color:  #fff5eb;\n",
       "        }    #T_eeb3b43a_ff3d_11e9_83be_d4ae52d07f78row2_col2 {\n",
       "            background-color:  #7f2704;\n",
       "        }    #T_eeb3b43a_ff3d_11e9_83be_d4ae52d07f78row2_col3 {\n",
       "            background-color:  #b33b02;\n",
       "        }    #T_eeb3b43a_ff3d_11e9_83be_d4ae52d07f78row2_col4 {\n",
       "            background-color:  #b53b02;\n",
       "        }    #T_eeb3b43a_ff3d_11e9_83be_d4ae52d07f78row2_col5 {\n",
       "            background-color:  #f4711c;\n",
       "        }    #T_eeb3b43a_ff3d_11e9_83be_d4ae52d07f78row3_col0 {\n",
       "            background-color:  #fff5eb;\n",
       "        }    #T_eeb3b43a_ff3d_11e9_83be_d4ae52d07f78row3_col1 {\n",
       "            background-color:  #fff5eb;\n",
       "        }    #T_eeb3b43a_ff3d_11e9_83be_d4ae52d07f78row3_col2 {\n",
       "            background-color:  #fff5eb;\n",
       "        }    #T_eeb3b43a_ff3d_11e9_83be_d4ae52d07f78row3_col3 {\n",
       "            background-color:  #7f2704;\n",
       "        }    #T_eeb3b43a_ff3d_11e9_83be_d4ae52d07f78row3_col4 {\n",
       "            background-color:  #942f03;\n",
       "        }    #T_eeb3b43a_ff3d_11e9_83be_d4ae52d07f78row3_col5 {\n",
       "            background-color:  #f4721e;\n",
       "        }    #T_eeb3b43a_ff3d_11e9_83be_d4ae52d07f78row4_col0 {\n",
       "            background-color:  #fff5eb;\n",
       "        }    #T_eeb3b43a_ff3d_11e9_83be_d4ae52d07f78row4_col1 {\n",
       "            background-color:  #fff5eb;\n",
       "        }    #T_eeb3b43a_ff3d_11e9_83be_d4ae52d07f78row4_col2 {\n",
       "            background-color:  #fff5eb;\n",
       "        }    #T_eeb3b43a_ff3d_11e9_83be_d4ae52d07f78row4_col3 {\n",
       "            background-color:  #fff5eb;\n",
       "        }    #T_eeb3b43a_ff3d_11e9_83be_d4ae52d07f78row4_col4 {\n",
       "            background-color:  #7f2704;\n",
       "        }    #T_eeb3b43a_ff3d_11e9_83be_d4ae52d07f78row4_col5 {\n",
       "            background-color:  #e05206;\n",
       "        }    #T_eeb3b43a_ff3d_11e9_83be_d4ae52d07f78row5_col0 {\n",
       "            background-color:  #fff5eb;\n",
       "        }    #T_eeb3b43a_ff3d_11e9_83be_d4ae52d07f78row5_col1 {\n",
       "            background-color:  #fff5eb;\n",
       "        }    #T_eeb3b43a_ff3d_11e9_83be_d4ae52d07f78row5_col2 {\n",
       "            background-color:  #fff5eb;\n",
       "        }    #T_eeb3b43a_ff3d_11e9_83be_d4ae52d07f78row5_col3 {\n",
       "            background-color:  #fff5eb;\n",
       "        }    #T_eeb3b43a_ff3d_11e9_83be_d4ae52d07f78row5_col4 {\n",
       "            background-color:  #fff5eb;\n",
       "        }    #T_eeb3b43a_ff3d_11e9_83be_d4ae52d07f78row5_col5 {\n",
       "            background-color:  #7f2704;\n",
       "        }</style><table id=\"T_eeb3b43a_ff3d_11e9_83be_d4ae52d07f78\" style='display:inline'><thead>    <tr>        <th class=\"blank level0\" ></th>        <th class=\"col_heading level0 col0\" >ageb<br/>area</th>        <th class=\"col_heading level0 col1\" >ageb<br/>pop</th>        <th class=\"col_heading level0 col2\" >g.5km<br/>_idw10</th>        <th class=\"col_heading level0 col3\" >g.5km<br/>area</th>        <th class=\"col_heading level0 col4\" >g.5km<br/>pop</th>        <th class=\"col_heading level0 col5\" >vor<br/></th>    </tr>    <tr>        <th class=\"index_name level0\" >Avg N HS</th>        <th class=\"blank\" ></th>        <th class=\"blank\" ></th>        <th class=\"blank\" ></th>        <th class=\"blank\" ></th>        <th class=\"blank\" ></th>        <th class=\"blank\" ></th>    </tr></thead><tbody>\n",
       "                <tr>\n",
       "                        <th id=\"T_eeb3b43a_ff3d_11e9_83be_d4ae52d07f78level0_row0\" class=\"row_heading level0 row0\" >ageb<br/>area</th>\n",
       "                        <td id=\"T_eeb3b43a_ff3d_11e9_83be_d4ae52d07f78row0_col0\" class=\"data row0 col0\" >1.000</td>\n",
       "                        <td id=\"T_eeb3b43a_ff3d_11e9_83be_d4ae52d07f78row0_col1\" class=\"data row0 col1\" >0.926</td>\n",
       "                        <td id=\"T_eeb3b43a_ff3d_11e9_83be_d4ae52d07f78row0_col2\" class=\"data row0 col2\" >0.782</td>\n",
       "                        <td id=\"T_eeb3b43a_ff3d_11e9_83be_d4ae52d07f78row0_col3\" class=\"data row0 col3\" >0.826</td>\n",
       "                        <td id=\"T_eeb3b43a_ff3d_11e9_83be_d4ae52d07f78row0_col4\" class=\"data row0 col4\" >0.896</td>\n",
       "                        <td id=\"T_eeb3b43a_ff3d_11e9_83be_d4ae52d07f78row0_col5\" class=\"data row0 col5\" >0.813</td>\n",
       "            </tr>\n",
       "            <tr>\n",
       "                        <th id=\"T_eeb3b43a_ff3d_11e9_83be_d4ae52d07f78level0_row1\" class=\"row_heading level0 row1\" >ageb<br/>pop</th>\n",
       "                        <td id=\"T_eeb3b43a_ff3d_11e9_83be_d4ae52d07f78row1_col0\" class=\"data row1 col0\" ></td>\n",
       "                        <td id=\"T_eeb3b43a_ff3d_11e9_83be_d4ae52d07f78row1_col1\" class=\"data row1 col1\" >1.000</td>\n",
       "                        <td id=\"T_eeb3b43a_ff3d_11e9_83be_d4ae52d07f78row1_col2\" class=\"data row1 col2\" >0.708</td>\n",
       "                        <td id=\"T_eeb3b43a_ff3d_11e9_83be_d4ae52d07f78row1_col3\" class=\"data row1 col3\" >0.781</td>\n",
       "                        <td id=\"T_eeb3b43a_ff3d_11e9_83be_d4ae52d07f78row1_col4\" class=\"data row1 col4\" >0.875</td>\n",
       "                        <td id=\"T_eeb3b43a_ff3d_11e9_83be_d4ae52d07f78row1_col5\" class=\"data row1 col5\" >0.835</td>\n",
       "            </tr>\n",
       "            <tr>\n",
       "                        <th id=\"T_eeb3b43a_ff3d_11e9_83be_d4ae52d07f78level0_row2\" class=\"row_heading level0 row2\" >g.5km<br/>_idw10</th>\n",
       "                        <td id=\"T_eeb3b43a_ff3d_11e9_83be_d4ae52d07f78row2_col0\" class=\"data row2 col0\" ></td>\n",
       "                        <td id=\"T_eeb3b43a_ff3d_11e9_83be_d4ae52d07f78row2_col1\" class=\"data row2 col1\" ></td>\n",
       "                        <td id=\"T_eeb3b43a_ff3d_11e9_83be_d4ae52d07f78row2_col2\" class=\"data row2 col2\" >1.000</td>\n",
       "                        <td id=\"T_eeb3b43a_ff3d_11e9_83be_d4ae52d07f78row2_col3\" class=\"data row2 col3\" >0.843</td>\n",
       "                        <td id=\"T_eeb3b43a_ff3d_11e9_83be_d4ae52d07f78row2_col4\" class=\"data row2 col4\" >0.838</td>\n",
       "                        <td id=\"T_eeb3b43a_ff3d_11e9_83be_d4ae52d07f78row2_col5\" class=\"data row2 col5\" >0.596</td>\n",
       "            </tr>\n",
       "            <tr>\n",
       "                        <th id=\"T_eeb3b43a_ff3d_11e9_83be_d4ae52d07f78level0_row3\" class=\"row_heading level0 row3\" >g.5km<br/>area</th>\n",
       "                        <td id=\"T_eeb3b43a_ff3d_11e9_83be_d4ae52d07f78row3_col0\" class=\"data row3 col0\" ></td>\n",
       "                        <td id=\"T_eeb3b43a_ff3d_11e9_83be_d4ae52d07f78row3_col1\" class=\"data row3 col1\" ></td>\n",
       "                        <td id=\"T_eeb3b43a_ff3d_11e9_83be_d4ae52d07f78row3_col2\" class=\"data row3 col2\" ></td>\n",
       "                        <td id=\"T_eeb3b43a_ff3d_11e9_83be_d4ae52d07f78row3_col3\" class=\"data row3 col3\" >1.000</td>\n",
       "                        <td id=\"T_eeb3b43a_ff3d_11e9_83be_d4ae52d07f78row3_col4\" class=\"data row3 col4\" >0.931</td>\n",
       "                        <td id=\"T_eeb3b43a_ff3d_11e9_83be_d4ae52d07f78row3_col5\" class=\"data row3 col5\" >0.591</td>\n",
       "            </tr>\n",
       "            <tr>\n",
       "                        <th id=\"T_eeb3b43a_ff3d_11e9_83be_d4ae52d07f78level0_row4\" class=\"row_heading level0 row4\" >g.5km<br/>pop</th>\n",
       "                        <td id=\"T_eeb3b43a_ff3d_11e9_83be_d4ae52d07f78row4_col0\" class=\"data row4 col0\" ></td>\n",
       "                        <td id=\"T_eeb3b43a_ff3d_11e9_83be_d4ae52d07f78row4_col1\" class=\"data row4 col1\" ></td>\n",
       "                        <td id=\"T_eeb3b43a_ff3d_11e9_83be_d4ae52d07f78row4_col2\" class=\"data row4 col2\" ></td>\n",
       "                        <td id=\"T_eeb3b43a_ff3d_11e9_83be_d4ae52d07f78row4_col3\" class=\"data row4 col3\" ></td>\n",
       "                        <td id=\"T_eeb3b43a_ff3d_11e9_83be_d4ae52d07f78row4_col4\" class=\"data row4 col4\" >1.000</td>\n",
       "                        <td id=\"T_eeb3b43a_ff3d_11e9_83be_d4ae52d07f78row4_col5\" class=\"data row4 col5\" >0.713</td>\n",
       "            </tr>\n",
       "            <tr>\n",
       "                        <th id=\"T_eeb3b43a_ff3d_11e9_83be_d4ae52d07f78level0_row5\" class=\"row_heading level0 row5\" >vor<br/></th>\n",
       "                        <td id=\"T_eeb3b43a_ff3d_11e9_83be_d4ae52d07f78row5_col0\" class=\"data row5 col0\" ></td>\n",
       "                        <td id=\"T_eeb3b43a_ff3d_11e9_83be_d4ae52d07f78row5_col1\" class=\"data row5 col1\" ></td>\n",
       "                        <td id=\"T_eeb3b43a_ff3d_11e9_83be_d4ae52d07f78row5_col2\" class=\"data row5 col2\" ></td>\n",
       "                        <td id=\"T_eeb3b43a_ff3d_11e9_83be_d4ae52d07f78row5_col3\" class=\"data row5 col3\" ></td>\n",
       "                        <td id=\"T_eeb3b43a_ff3d_11e9_83be_d4ae52d07f78row5_col4\" class=\"data row5 col4\" ></td>\n",
       "                        <td id=\"T_eeb3b43a_ff3d_11e9_83be_d4ae52d07f78row5_col5\" class=\"data row5 col5\" >1.000</td>\n",
       "            </tr>\n",
       "    </tbody></table>"
      ],
      "text/plain": [
       "<IPython.core.display.HTML object>"
      ]
     },
     "metadata": {},
     "output_type": "display_data"
    }
   ],
   "source": [
    "# i = 0\n",
    "astr = admin_strs[i]\n",
    "measurements = [\n",
    "    ('Comp Coef', comp_spr_rho), \n",
    "    ('Avg N HS', nhs_spr_rho)\n",
    "]\n",
    "print_table(astr, measurements)"
   ]
  },
  {
   "cell_type": "code",
   "execution_count": null,
   "metadata": {},
   "outputs": [],
   "source": []
  }
 ],
 "metadata": {
  "kernelspec": {
   "display_name": "Python [conda env:mob2crime]",
   "language": "python",
   "name": "conda-env-mob2crime-py"
  },
  "language_info": {
   "codemirror_mode": {
    "name": "ipython",
    "version": 3
   },
   "file_extension": ".py",
   "mimetype": "text/x-python",
   "name": "python",
   "nbconvert_exporter": "python",
   "pygments_lexer": "ipython3",
   "version": "3.7.3"
  },
  "toc": {
   "base_numbering": 1,
   "nav_menu": {},
   "number_sections": true,
   "sideBar": true,
   "skip_h1_title": false,
   "title_cell": "Table of Contents",
   "title_sidebar": "Contents",
   "toc_cell": false,
   "toc_position": {
    "height": "calc(100% - 180px)",
    "left": "10px",
    "top": "150px",
    "width": "165px"
   },
   "toc_section_display": true,
   "toc_window_display": true
  }
 },
 "nbformat": 4,
 "nbformat_minor": 2
}
