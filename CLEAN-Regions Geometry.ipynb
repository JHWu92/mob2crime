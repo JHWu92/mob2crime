{
 "cells": [
  {
   "cell_type": "code",
   "execution_count": 1,
   "metadata": {
    "ExecuteTime": {
     "end_time": "2019-01-21T22:18:58.108531Z",
     "start_time": "2019-01-21T22:18:57.136826Z"
    }
   },
   "outputs": [],
   "source": [
    "import pandas as pd\n",
    "import geopandas as gp\n",
    "from src.utils.map_vis import geojson_per_row\n",
    "import folium\n",
    "from shapely.ops import cascaded_union\n",
    "from shapely.geometry import Polygon, MultiPolygon\n",
    "\n",
    "%matplotlib inline"
   ]
  },
  {
   "cell_type": "markdown",
   "metadata": {},
   "source": [
    "# Mexico"
   ]
  },
  {
   "cell_type": "code",
   "execution_count": 2,
   "metadata": {
    "ExecuteTime": {
     "end_time": "2019-01-21T22:18:58.387695Z",
     "start_time": "2019-01-21T22:18:58.385077Z"
    }
   },
   "outputs": [],
   "source": [
    "from src.utils import fix_spanish_encoding"
   ]
  },
  {
   "cell_type": "code",
   "execution_count": 3,
   "metadata": {
    "ExecuteTime": {
     "end_time": "2019-01-21T22:19:00.993339Z",
     "start_time": "2019-01-21T22:18:59.434632Z"
    }
   },
   "outputs": [],
   "source": [
    "# http://www.inegi.org.mx/geo/contenidos/geoestadistica/m_g_0.aspx\n",
    "shp_urban = gp.read_file('data/mexico/mglu2014v6_2/mglu2015v6_2.shp')\n",
    "shp_state = gp.read_file('data/mexico/mge2014v6_2/mge2015v6_2.shp')\n",
    "shp_munic = gp.read_file('data/mexico/mgm2014v6_2/mgm2015v6_2.shp')\n",
    "\n",
    "# get Urban id\n",
    "shp_urban.NOM_LOC = shp_urban.NOM_LOC.apply(fix_spanish_encoding)\n",
    "shp_urban['URBAN_ID'] = shp_urban.CVE_ENT + shp_urban.CVE_MUN + shp_urban.CVE_LOC\n",
    "\n",
    "# get the full data frame\n",
    "shp_urban_with_mun = shp_urban.merge(shp_state.drop('geometry', axis=1)).merge(shp_munic.drop('geometry', axis=1))"
   ]
  },
  {
   "cell_type": "code",
   "execution_count": 4,
   "metadata": {},
   "outputs": [
    {
     "data": {
      "text/html": [
       "<div>\n",
       "<style scoped>\n",
       "    .dataframe tbody tr th:only-of-type {\n",
       "        vertical-align: middle;\n",
       "    }\n",
       "\n",
       "    .dataframe tbody tr th {\n",
       "        vertical-align: top;\n",
       "    }\n",
       "\n",
       "    .dataframe thead th {\n",
       "        text-align: right;\n",
       "    }\n",
       "</style>\n",
       "<table border=\"1\" class=\"dataframe\">\n",
       "  <thead>\n",
       "    <tr style=\"text-align: right;\">\n",
       "      <th></th>\n",
       "      <th>CVE_ENT</th>\n",
       "      <th>CVE_MUN</th>\n",
       "      <th>CVE_LOC</th>\n",
       "      <th>NOM_LOC</th>\n",
       "      <th>geometry</th>\n",
       "      <th>URBAN_ID</th>\n",
       "      <th>NOM_ENT</th>\n",
       "      <th>NOM_MUN</th>\n",
       "      <th>concat</th>\n",
       "    </tr>\n",
       "  </thead>\n",
       "  <tbody>\n",
       "    <tr>\n",
       "      <th>0</th>\n",
       "      <td>01</td>\n",
       "      <td>001</td>\n",
       "      <td>0001</td>\n",
       "      <td>Aguascalientes</td>\n",
       "      <td>POLYGON ((-102.3016558772169 21.94197733808375...</td>\n",
       "      <td>010010001</td>\n",
       "      <td>Aguascalientes</td>\n",
       "      <td>Aguascalientes</td>\n",
       "      <td>01001</td>\n",
       "    </tr>\n",
       "    <tr>\n",
       "      <th>1</th>\n",
       "      <td>01</td>\n",
       "      <td>001</td>\n",
       "      <td>0239</td>\n",
       "      <td>General José María Morelos y Pavón (Cañada Honda)</td>\n",
       "      <td>POLYGON ((-102.2040776149899 21.99715938539737...</td>\n",
       "      <td>010010239</td>\n",
       "      <td>Aguascalientes</td>\n",
       "      <td>Aguascalientes</td>\n",
       "      <td>01001</td>\n",
       "    </tr>\n",
       "    <tr>\n",
       "      <th>2</th>\n",
       "      <td>01</td>\n",
       "      <td>001</td>\n",
       "      <td>0293</td>\n",
       "      <td>Norias de Ojocaliente</td>\n",
       "      <td>POLYGON ((-102.2119687378669 21.89791913825769...</td>\n",
       "      <td>010010293</td>\n",
       "      <td>Aguascalientes</td>\n",
       "      <td>Aguascalientes</td>\n",
       "      <td>01001</td>\n",
       "    </tr>\n",
       "    <tr>\n",
       "      <th>3</th>\n",
       "      <td>01</td>\n",
       "      <td>001</td>\n",
       "      <td>0357</td>\n",
       "      <td>Norias del Paso Hondo</td>\n",
       "      <td>POLYGON ((-102.2023650773864 21.85918261458602...</td>\n",
       "      <td>010010357</td>\n",
       "      <td>Aguascalientes</td>\n",
       "      <td>Aguascalientes</td>\n",
       "      <td>01001</td>\n",
       "    </tr>\n",
       "    <tr>\n",
       "      <th>4</th>\n",
       "      <td>01</td>\n",
       "      <td>001</td>\n",
       "      <td>0479</td>\n",
       "      <td>Villa Licenciado Jesús Terán (Calvillito)</td>\n",
       "      <td>POLYGON ((-102.1868744152221 21.84734361541558...</td>\n",
       "      <td>010010479</td>\n",
       "      <td>Aguascalientes</td>\n",
       "      <td>Aguascalientes</td>\n",
       "      <td>01001</td>\n",
       "    </tr>\n",
       "  </tbody>\n",
       "</table>\n",
       "</div>"
      ],
      "text/plain": [
       "  CVE_ENT CVE_MUN CVE_LOC                                            NOM_LOC  \\\n",
       "0      01     001    0001                                     Aguascalientes   \n",
       "1      01     001    0239  General José María Morelos y Pavón (Cañada Honda)   \n",
       "2      01     001    0293                              Norias de Ojocaliente   \n",
       "3      01     001    0357                              Norias del Paso Hondo   \n",
       "4      01     001    0479          Villa Licenciado Jesús Terán (Calvillito)   \n",
       "\n",
       "                                            geometry   URBAN_ID  \\\n",
       "0  POLYGON ((-102.3016558772169 21.94197733808375...  010010001   \n",
       "1  POLYGON ((-102.2040776149899 21.99715938539737...  010010239   \n",
       "2  POLYGON ((-102.2119687378669 21.89791913825769...  010010293   \n",
       "3  POLYGON ((-102.2023650773864 21.85918261458602...  010010357   \n",
       "4  POLYGON ((-102.1868744152221 21.84734361541558...  010010479   \n",
       "\n",
       "          NOM_ENT         NOM_MUN concat  \n",
       "0  Aguascalientes  Aguascalientes  01001  \n",
       "1  Aguascalientes  Aguascalientes  01001  \n",
       "2  Aguascalientes  Aguascalientes  01001  \n",
       "3  Aguascalientes  Aguascalientes  01001  \n",
       "4  Aguascalientes  Aguascalientes  01001  "
      ]
     },
     "execution_count": 4,
     "metadata": {},
     "output_type": "execute_result"
    }
   ],
   "source": [
    "shp_urban_with_mun.head()"
   ]
  },
  {
   "cell_type": "markdown",
   "metadata": {},
   "source": [
    "## metro"
   ]
  },
  {
   "cell_type": "code",
   "execution_count": 5,
   "metadata": {
    "ExecuteTime": {
     "end_time": "2019-01-21T19:29:41.857761Z",
     "start_time": "2019-01-21T19:29:40.197109Z"
    }
   },
   "outputs": [],
   "source": [
    "metro = gp.read_file('data/mexico/Mapa_de_delimitacion_de_zonas_metropolitanas_2010/ZM_2010.shp')\n",
    "sun_ids = [31, 21, 32, 28, 24, 11, 12, 41, 37, 3, 17,2,25,45]\n",
    "sun_names = ['Monterrey, Nuevo León', 'Guadalajara, Jalisco', 'Oaxaca de Juárez, Oaxaca', 'Cuernavaca, Morelos', 'Toluca de Lerdo, México', 'Juárez, Chihuahua', 'Chihuahua, Chihuahua', 'Villahermosa, Tabasco', 'Cancún, Quintana Roo', 'Mexicali, Baja California', 'Acapulco de Juárez, Guerrero', 'Tijuana, Baja California', 'Morelia, Michoacán de Ocampo', 'Nuevo Laredo, Tamaulipas','Culiacán Rosales, Sinaloa', 'Valle de Mexico, Distrito Federal']\n",
    "\n",
    "sun_munic_codes = {'Culiacán Rosales, Sinaloa': ['25006']}\n",
    "\n",
    "suns = []\n",
    "for cve,name in zip(sun_ids,sun_names):\n",
    "    sun = metro[metro.CVE_SUN==cve]\n",
    "    geometry = cascaded_union(sun.geometry.tolist())\n",
    "    pob = sun.POB_2010.sum()\n",
    "    suns.append({'name': name, 'cve_sun': cve, 'population': pob, 'nom_sun':sun.NOM_SUN.unique()[0], 'geometry':geometry})\n",
    "    sun_munic_codes[name] = sun.CVE_MUN1.values"
   ]
  },
  {
   "cell_type": "code",
   "execution_count": 6,
   "metadata": {
    "ExecuteTime": {
     "end_time": "2019-01-21T19:29:54.255063Z",
     "start_time": "2019-01-21T19:29:54.246842Z"
    }
   },
   "outputs": [],
   "source": [
    "# use municipal area for metro-culiacan instead of munic-head. Other metro are municipal level\n",
    "# culiacan_sinaloa = selected_localidades_mex[selected_localidades_mex.URBAN_ID=='250060001'].to_crs(metro.crs).iloc[0].to_dict()\n",
    "# population from: https://www.citypopulation.de/php/mexico-metro.php\n",
    "culiacan_sinaloa = shp_munic[shp_munic['concat']=='25006'].to_crs(metro.crs).iloc[0].to_dict()\n",
    "suns.append({'name': sun_names[-2], 'cve_sun': 99, 'population': 858638, 'nom_sun':sun_names[-2], \n",
    "             'geometry':culiacan_sinaloa['geometry']})"
   ]
  },
  {
   "cell_type": "code",
   "execution_count": 7,
   "metadata": {},
   "outputs": [],
   "source": [
    "\n",
    "sun = metro[(metro.CVE_SUN==13) & (metro.CVE_ENT=='09')]\n",
    "geometry = cascaded_union(sun.geometry.tolist())\n",
    "pob = sun.POB_2010.sum()\n",
    "suns.append({'name': sun_names[-1], 'cve_sun': 13, 'population': pob, 'nom_sun':sun.NOM_SUN.unique()[0], 'geometry':geometry})"
   ]
  },
  {
   "cell_type": "code",
   "execution_count": 8,
   "metadata": {
    "ExecuteTime": {
     "end_time": "2019-01-21T19:30:06.807154Z",
     "start_time": "2019-01-21T19:30:06.647107Z"
    }
   },
   "outputs": [],
   "source": [
    "suns=gp.GeoDataFrame(suns)\n",
    "suns.crs = metro.crs\n",
    "suns = suns.to_crs(epsg=4326)"
   ]
  },
  {
   "cell_type": "code",
   "execution_count": 9,
   "metadata": {
    "ExecuteTime": {
     "end_time": "2019-01-21T19:30:19.850398Z",
     "start_time": "2019-01-21T19:30:19.846433Z"
    }
   },
   "outputs": [],
   "source": [
    "suns = suns[['name','population', 'cve_sun', 'geometry']].sort_values('population', ascending=False)"
   ]
  },
  {
   "cell_type": "code",
   "execution_count": 10,
   "metadata": {
    "ExecuteTime": {
     "end_time": "2019-01-21T19:30:33.571272Z",
     "start_time": "2019-01-21T19:30:32.896874Z"
    }
   },
   "outputs": [],
   "source": [
    "suns.to_file('data/mex_16_metropolitans.geojson', driver=\"GeoJSON\")"
   ]
  },
  {
   "cell_type": "markdown",
   "metadata": {},
   "source": [
    "## urban areas"
   ]
  },
  {
   "cell_type": "code",
   "execution_count": 11,
   "metadata": {},
   "outputs": [],
   "source": [
    "pop_local = pd.read_csv('data/mexico/Localidades-population.csv', index_col=0)"
   ]
  },
  {
   "cell_type": "markdown",
   "metadata": {},
   "source": [
    "Fix the holes in urban areas of DF mexico city, "
   ]
  },
  {
   "cell_type": "code",
   "execution_count": 12,
   "metadata": {},
   "outputs": [],
   "source": [
    "def get_pop(shp, pop_local):\n",
    "    pop_shp = pop_local[pop_local['Clave de localidad'].isin(shp.URBAN_ID.astype(int))]\n",
    "    assert pop_shp.shape[0]==shp.shape[0]\n",
    "    return pop_shp['Población total'].sum()"
   ]
  },
  {
   "cell_type": "code",
   "execution_count": 13,
   "metadata": {
    "ExecuteTime": {
     "end_time": "2019-01-21T22:19:18.289502Z",
     "start_time": "2019-01-21T22:19:17.428394Z"
    }
   },
   "outputs": [],
   "source": [
    "polys = cascaded_union(shp_urban_with_mun[shp_urban_with_mun.CVE_ENT=='09'].geometry)\n",
    "p0=polys[0]\n",
    "p0 = Polygon(p0.exterior, [p0.interiors[115]])\n",
    "p4 = Polygon(polys[4].exterior)\n",
    "\n",
    "mex_city_pop = get_pop(shp_urban_with_mun[shp_urban_with_mun.CVE_ENT=='09'], pop_local)\n",
    "\n",
    "mex_city_geo = MultiPolygon([p0, p4]+list(polys[1:4]) + list(polys[5:]))\n",
    "mexico_city = {'name': 'Valle de Mexico, Distrito Federal', 'CVE_ENT': '09', 'CVE_MUN': '000', 'CVE_LOC': '0000', \n",
    "               'NOM_LOC': 'Mexico city in DC', 'NOM_ENT': 'Distrito Federal',\n",
    "               'NOM_MUN': 'Mexico city in DC', 'concat': '09000', 'URBAN_ID' :'090000000',\n",
    "               'population': mex_city_pop, 'geometry': mex_city_geo}\n",
    "mexico_city = gp.GeoDataFrame([mexico_city])"
   ]
  },
  {
   "cell_type": "code",
   "execution_count": 14,
   "metadata": {
    "scrolled": true
   },
   "outputs": [],
   "source": [
    "def get_urban_areas(keep_munic_head=False):\n",
    "    selected_urbans = []\n",
    "\n",
    "    for name, cve_mun in sun_munic_codes.items():\n",
    "        urban_in_metro = shp_urban_with_mun[shp_urban_with_mun.concat.isin(cve_mun)]\n",
    "        if keep_munic_head:\n",
    "            urban_in_metro = urban_in_metro[urban_in_metro.CVE_LOC=='0001']\n",
    "            \n",
    "        pop = get_pop(urban_in_metro, pop_local)\n",
    "        geometry = cascaded_union(urban_in_metro.geometry)\n",
    "        selected_urbans.append([name, \n",
    "                                pop, \n",
    "                                '|'.join(urban_in_metro.CVE_ENT.unique()), \n",
    "                                '|'.join(urban_in_metro.CVE_MUN.unique()), \n",
    "                                '|'.join(urban_in_metro.NOM_ENT.unique()),\n",
    "                                '|'.join(urban_in_metro.NOM_MUN.unique()), \n",
    "                                geometry])\n",
    "\n",
    "    columns=['name', 'population','CVE_ENT','CVE_MUN', 'NOM_ENT','NOM_MUN','geometry']\n",
    "    selected_urbans = gp.GeoDataFrame(selected_urbans, columns=columns).append(mexico_city[columns], ignore_index=True)\n",
    "    selected_urbans = selected_urbans.sort_values('population', ascending=False)\n",
    "    return selected_urbans"
   ]
  },
  {
   "cell_type": "markdown",
   "metadata": {},
   "source": [
    "### municipality head"
   ]
  },
  {
   "cell_type": "code",
   "execution_count": 49,
   "metadata": {
    "ExecuteTime": {
     "end_time": "2019-01-21T22:19:35.612504Z",
     "start_time": "2019-01-21T22:19:35.570500Z"
    },
    "code_folding": [
     0
    ],
    "deletable": false,
    "editable": false,
    "run_control": {
     "frozen": true
    }
   },
   "outputs": [],
   "source": [
    "# Deprecated\n",
    "cities = ['Acapulco de Juárez, Guerrero', 'Cancún, Quintana Roo', 'Juárez, Chihuahua', 'Chihuahua, Chihuahua', \n",
    "          'Cuernavaca, Morelos', 'Culiacán Rosales, Sinaloa', 'Guadalajara, Jalisco', 'Mexicali, Baja California', \n",
    "          'Monterrey, Nuevo León', 'Morelia, Michoacán de Ocampo', 'Nuevo Laredo, Tamaulipas', 'Oaxaca de Juárez, Oaxaca', \n",
    "          'Tijuana, Baja California', 'Toluca de Lerdo, México', 'Villahermosa, Tabasco', 'Valle de Mexico, Distrito Federal']\n",
    "\n",
    "idx = [742, 3396, 454, 431, 2095, 3515, 1186, 48, 2280, 1943, 3815, 2373, 71, 1771, 3709]\n",
    "shp_mun_head = shp_urban_with_mun.loc[idx].copy()\n",
    "shp_mun_head.URBAN_ID = shp_mun_head.URBAN_ID.astype(int)\n",
    "shp_mun_head= shp_mun_head.merge(pop_local[['Población total', 'Clave de localidad']], \n",
    "                                 left_on='URBAN_ID', right_on='Clave de localidad'\n",
    "                                ).drop('Clave de localidad', axis=1).rename(columns={'Población total': 'population'})\n",
    "selected_munic_head = shp_mun_head.append(mexico_city, ignore_index=True, sort=False)\n",
    "\n",
    "cols = ['URBAN_ID', 'NOM_ENT', 'NOM_MUN','NOM_LOC',  'CVE_ENT', 'CVE_MUN', 'CVE_LOC', 'population', 'geometry']\n",
    "selected_munic_head = selected_munic_head[cols]\n",
    "selected_munic_head['name'] = cities\n",
    "\n",
    "selected_munic_head=selected_munic_head[['name', 'population', 'URBAN_ID', 'NOM_ENT', 'NOM_MUN','NOM_LOC',  'CVE_ENT', 'CVE_MUN', 'CVE_LOC', 'geometry']].sort_values('population', ascending=False)"
   ]
  },
  {
   "cell_type": "code",
   "execution_count": 15,
   "metadata": {},
   "outputs": [],
   "source": [
    "selected_munic_head = get_urban_areas(keep_munic_head=True)"
   ]
  },
  {
   "cell_type": "code",
   "execution_count": 16,
   "metadata": {
    "ExecuteTime": {
     "end_time": "2019-01-21T22:19:54.638033Z",
     "start_time": "2019-01-21T22:19:54.165165Z"
    }
   },
   "outputs": [],
   "source": [
    "selected_munic_head.to_file('data/mex_16_munic_head.geojson', driver=\"GeoJSON\")"
   ]
  },
  {
   "cell_type": "markdown",
   "metadata": {},
   "source": [
    "### municipality urban areas"
   ]
  },
  {
   "cell_type": "code",
   "execution_count": null,
   "metadata": {
    "ExecuteTime": {
     "end_time": "2019-01-21T22:20:13.165886Z",
     "start_time": "2019-01-21T22:20:13.161224Z"
    },
    "code_folding": [
     0
    ],
    "deletable": false,
    "editable": false,
    "run_control": {
     "frozen": true
    }
   },
   "outputs": [],
   "source": [
    "# Deprecated\n",
    "selected_urban_unmerged = shp_urban_with_mun[shp_urban_with_mun['concat'].isin(shp_urban_with_mun.loc[idx]['concat'])]\n",
    "\n",
    "selected_urbans = []\n",
    "\n",
    "for i in idx:\n",
    "    concat_value = shp_urban_with_mun.loc[i,'concat']\n",
    "    munic = shp_urban_with_mun[shp_urban_with_mun['concat']==concat_value]\n",
    "    geometry = cascaded_union(munic.geometry)\n",
    "    pop = get_pop(munic, pop_local)\n",
    "    selected_urbans.append([munic.CVE_ENT.iloc[0], munic.CVE_MUN.iloc[0], munic.NOM_ENT.iloc[0],\n",
    "                            munic.NOM_MUN.iloc[0], geometry, pop])\n",
    "\n",
    "columns=['CVE_ENT','CVE_MUN', 'NOM_ENT','NOM_MUN','geometry', 'population']\n",
    "selected_urbans = gp.GeoDataFrame(selected_urbans, columns=columns).append(mexico_city[columns], ignore_index=True)\n",
    "selected_urbans['name'] = cities\n",
    "\n",
    "selected_urbans=selected_urbans[['name', 'population', 'CVE_ENT','CVE_MUN', 'NOM_ENT','NOM_MUN','geometry']].sort_values('population', ascending=False)"
   ]
  },
  {
   "cell_type": "code",
   "execution_count": 17,
   "metadata": {},
   "outputs": [],
   "source": [
    "selected_urbans = get_urban_areas(keep_munic_head=False)"
   ]
  },
  {
   "cell_type": "code",
   "execution_count": 18,
   "metadata": {
    "ExecuteTime": {
     "end_time": "2019-01-21T22:20:54.071814Z",
     "start_time": "2019-01-21T22:20:53.497005Z"
    }
   },
   "outputs": [],
   "source": [
    "selected_urbans.to_file('data/mex_16_munic_urban_merge.geojson', driver=\"GeoJSON\")"
   ]
  },
  {
   "cell_type": "code",
   "execution_count": 19,
   "metadata": {
    "scrolled": true
   },
   "outputs": [
    {
     "data": {
      "text/html": [
       "<div>\n",
       "<style scoped>\n",
       "    .dataframe tbody tr th:only-of-type {\n",
       "        vertical-align: middle;\n",
       "    }\n",
       "\n",
       "    .dataframe tbody tr th {\n",
       "        vertical-align: top;\n",
       "    }\n",
       "\n",
       "    .dataframe thead th {\n",
       "        text-align: right;\n",
       "    }\n",
       "</style>\n",
       "<table border=\"1\" class=\"dataframe\">\n",
       "  <thead>\n",
       "    <tr style=\"text-align: right;\">\n",
       "      <th></th>\n",
       "      <th>0</th>\n",
       "      <th>1</th>\n",
       "      <th>2</th>\n",
       "    </tr>\n",
       "  </thead>\n",
       "  <tbody>\n",
       "    <tr>\n",
       "      <th>0</th>\n",
       "      <td>Valle de Mexico, Distrito Federal</td>\n",
       "      <td>Valle de Mexico, Distrito Federal</td>\n",
       "      <td>Valle de Mexico, Distrito Federal</td>\n",
       "    </tr>\n",
       "    <tr>\n",
       "      <th>1</th>\n",
       "      <td>Monterrey, Nuevo León</td>\n",
       "      <td>Guadalajara, Jalisco</td>\n",
       "      <td>Guadalajara, Jalisco</td>\n",
       "    </tr>\n",
       "    <tr>\n",
       "      <th>2</th>\n",
       "      <td>Guadalajara, Jalisco</td>\n",
       "      <td>Monterrey, Nuevo León</td>\n",
       "      <td>Monterrey, Nuevo León</td>\n",
       "    </tr>\n",
       "    <tr>\n",
       "      <th>3</th>\n",
       "      <td>Tijuana, Baja California</td>\n",
       "      <td>Tijuana, Baja California</td>\n",
       "      <td>Toluca de Lerdo, México</td>\n",
       "    </tr>\n",
       "    <tr>\n",
       "      <th>4</th>\n",
       "      <td>Juárez, Chihuahua</td>\n",
       "      <td>Toluca de Lerdo, México</td>\n",
       "      <td>Tijuana, Baja California</td>\n",
       "    </tr>\n",
       "    <tr>\n",
       "      <th>5</th>\n",
       "      <td>Chihuahua, Chihuahua</td>\n",
       "      <td>Juárez, Chihuahua</td>\n",
       "      <td>Juárez, Chihuahua</td>\n",
       "    </tr>\n",
       "    <tr>\n",
       "      <th>6</th>\n",
       "      <td>Toluca de Lerdo, México</td>\n",
       "      <td>Mexicali, Baja California</td>\n",
       "      <td>Mexicali, Baja California</td>\n",
       "    </tr>\n",
       "    <tr>\n",
       "      <th>7</th>\n",
       "      <td>Cuernavaca, Morelos</td>\n",
       "      <td>Cuernavaca, Morelos</td>\n",
       "      <td>Cuernavaca, Morelos</td>\n",
       "    </tr>\n",
       "    <tr>\n",
       "      <th>8</th>\n",
       "      <td>Mexicali, Baja California</td>\n",
       "      <td>Chihuahua, Chihuahua</td>\n",
       "      <td>Acapulco de Juárez, Guerrero</td>\n",
       "    </tr>\n",
       "    <tr>\n",
       "      <th>9</th>\n",
       "      <td>Acapulco de Juárez, Guerrero</td>\n",
       "      <td>Culiacán Rosales, Sinaloa</td>\n",
       "      <td>Culiacán Rosales, Sinaloa</td>\n",
       "    </tr>\n",
       "    <tr>\n",
       "      <th>10</th>\n",
       "      <td>Culiacán Rosales, Sinaloa</td>\n",
       "      <td>Acapulco de Juárez, Guerrero</td>\n",
       "      <td>Chihuahua, Chihuahua</td>\n",
       "    </tr>\n",
       "    <tr>\n",
       "      <th>11</th>\n",
       "      <td>Cancún, Quintana Roo</td>\n",
       "      <td>Morelia, Michoacán de Ocampo</td>\n",
       "      <td>Morelia, Michoacán de Ocampo</td>\n",
       "    </tr>\n",
       "    <tr>\n",
       "      <th>12</th>\n",
       "      <td>Morelia, Michoacán de Ocampo</td>\n",
       "      <td>Cancún, Quintana Roo</td>\n",
       "      <td>Villahermosa, Tabasco</td>\n",
       "    </tr>\n",
       "    <tr>\n",
       "      <th>13</th>\n",
       "      <td>Oaxaca de Juárez, Oaxaca</td>\n",
       "      <td>Oaxaca de Juárez, Oaxaca</td>\n",
       "      <td>Cancún, Quintana Roo</td>\n",
       "    </tr>\n",
       "    <tr>\n",
       "      <th>14</th>\n",
       "      <td>Nuevo Laredo, Tamaulipas</td>\n",
       "      <td>Villahermosa, Tabasco</td>\n",
       "      <td>Oaxaca de Juárez, Oaxaca</td>\n",
       "    </tr>\n",
       "    <tr>\n",
       "      <th>15</th>\n",
       "      <td>Villahermosa, Tabasco</td>\n",
       "      <td>Nuevo Laredo, Tamaulipas</td>\n",
       "      <td>Nuevo Laredo, Tamaulipas</td>\n",
       "    </tr>\n",
       "  </tbody>\n",
       "</table>\n",
       "</div>"
      ],
      "text/plain": [
       "                                    0                                  1  \\\n",
       "0   Valle de Mexico, Distrito Federal  Valle de Mexico, Distrito Federal   \n",
       "1               Monterrey, Nuevo León               Guadalajara, Jalisco   \n",
       "2                Guadalajara, Jalisco              Monterrey, Nuevo León   \n",
       "3            Tijuana, Baja California           Tijuana, Baja California   \n",
       "4                   Juárez, Chihuahua            Toluca de Lerdo, México   \n",
       "5                Chihuahua, Chihuahua                  Juárez, Chihuahua   \n",
       "6             Toluca de Lerdo, México          Mexicali, Baja California   \n",
       "7                 Cuernavaca, Morelos                Cuernavaca, Morelos   \n",
       "8           Mexicali, Baja California               Chihuahua, Chihuahua   \n",
       "9        Acapulco de Juárez, Guerrero          Culiacán Rosales, Sinaloa   \n",
       "10          Culiacán Rosales, Sinaloa       Acapulco de Juárez, Guerrero   \n",
       "11               Cancún, Quintana Roo       Morelia, Michoacán de Ocampo   \n",
       "12       Morelia, Michoacán de Ocampo               Cancún, Quintana Roo   \n",
       "13           Oaxaca de Juárez, Oaxaca           Oaxaca de Juárez, Oaxaca   \n",
       "14           Nuevo Laredo, Tamaulipas              Villahermosa, Tabasco   \n",
       "15              Villahermosa, Tabasco           Nuevo Laredo, Tamaulipas   \n",
       "\n",
       "                                    2  \n",
       "0   Valle de Mexico, Distrito Federal  \n",
       "1                Guadalajara, Jalisco  \n",
       "2               Monterrey, Nuevo León  \n",
       "3             Toluca de Lerdo, México  \n",
       "4            Tijuana, Baja California  \n",
       "5                   Juárez, Chihuahua  \n",
       "6           Mexicali, Baja California  \n",
       "7                 Cuernavaca, Morelos  \n",
       "8        Acapulco de Juárez, Guerrero  \n",
       "9           Culiacán Rosales, Sinaloa  \n",
       "10               Chihuahua, Chihuahua  \n",
       "11       Morelia, Michoacán de Ocampo  \n",
       "12              Villahermosa, Tabasco  \n",
       "13               Cancún, Quintana Roo  \n",
       "14           Oaxaca de Juárez, Oaxaca  \n",
       "15           Nuevo Laredo, Tamaulipas  "
      ]
     },
     "execution_count": 19,
     "metadata": {},
     "output_type": "execute_result"
    }
   ],
   "source": [
    "pd.DataFrame(list(zip(selected_munic_head.name.values, selected_urbans.name.values, suns.name.values)))"
   ]
  },
  {
   "cell_type": "markdown",
   "metadata": {},
   "source": [
    "## maps"
   ]
  },
  {
   "cell_type": "code",
   "execution_count": 22,
   "metadata": {
    "ExecuteTime": {
     "end_time": "2019-01-21T20:28:21.817908Z",
     "start_time": "2019-01-21T20:28:16.829605Z"
    }
   },
   "outputs": [],
   "source": [
    "some_map = folium.Map(location=[24.062199, -102.870324], zoom_start=5)\n",
    "geojson_per_row(suns.reset_index(), name='metro', tip_cols=['name','population','cve_sun'], some_map=some_map)\n",
    "# geojson_per_row(selected_urban_unmerged, name='munic-urban-unmerged', color='grey', tip_cols=['URBAN_ID', 'NOM_ENT', 'NOM_MUN','NOM_LOC'], some_map=some_map)\n",
    "geojson_per_row(selected_urbans, name='munic-urban', color='yellow', tip_cols=['NOM_ENT', 'NOM_MUN','name'], some_map=some_map)\n",
    "geojson_per_row(selected_munic_head, name='munic-head', color='red', tip_cols=['NOM_ENT', 'NOM_MUN','name'], some_map=some_map)\n",
    "\n",
    "folium.LayerControl().add_to(some_map)\n",
    "some_map.save('maps/metro_urban_areas.html')"
   ]
  },
  {
   "cell_type": "markdown",
   "metadata": {},
   "source": [
    "## mexico country"
   ]
  },
  {
   "cell_type": "code",
   "execution_count": null,
   "metadata": {},
   "outputs": [],
   "source": [
    "%%time\n",
    "mex = cascaded_union(shp_state.geometry.values)"
   ]
  },
  {
   "cell_type": "code",
   "execution_count": null,
   "metadata": {},
   "outputs": [],
   "source": [
    "new_polys = [Polygon(p.exterior) for p in mex]\n",
    "new_polys = MultiPolygon(new_polys)\n",
    "mex_gpdf = gp.GeoDataFrame([[mex,]], columns=['geometry'])\n",
    "clean_mex = gp.GeoDataFrame([[new_polys,]], columns=['geometry'])"
   ]
  },
  {
   "cell_type": "code",
   "execution_count": null,
   "metadata": {},
   "outputs": [],
   "source": [
    "maps = folium.Map(location=[19.381495, -99.139095], zoom_start=6)\n",
    "folium.GeoJson(mex_gpdf.to_json(), name='raw cascad union').add_to(maps)\n",
    "folium.GeoJson(clean_mex.to_json(), name='keep exterior only').add_to(maps)\n",
    "folium.LayerControl().add_to(maps)\n",
    "maps.save('maps/mexico_country.html')"
   ]
  },
  {
   "cell_type": "code",
   "execution_count": null,
   "metadata": {},
   "outputs": [],
   "source": [
    "clean_mex.to_file('data/mex_country.geojson', driver='GeoJSON')"
   ]
  }
 ],
 "metadata": {
  "kernelspec": {
   "display_name": "Python [default]",
   "language": "python",
   "name": "python3"
  },
  "language_info": {
   "codemirror_mode": {
    "name": "ipython",
    "version": 3
   },
   "file_extension": ".py",
   "mimetype": "text/x-python",
   "name": "python",
   "nbconvert_exporter": "python",
   "pygments_lexer": "ipython3",
   "version": "3.6.6"
  },
  "toc": {
   "base_numbering": 1,
   "nav_menu": {},
   "number_sections": true,
   "sideBar": true,
   "skip_h1_title": false,
   "title_cell": "Table of Contents",
   "title_sidebar": "Contents",
   "toc_cell": false,
   "toc_position": {},
   "toc_section_display": true,
   "toc_window_display": false
  },
  "varInspector": {
   "cols": {
    "lenName": 16,
    "lenType": 16,
    "lenVar": 40
   },
   "kernels_config": {
    "python": {
     "delete_cmd_postfix": "",
     "delete_cmd_prefix": "del ",
     "library": "var_list.py",
     "varRefreshCmd": "print(var_dic_list())"
    },
    "r": {
     "delete_cmd_postfix": ") ",
     "delete_cmd_prefix": "rm(",
     "library": "var_list.r",
     "varRefreshCmd": "cat(var_dic_list()) "
    }
   },
   "types_to_exclude": [
    "module",
    "function",
    "builtin_function_or_method",
    "instance",
    "_Feature"
   ],
   "window_display": false
  }
 },
 "nbformat": 4,
 "nbformat_minor": 2
}
