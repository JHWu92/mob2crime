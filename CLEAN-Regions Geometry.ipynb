{
 "cells": [
  {
   "cell_type": "code",
   "execution_count": 2,
   "metadata": {
    "ExecuteTime": {
     "end_time": "2019-01-21T16:03:38.542838Z",
     "start_time": "2019-01-21T16:03:37.574891Z"
    }
   },
   "outputs": [],
   "source": [
    "import pandas as pd\n",
    "import geopandas as gp\n",
    "from src.utils.map_vis import geojson_per_row\n",
    "import folium\n",
    "from shapely.ops import cascaded_union\n",
    "from shapely.geometry import Polygon, MultiPolygon\n",
    "\n",
    "%matplotlib inline"
   ]
  },
  {
   "cell_type": "markdown",
   "metadata": {},
   "source": [
    "# Mexico"
   ]
  },
  {
   "cell_type": "code",
   "execution_count": 1,
   "metadata": {
    "ExecuteTime": {
     "end_time": "2019-01-21T16:03:32.257496Z",
     "start_time": "2019-01-21T16:03:32.252056Z"
    }
   },
   "outputs": [],
   "source": [
    "from src.utils import fix_spanish_encoding"
   ]
  },
  {
   "cell_type": "markdown",
   "metadata": {
    "heading_collapsed": true
   },
   "source": [
    "## urban areas"
   ]
  },
  {
   "cell_type": "code",
   "execution_count": 3,
   "metadata": {
    "ExecuteTime": {
     "end_time": "2019-01-21T16:04:04.360177Z",
     "start_time": "2019-01-21T16:04:02.797427Z"
    },
    "hidden": true
   },
   "outputs": [],
   "source": [
    "# http://www.inegi.org.mx/geo/contenidos/geoestadistica/m_g_0.aspx\n",
    "shp_urban = gp.read_file('data/mexico/mglu2014v6_2/mglu2015v6_2.shp')\n",
    "shp_state = gp.read_file('data/mexico/mge2014v6_2/mge2015v6_2.shp')\n",
    "shp_munic = gp.read_file('data/mexico/mgm2014v6_2/mgm2015v6_2.shp')\n",
    "\n",
    "# get Urban id\n",
    "shp_urban.NOM_LOC = shp_urban.NOM_LOC.apply(fix_spanish_encoding)\n",
    "shp_urban['URBAN_ID'] = shp_urban.CVE_ENT + shp_urban.CVE_MUN + shp_urban.CVE_LOC\n",
    "\n",
    "# get the full data frame\n",
    "shp_all = shp_urban.merge(shp_state.drop('geometry', axis=1)).merge(shp_munic.drop('geometry', axis=1))"
   ]
  },
  {
   "cell_type": "markdown",
   "metadata": {
    "hidden": true
   },
   "source": [
    "Fix the holes in urban areas of DF mexico city, "
   ]
  },
  {
   "cell_type": "code",
   "execution_count": 5,
   "metadata": {
    "ExecuteTime": {
     "end_time": "2019-01-21T16:05:38.434934Z",
     "start_time": "2019-01-21T16:05:37.510346Z"
    },
    "hidden": true
   },
   "outputs": [],
   "source": [
    "polys = cascaded_union(shp_all[shp_all.CVE_ENT=='09'].geometry)\n",
    "p0=polys[0]\n",
    "p0 = Polygon(p0.exterior, [p0.interiors[115]])\n",
    "p4 = Polygon(polys[4].exterior)\n",
    "\n",
    "mex_city_geo = MultiPolygon([p0, p4]+list(polys[1:4]) + list(polys[5:]))\n",
    "mexico_city = {'CVE_ENT': '09', 'CVE_MUN': '000', 'CVE_LOC': '0000', \n",
    "               'NOM_LOC': 'Mexico city in DC', 'NOM_ENT': 'Distrito Federal',\n",
    "               'NOM_MUN': 'Mexico city in DC', 'concat': '09000', 'URBAN_ID' :'090000000',\n",
    "               'geometry': mex_city_geo}\n",
    "mexico_city = gp.GeoDataFrame([mexico_city])"
   ]
  },
  {
   "cell_type": "markdown",
   "metadata": {
    "hidden": true
   },
   "source": [
    "### municipality head"
   ]
  },
  {
   "cell_type": "code",
   "execution_count": 25,
   "metadata": {
    "ExecuteTime": {
     "end_time": "2019-01-21T19:15:37.619108Z",
     "start_time": "2019-01-21T19:15:37.556998Z"
    },
    "code_folding": [
     0
    ],
    "hidden": true
   },
   "outputs": [],
   "source": [
    "cities = ['Acapulco, Guerrero', 'Cancún, Quintana Roo', 'Ciudad Juárez, Chihuahua', 'Chihuahua, Chihuahua', \n",
    "          'Cuernavaca, Morelos', 'Culiacán, Sinaloa', 'Guadalajara, Jalisco', 'Mexicali, Baja California', \n",
    "          'Monterrey, Nuevo León', 'Morelia, Michoacán', 'Nuevo Laredo, Tamaulipas', 'Oaxaca, Oaxaca', \n",
    "          'Tijuana, Baja California', 'Toluca, Estado de México', 'Villahermosa, Tabasco', 'Valle de Mexico, Distrito Federal']\n",
    "\n",
    "idx = [742, 3396, 454, 431, 2095, 3515, 1186, 48, 2280, 1943, 3815, 2373, 71, 1771, 3709]\n",
    "selected_munic_head = shp_all.loc[idx].append(mexico_city, ignore_index=True, sort=False)\n",
    "\n",
    "cols = ['URBAN_ID', 'NOM_ENT', 'NOM_MUN','NOM_LOC',  'CVE_ENT', 'CVE_MUN', 'CVE_LOC', 'geometry']\n",
    "selected_munic_head = selected_munic_head[cols]\n",
    "selected_munic_head['name'] = cities"
   ]
  },
  {
   "cell_type": "code",
   "execution_count": 50,
   "metadata": {
    "ExecuteTime": {
     "end_time": "2019-01-21T19:28:05.445206Z",
     "start_time": "2019-01-21T19:28:04.946677Z"
    },
    "hidden": true
   },
   "outputs": [],
   "source": [
    "selected_munic_head.to_file('data/mex_16_munic_head.geojson', driver=\"GeoJSON\")"
   ]
  },
  {
   "cell_type": "markdown",
   "metadata": {
    "hidden": true
   },
   "source": [
    "### municipality urban areas"
   ]
  },
  {
   "cell_type": "code",
   "execution_count": 47,
   "metadata": {
    "ExecuteTime": {
     "end_time": "2019-01-21T19:26:39.732997Z",
     "start_time": "2019-01-21T19:26:39.724387Z"
    },
    "hidden": true
   },
   "outputs": [],
   "source": [
    "selected_urban_unmerged = shp_all[shp_all['concat'].isin(shp_all.loc[idx]['concat'])]"
   ]
  },
  {
   "cell_type": "code",
   "execution_count": 48,
   "metadata": {
    "ExecuteTime": {
     "end_time": "2019-01-21T19:26:57.571869Z",
     "start_time": "2019-01-21T19:26:57.004953Z"
    },
    "hidden": true
   },
   "outputs": [],
   "source": [
    "selected_urbans = []\n",
    "\n",
    "for i in idx:\n",
    "    concat_value = shp_all.loc[i,'concat']\n",
    "    munic = shp_all[shp_all['concat']==concat_value]\n",
    "    geometry = cascaded_union(munic.geometry)\n",
    "    selected_urbans.append([munic.CVE_ENT.iloc[0], munic.CVE_MUN.iloc[0], munic.NOM_ENT.iloc[0], munic.NOM_MUN.iloc[0], geometry])\n",
    "\n",
    "columns=['CVE_ENT','CVE_MUN', 'NOM_ENT','NOM_MUN','geometry']\n",
    "selected_urbans = gp.GeoDataFrame(selected_urbans, columns=columns).append(mexico_city[columns])\n",
    "selected_urbans['name'] = cities"
   ]
  },
  {
   "cell_type": "code",
   "execution_count": 49,
   "metadata": {
    "ExecuteTime": {
     "end_time": "2019-01-21T19:27:14.425575Z",
     "start_time": "2019-01-21T19:27:13.777016Z"
    },
    "hidden": true
   },
   "outputs": [],
   "source": [
    "selected_urbans.to_file('data/mex_16_munic_urban_merge.geojson', driver=\"GeoJSON\")"
   ]
  },
  {
   "cell_type": "markdown",
   "metadata": {},
   "source": [
    "## metro"
   ]
  },
  {
   "cell_type": "code",
   "execution_count": 52,
   "metadata": {
    "ExecuteTime": {
     "end_time": "2019-01-21T19:29:41.857761Z",
     "start_time": "2019-01-21T19:29:40.197109Z"
    }
   },
   "outputs": [],
   "source": [
    "metro = gp.read_file('data/mexico/Mapa_de_delimitacion_de_zonas_metropolitanas_2010/ZM_2010.shp')\n",
    "sun_ids = [31, 21, 32, 28, 24, 11, 12, 41, 37, 3, 17,2,25,45]\n",
    "sun_names = ['Monterrey, Nuevo León', 'Guadalajara, Jalisco', 'Oaxaca de Juárez, Oaxaca', 'Cuernavaca, Morelos', 'Toluca de Lerdo, México', 'Juárez, Chihuahua', 'Chihuahua, Chihuahua', 'Villahermosa, Tabasco', 'Cancún, Quintana Roo', 'Mexicali, Baja California', 'Acapulco de Juárez, Guerrero', 'Tijuana, Baja California', 'Morelia, Michoacán de Ocampo', 'Nuevo Laredo, Tamaulipas','Culiacán Rosales, Sinaloa', 'Valle de Mexico, Distrito Federal']\n",
    "\n",
    "suns = []\n",
    "for cve,name in zip(sun_ids,sun_names):\n",
    "    sun = metro[metro.CVE_SUN==cve]\n",
    "    geometry = cascaded_union(sun.geometry.tolist())\n",
    "    pob = sun.POB_2010.sum()\n",
    "    suns.append({'cname': name, 'cve_sun': cve, 'population': pob, 'nom_sun':sun.NOM_SUN.unique()[0], 'geometry':geometry})\n",
    "\n",
    "sun = metro[(metro.CVE_SUN==13) & (metro.CVE_ENT=='09')]\n",
    "geometry = cascaded_union(sun.geometry.tolist())\n",
    "pob = sun.POB_2010.sum()\n",
    "suns.append({'cname': sun_names[-1], 'cve_sun': 13, 'population': pob, 'nom_sun':sun.NOM_SUN.unique()[0], 'geometry':geometry})"
   ]
  },
  {
   "cell_type": "code",
   "execution_count": 53,
   "metadata": {
    "ExecuteTime": {
     "end_time": "2019-01-21T19:29:54.255063Z",
     "start_time": "2019-01-21T19:29:54.246842Z"
    }
   },
   "outputs": [],
   "source": [
    "# use municipal area for metro-culiacan instead of munic-head. Other metro are municipal level\n",
    "# culiacan_sinaloa = selected_localidades_mex[selected_localidades_mex.URBAN_ID=='250060001'].to_crs(metro.crs).iloc[0].to_dict()\n",
    "# population from: https://www.citypopulation.de/php/mexico-metro.php\n",
    "culiacan_sinaloa = shp_munic[shp_munic['concat']=='25006'].to_crs(metro.crs).iloc[0].to_dict()\n",
    "suns.append({'cname': sun_names[-2], 'cve_sun': 99, 'population': 858638, 'nom_sun':sun_names[-2], \n",
    "             'geometry':culiacan_sinaloa['geometry']})"
   ]
  },
  {
   "cell_type": "code",
   "execution_count": 54,
   "metadata": {
    "ExecuteTime": {
     "end_time": "2019-01-21T19:30:06.807154Z",
     "start_time": "2019-01-21T19:30:06.647107Z"
    }
   },
   "outputs": [],
   "source": [
    "suns=gp.GeoDataFrame(suns)\n",
    "suns.crs = metro.crs\n",
    "suns = suns.to_crs(epsg=4326)"
   ]
  },
  {
   "cell_type": "code",
   "execution_count": 55,
   "metadata": {
    "ExecuteTime": {
     "end_time": "2019-01-21T19:30:19.850398Z",
     "start_time": "2019-01-21T19:30:19.846433Z"
    }
   },
   "outputs": [],
   "source": [
    "suns = suns[['cname','population', 'cve_sun', 'geometry']].sort_values('population', ascending=False)"
   ]
  },
  {
   "cell_type": "code",
   "execution_count": 56,
   "metadata": {
    "ExecuteTime": {
     "end_time": "2019-01-21T19:30:33.571272Z",
     "start_time": "2019-01-21T19:30:32.896874Z"
    }
   },
   "outputs": [],
   "source": [
    "suns.to_file('data/mex_16_metropolitans.geojson', driver=\"GeoJSON\")"
   ]
  },
  {
   "cell_type": "markdown",
   "metadata": {},
   "source": [
    "## maps"
   ]
  },
  {
   "cell_type": "code",
   "execution_count": 61,
   "metadata": {
    "ExecuteTime": {
     "end_time": "2019-01-21T20:28:21.817908Z",
     "start_time": "2019-01-21T20:28:16.829605Z"
    }
   },
   "outputs": [],
   "source": [
    "some_map = folium.Map(location=[24.062199, -102.870324], zoom_start=5)\n",
    "geojson_per_row(suns.reset_index(), name='metro', tip_cols=['cname','population','cve_sun'], some_map=some_map)\n",
    "geojson_per_row(selected_urban_unmerged, name='munic-urban-unmerged', color='grey', tip_cols=['URBAN_ID', 'NOM_ENT', 'NOM_MUN','NOM_LOC'], some_map=some_map)\n",
    "geojson_per_row(selected_urbans, name='munic-urban', color='yellow', tip_cols=['NOM_ENT', 'NOM_MUN','name'], some_map=some_map)\n",
    "geojson_per_row(selected_munic_head, name='munic-head', color='red', tip_cols=['URBAN_ID', 'NOM_ENT', 'NOM_MUN','NOM_LOC','name'], some_map=some_map)\n",
    "\n",
    "folium.LayerControl().add_to(some_map)\n",
    "some_map.save('maps/metro_urban_areas.html')"
   ]
  },
  {
   "cell_type": "markdown",
   "metadata": {},
   "source": [
    "## mexico country"
   ]
  },
  {
   "cell_type": "code",
   "execution_count": null,
   "metadata": {},
   "outputs": [],
   "source": [
    "%%time\n",
    "mex = cascaded_union(shp_state.geometry.values)"
   ]
  },
  {
   "cell_type": "code",
   "execution_count": null,
   "metadata": {},
   "outputs": [],
   "source": [
    "new_polys = [Polygon(p.exterior) for p in mex]\n",
    "new_polys = MultiPolygon(new_polys)\n",
    "mex_gpdf = gp.GeoDataFrame([[mex,]], columns=['geometry'])\n",
    "clean_mex = gp.GeoDataFrame([[new_polys,]], columns=['geometry'])"
   ]
  },
  {
   "cell_type": "code",
   "execution_count": null,
   "metadata": {},
   "outputs": [],
   "source": [
    "maps = folium.Map(location=[19.381495, -99.139095], zoom_start=6)\n",
    "folium.GeoJson(mex_gpdf.to_json(), name='raw cascad union').add_to(maps)\n",
    "folium.GeoJson(clean_mex.to_json(), name='keep exterior only').add_to(maps)\n",
    "folium.LayerControl().add_to(maps)\n",
    "maps.save('maps/mexico_country.html')"
   ]
  },
  {
   "cell_type": "code",
   "execution_count": null,
   "metadata": {},
   "outputs": [],
   "source": [
    "clean_mex.to_file('data/mex_country.geojson', driver='GeoJSON')"
   ]
  }
 ],
 "metadata": {
  "kernelspec": {
   "display_name": "Python [default]",
   "language": "python",
   "name": "python3"
  },
  "language_info": {
   "codemirror_mode": {
    "name": "ipython",
    "version": 3
   },
   "file_extension": ".py",
   "mimetype": "text/x-python",
   "name": "python",
   "nbconvert_exporter": "python",
   "pygments_lexer": "ipython3",
   "version": "3.6.6"
  },
  "toc": {
   "base_numbering": 1,
   "nav_menu": {},
   "number_sections": true,
   "sideBar": true,
   "skip_h1_title": false,
   "title_cell": "Table of Contents",
   "title_sidebar": "Contents",
   "toc_cell": false,
   "toc_position": {},
   "toc_section_display": true,
   "toc_window_display": false
  },
  "varInspector": {
   "cols": {
    "lenName": 16,
    "lenType": 16,
    "lenVar": 40
   },
   "kernels_config": {
    "python": {
     "delete_cmd_postfix": "",
     "delete_cmd_prefix": "del ",
     "library": "var_list.py",
     "varRefreshCmd": "print(var_dic_list())"
    },
    "r": {
     "delete_cmd_postfix": ") ",
     "delete_cmd_prefix": "rm(",
     "library": "var_list.r",
     "varRefreshCmd": "cat(var_dic_list()) "
    }
   },
   "types_to_exclude": [
    "module",
    "function",
    "builtin_function_or_method",
    "instance",
    "_Feature"
   ],
   "window_display": false
  }
 },
 "nbformat": 4,
 "nbformat_minor": 2
}
