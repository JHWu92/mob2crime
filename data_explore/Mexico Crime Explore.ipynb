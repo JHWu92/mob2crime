{
 "cells": [
  {
   "cell_type": "code",
   "execution_count": 1,
   "metadata": {
    "ExecuteTime": {
     "end_time": "2019-09-27T13:31:08.870858Z",
     "start_time": "2019-09-27T13:31:08.862160Z"
    }
   },
   "outputs": [
    {
     "data": {
      "text/plain": [
       "'/mnt/d/1ResProj/mob2crime'"
      ]
     },
     "execution_count": 1,
     "metadata": {},
     "output_type": "execute_result"
    }
   ],
   "source": [
    "import os\n",
    "\n",
    "if not os.getcwd().endswith('mob2crime'):\n",
    "    os.chdir('..')\n",
    "os.getcwd()"
   ]
  },
  {
   "cell_type": "code",
   "execution_count": 2,
   "metadata": {
    "ExecuteTime": {
     "end_time": "2019-09-27T13:31:10.261511Z",
     "start_time": "2019-09-27T13:31:09.325972Z"
    }
   },
   "outputs": [],
   "source": [
    "import pandas as pd\n",
    "import geopandas as gp"
   ]
  },
  {
   "cell_type": "code",
   "execution_count": 3,
   "metadata": {
    "ExecuteTime": {
     "end_time": "2019-09-27T13:31:10.405343Z",
     "start_time": "2019-09-27T13:31:10.285922Z"
    }
   },
   "outputs": [],
   "source": [
    "%matplotlib inline"
   ]
  },
  {
   "cell_type": "code",
   "execution_count": 4,
   "metadata": {
    "ExecuteTime": {
     "end_time": "2019-09-27T13:31:10.872169Z",
     "start_time": "2019-09-27T13:31:10.869883Z"
    }
   },
   "outputs": [],
   "source": [
    "crime_dir = 'data/mexico/crime_stats'"
   ]
  },
  {
   "cell_type": "markdown",
   "metadata": {},
   "source": [
    "# 1. PJG-CDMX: Crime incident in Mexico City\n",
    "\n",
    "https://datos.cdmx.gob.mx/explore/dataset/carpetas-de-investigacion-pgj-cdmx/export/\n",
    "\n",
    "This database contains the Street-level crime investigation folders of the Attorney General of Mexico City from January 2016 to June 2019. \n",
    "\n",
    "But there are some records older than 2016.\n",
    "\n",
    "https://hoyodecrimen.com/en/ this website is based on this dataset."
   ]
  },
  {
   "cell_type": "code",
   "execution_count": 5,
   "metadata": {
    "ExecuteTime": {
     "end_time": "2019-09-27T13:31:15.811506Z",
     "start_time": "2019-09-27T13:31:11.646376Z"
    },
    "cell_style": "split"
   },
   "outputs": [
    {
     "data": {
      "text/html": [
       "<div>\n",
       "<style scoped>\n",
       "    .dataframe tbody tr th:only-of-type {\n",
       "        vertical-align: middle;\n",
       "    }\n",
       "\n",
       "    .dataframe tbody tr th {\n",
       "        vertical-align: top;\n",
       "    }\n",
       "\n",
       "    .dataframe thead th {\n",
       "        text-align: right;\n",
       "    }\n",
       "</style>\n",
       "<table border=\"1\" class=\"dataframe\">\n",
       "  <thead>\n",
       "    <tr style=\"text-align: right;\">\n",
       "      <th></th>\n",
       "      <th>0</th>\n",
       "      <th>1</th>\n",
       "      <th>2</th>\n",
       "      <th>3</th>\n",
       "      <th>4</th>\n",
       "    </tr>\n",
       "  </thead>\n",
       "  <tbody>\n",
       "    <tr>\n",
       "      <td>año_hechos</td>\n",
       "      <td>2017</td>\n",
       "      <td>2016</td>\n",
       "      <td>2017</td>\n",
       "      <td>2016</td>\n",
       "      <td>2017</td>\n",
       "    </tr>\n",
       "    <tr>\n",
       "      <td>mes_hechos</td>\n",
       "      <td>Abril</td>\n",
       "      <td>Mayo</td>\n",
       "      <td>Mayo</td>\n",
       "      <td>Febrero</td>\n",
       "      <td>Mayo</td>\n",
       "    </tr>\n",
       "    <tr>\n",
       "      <td>fecha_hechos</td>\n",
       "      <td>2017-04-27 14:00:00</td>\n",
       "      <td>2016-05-27 15:00:00</td>\n",
       "      <td>2017-05-17 18:00:00</td>\n",
       "      <td>2016-02-15 12:00:00</td>\n",
       "      <td>2017-05-02 14:20:00</td>\n",
       "    </tr>\n",
       "    <tr>\n",
       "      <td>delito</td>\n",
       "      <td>FALSIFICACION DE TITULOS AL PORTADOR Y DOCUMEN...</td>\n",
       "      <td>ROBO DE VEHICULO DE SERVICIO PARTICULAR SIN VI...</td>\n",
       "      <td>DENUNCIA DE HECHOS</td>\n",
       "      <td>DENUNCIA DE HECHOS</td>\n",
       "      <td>PERDIDA DE LA VIDA POR SUICIDIO</td>\n",
       "    </tr>\n",
       "    <tr>\n",
       "      <td>categoria_delito</td>\n",
       "      <td>DELITO DE BAJO IMPACTO</td>\n",
       "      <td>ROBO DE VEHÍCULO CON Y SIN VIOLENCIA</td>\n",
       "      <td>HECHO NO DELICTIVO</td>\n",
       "      <td>HECHO NO DELICTIVO</td>\n",
       "      <td>HECHO NO DELICTIVO</td>\n",
       "    </tr>\n",
       "    <tr>\n",
       "      <td>fiscalía</td>\n",
       "      <td>INVESTIGACIÓN EN GUSTAVO A. MADERO</td>\n",
       "      <td>INVESTIGACIÓN EN IZTAPALAPA</td>\n",
       "      <td>INVESTIGACIÓN PARA LA ATENCIÓN DE DELITOS SEXU...</td>\n",
       "      <td>INVESTIGACIÓN EN CUAUHTEMOC</td>\n",
       "      <td>INVESTIGACIÓN EN COYOACÁN</td>\n",
       "    </tr>\n",
       "    <tr>\n",
       "      <td>agencia</td>\n",
       "      <td>GAM-6</td>\n",
       "      <td>IZP-5</td>\n",
       "      <td>FDS-6</td>\n",
       "      <td>CUH-7</td>\n",
       "      <td>COY-4</td>\n",
       "    </tr>\n",
       "    <tr>\n",
       "      <td>unidad_investigacion</td>\n",
       "      <td>UI-1CD</td>\n",
       "      <td>UI-2SD</td>\n",
       "      <td>FDS-6-01</td>\n",
       "      <td>UI-2CD</td>\n",
       "      <td>UI-2SD</td>\n",
       "    </tr>\n",
       "    <tr>\n",
       "      <td>colonia_hechos</td>\n",
       "      <td>GUADALUPE TEPEYAC</td>\n",
       "      <td>SANTA CRUZ MEYEHUALCO</td>\n",
       "      <td>NaN</td>\n",
       "      <td>CONDESA</td>\n",
       "      <td>PUEBLO DE SANTA URSULA COAPA</td>\n",
       "    </tr>\n",
       "    <tr>\n",
       "      <td>alcaldia_hechos</td>\n",
       "      <td>GUSTAVO A MADERO</td>\n",
       "      <td>IZTAPALAPA</td>\n",
       "      <td>CUAUHTEMOC</td>\n",
       "      <td>CUAUHTEMOC</td>\n",
       "      <td>COYOACAN</td>\n",
       "    </tr>\n",
       "    <tr>\n",
       "      <td>fecha_inicio</td>\n",
       "      <td>2017-05-02 15:47:09</td>\n",
       "      <td>2016-05-29 09:40:54</td>\n",
       "      <td>2017-05-18 03:00:33</td>\n",
       "      <td>2016-05-29 10:34:13</td>\n",
       "      <td>2017-05-02 16:52:31</td>\n",
       "    </tr>\n",
       "    <tr>\n",
       "      <td>mes_inicio</td>\n",
       "      <td>Mayo</td>\n",
       "      <td>Mayo</td>\n",
       "      <td>Mayo</td>\n",
       "      <td>Mayo</td>\n",
       "      <td>Mayo</td>\n",
       "    </tr>\n",
       "    <tr>\n",
       "      <td>ao_inicio</td>\n",
       "      <td>2017</td>\n",
       "      <td>2016</td>\n",
       "      <td>2017</td>\n",
       "      <td>2016</td>\n",
       "      <td>2017</td>\n",
       "    </tr>\n",
       "    <tr>\n",
       "      <td>calle_hechos</td>\n",
       "      <td>AV. HENRY FORD</td>\n",
       "      <td>CALLE  71</td>\n",
       "      <td>SIN CALLES DEL SAP</td>\n",
       "      <td>VERACRUZ</td>\n",
       "      <td>ABASOLO</td>\n",
       "    </tr>\n",
       "    <tr>\n",
       "      <td>calle_hechos2</td>\n",
       "      <td>NaN</td>\n",
       "      <td>AV . SEIS</td>\n",
       "      <td>NaN</td>\n",
       "      <td>NaN</td>\n",
       "      <td>HIDALGO</td>\n",
       "    </tr>\n",
       "    <tr>\n",
       "      <td>longitud</td>\n",
       "      <td>-99.1214</td>\n",
       "      <td>-99.0473</td>\n",
       "      <td>NaN</td>\n",
       "      <td>-99.1758</td>\n",
       "      <td>-99.1445</td>\n",
       "    </tr>\n",
       "    <tr>\n",
       "      <td>latitud</td>\n",
       "      <td>19.4711</td>\n",
       "      <td>19.3465</td>\n",
       "      <td>NaN</td>\n",
       "      <td>19.4191</td>\n",
       "      <td>19.3079</td>\n",
       "    </tr>\n",
       "    <tr>\n",
       "      <td>Geopoint</td>\n",
       "      <td>19.4710766228,-99.1214222923</td>\n",
       "      <td>19.3464667801,-99.0472721639</td>\n",
       "      <td>NaN</td>\n",
       "      <td>19.4190772672,-99.1758277641</td>\n",
       "      <td>19.3079332859,-99.1444836893</td>\n",
       "    </tr>\n",
       "  </tbody>\n",
       "</table>\n",
       "</div>"
      ],
      "text/plain": [
       "                                                                      0  \\\n",
       "año_hechos                                                         2017   \n",
       "mes_hechos                                                        Abril   \n",
       "fecha_hechos                                        2017-04-27 14:00:00   \n",
       "delito                FALSIFICACION DE TITULOS AL PORTADOR Y DOCUMEN...   \n",
       "categoria_delito                                 DELITO DE BAJO IMPACTO   \n",
       "fiscalía                             INVESTIGACIÓN EN GUSTAVO A. MADERO   \n",
       "agencia                                                           GAM-6   \n",
       "unidad_investigacion                                             UI-1CD   \n",
       "colonia_hechos                                        GUADALUPE TEPEYAC   \n",
       "alcaldia_hechos                                        GUSTAVO A MADERO   \n",
       "fecha_inicio                                        2017-05-02 15:47:09   \n",
       "mes_inicio                                                         Mayo   \n",
       "ao_inicio                                                          2017   \n",
       "calle_hechos                                             AV. HENRY FORD   \n",
       "calle_hechos2                                                       NaN   \n",
       "longitud                                                       -99.1214   \n",
       "latitud                                                         19.4711   \n",
       "Geopoint                                   19.4710766228,-99.1214222923   \n",
       "\n",
       "                                                                      1  \\\n",
       "año_hechos                                                         2016   \n",
       "mes_hechos                                                         Mayo   \n",
       "fecha_hechos                                        2016-05-27 15:00:00   \n",
       "delito                ROBO DE VEHICULO DE SERVICIO PARTICULAR SIN VI...   \n",
       "categoria_delito                   ROBO DE VEHÍCULO CON Y SIN VIOLENCIA   \n",
       "fiscalía                                    INVESTIGACIÓN EN IZTAPALAPA   \n",
       "agencia                                                           IZP-5   \n",
       "unidad_investigacion                                             UI-2SD   \n",
       "colonia_hechos                                    SANTA CRUZ MEYEHUALCO   \n",
       "alcaldia_hechos                                              IZTAPALAPA   \n",
       "fecha_inicio                                        2016-05-29 09:40:54   \n",
       "mes_inicio                                                         Mayo   \n",
       "ao_inicio                                                          2016   \n",
       "calle_hechos                                                  CALLE  71   \n",
       "calle_hechos2                                                 AV . SEIS   \n",
       "longitud                                                       -99.0473   \n",
       "latitud                                                         19.3465   \n",
       "Geopoint                                   19.3464667801,-99.0472721639   \n",
       "\n",
       "                                                                      2  \\\n",
       "año_hechos                                                         2017   \n",
       "mes_hechos                                                         Mayo   \n",
       "fecha_hechos                                        2017-05-17 18:00:00   \n",
       "delito                                               DENUNCIA DE HECHOS   \n",
       "categoria_delito                                     HECHO NO DELICTIVO   \n",
       "fiscalía              INVESTIGACIÓN PARA LA ATENCIÓN DE DELITOS SEXU...   \n",
       "agencia                                                           FDS-6   \n",
       "unidad_investigacion                                           FDS-6-01   \n",
       "colonia_hechos                                                      NaN   \n",
       "alcaldia_hechos                                              CUAUHTEMOC   \n",
       "fecha_inicio                                        2017-05-18 03:00:33   \n",
       "mes_inicio                                                         Mayo   \n",
       "ao_inicio                                                          2017   \n",
       "calle_hechos                                         SIN CALLES DEL SAP   \n",
       "calle_hechos2                                                       NaN   \n",
       "longitud                                                            NaN   \n",
       "latitud                                                             NaN   \n",
       "Geopoint                                                            NaN   \n",
       "\n",
       "                                                 3  \\\n",
       "año_hechos                                    2016   \n",
       "mes_hechos                                 Febrero   \n",
       "fecha_hechos                   2016-02-15 12:00:00   \n",
       "delito                          DENUNCIA DE HECHOS   \n",
       "categoria_delito                HECHO NO DELICTIVO   \n",
       "fiscalía               INVESTIGACIÓN EN CUAUHTEMOC   \n",
       "agencia                                      CUH-7   \n",
       "unidad_investigacion                        UI-2CD   \n",
       "colonia_hechos                             CONDESA   \n",
       "alcaldia_hechos                         CUAUHTEMOC   \n",
       "fecha_inicio                   2016-05-29 10:34:13   \n",
       "mes_inicio                                    Mayo   \n",
       "ao_inicio                                     2016   \n",
       "calle_hechos                              VERACRUZ   \n",
       "calle_hechos2                                  NaN   \n",
       "longitud                                  -99.1758   \n",
       "latitud                                    19.4191   \n",
       "Geopoint              19.4190772672,-99.1758277641   \n",
       "\n",
       "                                                    4  \n",
       "año_hechos                                       2017  \n",
       "mes_hechos                                       Mayo  \n",
       "fecha_hechos                      2017-05-02 14:20:00  \n",
       "delito                PERDIDA DE LA VIDA POR SUICIDIO  \n",
       "categoria_delito                   HECHO NO DELICTIVO  \n",
       "fiscalía                    INVESTIGACIÓN EN COYOACÁN  \n",
       "agencia                                         COY-4  \n",
       "unidad_investigacion                           UI-2SD  \n",
       "colonia_hechos           PUEBLO DE SANTA URSULA COAPA  \n",
       "alcaldia_hechos                              COYOACAN  \n",
       "fecha_inicio                      2017-05-02 16:52:31  \n",
       "mes_inicio                                       Mayo  \n",
       "ao_inicio                                        2017  \n",
       "calle_hechos                                  ABASOLO  \n",
       "calle_hechos2                                 HIDALGO  \n",
       "longitud                                     -99.1445  \n",
       "latitud                                       19.3079  \n",
       "Geopoint                 19.3079332859,-99.1444836893  "
      ]
     },
     "execution_count": 5,
     "metadata": {},
     "output_type": "execute_result"
    }
   ],
   "source": [
    "path= f'{crime_dir}/carpetas-de-investigacion-pgj-cdmx.csv'\n",
    "pjg  = pd.read_csv(path, sep=';', dtype={'año_hechos':str})\n",
    "pjg.head().T"
   ]
  },
  {
   "cell_type": "code",
   "execution_count": 6,
   "metadata": {
    "ExecuteTime": {
     "end_time": "2019-09-27T13:31:15.940149Z",
     "start_time": "2019-09-27T13:31:15.875147Z"
    },
    "cell_style": "split"
   },
   "outputs": [
    {
     "data": {
      "text/plain": [
       "2019    113415\n",
       "2018    249585\n",
       "2017    225472\n",
       "2016    194085\n",
       "2015     15424\n",
       "2014      3840\n",
       "2013      1914\n",
       "2012      1275\n",
       "2011       856\n",
       "2010       681\n",
       "Name: año_hechos, dtype: int64"
      ]
     },
     "execution_count": 6,
     "metadata": {},
     "output_type": "execute_result"
    }
   ],
   "source": [
    "# records are supposed to be since 2016, but it is not\n",
    "year_counts = pjg['año_hechos'].value_counts().sort_index(ascending=False)\n",
    "year_counts[:10]"
   ]
  },
  {
   "cell_type": "code",
   "execution_count": 7,
   "metadata": {
    "ExecuteTime": {
     "end_time": "2019-09-27T13:31:16.020438Z",
     "start_time": "2019-09-27T13:31:16.017388Z"
    },
    "cell_style": "split"
   },
   "outputs": [
    {
     "name": "stdout",
     "output_type": "stream",
     "text": [
      "año_hechos\n",
      "mes_hechos\n",
      "fecha_hechos\n",
      "delito\n",
      "categoria_delito\n",
      "fiscalía\n",
      "agencia\n",
      "unidad_investigacion\n",
      "colonia_hechos\n",
      "alcaldia_hechos\n",
      "fecha_inicio\n",
      "mes_inicio\n",
      "ao_inicio\n",
      "calle_hechos\n",
      "calle_hechos2\n",
      "longitud\n",
      "latitud\n",
      "Geopoint\n"
     ]
    }
   ],
   "source": [
    "print('\\n'.join(pjg.columns))"
   ]
  },
  {
   "cell_type": "markdown",
   "metadata": {},
   "source": [
    "# SESNSP\n",
    "\n",
    "https://www.gob.mx/sesnsp/acciones-y-programas/datos-abiertos-de-incidencia-delictiva"
   ]
  },
  {
   "cell_type": "code",
   "execution_count": 8,
   "metadata": {
    "ExecuteTime": {
     "end_time": "2019-09-27T13:31:17.934729Z",
     "start_time": "2019-09-27T13:31:16.097711Z"
    },
    "cell_style": "split"
   },
   "outputs": [
    {
     "data": {
      "text/html": [
       "<div>\n",
       "<style scoped>\n",
       "    .dataframe tbody tr th:only-of-type {\n",
       "        vertical-align: middle;\n",
       "    }\n",
       "\n",
       "    .dataframe tbody tr th {\n",
       "        vertical-align: top;\n",
       "    }\n",
       "\n",
       "    .dataframe thead th {\n",
       "        text-align: right;\n",
       "    }\n",
       "</style>\n",
       "<table border=\"1\" class=\"dataframe\">\n",
       "  <thead>\n",
       "    <tr style=\"text-align: right;\">\n",
       "      <th></th>\n",
       "      <th>AÑO</th>\n",
       "      <th>INEGI</th>\n",
       "      <th>ENTIDAD</th>\n",
       "      <th>MUNICIPIO</th>\n",
       "      <th>MODALIDAD</th>\n",
       "      <th>TIPO</th>\n",
       "      <th>SUBTIPO</th>\n",
       "      <th>ENERO</th>\n",
       "      <th>FEBRERO</th>\n",
       "      <th>MARZO</th>\n",
       "      <th>ABRIL</th>\n",
       "      <th>MAYO</th>\n",
       "      <th>JUNIO</th>\n",
       "      <th>JULIO</th>\n",
       "      <th>AGOSTO</th>\n",
       "      <th>SEPTIEMBRE</th>\n",
       "      <th>OCTUBRE</th>\n",
       "      <th>NOVIEMBRE</th>\n",
       "      <th>DICIEMBRE</th>\n",
       "    </tr>\n",
       "  </thead>\n",
       "  <tbody>\n",
       "    <tr>\n",
       "      <td>0</td>\n",
       "      <td>2011</td>\n",
       "      <td>01001</td>\n",
       "      <td>AGUASCALIENTES</td>\n",
       "      <td>AGUASCALIENTES</td>\n",
       "      <td>DELITOS PATRIMONIALES</td>\n",
       "      <td>ABUSO DE CONFIANZA</td>\n",
       "      <td>ABUSO DE CONFIANZA</td>\n",
       "      <td>45.0</td>\n",
       "      <td>43.0</td>\n",
       "      <td>34.0</td>\n",
       "      <td>22.0</td>\n",
       "      <td>36.0</td>\n",
       "      <td>43.0</td>\n",
       "      <td>37.0</td>\n",
       "      <td>38.0</td>\n",
       "      <td>37.0</td>\n",
       "      <td>35.0</td>\n",
       "      <td>32.0</td>\n",
       "      <td>28.0</td>\n",
       "    </tr>\n",
       "    <tr>\n",
       "      <td>1</td>\n",
       "      <td>2011</td>\n",
       "      <td>01001</td>\n",
       "      <td>AGUASCALIENTES</td>\n",
       "      <td>AGUASCALIENTES</td>\n",
       "      <td>DELITOS PATRIMONIALES</td>\n",
       "      <td>DAÑO EN PROPIEDAD AJENA</td>\n",
       "      <td>DAÑO EN PROPIEDAD AJENA</td>\n",
       "      <td>164.0</td>\n",
       "      <td>177.0</td>\n",
       "      <td>160.0</td>\n",
       "      <td>179.0</td>\n",
       "      <td>167.0</td>\n",
       "      <td>149.0</td>\n",
       "      <td>150.0</td>\n",
       "      <td>144.0</td>\n",
       "      <td>171.0</td>\n",
       "      <td>144.0</td>\n",
       "      <td>134.0</td>\n",
       "      <td>173.0</td>\n",
       "    </tr>\n",
       "    <tr>\n",
       "      <td>2</td>\n",
       "      <td>2011</td>\n",
       "      <td>01001</td>\n",
       "      <td>AGUASCALIENTES</td>\n",
       "      <td>AGUASCALIENTES</td>\n",
       "      <td>DELITOS PATRIMONIALES</td>\n",
       "      <td>EXTORSION</td>\n",
       "      <td>EXTORSION</td>\n",
       "      <td>10.0</td>\n",
       "      <td>24.0</td>\n",
       "      <td>9.0</td>\n",
       "      <td>7.0</td>\n",
       "      <td>8.0</td>\n",
       "      <td>9.0</td>\n",
       "      <td>9.0</td>\n",
       "      <td>1.0</td>\n",
       "      <td>7.0</td>\n",
       "      <td>6.0</td>\n",
       "      <td>4.0</td>\n",
       "      <td>5.0</td>\n",
       "    </tr>\n",
       "    <tr>\n",
       "      <td>3</td>\n",
       "      <td>2011</td>\n",
       "      <td>01001</td>\n",
       "      <td>AGUASCALIENTES</td>\n",
       "      <td>AGUASCALIENTES</td>\n",
       "      <td>DELITOS PATRIMONIALES</td>\n",
       "      <td>FRAUDE</td>\n",
       "      <td>FRAUDE</td>\n",
       "      <td>54.0</td>\n",
       "      <td>29.0</td>\n",
       "      <td>37.0</td>\n",
       "      <td>37.0</td>\n",
       "      <td>53.0</td>\n",
       "      <td>37.0</td>\n",
       "      <td>44.0</td>\n",
       "      <td>36.0</td>\n",
       "      <td>27.0</td>\n",
       "      <td>20.0</td>\n",
       "      <td>38.0</td>\n",
       "      <td>32.0</td>\n",
       "    </tr>\n",
       "    <tr>\n",
       "      <td>4</td>\n",
       "      <td>2011</td>\n",
       "      <td>01001</td>\n",
       "      <td>AGUASCALIENTES</td>\n",
       "      <td>AGUASCALIENTES</td>\n",
       "      <td>DELITOS PATRIMONIALES</td>\n",
       "      <td>DESPOJO</td>\n",
       "      <td>CON VIOLENCIA</td>\n",
       "      <td>0.0</td>\n",
       "      <td>0.0</td>\n",
       "      <td>0.0</td>\n",
       "      <td>0.0</td>\n",
       "      <td>0.0</td>\n",
       "      <td>0.0</td>\n",
       "      <td>0.0</td>\n",
       "      <td>0.0</td>\n",
       "      <td>0.0</td>\n",
       "      <td>0.0</td>\n",
       "      <td>0.0</td>\n",
       "      <td>0.0</td>\n",
       "    </tr>\n",
       "  </tbody>\n",
       "</table>\n",
       "</div>"
      ],
      "text/plain": [
       "    AÑO  INEGI         ENTIDAD       MUNICIPIO              MODALIDAD  \\\n",
       "0  2011  01001  AGUASCALIENTES  AGUASCALIENTES  DELITOS PATRIMONIALES   \n",
       "1  2011  01001  AGUASCALIENTES  AGUASCALIENTES  DELITOS PATRIMONIALES   \n",
       "2  2011  01001  AGUASCALIENTES  AGUASCALIENTES  DELITOS PATRIMONIALES   \n",
       "3  2011  01001  AGUASCALIENTES  AGUASCALIENTES  DELITOS PATRIMONIALES   \n",
       "4  2011  01001  AGUASCALIENTES  AGUASCALIENTES  DELITOS PATRIMONIALES   \n",
       "\n",
       "                      TIPO                  SUBTIPO  ENERO  FEBRERO  MARZO  \\\n",
       "0       ABUSO DE CONFIANZA       ABUSO DE CONFIANZA   45.0     43.0   34.0   \n",
       "1  DAÑO EN PROPIEDAD AJENA  DAÑO EN PROPIEDAD AJENA  164.0    177.0  160.0   \n",
       "2                EXTORSION                EXTORSION   10.0     24.0    9.0   \n",
       "3                   FRAUDE                   FRAUDE   54.0     29.0   37.0   \n",
       "4                  DESPOJO            CON VIOLENCIA    0.0      0.0    0.0   \n",
       "\n",
       "   ABRIL   MAYO  JUNIO  JULIO  AGOSTO  SEPTIEMBRE  OCTUBRE  NOVIEMBRE  \\\n",
       "0   22.0   36.0   43.0   37.0    38.0        37.0     35.0       32.0   \n",
       "1  179.0  167.0  149.0  150.0   144.0       171.0    144.0      134.0   \n",
       "2    7.0    8.0    9.0    9.0     1.0         7.0      6.0        4.0   \n",
       "3   37.0   53.0   37.0   44.0    36.0        27.0     20.0       38.0   \n",
       "4    0.0    0.0    0.0    0.0     0.0         0.0      0.0        0.0   \n",
       "\n",
       "   DICIEMBRE  \n",
       "0       28.0  \n",
       "1      173.0  \n",
       "2        5.0  \n",
       "3       32.0  \n",
       "4        0.0  "
      ]
     },
     "execution_count": 8,
     "metadata": {},
     "output_type": "execute_result"
    }
   ],
   "source": [
    "sesnsp = pd.read_csv(f'{crime_dir}/IDM_mar19.csv', encoding='1252')\n",
    "sesnsp.INEGI = sesnsp.INEGI.apply(lambda x: f'{x:05}')\n",
    "sesnsp.head()"
   ]
  },
  {
   "cell_type": "code",
   "execution_count": 9,
   "metadata": {
    "ExecuteTime": {
     "end_time": "2019-09-27T13:31:18.054670Z",
     "start_time": "2019-09-27T13:31:18.050671Z"
    },
    "cell_style": "split"
   },
   "outputs": [
    {
     "name": "stdout",
     "output_type": "stream",
     "text": [
      "AÑO\n",
      "INEGI\n",
      "ENTIDAD\n",
      "MUNICIPIO\n",
      "MODALIDAD\n",
      "TIPO\n",
      "SUBTIPO\n",
      "ENERO\n",
      "FEBRERO\n",
      "MARZO\n",
      "ABRIL\n",
      "MAYO\n",
      "JUNIO\n",
      "JULIO\n",
      "AGOSTO\n",
      "SEPTIEMBRE\n",
      "OCTUBRE\n",
      "NOVIEMBRE\n",
      "DICIEMBRE\n"
     ]
    }
   ],
   "source": [
    "print('\\n'.join(sesnsp.columns))"
   ]
  },
  {
   "cell_type": "code",
   "execution_count": 10,
   "metadata": {
    "ExecuteTime": {
     "end_time": "2019-09-27T13:31:18.365498Z",
     "start_time": "2019-09-27T13:31:18.170789Z"
    },
    "cell_style": "split",
    "scrolled": true
   },
   "outputs": [
    {
     "data": {
      "text/plain": [
       "2     561\n",
       "3       1\n",
       "4     493\n",
       "5       4\n",
       "6      30\n",
       "7    1377\n",
       "dtype: int64"
      ]
     },
     "execution_count": 10,
     "metadata": {},
     "output_type": "execute_result"
    }
   ],
   "source": [
    "# cover how many years, \n",
    "# diff munic have different years of data\n",
    "sesnsp.groupby(['INEGI','AÑO']).size().groupby(\n",
    "    level=0).size().value_counts().sort_index()"
   ]
  },
  {
   "cell_type": "code",
   "execution_count": 11,
   "metadata": {
    "ExecuteTime": {
     "end_time": "2019-09-27T13:31:18.548748Z",
     "start_time": "2019-09-27T13:31:18.478555Z"
    },
    "cell_style": "split"
   },
   "outputs": [
    {
     "data": {
      "text/plain": [
       "66    12936\n",
       "dtype: int64"
      ]
     },
     "execution_count": 11,
     "metadata": {},
     "output_type": "execute_result"
    }
   ],
   "source": [
    "# all has 66 types of crimes\n",
    "sesnsp.groupby(['INEGI','AÑO']).size().value_counts()"
   ]
  },
  {
   "cell_type": "code",
   "execution_count": 12,
   "metadata": {
    "ExecuteTime": {
     "end_time": "2019-09-27T13:31:18.681557Z",
     "start_time": "2019-09-27T13:31:18.658360Z"
    },
    "cell_style": "split"
   },
   "outputs": [
    {
     "data": {
      "text/plain": [
       "1380"
      ]
     },
     "execution_count": 12,
     "metadata": {},
     "output_type": "execute_result"
    }
   ],
   "source": [
    "# how many municipio has data in 2011\n",
    "sesnsp[sesnsp['AÑO']==2011].INEGI.nunique()"
   ]
  },
  {
   "cell_type": "markdown",
   "metadata": {},
   "source": [
    "#  https://elcri.men/es/datos.html\n",
    "\n",
    "sources include SESNSP\n",
    "\n",
    "for the rows that have the same INEGI No. and crime tipo+subtipo, the crime counts are the same\n",
    "\n",
    "But there are some tipo that exists only in SESNSP but not elcri, because those rows sum to zero.\n",
    "\n",
    "So basically, elcri is the same as sesnsp"
   ]
  },
  {
   "cell_type": "code",
   "execution_count": 13,
   "metadata": {
    "ExecuteTime": {
     "end_time": "2019-09-27T13:31:31.553895Z",
     "start_time": "2019-09-27T13:31:18.788760Z"
    }
   },
   "outputs": [],
   "source": [
    "elcri = pd.read_csv(f'{crime_dir}/fuero-comun-municipios.csv.gz')"
   ]
  },
  {
   "cell_type": "code",
   "execution_count": 14,
   "metadata": {
    "ExecuteTime": {
     "end_time": "2019-09-27T13:31:35.819129Z",
     "start_time": "2019-09-27T13:31:31.699008Z"
    }
   },
   "outputs": [],
   "source": [
    "elcri['year'] = elcri.date.apply(lambda x: x.split('-')[0])"
   ]
  },
  {
   "cell_type": "code",
   "execution_count": 15,
   "metadata": {
    "ExecuteTime": {
     "end_time": "2019-09-27T13:31:41.361268Z",
     "start_time": "2019-09-27T13:31:37.493934Z"
    }
   },
   "outputs": [],
   "source": [
    "elcri['month'] = elcri.date.apply(lambda x: x.split('-')[1])"
   ]
  },
  {
   "cell_type": "code",
   "execution_count": 16,
   "metadata": {
    "ExecuteTime": {
     "end_time": "2019-09-27T13:31:44.891654Z",
     "start_time": "2019-09-27T13:31:41.885856Z"
    }
   },
   "outputs": [],
   "source": [
    "elcri2011 = elcri[elcri.year=='2011'].copy()"
   ]
  },
  {
   "cell_type": "code",
   "execution_count": 17,
   "metadata": {
    "ExecuteTime": {
     "end_time": "2019-09-27T13:32:14.532886Z",
     "start_time": "2019-09-27T13:31:45.350117Z"
    }
   },
   "outputs": [],
   "source": [
    "elcri2011['INEGI'] = elcri2011.apply(lambda x: f'{x.state_code:02}{x.mun_code:03}', axis=1)"
   ]
  },
  {
   "cell_type": "code",
   "execution_count": 18,
   "metadata": {
    "ExecuteTime": {
     "end_time": "2019-09-27T13:32:16.234595Z",
     "start_time": "2019-09-27T13:32:14.691530Z"
    }
   },
   "outputs": [],
   "source": [
    "elcri_pivot = elcri2011.pivot_table(values=['count'], columns=['month'], index=['state','municipio','modalidad','tipo','subtipo','INEGI'])\n",
    "elcri_pivot.columns = [c[1] for c in elcri_pivot.columns]\n",
    "elcri_pivot = elcri_pivot.reset_index()\n",
    "elcri_pivot = elcri_pivot.fillna(0)"
   ]
  },
  {
   "cell_type": "code",
   "execution_count": 19,
   "metadata": {
    "ExecuteTime": {
     "end_time": "2019-09-27T13:32:20.605957Z",
     "start_time": "2019-09-27T13:32:20.597842Z"
    }
   },
   "outputs": [
    {
     "data": {
      "text/plain": [
       "Index(['index', 'state', 'municipio', 'modalidad', 'tipo', 'subtipo', 'INEGI',\n",
       "       '01', '02', '03', '04', '05', '06', '07', '08', '09', '10', '11', '12'],\n",
       "      dtype='object')"
      ]
     },
     "execution_count": 19,
     "metadata": {},
     "output_type": "execute_result"
    }
   ],
   "source": [
    "elcri_pivot.reset_index().columns"
   ]
  },
  {
   "cell_type": "code",
   "execution_count": 20,
   "metadata": {
    "ExecuteTime": {
     "end_time": "2019-09-27T13:32:21.324771Z",
     "start_time": "2019-09-27T13:32:21.277405Z"
    }
   },
   "outputs": [],
   "source": [
    "sesnsp2011 = sesnsp[sesnsp['AÑO']==2011].copy()\n",
    "sesnsp2011 = sesnsp2011.fillna(0)"
   ]
  },
  {
   "cell_type": "code",
   "execution_count": 21,
   "metadata": {
    "ExecuteTime": {
     "end_time": "2019-09-27T13:32:21.835736Z",
     "start_time": "2019-09-27T13:32:21.756909Z"
    }
   },
   "outputs": [],
   "source": [
    "me = elcri_pivot.drop(['state','municipio'], axis=1).merge(sesnsp2011, left_on=['INEGI', 'modalidad', 'tipo', 'subtipo'], \n",
    "                                     right_on=['INEGI', 'MODALIDAD', 'TIPO', 'SUBTIPO',], how='outer')\n"
   ]
  },
  {
   "cell_type": "code",
   "execution_count": 22,
   "metadata": {
    "ExecuteTime": {
     "end_time": "2019-09-27T13:32:22.170317Z",
     "start_time": "2019-09-27T13:32:22.159118Z"
    }
   },
   "outputs": [
    {
     "data": {
      "text/plain": [
       "(66, 19)"
      ]
     },
     "execution_count": 22,
     "metadata": {},
     "output_type": "execute_result"
    }
   ],
   "source": [
    "sesnsp2011[sesnsp2011.INEGI=='02001'].shape"
   ]
  },
  {
   "cell_type": "code",
   "execution_count": 23,
   "metadata": {
    "ExecuteTime": {
     "end_time": "2019-09-27T13:32:22.648657Z",
     "start_time": "2019-09-27T13:32:22.637639Z"
    }
   },
   "outputs": [
    {
     "data": {
      "text/plain": [
       "(25, 18)"
      ]
     },
     "execution_count": 23,
     "metadata": {},
     "output_type": "execute_result"
    }
   ],
   "source": [
    "elcri_pivot[elcri_pivot.INEGI=='02001'].shape"
   ]
  },
  {
   "cell_type": "code",
   "execution_count": 24,
   "metadata": {
    "ExecuteTime": {
     "end_time": "2019-09-27T13:32:23.356725Z",
     "start_time": "2019-09-27T13:32:23.304378Z"
    }
   },
   "outputs": [
    {
     "data": {
      "text/plain": [
       "ENERO         0.0\n",
       "FEBRERO       0.0\n",
       "MARZO         0.0\n",
       "ABRIL         0.0\n",
       "MAYO          0.0\n",
       "JUNIO         0.0\n",
       "JULIO         0.0\n",
       "AGOSTO        0.0\n",
       "SEPTIEMBRE    0.0\n",
       "OCTUBRE       0.0\n",
       "NOVIEMBRE     0.0\n",
       "DICIEMBRE     0.0\n",
       "dtype: float64"
      ]
     },
     "execution_count": 24,
     "metadata": {},
     "output_type": "execute_result"
    }
   ],
   "source": [
    "# Each month has the same number of events\n",
    "me[(me[[\n",
    "    'ENERO', 'FEBRERO', 'MARZO', 'ABRIL', 'MAYO', 'JUNIO', 'JULIO', 'AGOSTO',\n",
    "    'SEPTIEMBRE', 'OCTUBRE', 'NOVIEMBRE', 'DICIEMBRE'\n",
    "]].values == me[[\n",
    "    '01', '02', '03', '04', '05', '06', '07', '08', '09', '10', '11', '12'\n",
    "]].values).mean(axis=1) != 1][[\n",
    "    'ENERO', 'FEBRERO', 'MARZO', 'ABRIL', 'MAYO', 'JUNIO', 'JULIO', 'AGOSTO',\n",
    "    'SEPTIEMBRE', 'OCTUBRE', 'NOVIEMBRE', 'DICIEMBRE'\n",
    "]].sum()"
   ]
  },
  {
   "cell_type": "code",
   "execution_count": null,
   "metadata": {},
   "outputs": [],
   "source": []
  }
 ],
 "metadata": {
  "kernelspec": {
   "display_name": "Python [conda env:mob2crime]",
   "language": "python",
   "name": "conda-env-mob2crime-py"
  },
  "language_info": {
   "codemirror_mode": {
    "name": "ipython",
    "version": 3
   },
   "file_extension": ".py",
   "mimetype": "text/x-python",
   "name": "python",
   "nbconvert_exporter": "python",
   "pygments_lexer": "ipython3",
   "version": "3.7.3"
  },
  "toc": {
   "base_numbering": 1,
   "nav_menu": {},
   "number_sections": true,
   "sideBar": true,
   "skip_h1_title": false,
   "title_cell": "Table of Contents",
   "title_sidebar": "Contents",
   "toc_cell": false,
   "toc_position": {},
   "toc_section_display": true,
   "toc_window_display": false
  },
  "varInspector": {
   "cols": {
    "lenName": 16,
    "lenType": 16,
    "lenVar": 40
   },
   "kernels_config": {
    "python": {
     "delete_cmd_postfix": "",
     "delete_cmd_prefix": "del ",
     "library": "var_list.py",
     "varRefreshCmd": "print(var_dic_list())"
    },
    "r": {
     "delete_cmd_postfix": ") ",
     "delete_cmd_prefix": "rm(",
     "library": "var_list.r",
     "varRefreshCmd": "cat(var_dic_list()) "
    }
   },
   "types_to_exclude": [
    "module",
    "function",
    "builtin_function_or_method",
    "instance",
    "_Feature"
   ],
   "window_display": false
  }
 },
 "nbformat": 4,
 "nbformat_minor": 2
}
