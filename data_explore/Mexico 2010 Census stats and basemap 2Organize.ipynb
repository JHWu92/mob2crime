{
 "cells": [
  {
   "cell_type": "code",
   "execution_count": 1,
   "metadata": {
    "ExecuteTime": {
     "end_time": "2019-09-27T02:05:10.008096Z",
     "start_time": "2019-09-27T02:05:09.997787Z"
    }
   },
   "outputs": [
    {
     "data": {
      "text/plain": [
       "'/mnt/d/1ResProj/mob2crime'"
      ]
     },
     "execution_count": 1,
     "metadata": {},
     "output_type": "execute_result"
    }
   ],
   "source": [
    "import os\n",
    "\n",
    "if not os.getcwd().endswith('mob2crime'):\n",
    "    os.chdir('..')\n",
    "os.getcwd()"
   ]
  },
  {
   "cell_type": "code",
   "execution_count": 8,
   "metadata": {
    "ExecuteTime": {
     "end_time": "2019-09-27T02:05:17.784044Z",
     "start_time": "2019-09-27T02:05:16.187611Z"
    }
   },
   "outputs": [],
   "source": [
    "import glob\n",
    "import pandas as pd\n",
    "import geopandas as gp\n",
    "%matplotlib inline\n",
    "import io"
   ]
  },
  {
   "cell_type": "code",
   "execution_count": 2,
   "metadata": {
    "ExecuteTime": {
     "end_time": "2019-09-27T02:05:10.248194Z",
     "start_time": "2019-09-27T02:05:10.241745Z"
    }
   },
   "outputs": [],
   "source": [
    "import src.mex as mex"
   ]
  },
  {
   "cell_type": "code",
   "execution_count": 3,
   "metadata": {
    "ExecuteTime": {
     "end_time": "2019-09-27T02:05:10.549267Z",
     "start_time": "2019-09-27T02:05:10.546798Z"
    }
   },
   "outputs": [],
   "source": [
    "folder = 'data/mexico/geography-socioeconomics/2010CensusGeography'"
   ]
  },
  {
   "cell_type": "code",
   "execution_count": 4,
   "metadata": {
    "ExecuteTime": {
     "end_time": "2019-09-27T02:05:10.635652Z",
     "start_time": "2019-09-27T02:05:10.627392Z"
    }
   },
   "outputs": [],
   "source": [
    "import gzip"
   ]
  },
  {
   "cell_type": "code",
   "execution_count": 5,
   "metadata": {
    "ExecuteTime": {
     "end_time": "2019-09-27T02:05:10.941093Z",
     "start_time": "2019-09-27T02:05:10.932235Z"
    }
   },
   "outputs": [],
   "source": [
    "import zipfile"
   ]
  },
  {
   "cell_type": "markdown",
   "metadata": {
    "heading_collapsed": true
   },
   "source": [
    "# organize Urban Ageb and Mza"
   ]
  },
  {
   "cell_type": "code",
   "execution_count": 7,
   "metadata": {
    "ExecuteTime": {
     "end_time": "2019-09-26T20:17:04.712261Z",
     "start_time": "2019-09-26T20:17:04.698243Z"
    },
    "hidden": true
   },
   "outputs": [],
   "source": [
    "urban_fns = glob.glob(f'{folder}/Urban/*.zip')"
   ]
  },
  {
   "cell_type": "code",
   "execution_count": 26,
   "metadata": {
    "ExecuteTime": {
     "end_time": "2019-09-26T20:21:46.935552Z",
     "start_time": "2019-09-26T20:21:41.809769Z"
    },
    "hidden": true
   },
   "outputs": [],
   "source": [
    "process_list = {}\n",
    "\n",
    "# loop over each file\n",
    "for i, fn in enumerate(urban_fns):\n",
    "    # open the file\n",
    "    with zipfile.ZipFile(fn) as z:\n",
    "        # each file could have multiple loc\n",
    "        for zfn in z.namelist():\n",
    "            if zfn.endswith('/'):\n",
    "                continue\n",
    "\n",
    "            zfn_split = zfn.split('/')\n",
    "            length = len(zfn_split)\n",
    "            loc_id_ftype_ext = zfn_split[-1]\n",
    "            ftype, ext = loc_id_ftype_ext[9:].split('.')\n",
    "            if ext!='shp':\n",
    "                continue\n",
    "            \n",
    "            loc_id = loc_id_ftype_ext[:9]\n",
    "\n",
    "            if loc_id not in process_list:\n",
    "                process_list[(loc_id,ftype)] = {'loc_id': loc_id, 'fn': fn,'zfn':zfn,'ftype':ftype}\n",
    "\n",
    "\n",
    "process_list = pd.DataFrame(process_list)\n",
    "process_list = process_list.T.reset_index(drop=True)"
   ]
  },
  {
   "cell_type": "code",
   "execution_count": 27,
   "metadata": {
    "ExecuteTime": {
     "end_time": "2019-09-26T20:21:47.691212Z",
     "start_time": "2019-09-26T20:21:47.673734Z"
    },
    "hidden": true
   },
   "outputs": [],
   "source": [
    "process_list['gp_path'] = 'zip://' + process_list.fn + '/' + process_list.zfn"
   ]
  },
  {
   "cell_type": "code",
   "execution_count": 28,
   "metadata": {
    "ExecuteTime": {
     "end_time": "2019-09-26T20:21:48.432721Z",
     "start_time": "2019-09-26T20:21:48.416897Z"
    },
    "hidden": true
   },
   "outputs": [],
   "source": [
    "process_list['mun_id'] = process_list.loc_id.apply(lambda x: x[:5])"
   ]
  },
  {
   "cell_type": "code",
   "execution_count": 35,
   "metadata": {
    "ExecuteTime": {
     "end_time": "2019-09-26T20:35:03.625596Z",
     "start_time": "2019-09-26T20:26:59.928512Z"
    },
    "hidden": true
   },
   "outputs": [],
   "source": [
    "target_type = 'A'\n",
    "sub_folder = 'UrbanAgeb'\n",
    "os.makedirs(f'{folder}/{sub_folder}', exist_ok=True)\n",
    "for mun_id, mun in process_list.groupby('mun_id'):\n",
    "    to_path = f'{folder}/{sub_folder}/{mun_id}.geojson.gz'\n",
    "    gpdfs  = mun[mun.ftype==target_type].gp_path.apply(lambda x: gp.read_file(x))\n",
    "    gpdf = pd.concat(gpdfs.tolist(), sort=False, ignore_index=True)\n",
    "    gpdf.crs = mex.crs\n",
    "    with gzip.open(to_path, 'wt') as fout:\n",
    "        fout.write(gpdf.to_crs(epsg=4326).to_json())\n"
   ]
  },
  {
   "cell_type": "code",
   "execution_count": 36,
   "metadata": {
    "ExecuteTime": {
     "end_time": "2019-09-26T20:48:52.357027Z",
     "start_time": "2019-09-26T20:35:03.698389Z"
    },
    "hidden": true
   },
   "outputs": [],
   "source": [
    "target_type = 'M'\n",
    "sub_folder = 'UrbanMza'\n",
    "os.makedirs(f'{folder}/{sub_folder}', exist_ok=True)\n",
    "for mun_id, mun in process_list.groupby('mun_id'):\n",
    "    to_path = f'{folder}/{sub_folder}/{mun_id}.geojson.gz'\n",
    "    gpdfs  = mun[mun.ftype==target_type].gp_path.apply(lambda x: gp.read_file(x))\n",
    "    gpdf = pd.concat(gpdfs.tolist(), sort=False, ignore_index=True)\n",
    "    gpdf.crs = mex.crs\n",
    "    with gzip.open(to_path, 'wt') as fout:\n",
    "        fout.write(gpdf.to_crs(epsg=4326).to_json())\n"
   ]
  },
  {
   "cell_type": "markdown",
   "metadata": {},
   "source": [
    "# organize Rural Ageb and Mza"
   ]
  },
  {
   "cell_type": "code",
   "execution_count": 38,
   "metadata": {
    "ExecuteTime": {
     "end_time": "2019-09-26T21:09:14.507120Z",
     "start_time": "2019-09-26T21:09:14.495538Z"
    }
   },
   "outputs": [],
   "source": [
    "rural_fns = glob.glob(f'{folder}/Rural/*.zip')"
   ]
  },
  {
   "cell_type": "code",
   "execution_count": 39,
   "metadata": {
    "ExecuteTime": {
     "end_time": "2019-09-26T21:09:45.023431Z",
     "start_time": "2019-09-26T21:09:14.655877Z"
    }
   },
   "outputs": [],
   "source": [
    "process_list = {}\n",
    "\n",
    "# loop over each file\n",
    "for i, fn in enumerate(rural_fns):\n",
    "    # open the file\n",
    "    with zipfile.ZipFile(fn) as z:\n",
    "        # each file could have multiple loc\n",
    "        for zfn in z.namelist():\n",
    "            if zfn.endswith('/'):\n",
    "                continue\n",
    "\n",
    "            zfn_split = zfn.split('/')\n",
    "            length = len(zfn_split)\n",
    "            loc_id_ftype_ext = zfn_split[-1]\n",
    "            ftype, ext = loc_id_ftype_ext[9:].split('.')\n",
    "            if ext!='shp':\n",
    "                continue\n",
    "            \n",
    "            loc_id = loc_id_ftype_ext[:9]\n",
    "\n",
    "            if loc_id not in process_list:\n",
    "                process_list[(loc_id,ftype)] = {'loc_id': loc_id, 'fn': fn,'zfn':zfn,'ftype':ftype}\n",
    "\n",
    "\n",
    "process_list = pd.DataFrame(process_list)\n",
    "process_list = process_list.T.reset_index(drop=True)"
   ]
  },
  {
   "cell_type": "code",
   "execution_count": 40,
   "metadata": {
    "ExecuteTime": {
     "end_time": "2019-09-26T21:09:45.213360Z",
     "start_time": "2019-09-26T21:09:45.106473Z"
    }
   },
   "outputs": [],
   "source": [
    "process_list['gp_path'] = 'zip://' + process_list.fn + '/' + process_list.zfn"
   ]
  },
  {
   "cell_type": "code",
   "execution_count": 41,
   "metadata": {
    "ExecuteTime": {
     "end_time": "2019-09-26T21:09:45.369530Z",
     "start_time": "2019-09-26T21:09:45.306172Z"
    }
   },
   "outputs": [],
   "source": [
    "process_list['mun_id'] = process_list.loc_id.apply(lambda x: x[:5])"
   ]
  },
  {
   "cell_type": "code",
   "execution_count": 44,
   "metadata": {
    "ExecuteTime": {
     "end_time": "2019-09-26T22:10:22.124217Z",
     "start_time": "2019-09-26T22:10:22.121659Z"
    }
   },
   "outputs": [],
   "source": [
    "import glob"
   ]
  },
  {
   "cell_type": "code",
   "execution_count": 49,
   "metadata": {
    "ExecuteTime": {
     "end_time": "2019-09-26T22:11:13.506266Z",
     "start_time": "2019-09-26T22:11:13.498137Z"
    }
   },
   "outputs": [],
   "source": []
  },
  {
   "cell_type": "code",
   "execution_count": 55,
   "metadata": {
    "ExecuteTime": {
     "end_time": "2019-09-26T22:32:19.976283Z",
     "start_time": "2019-09-26T22:22:43.446459Z"
    }
   },
   "outputs": [
    {
     "name": "stdout",
     "output_type": "stream",
     "text": [
      "16031 zip://data/mexico/geography-socioeconomics/2010CensusGeography/Rural/702825566197_s.zip/160310055/160310055L.shp A LinearRing must have at least 3 coordinate tuples\n",
      "16061 zip://data/mexico/geography-socioeconomics/2010CensusGeography/Rural/702825566494_s.zip/160610029/160610029L.shp A LinearRing must have at least 3 coordinate tuples\n",
      "16063 zip://data/mexico/geography-socioeconomics/2010CensusGeography/Rural/702825566517_s.zip/160630012/160630012L.shp A LinearRing must have at least 3 coordinate tuples\n"
     ]
    }
   ],
   "source": [
    "target_type = 'L'\n",
    "sub_folder = 'RuralAgeb'\n",
    "os.makedirs(f'{folder}/{sub_folder}', exist_ok=True)\n",
    "exist_mun_ids = set([fn.split('/')[-1][:5] for fn in glob.glob(f'{folder}/{sub_folder}/*')])\n",
    "\n",
    "for mun_id, mun in process_list.groupby('mun_id'):\n",
    "    if mun_id in exist_mun_ids: continue\n",
    "    to_path = f'{folder}/{sub_folder}/{mun_id}.geojson.gz'\n",
    "    gpdfs = []\n",
    "    for gp_path in mun[mun.ftype==target_type].gp_path:\n",
    "        try:\n",
    "            gpdfs.append(gp.read_file(gp_path))\n",
    "        except ValueError as e:\n",
    "            print(mun_id, gp_path, e)\n",
    "#         gpdfs  = mun[mun.ftype==target_type].gp_path.apply(lambda x: gp.read_file(x))\n",
    "    gpdf = pd.concat(gpdfs, sort=False, ignore_index=True)\n",
    "    gpdf.crs = mex.crs\n",
    "    with gzip.open(to_path, 'wt') as fout:\n",
    "        fout.write(gpdf.to_crs(epsg=4326).to_json())\n"
   ]
  },
  {
   "cell_type": "code",
   "execution_count": 72,
   "metadata": {
    "ExecuteTime": {
     "end_time": "2019-09-26T23:23:25.867246Z",
     "start_time": "2019-09-26T23:01:26.278252Z"
    }
   },
   "outputs": [
    {
     "name": "stdout",
     "output_type": "stream",
     "text": [
      "04006 zip://data/mexico/geography-socioeconomics/2010CensusGeography/Rural/702825558345_s.zip/040060675/040060675M.shp A LinearRing must have at least 3 coordinate tuples\n",
      "05011 zip://data/mexico/geography-socioeconomics/2010CensusGeography/Rural/702825558505_s.zip/050110065/050110065M.shp A LinearRing must have at least 3 coordinate tuples\n",
      "10007 zip://data/mexico/geography-socioeconomics/2010CensusGeography/Rural/702825560959_s.zip/100070058/100070058M.shp A LinearRing must have at least 3 coordinate tuples\n",
      "10007 zip://data/mexico/geography-socioeconomics/2010CensusGeography/Rural/702825560959_s.zip/100070067/100070067M.shp A LinearRing must have at least 3 coordinate tuples\n",
      "10017 zip://data/mexico/geography-socioeconomics/2010CensusGeography/Rural/702825561055_s.zip/100170064/100170064M.shp A LinearRing must have at least 3 coordinate tuples\n",
      "10018 zip://data/mexico/geography-socioeconomics/2010CensusGeography/Rural/702825561062_s.zip/100180013/100180013M.shp A LinearRing must have at least 3 coordinate tuples\n",
      "10018 zip://data/mexico/geography-socioeconomics/2010CensusGeography/Rural/702825561062_s.zip/100180042/100180042M.shp A LinearRing must have at least 3 coordinate tuples\n",
      "10031 zip://data/mexico/geography-socioeconomics/2010CensusGeography/Rural/702825561192_s.zip/100310010/100310010M.shp A LinearRing must have at least 3 coordinate tuples\n",
      "13076 ['1307600400063008']\n",
      "15062 zip://data/mexico/geography-socioeconomics/2010CensusGeography/Rural/702825565251_s.zip/150620007/150620007M.shp A LinearRing must have at least 3 coordinate tuples\n",
      "15084 zip://data/mexico/geography-socioeconomics/2010CensusGeography/Rural/702825565473_s.zip/150840020/150840020M.shp A LinearRing must have at least 3 coordinate tuples\n",
      "15095 zip://data/mexico/geography-socioeconomics/2010CensusGeography/Rural/702825565589_s.zip/150950072/150950072M.shp A LinearRing must have at least 3 coordinate tuples\n",
      "15110 zip://data/mexico/geography-socioeconomics/2010CensusGeography/Rural/702825565732_s.zip/151100088/151100088M.shp A LinearRing must have at least 3 coordinate tuples\n",
      "15112 zip://data/mexico/geography-socioeconomics/2010CensusGeography/Rural/702825565756_s.zip/151120046/151120046M.shp A LinearRing must have at least 3 coordinate tuples\n",
      "18010 zip://data/mexico/geography-socioeconomics/2010CensusGeography/Rural/702825567446_s.zip/180100064/180100064M.shp A LinearRing must have at least 3 coordinate tuples\n",
      "20064 zip://data/mexico/geography-socioeconomics/2010CensusGeography/Rural/702825568696_s.zip/200640004/200640004M.shp A LinearRing must have at least 3 coordinate tuples\n",
      "22011 zip://data/mexico/geography-socioeconomics/2010CensusGeography/Rural/702825576035_s.zip/220110443/220110443M.shp A LinearRing must have at least 3 coordinate tuples\n",
      "22013 zip://data/mexico/geography-socioeconomics/2010CensusGeography/Rural/702825576059_s.zip/220130053/220130053M.shp A LinearRing must have at least 3 coordinate tuples\n",
      "22014 zip://data/mexico/geography-socioeconomics/2010CensusGeography/Rural/702825576066_s.zip/220140307/220140307M.shp A LinearRing must have at least 3 coordinate tuples\n",
      "24055 zip://data/mexico/geography-socioeconomics/2010CensusGeography/Rural/702825576745_s.zip/240550005/240550005M.shp A LinearRing must have at least 3 coordinate tuples\n",
      "25007 zip://data/mexico/geography-socioeconomics/2010CensusGeography/Rural/702825576844_s.zip/250070131/250070131M.shp A LinearRing must have at least 3 coordinate tuples\n",
      "31006 zip://data/mexico/geography-socioeconomics/2010CensusGeography/Rural/702825581053_s.zip/310060003/310060003M.shp A LinearRing must have at least 3 coordinate tuples\n"
     ]
    }
   ],
   "source": [
    "target_type = 'M'\n",
    "sub_folder = 'RuralMza'\n",
    "os.makedirs(f'{folder}/{sub_folder}', exist_ok=True)\n",
    "exist_mun_ids = set([fn.split('/')[-1][:5] for fn in glob.glob(f'{folder}/{sub_folder}/*')])\n",
    "\n",
    "for mun_id, mun in process_list.groupby('mun_id'):\n",
    "    if mun_id in exist_mun_ids: continue\n",
    "    to_path = f'{folder}/{sub_folder}/{mun_id}.geojson.gz'\n",
    "    gpdfs = []\n",
    "    for gp_path in mun[mun.ftype==target_type].gp_path:\n",
    "        try:\n",
    "            gpdfs.append(gp.read_file(gp_path))\n",
    "        except Exception as e:\n",
    "            print(mun_id, gp_path, e)\n",
    "#         gpdfs  = mun[mun.ftype==target_type].gp_path.apply(lambda x: gp.read_file(x))\n",
    "    gpdf = pd.concat(gpdfs, sort=False, ignore_index=True)\n",
    "    gpdf.crs = mex.crs\n",
    "    \n",
    "    geom_null = gpdf.geometry.isnull()\n",
    "    \n",
    "    if geom_null.sum()!=0:\n",
    "        print(mun_id, gpdf[geom_null].CVEGEO.tolist())\n",
    "        gpdf = gpdf[~gpdf.geometry.isnull()]\n",
    "    \n",
    "    with gzip.open(to_path, 'wt') as fout:\n",
    "        fout.write(gpdf.to_crs(epsg=4326).to_json())\n",
    "\n"
   ]
  },
  {
   "cell_type": "markdown",
   "metadata": {},
   "source": [
    "# organize Census"
   ]
  },
  {
   "cell_type": "code",
   "execution_count": 6,
   "metadata": {
    "ExecuteTime": {
     "end_time": "2019-09-27T02:05:12.214638Z",
     "start_time": "2019-09-27T02:05:12.212082Z"
    }
   },
   "outputs": [],
   "source": [
    "folder_census = 'data/mexico/geography-socioeconomics/2010Census/'"
   ]
  },
  {
   "cell_type": "markdown",
   "metadata": {},
   "source": [
    "loc level across the country"
   ]
  },
  {
   "cell_type": "code",
   "execution_count": 9,
   "metadata": {
    "ExecuteTime": {
     "end_time": "2019-09-27T02:05:25.724036Z",
     "start_time": "2019-09-27T02:05:19.788202Z"
    }
   },
   "outputs": [],
   "source": [
    "iter_nal = pd.read_csv(f'{folder_census}/National_loc_level/conjunto_de_datos/iter_00_cpv2010.csv', dtype={'entidad': str, 'mun': str, 'loc':str})"
   ]
  },
  {
   "cell_type": "code",
   "execution_count": 10,
   "metadata": {
    "ExecuteTime": {
     "end_time": "2019-09-27T02:05:26.282386Z",
     "start_time": "2019-09-27T02:05:26.223117Z"
    }
   },
   "outputs": [],
   "source": [
    "iter_nal['loc_id'] = iter_nal.entidad + iter_nal.mun + iter_nal['loc']"
   ]
  },
  {
   "cell_type": "markdown",
   "metadata": {},
   "source": [
    "MZA level for urban area\n",
    "\n",
    "can be downloaded by the exe file\n",
    "\n",
    "https://www.inegi.org.mx/programas/ccpv/2010/default.html"
   ]
  },
  {
   "cell_type": "code",
   "execution_count": 11,
   "metadata": {
    "ExecuteTime": {
     "end_time": "2019-09-27T02:05:26.938844Z",
     "start_time": "2019-09-27T02:05:26.934735Z"
    }
   },
   "outputs": [],
   "source": [
    "fns = glob.glob(f'{folder_census}/Urban_Mza_level/*')"
   ]
  },
  {
   "cell_type": "code",
   "execution_count": 12,
   "metadata": {
    "ExecuteTime": {
     "end_time": "2019-09-27T02:06:07.532257Z",
     "start_time": "2019-09-27T02:05:27.610516Z"
    },
    "scrolled": true
   },
   "outputs": [],
   "source": [
    "urb_mza_census = []\n",
    "for fn in fns:\n",
    "    with zipfile.ZipFile(fn) as zf:\n",
    "        zfns = zf.namelist()\n",
    "        for zfn in zfns:\n",
    "            if 'conjunto_de_datos' in zfn and zfn.endswith('csv'):\n",
    "                break\n",
    "        csv = zf.read(zfn)\n",
    "        csv = io.BytesIO(csv)    \n",
    "        data = pd.read_csv(csv, dtype={'entidad': str, 'mun': str, 'loc':str, 'ageb':str, 'mza':str})\n",
    "        data['loc_id'] = data.entidad + data.mun+data['loc']        \n",
    "        urb_mza_census.append(data)"
   ]
  },
  {
   "cell_type": "markdown",
   "metadata": {},
   "source": [
    "## all loc_id in urb_mza is in iter_nal"
   ]
  },
  {
   "cell_type": "code",
   "execution_count": 13,
   "metadata": {
    "ExecuteTime": {
     "end_time": "2019-09-27T02:06:24.826446Z",
     "start_time": "2019-09-27T02:06:13.850088Z"
    },
    "collapsed": true
   },
   "outputs": [
    {
     "name": "stdout",
     "output_type": "stream",
     "text": [
      "set() 61\n",
      "set() 214\n",
      "set() 358\n",
      "set() 597\n",
      "set() 842\n",
      "set() 1307\n",
      "set() 1528\n",
      "set() 1619\n",
      "set() 1668\n",
      "set() 1748\n",
      "set() 1777\n",
      "set() 2386\n",
      "set() 2779\n",
      "set() 2861\n",
      "set() 2887\n",
      "set() 2967\n",
      "set() 3057\n",
      "set() 3161\n",
      "set() 3256\n",
      "set() 3319\n",
      "set() 3445\n",
      "set() 3506\n",
      "set() 3874\n",
      "set() 4001\n",
      "set() 4087\n",
      "set() 4105\n",
      "set() 4137\n",
      "set() 4195\n",
      "set() 4215\n",
      "set() 4403\n",
      "set() 4492\n",
      "set() 4525\n"
     ]
    }
   ],
   "source": [
    "\n",
    "urban_loc_id = set()\n",
    "for data in urb_mza_census:\n",
    "    ent = data.entidad.iloc[0]\n",
    "    urban_loc_id.update(data[data.mza!='000'].loc_id.tolist())\n",
    "    print(set(data.loc_id) - set(iter_nal[iter_nal.entidad==ent].loc_id), len(urban_loc_id))\n"
   ]
  },
  {
   "cell_type": "code",
   "execution_count": 14,
   "metadata": {
    "ExecuteTime": {
     "end_time": "2019-09-27T02:06:30.546923Z",
     "start_time": "2019-09-27T02:06:30.115438Z"
    }
   },
   "outputs": [],
   "source": [
    "iter_nal_rural = iter_nal[~iter_nal.loc_id.isin(urban_loc_id)]"
   ]
  },
  {
   "cell_type": "markdown",
   "metadata": {},
   "source": [
    "## summary rows\n",
    "in mza urban, rows with mza==000 are all summaries. ageb and localidad summary are urban\n",
    "\n",
    "in loc national level, rows with loc==0000 are summaries, loc==9998and9999 are two different types of summaries\n",
    "\n",
    "mun summaries and ent = urban + rural\n",
    "\n"
   ]
  },
  {
   "cell_type": "code",
   "execution_count": 15,
   "metadata": {
    "ExecuteTime": {
     "end_time": "2019-09-27T02:06:42.908641Z",
     "start_time": "2019-09-27T02:06:36.287586Z"
    },
    "code_folding": [
     1
    ]
   },
   "outputs": [],
   "source": [
    "all_match = []\n",
    "for data in urb_mza_census:\n",
    "    ent = data.entidad.iloc[0]\n",
    "    data_no_total = data[data.mza!='000']\n",
    "    \n",
    "    ent_rural_no_total = iter_nal_rural[\n",
    "        (~iter_nal_rural['loc'].isin(['0000', '9999','9998'])) & \n",
    "        (iter_nal_rural.entidad==ent)\n",
    "    ]\n",
    "    match = {}\n",
    "\n",
    "    data_man_mza_sum = data_no_total.groupby(['entidad', 'mun', 'loc', 'ageb']).pobtot.sum()\n",
    "    data_mza_sum = data[data.nom_loc=='Total AGEB urbana'].groupby(['entidad', 'mun', 'loc', 'ageb']).pobtot.sum()\n",
    "    match['mza'] = (data_mza_sum == data_man_mza_sum).mean()\n",
    "\n",
    "    data_man_ageb_sum = data_no_total.groupby(['entidad', 'mun', 'loc']).pobtot.sum()\n",
    "    data_ageb_sum = data[data.nom_loc=='Total de la localidad urbana'].groupby(['entidad', 'mun', 'loc']).pobtot.sum()\n",
    "    match['ageb'] = (data_ageb_sum == data_man_ageb_sum).mean()\n",
    "\n",
    "    data_man_mun_sum = data_no_total.groupby(['entidad', 'mun']).pobtot.sum()\n",
    "    data_mun_sum = data[(data.nom_loc=='Total del municipio') | (data.nom_loc=='Total del Municipio')].groupby(['entidad', 'mun']).pobtot.sum()\n",
    "    match['mun'] = (data_mun_sum == data_man_mun_sum).mean()\n",
    "    \n",
    "    mun_sum_rural = ent_rural_no_total.groupby(['entidad', 'mun']).pobtot.sum()\n",
    "    match['mun+rural'] = (data_man_mun_sum.add(mun_sum_rural,fill_value=0) == data_mun_sum).mean()\n",
    "\n",
    "\n",
    "    data_man_ent_sum = data_no_total.groupby(['entidad']).pobtot.sum()\n",
    "    data_ent_sum = data[(data.nom_loc=='Total de la entidad')| (data.nom_loc=='Total de la Entidad')].groupby(['entidad']).pobtot.sum()\n",
    "    match['ent'] = (data_man_ent_sum == data_ent_sum).iloc[0]\n",
    "    ent_sum_rural = ent_rural_no_total.groupby(['entidad']).pobtot.sum()\n",
    "    match['ent+rural'] = ((data_man_ent_sum+ent_sum_rural) == data_ent_sum).mean()\n",
    "    \n",
    "    all_match.append(match)\n"
   ]
  },
  {
   "cell_type": "code",
   "execution_count": 16,
   "metadata": {
    "ExecuteTime": {
     "end_time": "2019-09-27T02:06:48.903336Z",
     "start_time": "2019-09-27T02:06:48.883154Z"
    },
    "collapsed": true
   },
   "outputs": [
    {
     "data": {
      "text/html": [
       "<div>\n",
       "<style scoped>\n",
       "    .dataframe tbody tr th:only-of-type {\n",
       "        vertical-align: middle;\n",
       "    }\n",
       "\n",
       "    .dataframe tbody tr th {\n",
       "        vertical-align: top;\n",
       "    }\n",
       "\n",
       "    .dataframe thead th {\n",
       "        text-align: right;\n",
       "    }\n",
       "</style>\n",
       "<table border=\"1\" class=\"dataframe\">\n",
       "  <thead>\n",
       "    <tr style=\"text-align: right;\">\n",
       "      <th></th>\n",
       "      <th>mza</th>\n",
       "      <th>ageb</th>\n",
       "      <th>mun</th>\n",
       "      <th>mun+rural</th>\n",
       "      <th>ent</th>\n",
       "      <th>ent+rural</th>\n",
       "    </tr>\n",
       "  </thead>\n",
       "  <tbody>\n",
       "    <tr>\n",
       "      <td>0</td>\n",
       "      <td>1.0</td>\n",
       "      <td>1.0</td>\n",
       "      <td>0.000000</td>\n",
       "      <td>1.0</td>\n",
       "      <td>False</td>\n",
       "      <td>1.0</td>\n",
       "    </tr>\n",
       "    <tr>\n",
       "      <td>1</td>\n",
       "      <td>1.0</td>\n",
       "      <td>1.0</td>\n",
       "      <td>0.000000</td>\n",
       "      <td>1.0</td>\n",
       "      <td>False</td>\n",
       "      <td>1.0</td>\n",
       "    </tr>\n",
       "    <tr>\n",
       "      <td>2</td>\n",
       "      <td>1.0</td>\n",
       "      <td>1.0</td>\n",
       "      <td>0.000000</td>\n",
       "      <td>1.0</td>\n",
       "      <td>False</td>\n",
       "      <td>1.0</td>\n",
       "    </tr>\n",
       "    <tr>\n",
       "      <td>3</td>\n",
       "      <td>1.0</td>\n",
       "      <td>1.0</td>\n",
       "      <td>0.000000</td>\n",
       "      <td>1.0</td>\n",
       "      <td>False</td>\n",
       "      <td>1.0</td>\n",
       "    </tr>\n",
       "    <tr>\n",
       "      <td>4</td>\n",
       "      <td>1.0</td>\n",
       "      <td>1.0</td>\n",
       "      <td>0.000000</td>\n",
       "      <td>1.0</td>\n",
       "      <td>False</td>\n",
       "      <td>1.0</td>\n",
       "    </tr>\n",
       "    <tr>\n",
       "      <td>5</td>\n",
       "      <td>1.0</td>\n",
       "      <td>1.0</td>\n",
       "      <td>0.008000</td>\n",
       "      <td>1.0</td>\n",
       "      <td>False</td>\n",
       "      <td>1.0</td>\n",
       "    </tr>\n",
       "    <tr>\n",
       "      <td>6</td>\n",
       "      <td>1.0</td>\n",
       "      <td>1.0</td>\n",
       "      <td>0.000000</td>\n",
       "      <td>1.0</td>\n",
       "      <td>False</td>\n",
       "      <td>1.0</td>\n",
       "    </tr>\n",
       "    <tr>\n",
       "      <td>7</td>\n",
       "      <td>1.0</td>\n",
       "      <td>1.0</td>\n",
       "      <td>0.000000</td>\n",
       "      <td>1.0</td>\n",
       "      <td>False</td>\n",
       "      <td>1.0</td>\n",
       "    </tr>\n",
       "    <tr>\n",
       "      <td>8</td>\n",
       "      <td>1.0</td>\n",
       "      <td>1.0</td>\n",
       "      <td>0.000000</td>\n",
       "      <td>1.0</td>\n",
       "      <td>False</td>\n",
       "      <td>1.0</td>\n",
       "    </tr>\n",
       "    <tr>\n",
       "      <td>9</td>\n",
       "      <td>1.0</td>\n",
       "      <td>1.0</td>\n",
       "      <td>0.019608</td>\n",
       "      <td>1.0</td>\n",
       "      <td>False</td>\n",
       "      <td>1.0</td>\n",
       "    </tr>\n",
       "    <tr>\n",
       "      <td>10</td>\n",
       "      <td>1.0</td>\n",
       "      <td>1.0</td>\n",
       "      <td>0.000000</td>\n",
       "      <td>1.0</td>\n",
       "      <td>False</td>\n",
       "      <td>1.0</td>\n",
       "    </tr>\n",
       "    <tr>\n",
       "      <td>11</td>\n",
       "      <td>1.0</td>\n",
       "      <td>1.0</td>\n",
       "      <td>0.059649</td>\n",
       "      <td>1.0</td>\n",
       "      <td>False</td>\n",
       "      <td>1.0</td>\n",
       "    </tr>\n",
       "    <tr>\n",
       "      <td>12</td>\n",
       "      <td>1.0</td>\n",
       "      <td>1.0</td>\n",
       "      <td>0.018433</td>\n",
       "      <td>1.0</td>\n",
       "      <td>False</td>\n",
       "      <td>1.0</td>\n",
       "    </tr>\n",
       "    <tr>\n",
       "      <td>13</td>\n",
       "      <td>1.0</td>\n",
       "      <td>1.0</td>\n",
       "      <td>0.000000</td>\n",
       "      <td>1.0</td>\n",
       "      <td>False</td>\n",
       "      <td>1.0</td>\n",
       "    </tr>\n",
       "    <tr>\n",
       "      <td>14</td>\n",
       "      <td>1.0</td>\n",
       "      <td>1.0</td>\n",
       "      <td>0.000000</td>\n",
       "      <td>1.0</td>\n",
       "      <td>False</td>\n",
       "      <td>1.0</td>\n",
       "    </tr>\n",
       "    <tr>\n",
       "      <td>15</td>\n",
       "      <td>1.0</td>\n",
       "      <td>1.0</td>\n",
       "      <td>0.000000</td>\n",
       "      <td>1.0</td>\n",
       "      <td>False</td>\n",
       "      <td>1.0</td>\n",
       "    </tr>\n",
       "    <tr>\n",
       "      <td>16</td>\n",
       "      <td>1.0</td>\n",
       "      <td>1.0</td>\n",
       "      <td>0.000000</td>\n",
       "      <td>1.0</td>\n",
       "      <td>False</td>\n",
       "      <td>1.0</td>\n",
       "    </tr>\n",
       "    <tr>\n",
       "      <td>17</td>\n",
       "      <td>1.0</td>\n",
       "      <td>1.0</td>\n",
       "      <td>0.013889</td>\n",
       "      <td>1.0</td>\n",
       "      <td>False</td>\n",
       "      <td>1.0</td>\n",
       "    </tr>\n",
       "    <tr>\n",
       "      <td>18</td>\n",
       "      <td>1.0</td>\n",
       "      <td>1.0</td>\n",
       "      <td>0.000000</td>\n",
       "      <td>1.0</td>\n",
       "      <td>False</td>\n",
       "      <td>1.0</td>\n",
       "    </tr>\n",
       "    <tr>\n",
       "      <td>19</td>\n",
       "      <td>1.0</td>\n",
       "      <td>1.0</td>\n",
       "      <td>0.046512</td>\n",
       "      <td>1.0</td>\n",
       "      <td>False</td>\n",
       "      <td>1.0</td>\n",
       "    </tr>\n",
       "    <tr>\n",
       "      <td>20</td>\n",
       "      <td>1.0</td>\n",
       "      <td>1.0</td>\n",
       "      <td>0.066667</td>\n",
       "      <td>1.0</td>\n",
       "      <td>False</td>\n",
       "      <td>1.0</td>\n",
       "    </tr>\n",
       "    <tr>\n",
       "      <td>21</td>\n",
       "      <td>1.0</td>\n",
       "      <td>1.0</td>\n",
       "      <td>0.000000</td>\n",
       "      <td>1.0</td>\n",
       "      <td>False</td>\n",
       "      <td>1.0</td>\n",
       "    </tr>\n",
       "    <tr>\n",
       "      <td>22</td>\n",
       "      <td>1.0</td>\n",
       "      <td>1.0</td>\n",
       "      <td>0.000000</td>\n",
       "      <td>1.0</td>\n",
       "      <td>False</td>\n",
       "      <td>1.0</td>\n",
       "    </tr>\n",
       "    <tr>\n",
       "      <td>23</td>\n",
       "      <td>1.0</td>\n",
       "      <td>1.0</td>\n",
       "      <td>0.018868</td>\n",
       "      <td>1.0</td>\n",
       "      <td>False</td>\n",
       "      <td>1.0</td>\n",
       "    </tr>\n",
       "    <tr>\n",
       "      <td>24</td>\n",
       "      <td>1.0</td>\n",
       "      <td>1.0</td>\n",
       "      <td>0.000000</td>\n",
       "      <td>1.0</td>\n",
       "      <td>False</td>\n",
       "      <td>1.0</td>\n",
       "    </tr>\n",
       "    <tr>\n",
       "      <td>25</td>\n",
       "      <td>1.0</td>\n",
       "      <td>1.0</td>\n",
       "      <td>0.000000</td>\n",
       "      <td>1.0</td>\n",
       "      <td>False</td>\n",
       "      <td>1.0</td>\n",
       "    </tr>\n",
       "    <tr>\n",
       "      <td>26</td>\n",
       "      <td>1.0</td>\n",
       "      <td>1.0</td>\n",
       "      <td>0.000000</td>\n",
       "      <td>1.0</td>\n",
       "      <td>False</td>\n",
       "      <td>1.0</td>\n",
       "    </tr>\n",
       "    <tr>\n",
       "      <td>27</td>\n",
       "      <td>1.0</td>\n",
       "      <td>1.0</td>\n",
       "      <td>0.000000</td>\n",
       "      <td>1.0</td>\n",
       "      <td>False</td>\n",
       "      <td>1.0</td>\n",
       "    </tr>\n",
       "    <tr>\n",
       "      <td>28</td>\n",
       "      <td>1.0</td>\n",
       "      <td>1.0</td>\n",
       "      <td>0.000000</td>\n",
       "      <td>1.0</td>\n",
       "      <td>False</td>\n",
       "      <td>1.0</td>\n",
       "    </tr>\n",
       "    <tr>\n",
       "      <td>29</td>\n",
       "      <td>1.0</td>\n",
       "      <td>1.0</td>\n",
       "      <td>0.000000</td>\n",
       "      <td>1.0</td>\n",
       "      <td>False</td>\n",
       "      <td>1.0</td>\n",
       "    </tr>\n",
       "    <tr>\n",
       "      <td>30</td>\n",
       "      <td>1.0</td>\n",
       "      <td>1.0</td>\n",
       "      <td>0.000000</td>\n",
       "      <td>1.0</td>\n",
       "      <td>False</td>\n",
       "      <td>1.0</td>\n",
       "    </tr>\n",
       "    <tr>\n",
       "      <td>31</td>\n",
       "      <td>1.0</td>\n",
       "      <td>1.0</td>\n",
       "      <td>0.562500</td>\n",
       "      <td>1.0</td>\n",
       "      <td>False</td>\n",
       "      <td>1.0</td>\n",
       "    </tr>\n",
       "  </tbody>\n",
       "</table>\n",
       "</div>"
      ],
      "text/plain": [
       "    mza  ageb       mun  mun+rural    ent  ent+rural\n",
       "0   1.0   1.0  0.000000        1.0  False        1.0\n",
       "1   1.0   1.0  0.000000        1.0  False        1.0\n",
       "2   1.0   1.0  0.000000        1.0  False        1.0\n",
       "3   1.0   1.0  0.000000        1.0  False        1.0\n",
       "4   1.0   1.0  0.000000        1.0  False        1.0\n",
       "5   1.0   1.0  0.008000        1.0  False        1.0\n",
       "6   1.0   1.0  0.000000        1.0  False        1.0\n",
       "7   1.0   1.0  0.000000        1.0  False        1.0\n",
       "8   1.0   1.0  0.000000        1.0  False        1.0\n",
       "9   1.0   1.0  0.019608        1.0  False        1.0\n",
       "10  1.0   1.0  0.000000        1.0  False        1.0\n",
       "11  1.0   1.0  0.059649        1.0  False        1.0\n",
       "12  1.0   1.0  0.018433        1.0  False        1.0\n",
       "13  1.0   1.0  0.000000        1.0  False        1.0\n",
       "14  1.0   1.0  0.000000        1.0  False        1.0\n",
       "15  1.0   1.0  0.000000        1.0  False        1.0\n",
       "16  1.0   1.0  0.000000        1.0  False        1.0\n",
       "17  1.0   1.0  0.013889        1.0  False        1.0\n",
       "18  1.0   1.0  0.000000        1.0  False        1.0\n",
       "19  1.0   1.0  0.046512        1.0  False        1.0\n",
       "20  1.0   1.0  0.066667        1.0  False        1.0\n",
       "21  1.0   1.0  0.000000        1.0  False        1.0\n",
       "22  1.0   1.0  0.000000        1.0  False        1.0\n",
       "23  1.0   1.0  0.018868        1.0  False        1.0\n",
       "24  1.0   1.0  0.000000        1.0  False        1.0\n",
       "25  1.0   1.0  0.000000        1.0  False        1.0\n",
       "26  1.0   1.0  0.000000        1.0  False        1.0\n",
       "27  1.0   1.0  0.000000        1.0  False        1.0\n",
       "28  1.0   1.0  0.000000        1.0  False        1.0\n",
       "29  1.0   1.0  0.000000        1.0  False        1.0\n",
       "30  1.0   1.0  0.000000        1.0  False        1.0\n",
       "31  1.0   1.0  0.562500        1.0  False        1.0"
      ]
     },
     "execution_count": 16,
     "metadata": {},
     "output_type": "execute_result"
    }
   ],
   "source": [
    "pd.DataFrame(all_match)"
   ]
  },
  {
   "cell_type": "markdown",
   "metadata": {},
   "source": [
    "## save population only"
   ]
  },
  {
   "cell_type": "code",
   "execution_count": 23,
   "metadata": {
    "ExecuteTime": {
     "end_time": "2019-09-27T02:14:09.574592Z",
     "start_time": "2019-09-27T02:14:08.673292Z"
    }
   },
   "outputs": [],
   "source": [
    "no_summary_rural_census = iter_nal_rural[~iter_nal_rural['loc'].isin(['0000', '9999','9998'])].drop(['longitud','latitud','altitud'],axis=1)"
   ]
  },
  {
   "cell_type": "code",
   "execution_count": 35,
   "metadata": {
    "ExecuteTime": {
     "end_time": "2019-09-27T02:18:12.830209Z",
     "start_time": "2019-09-27T02:18:11.114138Z"
    }
   },
   "outputs": [],
   "source": [
    "no_summary_rural_census.iloc[:, :7].to_csv(f'{folder_census}/rural_loc_pop.csv.gz', compression='gzip')"
   ]
  },
  {
   "cell_type": "code",
   "execution_count": 32,
   "metadata": {
    "ExecuteTime": {
     "end_time": "2019-09-27T02:17:38.215994Z",
     "start_time": "2019-09-27T02:17:34.649356Z"
    }
   },
   "outputs": [],
   "source": [
    "urb_pop = [data[data.mza!='000'].iloc[:,:9] for data in  urb_mza_census]\n"
   ]
  },
  {
   "cell_type": "code",
   "execution_count": 33,
   "metadata": {
    "ExecuteTime": {
     "end_time": "2019-09-27T02:17:45.697723Z",
     "start_time": "2019-09-27T02:17:45.566957Z"
    }
   },
   "outputs": [],
   "source": [
    "urb_pop = pd.concat(urb_pop)"
   ]
  },
  {
   "cell_type": "code",
   "execution_count": 34,
   "metadata": {
    "ExecuteTime": {
     "end_time": "2019-09-27T02:18:04.417356Z",
     "start_time": "2019-09-27T02:17:52.298479Z"
    }
   },
   "outputs": [],
   "source": [
    "urb_pop.sort_values(['entidad','mun','loc','ageb','mza']).reset_index(drop=True).to_csv(f'{folder_census}/urban_mza_pop.csv.gz', compression='gzip')"
   ]
  },
  {
   "cell_type": "code",
   "execution_count": 36,
   "metadata": {
    "ExecuteTime": {
     "end_time": "2019-09-27T02:18:56.163924Z",
     "start_time": "2019-09-27T02:18:56.160258Z"
    }
   },
   "outputs": [
    {
     "data": {
      "text/plain": [
       "1376969"
      ]
     },
     "execution_count": 36,
     "metadata": {},
     "output_type": "execute_result"
    }
   ],
   "source": [
    "len(urb_pop)"
   ]
  },
  {
   "cell_type": "code",
   "execution_count": 40,
   "metadata": {
    "ExecuteTime": {
     "end_time": "2019-09-27T03:20:41.408163Z",
     "start_time": "2019-09-27T03:20:41.404320Z"
    }
   },
   "outputs": [
    {
     "data": {
      "text/plain": [
       "Index(['entidad', 'nom_ent', 'mun', 'nom_mun', 'loc', 'nom_loc', 'ageb'], dtype='object')"
      ]
     },
     "execution_count": 40,
     "metadata": {},
     "output_type": "execute_result"
    }
   ],
   "source": [
    "urb_pop.columns[:-2]"
   ]
  },
  {
   "cell_type": "code",
   "execution_count": 44,
   "metadata": {
    "ExecuteTime": {
     "end_time": "2019-09-27T03:21:25.899757Z",
     "start_time": "2019-09-27T03:21:25.173448Z"
    }
   },
   "outputs": [],
   "source": [
    "urb_pop.groupby(['entidad', 'nom_ent', 'mun', 'nom_mun', 'loc', 'nom_loc', 'ageb']).pobtot.sum().to_frame().to_csv(f'{folder_census}/urban_ageb_pop.csv')"
   ]
  }
 ],
 "metadata": {
  "kernelspec": {
   "display_name": "Python [conda env:mob2crime]",
   "language": "python",
   "name": "conda-env-mob2crime-py"
  },
  "language_info": {
   "codemirror_mode": {
    "name": "ipython",
    "version": 3
   },
   "file_extension": ".py",
   "mimetype": "text/x-python",
   "name": "python",
   "nbconvert_exporter": "python",
   "pygments_lexer": "ipython3",
   "version": "3.7.3"
  },
  "toc": {
   "base_numbering": 1,
   "nav_menu": {},
   "number_sections": true,
   "sideBar": true,
   "skip_h1_title": false,
   "title_cell": "Table of Contents",
   "title_sidebar": "Contents",
   "toc_cell": false,
   "toc_position": {},
   "toc_section_display": true,
   "toc_window_display": false
  },
  "varInspector": {
   "cols": {
    "lenName": 16,
    "lenType": 16,
    "lenVar": 40
   },
   "kernels_config": {
    "python": {
     "delete_cmd_postfix": "",
     "delete_cmd_prefix": "del ",
     "library": "var_list.py",
     "varRefreshCmd": "print(var_dic_list())"
    },
    "r": {
     "delete_cmd_postfix": ") ",
     "delete_cmd_prefix": "rm(",
     "library": "var_list.r",
     "varRefreshCmd": "cat(var_dic_list()) "
    }
   },
   "types_to_exclude": [
    "module",
    "function",
    "builtin_function_or_method",
    "instance",
    "_Feature"
   ],
   "window_display": false
  }
 },
 "nbformat": 4,
 "nbformat_minor": 2
}
