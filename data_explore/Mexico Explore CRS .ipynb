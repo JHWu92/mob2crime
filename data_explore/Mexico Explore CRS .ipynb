{
 "cells": [
  {
   "cell_type": "code",
   "execution_count": 6,
   "metadata": {
    "ExecuteTime": {
     "end_time": "2019-09-26T15:08:32.459990Z",
     "start_time": "2019-09-26T15:08:32.450057Z"
    }
   },
   "outputs": [
    {
     "data": {
      "text/plain": [
       "'/mnt/d/1ResProj/mob2crime'"
      ]
     },
     "execution_count": 6,
     "metadata": {},
     "output_type": "execute_result"
    }
   ],
   "source": [
    "import os\n",
    "\n",
    "if not os.getcwd().endswith('mob2crime'):\n",
    "    os.chdir('..')\n",
    "os.getcwd()"
   ]
  },
  {
   "cell_type": "markdown",
   "metadata": {},
   "source": [
    "# default CRS is equal-area CRS, also good at buffering"
   ]
  },
  {
   "cell_type": "markdown",
   "metadata": {},
   "source": [
    "## Claimed to be equal-area"
   ]
  },
  {
   "cell_type": "markdown",
   "metadata": {},
   "source": [
    "https://gis.stackexchange.com/questions/234075/crs-for-calculating-areas-in-mexico?noredirect=1&lq=1\n",
    "\n",
    "If you want to calculate areas in km2 you must use INEGI's lambert conformal conic projection. In QGis 2.14 you can find that EPSG 6362 (ITRF92) and 6372 (ITRF2008)have the specific parameters for this projection which are:\n",
    "\n",
    "+proj=lcc +lat_1=17.5 +lat_2=29.5 +lat_0=12 +lon_0=-102 +x_0=2500000 +y_0=0 +ellps=GRS80 +towgs84=0,0,0,0,0,0,0 +units=m +no_defs\n",
    "\n",
    "\n"
   ]
  },
  {
   "cell_type": "markdown",
   "metadata": {},
   "source": [
    "the CRS in INEGI national wide shapefile equals to EPSG 6372 and 6632\n",
    "\n",
    "https://epsg.io/6362 is replaced by 6372 since 2010 December"
   ]
  },
  {
   "cell_type": "code",
   "execution_count": 37,
   "metadata": {
    "ExecuteTime": {
     "end_time": "2019-09-26T15:16:09.611035Z",
     "start_time": "2019-09-26T15:16:09.608559Z"
    }
   },
   "outputs": [],
   "source": [
    "import fiona\n",
    "import geopandas as gp\n",
    "import pandas as pd"
   ]
  },
  {
   "cell_type": "code",
   "execution_count": 33,
   "metadata": {
    "ExecuteTime": {
     "end_time": "2019-09-26T15:15:59.550223Z",
     "start_time": "2019-09-26T15:15:59.496170Z"
    }
   },
   "outputs": [],
   "source": [
    "inegi2018 = gp.read_file('data/mexico/inegi2018/01_aguascalientes/conjunto de datos/01a.shp')"
   ]
  },
  {
   "cell_type": "code",
   "execution_count": 34,
   "metadata": {
    "ExecuteTime": {
     "end_time": "2019-09-26T15:16:00.194803Z",
     "start_time": "2019-09-26T15:15:59.681070Z"
    }
   },
   "outputs": [],
   "source": [
    "mglu_2010 = gp.read_file('data/mexico/geography-socioeconomics/2010CensusGeography/national_macro/mglu2010v5_0/poligonos_urbanos.shp')"
   ]
  },
  {
   "cell_type": "code",
   "execution_count": 35,
   "metadata": {
    "ExecuteTime": {
     "end_time": "2019-09-26T15:16:00.264200Z",
     "start_time": "2019-09-26T15:16:00.260339Z"
    }
   },
   "outputs": [
    {
     "name": "stdout",
     "output_type": "stream",
     "text": [
      "True True\n"
     ]
    }
   ],
   "source": [
    "crs_string = fiona.crs.from_string('+proj=lcc +lat_1=17.5 +lat_2=29.5 +lat_0=12 +lon_0=-102 +x_0=2500000 +y_0=0 +ellps=GRS80 +towgs84=0,0,0,0,0,0,0 +units=m +no_defs')\n",
    "p = crs_string.pop('towgs84')\n",
    "print(inegi2018.crs==crs_string, mglu_2010.crs==crs_string)\n",
    "crs_string['towgs84'] = p"
   ]
  },
  {
   "cell_type": "code",
   "execution_count": 43,
   "metadata": {
    "ExecuteTime": {
     "end_time": "2019-09-26T15:18:52.906385Z",
     "start_time": "2019-09-26T15:18:49.105255Z"
    }
   },
   "outputs": [
    {
     "data": {
      "text/html": [
       "<div>\n",
       "<style scoped>\n",
       "    .dataframe tbody tr th:only-of-type {\n",
       "        vertical-align: middle;\n",
       "    }\n",
       "\n",
       "    .dataframe tbody tr th {\n",
       "        vertical-align: top;\n",
       "    }\n",
       "\n",
       "    .dataframe thead tr th {\n",
       "        text-align: left;\n",
       "    }\n",
       "</style>\n",
       "<table border=\"1\" class=\"dataframe\">\n",
       "  <thead>\n",
       "    <tr>\n",
       "      <th></th>\n",
       "      <th colspan=\"2\" halign=\"left\">crs</th>\n",
       "      <th colspan=\"2\" halign=\"left\">epsg6372</th>\n",
       "      <th colspan=\"2\" halign=\"left\">epsg6362</th>\n",
       "    </tr>\n",
       "    <tr>\n",
       "      <th></th>\n",
       "      <th>inegi2018</th>\n",
       "      <th>mglu_2010</th>\n",
       "      <th>inegi2018</th>\n",
       "      <th>mglu_2010</th>\n",
       "      <th>inegi2018</th>\n",
       "      <th>mglu_2010</th>\n",
       "    </tr>\n",
       "  </thead>\n",
       "  <tbody>\n",
       "    <tr>\n",
       "      <td>True</td>\n",
       "      <td>436</td>\n",
       "      <td>4525</td>\n",
       "      <td>436</td>\n",
       "      <td>4525</td>\n",
       "      <td>436</td>\n",
       "      <td>4525</td>\n",
       "    </tr>\n",
       "  </tbody>\n",
       "</table>\n",
       "</div>"
      ],
      "text/plain": [
       "           crs            epsg6372            epsg6362          \n",
       "     inegi2018 mglu_2010 inegi2018 mglu_2010 inegi2018 mglu_2010\n",
       "True       436      4525       436      4525       436      4525"
      ]
     },
     "execution_count": 43,
     "metadata": {},
     "output_type": "execute_result"
    }
   ],
   "source": [
    "d = {\n",
    "   ('crs', 'inegi2018'): (inegi2018.to_crs(crs_string).geometry == inegi2018.geometry).value_counts(),\n",
    "   ('crs', 'mglu_2010'):(mglu_2010.to_crs(crs_string).geometry == mglu_2010.geometry).value_counts(),\n",
    "    ('epsg6372', 'inegi2018'): (inegi2018.to_crs(epsg=6372).geometry == inegi2018.geometry).value_counts(),\n",
    "    ('epsg6372', 'mglu_2010'): (mglu_2010.to_crs(epsg=6372).geometry == mglu_2010.geometry).value_counts(),\n",
    "    ('epsg6362', 'inegi2018'): (inegi2018.to_crs(epsg=6362).geometry == inegi2018.geometry).value_counts(),\n",
    "    ('epsg6362', 'mglu_2010'): (mglu_2010.to_crs(epsg=6362).geometry == mglu_2010.geometry).value_counts(),\n",
    "    \n",
    "}\n",
    "pd.DataFrame(d)"
   ]
  },
  {
   "cell_type": "markdown",
   "metadata": {},
   "source": [
    "## buffer as intended distance (+/- 1 m)"
   ]
  },
  {
   "cell_type": "code",
   "execution_count": 53,
   "metadata": {
    "ExecuteTime": {
     "end_time": "2019-09-26T15:48:32.374074Z",
     "start_time": "2019-09-26T15:48:32.263877Z"
    }
   },
   "outputs": [],
   "source": [
    "loc_centr = mglu_2010.geometry.apply(lambda x: x.centroid)"
   ]
  },
  {
   "cell_type": "code",
   "execution_count": 58,
   "metadata": {
    "ExecuteTime": {
     "end_time": "2019-09-26T18:04:19.740474Z",
     "start_time": "2019-09-26T18:04:19.530818Z"
    }
   },
   "outputs": [],
   "source": [
    "loc_centr_4326 = loc_centr.to_crs(epsg=4326)"
   ]
  },
  {
   "cell_type": "code",
   "execution_count": 59,
   "metadata": {
    "ExecuteTime": {
     "end_time": "2019-09-26T18:04:37.708024Z",
     "start_time": "2019-09-26T18:04:36.818448Z"
    }
   },
   "outputs": [],
   "source": [
    "loc_centr_b_in_area = loc_centr.buffer(100).to_crs(epsg=4326)"
   ]
  },
  {
   "cell_type": "code",
   "execution_count": 95,
   "metadata": {
    "ExecuteTime": {
     "end_time": "2019-09-26T18:37:19.038514Z",
     "start_time": "2019-09-26T18:37:18.570625Z"
    }
   },
   "outputs": [
    {
     "data": {
      "text/html": [
       "<div>\n",
       "<style scoped>\n",
       "    .dataframe tbody tr th:only-of-type {\n",
       "        vertical-align: middle;\n",
       "    }\n",
       "\n",
       "    .dataframe tbody tr th {\n",
       "        vertical-align: top;\n",
       "    }\n",
       "\n",
       "    .dataframe thead th {\n",
       "        text-align: right;\n",
       "    }\n",
       "</style>\n",
       "<table border=\"1\" class=\"dataframe\">\n",
       "  <thead>\n",
       "    <tr style=\"text-align: right;\">\n",
       "      <th></th>\n",
       "      <th>center</th>\n",
       "      <th>buffered</th>\n",
       "    </tr>\n",
       "  </thead>\n",
       "  <tbody>\n",
       "    <tr>\n",
       "      <td>0</td>\n",
       "      <td>POINT (-99.1490070147976 19.20063327910548)</td>\n",
       "      <td>POLYGON ((-99.14805381249046 19.20061527180018...</td>\n",
       "    </tr>\n",
       "    <tr>\n",
       "      <td>1</td>\n",
       "      <td>POINT (-99.22768064068471 19.35453301042063)</td>\n",
       "      <td>POLYGON ((-99.22672635035502 19.35451549673984...</td>\n",
       "    </tr>\n",
       "    <tr>\n",
       "      <td>2</td>\n",
       "      <td>POINT (-99.20534142914195 19.2198434221025)</td>\n",
       "      <td>POLYGON ((-99.20438808505531 19.21982577010652...</td>\n",
       "    </tr>\n",
       "    <tr>\n",
       "      <td>3</td>\n",
       "      <td>POINT (-99.17499155122152 19.13421450432435)</td>\n",
       "      <td>POLYGON ((-99.17403880993442 19.1341966625142,...</td>\n",
       "    </tr>\n",
       "    <tr>\n",
       "      <td>4</td>\n",
       "      <td>POINT (-99.09533524936744 19.25123597065827)</td>\n",
       "      <td>POLYGON ((-99.09438170010226 19.25121762335915...</td>\n",
       "    </tr>\n",
       "  </tbody>\n",
       "</table>\n",
       "</div>"
      ],
      "text/plain": [
       "                                         center  \\\n",
       "0   POINT (-99.1490070147976 19.20063327910548)   \n",
       "1  POINT (-99.22768064068471 19.35453301042063)   \n",
       "2   POINT (-99.20534142914195 19.2198434221025)   \n",
       "3  POINT (-99.17499155122152 19.13421450432435)   \n",
       "4  POINT (-99.09533524936744 19.25123597065827)   \n",
       "\n",
       "                                            buffered  \n",
       "0  POLYGON ((-99.14805381249046 19.20061527180018...  \n",
       "1  POLYGON ((-99.22672635035502 19.35451549673984...  \n",
       "2  POLYGON ((-99.20438808505531 19.21982577010652...  \n",
       "3  POLYGON ((-99.17403880993442 19.1341966625142,...  \n",
       "4  POLYGON ((-99.09438170010226 19.25121762335915...  "
      ]
     },
     "execution_count": 95,
     "metadata": {},
     "output_type": "execute_result"
    }
   ],
   "source": [
    "compare = pd.DataFrame([loc_centr_4326, loc_centr_b_in_area_4326]).T\n",
    "compare.columns=['center', 'buffered']\n",
    "compare.head()"
   ]
  },
  {
   "cell_type": "code",
   "execution_count": 96,
   "metadata": {
    "ExecuteTime": {
     "end_time": "2019-09-26T18:37:21.292230Z",
     "start_time": "2019-09-26T18:37:21.289749Z"
    }
   },
   "outputs": [],
   "source": [
    "from src.utils.gis import haversine"
   ]
  },
  {
   "cell_type": "code",
   "execution_count": 98,
   "metadata": {
    "ExecuteTime": {
     "end_time": "2019-09-26T18:37:51.593802Z",
     "start_time": "2019-09-26T18:37:44.618823Z"
    }
   },
   "outputs": [],
   "source": [
    "dists  = []\n",
    "for _, row in compare.iterrows():\n",
    "    center = row.center\n",
    "    circle = row.buffered\n",
    "    for p in circle.boundary.coords:\n",
    "        dist = haversine(center.coords[0][0], center.coords[0][1], p[0], p[1])\n",
    "        dists.append(dist)\n"
   ]
  },
  {
   "cell_type": "code",
   "execution_count": 88,
   "metadata": {
    "ExecuteTime": {
     "end_time": "2019-09-26T18:12:11.928615Z",
     "start_time": "2019-09-26T18:12:11.923365Z"
    }
   },
   "outputs": [],
   "source": [
    "%matplotlib inline"
   ]
  },
  {
   "cell_type": "code",
   "execution_count": 99,
   "metadata": {
    "ExecuteTime": {
     "end_time": "2019-09-26T18:37:55.106490Z",
     "start_time": "2019-09-26T18:37:54.875249Z"
    }
   },
   "outputs": [
    {
     "data": {
      "text/plain": [
       "array([[<matplotlib.axes._subplots.AxesSubplot object at 0x7f3aead0ccc0>]],\n",
       "      dtype=object)"
      ]
     },
     "execution_count": 99,
     "metadata": {},
     "output_type": "execute_result"
    },
    {
     "data": {
      "image/png": "[encoded data removed]",
      "text/plain": [
       "<Figure size 432x288 with 1 Axes>"
      ]
     },
     "metadata": {
      "needs_background": "light"
     },
     "output_type": "display_data"
    }
   ],
   "source": [
    "pd.DataFrame(dists).hist()"
   ]
  }
 ],
 "metadata": {
  "kernelspec": {
   "display_name": "Python [conda env:mob2crime]",
   "language": "python",
   "name": "conda-env-mob2crime-py"
  },
  "language_info": {
   "codemirror_mode": {
    "name": "ipython",
    "version": 3
   },
   "file_extension": ".py",
   "mimetype": "text/x-python",
   "name": "python",
   "nbconvert_exporter": "python",
   "pygments_lexer": "ipython3",
   "version": "3.7.3"
  },
  "toc": {
   "base_numbering": 1,
   "nav_menu": {},
   "number_sections": true,
   "sideBar": true,
   "skip_h1_title": false,
   "title_cell": "Table of Contents",
   "title_sidebar": "Contents",
   "toc_cell": false,
   "toc_position": {},
   "toc_section_display": true,
   "toc_window_display": false
  },
  "varInspector": {
   "cols": {
    "lenName": 16,
    "lenType": 16,
    "lenVar": 40
   },
   "kernels_config": {
    "python": {
     "delete_cmd_postfix": "",
     "delete_cmd_prefix": "del ",
     "library": "var_list.py",
     "varRefreshCmd": "print(var_dic_list())"
    },
    "r": {
     "delete_cmd_postfix": ") ",
     "delete_cmd_prefix": "rm(",
     "library": "var_list.r",
     "varRefreshCmd": "cat(var_dic_list()) "
    }
   },
   "types_to_exclude": [
    "module",
    "function",
    "builtin_function_or_method",
    "instance",
    "_Feature"
   ],
   "window_display": false
  }
 },
 "nbformat": 4,
 "nbformat_minor": 2
}
