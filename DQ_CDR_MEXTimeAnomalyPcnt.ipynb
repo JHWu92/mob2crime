{
 "cells": [
  {
   "cell_type": "code",
   "execution_count": 2,
   "metadata": {},
   "outputs": [],
   "source": [
    "import pandas as pd\n",
    "import glob\n",
    "import os\n",
    "import gzip\n",
    "import datetime\n",
    "\n",
    "\n",
    "\n",
    "from src.creds import mex_root, mex_col_call\n",
    "\n",
    "idx_date = mex_col_call.index('date')\n",
    "idx_time = mex_col_call.index('time')\n",
    "idx_duration = mex_col_call.index('duration')\n"
   ]
  },
  {
   "cell_type": "code",
   "execution_count": 8,
   "metadata": {},
   "outputs": [],
   "source": [
    "%matplotlib inline"
   ]
  },
  {
   "cell_type": "code",
   "execution_count": 21,
   "metadata": {},
   "outputs": [],
   "source": [
    "def countlines(fns):\n",
    "    nlines_wrongdate = {}\n",
    "    nlines_largedur = {}\n",
    "\n",
    "    for fn in fns:\n",
    "        file_date = os.path.basename(fn).replace('.dat.gz','')\n",
    "        wrongdate = 0\n",
    "        largedur = 0\n",
    "        with gzip.open(fn) as fin:\n",
    "            for line in fin:\n",
    "                line = line.decode('utf8').strip().split('|')\n",
    "                # get datetime of start and end\n",
    "                dt1 = datetime.datetime.strptime(line[idx_date] + ' ' + line[idx_time], '%d/%m/%Y %H:%M:%S')\n",
    "                dur = int(line[idx_duration])\n",
    "                # get the date and hour of the datetime\n",
    "                d1 = dt1.strftime('%Y-%m-%d')\n",
    "                # the startdate is not the file date or the duration is larger than 2hours\n",
    "                if d1 != file_date:\n",
    "                    wrongdate+=1\n",
    "                if dur > 7200:\n",
    "                    largedur +=1\n",
    "\n",
    "        nlines_wrongdate[file_date]=wrongdate\n",
    "        nlines_largedur[file_date]=largedur\n",
    "    return nlines_wrongdate, nlines_largedur"
   ]
  },
  {
   "cell_type": "markdown",
   "metadata": {},
   "source": [
    "# ent incoming calls"
   ]
  },
  {
   "cell_type": "code",
   "execution_count": 27,
   "metadata": {},
   "outputs": [],
   "source": [
    "num_call_daily_ent = pd.read_csv('stats/MexNoTwCallPcntDailyVOZENTRANTE.csv',index_col=0)"
   ]
  },
  {
   "cell_type": "code",
   "execution_count": 28,
   "metadata": {},
   "outputs": [],
   "source": [
    "fns_ent = [fn for fn in glob.glob('stats/DQMexTimeAnomalyVOZENTRANTE/*.gz')]\n",
    "fns_ent = sorted(fns_ent)"
   ]
  },
  {
   "cell_type": "code",
   "execution_count": 30,
   "metadata": {},
   "outputs": [],
   "source": [
    "nlines_wrongdate_ent, nlines_largedur_ent = countlines(fns_ent)"
   ]
  },
  {
   "cell_type": "code",
   "execution_count": 37,
   "metadata": {},
   "outputs": [],
   "source": [
    "num_call_daily_ent['wrongdate'] = pd.Series(nlines_wrongdate_ent)\n",
    "num_call_daily_ent['largedur'] = pd.Series(nlines_largedur_ent)"
   ]
  },
  {
   "cell_type": "markdown",
   "metadata": {},
   "source": [
    "## wrong dates"
   ]
  },
  {
   "cell_type": "code",
   "execution_count": 38,
   "metadata": {},
   "outputs": [
    {
     "data": {
      "text/html": [
       "<div>\n",
       "<style scoped>\n",
       "    .dataframe tbody tr th:only-of-type {\n",
       "        vertical-align: middle;\n",
       "    }\n",
       "\n",
       "    .dataframe tbody tr th {\n",
       "        vertical-align: top;\n",
       "    }\n",
       "\n",
       "    .dataframe thead th {\n",
       "        text-align: right;\n",
       "    }\n",
       "</style>\n",
       "<table border=\"1\" class=\"dataframe\">\n",
       "  <thead>\n",
       "    <tr style=\"text-align: right;\">\n",
       "      <th></th>\n",
       "      <th>all</th>\n",
       "      <th>nt1</th>\n",
       "      <th>nt2</th>\n",
       "      <th>nt12</th>\n",
       "      <th>nt1pct</th>\n",
       "      <th>nt2pct</th>\n",
       "      <th>nt12pct</th>\n",
       "      <th>wrongdate</th>\n",
       "      <th>largedur</th>\n",
       "    </tr>\n",
       "  </thead>\n",
       "  <tbody>\n",
       "    <tr>\n",
       "      <th>2010-05-31</th>\n",
       "      <td>10551035</td>\n",
       "      <td>10551035</td>\n",
       "      <td>2667333</td>\n",
       "      <td>2667333</td>\n",
       "      <td>1.0</td>\n",
       "      <td>0.252803</td>\n",
       "      <td>0.252803</td>\n",
       "      <td>10551035</td>\n",
       "      <td>3415</td>\n",
       "    </tr>\n",
       "    <tr>\n",
       "      <th>2010-06-01</th>\n",
       "      <td>10610985</td>\n",
       "      <td>10610985</td>\n",
       "      <td>2687960</td>\n",
       "      <td>2687960</td>\n",
       "      <td>1.0</td>\n",
       "      <td>0.253319</td>\n",
       "      <td>0.253319</td>\n",
       "      <td>10610985</td>\n",
       "      <td>3360</td>\n",
       "    </tr>\n",
       "  </tbody>\n",
       "</table>\n",
       "</div>"
      ],
      "text/plain": [
       "                 all       nt1      nt2     nt12  nt1pct    nt2pct   nt12pct  \\\n",
       "2010-05-31  10551035  10551035  2667333  2667333     1.0  0.252803  0.252803   \n",
       "2010-06-01  10610985  10610985  2687960  2687960     1.0  0.253319  0.253319   \n",
       "\n",
       "            wrongdate  largedur  \n",
       "2010-05-31   10551035      3415  \n",
       "2010-06-01   10610985      3360  "
      ]
     },
     "execution_count": 38,
     "metadata": {},
     "output_type": "execute_result"
    }
   ],
   "source": [
    "num_call_daily_ent[num_call_daily_ent['wrongdate']!=0]"
   ]
  },
  {
   "cell_type": "markdown",
   "metadata": {},
   "source": [
    "\n",
    "2010-05-31 and 06-01 has wrong date in calls:\n",
    "- 2010-05-31 has the same calls as 2010-06-03\n",
    "- 2010-06-01 has the same calls as 2010-06-02"
   ]
  },
  {
   "cell_type": "code",
   "execution_count": 44,
   "metadata": {},
   "outputs": [
    {
     "data": {
      "text/html": [
       "<div>\n",
       "<style scoped>\n",
       "    .dataframe tbody tr th:only-of-type {\n",
       "        vertical-align: middle;\n",
       "    }\n",
       "\n",
       "    .dataframe tbody tr th {\n",
       "        vertical-align: top;\n",
       "    }\n",
       "\n",
       "    .dataframe thead th {\n",
       "        text-align: right;\n",
       "    }\n",
       "</style>\n",
       "<table border=\"1\" class=\"dataframe\">\n",
       "  <thead>\n",
       "    <tr style=\"text-align: right;\">\n",
       "      <th></th>\n",
       "      <th>all</th>\n",
       "      <th>nt1</th>\n",
       "      <th>nt2</th>\n",
       "      <th>nt12</th>\n",
       "      <th>nt1pct</th>\n",
       "      <th>nt2pct</th>\n",
       "      <th>nt12pct</th>\n",
       "      <th>wrongdate</th>\n",
       "      <th>largedur</th>\n",
       "    </tr>\n",
       "  </thead>\n",
       "  <tbody>\n",
       "    <tr>\n",
       "      <th>2010-06-03</th>\n",
       "      <td>10551035</td>\n",
       "      <td>10551035</td>\n",
       "      <td>2667333</td>\n",
       "      <td>2667333</td>\n",
       "      <td>1.0</td>\n",
       "      <td>0.252803</td>\n",
       "      <td>0.252803</td>\n",
       "      <td>0</td>\n",
       "      <td>3415</td>\n",
       "    </tr>\n",
       "    <tr>\n",
       "      <th>2010-05-31</th>\n",
       "      <td>10551035</td>\n",
       "      <td>10551035</td>\n",
       "      <td>2667333</td>\n",
       "      <td>2667333</td>\n",
       "      <td>1.0</td>\n",
       "      <td>0.252803</td>\n",
       "      <td>0.252803</td>\n",
       "      <td>10551035</td>\n",
       "      <td>3415</td>\n",
       "    </tr>\n",
       "    <tr>\n",
       "      <th>2010-06-02</th>\n",
       "      <td>10610985</td>\n",
       "      <td>10610985</td>\n",
       "      <td>2687960</td>\n",
       "      <td>2687960</td>\n",
       "      <td>1.0</td>\n",
       "      <td>0.253319</td>\n",
       "      <td>0.253319</td>\n",
       "      <td>0</td>\n",
       "      <td>3360</td>\n",
       "    </tr>\n",
       "    <tr>\n",
       "      <th>2010-06-01</th>\n",
       "      <td>10610985</td>\n",
       "      <td>10610985</td>\n",
       "      <td>2687960</td>\n",
       "      <td>2687960</td>\n",
       "      <td>1.0</td>\n",
       "      <td>0.253319</td>\n",
       "      <td>0.253319</td>\n",
       "      <td>10610985</td>\n",
       "      <td>3360</td>\n",
       "    </tr>\n",
       "  </tbody>\n",
       "</table>\n",
       "</div>"
      ],
      "text/plain": [
       "                 all       nt1      nt2     nt12  nt1pct    nt2pct   nt12pct  \\\n",
       "2010-06-03  10551035  10551035  2667333  2667333     1.0  0.252803  0.252803   \n",
       "2010-05-31  10551035  10551035  2667333  2667333     1.0  0.252803  0.252803   \n",
       "2010-06-02  10610985  10610985  2687960  2687960     1.0  0.253319  0.253319   \n",
       "2010-06-01  10610985  10610985  2687960  2687960     1.0  0.253319  0.253319   \n",
       "\n",
       "            wrongdate  largedur  \n",
       "2010-06-03          0      3415  \n",
       "2010-05-31   10551035      3415  \n",
       "2010-06-02          0      3360  \n",
       "2010-06-01   10610985      3360  "
      ]
     },
     "execution_count": 44,
     "metadata": {},
     "output_type": "execute_result"
    }
   ],
   "source": [
    "num_call_daily_ent.loc[['2010-06-03', '2010-05-31', '2010-06-02', '2010-06-01']]"
   ]
  },
  {
   "cell_type": "code",
   "execution_count": 1,
   "metadata": {},
   "outputs": [],
   "source": [
    "import gzip, json"
   ]
  },
  {
   "cell_type": "code",
   "execution_count": 14,
   "metadata": {},
   "outputs": [],
   "source": [
    "get_set = lambda data: {d:{u:set(c) for u,c in v.items()} for d, v in data.items()}"
   ]
  },
  {
   "cell_type": "code",
   "execution_count": 5,
   "metadata": {},
   "outputs": [],
   "source": [
    "d0531 = json.load(gzip.open('stats/AggMexTwDyHrUnqUsrVOZENTRANTE/2010-05-31.json.gz'))\n",
    "d0603 = json.load(gzip.open('stats/AggMexTwDyHrUnqUsrVOZENTRANTE/2010-06-03.json.gz'))\n",
    "\n",
    "d0602 = json.load(gzip.open('stats/AggMexTwDyHrUnqUsrVOZENTRANTE/2010-06-02.json.gz'))\n",
    "d0601 = json.load(gzip.open('stats/AggMexTwDyHrUnqUsrVOZENTRANTE/2010-06-01.json.gz'))"
   ]
  },
  {
   "cell_type": "code",
   "execution_count": 22,
   "metadata": {},
   "outputs": [
    {
     "name": "stdout",
     "output_type": "stream",
     "text": [
      "dict_keys(['2010-06-03', '2010-06-04'])\n",
      "dict_keys(['2010-06-02', '2010-06-03'])\n"
     ]
    }
   ],
   "source": [
    "print('wrong dates')\n",
    "print(d0531.keys())\n",
    "print(d0601.keys())"
   ]
  },
  {
   "cell_type": "code",
   "execution_count": 23,
   "metadata": {
    "scrolled": true
   },
   "outputs": [
    {
     "name": "stdout",
     "output_type": "stream",
     "text": [
      "the aggregate of MexTwDyHrUnqUsr are the same\n"
     ]
    },
    {
     "data": {
      "text/plain": [
       "(True, True)"
      ]
     },
     "execution_count": 23,
     "metadata": {},
     "output_type": "execute_result"
    }
   ],
   "source": [
    "print('the aggregate of MexTwDyHrUnqUsr are the same')\n",
    "get_set(d0531) == get_set(d0603), get_set(d0601) == get_set(d0602)"
   ]
  },
  {
   "cell_type": "markdown",
   "metadata": {},
   "source": [
    "## large duration calls percentage"
   ]
  },
  {
   "cell_type": "code",
   "execution_count": 39,
   "metadata": {},
   "outputs": [
    {
     "data": {
      "text/plain": [
       "count     122.000000\n",
       "mean     3961.959016\n",
       "std       706.946377\n",
       "min      2950.000000\n",
       "25%      3425.000000\n",
       "50%      3721.000000\n",
       "75%      4678.000000\n",
       "max      5541.000000\n",
       "Name: largedur, dtype: float64"
      ]
     },
     "execution_count": 39,
     "metadata": {},
     "output_type": "execute_result"
    },
    {
     "data": {
      "image/png": "[encoded data removed]",
      "text/plain": [
       "<Figure size 432x288 with 1 Axes>"
      ]
     },
     "metadata": {},
     "output_type": "display_data"
    }
   ],
   "source": [
    "num_call_daily_ent.largedur.hist(bins=20)\n",
    "num_call_daily_ent.largedur.describe()"
   ]
  },
  {
   "cell_type": "code",
   "execution_count": 40,
   "metadata": {},
   "outputs": [
    {
     "data": {
      "text/plain": [
       "count    12200.00%\n",
       "mean         0.04%\n",
       "std          0.01%\n",
       "min          0.03%\n",
       "25%          0.03%\n",
       "50%          0.03%\n",
       "75%          0.04%\n",
       "max          0.06%\n",
       "dtype: object"
      ]
     },
     "execution_count": 40,
     "metadata": {},
     "output_type": "execute_result"
    },
    {
     "data": {
      "image/png": "[encoded data removed]",
      "text/plain": [
       "<Figure size 432x288 with 1 Axes>"
      ]
     },
     "metadata": {},
     "output_type": "display_data"
    }
   ],
   "source": [
    "dur_pcnt_ent = num_call_daily_ent.largedur/num_call_daily_ent['all']\n",
    "dur_pcnt_ent.hist()\n",
    "dur_pcnt_ent.describe().apply(lambda x: f\"{x:.02%}\")"
   ]
  },
  {
   "cell_type": "markdown",
   "metadata": {},
   "source": [
    "# out calls"
   ]
  },
  {
   "cell_type": "code",
   "execution_count": 22,
   "metadata": {},
   "outputs": [],
   "source": [
    "num_call_daily = pd.read_csv('stats/MexNoTwCallPcntDaily.csv',index_col=0)"
   ]
  },
  {
   "cell_type": "code",
   "execution_count": 23,
   "metadata": {},
   "outputs": [],
   "source": [
    "fns = [fn for fn in glob.glob('stats/DQMexTimeAnomalyVOZ/*.gz')]\n",
    "fns = sorted(fns)"
   ]
  },
  {
   "cell_type": "code",
   "execution_count": 24,
   "metadata": {},
   "outputs": [],
   "source": [
    "nlines_wrongdate, nlines_largedur = countlines(fns)"
   ]
  },
  {
   "cell_type": "code",
   "execution_count": 25,
   "metadata": {},
   "outputs": [],
   "source": [
    "num_call_daily['wrongdate'] = pd.Series(nlines_wrongdate)\n",
    "num_call_daily['largedur'] = pd.Series(nlines_largedur)"
   ]
  },
  {
   "cell_type": "code",
   "execution_count": 26,
   "metadata": {},
   "outputs": [
    {
     "data": {
      "text/plain": [
       "0.0"
      ]
     },
     "execution_count": 26,
     "metadata": {},
     "output_type": "execute_result"
    }
   ],
   "source": [
    "(num_call_daily['wrongdate']!=0).mean()"
   ]
  },
  {
   "cell_type": "code",
   "execution_count": 17,
   "metadata": {},
   "outputs": [
    {
     "data": {
      "text/plain": [
       "count      245.000000\n",
       "mean      6330.293878\n",
       "std       2453.503526\n",
       "min       1996.000000\n",
       "25%       5545.000000\n",
       "50%       6181.000000\n",
       "75%       6800.000000\n",
       "max      41560.000000\n",
       "Name: largedur, dtype: float64"
      ]
     },
     "execution_count": 17,
     "metadata": {},
     "output_type": "execute_result"
    },
    {
     "data": {
      "image/png": "[encoded data removed]",
      "text/plain": [
       "<Figure size 432x288 with 1 Axes>"
      ]
     },
     "metadata": {},
     "output_type": "display_data"
    }
   ],
   "source": [
    "num_call_daily.largedur.hist(bins=20)\n",
    "num_call_daily.largedur.describe()"
   ]
  },
  {
   "cell_type": "code",
   "execution_count": 20,
   "metadata": {},
   "outputs": [
    {
     "data": {
      "text/plain": [
       "count    24500.00%\n",
       "mean         0.02%\n",
       "std          0.01%\n",
       "min          0.01%\n",
       "25%          0.02%\n",
       "50%          0.02%\n",
       "75%          0.03%\n",
       "max          0.16%\n",
       "dtype: object"
      ]
     },
     "execution_count": 20,
     "metadata": {},
     "output_type": "execute_result"
    },
    {
     "data": {
      "image/png": "[encoded data removed]",
      "text/plain": [
       "<Figure size 432x288 with 1 Axes>"
      ]
     },
     "metadata": {},
     "output_type": "display_data"
    }
   ],
   "source": [
    "dur_pcnt = num_call_daily.largedur/num_call_daily['all']\n",
    "dur_pcnt.hist()\n",
    "dur_pcnt.describe().apply(lambda x: f\"{x:.02%}\")"
   ]
  },
  {
   "cell_type": "code",
   "execution_count": null,
   "metadata": {},
   "outputs": [],
   "source": []
  }
 ],
 "metadata": {
  "kernelspec": {
   "display_name": "Python [default]",
   "language": "python",
   "name": "python3"
  },
  "language_info": {
   "codemirror_mode": {
    "name": "ipython",
    "version": 3
   },
   "file_extension": ".py",
   "mimetype": "text/x-python",
   "name": "python",
   "nbconvert_exporter": "python",
   "pygments_lexer": "ipython3",
   "version": "3.6.6"
  }
 },
 "nbformat": 4,
 "nbformat_minor": 2
}
