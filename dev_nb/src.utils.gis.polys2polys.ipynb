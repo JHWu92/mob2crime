{
 "cells": [
  {
   "cell_type": "code",
   "execution_count": 1,
   "metadata": {},
   "outputs": [
    {
     "data": {
      "text/plain": [
       "'/home/Jiahui/mob2crime'"
      ]
     },
     "execution_count": 1,
     "metadata": {},
     "output_type": "execute_result"
    }
   ],
   "source": [
    "import os\n",
    "\n",
    "if not os.getcwd().endswith('mob2crime'):\n",
    "    os.chdir('..')\n",
    "os.getcwd()"
   ]
  },
  {
   "cell_type": "code",
   "execution_count": 8,
   "metadata": {},
   "outputs": [],
   "source": [
    "import geopandas as gp\n",
    "from shapely.geometry import Polygon\n",
    "from src.utils import gis\n",
    "from src.utils.gis import crs_normalization "
   ]
  },
  {
   "cell_type": "code",
   "execution_count": 9,
   "metadata": {},
   "outputs": [],
   "source": [
    "%matplotlib inline"
   ]
  },
  {
   "cell_type": "code",
   "execution_count": 10,
   "metadata": {},
   "outputs": [],
   "source": [
    "polys1 = [\n",
    "    Polygon([(0,0), (0,2), (2,2), (2,0)]),\n",
    "    Polygon([(0,0), (0,-2), (-2,-2), (-2,0)]),\n",
    "    \n",
    "]\n",
    "polys1=gp.GeoDataFrame(polys1, columns=['geometry'])"
   ]
  },
  {
   "cell_type": "code",
   "execution_count": 11,
   "metadata": {},
   "outputs": [],
   "source": [
    "polys2 = [\n",
    "    Polygon([(0,0), (0,1), (1,1), (1,0)]),\n",
    "    Polygon([(1,0), (2,0), (2,1), (1,1)]),\n",
    "    Polygon([(1,1), (1,2), (2,2), (2,1)]),\n",
    "    Polygon([(0,0), (0,-1), (-1,-1), (-1,0)]),\n",
    "    \n",
    "]\n",
    "polys2= gp.GeoDataFrame(polys2, columns=['geometry'])"
   ]
  },
  {
   "cell_type": "code",
   "execution_count": 12,
   "metadata": {},
   "outputs": [
    {
     "name": "stdout",
     "output_type": "stream",
     "text": [
      "{'init': 'epsg:4326'} {'init': 'epsg:6362'}\n",
      "{'init': 'epsg:4326'}\n"
     ]
    },
    {
     "data": {
      "text/html": [
       "<div>\n",
       "<style scoped>\n",
       "    .dataframe tbody tr th:only-of-type {\n",
       "        vertical-align: middle;\n",
       "    }\n",
       "\n",
       "    .dataframe tbody tr th {\n",
       "        vertical-align: top;\n",
       "    }\n",
       "\n",
       "    .dataframe thead th {\n",
       "        text-align: right;\n",
       "    }\n",
       "</style>\n",
       "<table border=\"1\" class=\"dataframe\">\n",
       "  <thead>\n",
       "    <tr style=\"text-align: right;\">\n",
       "      <th></th>\n",
       "      <th>poly1</th>\n",
       "      <th>poly2</th>\n",
       "      <th>weight</th>\n",
       "    </tr>\n",
       "  </thead>\n",
       "  <tbody>\n",
       "    <tr>\n",
       "      <th>0</th>\n",
       "      <td>1</td>\n",
       "      <td>3</td>\n",
       "      <td>0.248236</td>\n",
       "    </tr>\n",
       "    <tr>\n",
       "      <th>1</th>\n",
       "      <td>0</td>\n",
       "      <td>0</td>\n",
       "      <td>0.251699</td>\n",
       "    </tr>\n",
       "    <tr>\n",
       "      <th>2</th>\n",
       "      <td>0</td>\n",
       "      <td>1</td>\n",
       "      <td>0.251699</td>\n",
       "    </tr>\n",
       "    <tr>\n",
       "      <th>3</th>\n",
       "      <td>0</td>\n",
       "      <td>2</td>\n",
       "      <td>0.248313</td>\n",
       "    </tr>\n",
       "  </tbody>\n",
       "</table>\n",
       "</div>"
      ],
      "text/plain": [
       "   poly1  poly2    weight\n",
       "0      1      3  0.248236\n",
       "1      0      0  0.251699\n",
       "2      0      1  0.251699\n",
       "3      0      2  0.248313"
      ]
     },
     "execution_count": 12,
     "metadata": {},
     "output_type": "execute_result"
    }
   ],
   "source": [
    "\n",
    "def polys2polys(polys1, polys2, pname1='poly1', pname2='poly2', cur_crs=None, area_crs=None, intersection_only=True):\n",
    "    \"\"\"Compute the weights of from polygons 1 to polygons 2,\n",
    "    So that the statistics in polys1 can be transferred to polys2\n",
    "\n",
    "    If intersection_only:\n",
    "        Weight(i,j) = Area(polys1i in polys2j) / Area(polys1i in polys2)\n",
    "    Else:\n",
    "        Weight(i,j) = Area(polys1i in polys2j) / Area(polys1i)\n",
    "\n",
    "    :param polys1: GeoDataFrame\n",
    "        polygons with statistics to distributed over the other polygons\n",
    "    :param polys2: GeoDataFrame\n",
    "        polygons to get statistics from polys1\n",
    "    :param pname1: column name for the index of polys1 in the output\n",
    "    :param pname2: column name for the index of polys2 in the output\n",
    "    :param cur_crs: int, string, dict\n",
    "        the current CRS of polys1 and polys2 (epsg code, proj4 string, or dictionary of projection parameters)\n",
    "    :param area_crs: int, string, dict\n",
    "        the equal-area CRS for the area computation\n",
    "\n",
    "    :return: pd.DataFrame(columns=[pname1, pname2, 'weight'])\n",
    "        the mapping from polys1 to polys2\n",
    "    \"\"\"\n",
    "\n",
    "    do_crs_transform = True\n",
    "    cur_crs = crs_normalization(cur_crs)\n",
    "    area_crs = crs_normalization(area_crs)\n",
    "    print (cur_crs, area_crs)\n",
    "    # make sure CRS is set correctly\n",
    "    if cur_crs is None and polys1.crs is None and polys2.crs is None:\n",
    "        if area_crs is None:\n",
    "            do_crs_transform = False\n",
    "            print(\"No current epsg is specified. Area is computed directed in the current coordinates\")\n",
    "        else:\n",
    "            raise ValueError('area epsg is specified, but the polygons have no CRS')\n",
    "\n",
    "    if do_crs_transform:\n",
    "        if area_crs is None:\n",
    "            raise ValueError(\n",
    "                \"Need to do area transform, but area is not specified. \"\n",
    "                f\"cur_crs is {cur_crs}, polys1.crs is {polys1.crs}, polys2.crs is {polys2.crs}\"\n",
    "            )\n",
    "        if polys1.crs is None: polys1.crs = cur_crs\n",
    "        if polys2.crs is None: polys2.crs = cur_crs\n",
    "    \n",
    "    print(polys1.crs)\n",
    "    # get intersections between polys1 and polys2\n",
    "    ps1tops2 = gp.sjoin(polys1, polys2)\n",
    "    itxns = []\n",
    "    for li, row in ps1tops2.iterrows():\n",
    "        itxn = polys2.loc[row.index_right].geometry.intersection(polys1.loc[li].geometry)\n",
    "        itxns.append({pname1: li, pname2: row.index_right, 'geometry': itxn})\n",
    "    itxns = gp.GeoDataFrame(itxns)\n",
    "\n",
    "    # get area of the intersections\n",
    "    if do_crs_transform:\n",
    "        itxns.crs = polys1.crs\n",
    "        itxns_for_area = itxns.to_crs(area_crs)\n",
    "    else:\n",
    "        itxns_for_area = itxns\n",
    "    itxns['iarea'] = itxns_for_area.geometry.apply(lambda x: x.area)\n",
    "    itxns.drop(itxns[itxns['iarea'] == 0].index, inplace=True)\n",
    "\n",
    "    # compute the weight\n",
    "    if intersection_only:\n",
    "        polys1_area = itxns.groupby(pname1).apply(lambda x: x['iarea'].sum()).to_frame()\n",
    "    else:\n",
    "        polys1_area = polys1.to_crs(area_crs).geometry.apply(lambda x: x.area).to_frame()\n",
    "        polys1_area.index.name = pname1\n",
    "    polys1_area = polys1_area\n",
    "    polys1_area.columns = [pname1 + '_area']\n",
    "    polys1_area.reset_index(inplace=True)\n",
    "    itxns = itxns.merge(polys1_area)\n",
    "    itxns['weight'] = itxns['iarea'] / itxns[pname1 + '_area']\n",
    "    return gp.pd.DataFrame(itxns[[pname1, pname2, 'weight']])\n",
    "      \n",
    "i = polys2polys(polys1, polys2, cur_crs=4326, area_crs=6362, intersection_only=False)\n",
    "i"
   ]
  },
  {
   "cell_type": "code",
   "execution_count": 13,
   "metadata": {},
   "outputs": [
    {
     "data": {
      "text/html": [
       "<div>\n",
       "<style scoped>\n",
       "    .dataframe tbody tr th:only-of-type {\n",
       "        vertical-align: middle;\n",
       "    }\n",
       "\n",
       "    .dataframe tbody tr th {\n",
       "        vertical-align: top;\n",
       "    }\n",
       "\n",
       "    .dataframe thead th {\n",
       "        text-align: right;\n",
       "    }\n",
       "</style>\n",
       "<table border=\"1\" class=\"dataframe\">\n",
       "  <thead>\n",
       "    <tr style=\"text-align: right;\">\n",
       "      <th></th>\n",
       "      <th>poly1</th>\n",
       "      <th>poly2</th>\n",
       "      <th>weight</th>\n",
       "    </tr>\n",
       "  </thead>\n",
       "  <tbody>\n",
       "    <tr>\n",
       "      <th>0</th>\n",
       "      <td>1</td>\n",
       "      <td>3</td>\n",
       "      <td>0.248236</td>\n",
       "    </tr>\n",
       "    <tr>\n",
       "      <th>1</th>\n",
       "      <td>0</td>\n",
       "      <td>0</td>\n",
       "      <td>0.251699</td>\n",
       "    </tr>\n",
       "    <tr>\n",
       "      <th>2</th>\n",
       "      <td>0</td>\n",
       "      <td>1</td>\n",
       "      <td>0.251699</td>\n",
       "    </tr>\n",
       "    <tr>\n",
       "      <th>3</th>\n",
       "      <td>0</td>\n",
       "      <td>2</td>\n",
       "      <td>0.248313</td>\n",
       "    </tr>\n",
       "  </tbody>\n",
       "</table>\n",
       "</div>"
      ],
      "text/plain": [
       "   poly1  poly2    weight\n",
       "0      1      3  0.248236\n",
       "1      0      0  0.251699\n",
       "2      0      1  0.251699\n",
       "3      0      2  0.248313"
      ]
     },
     "execution_count": 13,
     "metadata": {},
     "output_type": "execute_result"
    }
   ],
   "source": [
    "i = gis.polys2polys(polys1, polys2, cur_crs=4326, area_crs=6362, intersection_only=False)\n",
    "i"
   ]
  }
 ],
 "metadata": {
  "kernelspec": {
   "display_name": "Python [default]",
   "language": "python",
   "name": "python3"
  },
  "language_info": {
   "codemirror_mode": {
    "name": "ipython",
    "version": 3
   },
   "file_extension": ".py",
   "mimetype": "text/x-python",
   "name": "python",
   "nbconvert_exporter": "python",
   "pygments_lexer": "ipython3",
   "version": "3.6.6"
  }
 },
 "nbformat": 4,
 "nbformat_minor": 2
}
