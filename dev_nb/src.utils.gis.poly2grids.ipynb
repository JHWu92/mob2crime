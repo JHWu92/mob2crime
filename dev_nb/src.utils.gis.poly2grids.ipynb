{
 "cells": [
  {
   "cell_type": "code",
   "execution_count": 2,
   "metadata": {},
   "outputs": [
    {
     "data": {
      "text/plain": [
       "'/home/Jiahui/mob2crime'"
      ]
     },
     "execution_count": 2,
     "metadata": {},
     "output_type": "execute_result"
    }
   ],
   "source": [
    "import os\n",
    "\n",
    "if not os.getcwd().endswith('mob2crime'):\n",
    "    os.chdir('..')\n",
    "os.getcwd()"
   ]
  },
  {
   "cell_type": "code",
   "execution_count": 36,
   "metadata": {},
   "outputs": [],
   "source": [
    "import geopandas as gp\n",
    "from shapely.geometry import Polygon, LineString, box\n",
    "import numpy as np\n",
    "import fiona"
   ]
  },
  {
   "cell_type": "code",
   "execution_count": 4,
   "metadata": {},
   "outputs": [],
   "source": [
    "%matplotlib inline"
   ]
  },
  {
   "cell_type": "code",
   "execution_count": 5,
   "metadata": {},
   "outputs": [],
   "source": [
    "%load_ext line_profiler"
   ]
  },
  {
   "cell_type": "code",
   "execution_count": 6,
   "metadata": {},
   "outputs": [],
   "source": [
    "poly = Polygon([[-99.2724609375,19.539731238254422],[-99.2779541015625,19.452348936859018],[-99.25529479980469,19.344188652729514],[-99.1461181640625,19.36751071819971],[-99.13444519042967,19.497664168139053],[-99.20516967773438,19.561731187837697],[-99.1413116455078,19.583728136218753],[-99.24842834472656,19.594725484073244],[-99.27108764648438,19.54943746814108],[-99.28138732910156,19.54296671307226],[-99.2724609375,19.539731238254422]])"
   ]
  },
  {
   "cell_type": "code",
   "execution_count": 7,
   "metadata": {},
   "outputs": [],
   "source": [
    "def poly_bbox(poly):\n",
    "    # poly can be a 4-element tuple representing the bounding box: lon_min, lat_min, lon_max, lat_max\n",
    "    # or a closed LineString representing the outer ring\n",
    "    if isinstance(poly, tuple):\n",
    "        if len(poly) == 4:\n",
    "            lon_min, lat_min, lon_max, lat_max = poly\n",
    "            poly = box(poly)\n",
    "        else:\n",
    "            raise ValueError('poly is a tuple, but its len != 4')\n",
    "    elif isinstance(poly, LineString):\n",
    "        if poly.is_closed:\n",
    "            lon_min, lat_min, lon_max, lat_max = poly.bounds\n",
    "            poly = Polygon(poly)\n",
    "        else:\n",
    "            raise ValueError('poly is LineString but not closed, which is not supported here')\n",
    "    elif isinstance(poly, Polygon):\n",
    "        lon_min, lat_min, lon_max, lat_max = poly.bounds\n",
    "    else:\n",
    "        raise ValueError('poly is not bbox tuple, closed LineString or Polygon')\n",
    "    return poly, lon_min, lat_min, lon_max, lat_max"
   ]
  },
  {
   "cell_type": "code",
   "execution_count": 8,
   "metadata": {},
   "outputs": [],
   "source": [
    "def poly2grids(poly, side, within_poly=True):\n",
    "    # poly can be a 4-element tuple representing the bounding box: lon_min, lat_min, lon_max, lat_max\n",
    "    # or a closed LineString representing the outer ring\n",
    "\n",
    "    poly, lon_min, lat_min, lon_max, lat_max = poly_bbox(poly)\n",
    "\n",
    "    grids_lon, grids_lat = np.mgrid[lon_min:(lon_max + side):side, lat_min:(lat_max + side):side]\n",
    "    nlon,nlat = grids_lon.shape\n",
    "\n",
    "    grids = []\n",
    "    for i in range(nlon-1):\n",
    "        for j in range(nlat-1):\n",
    "            g = box(grids_lon[i, j], grids_lat[i, j], grids_lon[i + 1, j + 1], grids_lat[i + 1, j + 1])\n",
    "            if not g.intersects(poly):\n",
    "                continue\n",
    "            if within_poly and not g.within(poly): \n",
    "                g = g.intersection(poly)\n",
    "            grids.append(g)\n",
    "    return grids"
   ]
  },
  {
   "cell_type": "code",
   "execution_count": 8,
   "metadata": {},
   "outputs": [],
   "source": [
    "%lprun -f poly2grids poly2grids(poly, 0.001, False)"
   ]
  },
  {
   "cell_type": "code",
   "execution_count": 9,
   "metadata": {},
   "outputs": [],
   "source": [
    "gp_poly = gp.GeoDataFrame([poly], columns=['geometry'])"
   ]
  },
  {
   "cell_type": "code",
   "execution_count": 10,
   "metadata": {},
   "outputs": [],
   "source": [
    "gp_poly.crs = {'init': 'epsg:4326'}"
   ]
  },
  {
   "cell_type": "code",
   "execution_count": 67,
   "metadata": {},
   "outputs": [],
   "source": [
    "def gp_polys_to_grids(gp_polys, side, cur_crs=None, eqdc_crs=None):\n",
    "    \"\"\"if gpdf has crs, use its own; else use cur_crs\n",
    "    \"\"\"\n",
    "    cur_crs = crs_normalization(cur_crs)\n",
    "    eqdc_crs = crs_normalization(eqdc_crs)\n",
    "    \n",
    "    if eqdc_crs:  # crs transform is needed\n",
    "        assign_crs(gp_polys, cur_crs)\n",
    "        cur_crs = gp_polys.crs  # store the original crs\n",
    "        gp_polys = gp_polys.to_crs(eqdc_crs)\n",
    "    \n",
    "    indices = []\n",
    "    grids = []\n",
    "    for i, row in gp_polys.iterrows():\n",
    "        gs = poly2grids(row.geometry, side)\n",
    "        grids.extend(gs)\n",
    "        indices.extend([i]*len(gs))\n",
    "    grids = gp.GeoDataFrame(list(zip(indices, grids)), columns=['poly', 'geometry'])\n",
    "    grids.crs = eqdc_crs\n",
    "    if eqdc_crs:\n",
    "        grids = grids.to_crs(cur_crs)\n",
    "    return grids"
   ]
  },
  {
   "cell_type": "code",
   "execution_count": 55,
   "metadata": {},
   "outputs": [],
   "source": [
    "eqdc = '+proj=eqdc +lat_0=40 +lon_0=-96 +lat_1=20 +lat_2=60 +x_0=0 +y_0=0 +datum=NAD83 +units=m +no_defs'"
   ]
  },
  {
   "cell_type": "code",
   "execution_count": 70,
   "metadata": {},
   "outputs": [],
   "source": [
    "%lprun -f gp_polys_to_grids gp_polys_to_grids(gp_poly,1000, eqdc_crs=eqdc)"
   ]
  },
  {
   "cell_type": "code",
   "execution_count": 68,
   "metadata": {},
   "outputs": [
    {
     "data": {
      "text/plain": [
       "({'init': 'epsg:4326'}, {'init': 'epsg:4326'})"
      ]
     },
     "execution_count": 68,
     "metadata": {},
     "output_type": "execute_result"
    }
   ],
   "source": [
    "grids = gp_polys_to_grids(gp_poly,1000, eqdc_crs=eqdc)\n",
    "\n",
    "grids.crs, gp_poly.crs"
   ]
  },
  {
   "cell_type": "code",
   "execution_count": 71,
   "metadata": {},
   "outputs": [
    {
     "data": {
      "text/html": [
       "<div>\n",
       "<style scoped>\n",
       "    .dataframe tbody tr th:only-of-type {\n",
       "        vertical-align: middle;\n",
       "    }\n",
       "\n",
       "    .dataframe tbody tr th {\n",
       "        vertical-align: top;\n",
       "    }\n",
       "\n",
       "    .dataframe thead th {\n",
       "        text-align: right;\n",
       "    }\n",
       "</style>\n",
       "<table border=\"1\" class=\"dataframe\">\n",
       "  <thead>\n",
       "    <tr style=\"text-align: right;\">\n",
       "      <th></th>\n",
       "      <th>poly</th>\n",
       "      <th>geometry</th>\n",
       "    </tr>\n",
       "  </thead>\n",
       "  <tbody>\n",
       "    <tr>\n",
       "      <th>0</th>\n",
       "      <td>0</td>\n",
       "      <td>POLYGON ((-99.266569385471 19.39804056884898, ...</td>\n",
       "    </tr>\n",
       "    <tr>\n",
       "      <th>1</th>\n",
       "      <td>0</td>\n",
       "      <td>POLYGON ((-99.26844984705234 19.40701572776243...</td>\n",
       "    </tr>\n",
       "    <tr>\n",
       "      <th>2</th>\n",
       "      <td>0</td>\n",
       "      <td>POLYGON ((-99.27033069865851 19.41599084079635...</td>\n",
       "    </tr>\n",
       "    <tr>\n",
       "      <th>3</th>\n",
       "      <td>0</td>\n",
       "      <td>POLYGON ((-99.27221194040925 19.42496590793591...</td>\n",
       "    </tr>\n",
       "    <tr>\n",
       "      <th>4</th>\n",
       "      <td>0</td>\n",
       "      <td>POLYGON ((-99.27409357242436 19.43394092916626...</td>\n",
       "    </tr>\n",
       "  </tbody>\n",
       "</table>\n",
       "</div>"
      ],
      "text/plain": [
       "   poly                                           geometry\n",
       "0     0  POLYGON ((-99.266569385471 19.39804056884898, ...\n",
       "1     0  POLYGON ((-99.26844984705234 19.40701572776243...\n",
       "2     0  POLYGON ((-99.27033069865851 19.41599084079635...\n",
       "3     0  POLYGON ((-99.27221194040925 19.42496590793591...\n",
       "4     0  POLYGON ((-99.27409357242436 19.43394092916626..."
      ]
     },
     "execution_count": 71,
     "metadata": {},
     "output_type": "execute_result"
    }
   ],
   "source": [
    "grids.head()"
   ]
  }
 ],
 "metadata": {
  "kernelspec": {
   "display_name": "Python [default]",
   "language": "python",
   "name": "python3"
  },
  "language_info": {
   "codemirror_mode": {
    "name": "ipython",
    "version": 3
   },
   "file_extension": ".py",
   "mimetype": "text/x-python",
   "name": "python",
   "nbconvert_exporter": "python",
   "pygments_lexer": "ipython3",
   "version": "3.6.6"
  }
 },
 "nbformat": 4,
 "nbformat_minor": 2
}
