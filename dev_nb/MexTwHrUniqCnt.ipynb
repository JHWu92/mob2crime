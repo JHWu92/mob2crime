{
 "cells": [
  {
   "cell_type": "code",
   "execution_count": 1,
   "metadata": {},
   "outputs": [
    {
     "data": {
      "text/plain": [
       "'/home/Jiahui/mob2crime'"
      ]
     },
     "execution_count": 1,
     "metadata": {},
     "output_type": "execute_result"
    }
   ],
   "source": [
    "import os\n",
    "if not os.getcwd().endswith('mob2crime'):\n",
    "    os.chdir('..')\n",
    "os.getcwd()"
   ]
  },
  {
   "cell_type": "code",
   "execution_count": 2,
   "metadata": {},
   "outputs": [],
   "source": [
    "import gzip, json, glob\n",
    "import logging\n",
    "\n",
    "import pandas as pd\n",
    "from collections import defaultdict\n",
    "import json\n",
    "\n",
    "from src.creds import mex_root, mex_tower_08, mex_tower_12"
   ]
  },
  {
   "cell_type": "code",
   "execution_count": 3,
   "metadata": {},
   "outputs": [],
   "source": [
    "\n",
    "voz_only = True\n",
    "debugging = True\n",
    "tower_info_version = '08'\n",
    "\n",
    "level = logging.DEBUG if debugging else logging.INFO\n",
    "logging.basicConfig(filename=\"logs/MexTwHrUniqCnt.log\", level=level, format='%(asctime)s - %(name)s - %(levelname)s - %(message)s')\n",
    "\n",
    "stat_dir = 'stats/MexTw%sHrUniqCntVOZ/' % tower_info_version\n",
    "if debugging:\n",
    "#     mex_root = 'tmp/'\n",
    "    stat_dir += 'debug/'\n",
    "os.makedirs(stat_dir, exist_ok=True)\n",
    "\n",
    "logging.info('===============================')\n",
    "logging.info('MEX tower hourly unique user counting starts. debugging=%s, VOZ_only=%s, tower version=%s' % (debugging, voz_only, tower_info_version))\n"
   ]
  },
  {
   "cell_type": "code",
   "execution_count": 4,
   "metadata": {},
   "outputs": [],
   "source": [
    "# tower ids information\n",
    "tower_info_path = {'08': mex_root+mex_tower_08, '12': mex_root+mex_tower_12}[tower_info_version]\n",
    "towers = pd.read_csv(tower_info_path,header=None,sep='|')\n",
    "towers['latlon'] = towers.apply(lambda x: '%.6f'%(x[2])+','+'%.6f'%(x[3]), axis=1)\n",
    "towers_gp = towers.groupby('latlon')[0].apply(list).to_frame()\n",
    "towers_gp['gtid'] = towers_gp[0].apply(lambda x: '-'.join(x))\n",
    "\n",
    "gt2loc = {row['gtid']: loc.split(',') for loc, row in towers_gp.iterrows()}\n",
    "t2gt = {}\n",
    "for _, row in towers_gp.iterrows():\n",
    "    for tid in row[0]:\n",
    "        t2gt[tid] = row['gtid']\n"
   ]
  },
  {
   "cell_type": "code",
   "execution_count": 5,
   "metadata": {},
   "outputs": [],
   "source": [
    "def update_stat(data, file_date, stats, stats_no_gtid,dates_in_file):\n",
    "    for date, tw_hr_stats in data.items():\n",
    "        logging.debug('working of date: %s in file: %s' % (date, file_date))\n",
    "        # update stats\n",
    "        for tw, hr_stats in tw_hr_stats.items():\n",
    "            tid = tw.replace('33F430','')\n",
    "            if tid in t2gt:\n",
    "                gtid = t2gt[tid]\n",
    "                for hr, uniq_users in hr_stats.items():\n",
    "                    stats[date][gtid][hr].update(uniq_users)\n",
    "            else: \n",
    "                for hr, uniq_users in hr_stats.items():\n",
    "                    stats_no_gtid[date][tid][hr].update(uniq_users)\n",
    "                    \n",
    "        # if files for that date are looped, save the stats and clear the memory\n",
    "        files = dates_in_file[date]\n",
    "        files.remove(file_date)\n",
    "        if len(files)==0:\n",
    "            logging.info('saving stats of date %s' % date)\n",
    "            fn_out = stat_dir+'%s-located.csv' % date\n",
    "            assert not os.path.exists(fn_out), fn_out\n",
    "            dstat = stats.pop(date)\n",
    "#             dstat = stats[date]\n",
    "            df = pd.DataFrame.from_dict(dstat).applymap(lambda x: len(x) if not pd.isnull(x) else x)\n",
    "            df.index = df.index.astype(int)\n",
    "            df.sort_index().T.to_csv(fn_out)\n",
    "            \n",
    "            fn_out = stat_dir+'%s-no-info.csv' % date\n",
    "            dstat = stats_no_gtid.pop(date)\n",
    "            df = pd.DataFrame.from_dict(dstat).applymap(lambda x: len(x) if not pd.isnull(x) else x)\n",
    "            df.index = df.index.astype(int)\n",
    "            df.sort_index().T.to_csv(fn_out)\n",
    "            logging.info('%d towers not in version %s tower info on %s' %(len(dstat), tower_info_version, date))"
   ]
  },
  {
   "cell_type": "code",
   "execution_count": 8,
   "metadata": {},
   "outputs": [
    {
     "name": "stdout",
     "output_type": "stream",
     "text": [
      "working on stats/MexTwUniqUserVOZ/2009-10-01.json.gz\n"
     ]
    }
   ],
   "source": [
    "# storing stats: stats[d][tower][hour] = set of users\n",
    "stats = defaultdict(lambda: defaultdict(lambda: defaultdict(set)))\n",
    "stats_no_gtid = defaultdict(lambda: defaultdict(lambda: defaultdict(set)))\n",
    "dates_in_file = json.load(open('stats/MexTwUniqUserVOZ/dates_in_file.json'))\n",
    "\n",
    "fns = []\n",
    "for fn in glob.glob('stats/MexTwUniqUserVOZ/*.json.gz'):\n",
    "    fns.append(fn)\n",
    "fns = sorted(fns)\n",
    "\n",
    "for fn in fns:\n",
    "    print('working on', fn)\n",
    "    logging.info(fn + ' loading data')\n",
    "    file_date = os.path.basename(fn).replace('.json.gz','')\n",
    "    with gzip.open(fn) as fin:\n",
    "        data = json.load(fin)\n",
    "        logging.debug('loaded data')\n",
    "        update_stat(data, file_date, stats, stats_no_gtid, dates_in_file)\n",
    "    if debugging:\n",
    "        break"
   ]
  },
  {
   "cell_type": "code",
   "execution_count": null,
   "metadata": {},
   "outputs": [],
   "source": []
  }
 ],
 "metadata": {
  "kernelspec": {
   "display_name": "Python [default]",
   "language": "python",
   "name": "python3"
  },
  "language_info": {
   "codemirror_mode": {
    "name": "ipython",
    "version": 3
   },
   "file_extension": ".py",
   "mimetype": "text/x-python",
   "name": "python",
   "nbconvert_exporter": "python",
   "pygments_lexer": "ipython3",
   "version": "3.6.6"
  }
 },
 "nbformat": 4,
 "nbformat_minor": 2
}
