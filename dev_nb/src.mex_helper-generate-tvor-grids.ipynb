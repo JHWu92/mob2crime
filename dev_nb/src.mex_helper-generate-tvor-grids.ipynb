{
 "cells": [
  {
   "cell_type": "code",
   "execution_count": 1,
   "metadata": {
    "ExecuteTime": {
     "end_time": "2019-01-21T22:22:08.547847Z",
     "start_time": "2019-01-21T22:22:08.507864Z"
    }
   },
   "outputs": [
    {
     "data": {
      "text/plain": [
       "'/home/Jiahui/mob2crime'"
      ]
     },
     "execution_count": 1,
     "metadata": {},
     "output_type": "execute_result"
    }
   ],
   "source": [
    "% load_ext autoreload\n",
    "% autoreload 2\n",
    "import os\n",
    "\n",
    "if not os.getcwd().endswith('mob2crime'):\n",
    "    os.chdir('..')\n",
    "os.getcwd()"
   ]
  },
  {
   "cell_type": "code",
   "execution_count": 2,
   "metadata": {
    "ExecuteTime": {
     "end_time": "2019-01-21T22:22:09.369294Z",
     "start_time": "2019-01-21T22:22:09.132392Z"
    }
   },
   "outputs": [],
   "source": [
    "%matplotlib inline"
   ]
  },
  {
   "cell_type": "code",
   "execution_count": 3,
   "metadata": {
    "ExecuteTime": {
     "end_time": "2019-01-21T22:22:09.812484Z",
     "start_time": "2019-01-21T22:22:09.496151Z"
    }
   },
   "outputs": [],
   "source": [
    "from src.mex_helper import *\n",
    "from src.utils.gis import *"
   ]
  },
  {
   "cell_type": "markdown",
   "metadata": {},
   "source": [
    "# tower vor"
   ]
  },
  {
   "cell_type": "code",
   "execution_count": 4,
   "metadata": {
    "deletable": false,
    "editable": false,
    "run_control": {
     "frozen": true
    },
    "scrolled": true
   },
   "outputs": [
    {
     "name": "stdout",
     "output_type": "stream",
     "text": [
      "clipping tvor outside mexico country boarder\n",
      "saving tvor file: data/mex_tvor_in_country.geojson\n",
      "CPU times: user 25min 21s, sys: 236 ms, total: 25min 22s\n",
      "Wall time: 25min 22s\n"
     ]
    },
    {
     "data": {
      "text/html": [
       "<div>\n",
       "<style scoped>\n",
       "    .dataframe tbody tr th:only-of-type {\n",
       "        vertical-align: middle;\n",
       "    }\n",
       "\n",
       "    .dataframe tbody tr th {\n",
       "        vertical-align: top;\n",
       "    }\n",
       "\n",
       "    .dataframe thead th {\n",
       "        text-align: right;\n",
       "    }\n",
       "</style>\n",
       "<table border=\"1\" class=\"dataframe\">\n",
       "  <thead>\n",
       "    <tr style=\"text-align: right;\">\n",
       "      <th></th>\n",
       "      <th>geometry</th>\n",
       "    </tr>\n",
       "    <tr>\n",
       "      <th>gtid</th>\n",
       "      <th></th>\n",
       "    </tr>\n",
       "  </thead>\n",
       "  <tbody>\n",
       "    <tr>\n",
       "      <th>55F17E0F-55F17E10-55F17E11</th>\n",
       "      <td>POLYGON ((-99.99188868931456 20.39140514481428...</td>\n",
       "    </tr>\n",
       "    <tr>\n",
       "      <th>55F17E2D-55F17E2E-55F17E2F</th>\n",
       "      <td>POLYGON ((-100.0466680027655 20.39615313365573...</td>\n",
       "    </tr>\n",
       "    <tr>\n",
       "      <th>4A405FF1-4A405FF2-4A405FF3-4A405FF4-4A405FF5-4A405FF6</th>\n",
       "      <td>POLYGON ((-99.99217502274368 25.57317734110837...</td>\n",
       "    </tr>\n",
       "    <tr>\n",
       "      <th>4A450C3B-4A450C3C-4A450C3D</th>\n",
       "      <td>POLYGON ((-100.004348000373 25.27642015646376,...</td>\n",
       "    </tr>\n",
       "    <tr>\n",
       "      <th>4A470C3B-4A470C3C-4A470C3D</th>\n",
       "      <td>POLYGON ((-100.004348000373 25.27642015646376,...</td>\n",
       "    </tr>\n",
       "    <tr>\n",
       "      <th>4A407C6B-4A407C6C-4A407C6D</th>\n",
       "      <td>POLYGON ((-99.97364471294081 25.54764471144702...</td>\n",
       "    </tr>\n",
       "    <tr>\n",
       "      <th>4A48146F-4A481470-4A481472-4A481473</th>\n",
       "      <td>POLYGON ((-100.0902955654644 26.58528949894616...</td>\n",
       "    </tr>\n",
       "    <tr>\n",
       "      <th>3A9D77ED-3A9D77EE-3A9D77EF</th>\n",
       "      <td>POLYGON ((-100.0718872841625 20.10226421696787...</td>\n",
       "    </tr>\n",
       "    <tr>\n",
       "      <th>4A4078FB-4A4078FC-4A4078FD</th>\n",
       "      <td>POLYGON ((-99.99217502274368 25.57317734110837...</td>\n",
       "    </tr>\n",
       "    <tr>\n",
       "      <th>4A475FA1-4A475FA2-4A475FA3</th>\n",
       "      <td>POLYGON ((-100.004348000373 25.27642015646376,...</td>\n",
       "    </tr>\n",
       "    <tr>\n",
       "      <th>5DC5968D-5DC5968E-5DC5968F</th>\n",
       "      <td>POLYGON ((-100.0106122453519 21.92880369020264...</td>\n",
       "    </tr>\n",
       "    <tr>\n",
       "      <th>2EEA7D15-2EEA7D16</th>\n",
       "      <td>POLYGON ((-100.0018176196289 16.93517070043785...</td>\n",
       "    </tr>\n",
       "    <tr>\n",
       "      <th>4A3F8729-4A3F872A-4A3F872B</th>\n",
       "      <td>POLYGON ((-100.0757328825929 25.85014347242145...</td>\n",
       "    </tr>\n",
       "    <tr>\n",
       "      <th>4A405FFB-4A405FFC-4A405FFD-4A405FFE-4A405FFF-4A406000</th>\n",
       "      <td>POLYGON ((-100.0163091699693 25.58533915786245...</td>\n",
       "    </tr>\n",
       "    <tr>\n",
       "      <th>4A4780F3-4A4780F4-4A4780F5</th>\n",
       "      <td>POLYGON ((-100.055718711305 25.25348317868868,...</td>\n",
       "    </tr>\n",
       "    <tr>\n",
       "      <th>4A481465-4A481466-4A481468-4A481469</th>\n",
       "      <td>POLYGON ((-100.0769931094357 26.49373718750568...</td>\n",
       "    </tr>\n",
       "    <tr>\n",
       "      <th>3A99756D-3A99756E-3A99756F</th>\n",
       "      <td>POLYGON ((-100.0887427847253 18.7328531375455,...</td>\n",
       "    </tr>\n",
       "    <tr>\n",
       "      <th>5DC596A1-5DC596A2-5DC596A3</th>\n",
       "      <td>POLYGON ((-100.0241767056848 21.91802049523158...</td>\n",
       "    </tr>\n",
       "    <tr>\n",
       "      <th>4A3F867F-4A3F8680-4A3F8681-4A3F8682-4A3F8683-4A3F8684</th>\n",
       "      <td>POLYGON ((-100.0793382724183 25.75934799018697...</td>\n",
       "    </tr>\n",
       "    <tr>\n",
       "      <th>55F18107-55F18108-55F18109</th>\n",
       "      <td>POLYGON ((-100.0475630543993 20.40135293241569...</td>\n",
       "    </tr>\n",
       "    <tr>\n",
       "      <th>4A3F78B5-4A3F78B6-4A3F78B7</th>\n",
       "      <td>POLYGON ((-100.0945933239064 25.68789286919283...</td>\n",
       "    </tr>\n",
       "    <tr>\n",
       "      <th>4A3F7EF5-4A3F7EF6-4A3F7EF7</th>\n",
       "      <td>POLYGON ((-99.87650563409369 24.85501576448496...</td>\n",
       "    </tr>\n",
       "    <tr>\n",
       "      <th>2EEA7D01-2EEA7D02-2EEA7D03</th>\n",
       "      <td>POLYGON ((-99.95595956452773 17.15564954039123...</td>\n",
       "    </tr>\n",
       "    <tr>\n",
       "      <th>4A430C31-4A430C32-4A430C34-4A430C35</th>\n",
       "      <td>POLYGON ((-100.2461775171113 25.12880275256688...</td>\n",
       "    </tr>\n",
       "    <tr>\n",
       "      <th>55F1811B-55F1811C-55F1811D</th>\n",
       "      <td>POLYGON ((-100.0466680027655 20.39615313365573...</td>\n",
       "    </tr>\n",
       "    <tr>\n",
       "      <th>4A3F7A1D-4A3F7A1E-4A3F7A1F</th>\n",
       "      <td>POLYGON ((-100.1159649139527 25.7143836781936,...</td>\n",
       "    </tr>\n",
       "    <tr>\n",
       "      <th>3E94993F-3E949940</th>\n",
       "      <td>POLYGON ((-100.1514462415763 20.12981479004436...</td>\n",
       "    </tr>\n",
       "    <tr>\n",
       "      <th>4A3F1BBD-4A3F1BBE-4A3F1BBF-4A3F1BC0-4A3F1BC1-4A3F1BC2</th>\n",
       "      <td>POLYGON ((-100.1049605425026 25.64064152012827...</td>\n",
       "    </tr>\n",
       "    <tr>\n",
       "      <th>4A3F8689-4A3F868A-4A3F868B-4A3F868C-4A3F868D-4A3F868E</th>\n",
       "      <td>POLYGON ((-100.1279673770638 25.83096841704518...</td>\n",
       "    </tr>\n",
       "    <tr>\n",
       "      <th>4A3F79E1-4A3F79E2-4A3F79E3</th>\n",
       "      <td>POLYGON ((-100.1274141781862 25.62764445346438...</td>\n",
       "    </tr>\n",
       "    <tr>\n",
       "      <th>...</th>\n",
       "      <td>...</td>\n",
       "    </tr>\n",
       "    <tr>\n",
       "      <th>2EE075A9-2EE075AA-2EE075AB</th>\n",
       "      <td>(POLYGON ((-99.91202883222719 16.8414988780651...</td>\n",
       "    </tr>\n",
       "    <tr>\n",
       "      <th>2EE07545-2EE07546</th>\n",
       "      <td>POLYGON ((-99.91140923420606 16.8681115649476,...</td>\n",
       "    </tr>\n",
       "    <tr>\n",
       "      <th>4A3A7B7B-4A3A7B7C-4A3A7B7D</th>\n",
       "      <td>POLYGON ((-99.90122238110023 25.1347269087874,...</td>\n",
       "    </tr>\n",
       "    <tr>\n",
       "      <th>2EE07649-2EE0764A</th>\n",
       "      <td>POLYGON ((-99.91427407492063 16.85484707354498...</td>\n",
       "    </tr>\n",
       "    <tr>\n",
       "      <th>55F1814D-55F1814E</th>\n",
       "      <td>POLYGON ((-99.7905007163689 20.37942285588578,...</td>\n",
       "    </tr>\n",
       "    <tr>\n",
       "      <th>2EE0763F-2EE07640</th>\n",
       "      <td>POLYGON ((-99.92359527497575 16.86276233835263...</td>\n",
       "    </tr>\n",
       "    <tr>\n",
       "      <th>4A481479-4A48147A-4A48147C-4A48147D</th>\n",
       "      <td>POLYGON ((-99.64865471213901 26.58367154504094...</td>\n",
       "    </tr>\n",
       "    <tr>\n",
       "      <th>3A9D77E3-3A9D77E4-3A9D77E5</th>\n",
       "      <td>POLYGON ((-99.93568521692146 19.69530628304728...</td>\n",
       "    </tr>\n",
       "    <tr>\n",
       "      <th>55F17E19-55F17E1A-55F17E1B</th>\n",
       "      <td>POLYGON ((-99.96193223304782 20.37841009174349...</td>\n",
       "    </tr>\n",
       "    <tr>\n",
       "      <th>4A3F8733-4A3F8734-4A3F8735</th>\n",
       "      <td>POLYGON ((-99.95876689686108 26.02753483025309...</td>\n",
       "    </tr>\n",
       "    <tr>\n",
       "      <th>2EE07653-2EE07654-2EE07655</th>\n",
       "      <td>POLYGON ((-99.92130783002179 16.91354388723145...</td>\n",
       "    </tr>\n",
       "    <tr>\n",
       "      <th>55F17E23-55F17E24-55F17E25</th>\n",
       "      <td>POLYGON ((-99.96193223304782 20.37841009174349...</td>\n",
       "    </tr>\n",
       "    <tr>\n",
       "      <th>4A401BD1-4A401BD2-4A401BD3-4A401BD4-4A401BD5-4A401BD6</th>\n",
       "      <td>POLYGON ((-99.95932588754006 25.54375872782383...</td>\n",
       "    </tr>\n",
       "    <tr>\n",
       "      <th>2EE07D1F-2EE07D20</th>\n",
       "      <td>POLYGON ((-99.89323548642024 16.95506919231806...</td>\n",
       "    </tr>\n",
       "    <tr>\n",
       "      <th>55F18157-55F18158-55F18159</th>\n",
       "      <td>POLYGON ((-99.96427493206492 20.3708169038809,...</td>\n",
       "    </tr>\n",
       "    <tr>\n",
       "      <th>2EEA7D0B-2EEA7D0C-2EEA7D0D</th>\n",
       "      <td>POLYGON ((-99.89323548642024 16.95506919231806...</td>\n",
       "    </tr>\n",
       "    <tr>\n",
       "      <th>55F17DFB-55F17DFC-55F17DFD</th>\n",
       "      <td>POLYGON ((-99.98167577783929 20.37293012358266...</td>\n",
       "    </tr>\n",
       "    <tr>\n",
       "      <th>2EE075B3-2EE075B4-2EE075B5</th>\n",
       "      <td>POLYGON ((-99.9564456688999 16.90449374737485,...</td>\n",
       "    </tr>\n",
       "    <tr>\n",
       "      <th>5DC59697-5DC59698-5DC59699</th>\n",
       "      <td>POLYGON ((-99.98688214307531 21.91796378810321...</td>\n",
       "    </tr>\n",
       "    <tr>\n",
       "      <th>55F17DD3-55F17DD4-55F17DD5</th>\n",
       "      <td>POLYGON ((-99.9901119156508 20.40117854849355,...</td>\n",
       "    </tr>\n",
       "    <tr>\n",
       "      <th>55F17E05-55F17E06-55F17E07</th>\n",
       "      <td>POLYGON ((-99.99188868931456 20.39140514481428...</td>\n",
       "    </tr>\n",
       "    <tr>\n",
       "      <th>4A407905-4A407906-4A407907</th>\n",
       "      <td>POLYGON ((-99.99217502274368 25.57317734110837...</td>\n",
       "    </tr>\n",
       "    <tr>\n",
       "      <th>5DC59679-5DC5967A-5DC5967B</th>\n",
       "      <td>POLYGON ((-99.99147855471412 21.92518948660197...</td>\n",
       "    </tr>\n",
       "    <tr>\n",
       "      <th>4A477C7F-4A477C80-4A477C81</th>\n",
       "      <td>POLYGON ((-100.0580728537365 25.42401204205725...</td>\n",
       "    </tr>\n",
       "    <tr>\n",
       "      <th>4A477C89-4A477C8A-4A477C8B</th>\n",
       "      <td>POLYGON ((-99.95914748329599 25.29748348339894...</td>\n",
       "    </tr>\n",
       "    <tr>\n",
       "      <th>55F17E41-55F17E42-55F17E43</th>\n",
       "      <td>POLYGON ((-99.99188868931456 20.39140514481428...</td>\n",
       "    </tr>\n",
       "    <tr>\n",
       "      <th>5DC5966F-5DC59670-5DC59671</th>\n",
       "      <td>POLYGON ((-99.99147855471412 21.92518948660197...</td>\n",
       "    </tr>\n",
       "    <tr>\n",
       "      <th>4A407C75-4A407C76-4A407C77</th>\n",
       "      <td>POLYGON ((-100.0580728537365 25.42401204205725...</td>\n",
       "    </tr>\n",
       "    <tr>\n",
       "      <th>5DC59683-5DC59684-5DC59685</th>\n",
       "      <td>POLYGON ((-99.99147855471412 21.92518948660197...</td>\n",
       "    </tr>\n",
       "    <tr>\n",
       "      <th>4A3C57BD-4A3C57BE-4A3C57C0-4A3C57C1</th>\n",
       "      <td>POLYGON ((-100.0947703997932 26.58936993505824...</td>\n",
       "    </tr>\n",
       "  </tbody>\n",
       "</table>\n",
       "<p>5731 rows × 1 columns</p>\n",
       "</div>"
      ],
      "text/plain": [
       "                                                                                             geometry\n",
       "gtid                                                                                                 \n",
       "55F17E0F-55F17E10-55F17E11                          POLYGON ((-99.99188868931456 20.39140514481428...\n",
       "55F17E2D-55F17E2E-55F17E2F                          POLYGON ((-100.0466680027655 20.39615313365573...\n",
       "4A405FF1-4A405FF2-4A405FF3-4A405FF4-4A405FF5-4A...  POLYGON ((-99.99217502274368 25.57317734110837...\n",
       "4A450C3B-4A450C3C-4A450C3D                          POLYGON ((-100.004348000373 25.27642015646376,...\n",
       "4A470C3B-4A470C3C-4A470C3D                          POLYGON ((-100.004348000373 25.27642015646376,...\n",
       "4A407C6B-4A407C6C-4A407C6D                          POLYGON ((-99.97364471294081 25.54764471144702...\n",
       "4A48146F-4A481470-4A481472-4A481473                 POLYGON ((-100.0902955654644 26.58528949894616...\n",
       "3A9D77ED-3A9D77EE-3A9D77EF                          POLYGON ((-100.0718872841625 20.10226421696787...\n",
       "4A4078FB-4A4078FC-4A4078FD                          POLYGON ((-99.99217502274368 25.57317734110837...\n",
       "4A475FA1-4A475FA2-4A475FA3                          POLYGON ((-100.004348000373 25.27642015646376,...\n",
       "5DC5968D-5DC5968E-5DC5968F                          POLYGON ((-100.0106122453519 21.92880369020264...\n",
       "2EEA7D15-2EEA7D16                                   POLYGON ((-100.0018176196289 16.93517070043785...\n",
       "4A3F8729-4A3F872A-4A3F872B                          POLYGON ((-100.0757328825929 25.85014347242145...\n",
       "4A405FFB-4A405FFC-4A405FFD-4A405FFE-4A405FFF-4A...  POLYGON ((-100.0163091699693 25.58533915786245...\n",
       "4A4780F3-4A4780F4-4A4780F5                          POLYGON ((-100.055718711305 25.25348317868868,...\n",
       "4A481465-4A481466-4A481468-4A481469                 POLYGON ((-100.0769931094357 26.49373718750568...\n",
       "3A99756D-3A99756E-3A99756F                          POLYGON ((-100.0887427847253 18.7328531375455,...\n",
       "5DC596A1-5DC596A2-5DC596A3                          POLYGON ((-100.0241767056848 21.91802049523158...\n",
       "4A3F867F-4A3F8680-4A3F8681-4A3F8682-4A3F8683-4A...  POLYGON ((-100.0793382724183 25.75934799018697...\n",
       "55F18107-55F18108-55F18109                          POLYGON ((-100.0475630543993 20.40135293241569...\n",
       "4A3F78B5-4A3F78B6-4A3F78B7                          POLYGON ((-100.0945933239064 25.68789286919283...\n",
       "4A3F7EF5-4A3F7EF6-4A3F7EF7                          POLYGON ((-99.87650563409369 24.85501576448496...\n",
       "2EEA7D01-2EEA7D02-2EEA7D03                          POLYGON ((-99.95595956452773 17.15564954039123...\n",
       "4A430C31-4A430C32-4A430C34-4A430C35                 POLYGON ((-100.2461775171113 25.12880275256688...\n",
       "55F1811B-55F1811C-55F1811D                          POLYGON ((-100.0466680027655 20.39615313365573...\n",
       "4A3F7A1D-4A3F7A1E-4A3F7A1F                          POLYGON ((-100.1159649139527 25.7143836781936,...\n",
       "3E94993F-3E949940                                   POLYGON ((-100.1514462415763 20.12981479004436...\n",
       "4A3F1BBD-4A3F1BBE-4A3F1BBF-4A3F1BC0-4A3F1BC1-4A...  POLYGON ((-100.1049605425026 25.64064152012827...\n",
       "4A3F8689-4A3F868A-4A3F868B-4A3F868C-4A3F868D-4A...  POLYGON ((-100.1279673770638 25.83096841704518...\n",
       "4A3F79E1-4A3F79E2-4A3F79E3                          POLYGON ((-100.1274141781862 25.62764445346438...\n",
       "...                                                                                               ...\n",
       "2EE075A9-2EE075AA-2EE075AB                          (POLYGON ((-99.91202883222719 16.8414988780651...\n",
       "2EE07545-2EE07546                                   POLYGON ((-99.91140923420606 16.8681115649476,...\n",
       "4A3A7B7B-4A3A7B7C-4A3A7B7D                          POLYGON ((-99.90122238110023 25.1347269087874,...\n",
       "2EE07649-2EE0764A                                   POLYGON ((-99.91427407492063 16.85484707354498...\n",
       "55F1814D-55F1814E                                   POLYGON ((-99.7905007163689 20.37942285588578,...\n",
       "2EE0763F-2EE07640                                   POLYGON ((-99.92359527497575 16.86276233835263...\n",
       "4A481479-4A48147A-4A48147C-4A48147D                 POLYGON ((-99.64865471213901 26.58367154504094...\n",
       "3A9D77E3-3A9D77E4-3A9D77E5                          POLYGON ((-99.93568521692146 19.69530628304728...\n",
       "55F17E19-55F17E1A-55F17E1B                          POLYGON ((-99.96193223304782 20.37841009174349...\n",
       "4A3F8733-4A3F8734-4A3F8735                          POLYGON ((-99.95876689686108 26.02753483025309...\n",
       "2EE07653-2EE07654-2EE07655                          POLYGON ((-99.92130783002179 16.91354388723145...\n",
       "55F17E23-55F17E24-55F17E25                          POLYGON ((-99.96193223304782 20.37841009174349...\n",
       "4A401BD1-4A401BD2-4A401BD3-4A401BD4-4A401BD5-4A...  POLYGON ((-99.95932588754006 25.54375872782383...\n",
       "2EE07D1F-2EE07D20                                   POLYGON ((-99.89323548642024 16.95506919231806...\n",
       "55F18157-55F18158-55F18159                          POLYGON ((-99.96427493206492 20.3708169038809,...\n",
       "2EEA7D0B-2EEA7D0C-2EEA7D0D                          POLYGON ((-99.89323548642024 16.95506919231806...\n",
       "55F17DFB-55F17DFC-55F17DFD                          POLYGON ((-99.98167577783929 20.37293012358266...\n",
       "2EE075B3-2EE075B4-2EE075B5                          POLYGON ((-99.9564456688999 16.90449374737485,...\n",
       "5DC59697-5DC59698-5DC59699                          POLYGON ((-99.98688214307531 21.91796378810321...\n",
       "55F17DD3-55F17DD4-55F17DD5                          POLYGON ((-99.9901119156508 20.40117854849355,...\n",
       "55F17E05-55F17E06-55F17E07                          POLYGON ((-99.99188868931456 20.39140514481428...\n",
       "4A407905-4A407906-4A407907                          POLYGON ((-99.99217502274368 25.57317734110837...\n",
       "5DC59679-5DC5967A-5DC5967B                          POLYGON ((-99.99147855471412 21.92518948660197...\n",
       "4A477C7F-4A477C80-4A477C81                          POLYGON ((-100.0580728537365 25.42401204205725...\n",
       "4A477C89-4A477C8A-4A477C8B                          POLYGON ((-99.95914748329599 25.29748348339894...\n",
       "55F17E41-55F17E42-55F17E43                          POLYGON ((-99.99188868931456 20.39140514481428...\n",
       "5DC5966F-5DC59670-5DC59671                          POLYGON ((-99.99147855471412 21.92518948660197...\n",
       "4A407C75-4A407C76-4A407C77                          POLYGON ((-100.0580728537365 25.42401204205725...\n",
       "5DC59683-5DC59684-5DC59685                          POLYGON ((-99.99147855471412 21.92518948660197...\n",
       "4A3C57BD-4A3C57BE-4A3C57C0-4A3C57C1                 POLYGON ((-100.0947703997932 26.58936993505824...\n",
       "\n",
       "[5731 rows x 1 columns]"
      ]
     },
     "execution_count": 4,
     "metadata": {},
     "output_type": "execute_result"
    }
   ],
   "source": [
    "%%time\n",
    "# generate data/mex_tvor_in_country.geojson\n",
    "tower_vor()"
   ]
  },
  {
   "cell_type": "markdown",
   "metadata": {
    "heading_collapsed": true
   },
   "source": [
    "## compare intersection_only True with False"
   ]
  },
  {
   "cell_type": "code",
   "execution_count": 4,
   "metadata": {
    "ExecuteTime": {
     "end_time": "2019-01-21T21:09:55.960519Z",
     "start_time": "2019-01-21T21:09:35.008142Z"
    },
    "hidden": true
   },
   "outputs": [
    {
     "name": "stdout",
     "output_type": "stream",
     "text": [
      "loading existing tvor file: data/mex_tower/mex_tvor_in_country.geojson\n"
     ]
    }
   ],
   "source": [
    "tvor = tower_vor('cities', False)"
   ]
  },
  {
   "cell_type": "code",
   "execution_count": 10,
   "metadata": {
    "ExecuteTime": {
     "end_time": "2019-01-21T21:22:31.977611Z",
     "start_time": "2019-01-21T21:22:12.098140Z"
    },
    "hidden": true
   },
   "outputs": [
    {
     "name": "stdout",
     "output_type": "stream",
     "text": [
      "loading existing tvor file: data/mex_tower/mex_tvor_in_country.geojson\n"
     ]
    }
   ],
   "source": [
    "tvor_within_cities = tower_vor('cities', intersection_only=True)"
   ]
  },
  {
   "cell_type": "code",
   "execution_count": 7,
   "metadata": {
    "hidden": true
   },
   "outputs": [
    {
     "data": {
      "text/html": [
       "<div>\n",
       "<style scoped>\n",
       "    .dataframe tbody tr th:only-of-type {\n",
       "        vertical-align: middle;\n",
       "    }\n",
       "\n",
       "    .dataframe tbody tr th {\n",
       "        vertical-align: top;\n",
       "    }\n",
       "\n",
       "    .dataframe thead th {\n",
       "        text-align: right;\n",
       "    }\n",
       "</style>\n",
       "<table border=\"1\" class=\"dataframe\">\n",
       "  <thead>\n",
       "    <tr style=\"text-align: right;\">\n",
       "      <th></th>\n",
       "      <th>city</th>\n",
       "      <th>geometry</th>\n",
       "      <th>gtid</th>\n",
       "      <th>iarea</th>\n",
       "      <th>gtid_area</th>\n",
       "      <th>weight</th>\n",
       "    </tr>\n",
       "  </thead>\n",
       "  <tbody>\n",
       "    <tr>\n",
       "      <th>330</th>\n",
       "      <td>Acapulco de Juárez, Guerrero</td>\n",
       "      <td>POLYGON ((-99.51699262264229 16.87102362215264...</td>\n",
       "      <td>2EE075F9-2EE075FA</td>\n",
       "      <td>1.359184e+08</td>\n",
       "      <td>1.359184e+08</td>\n",
       "      <td>1.0</td>\n",
       "    </tr>\n",
       "  </tbody>\n",
       "</table>\n",
       "</div>"
      ],
      "text/plain": [
       "                             city  \\\n",
       "330  Acapulco de Juárez, Guerrero   \n",
       "\n",
       "                                              geometry               gtid  \\\n",
       "330  POLYGON ((-99.51699262264229 16.87102362215264...  2EE075F9-2EE075FA   \n",
       "\n",
       "            iarea     gtid_area  weight  \n",
       "330  1.359184e+08  1.359184e+08     1.0  "
      ]
     },
     "execution_count": 7,
     "metadata": {},
     "output_type": "execute_result"
    }
   ],
   "source": [
    "# gtid=2EE075F9-2EE075FA  a boarder line example. If not cut at country boarder, the area is NaN\n",
    "tvor_within_cities[tvor_within_cities.gtid=='2EE075F9-2EE075FA']"
   ]
  },
  {
   "cell_type": "code",
   "execution_count": 8,
   "metadata": {
    "hidden": true,
    "scrolled": true
   },
   "outputs": [
    {
     "data": {
      "text/html": [
       "<div>\n",
       "<style scoped>\n",
       "    .dataframe tbody tr th:only-of-type {\n",
       "        vertical-align: middle;\n",
       "    }\n",
       "\n",
       "    .dataframe tbody tr th {\n",
       "        vertical-align: top;\n",
       "    }\n",
       "\n",
       "    .dataframe thead th {\n",
       "        text-align: right;\n",
       "    }\n",
       "</style>\n",
       "<table border=\"1\" class=\"dataframe\">\n",
       "  <thead>\n",
       "    <tr style=\"text-align: right;\">\n",
       "      <th></th>\n",
       "      <th>city</th>\n",
       "      <th>geometry</th>\n",
       "      <th>gtid</th>\n",
       "      <th>iarea</th>\n",
       "      <th>gtid_area</th>\n",
       "      <th>weight</th>\n",
       "    </tr>\n",
       "  </thead>\n",
       "  <tbody>\n",
       "    <tr>\n",
       "      <th>330</th>\n",
       "      <td>Acapulco de Juárez, Guerrero</td>\n",
       "      <td>POLYGON ((-99.51699262264229 16.87102362215264...</td>\n",
       "      <td>2EE075F9-2EE075FA</td>\n",
       "      <td>1.359184e+08</td>\n",
       "      <td>1.702219e+09</td>\n",
       "      <td>0.079848</td>\n",
       "    </tr>\n",
       "  </tbody>\n",
       "</table>\n",
       "</div>"
      ],
      "text/plain": [
       "                             city  \\\n",
       "330  Acapulco de Juárez, Guerrero   \n",
       "\n",
       "                                              geometry               gtid  \\\n",
       "330  POLYGON ((-99.51699262264229 16.87102362215264...  2EE075F9-2EE075FA   \n",
       "\n",
       "            iarea     gtid_area    weight  \n",
       "330  1.359184e+08  1.702219e+09  0.079848  "
      ]
     },
     "execution_count": 8,
     "metadata": {},
     "output_type": "execute_result"
    }
   ],
   "source": [
    "tvor[tvor.gtid=='2EE075F9-2EE075FA']"
   ]
  },
  {
   "cell_type": "markdown",
   "metadata": {},
   "source": [
    "# tower 2 grids for urban areas"
   ]
  },
  {
   "cell_type": "markdown",
   "metadata": {},
   "source": [
    "## clip by urban areas"
   ]
  },
  {
   "cell_type": "code",
   "execution_count": 4,
   "metadata": {
    "ExecuteTime": {
     "end_time": "2019-01-21T22:22:40.513069Z",
     "start_time": "2019-01-21T22:22:13.085680Z"
    }
   },
   "outputs": [
    {
     "name": "stdout",
     "output_type": "stream",
     "text": [
      "loading existing tvor file: data/mex_tower/mex_tvor_in_country.geojson\n"
     ]
    }
   ],
   "source": [
    "tvor_within_u = tower_vor('urban_areas_16', intersection_only=False, in_country=True)"
   ]
  },
  {
   "cell_type": "markdown",
   "metadata": {},
   "source": [
    "## dist to grids"
   ]
  },
  {
   "cell_type": "code",
   "execution_count": 7,
   "metadata": {
    "ExecuteTime": {
     "end_time": "2019-01-21T22:25:53.350622Z",
     "start_time": "2019-01-21T22:24:04.718924Z"
    }
   },
   "outputs": [
    {
     "name": "stdout",
     "output_type": "stream",
     "text": [
      "loading existing tvor file: data/mex_tower/mex_tvor_in_country.geojson\n",
      "keep tower voronoi within urban_areas_16 intersection only: False\n",
      "building grids\n",
      "writing grids as gzip\n",
      "building tower to grid mapping\n",
      "saving tower to grid mapping: data/mex_tower/mex_t2g_urban_areas_16_1000m.csv\n",
      "CPU times: user 1min 48s, sys: 56 ms, total: 1min 48s\n",
      "Wall time: 1min 48s\n"
     ]
    }
   ],
   "source": [
    "%%time\n",
    "t2g = tower2grid('urban_areas_16', 1000, t2r_intxn_only=False)"
   ]
  },
  {
   "cell_type": "markdown",
   "metadata": {},
   "source": [
    "## the sum of grid weights is the weights of each tower vor presented in urban areas\n"
   ]
  },
  {
   "cell_type": "code",
   "execution_count": 8,
   "metadata": {
    "ExecuteTime": {
     "end_time": "2019-01-21T22:25:53.775643Z",
     "start_time": "2019-01-21T22:25:53.756747Z"
    },
    "scrolled": true
   },
   "outputs": [],
   "source": [
    "a = tvor_within_u.set_index('gtid').weight\n",
    "b= t2g.groupby('gtid')['weight'].sum().rename('weight2')\n",
    "ab = pd.concat([a,b],axis=1, sort=False)\n",
    "assert pd.np.isclose(ab.weight, ab.weight2).mean()==1"
   ]
  },
  {
   "cell_type": "markdown",
   "metadata": {},
   "source": [
    "## make sure read==saved"
   ]
  },
  {
   "cell_type": "code",
   "execution_count": 9,
   "metadata": {
    "ExecuteTime": {
     "end_time": "2019-01-21T22:25:54.231049Z",
     "start_time": "2019-01-21T22:25:54.206805Z"
    },
    "cell_style": "center"
   },
   "outputs": [
    {
     "name": "stdout",
     "output_type": "stream",
     "text": [
      "reading existing t2g file: data/mex_tower/mex_t2g_urban_areas_16_1000m.csv\n"
     ]
    }
   ],
   "source": [
    "t2g_read = tower2grid('urban_areas_16', 1000, t2r_intxn_only=False)"
   ]
  },
  {
   "cell_type": "code",
   "execution_count": 10,
   "metadata": {
    "ExecuteTime": {
     "end_time": "2019-01-21T22:25:54.704903Z",
     "start_time": "2019-01-21T22:25:54.690222Z"
    },
    "cell_style": "split"
   },
   "outputs": [
    {
     "data": {
      "text/plain": [
       "gtid      59D87649-59D8764A-59D8764B\n",
       "grid                             530\n",
       "weight                   7.07641e-05\n",
       "Name: 546, dtype: object"
      ]
     },
     "execution_count": 10,
     "metadata": {},
     "output_type": "execute_result"
    }
   ],
   "source": [
    "t2g.loc[546]"
   ]
  },
  {
   "cell_type": "code",
   "execution_count": 11,
   "metadata": {
    "ExecuteTime": {
     "end_time": "2019-01-21T22:25:55.177306Z",
     "start_time": "2019-01-21T22:25:55.162932Z"
    },
    "cell_style": "split"
   },
   "outputs": [
    {
     "data": {
      "text/plain": [
       "gtid      59D87649-59D8764A-59D8764B\n",
       "grid                             530\n",
       "weight                   7.07641e-05\n",
       "Name: 546, dtype: object"
      ]
     },
     "execution_count": 11,
     "metadata": {},
     "output_type": "execute_result"
    }
   ],
   "source": [
    "t2g_read.loc[546]"
   ]
  },
  {
   "cell_type": "code",
   "execution_count": 12,
   "metadata": {
    "ExecuteTime": {
     "end_time": "2019-01-21T22:25:55.657320Z",
     "start_time": "2019-01-21T22:25:55.638771Z"
    },
    "cell_style": "split"
   },
   "outputs": [
    {
     "data": {
      "text/plain": [
       "gtid      1.000000\n",
       "grid      1.000000\n",
       "weight    0.698672\n",
       "dtype: float64"
      ]
     },
     "execution_count": 12,
     "metadata": {},
     "output_type": "execute_result"
    }
   ],
   "source": [
    "(t2g_read==t2g).mean()"
   ]
  },
  {
   "cell_type": "code",
   "execution_count": 13,
   "metadata": {
    "ExecuteTime": {
     "end_time": "2019-01-21T22:25:56.132157Z",
     "start_time": "2019-01-21T22:25:56.118103Z"
    },
    "cell_style": "split"
   },
   "outputs": [
    {
     "data": {
      "text/plain": [
       "1.0"
      ]
     },
     "execution_count": 13,
     "metadata": {},
     "output_type": "execute_result"
    }
   ],
   "source": [
    "pd.np.isclose(t2g_read.weight, t2g.weight).mean()"
   ]
  },
  {
   "cell_type": "markdown",
   "metadata": {
    "cell_style": "center"
   },
   "source": [
    "# tower 2 grids for cities"
   ]
  },
  {
   "cell_type": "markdown",
   "metadata": {},
   "source": [
    "## dist to grids"
   ]
  },
  {
   "cell_type": "code",
   "execution_count": 9,
   "metadata": {
    "deletable": false,
    "editable": false,
    "run_control": {
     "frozen": true
    }
   },
   "outputs": [
    {
     "name": "stdout",
     "output_type": "stream",
     "text": [
      "loading existing tvor file: data/mex_tvor_in_country.geojson\n",
      "keep tower voronoi within cities\n",
      "building grids\n",
      "writing grids as gzip\n",
      "building tower to grid mapping\n",
      "saving tower to grid mapping: data/mex_t2g_cities_1000m.csv\n",
      "CPU times: user 10min 16s, sys: 336 ms, total: 10min 17s\n",
      "Wall time: 10min 17s\n"
     ]
    }
   ],
   "source": [
    "%%time\n",
    "t2g = tower2grid('cities', 1000, t2r_intxn_only=False)"
   ]
  },
  {
   "cell_type": "markdown",
   "metadata": {},
   "source": [
    "## assert read == saved"
   ]
  },
  {
   "cell_type": "code",
   "execution_count": 10,
   "metadata": {},
   "outputs": [
    {
     "name": "stdout",
     "output_type": "stream",
     "text": [
      "reading existing t2g file: data/mex_t2g_cities_1000m.csv\n"
     ]
    }
   ],
   "source": [
    "t2g_read = tower2grid('cities', 1000, t2r_intxn_only=False)"
   ]
  },
  {
   "cell_type": "markdown",
   "metadata": {},
   "source": [
    "Check if loading existing result is the same as the one before saved"
   ]
  },
  {
   "cell_type": "code",
   "execution_count": 14,
   "metadata": {
    "cell_style": "split"
   },
   "outputs": [
    {
     "data": {
      "text/plain": [
       "gtid      2EE075F9-2EE075FA\n",
       "grid                  42512\n",
       "weight          3.93894e-05\n",
       "Name: 54684, dtype: object"
      ]
     },
     "execution_count": 14,
     "metadata": {},
     "output_type": "execute_result"
    }
   ],
   "source": [
    "t2g_read.loc[54684]"
   ]
  },
  {
   "cell_type": "code",
   "execution_count": 13,
   "metadata": {
    "cell_style": "split"
   },
   "outputs": [
    {
     "data": {
      "text/plain": [
       "gtid      2EE075F9-2EE075FA\n",
       "grid                  42512\n",
       "weight          3.93894e-05\n",
       "Name: 54684, dtype: object"
      ]
     },
     "execution_count": 13,
     "metadata": {},
     "output_type": "execute_result"
    }
   ],
   "source": [
    "t2g.loc[54684]"
   ]
  },
  {
   "cell_type": "code",
   "execution_count": 11,
   "metadata": {
    "cell_style": "split"
   },
   "outputs": [
    {
     "data": {
      "text/plain": [
       "gtid      1.00000\n",
       "grid      1.00000\n",
       "weight    0.65363\n",
       "dtype: float64"
      ]
     },
     "execution_count": 11,
     "metadata": {},
     "output_type": "execute_result"
    }
   ],
   "source": [
    "(t2g_read==t2g).mean()"
   ]
  },
  {
   "cell_type": "code",
   "execution_count": 12,
   "metadata": {
    "cell_style": "split"
   },
   "outputs": [
    {
     "data": {
      "text/plain": [
       "1.0"
      ]
     },
     "execution_count": 12,
     "metadata": {},
     "output_type": "execute_result"
    }
   ],
   "source": [
    "pd.np.isclose(t2g_read.weight, t2g.weight).mean()"
   ]
  },
  {
   "cell_type": "code",
   "execution_count": null,
   "metadata": {},
   "outputs": [],
   "source": []
  }
 ],
 "metadata": {
  "kernelspec": {
   "display_name": "Python [default]",
   "language": "python",
   "name": "python3"
  },
  "language_info": {
   "codemirror_mode": {
    "name": "ipython",
    "version": 3
   },
   "file_extension": ".py",
   "mimetype": "text/x-python",
   "name": "python",
   "nbconvert_exporter": "python",
   "pygments_lexer": "ipython3",
   "version": "3.6.6"
  },
  "toc": {
   "base_numbering": 1,
   "nav_menu": {},
   "number_sections": true,
   "sideBar": true,
   "skip_h1_title": false,
   "title_cell": "Table of Contents",
   "title_sidebar": "Contents",
   "toc_cell": false,
   "toc_position": {},
   "toc_section_display": true,
   "toc_window_display": false
  },
  "varInspector": {
   "cols": {
    "lenName": 16,
    "lenType": 16,
    "lenVar": 40
   },
   "kernels_config": {
    "python": {
     "delete_cmd_postfix": "",
     "delete_cmd_prefix": "del ",
     "library": "var_list.py",
     "varRefreshCmd": "print(var_dic_list())"
    },
    "r": {
     "delete_cmd_postfix": ") ",
     "delete_cmd_prefix": "rm(",
     "library": "var_list.r",
     "varRefreshCmd": "cat(var_dic_list()) "
    }
   },
   "types_to_exclude": [
    "module",
    "function",
    "builtin_function_or_method",
    "instance",
    "_Feature"
   ],
   "window_display": false
  }
 },
 "nbformat": 4,
 "nbformat_minor": 2
}
