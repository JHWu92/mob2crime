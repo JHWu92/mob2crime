{
 "cells": [
  {
   "cell_type": "code",
   "execution_count": 1,
   "metadata": {},
   "outputs": [
    {
     "data": {
      "text/plain": [
       "'/home/Jiahui/mob2crime'"
      ]
     },
     "execution_count": 1,
     "metadata": {},
     "output_type": "execute_result"
    }
   ],
   "source": [
    "import os\n",
    "\n",
    "if not os.getcwd().endswith('mob2crime'):\n",
    "    os.chdir('..')\n",
    "os.getcwd()"
   ]
  },
  {
   "cell_type": "code",
   "execution_count": 2,
   "metadata": {},
   "outputs": [],
   "source": [
    "import geopandas as gp\n",
    "from shapely.geometry import Polygon"
   ]
  },
  {
   "cell_type": "code",
   "execution_count": 11,
   "metadata": {},
   "outputs": [],
   "source": [
    "%matplotlib inline"
   ]
  },
  {
   "cell_type": "code",
   "execution_count": 117,
   "metadata": {},
   "outputs": [],
   "source": [
    "polys1 = [\n",
    "    Polygon([(0,0), (0,2), (2,2), (2,0)]),\n",
    "    Polygon([(0,0), (0,-2), (-2,-2), (-2,0)]),\n",
    "    \n",
    "]\n",
    "polys1=gp.GeoDataFrame(polys1, columns=['geometry'])"
   ]
  },
  {
   "cell_type": "code",
   "execution_count": 118,
   "metadata": {},
   "outputs": [],
   "source": [
    "polys2 = [\n",
    "    Polygon([(0,0), (0,1), (1,1), (1,0)]),\n",
    "    Polygon([(1,0), (2,0), (2,1), (1,1)]),\n",
    "    Polygon([(1,1), (1,2), (2,2), (2,1)]),\n",
    "    Polygon([(0,0), (0,-1), (-1,-1), (-1,0)]),\n",
    "    \n",
    "]\n",
    "polys2= gp.GeoDataFrame(polys2, columns=['geometry'])"
   ]
  },
  {
   "cell_type": "code",
   "execution_count": 141,
   "metadata": {},
   "outputs": [
    {
     "name": "stdout",
     "output_type": "stream",
     "text": [
      "cur_epsg is 4326, polys1.crs is {'init': 'epsg:4326', 'no_defs': True}, polys2.crs is {'init': 'epsg:4326', 'no_defs': True}\n"
     ]
    },
    {
     "data": {
      "text/html": [
       "<div>\n",
       "<style scoped>\n",
       "    .dataframe tbody tr th:only-of-type {\n",
       "        vertical-align: middle;\n",
       "    }\n",
       "\n",
       "    .dataframe tbody tr th {\n",
       "        vertical-align: top;\n",
       "    }\n",
       "\n",
       "    .dataframe thead th {\n",
       "        text-align: right;\n",
       "    }\n",
       "</style>\n",
       "<table border=\"1\" class=\"dataframe\">\n",
       "  <thead>\n",
       "    <tr style=\"text-align: right;\">\n",
       "      <th></th>\n",
       "      <th>geometry</th>\n",
       "      <th>poly1</th>\n",
       "      <th>poly2</th>\n",
       "      <th>iarea</th>\n",
       "      <th>poly1_area</th>\n",
       "      <th>weight</th>\n",
       "    </tr>\n",
       "  </thead>\n",
       "  <tbody>\n",
       "    <tr>\n",
       "      <th>0</th>\n",
       "      <td>POLYGON ((0 0, 0 -1, -1 -1, -1 0, 0 0))</td>\n",
       "      <td>1</td>\n",
       "      <td>3</td>\n",
       "      <td>1.443216e+10</td>\n",
       "      <td>5.813894e+10</td>\n",
       "      <td>0.248236</td>\n",
       "    </tr>\n",
       "    <tr>\n",
       "      <th>1</th>\n",
       "      <td>POLYGON ((0 0, 0 1, 1 1, 1 0, 0 0))</td>\n",
       "      <td>0</td>\n",
       "      <td>0</td>\n",
       "      <td>1.423361e+10</td>\n",
       "      <td>5.655007e+10</td>\n",
       "      <td>0.251699</td>\n",
       "    </tr>\n",
       "    <tr>\n",
       "      <th>2</th>\n",
       "      <td>POLYGON ((2 0, 1 0, 1 1, 2 1, 2 0))</td>\n",
       "      <td>0</td>\n",
       "      <td>1</td>\n",
       "      <td>1.423361e+10</td>\n",
       "      <td>5.655007e+10</td>\n",
       "      <td>0.251699</td>\n",
       "    </tr>\n",
       "    <tr>\n",
       "      <th>3</th>\n",
       "      <td>POLYGON ((1 1, 1 2, 2 2, 2 1, 1 1))</td>\n",
       "      <td>0</td>\n",
       "      <td>2</td>\n",
       "      <td>1.404211e+10</td>\n",
       "      <td>5.655007e+10</td>\n",
       "      <td>0.248313</td>\n",
       "    </tr>\n",
       "  </tbody>\n",
       "</table>\n",
       "</div>"
      ],
      "text/plain": [
       "                                  geometry  poly1  poly2         iarea  \\\n",
       "0  POLYGON ((0 0, 0 -1, -1 -1, -1 0, 0 0))      1      3  1.443216e+10   \n",
       "1      POLYGON ((0 0, 0 1, 1 1, 1 0, 0 0))      0      0  1.423361e+10   \n",
       "2      POLYGON ((2 0, 1 0, 1 1, 2 1, 2 0))      0      1  1.423361e+10   \n",
       "3      POLYGON ((1 1, 1 2, 2 2, 2 1, 1 1))      0      2  1.404211e+10   \n",
       "\n",
       "     poly1_area    weight  \n",
       "0  5.813894e+10  0.248236  \n",
       "1  5.655007e+10  0.251699  \n",
       "2  5.655007e+10  0.251699  \n",
       "3  5.655007e+10  0.248313  "
      ]
     },
     "execution_count": 141,
     "metadata": {},
     "output_type": "execute_result"
    }
   ],
   "source": [
    "\n",
    "def polys2polys(polys1, polys2, pname1='poly1', pname2='poly2', cur_epsg=None, area_epsg=None, intersection_only=True):\n",
    "    do_crs_transform = True\n",
    "\n",
    "    # make sure CRS is set correctly\n",
    "    if cur_epsg is None and polys1.crs is None and polys2.crs is None: \n",
    "        if area_epsg is None:\n",
    "            do_crs_transform = False\n",
    "            print(\"No current epsg is specified. Area is computed directed in the current coordinates\")\n",
    "        else:\n",
    "            raise ValueError('area epsg is specified, but the polygons have no CRS')\n",
    "    \n",
    "    if do_crs_transform:\n",
    "        if area_epsg is None:\n",
    "            raise ValueError(\n",
    "                'Need to do area transform, but area is not specified. '\n",
    "                f\"cur_epsg is {cur_epsg}, polys1.crs is {polys1.crs}, polys2.crs is {polys2.crs}\"\n",
    "            )\n",
    "        if polys1.crs is None: polys1.crs = {'init': 'epsg:%d'%cur_epsg, 'no_defs': True}\n",
    "        if polys2.crs is None: polys2.crs = {'init': 'epsg:%d'%cur_epsg, 'no_defs': True}\n",
    "    \n",
    "    # get intersections between polys1 and polys2\n",
    "    ps1tops2 = gp.sjoin(polys1, polys2)\n",
    "    itxns = []\n",
    "    for li, row in ps1tops2.iterrows():\n",
    "        itxn = polys2.loc[row.index_right].geometry.intersection(polys1.loc[li].geometry)\n",
    "        itxns.append({pname1: li, pname2: row.index_right, 'geometry': itxn})\n",
    "    itxns = gp.GeoDataFrame(itxns)\n",
    "    \n",
    "    # get area of the intersections\n",
    "    if do_crs_transform:\n",
    "        itxns.crs = polys1.crs\n",
    "        itxns_for_area = itxns.to_crs(epsg=area_epsg)\n",
    "    else:\n",
    "        itxns_for_area = itxns  \n",
    "    itxns['iarea'] = itxns_for_area.geometry.apply(lambda x: x.area)\n",
    "    itxns.drop(itxns[itxns['iarea']==0].index, inplace=True)\n",
    "    \n",
    "    # compute the weight\n",
    "    if intersection_only:\n",
    "        polys1_area = itxns.groupby(pname1).apply(lambda x: x['iarea'].sum()).to_frame()\n",
    "    else:\n",
    "        polys1_area = polys1.to_crs(epsg=area_epsg).geometry.apply(lambda x: x.area).to_frame()\n",
    "        polys1_area.index.name = pname1\n",
    "    polys1_area = polys1_area\n",
    "    polys1_area.columns=[pname1+'_area']\n",
    "    polys1_area.reset_index(inplace=True)\n",
    "    itxns = itxns.merge(polys1_area)\n",
    "    itxns['weight'] = itxns['iarea']/itxns[pname1+'_area']\n",
    "    return gp.pd.DataFrame(itxns[[pname1, pname2, 'weight']])\n",
    "          \n",
    "i = polys2polys(polys1, polys2, cur_epsg=4326, area_epsg=6362, intersection_only=False)\n",
    "i"
   ]
  },
  {
   "cell_type": "code",
   "execution_count": 132,
   "metadata": {},
   "outputs": [
    {
     "data": {
      "text/html": [
       "<div>\n",
       "<style scoped>\n",
       "    .dataframe tbody tr th:only-of-type {\n",
       "        vertical-align: middle;\n",
       "    }\n",
       "\n",
       "    .dataframe tbody tr th {\n",
       "        vertical-align: top;\n",
       "    }\n",
       "\n",
       "    .dataframe thead th {\n",
       "        text-align: right;\n",
       "    }\n",
       "</style>\n",
       "<table border=\"1\" class=\"dataframe\">\n",
       "  <thead>\n",
       "    <tr style=\"text-align: right;\">\n",
       "      <th></th>\n",
       "      <th>geometry</th>\n",
       "      <th>poly1</th>\n",
       "      <th>poly2</th>\n",
       "      <th>area</th>\n",
       "      <th>poly1_area</th>\n",
       "      <th>weight</th>\n",
       "    </tr>\n",
       "  </thead>\n",
       "  <tbody>\n",
       "    <tr>\n",
       "      <th>0</th>\n",
       "      <td>POLYGON ((0 0, 0 -1, -1 -1, -1 0, 0 0))</td>\n",
       "      <td>1</td>\n",
       "      <td>3</td>\n",
       "      <td>1.239266e+10</td>\n",
       "      <td>4.957819e+10</td>\n",
       "      <td>0.249962</td>\n",
       "    </tr>\n",
       "    <tr>\n",
       "      <th>1</th>\n",
       "      <td>POLYGON ((0 0, 0 1, 1 1, 1 0, 0 0))</td>\n",
       "      <td>0</td>\n",
       "      <td>0</td>\n",
       "      <td>1.239266e+10</td>\n",
       "      <td>4.957819e+10</td>\n",
       "      <td>0.249962</td>\n",
       "    </tr>\n",
       "    <tr>\n",
       "      <th>2</th>\n",
       "      <td>POLYGON ((2 0, 1 0, 1 1, 2 1, 2 0))</td>\n",
       "      <td>0</td>\n",
       "      <td>1</td>\n",
       "      <td>1.239266e+10</td>\n",
       "      <td>4.957819e+10</td>\n",
       "      <td>0.249962</td>\n",
       "    </tr>\n",
       "    <tr>\n",
       "      <th>3</th>\n",
       "      <td>POLYGON ((1 1, 1 2, 2 2, 2 1, 1 1))</td>\n",
       "      <td>0</td>\n",
       "      <td>2</td>\n",
       "      <td>1.239643e+10</td>\n",
       "      <td>4.957819e+10</td>\n",
       "      <td>0.250038</td>\n",
       "    </tr>\n",
       "  </tbody>\n",
       "</table>\n",
       "</div>"
      ],
      "text/plain": [
       "                                  geometry  poly1  poly2          area  \\\n",
       "0  POLYGON ((0 0, 0 -1, -1 -1, -1 0, 0 0))      1      3  1.239266e+10   \n",
       "1      POLYGON ((0 0, 0 1, 1 1, 1 0, 0 0))      0      0  1.239266e+10   \n",
       "2      POLYGON ((2 0, 1 0, 1 1, 2 1, 2 0))      0      1  1.239266e+10   \n",
       "3      POLYGON ((1 1, 1 2, 2 2, 2 1, 1 1))      0      2  1.239643e+10   \n",
       "\n",
       "     poly1_area    weight  \n",
       "0  4.957819e+10  0.249962  \n",
       "1  4.957819e+10  0.249962  \n",
       "2  4.957819e+10  0.249962  \n",
       "3  4.957819e+10  0.250038  "
      ]
     },
     "execution_count": 132,
     "metadata": {},
     "output_type": "execute_result"
    }
   ],
   "source": [
    "i"
   ]
  },
  {
   "cell_type": "code",
   "execution_count": 126,
   "metadata": {},
   "outputs": [
    {
     "data": {
      "text/plain": [
       "0.24996192882394455"
      ]
     },
     "execution_count": 126,
     "metadata": {},
     "output_type": "execute_result"
    }
   ],
   "source": [
    "1.239266e+10/4.957819e+10"
   ]
  },
  {
   "cell_type": "code",
   "execution_count": null,
   "metadata": {},
   "outputs": [],
   "source": []
  },
  {
   "cell_type": "code",
   "execution_count": 99,
   "metadata": {},
   "outputs": [
    {
     "data": {
      "text/html": [
       "<div>\n",
       "<style scoped>\n",
       "    .dataframe tbody tr th:only-of-type {\n",
       "        vertical-align: middle;\n",
       "    }\n",
       "\n",
       "    .dataframe tbody tr th {\n",
       "        vertical-align: top;\n",
       "    }\n",
       "\n",
       "    .dataframe thead th {\n",
       "        text-align: right;\n",
       "    }\n",
       "</style>\n",
       "<table border=\"1\" class=\"dataframe\">\n",
       "  <thead>\n",
       "    <tr style=\"text-align: right;\">\n",
       "      <th></th>\n",
       "      <th>poly1</th>\n",
       "      <th>poly2</th>\n",
       "      <th>weight</th>\n",
       "    </tr>\n",
       "  </thead>\n",
       "  <tbody>\n",
       "    <tr>\n",
       "      <th>0</th>\n",
       "      <td>1</td>\n",
       "      <td>3</td>\n",
       "      <td>1.000000</td>\n",
       "    </tr>\n",
       "    <tr>\n",
       "      <th>1</th>\n",
       "      <td>0</td>\n",
       "      <td>0</td>\n",
       "      <td>0.333333</td>\n",
       "    </tr>\n",
       "    <tr>\n",
       "      <th>2</th>\n",
       "      <td>0</td>\n",
       "      <td>1</td>\n",
       "      <td>0.333333</td>\n",
       "    </tr>\n",
       "    <tr>\n",
       "      <th>3</th>\n",
       "      <td>0</td>\n",
       "      <td>2</td>\n",
       "      <td>0.333333</td>\n",
       "    </tr>\n",
       "  </tbody>\n",
       "</table>\n",
       "</div>"
      ],
      "text/plain": [
       "   poly1  poly2    weight\n",
       "0      1      3  1.000000\n",
       "1      0      0  0.333333\n",
       "2      0      1  0.333333\n",
       "3      0      2  0.333333"
      ]
     },
     "execution_count": 99,
     "metadata": {},
     "output_type": "execute_result"
    }
   ],
   "source": [
    "    return gp.pd.DataFrame(itxns[[pname1, pname2, 'weight']])"
   ]
  }
 ],
 "metadata": {
  "kernelspec": {
   "display_name": "Python [default]",
   "language": "python",
   "name": "python3"
  },
  "language_info": {
   "codemirror_mode": {
    "name": "ipython",
    "version": 3
   },
   "file_extension": ".py",
   "mimetype": "text/x-python",
   "name": "python",
   "nbconvert_exporter": "python",
   "pygments_lexer": "ipython3",
   "version": "3.6.6"
  }
 },
 "nbformat": 4,
 "nbformat_minor": 2
}
