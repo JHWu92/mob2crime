{
 "cells": [
  {
   "cell_type": "code",
   "execution_count": 1,
   "metadata": {},
   "outputs": [
    {
     "data": {
      "text/plain": [
       "'/home/Jiahui/mob2crime'"
      ]
     },
     "execution_count": 1,
     "metadata": {},
     "output_type": "execute_result"
    }
   ],
   "source": [
    "import os\n",
    "\n",
    "if not os.getcwd().endswith('mob2crime'):\n",
    "    os.chdir('..')\n",
    "os.getcwd()"
   ]
  },
  {
   "cell_type": "code",
   "execution_count": 7,
   "metadata": {},
   "outputs": [],
   "source": [
    "from src.utils.gis import *\n",
    "import  src.mex_helper as mex"
   ]
  },
  {
   "cell_type": "code",
   "execution_count": 21,
   "metadata": {},
   "outputs": [
    {
     "data": {
      "text/plain": [
       "city\n",
       "Acapulco de Juárez, Guerrero          3842\n",
       "Cancún, Quintana Roo                  3312\n",
       "Chihuahua, Chihuahua                 17913\n",
       "Cuernavaca, Morelos                   1326\n",
       "Culiacán Rosales, Sinaloa              193\n",
       "Guadalajara, Jalisco                  2912\n",
       "Juárez, Chihuahua                     3572\n",
       "Mexicali, Baja California            15527\n",
       "Monterrey, Nuevo León                 7011\n",
       "Morelia, Michoacán de Ocampo          1959\n",
       "Nuevo Laredo, Tamaulipas              1285\n",
       "Oaxaca de Juárez, Oaxaca               730\n",
       "Tijuana, Baja California              4393\n",
       "Toluca de Lerdo, México               2391\n",
       "Valle de Mexico, Distrito Federal     1626\n",
       "Villahermosa, Tabasco                 2489\n",
       "dtype: int64"
      ]
     },
     "execution_count": 21,
     "metadata": {},
     "output_type": "execute_result"
    }
   ],
   "source": [
    "mex_grids.groupby('city').size()"
   ]
  },
  {
   "cell_type": "code",
   "execution_count": 5,
   "metadata": {},
   "outputs": [
    {
     "name": "stdout",
     "output_type": "stream",
     "text": [
      "reading existing grids\n"
     ]
    }
   ],
   "source": [
    "mex_grids = mex.grids(rkind='cities', side=1000)"
   ]
  },
  {
   "cell_type": "code",
   "execution_count": 11,
   "metadata": {},
   "outputs": [],
   "source": [
    "cur_crs = None\n",
    "dist_crs = mex.EQDC_CRS"
   ]
  },
  {
   "cell_type": "code",
   "execution_count": 42,
   "metadata": {},
   "outputs": [],
   "source": [
    "def polys_centroid_pairwise_dist(polys, cur_crs=None, dist_crs=None):\n",
    "    from scipy.spatial.distance import cdist\n",
    "\n",
    "    if len(polys)>40000:\n",
    "        raise ValueError('size of polys is', len(polys), 'could be too large for memory')\n",
    "\n",
    "    cur_crs = crs_normalization(cur_crs)\n",
    "    dist_crs = crs_normalization(dist_crs)\n",
    "\n",
    "    centroids = polys.geometry.apply(lambda x: x.centroid)\n",
    "\n",
    "    assign_crs(centroids, cur_crs)\n",
    "\n",
    "    centroids = centroids.to_crs(dist_crs).apply(lambda x: x.coords[0]).tolist()\n",
    "    d = cdist(centroids, centroids)\n",
    "    return d"
   ]
  },
  {
   "cell_type": "code",
   "execution_count": 44,
   "metadata": {},
   "outputs": [],
   "source": [
    "polys = mex_grids[mex_grids.city=='Chihuahua, Chihuahua']"
   ]
  },
  {
   "cell_type": "code",
   "execution_count": 45,
   "metadata": {},
   "outputs": [],
   "source": [
    "d = polys_centroid_pairwise_dist(polys, cur_crs=4326, dist_crs=mex.EQDC_CRS)"
   ]
  },
  {
   "cell_type": "code",
   "execution_count": null,
   "metadata": {},
   "outputs": [],
   "source": []
  }
 ],
 "metadata": {
  "kernelspec": {
   "display_name": "Python [default]",
   "language": "python",
   "name": "python3"
  },
  "language_info": {
   "codemirror_mode": {
    "name": "ipython",
    "version": 3
   },
   "file_extension": ".py",
   "mimetype": "text/x-python",
   "name": "python",
   "nbconvert_exporter": "python",
   "pygments_lexer": "ipython3",
   "version": "3.6.6"
  }
 },
 "nbformat": 4,
 "nbformat_minor": 2
}
