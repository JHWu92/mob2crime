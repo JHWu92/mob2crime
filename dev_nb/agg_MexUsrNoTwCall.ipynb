{
 "cells": [
  {
   "cell_type": "code",
   "execution_count": 1,
   "metadata": {},
   "outputs": [
    {
     "data": {
      "text/plain": [
       "'/home/Jiahui/mob2crime'"
      ]
     },
     "execution_count": 1,
     "metadata": {},
     "output_type": "execute_result"
    }
   ],
   "source": [
    "import os\n",
    "if not os.getcwd().endswith('mob2crime'):\n",
    "    os.chdir('..')\n",
    "os.getcwd()"
   ]
  },
  {
   "cell_type": "code",
   "execution_count": 3,
   "metadata": {},
   "outputs": [],
   "source": [
    "import glob\n",
    "import pandas as pd\n",
    "import gzip\n",
    "import os\n",
    "from src.creds import mex_root, mex_col_call\n",
    "import logging\n",
    "import datetime\n",
    "from collections import defaultdict\n",
    "import json"
   ]
  },
  {
   "cell_type": "code",
   "execution_count": 4,
   "metadata": {},
   "outputs": [],
   "source": [
    "debugging = True\n",
    "voz_only = True\n",
    "\n",
    "level = logging.DEBUG if debugging else logging.INFO\n",
    "logging.basicConfig(filename=\"logs/MexUsrNoTwCall.log\", level=level, format='%(asctime)s - %(name)s - %(levelname)s - %(message)s')"
   ]
  },
  {
   "cell_type": "code",
   "execution_count": 5,
   "metadata": {},
   "outputs": [],
   "source": [
    "\n",
    "idx_date = mex_col_call.index('date')\n",
    "idx_time = mex_col_call.index('time')\n",
    "idx_t1 = mex_col_call.index('cell_initial')\n",
    "idx_t2 = mex_col_call.index('cell_final')\n",
    "idx_duration = mex_col_call.index('duration')\n",
    "idx_p1 = mex_col_call.index('phone_1')"
   ]
  },
  {
   "cell_type": "code",
   "execution_count": 6,
   "metadata": {},
   "outputs": [],
   "source": [
    "file_pattern = '??????/*TRAFICO_VOZ_[0-9]*'  if voz_only else '??????/*TRAFICO_VOZ_ENTRANTE*'\n",
    "fns = []\n",
    "for fn in glob.glob(mex_root+file_pattern):\n",
    "    fns.append(fn)\n",
    "fns = sorted(fns)"
   ]
  },
  {
   "cell_type": "code",
   "execution_count": 8,
   "metadata": {},
   "outputs": [],
   "source": [
    "\n",
    "stats_dir = 'stats/AggMexUsrNoTwCallVOZ/' if voz_only else 'stats/AggMexUsrNoTwCallVOZENTRANTE/' \n",
    "if debugging: stats_dir+='debug/'\n",
    "os.makedirs(stats_dir,exist_ok=True)\n"
   ]
  },
  {
   "cell_type": "code",
   "execution_count": 19,
   "metadata": {},
   "outputs": [],
   "source": [
    "done_file_date = set([os.path.basename(fn).replace('.json.gz','') for fn in glob.glob(stats_dir+'*.json.gz')])"
   ]
  },
  {
   "cell_type": "code",
   "execution_count": 20,
   "metadata": {},
   "outputs": [
    {
     "name": "stdout",
     "output_type": "stream",
     "text": [
      "skipping 0th, file_date: 2009-10-01\n",
      "skipping 1th, file_date: 2009-10-02\n",
      "working on the 2th file\n"
     ]
    }
   ],
   "source": [
    "\n",
    "# loop over the files\n",
    "start_dt = datetime.datetime.now()\n",
    "logging.info('===============================')\n",
    "logging.info('MEX stats starts. Number of files: %d, debugging=%s, VOZ_only=%s' % (len(fns), debugging, voz_only))\n",
    "\n",
    "for cnt, fn in enumerate(fns):\n",
    "    \n",
    "    file_date = fn.replace('.dat','').replace('.gz','')[-8:]\n",
    "    file_date = datetime.datetime.strptime(file_date, '%Y%m%d')\n",
    "    file_date = file_date.strftime('%Y-%m-%d')\n",
    "    if file_date in done_file_date:\n",
    "        print('skipping %dth, file_date: %s' % (cnt, file_date))\n",
    "        continue\n",
    "    \n",
    "    print('working on the %dth file' % cnt)\n",
    "    \n",
    "    logging.info('processing file: %s' % fn.replace(mex_root,''))\n",
    "    \n",
    "    # for logging processing time per file\n",
    "    fn_start_dt = datetime.datetime.now()\n",
    "    \n",
    "    # storing stats: stats[phone1][kind] = number of call\n",
    "    stats = defaultdict(lambda: defaultdict(int))\n",
    "\n",
    "    # loop over the lines in a file\n",
    "    # some files are not gzipped\n",
    "    try:\n",
    "        f = gzip.open(fn, 'rb') if fn.endswith('.gz') else open(fn,'rb')\n",
    "\n",
    "        for i, line in enumerate(f):\n",
    "            if i>10 and debugging:\n",
    "                break\n",
    "            logging.debug(line)\n",
    "            try:\n",
    "                line = line.decode('utf8').strip().split('|')\n",
    "                p1 = line[idx_p1]\n",
    "                t1 = line[idx_t1]\n",
    "                t2 = line[idx_t2]\n",
    "                stats[p1]['all'] += 1\n",
    "                if t1=='' or t1 is None:\n",
    "                    stats[p1]['nt1'] += 1\n",
    "                if t2=='' or t2 is None:\n",
    "                    stats[p1]['nt2'] += 1\n",
    "            except Exception as e:\n",
    "                logging.exception('file %s line %d raise %s\\nThis line is: %s' % (fn, i, type(e).__name__, line))\n",
    "                \n",
    "        logging.debug('iterated all lines')\n",
    "    except EOFError as e:\n",
    "        logging.exception('file %s raise EOFError' % fn)\n",
    "    \n",
    "    f.close()\n",
    "    \n",
    "    # save file\n",
    "    with gzip.open(stats_dir+'%s.json.gz' % file_date, 'wt') as zipfile:\n",
    "        json.dump(stats, zipfile)\n",
    "    \n",
    "    logging.info('File processing time: %f seconds' % (datetime.datetime.now()-fn_start_dt).total_seconds())\n",
    "    \n",
    "    if debugging and cnt>=1:\n",
    "        break  # fn loop\n",
    "    \n",
    "logging.info('MEX stats ends, %f seconds' %(datetime.datetime.now()-start_dt).total_seconds())"
   ]
  },
  {
   "cell_type": "code",
   "execution_count": null,
   "metadata": {},
   "outputs": [],
   "source": []
  }
 ],
 "metadata": {
  "kernelspec": {
   "display_name": "Python [default]",
   "language": "python",
   "name": "python3"
  },
  "language_info": {
   "codemirror_mode": {
    "name": "ipython",
    "version": 3
   },
   "file_extension": ".py",
   "mimetype": "text/x-python",
   "name": "python",
   "nbconvert_exporter": "python",
   "pygments_lexer": "ipython3",
   "version": "3.6.6"
  }
 },
 "nbformat": 4,
 "nbformat_minor": 2
}
