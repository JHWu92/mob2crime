{
 "cells": [
  {
   "cell_type": "code",
   "execution_count": 1,
   "metadata": {},
   "outputs": [],
   "source": [
    "%load_ext autoreload\n",
    "%autoreload 2"
   ]
  },
  {
   "cell_type": "code",
   "execution_count": 2,
   "metadata": {},
   "outputs": [
    {
     "data": {
      "text/plain": [
       "'/home/Jiahui/mob2crime'"
      ]
     },
     "execution_count": 2,
     "metadata": {},
     "output_type": "execute_result"
    }
   ],
   "source": [
    "import os\n",
    "\n",
    "if not os.getcwd().endswith('mob2crime'):\n",
    "    os.chdir('..')\n",
    "os.getcwd()"
   ]
  },
  {
   "cell_type": "code",
   "execution_count": 3,
   "metadata": {},
   "outputs": [],
   "source": [
    "import pandas as pd\n",
    "import numpy as np\n",
    "import geopandas as gp\n",
    "import folium\n",
    "from scipy.spatial import Voronoi, voronoi_plot_2d\n",
    "\n",
    "from src.utils.gis import *\n",
    "from src.utils.map_vis import *\n",
    "import src.mex_helper as mex"
   ]
  },
  {
   "cell_type": "markdown",
   "metadata": {},
   "source": [
    "# Mexico tw2city"
   ]
  },
  {
   "cell_type": "markdown",
   "metadata": {},
   "source": [
    "## all tower polygons"
   ]
  },
  {
   "cell_type": "code",
   "execution_count": 66,
   "metadata": {},
   "outputs": [
    {
     "name": "stdout",
     "output_type": "stream",
     "text": [
      "1    5731\n",
      "Name: gtid, dtype: int64\n"
     ]
    }
   ],
   "source": [
    "# get tower points\n",
    "mex_tower = mex.tower()\n",
    "# voronoi polygons across mexico\n",
    "tw_vor_polys = lonlats2vorpolys(mex_tower.lonlat.tolist(),dataframe=True)\n",
    "tw_vor_polys['gtid'] = mex_tower.gtid\n",
    "tw_vor_polys.crs = mex_tower.crs\n",
    "print(tw_vor_polys.gtid.value_counts().value_counts())\n",
    "tw_vor_polys.set_index('gtid', inplace=True)"
   ]
  },
  {
   "cell_type": "code",
   "execution_count": null,
   "metadata": {},
   "outputs": [],
   "source": [
    "# plot the vor polygons\n",
    "some_map = folium.Map(location=[19.381495, -99.139095], zoom_start=8)\n",
    "geojson_per_row(tw_vor_polys, 'vor', color='yellow', tip_cols=['gtid'],some_map=some_map)\n",
    "point_per_row(towers_shp, 'tower', tip_cols=['gtid'],some_map=some_map)\n",
    "\n",
    "folium.LayerControl().add_to(some_map)\n",
    "some_map.save('tmp/mexico_voronoi.html')"
   ]
  },
  {
   "cell_type": "markdown",
   "metadata": {},
   "source": [
    "## tower polygons within cities(or other given regions)"
   ]
  },
  {
   "cell_type": "code",
   "execution_count": 67,
   "metadata": {},
   "outputs": [],
   "source": [
    "mex_cities = mex.cities()"
   ]
  },
  {
   "cell_type": "code",
   "execution_count": 68,
   "metadata": {},
   "outputs": [],
   "source": [
    "# intesect city polygons and tower polygons, \n",
    "# default weight=1 (the percentage of stats in that tower to be assigned to that city)\n",
    "mex_t2c = gp.sjoin(tw_vor_polys, mex_cities)\n",
    "mex_t2c['weight'] = 1"
   ]
  },
  {
   "cell_type": "code",
   "execution_count": 70,
   "metadata": {},
   "outputs": [],
   "source": [
    "num_cities_per_tower = mex_t2c.groupby(level=0)['index_right'].count()\n",
    "t_m_c = num_cities_per_tower[num_cities_per_tower>1]\n",
    "t1c = num_cities_per_tower[num_cities_per_tower==1]"
   ]
  },
  {
   "cell_type": "code",
   "execution_count": 71,
   "metadata": {},
   "outputs": [],
   "source": [
    "# for the tower polygons intersecting with multiple cities\n",
    "# compute the area of each intersection\n",
    "# divide the weight by the percentage of area\n",
    "itxns = []\n",
    "for gtid, row in mex_t2c.loc[t_m_c.index].iterrows():\n",
    "    itxn = mex_cities.loc[row.index_right].geometry.intersection(tw_vor_polys.loc[gtid].geometry)\n",
    "    itxns.append({'gtid': gtid, 'cname': row.index_right, 'geometry': itxn})\n",
    "itxns = gp.GeoDataFrame(itxns)\n",
    "\n",
    "itxns.crs = mex_cities.crs\n",
    "itxns = itxns.to_crs(epsg=6362)\n",
    "itxns['area'] = itxns.geometry.apply(lambda x: x.area)\n",
    "\n",
    "itxns['weight'] = itxns.groupby('gtid').apply(lambda x: x.area/x.area.sum()).sort_index(level=1).values"
   ]
  },
  {
   "cell_type": "code",
   "execution_count": 72,
   "metadata": {},
   "outputs": [
    {
     "data": {
      "text/html": [
       "<div>\n",
       "<style scoped>\n",
       "    .dataframe tbody tr th:only-of-type {\n",
       "        vertical-align: middle;\n",
       "    }\n",
       "\n",
       "    .dataframe tbody tr th {\n",
       "        vertical-align: top;\n",
       "    }\n",
       "\n",
       "    .dataframe thead th {\n",
       "        text-align: right;\n",
       "    }\n",
       "</style>\n",
       "<table border=\"1\" class=\"dataframe\">\n",
       "  <thead>\n",
       "    <tr style=\"text-align: right;\">\n",
       "      <th></th>\n",
       "      <th>cname</th>\n",
       "      <th>geometry</th>\n",
       "      <th>gtid</th>\n",
       "      <th>area</th>\n",
       "      <th>weight</th>\n",
       "    </tr>\n",
       "  </thead>\n",
       "  <tbody>\n",
       "    <tr>\n",
       "      <th>0</th>\n",
       "      <td>Mexicali, Baja California</td>\n",
       "      <td>POLYGON ((1186590.094225733 2291499.899036798,...</td>\n",
       "      <td>07D27AC7-07D27AC8</td>\n",
       "      <td>3.220112e+08</td>\n",
       "      <td>0.523582</td>\n",
       "    </tr>\n",
       "    <tr>\n",
       "      <th>1</th>\n",
       "      <td>Tijuana, Baja California</td>\n",
       "      <td>POLYGON ((1179129.377130154 2349092.96448361, ...</td>\n",
       "      <td>07D27AC7-07D27AC8</td>\n",
       "      <td>2.930042e+08</td>\n",
       "      <td>0.476418</td>\n",
       "    </tr>\n",
       "    <tr>\n",
       "      <th>2</th>\n",
       "      <td>Valle de Mexico, Distrito Federal</td>\n",
       "      <td>POLYGON ((2779905.423180033 819485.6818284127,...</td>\n",
       "      <td>23288AB7-23288AB8-23288AB9</td>\n",
       "      <td>8.103305e+04</td>\n",
       "      <td>0.002125</td>\n",
       "    </tr>\n",
       "    <tr>\n",
       "      <th>3</th>\n",
       "      <td>Toluca de Lerdo, México</td>\n",
       "      <td>POLYGON ((2771014.71597875 829688.1393898163, ...</td>\n",
       "      <td>23288AB7-23288AB8-23288AB9</td>\n",
       "      <td>3.805777e+07</td>\n",
       "      <td>0.997875</td>\n",
       "    </tr>\n",
       "    <tr>\n",
       "      <th>4</th>\n",
       "      <td>Valle de Mexico, Distrito Federal</td>\n",
       "      <td>POLYGON ((2802215.368277709 788091.7752501739,...</td>\n",
       "      <td>232E7563-232E7564</td>\n",
       "      <td>9.691940e+07</td>\n",
       "      <td>0.875634</td>\n",
       "    </tr>\n",
       "    <tr>\n",
       "      <th>5</th>\n",
       "      <td>Cuernavaca, Morelos</td>\n",
       "      <td>POLYGON ((2795443.026162176 791466.052651889, ...</td>\n",
       "      <td>232E7563-232E7564</td>\n",
       "      <td>1.376539e+07</td>\n",
       "      <td>0.124366</td>\n",
       "    </tr>\n",
       "    <tr>\n",
       "      <th>6</th>\n",
       "      <td>Valle de Mexico, Distrito Federal</td>\n",
       "      <td>POLYGON ((2782540.01318085 803685.3220940352, ...</td>\n",
       "      <td>3A9827A7-3A9827A8</td>\n",
       "      <td>3.719774e+07</td>\n",
       "      <td>0.559613</td>\n",
       "    </tr>\n",
       "    <tr>\n",
       "      <th>7</th>\n",
       "      <td>Toluca de Lerdo, México</td>\n",
       "      <td>POLYGON ((2776500.631696296 814338.2913558244,...</td>\n",
       "      <td>3A9827A7-3A9827A8</td>\n",
       "      <td>2.927278e+07</td>\n",
       "      <td>0.440387</td>\n",
       "    </tr>\n",
       "    <tr>\n",
       "      <th>8</th>\n",
       "      <td>Valle de Mexico, Distrito Federal</td>\n",
       "      <td>POLYGON ((2795443.026162176 791466.052651889, ...</td>\n",
       "      <td>42682865-42682866</td>\n",
       "      <td>4.365480e+07</td>\n",
       "      <td>0.475154</td>\n",
       "    </tr>\n",
       "    <tr>\n",
       "      <th>9</th>\n",
       "      <td>Cuernavaca, Morelos</td>\n",
       "      <td>POLYGON ((2781622.557700187 790017.1731508012,...</td>\n",
       "      <td>42682865-42682866</td>\n",
       "      <td>4.822032e+07</td>\n",
       "      <td>0.524846</td>\n",
       "    </tr>\n",
       "    <tr>\n",
       "      <th>10</th>\n",
       "      <td>Valle de Mexico, Distrito Federal</td>\n",
       "      <td>POLYGON ((2810866.14612504 790211.5874421337, ...</td>\n",
       "      <td>426B7531</td>\n",
       "      <td>1.986175e+07</td>\n",
       "      <td>0.140432</td>\n",
       "    </tr>\n",
       "    <tr>\n",
       "      <th>11</th>\n",
       "      <td>Cuernavaca, Morelos</td>\n",
       "      <td>POLYGON ((2802215.368277709 788091.7752501739,...</td>\n",
       "      <td>426B7531</td>\n",
       "      <td>1.215719e+08</td>\n",
       "      <td>0.859568</td>\n",
       "    </tr>\n",
       "  </tbody>\n",
       "</table>\n",
       "</div>"
      ],
      "text/plain": [
       "                                cname  \\\n",
       "0           Mexicali, Baja California   \n",
       "1            Tijuana, Baja California   \n",
       "2   Valle de Mexico, Distrito Federal   \n",
       "3             Toluca de Lerdo, México   \n",
       "4   Valle de Mexico, Distrito Federal   \n",
       "5                 Cuernavaca, Morelos   \n",
       "6   Valle de Mexico, Distrito Federal   \n",
       "7             Toluca de Lerdo, México   \n",
       "8   Valle de Mexico, Distrito Federal   \n",
       "9                 Cuernavaca, Morelos   \n",
       "10  Valle de Mexico, Distrito Federal   \n",
       "11                Cuernavaca, Morelos   \n",
       "\n",
       "                                             geometry  \\\n",
       "0   POLYGON ((1186590.094225733 2291499.899036798,...   \n",
       "1   POLYGON ((1179129.377130154 2349092.96448361, ...   \n",
       "2   POLYGON ((2779905.423180033 819485.6818284127,...   \n",
       "3   POLYGON ((2771014.71597875 829688.1393898163, ...   \n",
       "4   POLYGON ((2802215.368277709 788091.7752501739,...   \n",
       "5   POLYGON ((2795443.026162176 791466.052651889, ...   \n",
       "6   POLYGON ((2782540.01318085 803685.3220940352, ...   \n",
       "7   POLYGON ((2776500.631696296 814338.2913558244,...   \n",
       "8   POLYGON ((2795443.026162176 791466.052651889, ...   \n",
       "9   POLYGON ((2781622.557700187 790017.1731508012,...   \n",
       "10  POLYGON ((2810866.14612504 790211.5874421337, ...   \n",
       "11  POLYGON ((2802215.368277709 788091.7752501739,...   \n",
       "\n",
       "                          gtid          area    weight  \n",
       "0            07D27AC7-07D27AC8  3.220112e+08  0.523582  \n",
       "1            07D27AC7-07D27AC8  2.930042e+08  0.476418  \n",
       "2   23288AB7-23288AB8-23288AB9  8.103305e+04  0.002125  \n",
       "3   23288AB7-23288AB8-23288AB9  3.805777e+07  0.997875  \n",
       "4            232E7563-232E7564  9.691940e+07  0.875634  \n",
       "5            232E7563-232E7564  1.376539e+07  0.124366  \n",
       "6            3A9827A7-3A9827A8  3.719774e+07  0.559613  \n",
       "7            3A9827A7-3A9827A8  2.927278e+07  0.440387  \n",
       "8            42682865-42682866  4.365480e+07  0.475154  \n",
       "9            42682865-42682866  4.822032e+07  0.524846  \n",
       "10                    426B7531  1.986175e+07  0.140432  \n",
       "11                    426B7531  1.215719e+08  0.859568  "
      ]
     },
     "execution_count": 72,
     "metadata": {},
     "output_type": "execute_result"
    }
   ],
   "source": [
    "itxns"
   ]
  },
  {
   "cell_type": "code",
   "execution_count": 73,
   "metadata": {},
   "outputs": [],
   "source": [
    "columns = ['gtid','cname','weight']\n",
    "tmp = mex_t2c.loc[t1c.index][['index_right','weight']].reset_index()\n",
    "tmp.columns=columns\n",
    "t_in_c = tmp.append(itxns[columns])\n",
    "t_in_c['geometry'] = t_in_c.apply(lambda x: tw_vor_polys.loc[x.gtid].geometry.intersection(mex_cities.loc[x.cname].geometry), axis=1)\n",
    "t_in_c = gp.GeoDataFrame(t_in_c)"
   ]
  },
  {
   "cell_type": "code",
   "execution_count": 82,
   "metadata": {},
   "outputs": [],
   "source": [
    "# plot the vor polygons in cities\n",
    "some_map = folium.Map(location=[19.381495, -99.139095], zoom_start=8)\n",
    "geojson_per_row(mex_cities.reset_index(), 'city', color='red', tip_cols=['cname','population'],some_map=some_map)\n",
    "geojson_per_row(t_in_c, 'vor', color='yellow', tip_cols=['gtid','cname','weight'],some_map=some_map)\n",
    "point_per_row(mex_tower[mex_tower.gtid.isin(t_in_c.gtid)].reset_index(), 'tower', tip_cols=['gtid'],some_map=some_map)\n",
    "\n",
    "folium.LayerControl().add_to(some_map)\n",
    "some_map.save('tmp/mexico_tower_in_cities.html')"
   ]
  }
 ],
 "metadata": {
  "kernelspec": {
   "display_name": "Python [default]",
   "language": "python",
   "name": "python3"
  },
  "language_info": {
   "codemirror_mode": {
    "name": "ipython",
    "version": 3
   },
   "file_extension": ".py",
   "mimetype": "text/x-python",
   "name": "python",
   "nbconvert_exporter": "python",
   "pygments_lexer": "ipython3",
   "version": "3.6.6"
  }
 },
 "nbformat": 4,
 "nbformat_minor": 2
}
