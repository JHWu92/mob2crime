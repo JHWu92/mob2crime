{
 "cells": [
  {
   "cell_type": "code",
   "execution_count": 1,
   "metadata": {},
   "outputs": [
    {
     "data": {
      "text/plain": [
       "'/home/Jiahui/mob2crime'"
      ]
     },
     "execution_count": 1,
     "metadata": {},
     "output_type": "execute_result"
    }
   ],
   "source": [
    "% load_ext autoreload\n",
    "% autoreload 2\n",
    "import os\n",
    "\n",
    "if not os.getcwd().endswith('mob2crime'):\n",
    "    os.chdir('..')\n",
    "os.getcwd()"
   ]
  },
  {
   "cell_type": "code",
   "execution_count": 2,
   "metadata": {},
   "outputs": [],
   "source": [
    "from src.utils.gis import *\n",
    "import  src.mex_helper as mex"
   ]
  },
  {
   "cell_type": "code",
   "execution_count": 3,
   "metadata": {},
   "outputs": [],
   "source": [
    "%matplotlib inline"
   ]
  },
  {
   "cell_type": "code",
   "execution_count": 4,
   "metadata": {},
   "outputs": [
    {
     "name": "stdout",
     "output_type": "stream",
     "text": [
      "reading existing grids\n"
     ]
    }
   ],
   "source": [
    "mex_grids = mex.grids(rkind='metropolitans_16', side=3000)"
   ]
  },
  {
   "cell_type": "code",
   "execution_count": 5,
   "metadata": {},
   "outputs": [
    {
     "data": {
      "text/plain": [
       "metropolitan\n",
       "Acapulco de Juárez, Guerrero          478\n",
       "Cancún, Quintana Roo                  425\n",
       "Chihuahua, Chihuahua                 2102\n",
       "Cuernavaca, Morelos                   173\n",
       "Culiacán Rosales, Sinaloa             791\n",
       "Guadalajara, Jalisco                  359\n",
       "Juárez, Chihuahua                     435\n",
       "Mexicali, Baja California            1856\n",
       "Monterrey, Nuevo León                 854\n",
       "Morelia, Michoacán de Ocampo          252\n",
       "Nuevo Laredo, Tamaulipas              161\n",
       "Oaxaca de Juárez, Oaxaca              101\n",
       "Tijuana, Baja California              530\n",
       "Toluca de Lerdo, México               296\n",
       "Valle de Mexico, Distrito Federal     208\n",
       "Villahermosa, Tabasco                 318\n",
       "dtype: int64"
      ]
     },
     "execution_count": 5,
     "metadata": {},
     "output_type": "execute_result"
    }
   ],
   "source": [
    "mex_grids.groupby('metropolitan').apply(len)"
   ]
  },
  {
   "cell_type": "code",
   "execution_count": 7,
   "metadata": {},
   "outputs": [],
   "source": [
    "\n",
    "%load_ext line_profiler\n"
   ]
  },
  {
   "cell_type": "code",
   "execution_count": 6,
   "metadata": {},
   "outputs": [],
   "source": [
    "\n",
    "polys = mex_grids[mex_grids.metropolitan=='Valle de Mexico, Distrito Federal']\n",
    "\n",
    "rgrids = polys\n",
    "\n",
    "import pandas as pd\n",
    "\n",
    "n_grids = len(rgrids)\n",
    "sqrt_area = 100\n",
    "cgrids_avg = pd.DataFrame(np.random.randint(0, 100,size=(n_grids,24)))\n",
    "s = cgrids_avg / cgrids_avg.sum()\n",
    "s.index = range(n_grids)\n",
    "\n"
   ]
  },
  {
   "cell_type": "code",
   "execution_count": 8,
   "metadata": {},
   "outputs": [],
   "source": [
    "def fast_dv(rgrids, s, sqrt_area):\n",
    "    grid_dist = polys_centroid_pairwise_dist(rgrids, dist_crs=mex.EQDC_CRS)\n",
    "    dv = {}\n",
    "    for t in s.columns:\n",
    "        st_outer = np.outer(s[t], s[t])\n",
    "        np.fill_diagonal(st_outer, 0)\n",
    "        dv[int(t)] = (st_outer * grid_dist).sum() / st_outer.sum() / sqrt_area\n",
    "    return dv"
   ]
  },
  {
   "cell_type": "code",
   "execution_count": 9,
   "metadata": {},
   "outputs": [],
   "source": [
    "%lprun -f fast_dv fast_dv(rgrids, s, sqrt_area)\n"
   ]
  },
  {
   "cell_type": "code",
   "execution_count": 10,
   "metadata": {},
   "outputs": [],
   "source": [
    "def slow_dv(rgrids, s, sqrt_area):\n",
    "    dv = {}\n",
    "    grid_cens = np.array(rgrids.to_crs(mex.EQDC_CRS).geometry.apply(lambda x: x.centroid.coords[0]).tolist())\n",
    "    for t in s.columns:\n",
    "        st = s[t].tolist()\n",
    "        st_sum = 0\n",
    "        st_grid_dist = 0\n",
    "        for i in range(n_grids):\n",
    "            sti = st[i]\n",
    "            gi = grid_cens[i]\n",
    "            for j in range(i+1, n_grids):\n",
    "                gj = grid_cens[j]\n",
    "                st_ij = sti*st[j]\n",
    "                st_sum += st_ij\n",
    "                dist = np.linalg.norm(gi-gj)\n",
    "                st_grid_dist += st_ij * dist\n",
    "        dv[t] = st_grid_dist/st_sum/sqrt_area\n",
    "    return dv "
   ]
  },
  {
   "cell_type": "code",
   "execution_count": 11,
   "metadata": {},
   "outputs": [],
   "source": [
    "%lprun -f slow_dv slow_dv(rgrids, s, sqrt_area)"
   ]
  },
  {
   "cell_type": "code",
   "execution_count": 12,
   "metadata": {},
   "outputs": [],
   "source": [
    "dv1 = fast_dv(rgrids, s, sqrt_area)\n",
    "dv2 = slow_dv(rgrids, s, sqrt_area)"
   ]
  },
  {
   "cell_type": "code",
   "execution_count": 14,
   "metadata": {},
   "outputs": [
    {
     "data": {
      "text/plain": [
       "0     1.0\n",
       "1     1.0\n",
       "2     1.0\n",
       "3     1.0\n",
       "4     1.0\n",
       "5     1.0\n",
       "6     1.0\n",
       "7     1.0\n",
       "8     1.0\n",
       "9     1.0\n",
       "10    1.0\n",
       "11    1.0\n",
       "12    1.0\n",
       "13    1.0\n",
       "14    1.0\n",
       "15    1.0\n",
       "16    1.0\n",
       "17    1.0\n",
       "18    1.0\n",
       "19    1.0\n",
       "20    1.0\n",
       "21    1.0\n",
       "22    1.0\n",
       "23    1.0\n",
       "dtype: float64"
      ]
     },
     "execution_count": 14,
     "metadata": {},
     "output_type": "execute_result"
    }
   ],
   "source": [
    "diff = pd.DataFrame(list(zip(dv1.values(),dv2.values())))\n",
    "diff[0]/diff[1]"
   ]
  }
 ],
 "metadata": {
  "kernelspec": {
   "display_name": "Python [default]",
   "language": "python",
   "name": "python3"
  },
  "language_info": {
   "codemirror_mode": {
    "name": "ipython",
    "version": 3
   },
   "file_extension": ".py",
   "mimetype": "text/x-python",
   "name": "python",
   "nbconvert_exporter": "python",
   "pygments_lexer": "ipython3",
   "version": "3.6.6"
  }
 },
 "nbformat": 4,
 "nbformat_minor": 2
}
