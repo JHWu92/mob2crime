{
 "cells": [
  {
   "cell_type": "code",
   "execution_count": 1,
   "metadata": {},
   "outputs": [],
   "source": [
    "import argparse\n",
    "import datetime\n",
    "import glob\n",
    "import gzip\n",
    "import logging\n",
    "import os\n",
    "\n",
    "from src.creds import mex_root, mex_col_call"
   ]
  },
  {
   "cell_type": "code",
   "execution_count": null,
   "metadata": {},
   "outputs": [],
   "source": [
    "parser = argparse.ArgumentParser(description='options for aggregating mexico tower daily hourly unique user in call-out or call-in data')\n",
    "parser.add_argument('--call-in-or-out', required=True, choices=['in','out'])\n",
    "args = parser.parse_args()\n",
    "print(args)"
   ]
  },
  {
   "cell_type": "code",
   "execution_count": 2,
   "metadata": {},
   "outputs": [],
   "source": [
    "call_in_or_out = args.call_in_or_out"
   ]
  },
  {
   "cell_type": "code",
   "execution_count": 7,
   "metadata": {},
   "outputs": [],
   "source": [
    "\n",
    "idx_date = mex_col_call.index('date')\n",
    "idx_time = mex_col_call.index('time')\n",
    "idx_t1 = mex_col_call.index('cell_initial')\n",
    "idx_t2 = mex_col_call.index('cell_final')\n",
    "idx_duration = mex_col_call.index('duration')\n",
    "idx_p1 = mex_col_call.index('phone_1')"
   ]
  },
  {
   "cell_type": "code",
   "execution_count": 4,
   "metadata": {},
   "outputs": [
    {
     "name": "stdout",
     "output_type": "stream",
     "text": [
      "nubmer of files to process: 245\n"
     ]
    }
   ],
   "source": [
    "\n",
    "mex_root = mex_root\n",
    "file_pattern = '??????/*TRAFICO_VOZ_[0-9]*'  if call_in_or_out=='out' else '??????/*TRAFICO_VOZ_ENTRANTE*'\n",
    "fns = []\n",
    "for fn in glob.glob(mex_root+file_pattern):\n",
    "    fns.append(fn)\n",
    "fns = sorted(fns)\n",
    "print(f'nubmer of files to process: {len(fns)}')"
   ]
  },
  {
   "cell_type": "code",
   "execution_count": 9,
   "metadata": {},
   "outputs": [
    {
     "name": "stdout",
     "output_type": "stream",
     "text": [
      "stats_dir = stats/DQMexTimeAnomalyVOZ/\n"
     ]
    }
   ],
   "source": [
    "call_in_out_str = 'VOZ' if call_in_or_out=='out' else 'VOZENTRANTE'\n",
    "stats_dir = f'stats/DQMexTimeAnomaly{call_in_out_str}/' \n",
    "os.makedirs(stats_dir,exist_ok=True)\n",
    "print(f'stats_dir = {stats_dir}')"
   ]
  },
  {
   "cell_type": "code",
   "execution_count": 15,
   "metadata": {},
   "outputs": [
    {
     "name": "stdout",
     "output_type": "stream",
     "text": [
      "working on the 0th file 200910/GASSET_TRAFICO_VOZ_20091001.dat.gz\n"
     ]
    }
   ],
   "source": [
    "\n",
    "# loop over the files\n",
    "start_dt = datetime.datetime.now()\n",
    "\n",
    "for cnt, fn in enumerate(fns):\n",
    "    \n",
    "    file_date = fn.replace('.dat','').replace('.gz','')[-8:]\n",
    "    file_date = datetime.datetime.strptime(file_date, '%Y%m%d')\n",
    "    file_date = file_date.strftime('%Y-%m-%d')\n",
    "    \n",
    "    print('working on the %dth file' % cnt, fn.replace(mex_root,''))\n",
    "    \n",
    "    # storing stats: stats[d][tower][hour] = set of users\n",
    "    blines = []\n",
    "\n",
    "    # loop over the lines in a file\n",
    "    # some files are not gzipped\n",
    "    try:\n",
    "        f = gzip.open(fn, 'rb') if fn.endswith('.gz') else open(fn,'rb')\n",
    "\n",
    "        for i, line in enumerate(f):\n",
    "            if i>10:\n",
    "                break\n",
    "            try:\n",
    "                bit_line = line\n",
    "                line = line.decode('utf8').strip().split('|')\n",
    "                # get datetime of start and end\n",
    "                dt1 = datetime.datetime.strptime(line[idx_date] + ' ' + line[idx_time], '%d/%m/%Y %H:%M:%S')\n",
    "                dur = int(line[idx_duration])\n",
    "                # get the date and hour of the datetime\n",
    "                d1 = dt1.strftime('%Y-%m-%d')\n",
    "                # the startdate is not the file date or the duration is larger than 2hours\n",
    "#                 if d1!=file_date or dur> 7200:\n",
    "                blines.append(bit_line)\n",
    "                    \n",
    "            except Exception as e:\n",
    "                print('file %s line %d raise %s\\nThis line is: %s' % (fn, i, type(e).__name__, line))\n",
    "        f.close()        \n",
    "        logging.debug('iterated all lines')        \n",
    "    except EOFError as e:\n",
    "        print('file %s raise EOFError' % fn)\n",
    "        \n",
    "    # save file\n",
    "    with gzip.open(stats_dir+'%s.dat.gz' % file_date, 'w') as zipfile:\n",
    "        zipfile.writelines(blines)\n"
   ]
  },
  {
   "cell_type": "code",
   "execution_count": 19,
   "metadata": {},
   "outputs": [],
   "source": []
  },
  {
   "cell_type": "code",
   "execution_count": null,
   "metadata": {},
   "outputs": [],
   "source": []
  },
  {
   "cell_type": "code",
   "execution_count": 12,
   "metadata": {},
   "outputs": [
    {
     "data": {
      "text/plain": [
       "7200"
      ]
     },
     "execution_count": 12,
     "metadata": {},
     "output_type": "execute_result"
    }
   ],
   "source": [
    "120*60"
   ]
  }
 ],
 "metadata": {
  "kernelspec": {
   "display_name": "Python [default]",
   "language": "python",
   "name": "python3"
  },
  "language_info": {
   "codemirror_mode": {
    "name": "ipython",
    "version": 3
   },
   "file_extension": ".py",
   "mimetype": "text/x-python",
   "name": "python",
   "nbconvert_exporter": "python",
   "pygments_lexer": "ipython3",
   "version": "3.6.6"
  }
 },
 "nbformat": 4,
 "nbformat_minor": 2
}
