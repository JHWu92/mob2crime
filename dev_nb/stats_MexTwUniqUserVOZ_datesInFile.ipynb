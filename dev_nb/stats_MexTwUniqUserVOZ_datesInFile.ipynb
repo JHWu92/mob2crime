{
 "cells": [
  {
   "cell_type": "code",
   "execution_count": 1,
   "metadata": {},
   "outputs": [
    {
     "data": {
      "text/plain": [
       "'/mnt/c/1Res/mob2crime'"
      ]
     },
     "execution_count": 1,
     "metadata": {},
     "output_type": "execute_result"
    }
   ],
   "source": [
    "import os\n",
    "if not os.getcwd().endswith('mob2crime'):\n",
    "    os.chdir('..')\n",
    "os.getcwd()\n"
   ]
  },
  {
   "cell_type": "code",
   "execution_count": 3,
   "metadata": {},
   "outputs": [],
   "source": [
    "import gzip, json, glob\n",
    "from collections import defaultdict"
   ]
  },
  {
   "cell_type": "code",
   "execution_count": 4,
   "metadata": {},
   "outputs": [],
   "source": [
    "dates = defaultdict(list)"
   ]
  },
  {
   "cell_type": "code",
   "execution_count": 5,
   "metadata": {},
   "outputs": [
    {
     "name": "stdout",
     "output_type": "stream",
     "text": [
      "stats/MexTwUniqUser-VOZ/2009-10-01.json.gz\n",
      "stats/MexTwUniqUser-VOZ/2009-10-02.json.gz\n",
      "stats/MexTwUniqUser-VOZ/2009-10-03.json.gz\n",
      "stats/MexTwUniqUser-VOZ/2009-10-04.json.gz\n",
      "stats/MexTwUniqUser-VOZ/2009-10-05.json.gz\n",
      "stats/MexTwUniqUser-VOZ/2009-10-06.json.gz\n",
      "stats/MexTwUniqUser-VOZ/2009-10-07.json.gz\n",
      "stats/MexTwUniqUser-VOZ/2009-10-08.json.gz\n",
      "stats/MexTwUniqUser-VOZ/2009-10-09.json.gz\n",
      "stats/MexTwUniqUser-VOZ/2009-10-10.json.gz\n"
     ]
    }
   ],
   "source": [
    "\n",
    "for fn in glob.glob('stats/MexTwUniqUser-VOZ/*.json.gz'):\n",
    "    print(fn)\n",
    "    with gzip.open(fn) as fin:\n",
    "        data = json.load(fin)\n",
    "        for d in data.keys():\n",
    "            dates[d].append(os.path.basename(fn).replace('.json.gz', ''))\n",
    "        "
   ]
  },
  {
   "cell_type": "code",
   "execution_count": 7,
   "metadata": {},
   "outputs": [],
   "source": [
    "with open('stats/MexTwUniqUser-VOZ/dates_in_file.json','w') as fw:\n",
    "    json.dump(dates, fw)"
   ]
  }
 ],
 "metadata": {
  "kernelspec": {
   "display_name": "Python [default]",
   "language": "python",
   "name": "python3"
  },
  "language_info": {
   "codemirror_mode": {
    "name": "ipython",
    "version": 3
   },
   "file_extension": ".py",
   "mimetype": "text/x-python",
   "name": "python",
   "nbconvert_exporter": "python",
   "pygments_lexer": "ipython3",
   "version": "3.6.6"
  }
 },
 "nbformat": 4,
 "nbformat_minor": 2
}
