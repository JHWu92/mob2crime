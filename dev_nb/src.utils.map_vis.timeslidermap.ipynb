{
 "cells": [
  {
   "cell_type": "code",
   "execution_count": 19,
   "metadata": {},
   "outputs": [],
   "source": [
    "\n",
    "import folium \n",
    "from folium import plugins\n",
    "import pandas as pd\n",
    "import geopandas as gp"
   ]
  },
  {
   "cell_type": "code",
   "execution_count": 78,
   "metadata": {},
   "outputs": [],
   "source": [
    "from shapely.geometry import Polygon"
   ]
  },
  {
   "cell_type": "code",
   "execution_count": 181,
   "metadata": {},
   "outputs": [],
   "source": [
    "import datetime"
   ]
  },
  {
   "cell_type": "code",
   "execution_count": 198,
   "metadata": {},
   "outputs": [],
   "source": [
    "def time_slider_choropleth(gpolys, values, dates=None, mini=None, maxi=None, dstr_format='%Y-%m-%d'):\n",
    "    from branca.colormap import linear\n",
    "    cmap = linear.Reds_09.scale()\n",
    "    \n",
    "    dates = [str(int(datetime.datetime.strptime(t, dstr_format).timestamp())) for t in dates]\n",
    "    values = pd.DataFrame(values)\n",
    "    assert len(dates)==values.shape[0]\n",
    "    \n",
    "    if maxi is None:\n",
    "        maxi = values.max().max()\n",
    "    if mini is None:\n",
    "        mini = values.min().min()\n",
    "        \n",
    "    colors = values.applymap(lambda x: (x-mini)/(maxi-mini)).applymap(cmap)\n",
    "    colors.index=dates\n",
    "    \n",
    "    styledict = {}\n",
    "    for i in colors:\n",
    "        styledict[str(i)] = {d: {'color': c, 'opacity':0.8} for d, c in colors[i].iteritems()}\n",
    "    return TimeSliderChoropleth(gpolys.to_json(),styledict=styledict)"
   ]
  },
  {
   "cell_type": "code",
   "execution_count": 79,
   "metadata": {},
   "outputs": [],
   "source": [
    "polys =[\n",
    "   Polygon([[-4.10888671875,42.65012181368022],[-4.46044921875,42.66628070564928],[-4.89990234375,41.95131994679697],[-4.15283203125,42.01665183556825],[-4.10888671875,42.65012181368022]]),\n",
    "    Polygon([[-6.416015625,42.68243539838623],[-6.767578125,42.47209690919285],[-6.240234374999999,42.13082130188811],[-5.07568359375,42.68243539838623],[-6.416015625,42.68243539838623]]),\n",
    "]\n",
    "\n",
    "gpoly = gp.GeoDataFrame(polys,columns=['geometry'])"
   ]
  },
  {
   "cell_type": "code",
   "execution_count": 199,
   "metadata": {},
   "outputs": [
    {
     "data": {
      "text/html": [
       "<div style=\"width:100%;\"><div style=\"position:relative;width:100%;height:0;padding-bottom:60%;\"><iframe src=\"data:text/html;charset=utf-8;base64,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\" style=\"position:absolute;width:100%;height:100%;left:0;top:0;border:none !important;\" allowfullscreen webkitallowfullscreen mozallowfullscreen></iframe></div></div>"
      ],
      "text/plain": [
       "<folium.folium.Map at 0x7f07fbd53fd0>"
      ]
     },
     "execution_count": 199,
     "metadata": {},
     "output_type": "execute_result"
    }
   ],
   "source": [
    "m = folium.Map([42.65012181368022,-4.10888671875], zoom_start=6)\n",
    "time_slider_choropleth(gpoly, values, dates, mini=0).add_to(m)\n",
    "m"
   ]
  }
 ],
 "metadata": {
  "kernelspec": {
   "display_name": "Python [default]",
   "language": "python",
   "name": "python3"
  },
  "language_info": {
   "codemirror_mode": {
    "name": "ipython",
    "version": 3
   },
   "file_extension": ".py",
   "mimetype": "text/x-python",
   "name": "python",
   "nbconvert_exporter": "python",
   "pygments_lexer": "ipython3",
   "version": "3.6.6"
  }
 },
 "nbformat": 4,
 "nbformat_minor": 2
}
