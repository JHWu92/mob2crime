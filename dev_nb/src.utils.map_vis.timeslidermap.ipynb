{
 "cells": [
  {
   "cell_type": "code",
   "execution_count": 5,
   "metadata": {},
   "outputs": [
    {
     "data": {
      "text/plain": [
       "'/home/Jiahui/mob2crime'"
      ]
     },
     "execution_count": 5,
     "metadata": {},
     "output_type": "execute_result"
    }
   ],
   "source": [
    "% load_ext autoreload\n",
    "% autoreload 2\n",
    "import os\n",
    "\n",
    "if not os.getcwd().endswith('mob2crime'):\n",
    "    os.chdir('..')\n",
    "os.getcwd()"
   ]
  },
  {
   "cell_type": "code",
   "execution_count": 6,
   "metadata": {},
   "outputs": [],
   "source": [
    "\n",
    "import folium \n",
    "from folium import plugins\n",
    "import pandas as pd\n",
    "import geopandas as gp\n",
    "from src.utils.map_vis import *"
   ]
  },
  {
   "cell_type": "code",
   "execution_count": 2,
   "metadata": {},
   "outputs": [],
   "source": [
    "from shapely.geometry import Polygon"
   ]
  },
  {
   "cell_type": "code",
   "execution_count": 3,
   "metadata": {},
   "outputs": [],
   "source": [
    "import datetime"
   ]
  },
  {
   "cell_type": "code",
   "execution_count": 17,
   "metadata": {},
   "outputs": [],
   "source": [
    "polys =[\n",
    "    Polygon([[-4.10888671875,42.65012181368022],[-4.46044921875,42.66628070564928],[-4.89990234375,41.95131994679697],[-4.15283203125,42.01665183556825],[-4.10888671875,42.65012181368022]]),\n",
    "    Polygon([[-6.416015625,42.68243539838623],[-6.767578125,42.47209690919285],[-6.240234374999999,42.13082130188811],[-5.07568359375,42.68243539838623],[-6.416015625,42.68243539838623]]),\n",
    "    Polygon([[-6.163330078125,41.52091689636249],[-6.229248046875,41.290189955885644],[-6.0260009765625,41.000629848685385],[-5.218505859375,41.35619553438905],[-6.163330078125,41.52091689636249]]),\n",
    "]\n",
    "\n",
    "gpoly = gp.GeoDataFrame(polys,columns=['geometry'])"
   ]
  },
  {
   "cell_type": "code",
   "execution_count": 18,
   "metadata": {},
   "outputs": [],
   "source": [
    "values={0:[0,100,2,3], 1:[3,4,6,1], 2:[4,50, 8, 3.5]}\n",
    "fake_dates = [f\"1971-01-{i:02}\" for i in range(1,5)]"
   ]
  },
  {
   "cell_type": "code",
   "execution_count": 21,
   "metadata": {},
   "outputs": [
    {
     "data": {
      "text/html": [
       "<div style=\"width:100%;\"><div style=\"position:relative;width:100%;height:0;padding-bottom:60%;\"><iframe src=\"data:text/html;charset=utf-8;base64,PCFET0NUWVBFIGh0bWw+CjxoZWFkPiAgICAKICAgIDxtZXRhIGh0dHAtZXF1aXY9ImNvbnRlbnQtdHlwZSIgY29udGVudD0idGV4dC9odG1sOyBjaGFyc2V0PVVURi04IiAvPgogICAgPHNjcmlwdD5MX1BSRUZFUl9DQU5WQVM9ZmFsc2U7IExfTk9fVE9VQ0g9ZmFsc2U7IExfRElTQUJMRV8zRD1mYWxzZTs8L3NjcmlwdD4KICAgIDxzY3JpcHQgc3JjPSJodHRwczovL2Nkbi5qc2RlbGl2ci5uZXQvbnBtL2xlYWZsZXRAMS4yLjAvZGlzdC9sZWFmbGV0LmpzIj48L3NjcmlwdD4KICAgIDxzY3JpcHQgc3JjPSJodHRwczovL2FqYXguZ29vZ2xlYXBpcy5jb20vYWpheC9saWJzL2pxdWVyeS8xLjExLjEvanF1ZXJ5Lm1pbi5qcyI+PC9zY3JpcHQ+CiAgICA8c2NyaXB0IHNyYz0iaHR0cHM6Ly9tYXhjZG4uYm9vdHN0cmFwY2RuLmNvbS9ib290c3RyYXAvMy4yLjAvanMvYm9vdHN0cmFwLm1pbi5qcyI+PC9zY3JpcHQ+CiAgICA8c2NyaXB0IHNyYz0iaHR0cHM6Ly9jZG5qcy5jbG91ZGZsYXJlLmNvbS9hamF4L2xpYnMvTGVhZmxldC5hd2Vzb21lLW1hcmtlcnMvMi4wLjIvbGVhZmxldC5hd2Vzb21lLW1hcmtlcnMuanMiPjwvc2NyaXB0PgogICAgPGxpbmsgcmVsPSJzdHlsZXNoZWV0IiBocmVmPSJodHRwczovL2Nkbi5qc2RlbGl2ci5uZXQvbnBtL2xlYWZsZXRAMS4yLjAvZGlzdC9sZWFmbGV0LmNzcyIvPgogICAgPGxpbmsgcmVsPSJzdHlsZXNoZWV0IiBocmVmPSJodHRwczovL21heGNkbi5ib290c3RyYXBjZG4uY29tL2Jvb3RzdHJhcC8zLjIuMC9jc3MvYm9vdHN0cmFwLm1pbi5jc3MiLz4KICAgIDxsaW5rIHJlbD0ic3R5bGVzaGVldCIgaHJlZj0iaHR0cHM6Ly9tYXhjZG4uYm9vdHN0cmFwY2RuLmNvbS9ib290c3RyYXAvMy4yLjAvY3NzL2Jvb3RzdHJhcC10aGVtZS5taW4uY3NzIi8+CiAgICA8bGluayByZWw9InN0eWxlc2hlZXQiIGhyZWY9Imh0dHBzOi8vbWF4Y2RuLmJvb3RzdHJhcGNkbi5jb20vZm9udC1hd2Vzb21lLzQuNi4zL2Nzcy9mb250LWF3ZXNvbWUubWluLmNzcyIvPgogICAgPGxpbmsgcmVsPSJzdHlsZXNoZWV0IiBocmVmPSJodHRwczovL2NkbmpzLmNsb3VkZmxhcmUuY29tL2FqYXgvbGlicy9MZWFmbGV0LmF3ZXNvbWUtbWFya2Vycy8yLjAuMi9sZWFmbGV0LmF3ZXNvbWUtbWFya2Vycy5jc3MiLz4KICAgIDxsaW5rIHJlbD0ic3R5bGVzaGVldCIgaHJlZj0iaHR0cHM6Ly9yYXdnaXQuY29tL3B5dGhvbi12aXN1YWxpemF0aW9uL2ZvbGl1bS9tYXN0ZXIvZm9saXVtL3RlbXBsYXRlcy9sZWFmbGV0LmF3ZXNvbWUucm90YXRlLmNzcyIvPgogICAgPHN0eWxlPmh0bWwsIGJvZHkge3dpZHRoOiAxMDAlO2hlaWdodDogMTAwJTttYXJnaW46IDA7cGFkZGluZzogMDt9PC9zdHlsZT4KICAgIDxzdHlsZT4jbWFwIHtwb3NpdGlvbjphYnNvbHV0ZTt0b3A6MDtib3R0b206MDtyaWdodDowO2xlZnQ6MDt9PC9zdHlsZT4KICAgIAogICAgPHN0eWxlPiNtYXBfODU1YWRiYzJkMzY5NDliYjgxOWQwZWIzZTE0ZDBmODAgewogICAgICAgIHBvc2l0aW9uOiByZWxhdGl2ZTsKICAgICAgICB3aWR0aDogMTAwLjAlOwogICAgICAgIGhlaWdodDogMTAwLjAlOwogICAgICAgIGxlZnQ6IDAuMCU7CiAgICAgICAgdG9wOiAwLjAlOwogICAgICAgIH0KICAgIDwvc3R5bGU+CiAgICA8c2NyaXB0IHNyYz0iaHR0cHM6Ly9kM2pzLm9yZy9kMy52NC5taW4uanMiPjwvc2NyaXB0Pgo8L2hlYWQ+Cjxib2R5PiAgICAKICAgIAogICAgPGRpdiBjbGFzcz0iZm9saXVtLW1hcCIgaWQ9Im1hcF84NTVhZGJjMmQzNjk0OWJiODE5ZDBlYjNlMTRkMGY4MCIgPjwvZGl2Pgo8L2JvZHk+CjxzY3JpcHQ+ICAgIAogICAgCiAgICAKICAgICAgICB2YXIgYm91bmRzID0gbnVsbDsKICAgIAoKICAgIHZhciBtYXBfODU1YWRiYzJkMzY5NDliYjgxOWQwZWIzZTE0ZDBmODAgPSBMLm1hcCgKICAgICAgICAnbWFwXzg1NWFkYmMyZDM2OTQ5YmI4MTlkMGViM2UxNGQwZjgwJywgewogICAgICAgIGNlbnRlcjogWzQyLjY1MDEyMTgxMzY4MDIyLCAtNC4xMDg4ODY3MTg3NV0sCiAgICAgICAgem9vbTogNiwKICAgICAgICBtYXhCb3VuZHM6IGJvdW5kcywKICAgICAgICBsYXllcnM6IFtdLAogICAgICAgIHdvcmxkQ29weUp1bXA6IGZhbHNlLAogICAgICAgIGNyczogTC5DUlMuRVBTRzM4NTcsCiAgICAgICAgem9vbUNvbnRyb2w6IHRydWUsCiAgICAgICAgfSk7CgogICAgCiAgICAKICAgIHZhciB0aWxlX2xheWVyXzljYTUxNjMxNmZhYzQzNGJhNTNhZjFlMGRmZDQ5Y2QzID0gTC50aWxlTGF5ZXIoCiAgICAgICAgJ2h0dHBzOi8ve3N9LnRpbGUub3BlbnN0cmVldG1hcC5vcmcve3p9L3t4fS97eX0ucG5nJywKICAgICAgICB7CiAgICAgICAgImF0dHJpYnV0aW9uIjogbnVsbCwKICAgICAgICAiZGV0ZWN0UmV0aW5hIjogZmFsc2UsCiAgICAgICAgIm1heE5hdGl2ZVpvb20iOiAxOCwKICAgICAgICAibWF4Wm9vbSI6IDE4LAogICAgICAgICJtaW5ab29tIjogMCwKICAgICAgICAibm9XcmFwIjogZmFsc2UsCiAgICAgICAgInN1YmRvbWFpbnMiOiAiYWJjIgp9KS5hZGRUbyhtYXBfODU1YWRiYzJkMzY5NDliYjgxOWQwZWIzZTE0ZDBmODApOwogICAgCgogICAgICAgICAgICAgICAgdmFyIHRpbWVzdGFtcHMgPSBbIjMxNTU0MDAwIiwgIjMxNjQwNDAwIiwgIjMxNzI2ODAwIiwgIjMxODEzMjAwIl07CiAgICAgICAgICAgICAgICB2YXIgc3R5bGVkaWN0ID0gewogICIwIjogewogICAgIjMxNTU0MDAwIjogewogICAgICAiY29sb3IiOiAiI2ZmZjVmMCIsCiAgICAgICJvcGFjaXR5IjogMC44CiAgICB9LAogICAgIjMxNjQwNDAwIjogewogICAgICAiY29sb3IiOiAiIzY3MDAwZCIsCiAgICAgICJvcGFjaXR5IjogMC44CiAgICB9LAogICAgIjMxNzI2ODAwIjogewogICAgICAiY29sb3IiOiAiI2ZmZjJlYyIsCiAgICAgICJvcGFjaXR5IjogMC44CiAgICB9LAogICAgIjMxODEzMjAwIjogewogICAgICAiY29sb3IiOiAiI2ZmZjBlOSIsCiAgICAgICJvcGFjaXR5IjogMC44CiAgICB9CiAgfSwKICAiMSI6IHsKICAgICIzMTU1NDAwMCI6IHsKICAgICAgImNvbG9yIjogIiNmZmYwZTkiLAogICAgICAib3BhY2l0eSI6IDAuOAogICAgfSwKICAgICIzMTY0MDQwMCI6IHsKICAgICAgImNvbG9yIjogIiNmZmVmZTciLAogICAgICAib3BhY2l0eSI6IDAuOAogICAgfSwKICAgICIzMTcyNjgwMCI6IHsKICAgICAgImNvbG9yIjogIiNmZmViZTIiLAogICAgICAib3BhY2l0eSI6IDAuOAogICAgfSwKICAgICIzMTgxMzIwMCI6IHsKICAgICAgImNvbG9yIjogIiNmZmY0ZWUiLAogICAgICAib3BhY2l0eSI6IDAuOAogICAgfQogIH0sCiAgIjIiOiB7CiAgICAiMzE1NTQwMDAiOiB7CiAgICAgICJjb2xvciI6ICIjZmZlZmU3IiwKICAgICAgIm9wYWNpdHkiOiAwLjgKICAgIH0sCiAgICAiMzE2NDA0MDAiOiB7CiAgICAgICJjb2xvciI6ICIjZmI2YTRhIiwKICAgICAgIm9wYWNpdHkiOiAwLjgKICAgIH0sCiAgICAiMzE3MjY4MDAiOiB7CiAgICAgICJjb2xvciI6ICIjZmZlOGRkIiwKICAgICAgIm9wYWNpdHkiOiAwLjgKICAgIH0sCiAgICAiMzE4MTMyMDAiOiB7CiAgICAgICJjb2xvciI6ICIjZmZmMGU4IiwKICAgICAgIm9wYWNpdHkiOiAwLjgKICAgIH0KICB9Cn07CiAgICAgICAgICAgICAgICB2YXIgY3VycmVudF90aW1lc3RhbXAgPSB0aW1lc3RhbXBzWzBdOwoKICAgICAgICAgICAgICAgIC8vIGluc2VydCB0aW1lIHNsaWRlcgogICAgICAgICAgICAgICAgZDMuc2VsZWN0KCJib2R5IikuaW5zZXJ0KCJwIiwgIjpmaXJzdC1jaGlsZCIpLmFwcGVuZCgiaW5wdXQiKQogICAgICAgICAgICAgICAgICAgIC5hdHRyKCJ0eXBlIiwgInJhbmdlIikKICAgICAgICAgICAgICAgICAgICAuYXR0cigid2lkdGgiLCAiMTAwcHgiKQogICAgICAgICAgICAgICAgICAgIC5hdHRyKCJtaW4iLCAwKQogICAgICAgICAgICAgICAgICAgIC5hdHRyKCJtYXgiLCB0aW1lc3RhbXBzLmxlbmd0aCAtIDEpCiAgICAgICAgICAgICAgICAgICAgLmF0dHIoInZhbHVlIiwgMCkKICAgICAgICAgICAgICAgICAgICAuYXR0cigiaWQiLCAic2xpZGVyIikKICAgICAgICAgICAgICAgICAgICAuYXR0cigic3RlcCIsICIxIikKICAgICAgICAgICAgICAgICAgICAuc3R5bGUoJ2FsaWduJywgJ2NlbnRlcicpOwoKICAgICAgICAgICAgICAgIC8vIGluc2VydCB0aW1lIHNsaWRlciBvdXRwdXQgQkVGT1JFIHRpbWUgc2xpZGVyICh0ZXh0IG9uIHRvcCBvZiBzbGlkZXIpCiAgICAgICAgICAgICAgICBkMy5zZWxlY3QoImJvZHkiKS5pbnNlcnQoInAiLCAiOmZpcnN0LWNoaWxkIikuYXBwZW5kKCJvdXRwdXQiKQogICAgICAgICAgICAgICAgICAgIC5hdHRyKCJ3aWR0aCIsICIxMDAiKQogICAgICAgICAgICAgICAgICAgIC5hdHRyKCJpZCIsICJzbGlkZXItdmFsdWUiKQogICAgICAgICAgICAgICAgICAgIC5zdHlsZSgnZm9udC1zaXplJywgJzE4cHgnKQogICAgICAgICAgICAgICAgICAgIC5zdHlsZSgndGV4dC1hbGlnbicsICdjZW50ZXInKQogICAgICAgICAgICAgICAgICAgIC5zdHlsZSgnZm9udC13ZWlnaHQnLCAnNTAwJScpOwoKICAgICAgICAgICAgICAgIHZhciBkYXRlc3RyaW5nID0gbmV3IERhdGUocGFyc2VJbnQoY3VycmVudF90aW1lc3RhbXApKjEwMDApLnRvRGF0ZVN0cmluZygpOwogICAgICAgICAgICAgICAgZDMuc2VsZWN0KCJvdXRwdXQjc2xpZGVyLXZhbHVlIikudGV4dChkYXRlc3RyaW5nKTsKCiAgICAgICAgICAgICAgICBmaWxsX21hcCA9IGZ1bmN0aW9uKCl7CiAgICAgICAgICAgICAgICAgICAgZm9yICh2YXIgZmVhdHVyZV9pZCBpbiBzdHlsZWRpY3QpewogICAgICAgICAgICAgICAgICAgICAgICBsZXQgc3R5bGUgPSBzdHlsZWRpY3RbZmVhdHVyZV9pZF0vL1tjdXJyZW50X3RpbWVzdGFtcF07CiAgICAgICAgICAgICAgICAgICAgICAgIHZhciBmaWxsQ29sb3IgPSAnd2hpdGUnOwogICAgICAgICAgICAgICAgICAgICAgICB2YXIgb3BhY2l0eSA9IDA7CiAgICAgICAgICAgICAgICAgICAgICAgIGlmIChjdXJyZW50X3RpbWVzdGFtcCBpbiBzdHlsZSl7CiAgICAgICAgICAgICAgICAgICAgICAgICAgICBmaWxsQ29sb3IgPSBzdHlsZVtjdXJyZW50X3RpbWVzdGFtcF1bJ2NvbG9yJ107CiAgICAgICAgICAgICAgICAgICAgICAgICAgICBvcGFjaXR5ID0gc3R5bGVbY3VycmVudF90aW1lc3RhbXBdWydvcGFjaXR5J107CiAgICAgICAgICAgICAgICAgICAgICAgICAgICBkMy5zZWxlY3RBbGwoJyNmZWF0dXJlLScrZmVhdHVyZV9pZAogICAgICAgICAgICAgICAgICAgICAgICAgICAgKS5hdHRyKCdmaWxsJywgZmlsbENvbG9yKQogICAgICAgICAgICAgICAgICAgICAgICAgICAgLnN0eWxlKCdmaWxsLW9wYWNpdHknLCBvcGFjaXR5KTsKICAgICAgICAgICAgICAgICAgICAgICAgfQogICAgICAgICAgICAgICAgICAgIH0KICAgICAgICAgICAgICAgIH0KCiAgICAgICAgICAgICAgICBkMy5zZWxlY3QoIiNzbGlkZXIiKS5vbigiaW5wdXQiLCBmdW5jdGlvbigpIHsKICAgICAgICAgICAgICAgICAgICBjdXJyZW50X3RpbWVzdGFtcCA9IHRpbWVzdGFtcHNbdGhpcy52YWx1ZV07CiAgICAgICAgICAgICAgICB2YXIgZGF0ZXN0cmluZyA9IG5ldyBEYXRlKHBhcnNlSW50KGN1cnJlbnRfdGltZXN0YW1wKSoxMDAwKS50b0RhdGVTdHJpbmcoKTsKICAgICAgICAgICAgICAgIGQzLnNlbGVjdCgib3V0cHV0I3NsaWRlci12YWx1ZSIpLnRleHQoZGF0ZXN0cmluZyk7CiAgICAgICAgICAgICAgICBmaWxsX21hcCgpOwogICAgICAgICAgICAgICAgfSk7CgogICAgICAgICAgICAgICAgCgogICAgICAgICAgICAgICAgdmFyIGdlb19qc29uXzZlODY1ZmYxNWU4YjRmOTFiYmFlOWFiZTk2ZTBmMjVhID0gTC5nZW9Kc29uKAogICAgICAgICAgICAgICAgICAgIHsiZmVhdHVyZXMiOiBbeyJnZW9tZXRyeSI6IHsiY29vcmRpbmF0ZXMiOiBbW1stNC4xMDg4ODY3MTg3NSwgNDIuNjUwMTIxODEzNjgwMjJdLCBbLTQuNDYwNDQ5MjE4NzUsIDQyLjY2NjI4MDcwNTY0OTI4XSwgWy00Ljg5OTkwMjM0Mzc1LCA0MS45NTEzMTk5NDY3OTY5N10sIFstNC4xNTI4MzIwMzEyNSwgNDIuMDE2NjUxODM1NTY4MjVdLCBbLTQuMTA4ODg2NzE4NzUsIDQyLjY1MDEyMTgxMzY4MDIyXV1dLCAidHlwZSI6ICJQb2x5Z29uIn0sICJpZCI6ICIwIiwgInByb3BlcnRpZXMiOiB7ImhpZ2hsaWdodCI6IHt9LCAic3R5bGUiOiB7fX0sICJ0eXBlIjogIkZlYXR1cmUifSwgeyJnZW9tZXRyeSI6IHsiY29vcmRpbmF0ZXMiOiBbW1stNi40MTYwMTU2MjUsIDQyLjY4MjQzNTM5ODM4NjIzXSwgWy02Ljc2NzU3ODEyNSwgNDIuNDcyMDk2OTA5MTkyODVdLCBbLTYuMjQwMjM0Mzc0OTk5OTk5LCA0Mi4xMzA4MjEzMDE4ODgxMV0sIFstNS4wNzU2ODM1OTM3NSwgNDIuNjgyNDM1Mzk4Mzg2MjNdLCBbLTYuNDE2MDE1NjI1LCA0Mi42ODI0MzUzOTgzODYyM11dXSwgInR5cGUiOiAiUG9seWdvbiJ9LCAiaWQiOiAiMSIsICJwcm9wZXJ0aWVzIjogeyJoaWdobGlnaHQiOiB7fSwgInN0eWxlIjoge319LCAidHlwZSI6ICJGZWF0dXJlIn0sIHsiZ2VvbWV0cnkiOiB7ImNvb3JkaW5hdGVzIjogW1tbLTYuMTYzMzMwMDc4MTI1LCA0MS41MjA5MTY4OTYzNjI0OV0sIFstNi4yMjkyNDgwNDY4NzUsIDQxLjI5MDE4OTk1NTg4NTY0NF0sIFstNi4wMjYwMDA5NzY1NjI1LCA0MS4wMDA2Mjk4NDg2ODUzODVdLCBbLTUuMjE4NTA1ODU5Mzc1LCA0MS4zNTYxOTU1MzQzODkwNV0sIFstNi4xNjMzMzAwNzgxMjUsIDQxLjUyMDkxNjg5NjM2MjQ5XV1dLCAidHlwZSI6ICJQb2x5Z29uIn0sICJpZCI6ICIyIiwgInByb3BlcnRpZXMiOiB7ImhpZ2hsaWdodCI6IHt9LCAic3R5bGUiOiB7fX0sICJ0eXBlIjogIkZlYXR1cmUifV0sICJ0eXBlIjogIkZlYXR1cmVDb2xsZWN0aW9uIn0KICAgICAgICAgICAgICAgICAgICAKICAgICAgICAgICAgICAgICAgICApLmFkZFRvKG1hcF84NTVhZGJjMmQzNjk0OWJiODE5ZDBlYjNlMTRkMGY4MAogICAgICAgICAgICAgICAgKTsKCiAgICAgICAgICAgIGdlb19qc29uXzZlODY1ZmYxNWU4YjRmOTFiYmFlOWFiZTk2ZTBmMjVhLnNldFN0eWxlKGZ1bmN0aW9uKGZlYXR1cmUpIHtmZWF0dXJlLnByb3BlcnRpZXMuc3R5bGU7fSk7CgogICAgICAgICAgICAgICAgZ2VvX2pzb25fNmU4NjVmZjE1ZThiNGY5MWJiYWU5YWJlOTZlMGYyNWEuZWFjaExheWVyKGZ1bmN0aW9uIChsYXllcikgewogICAgICAgICAgICAgICAgICAgIGxheWVyLl9wYXRoLmlkID0gJ2ZlYXR1cmUtJyArIGxheWVyLmZlYXR1cmUuaWQ7CiAgICAgICAgICAgICAgICAgICAgfSk7CgogICAgICAgICAgICAgICAgZDMuc2VsZWN0QWxsKCdwYXRoJykKICAgICAgICAgICAgICAgIC5hdHRyKCdzdHJva2UnLCAnd2hpdGUnKQogICAgICAgICAgICAgICAgLmF0dHIoJ3N0cm9rZS13aWR0aCcsIDAuOCkKICAgICAgICAgICAgICAgIC5hdHRyKCdzdHJva2UtZGFzaGFycmF5JywgJzUsNScpCiAgICAgICAgICAgICAgICAuYXR0cignZmlsbC1vcGFjaXR5JywgMCk7CiAgICAgICAgICAgICAgICBmaWxsX21hcCgpOwoKICAgICAgICAgICAgCjwvc2NyaXB0Pg==\" style=\"position:absolute;width:100%;height:100%;left:0;top:0;border:none !important;\" allowfullscreen webkitallowfullscreen mozallowfullscreen></iframe></div></div>"
      ],
      "text/plain": [
       "<folium.folium.Map at 0x7f906c763438>"
      ]
     },
     "execution_count": 21,
     "metadata": {},
     "output_type": "execute_result"
    }
   ],
   "source": [
    "m = folium.Map([42.65012181368022,-4.10888671875], zoom_start=6)\n",
    "# time_slider_choropleth(gpoly, values, fake_dates, color_per_day=True).add_to(m)\n",
    "time_slider_choropleth(gpoly, values, fake_dates, color_per_day=False).add_to(m)\n",
    "m"
   ]
  },
  {
   "cell_type": "code",
   "execution_count": null,
   "metadata": {},
   "outputs": [],
   "source": []
  }
 ],
 "metadata": {
  "kernelspec": {
   "display_name": "Python [default]",
   "language": "python",
   "name": "python3"
  },
  "language_info": {
   "codemirror_mode": {
    "name": "ipython",
    "version": 3
   },
   "file_extension": ".py",
   "mimetype": "text/x-python",
   "name": "python",
   "nbconvert_exporter": "python",
   "pygments_lexer": "ipython3",
   "version": "3.6.6"
  }
 },
 "nbformat": 4,
 "nbformat_minor": 2
}
