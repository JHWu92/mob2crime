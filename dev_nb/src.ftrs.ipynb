{
 "cells": [
  {
   "cell_type": "code",
   "execution_count": 1,
   "metadata": {
    "ExecuteTime": {
     "end_time": "2019-11-21T19:22:24.336142Z",
     "start_time": "2019-11-21T19:22:24.324240Z"
    }
   },
   "outputs": [],
   "source": [
    "%load_ext autoreload\n",
    "%autoreload 2\n"
   ]
  },
  {
   "cell_type": "code",
   "execution_count": 2,
   "metadata": {
    "ExecuteTime": {
     "end_time": "2019-11-21T19:22:28.756618Z",
     "start_time": "2019-11-21T19:22:24.524300Z"
    }
   },
   "outputs": [],
   "source": [
    "import os\n",
    "import sys\n",
    "\n",
    "if not os.getcwd().endswith('mob2crime'):\n",
    "    os.chdir('..')\n",
    "import folium\n",
    "\n",
    "import src.mex_helper as mex_helper\n",
    "import src.mex as mex\n",
    "import src.mex.regions2010 as region\n",
    "import src.mex.tower as tower\n",
    "import src.tower_interpolation as tw_int\n",
    "import src.utils.map_vis as mvis\n",
    "import src.utils.gis as gis\n",
    "\n",
    "from src.utils.map_vis import time_slider_choropleth, geojson_per_row\n",
    "import src.ftrs.dilatation as ftr_dv"
   ]
  },
  {
   "cell_type": "code",
   "execution_count": 3,
   "metadata": {
    "ExecuteTime": {
     "end_time": "2019-11-21T19:22:28.787951Z",
     "start_time": "2019-11-21T19:22:28.759183Z"
    }
   },
   "outputs": [],
   "source": [
    "import pandas as pd\n",
    "import src.features as ftr\n",
    "import numpy as np"
   ]
  },
  {
   "cell_type": "code",
   "execution_count": 4,
   "metadata": {
    "ExecuteTime": {
     "end_time": "2019-11-21T19:22:28.873750Z",
     "start_time": "2019-11-21T19:22:28.790138Z"
    }
   },
   "outputs": [],
   "source": [
    "import geopandas as gp"
   ]
  },
  {
   "cell_type": "code",
   "execution_count": null,
   "metadata": {
    "ExecuteTime": {
     "end_time": "2019-11-21T19:22:16.196182Z",
     "start_time": "2019-11-21T19:22:13.500Z"
    }
   },
   "outputs": [],
   "source": [
    "zms = region.mpa_all()\n",
    "zms['Area'] = zms.area\n",
    "# zms_area = zms.to_crs(mex.crs).geometry.apply(lambda x: x.area)\n",
    "zms_sqrt_area = np.sqrt(zms.Area)"
   ]
  },
  {
   "cell_type": "code",
   "execution_count": null,
   "metadata": {
    "ExecuteTime": {
     "end_time": "2019-11-21T19:22:16.197416Z",
     "start_time": "2019-11-21T19:22:13.770Z"
    }
   },
   "outputs": [],
   "source": [
    "zms_g2000 = region.mpa_grids(side=2000, per_mun=False)"
   ]
  },
  {
   "cell_type": "markdown",
   "metadata": {},
   "source": [
    "# interpolate"
   ]
  },
  {
   "cell_type": "code",
   "execution_count": 5,
   "metadata": {
    "ExecuteTime": {
     "end_time": "2019-11-21T19:22:31.112729Z",
     "start_time": "2019-11-21T19:22:28.875867Z"
    }
   },
   "outputs": [
    {
     "name": "stdout",
     "output_type": "stream",
     "text": [
      "loading cached tw average stats/stat_tw_dow_aver_hr_uniq_user-out+in.pickle\n"
     ]
    }
   ],
   "source": [
    "call_direction = 'out+in'\n",
    "aver = mex_helper.stat_tw_dow_aver_hr_uniq_user(call_direction)\n",
    "avg_tw = pd.DataFrame(aver['wd']).T"
   ]
  },
  {
   "cell_type": "markdown",
   "metadata": {
    "heading_collapsed": true
   },
   "source": [
    "# dilitation"
   ]
  },
  {
   "cell_type": "code",
   "execution_count": 35,
   "metadata": {
    "ExecuteTime": {
     "end_time": "2019-10-29T19:38:47.104331Z",
     "start_time": "2019-10-29T19:38:46.930475Z"
    },
    "hidden": true
   },
   "outputs": [
    {
     "name": "stdout",
     "output_type": "stream",
     "text": [
      "to_map_grids loading existing file data/mex_tw_intpl/tower_to_mpa_g2000_by_area.csv\n"
     ]
    }
   ],
   "source": [
    "t2g2000_area = tw_int.to_mpa_grids(2000, by='area', per_mun=False)\n",
    "t2g2000_area.set_index('grid', inplace=True)\n",
    "avg_g2000_area = tw_int.interpolate_stats(avg_tw, t2g2000_area)"
   ]
  },
  {
   "cell_type": "code",
   "execution_count": 21,
   "metadata": {
    "ExecuteTime": {
     "end_time": "2019-10-29T19:14:20.983148Z",
     "start_time": "2019-10-29T19:14:20.704769Z"
    },
    "hidden": true
   },
   "outputs": [
    {
     "name": "stdout",
     "output_type": "stream",
     "text": [
      "interpolate_idw loading existing file data/mex_tw_intpl/interpolate_idw10_g2000.csv\n"
     ]
    }
   ],
   "source": [
    "gs_avg_idw2000 = tw_int.interpolate_idw(None, 2000, False)"
   ]
  },
  {
   "cell_type": "code",
   "execution_count": 36,
   "metadata": {
    "ExecuteTime": {
     "end_time": "2019-10-29T19:39:14.505087Z",
     "start_time": "2019-10-29T19:39:02.889968Z"
    },
    "hidden": true
   },
   "outputs": [],
   "source": [
    "dv_g2000_a = ftr_dv.dv_for_mpa_grids(avg_g2000_area, zms, zms_g2000)"
   ]
  },
  {
   "cell_type": "code",
   "execution_count": 38,
   "metadata": {
    "ExecuteTime": {
     "end_time": "2019-10-29T19:42:52.517351Z",
     "start_time": "2019-10-29T19:42:52.389179Z"
    },
    "hidden": true
   },
   "outputs": [],
   "source": [
    "%matplotlib inline"
   ]
  },
  {
   "cell_type": "code",
   "execution_count": 39,
   "metadata": {
    "ExecuteTime": {
     "end_time": "2019-10-29T19:42:52.809881Z",
     "start_time": "2019-10-29T19:42:52.653461Z"
    },
    "hidden": true
   },
   "outputs": [
    {
     "data": {
      "text/plain": [
       "<matplotlib.axes._subplots.AxesSubplot at 0x7f9caeb52898>"
      ]
     },
     "execution_count": 39,
     "metadata": {},
     "output_type": "execute_result"
    },
    {
     "data": {
      "image/png": "[encoded data removed]",
      "text/plain": [
       "<Figure size 432x288 with 1 Axes>"
      ]
     },
     "metadata": {
      "needs_background": "light"
     },
     "output_type": "display_data"
    }
   ],
   "source": [
    "dv_g2000_a.loc[zms.index].iloc[0,:-1].plot()"
   ]
  },
  {
   "cell_type": "markdown",
   "metadata": {
    "heading_collapsed": true
   },
   "source": [
    "# sampling moment of inertia"
   ]
  },
  {
   "cell_type": "markdown",
   "metadata": {
    "heading_collapsed": true,
    "hidden": true
   },
   "source": [
    "## Moment of Inertia in vector form"
   ]
  },
  {
   "cell_type": "code",
   "execution_count": 391,
   "metadata": {
    "ExecuteTime": {
     "end_time": "2019-11-21T04:31:01.755965Z",
     "start_time": "2019-11-21T04:31:01.730436Z"
    },
    "hidden": true
   },
   "outputs": [],
   "source": [
    "sub_target_hs = target_hs.iloc[27:30]"
   ]
  },
  {
   "cell_type": "code",
   "execution_count": 392,
   "metadata": {
    "ExecuteTime": {
     "end_time": "2019-11-21T04:31:02.096053Z",
     "start_time": "2019-11-21T04:31:01.892721Z"
    },
    "hidden": true
   },
   "outputs": [
    {
     "data": {
      "text/plain": [
       "<matplotlib.axes._subplots.AxesSubplot at 0x7fe999c2a1d0>"
      ]
     },
     "execution_count": 392,
     "metadata": {},
     "output_type": "execute_result"
    },
    {
     "data": {
      "image/png": "[encoded data removed]",
      "text/plain": [
       "<Figure size 432x288 with 1 Axes>"
      ]
     },
     "metadata": {
      "needs_background": "light"
     },
     "output_type": "display_data"
    }
   ],
   "source": [
    "sub_target_hs.plot()"
   ]
  },
  {
   "cell_type": "code",
   "execution_count": 393,
   "metadata": {
    "ExecuteTime": {
     "end_time": "2019-11-21T04:31:02.111068Z",
     "start_time": "2019-11-21T04:31:02.097494Z"
    },
    "hidden": true
   },
   "outputs": [],
   "source": [
    "sub_target_hs_centroid = cascaded_union(sub_target_hs.geometry).centroid"
   ]
  },
  {
   "cell_type": "code",
   "execution_count": 394,
   "metadata": {
    "ExecuteTime": {
     "end_time": "2019-11-21T04:31:02.303266Z",
     "start_time": "2019-11-21T04:31:02.226942Z"
    },
    "hidden": true
   },
   "outputs": [],
   "source": [
    "sub_g = gis.gp_polys_to_grids(sub_target_hs, side=100, no_grid_by_area=True)"
   ]
  },
  {
   "cell_type": "code",
   "execution_count": 395,
   "metadata": {
    "ExecuteTime": {
     "end_time": "2019-11-21T04:31:03.098604Z",
     "start_time": "2019-11-21T04:31:03.023467Z"
    },
    "hidden": true
   },
   "outputs": [
    {
     "data": {
      "text/plain": [
       "(2804542.3008907223,\n",
       " 822926.4195838785,\n",
       " [(2803956.178589577, 823404.4977339791)])"
      ]
     },
     "execution_count": 395,
     "metadata": {},
     "output_type": "execute_result"
    }
   ],
   "source": [
    "g_x = sub_g.centroid.apply(lambda x: x.coords[0][0])\n",
    "g_y = sub_g.centroid.apply(lambda x: x.coords[0][1])\n",
    "\n",
    "\n",
    "cx = (g_x*sub_g.area).sum() / sub_g.area.sum()\n",
    "cy = (g_y*sub_g.area).sum() / sub_g.area.sum()\n",
    "\n",
    "cx,cy,sub_target_hs_centroid.coords[:]"
   ]
  },
  {
   "cell_type": "code",
   "execution_count": 360,
   "metadata": {
    "ExecuteTime": {
     "end_time": "2019-11-21T04:29:52.716081Z",
     "start_time": "2019-11-21T04:29:52.648723Z"
    },
    "hidden": true
   },
   "outputs": [
    {
     "data": {
      "text/plain": [
       "0.023580085257251866"
      ]
     },
     "execution_count": 360,
     "metadata": {},
     "output_type": "execute_result"
    }
   ],
   "source": [
    "sub_g_area = sub_g.area\n",
    "d = cdist(sub_g.centroid.apply(lambda x: x.coords[0]).tolist(), [sub_target_hs_centroid.coords[0]])[:,0]\n",
    "\n",
    "i_g = (sub_g_area**2)/6 + d** 2 * sub_g_area\n",
    "i_g = i_g.sum()\n",
    "\n",
    "i_0 = sub_g_area.sum()**2 / 2 / math.pi\n",
    "\n",
    "i = i_0/i_g\n",
    "\n",
    "i"
   ]
  },
  {
   "cell_type": "code",
   "execution_count": 243,
   "metadata": {
    "ExecuteTime": {
     "end_time": "2019-11-21T02:58:00.880576Z",
     "start_time": "2019-11-21T02:58:00.605822Z"
    },
    "hidden": true
   },
   "outputs": [
    {
     "data": {
      "text/plain": [
       "<matplotlib.axes._subplots.AxesSubplot at 0x7fe991caf978>"
      ]
     },
     "execution_count": 243,
     "metadata": {},
     "output_type": "execute_result"
    },
    {
     "data": {
      "image/png": "[encoded data removed]",
      "text/plain": [
       "<Figure size 432x288 with 1 Axes>"
      ]
     },
     "metadata": {
      "needs_background": "light"
     },
     "output_type": "display_data"
    }
   ],
   "source": [
    "sub_g.plot()"
   ]
  },
  {
   "cell_type": "code",
   "execution_count": 253,
   "metadata": {
    "ExecuteTime": {
     "end_time": "2019-11-21T02:59:09.220427Z",
     "start_time": "2019-11-21T02:59:09.107914Z"
    },
    "hidden": true
   },
   "outputs": [
    {
     "data": {
      "text/plain": [
       "0.8737884408674034"
      ]
     },
     "execution_count": 253,
     "metadata": {},
     "output_type": "execute_result"
    }
   ],
   "source": [
    "sub_g_nc = gis.gp_polys_to_grids(sub_target_hs, side=100, no_grid_by_area=True, clip_by_poly=False, area_pcnt_thres=0.4)\n",
    "\n",
    "\n",
    "\n",
    "sub_g_nc_area = sub_g_nc.area\n",
    "d = cdist(sub_g_nc.centroid.apply(lambda x: x.coords[0]).tolist(), [sub_target_hs_centroid.coords[0]])[:,0]\n",
    "\n",
    "i_g = (sub_g_nc_area**2)/6 + d** 2 * sub_g_nc_area\n",
    "i_g = i_g.sum()\n",
    "\n",
    "i_0 = sub_g_nc_area.sum()**2 / 2 / math.pi\n",
    "\n",
    "i = i_0/i_g\n",
    "\n",
    "i"
   ]
  },
  {
   "cell_type": "code",
   "execution_count": 215,
   "metadata": {
    "ExecuteTime": {
     "end_time": "2019-11-21T02:45:27.363051Z",
     "start_time": "2019-11-21T02:45:27.039439Z"
    },
    "hidden": true
   },
   "outputs": [
    {
     "data": {
      "text/plain": [
       "<matplotlib.axes._subplots.AxesSubplot at 0x7fe9a1c1d048>"
      ]
     },
     "execution_count": 215,
     "metadata": {},
     "output_type": "execute_result"
    },
    {
     "data": {
      "image/png": "[encoded data removed]",
      "text/plain": [
       "<Figure size 432x288 with 1 Axes>"
      ]
     },
     "metadata": {
      "needs_background": "light"
     },
     "output_type": "display_data"
    }
   ],
   "source": [
    "\n",
    "sub_g_nc.plot()"
   ]
  },
  {
   "cell_type": "markdown",
   "metadata": {
    "heading_collapsed": true,
    "hidden": true
   },
   "source": [
    "## average distance to a circle is 2R/3"
   ]
  },
  {
   "cell_type": "markdown",
   "metadata": {
    "hidden": true
   },
   "source": [
    "https://math.stackexchange.com/questions/3019165/average-distance-from-center-of-circle"
   ]
  },
  {
   "cell_type": "code",
   "execution_count": 77,
   "metadata": {
    "ExecuteTime": {
     "end_time": "2019-11-20T15:11:36.140229Z",
     "start_time": "2019-11-20T15:11:36.087501Z"
    },
    "hidden": true
   },
   "outputs": [],
   "source": [
    "import math\n",
    "import random\n",
    "def rand_point_in_circle(radius):\n",
    "    r = radius * math.sqrt(random.random())\n",
    "    theta = random.random() * 2 * math.pi\n",
    "    x = r * math.cos(theta)\n",
    "    y = r * math.sin(theta)\n",
    "    return x, y"
   ]
  },
  {
   "cell_type": "code",
   "execution_count": 78,
   "metadata": {
    "ExecuteTime": {
     "end_time": "2019-11-20T15:13:02.824895Z",
     "start_time": "2019-11-20T15:12:59.718203Z"
    },
    "hidden": true
   },
   "outputs": [],
   "source": [
    "\n",
    "avg_dist = []\n",
    "for rad in range(1, 20):\n",
    "    dists = []\n",
    "    for _ in range(100000):\n",
    "        x1,y1=rand_point_in_circle(rad)\n",
    "        dist = math.sqrt(x1**2+y1**2)\n",
    "        dists.append(dist)\n",
    "    avg_dist.append({'rad': rad, 'dist':sum(dists)/len(dists)})\n",
    "avg_dist_pd = pd.DataFrame(avg_dist)"
   ]
  },
  {
   "cell_type": "code",
   "execution_count": 85,
   "metadata": {
    "ExecuteTime": {
     "end_time": "2019-11-20T15:15:44.630462Z",
     "start_time": "2019-11-20T15:15:44.599837Z"
    },
    "hidden": true
   },
   "outputs": [],
   "source": [
    "avg_dist_pd['ratio'] = avg_dist_pd.dist/avg_dist_pd.dist[0]\n",
    "avg_dist_pd['rad**2'] = avg_dist_pd.rad**2\n",
    "avg_dist_pd['ration/rad**2']=avg_dist_pd.ratio/avg_dist_pd['rad**2']\n",
    "avg_dist_pd['ration/rad']=avg_dist_pd.ratio/avg_dist_pd['rad']\n",
    "avg_dist_pd['dist/(2R/3)'] = avg_dist_pd.dist / (2*avg_dist_pd.rad/3)"
   ]
  },
  {
   "cell_type": "code",
   "execution_count": 86,
   "metadata": {
    "ExecuteTime": {
     "end_time": "2019-11-20T15:15:45.401958Z",
     "start_time": "2019-11-20T15:15:45.354719Z"
    },
    "hidden": true
   },
   "outputs": [
    {
     "data": {
      "text/html": [
       "<div>\n",
       "<style scoped>\n",
       "    .dataframe tbody tr th:only-of-type {\n",
       "        vertical-align: middle;\n",
       "    }\n",
       "\n",
       "    .dataframe tbody tr th {\n",
       "        vertical-align: top;\n",
       "    }\n",
       "\n",
       "    .dataframe thead th {\n",
       "        text-align: right;\n",
       "    }\n",
       "</style>\n",
       "<table border=\"1\" class=\"dataframe\">\n",
       "  <thead>\n",
       "    <tr style=\"text-align: right;\">\n",
       "      <th></th>\n",
       "      <th>rad</th>\n",
       "      <th>dist</th>\n",
       "      <th>ratio</th>\n",
       "      <th>rad**2</th>\n",
       "      <th>ration/rad**2</th>\n",
       "      <th>ration/rad</th>\n",
       "      <th>dist/(2R/3)</th>\n",
       "    </tr>\n",
       "  </thead>\n",
       "  <tbody>\n",
       "    <tr>\n",
       "      <td>0</td>\n",
       "      <td>1</td>\n",
       "      <td>0.665913</td>\n",
       "      <td>1.000000</td>\n",
       "      <td>1</td>\n",
       "      <td>1.000000</td>\n",
       "      <td>1.000000</td>\n",
       "      <td>0.998870</td>\n",
       "    </tr>\n",
       "    <tr>\n",
       "      <td>1</td>\n",
       "      <td>2</td>\n",
       "      <td>1.335742</td>\n",
       "      <td>2.005880</td>\n",
       "      <td>4</td>\n",
       "      <td>0.501470</td>\n",
       "      <td>1.002940</td>\n",
       "      <td>1.001807</td>\n",
       "    </tr>\n",
       "    <tr>\n",
       "      <td>2</td>\n",
       "      <td>3</td>\n",
       "      <td>1.998839</td>\n",
       "      <td>3.001651</td>\n",
       "      <td>9</td>\n",
       "      <td>0.333517</td>\n",
       "      <td>1.000550</td>\n",
       "      <td>0.999420</td>\n",
       "    </tr>\n",
       "    <tr>\n",
       "      <td>3</td>\n",
       "      <td>4</td>\n",
       "      <td>2.668318</td>\n",
       "      <td>4.007005</td>\n",
       "      <td>16</td>\n",
       "      <td>0.250438</td>\n",
       "      <td>1.001751</td>\n",
       "      <td>1.000619</td>\n",
       "    </tr>\n",
       "    <tr>\n",
       "      <td>4</td>\n",
       "      <td>5</td>\n",
       "      <td>3.330542</td>\n",
       "      <td>5.001466</td>\n",
       "      <td>25</td>\n",
       "      <td>0.200059</td>\n",
       "      <td>1.000293</td>\n",
       "      <td>0.999163</td>\n",
       "    </tr>\n",
       "    <tr>\n",
       "      <td>5</td>\n",
       "      <td>6</td>\n",
       "      <td>4.003661</td>\n",
       "      <td>6.012287</td>\n",
       "      <td>36</td>\n",
       "      <td>0.167008</td>\n",
       "      <td>1.002048</td>\n",
       "      <td>1.000915</td>\n",
       "    </tr>\n",
       "    <tr>\n",
       "      <td>6</td>\n",
       "      <td>7</td>\n",
       "      <td>4.668991</td>\n",
       "      <td>7.011411</td>\n",
       "      <td>49</td>\n",
       "      <td>0.143090</td>\n",
       "      <td>1.001630</td>\n",
       "      <td>1.000498</td>\n",
       "    </tr>\n",
       "    <tr>\n",
       "      <td>7</td>\n",
       "      <td>8</td>\n",
       "      <td>5.331069</td>\n",
       "      <td>8.005652</td>\n",
       "      <td>64</td>\n",
       "      <td>0.125088</td>\n",
       "      <td>1.000706</td>\n",
       "      <td>0.999575</td>\n",
       "    </tr>\n",
       "    <tr>\n",
       "      <td>8</td>\n",
       "      <td>9</td>\n",
       "      <td>5.999499</td>\n",
       "      <td>9.009431</td>\n",
       "      <td>81</td>\n",
       "      <td>0.111228</td>\n",
       "      <td>1.001048</td>\n",
       "      <td>0.999916</td>\n",
       "    </tr>\n",
       "    <tr>\n",
       "      <td>9</td>\n",
       "      <td>10</td>\n",
       "      <td>6.663433</td>\n",
       "      <td>10.006459</td>\n",
       "      <td>100</td>\n",
       "      <td>0.100065</td>\n",
       "      <td>1.000646</td>\n",
       "      <td>0.999515</td>\n",
       "    </tr>\n",
       "    <tr>\n",
       "      <td>10</td>\n",
       "      <td>11</td>\n",
       "      <td>7.345829</td>\n",
       "      <td>11.031211</td>\n",
       "      <td>121</td>\n",
       "      <td>0.091167</td>\n",
       "      <td>1.002837</td>\n",
       "      <td>1.001704</td>\n",
       "    </tr>\n",
       "    <tr>\n",
       "      <td>11</td>\n",
       "      <td>12</td>\n",
       "      <td>8.019059</td>\n",
       "      <td>12.042198</td>\n",
       "      <td>144</td>\n",
       "      <td>0.083626</td>\n",
       "      <td>1.003517</td>\n",
       "      <td>1.002382</td>\n",
       "    </tr>\n",
       "    <tr>\n",
       "      <td>12</td>\n",
       "      <td>13</td>\n",
       "      <td>8.659537</td>\n",
       "      <td>13.004003</td>\n",
       "      <td>169</td>\n",
       "      <td>0.076947</td>\n",
       "      <td>1.000308</td>\n",
       "      <td>0.999177</td>\n",
       "    </tr>\n",
       "    <tr>\n",
       "      <td>13</td>\n",
       "      <td>14</td>\n",
       "      <td>9.347183</td>\n",
       "      <td>14.036639</td>\n",
       "      <td>196</td>\n",
       "      <td>0.071616</td>\n",
       "      <td>1.002617</td>\n",
       "      <td>1.001484</td>\n",
       "    </tr>\n",
       "    <tr>\n",
       "      <td>14</td>\n",
       "      <td>15</td>\n",
       "      <td>9.980238</td>\n",
       "      <td>14.987296</td>\n",
       "      <td>225</td>\n",
       "      <td>0.066610</td>\n",
       "      <td>0.999153</td>\n",
       "      <td>0.998024</td>\n",
       "    </tr>\n",
       "    <tr>\n",
       "      <td>15</td>\n",
       "      <td>16</td>\n",
       "      <td>10.672492</td>\n",
       "      <td>16.026852</td>\n",
       "      <td>256</td>\n",
       "      <td>0.062605</td>\n",
       "      <td>1.001678</td>\n",
       "      <td>1.000546</td>\n",
       "    </tr>\n",
       "    <tr>\n",
       "      <td>16</td>\n",
       "      <td>17</td>\n",
       "      <td>11.349479</td>\n",
       "      <td>17.043481</td>\n",
       "      <td>289</td>\n",
       "      <td>0.058974</td>\n",
       "      <td>1.002558</td>\n",
       "      <td>1.001425</td>\n",
       "    </tr>\n",
       "    <tr>\n",
       "      <td>17</td>\n",
       "      <td>18</td>\n",
       "      <td>11.978300</td>\n",
       "      <td>17.987780</td>\n",
       "      <td>324</td>\n",
       "      <td>0.055518</td>\n",
       "      <td>0.999321</td>\n",
       "      <td>0.998192</td>\n",
       "    </tr>\n",
       "    <tr>\n",
       "      <td>18</td>\n",
       "      <td>19</td>\n",
       "      <td>12.653126</td>\n",
       "      <td>19.001165</td>\n",
       "      <td>361</td>\n",
       "      <td>0.052635</td>\n",
       "      <td>1.000061</td>\n",
       "      <td>0.998931</td>\n",
       "    </tr>\n",
       "  </tbody>\n",
       "</table>\n",
       "</div>"
      ],
      "text/plain": [
       "    rad       dist      ratio  rad**2  ration/rad**2  ration/rad  dist/(2R/3)\n",
       "0     1   0.665913   1.000000       1       1.000000    1.000000     0.998870\n",
       "1     2   1.335742   2.005880       4       0.501470    1.002940     1.001807\n",
       "2     3   1.998839   3.001651       9       0.333517    1.000550     0.999420\n",
       "3     4   2.668318   4.007005      16       0.250438    1.001751     1.000619\n",
       "4     5   3.330542   5.001466      25       0.200059    1.000293     0.999163\n",
       "5     6   4.003661   6.012287      36       0.167008    1.002048     1.000915\n",
       "6     7   4.668991   7.011411      49       0.143090    1.001630     1.000498\n",
       "7     8   5.331069   8.005652      64       0.125088    1.000706     0.999575\n",
       "8     9   5.999499   9.009431      81       0.111228    1.001048     0.999916\n",
       "9    10   6.663433  10.006459     100       0.100065    1.000646     0.999515\n",
       "10   11   7.345829  11.031211     121       0.091167    1.002837     1.001704\n",
       "11   12   8.019059  12.042198     144       0.083626    1.003517     1.002382\n",
       "12   13   8.659537  13.004003     169       0.076947    1.000308     0.999177\n",
       "13   14   9.347183  14.036639     196       0.071616    1.002617     1.001484\n",
       "14   15   9.980238  14.987296     225       0.066610    0.999153     0.998024\n",
       "15   16  10.672492  16.026852     256       0.062605    1.001678     1.000546\n",
       "16   17  11.349479  17.043481     289       0.058974    1.002558     1.001425\n",
       "17   18  11.978300  17.987780     324       0.055518    0.999321     0.998192\n",
       "18   19  12.653126  19.001165     361       0.052635    1.000061     0.998931"
      ]
     },
     "execution_count": 86,
     "metadata": {},
     "output_type": "execute_result"
    }
   ],
   "source": [
    "avg_dist_pd"
   ]
  },
  {
   "cell_type": "markdown",
   "metadata": {
    "hidden": true
   },
   "source": [
    "## average distance-square of a circle is ~ radius**2"
   ]
  },
  {
   "cell_type": "markdown",
   "metadata": {
    "heading_collapsed": true,
    "hidden": true
   },
   "source": [
    "### random sampling"
   ]
  },
  {
   "cell_type": "code",
   "execution_count": 7,
   "metadata": {
    "ExecuteTime": {
     "end_time": "2019-11-20T04:41:50.866348Z",
     "start_time": "2019-11-20T04:41:50.843615Z"
    },
    "hidden": true
   },
   "outputs": [],
   "source": [
    "import math\n",
    "import random"
   ]
  },
  {
   "cell_type": "code",
   "execution_count": 29,
   "metadata": {
    "ExecuteTime": {
     "end_time": "2019-11-20T04:12:06.985332Z",
     "start_time": "2019-11-20T04:12:06.958813Z"
    },
    "hidden": true
   },
   "outputs": [],
   "source": [
    "def rand_point_in_circle(radius):\n",
    "    r = radius * math.sqrt(random.random())\n",
    "    theta = random.random() * 2 * math.pi\n",
    "    x = r * math.cos(theta)\n",
    "    y = r * math.sin(theta)\n",
    "    return x, y"
   ]
  },
  {
   "cell_type": "code",
   "execution_count": 45,
   "metadata": {
    "ExecuteTime": {
     "end_time": "2019-11-20T04:21:22.875090Z",
     "start_time": "2019-11-20T04:21:17.657828Z"
    },
    "hidden": true
   },
   "outputs": [],
   "source": [
    "\n",
    "avg_dist = []\n",
    "for rad in range(1, 20):\n",
    "    dist_squares = []\n",
    "    dists = []\n",
    "    for _ in range(100000):\n",
    "        x1,y1=rand_point_in_circle(rad)\n",
    "        x2,y2=rand_point_in_circle(rad)\n",
    "\n",
    "        dist = math.sqrt((x1-x2)**2 + (y1-y2)**2)\n",
    "        dist_square=(x1-x2)**2 + (y1-y2)**2\n",
    "        dists.append(dist)\n",
    "        dist_squares.append(dist_square)\n",
    "\n",
    "    avg_dist.append({'rad': rad, 'dist':sum(dists)/len(dists), 'dist_2':sum(dist_squares)/len(dist_squares)})"
   ]
  },
  {
   "cell_type": "code",
   "execution_count": 54,
   "metadata": {
    "ExecuteTime": {
     "end_time": "2019-11-20T04:23:59.123007Z",
     "start_time": "2019-11-20T04:23:59.100789Z"
    },
    "hidden": true
   },
   "outputs": [],
   "source": [
    "avg_dist_pd = pd.DataFrame(avg_dist)"
   ]
  },
  {
   "cell_type": "code",
   "execution_count": 57,
   "metadata": {
    "ExecuteTime": {
     "end_time": "2019-11-20T04:24:56.998810Z",
     "start_time": "2019-11-20T04:24:56.963820Z"
    },
    "hidden": true
   },
   "outputs": [],
   "source": [
    "avg_dist_pd['ratio'] = avg_dist_pd.dist_2/avg_dist_pd.dist_2[0]\n",
    "avg_dist_pd['rad**2'] = avg_dist_pd.rad**2\n",
    "avg_dist_pd['ration/rad**2']=avg_dist_pd.ratio/avg_dist_pd['rad**2']"
   ]
  },
  {
   "cell_type": "code",
   "execution_count": 58,
   "metadata": {
    "ExecuteTime": {
     "end_time": "2019-11-20T04:24:57.666317Z",
     "start_time": "2019-11-20T04:24:57.622306Z"
    },
    "hidden": true,
    "scrolled": true
   },
   "outputs": [
    {
     "data": {
      "text/html": [
       "<div>\n",
       "<style scoped>\n",
       "    .dataframe tbody tr th:only-of-type {\n",
       "        vertical-align: middle;\n",
       "    }\n",
       "\n",
       "    .dataframe tbody tr th {\n",
       "        vertical-align: top;\n",
       "    }\n",
       "\n",
       "    .dataframe thead th {\n",
       "        text-align: right;\n",
       "    }\n",
       "</style>\n",
       "<table border=\"1\" class=\"dataframe\">\n",
       "  <thead>\n",
       "    <tr style=\"text-align: right;\">\n",
       "      <th></th>\n",
       "      <th>rad</th>\n",
       "      <th>dist</th>\n",
       "      <th>dist_2</th>\n",
       "      <th>ratio</th>\n",
       "      <th>rad**2</th>\n",
       "      <th>ration/rad**2</th>\n",
       "    </tr>\n",
       "  </thead>\n",
       "  <tbody>\n",
       "    <tr>\n",
       "      <td>0</td>\n",
       "      <td>1</td>\n",
       "      <td>0.905992</td>\n",
       "      <td>1.002213</td>\n",
       "      <td>1.000000</td>\n",
       "      <td>1</td>\n",
       "      <td>1.000000</td>\n",
       "    </tr>\n",
       "    <tr>\n",
       "      <td>1</td>\n",
       "      <td>2</td>\n",
       "      <td>1.813226</td>\n",
       "      <td>4.006565</td>\n",
       "      <td>3.997720</td>\n",
       "      <td>4</td>\n",
       "      <td>0.999430</td>\n",
       "    </tr>\n",
       "    <tr>\n",
       "      <td>2</td>\n",
       "      <td>3</td>\n",
       "      <td>2.715005</td>\n",
       "      <td>8.989880</td>\n",
       "      <td>8.970032</td>\n",
       "      <td>9</td>\n",
       "      <td>0.996670</td>\n",
       "    </tr>\n",
       "    <tr>\n",
       "      <td>3</td>\n",
       "      <td>4</td>\n",
       "      <td>3.625679</td>\n",
       "      <td>16.026201</td>\n",
       "      <td>15.990818</td>\n",
       "      <td>16</td>\n",
       "      <td>0.999426</td>\n",
       "    </tr>\n",
       "    <tr>\n",
       "      <td>4</td>\n",
       "      <td>5</td>\n",
       "      <td>4.522896</td>\n",
       "      <td>24.957895</td>\n",
       "      <td>24.902792</td>\n",
       "      <td>25</td>\n",
       "      <td>0.996112</td>\n",
       "    </tr>\n",
       "    <tr>\n",
       "      <td>5</td>\n",
       "      <td>6</td>\n",
       "      <td>5.443927</td>\n",
       "      <td>36.139776</td>\n",
       "      <td>36.059985</td>\n",
       "      <td>36</td>\n",
       "      <td>1.001666</td>\n",
       "    </tr>\n",
       "    <tr>\n",
       "      <td>6</td>\n",
       "      <td>7</td>\n",
       "      <td>6.333444</td>\n",
       "      <td>48.864130</td>\n",
       "      <td>48.756246</td>\n",
       "      <td>49</td>\n",
       "      <td>0.995025</td>\n",
       "    </tr>\n",
       "    <tr>\n",
       "      <td>7</td>\n",
       "      <td>8</td>\n",
       "      <td>7.230904</td>\n",
       "      <td>63.721727</td>\n",
       "      <td>63.581040</td>\n",
       "      <td>64</td>\n",
       "      <td>0.993454</td>\n",
       "    </tr>\n",
       "    <tr>\n",
       "      <td>8</td>\n",
       "      <td>9</td>\n",
       "      <td>8.148899</td>\n",
       "      <td>80.977775</td>\n",
       "      <td>80.798989</td>\n",
       "      <td>81</td>\n",
       "      <td>0.997518</td>\n",
       "    </tr>\n",
       "    <tr>\n",
       "      <td>9</td>\n",
       "      <td>10</td>\n",
       "      <td>9.059164</td>\n",
       "      <td>100.137692</td>\n",
       "      <td>99.916605</td>\n",
       "      <td>100</td>\n",
       "      <td>0.999166</td>\n",
       "    </tr>\n",
       "    <tr>\n",
       "      <td>10</td>\n",
       "      <td>11</td>\n",
       "      <td>9.952617</td>\n",
       "      <td>120.821468</td>\n",
       "      <td>120.554715</td>\n",
       "      <td>121</td>\n",
       "      <td>0.996320</td>\n",
       "    </tr>\n",
       "    <tr>\n",
       "      <td>11</td>\n",
       "      <td>12</td>\n",
       "      <td>10.861553</td>\n",
       "      <td>143.945340</td>\n",
       "      <td>143.627533</td>\n",
       "      <td>144</td>\n",
       "      <td>0.997413</td>\n",
       "    </tr>\n",
       "    <tr>\n",
       "      <td>12</td>\n",
       "      <td>13</td>\n",
       "      <td>11.793739</td>\n",
       "      <td>169.582846</td>\n",
       "      <td>169.208436</td>\n",
       "      <td>169</td>\n",
       "      <td>1.001233</td>\n",
       "    </tr>\n",
       "    <tr>\n",
       "      <td>13</td>\n",
       "      <td>14</td>\n",
       "      <td>12.668058</td>\n",
       "      <td>195.846465</td>\n",
       "      <td>195.414069</td>\n",
       "      <td>196</td>\n",
       "      <td>0.997011</td>\n",
       "    </tr>\n",
       "    <tr>\n",
       "      <td>14</td>\n",
       "      <td>15</td>\n",
       "      <td>13.559799</td>\n",
       "      <td>224.189779</td>\n",
       "      <td>223.694807</td>\n",
       "      <td>225</td>\n",
       "      <td>0.994199</td>\n",
       "    </tr>\n",
       "    <tr>\n",
       "      <td>15</td>\n",
       "      <td>16</td>\n",
       "      <td>14.488741</td>\n",
       "      <td>255.729916</td>\n",
       "      <td>255.165308</td>\n",
       "      <td>256</td>\n",
       "      <td>0.996739</td>\n",
       "    </tr>\n",
       "    <tr>\n",
       "      <td>16</td>\n",
       "      <td>17</td>\n",
       "      <td>15.364401</td>\n",
       "      <td>288.116377</td>\n",
       "      <td>287.480265</td>\n",
       "      <td>289</td>\n",
       "      <td>0.994741</td>\n",
       "    </tr>\n",
       "    <tr>\n",
       "      <td>17</td>\n",
       "      <td>18</td>\n",
       "      <td>16.333837</td>\n",
       "      <td>325.251896</td>\n",
       "      <td>324.533796</td>\n",
       "      <td>324</td>\n",
       "      <td>1.001648</td>\n",
       "    </tr>\n",
       "    <tr>\n",
       "      <td>18</td>\n",
       "      <td>19</td>\n",
       "      <td>17.170555</td>\n",
       "      <td>360.047093</td>\n",
       "      <td>359.252171</td>\n",
       "      <td>361</td>\n",
       "      <td>0.995158</td>\n",
       "    </tr>\n",
       "  </tbody>\n",
       "</table>\n",
       "</div>"
      ],
      "text/plain": [
       "    rad       dist      dist_2       ratio  rad**2  ration/rad**2\n",
       "0     1   0.905992    1.002213    1.000000       1       1.000000\n",
       "1     2   1.813226    4.006565    3.997720       4       0.999430\n",
       "2     3   2.715005    8.989880    8.970032       9       0.996670\n",
       "3     4   3.625679   16.026201   15.990818      16       0.999426\n",
       "4     5   4.522896   24.957895   24.902792      25       0.996112\n",
       "5     6   5.443927   36.139776   36.059985      36       1.001666\n",
       "6     7   6.333444   48.864130   48.756246      49       0.995025\n",
       "7     8   7.230904   63.721727   63.581040      64       0.993454\n",
       "8     9   8.148899   80.977775   80.798989      81       0.997518\n",
       "9    10   9.059164  100.137692   99.916605     100       0.999166\n",
       "10   11   9.952617  120.821468  120.554715     121       0.996320\n",
       "11   12  10.861553  143.945340  143.627533     144       0.997413\n",
       "12   13  11.793739  169.582846  169.208436     169       1.001233\n",
       "13   14  12.668058  195.846465  195.414069     196       0.997011\n",
       "14   15  13.559799  224.189779  223.694807     225       0.994199\n",
       "15   16  14.488741  255.729916  255.165308     256       0.996739\n",
       "16   17  15.364401  288.116377  287.480265     289       0.994741\n",
       "17   18  16.333837  325.251896  324.533796     324       1.001648\n",
       "18   19  17.170555  360.047093  359.252171     361       0.995158"
      ]
     },
     "execution_count": 58,
     "metadata": {},
     "output_type": "execute_result"
    }
   ],
   "source": [
    "# http://mathworld.wolfram.com/DiskLinePicking.html: average distance is 128/45/pi ~= 0.905\n",
    "avg_dist_pd"
   ]
  },
  {
   "cell_type": "markdown",
   "metadata": {
    "heading_collapsed": true,
    "hidden": true
   },
   "source": [
    "### uniform grids"
   ]
  },
  {
   "cell_type": "code",
   "execution_count": 5,
   "metadata": {
    "ExecuteTime": {
     "end_time": "2019-11-20T04:41:46.133987Z",
     "start_time": "2019-11-20T04:41:46.110977Z"
    },
    "hidden": true
   },
   "outputs": [],
   "source": [
    "from shapely.geometry import Point"
   ]
  },
  {
   "cell_type": "code",
   "execution_count": 6,
   "metadata": {
    "ExecuteTime": {
     "end_time": "2019-11-20T04:41:46.935731Z",
     "start_time": "2019-11-20T04:41:46.859327Z"
    },
    "hidden": true
   },
   "outputs": [],
   "source": [
    "radius = 1\n",
    "circle = Point(0,0).buffer(radius)\n"
   ]
  },
  {
   "cell_type": "code",
   "execution_count": 16,
   "metadata": {
    "ExecuteTime": {
     "end_time": "2019-11-20T04:43:16.727055Z",
     "start_time": "2019-11-20T04:43:14.289970Z"
    },
    "hidden": true
   },
   "outputs": [
    {
     "data": {
      "text/plain": [
       "31748"
      ]
     },
     "execution_count": 16,
     "metadata": {},
     "output_type": "execute_result"
    }
   ],
   "source": [
    "grids, _, _ = gis.poly2grids(circle, 0.01)\n",
    "n = len(grids)\n",
    "n"
   ]
  },
  {
   "cell_type": "code",
   "execution_count": 17,
   "metadata": {
    "ExecuteTime": {
     "end_time": "2019-11-20T04:43:24.676787Z",
     "start_time": "2019-11-20T04:43:24.639874Z"
    },
    "hidden": true
   },
   "outputs": [],
   "source": [
    "grids = gp.GeoDataFrame(grids, columns=['geometry'])\n",
    "\n",
    "grids.crs = mex.crs"
   ]
  },
  {
   "cell_type": "code",
   "execution_count": 18,
   "metadata": {
    "ExecuteTime": {
     "end_time": "2019-11-20T04:43:31.948367Z",
     "start_time": "2019-11-20T04:43:24.857093Z"
    },
    "hidden": true
   },
   "outputs": [],
   "source": [
    "dist = gis.polys_centroid_pairwise_dist(grids, mex.crs)"
   ]
  },
  {
   "cell_type": "code",
   "execution_count": 19,
   "metadata": {
    "ExecuteTime": {
     "end_time": "2019-11-20T04:43:32.435762Z",
     "start_time": "2019-11-20T04:43:31.950029Z"
    },
    "hidden": true
   },
   "outputs": [
    {
     "data": {
      "text/plain": [
       "0.9101091770815215"
      ]
     },
     "execution_count": 19,
     "metadata": {},
     "output_type": "execute_result"
    }
   ],
   "source": [
    "dist.sum()/n/(n-1)"
   ]
  },
  {
   "cell_type": "code",
   "execution_count": 20,
   "metadata": {
    "ExecuteTime": {
     "end_time": "2019-11-20T04:43:34.169417Z",
     "start_time": "2019-11-20T04:43:32.437212Z"
    },
    "hidden": true
   },
   "outputs": [
    {
     "data": {
      "text/plain": [
       "1.0103499818000863"
      ]
     },
     "execution_count": 20,
     "metadata": {},
     "output_type": "execute_result"
    }
   ],
   "source": [
    "(dist**2).sum()/n/(n-1)"
   ]
  },
  {
   "cell_type": "code",
   "execution_count": 42,
   "metadata": {
    "ExecuteTime": {
     "end_time": "2019-11-20T14:48:24.358040Z",
     "start_time": "2019-11-20T14:48:24.301382Z"
    },
    "hidden": true
   },
   "outputs": [
    {
     "data": {
      "text/plain": [
       "31748"
      ]
     },
     "execution_count": 42,
     "metadata": {},
     "output_type": "execute_result"
    }
   ],
   "source": [
    "len(dist)"
   ]
  },
  {
   "cell_type": "code",
   "execution_count": 44,
   "metadata": {
    "ExecuteTime": {
     "end_time": "2019-11-20T14:48:30.746772Z",
     "start_time": "2019-11-20T14:48:30.666180Z"
    },
    "hidden": true
   },
   "outputs": [
    {
     "data": {
      "text/plain": [
       "32974"
      ]
     },
     "execution_count": 44,
     "metadata": {},
     "output_type": "execute_result"
    }
   ],
   "source": [
    "len(g)"
   ]
  },
  {
   "cell_type": "markdown",
   "metadata": {
    "heading_collapsed": true
   },
   "source": [
    "# Test NMI and NMMI"
   ]
  },
  {
   "cell_type": "markdown",
   "metadata": {
    "hidden": true
   },
   "source": [
    "## test case for NMI and NMMI"
   ]
  },
  {
   "cell_type": "code",
   "execution_count": 307,
   "metadata": {
    "ExecuteTime": {
     "end_time": "2019-11-23T03:14:32.086776Z",
     "start_time": "2019-11-23T03:14:32.060006Z"
    },
    "hidden": true
   },
   "outputs": [],
   "source": [
    "from shapely.geometry import box\n"
   ]
  },
  {
   "cell_type": "code",
   "execution_count": 343,
   "metadata": {
    "ExecuteTime": {
     "end_time": "2019-11-23T03:24:05.315648Z",
     "start_time": "2019-11-23T03:24:05.279533Z"
    },
    "hidden": true
   },
   "outputs": [],
   "source": [
    "data = []\n",
    "for i in range(10):\n",
    "    for j in range(10):\n",
    "        data.append({'i': i, 'j':j, 'geometry':box(i, j, i+1, j+1)})\n",
    "data = gp.GeoDataFrame(data)"
   ]
  },
  {
   "cell_type": "code",
   "execution_count": 344,
   "metadata": {
    "ExecuteTime": {
     "end_time": "2019-11-23T03:24:05.483316Z",
     "start_time": "2019-11-23T03:24:05.445952Z"
    },
    "hidden": true
   },
   "outputs": [
    {
     "data": {
      "text/html": [
       "<div>\n",
       "<style scoped>\n",
       "    .dataframe tbody tr th:only-of-type {\n",
       "        vertical-align: middle;\n",
       "    }\n",
       "\n",
       "    .dataframe tbody tr th {\n",
       "        vertical-align: top;\n",
       "    }\n",
       "\n",
       "    .dataframe thead th {\n",
       "        text-align: right;\n",
       "    }\n",
       "</style>\n",
       "<table border=\"1\" class=\"dataframe\">\n",
       "  <thead>\n",
       "    <tr style=\"text-align: right;\">\n",
       "      <th></th>\n",
       "      <th>i</th>\n",
       "      <th>j</th>\n",
       "      <th>geometry</th>\n",
       "    </tr>\n",
       "  </thead>\n",
       "  <tbody>\n",
       "    <tr>\n",
       "      <td>0</td>\n",
       "      <td>0</td>\n",
       "      <td>0</td>\n",
       "      <td>POLYGON ((1.00000 0.00000, 1.00000 1.00000, 0....</td>\n",
       "    </tr>\n",
       "    <tr>\n",
       "      <td>1</td>\n",
       "      <td>0</td>\n",
       "      <td>1</td>\n",
       "      <td>POLYGON ((1.00000 1.00000, 1.00000 2.00000, 0....</td>\n",
       "    </tr>\n",
       "    <tr>\n",
       "      <td>2</td>\n",
       "      <td>0</td>\n",
       "      <td>2</td>\n",
       "      <td>POLYGON ((1.00000 2.00000, 1.00000 3.00000, 0....</td>\n",
       "    </tr>\n",
       "    <tr>\n",
       "      <td>3</td>\n",
       "      <td>0</td>\n",
       "      <td>3</td>\n",
       "      <td>POLYGON ((1.00000 3.00000, 1.00000 4.00000, 0....</td>\n",
       "    </tr>\n",
       "    <tr>\n",
       "      <td>4</td>\n",
       "      <td>0</td>\n",
       "      <td>4</td>\n",
       "      <td>POLYGON ((1.00000 4.00000, 1.00000 5.00000, 0....</td>\n",
       "    </tr>\n",
       "    <tr>\n",
       "      <td>...</td>\n",
       "      <td>...</td>\n",
       "      <td>...</td>\n",
       "      <td>...</td>\n",
       "    </tr>\n",
       "    <tr>\n",
       "      <td>95</td>\n",
       "      <td>9</td>\n",
       "      <td>5</td>\n",
       "      <td>POLYGON ((10.00000 5.00000, 10.00000 6.00000, ...</td>\n",
       "    </tr>\n",
       "    <tr>\n",
       "      <td>96</td>\n",
       "      <td>9</td>\n",
       "      <td>6</td>\n",
       "      <td>POLYGON ((10.00000 6.00000, 10.00000 7.00000, ...</td>\n",
       "    </tr>\n",
       "    <tr>\n",
       "      <td>97</td>\n",
       "      <td>9</td>\n",
       "      <td>7</td>\n",
       "      <td>POLYGON ((10.00000 7.00000, 10.00000 8.00000, ...</td>\n",
       "    </tr>\n",
       "    <tr>\n",
       "      <td>98</td>\n",
       "      <td>9</td>\n",
       "      <td>8</td>\n",
       "      <td>POLYGON ((10.00000 8.00000, 10.00000 9.00000, ...</td>\n",
       "    </tr>\n",
       "    <tr>\n",
       "      <td>99</td>\n",
       "      <td>9</td>\n",
       "      <td>9</td>\n",
       "      <td>POLYGON ((10.00000 9.00000, 10.00000 10.00000,...</td>\n",
       "    </tr>\n",
       "  </tbody>\n",
       "</table>\n",
       "<p>100 rows × 3 columns</p>\n",
       "</div>"
      ],
      "text/plain": [
       "    i  j                                           geometry\n",
       "0   0  0  POLYGON ((1.00000 0.00000, 1.00000 1.00000, 0....\n",
       "1   0  1  POLYGON ((1.00000 1.00000, 1.00000 2.00000, 0....\n",
       "2   0  2  POLYGON ((1.00000 2.00000, 1.00000 3.00000, 0....\n",
       "3   0  3  POLYGON ((1.00000 3.00000, 1.00000 4.00000, 0....\n",
       "4   0  4  POLYGON ((1.00000 4.00000, 1.00000 5.00000, 0....\n",
       ".. .. ..                                                ...\n",
       "95  9  5  POLYGON ((10.00000 5.00000, 10.00000 6.00000, ...\n",
       "96  9  6  POLYGON ((10.00000 6.00000, 10.00000 7.00000, ...\n",
       "97  9  7  POLYGON ((10.00000 7.00000, 10.00000 8.00000, ...\n",
       "98  9  8  POLYGON ((10.00000 8.00000, 10.00000 9.00000, ...\n",
       "99  9  9  POLYGON ((10.00000 9.00000, 10.00000 10.00000,...\n",
       "\n",
       "[100 rows x 3 columns]"
      ]
     },
     "execution_count": 344,
     "metadata": {},
     "output_type": "execute_result"
    }
   ],
   "source": [
    "data"
   ]
  },
  {
   "cell_type": "code",
   "execution_count": 345,
   "metadata": {
    "ExecuteTime": {
     "end_time": "2019-11-23T03:24:05.640948Z",
     "start_time": "2019-11-23T03:24:05.614712Z"
    },
    "hidden": true
   },
   "outputs": [],
   "source": [
    "data['Area'] = data.area"
   ]
  },
  {
   "cell_type": "code",
   "execution_count": 346,
   "metadata": {
    "ExecuteTime": {
     "end_time": "2019-11-23T03:24:06.301378Z",
     "start_time": "2019-11-23T03:24:06.254605Z"
    },
    "hidden": true
   },
   "outputs": [
    {
     "data": {
      "text/plain": [
       "(5.0, 5.0)"
      ]
     },
     "execution_count": 346,
     "metadata": {},
     "output_type": "execute_result"
    }
   ],
   "source": [
    "rx = data.centroid.apply(lambda x: x.coords[0][0])\n",
    "ry = data.centroid.apply(lambda x: x.coords[0][1])\n",
    "cx = (rx * data.area).sum() / data.area.sum()\n",
    "cy = (ry * data.area).sum() / data.area.sum()\n",
    "data_centroid = (cx, cy)\n",
    "data_centroid"
   ]
  },
  {
   "cell_type": "code",
   "execution_count": 347,
   "metadata": {
    "ExecuteTime": {
     "end_time": "2019-11-23T03:24:06.821529Z",
     "start_time": "2019-11-23T03:24:06.789719Z"
    },
    "hidden": true
   },
   "outputs": [],
   "source": [
    "data_centroid_centroids = data.centroid.apply(lambda x: x.coords[0]).tolist()\n",
    "\n",
    "data_d2centroid = cdist(data_centroid_centroids, [data_centroid])[:,0]"
   ]
  },
  {
   "cell_type": "code",
   "execution_count": 348,
   "metadata": {
    "ExecuteTime": {
     "end_time": "2019-11-23T03:24:07.005740Z",
     "start_time": "2019-11-23T03:24:06.963719Z"
    },
    "hidden": true
   },
   "outputs": [],
   "source": [
    "%matplotlib inline"
   ]
  },
  {
   "cell_type": "code",
   "execution_count": 349,
   "metadata": {
    "ExecuteTime": {
     "end_time": "2019-11-23T03:24:07.231156Z",
     "start_time": "2019-11-23T03:24:07.182258Z"
    },
    "hidden": true
   },
   "outputs": [],
   "source": [
    "\n",
    "data['type1'] = data.apply(lambda row: row.j== 4 or row.j==5, axis=1)\n",
    "\n",
    "data['type2'] = data.apply(lambda row: row.j>=4 and row.j<6 and row.i>=4 and row.i<6, axis=1)\n",
    "def dtype3(row,shift=0):\n",
    "    i= row.i\n",
    "    j= row.j\n",
    "    return (j >=3+shift and j< 7+shift and (i==2+shift or i==7+shift)) or (j>=2+shift and j<8+shift and i>=3+shift and i<7+shift)\n",
    "data['type3'] = data.apply(dtype3, axis=1)\n"
   ]
  },
  {
   "cell_type": "code",
   "execution_count": 350,
   "metadata": {
    "ExecuteTime": {
     "end_time": "2019-11-23T03:24:09.536487Z",
     "start_time": "2019-11-23T03:24:09.039692Z"
    },
    "hidden": true,
    "scrolled": true
   },
   "outputs": [
    {
     "data": {
      "text/plain": [
       "<matplotlib.axes._subplots.AxesSubplot at 0x7efbf4ceeda0>"
      ]
     },
     "execution_count": 350,
     "metadata": {},
     "output_type": "execute_result"
    },
    {
     "data": {
      "image/png": "[encoded data removed]",
      "text/plain": [
       "<Figure size 432x288 with 1 Axes>"
      ]
     },
     "metadata": {
      "needs_background": "light"
     },
     "output_type": "display_data"
    },
    {
     "data": {
      "image/png": "[encoded data removed]",
      "text/plain": [
       "<Figure size 432x288 with 1 Axes>"
      ]
     },
     "metadata": {
      "needs_background": "light"
     },
     "output_type": "display_data"
    },
    {
     "data": {
      "image/png": "[encoded data removed]",
      "text/plain": [
       "<Figure size 432x288 with 1 Axes>"
      ]
     },
     "metadata": {
      "needs_background": "light"
     },
     "output_type": "display_data"
    }
   ],
   "source": [
    "data[data['type1']].plot()\n",
    "data[data['type2']].plot()\n",
    "\n",
    "\n",
    "data[data.type3].plot()"
   ]
  },
  {
   "cell_type": "code",
   "execution_count": 316,
   "metadata": {
    "ExecuteTime": {
     "end_time": "2019-11-23T03:16:14.403939Z",
     "start_time": "2019-11-23T03:16:13.886803Z"
    },
    "hidden": true
   },
   "outputs": [
    {
     "data": {
      "text/plain": [
       "<matplotlib.axes._subplots.AxesSubplot at 0x7efbf5613b70>"
      ]
     },
     "execution_count": 316,
     "metadata": {},
     "output_type": "execute_result"
    },
    {
     "data": {
      "image/png": "[encoded data removed]",
      "text/plain": [
       "<Figure size 432x288 with 1 Axes>"
      ]
     },
     "metadata": {
      "needs_background": "light"
     },
     "output_type": "display_data"
    }
   ],
   "source": [
    "res = {}\n",
    "for dentype in ['type1', 'type2', 'type3']:\n",
    "    nmmis = []\n",
    "\n",
    "    for i in range(15):\n",
    "        density_coef = np.e**i\n",
    "        data['Density'] = data[dentype].apply(lambda x: density_coef if x else 1)\n",
    "        data['Mass'] = data.area* data.Density\n",
    "        cx = (rx * data.Mass).sum() / data.Mass.sum()\n",
    "        cy = (ry * data.Mass).sum() / data.Mass.sum()\n",
    "        data_mass_centroid = (cx, cy)\n",
    "        assert np.isclose(data_mass_centroid, data_centroid).mean()==1\n",
    "        nmmis.append(ftrs_hs.mass_moment_inertia(data, data_d2centroid))\n",
    "    res[dentype] = nmmis\n",
    "\n",
    "pd.DataFrame(res).plot()\n"
   ]
  },
  {
   "cell_type": "code",
   "execution_count": 196,
   "metadata": {
    "ExecuteTime": {
     "end_time": "2019-11-21T21:01:03.948727Z",
     "start_time": "2019-11-21T21:01:03.916315Z"
    },
    "hidden": true
   },
   "outputs": [
    {
     "data": {
      "text/html": [
       "<div>\n",
       "<style scoped>\n",
       "    .dataframe tbody tr th:only-of-type {\n",
       "        vertical-align: middle;\n",
       "    }\n",
       "\n",
       "    .dataframe tbody tr th {\n",
       "        vertical-align: top;\n",
       "    }\n",
       "\n",
       "    .dataframe thead th {\n",
       "        text-align: right;\n",
       "    }\n",
       "</style>\n",
       "<table border=\"1\" class=\"dataframe\">\n",
       "  <thead>\n",
       "    <tr style=\"text-align: right;\">\n",
       "      <th></th>\n",
       "      <th>type1</th>\n",
       "      <th>type2</th>\n",
       "      <th>type3</th>\n",
       "    </tr>\n",
       "  </thead>\n",
       "  <tbody>\n",
       "    <tr>\n",
       "      <td>0</td>\n",
       "      <td>0.954930</td>\n",
       "      <td>0.95493</td>\n",
       "      <td>0.954930</td>\n",
       "    </tr>\n",
       "    <tr>\n",
       "      <td>1</td>\n",
       "      <td>0.865837</td>\n",
       "      <td>0.95493</td>\n",
       "      <td>0.959416</td>\n",
       "    </tr>\n",
       "    <tr>\n",
       "      <td>2</td>\n",
       "      <td>0.720337</td>\n",
       "      <td>0.95493</td>\n",
       "      <td>0.966879</td>\n",
       "    </tr>\n",
       "    <tr>\n",
       "      <td>3</td>\n",
       "      <td>0.564155</td>\n",
       "      <td>0.95493</td>\n",
       "      <td>0.975087</td>\n",
       "    </tr>\n",
       "    <tr>\n",
       "      <td>4</td>\n",
       "      <td>0.456668</td>\n",
       "      <td>0.95493</td>\n",
       "      <td>0.980857</td>\n",
       "    </tr>\n",
       "    <tr>\n",
       "      <td>5</td>\n",
       "      <td>0.403264</td>\n",
       "      <td>0.95493</td>\n",
       "      <td>0.983762</td>\n",
       "    </tr>\n",
       "    <tr>\n",
       "      <td>6</td>\n",
       "      <td>0.380994</td>\n",
       "      <td>0.95493</td>\n",
       "      <td>0.984981</td>\n",
       "    </tr>\n",
       "    <tr>\n",
       "      <td>7</td>\n",
       "      <td>0.372393</td>\n",
       "      <td>0.95493</td>\n",
       "      <td>0.985453</td>\n",
       "    </tr>\n",
       "    <tr>\n",
       "      <td>8</td>\n",
       "      <td>0.369171</td>\n",
       "      <td>0.95493</td>\n",
       "      <td>0.985630</td>\n",
       "    </tr>\n",
       "    <tr>\n",
       "      <td>9</td>\n",
       "      <td>0.367977</td>\n",
       "      <td>0.95493</td>\n",
       "      <td>0.985696</td>\n",
       "    </tr>\n",
       "    <tr>\n",
       "      <td>10</td>\n",
       "      <td>0.367537</td>\n",
       "      <td>0.95493</td>\n",
       "      <td>0.985720</td>\n",
       "    </tr>\n",
       "    <tr>\n",
       "      <td>11</td>\n",
       "      <td>0.367375</td>\n",
       "      <td>0.95493</td>\n",
       "      <td>0.985729</td>\n",
       "    </tr>\n",
       "    <tr>\n",
       "      <td>12</td>\n",
       "      <td>0.367315</td>\n",
       "      <td>0.95493</td>\n",
       "      <td>0.985732</td>\n",
       "    </tr>\n",
       "    <tr>\n",
       "      <td>13</td>\n",
       "      <td>0.367293</td>\n",
       "      <td>0.95493</td>\n",
       "      <td>0.985733</td>\n",
       "    </tr>\n",
       "    <tr>\n",
       "      <td>14</td>\n",
       "      <td>0.367285</td>\n",
       "      <td>0.95493</td>\n",
       "      <td>0.985734</td>\n",
       "    </tr>\n",
       "  </tbody>\n",
       "</table>\n",
       "</div>"
      ],
      "text/plain": [
       "       type1    type2     type3\n",
       "0   0.954930  0.95493  0.954930\n",
       "1   0.865837  0.95493  0.959416\n",
       "2   0.720337  0.95493  0.966879\n",
       "3   0.564155  0.95493  0.975087\n",
       "4   0.456668  0.95493  0.980857\n",
       "5   0.403264  0.95493  0.983762\n",
       "6   0.380994  0.95493  0.984981\n",
       "7   0.372393  0.95493  0.985453\n",
       "8   0.369171  0.95493  0.985630\n",
       "9   0.367977  0.95493  0.985696\n",
       "10  0.367537  0.95493  0.985720\n",
       "11  0.367375  0.95493  0.985729\n",
       "12  0.367315  0.95493  0.985732\n",
       "13  0.367293  0.95493  0.985733\n",
       "14  0.367285  0.95493  0.985734"
      ]
     },
     "execution_count": 196,
     "metadata": {},
     "output_type": "execute_result"
    }
   ],
   "source": [
    "pd.DataFrame(res)"
   ]
  },
  {
   "cell_type": "markdown",
   "metadata": {
    "hidden": true
   },
   "source": [
    "## test case 2"
   ]
  },
  {
   "cell_type": "code",
   "execution_count": 352,
   "metadata": {
    "ExecuteTime": {
     "end_time": "2019-11-23T03:26:40.612010Z",
     "start_time": "2019-11-23T03:26:40.568657Z"
    },
    "hidden": true
   },
   "outputs": [],
   "source": [
    "data = []\n",
    "for i in range(30):\n",
    "    for j in range(15):\n",
    "        data.append({'i': i, 'j':j, 'geometry':box(i, j, i+1, j+1)})\n",
    "data = gp.GeoDataFrame(data)"
   ]
  },
  {
   "cell_type": "code",
   "execution_count": 353,
   "metadata": {
    "ExecuteTime": {
     "end_time": "2019-11-23T03:26:40.792585Z",
     "start_time": "2019-11-23T03:26:40.763377Z"
    },
    "hidden": true
   },
   "outputs": [],
   "source": [
    "data['Area'] = data.area"
   ]
  },
  {
   "cell_type": "code",
   "execution_count": 355,
   "metadata": {
    "ExecuteTime": {
     "end_time": "2019-11-23T03:27:36.736590Z",
     "start_time": "2019-11-23T03:27:36.452760Z"
    },
    "hidden": true
   },
   "outputs": [
    {
     "data": {
      "text/plain": [
       "<matplotlib.axes._subplots.AxesSubplot at 0x7efbf4cf7898>"
      ]
     },
     "execution_count": 355,
     "metadata": {},
     "output_type": "execute_result"
    },
    {
     "data": {
      "image/png": "[encoded data removed]",
      "text/plain": [
       "<Figure size 432x288 with 1 Axes>"
      ]
     },
     "metadata": {
      "needs_background": "light"
     },
     "output_type": "display_data"
    }
   ],
   "source": [
    "def city(row,shifti=0,shiftj=0):\n",
    "    i= row.i\n",
    "    j= row.j\n",
    "    return (j >=3+shiftj and j< 7+shiftj and (i==2+shifti or i==7+shifti)) or (j>=2+shiftj and j<8+shiftj and i>=3+shifti and i<7+shifti)\n",
    "data['cityA'] = data.apply(lambda x: city(x,2,2), axis=1)\n",
    "data['cityB'] = data.apply(lambda x: city(x,21,-1), axis=1)\n",
    "\n",
    "data[data.cityA|data.cityB].plot()"
   ]
  },
  {
   "cell_type": "code",
   "execution_count": 357,
   "metadata": {
    "ExecuteTime": {
     "end_time": "2019-11-23T03:27:57.876934Z",
     "start_time": "2019-11-23T03:27:57.849350Z"
    },
    "hidden": true
   },
   "outputs": [],
   "source": [
    "data['Da']=data.cityA*np.e**20"
   ]
  },
  {
   "cell_type": "code",
   "execution_count": 366,
   "metadata": {
    "ExecuteTime": {
     "end_time": "2019-11-23T03:31:06.932780Z",
     "start_time": "2019-11-23T03:31:06.834798Z"
    },
    "hidden": true
   },
   "outputs": [],
   "source": [
    "data_centroid_centroids = data.centroid.apply(lambda x: x.coords[0]).tolist()\n",
    "\n",
    "rx = data.centroid.apply(lambda x: x.coords[0][0])\n",
    "ry = data.centroid.apply(lambda x: x.coords[0][1])\n",
    "cx = (rx * data.area).sum() / data.area.sum()\n",
    "cy = (ry * data.area).sum() / data.area.sum()\n",
    "data_centroid = (cx, cy)\n",
    "\n",
    "data_d2centroid = cdist(data_centroid_centroids, [data_centroid])[:,0]"
   ]
  },
  {
   "cell_type": "code",
   "execution_count": 370,
   "metadata": {
    "ExecuteTime": {
     "end_time": "2019-11-23T03:32:37.065246Z",
     "start_time": "2019-11-23T03:32:36.801013Z"
    },
    "hidden": true
   },
   "outputs": [],
   "source": [
    "nmmis = []\n",
    "\n",
    "for i in range(30):\n",
    "    data['Db'] = data.cityB * np.e**i\n",
    "    data['Density'] = data.Da + data.Db\n",
    "    data['Mass'] = data.area * data.Density\n",
    "    cx = (rx * data.Mass).sum() / data.Mass.sum()\n",
    "    cy = (ry * data.Mass).sum() / data.Mass.sum()\n",
    "    data_mass_centroid = (cx, cy)\n",
    "    data_d2mass_centroid = cdist(data_centroid_centroids,[data_mass_centroid])[:, 0]\n",
    "    nmmis.append(ftrs_hs.mass_moment_inertia(data, data_d2mass_centroid))\n",
    "nmmis = pd.DataFrame(nmmis)"
   ]
  },
  {
   "cell_type": "code",
   "execution_count": 368,
   "metadata": {
    "ExecuteTime": {
     "end_time": "2019-11-23T03:31:50.648252Z",
     "start_time": "2019-11-23T03:31:50.624771Z"
    },
    "hidden": true
   },
   "outputs": [
    {
     "data": {
      "text/plain": [
       "0.7639437268410973"
      ]
     },
     "execution_count": 368,
     "metadata": {},
     "output_type": "execute_result"
    }
   ],
   "source": [
    "ftrs_hs.moment_inertia(data.Area,data_d2centroid)"
   ]
  },
  {
   "cell_type": "code",
   "execution_count": 374,
   "metadata": {
    "ExecuteTime": {
     "end_time": "2019-11-23T03:33:04.126224Z",
     "start_time": "2019-11-23T03:33:04.091149Z"
    },
    "hidden": true
   },
   "outputs": [
    {
     "data": {
      "text/html": [
       "<div>\n",
       "<style scoped>\n",
       "    .dataframe tbody tr th:only-of-type {\n",
       "        vertical-align: middle;\n",
       "    }\n",
       "\n",
       "    .dataframe tbody tr th {\n",
       "        vertical-align: top;\n",
       "    }\n",
       "\n",
       "    .dataframe thead th {\n",
       "        text-align: right;\n",
       "    }\n",
       "</style>\n",
       "<table border=\"1\" class=\"dataframe\">\n",
       "  <thead>\n",
       "    <tr style=\"text-align: right;\">\n",
       "      <th></th>\n",
       "      <th>0</th>\n",
       "    </tr>\n",
       "  </thead>\n",
       "  <tbody>\n",
       "    <tr>\n",
       "      <td>0</td>\n",
       "      <td>0.985734</td>\n",
       "    </tr>\n",
       "    <tr>\n",
       "      <td>1</td>\n",
       "      <td>0.985733</td>\n",
       "    </tr>\n",
       "    <tr>\n",
       "      <td>2</td>\n",
       "      <td>0.985733</td>\n",
       "    </tr>\n",
       "    <tr>\n",
       "      <td>3</td>\n",
       "      <td>0.985731</td>\n",
       "    </tr>\n",
       "    <tr>\n",
       "      <td>4</td>\n",
       "      <td>0.985726</td>\n",
       "    </tr>\n",
       "    <tr>\n",
       "      <td>5</td>\n",
       "      <td>0.985713</td>\n",
       "    </tr>\n",
       "    <tr>\n",
       "      <td>6</td>\n",
       "      <td>0.985677</td>\n",
       "    </tr>\n",
       "    <tr>\n",
       "      <td>7</td>\n",
       "      <td>0.985579</td>\n",
       "    </tr>\n",
       "    <tr>\n",
       "      <td>8</td>\n",
       "      <td>0.985312</td>\n",
       "    </tr>\n",
       "    <tr>\n",
       "      <td>9</td>\n",
       "      <td>0.984589</td>\n",
       "    </tr>\n",
       "    <tr>\n",
       "      <td>10</td>\n",
       "      <td>0.982629</td>\n",
       "    </tr>\n",
       "    <tr>\n",
       "      <td>11</td>\n",
       "      <td>0.977342</td>\n",
       "    </tr>\n",
       "    <tr>\n",
       "      <td>12</td>\n",
       "      <td>0.963269</td>\n",
       "    </tr>\n",
       "    <tr>\n",
       "      <td>13</td>\n",
       "      <td>0.927098</td>\n",
       "    </tr>\n",
       "    <tr>\n",
       "      <td>14</td>\n",
       "      <td>0.841900</td>\n",
       "    </tr>\n",
       "    <tr>\n",
       "      <td>15</td>\n",
       "      <td>0.676741</td>\n",
       "    </tr>\n",
       "    <tr>\n",
       "      <td>16</td>\n",
       "      <td>0.450882</td>\n",
       "    </tr>\n",
       "    <tr>\n",
       "      <td>17</td>\n",
       "      <td>0.254823</td>\n",
       "    </tr>\n",
       "    <tr>\n",
       "      <td>18</td>\n",
       "      <td>0.143298</td>\n",
       "    </tr>\n",
       "    <tr>\n",
       "      <td>19</td>\n",
       "      <td>0.100527</td>\n",
       "    </tr>\n",
       "    <tr>\n",
       "      <td>20</td>\n",
       "      <td>0.104293</td>\n",
       "    </tr>\n",
       "    <tr>\n",
       "      <td>21</td>\n",
       "      <td>0.100527</td>\n",
       "    </tr>\n",
       "    <tr>\n",
       "      <td>22</td>\n",
       "      <td>0.143298</td>\n",
       "    </tr>\n",
       "    <tr>\n",
       "      <td>23</td>\n",
       "      <td>0.254823</td>\n",
       "    </tr>\n",
       "    <tr>\n",
       "      <td>24</td>\n",
       "      <td>0.450882</td>\n",
       "    </tr>\n",
       "    <tr>\n",
       "      <td>25</td>\n",
       "      <td>0.676741</td>\n",
       "    </tr>\n",
       "    <tr>\n",
       "      <td>26</td>\n",
       "      <td>0.841900</td>\n",
       "    </tr>\n",
       "    <tr>\n",
       "      <td>27</td>\n",
       "      <td>0.927098</td>\n",
       "    </tr>\n",
       "    <tr>\n",
       "      <td>28</td>\n",
       "      <td>0.963269</td>\n",
       "    </tr>\n",
       "    <tr>\n",
       "      <td>29</td>\n",
       "      <td>0.977342</td>\n",
       "    </tr>\n",
       "  </tbody>\n",
       "</table>\n",
       "</div>"
      ],
      "text/plain": [
       "           0\n",
       "0   0.985734\n",
       "1   0.985733\n",
       "2   0.985733\n",
       "3   0.985731\n",
       "4   0.985726\n",
       "5   0.985713\n",
       "6   0.985677\n",
       "7   0.985579\n",
       "8   0.985312\n",
       "9   0.984589\n",
       "10  0.982629\n",
       "11  0.977342\n",
       "12  0.963269\n",
       "13  0.927098\n",
       "14  0.841900\n",
       "15  0.676741\n",
       "16  0.450882\n",
       "17  0.254823\n",
       "18  0.143298\n",
       "19  0.100527\n",
       "20  0.104293\n",
       "21  0.100527\n",
       "22  0.143298\n",
       "23  0.254823\n",
       "24  0.450882\n",
       "25  0.676741\n",
       "26  0.841900\n",
       "27  0.927098\n",
       "28  0.963269\n",
       "29  0.977342"
      ]
     },
     "execution_count": 374,
     "metadata": {},
     "output_type": "execute_result"
    }
   ],
   "source": [
    "nmmis"
   ]
  },
  {
   "cell_type": "code",
   "execution_count": 373,
   "metadata": {
    "ExecuteTime": {
     "end_time": "2019-11-23T03:32:42.976502Z",
     "start_time": "2019-11-23T03:32:42.945938Z"
    },
    "hidden": true
   },
   "outputs": [
    {
     "data": {
      "text/plain": [
       "(0    0.100527\n",
       " dtype: float64, 21)"
      ]
     },
     "execution_count": 373,
     "metadata": {},
     "output_type": "execute_result"
    }
   ],
   "source": [
    "nmmis.min(), nmmis.values.argmin()"
   ]
  },
  {
   "cell_type": "code",
   "execution_count": 364,
   "metadata": {
    "ExecuteTime": {
     "end_time": "2019-11-23T03:30:00.407823Z",
     "start_time": "2019-11-23T03:30:00.215818Z"
    },
    "hidden": true,
    "scrolled": true
   },
   "outputs": [
    {
     "data": {
      "text/plain": [
       "<matplotlib.axes._subplots.AxesSubplot at 0x7efbf4a16630>"
      ]
     },
     "execution_count": 364,
     "metadata": {},
     "output_type": "execute_result"
    },
    {
     "data": {
      "image/png": "[encoded data removed]",
      "text/plain": [
       "<Figure size 432x288 with 1 Axes>"
      ]
     },
     "metadata": {
      "needs_background": "light"
     },
     "output_type": "display_data"
    }
   ],
   "source": [
    "nmmis.plot()"
   ]
  },
  {
   "cell_type": "markdown",
   "metadata": {},
   "source": [
    "# hotspot"
   ]
  },
  {
   "cell_type": "code",
   "execution_count": 6,
   "metadata": {
    "ExecuteTime": {
     "end_time": "2019-11-21T19:22:31.142490Z",
     "start_time": "2019-11-21T19:22:31.114200Z"
    }
   },
   "outputs": [],
   "source": [
    "import src.ftrs.hotspot as ftrs_hs\n",
    "from shapely.ops import cascaded_union\n",
    "from shapely.geometry import Point\n",
    "from scipy.spatial.distance import cdist\n"
   ]
  },
  {
   "cell_type": "markdown",
   "metadata": {},
   "source": [
    "## AGEB"
   ]
  },
  {
   "cell_type": "code",
   "execution_count": 7,
   "metadata": {
    "ExecuteTime": {
     "end_time": "2019-11-21T19:23:05.327432Z",
     "start_time": "2019-11-21T19:22:31.143780Z"
    }
   },
   "outputs": [
    {
     "name": "stdout",
     "output_type": "stream",
     "text": [
      "loading agebs\n"
     ]
    }
   ],
   "source": [
    "\n",
    "mg_mappings = region.ageb_ids_per_mpa()\n",
    "zms = region.mpa_all()\n",
    "zms['Area'] = zms.area\n",
    "\n",
    "print('loading agebs')\n",
    "zms_mun_ids = mg_mappings.mun_id.unique()\n",
    "zms_loc_ids = mg_mappings.loc_id.unique()\n",
    "zms_agebs = region.agebs(zms_mun_ids, zms_loc_ids)\n",
    "mg_mappings = region.ageb_ids_per_mpa()"
   ]
  },
  {
   "cell_type": "code",
   "execution_count": 8,
   "metadata": {
    "ExecuteTime": {
     "end_time": "2019-11-21T19:23:06.029647Z",
     "start_time": "2019-11-21T19:23:05.329048Z"
    }
   },
   "outputs": [
    {
     "name": "stdout",
     "output_type": "stream",
     "text": [
      "to_map_agebs loading existing file data/mex_tw_intpl/tower_to_mpa_agebs_by_area.csv\n"
     ]
    }
   ],
   "source": [
    "by = 'area'\n",
    "t2a = tw_int.to_mpa_agebs(by)\n",
    "t2a.set_index('ageb', inplace=True)\n",
    "avg_a = tw_int.interpolate_stats(avg_tw, t2a)"
   ]
  },
  {
   "cell_type": "code",
   "execution_count": 621,
   "metadata": {
    "ExecuteTime": {
     "end_time": "2019-11-25T01:01:23.349242Z",
     "start_time": "2019-11-25T01:01:23.225512Z"
    },
    "scrolled": true
   },
   "outputs": [
    {
     "name": "stdout",
     "output_type": "stream",
     "text": [
      "1 masking out non hot spot, defined by loubar\n"
     ]
    }
   ],
   "source": [
    "\n",
    "for sun, zm_mapping in mg_mappings.groupby('CVE_SUN'):\n",
    "    if sun!=1: continue\n",
    "    print(sun, end=' ')\n",
    "    zm = zms.loc[sun]\n",
    "    zm_a = zms_agebs.loc[zm_mapping.ageb_id].copy()\n",
    "    zm_avg_a = avg_a.loc[zm_a.index].copy()\n",
    "    hs_ageb = ftrs_hs.HotSpot(zm_avg_a, zm_a, zm, 'loubar', verbose=1)\n",
    "#     hs.calc_stats()\n",
    "    break\n",
    "hs_ageb._get_hs()"
   ]
  },
  {
   "cell_type": "code",
   "execution_count": 622,
   "metadata": {
    "ExecuteTime": {
     "end_time": "2019-11-25T01:01:29.993263Z",
     "start_time": "2019-11-25T01:01:29.504701Z"
    }
   },
   "outputs": [
    {
     "data": {
      "text/plain": [
       "<matplotlib.axes._subplots.AxesSubplot at 0x7efbf611bfd0>"
      ]
     },
     "execution_count": 622,
     "metadata": {},
     "output_type": "execute_result"
    },
    {
     "data": {
      "image/png": "[encoded data removed]",
      "text/plain": [
       "<Figure size 432x288 with 1 Axes>"
      ]
     },
     "metadata": {
      "needs_background": "light"
     },
     "output_type": "display_data"
    }
   ],
   "source": [
    "zm_a.plot()"
   ]
  },
  {
   "cell_type": "markdown",
   "metadata": {},
   "source": [
    "## grids"
   ]
  },
  {
   "cell_type": "code",
   "execution_count": 601,
   "metadata": {
    "ExecuteTime": {
     "end_time": "2019-11-24T16:43:07.531072Z",
     "start_time": "2019-11-24T16:43:07.514803Z"
    }
   },
   "outputs": [],
   "source": [
    "per_mun=True"
   ]
  },
  {
   "cell_type": "code",
   "execution_count": 578,
   "metadata": {
    "ExecuteTime": {
     "end_time": "2019-11-24T15:57:26.741277Z",
     "start_time": "2019-11-24T15:56:45.408780Z"
    },
    "scrolled": true
   },
   "outputs": [
    {
     "name": "stdout",
     "output_type": "stream",
     "text": [
      "loading existing file data/mexico/geography-socioeconomics/2010MetropolitanAreas/grids_500_perMun_uNr.geojson.gz\n"
     ]
    }
   ],
   "source": [
    "per_mun=True\n",
    "zms_grids = region.mpa_grids(500, per_mun, False)"
   ]
  },
  {
   "cell_type": "code",
   "execution_count": 579,
   "metadata": {
    "ExecuteTime": {
     "end_time": "2019-11-24T15:57:29.023992Z",
     "start_time": "2019-11-24T15:57:26.742890Z"
    }
   },
   "outputs": [
    {
     "name": "stdout",
     "output_type": "stream",
     "text": [
      "to_map_grids loading existing file data/mex_tw_intpl/tower_to_mpa_g500_perMun_uNr_area.csv\n"
     ]
    }
   ],
   "source": [
    "t2g = tw_int.to_mpa_grids(500, by='area',per_mun,urb_only=False,grids=zms_grids)\n",
    "t2g.set_index('grid', inplace=True)\n",
    "avg_g = tw_int.interpolate_stats(avg_tw, t2g)"
   ]
  },
  {
   "cell_type": "code",
   "execution_count": 619,
   "metadata": {
    "ExecuteTime": {
     "end_time": "2019-11-25T01:01:08.036452Z",
     "start_time": "2019-11-25T01:01:07.996271Z"
    }
   },
   "outputs": [
    {
     "name": "stdout",
     "output_type": "stream",
     "text": [
      "1 "
     ]
    }
   ],
   "source": [
    "\n",
    "for sun in sorted(zms.index):\n",
    "    if sun!=1: continue\n",
    "    print(sun, end=' ')\n",
    "    zm = zms.loc[sun]\n",
    "    zm_g = zms_grids[zms_grids.CVE_SUN == sun].copy()\n",
    "    zm_avg_g = avg_g.reindex(zm_g.index, fill_value=0).copy()\n",
    "    hs_grid = ftrs_hs.HotSpot(zm_avg_g, zm_g, zm, 'loubar', verbose=1)\n",
    "        # TODO: hs_stats can merge, they differ in how to obtain mun_level hotspot\n",
    "#     if per_mun:\n",
    "#         hs_avg = []\n",
    "#         for _, mun_g in zm_g.groupby('mun_id'):\n",
    "#             mun_avg_g = avg_g.reindex(mun_g.index, fill_value=0).copy()\n",
    "#             # print(sun, mun_g.mun_id.iloc[0],'mun g not in avg', set(mun_g.index) - set(avg_g.index))\n",
    "#             # print('mun_avg_g isnull', mun_avg_g.isnull().sum(), mun_avg_g.shape)\n",
    "#             if len(mun_g) < 10:\n",
    "#                 continue\n",
    "#             mun_hot = ftrs_hs.keep_hotspot(mun_avg_g, 'loubar')\n",
    "#             hs_avg.append(mun_hot)\n",
    "#         hs_avg = pd.concat(hs_avg).reindex(zm_g.index, fill_value=0)\n",
    "\n",
    "#     hs_grid.calc_stats(hs_avg)\n",
    "#     break\n"
   ]
  },
  {
   "cell_type": "code",
   "execution_count": 620,
   "metadata": {
    "ExecuteTime": {
     "end_time": "2019-11-25T01:01:08.355375Z",
     "start_time": "2019-11-25T01:01:08.207042Z"
    }
   },
   "outputs": [
    {
     "name": "stdout",
     "output_type": "stream",
     "text": [
      "masking out non hot spot, defined by loubar\n"
     ]
    }
   ],
   "source": [
    "hs_grid._get_hs()"
   ]
  },
  {
   "cell_type": "code",
   "execution_count": 613,
   "metadata": {
    "ExecuteTime": {
     "end_time": "2019-11-25T00:59:36.098996Z",
     "start_time": "2019-11-25T00:59:34.136520Z"
    }
   },
   "outputs": [
    {
     "data": {
      "text/plain": [
       "<matplotlib.axes._subplots.AxesSubplot at 0x7efbf95f2710>"
      ]
     },
     "execution_count": 613,
     "metadata": {},
     "output_type": "execute_result"
    },
    {
     "data": {
      "image/png": "[encoded data removed]",
      "text/plain": [
       "<Figure size 432x288 with 1 Axes>"
      ]
     },
     "metadata": {
      "needs_background": "light"
     },
     "output_type": "display_data"
    }
   ],
   "source": [
    "zm_g.plot()"
   ]
  },
  {
   "cell_type": "markdown",
   "metadata": {},
   "source": [
    "## vor"
   ]
  },
  {
   "cell_type": "code",
   "execution_count": 606,
   "metadata": {
    "ExecuteTime": {
     "end_time": "2019-11-25T00:57:57.962942Z",
     "start_time": "2019-11-25T00:57:31.105014Z"
    },
    "scrolled": true
   },
   "outputs": [
    {
     "name": "stderr",
     "output_type": "stream",
     "text": [
      "[autoreload of src.ftrs.hotspot failed: Traceback (most recent call last):\n",
      "  File \"/home/Jiahui/miniconda3/envs/mob2crime/lib/python3.7/site-packages/IPython/extensions/autoreload.py\", line 245, in check\n",
      "    superreload(m, reload, self.old_objects)\n",
      "  File \"/home/Jiahui/miniconda3/envs/mob2crime/lib/python3.7/site-packages/IPython/extensions/autoreload.py\", line 450, in superreload\n",
      "    update_generic(old_obj, new_obj)\n",
      "  File \"/home/Jiahui/miniconda3/envs/mob2crime/lib/python3.7/site-packages/IPython/extensions/autoreload.py\", line 387, in update_generic\n",
      "    update(a, b)\n",
      "  File \"/home/Jiahui/miniconda3/envs/mob2crime/lib/python3.7/site-packages/IPython/extensions/autoreload.py\", line 357, in update_class\n",
      "    update_instances(old, new)\n",
      "  File \"/home/Jiahui/miniconda3/envs/mob2crime/lib/python3.7/site-packages/IPython/extensions/autoreload.py\", line 312, in update_instances\n",
      "    update_instances(old, new, obj.__dict__, visited)\n",
      "  File \"/home/Jiahui/miniconda3/envs/mob2crime/lib/python3.7/site-packages/IPython/extensions/autoreload.py\", line 312, in update_instances\n",
      "    update_instances(old, new, obj.__dict__, visited)\n",
      "  File \"/home/Jiahui/miniconda3/envs/mob2crime/lib/python3.7/site-packages/IPython/extensions/autoreload.py\", line 317, in update_instances\n",
      "    update_instances(old, new, obj, visited)\n",
      "  File \"/home/Jiahui/miniconda3/envs/mob2crime/lib/python3.7/site-packages/IPython/extensions/autoreload.py\", line 317, in update_instances\n",
      "    update_instances(old, new, obj, visited)\n",
      "  File \"/home/Jiahui/miniconda3/envs/mob2crime/lib/python3.7/site-packages/IPython/extensions/autoreload.py\", line 312, in update_instances\n",
      "    update_instances(old, new, obj.__dict__, visited)\n",
      "  File \"/home/Jiahui/miniconda3/envs/mob2crime/lib/python3.7/site-packages/IPython/extensions/autoreload.py\", line 317, in update_instances\n",
      "    update_instances(old, new, obj, visited)\n",
      "AttributeError: 'dict' object has no attribute 'iterkeys'\n",
      "]\n"
     ]
    },
    {
     "name": "stdout",
     "output_type": "stream",
     "text": [
      "loading existing mexico tower voronoi file: data/mex_tw_intpl/voronoi.geojson\n",
      "computing the intersection between p1 tower and p2 mun_id\n",
      "len(p1)=5731 > 10 * len(p2)=367, swap them\n",
      "computing area of the intersections\n",
      "computing the weight\n"
     ]
    }
   ],
   "source": [
    "per_mun=True\n",
    "zms_vors = region.mpa_vors(per_mun, False)"
   ]
  },
  {
   "cell_type": "code",
   "execution_count": 609,
   "metadata": {
    "ExecuteTime": {
     "end_time": "2019-11-25T00:58:43.583444Z",
     "start_time": "2019-11-25T00:58:43.506175Z"
    }
   },
   "outputs": [
    {
     "name": "stdout",
     "output_type": "stream",
     "text": [
      "computing to_map_vors area True False\n"
     ]
    }
   ],
   "source": [
    "t2v = tw_int.to_mpa_vors('area',per_mun,urb_only=False,zms_vors=zms_vors)\n",
    "t2v.set_index('vor', inplace=True)\n",
    "avg_vor = tw_int.interpolate_stats(avg_tw, t2v)"
   ]
  },
  {
   "cell_type": "code",
   "execution_count": 617,
   "metadata": {
    "ExecuteTime": {
     "end_time": "2019-11-25T01:01:00.265422Z",
     "start_time": "2019-11-25T01:01:00.235482Z"
    }
   },
   "outputs": [
    {
     "name": "stdout",
     "output_type": "stream",
     "text": [
      "1 "
     ]
    }
   ],
   "source": [
    "\n",
    "for sun in sorted(zms.index):\n",
    "    if sun!=1: continue\n",
    "    print(sun, end=' ')\n",
    "    zm = zms.loc[sun]\n",
    "    zm_v = zms_vors[zms_vors.CVE_SUN == sun].copy()\n",
    "    zm_avg_vor = avg_vor.reindex(zm_v.index, fill_value=0).copy()\n",
    "    hs_vor = ftrs_hs.HotSpot(zm_avg_vor, zm_v, zm, 'loubar', verbose=1)\n",
    "        # TODO: hs_stats can merge, they differ in how to obtain mun_level hotspot\n",
    "#     if per_mun:\n",
    "#         hs_avg = []\n",
    "#         for _, mun_g in zm_v.groupby('mun_id'):\n",
    "#             mun_avg_vor = avg_vor.reindex(mun_g.index, fill_value=0).copy()\n",
    "#             # print(sun, mun_g.mun_id.iloc[0],'mun g not in avg', set(mun_g.index) - set(avg_vor.index))\n",
    "#             # print('mun_avg_vor isnull', mun_avg_vor.isnull().sum(), mun_avg_vor.shape)\n",
    "#             if len(mun_g) < 10:\n",
    "#                 continue\n",
    "#             mun_hot = ftrs_hs.keep_hotspot(mun_avg_vor, 'loubar')\n",
    "#             hs_avg.append(mun_hot)\n",
    "#         hs_avg = pd.concat(hs_avg).reindex(zm_v.index, fill_value=0)\n",
    "\n",
    "#     hs_vor.calc_stats(hs_avg)\n",
    "#     break\n"
   ]
  },
  {
   "cell_type": "code",
   "execution_count": 618,
   "metadata": {
    "ExecuteTime": {
     "end_time": "2019-11-25T01:01:05.296121Z",
     "start_time": "2019-11-25T01:01:05.202539Z"
    }
   },
   "outputs": [
    {
     "name": "stdout",
     "output_type": "stream",
     "text": [
      "masking out non hot spot, defined by loubar\n"
     ]
    }
   ],
   "source": [
    "hs_vor._get_hs()"
   ]
  },
  {
   "cell_type": "code",
   "execution_count": 616,
   "metadata": {
    "ExecuteTime": {
     "end_time": "2019-11-25T01:00:22.726035Z",
     "start_time": "2019-11-25T01:00:22.496771Z"
    }
   },
   "outputs": [
    {
     "data": {
      "text/plain": [
       "<matplotlib.axes._subplots.AxesSubplot at 0x7efbf7058048>"
      ]
     },
     "execution_count": 616,
     "metadata": {},
     "output_type": "execute_result"
    },
    {
     "data": {
      "image/png": "[encoded data removed]",
      "text/plain": [
       "<Figure size 432x288 with 1 Axes>"
      ]
     },
     "metadata": {
      "needs_background": "light"
     },
     "output_type": "display_data"
    }
   ],
   "source": [
    "zm_v.plot()"
   ]
  },
  {
   "cell_type": "markdown",
   "metadata": {},
   "source": [
    "## hotspots cal"
   ]
  },
  {
   "cell_type": "code",
   "execution_count": 582,
   "metadata": {
    "ExecuteTime": {
     "end_time": "2019-11-24T16:17:27.576172Z",
     "start_time": "2019-11-24T16:17:27.558798Z"
    }
   },
   "outputs": [],
   "source": [
    "def get_target_hs(hs):\n",
    "    hs_count = hs.hs_avg['23']\n",
    "    hs_count = hs_count[hs_count != 0]\n",
    "    target_hs = hs.geoms.loc[hs_count.index]\n",
    "    print(target_hs.shape)\n",
    "    return target_hs, hs_count"
   ]
  },
  {
   "cell_type": "code",
   "execution_count": 583,
   "metadata": {
    "ExecuteTime": {
     "end_time": "2019-11-24T16:17:28.302570Z",
     "start_time": "2019-11-24T16:17:28.283832Z"
    }
   },
   "outputs": [],
   "source": [
    "import matplotlib.pyplot as plt"
   ]
  },
  {
   "cell_type": "code",
   "execution_count": 623,
   "metadata": {
    "ExecuteTime": {
     "end_time": "2019-11-25T01:01:55.866462Z",
     "start_time": "2019-11-25T01:01:55.171345Z"
    }
   },
   "outputs": [
    {
     "name": "stdout",
     "output_type": "stream",
     "text": [
      "(57, 10)\n",
      "(148, 3)\n",
      "(21, 9)\n"
     ]
    },
    {
     "data": {
      "text/plain": [
       "<matplotlib.axes._subplots.AxesSubplot at 0x7efbf69f6588>"
      ]
     },
     "execution_count": 623,
     "metadata": {},
     "output_type": "execute_result"
    },
    {
     "data": {
      "image/png": "[encoded data removed]",
      "text/plain": [
       "<Figure size 1080x432 with 3 Axes>"
      ]
     },
     "metadata": {
      "needs_background": "light"
     },
     "output_type": "display_data"
    }
   ],
   "source": [
    "fig, (ax1, ax2,ax3) = plt.subplots(nrows=1, ncols=3, figsize=(15,6), sharex=True, sharey=True)\n",
    "get_target_hs(hs_ageb)[0].plot(ax=ax1)\n",
    "\n",
    "get_target_hs(hs_grid)[0].plot(ax=ax2)\n",
    "get_target_hs(hs_vor)[0].plot(ax=ax3)"
   ]
  },
  {
   "cell_type": "code",
   "execution_count": 584,
   "metadata": {
    "ExecuteTime": {
     "end_time": "2019-11-24T16:17:36.514399Z",
     "start_time": "2019-11-24T16:17:36.491230Z"
    }
   },
   "outputs": [
    {
     "name": "stdout",
     "output_type": "stream",
     "text": [
      "(57, 10)\n"
     ]
    }
   ],
   "source": [
    "# target_hs=get_target_hs(hs_grid)\n",
    "target_hs, hs_count=get_target_hs(hs_ageb)\n",
    "\n",
    "hs_density = hs_count / target_hs.area\n",
    "hs_density.name = 'Density'"
   ]
  },
  {
   "cell_type": "code",
   "execution_count": 585,
   "metadata": {
    "ExecuteTime": {
     "end_time": "2019-11-24T16:17:37.228631Z",
     "start_time": "2019-11-24T16:17:37.206647Z"
    }
   },
   "outputs": [],
   "source": [
    "hs_pair_d_avg = ftrs_hs.avg_dist(target_hs)  # distance among hotspots\n",
    "comp_coef = ftrs_hs.compacity_coefficient(hs_pair_d_avg, hs.sqrt_area)\n"
   ]
  },
  {
   "cell_type": "code",
   "execution_count": 586,
   "metadata": {
    "ExecuteTime": {
     "end_time": "2019-11-24T16:17:39.167010Z",
     "start_time": "2019-11-24T16:17:38.499571Z"
    },
    "scrolled": true
   },
   "outputs": [
    {
     "data": {
      "text/plain": [
       "((2471457.784831367, 1095567.4336247277),\n",
       " (2471309.063709641, 1095294.7766128208))"
      ]
     },
     "execution_count": 586,
     "metadata": {},
     "output_type": "execute_result"
    }
   ],
   "source": [
    "raster_rper = gis.gp_polys_to_raster_centroids(target_hs, side=hs.raster_resolution, pname=target_hs.index.name)\n",
    "raster_rper = raster_rper.merge(hs_density.reset_index())\n",
    "raster_rper['Area'] = hs.raster_resolution ** 2\n",
    "raster_rper['Mass'] = raster_rper.Area * raster_rper.Density\n",
    "\n",
    "rx = raster_rper.centroid.apply(lambda x: x.coords[0][0])\n",
    "ry = raster_rper.centroid.apply(lambda x: x.coords[0][1])\n",
    "cx = (rx * raster_rper.Area).sum() / raster_rper.Area.sum()\n",
    "cy = (ry * raster_rper.Area).sum() / raster_rper.Area.sum()\n",
    "raster_centroid = (cx, cy)\n",
    "cx = (rx * raster_rper.Mass).sum() / raster_rper.Mass.sum()\n",
    "cy = (ry * raster_rper.Mass).sum() / raster_rper.Mass.sum()\n",
    "raster_mass_centroid = (cx, cy)\n",
    "\n",
    "raster_rper_centroids = raster_rper.centroid.apply(lambda x: x.coords[0]).tolist()\n",
    "\n",
    "raster_centroid, raster_mass_centroid"
   ]
  },
  {
   "cell_type": "code",
   "execution_count": 571,
   "metadata": {
    "ExecuteTime": {
     "end_time": "2019-11-24T03:51:00.312697Z",
     "start_time": "2019-11-24T03:50:59.736569Z"
    }
   },
   "outputs": [
    {
     "data": {
      "image/svg+xml": [
       "<svg xmlns=\"http://www.w3.org/2000/svg\" xmlns:xlink=\"http://www.w3.org/1999/xlink\" width=\"300\" height=\"300\" viewBox=\"2465901.2996545103 1088803.0236849277 12442.425085068215 14238.703228058526\" preserveAspectRatio=\"xMinYMin meet\"><g transform=\"matrix(1,0,0,-1,0,2191844.7505979137)\"><g><path fill-rule=\"evenodd\" fill=\"#66cc99\" stroke=\"#555555\" stroke-width=\"94.92468818705684\" opacity=\"0.6\" d=\"M 2468111.401792051,1092262.6810207162 L 2468011.401792051,1092262.6810207162 L 2468011.401792051,1092362.6810207162 L 2468011.401792051,1092462.6810207162 L 2468011.401792051,1092562.6810207162 L 2468111.401792051,1092562.6810207162 L 2468111.401792051,1092662.6810207162 L 2468111.401792051,1092762.6810207162 L 2468211.401792051,1092762.6810207162 L 2468211.401792051,1092862.6810207162 L 2468211.401792051,1092962.6810207162 L 2468311.401792051,1092962.6810207162 L 2468311.401792051,1093062.6810207162 L 2468411.401792051,1093062.6810207162 L 2468511.401792051,1093062.6810207162 L 2468530.886667338,1093062.6810207162 L 2468530.886667338,1093087.9421092272 L 2468430.886667338,1093087.9421092272 L 2468330.886667338,1093087.9421092272 L 2468230.886667338,1093087.9421092272 L 2468230.886667338,1093187.9421092272 L 2468130.886667338,1093187.9421092272 L 2468030.886667338,1093187.9421092272 L 2467930.886667338,1093187.9421092272 L 2467930.886667338,1093287.9421092272 L 2467830.886667338,1093287.9421092272 L 2467730.886667338,1093287.9421092272 L 2467730.886667338,1093387.9421092272 L 2467730.886667338,1093487.9421092272 L 2467630.886667338,1093487.9421092272 L 2467630.886667338,1093587.9421092272 L 2467730.886667338,1093587.9421092272 L 2467830.886667338,1093587.9421092272 L 2467930.886667338,1093587.9421092272 L 2468007.0847044163,1093587.9421092272 L 2468007.0847044163,1093663.8802380767 L 2467907.0847044163,1093663.8802380767 L 2467807.0847044163,1093663.8802380767 L 2467707.0847044163,1093663.8802380767 L 2467707.0847044163,1093763.8802380767 L 2467807.0847044163,1093763.8802380767 L 2467807.0847044163,1093863.8802380767 L 2467807.0847044163,1093963.8802380767 L 2467907.0847044163,1093963.8802380767 L 2467907.0847044163,1094063.8802380767 L 2468007.0847044163,1094063.8802380767 L 2468007.0847044163,1094163.8802380767 L 2468107.0847044163,1094163.8802380767 L 2468107.551844773,1094163.8802380767 L 2468107.551844773,1094213.2366186695 L 2468007.551844773,1094213.2366186695 L 2468007.551844773,1094313.2366186695 L 2468107.551844773,1094313.2366186695 L 2468107.551844773,1094413.2366186695 L 2468207.551844773,1094413.2366186695 L 2468207.551844773,1094513.2366186695 L 2468207.551844773,1094602.292686432 L 2468121.912318721,1094602.292686432 L 2468121.912318721,1094702.292686432 L 2468121.912318721,1094802.292686432 L 2468021.912318721,1094802.292686432 L 2468021.912318721,1094902.292686432 L 2468021.912318721,1094947.1577765793 L 2468002.545605742,1094947.1577765793 L 2468002.545605742,1095047.1577765793 L 2468102.545605742,1095047.1577765793 L 2468202.545605742,1095047.1577765793 L 2468302.545605742,1095047.1577765793 L 2468302.545605742,1095147.1577765793 L 2468302.545605742,1095247.1577765793 L 2468302.545605742,1095347.1577765793 L 2468402.545605742,1095347.1577765793 L 2468402.545605742,1095393.1277557532 L 2468324.5701966067,1095393.1277557532 L 2468224.5701966067,1095393.1277557532 L 2468224.5701966067,1095493.1277557532 L 2468324.5701966067,1095493.1277557532 L 2468328.4786336524,1095493.1277557532 L 2468328.4786336524,1095553.8060941768 L 2468228.4786336524,1095553.8060941768 L 2468228.4786336524,1095653.8060941768 L 2468228.4786336524,1095753.8060941768 L 2468228.4786336524,1095853.8060941768 L 2468228.4786336524,1095953.8060941768 L 2468228.4786336524,1096053.8060941768 L 2468328.4786336524,1096053.8060941768 L 2468328.4786336524,1096153.8060941768 L 2468328.4786336524,1096253.8060941768 L 2468428.4786336524,1096253.8060941768 L 2468528.4786336524,1096253.8060941768 L 2468628.4786336524,1096253.8060941768 L 2468628.4786336524,1096153.8060941768 L 2468728.4786336524,1096153.8060941768 L 2468828.4786336524,1096153.8060941768 L 2468928.4786336524,1096153.8060941768 L 2468928.4786336524,1096053.8060941768 L 2468928.4786336524,1095953.8060941768 L 2468928.4786336524,1095853.8060941768 L 2468928.4786336524,1095793.1277557532 L 2468942.4785570106,1095793.1277557532 L 2468942.4785570106,1095868.649310627 L 2468942.4785570106,1095968.649310627 L 2468942.4785570106,1096068.649310627 L 2468942.4785570106,1096168.649310627 L 2468942.4785570106,1096268.649310627 L 2469042.4785570106,1096268.649310627 L 2469042.4785570106,1096368.649310627 L 2469142.4785570106,1096368.649310627 L 2469142.4785570106,1096268.649310627 L 2469242.4785570106,1096268.649310627 L 2469342.4785570106,1096268.649310627 L 2469442.4785570106,1096268.649310627 L 2469442.4785570106,1096168.649310627 L 2469442.4785570106,1096068.649310627 L 2469542.4785570106,1096068.649310627 L 2469542.4785570106,1095978.678727382 L 2469619.190363731,1095978.678727382 L 2469719.190363731,1095978.678727382 L 2469719.190363731,1096078.678727382 L 2469819.190363731,1096078.678727382 L 2469919.190363731,1096078.678727382 L 2469919.190363731,1095978.678727382 L 2470019.190363731,1095978.678727382 L 2470019.190363731,1095878.678727382 L 2470019.190363731,1095842.120714865 L 2470086.8841325757,1095842.120714865 L 2470186.8841325757,1095842.120714865 L 2470286.8841325757,1095842.120714865 L 2470386.8841325757,1095842.120714865 L 2470486.8841325757,1095842.120714865 L 2470586.8841325757,1095842.120714865 L 2470586.8841325757,1095742.120714865 L 2470586.8841325757,1095642.120714865 L 2470686.8841325757,1095642.120714865 L 2470786.8841325757,1095642.120714865 L 2470886.8841325757,1095642.120714865 L 2470886.8841325757,1095561.8092786574 L 2470893.3289034897,1095572.5617293306 L 2470922.5584829594,1095611.9732549025 L 2470955.5103190476,1095648.330003414 L 2470966.3845518976,1095658.185833573 L 2470967.392191165,1095664.9787857358 L 2470979.314663501,1095712.575963355 L 2470995.8450651113,1095758.7753409103 L 2471016.8241991927,1095803.1319931406 L 2471042.050025216,1095845.2187412374 L 2471071.2796046855,1095884.6302668094 L 2471104.2314407737,1095920.987015321 L 2471140.5881892852,1095953.9388514091 L 2471179.999714857,1095983.168430879 L 2471222.086462954,1096008.394256902 L 2471266.4431151845,1096029.3733909833 L 2471312.64249274,1096045.9037925939 L 2471360.239670359,1096057.8262649293 L 2471408.776261202,1096065.0259880638 L 2471457.784831367,1096067.4336247277 L 2471506.793401532,1096065.0259880638 L 2471555.329992375,1096057.8262649293 L 2471602.927169994,1096045.9037925939 L 2471649.1265475494,1096029.3733909833 L 2471693.48319978,1096008.394256902 L 2471735.569947877,1095983.168430879 L 2471774.9814734487,1095953.9388514091 L 2471811.3382219602,1095920.987015321 L 2471844.2900580484,1095884.6302668094 L 2471873.519637518,1095845.2187412374 L 2471898.7454635412,1095803.1319931406 L 2471919.7245976226,1095758.7753409103 L 2471936.254999233,1095712.575963355 L 2471948.177471569,1095664.9787857358 L 2471955.377194703,1095616.4421948923 L 2471957.784831367,1095567.4336247277 L 2471955.377194703,1095518.425054563 L 2471948.177471569,1095469.8884637195 L 2471936.254999233,1095422.2912861004 L 2471919.7245976226,1095376.091908545 L 2471898.7454635412,1095331.7352563147 L 2471873.519637518,1095289.648508218 L 2471844.2900580484,1095250.236982646 L 2471811.3382219602,1095213.8802341344 L 2471800.46398911,1095204.0244039753 L 2471799.4563498427,1095197.2314518127 L 2471787.533877507,1095149.6342741936 L 2471771.0034758965,1095103.4348966382 L 2471750.024341815,1095059.078244408 L 2471724.798515792,1095016.991496311 L 2471695.5689363224,1094977.579970739 L 2471662.617100234,1094941.2232222275 L 2471626.2603517226,1094908.2713861393 L 2471586.848826151,1094879.0418066694 L 2471544.762078054,1094853.8159806465 L 2471501.42421075,1094833.3186959496 L 2471501.42421075,1094744.1509572573 L 2471501.42421075,1094644.1509572573 L 2471401.42421075,1094644.1509572573 L 2471401.42421075,1094544.1509572573 L 2471301.42421075,1094544.1509572573 L 2471201.42421075,1094544.1509572573 L 2471101.42421075,1094544.1509572573 L 2471101.42421075,1094444.1509572573 L 2471038.958483955,1094444.1509572573 L 2471038.958483955,1094424.6783379468 L 2470938.958483955,1094424.6783379468 L 2470846.7286692057,1094424.6783379468 L 2470846.7286692057,1094418.0416729918 L 2470746.7286692057,1094418.0416729918 L 2470646.7286692057,1094418.0416729918 L 2470546.7286692057,1094418.0416729918 L 2470446.7286692057,1094418.0416729918 L 2470346.7286692057,1094418.0416729918 L 2470246.7286692057,1094418.0416729918 L 2470246.7286692057,1094318.0416729918 L 2470146.7286692057,1094318.0416729918 L 2470046.7286692057,1094318.0416729918 L 2469946.7286692057,1094318.0416729918 L 2469846.7286692057,1094318.0416729918 L 2469773.976337691,1094318.0416729918 L 2469773.976337691,1094286.0300353398 L 2469773.976337691,1094186.0300353398 L 2469773.976337691,1094086.0300353398 L 2469773.976337691,1093986.0300353398 L 2469773.976337691,1093886.0300353398 L 2469773.976337691,1093786.0300353398 L 2469873.976337691,1093786.0300353398 L 2469873.976337691,1093686.0300353398 L 2469873.976337691,1093586.0300353398 L 2469873.976337691,1093547.9160470844 L 2469968.329401707,1093547.9160470844 L 2470068.329401707,1093547.9160470844 L 2470168.329401707,1093547.9160470844 L 2470268.329401707,1093547.9160470844 L 2470268.329401707,1093647.9160470844 L 2470368.329401707,1093647.9160470844 L 2470468.329401707,1093647.9160470844 L 2470568.329401707,1093647.9160470844 L 2470668.329401707,1093647.9160470844 L 2470668.329401707,1093747.9160470844 L 2470768.329401707,1093747.9160470844 L 2470868.329401707,1093747.9160470844 L 2470868.329401707,1093647.9160470844 L 2470968.329401707,1093647.9160470844 L 2470968.329401707,1093547.9160470844 L 2470968.329401707,1093447.9160470844 L 2471068.329401707,1093447.9160470844 L 2471068.329401707,1093347.9160470844 L 2471168.329401707,1093347.9160470844 L 2471268.329401707,1093347.9160470844 L 2471368.329401707,1093347.9160470844 L 2471468.329401707,1093347.9160470844 L 2471468.329401707,1093299.2042687687 L 2471540.7961526895,1093299.2042687687 L 2471640.7961526895,1093299.2042687687 L 2471740.7961526895,1093299.2042687687 L 2471840.7961526895,1093299.2042687687 L 2471940.7961526895,1093299.2042687687 L 2472040.7961526895,1093299.2042687687 L 2472140.7961526895,1093299.2042687687 L 2472240.7961526895,1093299.2042687687 L 2472240.7961526895,1093399.2042687687 L 2472288.1919075134,1093399.2042687687 L 2472288.1919075134,1093462.4511597108 L 2472288.1919075134,1093562.4511597108 L 2472288.1919075134,1093662.4511597108 L 2472288.1919075134,1093701.2742281936 L 2472267.2711061803,1093701.2742281936 L 2472267.2711061803,1093718.945170847 L 2472224.1389186843,1093718.945170847 L 2472124.1389186843,1093718.945170847 L 2472024.1389186843,1093718.945170847 L 2471924.1389186843,1093718.945170847 L 2471824.1389186843,1093718.945170847 L 2471724.1389186843,1093718.945170847 L 2471624.1389186843,1093718.945170847 L 2471524.1389186843,1093718.945170847 L 2471424.1389186843,1093718.945170847 L 2471424.1389186843,1093818.945170847 L 2471424.1389186843,1093918.945170847 L 2471424.1389186843,1094018.945170847 L 2471424.1389186843,1094118.945170847 L 2471424.1389186843,1094218.945170847 L 2471524.1389186843,1094218.945170847 L 2471624.1389186843,1094218.945170847 L 2471724.1389186843,1094218.945170847 L 2471724.1389186843,1094318.945170847 L 2471724.1389186843,1094418.945170847 L 2471824.1389186843,1094418.945170847 L 2471924.1389186843,1094418.945170847 L 2472024.1389186843,1094418.945170847 L 2472124.1389186843,1094418.945170847 L 2472124.1389186843,1094518.945170847 L 2472224.1389186843,1094518.945170847 L 2472224.1389186843,1094418.945170847 L 2472267.2711061803,1094418.945170847 L 2472267.2711061803,1094477.3478007799 L 2472225.9994139047,1094477.3478007799 L 2472225.9994139047,1094577.3478007799 L 2472225.9994139047,1094677.3478007799 L 2472225.9994139047,1094777.3478007799 L 2472125.9994139047,1094777.3478007799 L 2472025.9994139047,1094777.3478007799 L 2472025.9994139047,1094877.3478007799 L 2472125.9994139047,1094877.3478007799 L 2472125.9994139047,1094977.3478007799 L 2472125.9994139047,1095077.3478007799 L 2472125.9994139047,1095177.3478007799 L 2472225.9994139047,1095177.3478007799 L 2472325.9994139047,1095177.3478007799 L 2472325.9994139047,1095277.3478007799 L 2472425.9994139047,1095277.3478007799 L 2472525.9994139047,1095277.3478007799 L 2472525.9994139047,1095233.5512380588 L 2472574.728450099,1095233.5512380588 L 2472574.728450099,1095333.5512380588 L 2472474.728450099,1095333.5512380588 L 2472474.728450099,1095433.5512380588 L 2472474.728450099,1095533.5512380588 L 2472474.728450099,1095633.5512380588 L 2472474.728450099,1095733.5512380588 L 2472574.728450099,1095733.5512380588 L 2472574.728450099,1095633.5512380588 L 2472674.728450099,1095633.5512380588 L 2472774.728450099,1095633.5512380588 L 2472874.728450099,1095633.5512380588 L 2472874.728450099,1095733.5512380588 L 2472974.728450099,1095733.5512380588 L 2472974.728450099,1095833.5512380588 L 2473074.278006699,1095833.5512380588 L 2473074.278006699,1095888.6459361278 L 2472974.278006699,1095888.6459361278 L 2472874.278006699,1095888.6459361278 L 2472874.278006699,1095988.6459361278 L 2472774.278006699,1095988.6459361278 L 2472774.278006699,1096088.6459361278 L 2472674.278006699,1096088.6459361278 L 2472574.278006699,1096088.6459361278 L 2472574.278006699,1096188.6459361278 L 2472474.278006699,1096188.6459361278 L 2472474.278006699,1096288.6459361278 L 2472374.278006699,1096288.6459361278 L 2472274.278006699,1096288.6459361278 L 2472274.278006699,1096388.6459361278 L 2472274.278006699,1096488.6459361278 L 2472274.278006699,1096588.6459361278 L 2472174.278006699,1096588.6459361278 L 2472174.278006699,1096688.6459361278 L 2472274.278006699,1096688.6459361278 L 2472274.278006699,1096788.6459361278 L 2472174.278006699,1096788.6459361278 L 2472174.278006699,1096888.6459361278 L 2472074.278006699,1096888.6459361278 L 2472074.278006699,1096988.6459361278 L 2471974.278006699,1096988.6459361278 L 2471974.278006699,1097088.6459361278 L 2471874.278006699,1097088.6459361278 L 2471774.278006699,1097088.6459361278 L 2471774.278006699,1097188.6459361278 L 2471674.278006699,1097188.6459361278 L 2471674.278006699,1097288.6459361278 L 2471715.6218594387,1097288.6459361278 L 2471715.6218594387,1097351.6181521325 L 2471815.6218594387,1097351.6181521325 L 2471815.6218594387,1097451.6181521325 L 2471915.6218594387,1097451.6181521325 L 2471915.6218594387,1097551.6181521325 L 2472015.6218594387,1097551.6181521325 L 2472015.6218594387,1097651.6181521325 L 2472115.6218594387,1097651.6181521325 L 2472215.6218594387,1097651.6181521325 L 2472229.3423646665,1097651.6181521325 L 2472229.3423646665,1097669.7855217 L 2472129.3423646665,1097669.7855217 L 2472129.3423646665,1097769.7855217 L 2472229.3423646665,1097769.7855217 L 2472329.3423646665,1097769.7855217 L 2472329.3423646665,1097789.5372759334 L 2472230.5999051365,1097789.5372759334 L 2472130.5999051365,1097789.5372759334 L 2472130.5999051365,1097889.5372759334 L 2472130.5999051365,1097989.5372759334 L 2472130.5999051365,1098089.5372759334 L 2472130.5999051365,1098189.5372759334 L 2472230.5999051365,1098189.5372759334 L 2472230.5999051365,1098289.5372759334 L 2472230.5999051365,1098389.5372759334 L 2472330.5999051365,1098389.5372759334 L 2472430.5999051365,1098389.5372759334 L 2472430.5999051365,1098489.5372759334 L 2472530.5999051365,1098489.5372759334 L 2472630.5999051365,1098489.5372759334 L 2472730.5999051365,1098489.5372759334 L 2472830.5999051365,1098489.5372759334 L 2472930.5999051365,1098489.5372759334 L 2472930.5999051365,1098589.5372759334 L 2473030.5999051365,1098589.5372759334 L 2473130.5999051365,1098589.5372759334 L 2473130.5999051365,1098489.5372759334 L 2473130.5999051365,1098389.5372759334 L 2473130.5999051365,1098289.5372759334 L 2473130.5999051365,1098189.5372759334 L 2473130.5999051365,1098089.5372759334 L 2473130.5999051365,1097989.5372759334 L 2473130.5999051365,1097969.7855217 L 2473229.3423646665,1097969.7855217 L 2473229.3423646665,1097869.7855217 L 2473229.3423646665,1097769.7855217 L 2473329.3423646665,1097769.7855217 L 2473329.3423646665,1097869.7855217 L 2473429.3423646665,1097869.7855217 L 2473429.3423646665,1097769.7855217 L 2473429.3423646665,1097669.7855217 L 2473329.3423646665,1097669.7855217 L 2473329.3423646665,1097569.7855217 L 2473229.3423646665,1097569.7855217 L 2473129.3423646665,1097569.7855217 L 2473129.3423646665,1097469.7855217 L 2473029.3423646665,1097469.7855217 L 2472929.3423646665,1097469.7855217 L 2472929.3423646665,1097369.7855217 L 2472829.3423646665,1097369.7855217 L 2472815.6218594387,1097369.7855217 L 2472815.6218594387,1097351.6181521325 L 2472815.6218594387,1097251.6181521325 L 2472915.6218594387,1097251.6181521325 L 2472915.6218594387,1097151.6181521325 L 2472915.6218594387,1097051.6181521325 L 2473015.6218594387,1097051.6181521325 L 2473015.6218594387,1096988.6459361278 L 2473074.278006699,1096988.6459361278 L 2473074.278006699,1096888.6459361278 L 2473074.278006699,1096788.6459361278 L 2473095.915971892,1096788.6459361278 L 2473095.915971892,1096808.9466163442 L 2473195.915971892,1096808.9466163442 L 2473195.915971892,1096908.9466163442 L 2473295.915971892,1096908.9466163442 L 2473295.915971892,1097008.9466163442 L 2473395.915971892,1097008.9466163442 L 2473495.915971892,1097008.9466163442 L 2473595.915971892,1097008.9466163442 L 2473595.915971892,1096908.9466163442 L 2473595.915971892,1096808.9466163442 L 2473695.915971892,1096808.9466163442 L 2473695.915971892,1096708.9466163442 L 2473795.915971892,1096708.9466163442 L 2473795.915971892,1096608.9466163442 L 2473695.915971892,1096608.9466163442 L 2473695.915971892,1096508.9466163442 L 2473795.915971892,1096508.9466163442 L 2473895.915971892,1096508.9466163442 L 2473895.915971892,1096408.9466163442 L 2473995.915971892,1096408.9466163442 L 2473995.915971892,1096308.9466163442 L 2474095.915971892,1096308.9466163442 L 2474095.915971892,1096208.9466163442 L 2474095.915971892,1096182.0384599282 L 2474167.1825975,1096182.0384599282 L 2474267.1825975,1096182.0384599282 L 2474267.1825975,1096082.0384599282 L 2474367.1825975,1096082.0384599282 L 2474367.1825975,1095982.0384599282 L 2474367.1825975,1095882.0384599282 L 2474467.1825975,1095882.0384599282 L 2474467.1825975,1095782.0384599282 L 2474467.1825975,1095682.0384599282 L 2474467.1825975,1095651.4753271418 L 2474508.5748208077,1095651.4753271418 L 2474508.5748208077,1095551.4753271418 L 2474508.5748208077,1095451.4753271418 L 2474608.5748208077,1095451.4753271418 L 2474608.5748208077,1095351.4753271418 L 2474608.5748208077,1095251.4753271418 L 2474608.5748208077,1095151.4753271418 L 2474508.5748208077,1095151.4753271418 L 2474408.5748208077,1095151.4753271418 L 2474408.5748208077,1095051.4753271418 L 2474308.5748208077,1095051.4753271418 L 2474208.5748208077,1095051.4753271418 L 2474108.5748208077,1095051.4753271418 L 2474108.5748208077,1094951.4753271418 L 2474008.5748208077,1094951.4753271418 L 2474008.5748208077,1094851.4753271418 L 2473908.5748208077,1094851.4753271418 L 2473874.2925762725,1094851.4753271418 L 2473874.2925762725,1094842.1529769504 L 2473874.2925762725,1094742.1529769504 L 2473874.2925762725,1094642.1529769504 L 2473874.2925762725,1094542.1529769504 L 2473774.2925762725,1094542.1529769504 L 2473674.2925762725,1094542.1529769504 L 2473674.2925762725,1094442.1529769504 L 2473574.2925762725,1094442.1529769504 L 2473474.2925762725,1094442.1529769504 L 2473474.2925762725,1094342.1529769504 L 2473374.2925762725,1094342.1529769504 L 2473374.2925762725,1094242.1529769504 L 2473374.2925762725,1094142.1529769504 L 2473274.2925762725,1094142.1529769504 L 2473274.2925762725,1094242.1529769504 L 2473267.2711061803,1094242.1529769504 L 2473267.2711061803,1094201.2742281936 L 2473267.2711061803,1094101.2742281936 L 2473367.2711061803,1094101.2742281936 L 2473367.2711061803,1094001.2742281936 L 2473367.2711061803,1093901.2742281936 L 2473367.2711061803,1093801.2742281936 L 2473467.2711061803,1093801.2742281936 L 2473467.2711061803,1093701.2742281936 L 2473424.419873196,1093701.2742281936 L 2473424.419873196,1093651.3899533274 L 2473524.419873196,1093651.3899533274 L 2473524.419873196,1093751.3899533274 L 2473624.419873196,1093751.3899533274 L 2473724.419873196,1093751.3899533274 L 2473824.419873196,1093751.3899533274 L 2473824.419873196,1093851.3899533274 L 2473924.419873196,1093851.3899533274 L 2474024.419873196,1093851.3899533274 L 2474024.419873196,1093751.3899533274 L 2474124.419873196,1093751.3899533274 L 2474224.419873196,1093751.3899533274 L 2474224.419873196,1093651.3899533274 L 2474324.419873196,1093651.3899533274 L 2474424.419873196,1093651.3899533274 L 2474424.419873196,1093551.3899533274 L 2474424.419873196,1093451.3899533274 L 2474324.419873196,1093451.3899533274 L 2474224.419873196,1093451.3899533274 L 2474124.419873196,1093451.3899533274 L 2474124.419873196,1093351.3899533274 L 2474024.419873196,1093351.3899533274 L 2474024.419873196,1093251.3899533274 L 2473924.419873196,1093251.3899533274 L 2473824.419873196,1093251.3899533274 L 2473724.419873196,1093251.3899533274 L 2473624.419873196,1093251.3899533274 L 2473624.419873196,1093151.3899533274 L 2473524.419873196,1093151.3899533274 L 2473424.419873196,1093151.3899533274 L 2473324.419873196,1093151.3899533274 L 2473224.419873196,1093151.3899533274 L 2473224.419873196,1093051.3899533274 L 2473196.647774357,1093051.3899533274 L 2473196.647774357,1093019.553457744 L 2473296.647774357,1093019.553457744 L 2473296.647774357,1092919.553457744 L 2473396.647774357,1092919.553457744 L 2473496.647774357,1092919.553457744 L 2473496.647774357,1092819.553457744 L 2473496.647774357,1092719.553457744 L 2473396.647774357,1092719.553457744 L 2473396.647774357,1092619.553457744 L 2473296.647774357,1092619.553457744 L 2473296.647774357,1092519.553457744 L 2473196.647774357,1092519.553457744 L 2473096.647774357,1092519.553457744 L 2473096.647774357,1092419.553457744 L 2472996.647774357,1092419.553457744 L 2472896.647774357,1092419.553457744 L 2472796.647774357,1092419.553457744 L 2472796.647774357,1092519.553457744 L 2472696.647774357,1092519.553457744 L 2472596.647774357,1092519.553457744 L 2472596.647774357,1092619.553457744 L 2472496.647774357,1092619.553457744 L 2472496.647774357,1092719.553457744 L 2472396.647774357,1092719.553457744 L 2472340.7961526895,1092719.553457744 L 2472340.7961526895,1092699.2042687687 L 2472340.7961526895,1092599.2042687687 L 2472340.7961526895,1092499.2042687687 L 2472340.7961526895,1092399.2042687687 L 2472340.7961526895,1092299.2042687687 L 2472340.7961526895,1092199.2042687687 L 2472340.7961526895,1092099.2042687687 L 2472340.7961526895,1091999.2042687687 L 2472340.7961526895,1091899.2042687687 L 2472340.7961526895,1091799.2042687687 L 2472240.7961526895,1091799.2042687687 L 2472140.7961526895,1091799.2042687687 L 2472040.7961526895,1091799.2042687687 L 2471940.7961526895,1091799.2042687687 L 2471940.7961526895,1091899.2042687687 L 2471940.7961526895,1091905.8305814303 L 2471901.0703623723,1091905.8305814303 L 2471801.0703623723,1091905.8305814303 L 2471701.0703623723,1091905.8305814303 L 2471601.0703623723,1091905.8305814303 L 2471601.0703623723,1092005.8305814303 L 2471501.0703623723,1092005.8305814303 L 2471492.3145466987,1092005.8305814303 L 2471492.3145466987,1091930.3830637448 L 2471492.3145466987,1091830.3830637448 L 2471492.3145466987,1091730.3830637448 L 2471492.3145466987,1091630.3830637448 L 2471492.3145466987,1091530.3830637448 L 2471492.3145466987,1091430.3830637448 L 2471492.3145466987,1091330.3830637448 L 2471492.3145466987,1091230.3830637448 L 2471492.3145466987,1091130.3830637448 L 2471492.3145466987,1091030.3830637448 L 2471492.3145466987,1090930.3830637448 L 2471492.3145466987,1090830.3830637448 L 2471492.3145466987,1090730.3830637448 L 2471492.3145466987,1090630.3830637448 L 2471492.3145466987,1090530.3830637448 L 2471492.3145466987,1090430.3830637448 L 2471492.3145466987,1090330.3830637448 L 2471492.3145466987,1090230.3830637448 L 2471492.3145466987,1090130.3830637448 L 2471492.3145466987,1090030.3830637448 L 2471492.3145466987,1089930.3830637448 L 2471492.3145466987,1089830.3830637448 L 2471492.3145466987,1089730.3830637448 L 2471492.3145466987,1089630.3830637448 L 2471492.3145466987,1089530.3830637448 L 2471492.3145466987,1089430.3830637448 L 2471492.3145466987,1089330.3830637448 L 2471392.3145466987,1089330.3830637448 L 2471292.3145466987,1089330.3830637448 L 2471192.3145466987,1089330.3830637448 L 2471192.3145466987,1089430.3830637448 L 2471092.3145466987,1089430.3830637448 L 2470992.3145466987,1089430.3830637448 L 2470892.3145466987,1089430.3830637448 L 2470792.3145466987,1089430.3830637448 L 2470792.3145466987,1089530.3830637448 L 2470692.3145466987,1089530.3830637448 L 2470692.3145466987,1089630.3830637448 L 2470592.3145466987,1089630.3830637448 L 2470592.3145466987,1089730.3830637448 L 2470492.3145466987,1089730.3830637448 L 2470492.3145466987,1089830.3830637448 L 2470392.3145466987,1089830.3830637448 L 2470392.3145466987,1089930.3830637448 L 2470392.3145466987,1090030.3830637448 L 2470392.3145466987,1090130.3830637448 L 2470392.3145466987,1090230.3830637448 L 2470392.3145466987,1090330.3830637448 L 2470392.3145466987,1090430.3830637448 L 2470292.3145466987,1090430.3830637448 L 2470292.3145466987,1090530.3830637448 L 2470292.3145466987,1090630.3830637448 L 2470292.3145466987,1090721.0291029944 L 2470226.516398124,1090721.0291029944 L 2470126.516398124,1090721.0291029944 L 2470026.516398124,1090721.0291029944 L 2469926.516398124,1090721.0291029944 L 2469826.516398124,1090721.0291029944 L 2469826.516398124,1090821.0291029944 L 2469826.516398124,1090921.0291029944 L 2469826.516398124,1091021.0291029944 L 2469726.516398124,1091021.0291029944 L 2469726.516398124,1091121.0291029944 L 2469726.516398124,1091221.0291029944 L 2469626.516398124,1091221.0291029944 L 2469626.516398124,1091321.0291029944 L 2469526.516398124,1091321.0291029944 L 2469526.516398124,1091421.0291029944 L 2469426.516398124,1091421.0291029944 L 2469363.096437218,1091421.0291029944 L 2469363.096437218,1091343.7171896165 L 2469263.096437218,1091343.7171896165 L 2469263.096437218,1091443.7171896165 L 2469163.096437218,1091443.7171896165 L 2469063.096437218,1091443.7171896165 L 2468963.096437218,1091443.7171896165 L 2468963.096437218,1091343.7171896165 L 2468963.096437218,1091243.7171896165 L 2468863.096437218,1091243.7171896165 L 2468763.096437218,1091243.7171896165 L 2468663.096437218,1091243.7171896165 L 2468663.096437218,1091343.7171896165 L 2468563.096437218,1091343.7171896165 L 2468463.096437218,1091343.7171896165 L 2468363.096437218,1091343.7171896165 L 2468263.096437218,1091343.7171896165 L 2468263.096437218,1091443.7171896165 L 2468263.096437218,1091543.7171896165 L 2468263.096437218,1091643.7171896165 L 2468263.096437218,1091743.7171896165 L 2468363.096437218,1091743.7171896165 L 2468363.096437218,1091843.7171896165 L 2468463.096437218,1091843.7171896165 L 2468463.096437218,1091943.7171896165 L 2468463.096437218,1092043.7171896165 L 2468563.096437218,1092043.7171896165 L 2468563.096437218,1092143.7171896165 L 2468563.096437218,1092243.7171896165 L 2468663.096437218,1092243.7171896165 L 2468763.096437218,1092243.7171896165 L 2468863.096437218,1092243.7171896165 L 2468963.096437218,1092243.7171896165 L 2468963.096437218,1092143.7171896165 L 2468963.096437218,1092043.7171896165 L 2468963.096437218,1091943.7171896165 L 2468963.096437218,1091843.7171896165 L 2468963.096437218,1091743.7171896165 L 2469063.096437218,1091743.7171896165 L 2469163.096437218,1091743.7171896165 L 2469263.096437218,1091743.7171896165 L 2469363.096437218,1091743.7171896165 L 2469363.096437218,1091721.0291029944 L 2469426.516398124,1091721.0291029944 L 2469526.516398124,1091721.0291029944 L 2469526.516398124,1091821.0291029944 L 2469526.516398124,1091921.0291029944 L 2469526.516398124,1092021.0291029944 L 2469626.516398124,1092021.0291029944 L 2469726.516398124,1092021.0291029944 L 2469826.516398124,1092021.0291029944 L 2469826.516398124,1092121.0291029944 L 2469826.516398124,1092221.0291029944 L 2469726.516398124,1092221.0291029944 L 2469726.516398124,1092321.0291029944 L 2469726.516398124,1092421.0291029944 L 2469726.516398124,1092521.0291029944 L 2469726.516398124,1092621.0291029944 L 2469726.516398124,1092721.0291029944 L 2469726.516398124,1092724.9323148774 L 2469637.133690387,1092724.9323148774 L 2469537.133690387,1092724.9323148774 L 2469437.133690387,1092724.9323148774 L 2469337.133690387,1092724.9323148774 L 2469337.133690387,1092824.9323148774 L 2469437.133690387,1092824.9323148774 L 2469437.133690387,1092924.9323148774 L 2469437.133690387,1093024.9323148774 L 2469337.133690387,1093024.9323148774 L 2469237.133690387,1093024.9323148774 L 2469237.133690387,1093124.9323148774 L 2469137.133690387,1093124.9323148774 L 2469037.133690387,1093124.9323148774 L 2469037.133690387,1093224.9323148774 L 2469037.133690387,1093322.2787467693 L 2469015.1191831264,1093322.2787467693 L 2469015.1191831264,1093222.2787467693 L 2469015.1191831264,1093122.2787467693 L 2469015.1191831264,1093022.2787467693 L 2469015.1191831264,1092922.2787467693 L 2468915.1191831264,1092922.2787467693 L 2468815.1191831264,1092922.2787467693 L 2468815.1191831264,1093022.2787467693 L 2468730.886667338,1093022.2787467693 L 2468730.886667338,1092987.9421092272 L 2468711.401792051,1092987.9421092272 L 2468711.401792051,1092962.6810207162 L 2468711.401792051,1092862.6810207162 L 2468611.401792051,1092862.6810207162 L 2468611.401792051,1092762.6810207162 L 2468611.401792051,1092662.6810207162 L 2468611.401792051,1092562.6810207162 L 2468611.401792051,1092462.6810207162 L 2468511.401792051,1092462.6810207162 L 2468511.401792051,1092362.6810207162 L 2468511.401792051,1092262.6810207162 L 2468411.401792051,1092262.6810207162 L 2468311.401792051,1092262.6810207162 L 2468211.401792051,1092262.6810207162 L 2468111.401792051,1092262.6810207162 z M 2468302.545605742,1095047.1577765793 L 2468302.545605742,1095002.292686432 L 2468321.912318721,1095002.292686432 L 2468321.912318721,1095047.1577765793 L 2468302.545605742,1095047.1577765793 z M 2472915.6218594387,1097051.6181521325 L 2472815.6218594387,1097051.6181521325 L 2472774.278006699,1097051.6181521325 L 2472774.278006699,1096988.6459361278 L 2472874.278006699,1096988.6459361278 L 2472915.6218594387,1096988.6459361278 L 2472915.6218594387,1097051.6181521325 z M 2469034.9081177753,1094999.134566289 L 2469045.866796229,1094999.134566289 L 2469045.866796229,1095099.134566289 L 2469045.866796229,1095199.134566289 L 2469045.866796229,1095299.134566289 L 2469145.866796229,1095299.134566289 L 2469145.866796229,1095199.134566289 L 2469145.866796229,1095099.134566289 L 2469245.866796229,1095099.134566289 L 2469245.866796229,1094999.134566289 L 2469345.866796229,1094999.134566289 L 2469345.866796229,1094899.134566289 L 2469345.866796229,1094799.134566289 L 2469345.866796229,1094699.134566289 L 2469345.866796229,1094599.134566289 L 2469345.866796229,1094499.134566289 L 2469345.866796229,1094399.134566289 L 2469245.866796229,1094399.134566289 L 2469145.866796229,1094399.134566289 L 2469140.0014553466,1094399.134566289 L 2469140.0014553466,1094389.4771573264 L 2469240.0014553466,1094389.4771573264 L 2469340.0014553466,1094389.4771573264 L 2469340.0014553466,1094386.0300353398 L 2469373.976337691,1094386.0300353398 L 2469373.976337691,1094486.0300353398 L 2469373.976337691,1094586.0300353398 L 2469373.976337691,1094686.0300353398 L 2469373.976337691,1094786.0300353398 L 2469473.976337691,1094786.0300353398 L 2469473.976337691,1094886.0300353398 L 2469573.976337691,1094886.0300353398 L 2469646.7286692057,1094886.0300353398 L 2469646.7286692057,1094918.0416729918 L 2469646.7286692057,1095018.0416729918 L 2469646.7286692057,1095118.0416729918 L 2469746.7286692057,1095118.0416729918 L 2469746.7286692057,1095018.0416729918 L 2469846.7286692057,1095018.0416729918 L 2469846.7286692057,1094918.0416729918 L 2469946.7286692057,1094918.0416729918 L 2470046.7286692057,1094918.0416729918 L 2470146.7286692057,1094918.0416729918 L 2470246.7286692057,1094918.0416729918 L 2470346.7286692057,1094918.0416729918 L 2470346.7286692057,1094818.0416729918 L 2470438.958483955,1094818.0416729918 L 2470438.958483955,1094824.6783379468 L 2470438.958483955,1094924.6783379468 L 2470438.958483955,1095024.6783379468 L 2470338.958483955,1095024.6783379468 L 2470338.958483955,1095124.6783379468 L 2470386.8841325757,1095124.6783379468 L 2470386.8841325757,1095142.120714865 L 2470286.8841325757,1095142.120714865 L 2470286.8841325757,1095242.120714865 L 2470186.8841325757,1095242.120714865 L 2470086.8841325757,1095242.120714865 L 2470086.8841325757,1095278.678727382 L 2470019.190363731,1095278.678727382 L 2470019.190363731,1095178.678727382 L 2469919.190363731,1095178.678727382 L 2469919.190363731,1095278.678727382 L 2469819.190363731,1095278.678727382 L 2469819.190363731,1095178.678727382 L 2469719.190363731,1095178.678727382 L 2469619.190363731,1095178.678727382 L 2469619.190363731,1095278.678727382 L 2469619.190363731,1095378.678727382 L 2469619.190363731,1095478.678727382 L 2469619.190363731,1095578.678727382 L 2469619.190363731,1095678.678727382 L 2469619.190363731,1095778.678727382 L 2469524.5701966067,1095778.678727382 L 2469524.5701966067,1095747.1577765793 L 2469602.545605742,1095747.1577765793 L 2469602.545605742,1095647.1577765793 L 2469602.545605742,1095547.1577765793 L 2469602.545605742,1095447.1577765793 L 2469502.545605742,1095447.1577765793 L 2469502.545605742,1095347.1577765793 L 2469402.545605742,1095347.1577765793 L 2469302.545605742,1095347.1577765793 L 2469202.545605742,1095347.1577765793 L 2469102.545605742,1095347.1577765793 L 2469102.545605742,1095447.1577765793 L 2469021.912318721,1095447.1577765793 L 2469021.912318721,1095402.292686432 L 2469021.912318721,1095302.292686432 L 2469021.912318721,1095202.292686432 L 2468921.912318721,1095202.292686432 L 2468821.912318721,1095202.292686432 L 2468821.912318721,1095102.292686432 L 2468721.912318721,1095102.292686432 L 2468621.912318721,1095102.292686432 L 2468621.912318721,1095089.3958111433 L 2468634.9081177753,1095089.3958111433 L 2468734.9081177753,1095089.3958111433 L 2468834.9081177753,1095089.3958111433 L 2468834.9081177753,1095189.3958111433 L 2468934.9081177753,1095189.3958111433 L 2469034.9081177753,1095189.3958111433 L 2469034.9081177753,1095089.3958111433 L 2469034.9081177753,1094999.134566289 z M 2470438.958483955,1095024.6783379468 L 2470538.958483955,1095024.6783379468 L 2470538.958483955,1095124.6783379468 L 2470538.958483955,1095142.120714865 L 2470486.8841325757,1095142.120714865 L 2470486.8841325757,1095042.120714865 L 2470438.958483955,1095042.120714865 L 2470438.958483955,1095024.6783379468 z M 2473567.1825975,1096182.0384599282 L 2473567.1825975,1096082.0384599282 L 2473567.1825975,1095982.0384599282 L 2473595.915971892,1095982.0384599282 L 2473595.915971892,1096008.9466163442 L 2473595.915971892,1096108.9466163442 L 2473595.915971892,1096208.9466163442 L 2473567.1825975,1096208.9466163442 L 2473567.1825975,1096182.0384599282 z M 2473567.1825975,1095982.0384599282 L 2473474.278006699,1095982.0384599282 L 2473474.278006699,1095888.6459361278 L 2473567.1825975,1095888.6459361278 L 2473567.1825975,1095982.0384599282 z M 2468421.912318721,1094902.292686432 L 2468421.912318721,1094889.3958111433 L 2468434.9081177753,1094889.3958111433 L 2468434.9081177753,1094989.3958111433 L 2468534.9081177753,1094989.3958111433 L 2468534.9081177753,1095002.292686432 L 2468521.912318721,1095002.292686432 L 2468421.912318721,1095002.292686432 L 2468421.912318721,1094902.292686432 z M 2468934.9081177753,1094989.3958111433 L 2468934.9081177753,1094889.3958111433 L 2468934.9081177753,1094799.134566289 L 2468945.866796229,1094799.134566289 L 2468945.866796229,1094899.134566289 L 2468945.866796229,1094989.3958111433 L 2468934.9081177753,1094989.3958111433 z M 2472525.9994139047,1094977.3478007799 L 2472574.728450099,1094977.3478007799 L 2472574.728450099,1095033.5512380588 L 2472525.9994139047,1095033.5512380588 L 2472525.9994139047,1094977.3478007799 z M 2472625.9994139047,1094933.5512380588 L 2472625.9994139047,1094877.3478007799 L 2472674.728450099,1094877.3478007799 L 2472674.728450099,1094933.5512380588 L 2472625.9994139047,1094933.5512380588 z M 2473774.2925762725,1094942.1529769504 L 2473808.5748208077,1094942.1529769504 L 2473808.5748208077,1094951.4753271418 L 2473808.5748208077,1095051.4753271418 L 2473808.5748208077,1095151.4753271418 L 2473774.2925762725,1095151.4753271418 L 2473774.2925762725,1095142.1529769504 L 2473774.2925762725,1095042.1529769504 L 2473774.2925762725,1094942.1529769504 z M 2468630.886667338,1093122.2787467693 L 2468630.886667338,1093087.9421092272 L 2468715.1191831264,1093087.9421092272 L 2468715.1191831264,1093122.2787467693 L 2468630.886667338,1093122.2787467693 z M 2469926.516398124,1093147.9160470844 L 2469926.516398124,1093121.0291029944 L 2469926.516398124,1093021.0291029944 L 2469926.516398124,1092921.0291029944 L 2469926.516398124,1092821.0291029944 L 2469968.329401707,1092821.0291029944 L 2469968.329401707,1092847.9160470844 L 2469968.329401707,1092947.9160470844 L 2469968.329401707,1093047.9160470844 L 2469968.329401707,1093147.9160470844 L 2469926.516398124,1093147.9160470844 z M 2472488.1919075134,1093162.4511597108 L 2472488.1919075134,1093119.553457744 L 2472496.647774357,1093119.553457744 L 2472596.647774357,1093119.553457744 L 2472688.1919075134,1093119.553457744 L 2472688.1919075134,1093162.4511597108 L 2472588.1919075134,1093162.4511597108 L 2472488.1919075134,1093162.4511597108 z M 2472988.1919075134,1093162.4511597108 L 2473024.419873196,1093162.4511597108 L 2473024.419873196,1093251.3899533274 L 2473024.419873196,1093351.3899533274 L 2472988.1919075134,1093351.3899533274 L 2472988.1919075134,1093262.4511597108 L 2472988.1919075134,1093162.4511597108 z M 2470026.516398124,1092221.0291029944 L 2470026.516398124,1092121.0291029944 L 2470068.329401707,1092121.0291029944 L 2470068.329401707,1092147.9160470844 L 2470068.329401707,1092247.9160470844 L 2470068.329401707,1092347.9160470844 L 2470068.329401707,1092447.9160470844 L 2470068.329401707,1092547.9160470844 L 2470026.516398124,1092547.9160470844 L 2470026.516398124,1092521.0291029944 L 2470026.516398124,1092421.0291029944 L 2470026.516398124,1092321.0291029944 L 2470026.516398124,1092221.0291029944 z M 2470268.329401707,1092147.9160470844 L 2470268.329401707,1092130.3830637448 L 2470292.3145466987,1092130.3830637448 L 2470392.3145466987,1092130.3830637448 L 2470492.3145466987,1092130.3830637448 L 2470592.3145466987,1092130.3830637448 L 2470692.3145466987,1092130.3830637448 L 2470792.3145466987,1092130.3830637448 L 2470792.3145466987,1092147.9160470844 L 2470768.329401707,1092147.9160470844 L 2470668.329401707,1092147.9160470844 L 2470568.329401707,1092147.9160470844 L 2470468.329401707,1092147.9160470844 L 2470368.329401707,1092147.9160470844 L 2470268.329401707,1092147.9160470844 z M 2470868.329401707,1092230.3830637448 L 2470892.3145466987,1092230.3830637448 L 2470992.3145466987,1092230.3830637448 L 2471092.3145466987,1092230.3830637448 L 2471192.3145466987,1092230.3830637448 L 2471292.3145466987,1092230.3830637448 L 2471292.3145466987,1092247.9160470844 L 2471268.329401707,1092247.9160470844 L 2471168.329401707,1092247.9160470844 L 2471068.329401707,1092247.9160470844 L 2470968.329401707,1092247.9160470844 L 2470868.329401707,1092247.9160470844 L 2470868.329401707,1092230.3830637448 z M 2470226.516398124,1091121.0291029944 L 2470226.516398124,1091021.0291029944 L 2470226.516398124,1090921.0291029944 L 2470226.516398124,1090821.0291029944 L 2470292.3145466987,1090821.0291029944 L 2470292.3145466987,1090830.3830637448 L 2470292.3145466987,1090930.3830637448 L 2470292.3145466987,1091030.3830637448 L 2470292.3145466987,1091130.3830637448 L 2470226.516398124,1091130.3830637448 L 2470226.516398124,1091121.0291029944 z M 2470192.3145466987,1091730.3830637448 L 2470126.516398124,1091730.3830637448 L 2470126.516398124,1091721.0291029944 L 2470126.516398124,1091621.0291029944 L 2470126.516398124,1091521.0291029944 L 2470192.3145466987,1091521.0291029944 L 2470192.3145466987,1091530.3830637448 L 2470192.3145466987,1091630.3830637448 L 2470192.3145466987,1091730.3830637448 z M 2470126.516398124,1092047.9160470844 L 2470126.516398124,1092030.3830637448 L 2470192.3145466987,1092030.3830637448 L 2470192.3145466987,1092047.9160470844 L 2470168.329401707,1092047.9160470844 L 2470126.516398124,1092047.9160470844 z M 2472888.1919075134,1093019.553457744 L 2472896.647774357,1093019.553457744 L 2472996.647774357,1093019.553457744 L 2473096.647774357,1093019.553457744 L 2473096.647774357,1093051.3899533274 L 2473024.419873196,1093051.3899533274 L 2473024.419873196,1093062.4511597108 L 2472988.1919075134,1093062.4511597108 L 2472888.1919075134,1093062.4511597108 L 2472888.1919075134,1093019.553457744 z M 2468607.0847044163,1093863.8802380767 L 2468707.0847044163,1093863.8802380767 L 2468707.0847044163,1093763.8802380767 L 2468807.0847044163,1093763.8802380767 L 2468840.0014553466,1093763.8802380767 L 2468840.0014553466,1093789.4771573264 L 2468740.0014553466,1093789.4771573264 L 2468740.0014553466,1093813.2366186695 L 2468707.551844773,1093813.2366186695 L 2468707.551844773,1093913.2366186695 L 2468607.551844773,1093913.2366186695 L 2468607.0847044163,1093913.2366186695 L 2468607.0847044163,1093863.8802380767 z M 2469115.1191831264,1093786.0300353398 L 2469115.1191831264,1093722.2787467693 L 2469173.976337691,1093722.2787467693 L 2469173.976337691,1093786.0300353398 L 2469115.1191831264,1093786.0300353398 z M 2469115.1191831264,1093522.2787467693 L 2469115.1191831264,1093424.9323148774 L 2469137.133690387,1093424.9323148774 L 2469137.133690387,1093522.2787467693 L 2469115.1191831264,1093522.2787467693 z M 2469215.1191831264,1093524.9323148774 L 2469237.133690387,1093524.9323148774 L 2469237.133690387,1093624.9323148774 L 2469337.133690387,1093624.9323148774 L 2469373.976337691,1093624.9323148774 L 2469373.976337691,1093686.0300353398 L 2469273.976337691,1093686.0300353398 L 2469215.1191831264,1093686.0300353398 L 2469215.1191831264,1093622.2787467693 L 2469215.1191831264,1093524.9323148774 z M 2469437.133690387,1093524.9323148774 L 2469473.976337691,1093524.9323148774 L 2469473.976337691,1093586.0300353398 L 2469437.133690387,1093586.0300353398 L 2469437.133690387,1093524.9323148774 z M 2472888.1919075134,1093462.4511597108 L 2472924.419873196,1093462.4511597108 L 2472924.419873196,1093551.3899533274 L 2472924.419873196,1093651.3899533274 L 2472924.419873196,1093701.2742281936 L 2472867.2711061803,1093701.2742281936 L 2472767.2711061803,1093701.2742281936 L 2472688.1919075134,1093701.2742281936 L 2472688.1919075134,1093662.4511597108 L 2472788.1919075134,1093662.4511597108 L 2472888.1919075134,1093662.4511597108 L 2472888.1919075134,1093562.4511597108 L 2472888.1919075134,1093462.4511597108 z M 2469637.133690387,1093324.9323148774 L 2469726.516398124,1093324.9323148774 L 2469726.516398124,1093421.0291029944 L 2469637.133690387,1093421.0291029944 L 2469637.133690387,1093324.9323148774 z M 2468530.886667338,1093387.9421092272 L 2468615.1191831264,1093387.9421092272 L 2468615.1191831264,1093422.2787467693 L 2468530.886667338,1093422.2787467693 L 2468530.886667338,1093387.9421092272 z M 2468707.0847044163,1093663.8802380767 L 2468707.0847044163,1093622.2787467693 L 2468715.1191831264,1093622.2787467693 L 2468815.1191831264,1093622.2787467693 L 2468815.1191831264,1093663.8802380767 L 2468807.0847044163,1093663.8802380767 L 2468707.0847044163,1093663.8802380767 z M 2468807.551844773,1094413.2366186695 L 2468807.551844773,1094313.2366186695 L 2468807.551844773,1094213.2366186695 L 2468807.551844773,1094189.4771573264 L 2468840.0014553466,1094189.4771573264 L 2468840.0014553466,1094289.4771573264 L 2468840.0014553466,1094389.4771573264 L 2468840.0014553466,1094489.4771573264 L 2468940.0014553466,1094489.4771573264 L 2469040.0014553466,1094489.4771573264 L 2469045.866796229,1094489.4771573264 L 2469045.866796229,1094499.134566289 L 2468945.866796229,1094499.134566289 L 2468845.866796229,1094499.134566289 L 2468845.866796229,1094599.134566289 L 2468845.866796229,1094689.3958111433 L 2468834.9081177753,1094689.3958111433 L 2468834.9081177753,1094589.3958111433 L 2468834.9081177753,1094489.3958111433 L 2468807.551844773,1094489.3958111433 L 2468807.551844773,1094413.2366186695 z M 2469673.976337691,1094486.0300353398 L 2469746.7286692057,1094486.0300353398 L 2469746.7286692057,1094518.0416729918 L 2469746.7286692057,1094618.0416729918 L 2469673.976337691,1094618.0416729918 L 2469673.976337691,1094586.0300353398 L 2469673.976337691,1094486.0300353398 z M 2468207.0847044163,1094063.8802380767 L 2468307.0847044163,1094063.8802380767 L 2468307.551844773,1094063.8802380767 L 2468307.551844773,1094113.2366186695 L 2468207.551844773,1094113.2366186695 L 2468207.0847044163,1094113.2366186695 L 2468207.0847044163,1094063.8802380767 z M 2468807.551844773,1094089.4771573264 L 2468807.551844773,1094013.2366186695 L 2468807.551844773,1093913.2366186695 L 2468807.551844773,1093889.4771573264 L 2468840.0014553466,1093889.4771573264 L 2468840.0014553466,1093989.4771573264 L 2468840.0014553466,1094089.4771573264 L 2468807.551844773,1094089.4771573264 z M 2469240.0014553466,1094089.4771573264 L 2469240.0014553466,1094086.0300353398 L 2469273.976337691,1094086.0300353398 L 2469273.976337691,1094186.0300353398 L 2469273.976337691,1094189.4771573264 L 2469240.0014553466,1094189.4771573264 L 2469240.0014553466,1094089.4771573264 z M 2468407.0847044163,1093963.8802380767 L 2468507.0847044163,1093963.8802380767 L 2468507.551844773,1093963.8802380767 L 2468507.551844773,1094013.2366186695 L 2468407.551844773,1094013.2366186695 L 2468407.0847044163,1094013.2366186695 L 2468407.0847044163,1093963.8802380767 z M 2469140.0014553466,1093989.4771573264 L 2469140.0014553466,1093889.4771573264 L 2469140.0014553466,1093886.0300353398 L 2469173.976337691,1093886.0300353398 L 2469173.976337691,1093986.0300353398 L 2469173.976337691,1093989.4771573264 L 2469140.0014553466,1093989.4771573264 z M 2468221.912318721,1094702.292686432 L 2468221.912318721,1094613.2366186695 L 2468234.9081177753,1094613.2366186695 L 2468234.9081177753,1094689.3958111433 L 2468334.9081177753,1094689.3958111433 L 2468334.9081177753,1094789.3958111433 L 2468334.9081177753,1094802.292686432 L 2468321.912318721,1094802.292686432 L 2468321.912318721,1094702.292686432 L 2468221.912318721,1094702.292686432 z M 2468407.551844773,1094513.2366186695 L 2468507.551844773,1094513.2366186695 L 2468534.9081177753,1094513.2366186695 L 2468534.9081177753,1094589.3958111433 L 2468434.9081177753,1094589.3958111433 L 2468407.551844773,1094589.3958111433 L 2468407.551844773,1094513.2366186695 z M 2470446.7286692057,1094718.0416729918 L 2470546.7286692057,1094718.0416729918 L 2470638.958483955,1094718.0416729918 L 2470638.958483955,1094724.6783379468 L 2470538.958483955,1094724.6783379468 L 2470446.7286692057,1094724.6783379468 L 2470446.7286692057,1094718.0416729918 z M 2470646.7286692057,1094618.0416729918 L 2470738.958483955,1094618.0416729918 L 2470738.958483955,1094624.6783379468 L 2470646.7286692057,1094624.6783379468 L 2470646.7286692057,1094618.0416729918 z M 2470746.7286692057,1094524.6783379468 L 2470746.7286692057,1094518.0416729918 L 2470838.958483955,1094518.0416729918 L 2470838.958483955,1094524.6783379468 L 2470746.7286692057,1094524.6783379468 z M 2472967.2711061803,1094401.2742281936 L 2472967.2711061803,1094301.2742281936 L 2473067.2711061803,1094301.2742281936 L 2473167.2711061803,1094301.2742281936 L 2473174.2925762725,1094301.2742281936 L 2473174.2925762725,1094342.1529769504 L 2473074.2925762725,1094342.1529769504 L 2472974.2925762725,1094342.1529769504 L 2472974.2925762725,1094442.1529769504 L 2472974.2925762725,1094477.3478007799 L 2472967.2711061803,1094477.3478007799 L 2472967.2711061803,1094401.2742281936 z M 2472425.9994139047,1094677.3478007799 L 2472425.9994139047,1094601.2742281936 L 2472467.2711061803,1094601.2742281936 L 2472467.2711061803,1094677.3478007799 L 2472425.9994139047,1094677.3478007799 z M 2472667.2711061803,1094677.3478007799 L 2472667.2711061803,1094601.2742281936 L 2472725.9994139047,1094601.2742281936 L 2472725.9994139047,1094677.3478007799 L 2472667.2711061803,1094677.3478007799 z M 2473025.9994139047,1094677.3478007799 L 2473025.9994139047,1094642.1529769504 L 2473074.2925762725,1094642.1529769504 L 2473074.2925762725,1094733.5512380588 L 2473025.9994139047,1094733.5512380588 L 2473025.9994139047,1094677.3478007799 z M 2472325.9994139047,1094577.3478007799 L 2472325.9994139047,1094501.2742281936 L 2472367.2711061803,1094501.2742281936 L 2472367.2711061803,1094577.3478007799 L 2472325.9994139047,1094577.3478007799 z M 2472867.2711061803,1094577.3478007799 L 2472867.2711061803,1094501.2742281936 L 2472925.9994139047,1094501.2742281936 L 2472925.9994139047,1094577.3478007799 L 2472867.2711061803,1094577.3478007799 z M 2472825.9994139047,1094777.3478007799 L 2472874.728450099,1094777.3478007799 L 2472874.728450099,1094833.5512380588 L 2472825.9994139047,1094833.5512380588 L 2472825.9994139047,1094777.3478007799 z M 2472974.728450099,1094833.5512380588 L 2473074.2925762725,1094833.5512380588 L 2473074.2925762725,1094842.1529769504 L 2472974.728450099,1094842.1529769504 L 2472974.728450099,1094833.5512380588 z M 2468424.5701966067,1095453.8060941768 L 2468424.5701966067,1095447.1577765793 L 2468502.545605742,1095447.1577765793 L 2468602.545605742,1095447.1577765793 L 2468702.545605742,1095447.1577765793 L 2468702.545605742,1095493.1277557532 L 2468624.5701966067,1095493.1277557532 L 2468524.5701966067,1095493.1277557532 L 2468428.4786336524,1095493.1277557532 L 2468428.4786336524,1095453.8060941768 L 2468424.5701966067,1095453.8060941768 z M 2468824.5701966067,1095547.1577765793 L 2468902.545605742,1095547.1577765793 L 2469002.545605742,1095547.1577765793 L 2469002.545605742,1095593.1277557532 L 2468924.5701966067,1095593.1277557532 L 2468824.5701966067,1095593.1277557532 L 2468824.5701966067,1095547.1577765793 z M 2468502.545605742,1095247.1577765793 L 2468502.545605742,1095202.292686432 L 2468521.912318721,1095202.292686432 L 2468521.912318721,1095302.292686432 L 2468621.912318721,1095302.292686432 L 2468721.912318721,1095302.292686432 L 2468721.912318721,1095347.1577765793 L 2468702.545605742,1095347.1577765793 L 2468602.545605742,1095347.1577765793 L 2468502.545605742,1095347.1577765793 L 2468502.545605742,1095247.1577765793 z M 2468402.545605742,1095102.292686432 L 2468421.912318721,1095102.292686432 L 2468421.912318721,1095147.1577765793 L 2468402.545605742,1095147.1577765793 L 2468402.545605742,1095102.292686432 z M 2468802.545605742,1095402.292686432 L 2468821.912318721,1095402.292686432 L 2468921.912318721,1095402.292686432 L 2468921.912318721,1095447.1577765793 L 2468902.545605742,1095447.1577765793 L 2468802.545605742,1095447.1577765793 L 2468802.545605742,1095402.292686432 z M 2470019.190363731,1095478.678727382 L 2470019.190363731,1095378.678727382 L 2470086.8841325757,1095378.678727382 L 2470086.8841325757,1095442.120714865 L 2470086.8841325757,1095542.120714865 L 2470019.190363731,1095542.120714865 L 2470019.190363731,1095478.678727382 z M 2470786.8841325757,1095542.120714865 L 2470786.8841325757,1095442.120714865 L 2470686.8841325757,1095442.120714865 L 2470686.8841325757,1095342.120714865 L 2470686.8841325757,1095324.6783379468 L 2470738.958483955,1095324.6783379468 L 2470810.532687199,1095324.6783379468 L 2470811.4713463048,1095343.7851829855 L 2470818.671069439,1095392.321773829 L 2470830.593541775,1095439.918951448 L 2470847.123943385,1095486.1183290035 L 2470868.1030774666,1095530.4749812337 L 2470875.083261581,1095542.120714865 L 2470786.8841325757,1095542.120714865 z M 2470586.8841325757,1095242.120714865 L 2470586.8841325757,1095224.6783379468 L 2470638.958483955,1095224.6783379468 L 2470638.958483955,1095242.120714865 L 2470586.8841325757,1095242.120714865 z M 2469142.4785570106,1095868.649310627 L 2469142.4785570106,1095793.1277557532 L 2469224.5701966067,1095793.1277557532 L 2469224.5701966067,1095868.649310627 L 2469142.4785570106,1095868.649310627 z M 2469124.5701966067,1095647.1577765793 L 2469202.545605742,1095647.1577765793 L 2469302.545605742,1095647.1577765793 L 2469302.545605742,1095693.1277557532 L 2469224.5701966067,1095693.1277557532 L 2469124.5701966067,1095693.1277557532 L 2469124.5701966067,1095647.1577765793 z M 2468828.4786336524,1095753.8060941768 L 2468828.4786336524,1095693.1277557532 L 2468924.5701966067,1095693.1277557532 L 2468924.5701966067,1095753.8060941768 L 2468828.4786336524,1095753.8060941768 z M 2469442.4785570106,1095968.649310627 L 2469442.4785570106,1095893.1277557532 L 2469519.190363731,1095893.1277557532 L 2469519.190363731,1095968.649310627 L 2469442.4785570106,1095968.649310627 z M 2473374.278006699,1096182.0384599282 L 2473374.278006699,1096088.6459361278 L 2473467.1825975,1096088.6459361278 L 2473467.1825975,1096182.0384599282 L 2473374.278006699,1096182.0384599282 z M 2473474.728450099,1095488.6459361278 L 2473474.728450099,1095442.1529769504 L 2473574.278006699,1095442.1529769504 L 2473574.278006699,1095488.6459361278 L 2473474.728450099,1095488.6459361278 z M 2473767.1825975,1095482.0384599282 L 2473767.1825975,1095451.4753271418 L 2473808.5748208077,1095451.4753271418 L 2473808.5748208077,1095482.0384599282 L 2473767.1825975,1095482.0384599282 z M 2474167.1825975,1095551.4753271418 L 2474208.5748208077,1095551.4753271418 L 2474308.5748208077,1095551.4753271418 L 2474408.5748208077,1095551.4753271418 L 2474408.5748208077,1095582.0384599282 L 2474367.1825975,1095582.0384599282 L 2474267.1825975,1095582.0384599282 L 2474167.1825975,1095582.0384599282 L 2474167.1825975,1095551.4753271418 z M 2472974.728450099,1095233.5512380588 L 2472974.728450099,1095142.1529769504 L 2473074.2925762725,1095142.1529769504 L 2473074.2925762725,1095233.5512380588 L 2472974.728450099,1095233.5512380588 z M 2473274.2925762725,1095242.1529769504 L 2473274.728450099,1095242.1529769504 L 2473274.728450099,1095333.5512380588 L 2473274.2925762725,1095333.5512380588 L 2473274.2925762725,1095242.1529769504 z M 2473574.2925762725,1095342.1529769504 L 2473674.2925762725,1095342.1529769504 L 2473708.5748208077,1095342.1529769504 L 2473708.5748208077,1095351.4753271418 L 2473708.5748208077,1095382.0384599282 L 2473667.1825975,1095382.0384599282 L 2473667.1825975,1095388.6459361278 L 2473574.2925762725,1095388.6459361278 L 2473574.2925762725,1095342.1529769504 z M 2473074.728450099,1095788.6459361278 L 2473074.728450099,1095733.5512380588 L 2473174.278006699,1095733.5512380588 L 2473174.278006699,1095788.6459361278 L 2473074.728450099,1095788.6459361278 z M 2473667.1825975,1095782.0384599282 L 2473767.1825975,1095782.0384599282 L 2473867.1825975,1095782.0384599282 L 2473867.1825975,1095882.0384599282 L 2473867.1825975,1095908.9466163442 L 2473795.915971892,1095908.9466163442 L 2473795.915971892,1095808.9466163442 L 2473695.915971892,1095808.9466163442 L 2473695.915971892,1095908.9466163442 L 2473667.1825975,1095908.9466163442 L 2473667.1825975,1095882.0384599282 L 2473667.1825975,1095782.0384599282 z M 2473174.728450099,1095633.5512380588 L 2473274.278006699,1095633.5512380588 L 2473274.278006699,1095688.6459361278 L 2473174.728450099,1095688.6459361278 L 2473174.728450099,1095633.5512380588 z M 2474008.5748208077,1095551.4753271418 L 2474067.1825975,1095551.4753271418 L 2474067.1825975,1095582.0384599282 L 2474008.5748208077,1095582.0384599282 L 2474008.5748208077,1095551.4753271418 z M 2473867.1825975,1095582.0384599282 L 2473867.1825975,1095551.4753271418 L 2473908.5748208077,1095551.4753271418 L 2473908.5748208077,1095582.0384599282 L 2473867.1825975,1095582.0384599282 z M 2473895.915971892,1096008.9466163442 L 2473895.915971892,1095982.0384599282 L 2473967.1825975,1095982.0384599282 L 2473967.1825975,1096008.9466163442 L 2473895.915971892,1096008.9466163442 z M 2473995.915971892,1096108.9466163442 L 2473995.915971892,1096082.0384599282 L 2474067.1825975,1096082.0384599282 L 2474067.1825975,1096108.9466163442 L 2473995.915971892,1096108.9466163442 z M 2471874.278006699,1097188.6459361278 L 2471915.6218594387,1097188.6459361278 L 2471915.6218594387,1097251.6181521325 L 2471874.278006699,1097251.6181521325 L 2471874.278006699,1097188.6459361278 z M 2472015.6218594387,1097188.6459361278 L 2472074.278006699,1097188.6459361278 L 2472074.278006699,1097251.6181521325 L 2472015.6218594387,1097251.6181521325 L 2472015.6218594387,1097188.6459361278 z M 2472474.278006699,1097188.6459361278 L 2472515.6218594387,1097188.6459361278 L 2472515.6218594387,1097251.6181521325 L 2472474.278006699,1097251.6181521325 L 2472474.278006699,1097188.6459361278 z M 2472674.278006699,1097151.6181521325 L 2472674.278006699,1097088.6459361278 L 2472715.6218594387,1097088.6459361278 L 2472715.6218594387,1097151.6181521325 L 2472674.278006699,1097151.6181521325 z M 2473174.278006699,1096588.6459361278 L 2473195.915971892,1096588.6459361278 L 2473195.915971892,1096608.9466163442 L 2473195.915971892,1096708.9466163442 L 2473174.278006699,1096708.9466163442 L 2473174.278006699,1096688.6459361278 L 2473174.278006699,1096588.6459361278 z M 2473274.278006699,1096388.6459361278 L 2473295.915971892,1096388.6459361278 L 2473295.915971892,1096408.9466163442 L 2473295.915971892,1096508.9466163442 L 2473274.278006699,1096508.9466163442 L 2473274.278006699,1096488.6459361278 L 2473274.278006699,1096388.6459361278 z M 2473374.278006699,1096288.6459361278 L 2473374.278006699,1096282.0384599282 L 2473467.1825975,1096282.0384599282 L 2473495.915971892,1096282.0384599282 L 2473495.915971892,1096308.9466163442 L 2473395.915971892,1096308.9466163442 L 2473374.278006699,1096308.9466163442 L 2473374.278006699,1096288.6459361278 z M 2472430.5999051365,1097869.7855217 L 2472529.3423646665,1097869.7855217 L 2472530.5999051365,1097869.7855217 L 2472530.5999051365,1097889.5372759334 L 2472430.5999051365,1097889.5372759334 L 2472430.5999051365,1097869.7855217 z M 2472630.5999051365,1097869.7855217 L 2472729.3423646665,1097869.7855217 L 2472829.3423646665,1097869.7855217 L 2472929.3423646665,1097869.7855217 L 2473029.3423646665,1097869.7855217 L 2473029.3423646665,1097889.5372759334 L 2472930.5999051365,1097889.5372759334 L 2472830.5999051365,1097889.5372759334 L 2472730.5999051365,1097889.5372759334 L 2472630.5999051365,1097889.5372759334 L 2472630.5999051365,1097869.7855217 z M 2472315.6218594387,1097551.6181521325 L 2472415.6218594387,1097551.6181521325 L 2472515.6218594387,1097551.6181521325 L 2472529.3423646665,1097551.6181521325 L 2472529.3423646665,1097569.7855217 L 2472429.3423646665,1097569.7855217 L 2472329.3423646665,1097569.7855217 L 2472315.6218594387,1097569.7855217 L 2472315.6218594387,1097551.6181521325 z M 2472615.6218594387,1097469.7855217 L 2472615.6218594387,1097451.6181521325 L 2472715.6218594387,1097451.6181521325 L 2472729.3423646665,1097451.6181521325 L 2472729.3423646665,1097469.7855217 L 2472629.3423646665,1097469.7855217 L 2472615.6218594387,1097469.7855217 z M 2472115.6218594387,1097351.6181521325 L 2472115.6218594387,1097288.6459361278 L 2472174.278006699,1097288.6459361278 L 2472174.278006699,1097351.6181521325 L 2472115.6218594387,1097351.6181521325 z M 2472274.278006699,1097288.6459361278 L 2472315.6218594387,1097288.6459361278 L 2472315.6218594387,1097351.6181521325 L 2472274.278006699,1097351.6181521325 L 2472274.278006699,1097288.6459361278 z\" /><path fill-rule=\"evenodd\" fill=\"#66cc99\" stroke=\"#555555\" stroke-width=\"94.92468818705684\" opacity=\"0.6\" d=\"M 2476445.3706821674,1092907.7599356212 L 2476345.3706821674,1092907.7599356212 L 2476245.3706821674,1092907.7599356212 L 2476145.3706821674,1092907.7599356212 L 2476145.3706821674,1093007.7599356212 L 2476045.3706821674,1093007.7599356212 L 2475945.3706821674,1093007.7599356212 L 2475945.3706821674,1093107.7599356212 L 2475945.3706821674,1093207.7599356212 L 2475845.3706821674,1093207.7599356212 L 2475845.3706821674,1093283.420328617 L 2475802.973099075,1093283.420328617 L 2475802.973099075,1093383.420328617 L 2475802.973099075,1093483.420328617 L 2475702.973099075,1093483.420328617 L 2475702.973099075,1093583.420328617 L 2475702.973099075,1093683.420328617 L 2475702.973099075,1093783.420328617 L 2475702.973099075,1093883.420328617 L 2475802.973099075,1093883.420328617 L 2475802.973099075,1093983.420328617 L 2475802.973099075,1094083.420328617 L 2475902.973099075,1094083.420328617 L 2476002.973099075,1094083.420328617 L 2476002.973099075,1094183.420328617 L 2476102.973099075,1094183.420328617 L 2476202.973099075,1094183.420328617 L 2476302.973099075,1094183.420328617 L 2476402.973099075,1094183.420328617 L 2476402.973099075,1094083.420328617 L 2476502.973099075,1094083.420328617 L 2476602.973099075,1094083.420328617 L 2476602.973099075,1093983.420328617 L 2476602.973099075,1093883.420328617 L 2476702.973099075,1093883.420328617 L 2476702.973099075,1093807.7599356212 L 2476745.3706821674,1093807.7599356212 L 2476745.3706821674,1093707.7599356212 L 2476745.3706821674,1093607.7599356212 L 2476845.3706821674,1093607.7599356212 L 2476845.3706821674,1093507.7599356212 L 2476845.3706821674,1093407.7599356212 L 2476845.3706821674,1093392.010675067 L 2476916.3653607615,1093392.010675067 L 2476916.3653607615,1093492.010675067 L 2476916.3653607615,1093592.010675067 L 2477016.3653607615,1093592.010675067 L 2477116.3653607615,1093592.010675067 L 2477116.3653607615,1093692.010675067 L 2477216.3653607615,1093692.010675067 L 2477316.3653607615,1093692.010675067 L 2477416.3653607615,1093692.010675067 L 2477516.3653607615,1093692.010675067 L 2477516.3653607615,1093592.010675067 L 2477616.3653607615,1093592.010675067 L 2477716.3653607615,1093592.010675067 L 2477716.3653607615,1093492.010675067 L 2477716.3653607615,1093392.010675067 L 2477816.3653607615,1093392.010675067 L 2477816.3653607615,1093292.010675067 L 2477816.3653607615,1093192.010675067 L 2477816.3653607615,1093092.010675067 L 2477816.3653607615,1092992.010675067 L 2477716.3653607615,1092992.010675067 L 2477716.3653607615,1092892.010675067 L 2477716.3653607615,1092792.010675067 L 2477616.3653607615,1092792.010675067 L 2477516.3653607615,1092792.010675067 L 2477516.3653607615,1092692.010675067 L 2477416.3653607615,1092692.010675067 L 2477316.3653607615,1092692.010675067 L 2477216.3653607615,1092692.010675067 L 2477116.3653607615,1092692.010675067 L 2477116.3653607615,1092792.010675067 L 2477016.3653607615,1092792.010675067 L 2476916.3653607615,1092792.010675067 L 2476916.3653607615,1092892.010675067 L 2476916.3653607615,1092992.010675067 L 2476816.3653607615,1092992.010675067 L 2476816.3653607615,1093092.010675067 L 2476816.3653607615,1093192.010675067 L 2476816.3653607615,1093207.7599356212 L 2476745.3706821674,1093207.7599356212 L 2476745.3706821674,1093107.7599356212 L 2476745.3706821674,1093007.7599356212 L 2476645.3706821674,1093007.7599356212 L 2476545.3706821674,1093007.7599356212 L 2476545.3706821674,1092907.7599356212 L 2476445.3706821674,1092907.7599356212 z\" /><path fill-rule=\"evenodd\" fill=\"#66cc99\" stroke=\"#555555\" stroke-width=\"94.92468818705684\" opacity=\"0.6\" d=\"M 2468124.5701966067,1095293.1277557532 L 2468024.5701966067,1095293.1277557532 L 2468024.5701966067,1095393.1277557532 L 2468124.5701966067,1095393.1277557532 L 2468124.5701966067,1095293.1277557532 z\" /><path fill-rule=\"evenodd\" fill=\"#66cc99\" stroke=\"#555555\" stroke-width=\"94.92468818705684\" opacity=\"0.6\" d=\"M 2468771.723073369,1096527.1775783405 L 2468771.723073369,1096427.1775783405 L 2468671.723073369,1096427.1775783405 L 2468571.723073369,1096427.1775783405 L 2468471.723073369,1096427.1775783405 L 2468371.723073369,1096427.1775783405 L 2468371.723073369,1096527.1775783405 L 2468271.723073369,1096527.1775783405 L 2468171.723073369,1096527.1775783405 L 2468071.723073369,1096527.1775783405 L 2467971.723073369,1096527.1775783405 L 2467871.723073369,1096527.1775783405 L 2467871.723073369,1096627.1775783405 L 2467871.723073369,1096727.1775783405 L 2467971.723073369,1096727.1775783405 L 2468071.723073369,1096727.1775783405 L 2468171.723073369,1096727.1775783405 L 2468171.723073369,1096827.1775783405 L 2468171.723073369,1096927.1775783405 L 2468271.723073369,1096927.1775783405 L 2468371.723073369,1096927.1775783405 L 2468371.723073369,1097027.1775783405 L 2468471.723073369,1097027.1775783405 L 2468571.723073369,1097027.1775783405 L 2468671.723073369,1097027.1775783405 L 2468771.723073369,1097027.1775783405 L 2468771.723073369,1097127.1775783405 L 2468871.723073369,1097127.1775783405 L 2468971.723073369,1097127.1775783405 L 2468971.723073369,1097027.1775783405 L 2468871.723073369,1097027.1775783405 L 2468871.723073369,1096927.1775783405 L 2468871.723073369,1096827.1775783405 L 2468771.723073369,1096827.1775783405 L 2468671.723073369,1096827.1775783405 L 2468671.723073369,1096727.1775783405 L 2468571.723073369,1096727.1775783405 L 2468571.723073369,1096627.1775783405 L 2468671.723073369,1096627.1775783405 L 2468771.723073369,1096627.1775783405 L 2468771.723073369,1096527.1775783405 z\" /><path fill-rule=\"evenodd\" fill=\"#66cc99\" stroke=\"#555555\" stroke-width=\"94.92468818705684\" opacity=\"0.6\" d=\"M 2474476.6168292067,1096141.7001335365 L 2474376.6168292067,1096141.7001335365 L 2474376.6168292067,1096241.7001335365 L 2474276.6168292067,1096241.7001335365 L 2474276.6168292067,1096341.7001335365 L 2474276.6168292067,1096441.7001335365 L 2474376.6168292067,1096441.7001335365 L 2474476.6168292067,1096441.7001335365 L 2474476.6168292067,1096541.7001335365 L 2474576.6168292067,1096541.7001335365 L 2474676.6168292067,1096541.7001335365 L 2474676.6168292067,1096641.7001335365 L 2474776.6168292067,1096641.7001335365 L 2474876.6168292067,1096641.7001335365 L 2474976.6168292067,1096641.7001335365 L 2474976.6168292067,1096541.7001335365 L 2474976.6168292067,1096441.7001335365 L 2474976.6168292067,1096341.7001335365 L 2474976.6168292067,1096241.7001335365 L 2474976.6168292067,1096141.7001335365 L 2474976.6168292067,1096041.7001335365 L 2474876.6168292067,1096041.7001335365 L 2474776.6168292067,1096041.7001335365 L 2474776.6168292067,1095941.7001335365 L 2474676.6168292067,1095941.7001335365 L 2474676.6168292067,1096041.7001335365 L 2474576.6168292067,1096041.7001335365 L 2474576.6168292067,1096141.7001335365 L 2474576.6168292067,1096241.7001335365 L 2474476.6168292067,1096241.7001335365 L 2474476.6168292067,1096141.7001335365 z\" /><path fill-rule=\"evenodd\" fill=\"#66cc99\" stroke=\"#555555\" stroke-width=\"94.92468818705684\" opacity=\"0.6\" d=\"M 2471210.5210135784,1096239.7659159317 L 2471110.5210135784,1096239.7659159317 L 2471110.5210135784,1096339.7659159317 L 2471110.5210135784,1096439.7659159317 L 2471010.5210135784,1096439.7659159317 L 2471010.5210135784,1096539.7659159317 L 2471010.5210135784,1096639.7659159317 L 2471010.5210135784,1096739.7659159317 L 2470910.5210135784,1096739.7659159317 L 2470910.5210135784,1096839.7659159317 L 2470910.5210135784,1096939.7659159317 L 2470910.5210135784,1097039.7659159317 L 2470910.5210135784,1097139.7659159317 L 2470810.5210135784,1097139.7659159317 L 2470810.5210135784,1097239.7659159317 L 2470810.5210135784,1097339.7659159317 L 2470810.5210135784,1097439.7659159317 L 2470710.5210135784,1097439.7659159317 L 2470710.5210135784,1097539.7659159317 L 2470710.5210135784,1097639.7659159317 L 2470710.5210135784,1097739.7659159317 L 2470710.5210135784,1097839.7659159317 L 2470710.5210135784,1097939.7659159317 L 2470710.5210135784,1098039.7659159317 L 2470710.5210135784,1098139.7659159317 L 2470610.5210135784,1098139.7659159317 L 2470610.5210135784,1098239.7659159317 L 2470610.5210135784,1098339.7659159317 L 2470710.5210135784,1098339.7659159317 L 2470710.5210135784,1098239.7659159317 L 2470810.5210135784,1098239.7659159317 L 2470810.5210135784,1098139.7659159317 L 2470810.5210135784,1098039.7659159317 L 2470910.5210135784,1098039.7659159317 L 2470910.5210135784,1097939.7659159317 L 2471010.5210135784,1097939.7659159317 L 2471010.5210135784,1097839.7659159317 L 2471110.5210135784,1097839.7659159317 L 2471110.5210135784,1097739.7659159317 L 2471110.5210135784,1097639.7659159317 L 2471210.5210135784,1097639.7659159317 L 2471210.5210135784,1097539.7659159317 L 2471310.5210135784,1097539.7659159317 L 2471310.5210135784,1097439.7659159317 L 2471310.5210135784,1097339.7659159317 L 2471410.5210135784,1097339.7659159317 L 2471410.5210135784,1097239.7659159317 L 2471510.5210135784,1097239.7659159317 L 2471510.5210135784,1097139.7659159317 L 2471510.5210135784,1097039.7659159317 L 2471610.5210135784,1097039.7659159317 L 2471610.5210135784,1096939.7659159317 L 2471510.5210135784,1096939.7659159317 L 2471410.5210135784,1096939.7659159317 L 2471410.5210135784,1096839.7659159317 L 2471410.5210135784,1096739.7659159317 L 2471410.5210135784,1096639.7659159317 L 2471410.5210135784,1096539.7659159317 L 2471510.5210135784,1096539.7659159317 L 2471610.5210135784,1096539.7659159317 L 2471710.5210135784,1096539.7659159317 L 2471710.5210135784,1096439.7659159317 L 2471810.5210135784,1096439.7659159317 L 2471810.5210135784,1096339.7659159317 L 2471710.5210135784,1096339.7659159317 L 2471610.5210135784,1096339.7659159317 L 2471510.5210135784,1096339.7659159317 L 2471410.5210135784,1096339.7659159317 L 2471410.5210135784,1096239.7659159317 L 2471310.5210135784,1096239.7659159317 L 2471210.5210135784,1096239.7659159317 z\" /><path fill-rule=\"evenodd\" fill=\"#66cc99\" stroke=\"#555555\" stroke-width=\"94.92468818705684\" opacity=\"0.6\" d=\"M 2471017.3373810533,1099218.7746186836 L 2470917.3373810533,1099218.7746186836 L 2470917.3373810533,1099318.7746186836 L 2470817.3373810533,1099318.7746186836 L 2470817.3373810533,1099418.7746186836 L 2470917.3373810533,1099418.7746186836 L 2471017.3373810533,1099418.7746186836 L 2471017.3373810533,1099318.7746186836 L 2471117.3373810533,1099318.7746186836 L 2471117.3373810533,1099218.7746186836 L 2471017.3373810533,1099218.7746186836 z\" /><path fill-rule=\"evenodd\" fill=\"#66cc99\" stroke=\"#555555\" stroke-width=\"94.92468818705684\" opacity=\"0.6\" d=\"M 2471101.9376140707,1102414.3675341692 L 2471101.9376140707,1102514.3675341692 L 2471201.9376140707,1102514.3675341692 L 2471201.9376140707,1102414.3675341692 L 2471101.9376140707,1102414.3675341692 z\" /><path fill-rule=\"evenodd\" fill=\"#66cc99\" stroke=\"#555555\" stroke-width=\"94.92468818705684\" opacity=\"0.6\" d=\"M 2476366.0928137796,1099903.549189075 L 2476366.0928137796,1099803.549189075 L 2476266.0928137796,1099803.549189075 L 2476166.0928137796,1099803.549189075 L 2476066.0928137796,1099803.549189075 L 2475966.0928137796,1099803.549189075 L 2475966.0928137796,1099903.549189075 L 2475866.0928137796,1099903.549189075 L 2475766.0928137796,1099903.549189075 L 2475666.0928137796,1099903.549189075 L 2475666.0928137796,1099803.549189075 L 2475666.0928137796,1099703.549189075 L 2475566.0928137796,1099703.549189075 L 2475466.0928137796,1099703.549189075 L 2475366.0928137796,1099703.549189075 L 2475366.0928137796,1099803.549189075 L 2475266.0928137796,1099803.549189075 L 2475266.0928137796,1099903.549189075 L 2475166.0928137796,1099903.549189075 L 2475066.0928137796,1099903.549189075 L 2475066.0928137796,1100003.549189075 L 2474966.0928137796,1100003.549189075 L 2474966.0928137796,1099903.549189075 L 2474866.0928137796,1099903.549189075 L 2474766.0928137796,1099903.549189075 L 2474766.0928137796,1100003.549189075 L 2474766.0928137796,1100103.549189075 L 2474866.0928137796,1100103.549189075 L 2474866.0928137796,1100203.549189075 L 2474866.0928137796,1100303.549189075 L 2474966.0928137796,1100303.549189075 L 2474966.0928137796,1100403.549189075 L 2475066.0928137796,1100403.549189075 L 2475066.0928137796,1100503.549189075 L 2475166.0928137796,1100503.549189075 L 2475166.0928137796,1100603.549189075 L 2475166.0928137796,1100703.549189075 L 2475266.0928137796,1100703.549189075 L 2475266.0928137796,1100803.549189075 L 2475266.0928137796,1100903.549189075 L 2475366.0928137796,1100903.549189075 L 2475366.0928137796,1101003.549189075 L 2475466.0928137796,1101003.549189075 L 2475466.0928137796,1101103.549189075 L 2475566.0928137796,1101103.549189075 L 2475566.0928137796,1101203.549189075 L 2475666.0928137796,1101203.549189075 L 2475666.0928137796,1101303.549189075 L 2475766.0928137796,1101303.549189075 L 2475766.0928137796,1101403.549189075 L 2475866.0928137796,1101403.549189075 L 2475966.0928137796,1101403.549189075 L 2475966.0928137796,1101503.549189075 L 2476066.0928137796,1101503.549189075 L 2476066.0928137796,1101403.549189075 L 2476166.0928137796,1101403.549189075 L 2476166.0928137796,1101303.549189075 L 2476266.0928137796,1101303.549189075 L 2476266.0928137796,1101203.549189075 L 2476366.0928137796,1101203.549189075 L 2476466.0928137796,1101203.549189075 L 2476466.0928137796,1101103.549189075 L 2476466.0928137796,1101003.549189075 L 2476466.0928137796,1100903.549189075 L 2476466.0928137796,1100803.549189075 L 2476466.0928137796,1100703.549189075 L 2476466.0928137796,1100603.549189075 L 2476466.0928137796,1100503.549189075 L 2476466.0928137796,1100403.549189075 L 2476366.0928137796,1100403.549189075 L 2476366.0928137796,1100303.549189075 L 2476366.0928137796,1100203.549189075 L 2476366.0928137796,1100103.549189075 L 2476366.0928137796,1100003.549189075 L 2476366.0928137796,1099903.549189075 z\" /><path fill-rule=\"evenodd\" fill=\"#66cc99\" stroke=\"#555555\" stroke-width=\"94.92468818705684\" opacity=\"0.6\" d=\"M 2469413.6572126443,1099307.5202796268 L 2469413.6572126443,1099207.5202796268 L 2469313.6572126443,1099207.5202796268 L 2469213.6572126443,1099207.5202796268 L 2469113.6572126443,1099207.5202796268 L 2469013.6572126443,1099207.5202796268 L 2468913.6572126443,1099207.5202796268 L 2468813.6572126443,1099207.5202796268 L 2468813.6572126443,1099307.5202796268 L 2468813.6572126443,1099407.5202796268 L 2468813.6572126443,1099507.5202796268 L 2468813.6572126443,1099607.5202796268 L 2468813.6572126443,1099707.5202796268 L 2468813.6572126443,1099807.5202796268 L 2468813.6572126443,1099907.5202796268 L 2468713.6572126443,1099907.5202796268 L 2468613.6572126443,1099907.5202796268 L 2468513.6572126443,1099907.5202796268 L 2468413.6572126443,1099907.5202796268 L 2468313.6572126443,1099907.5202796268 L 2468213.6572126443,1099907.5202796268 L 2468113.6572126443,1099907.5202796268 L 2468113.6572126443,1100007.5202796268 L 2468113.6572126443,1100107.5202796268 L 2468113.6572126443,1100207.5202796268 L 2468113.6572126443,1100307.5202796268 L 2468213.6572126443,1100307.5202796268 L 2468313.6572126443,1100307.5202796268 L 2468413.6572126443,1100307.5202796268 L 2468513.6572126443,1100307.5202796268 L 2468513.6572126443,1100207.5202796268 L 2468613.6572126443,1100207.5202796268 L 2468713.6572126443,1100207.5202796268 L 2468713.6572126443,1100307.5202796268 L 2468813.6572126443,1100307.5202796268 L 2468913.6572126443,1100307.5202796268 L 2469013.6572126443,1100307.5202796268 L 2469113.6572126443,1100307.5202796268 L 2469213.6572126443,1100307.5202796268 L 2469313.6572126443,1100307.5202796268 L 2469413.6572126443,1100307.5202796268 L 2469413.6572126443,1100207.5202796268 L 2469413.6572126443,1100107.5202796268 L 2469413.6572126443,1100007.5202796268 L 2469413.6572126443,1099907.5202796268 L 2469413.6572126443,1099807.5202796268 L 2469413.6572126443,1099707.5202796268 L 2469413.6572126443,1099607.5202796268 L 2469413.6572126443,1099507.5202796268 L 2469413.6572126443,1099407.5202796268 L 2469413.6572126443,1099307.5202796268 z\" /><path fill-rule=\"evenodd\" fill=\"#66cc99\" stroke=\"#555555\" stroke-width=\"94.92468818705684\" opacity=\"0.6\" d=\"M 2469687.6942494838,1098197.6601646023 L 2469687.6942494838,1098097.6601646023 L 2469587.6942494838,1098097.6601646023 L 2469587.6942494838,1098197.6601646023 L 2469587.6942494838,1098297.6601646023 L 2469587.6942494838,1098397.6601646023 L 2469487.6942494838,1098397.6601646023 L 2469487.6942494838,1098497.6601646023 L 2469487.6942494838,1098597.6601646023 L 2469487.6942494838,1098697.6601646023 L 2469487.6942494838,1098797.6601646023 L 2469487.6942494838,1098897.6601646023 L 2469587.6942494838,1098897.6601646023 L 2469687.6942494838,1098897.6601646023 L 2469687.6942494838,1098931.0302440461 L 2469619.621883992,1098931.0302440461 L 2469519.621883992,1098931.0302440461 L 2469519.621883992,1099031.0302440461 L 2469519.621883992,1099131.0302440461 L 2469419.621883992,1099131.0302440461 L 2469419.621883992,1099231.0302440461 L 2469419.621883992,1099331.0302440461 L 2469419.621883992,1099431.0302440461 L 2469419.621883992,1099531.0302440461 L 2469419.621883992,1099631.0302440461 L 2469419.621883992,1099731.0302440461 L 2469419.621883992,1099831.0302440461 L 2469436.896415206,1099831.0302440461 L 2469436.896415206,1099911.6681396803 L 2469436.896415206,1100011.6681396803 L 2469436.896415206,1100111.6681396803 L 2469436.896415206,1100211.6681396803 L 2469436.896415206,1100311.6681396803 L 2469436.896415206,1100411.6681396803 L 2469336.896415206,1100411.6681396803 L 2469336.896415206,1100511.6681396803 L 2469336.896415206,1100611.6681396803 L 2469336.896415206,1100711.6681396803 L 2469336.896415206,1100811.6681396803 L 2469336.896415206,1100911.6681396803 L 2469336.896415206,1101011.6681396803 L 2469336.896415206,1101111.6681396803 L 2469336.896415206,1101211.6681396803 L 2469336.896415206,1101311.6681396803 L 2469336.896415206,1101411.6681396803 L 2469336.896415206,1101511.6681396803 L 2469336.896415206,1101611.6681396803 L 2469436.896415206,1101611.6681396803 L 2469536.896415206,1101611.6681396803 L 2469536.896415206,1101511.6681396803 L 2469636.896415206,1101511.6681396803 L 2469636.896415206,1101411.6681396803 L 2469636.896415206,1101311.6681396803 L 2469736.896415206,1101311.6681396803 L 2469836.896415206,1101311.6681396803 L 2469836.896415206,1101211.6681396803 L 2469936.896415206,1101211.6681396803 L 2470001.9376140707,1101211.6681396803 L 2470001.9376140707,1101214.3675341692 L 2470001.9376140707,1101314.3675341692 L 2470001.9376140707,1101414.3675341692 L 2470101.9376140707,1101414.3675341692 L 2470101.9376140707,1101514.3675341692 L 2470101.9376140707,1101614.3675341692 L 2470101.9376140707,1101714.3675341692 L 2470101.9376140707,1101814.3675341692 L 2470101.9376140707,1101914.3675341692 L 2470201.9376140707,1101914.3675341692 L 2470201.9376140707,1102014.3675341692 L 2470301.9376140707,1102014.3675341692 L 2470401.9376140707,1102014.3675341692 L 2470501.9376140707,1102014.3675341692 L 2470501.9376140707,1102114.3675341692 L 2470601.9376140707,1102114.3675341692 L 2470701.9376140707,1102114.3675341692 L 2470801.9376140707,1102114.3675341692 L 2470801.9376140707,1102214.3675341692 L 2470901.9376140707,1102214.3675341692 L 2471001.9376140707,1102214.3675341692 L 2471001.9376140707,1102314.3675341692 L 2471001.9376140707,1102414.3675341692 L 2471101.9376140707,1102414.3675341692 L 2471101.9376140707,1102314.3675341692 L 2471101.9376140707,1102214.3675341692 L 2471101.9376140707,1102114.3675341692 L 2471101.9376140707,1102014.3675341692 L 2471001.9376140707,1102014.3675341692 L 2471001.9376140707,1101914.3675341692 L 2471001.9376140707,1101814.3675341692 L 2470901.9376140707,1101814.3675341692 L 2470901.9376140707,1101714.3675341692 L 2470901.9376140707,1101614.3675341692 L 2470901.9376140707,1101514.3675341692 L 2470901.9376140707,1101414.3675341692 L 2470901.9376140707,1101314.3675341692 L 2470801.9376140707,1101314.3675341692 L 2470801.9376140707,1101214.3675341692 L 2470801.9376140707,1101114.3675341692 L 2470801.9376140707,1101014.3675341692 L 2470801.9376140707,1100914.3675341692 L 2470701.9376140707,1100914.3675341692 L 2470701.9376140707,1100814.3675341692 L 2470701.9376140707,1100714.3675341692 L 2470701.9376140707,1100614.3675341692 L 2470701.9376140707,1100601.7674444653 L 2470745.0487899706,1100601.7674444653 L 2470845.0487899706,1100601.7674444653 L 2470945.0487899706,1100601.7674444653 L 2471045.0487899706,1100601.7674444653 L 2471145.0487899706,1100601.7674444653 L 2471245.0487899706,1100601.7674444653 L 2471345.0487899706,1100601.7674444653 L 2471445.0487899706,1100601.7674444653 L 2471545.0487899706,1100601.7674444653 L 2471645.0487899706,1100601.7674444653 L 2471745.0487899706,1100601.7674444653 L 2471745.0487899706,1100501.7674444653 L 2471745.0487899706,1100401.7674444653 L 2471745.0487899706,1100301.7674444653 L 2471745.0487899706,1100256.0631884017 L 2471825.1091566286,1100256.0631884017 L 2471825.1091566286,1100356.0631884017 L 2471925.1091566286,1100356.0631884017 L 2472025.1091566286,1100356.0631884017 L 2472125.1091566286,1100356.0631884017 L 2472125.1091566286,1100456.0631884017 L 2472225.1091566286,1100456.0631884017 L 2472325.1091566286,1100456.0631884017 L 2472425.1091566286,1100456.0631884017 L 2472425.1091566286,1100556.0631884017 L 2472525.1091566286,1100556.0631884017 L 2472525.1091566286,1100456.0631884017 L 2472525.1091566286,1100356.0631884017 L 2472425.1091566286,1100356.0631884017 L 2472425.1091566286,1100256.0631884017 L 2472425.1091566286,1100156.0631884017 L 2472425.1091566286,1100056.0631884017 L 2472425.1091566286,1099956.0631884017 L 2472525.1091566286,1099956.0631884017 L 2472525.1091566286,1099856.0631884017 L 2472525.1091566286,1099756.0631884017 L 2472525.1091566286,1099656.0631884017 L 2472625.1091566286,1099656.0631884017 L 2472625.1091566286,1099556.0631884017 L 2472625.1091566286,1099456.0631884017 L 2472625.1091566286,1099356.0631884017 L 2472625.1091566286,1099256.0631884017 L 2472725.1091566286,1099256.0631884017 L 2472725.1091566286,1099156.0631884017 L 2472625.1091566286,1099156.0631884017 L 2472525.1091566286,1099156.0631884017 L 2472425.1091566286,1099156.0631884017 L 2472425.1091566286,1099056.0631884017 L 2472325.1091566286,1099056.0631884017 L 2472225.1091566286,1099056.0631884017 L 2472225.1091566286,1099156.0631884017 L 2472125.1091566286,1099156.0631884017 L 2472025.1091566286,1099156.0631884017 L 2472025.1091566286,1099056.0631884017 L 2471925.1091566286,1099056.0631884017 L 2471925.1091566286,1099156.0631884017 L 2471925.1091566286,1099256.0631884017 L 2471917.3373810533,1099256.0631884017 L 2471917.3373810533,1099218.7746186836 L 2471917.3373810533,1099118.7746186836 L 2471917.3373810533,1099018.7746186836 L 2471817.3373810533,1099018.7746186836 L 2471717.3373810533,1099018.7746186836 L 2471617.3373810533,1099018.7746186836 L 2471617.3373810533,1098918.7746186836 L 2471517.3373810533,1098918.7746186836 L 2471417.3373810533,1098918.7746186836 L 2471317.3373810533,1098918.7746186836 L 2471317.3373810533,1098818.7746186836 L 2471217.3373810533,1098818.7746186836 L 2471217.3373810533,1098918.7746186836 L 2471117.3373810533,1098918.7746186836 L 2471117.3373810533,1099018.7746186836 L 2471117.3373810533,1099118.7746186836 L 2471117.3373810533,1099218.7746186836 L 2471217.3373810533,1099218.7746186836 L 2471217.3373810533,1099318.7746186836 L 2471217.3373810533,1099418.7746186836 L 2471317.3373810533,1099418.7746186836 L 2471317.3373810533,1099518.7746186836 L 2471217.3373810533,1099518.7746186836 L 2471217.3373810533,1099618.7746186836 L 2471117.3373810533,1099618.7746186836 L 2471117.3373810533,1099718.7746186836 L 2471017.3373810533,1099718.7746186836 L 2471017.3373810533,1099801.7674444653 L 2470945.0487899706,1099801.7674444653 L 2470845.0487899706,1099801.7674444653 L 2470745.0487899706,1099801.7674444653 L 2470645.0487899706,1099801.7674444653 L 2470545.0487899706,1099801.7674444653 L 2470545.0487899706,1099901.7674444653 L 2470545.0487899706,1100001.7674444653 L 2470545.0487899706,1100101.7674444653 L 2470645.0487899706,1100101.7674444653 L 2470645.0487899706,1100201.7674444653 L 2470645.0487899706,1100301.7674444653 L 2470645.0487899706,1100401.7674444653 L 2470645.0487899706,1100414.3675341692 L 2470601.9376140707,1100414.3675341692 L 2470601.9376140707,1100314.3675341692 L 2470501.9376140707,1100314.3675341692 L 2470501.9376140707,1100214.3675341692 L 2470401.9376140707,1100214.3675341692 L 2470301.9376140707,1100214.3675341692 L 2470201.9376140707,1100214.3675341692 L 2470101.9376140707,1100214.3675341692 L 2470036.896415206,1100214.3675341692 L 2470036.896415206,1100211.6681396803 L 2470136.896415206,1100211.6681396803 L 2470236.896415206,1100211.6681396803 L 2470336.896415206,1100211.6681396803 L 2470436.896415206,1100211.6681396803 L 2470536.896415206,1100211.6681396803 L 2470536.896415206,1100111.6681396803 L 2470536.896415206,1100011.6681396803 L 2470536.896415206,1099911.6681396803 L 2470536.896415206,1099811.6681396803 L 2470519.621883992,1099811.6681396803 L 2470519.621883992,1099731.0302440461 L 2470519.621883992,1099631.0302440461 L 2470419.621883992,1099631.0302440461 L 2470419.621883992,1099531.0302440461 L 2470419.621883992,1099431.0302440461 L 2470419.621883992,1099331.0302440461 L 2470419.621883992,1099231.0302440461 L 2470519.621883992,1099231.0302440461 L 2470519.621883992,1099131.0302440461 L 2470519.621883992,1099031.0302440461 L 2470519.621883992,1098997.6601646023 L 2470587.6942494838,1098997.6601646023 L 2470587.6942494838,1098897.6601646023 L 2470587.6942494838,1098797.6601646023 L 2470587.6942494838,1098697.6601646023 L 2470587.6942494838,1098597.6601646023 L 2470587.6942494838,1098497.6601646023 L 2470587.6942494838,1098397.6601646023 L 2470487.6942494838,1098397.6601646023 L 2470387.6942494838,1098397.6601646023 L 2470387.6942494838,1098297.6601646023 L 2470287.6942494838,1098297.6601646023 L 2470187.6942494838,1098297.6601646023 L 2470087.6942494838,1098297.6601646023 L 2470087.6942494838,1098197.6601646023 L 2469987.6942494838,1098197.6601646023 L 2469887.6942494838,1098197.6601646023 L 2469787.6942494838,1098197.6601646023 L 2469687.6942494838,1098197.6601646023 z M 2471717.3373810533,1099518.7746186836 L 2471725.1091566286,1099518.7746186836 L 2471725.1091566286,1099556.0631884017 L 2471725.1091566286,1099656.0631884017 L 2471825.1091566286,1099656.0631884017 L 2471825.1091566286,1099756.0631884017 L 2471825.1091566286,1099856.0631884017 L 2471825.1091566286,1099956.0631884017 L 2471745.0487899706,1099956.0631884017 L 2471745.0487899706,1099901.7674444653 L 2471745.0487899706,1099801.7674444653 L 2471745.0487899706,1099701.7674444653 L 2471717.3373810533,1099701.7674444653 L 2471717.3373810533,1099618.7746186836 L 2471717.3373810533,1099518.7746186836 z M 2471817.3373810533,1099318.7746186836 L 2471825.1091566286,1099318.7746186836 L 2471825.1091566286,1099356.0631884017 L 2471825.1091566286,1099456.0631884017 L 2471817.3373810533,1099456.0631884017 L 2471817.3373810533,1099418.7746186836 L 2471817.3373810533,1099318.7746186836 z M 2471317.3373810533,1099718.7746186836 L 2471417.3373810533,1099718.7746186836 L 2471517.3373810533,1099718.7746186836 L 2471545.0487899706,1099718.7746186836 L 2471545.0487899706,1099801.7674444653 L 2471445.0487899706,1099801.7674444653 L 2471345.0487899706,1099801.7674444653 L 2471317.3373810533,1099801.7674444653 L 2471317.3373810533,1099718.7746186836 z M 2470119.621883992,1098931.0302440461 L 2470119.621883992,1098897.6601646023 L 2470187.6942494838,1098897.6601646023 L 2470287.6942494838,1098897.6601646023 L 2470387.6942494838,1098897.6601646023 L 2470487.6942494838,1098897.6601646023 L 2470487.6942494838,1098931.0302440461 L 2470419.621883992,1098931.0302440461 L 2470319.621883992,1098931.0302440461 L 2470219.621883992,1098931.0302440461 L 2470119.621883992,1098931.0302440461 z M 2469987.6942494838,1098797.6601646023 L 2470087.6942494838,1098797.6601646023 L 2470087.6942494838,1098831.0302440461 L 2470019.621883992,1098831.0302440461 L 2469987.6942494838,1098831.0302440461 L 2469987.6942494838,1098797.6601646023 z\" /><path fill-rule=\"evenodd\" fill=\"#66cc99\" stroke=\"#555555\" stroke-width=\"94.92468818705684\" opacity=\"0.6\" d=\"M 2467128.6590333274,1097861.1852609497 L 2467128.6590333274,1097761.1852609497 L 2467028.6590333274,1097761.1852609497 L 2466928.6590333274,1097761.1852609497 L 2466828.6590333274,1097761.1852609497 L 2466728.6590333274,1097761.1852609497 L 2466728.6590333274,1097861.1852609497 L 2466628.6590333274,1097861.1852609497 L 2466528.6590333274,1097861.1852609497 L 2466528.6590333274,1097961.1852609497 L 2466528.6590333274,1098061.1852609497 L 2466428.6590333274,1098061.1852609497 L 2466428.6590333274,1098161.1852609497 L 2466428.6590333274,1098261.1852609497 L 2466428.6590333274,1098361.1852609497 L 2466428.6590333274,1098461.1852609497 L 2466528.6590333274,1098461.1852609497 L 2466528.6590333274,1098561.1852609497 L 2466528.6590333274,1098661.1852609497 L 2466628.6590333274,1098661.1852609497 L 2466728.6590333274,1098661.1852609497 L 2466728.6590333274,1098761.1852609497 L 2466828.6590333274,1098761.1852609497 L 2466928.6590333274,1098761.1852609497 L 2467028.6590333274,1098761.1852609497 L 2467128.6590333274,1098761.1852609497 L 2467128.6590333274,1098661.1852609497 L 2467228.6590333274,1098661.1852609497 L 2467328.6590333274,1098661.1852609497 L 2467328.6590333274,1098561.1852609497 L 2467328.6590333274,1098461.1852609497 L 2467428.6590333274,1098461.1852609497 L 2467428.6590333274,1098361.1852609497 L 2467428.6590333274,1098261.1852609497 L 2467428.6590333274,1098161.1852609497 L 2467428.6590333274,1098061.1852609497 L 2467328.6590333274,1098061.1852609497 L 2467328.6590333274,1097961.1852609497 L 2467328.6590333274,1097861.1852609497 L 2467228.6590333274,1097861.1852609497 L 2467128.6590333274,1097861.1852609497 z\" /></g></g></svg>"
      ],
      "text/plain": [
       "<shapely.geometry.multipolygon.MultiPolygon at 0x7efbed91d7f0>"
      ]
     },
     "execution_count": 571,
     "metadata": {},
     "output_type": "execute_result"
    }
   ],
   "source": [
    "cascaded_union(raster_rper.centroid.apply(lambda x: gis.centroid2grid(x.coords[0],hs.raster_resolution)).tolist()+\n",
    "               [Point(raster_centroid).buffer(500), \n",
    "                Point(raster_mass_centroid).buffer(500)])"
   ]
  },
  {
   "cell_type": "code",
   "execution_count": 572,
   "metadata": {
    "ExecuteTime": {
     "end_time": "2019-11-24T03:51:01.933277Z",
     "start_time": "2019-11-24T03:51:01.676770Z"
    }
   },
   "outputs": [],
   "source": [
    "# rasterize pairwise and to centroid distance\n",
    "pairwise_dist_square_avg = ftrs_hs.avg_dist_square(raster_rper)\n",
    "d2centroid = cdist(raster_rper_centroids, [raster_centroid])[:,0]\n",
    "d2centroid_avg = d2centroid.mean()\n",
    "d2mass_centroid = cdist(raster_rper_centroids, [raster_mass_centroid])[:,0]\n",
    "d2mass_centroid_avg = d2mass_centroid.mean()"
   ]
  },
  {
   "cell_type": "code",
   "execution_count": 573,
   "metadata": {
    "ExecuteTime": {
     "end_time": "2019-11-24T03:51:02.023476Z",
     "start_time": "2019-11-24T03:51:02.006372Z"
    }
   },
   "outputs": [
    {
     "data": {
      "text/plain": [
       "30663938.73862413"
      ]
     },
     "execution_count": 573,
     "metadata": {},
     "output_type": "execute_result"
    }
   ],
   "source": [
    "pairwise_dist_square_avg"
   ]
  },
  {
   "cell_type": "code",
   "execution_count": 574,
   "metadata": {
    "ExecuteTime": {
     "end_time": "2019-11-24T03:51:02.476073Z",
     "start_time": "2019-11-24T03:51:02.459010Z"
    }
   },
   "outputs": [
    {
     "data": {
      "text/plain": [
       "3600.62887865317"
      ]
     },
     "execution_count": 574,
     "metadata": {},
     "output_type": "execute_result"
    }
   ],
   "source": [
    "d2centroid_avg"
   ]
  },
  {
   "cell_type": "code",
   "execution_count": 575,
   "metadata": {
    "ExecuteTime": {
     "end_time": "2019-11-24T03:51:02.709059Z",
     "start_time": "2019-11-24T03:51:02.691391Z"
    }
   },
   "outputs": [
    {
     "data": {
      "text/plain": [
       "array([3064.40345816, 2966.7441234 , 2946.4999838 , ..., 6481.20798119,\n",
       "       6573.24251992, 6665.50654908])"
      ]
     },
     "execution_count": 575,
     "metadata": {},
     "output_type": "execute_result"
    }
   ],
   "source": [
    "d2mass_centroid"
   ]
  },
  {
   "cell_type": "code",
   "execution_count": 576,
   "metadata": {
    "ExecuteTime": {
     "end_time": "2019-11-24T03:51:03.112115Z",
     "start_time": "2019-11-24T03:51:03.084519Z"
    }
   },
   "outputs": [],
   "source": [
    "\n",
    "ref_circle_radius = np.sqrt(raster_rper.Area.sum() / np.pi)\n",
    "coh = ftrs_hs.cohesion(ref_circle_radius, pairwise_dist_square_avg)\n",
    "prox = ftrs_hs.proximity(ref_circle_radius, d2centroid_avg)\n",
    "nmi = ftrs_hs.moment_inertia(raster_rper.Area, d2centroid)\n",
    "nmmi = ftrs_hs.mass_moment_inertia(raster_rper, d2centroid)"
   ]
  },
  {
   "cell_type": "code",
   "execution_count": 556,
   "metadata": {
    "ExecuteTime": {
     "end_time": "2019-11-24T03:49:10.824496Z",
     "start_time": "2019-11-24T03:49:10.807399Z"
    }
   },
   "outputs": [
    {
     "data": {
      "text/plain": [
       "(0.7342012537050522,\n",
       " 0.8592783143605415,\n",
       " 0.7342471235606016,\n",
       " 0.6531041491317425)"
      ]
     },
     "execution_count": 556,
     "metadata": {},
     "output_type": "execute_result"
    }
   ],
   "source": [
    "coh, prox, nmi,nmmi"
   ]
  },
  {
   "cell_type": "markdown",
   "metadata": {},
   "source": [
    "## visulization"
   ]
  },
  {
   "cell_type": "code",
   "execution_count": 66,
   "metadata": {
    "ExecuteTime": {
     "end_time": "2019-11-21T20:04:06.121169Z",
     "start_time": "2019-11-21T20:04:06.099935Z"
    }
   },
   "outputs": [],
   "source": [
    "import src.utils.map_vis as mvis"
   ]
  },
  {
   "cell_type": "code",
   "execution_count": 67,
   "metadata": {
    "ExecuteTime": {
     "end_time": "2019-11-21T20:05:41.630416Z",
     "start_time": "2019-11-21T20:05:41.603061Z"
    }
   },
   "outputs": [],
   "source": [
    "raster_rper['color'] = raster_rper.Mass/raster_rper.Mass.max()\n",
    "\n",
    "\n",
    "print('building map')\n",
    "m = folium.Map(location=[mex.clat, mex.clon], zoom_start=5)\n",
    "mvis.geojson_per_row_color_col(\n",
    "    raster_rper.to_crs(epsg=4326), name='raster_rper', \n",
    "    tip_cols=['ageb_id', 'Mass', 'color'], color_col='color', some_map=m)\n",
    "\n",
    "\n",
    "folium.LayerControl().add_to(m)\n",
    "m.save('raster_rper.html')"
   ]
  }
 ],
 "metadata": {
  "kernelspec": {
   "display_name": "Python [conda env:mob2crime]",
   "language": "python",
   "name": "conda-env-mob2crime-py"
  },
  "language_info": {
   "codemirror_mode": {
    "name": "ipython",
    "version": 3
   },
   "file_extension": ".py",
   "mimetype": "text/x-python",
   "name": "python",
   "nbconvert_exporter": "python",
   "pygments_lexer": "ipython3",
   "version": "3.7.3"
  },
  "toc": {
   "base_numbering": 1,
   "nav_menu": {},
   "number_sections": true,
   "sideBar": true,
   "skip_h1_title": false,
   "title_cell": "Table of Contents",
   "title_sidebar": "Contents",
   "toc_cell": false,
   "toc_position": {},
   "toc_section_display": true,
   "toc_window_display": true
  }
 },
 "nbformat": 4,
 "nbformat_minor": 2
}
