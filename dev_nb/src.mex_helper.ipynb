{
 "cells": [
  {
   "cell_type": "code",
   "execution_count": 1,
   "metadata": {},
   "outputs": [
    {
     "data": {
      "text/plain": [
       "'/home/Jiahui/mob2crime'"
      ]
     },
     "execution_count": 1,
     "metadata": {},
     "output_type": "execute_result"
    }
   ],
   "source": [
    "% load_ext autoreload\n",
    "% autoreload 2\n",
    "import os\n",
    "\n",
    "if not os.getcwd().endswith('mob2crime'):\n",
    "    os.chdir('..')\n",
    "os.getcwd()"
   ]
  },
  {
   "cell_type": "code",
   "execution_count": 2,
   "metadata": {},
   "outputs": [],
   "source": [
    "%matplotlib inline"
   ]
  },
  {
   "cell_type": "code",
   "execution_count": 4,
   "metadata": {},
   "outputs": [],
   "source": [
    "from src.mex_helper import *\n",
    "from src.utils.gis import *"
   ]
  },
  {
   "cell_type": "markdown",
   "metadata": {},
   "source": [
    "# tower vor"
   ]
  },
  {
   "cell_type": "code",
   "execution_count": 7,
   "metadata": {},
   "outputs": [],
   "source": [
    "tvor = tower_vor('cities', False)"
   ]
  },
  {
   "cell_type": "code",
   "execution_count": 9,
   "metadata": {},
   "outputs": [],
   "source": [
    "tvor2 = tower_vor('cities', True)"
   ]
  },
  {
   "cell_type": "code",
   "execution_count": 68,
   "metadata": {},
   "outputs": [
    {
     "data": {
      "text/html": [
       "<div>\n",
       "<style scoped>\n",
       "    .dataframe tbody tr th:only-of-type {\n",
       "        vertical-align: middle;\n",
       "    }\n",
       "\n",
       "    .dataframe tbody tr th {\n",
       "        vertical-align: top;\n",
       "    }\n",
       "\n",
       "    .dataframe thead th {\n",
       "        text-align: right;\n",
       "    }\n",
       "</style>\n",
       "<table border=\"1\" class=\"dataframe\">\n",
       "  <thead>\n",
       "    <tr style=\"text-align: right;\">\n",
       "      <th></th>\n",
       "      <th>city</th>\n",
       "      <th>geometry</th>\n",
       "      <th>gtid</th>\n",
       "      <th>iarea</th>\n",
       "      <th>gtid_area</th>\n",
       "      <th>weight</th>\n",
       "    </tr>\n",
       "  </thead>\n",
       "  <tbody>\n",
       "    <tr>\n",
       "      <th>330</th>\n",
       "      <td>Acapulco de Juárez, Guerrero</td>\n",
       "      <td>POLYGON ((-99.51699262264229 16.87102362215264...</td>\n",
       "      <td>2EE075F9-2EE075FA</td>\n",
       "      <td>1.359184e+08</td>\n",
       "      <td>1.359184e+08</td>\n",
       "      <td>1.0</td>\n",
       "    </tr>\n",
       "  </tbody>\n",
       "</table>\n",
       "</div>"
      ],
      "text/plain": [
       "                             city  \\\n",
       "330  Acapulco de Juárez, Guerrero   \n",
       "\n",
       "                                              geometry               gtid  \\\n",
       "330  POLYGON ((-99.51699262264229 16.87102362215264...  2EE075F9-2EE075FA   \n",
       "\n",
       "            iarea     gtid_area  weight  \n",
       "330  1.359184e+08  1.359184e+08     1.0  "
      ]
     },
     "execution_count": 68,
     "metadata": {},
     "output_type": "execute_result"
    }
   ],
   "source": [
    "tvor2[tvor2.gtid=='2EE075F9-2EE075FA']"
   ]
  },
  {
   "cell_type": "code",
   "execution_count": 69,
   "metadata": {},
   "outputs": [
    {
     "data": {
      "text/html": [
       "<div>\n",
       "<style scoped>\n",
       "    .dataframe tbody tr th:only-of-type {\n",
       "        vertical-align: middle;\n",
       "    }\n",
       "\n",
       "    .dataframe tbody tr th {\n",
       "        vertical-align: top;\n",
       "    }\n",
       "\n",
       "    .dataframe thead th {\n",
       "        text-align: right;\n",
       "    }\n",
       "</style>\n",
       "<table border=\"1\" class=\"dataframe\">\n",
       "  <thead>\n",
       "    <tr style=\"text-align: right;\">\n",
       "      <th></th>\n",
       "      <th>city</th>\n",
       "      <th>geometry</th>\n",
       "      <th>gtid</th>\n",
       "      <th>iarea</th>\n",
       "      <th>gtid_area</th>\n",
       "      <th>weight</th>\n",
       "    </tr>\n",
       "  </thead>\n",
       "  <tbody>\n",
       "    <tr>\n",
       "      <th>330</th>\n",
       "      <td>Acapulco de Juárez, Guerrero</td>\n",
       "      <td>POLYGON ((-99.51699262264229 16.87102362215264...</td>\n",
       "      <td>2EE075F9-2EE075FA</td>\n",
       "      <td>1.359184e+08</td>\n",
       "      <td>NaN</td>\n",
       "      <td>NaN</td>\n",
       "    </tr>\n",
       "  </tbody>\n",
       "</table>\n",
       "</div>"
      ],
      "text/plain": [
       "                             city  \\\n",
       "330  Acapulco de Juárez, Guerrero   \n",
       "\n",
       "                                              geometry               gtid  \\\n",
       "330  POLYGON ((-99.51699262264229 16.87102362215264...  2EE075F9-2EE075FA   \n",
       "\n",
       "            iarea  gtid_area  weight  \n",
       "330  1.359184e+08        NaN     NaN  "
      ]
     },
     "execution_count": 69,
     "metadata": {},
     "output_type": "execute_result"
    }
   ],
   "source": [
    "tvor[tvor.gtid=='2EE075F9-2EE075FA']"
   ]
  },
  {
   "cell_type": "markdown",
   "metadata": {},
   "source": [
    "# tower2grid"
   ]
  },
  {
   "cell_type": "code",
   "execution_count": 6,
   "metadata": {},
   "outputs": [
    {
     "name": "stdout",
     "output_type": "stream",
     "text": [
      "keep tower voronoi within cities\n",
      "reading existing grids\n",
      "building tower to grid mapping\n",
      "saving tower to grid mapping: data/mex_t2g_cities_1000m.csv\n",
      "CPU times: user 3min, sys: 224 ms, total: 3min 1s\n",
      "Wall time: 3min 1s\n"
     ]
    }
   ],
   "source": [
    "%%time\n",
    "t2g = tower2grid('cities', 1000, t2r_intxn_only=False)"
   ]
  },
  {
   "cell_type": "code",
   "execution_count": 11,
   "metadata": {},
   "outputs": [
    {
     "name": "stdout",
     "output_type": "stream",
     "text": [
      "reading existing t2g file: data/mex_t2g_cities_1000m.csv\n"
     ]
    }
   ],
   "source": [
    "t2g_read = tower2grid('cities', 1000, t2r_intxn_only=False)"
   ]
  },
  {
   "cell_type": "code",
   "execution_count": 14,
   "metadata": {},
   "outputs": [
    {
     "data": {
      "text/plain": [
       "gtid      1.000000\n",
       "grid      1.000000\n",
       "weight    0.654319\n",
       "dtype: float64"
      ]
     },
     "execution_count": 14,
     "metadata": {},
     "output_type": "execute_result"
    }
   ],
   "source": [
    "(t2g_read==t2g).mean()"
   ]
  },
  {
   "cell_type": "code",
   "execution_count": 67,
   "metadata": {},
   "outputs": [
    {
     "data": {
      "text/plain": [
       "0.99700899558685763"
      ]
     },
     "execution_count": 67,
     "metadata": {},
     "output_type": "execute_result"
    }
   ],
   "source": [
    "pd.np.isclose(t2g_read.weight, t2g.weight).mean()"
   ]
  },
  {
   "cell_type": "code",
   "execution_count": 64,
   "metadata": {},
   "outputs": [
    {
     "data": {
      "text/plain": [
       "gtid      2EE075F9-2EE075FA\n",
       "grid                  42512\n",
       "weight                  NaN\n",
       "Name: 54684, dtype: object"
      ]
     },
     "execution_count": 64,
     "metadata": {},
     "output_type": "execute_result"
    }
   ],
   "source": [
    "t2g.loc[54684]"
   ]
  },
  {
   "cell_type": "code",
   "execution_count": 66,
   "metadata": {},
   "outputs": [
    {
     "data": {
      "text/plain": [
       "gtid      2EE075F9-2EE075FA\n",
       "grid                  42512\n",
       "weight                  NaN\n",
       "Name: 54684, dtype: object"
      ]
     },
     "execution_count": 66,
     "metadata": {},
     "output_type": "execute_result"
    }
   ],
   "source": [
    "t2g_read.loc[54684]"
   ]
  },
  {
   "cell_type": "code",
   "execution_count": 63,
   "metadata": {
    "scrolled": true
   },
   "outputs": [
    {
     "data": {
      "text/plain": [
       "54684   NaN\n",
       "54685   NaN\n",
       "54686   NaN\n",
       "54687   NaN\n",
       "54688   NaN\n",
       "54689   NaN\n",
       "54690   NaN\n",
       "54691   NaN\n",
       "54692   NaN\n",
       "54693   NaN\n",
       "54694   NaN\n",
       "54695   NaN\n",
       "54696   NaN\n",
       "54697   NaN\n",
       "54698   NaN\n",
       "54699   NaN\n",
       "54700   NaN\n",
       "54701   NaN\n",
       "54702   NaN\n",
       "54703   NaN\n",
       "54704   NaN\n",
       "54705   NaN\n",
       "54706   NaN\n",
       "54707   NaN\n",
       "54708   NaN\n",
       "54709   NaN\n",
       "54710   NaN\n",
       "54711   NaN\n",
       "54712   NaN\n",
       "54713   NaN\n",
       "         ..\n",
       "55189   NaN\n",
       "55190   NaN\n",
       "55191   NaN\n",
       "55192   NaN\n",
       "55193   NaN\n",
       "55194   NaN\n",
       "55195   NaN\n",
       "55196   NaN\n",
       "55197   NaN\n",
       "55198   NaN\n",
       "55199   NaN\n",
       "55200   NaN\n",
       "55201   NaN\n",
       "55202   NaN\n",
       "55203   NaN\n",
       "55204   NaN\n",
       "55205   NaN\n",
       "55206   NaN\n",
       "55207   NaN\n",
       "55208   NaN\n",
       "55209   NaN\n",
       "55210   NaN\n",
       "55211   NaN\n",
       "55212   NaN\n",
       "55213   NaN\n",
       "55214   NaN\n",
       "55215   NaN\n",
       "55216   NaN\n",
       "55217   NaN\n",
       "55218   NaN\n",
       "Name: weight, Length: 265, dtype: float64"
      ]
     },
     "execution_count": 63,
     "metadata": {},
     "output_type": "execute_result"
    }
   ],
   "source": [
    "div[~pd.np.isclose(t2g_read.weight, t2g.weight)]"
   ]
  }
 ],
 "metadata": {
  "kernelspec": {
   "display_name": "Python [default]",
   "language": "python",
   "name": "python3"
  },
  "language_info": {
   "codemirror_mode": {
    "name": "ipython",
    "version": 3
   },
   "file_extension": ".py",
   "mimetype": "text/x-python",
   "name": "python",
   "nbconvert_exporter": "python",
   "pygments_lexer": "ipython3",
   "version": "3.6.6"
  }
 },
 "nbformat": 4,
 "nbformat_minor": 2
}
