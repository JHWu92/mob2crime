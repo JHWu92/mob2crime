{
 "cells": [
  {
   "cell_type": "code",
   "execution_count": 1,
   "metadata": {},
   "outputs": [
    {
     "data": {
      "text/plain": [
       "'/home/Jiahui/mob2crime'"
      ]
     },
     "execution_count": 1,
     "metadata": {},
     "output_type": "execute_result"
    }
   ],
   "source": [
    "import os\n",
    "if not os.getcwd().endswith('mob2crime'):\n",
    "    os.chdir('..')\n",
    "os.getcwd()\n"
   ]
  },
  {
   "cell_type": "code",
   "execution_count": 2,
   "metadata": {},
   "outputs": [],
   "source": [
    "import glob\n",
    "import pandas as pd\n",
    "import gzip\n",
    "import os\n",
    "from src.creds import mex_root, mex_col_call\n",
    "import logging\n",
    "import datetime\n",
    "from collections import defaultdict\n",
    "import json"
   ]
  },
  {
   "cell_type": "code",
   "execution_count": 3,
   "metadata": {},
   "outputs": [],
   "source": [
    "class SetEncoder(json.JSONEncoder):\n",
    "    def default(self, obj):\n",
    "        if isinstance(obj, set):\n",
    "             return list(obj)\n",
    "        return json.JSONEncoder.default(self, obj)"
   ]
  },
  {
   "cell_type": "code",
   "execution_count": 4,
   "metadata": {},
   "outputs": [],
   "source": [
    "args_list = '--call-in-or-out out --debugging'.split()"
   ]
  },
  {
   "cell_type": "code",
   "execution_count": 5,
   "metadata": {},
   "outputs": [
    {
     "name": "stdout",
     "output_type": "stream",
     "text": [
      "Namespace(call_in_or_out='out', debugging=True)\n"
     ]
    }
   ],
   "source": [
    "import argparse\n",
    "parser = argparse.ArgumentParser(description='options for aggregating mexico tower daily hourly unique user in call-out or call-in data')\n",
    "parser.add_argument('--debugging', action='store_true')\n",
    "parser.add_argument('--call-in-or-out', required=True, choices=['in','out'])\n",
    "args = parser.parse_args(args_list)\n",
    "print(args)"
   ]
  },
  {
   "cell_type": "code",
   "execution_count": 6,
   "metadata": {},
   "outputs": [],
   "source": [
    "level = logging.DEBUG if args.debugging else logging.INFO\n",
    "logging.basicConfig(filename=\"logs/AggMexTwDyHrUnqUsr.log\", level=level, format='%(asctime)s - %(name)s - %(levelname)s - %(message)s')\n",
    "\n"
   ]
  },
  {
   "cell_type": "code",
   "execution_count": 7,
   "metadata": {},
   "outputs": [],
   "source": [
    "\n",
    "idx_date = mex_col_call.index('date')\n",
    "idx_time = mex_col_call.index('time')\n",
    "idx_t1 = mex_col_call.index('cell_initial')\n",
    "idx_t2 = mex_col_call.index('cell_final')\n",
    "idx_duration = mex_col_call.index('duration')\n",
    "idx_p1 = mex_col_call.index('phone_1')"
   ]
  },
  {
   "cell_type": "code",
   "execution_count": 8,
   "metadata": {},
   "outputs": [
    {
     "name": "stdout",
     "output_type": "stream",
     "text": [
      "nubmer of files to process: 245\n"
     ]
    }
   ],
   "source": [
    "\n",
    "mex_root = mex_root\n",
    "file_pattern = '??????/*TRAFICO_VOZ_[0-9]*'  if args.call_in_or_out=='out' else '??????/*TRAFICO_VOZ_ENTRANTE*'\n",
    "fns = []\n",
    "for fn in glob.glob(mex_root+file_pattern):\n",
    "    fns.append(fn)\n",
    "fns = sorted(fns)\n",
    "print(f'nubmer of files to process: {len(fns)}')"
   ]
  },
  {
   "cell_type": "code",
   "execution_count": 9,
   "metadata": {},
   "outputs": [
    {
     "name": "stdout",
     "output_type": "stream",
     "text": [
      "stats_dir = stats/AggMexTwDyHrUnqUsrVOZ/debug/\n"
     ]
    }
   ],
   "source": [
    "call_in_out_str = 'VOZ' if args.call_in_or_out=='out' else 'VOZENTRANTE'\n",
    "stats_dir = f'stats/AggMexTwDyHrUnqUsr{call_in_out_str}/' \n",
    "if args.debugging: stats_dir+='debug/'\n",
    "os.makedirs(stats_dir,exist_ok=True)\n",
    "print(f'stats_dir = {stats_dir}')"
   ]
  },
  {
   "cell_type": "code",
   "execution_count": 10,
   "metadata": {},
   "outputs": [
    {
     "name": "stdout",
     "output_type": "stream",
     "text": [
      "number of done files on disk: 3\n"
     ]
    }
   ],
   "source": [
    "done_file_date = set([os.path.basename(fn).replace('.json.gz','') for fn in glob.glob(stats_dir+'*.json.gz')])\n",
    "print(f'number of done files on disk: {len(done_file_date)}')"
   ]
  },
  {
   "cell_type": "code",
   "execution_count": 11,
   "metadata": {},
   "outputs": [],
   "source": [
    "if os.path.exists(f'{stats_dir}/dates_in_file.json'):\n",
    "    dates_in_file = json.load(open(f'{stats_dir}/dates_in_file.json'))\n",
    "    for k,v in dates_in_file.items():\n",
    "        dates_in_file[k] = set(v)\n",
    "    dates_in_file = defaultdict(set, dates_in_file)\n",
    "else:\n",
    "    dates_in_file = defaultdict(set)"
   ]
  },
  {
   "cell_type": "code",
   "execution_count": 12,
   "metadata": {},
   "outputs": [
    {
     "data": {
      "text/plain": [
       "defaultdict(set,\n",
       "            {'2009-10-01': {'2009-10-01'},\n",
       "             '2009-10-03': {'2009-10-03'},\n",
       "             '2009-10-04': {'2009-10-03'}})"
      ]
     },
     "execution_count": 12,
     "metadata": {},
     "output_type": "execute_result"
    }
   ],
   "source": [
    "dates_in_file"
   ]
  },
  {
   "cell_type": "code",
   "execution_count": 14,
   "metadata": {},
   "outputs": [
    {
     "name": "stdout",
     "output_type": "stream",
     "text": [
      "skipping 0th, file_date: 2009-10-01\n",
      "skipping 1th, file_date: 2009-10-02\n",
      "skipping 2th, file_date: 2009-10-03\n",
      "working on the 3th file 200910/GASSET_TRAFICO_VOZ_20091004.dat.gz\n"
     ]
    }
   ],
   "source": [
    "\n",
    "# loop over the files\n",
    "start_dt = datetime.datetime.now()\n",
    "logging.info('===============================')\n",
    "logging.info(f'MEX stats starts. Number of files: {len(fns)}, '\n",
    "             f'debugging={args.debugging}, '\n",
    "             f'call in or out={args.call_in_or_out}')\n",
    "\n",
    "for cnt, fn in enumerate(fns):\n",
    "    \n",
    "    file_date = fn.replace('.dat','').replace('.gz','')[-8:]\n",
    "    file_date = datetime.datetime.strptime(file_date, '%Y%m%d')\n",
    "    file_date = file_date.strftime('%Y-%m-%d')\n",
    "    if file_date in done_file_date:\n",
    "        print('skipping %dth, file_date: %s' % (cnt, file_date))\n",
    "        continue\n",
    "    \n",
    "    print('working on the %dth file' % cnt, fn.replace(mex_root,''))\n",
    "    \n",
    "    logging.info('processing file: %s' % fn.replace(mex_root,''))\n",
    "    \n",
    "    # for logging processing time per file\n",
    "    fn_start_dt = datetime.datetime.now()\n",
    "    \n",
    "    # storing stats: stats[d][tower][hour] = set of users\n",
    "    stats = defaultdict(lambda: defaultdict(lambda: defaultdict(set)))\n",
    "\n",
    "    # loop over the lines in a file\n",
    "    # some files are not gzipped\n",
    "    try:\n",
    "        f = gzip.open(fn, 'rb') if fn.endswith('.gz') else open(fn,'rb')\n",
    "\n",
    "        for i, line in enumerate(f):\n",
    "            if i>10 and args.debugging:\n",
    "                break\n",
    "            try:\n",
    "                line = line.decode('utf8').strip().split('|')\n",
    "                duration = int(line[idx_duration])\n",
    "                \n",
    "                # if duration of a call is larger than 2 hours, discard this call.\n",
    "                # this will be about 0.02% ~ 0.04% of the total calls\n",
    "                if duration > 7200:\n",
    "                    continue\n",
    "                    \n",
    "                # get datetime of start and end\n",
    "                dt1 = datetime.datetime.strptime(line[idx_date] + ' ' + line[idx_time], '%d/%m/%Y %H:%M:%S')\n",
    "                dt2 = dt1 + datetime.timedelta(seconds=duration)\n",
    "                # get the date and hour of the datetime\n",
    "                d1 = dt1.strftime('%Y-%m-%d')\n",
    "                d1h = dt1.hour\n",
    "                d2 = dt2.strftime('%Y-%m-%d')\n",
    "                d2h = dt2.hour\n",
    "                # update the unique users set\n",
    "                stats[d1][line[idx_t1]][d1h].add(line[idx_p1])\n",
    "                stats[d2][line[idx_t2]][d2h].add(line[idx_p1])\n",
    "                # update the dates_in_files\n",
    "                dates_in_file[d1].add(file_date)\n",
    "                dates_in_file[d2].add(file_date)\n",
    "            except Exception as e:\n",
    "                if args.debugging: print('file %s line %d raise %s\\nThis line is: %s' % (fn, i, type(e).__name__, line))\n",
    "                logging.exception('file %s line %d raise %s\\nThis line is: %s' % (fn, i, type(e).__name__, line))\n",
    "        f.close()        \n",
    "        logging.debug('iterated all lines')        \n",
    "    except EOFError as e:\n",
    "        if args.debugging: print(e)\n",
    "        logging.exception('file %s raise EOFError' % fn)\n",
    "    \n",
    "    # save file\n",
    "    with gzip.open(stats_dir+'%s.json.gz' % file_date, 'wt') as zipfile:\n",
    "        json.dump(stats, zipfile, cls=SetEncoder)        \n",
    "    with open(f'{stats_dir}/dates_in_file.json','w') as fw:\n",
    "        json.dump(dates_in_file, fw, cls=SetEncoder)    \n",
    "        \n",
    "    logging.info('File processing time: %f seconds' % (datetime.datetime.now()-fn_start_dt).total_seconds())\n",
    "    \n",
    "    if args.debugging:\n",
    "        break  # fn loop\n",
    "    \n",
    "logging.info('MEX stats ends, %f seconds' %(datetime.datetime.now()-start_dt).total_seconds())"
   ]
  },
  {
   "cell_type": "code",
   "execution_count": null,
   "metadata": {},
   "outputs": [],
   "source": []
  },
  {
   "cell_type": "code",
   "execution_count": null,
   "metadata": {},
   "outputs": [],
   "source": []
  },
  {
   "cell_type": "code",
   "execution_count": null,
   "metadata": {},
   "outputs": [],
   "source": []
  }
 ],
 "metadata": {
  "kernelspec": {
   "display_name": "Python [default]",
   "language": "python",
   "name": "python3"
  },
  "language_info": {
   "codemirror_mode": {
    "name": "ipython",
    "version": 3
   },
   "file_extension": ".py",
   "mimetype": "text/x-python",
   "name": "python",
   "nbconvert_exporter": "python",
   "pygments_lexer": "ipython3",
   "version": "3.6.6"
  }
 },
 "nbformat": 4,
 "nbformat_minor": 2
}
