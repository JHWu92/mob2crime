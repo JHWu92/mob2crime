{
 "cells": [
  {
   "cell_type": "code",
   "execution_count": 1,
   "metadata": {},
   "outputs": [],
   "source": [
    "import glob\n",
    "import pandas as pd\n",
    "import gzip\n",
    "import os\n",
    "from src.creds import drive_root"
   ]
  },
  {
   "cell_type": "markdown",
   "metadata": {},
   "source": [
    "# MEX"
   ]
  },
  {
   "cell_type": "code",
   "execution_count": 2,
   "metadata": {},
   "outputs": [],
   "source": [
    "\n",
    "mex_root = drive_root + \"MEX/\"\n",
    "fns = []\n",
    "for fn in glob.glob(mex_root+'??????/*'):\n",
    "    fns.append(fn)\n",
    "df = pd.DataFrame(fns, columns=['fn'])\n",
    "df['fn-no-pre'] = df.fn.apply(lambda x: x.replace(mex_root, ''))\n",
    "df['month'] = df['fn-no-pre'].apply(lambda x: x.split('/')[0])\n",
    "df['fn-no-date'] = df['fn-no-pre'].apply(lambda x: x.split('/')[1].rsplit('_', 1)[0])\n",
    "\n",
    "df_gp = df.groupby(['month', 'fn-no-date']).size()\n",
    "# df_gp.to_csv('data/MEX_structure.csv')"
   ]
  },
  {
   "cell_type": "markdown",
   "metadata": {},
   "source": [
    "# GUAT"
   ]
  },
  {
   "cell_type": "code",
   "execution_count": 2,
   "metadata": {},
   "outputs": [],
   "source": [
    "gual_root = drive_root + 'GUAT/'\n"
   ]
  },
  {
   "cell_type": "markdown",
   "metadata": {},
   "source": [
    "## YYYYMM/cells.dat.gz and guatemala/cells.dat.gz are the same "
   ]
  },
  {
   "cell_type": "code",
   "execution_count": 3,
   "metadata": {},
   "outputs": [
    {
     "name": "stdout",
     "output_type": "stream",
     "text": [
      "0 True\n",
      "1 True\n",
      "2 True\n",
      "3 True\n",
      "4 True\n",
      "5 True\n",
      "6 True\n"
     ]
    }
   ],
   "source": [
    "cells = []\n",
    "for m in range(2, 9):\n",
    "    folder = '20140%d' % m\n",
    "    path = gual_root + '%s/cells.dat' % folder\n",
    "    if os.path.exists(path):\n",
    "        with open(path, 'rb') as f:\n",
    "            cells.append(f.read())\n",
    "    else:\n",
    "        with gzip.open(path + '.gz', 'rb') as f:\n",
    "            cells.append(f.read())\n",
    "\n",
    "first = cells[0]\n",
    "for i, c in enumerate(cells):\n",
    "    print(i, c==first)"
   ]
  },
  {
   "cell_type": "code",
   "execution_count": 4,
   "metadata": {
    "scrolled": true
   },
   "outputs": [
    {
     "data": {
      "text/plain": [
       "True"
      ]
     },
     "execution_count": 4,
     "metadata": {},
     "output_type": "execute_result"
    }
   ],
   "source": [
    "cell_path = gual_root + 'guatemala/cells.dat.gz'\n",
    "with gzip.open(cell_path, 'r') as f:\n",
    "    cell = f.read()\n",
    "cell==first"
   ]
  },
  {
   "cell_type": "markdown",
   "metadata": {},
   "source": [
    "## number of columns for calls, mms, sms, subs and tele"
   ]
  },
  {
   "cell_type": "code",
   "execution_count": null,
   "metadata": {},
   "outputs": [
    {
     "name": "stdout",
     "output_type": "stream",
     "text": [
      "----------------- calls\n",
      "(101, 15)\n",
      "(101, 15)\n",
      "(101, 15)\n",
      "(101, 15)\n",
      "----------------- mms\n",
      "(101, 10)\n",
      "(101, 10)\n",
      "(101, 10)\n",
      "(101, 10)\n",
      "----------------- sms\n",
      "(101, 10)\n",
      "(101, 10)\n",
      "(101, 10)\n",
      "(101, 10)\n"
     ]
    }
   ],
   "source": [
    "for prefix in ['calls', 'mms', 'sms']:\n",
    "    print('----------------- ' + prefix)\n",
    "    objs = []\n",
    "\n",
    "    for date in ['20140201', '20140207', '20140302', '20140419']:\n",
    "        path = gual_root + 'guatemala/%s%s.dat.gz'% (prefix, date)\n",
    "        with gzip.open(path, 'r') as f:\n",
    "            lines = []\n",
    "            for i, line in enumerate(f):\n",
    "                lines.append(line.split(b'|'))\n",
    "                if i>=100:\n",
    "                    break\n",
    "            objs.append(lines)\n",
    "    \n",
    "    for lines in objs:\n",
    "        print(pd.DataFrame(lines).shape)"
   ]
  },
  {
   "cell_type": "code",
   "execution_count": 3,
   "metadata": {
    "scrolled": true
   },
   "outputs": [
    {
     "name": "stdout",
     "output_type": "stream",
     "text": [
      "20140228\n",
      "20140331\n",
      "20140430\n",
      "201405\n",
      "201406\n",
      "201407\n",
      "201408\n"
     ]
    }
   ],
   "source": [
    "subs = []\n",
    "for date in ['20140228', '20140331', '20140430', '201405', '201406','201407', '201408']:\n",
    "    print(date)\n",
    "    path = gual_root + 'guatemala/subscribers%s.dat.gz'% (date)\n",
    "    with gzip.open(path, 'r') as f:\n",
    "        lines = []\n",
    "        for i, line in enumerate(f):\n",
    "            lines.append(line.split(b'|'))\n",
    "            if i > 100:\n",
    "                break\n",
    "    subs.append(pd.DataFrame(lines))\n",
    "    "
   ]
  },
  {
   "cell_type": "code",
   "execution_count": 40,
   "metadata": {},
   "outputs": [],
   "source": [
    "path = gual_root + 'guatemala/telefono_55010033.txt'\n",
    "\n",
    "with open(path, 'rb') as f:\n",
    "    tele = f.readlines()\n",
    "\n",
    "tele = pd.DataFrame([t.split(b'|') for t in tele])"
   ]
  },
  {
   "cell_type": "code",
   "execution_count": 39,
   "metadata": {},
   "outputs": [
    {
     "data": {
      "text/plain": [
       "(85110, 15)"
      ]
     },
     "execution_count": 39,
     "metadata": {},
     "output_type": "execute_result"
    }
   ],
   "source": [
    "tele.shape"
   ]
  },
  {
   "cell_type": "markdown",
   "metadata": {},
   "source": [
    "## termination code"
   ]
  },
  {
   "cell_type": "code",
   "execution_count": 11,
   "metadata": {},
   "outputs": [],
   "source": [
    "from collections import Counter"
   ]
  },
  {
   "cell_type": "code",
   "execution_count": 14,
   "metadata": {},
   "outputs": [
    {
     "name": "stdout",
     "output_type": "stream",
     "text": [
      "----------------- calls\n",
      "20140201 Counter({b'': 3235985}) Counter({b'NOROAMI\\n': 3235985})\n",
      "20140207 Counter({b'': 7827872}) Counter({b'NOROAMI\\n': 7827872})\n",
      "20140302 Counter({b'': 6264827}) Counter({b'NOROAMI\\n': 6264827})\n",
      "20140419 Counter({b'': 5037925}) Counter({b'NOROAMI\\n': 5037925})\n",
      "----------------- mms\n",
      "20140201 Counter({b'': 2032}) Counter({b'\\n': 2032})\n",
      "20140207 Counter({b'': 2003}) Counter({b'\\n': 2003})\n",
      "20140302 Counter({b'': 1682}) Counter({b'\\n': 1682})\n",
      "20140419 Counter({b'': 1423}) Counter({b'\\n': 1423})\n",
      "----------------- sms\n",
      "20140201 Counter({b'': 7654134}) Counter({b'NOROAMI\\n': 7654134})\n",
      "20140207 Counter({b'': 13708773}) Counter({b'NOROAMI\\n': 13708773})\n"
     ]
    },
    {
     "ename": "IndexError",
     "evalue": "list index out of range",
     "output_type": "error",
     "traceback": [
      "\u001b[0;31m---------------------------------------------------------------------------\u001b[0m",
      "\u001b[0;31mIndexError\u001b[0m                                Traceback (most recent call last)",
      "\u001b[0;32m<ipython-input-14-601b563951da>\u001b[0m in \u001b[0;36m<module>\u001b[0;34m()\u001b[0m\n\u001b[1;32m      9\u001b[0m             \u001b[0;32mfor\u001b[0m \u001b[0mi\u001b[0m\u001b[0;34m,\u001b[0m \u001b[0mline\u001b[0m \u001b[0;32min\u001b[0m \u001b[0menumerate\u001b[0m\u001b[0;34m(\u001b[0m\u001b[0mf\u001b[0m\u001b[0;34m)\u001b[0m\u001b[0;34m:\u001b[0m\u001b[0;34m\u001b[0m\u001b[0m\n\u001b[1;32m     10\u001b[0m                 \u001b[0mtokens\u001b[0m \u001b[0;34m=\u001b[0m \u001b[0mline\u001b[0m\u001b[0;34m.\u001b[0m\u001b[0msplit\u001b[0m\u001b[0;34m(\u001b[0m\u001b[0;34mb'|'\u001b[0m\u001b[0;34m)\u001b[0m\u001b[0;34m\u001b[0m\u001b[0m\n\u001b[0;32m---> 11\u001b[0;31m                 \u001b[0mcodes\u001b[0m\u001b[0;34m.\u001b[0m\u001b[0mappend\u001b[0m\u001b[0;34m(\u001b[0m\u001b[0mtokens\u001b[0m\u001b[0;34m[\u001b[0m\u001b[0;34m-\u001b[0m\u001b[0;36m3\u001b[0m\u001b[0;34m]\u001b[0m\u001b[0;34m)\u001b[0m\u001b[0;34m\u001b[0m\u001b[0m\n\u001b[0m\u001b[1;32m     12\u001b[0m                 \u001b[0mroaming\u001b[0m\u001b[0;34m.\u001b[0m\u001b[0mappend\u001b[0m\u001b[0;34m(\u001b[0m\u001b[0mtokens\u001b[0m\u001b[0;34m[\u001b[0m\u001b[0;34m-\u001b[0m\u001b[0;36m1\u001b[0m\u001b[0;34m]\u001b[0m\u001b[0;34m)\u001b[0m\u001b[0;34m\u001b[0m\u001b[0m\n\u001b[1;32m     13\u001b[0m \u001b[0;34m\u001b[0m\u001b[0m\n",
      "\u001b[0;31mIndexError\u001b[0m: list index out of range"
     ]
    }
   ],
   "source": [
    "for prefix in ['calls', 'mms', 'sms']:\n",
    "    print('----------------- ' + prefix)\n",
    "\n",
    "    for date in ['20140201', '20140207', '20140302', '20140419']:\n",
    "        path = gual_root + 'guatemala/%s%s.dat.gz'% (prefix, date)\n",
    "        with gzip.open(path, 'r') as f:\n",
    "            codes = []\n",
    "            roaming = []\n",
    "            for i, line in enumerate(f):\n",
    "                tokens = line.split(b'|')\n",
    "                codes.append(tokens[-3])\n",
    "                roaming.append(tokens[-1])\n",
    "\n",
    "        print(date, Counter(codes), Counter(roaming))"
   ]
  },
  {
   "cell_type": "code",
   "execution_count": 16,
   "metadata": {},
   "outputs": [
    {
     "name": "stdout",
     "output_type": "stream",
     "text": [
      "----------------- sms\n",
      "2 [b'53940384', b'533891']\n",
      "20140302 Counter({b'': 9366360}) Counter({b'NOROAMI\\n': 9366360})\n",
      "20140419 Counter({b'': 9221430}) Counter({b'NOROAMI\\n': 9221430})\n"
     ]
    }
   ],
   "source": [
    "for prefix in ['calls', 'mms', 'sms'][2:]:\n",
    "    print('----------------- ' + prefix)\n",
    "\n",
    "    for date in ['20140201', '20140207', '20140302', '20140419'][2:]:\n",
    "        path = gual_root + 'guatemala/%s%s.dat.gz'% (prefix, date)\n",
    "        with gzip.open(path, 'r') as f:\n",
    "            codes = []\n",
    "            roaming = []\n",
    "            for i, line in enumerate(f):\n",
    "                tokens = line.split(b'|')\n",
    "                try:\n",
    "                    codes.append(tokens[-3])\n",
    "                    roaming.append(tokens[-1])\n",
    "                except IndexError:\n",
    "                    print(len(tokens), tokens)\n",
    "\n",
    "        print(date, Counter(codes), Counter(roaming))"
   ]
  },
  {
   "cell_type": "markdown",
   "metadata": {},
   "source": [
    "# COL"
   ]
  },
  {
   "cell_type": "code",
   "execution_count": 48,
   "metadata": {},
   "outputs": [],
   "source": [
    "def read_top_lines(path, sep=b'|', top=100):\n",
    "    with gzip.open(path, 'r') as f:\n",
    "        lines = []\n",
    "        for i, line in enumerate(f):\n",
    "            lines.append(line.split(sep))\n",
    "            if i > top:\n",
    "                break\n",
    "    return lines"
   ]
  },
  {
   "cell_type": "code",
   "execution_count": 41,
   "metadata": {},
   "outputs": [],
   "source": [
    "col_root =  drive_root + 'COL/'"
   ]
  },
  {
   "cell_type": "code",
   "execution_count": 45,
   "metadata": {},
   "outputs": [],
   "source": [
    "cdr2014_dir = col_root + 'COlombiaCDR2014-01-08/'"
   ]
  },
  {
   "cell_type": "markdown",
   "metadata": {},
   "source": [
    "## cells are the same each month"
   ]
  },
  {
   "cell_type": "code",
   "execution_count": 53,
   "metadata": {},
   "outputs": [
    {
     "name": "stdout",
     "output_type": "stream",
     "text": [
      "0 True\n",
      "1 True\n",
      "2 True\n",
      "3 True\n",
      "4 True\n",
      "5 True\n",
      "6 True\n",
      "7 True\n"
     ]
    }
   ],
   "source": [
    "prefix = 'CELLS'\n",
    "cells = []\n",
    "for date in ['201401', '201402', '201403', '201404', '201405', '201406', '201407', '201408']:\n",
    "    path = cdr2014_dir + '%s_%s.dat.gz' %(prefix, date)\n",
    "    with gzip.open(path, 'rb') as f:\n",
    "        cells.append(f.read())\n",
    "\n",
    "first = cells[0]\n",
    "for i, c in enumerate(cells):\n",
    "    print(i, c==first)\n",
    "    \n",
    "\n",
    "\n",
    "pd.DataFrame([f.split(b'|') for f in first.split(b'\\r\\n')]).shape"
   ]
  },
  {
   "cell_type": "code",
   "execution_count": 61,
   "metadata": {},
   "outputs": [
    {
     "name": "stdout",
     "output_type": "stream",
     "text": [
      "-------------CLIENTES\n",
      "201401 (102, 5)\n",
      "201402 (102, 5)\n",
      "201403 (102, 5)\n",
      "201404 (102, 5)\n",
      "201405 (102, 5)\n",
      "201406 (102, 5)\n",
      "201407 (102, 5)\n",
      "201408 (102, 5)\n",
      "-------------CLIENTES_OK\n",
      "201401 (102, 5)\n",
      "201402 (102, 5)\n",
      "201403 (102, 5)\n",
      "201404 (102, 5)\n",
      "201405 (102, 5)\n",
      "201406 (102, 5)\n",
      "201407 (102, 5)\n",
      "201408 (102, 5)\n",
      "-------------MMS\n",
      "201401 (0, 0)\n",
      "201402 (0, 0)\n",
      "201403 (0, 0)\n",
      "201404 (0, 0)\n",
      "201405 (0, 0)\n",
      "201406 (0, 0)\n",
      "201407 (0, 0)\n",
      "201408 (0, 0)\n",
      "-------------SMS\n",
      "201401 (102, 10)\n",
      "201402 (102, 10)\n",
      "201403 (102, 10)\n",
      "201404 (102, 10)\n",
      "201405 (102, 10)\n",
      "201406 (102, 10)\n",
      "201407 (102, 10)\n",
      "201408 (102, 10)\n"
     ]
    }
   ],
   "source": [
    "for prefix in ['CLIENTES', 'CLIENTES_OK', 'MMS', 'SMS']:\n",
    "    print('-------------'+prefix)\n",
    "    for date in ['201401', '201402', '201403', '201404', '201405', '201406', '201407', '201408']:\n",
    "        path = cdr2014_dir + '%s_%s.dat.gz' %(prefix, date)\n",
    "        lines = read_top_lines(path)\n",
    "        \n",
    "        print(date, pd.DataFrame(lines).shape)"
   ]
  }
 ],
 "metadata": {
  "kernelspec": {
   "display_name": "Python [default]",
   "language": "python",
   "name": "python3"
  },
  "language_info": {
   "codemirror_mode": {
    "name": "ipython",
    "version": 3
   },
   "file_extension": ".py",
   "mimetype": "text/x-python",
   "name": "python",
   "nbconvert_exporter": "python",
   "pygments_lexer": "ipython3",
   "version": "3.6.6"
  }
 },
 "nbformat": 4,
 "nbformat_minor": 1
}
