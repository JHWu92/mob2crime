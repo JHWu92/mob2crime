{
 "cells": [
  {
   "cell_type": "code",
   "execution_count": 1,
   "metadata": {
    "ExecuteTime": {
     "end_time": "2019-09-01T07:48:49.165926Z",
     "start_time": "2019-09-01T07:48:49.120086Z"
    }
   },
   "outputs": [
    {
     "data": {
      "text/plain": [
       "'/mnt/c/1Res/mob2crime'"
      ]
     },
     "execution_count": 1,
     "metadata": {},
     "output_type": "execute_result"
    }
   ],
   "source": [
    "%load_ext autoreload\n",
    "%autoreload 2\n",
    "import os\n",
    "\n",
    "if not os.getcwd().endswith('mob2crime'):\n",
    "    os.chdir('..')\n",
    "os.getcwd()"
   ]
  },
  {
   "cell_type": "code",
   "execution_count": 2,
   "metadata": {
    "ExecuteTime": {
     "end_time": "2019-09-01T07:49:02.730325Z",
     "start_time": "2019-09-01T07:48:49.855570Z"
    }
   },
   "outputs": [],
   "source": [
    "import pandas as pd\n",
    "import numpy as np\n",
    "import geopandas as gp\n",
    "import folium\n",
    "from scipy.spatial import Voronoi, voronoi_plot_2d\n",
    "\n",
    "from src.utils.gis import *\n",
    "from src.utils.map_vis import *\n",
    "import src.mex_helper as mex\n",
    "%matplotlib inline"
   ]
  },
  {
   "cell_type": "code",
   "execution_count": 3,
   "metadata": {
    "ExecuteTime": {
     "end_time": "2019-09-01T07:49:02.932806Z",
     "start_time": "2019-09-01T07:49:02.733490Z"
    }
   },
   "outputs": [],
   "source": [
    "from shapely.ops import cascaded_union "
   ]
  },
  {
   "cell_type": "code",
   "execution_count": 4,
   "metadata": {
    "ExecuteTime": {
     "end_time": "2019-09-01T07:49:04.571325Z",
     "start_time": "2019-09-01T07:49:02.957576Z"
    }
   },
   "outputs": [
    {
     "name": "stdout",
     "output_type": "stream",
     "text": [
      "loading existing tvor file: data/mex_tower/mex_tvor_in_country.geojson\n"
     ]
    }
   ],
   "source": [
    "tvor = mex.tower_vor()"
   ]
  },
  {
   "cell_type": "code",
   "execution_count": 5,
   "metadata": {
    "ExecuteTime": {
     "end_time": "2019-09-01T01:59:03.175029Z",
     "start_time": "2019-09-01T01:59:01.784264Z"
    }
   },
   "outputs": [],
   "source": [
    "population = pd.read_csv('data/mexico/Localidades-population.csv')\n",
    "population['loc_id'] = population['Clave de localidad'].apply(lambda x: f'{x:09}')"
   ]
  },
  {
   "cell_type": "code",
   "execution_count": 6,
   "metadata": {
    "ExecuteTime": {
     "end_time": "2019-09-01T01:59:03.365130Z",
     "start_time": "2019-09-01T01:59:03.177709Z"
    }
   },
   "outputs": [],
   "source": [
    "population['CVE_ENT'] = population['Clave entidad'].apply(lambda x: f'{x:02}')"
   ]
  },
  {
   "cell_type": "code",
   "execution_count": 7,
   "metadata": {
    "ExecuteTime": {
     "end_time": "2019-09-01T01:59:17.457399Z",
     "start_time": "2019-09-01T01:59:03.368380Z"
    }
   },
   "outputs": [],
   "source": [
    "LUR = gp.read_file('data/mexico/inegi2018/Marco_Geoestadistico_Integrado_diciembre_2018/conjunto de datos/01_32_l.shp')\n",
    "LUR['loc_id'] = LUR.CVE_ENT+LUR.CVE_MUN+LUR.CVE_LOC\n",
    "LUR4326 = LUR.to_crs(epsg=4326)\n",
    "LUR4326 = LUR4326.merge(population[['loc_id','Población total']], how='left')\n",
    "LUR4326= LUR4326.rename(columns={'Población total':'Pop'})"
   ]
  },
  {
   "cell_type": "code",
   "execution_count": 8,
   "metadata": {
    "ExecuteTime": {
     "end_time": "2019-09-01T02:00:24.591515Z",
     "start_time": "2019-09-01T01:59:17.459446Z"
    }
   },
   "outputs": [],
   "source": [
    "LPR = gp.read_file('data/mexico/inegi2018/Marco_Geoestadistico_Integrado_diciembre_2018/conjunto de datos/01_32_lpr.shp')\n",
    "LPR['loc_id'] = LPR.CVE_ENT+LPR.CVE_MUN+LPR.CVE_LOC\n",
    "LPRBf = LPR.copy()\n",
    "LPRBf.geometry = LPRBf.buffer(500)\n",
    "LPRBf4326 = LPRBf.to_crs(epsg=4326)\n",
    "LPRBf4326 = LPRBf4326.merge(population[['loc_id','Población total']], how='left')\n",
    "LPRBf4326= LPRBf4326.rename(columns={'Población total':'Pop'})"
   ]
  },
  {
   "cell_type": "code",
   "execution_count": 9,
   "metadata": {
    "ExecuteTime": {
     "end_time": "2019-09-01T02:00:24.731164Z",
     "start_time": "2019-09-01T02:00:24.605969Z"
    }
   },
   "outputs": [],
   "source": [
    "LPRBf4326_Ponly = LPRBf4326[~LPRBf4326.loc_id.isin(LUR4326.loc_id)]"
   ]
  },
  {
   "cell_type": "code",
   "execution_count": 10,
   "metadata": {
    "ExecuteTime": {
     "end_time": "2019-09-01T02:00:24.936238Z",
     "start_time": "2019-09-01T02:00:24.733764Z"
    }
   },
   "outputs": [
    {
     "data": {
      "text/html": [
       "<div>\n",
       "<style scoped>\n",
       "    .dataframe tbody tr th:only-of-type {\n",
       "        vertical-align: middle;\n",
       "    }\n",
       "\n",
       "    .dataframe tbody tr th {\n",
       "        vertical-align: top;\n",
       "    }\n",
       "\n",
       "    .dataframe thead th {\n",
       "        text-align: right;\n",
       "    }\n",
       "</style>\n",
       "<table border=\"1\" class=\"dataframe\">\n",
       "  <thead>\n",
       "    <tr style=\"text-align: right;\">\n",
       "      <th></th>\n",
       "      <th>pop_poly</th>\n",
       "      <th>pop_point</th>\n",
       "      <th>pop_all</th>\n",
       "      <th>pop_shap</th>\n",
       "      <th>poly_all</th>\n",
       "      <th>shap_all</th>\n",
       "    </tr>\n",
       "    <tr>\n",
       "      <th>CVE_ENT</th>\n",
       "      <th></th>\n",
       "      <th></th>\n",
       "      <th></th>\n",
       "      <th></th>\n",
       "      <th></th>\n",
       "      <th></th>\n",
       "    </tr>\n",
       "  </thead>\n",
       "  <tbody>\n",
       "    <tr>\n",
       "      <th>01</th>\n",
       "      <td>1160573.0</td>\n",
       "      <td>23382.0</td>\n",
       "      <td>1184996.0</td>\n",
       "      <td>1183955.0</td>\n",
       "      <td>0.979390</td>\n",
       "      <td>0.999122</td>\n",
       "    </tr>\n",
       "    <tr>\n",
       "      <th>02</th>\n",
       "      <td>3114410.0</td>\n",
       "      <td>35255.0</td>\n",
       "      <td>3155070.0</td>\n",
       "      <td>3149665.0</td>\n",
       "      <td>0.987113</td>\n",
       "      <td>0.998287</td>\n",
       "    </tr>\n",
       "    <tr>\n",
       "      <th>03</th>\n",
       "      <td>528390.0</td>\n",
       "      <td>18242.0</td>\n",
       "      <td>637043.0</td>\n",
       "      <td>546632.0</td>\n",
       "      <td>0.829442</td>\n",
       "      <td>0.858077</td>\n",
       "    </tr>\n",
       "    <tr>\n",
       "      <th>04</th>\n",
       "      <td>802510.0</td>\n",
       "      <td>19263.0</td>\n",
       "      <td>822491.0</td>\n",
       "      <td>821773.0</td>\n",
       "      <td>0.975707</td>\n",
       "      <td>0.999127</td>\n",
       "    </tr>\n",
       "    <tr>\n",
       "      <th>05</th>\n",
       "      <td>2723488.0</td>\n",
       "      <td>20189.0</td>\n",
       "      <td>2748395.0</td>\n",
       "      <td>2743677.0</td>\n",
       "      <td>0.990938</td>\n",
       "      <td>0.998283</td>\n",
       "    </tr>\n",
       "    <tr>\n",
       "      <th>06</th>\n",
       "      <td>641429.0</td>\n",
       "      <td>8421.0</td>\n",
       "      <td>650567.0</td>\n",
       "      <td>649850.0</td>\n",
       "      <td>0.985954</td>\n",
       "      <td>0.998898</td>\n",
       "    </tr>\n",
       "    <tr>\n",
       "      <th>07</th>\n",
       "      <td>4126322.0</td>\n",
       "      <td>614493.0</td>\n",
       "      <td>4799085.0</td>\n",
       "      <td>4740815.0</td>\n",
       "      <td>0.859814</td>\n",
       "      <td>0.987858</td>\n",
       "    </tr>\n",
       "    <tr>\n",
       "      <th>08</th>\n",
       "      <td>3245119.0</td>\n",
       "      <td>159972.0</td>\n",
       "      <td>3406481.0</td>\n",
       "      <td>3405091.0</td>\n",
       "      <td>0.952631</td>\n",
       "      <td>0.999592</td>\n",
       "    </tr>\n",
       "    <tr>\n",
       "      <th>09</th>\n",
       "      <td>8824741.0</td>\n",
       "      <td>24953.0</td>\n",
       "      <td>8851080.0</td>\n",
       "      <td>8849694.0</td>\n",
       "      <td>0.997024</td>\n",
       "      <td>0.999843</td>\n",
       "    </tr>\n",
       "    <tr>\n",
       "      <th>10</th>\n",
       "      <td>1542928.0</td>\n",
       "      <td>89084.0</td>\n",
       "      <td>1636131.0</td>\n",
       "      <td>1632012.0</td>\n",
       "      <td>0.943035</td>\n",
       "      <td>0.997482</td>\n",
       "    </tr>\n",
       "    <tr>\n",
       "      <th>11</th>\n",
       "      <td>5356984.0</td>\n",
       "      <td>127197.0</td>\n",
       "      <td>5486372.0</td>\n",
       "      <td>5484181.0</td>\n",
       "      <td>0.976416</td>\n",
       "      <td>0.999601</td>\n",
       "    </tr>\n",
       "    <tr>\n",
       "      <th>12</th>\n",
       "      <td>3137768.0</td>\n",
       "      <td>247277.0</td>\n",
       "      <td>3393688.0</td>\n",
       "      <td>3385045.0</td>\n",
       "      <td>0.924589</td>\n",
       "      <td>0.997453</td>\n",
       "    </tr>\n",
       "    <tr>\n",
       "      <th>13</th>\n",
       "      <td>2561250.0</td>\n",
       "      <td>102069.0</td>\n",
       "      <td>2666009.0</td>\n",
       "      <td>2663319.0</td>\n",
       "      <td>0.960706</td>\n",
       "      <td>0.998991</td>\n",
       "    </tr>\n",
       "    <tr>\n",
       "      <th>14</th>\n",
       "      <td>7162651.0</td>\n",
       "      <td>177111.0</td>\n",
       "      <td>7364138.0</td>\n",
       "      <td>7339762.0</td>\n",
       "      <td>0.972639</td>\n",
       "      <td>0.996690</td>\n",
       "    </tr>\n",
       "    <tr>\n",
       "      <th>15</th>\n",
       "      <td>14958108.0</td>\n",
       "      <td>183559.0</td>\n",
       "      <td>15176073.0</td>\n",
       "      <td>15141667.0</td>\n",
       "      <td>0.985638</td>\n",
       "      <td>0.997733</td>\n",
       "    </tr>\n",
       "    <tr>\n",
       "      <th>16</th>\n",
       "      <td>4166711.0</td>\n",
       "      <td>175537.0</td>\n",
       "      <td>4351045.0</td>\n",
       "      <td>4342248.0</td>\n",
       "      <td>0.957635</td>\n",
       "      <td>0.997978</td>\n",
       "    </tr>\n",
       "    <tr>\n",
       "      <th>17</th>\n",
       "      <td>1753936.0</td>\n",
       "      <td>22306.0</td>\n",
       "      <td>1777688.0</td>\n",
       "      <td>1776242.0</td>\n",
       "      <td>0.986639</td>\n",
       "      <td>0.999187</td>\n",
       "    </tr>\n",
       "    <tr>\n",
       "      <th>18</th>\n",
       "      <td>1044215.0</td>\n",
       "      <td>40197.0</td>\n",
       "      <td>1084979.0</td>\n",
       "      <td>1084412.0</td>\n",
       "      <td>0.962429</td>\n",
       "      <td>0.999477</td>\n",
       "    </tr>\n",
       "    <tr>\n",
       "      <th>19</th>\n",
       "      <td>4608757.0</td>\n",
       "      <td>42262.0</td>\n",
       "      <td>4653458.0</td>\n",
       "      <td>4651019.0</td>\n",
       "      <td>0.990394</td>\n",
       "      <td>0.999476</td>\n",
       "    </tr>\n",
       "    <tr>\n",
       "      <th>20</th>\n",
       "      <td>3506110.0</td>\n",
       "      <td>290924.0</td>\n",
       "      <td>3803671.0</td>\n",
       "      <td>3797034.0</td>\n",
       "      <td>0.921770</td>\n",
       "      <td>0.998255</td>\n",
       "    </tr>\n",
       "    <tr>\n",
       "      <th>21</th>\n",
       "      <td>5613679.0</td>\n",
       "      <td>163913.0</td>\n",
       "      <td>5780173.0</td>\n",
       "      <td>5777592.0</td>\n",
       "      <td>0.971196</td>\n",
       "      <td>0.999553</td>\n",
       "    </tr>\n",
       "    <tr>\n",
       "      <th>22</th>\n",
       "      <td>1751668.0</td>\n",
       "      <td>53470.0</td>\n",
       "      <td>1828036.0</td>\n",
       "      <td>1805138.0</td>\n",
       "      <td>0.958224</td>\n",
       "      <td>0.987474</td>\n",
       "    </tr>\n",
       "    <tr>\n",
       "      <th>23</th>\n",
       "      <td>1297573.0</td>\n",
       "      <td>10903.0</td>\n",
       "      <td>1362330.0</td>\n",
       "      <td>1308476.0</td>\n",
       "      <td>0.952466</td>\n",
       "      <td>0.960469</td>\n",
       "    </tr>\n",
       "    <tr>\n",
       "      <th>24</th>\n",
       "      <td>2452873.0</td>\n",
       "      <td>132460.0</td>\n",
       "      <td>2585780.0</td>\n",
       "      <td>2585333.0</td>\n",
       "      <td>0.948601</td>\n",
       "      <td>0.999827</td>\n",
       "    </tr>\n",
       "    <tr>\n",
       "      <th>25</th>\n",
       "      <td>2699230.0</td>\n",
       "      <td>67369.0</td>\n",
       "      <td>2767762.0</td>\n",
       "      <td>2766599.0</td>\n",
       "      <td>0.975239</td>\n",
       "      <td>0.999580</td>\n",
       "    </tr>\n",
       "    <tr>\n",
       "      <th>26</th>\n",
       "      <td>2611188.0</td>\n",
       "      <td>49242.0</td>\n",
       "      <td>2662493.0</td>\n",
       "      <td>2660430.0</td>\n",
       "      <td>0.980730</td>\n",
       "      <td>0.999225</td>\n",
       "    </tr>\n",
       "    <tr>\n",
       "      <th>27</th>\n",
       "      <td>1974431.0</td>\n",
       "      <td>264174.0</td>\n",
       "      <td>2238605.0</td>\n",
       "      <td>2238605.0</td>\n",
       "      <td>0.881992</td>\n",
       "      <td>1.000000</td>\n",
       "    </tr>\n",
       "    <tr>\n",
       "      <th>28</th>\n",
       "      <td>3211832.0</td>\n",
       "      <td>46377.0</td>\n",
       "      <td>3268560.0</td>\n",
       "      <td>3258209.0</td>\n",
       "      <td>0.982644</td>\n",
       "      <td>0.996833</td>\n",
       "    </tr>\n",
       "    <tr>\n",
       "      <th>29</th>\n",
       "      <td>1157310.0</td>\n",
       "      <td>9779.0</td>\n",
       "      <td>1169936.0</td>\n",
       "      <td>1167089.0</td>\n",
       "      <td>0.989208</td>\n",
       "      <td>0.997567</td>\n",
       "    </tr>\n",
       "    <tr>\n",
       "      <th>30</th>\n",
       "      <td>7161440.0</td>\n",
       "      <td>468636.0</td>\n",
       "      <td>7643300.0</td>\n",
       "      <td>7630076.0</td>\n",
       "      <td>0.936957</td>\n",
       "      <td>0.998270</td>\n",
       "    </tr>\n",
       "    <tr>\n",
       "      <th>31</th>\n",
       "      <td>1945329.0</td>\n",
       "      <td>9338.0</td>\n",
       "      <td>1955625.0</td>\n",
       "      <td>1954667.0</td>\n",
       "      <td>0.994735</td>\n",
       "      <td>0.999510</td>\n",
       "    </tr>\n",
       "    <tr>\n",
       "      <th>32</th>\n",
       "      <td>1419800.0</td>\n",
       "      <td>68711.0</td>\n",
       "      <td>1490668.0</td>\n",
       "      <td>1488511.0</td>\n",
       "      <td>0.952459</td>\n",
       "      <td>0.998553</td>\n",
       "    </tr>\n",
       "  </tbody>\n",
       "</table>\n",
       "</div>"
      ],
      "text/plain": [
       "           pop_poly  pop_point     pop_all    pop_shap  poly_all  shap_all\n",
       "CVE_ENT                                                                   \n",
       "01        1160573.0    23382.0   1184996.0   1183955.0  0.979390  0.999122\n",
       "02        3114410.0    35255.0   3155070.0   3149665.0  0.987113  0.998287\n",
       "03         528390.0    18242.0    637043.0    546632.0  0.829442  0.858077\n",
       "04         802510.0    19263.0    822491.0    821773.0  0.975707  0.999127\n",
       "05        2723488.0    20189.0   2748395.0   2743677.0  0.990938  0.998283\n",
       "06         641429.0     8421.0    650567.0    649850.0  0.985954  0.998898\n",
       "07        4126322.0   614493.0   4799085.0   4740815.0  0.859814  0.987858\n",
       "08        3245119.0   159972.0   3406481.0   3405091.0  0.952631  0.999592\n",
       "09        8824741.0    24953.0   8851080.0   8849694.0  0.997024  0.999843\n",
       "10        1542928.0    89084.0   1636131.0   1632012.0  0.943035  0.997482\n",
       "11        5356984.0   127197.0   5486372.0   5484181.0  0.976416  0.999601\n",
       "12        3137768.0   247277.0   3393688.0   3385045.0  0.924589  0.997453\n",
       "13        2561250.0   102069.0   2666009.0   2663319.0  0.960706  0.998991\n",
       "14        7162651.0   177111.0   7364138.0   7339762.0  0.972639  0.996690\n",
       "15       14958108.0   183559.0  15176073.0  15141667.0  0.985638  0.997733\n",
       "16        4166711.0   175537.0   4351045.0   4342248.0  0.957635  0.997978\n",
       "17        1753936.0    22306.0   1777688.0   1776242.0  0.986639  0.999187\n",
       "18        1044215.0    40197.0   1084979.0   1084412.0  0.962429  0.999477\n",
       "19        4608757.0    42262.0   4653458.0   4651019.0  0.990394  0.999476\n",
       "20        3506110.0   290924.0   3803671.0   3797034.0  0.921770  0.998255\n",
       "21        5613679.0   163913.0   5780173.0   5777592.0  0.971196  0.999553\n",
       "22        1751668.0    53470.0   1828036.0   1805138.0  0.958224  0.987474\n",
       "23        1297573.0    10903.0   1362330.0   1308476.0  0.952466  0.960469\n",
       "24        2452873.0   132460.0   2585780.0   2585333.0  0.948601  0.999827\n",
       "25        2699230.0    67369.0   2767762.0   2766599.0  0.975239  0.999580\n",
       "26        2611188.0    49242.0   2662493.0   2660430.0  0.980730  0.999225\n",
       "27        1974431.0   264174.0   2238605.0   2238605.0  0.881992  1.000000\n",
       "28        3211832.0    46377.0   3268560.0   3258209.0  0.982644  0.996833\n",
       "29        1157310.0     9779.0   1169936.0   1167089.0  0.989208  0.997567\n",
       "30        7161440.0   468636.0   7643300.0   7630076.0  0.936957  0.998270\n",
       "31        1945329.0     9338.0   1955625.0   1954667.0  0.994735  0.999510\n",
       "32        1419800.0    68711.0   1490668.0   1488511.0  0.952459  0.998553"
      ]
     },
     "execution_count": 10,
     "metadata": {},
     "output_type": "execute_result"
    }
   ],
   "source": [
    "# most localidad popluation has geographic information \n",
    "df = pd.DataFrame([\n",
    "    LUR4326.groupby('CVE_ENT')['Pop'].sum(),\n",
    "    LPRBf4326_Ponly.groupby('CVE_ENT')['Pop'].sum(), \n",
    "    population.groupby('CVE_ENT')['Población total'].sum()\n",
    "]).T\n",
    "\n",
    "\n",
    "df.columns=['pop_poly', 'pop_point', 'pop_all']\n",
    "df['pop_shap'] = df.pop_poly+df.pop_point\n",
    "\n",
    "df['poly_all'] = df.pop_poly/df.pop_all\n",
    "df['shap_all'] = df.pop_shap/df.pop_all\n",
    "\n",
    "\n",
    "df"
   ]
  },
  {
   "cell_type": "code",
   "execution_count": 65,
   "metadata": {
    "ExecuteTime": {
     "end_time": "2019-09-01T02:22:38.914926Z",
     "start_time": "2019-09-01T02:22:38.596075Z"
    }
   },
   "outputs": [],
   "source": [
    "LUR_pop = LUR4326[LUR4326.Pop>0].drop(['CVEGEO','CVE_LOC'],axis=1)\n",
    "LPR_pop = LPRBf4326_Ponly[LPRBf4326_Ponly.Pop>0].drop(['CVE_LOC', 'CVE_AGEB', 'CVE_MZA', 'PLANO', 'CVEGEO'],axis=1)\n",
    "LPR_pop['AMBITO'] = 'Rural'\n",
    "\n",
    "L_pop = pd.concat([LUR_pop, LPR_pop[LUR_pop.columns]], ignore_index=True).set_index('loc_id')"
   ]
  },
  {
   "cell_type": "code",
   "execution_count": 66,
   "metadata": {
    "ExecuteTime": {
     "end_time": "2019-09-01T02:26:42.525251Z",
     "start_time": "2019-09-01T02:23:01.077984Z"
    }
   },
   "outputs": [],
   "source": [
    "t2loc = polys2polys(tvor, L_pop, pname1='tower', pname2='localidad', cur_crs=4326, area_crs=mex.AREA_CRS, intersection_only=False)"
   ]
  },
  {
   "cell_type": "code",
   "execution_count": 79,
   "metadata": {
    "ExecuteTime": {
     "end_time": "2019-09-01T02:38:42.044527Z",
     "start_time": "2019-09-01T02:38:41.676308Z"
    }
   },
   "outputs": [],
   "source": [
    "loc_area = t2loc.groupby('localidad').iarea.sum()"
   ]
  },
  {
   "cell_type": "code",
   "execution_count": 88,
   "metadata": {
    "ExecuteTime": {
     "end_time": "2019-09-01T02:41:20.281297Z",
     "start_time": "2019-09-01T02:41:20.247651Z"
    }
   },
   "outputs": [],
   "source": [
    "loc_area.name='loclidad_area'"
   ]
  },
  {
   "cell_type": "code",
   "execution_count": 85,
   "metadata": {
    "ExecuteTime": {
     "end_time": "2019-09-01T02:40:51.882796Z",
     "start_time": "2019-09-01T02:40:51.661395Z"
    }
   },
   "outputs": [],
   "source": [
    "t2loc = t2loc.merge(L_pop[['Pop']], left_on='localidad', right_index=True)"
   ]
  },
  {
   "cell_type": "code",
   "execution_count": 97,
   "metadata": {
    "ExecuteTime": {
     "end_time": "2019-09-01T02:43:11.172081Z",
     "start_time": "2019-09-01T02:43:10.941236Z"
    }
   },
   "outputs": [],
   "source": [
    "t2loc = t2loc.drop(['localidad_area','weight'], axis=1).merge(loc_area, left_on='localidad', right_index=True)"
   ]
  },
  {
   "cell_type": "code",
   "execution_count": 99,
   "metadata": {
    "ExecuteTime": {
     "end_time": "2019-09-01T02:43:41.111819Z",
     "start_time": "2019-09-01T02:43:41.073543Z"
    }
   },
   "outputs": [],
   "source": [
    "t2loc['iPop'] = t2loc.Pop*t2loc.iarea/t2loc.loclidad_area"
   ]
  },
  {
   "cell_type": "code",
   "execution_count": 117,
   "metadata": {
    "ExecuteTime": {
     "end_time": "2019-09-01T03:06:03.749912Z",
     "start_time": "2019-09-01T03:06:03.681243Z"
    }
   },
   "outputs": [],
   "source": [
    "tower_cover_pop = t2loc.groupby('tower').iPop.sum()\n",
    "tower_cover_pop.name='tower_pop'"
   ]
  },
  {
   "cell_type": "code",
   "execution_count": 118,
   "metadata": {
    "ExecuteTime": {
     "end_time": "2019-09-01T03:11:19.262663Z",
     "start_time": "2019-09-01T03:11:19.024185Z"
    }
   },
   "outputs": [],
   "source": [
    "t2loc = t2loc.merge(tower_cover_pop, left_on='tower', right_index=True)"
   ]
  },
  {
   "cell_type": "code",
   "execution_count": 119,
   "metadata": {
    "ExecuteTime": {
     "end_time": "2019-09-01T03:11:26.222054Z",
     "start_time": "2019-09-01T03:11:26.173445Z"
    }
   },
   "outputs": [],
   "source": [
    "t2loc['weight'] = t2loc.iPop/t2loc.tower_pop"
   ]
  },
  {
   "cell_type": "code",
   "execution_count": 126,
   "metadata": {
    "ExecuteTime": {
     "end_time": "2019-09-01T03:21:04.403087Z",
     "start_time": "2019-09-01T03:21:04.353612Z"
    }
   },
   "outputs": [
    {
     "data": {
      "text/html": [
       "<div>\n",
       "<style scoped>\n",
       "    .dataframe tbody tr th:only-of-type {\n",
       "        vertical-align: middle;\n",
       "    }\n",
       "\n",
       "    .dataframe tbody tr th {\n",
       "        vertical-align: top;\n",
       "    }\n",
       "\n",
       "    .dataframe thead th {\n",
       "        text-align: right;\n",
       "    }\n",
       "</style>\n",
       "<table border=\"1\" class=\"dataframe\">\n",
       "  <thead>\n",
       "    <tr style=\"text-align: right;\">\n",
       "      <th></th>\n",
       "      <th>geometry</th>\n",
       "      <th>localidad</th>\n",
       "      <th>tower</th>\n",
       "      <th>iarea</th>\n",
       "      <th>tower_area</th>\n",
       "      <th>Pop</th>\n",
       "      <th>loclidad_area</th>\n",
       "      <th>iPop</th>\n",
       "      <th>weight</th>\n",
       "      <th>tower_pop</th>\n",
       "    </tr>\n",
       "  </thead>\n",
       "  <tbody>\n",
       "    <tr>\n",
       "      <th>0</th>\n",
       "      <td>POLYGON ((-100.0470458903587 20.35035077024328...</td>\n",
       "      <td>220160028</td>\n",
       "      <td>55F17E0F-55F17E10-55F17E11</td>\n",
       "      <td>278138.154568</td>\n",
       "      <td>2.077944e+07</td>\n",
       "      <td>1682.0</td>\n",
       "      <td>624556.371847</td>\n",
       "      <td>749.057086</td>\n",
       "      <td>0.036609</td>\n",
       "      <td>20461.254045</td>\n",
       "    </tr>\n",
       "    <tr>\n",
       "      <th>3</th>\n",
       "      <td>POLYGON ((-100.0291409133007 20.36072658763791...</td>\n",
       "      <td>220160365</td>\n",
       "      <td>55F17E0F-55F17E10-55F17E11</td>\n",
       "      <td>258766.261898</td>\n",
       "      <td>2.077944e+07</td>\n",
       "      <td>8.0</td>\n",
       "      <td>784137.122571</td>\n",
       "      <td>2.640010</td>\n",
       "      <td>0.000129</td>\n",
       "      <td>20461.254045</td>\n",
       "    </tr>\n",
       "    <tr>\n",
       "      <th>5</th>\n",
       "      <td>POLYGON ((-100.0231424730812 20.36566652065543...</td>\n",
       "      <td>220160134</td>\n",
       "      <td>55F17E0F-55F17E10-55F17E11</td>\n",
       "      <td>63853.672927</td>\n",
       "      <td>2.077944e+07</td>\n",
       "      <td>5.0</td>\n",
       "      <td>784137.122250</td>\n",
       "      <td>0.407159</td>\n",
       "      <td>0.000020</td>\n",
       "      <td>20461.254045</td>\n",
       "    </tr>\n",
       "    <tr>\n",
       "      <th>7</th>\n",
       "      <td>POLYGON ((-100.0189607303471 20.36911033742224...</td>\n",
       "      <td>220160125</td>\n",
       "      <td>55F17E0F-55F17E10-55F17E11</td>\n",
       "      <td>27627.217029</td>\n",
       "      <td>2.077944e+07</td>\n",
       "      <td>1448.0</td>\n",
       "      <td>543757.985266</td>\n",
       "      <td>73.569881</td>\n",
       "      <td>0.003596</td>\n",
       "      <td>20461.254045</td>\n",
       "    </tr>\n",
       "    <tr>\n",
       "      <th>9</th>\n",
       "      <td>POLYGON ((-100.0226304583079 20.37222202881638...</td>\n",
       "      <td>220160112</td>\n",
       "      <td>55F17E0F-55F17E10-55F17E11</td>\n",
       "      <td>48976.285720</td>\n",
       "      <td>2.077944e+07</td>\n",
       "      <td>67.0</td>\n",
       "      <td>48976.285720</td>\n",
       "      <td>67.000000</td>\n",
       "      <td>0.003274</td>\n",
       "      <td>20461.254045</td>\n",
       "    </tr>\n",
       "  </tbody>\n",
       "</table>\n",
       "</div>"
      ],
      "text/plain": [
       "                                            geometry  localidad  \\\n",
       "0  POLYGON ((-100.0470458903587 20.35035077024328...  220160028   \n",
       "3  POLYGON ((-100.0291409133007 20.36072658763791...  220160365   \n",
       "5  POLYGON ((-100.0231424730812 20.36566652065543...  220160134   \n",
       "7  POLYGON ((-100.0189607303471 20.36911033742224...  220160125   \n",
       "9  POLYGON ((-100.0226304583079 20.37222202881638...  220160112   \n",
       "\n",
       "                        tower          iarea    tower_area     Pop  \\\n",
       "0  55F17E0F-55F17E10-55F17E11  278138.154568  2.077944e+07  1682.0   \n",
       "3  55F17E0F-55F17E10-55F17E11  258766.261898  2.077944e+07     8.0   \n",
       "5  55F17E0F-55F17E10-55F17E11   63853.672927  2.077944e+07     5.0   \n",
       "7  55F17E0F-55F17E10-55F17E11   27627.217029  2.077944e+07  1448.0   \n",
       "9  55F17E0F-55F17E10-55F17E11   48976.285720  2.077944e+07    67.0   \n",
       "\n",
       "   loclidad_area        iPop    weight     tower_pop  \n",
       "0  624556.371847  749.057086  0.036609  20461.254045  \n",
       "3  784137.122571    2.640010  0.000129  20461.254045  \n",
       "5  784137.122250    0.407159  0.000020  20461.254045  \n",
       "7  543757.985266   73.569881  0.003596  20461.254045  \n",
       "9   48976.285720   67.000000  0.003274  20461.254045  "
      ]
     },
     "execution_count": 126,
     "metadata": {},
     "output_type": "execute_result"
    }
   ],
   "source": [
    "t2loc.head()"
   ]
  },
  {
   "cell_type": "code",
   "execution_count": 129,
   "metadata": {
    "ExecuteTime": {
     "end_time": "2019-09-01T03:33:34.119703Z",
     "start_time": "2019-09-01T03:32:48.277165Z"
    }
   },
   "outputs": [],
   "source": [
    "m = folium.Map(location=[19.381495, -99.139095], zoom_start=6)\n",
    "geojson_per_row(tvor, 'Tower', some_map=m)\n",
    "geojson_per_row(t2loc[t2loc.localidad.isin(population[population.CVE_ENT.isin(['01','02'])].loc_id)], 'T2loc', some_map=m, \n",
    "                color='green', tip_cols=['localidad','tower','weight', 'Pop','tower_pop', 'iPop'])\n",
    "# geojson_per_row(target_area, 'poly', color='green', some_map=m)\n",
    "# geojson_per_row(target_area2, 'circle', color='yellow', some_map=m)\n",
    "folium.LayerControl().add_to(m)\n",
    "m.save('maps/20190829VorByPop.html')"
   ]
  },
  {
   "cell_type": "code",
   "execution_count": null,
   "metadata": {},
   "outputs": [],
   "source": []
  }
 ],
 "metadata": {
  "kernelspec": {
   "display_name": "Python [conda env:geo]",
   "language": "python",
   "name": "conda-env-geo-py"
  },
  "language_info": {
   "codemirror_mode": {
    "name": "ipython",
    "version": 3
   },
   "file_extension": ".py",
   "mimetype": "text/x-python",
   "name": "python",
   "nbconvert_exporter": "python",
   "pygments_lexer": "ipython3",
   "version": "3.7.3"
  },
  "toc": {
   "base_numbering": 1,
   "nav_menu": {},
   "number_sections": true,
   "sideBar": true,
   "skip_h1_title": false,
   "title_cell": "Table of Contents",
   "title_sidebar": "Contents",
   "toc_cell": false,
   "toc_position": {},
   "toc_section_display": true,
   "toc_window_display": false
  }
 },
 "nbformat": 4,
 "nbformat_minor": 2
}
