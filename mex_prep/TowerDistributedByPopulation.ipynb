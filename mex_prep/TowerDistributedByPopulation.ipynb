{
 "cells": [
  {
   "cell_type": "code",
   "execution_count": 1,
   "metadata": {
    "ExecuteTime": {
     "end_time": "2019-09-16T04:34:27.828263Z",
     "start_time": "2019-09-16T04:34:27.786332Z"
    }
   },
   "outputs": [
    {
     "data": {
      "text/plain": [
       "'/mnt/d/1ResProj/mob2crime'"
      ]
     },
     "execution_count": 1,
     "metadata": {},
     "output_type": "execute_result"
    }
   ],
   "source": [
    "%load_ext autoreload\n",
    "%autoreload 2\n",
    "import os\n",
    "\n",
    "if not os.getcwd().endswith('mob2crime'):\n",
    "    os.chdir('..')\n",
    "os.getcwd()"
   ]
  },
  {
   "cell_type": "code",
   "execution_count": 2,
   "metadata": {
    "ExecuteTime": {
     "end_time": "2019-09-16T04:34:41.658937Z",
     "start_time": "2019-09-16T04:34:29.446966Z"
    }
   },
   "outputs": [],
   "source": [
    "import pandas as pd\n",
    "import numpy as np\n",
    "import geopandas as gp\n",
    "import folium\n",
    "from scipy.spatial import Voronoi, voronoi_plot_2d\n",
    "\n",
    "from src.utils.gis import *\n",
    "from src.utils.map_vis import *\n",
    "import src.mex_helper as mex\n",
    "%matplotlib inline"
   ]
  },
  {
   "cell_type": "code",
   "execution_count": 3,
   "metadata": {
    "ExecuteTime": {
     "end_time": "2019-09-16T04:47:28.290011Z",
     "start_time": "2019-09-16T04:47:28.247685Z"
    }
   },
   "outputs": [],
   "source": [
    "from shapely.ops import cascaded_union "
   ]
  },
  {
   "cell_type": "code",
   "execution_count": 4,
   "metadata": {
    "ExecuteTime": {
     "end_time": "2019-09-16T04:47:29.877242Z",
     "start_time": "2019-09-16T04:47:28.886032Z"
    }
   },
   "outputs": [
    {
     "name": "stdout",
     "output_type": "stream",
     "text": [
      "loading existing tvor file: data/mex_tower/mex_tvor_in_country.geojson\n"
     ]
    }
   ],
   "source": [
    "tvor = mex.tower_vor()"
   ]
  },
  {
   "cell_type": "code",
   "execution_count": 5,
   "metadata": {
    "ExecuteTime": {
     "end_time": "2019-09-16T04:47:33.479494Z",
     "start_time": "2019-09-16T04:47:32.288483Z"
    }
   },
   "outputs": [],
   "source": [
    "population = pd.read_csv('data/mexico/Localidades-population.csv')\n",
    "population['loc_id'] = population['Clave de localidad'].apply(lambda x: f'{x:09}')"
   ]
  },
  {
   "cell_type": "code",
   "execution_count": 6,
   "metadata": {
    "ExecuteTime": {
     "end_time": "2019-09-16T04:47:34.627678Z",
     "start_time": "2019-09-16T04:47:34.454055Z"
    }
   },
   "outputs": [],
   "source": [
    "population['CVE_ENT'] = population['Clave entidad'].apply(lambda x: f'{x:02}')"
   ]
  },
  {
   "cell_type": "code",
   "execution_count": 7,
   "metadata": {
    "ExecuteTime": {
     "end_time": "2019-09-16T04:47:52.785389Z",
     "start_time": "2019-09-16T04:47:36.679189Z"
    }
   },
   "outputs": [],
   "source": [
    "LUR = gp.read_file('data/mexico/inegi2018/Marco_Geoestadistico_Integrado_diciembre_2018/conjunto de datos/01_32_l.shp')\n",
    "LUR['loc_id'] = LUR.CVE_ENT+LUR.CVE_MUN+LUR.CVE_LOC\n",
    "LUR4326 = LUR.to_crs(epsg=4326)\n",
    "LUR4326 = LUR4326.merge(population[['loc_id','Población total']], how='left')\n",
    "LUR4326= LUR4326.rename(columns={'Población total':'Pop'})"
   ]
  },
  {
   "cell_type": "code",
   "execution_count": 8,
   "metadata": {
    "ExecuteTime": {
     "end_time": "2019-09-16T04:49:05.319265Z",
     "start_time": "2019-09-16T04:47:53.464692Z"
    }
   },
   "outputs": [],
   "source": [
    "LPR = gp.read_file('data/mexico/inegi2018/Marco_Geoestadistico_Integrado_diciembre_2018/conjunto de datos/01_32_lpr.shp')\n",
    "LPR['loc_id'] = LPR.CVE_ENT+LPR.CVE_MUN+LPR.CVE_LOC\n",
    "LPRBf = LPR.copy()\n",
    "LPRBf.geometry = LPRBf.buffer(500)\n",
    "LPRBf4326 = LPRBf.to_crs(epsg=4326)\n",
    "LPRBf4326 = LPRBf4326.merge(population[['loc_id','Población total']], how='left')\n",
    "LPRBf4326= LPRBf4326.rename(columns={'Población total':'Pop'})"
   ]
  },
  {
   "cell_type": "code",
   "execution_count": 9,
   "metadata": {
    "ExecuteTime": {
     "end_time": "2019-09-16T04:49:11.164577Z",
     "start_time": "2019-09-16T04:49:11.042468Z"
    }
   },
   "outputs": [],
   "source": [
    "LPRBf4326_Ponly = LPRBf4326[~LPRBf4326.loc_id.isin(LUR4326.loc_id)]"
   ]
  },
  {
   "cell_type": "code",
   "execution_count": 10,
   "metadata": {
    "ExecuteTime": {
     "end_time": "2019-09-16T04:49:18.342879Z",
     "start_time": "2019-09-16T04:49:18.218377Z"
    }
   },
   "outputs": [
    {
     "data": {
      "text/html": [
       "<div>\n",
       "<style scoped>\n",
       "    .dataframe tbody tr th:only-of-type {\n",
       "        vertical-align: middle;\n",
       "    }\n",
       "\n",
       "    .dataframe tbody tr th {\n",
       "        vertical-align: top;\n",
       "    }\n",
       "\n",
       "    .dataframe thead th {\n",
       "        text-align: right;\n",
       "    }\n",
       "</style>\n",
       "<table border=\"1\" class=\"dataframe\">\n",
       "  <thead>\n",
       "    <tr style=\"text-align: right;\">\n",
       "      <th></th>\n",
       "      <th>pop_poly</th>\n",
       "      <th>pop_point</th>\n",
       "      <th>pop_all</th>\n",
       "      <th>pop_shap</th>\n",
       "      <th>poly_all</th>\n",
       "      <th>shap_all</th>\n",
       "    </tr>\n",
       "    <tr>\n",
       "      <th>CVE_ENT</th>\n",
       "      <th></th>\n",
       "      <th></th>\n",
       "      <th></th>\n",
       "      <th></th>\n",
       "      <th></th>\n",
       "      <th></th>\n",
       "    </tr>\n",
       "  </thead>\n",
       "  <tbody>\n",
       "    <tr>\n",
       "      <td>01</td>\n",
       "      <td>1160573.0</td>\n",
       "      <td>23382.0</td>\n",
       "      <td>1184996.0</td>\n",
       "      <td>1183955.0</td>\n",
       "      <td>0.979390</td>\n",
       "      <td>0.999122</td>\n",
       "    </tr>\n",
       "    <tr>\n",
       "      <td>02</td>\n",
       "      <td>3114410.0</td>\n",
       "      <td>35255.0</td>\n",
       "      <td>3155070.0</td>\n",
       "      <td>3149665.0</td>\n",
       "      <td>0.987113</td>\n",
       "      <td>0.998287</td>\n",
       "    </tr>\n",
       "    <tr>\n",
       "      <td>03</td>\n",
       "      <td>528390.0</td>\n",
       "      <td>18242.0</td>\n",
       "      <td>637043.0</td>\n",
       "      <td>546632.0</td>\n",
       "      <td>0.829442</td>\n",
       "      <td>0.858077</td>\n",
       "    </tr>\n",
       "    <tr>\n",
       "      <td>04</td>\n",
       "      <td>802510.0</td>\n",
       "      <td>19263.0</td>\n",
       "      <td>822491.0</td>\n",
       "      <td>821773.0</td>\n",
       "      <td>0.975707</td>\n",
       "      <td>0.999127</td>\n",
       "    </tr>\n",
       "    <tr>\n",
       "      <td>05</td>\n",
       "      <td>2723488.0</td>\n",
       "      <td>20189.0</td>\n",
       "      <td>2748395.0</td>\n",
       "      <td>2743677.0</td>\n",
       "      <td>0.990938</td>\n",
       "      <td>0.998283</td>\n",
       "    </tr>\n",
       "    <tr>\n",
       "      <td>06</td>\n",
       "      <td>641429.0</td>\n",
       "      <td>8421.0</td>\n",
       "      <td>650567.0</td>\n",
       "      <td>649850.0</td>\n",
       "      <td>0.985954</td>\n",
       "      <td>0.998898</td>\n",
       "    </tr>\n",
       "    <tr>\n",
       "      <td>07</td>\n",
       "      <td>4126322.0</td>\n",
       "      <td>614493.0</td>\n",
       "      <td>4799085.0</td>\n",
       "      <td>4740815.0</td>\n",
       "      <td>0.859814</td>\n",
       "      <td>0.987858</td>\n",
       "    </tr>\n",
       "    <tr>\n",
       "      <td>08</td>\n",
       "      <td>3245119.0</td>\n",
       "      <td>159972.0</td>\n",
       "      <td>3406481.0</td>\n",
       "      <td>3405091.0</td>\n",
       "      <td>0.952631</td>\n",
       "      <td>0.999592</td>\n",
       "    </tr>\n",
       "    <tr>\n",
       "      <td>09</td>\n",
       "      <td>8824741.0</td>\n",
       "      <td>24953.0</td>\n",
       "      <td>8851080.0</td>\n",
       "      <td>8849694.0</td>\n",
       "      <td>0.997024</td>\n",
       "      <td>0.999843</td>\n",
       "    </tr>\n",
       "    <tr>\n",
       "      <td>10</td>\n",
       "      <td>1542928.0</td>\n",
       "      <td>89084.0</td>\n",
       "      <td>1636131.0</td>\n",
       "      <td>1632012.0</td>\n",
       "      <td>0.943035</td>\n",
       "      <td>0.997482</td>\n",
       "    </tr>\n",
       "    <tr>\n",
       "      <td>11</td>\n",
       "      <td>5356984.0</td>\n",
       "      <td>127197.0</td>\n",
       "      <td>5486372.0</td>\n",
       "      <td>5484181.0</td>\n",
       "      <td>0.976416</td>\n",
       "      <td>0.999601</td>\n",
       "    </tr>\n",
       "    <tr>\n",
       "      <td>12</td>\n",
       "      <td>3137768.0</td>\n",
       "      <td>247277.0</td>\n",
       "      <td>3393688.0</td>\n",
       "      <td>3385045.0</td>\n",
       "      <td>0.924589</td>\n",
       "      <td>0.997453</td>\n",
       "    </tr>\n",
       "    <tr>\n",
       "      <td>13</td>\n",
       "      <td>2561250.0</td>\n",
       "      <td>102069.0</td>\n",
       "      <td>2666009.0</td>\n",
       "      <td>2663319.0</td>\n",
       "      <td>0.960706</td>\n",
       "      <td>0.998991</td>\n",
       "    </tr>\n",
       "    <tr>\n",
       "      <td>14</td>\n",
       "      <td>7162651.0</td>\n",
       "      <td>177111.0</td>\n",
       "      <td>7364138.0</td>\n",
       "      <td>7339762.0</td>\n",
       "      <td>0.972639</td>\n",
       "      <td>0.996690</td>\n",
       "    </tr>\n",
       "    <tr>\n",
       "      <td>15</td>\n",
       "      <td>14958108.0</td>\n",
       "      <td>183559.0</td>\n",
       "      <td>15176073.0</td>\n",
       "      <td>15141667.0</td>\n",
       "      <td>0.985638</td>\n",
       "      <td>0.997733</td>\n",
       "    </tr>\n",
       "    <tr>\n",
       "      <td>16</td>\n",
       "      <td>4166711.0</td>\n",
       "      <td>175537.0</td>\n",
       "      <td>4351045.0</td>\n",
       "      <td>4342248.0</td>\n",
       "      <td>0.957635</td>\n",
       "      <td>0.997978</td>\n",
       "    </tr>\n",
       "    <tr>\n",
       "      <td>17</td>\n",
       "      <td>1753936.0</td>\n",
       "      <td>22306.0</td>\n",
       "      <td>1777688.0</td>\n",
       "      <td>1776242.0</td>\n",
       "      <td>0.986639</td>\n",
       "      <td>0.999187</td>\n",
       "    </tr>\n",
       "    <tr>\n",
       "      <td>18</td>\n",
       "      <td>1044215.0</td>\n",
       "      <td>40197.0</td>\n",
       "      <td>1084979.0</td>\n",
       "      <td>1084412.0</td>\n",
       "      <td>0.962429</td>\n",
       "      <td>0.999477</td>\n",
       "    </tr>\n",
       "    <tr>\n",
       "      <td>19</td>\n",
       "      <td>4608757.0</td>\n",
       "      <td>42262.0</td>\n",
       "      <td>4653458.0</td>\n",
       "      <td>4651019.0</td>\n",
       "      <td>0.990394</td>\n",
       "      <td>0.999476</td>\n",
       "    </tr>\n",
       "    <tr>\n",
       "      <td>20</td>\n",
       "      <td>3506110.0</td>\n",
       "      <td>290924.0</td>\n",
       "      <td>3803671.0</td>\n",
       "      <td>3797034.0</td>\n",
       "      <td>0.921770</td>\n",
       "      <td>0.998255</td>\n",
       "    </tr>\n",
       "    <tr>\n",
       "      <td>21</td>\n",
       "      <td>5613679.0</td>\n",
       "      <td>163913.0</td>\n",
       "      <td>5780173.0</td>\n",
       "      <td>5777592.0</td>\n",
       "      <td>0.971196</td>\n",
       "      <td>0.999553</td>\n",
       "    </tr>\n",
       "    <tr>\n",
       "      <td>22</td>\n",
       "      <td>1751668.0</td>\n",
       "      <td>53470.0</td>\n",
       "      <td>1828036.0</td>\n",
       "      <td>1805138.0</td>\n",
       "      <td>0.958224</td>\n",
       "      <td>0.987474</td>\n",
       "    </tr>\n",
       "    <tr>\n",
       "      <td>23</td>\n",
       "      <td>1297573.0</td>\n",
       "      <td>10903.0</td>\n",
       "      <td>1362330.0</td>\n",
       "      <td>1308476.0</td>\n",
       "      <td>0.952466</td>\n",
       "      <td>0.960469</td>\n",
       "    </tr>\n",
       "    <tr>\n",
       "      <td>24</td>\n",
       "      <td>2452873.0</td>\n",
       "      <td>132460.0</td>\n",
       "      <td>2585780.0</td>\n",
       "      <td>2585333.0</td>\n",
       "      <td>0.948601</td>\n",
       "      <td>0.999827</td>\n",
       "    </tr>\n",
       "    <tr>\n",
       "      <td>25</td>\n",
       "      <td>2699230.0</td>\n",
       "      <td>67369.0</td>\n",
       "      <td>2767762.0</td>\n",
       "      <td>2766599.0</td>\n",
       "      <td>0.975239</td>\n",
       "      <td>0.999580</td>\n",
       "    </tr>\n",
       "    <tr>\n",
       "      <td>26</td>\n",
       "      <td>2611188.0</td>\n",
       "      <td>49242.0</td>\n",
       "      <td>2662493.0</td>\n",
       "      <td>2660430.0</td>\n",
       "      <td>0.980730</td>\n",
       "      <td>0.999225</td>\n",
       "    </tr>\n",
       "    <tr>\n",
       "      <td>27</td>\n",
       "      <td>1974431.0</td>\n",
       "      <td>264174.0</td>\n",
       "      <td>2238605.0</td>\n",
       "      <td>2238605.0</td>\n",
       "      <td>0.881992</td>\n",
       "      <td>1.000000</td>\n",
       "    </tr>\n",
       "    <tr>\n",
       "      <td>28</td>\n",
       "      <td>3211832.0</td>\n",
       "      <td>46377.0</td>\n",
       "      <td>3268560.0</td>\n",
       "      <td>3258209.0</td>\n",
       "      <td>0.982644</td>\n",
       "      <td>0.996833</td>\n",
       "    </tr>\n",
       "    <tr>\n",
       "      <td>29</td>\n",
       "      <td>1157310.0</td>\n",
       "      <td>9779.0</td>\n",
       "      <td>1169936.0</td>\n",
       "      <td>1167089.0</td>\n",
       "      <td>0.989208</td>\n",
       "      <td>0.997567</td>\n",
       "    </tr>\n",
       "    <tr>\n",
       "      <td>30</td>\n",
       "      <td>7161440.0</td>\n",
       "      <td>468636.0</td>\n",
       "      <td>7643300.0</td>\n",
       "      <td>7630076.0</td>\n",
       "      <td>0.936957</td>\n",
       "      <td>0.998270</td>\n",
       "    </tr>\n",
       "    <tr>\n",
       "      <td>31</td>\n",
       "      <td>1945329.0</td>\n",
       "      <td>9338.0</td>\n",
       "      <td>1955625.0</td>\n",
       "      <td>1954667.0</td>\n",
       "      <td>0.994735</td>\n",
       "      <td>0.999510</td>\n",
       "    </tr>\n",
       "    <tr>\n",
       "      <td>32</td>\n",
       "      <td>1419800.0</td>\n",
       "      <td>68711.0</td>\n",
       "      <td>1490668.0</td>\n",
       "      <td>1488511.0</td>\n",
       "      <td>0.952459</td>\n",
       "      <td>0.998553</td>\n",
       "    </tr>\n",
       "  </tbody>\n",
       "</table>\n",
       "</div>"
      ],
      "text/plain": [
       "           pop_poly  pop_point     pop_all    pop_shap  poly_all  shap_all\n",
       "CVE_ENT                                                                   \n",
       "01        1160573.0    23382.0   1184996.0   1183955.0  0.979390  0.999122\n",
       "02        3114410.0    35255.0   3155070.0   3149665.0  0.987113  0.998287\n",
       "03         528390.0    18242.0    637043.0    546632.0  0.829442  0.858077\n",
       "04         802510.0    19263.0    822491.0    821773.0  0.975707  0.999127\n",
       "05        2723488.0    20189.0   2748395.0   2743677.0  0.990938  0.998283\n",
       "06         641429.0     8421.0    650567.0    649850.0  0.985954  0.998898\n",
       "07        4126322.0   614493.0   4799085.0   4740815.0  0.859814  0.987858\n",
       "08        3245119.0   159972.0   3406481.0   3405091.0  0.952631  0.999592\n",
       "09        8824741.0    24953.0   8851080.0   8849694.0  0.997024  0.999843\n",
       "10        1542928.0    89084.0   1636131.0   1632012.0  0.943035  0.997482\n",
       "11        5356984.0   127197.0   5486372.0   5484181.0  0.976416  0.999601\n",
       "12        3137768.0   247277.0   3393688.0   3385045.0  0.924589  0.997453\n",
       "13        2561250.0   102069.0   2666009.0   2663319.0  0.960706  0.998991\n",
       "14        7162651.0   177111.0   7364138.0   7339762.0  0.972639  0.996690\n",
       "15       14958108.0   183559.0  15176073.0  15141667.0  0.985638  0.997733\n",
       "16        4166711.0   175537.0   4351045.0   4342248.0  0.957635  0.997978\n",
       "17        1753936.0    22306.0   1777688.0   1776242.0  0.986639  0.999187\n",
       "18        1044215.0    40197.0   1084979.0   1084412.0  0.962429  0.999477\n",
       "19        4608757.0    42262.0   4653458.0   4651019.0  0.990394  0.999476\n",
       "20        3506110.0   290924.0   3803671.0   3797034.0  0.921770  0.998255\n",
       "21        5613679.0   163913.0   5780173.0   5777592.0  0.971196  0.999553\n",
       "22        1751668.0    53470.0   1828036.0   1805138.0  0.958224  0.987474\n",
       "23        1297573.0    10903.0   1362330.0   1308476.0  0.952466  0.960469\n",
       "24        2452873.0   132460.0   2585780.0   2585333.0  0.948601  0.999827\n",
       "25        2699230.0    67369.0   2767762.0   2766599.0  0.975239  0.999580\n",
       "26        2611188.0    49242.0   2662493.0   2660430.0  0.980730  0.999225\n",
       "27        1974431.0   264174.0   2238605.0   2238605.0  0.881992  1.000000\n",
       "28        3211832.0    46377.0   3268560.0   3258209.0  0.982644  0.996833\n",
       "29        1157310.0     9779.0   1169936.0   1167089.0  0.989208  0.997567\n",
       "30        7161440.0   468636.0   7643300.0   7630076.0  0.936957  0.998270\n",
       "31        1945329.0     9338.0   1955625.0   1954667.0  0.994735  0.999510\n",
       "32        1419800.0    68711.0   1490668.0   1488511.0  0.952459  0.998553"
      ]
     },
     "execution_count": 10,
     "metadata": {},
     "output_type": "execute_result"
    }
   ],
   "source": [
    "# most localidad popluation has geographic information \n",
    "df = pd.DataFrame([\n",
    "    LUR4326.groupby('CVE_ENT')['Pop'].sum(),\n",
    "    LPRBf4326_Ponly.groupby('CVE_ENT')['Pop'].sum(), \n",
    "    population.groupby('CVE_ENT')['Población total'].sum()\n",
    "]).T\n",
    "\n",
    "\n",
    "df.columns=['pop_poly', 'pop_point', 'pop_all']\n",
    "df['pop_shap'] = df.pop_poly+df.pop_point\n",
    "\n",
    "df['poly_all'] = df.pop_poly/df.pop_all\n",
    "df['shap_all'] = df.pop_shap/df.pop_all\n",
    "\n",
    "\n",
    "df"
   ]
  },
  {
   "cell_type": "code",
   "execution_count": 11,
   "metadata": {
    "ExecuteTime": {
     "end_time": "2019-09-16T04:49:25.918629Z",
     "start_time": "2019-09-16T04:49:25.656946Z"
    }
   },
   "outputs": [],
   "source": [
    "LUR_pop = LUR4326[LUR4326.Pop>0].drop(['CVEGEO','CVE_LOC'],axis=1)\n",
    "LPR_pop = LPRBf4326_Ponly[LPRBf4326_Ponly.Pop>0].drop(['CVE_LOC', 'CVE_AGEB', 'CVE_MZA', 'PLANO', 'CVEGEO'],axis=1)\n",
    "LPR_pop['AMBITO'] = 'Rural'\n",
    "\n",
    "L_pop = pd.concat([LUR_pop, LPR_pop[LUR_pop.columns]], ignore_index=True).set_index('loc_id')"
   ]
  },
  {
   "cell_type": "code",
   "execution_count": 12,
   "metadata": {
    "ExecuteTime": {
     "end_time": "2019-09-16T04:53:38.874040Z",
     "start_time": "2019-09-16T04:49:34.919140Z"
    }
   },
   "outputs": [],
   "source": [
    "t2loc = polys2polys(tvor, L_pop, pname1='tower', pname2='localidad', cur_crs=4326, area_crs=mex.AREA_CRS, intersection_only=False)"
   ]
  },
  {
   "cell_type": "code",
   "execution_count": 13,
   "metadata": {
    "ExecuteTime": {
     "end_time": "2019-09-16T04:53:48.541209Z",
     "start_time": "2019-09-16T04:53:48.239681Z"
    }
   },
   "outputs": [],
   "source": [
    "loc_area = t2loc.groupby('localidad').iarea.sum()"
   ]
  },
  {
   "cell_type": "code",
   "execution_count": 14,
   "metadata": {
    "ExecuteTime": {
     "end_time": "2019-09-16T04:53:58.362465Z",
     "start_time": "2019-09-16T04:53:58.332126Z"
    }
   },
   "outputs": [],
   "source": [
    "loc_area.name='loclidad_area'"
   ]
  },
  {
   "cell_type": "code",
   "execution_count": 15,
   "metadata": {
    "ExecuteTime": {
     "end_time": "2019-09-16T04:54:07.972985Z",
     "start_time": "2019-09-16T04:54:07.758549Z"
    }
   },
   "outputs": [],
   "source": [
    "t2loc = t2loc.merge(L_pop[['Pop']], left_on='localidad', right_index=True)"
   ]
  },
  {
   "cell_type": "code",
   "execution_count": 16,
   "metadata": {
    "ExecuteTime": {
     "end_time": "2019-09-16T04:54:17.371718Z",
     "start_time": "2019-09-16T04:54:17.158840Z"
    }
   },
   "outputs": [],
   "source": [
    "t2loc = t2loc.drop(['localidad_area','weight'], axis=1).merge(loc_area, left_on='localidad', right_index=True)"
   ]
  },
  {
   "cell_type": "code",
   "execution_count": 17,
   "metadata": {
    "ExecuteTime": {
     "end_time": "2019-09-16T04:54:27.105536Z",
     "start_time": "2019-09-16T04:54:27.068585Z"
    }
   },
   "outputs": [],
   "source": [
    "t2loc['iPop'] = t2loc.Pop*t2loc.iarea/t2loc.loclidad_area"
   ]
  },
  {
   "cell_type": "code",
   "execution_count": 18,
   "metadata": {
    "ExecuteTime": {
     "end_time": "2019-09-16T04:54:36.170965Z",
     "start_time": "2019-09-16T04:54:36.118244Z"
    }
   },
   "outputs": [],
   "source": [
    "tower_cover_pop = t2loc.groupby('tower').iPop.sum()\n",
    "tower_cover_pop.name='tower_pop'"
   ]
  },
  {
   "cell_type": "code",
   "execution_count": 19,
   "metadata": {
    "ExecuteTime": {
     "end_time": "2019-09-16T04:54:45.042961Z",
     "start_time": "2019-09-16T04:54:44.977776Z"
    }
   },
   "outputs": [],
   "source": [
    "t2loc = t2loc.merge(tower_cover_pop, left_on='tower', right_index=True)"
   ]
  },
  {
   "cell_type": "code",
   "execution_count": 20,
   "metadata": {
    "ExecuteTime": {
     "end_time": "2019-09-16T04:54:53.945472Z",
     "start_time": "2019-09-16T04:54:53.911456Z"
    }
   },
   "outputs": [],
   "source": [
    "t2loc['weight'] = t2loc.iPop/t2loc.tower_pop"
   ]
  },
  {
   "cell_type": "code",
   "execution_count": 21,
   "metadata": {
    "ExecuteTime": {
     "end_time": "2019-09-16T04:55:02.724906Z",
     "start_time": "2019-09-16T04:55:02.682991Z"
    }
   },
   "outputs": [
    {
     "data": {
      "text/html": [
       "<div>\n",
       "<style scoped>\n",
       "    .dataframe tbody tr th:only-of-type {\n",
       "        vertical-align: middle;\n",
       "    }\n",
       "\n",
       "    .dataframe tbody tr th {\n",
       "        vertical-align: top;\n",
       "    }\n",
       "\n",
       "    .dataframe thead th {\n",
       "        text-align: right;\n",
       "    }\n",
       "</style>\n",
       "<table border=\"1\" class=\"dataframe\">\n",
       "  <thead>\n",
       "    <tr style=\"text-align: right;\">\n",
       "      <th></th>\n",
       "      <th>tower</th>\n",
       "      <th>localidad</th>\n",
       "      <th>geometry</th>\n",
       "      <th>iarea</th>\n",
       "      <th>tower_area</th>\n",
       "      <th>Pop</th>\n",
       "      <th>loclidad_area</th>\n",
       "      <th>iPop</th>\n",
       "      <th>tower_pop</th>\n",
       "      <th>weight</th>\n",
       "    </tr>\n",
       "  </thead>\n",
       "  <tbody>\n",
       "    <tr>\n",
       "      <td>0</td>\n",
       "      <td>55F17E0F-55F17E10-55F17E11</td>\n",
       "      <td>220160028</td>\n",
       "      <td>POLYGON ((-100.0470458903587 20.3503507702433,...</td>\n",
       "      <td>278138.154568</td>\n",
       "      <td>2.077944e+07</td>\n",
       "      <td>1682.0</td>\n",
       "      <td>624556.371848</td>\n",
       "      <td>749.057086</td>\n",
       "      <td>20461.254045</td>\n",
       "      <td>0.036609</td>\n",
       "    </tr>\n",
       "    <tr>\n",
       "      <td>3</td>\n",
       "      <td>55F17E0F-55F17E10-55F17E11</td>\n",
       "      <td>220160365</td>\n",
       "      <td>POLYGON ((-100.0291409133007 20.36072658763791...</td>\n",
       "      <td>258766.261898</td>\n",
       "      <td>2.077944e+07</td>\n",
       "      <td>8.0</td>\n",
       "      <td>784137.122572</td>\n",
       "      <td>2.640010</td>\n",
       "      <td>20461.254045</td>\n",
       "      <td>0.000129</td>\n",
       "    </tr>\n",
       "    <tr>\n",
       "      <td>5</td>\n",
       "      <td>55F17E0F-55F17E10-55F17E11</td>\n",
       "      <td>220160134</td>\n",
       "      <td>POLYGON ((-100.0231424730812 20.36566652065543...</td>\n",
       "      <td>63853.672927</td>\n",
       "      <td>2.077944e+07</td>\n",
       "      <td>5.0</td>\n",
       "      <td>784137.122250</td>\n",
       "      <td>0.407159</td>\n",
       "      <td>20461.254045</td>\n",
       "      <td>0.000020</td>\n",
       "    </tr>\n",
       "    <tr>\n",
       "      <td>7</td>\n",
       "      <td>55F17E0F-55F17E10-55F17E11</td>\n",
       "      <td>220160125</td>\n",
       "      <td>POLYGON ((-100.0189607303471 20.36911033742224...</td>\n",
       "      <td>27627.217029</td>\n",
       "      <td>2.077944e+07</td>\n",
       "      <td>1448.0</td>\n",
       "      <td>543757.985267</td>\n",
       "      <td>73.569881</td>\n",
       "      <td>20461.254045</td>\n",
       "      <td>0.003596</td>\n",
       "    </tr>\n",
       "    <tr>\n",
       "      <td>9</td>\n",
       "      <td>55F17E0F-55F17E10-55F17E11</td>\n",
       "      <td>220160112</td>\n",
       "      <td>POLYGON ((-100.0226304583079 20.37222202881638...</td>\n",
       "      <td>48976.285720</td>\n",
       "      <td>2.077944e+07</td>\n",
       "      <td>67.0</td>\n",
       "      <td>48976.285720</td>\n",
       "      <td>67.000000</td>\n",
       "      <td>20461.254045</td>\n",
       "      <td>0.003274</td>\n",
       "    </tr>\n",
       "  </tbody>\n",
       "</table>\n",
       "</div>"
      ],
      "text/plain": [
       "                        tower  localidad  \\\n",
       "0  55F17E0F-55F17E10-55F17E11  220160028   \n",
       "3  55F17E0F-55F17E10-55F17E11  220160365   \n",
       "5  55F17E0F-55F17E10-55F17E11  220160134   \n",
       "7  55F17E0F-55F17E10-55F17E11  220160125   \n",
       "9  55F17E0F-55F17E10-55F17E11  220160112   \n",
       "\n",
       "                                            geometry          iarea  \\\n",
       "0  POLYGON ((-100.0470458903587 20.3503507702433,...  278138.154568   \n",
       "3  POLYGON ((-100.0291409133007 20.36072658763791...  258766.261898   \n",
       "5  POLYGON ((-100.0231424730812 20.36566652065543...   63853.672927   \n",
       "7  POLYGON ((-100.0189607303471 20.36911033742224...   27627.217029   \n",
       "9  POLYGON ((-100.0226304583079 20.37222202881638...   48976.285720   \n",
       "\n",
       "     tower_area     Pop  loclidad_area        iPop     tower_pop    weight  \n",
       "0  2.077944e+07  1682.0  624556.371848  749.057086  20461.254045  0.036609  \n",
       "3  2.077944e+07     8.0  784137.122572    2.640010  20461.254045  0.000129  \n",
       "5  2.077944e+07     5.0  784137.122250    0.407159  20461.254045  0.000020  \n",
       "7  2.077944e+07  1448.0  543757.985267   73.569881  20461.254045  0.003596  \n",
       "9  2.077944e+07    67.0   48976.285720   67.000000  20461.254045  0.003274  "
      ]
     },
     "execution_count": 21,
     "metadata": {},
     "output_type": "execute_result"
    }
   ],
   "source": [
    "t2loc.head()"
   ]
  },
  {
   "cell_type": "code",
   "execution_count": 22,
   "metadata": {
    "ExecuteTime": {
     "end_time": "2019-09-16T04:55:14.774320Z",
     "start_time": "2019-09-16T04:55:11.508453Z"
    }
   },
   "outputs": [
    {
     "ename": "NotImplementedError",
     "evalue": "Multi-part geometries do not provide a coordinate sequence",
     "output_type": "error",
     "traceback": [
      "\u001b[0;31m---------------------------------------------------------------------------\u001b[0m",
      "\u001b[0;31mNotImplementedError\u001b[0m                       Traceback (most recent call last)",
      "\u001b[0;32m<ipython-input-22-542f55aad7e8>\u001b[0m in \u001b[0;36m<module>\u001b[0;34m\u001b[0m\n\u001b[1;32m      2\u001b[0m \u001b[0mgeojson_per_row\u001b[0m\u001b[0;34m(\u001b[0m\u001b[0mtvor\u001b[0m\u001b[0;34m,\u001b[0m \u001b[0;34m'Tower'\u001b[0m\u001b[0;34m,\u001b[0m \u001b[0msome_map\u001b[0m\u001b[0;34m=\u001b[0m\u001b[0mm\u001b[0m\u001b[0;34m)\u001b[0m\u001b[0;34m\u001b[0m\u001b[0;34m\u001b[0m\u001b[0m\n\u001b[1;32m      3\u001b[0m geojson_per_row(t2loc[t2loc.localidad.isin(population[population.CVE_ENT.isin(['01','02'])].loc_id)], 'T2loc', some_map=m, \n\u001b[0;32m----> 4\u001b[0;31m                 color='green', tip_cols=['localidad','tower','weight', 'Pop','tower_pop', 'iPop'])\n\u001b[0m\u001b[1;32m      5\u001b[0m \u001b[0;31m# geojson_per_row(target_area, 'poly', color='green', some_map=m)\u001b[0m\u001b[0;34m\u001b[0m\u001b[0;34m\u001b[0m\u001b[0;34m\u001b[0m\u001b[0m\n\u001b[1;32m      6\u001b[0m \u001b[0;31m# geojson_per_row(target_area2, 'circle', color='yellow', some_map=m)\u001b[0m\u001b[0;34m\u001b[0m\u001b[0;34m\u001b[0m\u001b[0;34m\u001b[0m\u001b[0m\n",
      "\u001b[0;32m/mnt/d/1ResProj/mob2crime/src/utils/map_vis.py\u001b[0m in \u001b[0;36mgeojson_per_row\u001b[0;34m(gpdf, name, color, tip_cols, some_map)\u001b[0m\n\u001b[1;32m     32\u001b[0m             tip = '<br>'.join(\n\u001b[1;32m     33\u001b[0m                 ['%s: %s' % (col, getattr(row, col)) for col in tip_cols]) if tip_cols is not None else name\n\u001b[0;32m---> 34\u001b[0;31m             folium.Polygon(locations=[(lat, lon) for lon, lat in line.coords], color=color, fill_color=color,\n\u001b[0m\u001b[1;32m     35\u001b[0m                            tooltip=tip, popup=tip).add_to(feature_group)\n\u001b[1;32m     36\u001b[0m     \u001b[0;32mif\u001b[0m \u001b[0msome_map\u001b[0m \u001b[0;32mis\u001b[0m \u001b[0;32mnot\u001b[0m \u001b[0;32mNone\u001b[0m\u001b[0;34m:\u001b[0m\u001b[0;34m\u001b[0m\u001b[0;34m\u001b[0m\u001b[0m\n",
      "\u001b[0;32m~/miniconda3/envs/mob2crime/lib/python3.7/site-packages/shapely/geometry/base.py\u001b[0m in \u001b[0;36mcoords\u001b[0;34m(self)\u001b[0m\n\u001b[1;32m    806\u001b[0m     \u001b[0;32mdef\u001b[0m \u001b[0mcoords\u001b[0m\u001b[0;34m(\u001b[0m\u001b[0mself\u001b[0m\u001b[0;34m)\u001b[0m\u001b[0;34m:\u001b[0m\u001b[0;34m\u001b[0m\u001b[0;34m\u001b[0m\u001b[0m\n\u001b[1;32m    807\u001b[0m         raise NotImplementedError(\n\u001b[0;32m--> 808\u001b[0;31m             \"Multi-part geometries do not provide a coordinate sequence\")\n\u001b[0m\u001b[1;32m    809\u001b[0m \u001b[0;34m\u001b[0m\u001b[0m\n\u001b[1;32m    810\u001b[0m     \u001b[0;34m@\u001b[0m\u001b[0mproperty\u001b[0m\u001b[0;34m\u001b[0m\u001b[0;34m\u001b[0m\u001b[0m\n",
      "\u001b[0;31mNotImplementedError\u001b[0m: Multi-part geometries do not provide a coordinate sequence"
     ]
    }
   ],
   "source": [
    "m = folium.Map(location=[19.381495, -99.139095], zoom_start=6)\n",
    "geojson_per_row(tvor, 'Tower', some_map=m)\n",
    "geojson_per_row(t2loc[t2loc.localidad.isin(population[population.CVE_ENT.isin(['01','02'])].loc_id)], 'T2loc', some_map=m, \n",
    "                color='green', tip_cols=['localidad','tower','weight', 'Pop','tower_pop', 'iPop'])\n",
    "# geojson_per_row(target_area, 'poly', color='green', some_map=m)\n",
    "# geojson_per_row(target_area2, 'circle', color='yellow', some_map=m)\n",
    "folium.LayerControl().add_to(m)\n",
    "# m.save('maps/20190829VorByPop.html')"
   ]
  },
  {
   "cell_type": "code",
   "execution_count": null,
   "metadata": {},
   "outputs": [],
   "source": []
  }
 ],
 "metadata": {
  "kernelspec": {
   "display_name": "Python [conda env:mob2crime]",
   "language": "python",
   "name": "conda-env-mob2crime-py"
  },
  "language_info": {
   "codemirror_mode": {
    "name": "ipython",
    "version": 3
   },
   "file_extension": ".py",
   "mimetype": "text/x-python",
   "name": "python",
   "nbconvert_exporter": "python",
   "pygments_lexer": "ipython3",
   "version": "3.7.3"
  },
  "toc": {
   "base_numbering": 1,
   "nav_menu": {},
   "number_sections": true,
   "sideBar": true,
   "skip_h1_title": false,
   "title_cell": "Table of Contents",
   "title_sidebar": "Contents",
   "toc_cell": false,
   "toc_position": {},
   "toc_section_display": true,
   "toc_window_display": false
  },
  "varInspector": {
   "cols": {
    "lenName": 16,
    "lenType": 16,
    "lenVar": 40
   },
   "kernels_config": {
    "python": {
     "delete_cmd_postfix": "",
     "delete_cmd_prefix": "del ",
     "library": "var_list.py",
     "varRefreshCmd": "print(var_dic_list())"
    },
    "r": {
     "delete_cmd_postfix": ") ",
     "delete_cmd_prefix": "rm(",
     "library": "var_list.r",
     "varRefreshCmd": "cat(var_dic_list()) "
    }
   },
   "types_to_exclude": [
    "module",
    "function",
    "builtin_function_or_method",
    "instance",
    "_Feature"
   ],
   "window_display": false
  }
 },
 "nbformat": 4,
 "nbformat_minor": 2
}
