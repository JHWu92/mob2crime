{
 "cells": [
  {
   "cell_type": "code",
   "execution_count": 1,
   "metadata": {},
   "outputs": [],
   "source": [
    "import pandas as pd\n",
    "import geopandas as gp\n",
    "from src.utils.map_vis import geojson_per_row\n",
    "import folium"
   ]
  },
  {
   "cell_type": "code",
   "execution_count": 2,
   "metadata": {},
   "outputs": [],
   "source": [
    "num_cities = 16"
   ]
  },
  {
   "cell_type": "markdown",
   "metadata": {},
   "source": [
    "# Colombia"
   ]
  },
  {
   "cell_type": "code",
   "execution_count": 3,
   "metadata": {},
   "outputs": [
    {
     "name": "stdout",
     "output_type": "stream",
     "text": [
      "(7627, 14)\n"
     ]
    },
    {
     "data": {
      "text/html": [
       "<div>\n",
       "<style scoped>\n",
       "    .dataframe tbody tr th:only-of-type {\n",
       "        vertical-align: middle;\n",
       "    }\n",
       "\n",
       "    .dataframe tbody tr th {\n",
       "        vertical-align: top;\n",
       "    }\n",
       "\n",
       "    .dataframe thead th {\n",
       "        text-align: right;\n",
       "    }\n",
       "</style>\n",
       "<table border=\"1\" class=\"dataframe\">\n",
       "  <thead>\n",
       "    <tr style=\"text-align: right;\">\n",
       "      <th></th>\n",
       "      <th>OBJECTID</th>\n",
       "      <th>DPTO_CCDGO</th>\n",
       "      <th>MPIO_CCDGO</th>\n",
       "      <th>CLAS_CCDGO</th>\n",
       "      <th>SETR_CCDGO</th>\n",
       "      <th>SECR_CCDGO</th>\n",
       "      <th>CPOB_CCDGO</th>\n",
       "      <th>CPOB_CNMBR</th>\n",
       "      <th>CPOB_CCNCT</th>\n",
       "      <th>CPOB_NAREA</th>\n",
       "      <th>CPOB_NALT</th>\n",
       "      <th>Shape_Leng</th>\n",
       "      <th>Shape_Area</th>\n",
       "      <th>geometry</th>\n",
       "      <th>MPIO_CNMBR</th>\n",
       "      <th>DPTO_CNMBR</th>\n",
       "    </tr>\n",
       "  </thead>\n",
       "  <tbody>\n",
       "    <tr>\n",
       "      <th>0</th>\n",
       "      <td>1</td>\n",
       "      <td>05</td>\n",
       "      <td>05001</td>\n",
       "      <td>2</td>\n",
       "      <td>000</td>\n",
       "      <td>00</td>\n",
       "      <td>05001004</td>\n",
       "      <td>SANTA ELENA</td>\n",
       "      <td>05001200000004</td>\n",
       "      <td>0.338461</td>\n",
       "      <td>2540.0</td>\n",
       "      <td>0.034407</td>\n",
       "      <td>0.000028</td>\n",
       "      <td>POLYGON ((-75.49783904499998 6.207774365000034...</td>\n",
       "      <td>MEDELLÍN</td>\n",
       "      <td>ANTIOQUIA</td>\n",
       "    </tr>\n",
       "    <tr>\n",
       "      <th>1</th>\n",
       "      <td>2</td>\n",
       "      <td>05</td>\n",
       "      <td>05001</td>\n",
       "      <td>2</td>\n",
       "      <td>000</td>\n",
       "      <td>00</td>\n",
       "      <td>05001014</td>\n",
       "      <td>BARRO BLANCO</td>\n",
       "      <td>05001200000014</td>\n",
       "      <td>0.534495</td>\n",
       "      <td>2531.0</td>\n",
       "      <td>0.044447</td>\n",
       "      <td>0.000044</td>\n",
       "      <td>POLYGON ((-75.47379840599996 6.239590113000077...</td>\n",
       "      <td>MEDELLÍN</td>\n",
       "      <td>ANTIOQUIA</td>\n",
       "    </tr>\n",
       "    <tr>\n",
       "      <th>2</th>\n",
       "      <td>3</td>\n",
       "      <td>05</td>\n",
       "      <td>05001</td>\n",
       "      <td>2</td>\n",
       "      <td>000</td>\n",
       "      <td>00</td>\n",
       "      <td>05001015</td>\n",
       "      <td>EL CERRO</td>\n",
       "      <td>05001200000015</td>\n",
       "      <td>0.414935</td>\n",
       "      <td>2668.0</td>\n",
       "      <td>0.042879</td>\n",
       "      <td>0.000034</td>\n",
       "      <td>(POLYGON ((-75.49121943999995 6.20501584900006...</td>\n",
       "      <td>MEDELLÍN</td>\n",
       "      <td>ANTIOQUIA</td>\n",
       "    </tr>\n",
       "    <tr>\n",
       "      <th>3</th>\n",
       "      <td>4</td>\n",
       "      <td>05</td>\n",
       "      <td>05001</td>\n",
       "      <td>2</td>\n",
       "      <td>000</td>\n",
       "      <td>00</td>\n",
       "      <td>05001018</td>\n",
       "      <td>EL PLACER</td>\n",
       "      <td>05001200000018</td>\n",
       "      <td>0.965299</td>\n",
       "      <td>2598.0</td>\n",
       "      <td>0.056312</td>\n",
       "      <td>0.000079</td>\n",
       "      <td>POLYGON ((-75.49276999399996 6.23050003000003,...</td>\n",
       "      <td>MEDELLÍN</td>\n",
       "      <td>ANTIOQUIA</td>\n",
       "    </tr>\n",
       "    <tr>\n",
       "      <th>4</th>\n",
       "      <td>5</td>\n",
       "      <td>05</td>\n",
       "      <td>05001</td>\n",
       "      <td>2</td>\n",
       "      <td>000</td>\n",
       "      <td>00</td>\n",
       "      <td>05001019</td>\n",
       "      <td>EL PLAN</td>\n",
       "      <td>05001200000019</td>\n",
       "      <td>3.252561</td>\n",
       "      <td>2700.0</td>\n",
       "      <td>0.093795</td>\n",
       "      <td>0.000266</td>\n",
       "      <td>POLYGON ((-75.50917742799999 6.195200505000059...</td>\n",
       "      <td>MEDELLÍN</td>\n",
       "      <td>ANTIOQUIA</td>\n",
       "    </tr>\n",
       "  </tbody>\n",
       "</table>\n",
       "</div>"
      ],
      "text/plain": [
       "   OBJECTID DPTO_CCDGO MPIO_CCDGO CLAS_CCDGO SETR_CCDGO SECR_CCDGO CPOB_CCDGO  \\\n",
       "0         1         05      05001          2        000         00   05001004   \n",
       "1         2         05      05001          2        000         00   05001014   \n",
       "2         3         05      05001          2        000         00   05001015   \n",
       "3         4         05      05001          2        000         00   05001018   \n",
       "4         5         05      05001          2        000         00   05001019   \n",
       "\n",
       "     CPOB_CNMBR      CPOB_CCNCT  CPOB_NAREA  CPOB_NALT  Shape_Leng  \\\n",
       "0   SANTA ELENA  05001200000004    0.338461     2540.0    0.034407   \n",
       "1  BARRO BLANCO  05001200000014    0.534495     2531.0    0.044447   \n",
       "2      EL CERRO  05001200000015    0.414935     2668.0    0.042879   \n",
       "3     EL PLACER  05001200000018    0.965299     2598.0    0.056312   \n",
       "4       EL PLAN  05001200000019    3.252561     2700.0    0.093795   \n",
       "\n",
       "   Shape_Area                                           geometry MPIO_CNMBR  \\\n",
       "0    0.000028  POLYGON ((-75.49783904499998 6.207774365000034...   MEDELLÍN   \n",
       "1    0.000044  POLYGON ((-75.47379840599996 6.239590113000077...   MEDELLÍN   \n",
       "2    0.000034  (POLYGON ((-75.49121943999995 6.20501584900006...   MEDELLÍN   \n",
       "3    0.000079  POLYGON ((-75.49276999399996 6.23050003000003,...   MEDELLÍN   \n",
       "4    0.000266  POLYGON ((-75.50917742799999 6.195200505000059...   MEDELLÍN   \n",
       "\n",
       "  DPTO_CNMBR  \n",
       "0  ANTIOQUIA  \n",
       "1  ANTIOQUIA  \n",
       "2  ANTIOQUIA  \n",
       "3  ANTIOQUIA  \n",
       "4  ANTIOQUIA  "
      ]
     },
     "execution_count": 3,
     "metadata": {},
     "output_type": "execute_result"
    }
   ],
   "source": [
    "shp_munic = gp.read_file('data/colombia/ADMINISTRATIVO/MGN_MPIO_POLITICO.shp')\n",
    "col_munic = ['DPTO_CCDGO','MPIO_CCDGO', 'MPIO_CNMBR', 'DPTO_CNMBR', 'geometry']\n",
    "\n",
    "# CLAS_CCDGO: 1-Municipal Headboard 2-populated center 3-scattered rural area \n",
    "# 1-Cabecera municipal, 2-Centro poblado y 3-Área rural dispersa.\n",
    "shp_urb_censal = gp.read_file('data/colombia/MGN/MGN_URB_AREA_CENSAL.shp')\n",
    "print(shp_urb_censal.shape)\n",
    "shp_urb_censal=shp_urb_censal.merge(shp_munic[col_munic[:-1]])\n",
    "shp_urb_censal.head()"
   ]
  },
  {
   "cell_type": "code",
   "execution_count": 4,
   "metadata": {},
   "outputs": [],
   "source": [
    "population = pd.read_csv('data/colombia/population_2005.csv',sep='\\t')\n",
    "cols = ['TOTAL_2005','CABECERA_2005', 'RESTO_2005']\n",
    "for col in cols:\n",
    "    population[col] = population[col].apply(lambda x: float(x.replace(',', '')))\n",
    "    \n",
    "population['CABECERA_pcnt'] = population.CABECERA_2005/population.TOTAL_2005\n",
    "population.sort_values('TOTAL_2005', ascending=False, inplace=True)\n",
    "population['pop_order'] = pd.np.arange(population.shape[0])+1\n",
    "population.DPMP = population.DPMP.apply(lambda x: '%05d' % x)"
   ]
  },
  {
   "cell_type": "code",
   "execution_count": 5,
   "metadata": {},
   "outputs": [],
   "source": [
    "thres = 0.8\n",
    "target_munic = population[population.CABECERA_pcnt>thres].head(num_cities)"
   ]
  },
  {
   "cell_type": "code",
   "execution_count": 6,
   "metadata": {},
   "outputs": [],
   "source": [
    "target_cities = shp_urb_censal.merge(target_munic, left_on='MPIO_CCDGO', right_on='DPMP')\n",
    "target_cities = target_cities[target_cities.CLAS_CCDGO=='1'].copy()\n",
    "\n",
    "cols = ['OBJECTID', 'DPTO_CCDGO', 'MPIO_CCDGO', 'CLAS_CCDGO', 'CPOB_CCDGO', 'MPIO_CNMBR', 'MPIO', 'CPOB_CNMBR', 'CPOB_NAREA', 'TOTAL_2005',\n",
    "       'CABECERA_2005', 'RESTO_2005', 'CABECERA_pcnt', 'pop_order', 'geometry']\n",
    "\n",
    "target_cities = target_cities[cols]"
   ]
  },
  {
   "cell_type": "code",
   "execution_count": 7,
   "metadata": {},
   "outputs": [],
   "source": [
    "target_cities.to_file('data/cities_colombia_16.geojson', driver=\"GeoJSON\")"
   ]
  },
  {
   "cell_type": "code",
   "execution_count": 8,
   "metadata": {},
   "outputs": [],
   "source": [
    "some_map = folium.Map(location=[4.149624, -72.795576], zoom_start=6)\n",
    "geojson_per_row(target_cities, name='cities', tip_cols=['CPOB_CCDGO', 'MPIO_CNMBR', 'MPIO', 'CPOB_CNMBR'], some_map=some_map)\n",
    "folium.LayerControl().add_to(some_map)\n",
    "some_map.save('data/cities_colombia_16.html')"
   ]
  },
  {
   "cell_type": "markdown",
   "metadata": {},
   "source": [
    "# Mex"
   ]
  },
  {
   "cell_type": "code",
   "execution_count": 9,
   "metadata": {},
   "outputs": [],
   "source": [
    "from src.utils import fix_spanish_encoding"
   ]
  },
  {
   "cell_type": "code",
   "execution_count": 10,
   "metadata": {},
   "outputs": [],
   "source": [
    "# http://www.inegi.org.mx/geo/contenidos/geoestadistica/m_g_0.aspx\n",
    "shp_urban = gp.read_file('data/mexico/mglu2014v6_2/mglu2015v6_2.shp')\n",
    "shp_state = gp.read_file('data/mexico/mge2014v6_2/mge2015v6_2.shp')\n",
    "shp_munic = gp.read_file('data/mexico/mgm2014v6_2/mgm2015v6_2.shp')\n",
    "\n",
    "# get Urban id\n",
    "shp_urban.NOM_LOC = shp_urban.NOM_LOC.apply(fix_spanish_encoding)\n",
    "shp_urban['URBAN_ID'] = shp_urban.CVE_ENT + shp_urban.CVE_MUN + shp_urban.CVE_LOC\n",
    "\n",
    "# get the full data frame\n",
    "shp_all = shp_urban.merge(shp_state.drop('geometry', axis=1)).merge(shp_munic.drop('geometry', axis=1))"
   ]
  },
  {
   "cell_type": "markdown",
   "metadata": {},
   "source": [
    "### Fix the holes in mexico city"
   ]
  },
  {
   "cell_type": "code",
   "execution_count": 11,
   "metadata": {},
   "outputs": [],
   "source": [
    "from shapely.ops import cascaded_union\n",
    "from shapely.geometry import Polygon, MultiPolygon"
   ]
  },
  {
   "cell_type": "code",
   "execution_count": 12,
   "metadata": {},
   "outputs": [],
   "source": [
    "polys = cascaded_union(shp_all[shp_all.CVE_ENT=='09'].geometry)\n",
    "p0=polys[0]\n",
    "p0 = Polygon(p0.exterior, [p0.interiors[115]])\n",
    "p4 = Polygon(polys[4].exterior)\n",
    "\n",
    "mex_city_geo = MultiPolygon([p0, p4]+list(polys[1:4]) + list(polys[5:]))"
   ]
  },
  {
   "cell_type": "code",
   "execution_count": 13,
   "metadata": {},
   "outputs": [],
   "source": [
    "mexico_city = {'CVE_ENT': '09', 'CVE_MUN': '000', 'CVE_LOC': '0000', \n",
    "               'NOM_LOC': 'Mexico city in DC', 'NOM_ENT': 'Distrito Federal',\n",
    "               'NOM_MUN': 'Mexico city in DC', 'concat': '09000', 'URBAN_ID' :'090000000',\n",
    "               'geometry': mex_city_geo}\n",
    "mexico_city = gp.GeoDataFrame([mexico_city])"
   ]
  },
  {
   "cell_type": "markdown",
   "metadata": {},
   "source": [
    "### output geojson and map"
   ]
  },
  {
   "cell_type": "code",
   "execution_count": 14,
   "metadata": {},
   "outputs": [],
   "source": [
    "idx = [742, 3396, 454, 431, 2095, 3515, 1186, 48, 2280, 1943, 3815, 2373, 71, 1771, 3709]\n",
    "target_cities_mex = shp_all.loc[idx].append(mexico_city, ignore_index=True, sort=False)\n",
    "\n",
    "cols = ['URBAN_ID', 'NOM_ENT', 'NOM_MUN','NOM_LOC',  'CVE_ENT', 'CVE_MUN', 'CVE_LOC', 'geometry']\n",
    "target_cities_mex = target_cities_mex[cols]"
   ]
  },
  {
   "cell_type": "code",
   "execution_count": 15,
   "metadata": {},
   "outputs": [],
   "source": [
    "target_cities_mex.to_file('data/cities_mexicol_16.geojson', driver=\"GeoJSON\")"
   ]
  },
  {
   "cell_type": "code",
   "execution_count": 16,
   "metadata": {},
   "outputs": [],
   "source": [
    "some_map = folium.Map(location=[24.062199, -102.870324], zoom_start=5)\n",
    "geojson_per_row(target_cities_mex, name='cities', tip_cols=['URBAN_ID', 'NOM_ENT', 'NOM_MUN','NOM_LOC',], some_map=some_map)\n",
    "folium.LayerControl().add_to(some_map)\n",
    "some_map.save('data/cities_mexico_16.html')"
   ]
  },
  {
   "cell_type": "code",
   "execution_count": null,
   "metadata": {},
   "outputs": [],
   "source": []
  },
  {
   "cell_type": "code",
   "execution_count": null,
   "metadata": {},
   "outputs": [],
   "source": []
  }
 ],
 "metadata": {
  "kernelspec": {
   "display_name": "Python [default]",
   "language": "python",
   "name": "python3"
  },
  "language_info": {
   "codemirror_mode": {
    "name": "ipython",
    "version": 3
   },
   "file_extension": ".py",
   "mimetype": "text/x-python",
   "name": "python",
   "nbconvert_exporter": "python",
   "pygments_lexer": "ipython3",
   "version": "3.6.6"
  }
 },
 "nbformat": 4,
 "nbformat_minor": 2
}
